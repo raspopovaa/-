{
  "cells": [
    {
      "cell_type": "markdown",
      "metadata": {
        "id": "view-in-github",
        "colab_type": "text"
      },
      "source": [
        "<a href=\"https://colab.research.google.com/github/raspopovaa/Pet-Project-Data-Analyst/blob/main/%D0%A2%D0%B5%D0%BB%D0%B5%D0%BA%D0%BE%D0%BC_%D0%9E%D0%BF%D1%80%D0%B5%D0%B4%D0%B5%D0%BB%D0%B5%D0%BD%D0%B8%D0%B5_%D0%BD%D0%B5%D1%8D%D1%84%D1%84%D0%B5%D0%BA%D1%82%D0%B8%D0%B2%D0%BD%D1%8B%D1%85_%D0%BE%D0%BF%D0%B5%D1%80%D0%B0%D1%82%D0%BE%D1%80%D0%BE%D0%B2/%D0%A2%D0%B5%D0%BB%D0%B5%D0%BA%D0%BE%D0%BC_%D0%9E%D0%BF%D1%80%D0%B5%D0%B4%D0%B5%D0%BB%D0%B5%D0%BD%D0%B8%D0%B5_%D0%BD%D0%B5%D1%8D%D1%84%D1%84%D0%B5%D0%BA%D1%82%D0%B8%D0%B2%D0%BD%D1%8B%D1%85_%D0%BE%D0%BF%D0%B5%D1%80%D0%B0%D1%82%D0%BE%D1%80%D0%BE%D0%B2.ipynb\" target=\"_parent\"><img src=\"https://colab.research.google.com/assets/colab-badge.svg\" alt=\"Open In Colab\"/></a>"
      ]
    },
    {
      "cell_type": "markdown",
      "metadata": {
        "cellId": "lkdnd99w0bbg0u7ds1gtz",
        "id": "vvsz3yT46p_z"
      },
      "source": [
        "# Задача**:**\n",
        "\n",
        "Помогите «Нупозвони» найти самых неэффективных операторов. Признаки низкой эффективности:\n",
        "\n",
        "- много пропущенных входящих вызовов,\n",
        "- долгое ожидания ответа при входящих внешних вызовах,\n",
        "- мало исходящих вывозов — в случае тех колл-центров, что специализируются на обзвонах, а не обработке входящих звонков.\n",
        "\n",
        "1. **Проведите исследовательский анализ данных.**\n",
        "2. **Определите неэффективных операторов.**\n",
        "3. **Проверьте статистические гипотезы.**"
      ]
    },
    {
      "cell_type": "markdown",
      "metadata": {
        "cellId": "zkeo1ow22lfzxvl3e9q38g",
        "id": "exqgs49s6p_6"
      },
      "source": [
        "## Откроем файл с данными и изучим общую информацию"
      ]
    },
    {
      "cell_type": "code",
      "execution_count": 1,
      "metadata": {
        "cellId": "1oidocxgamntnbdghs5bc9",
        "colab": {
          "base_uri": "https://localhost:8080/"
        },
        "id": "HIMBZYMg6p_8",
        "outputId": "df7bd8cf-c1ad-4e52-9bac-bde30841d060",
        "scrolled": true
      },
      "outputs": [
        {
          "output_type": "stream",
          "name": "stdout",
          "text": [
            "Requirement already satisfied: seaborn==0.11.2 in /usr/local/lib/python3.7/dist-packages (0.11.2)\n",
            "Requirement already satisfied: matplotlib>=2.2 in /usr/local/lib/python3.7/dist-packages (from seaborn==0.11.2) (3.2.2)\n",
            "Requirement already satisfied: pandas>=0.23 in /usr/local/lib/python3.7/dist-packages (from seaborn==0.11.2) (1.3.5)\n",
            "Requirement already satisfied: scipy>=1.0 in /usr/local/lib/python3.7/dist-packages (from seaborn==0.11.2) (1.4.1)\n",
            "Requirement already satisfied: numpy>=1.15 in /usr/local/lib/python3.7/dist-packages (from seaborn==0.11.2) (1.21.5)\n",
            "Requirement already satisfied: python-dateutil>=2.1 in /usr/local/lib/python3.7/dist-packages (from matplotlib>=2.2->seaborn==0.11.2) (2.8.2)\n",
            "Requirement already satisfied: kiwisolver>=1.0.1 in /usr/local/lib/python3.7/dist-packages (from matplotlib>=2.2->seaborn==0.11.2) (1.4.0)\n",
            "Requirement already satisfied: pyparsing!=2.0.4,!=2.1.2,!=2.1.6,>=2.0.1 in /usr/local/lib/python3.7/dist-packages (from matplotlib>=2.2->seaborn==0.11.2) (3.0.7)\n",
            "Requirement already satisfied: cycler>=0.10 in /usr/local/lib/python3.7/dist-packages (from matplotlib>=2.2->seaborn==0.11.2) (0.11.0)\n",
            "Requirement already satisfied: typing-extensions in /usr/local/lib/python3.7/dist-packages (from kiwisolver>=1.0.1->matplotlib>=2.2->seaborn==0.11.2) (3.10.0.2)\n",
            "Requirement already satisfied: pytz>=2017.3 in /usr/local/lib/python3.7/dist-packages (from pandas>=0.23->seaborn==0.11.2) (2018.9)\n",
            "Requirement already satisfied: six>=1.5 in /usr/local/lib/python3.7/dist-packages (from python-dateutil>=2.1->matplotlib>=2.2->seaborn==0.11.2) (1.15.0)\n",
            "Датасеты не загрузились, попробуйте открыть ноутбук в колабе\n",
            "Downloading...\n",
            "From: https://drive.google.com/uc?id=1e3GHYqoyUl7CcogR_SQdKFs6Cirg9yiE\n",
            "To: /content/telecom_clients.csv\n",
            "100% 14.7k/14.7k [00:00<00:00, 18.9MB/s]\n",
            "Downloading...\n",
            "From: https://drive.google.com/uc?id=14ovV6Xp3VBmm_0q5_qKoN8XUngtiDCr8\n",
            "To: /content/telecom_dataset.csv\n",
            "100% 3.42M/3.42M [00:00<00:00, 103MB/s]\n"
          ]
        }
      ],
      "source": [
        "#Импортируем нужные библиотеки\n",
        "import pandas as pd\n",
        "import matplotlib.pyplot as plt\n",
        "import numpy as np\n",
        "import plotly.express as px\n",
        "import datetime\n",
        "import calendar\n",
        "# %pip install ipywidgets\n",
        "from ipywidgets import interact, interactive, fixed, interact_manual\n",
        "import ipywidgets as widgets\n",
        "%pip install seaborn==0.11.2\n",
        "import seaborn as sns\n",
        "from scipy import stats as st\n",
        "#загружаем таблицы\n",
        "try:\n",
        "    df_c = pd.read_csv('/datasets/telecom_clients.csv')\n",
        "    df_data = pd.read_csv('/datasets/telecom_dataset.csv')\n",
        "except:\n",
        "    print('Датасеты не загрузились, попробуйте открыть ноутбук в колабе')\n",
        "    # Данный код загружает датасеты в колабе.\n",
        "    ! gdown --id 1e3GHYqoyUl7CcogR_SQdKFs6Cirg9yiE\n",
        "    ! gdown --id 14ovV6Xp3VBmm_0q5_qKoN8XUngtiDCr8\n",
        "    df_c = pd.read_csv('/content/telecom_clients.csv')\n",
        "    df_data = pd.read_csv('/content/telecom_dataset.csv')\n",
        "# устанавливаем отображение количества столбцов экране \n",
        "pd.options.display.max_columns = 40\n",
        "pd.options.display.float_format = '{:.2f}'.format # устанавливаем отображение числа знаков после точки.\n",
        "import warnings\n",
        "warnings.filterwarnings('ignore')\n"
      ]
    },
    {
      "cell_type": "markdown",
      "metadata": {
        "cellId": "e5jam9p87uom2ijn4grj0a",
        "id": "fPpDiF4E6qAA"
      },
      "source": [
        "Импортируем данные. Рассмотрим полученные таблице поближе."
      ]
    },
    {
      "cell_type": "code",
      "execution_count": 2,
      "metadata": {
        "cellId": "qb9z449hlsg9pmdq92tpdn",
        "colab": {
          "base_uri": "https://localhost:8080/",
          "height": 296
        },
        "id": "mQX7fWP06qAB",
        "outputId": "8190ef92-5fc9-45ec-b1ba-e864e414abff"
      },
      "outputs": [
        {
          "output_type": "stream",
          "name": "stdout",
          "text": [
            "<class 'pandas.core.frame.DataFrame'>\n",
            "RangeIndex: 732 entries, 0 to 731\n",
            "Data columns (total 3 columns):\n",
            " #   Column       Non-Null Count  Dtype \n",
            "---  ------       --------------  ----- \n",
            " 0   user_id      732 non-null    int64 \n",
            " 1   tariff_plan  732 non-null    object\n",
            " 2   date_start   732 non-null    object\n",
            "dtypes: int64(1), object(2)\n",
            "memory usage: 17.3+ KB\n"
          ]
        },
        {
          "output_type": "execute_result",
          "data": {
            "text/plain": [
              "     user_id tariff_plan  date_start\n",
              "722   166797           B  2019-08-20\n",
              "497   168526           B  2019-10-29"
            ],
            "text/html": [
              "\n",
              "  <div id=\"df-9babf95f-6d4d-42c9-8401-96b0256b40bd\">\n",
              "    <div class=\"colab-df-container\">\n",
              "      <div>\n",
              "<style scoped>\n",
              "    .dataframe tbody tr th:only-of-type {\n",
              "        vertical-align: middle;\n",
              "    }\n",
              "\n",
              "    .dataframe tbody tr th {\n",
              "        vertical-align: top;\n",
              "    }\n",
              "\n",
              "    .dataframe thead th {\n",
              "        text-align: right;\n",
              "    }\n",
              "</style>\n",
              "<table border=\"1\" class=\"dataframe\">\n",
              "  <thead>\n",
              "    <tr style=\"text-align: right;\">\n",
              "      <th></th>\n",
              "      <th>user_id</th>\n",
              "      <th>tariff_plan</th>\n",
              "      <th>date_start</th>\n",
              "    </tr>\n",
              "  </thead>\n",
              "  <tbody>\n",
              "    <tr>\n",
              "      <th>722</th>\n",
              "      <td>166797</td>\n",
              "      <td>B</td>\n",
              "      <td>2019-08-20</td>\n",
              "    </tr>\n",
              "    <tr>\n",
              "      <th>497</th>\n",
              "      <td>168526</td>\n",
              "      <td>B</td>\n",
              "      <td>2019-10-29</td>\n",
              "    </tr>\n",
              "  </tbody>\n",
              "</table>\n",
              "</div>\n",
              "      <button class=\"colab-df-convert\" onclick=\"convertToInteractive('df-9babf95f-6d4d-42c9-8401-96b0256b40bd')\"\n",
              "              title=\"Convert this dataframe to an interactive table.\"\n",
              "              style=\"display:none;\">\n",
              "        \n",
              "  <svg xmlns=\"http://www.w3.org/2000/svg\" height=\"24px\"viewBox=\"0 0 24 24\"\n",
              "       width=\"24px\">\n",
              "    <path d=\"M0 0h24v24H0V0z\" fill=\"none\"/>\n",
              "    <path d=\"M18.56 5.44l.94 2.06.94-2.06 2.06-.94-2.06-.94-.94-2.06-.94 2.06-2.06.94zm-11 1L8.5 8.5l.94-2.06 2.06-.94-2.06-.94L8.5 2.5l-.94 2.06-2.06.94zm10 10l.94 2.06.94-2.06 2.06-.94-2.06-.94-.94-2.06-.94 2.06-2.06.94z\"/><path d=\"M17.41 7.96l-1.37-1.37c-.4-.4-.92-.59-1.43-.59-.52 0-1.04.2-1.43.59L10.3 9.45l-7.72 7.72c-.78.78-.78 2.05 0 2.83L4 21.41c.39.39.9.59 1.41.59.51 0 1.02-.2 1.41-.59l7.78-7.78 2.81-2.81c.8-.78.8-2.07 0-2.86zM5.41 20L4 18.59l7.72-7.72 1.47 1.35L5.41 20z\"/>\n",
              "  </svg>\n",
              "      </button>\n",
              "      \n",
              "  <style>\n",
              "    .colab-df-container {\n",
              "      display:flex;\n",
              "      flex-wrap:wrap;\n",
              "      gap: 12px;\n",
              "    }\n",
              "\n",
              "    .colab-df-convert {\n",
              "      background-color: #E8F0FE;\n",
              "      border: none;\n",
              "      border-radius: 50%;\n",
              "      cursor: pointer;\n",
              "      display: none;\n",
              "      fill: #1967D2;\n",
              "      height: 32px;\n",
              "      padding: 0 0 0 0;\n",
              "      width: 32px;\n",
              "    }\n",
              "\n",
              "    .colab-df-convert:hover {\n",
              "      background-color: #E2EBFA;\n",
              "      box-shadow: 0px 1px 2px rgba(60, 64, 67, 0.3), 0px 1px 3px 1px rgba(60, 64, 67, 0.15);\n",
              "      fill: #174EA6;\n",
              "    }\n",
              "\n",
              "    [theme=dark] .colab-df-convert {\n",
              "      background-color: #3B4455;\n",
              "      fill: #D2E3FC;\n",
              "    }\n",
              "\n",
              "    [theme=dark] .colab-df-convert:hover {\n",
              "      background-color: #434B5C;\n",
              "      box-shadow: 0px 1px 3px 1px rgba(0, 0, 0, 0.15);\n",
              "      filter: drop-shadow(0px 1px 2px rgba(0, 0, 0, 0.3));\n",
              "      fill: #FFFFFF;\n",
              "    }\n",
              "  </style>\n",
              "\n",
              "      <script>\n",
              "        const buttonEl =\n",
              "          document.querySelector('#df-9babf95f-6d4d-42c9-8401-96b0256b40bd button.colab-df-convert');\n",
              "        buttonEl.style.display =\n",
              "          google.colab.kernel.accessAllowed ? 'block' : 'none';\n",
              "\n",
              "        async function convertToInteractive(key) {\n",
              "          const element = document.querySelector('#df-9babf95f-6d4d-42c9-8401-96b0256b40bd');\n",
              "          const dataTable =\n",
              "            await google.colab.kernel.invokeFunction('convertToInteractive',\n",
              "                                                     [key], {});\n",
              "          if (!dataTable) return;\n",
              "\n",
              "          const docLinkHtml = 'Like what you see? Visit the ' +\n",
              "            '<a target=\"_blank\" href=https://colab.research.google.com/notebooks/data_table.ipynb>data table notebook</a>'\n",
              "            + ' to learn more about interactive tables.';\n",
              "          element.innerHTML = '';\n",
              "          dataTable['output_type'] = 'display_data';\n",
              "          await google.colab.output.renderOutput(dataTable, element);\n",
              "          const docLink = document.createElement('div');\n",
              "          docLink.innerHTML = docLinkHtml;\n",
              "          element.appendChild(docLink);\n",
              "        }\n",
              "      </script>\n",
              "    </div>\n",
              "  </div>\n",
              "  "
            ]
          },
          "metadata": {},
          "execution_count": 2
        }
      ],
      "source": [
        "df_c.info()\n",
        "df_c.sample(2)"
      ]
    },
    {
      "cell_type": "markdown",
      "metadata": {
        "cellId": "iw6uchvu5c86xmcv810miv",
        "id": "ykuhUhaU6qAC"
      },
      "source": [
        "df_c - таблица с данными о клиентах «Нупозвони» — провайдера виртуальный телефонии. Его клиенты — колл-центры. К данным замечаний нет, но тип данных столбца date_start, нужно перевести в тип дата, тип данных tariff_plan нужно перевести в тип данных category."
      ]
    },
    {
      "cell_type": "code",
      "execution_count": 3,
      "metadata": {
        "cellId": "p9ya3u97tci52km6kh6ca",
        "colab": {
          "base_uri": "https://localhost:8080/",
          "height": 406
        },
        "id": "kLzHWfeC6qAD",
        "outputId": "f438713c-9292-44bc-86c8-ffe0dfcd3907"
      },
      "outputs": [
        {
          "output_type": "stream",
          "name": "stdout",
          "text": [
            "<class 'pandas.core.frame.DataFrame'>\n",
            "RangeIndex: 53902 entries, 0 to 53901\n",
            "Data columns (total 9 columns):\n",
            " #   Column               Non-Null Count  Dtype  \n",
            "---  ------               --------------  -----  \n",
            " 0   user_id              53902 non-null  int64  \n",
            " 1   date                 53902 non-null  object \n",
            " 2   direction            53902 non-null  object \n",
            " 3   internal             53785 non-null  object \n",
            " 4   operator_id          45730 non-null  float64\n",
            " 5   is_missed_call       53902 non-null  bool   \n",
            " 6   calls_count          53902 non-null  int64  \n",
            " 7   call_duration        53902 non-null  int64  \n",
            " 8   total_call_duration  53902 non-null  int64  \n",
            "dtypes: bool(1), float64(1), int64(4), object(3)\n",
            "memory usage: 3.3+ MB\n"
          ]
        },
        {
          "output_type": "execute_result",
          "data": {
            "text/plain": [
              "       user_id                       date direction internal  operator_id  \\\n",
              "20598   167004  2019-10-29 00:00:00+03:00       out    False    900826.00   \n",
              "23545   167102  2019-09-06 00:00:00+03:00        in    False          NaN   \n",
              "\n",
              "       is_missed_call  calls_count  call_duration  total_call_duration  \n",
              "20598            True            4              0                   54  \n",
              "23545            True            1              0                   50  "
            ],
            "text/html": [
              "\n",
              "  <div id=\"df-6c6a1759-70fa-4ad2-9a2d-4a530513ec16\">\n",
              "    <div class=\"colab-df-container\">\n",
              "      <div>\n",
              "<style scoped>\n",
              "    .dataframe tbody tr th:only-of-type {\n",
              "        vertical-align: middle;\n",
              "    }\n",
              "\n",
              "    .dataframe tbody tr th {\n",
              "        vertical-align: top;\n",
              "    }\n",
              "\n",
              "    .dataframe thead th {\n",
              "        text-align: right;\n",
              "    }\n",
              "</style>\n",
              "<table border=\"1\" class=\"dataframe\">\n",
              "  <thead>\n",
              "    <tr style=\"text-align: right;\">\n",
              "      <th></th>\n",
              "      <th>user_id</th>\n",
              "      <th>date</th>\n",
              "      <th>direction</th>\n",
              "      <th>internal</th>\n",
              "      <th>operator_id</th>\n",
              "      <th>is_missed_call</th>\n",
              "      <th>calls_count</th>\n",
              "      <th>call_duration</th>\n",
              "      <th>total_call_duration</th>\n",
              "    </tr>\n",
              "  </thead>\n",
              "  <tbody>\n",
              "    <tr>\n",
              "      <th>20598</th>\n",
              "      <td>167004</td>\n",
              "      <td>2019-10-29 00:00:00+03:00</td>\n",
              "      <td>out</td>\n",
              "      <td>False</td>\n",
              "      <td>900826.00</td>\n",
              "      <td>True</td>\n",
              "      <td>4</td>\n",
              "      <td>0</td>\n",
              "      <td>54</td>\n",
              "    </tr>\n",
              "    <tr>\n",
              "      <th>23545</th>\n",
              "      <td>167102</td>\n",
              "      <td>2019-09-06 00:00:00+03:00</td>\n",
              "      <td>in</td>\n",
              "      <td>False</td>\n",
              "      <td>NaN</td>\n",
              "      <td>True</td>\n",
              "      <td>1</td>\n",
              "      <td>0</td>\n",
              "      <td>50</td>\n",
              "    </tr>\n",
              "  </tbody>\n",
              "</table>\n",
              "</div>\n",
              "      <button class=\"colab-df-convert\" onclick=\"convertToInteractive('df-6c6a1759-70fa-4ad2-9a2d-4a530513ec16')\"\n",
              "              title=\"Convert this dataframe to an interactive table.\"\n",
              "              style=\"display:none;\">\n",
              "        \n",
              "  <svg xmlns=\"http://www.w3.org/2000/svg\" height=\"24px\"viewBox=\"0 0 24 24\"\n",
              "       width=\"24px\">\n",
              "    <path d=\"M0 0h24v24H0V0z\" fill=\"none\"/>\n",
              "    <path d=\"M18.56 5.44l.94 2.06.94-2.06 2.06-.94-2.06-.94-.94-2.06-.94 2.06-2.06.94zm-11 1L8.5 8.5l.94-2.06 2.06-.94-2.06-.94L8.5 2.5l-.94 2.06-2.06.94zm10 10l.94 2.06.94-2.06 2.06-.94-2.06-.94-.94-2.06-.94 2.06-2.06.94z\"/><path d=\"M17.41 7.96l-1.37-1.37c-.4-.4-.92-.59-1.43-.59-.52 0-1.04.2-1.43.59L10.3 9.45l-7.72 7.72c-.78.78-.78 2.05 0 2.83L4 21.41c.39.39.9.59 1.41.59.51 0 1.02-.2 1.41-.59l7.78-7.78 2.81-2.81c.8-.78.8-2.07 0-2.86zM5.41 20L4 18.59l7.72-7.72 1.47 1.35L5.41 20z\"/>\n",
              "  </svg>\n",
              "      </button>\n",
              "      \n",
              "  <style>\n",
              "    .colab-df-container {\n",
              "      display:flex;\n",
              "      flex-wrap:wrap;\n",
              "      gap: 12px;\n",
              "    }\n",
              "\n",
              "    .colab-df-convert {\n",
              "      background-color: #E8F0FE;\n",
              "      border: none;\n",
              "      border-radius: 50%;\n",
              "      cursor: pointer;\n",
              "      display: none;\n",
              "      fill: #1967D2;\n",
              "      height: 32px;\n",
              "      padding: 0 0 0 0;\n",
              "      width: 32px;\n",
              "    }\n",
              "\n",
              "    .colab-df-convert:hover {\n",
              "      background-color: #E2EBFA;\n",
              "      box-shadow: 0px 1px 2px rgba(60, 64, 67, 0.3), 0px 1px 3px 1px rgba(60, 64, 67, 0.15);\n",
              "      fill: #174EA6;\n",
              "    }\n",
              "\n",
              "    [theme=dark] .colab-df-convert {\n",
              "      background-color: #3B4455;\n",
              "      fill: #D2E3FC;\n",
              "    }\n",
              "\n",
              "    [theme=dark] .colab-df-convert:hover {\n",
              "      background-color: #434B5C;\n",
              "      box-shadow: 0px 1px 3px 1px rgba(0, 0, 0, 0.15);\n",
              "      filter: drop-shadow(0px 1px 2px rgba(0, 0, 0, 0.3));\n",
              "      fill: #FFFFFF;\n",
              "    }\n",
              "  </style>\n",
              "\n",
              "      <script>\n",
              "        const buttonEl =\n",
              "          document.querySelector('#df-6c6a1759-70fa-4ad2-9a2d-4a530513ec16 button.colab-df-convert');\n",
              "        buttonEl.style.display =\n",
              "          google.colab.kernel.accessAllowed ? 'block' : 'none';\n",
              "\n",
              "        async function convertToInteractive(key) {\n",
              "          const element = document.querySelector('#df-6c6a1759-70fa-4ad2-9a2d-4a530513ec16');\n",
              "          const dataTable =\n",
              "            await google.colab.kernel.invokeFunction('convertToInteractive',\n",
              "                                                     [key], {});\n",
              "          if (!dataTable) return;\n",
              "\n",
              "          const docLinkHtml = 'Like what you see? Visit the ' +\n",
              "            '<a target=\"_blank\" href=https://colab.research.google.com/notebooks/data_table.ipynb>data table notebook</a>'\n",
              "            + ' to learn more about interactive tables.';\n",
              "          element.innerHTML = '';\n",
              "          dataTable['output_type'] = 'display_data';\n",
              "          await google.colab.output.renderOutput(dataTable, element);\n",
              "          const docLink = document.createElement('div');\n",
              "          docLink.innerHTML = docLinkHtml;\n",
              "          element.appendChild(docLink);\n",
              "        }\n",
              "      </script>\n",
              "    </div>\n",
              "  </div>\n",
              "  "
            ]
          },
          "metadata": {},
          "execution_count": 3
        }
      ],
      "source": [
        "df_data.info()\n",
        "df_data.sample(2)"
      ]
    },
    {
      "cell_type": "markdown",
      "metadata": {
        "cellId": "wf6r2rr43vruant7wmfzn",
        "id": "b3EvpOQW6qAF"
      },
      "source": [
        "df_data - таблица с данными о звонках операторов колл-центров. В столбце operator_id есть пропущенные значения, необходимо их заменить или удалить.Тип данных столбца date, нужно перевести в тип дата, тип данных столбцов direction, internal нужно перевести в тип данных category."
      ]
    },
    {
      "cell_type": "markdown",
      "metadata": {
        "cellId": "ebc6olx4iqryrkeb9kxxbd",
        "id": "KWe9-PV96qAG"
      },
      "source": [
        "### Вывод"
      ]
    },
    {
      "cell_type": "markdown",
      "metadata": {
        "cellId": "6asxzpb79h3toqilropd0o",
        "id": "k9puxoMR6qAH"
      },
      "source": [
        "Мы имеем 2 таблицы с данными о звонках операторов колл-центров и о тарифах колл-центров. Столбцы в таблицах имеют разный тип данных. Таблицы удобные для анализа данных - в каждом столбце хранятся значения, каждая строка содержит одно наблюдение, к которому привязаны значения разных переменных. Название столбцов без пробелов, несколько слов разделяются нижним подчеркиванием, на одном языке и в одном регистре, отображают в краткой форме какого рода информация содержится в каждом столбце. В таблицах df_с, df_data, есть стоблцы тип данных которых нужно изменить на дату и тип данных category. В таблице df_data есть пропуски в стобце operator_id. Приступаем к подготовке данных для анализа."
      ]
    },
    {
      "cell_type": "markdown",
      "metadata": {
        "cellId": "x0wrna70u8ortsi8knwn4",
        "id": "UIVagkYl6qAI"
      },
      "source": [
        "## Подготовим данные"
      ]
    },
    {
      "cell_type": "markdown",
      "metadata": {
        "cellId": "usi8wcscabbgo47q1snb76",
        "id": "NiSXLWnY6qAI"
      },
      "source": [
        "Для удобства дальнейших вычислений объеденим таблицы"
      ]
    },
    {
      "cell_type": "code",
      "execution_count": 4,
      "metadata": {
        "cellId": "bpt2zoe01fls3qqoccqeo",
        "colab": {
          "base_uri": "https://localhost:8080/"
        },
        "id": "jk0srEig6qAJ",
        "outputId": "b3069d5e-07b0-47f6-f4e7-aa2f64c862b2"
      },
      "outputs": [
        {
          "output_type": "stream",
          "name": "stdout",
          "text": [
            "<class 'pandas.core.frame.DataFrame'>\n",
            "Int64Index: 53902 entries, 0 to 53901\n",
            "Data columns (total 11 columns):\n",
            " #   Column               Non-Null Count  Dtype  \n",
            "---  ------               --------------  -----  \n",
            " 0   user_id              53902 non-null  int64  \n",
            " 1   date                 53902 non-null  object \n",
            " 2   direction            53902 non-null  object \n",
            " 3   internal             53785 non-null  object \n",
            " 4   operator_id          45730 non-null  float64\n",
            " 5   is_missed_call       53902 non-null  bool   \n",
            " 6   calls_count          53902 non-null  int64  \n",
            " 7   call_duration        53902 non-null  int64  \n",
            " 8   total_call_duration  53902 non-null  int64  \n",
            " 9   tariff_plan          53902 non-null  object \n",
            " 10  date_start           53902 non-null  object \n",
            "dtypes: bool(1), float64(1), int64(4), object(5)\n",
            "memory usage: 4.6+ MB\n"
          ]
        }
      ],
      "source": [
        "df = df_data.merge(df_c, on = 'user_id')\n",
        "df.info()"
      ]
    },
    {
      "cell_type": "markdown",
      "metadata": {
        "cellId": "b9efuk4f9swi3r7h16lc8",
        "id": "3NsMeVmr6qAK"
      },
      "source": [
        "Изменим тип данных для оптимизации наших таблиц."
      ]
    },
    {
      "cell_type": "code",
      "execution_count": 5,
      "metadata": {
        "cellId": "romizyowlyoxif79axeebi",
        "id": "V4LlrpJl6qAK"
      },
      "outputs": [],
      "source": [
        "df['date'] = pd.to_datetime(df['date'])\n",
        "df['date_start'] = pd.to_datetime(df['date_start'])"
      ]
    },
    {
      "cell_type": "code",
      "execution_count": 6,
      "metadata": {
        "cellId": "0diuo90f4ckejke3j9zotd",
        "id": "MvoUq1LZ6qAK"
      },
      "outputs": [],
      "source": [
        "\n",
        "df['tariff_plan'] = df['tariff_plan'].astype('category')\n",
        "df['user_id'] = df['user_id'].astype('category')\n",
        "df['operator_id'] = df['operator_id'].astype('category')\n"
      ]
    },
    {
      "cell_type": "code",
      "execution_count": 7,
      "metadata": {
        "cellId": "6t2onn021tg9n584c39",
        "colab": {
          "base_uri": "https://localhost:8080/"
        },
        "id": "iFaP4iWN6qAL",
        "outputId": "459f93a3-9e74-46b7-e7ff-f67a744ae3ea",
        "scrolled": true
      },
      "outputs": [
        {
          "output_type": "stream",
          "name": "stdout",
          "text": [
            "<class 'pandas.core.frame.DataFrame'>\n",
            "Int64Index: 53902 entries, 0 to 53901\n",
            "Data columns (total 11 columns):\n",
            " #   Column               Non-Null Count  Dtype                                \n",
            "---  ------               --------------  -----                                \n",
            " 0   user_id              53902 non-null  category                             \n",
            " 1   date                 53902 non-null  datetime64[ns, pytz.FixedOffset(180)]\n",
            " 2   direction            53902 non-null  object                               \n",
            " 3   internal             53785 non-null  object                               \n",
            " 4   operator_id          45730 non-null  category                             \n",
            " 5   is_missed_call       53902 non-null  bool                                 \n",
            " 6   calls_count          53902 non-null  int64                                \n",
            " 7   call_duration        53902 non-null  int64                                \n",
            " 8   total_call_duration  53902 non-null  int64                                \n",
            " 9   tariff_plan          53902 non-null  category                             \n",
            " 10  date_start           53902 non-null  datetime64[ns]                       \n",
            "dtypes: bool(1), category(3), datetime64[ns, pytz.FixedOffset(180)](1), datetime64[ns](1), int64(3), object(2)\n",
            "memory usage: 3.6+ MB\n"
          ]
        }
      ],
      "source": [
        "df.info()"
      ]
    },
    {
      "cell_type": "markdown",
      "metadata": {
        "cellId": "7n23a0coa2j07hq0nqb1",
        "id": "3EUNGpXr6qAM"
      },
      "source": [
        "Проведем работу с пропущенными значениями в табице df_data"
      ]
    },
    {
      "cell_type": "code",
      "execution_count": 8,
      "metadata": {
        "cellId": "c1kwpc1d79v0z8sttj2l2if",
        "colab": {
          "base_uri": "https://localhost:8080/",
          "height": 394
        },
        "id": "geZu-Ksm6qAN",
        "outputId": "28236625-8537-40e8-f507-106807e4f071"
      },
      "outputs": [
        {
          "output_type": "execute_result",
          "data": {
            "text/plain": [
              "<pandas.io.formats.style.Styler at 0x7f1bd3ceb510>"
            ],
            "text/html": [
              "<style type=\"text/css\">\n",
              "#T_09732_row0_col0, #T_09732_row1_col0, #T_09732_row2_col0, #T_09732_row5_col0, #T_09732_row6_col0, #T_09732_row7_col0, #T_09732_row8_col0, #T_09732_row9_col0, #T_09732_row10_col0 {\n",
              "  background-color: #3b4cc0;\n",
              "  color: #f1f1f1;\n",
              "}\n",
              "#T_09732_row3_col0 {\n",
              "  background-color: #3e51c5;\n",
              "  color: #f1f1f1;\n",
              "}\n",
              "#T_09732_row4_col0 {\n",
              "  background-color: #b40426;\n",
              "  color: #f1f1f1;\n",
              "}\n",
              "</style>\n",
              "<table id=\"T_09732_\" class=\"dataframe\">\n",
              "  <thead>\n",
              "    <tr>\n",
              "      <th class=\"blank level0\" >&nbsp;</th>\n",
              "      <th class=\"col_heading level0 col0\" >0</th>\n",
              "    </tr>\n",
              "  </thead>\n",
              "  <tbody>\n",
              "    <tr>\n",
              "      <th id=\"T_09732_level0_row0\" class=\"row_heading level0 row0\" >user_id</th>\n",
              "      <td id=\"T_09732_row0_col0\" class=\"data row0 col0\" >0.000000</td>\n",
              "    </tr>\n",
              "    <tr>\n",
              "      <th id=\"T_09732_level0_row1\" class=\"row_heading level0 row1\" >date</th>\n",
              "      <td id=\"T_09732_row1_col0\" class=\"data row1 col0\" >0.000000</td>\n",
              "    </tr>\n",
              "    <tr>\n",
              "      <th id=\"T_09732_level0_row2\" class=\"row_heading level0 row2\" >direction</th>\n",
              "      <td id=\"T_09732_row2_col0\" class=\"data row2 col0\" >0.000000</td>\n",
              "    </tr>\n",
              "    <tr>\n",
              "      <th id=\"T_09732_level0_row3\" class=\"row_heading level0 row3\" >internal</th>\n",
              "      <td id=\"T_09732_row3_col0\" class=\"data row3 col0\" >0.220000</td>\n",
              "    </tr>\n",
              "    <tr>\n",
              "      <th id=\"T_09732_level0_row4\" class=\"row_heading level0 row4\" >operator_id</th>\n",
              "      <td id=\"T_09732_row4_col0\" class=\"data row4 col0\" >15.160000</td>\n",
              "    </tr>\n",
              "    <tr>\n",
              "      <th id=\"T_09732_level0_row5\" class=\"row_heading level0 row5\" >is_missed_call</th>\n",
              "      <td id=\"T_09732_row5_col0\" class=\"data row5 col0\" >0.000000</td>\n",
              "    </tr>\n",
              "    <tr>\n",
              "      <th id=\"T_09732_level0_row6\" class=\"row_heading level0 row6\" >calls_count</th>\n",
              "      <td id=\"T_09732_row6_col0\" class=\"data row6 col0\" >0.000000</td>\n",
              "    </tr>\n",
              "    <tr>\n",
              "      <th id=\"T_09732_level0_row7\" class=\"row_heading level0 row7\" >call_duration</th>\n",
              "      <td id=\"T_09732_row7_col0\" class=\"data row7 col0\" >0.000000</td>\n",
              "    </tr>\n",
              "    <tr>\n",
              "      <th id=\"T_09732_level0_row8\" class=\"row_heading level0 row8\" >total_call_duration</th>\n",
              "      <td id=\"T_09732_row8_col0\" class=\"data row8 col0\" >0.000000</td>\n",
              "    </tr>\n",
              "    <tr>\n",
              "      <th id=\"T_09732_level0_row9\" class=\"row_heading level0 row9\" >tariff_plan</th>\n",
              "      <td id=\"T_09732_row9_col0\" class=\"data row9 col0\" >0.000000</td>\n",
              "    </tr>\n",
              "    <tr>\n",
              "      <th id=\"T_09732_level0_row10\" class=\"row_heading level0 row10\" >date_start</th>\n",
              "      <td id=\"T_09732_row10_col0\" class=\"data row10 col0\" >0.000000</td>\n",
              "    </tr>\n",
              "  </tbody>\n",
              "</table>\n"
            ]
          },
          "metadata": {},
          "execution_count": 8
        }
      ],
      "source": [
        "pd.DataFrame(round((df.isna().mean()*100),2)).style.background_gradient('coolwarm')"
      ]
    },
    {
      "cell_type": "markdown",
      "metadata": {
        "cellId": "clfwl1v7ujt43fdvng3go9",
        "id": "trSHfKX_6qAO"
      },
      "source": [
        "Пропуски в столбце internal составляют 0,22% от общего количества строк. В виду малого количества строк предлагаю удалить данные пропуски."
      ]
    },
    {
      "cell_type": "code",
      "execution_count": 9,
      "metadata": {
        "cellId": "83n77ifglafnf63obowhl",
        "id": "wc_IfoaP6qAO"
      },
      "outputs": [],
      "source": [
        "df = df.dropna(subset=['internal'])\n",
        "df['internal'] = (df['internal']*1)\n"
      ]
    },
    {
      "cell_type": "markdown",
      "metadata": {
        "cellId": "4kepo2end1kev9o1mfy4yn",
        "id": "Xc3MlzPW6qAO"
      },
      "source": [
        "Пропуски в столбце operator_id составляю 15%, мы уже сможем удалить их без потери качества данных. В связи с тем, что мы будем анализировать данные операторов в целом предлагаю заменить пропуски на рандомное. Чтобы минимизировать влияние данной замены на данные предлагаю присвоить пропускам в operator_id номера которые будут зависить от user_id. Пропуск в operator_id будет равен user_id * 0,42."
      ]
    },
    {
      "cell_type": "code",
      "execution_count": 10,
      "metadata": {
        "cellId": "zd25plp2aoewyq9v3v7cn",
        "id": "cGeWwDx36qAP"
      },
      "outputs": [],
      "source": [
        "df['operator_id'] = df.apply(lambda x: x['user_id']*0.42 if pd.isna(x['operator_id']) else x['operator_id'], axis=1)"
      ]
    },
    {
      "cell_type": "markdown",
      "metadata": {
        "cellId": "qp24idntcub53pytij7gpw",
        "id": "WunS55Mg6qAP"
      },
      "source": [
        "Проведем работу с дублями."
      ]
    },
    {
      "cell_type": "code",
      "execution_count": 11,
      "metadata": {
        "cellId": "gj3ro4wgxy4en3pqwrpgui",
        "colab": {
          "base_uri": "https://localhost:8080/"
        },
        "id": "T4f8SBlX6qAP",
        "outputId": "cce0346b-a3e8-4ac6-a088-08933fdf2321"
      },
      "outputs": [
        {
          "output_type": "execute_result",
          "data": {
            "text/plain": [
              "4893"
            ]
          },
          "metadata": {},
          "execution_count": 11
        }
      ],
      "source": [
        "df.duplicated().sum()"
      ]
    },
    {
      "cell_type": "markdown",
      "metadata": {
        "id": "47hcDIHtnRIz"
      },
      "source": [
        "В таблице 4893 полных дубликата, предлагаю удалить их. Так как они могут исказить общую статистику."
      ]
    },
    {
      "cell_type": "code",
      "execution_count": 12,
      "metadata": {
        "cellId": "meew961n11o5rvrypn37ie",
        "colab": {
          "base_uri": "https://localhost:8080/"
        },
        "id": "_Q8hyk2R6qAQ",
        "outputId": "e04af623-5c8a-4c8e-d3a5-b7622434caf4"
      },
      "outputs": [
        {
          "output_type": "stream",
          "name": "stdout",
          "text": [
            "<class 'pandas.core.frame.DataFrame'>\n",
            "Int64Index: 48892 entries, 0 to 53901\n",
            "Data columns (total 11 columns):\n",
            " #   Column               Non-Null Count  Dtype                                \n",
            "---  ------               --------------  -----                                \n",
            " 0   user_id              48892 non-null  category                             \n",
            " 1   date                 48892 non-null  datetime64[ns, pytz.FixedOffset(180)]\n",
            " 2   direction            48892 non-null  object                               \n",
            " 3   internal             48892 non-null  object                               \n",
            " 4   operator_id          48892 non-null  float64                              \n",
            " 5   is_missed_call       48892 non-null  bool                                 \n",
            " 6   calls_count          48892 non-null  int64                                \n",
            " 7   call_duration        48892 non-null  int64                                \n",
            " 8   total_call_duration  48892 non-null  int64                                \n",
            " 9   tariff_plan          48892 non-null  category                             \n",
            " 10  date_start           48892 non-null  datetime64[ns]                       \n",
            "dtypes: bool(1), category(2), datetime64[ns, pytz.FixedOffset(180)](1), datetime64[ns](1), float64(1), int64(3), object(2)\n",
            "memory usage: 3.6+ MB\n"
          ]
        }
      ],
      "source": [
        "df = df.drop_duplicates()\n",
        "df.info()"
      ]
    },
    {
      "cell_type": "markdown",
      "metadata": {
        "cellId": "yqbqaonll8qxzhtod6uk8q",
        "id": "hgl56-qJ6qAQ"
      },
      "source": [
        "Мы избавились от пропусов и дубликатов, теберь нужно найти аномалии и ошибки в самих данных."
      ]
    },
    {
      "cell_type": "code",
      "execution_count": 13,
      "metadata": {
        "cellId": "vwv6yse17q83bvmroybss4",
        "colab": {
          "base_uri": "https://localhost:8080/"
        },
        "id": "AiwmnlqT6qAQ",
        "outputId": "c480a067-4047-435b-f845-06eff661bf43"
      },
      "outputs": [
        {
          "output_type": "execute_result",
          "data": {
            "text/plain": [
              "[count    48892.00\n",
              " mean    788413.31\n",
              " std     303947.32\n",
              " min      69878.34\n",
              " 25%     890416.00\n",
              " 50%     906406.00\n",
              " 75%     930020.00\n",
              " max     973286.00\n",
              " Name: operator_id, dtype: float64, count   48892.00\n",
              " mean       16.50\n",
              " std        63.67\n",
              " min         1.00\n",
              " 25%         1.00\n",
              " 50%         4.00\n",
              " 75%        12.00\n",
              " max      4817.00\n",
              " Name: calls_count, dtype: float64, count    48892.00\n",
              " mean       868.09\n",
              " std       3779.55\n",
              " min          0.00\n",
              " 25%          0.00\n",
              " 50%         37.00\n",
              " 75%        573.00\n",
              " max     144395.00\n",
              " Name: call_duration, dtype: float64, count    48892.00\n",
              " mean      1158.98\n",
              " std       4456.18\n",
              " min          0.00\n",
              " 25%         46.00\n",
              " 50%        210.00\n",
              " 75%        902.00\n",
              " max     166155.00\n",
              " Name: total_call_duration, dtype: float64]"
            ]
          },
          "metadata": {},
          "execution_count": 13
        }
      ],
      "source": [
        "[df[col].describe() for col in df.columns if df[col].dtype in ['float','int64']]"
      ]
    },
    {
      "cell_type": "markdown",
      "metadata": {
        "cellId": "48afeog66u8grlvrrjqjl",
        "id": "ILItxtzh6qAQ"
      },
      "source": [
        "Столбец calls_count (кол-во звонков), видим аномально большое максимальное количество 4817 при медиане в 4 звонка. Думаю это ошибка в данных, нужно вычленить аномальные занчения и подумать, что с ними делать. Столбец call_duration (длительность звонка без учета времени ожидания) медиана 37, думаю данный показатель в секундах, максимальное значение 144395 секунд (2406 минут или 40 часов), это также явно ошибка в данных, нужно удалить аномальные знвчения. В столбце total_call_duration (длительность звонка с учетом времени ожидания) медиана 210 секунд максимальное значение также аномально. Видимо у некоторых операторов произошел сбой в сборе статиски звонков - посмотрим на эти звонки и посмотрим на этих операторов. "
      ]
    },
    {
      "cell_type": "markdown",
      "metadata": {
        "cellId": "iuawi61a6dpy41hy1xvgd",
        "id": "2c_ek_pw6qAS"
      },
      "source": [
        "Определим аномально большие значения. Создадим функцию. Так же при расчете анамально большого количества звонков не будем учитывать пропущенные звонки так как на них не тратится время оператора."
      ]
    },
    {
      "cell_type": "code",
      "execution_count": 14,
      "metadata": {
        "cellId": "5h8xd566v5mz57gag2fmnr",
        "id": "EnacVb5E6qAS"
      },
      "outputs": [],
      "source": [
        "def mybox(df,title):\n",
        "    q75, q25 = np.percentile(df, [75,25])\n",
        "    iqr = q75 - q25\n",
        "    min = q25 - (q25 +1.5*iqr)\n",
        "    max = q75 + 1.5*iqr\n",
        "    print('Граница нижнего уса: ', min)\n",
        "    print('Граница верхнего уса: ', max)\n",
        "    print(df.describe())\n",
        "    fig = plt.figure(figsize =(10, 7)) \n",
        "    plt.ylim(0,max*1.2)\n",
        "    plt.boxplot(df,sym='k+', notch=1,)\n",
        "    plt.title(f'График \"ящик с усами\"для {title}')\n",
        "    plt.show()\n",
        "  "
      ]
    },
    {
      "cell_type": "markdown",
      "metadata": {
        "id": "99XTAJpqofwI"
      },
      "source": [
        "Посмотрим на диаграмму размаха количества звонков."
      ]
    },
    {
      "cell_type": "code",
      "execution_count": 15,
      "metadata": {
        "cellId": "5b1jngvt4krcvyf113ueyj",
        "colab": {
          "base_uri": "https://localhost:8080/",
          "height": 646
        },
        "id": "V9aFVBVQ6qAS",
        "outputId": "88c6d292-c2f7-4be3-ac19-2a962eb6a8ff"
      },
      "outputs": [
        {
          "output_type": "stream",
          "name": "stdout",
          "text": [
            "Граница нижнего уса:  -16.5\n",
            "Граница верхнего уса:  29.5\n",
            "count   27773.00\n",
            "mean       15.53\n",
            "std        49.39\n",
            "min         1.00\n",
            "25%         2.00\n",
            "50%         4.00\n",
            "75%        13.00\n",
            "max      1480.00\n",
            "Name: calls_count, dtype: float64\n"
          ]
        },
        {
          "output_type": "display_data",
          "data": {
            "text/plain": [
              "<Figure size 720x504 with 1 Axes>"
            ],
            "image/png": "[encoded data removed]"
          },
          "metadata": {
            "needs_background": "light"
          }
        }
      ],
      "source": [
        "mybox(df.query('call_duration != 0').calls_count, 'количества звонков')"
      ]
    },
    {
      "cell_type": "markdown",
      "metadata": {
        "cellId": "ehzbzejvnyhjltc7saap6d",
        "id": "NmqUsB8a6qAS"
      },
      "source": [
        "Макимальное значение 1480 звонков. Теоретичести 3 звонка в минуту. Думаю это возможно, Поэтому эти значения удалять не будем."
      ]
    },
    {
      "cell_type": "markdown",
      "metadata": {
        "cellId": "fo12lnbx5y3qlfedit7me",
        "id": "gpLtPUrX6qAT"
      },
      "source": [
        "Посмотрим на диаграмму разброса длительности звонков."
      ]
    },
    {
      "cell_type": "code",
      "execution_count": 16,
      "metadata": {
        "cellId": "1h6lf2yq422ydc4fgcknok",
        "colab": {
          "base_uri": "https://localhost:8080/",
          "height": 647
        },
        "id": "gf7IQME06qAT",
        "outputId": "6a99bf03-b629-4979-e551-910212bf0a4f"
      },
      "outputs": [
        {
          "output_type": "stream",
          "name": "stdout",
          "text": [
            "Граница нижнего уса:  -1953.0\n",
            "Граница верхнего уса:  3361.0\n",
            "count    27773.00\n",
            "mean      1528.20\n",
            "std       4913.16\n",
            "min          1.00\n",
            "25%        106.00\n",
            "50%        436.00\n",
            "75%       1408.00\n",
            "max     144395.00\n",
            "Name: call_duration, dtype: float64\n"
          ]
        },
        {
          "output_type": "display_data",
          "data": {
            "text/plain": [
              "<Figure size 720x504 with 1 Axes>"
            ],
            "image/png": "[encoded data removed]"
          },
          "metadata": {
            "needs_background": "light"
          }
        }
      ],
      "source": [
        "mybox(df.query('call_duration !=0').call_duration, 'длительности звонков(без учета ожидания)')"
      ]
    },
    {
      "cell_type": "markdown",
      "metadata": {
        "cellId": "bh0mcf21tzagte0kq7n3zi",
        "id": "YdeikIWn6qAT"
      },
      "source": [
        "Максимальное значение длительности звонков 144395 это 40 часов, думаю это ошибочные данные их нужно удалить. Так как таких значений всего 120 их удаление не изменит общие показатели. "
      ]
    },
    {
      "cell_type": "code",
      "execution_count": 17,
      "metadata": {
        "id": "a-YuM-1h0lu7"
      },
      "outputs": [],
      "source": [
        "df = df.query('call_duration <= 28800')"
      ]
    },
    {
      "cell_type": "markdown",
      "metadata": {
        "cellId": "17dcxoeci497g9btx3295w",
        "id": "tAAd9Byk6qAU"
      },
      "source": [
        "Посмотрим на аномальные значения количества звонков, напомню, что верхняя граница \"ящика с усами\" 35 звонков, в принципе это 4 звонка в час (прямо скажем, производительность труда у операторов не на высоте). Конечно могут быть разные ситуации и нужно вычислять параметры эффективности исходя из медианных значений. Но думаю 4 звонка в час для колл-центра это не нормально. Мое мнение, что вычислять такие показатели нужно после фотографии рабочего времени оператора. \n",
        "Посмотрим на аномальные значения длительности звонков, напомню, что верхняя граница \"ящика с усами\" 3368 секунды, в принципе это 1 час из 8 часового раб дня, прямо скажем, производительность труда у операторов не на высоте. Попробуем вычислить максимально возможную длительность. Получаеться 30 звонков в час, умножим на 8 часой рабочий день, получаем 240 звонков в день это возможно. "
      ]
    },
    {
      "cell_type": "markdown",
      "metadata": {
        "id": "-KYt4qtBW1XK"
      },
      "source": [
        "### Вывод"
      ]
    },
    {
      "cell_type": "markdown",
      "metadata": {
        "id": "kC-5gdV0W6_s"
      },
      "source": [
        "Мы подготовили наши данные для анализа. Объеденили таблицы, изменили типы данных, частично удалили ичастично заполнили пропуски в значениях. Удалили дубликаты. Удалили экстремальные значения количества звонков. Значения длительности звонка решили оставить так как теоретически они возможны. Приступим к анализу наших данных"
      ]
    },
    {
      "cell_type": "markdown",
      "metadata": {
        "cellId": "wh8yo16936pijj8e0ublq",
        "id": "71Q4XRSm6qAW"
      },
      "source": [
        "## Проанализируем данные"
      ]
    },
    {
      "cell_type": "markdown",
      "metadata": {
        "cellId": "oqon96mwmzqbnvsmk5zoe",
        "id": "OemLlGUl6qAU"
      },
      "source": [
        "### Нам нужно определить какому количеству клиентов будет интересна эта услуга. Думаю такая услуга будет интересна любому клиенту. Они должны в реальном времени получать такую информацию, что позволит им вовремя реагировать на эффективность операторов. Но все же посмотрим на количество операторов с долей пропущенных входящих звонков более 25% от общего количества входящих звонков."
      ]
    },
    {
      "cell_type": "code",
      "execution_count": 18,
      "metadata": {
        "cellId": "c0of5ff668pl99jubu4a2c",
        "id": "CDXwmx4J6qAU"
      },
      "outputs": [],
      "source": [
        "df2 = df.query('direction == \"in\"').groupby(['user_id', 'direction'])['is_missed_call'].mean().reset_index().query('is_missed_call > 0.25')\n"
      ]
    },
    {
      "cell_type": "code",
      "execution_count": 19,
      "metadata": {
        "cellId": "p0etb1p5rx5xxt1a0x2gv",
        "colab": {
          "base_uri": "https://localhost:8080/"
        },
        "id": "DKW43YiM6qAU",
        "outputId": "e1fb5972-8445-41c2-efe2-c97403e0cf8b"
      },
      "outputs": [
        {
          "output_type": "stream",
          "name": "stdout",
          "text": [
            " У 88.93 % процентов колл-центров доля пропущенных звонков более 25%.\n"
          ]
        }
      ],
      "source": [
        "print(f' У {round(df2.user_id.nunique() / df.user_id.nunique()*100,2)} % процентов колл-центров доля пропущенных звонков более 25%.')"
      ]
    },
    {
      "cell_type": "markdown",
      "metadata": {
        "cellId": "y0pxlfmj43n3luce0rt8sj",
        "id": "PpGbDk3v6qAV"
      },
      "source": [
        "88 % наших клиентов, потенциально будет интересно определение не эффективных операторов."
      ]
    },
    {
      "cell_type": "markdown",
      "metadata": {
        "cellId": "dqquxjaq7g56yv6jijkwc",
        "id": "DoQb9QIT6qAV"
      },
      "source": [
        "### Посмотрим как ведут себя показатели в течение времени.\n"
      ]
    },
    {
      "cell_type": "code",
      "execution_count": 20,
      "metadata": {
        "cellId": "lwlo1c24f0o8ykdhifi3pv",
        "id": "_WSITCZL6qAV"
      },
      "outputs": [],
      "source": [
        "df['day'] = pd.DatetimeIndex(df['date']).day"
      ]
    },
    {
      "cell_type": "code",
      "execution_count": 21,
      "metadata": {
        "cellId": "oyckdgqwktc5ikx238y0yb",
        "id": "8hw5w0AE6qAV"
      },
      "outputs": [],
      "source": [
        "df['weekday'] = df['date'].dt.day_name()\n",
        "df['week'] = df['date'].dt.week"
      ]
    },
    {
      "cell_type": "markdown",
      "metadata": {
        "id": "nrRXRUHzYoNd"
      },
      "source": [
        "Посмотрим на распределение количества звонков(пропущенных и не пропущенных) по дням месяца, дням недели и по неделям."
      ]
    },
    {
      "cell_type": "code",
      "execution_count": 22,
      "metadata": {
        "cellId": "pi6jwqcvr2j3egch6m17l7",
        "colab": {
          "base_uri": "https://localhost:8080/",
          "height": 1000
        },
        "id": "0t9HQu3-6qAW",
        "outputId": "3c5187e6-7e3f-4a9b-ef89-ac6d77dca05a",
        "scrolled": true
      },
      "outputs": [
        {
          "output_type": "display_data",
          "data": {
            "text/plain": [
              "<Figure size 1224x720 with 1 Axes>"
            ],
            "image/png": "[encoded data removed]"
          },
          "metadata": {
            "needs_background": "light"
          }
        },
        {
          "output_type": "display_data",
          "data": {
            "text/plain": [
              "<Figure size 1224x720 with 1 Axes>"
            ],
            "image/png": "[encoded data removed]"
          },
          "metadata": {
            "needs_background": "light"
          }
        },
        {
          "output_type": "display_data",
          "data": {
            "text/plain": [
              "<Figure size 1224x720 with 1 Axes>"
            ],
            "image/png": "[encoded data removed]"
          },
          "metadata": {
            "needs_background": "light"
          }
        }
      ],
      "source": [
        "plt.figure(figsize=(17, 10))\n",
        "ax = sns.histplot(df, x='day', hue='is_missed_call', bins=31, kde=True, palette=\"vlag\",  multiple=\"stack\",)\n",
        "plt.xticks(list(range(1, 32)))\n",
        "ax.axes.set_title(\"Распределение количества звонков по дням месяца\", fontsize=16)\n",
        "ax.set_xlabel(\"день месяца\", fontsize=14)\n",
        "ax.set_ylabel(\"количество значений\", fontsize=14)\n",
        "\n",
        "plt.figure(figsize=(17, 10))\n",
        "ax = sns.histplot(df, x='weekday', hue='is_missed_call', shrink=0.7, palette=\"vlag\",  multiple=\"stack\")\n",
        "plt.xticks(['Sunday', 'Monday', 'Tuesday', 'Wednesday','Thursday', 'Friday','Saturday'],\n",
        "           ['Воскресенье', 'Понедельник', 'Вторник', 'Среда', 'Четверг', 'Пятница','Суббота'])\n",
        "ax.axes.set_title(\"Распределение количества звонков по дням недели\", fontsize=16)\n",
        "ax.set_xlabel(\"\", fontsize=14)\n",
        "ax.set_ylabel(\"количество значений\", fontsize=14)\n",
        "\n",
        "plt.figure(figsize=(17, 10))\n",
        "ax = sns.histplot(df, x='week', hue='is_missed_call', shrink=0.7, palette=\"vlag\", kde=True,  multiple=\"stack\")\n",
        "plt.xticks(list(range(31, 49)))\n",
        "ax.axes.set_title(\"Распределение количества звонков по неделям\", fontsize=16)\n",
        "ax.set_xlabel(\"номер недели в году\", fontsize=14)\n",
        "ax.set_ylabel(\"количество значений\", fontsize=14)\n",
        "plt.show()"
      ]
    },
    {
      "cell_type": "markdown",
      "metadata": {
        "id": "NGriUf6FZRqZ"
      },
      "source": [
        "Из рисунков мы наблюдаем цикличное уменьшение количества звонков в выходные дни. думаю это связанно с уменьшением количества работающих операторов в выходные. Соотноешение пропущенных и не пропущенных значений примерно одинаковое."
      ]
    },
    {
      "cell_type": "markdown",
      "metadata": {
        "id": "Ih33C_907q_9"
      },
      "source": [
        "### Вычислим новые показатели из имеющихся для дальнейшего анализа."
      ]
    },
    {
      "cell_type": "code",
      "execution_count": 23,
      "metadata": {
        "cellId": "vzbmokl45zrq1diu2z2e",
        "colab": {
          "base_uri": "https://localhost:8080/"
        },
        "id": "7kBivupZn-uS",
        "outputId": "8eb3e7ec-dfb3-4c2e-eace-358eb0cd72f6"
      },
      "outputs": [
        {
          "output_type": "stream",
          "name": "stdout",
          "text": [
            "count   48768.00\n",
            "mean       16.83\n",
            "std        13.89\n",
            "min         0.00\n",
            "25%         8.00\n",
            "50%        14.50\n",
            "75%        22.29\n",
            "max       465.00\n",
            "Name: avr_wait, dtype: float64\n",
            "-----------------------\n",
            "count   48768.00\n",
            "mean       66.43\n",
            "std       125.31\n",
            "min         0.00\n",
            "25%         0.00\n",
            "50%        23.25\n",
            "75%        89.53\n",
            "max      3550.00\n",
            "Name: aver_call_duration, dtype: float64\n"
          ]
        }
      ],
      "source": [
        "df['call_duration_min'] = round((df.call_duration / 60), 3) #перевели секунды в минуты\n",
        "df['total_call_duration_min'] = round((df.total_call_duration / 60), 3) #перевели секунды в минуты\n",
        "df['wait'] = round((df['total_call_duration'] - df['call_duration']), 3) # вычислили общее ожидание\n",
        "df['avr_wait'] = round((df['total_call_duration'] - df['call_duration'])/df['calls_count'], 3) # вычислили средее ожидание на 1 звонок\n",
        "df['aver_call_duration'] = round((df['call_duration']/df['calls_count']), 3) # вычислили среднюю продолжительность одного звонка\n",
        "print(df['avr_wait'].describe())\n",
        "print('-----------------------')\n",
        "print(df['aver_call_duration'].describe())"
      ]
    },
    {
      "cell_type": "markdown",
      "metadata": {
        "id": "nhY1cnPYcPpV"
      },
      "source": [
        "Посмотрим на корреляцию новых показателей с имеющимися данными."
      ]
    },
    {
      "cell_type": "code",
      "execution_count": 24,
      "metadata": {
        "colab": {
          "base_uri": "https://localhost:8080/",
          "height": 596
        },
        "id": "c3_UJAY9blQ5",
        "outputId": "cc6b3391-ba9c-42ab-c1b6-7627a64a42f9"
      },
      "outputs": [
        {
          "output_type": "display_data",
          "data": {
            "text/plain": [
              "<Figure size 1224x720 with 2 Axes>"
            ],
            "image/png": "[encoded data removed]"
          },
          "metadata": {
            "needs_background": "light"
          }
        }
      ],
      "source": [
        "plt.figure(figsize=(17, 10))\n",
        "Var_Corr = df.corr()\n",
        "sns.heatmap(Var_Corr[['wait','avr_wait', 'aver_call_duration']],annot=True)\n",
        "plt.show()"
      ]
    },
    {
      "cell_type": "markdown",
      "metadata": {
        "id": "_nId_vqHcnk8"
      },
      "source": [
        "Наблюдаем несколько достаточно высоких и логичных взаимосвязей. Чем больше пропущенных звонко тем больше среднее ожидание и тем меньше средняя продолжительность звонка.  "
      ]
    },
    {
      "cell_type": "markdown",
      "metadata": {
        "cellId": "th0ry5yb25i20kjkwsya6j",
        "id": "um1qW5rh6qAW"
      },
      "source": [
        "## Разработаем алгоритм и составим его описание. \n",
        "Предлагаю присвоить каждому оператору скоринг 0, 0.25, 0.5, 0.75, и 1 исходя из эффективности оператора. Применение скоринга обусловлено его гибкостью, уневерсальностью и возможностью к масштабированию. Клиент сам может решить какой уровень скоринга для него приемлем и отследить его в течение всего времени. Так же при необходимости можно не учитывать один из признаков или добавить новый.\n",
        "\n",
        "Наши признаки эффективности:\n",
        "- много пропущенных входящих вызовов. \n",
        "- долгое ожидания ответа при входящих внешних вызовах. \n",
        "- мало исходящих вывозов — в случае тех колл-центров, что специализируются на обзвонах, а не обработке входящих звонков. \n"
      ]
    },
    {
      "cell_type": "markdown",
      "metadata": {
        "id": "_wtzYpxyymfM"
      },
      "source": [
        "## Присвоим скоринг каждому оператору"
      ]
    },
    {
      "cell_type": "markdown",
      "metadata": {
        "id": "-aCHVE-Dpwrp"
      },
      "source": [
        "### \tПропущенные звонки."
      ]
    },
    {
      "cell_type": "markdown",
      "metadata": {
        "id": "y9mIBodsr-L-"
      },
      "source": [
        "Посмотрим диаграмму разброса количества пропущенных входящих звонков  у операторов."
      ]
    },
    {
      "cell_type": "code",
      "execution_count": 25,
      "metadata": {
        "colab": {
          "base_uri": "https://localhost:8080/",
          "height": 646
        },
        "id": "uHoaXd6Ron6J",
        "outputId": "579d4bc0-ff54-4305-f1bd-ae932b439906"
      },
      "outputs": [
        {
          "output_type": "stream",
          "name": "stdout",
          "text": [
            "Граница нижнего уса:  -7.5\n",
            "Граница верхнего уса:  13.5\n",
            "count   7833.00\n",
            "mean      13.30\n",
            "std       79.84\n",
            "min        1.00\n",
            "25%        1.00\n",
            "50%        2.00\n",
            "75%        6.00\n",
            "max     2168.00\n",
            "Name: calls_count, dtype: float64\n"
          ]
        },
        {
          "output_type": "display_data",
          "data": {
            "text/plain": [
              "<Figure size 720x504 with 1 Axes>"
            ],
            "image/png": "[encoded data removed]"
          },
          "metadata": {
            "needs_background": "light"
          }
        }
      ],
      "source": [
        "mybox(df.query('direction == \"in\" and is_missed_call == True')['calls_count'], 'is_missed_call')"
      ]
    },
    {
      "cell_type": "markdown",
      "metadata": {
        "id": "jiu7NjCHsV7z"
      },
      "source": [
        "Оценим наших операторов исходя из их показателей. Так как это операторы колл-центра у них не должно быть пропущенных звонков, ведь это их основная работа. Значит за 0 пропущенных звонков присвоим 0 баллов, от 1 до 2 -  0,5 балла, от 2 до 6 - 0,75 балла, болше 6 - 1 балл. Создадим функцию для оценки операторов."
      ]
    },
    {
      "cell_type": "code",
      "execution_count": 26,
      "metadata": {
        "id": "3HaknOTPdfDv"
      },
      "outputs": [],
      "source": [
        "def miss_score(row):\n",
        "  if row['direction'] == \"in\" and row['is_missed_call'] == True and 0 <= row['calls_count'] < 1:\n",
        "    return 0\n",
        "  elif row['direction'] == \"in\" and row['is_missed_call'] == True and 1 <= row['calls_count'] <= 2:\n",
        "    return 0.5\n",
        "  elif row['direction'] == \"in\" and row['is_missed_call'] == True and 2 < row['calls_count'] <= 6:\n",
        "    return 0.75\n",
        "  elif row['direction'] == \"in\" and row['is_missed_call'] == True and 6 < row['calls_count']:\n",
        "    return 1\n",
        "  else:\n",
        "    return 0\n"
      ]
    },
    {
      "cell_type": "code",
      "execution_count": 27,
      "metadata": {
        "id": "03m1-DbSuehw"
      },
      "outputs": [],
      "source": [
        "df['miss_score'] = df.apply(miss_score, axis = 1)"
      ]
    },
    {
      "cell_type": "code",
      "execution_count": 28,
      "metadata": {
        "colab": {
          "base_uri": "https://localhost:8080/",
          "height": 260
        },
        "id": "61K9d587uem6",
        "outputId": "1eeb0735-2312-42a2-c7d8-4262f37c1432"
      },
      "outputs": [
        {
          "output_type": "execute_result",
          "data": {
            "text/plain": [
              "      user_id                      date direction internal  operator_id  \\\n",
              "31929  167445 2019-11-18 00:00:00+03:00        in        0    920852.00   \n",
              "4283   166503 2019-11-12 00:00:00+03:00       out        0    906680.00   \n",
              "13223  166782 2019-10-26 00:00:00+03:00        in        0    893804.00   \n",
              "\n",
              "       is_missed_call  calls_count  call_duration  total_call_duration  \\\n",
              "31929            True            1              0                   21   \n",
              "4283             True            4              0                   80   \n",
              "13223           False           16            864                  931   \n",
              "\n",
              "      tariff_plan date_start  day   weekday  week  call_duration_min  \\\n",
              "31929           B 2019-09-17   18    Monday    47               0.00   \n",
              "4283            B 2019-08-06   12   Tuesday    46               0.00   \n",
              "13223           C 2019-08-19   26  Saturday    43              14.40   \n",
              "\n",
              "       total_call_duration_min  wait  avr_wait  aver_call_duration  miss_score  \n",
              "31929                     0.35    21     21.00                0.00        0.50  \n",
              "4283                      1.33    80     20.00                0.00        0.00  \n",
              "13223                    15.52    67      4.19               54.00        0.00  "
            ],
            "text/html": [
              "\n",
              "  <div id=\"df-3807f1f7-08ff-42f1-8036-77807a4a632a\">\n",
              "    <div class=\"colab-df-container\">\n",
              "      <div>\n",
              "<style scoped>\n",
              "    .dataframe tbody tr th:only-of-type {\n",
              "        vertical-align: middle;\n",
              "    }\n",
              "\n",
              "    .dataframe tbody tr th {\n",
              "        vertical-align: top;\n",
              "    }\n",
              "\n",
              "    .dataframe thead th {\n",
              "        text-align: right;\n",
              "    }\n",
              "</style>\n",
              "<table border=\"1\" class=\"dataframe\">\n",
              "  <thead>\n",
              "    <tr style=\"text-align: right;\">\n",
              "      <th></th>\n",
              "      <th>user_id</th>\n",
              "      <th>date</th>\n",
              "      <th>direction</th>\n",
              "      <th>internal</th>\n",
              "      <th>operator_id</th>\n",
              "      <th>is_missed_call</th>\n",
              "      <th>calls_count</th>\n",
              "      <th>call_duration</th>\n",
              "      <th>total_call_duration</th>\n",
              "      <th>tariff_plan</th>\n",
              "      <th>date_start</th>\n",
              "      <th>day</th>\n",
              "      <th>weekday</th>\n",
              "      <th>week</th>\n",
              "      <th>call_duration_min</th>\n",
              "      <th>total_call_duration_min</th>\n",
              "      <th>wait</th>\n",
              "      <th>avr_wait</th>\n",
              "      <th>aver_call_duration</th>\n",
              "      <th>miss_score</th>\n",
              "    </tr>\n",
              "  </thead>\n",
              "  <tbody>\n",
              "    <tr>\n",
              "      <th>31929</th>\n",
              "      <td>167445</td>\n",
              "      <td>2019-11-18 00:00:00+03:00</td>\n",
              "      <td>in</td>\n",
              "      <td>0</td>\n",
              "      <td>920852.00</td>\n",
              "      <td>True</td>\n",
              "      <td>1</td>\n",
              "      <td>0</td>\n",
              "      <td>21</td>\n",
              "      <td>B</td>\n",
              "      <td>2019-09-17</td>\n",
              "      <td>18</td>\n",
              "      <td>Monday</td>\n",
              "      <td>47</td>\n",
              "      <td>0.00</td>\n",
              "      <td>0.35</td>\n",
              "      <td>21</td>\n",
              "      <td>21.00</td>\n",
              "      <td>0.00</td>\n",
              "      <td>0.50</td>\n",
              "    </tr>\n",
              "    <tr>\n",
              "      <th>4283</th>\n",
              "      <td>166503</td>\n",
              "      <td>2019-11-12 00:00:00+03:00</td>\n",
              "      <td>out</td>\n",
              "      <td>0</td>\n",
              "      <td>906680.00</td>\n",
              "      <td>True</td>\n",
              "      <td>4</td>\n",
              "      <td>0</td>\n",
              "      <td>80</td>\n",
              "      <td>B</td>\n",
              "      <td>2019-08-06</td>\n",
              "      <td>12</td>\n",
              "      <td>Tuesday</td>\n",
              "      <td>46</td>\n",
              "      <td>0.00</td>\n",
              "      <td>1.33</td>\n",
              "      <td>80</td>\n",
              "      <td>20.00</td>\n",
              "      <td>0.00</td>\n",
              "      <td>0.00</td>\n",
              "    </tr>\n",
              "    <tr>\n",
              "      <th>13223</th>\n",
              "      <td>166782</td>\n",
              "      <td>2019-10-26 00:00:00+03:00</td>\n",
              "      <td>in</td>\n",
              "      <td>0</td>\n",
              "      <td>893804.00</td>\n",
              "      <td>False</td>\n",
              "      <td>16</td>\n",
              "      <td>864</td>\n",
              "      <td>931</td>\n",
              "      <td>C</td>\n",
              "      <td>2019-08-19</td>\n",
              "      <td>26</td>\n",
              "      <td>Saturday</td>\n",
              "      <td>43</td>\n",
              "      <td>14.40</td>\n",
              "      <td>15.52</td>\n",
              "      <td>67</td>\n",
              "      <td>4.19</td>\n",
              "      <td>54.00</td>\n",
              "      <td>0.00</td>\n",
              "    </tr>\n",
              "  </tbody>\n",
              "</table>\n",
              "</div>\n",
              "      <button class=\"colab-df-convert\" onclick=\"convertToInteractive('df-3807f1f7-08ff-42f1-8036-77807a4a632a')\"\n",
              "              title=\"Convert this dataframe to an interactive table.\"\n",
              "              style=\"display:none;\">\n",
              "        \n",
              "  <svg xmlns=\"http://www.w3.org/2000/svg\" height=\"24px\"viewBox=\"0 0 24 24\"\n",
              "       width=\"24px\">\n",
              "    <path d=\"M0 0h24v24H0V0z\" fill=\"none\"/>\n",
              "    <path d=\"M18.56 5.44l.94 2.06.94-2.06 2.06-.94-2.06-.94-.94-2.06-.94 2.06-2.06.94zm-11 1L8.5 8.5l.94-2.06 2.06-.94-2.06-.94L8.5 2.5l-.94 2.06-2.06.94zm10 10l.94 2.06.94-2.06 2.06-.94-2.06-.94-.94-2.06-.94 2.06-2.06.94z\"/><path d=\"M17.41 7.96l-1.37-1.37c-.4-.4-.92-.59-1.43-.59-.52 0-1.04.2-1.43.59L10.3 9.45l-7.72 7.72c-.78.78-.78 2.05 0 2.83L4 21.41c.39.39.9.59 1.41.59.51 0 1.02-.2 1.41-.59l7.78-7.78 2.81-2.81c.8-.78.8-2.07 0-2.86zM5.41 20L4 18.59l7.72-7.72 1.47 1.35L5.41 20z\"/>\n",
              "  </svg>\n",
              "      </button>\n",
              "      \n",
              "  <style>\n",
              "    .colab-df-container {\n",
              "      display:flex;\n",
              "      flex-wrap:wrap;\n",
              "      gap: 12px;\n",
              "    }\n",
              "\n",
              "    .colab-df-convert {\n",
              "      background-color: #E8F0FE;\n",
              "      border: none;\n",
              "      border-radius: 50%;\n",
              "      cursor: pointer;\n",
              "      display: none;\n",
              "      fill: #1967D2;\n",
              "      height: 32px;\n",
              "      padding: 0 0 0 0;\n",
              "      width: 32px;\n",
              "    }\n",
              "\n",
              "    .colab-df-convert:hover {\n",
              "      background-color: #E2EBFA;\n",
              "      box-shadow: 0px 1px 2px rgba(60, 64, 67, 0.3), 0px 1px 3px 1px rgba(60, 64, 67, 0.15);\n",
              "      fill: #174EA6;\n",
              "    }\n",
              "\n",
              "    [theme=dark] .colab-df-convert {\n",
              "      background-color: #3B4455;\n",
              "      fill: #D2E3FC;\n",
              "    }\n",
              "\n",
              "    [theme=dark] .colab-df-convert:hover {\n",
              "      background-color: #434B5C;\n",
              "      box-shadow: 0px 1px 3px 1px rgba(0, 0, 0, 0.15);\n",
              "      filter: drop-shadow(0px 1px 2px rgba(0, 0, 0, 0.3));\n",
              "      fill: #FFFFFF;\n",
              "    }\n",
              "  </style>\n",
              "\n",
              "      <script>\n",
              "        const buttonEl =\n",
              "          document.querySelector('#df-3807f1f7-08ff-42f1-8036-77807a4a632a button.colab-df-convert');\n",
              "        buttonEl.style.display =\n",
              "          google.colab.kernel.accessAllowed ? 'block' : 'none';\n",
              "\n",
              "        async function convertToInteractive(key) {\n",
              "          const element = document.querySelector('#df-3807f1f7-08ff-42f1-8036-77807a4a632a');\n",
              "          const dataTable =\n",
              "            await google.colab.kernel.invokeFunction('convertToInteractive',\n",
              "                                                     [key], {});\n",
              "          if (!dataTable) return;\n",
              "\n",
              "          const docLinkHtml = 'Like what you see? Visit the ' +\n",
              "            '<a target=\"_blank\" href=https://colab.research.google.com/notebooks/data_table.ipynb>data table notebook</a>'\n",
              "            + ' to learn more about interactive tables.';\n",
              "          element.innerHTML = '';\n",
              "          dataTable['output_type'] = 'display_data';\n",
              "          await google.colab.output.renderOutput(dataTable, element);\n",
              "          const docLink = document.createElement('div');\n",
              "          docLink.innerHTML = docLinkHtml;\n",
              "          element.appendChild(docLink);\n",
              "        }\n",
              "      </script>\n",
              "    </div>\n",
              "  </div>\n",
              "  "
            ]
          },
          "metadata": {},
          "execution_count": 28
        }
      ],
      "source": [
        "df.sample(3)"
      ]
    },
    {
      "cell_type": "markdown",
      "metadata": {
        "id": "tCEFKX2pwv_7"
      },
      "source": [
        "В столбце miss_score мы отценили наших операторов. Так же поступим и по другим целевым параметрам."
      ]
    },
    {
      "cell_type": "markdown",
      "metadata": {
        "id": "rDdIh-dtxMby"
      },
      "source": [
        "### Долгое ожидания ответа при входящих внешних вызовах. "
      ]
    },
    {
      "cell_type": "markdown",
      "metadata": {
        "id": "bob4yBJjx6Nt"
      },
      "source": [
        "Для ценки операторов в зависимости от ожидания клиентом, будем использовать вычесленный нами показатель среднего ожидания на один входящий звонок мы записали его как 'avr_wait'. Посмотрим разбросс значений."
      ]
    },
    {
      "cell_type": "code",
      "execution_count": 29,
      "metadata": {
        "colab": {
          "base_uri": "https://localhost:8080/",
          "height": 646
        },
        "id": "DvoC8fJMuevt",
        "outputId": "938b1797-169a-4197-9549-8127020d5fad"
      },
      "outputs": [
        {
          "output_type": "stream",
          "name": "stdout",
          "text": [
            "Граница нижнего уса:  -24.768\n",
            "Граница верхнего уса:  48.28\n",
            "count   19894.00\n",
            "mean       17.32\n",
            "std        17.02\n",
            "min         0.00\n",
            "25%         7.00\n",
            "50%        13.00\n",
            "75%        23.51\n",
            "max       465.00\n",
            "Name: avr_wait, dtype: float64\n"
          ]
        },
        {
          "output_type": "display_data",
          "data": {
            "text/plain": [
              "<Figure size 720x504 with 1 Axes>"
            ],
            "image/png": "[encoded data removed]"
          },
          "metadata": {
            "needs_background": "light"
          }
        }
      ],
      "source": [
        "mybox(df.query('direction == \"in\"')['avr_wait'], 'avr_wait')"
      ]
    },
    {
      "cell_type": "markdown",
      "metadata": {
        "id": "s8aEv4JSxUsz"
      },
      "source": [
        "Создадим функцию."
      ]
    },
    {
      "cell_type": "code",
      "execution_count": 30,
      "metadata": {
        "id": "4lSHcNffsgwB"
      },
      "outputs": [],
      "source": [
        "def wait_score(row):\n",
        "  if row['direction'] == \"in\" and 0 <= row['avr_wait'] < 7:\n",
        "    return 0\n",
        "  elif row['direction'] == \"in\" and 7 <= row['avr_wait'] < 13:\n",
        "    return 0.25\n",
        "  elif row['direction'] == \"in\" and 13 <= row['avr_wait'] < 23:\n",
        "    return 0.5\n",
        "  elif row['direction'] == \"in\" and 23 <= row['avr_wait']:\n",
        "    return 1\n",
        "  else:\n",
        "    return 0"
      ]
    },
    {
      "cell_type": "code",
      "execution_count": 31,
      "metadata": {
        "id": "GpoZk6q6ueyu"
      },
      "outputs": [],
      "source": [
        "df['wait_score'] = df.apply(wait_score, axis = 1)"
      ]
    },
    {
      "cell_type": "code",
      "execution_count": 32,
      "metadata": {
        "colab": {
          "base_uri": "https://localhost:8080/",
          "height": 260
        },
        "id": "FqTJZA4LzGmG",
        "outputId": "bd0cc5f4-4f5c-492e-c372-17488ceca864"
      },
      "outputs": [
        {
          "output_type": "execute_result",
          "data": {
            "text/plain": [
              "      user_id                      date direction internal  operator_id  \\\n",
              "52228  168361 2019-11-02 00:00:00+03:00       out        0    945286.00   \n",
              "9587   166658 2019-11-10 00:00:00+03:00       out        0    890404.00   \n",
              "35494  167532 2019-10-25 00:00:00+03:00        in        0     70363.44   \n",
              "\n",
              "       is_missed_call  calls_count  call_duration  total_call_duration  \\\n",
              "52228           False          126           6421                 9012   \n",
              "9587             True            4              0                   92   \n",
              "35494            True            9              0                  213   \n",
              "\n",
              "      tariff_plan date_start  day   weekday  week  call_duration_min  \\\n",
              "52228           A 2019-10-23    2  Saturday    44             107.02   \n",
              "9587            B 2019-08-13   10    Sunday    45               0.00   \n",
              "35494           C 2019-09-19   25    Friday    43               0.00   \n",
              "\n",
              "       total_call_duration_min  wait  avr_wait  aver_call_duration  \\\n",
              "52228                   150.20  2591     20.56               50.96   \n",
              "9587                      1.53    92     23.00                0.00   \n",
              "35494                     3.55   213     23.67                0.00   \n",
              "\n",
              "       miss_score  wait_score  \n",
              "52228        0.00        0.00  \n",
              "9587         0.00        0.00  \n",
              "35494        1.00        1.00  "
            ],
            "text/html": [
              "\n",
              "  <div id=\"df-a2bc7fa4-e7b0-44fc-a636-bac928698ce0\">\n",
              "    <div class=\"colab-df-container\">\n",
              "      <div>\n",
              "<style scoped>\n",
              "    .dataframe tbody tr th:only-of-type {\n",
              "        vertical-align: middle;\n",
              "    }\n",
              "\n",
              "    .dataframe tbody tr th {\n",
              "        vertical-align: top;\n",
              "    }\n",
              "\n",
              "    .dataframe thead th {\n",
              "        text-align: right;\n",
              "    }\n",
              "</style>\n",
              "<table border=\"1\" class=\"dataframe\">\n",
              "  <thead>\n",
              "    <tr style=\"text-align: right;\">\n",
              "      <th></th>\n",
              "      <th>user_id</th>\n",
              "      <th>date</th>\n",
              "      <th>direction</th>\n",
              "      <th>internal</th>\n",
              "      <th>operator_id</th>\n",
              "      <th>is_missed_call</th>\n",
              "      <th>calls_count</th>\n",
              "      <th>call_duration</th>\n",
              "      <th>total_call_duration</th>\n",
              "      <th>tariff_plan</th>\n",
              "      <th>date_start</th>\n",
              "      <th>day</th>\n",
              "      <th>weekday</th>\n",
              "      <th>week</th>\n",
              "      <th>call_duration_min</th>\n",
              "      <th>total_call_duration_min</th>\n",
              "      <th>wait</th>\n",
              "      <th>avr_wait</th>\n",
              "      <th>aver_call_duration</th>\n",
              "      <th>miss_score</th>\n",
              "      <th>wait_score</th>\n",
              "    </tr>\n",
              "  </thead>\n",
              "  <tbody>\n",
              "    <tr>\n",
              "      <th>52228</th>\n",
              "      <td>168361</td>\n",
              "      <td>2019-11-02 00:00:00+03:00</td>\n",
              "      <td>out</td>\n",
              "      <td>0</td>\n",
              "      <td>945286.00</td>\n",
              "      <td>False</td>\n",
              "      <td>126</td>\n",
              "      <td>6421</td>\n",
              "      <td>9012</td>\n",
              "      <td>A</td>\n",
              "      <td>2019-10-23</td>\n",
              "      <td>2</td>\n",
              "      <td>Saturday</td>\n",
              "      <td>44</td>\n",
              "      <td>107.02</td>\n",
              "      <td>150.20</td>\n",
              "      <td>2591</td>\n",
              "      <td>20.56</td>\n",
              "      <td>50.96</td>\n",
              "      <td>0.00</td>\n",
              "      <td>0.00</td>\n",
              "    </tr>\n",
              "    <tr>\n",
              "      <th>9587</th>\n",
              "      <td>166658</td>\n",
              "      <td>2019-11-10 00:00:00+03:00</td>\n",
              "      <td>out</td>\n",
              "      <td>0</td>\n",
              "      <td>890404.00</td>\n",
              "      <td>True</td>\n",
              "      <td>4</td>\n",
              "      <td>0</td>\n",
              "      <td>92</td>\n",
              "      <td>B</td>\n",
              "      <td>2019-08-13</td>\n",
              "      <td>10</td>\n",
              "      <td>Sunday</td>\n",
              "      <td>45</td>\n",
              "      <td>0.00</td>\n",
              "      <td>1.53</td>\n",
              "      <td>92</td>\n",
              "      <td>23.00</td>\n",
              "      <td>0.00</td>\n",
              "      <td>0.00</td>\n",
              "      <td>0.00</td>\n",
              "    </tr>\n",
              "    <tr>\n",
              "      <th>35494</th>\n",
              "      <td>167532</td>\n",
              "      <td>2019-10-25 00:00:00+03:00</td>\n",
              "      <td>in</td>\n",
              "      <td>0</td>\n",
              "      <td>70363.44</td>\n",
              "      <td>True</td>\n",
              "      <td>9</td>\n",
              "      <td>0</td>\n",
              "      <td>213</td>\n",
              "      <td>C</td>\n",
              "      <td>2019-09-19</td>\n",
              "      <td>25</td>\n",
              "      <td>Friday</td>\n",
              "      <td>43</td>\n",
              "      <td>0.00</td>\n",
              "      <td>3.55</td>\n",
              "      <td>213</td>\n",
              "      <td>23.67</td>\n",
              "      <td>0.00</td>\n",
              "      <td>1.00</td>\n",
              "      <td>1.00</td>\n",
              "    </tr>\n",
              "  </tbody>\n",
              "</table>\n",
              "</div>\n",
              "      <button class=\"colab-df-convert\" onclick=\"convertToInteractive('df-a2bc7fa4-e7b0-44fc-a636-bac928698ce0')\"\n",
              "              title=\"Convert this dataframe to an interactive table.\"\n",
              "              style=\"display:none;\">\n",
              "        \n",
              "  <svg xmlns=\"http://www.w3.org/2000/svg\" height=\"24px\"viewBox=\"0 0 24 24\"\n",
              "       width=\"24px\">\n",
              "    <path d=\"M0 0h24v24H0V0z\" fill=\"none\"/>\n",
              "    <path d=\"M18.56 5.44l.94 2.06.94-2.06 2.06-.94-2.06-.94-.94-2.06-.94 2.06-2.06.94zm-11 1L8.5 8.5l.94-2.06 2.06-.94-2.06-.94L8.5 2.5l-.94 2.06-2.06.94zm10 10l.94 2.06.94-2.06 2.06-.94-2.06-.94-.94-2.06-.94 2.06-2.06.94z\"/><path d=\"M17.41 7.96l-1.37-1.37c-.4-.4-.92-.59-1.43-.59-.52 0-1.04.2-1.43.59L10.3 9.45l-7.72 7.72c-.78.78-.78 2.05 0 2.83L4 21.41c.39.39.9.59 1.41.59.51 0 1.02-.2 1.41-.59l7.78-7.78 2.81-2.81c.8-.78.8-2.07 0-2.86zM5.41 20L4 18.59l7.72-7.72 1.47 1.35L5.41 20z\"/>\n",
              "  </svg>\n",
              "      </button>\n",
              "      \n",
              "  <style>\n",
              "    .colab-df-container {\n",
              "      display:flex;\n",
              "      flex-wrap:wrap;\n",
              "      gap: 12px;\n",
              "    }\n",
              "\n",
              "    .colab-df-convert {\n",
              "      background-color: #E8F0FE;\n",
              "      border: none;\n",
              "      border-radius: 50%;\n",
              "      cursor: pointer;\n",
              "      display: none;\n",
              "      fill: #1967D2;\n",
              "      height: 32px;\n",
              "      padding: 0 0 0 0;\n",
              "      width: 32px;\n",
              "    }\n",
              "\n",
              "    .colab-df-convert:hover {\n",
              "      background-color: #E2EBFA;\n",
              "      box-shadow: 0px 1px 2px rgba(60, 64, 67, 0.3), 0px 1px 3px 1px rgba(60, 64, 67, 0.15);\n",
              "      fill: #174EA6;\n",
              "    }\n",
              "\n",
              "    [theme=dark] .colab-df-convert {\n",
              "      background-color: #3B4455;\n",
              "      fill: #D2E3FC;\n",
              "    }\n",
              "\n",
              "    [theme=dark] .colab-df-convert:hover {\n",
              "      background-color: #434B5C;\n",
              "      box-shadow: 0px 1px 3px 1px rgba(0, 0, 0, 0.15);\n",
              "      filter: drop-shadow(0px 1px 2px rgba(0, 0, 0, 0.3));\n",
              "      fill: #FFFFFF;\n",
              "    }\n",
              "  </style>\n",
              "\n",
              "      <script>\n",
              "        const buttonEl =\n",
              "          document.querySelector('#df-a2bc7fa4-e7b0-44fc-a636-bac928698ce0 button.colab-df-convert');\n",
              "        buttonEl.style.display =\n",
              "          google.colab.kernel.accessAllowed ? 'block' : 'none';\n",
              "\n",
              "        async function convertToInteractive(key) {\n",
              "          const element = document.querySelector('#df-a2bc7fa4-e7b0-44fc-a636-bac928698ce0');\n",
              "          const dataTable =\n",
              "            await google.colab.kernel.invokeFunction('convertToInteractive',\n",
              "                                                     [key], {});\n",
              "          if (!dataTable) return;\n",
              "\n",
              "          const docLinkHtml = 'Like what you see? Visit the ' +\n",
              "            '<a target=\"_blank\" href=https://colab.research.google.com/notebooks/data_table.ipynb>data table notebook</a>'\n",
              "            + ' to learn more about interactive tables.';\n",
              "          element.innerHTML = '';\n",
              "          dataTable['output_type'] = 'display_data';\n",
              "          await google.colab.output.renderOutput(dataTable, element);\n",
              "          const docLink = document.createElement('div');\n",
              "          docLink.innerHTML = docLinkHtml;\n",
              "          element.appendChild(docLink);\n",
              "        }\n",
              "      </script>\n",
              "    </div>\n",
              "  </div>\n",
              "  "
            ]
          },
          "metadata": {},
          "execution_count": 32
        }
      ],
      "source": [
        "df.sample(3)"
      ]
    },
    {
      "cell_type": "markdown",
      "metadata": {
        "id": "tYp2HLdd1TeP"
      },
      "source": [
        "В столбце wait_score мы оценили операторов в зависимости от времени ожидания клиентом."
      ]
    },
    {
      "cell_type": "markdown",
      "metadata": {
        "id": "8CxQwB_g1tNI"
      },
      "source": [
        "### Мало исходящих вывозов — в случае тех колл-центров, что специализируются на обзвонах, а не обработке входящих звонков."
      ]
    },
    {
      "cell_type": "markdown",
      "metadata": {
        "id": "67PYzZr62Glf"
      },
      "source": [
        "Посмотрим на разбросс показателей количество исходящих звонков. Причем будем учитывать только звонки дозвонившиеся до клиента. Чтобы более эффективно отценить оператора и показать его реальную эффективность."
      ]
    },
    {
      "cell_type": "code",
      "execution_count": 33,
      "metadata": {
        "colab": {
          "base_uri": "https://localhost:8080/",
          "height": 646
        },
        "id": "35mk8mim1Qvc",
        "outputId": "5fe9dd33-e537-43d9-d32f-703dc037bb31"
      },
      "outputs": [
        {
          "output_type": "stream",
          "name": "stdout",
          "text": [
            "Граница нижнего уса:  -21.0\n",
            "Граница верхнего уса:  36.0\n",
            "count   13564.00\n",
            "mean       20.02\n",
            "std        76.96\n",
            "min         1.00\n",
            "25%         1.00\n",
            "50%         4.00\n",
            "75%        15.00\n",
            "max      4817.00\n",
            "Name: calls_count, dtype: float64\n"
          ]
        },
        {
          "output_type": "display_data",
          "data": {
            "text/plain": [
              "<Figure size 720x504 with 1 Axes>"
            ],
            "image/png": "[encoded data removed]"
          },
          "metadata": {
            "needs_background": "light"
          }
        }
      ],
      "source": [
        "mybox(df.query('direction == \"out\" and is_missed_call == True')['calls_count'], 'calls_count')"
      ]
    },
    {
      "cell_type": "markdown",
      "metadata": {
        "id": "8d5sXZUs4dmr"
      },
      "source": [
        "Создадим функцию. Так же поясню, что исходящие пропущенные звонки будут отцениваться  0 , так как оператор не виноват что клиенты не взяли трубку."
      ]
    },
    {
      "cell_type": "code",
      "execution_count": 34,
      "metadata": {
        "id": "U5HSMcE-vdnQ"
      },
      "outputs": [],
      "source": [
        "def calls_count_score(row):\n",
        "  if row['direction'] == \"out\" and row['is_missed_call'] == False and 0 <= row['calls_count'] <= 3:\n",
        "    return 1\n",
        "  elif row['direction'] == \"out\" and row['is_missed_call'] == False and 3 < row['calls_count'] <= 9:\n",
        "    return 0.5\n",
        "  elif row['direction'] == \"out\" and row['is_missed_call'] == False and 9 < row['calls_count'] <= 24:\n",
        "    return 0.25\n",
        "  elif row['direction'] == \"out\" and row['is_missed_call'] == False and 24 < row['calls_count']:\n",
        "    return 0\n",
        "  else:\n",
        "    return 0"
      ]
    },
    {
      "cell_type": "code",
      "execution_count": 35,
      "metadata": {
        "id": "HhnpKgjz181Z"
      },
      "outputs": [],
      "source": [
        "df['calls_count_score'] = df.apply(calls_count_score, axis = 1)"
      ]
    },
    {
      "cell_type": "markdown",
      "metadata": {
        "id": "XlcaxYO8T_Kb"
      },
      "source": [
        "Мы отценили операторов по трем параметрам. теперь можем вывести общий бал."
      ]
    },
    {
      "cell_type": "code",
      "execution_count": 36,
      "metadata": {
        "id": "ARCZGyAi185i"
      },
      "outputs": [],
      "source": [
        "df['total_score'] = df['miss_score'] + df['wait_score'] + df['calls_count_score']"
      ]
    },
    {
      "cell_type": "code",
      "execution_count": 37,
      "metadata": {
        "colab": {
          "base_uri": "https://localhost:8080/",
          "height": 357
        },
        "id": "YPnCBljH8Bnp",
        "outputId": "38e5c8b2-0d17-40f5-c4a8-7ac6665cd170"
      },
      "outputs": [
        {
          "output_type": "execute_result",
          "data": {
            "text/plain": [
              "  user_id                      date direction internal  operator_id  \\\n",
              "0  166377 2019-08-04 00:00:00+03:00        in        0     69878.34   \n",
              "1  166377 2019-08-05 00:00:00+03:00       out        1    880022.00   \n",
              "2  166377 2019-08-05 00:00:00+03:00       out        1    880020.00   \n",
              "3  166377 2019-08-05 00:00:00+03:00       out        1    880020.00   \n",
              "4  166377 2019-08-05 00:00:00+03:00       out        0    880022.00   \n",
              "\n",
              "   is_missed_call  calls_count  call_duration  total_call_duration  \\\n",
              "0            True            2              0                    4   \n",
              "1            True            3              0                    5   \n",
              "2            True            1              0                    1   \n",
              "3           False            1             10                   18   \n",
              "4            True            3              0                   25   \n",
              "\n",
              "  tariff_plan date_start  day weekday  week  call_duration_min  \\\n",
              "0           B 2019-08-01    4  Sunday    31               0.00   \n",
              "1           B 2019-08-01    5  Monday    32               0.00   \n",
              "2           B 2019-08-01    5  Monday    32               0.00   \n",
              "3           B 2019-08-01    5  Monday    32               0.17   \n",
              "4           B 2019-08-01    5  Monday    32               0.00   \n",
              "\n",
              "   total_call_duration_min  wait  avr_wait  aver_call_duration  miss_score  \\\n",
              "0                     0.07     4      2.00                0.00        0.50   \n",
              "1                     0.08     5      1.67                0.00        0.00   \n",
              "2                     0.02     1      1.00                0.00        0.00   \n",
              "3                     0.30     8      8.00               10.00        0.00   \n",
              "4                     0.42    25      8.33                0.00        0.00   \n",
              "\n",
              "   wait_score  calls_count_score  total_score  \n",
              "0        0.00               0.00         0.50  \n",
              "1        0.00               0.00         0.00  \n",
              "2        0.00               0.00         0.00  \n",
              "3        0.00               1.00         1.00  \n",
              "4        0.00               0.00         0.00  "
            ],
            "text/html": [
              "\n",
              "  <div id=\"df-588c32a2-6a0e-46a7-8b21-bff808913eab\">\n",
              "    <div class=\"colab-df-container\">\n",
              "      <div>\n",
              "<style scoped>\n",
              "    .dataframe tbody tr th:only-of-type {\n",
              "        vertical-align: middle;\n",
              "    }\n",
              "\n",
              "    .dataframe tbody tr th {\n",
              "        vertical-align: top;\n",
              "    }\n",
              "\n",
              "    .dataframe thead th {\n",
              "        text-align: right;\n",
              "    }\n",
              "</style>\n",
              "<table border=\"1\" class=\"dataframe\">\n",
              "  <thead>\n",
              "    <tr style=\"text-align: right;\">\n",
              "      <th></th>\n",
              "      <th>user_id</th>\n",
              "      <th>date</th>\n",
              "      <th>direction</th>\n",
              "      <th>internal</th>\n",
              "      <th>operator_id</th>\n",
              "      <th>is_missed_call</th>\n",
              "      <th>calls_count</th>\n",
              "      <th>call_duration</th>\n",
              "      <th>total_call_duration</th>\n",
              "      <th>tariff_plan</th>\n",
              "      <th>date_start</th>\n",
              "      <th>day</th>\n",
              "      <th>weekday</th>\n",
              "      <th>week</th>\n",
              "      <th>call_duration_min</th>\n",
              "      <th>total_call_duration_min</th>\n",
              "      <th>wait</th>\n",
              "      <th>avr_wait</th>\n",
              "      <th>aver_call_duration</th>\n",
              "      <th>miss_score</th>\n",
              "      <th>wait_score</th>\n",
              "      <th>calls_count_score</th>\n",
              "      <th>total_score</th>\n",
              "    </tr>\n",
              "  </thead>\n",
              "  <tbody>\n",
              "    <tr>\n",
              "      <th>0</th>\n",
              "      <td>166377</td>\n",
              "      <td>2019-08-04 00:00:00+03:00</td>\n",
              "      <td>in</td>\n",
              "      <td>0</td>\n",
              "      <td>69878.34</td>\n",
              "      <td>True</td>\n",
              "      <td>2</td>\n",
              "      <td>0</td>\n",
              "      <td>4</td>\n",
              "      <td>B</td>\n",
              "      <td>2019-08-01</td>\n",
              "      <td>4</td>\n",
              "      <td>Sunday</td>\n",
              "      <td>31</td>\n",
              "      <td>0.00</td>\n",
              "      <td>0.07</td>\n",
              "      <td>4</td>\n",
              "      <td>2.00</td>\n",
              "      <td>0.00</td>\n",
              "      <td>0.50</td>\n",
              "      <td>0.00</td>\n",
              "      <td>0.00</td>\n",
              "      <td>0.50</td>\n",
              "    </tr>\n",
              "    <tr>\n",
              "      <th>1</th>\n",
              "      <td>166377</td>\n",
              "      <td>2019-08-05 00:00:00+03:00</td>\n",
              "      <td>out</td>\n",
              "      <td>1</td>\n",
              "      <td>880022.00</td>\n",
              "      <td>True</td>\n",
              "      <td>3</td>\n",
              "      <td>0</td>\n",
              "      <td>5</td>\n",
              "      <td>B</td>\n",
              "      <td>2019-08-01</td>\n",
              "      <td>5</td>\n",
              "      <td>Monday</td>\n",
              "      <td>32</td>\n",
              "      <td>0.00</td>\n",
              "      <td>0.08</td>\n",
              "      <td>5</td>\n",
              "      <td>1.67</td>\n",
              "      <td>0.00</td>\n",
              "      <td>0.00</td>\n",
              "      <td>0.00</td>\n",
              "      <td>0.00</td>\n",
              "      <td>0.00</td>\n",
              "    </tr>\n",
              "    <tr>\n",
              "      <th>2</th>\n",
              "      <td>166377</td>\n",
              "      <td>2019-08-05 00:00:00+03:00</td>\n",
              "      <td>out</td>\n",
              "      <td>1</td>\n",
              "      <td>880020.00</td>\n",
              "      <td>True</td>\n",
              "      <td>1</td>\n",
              "      <td>0</td>\n",
              "      <td>1</td>\n",
              "      <td>B</td>\n",
              "      <td>2019-08-01</td>\n",
              "      <td>5</td>\n",
              "      <td>Monday</td>\n",
              "      <td>32</td>\n",
              "      <td>0.00</td>\n",
              "      <td>0.02</td>\n",
              "      <td>1</td>\n",
              "      <td>1.00</td>\n",
              "      <td>0.00</td>\n",
              "      <td>0.00</td>\n",
              "      <td>0.00</td>\n",
              "      <td>0.00</td>\n",
              "      <td>0.00</td>\n",
              "    </tr>\n",
              "    <tr>\n",
              "      <th>3</th>\n",
              "      <td>166377</td>\n",
              "      <td>2019-08-05 00:00:00+03:00</td>\n",
              "      <td>out</td>\n",
              "      <td>1</td>\n",
              "      <td>880020.00</td>\n",
              "      <td>False</td>\n",
              "      <td>1</td>\n",
              "      <td>10</td>\n",
              "      <td>18</td>\n",
              "      <td>B</td>\n",
              "      <td>2019-08-01</td>\n",
              "      <td>5</td>\n",
              "      <td>Monday</td>\n",
              "      <td>32</td>\n",
              "      <td>0.17</td>\n",
              "      <td>0.30</td>\n",
              "      <td>8</td>\n",
              "      <td>8.00</td>\n",
              "      <td>10.00</td>\n",
              "      <td>0.00</td>\n",
              "      <td>0.00</td>\n",
              "      <td>1.00</td>\n",
              "      <td>1.00</td>\n",
              "    </tr>\n",
              "    <tr>\n",
              "      <th>4</th>\n",
              "      <td>166377</td>\n",
              "      <td>2019-08-05 00:00:00+03:00</td>\n",
              "      <td>out</td>\n",
              "      <td>0</td>\n",
              "      <td>880022.00</td>\n",
              "      <td>True</td>\n",
              "      <td>3</td>\n",
              "      <td>0</td>\n",
              "      <td>25</td>\n",
              "      <td>B</td>\n",
              "      <td>2019-08-01</td>\n",
              "      <td>5</td>\n",
              "      <td>Monday</td>\n",
              "      <td>32</td>\n",
              "      <td>0.00</td>\n",
              "      <td>0.42</td>\n",
              "      <td>25</td>\n",
              "      <td>8.33</td>\n",
              "      <td>0.00</td>\n",
              "      <td>0.00</td>\n",
              "      <td>0.00</td>\n",
              "      <td>0.00</td>\n",
              "      <td>0.00</td>\n",
              "    </tr>\n",
              "  </tbody>\n",
              "</table>\n",
              "</div>\n",
              "      <button class=\"colab-df-convert\" onclick=\"convertToInteractive('df-588c32a2-6a0e-46a7-8b21-bff808913eab')\"\n",
              "              title=\"Convert this dataframe to an interactive table.\"\n",
              "              style=\"display:none;\">\n",
              "        \n",
              "  <svg xmlns=\"http://www.w3.org/2000/svg\" height=\"24px\"viewBox=\"0 0 24 24\"\n",
              "       width=\"24px\">\n",
              "    <path d=\"M0 0h24v24H0V0z\" fill=\"none\"/>\n",
              "    <path d=\"M18.56 5.44l.94 2.06.94-2.06 2.06-.94-2.06-.94-.94-2.06-.94 2.06-2.06.94zm-11 1L8.5 8.5l.94-2.06 2.06-.94-2.06-.94L8.5 2.5l-.94 2.06-2.06.94zm10 10l.94 2.06.94-2.06 2.06-.94-2.06-.94-.94-2.06-.94 2.06-2.06.94z\"/><path d=\"M17.41 7.96l-1.37-1.37c-.4-.4-.92-.59-1.43-.59-.52 0-1.04.2-1.43.59L10.3 9.45l-7.72 7.72c-.78.78-.78 2.05 0 2.83L4 21.41c.39.39.9.59 1.41.59.51 0 1.02-.2 1.41-.59l7.78-7.78 2.81-2.81c.8-.78.8-2.07 0-2.86zM5.41 20L4 18.59l7.72-7.72 1.47 1.35L5.41 20z\"/>\n",
              "  </svg>\n",
              "      </button>\n",
              "      \n",
              "  <style>\n",
              "    .colab-df-container {\n",
              "      display:flex;\n",
              "      flex-wrap:wrap;\n",
              "      gap: 12px;\n",
              "    }\n",
              "\n",
              "    .colab-df-convert {\n",
              "      background-color: #E8F0FE;\n",
              "      border: none;\n",
              "      border-radius: 50%;\n",
              "      cursor: pointer;\n",
              "      display: none;\n",
              "      fill: #1967D2;\n",
              "      height: 32px;\n",
              "      padding: 0 0 0 0;\n",
              "      width: 32px;\n",
              "    }\n",
              "\n",
              "    .colab-df-convert:hover {\n",
              "      background-color: #E2EBFA;\n",
              "      box-shadow: 0px 1px 2px rgba(60, 64, 67, 0.3), 0px 1px 3px 1px rgba(60, 64, 67, 0.15);\n",
              "      fill: #174EA6;\n",
              "    }\n",
              "\n",
              "    [theme=dark] .colab-df-convert {\n",
              "      background-color: #3B4455;\n",
              "      fill: #D2E3FC;\n",
              "    }\n",
              "\n",
              "    [theme=dark] .colab-df-convert:hover {\n",
              "      background-color: #434B5C;\n",
              "      box-shadow: 0px 1px 3px 1px rgba(0, 0, 0, 0.15);\n",
              "      filter: drop-shadow(0px 1px 2px rgba(0, 0, 0, 0.3));\n",
              "      fill: #FFFFFF;\n",
              "    }\n",
              "  </style>\n",
              "\n",
              "      <script>\n",
              "        const buttonEl =\n",
              "          document.querySelector('#df-588c32a2-6a0e-46a7-8b21-bff808913eab button.colab-df-convert');\n",
              "        buttonEl.style.display =\n",
              "          google.colab.kernel.accessAllowed ? 'block' : 'none';\n",
              "\n",
              "        async function convertToInteractive(key) {\n",
              "          const element = document.querySelector('#df-588c32a2-6a0e-46a7-8b21-bff808913eab');\n",
              "          const dataTable =\n",
              "            await google.colab.kernel.invokeFunction('convertToInteractive',\n",
              "                                                     [key], {});\n",
              "          if (!dataTable) return;\n",
              "\n",
              "          const docLinkHtml = 'Like what you see? Visit the ' +\n",
              "            '<a target=\"_blank\" href=https://colab.research.google.com/notebooks/data_table.ipynb>data table notebook</a>'\n",
              "            + ' to learn more about interactive tables.';\n",
              "          element.innerHTML = '';\n",
              "          dataTable['output_type'] = 'display_data';\n",
              "          await google.colab.output.renderOutput(dataTable, element);\n",
              "          const docLink = document.createElement('div');\n",
              "          docLink.innerHTML = docLinkHtml;\n",
              "          element.appendChild(docLink);\n",
              "        }\n",
              "      </script>\n",
              "    </div>\n",
              "  </div>\n",
              "  "
            ]
          },
          "metadata": {},
          "execution_count": 37
        }
      ],
      "source": [
        "df.head()"
      ]
    },
    {
      "cell_type": "markdown",
      "metadata": {
        "id": "iAURgvaLdOWn"
      },
      "source": [
        "Посмотрим на распределение оценок для входящих и исходящих вызовов."
      ]
    },
    {
      "cell_type": "code",
      "execution_count": 38,
      "metadata": {
        "colab": {
          "base_uri": "https://localhost:8080/",
          "height": 627
        },
        "id": "WLii7C8tumSg",
        "outputId": "6e0bf0d8-0706-4575-8a55-c669f2ea3832"
      },
      "outputs": [
        {
          "output_type": "display_data",
          "data": {
            "text/plain": [
              "<Figure size 1224x720 with 1 Axes>"
            ],
            "image/png": "[encoded data removed]"
          },
          "metadata": {
            "needs_background": "light"
          }
        }
      ],
      "source": [
        "plt.figure(figsize=(17, 10))\n",
        "ax = sns.histplot(df, x='total_score', hue='direction', kde=False, palette=\"vlag\", multiple='dodge')\n",
        "ax.axes.set_title(\"Распределение скоринга за неэффективность для входящих и исходящих вызовов\", fontsize=16)\n",
        "ax.set_xlabel(\"скоринг\", fontsize=14)\n",
        "ax.set_ylabel(\"количество значений\", fontsize=14)\n",
        "#ax.set_yscale('log')\n",
        "plt.show()"
      ]
    },
    {
      "cell_type": "markdown",
      "metadata": {
        "id": "uefMquubhGB3"
      },
      "source": [
        "Тут стоит заметь. что сравнивать скоринг по входящим и исходящим не корректно и стоит рассматривать отдельно. Так как для входящих звонков для оценки мы ипользовали сумму двух покателей, а для оценки исходящих только одного покателя.  Это значит, что оценивать наших операторов нужно отдельно по исходящим и входящим звонкам. "
      ]
    },
    {
      "cell_type": "markdown",
      "metadata": {
        "id": "bEGGbKmyk0Gg"
      },
      "source": [
        "Посмотрим на корреляцию значений скоринга по ожиданию на все остальные значения"
      ]
    },
    {
      "cell_type": "code",
      "execution_count": 39,
      "metadata": {
        "colab": {
          "base_uri": "https://localhost:8080/",
          "height": 596
        },
        "id": "pII5Uw97JJuU",
        "outputId": "e2510f2f-5433-4498-e311-3f3691565dc5"
      },
      "outputs": [
        {
          "output_type": "display_data",
          "data": {
            "text/plain": [
              "<Figure size 1224x720 with 2 Axes>"
            ],
            "image/png": "[encoded data removed]"
          },
          "metadata": {
            "needs_background": "light"
          }
        }
      ],
      "source": [
        "plt.figure(figsize=(17, 10))\n",
        "Var_Corr = df.corr()\n",
        "sns.heatmap(Var_Corr[['wait_score']],annot=True)\n",
        "plt.show()"
      ]
    },
    {
      "cell_type": "markdown",
      "metadata": {
        "id": "WDnHnEk0lLQR"
      },
      "source": [
        "Значимой корреляции не наблюдаем.  В данной таблице нет значений тарифного плана. Посмотрим на них отдельно."
      ]
    },
    {
      "cell_type": "code",
      "execution_count": 40,
      "metadata": {
        "colab": {
          "base_uri": "https://localhost:8080/",
          "height": 627
        },
        "id": "1086su9Nj5xZ",
        "outputId": "1cd8dcba-800c-419d-b25f-769be84d4653"
      },
      "outputs": [
        {
          "output_type": "display_data",
          "data": {
            "text/plain": [
              "<Figure size 1224x720 with 1 Axes>"
            ],
            "image/png": "[encoded data removed]"
          },
          "metadata": {
            "needs_background": "light"
          }
        }
      ],
      "source": [
        "\n",
        "plt.figure(figsize=(17, 10))\n",
        "ax = sns.histplot(df, x='tariff_plan', hue='wait_score', shrink=0.7, palette=\"vlag\",  multiple=\"stack\")\n",
        "\n",
        "ax.axes.set_title(\"Распределение значений wait_score по тарифным планам\", fontsize=16)\n",
        "ax.set_xlabel(\"тарифный план\", fontsize=14)\n",
        "ax.set_ylabel(\"количество значений\", fontsize=14)\n",
        "plt.show()"
      ]
    },
    {
      "cell_type": "markdown",
      "metadata": {
        "id": "4sS7P7rvkr8E"
      },
      "source": [
        "Нас интересует соотношение размера скоринга в каждом тарифе. Соотношение в тарифах А и В приблизительно одинаковое. В тарифе С видим увеличенную долю скоринга 0,5. Исходя из этого можно предположить что значения ожидания в тарифном плане С отличаеться от А и В. "
      ]
    },
    {
      "cell_type": "markdown",
      "metadata": {
        "id": "qSXr6I3RmilN"
      },
      "source": [
        "### Вывод"
      ]
    },
    {
      "cell_type": "markdown",
      "metadata": {
        "id": "7HYwN6IjmnSE"
      },
      "source": [
        "Мы проанализировали наши данные. Показали, что 88 % колл-центров было бы интересно знать эффективность своих операторов. Вычислили новые показатели ожидания и продолжительности звонка. Увидели уменьшение количества звонков в выходные дни. Разработали и применили алгоритм опредления эффективности операторов. Благодаря алгоритму клиент сам может решить какой уровень скоринга для него приемлем и отследить его в течение всего времени. Так же при необходимости можно не учитывать один из признаков или добавить новый. Так же мы нашли предположительную взаимосвязь тарифного плана с временем ожидания. предлагаю проверить эту гипотезу."
      ]
    },
    {
      "cell_type": "markdown",
      "metadata": {
        "id": "hbAC4SHeN_Co"
      },
      "source": [
        "## <div class=\"alert alert-info\"> Разделим колл-центры на ктегории - входящие/исходящие/мультифункциональные. Посмотрим есть ли в них отличия по эффективности или другие инсайты</div>"
      ]
    },
    {
      "cell_type": "markdown",
      "metadata": {
        "id": "ic5usJ_hN_Co"
      },
      "source": [
        "Для категоризации клиентов сгруппируем данные по направлению звонков. Так же при группировке будем учитывать только те звонки на которые ответили."
      ]
    },
    {
      "cell_type": "code",
      "execution_count": 41,
      "metadata": {
        "id": "EPxhyowWN_Co"
      },
      "outputs": [],
      "source": [
        "df_group_dir = df.query('call_duration != 0').pivot_table(index = ['user_id'], columns =['direction'], values = ['calls_count'], aggfunc = (sum)).fillna(0).reset_index()\n",
        "df_group_dir.columns = ['user_id', 'in', 'out']\n"
      ]
    },
    {
      "cell_type": "code",
      "execution_count": 42,
      "metadata": {
        "colab": {
          "base_uri": "https://localhost:8080/",
          "height": 424
        },
        "id": "CtFgsRPFN_Co",
        "outputId": "8ea12dfa-57fe-463e-b73c-3e84c51eb6eb"
      },
      "outputs": [
        {
          "output_type": "execute_result",
          "data": {
            "text/plain": [
              "    user_id    in   out\n",
              "0    166377   102  3167\n",
              "1    166391     6     0\n",
              "2    166392   102     0\n",
              "3    166399    13     0\n",
              "4    166405  2177  6461\n",
              "..      ...   ...   ...\n",
              "302  168583    22     0\n",
              "303  168598    21     0\n",
              "304  168601    79   340\n",
              "305  168603     0    10\n",
              "306  168606     2    12\n",
              "\n",
              "[307 rows x 3 columns]"
            ],
            "text/html": [
              "\n",
              "  <div id=\"df-fec4fe7b-5c34-436d-8814-c7e3a3c25216\">\n",
              "    <div class=\"colab-df-container\">\n",
              "      <div>\n",
              "<style scoped>\n",
              "    .dataframe tbody tr th:only-of-type {\n",
              "        vertical-align: middle;\n",
              "    }\n",
              "\n",
              "    .dataframe tbody tr th {\n",
              "        vertical-align: top;\n",
              "    }\n",
              "\n",
              "    .dataframe thead th {\n",
              "        text-align: right;\n",
              "    }\n",
              "</style>\n",
              "<table border=\"1\" class=\"dataframe\">\n",
              "  <thead>\n",
              "    <tr style=\"text-align: right;\">\n",
              "      <th></th>\n",
              "      <th>user_id</th>\n",
              "      <th>in</th>\n",
              "      <th>out</th>\n",
              "    </tr>\n",
              "  </thead>\n",
              "  <tbody>\n",
              "    <tr>\n",
              "      <th>0</th>\n",
              "      <td>166377</td>\n",
              "      <td>102</td>\n",
              "      <td>3167</td>\n",
              "    </tr>\n",
              "    <tr>\n",
              "      <th>1</th>\n",
              "      <td>166391</td>\n",
              "      <td>6</td>\n",
              "      <td>0</td>\n",
              "    </tr>\n",
              "    <tr>\n",
              "      <th>2</th>\n",
              "      <td>166392</td>\n",
              "      <td>102</td>\n",
              "      <td>0</td>\n",
              "    </tr>\n",
              "    <tr>\n",
              "      <th>3</th>\n",
              "      <td>166399</td>\n",
              "      <td>13</td>\n",
              "      <td>0</td>\n",
              "    </tr>\n",
              "    <tr>\n",
              "      <th>4</th>\n",
              "      <td>166405</td>\n",
              "      <td>2177</td>\n",
              "      <td>6461</td>\n",
              "    </tr>\n",
              "    <tr>\n",
              "      <th>...</th>\n",
              "      <td>...</td>\n",
              "      <td>...</td>\n",
              "      <td>...</td>\n",
              "    </tr>\n",
              "    <tr>\n",
              "      <th>302</th>\n",
              "      <td>168583</td>\n",
              "      <td>22</td>\n",
              "      <td>0</td>\n",
              "    </tr>\n",
              "    <tr>\n",
              "      <th>303</th>\n",
              "      <td>168598</td>\n",
              "      <td>21</td>\n",
              "      <td>0</td>\n",
              "    </tr>\n",
              "    <tr>\n",
              "      <th>304</th>\n",
              "      <td>168601</td>\n",
              "      <td>79</td>\n",
              "      <td>340</td>\n",
              "    </tr>\n",
              "    <tr>\n",
              "      <th>305</th>\n",
              "      <td>168603</td>\n",
              "      <td>0</td>\n",
              "      <td>10</td>\n",
              "    </tr>\n",
              "    <tr>\n",
              "      <th>306</th>\n",
              "      <td>168606</td>\n",
              "      <td>2</td>\n",
              "      <td>12</td>\n",
              "    </tr>\n",
              "  </tbody>\n",
              "</table>\n",
              "<p>307 rows × 3 columns</p>\n",
              "</div>\n",
              "      <button class=\"colab-df-convert\" onclick=\"convertToInteractive('df-fec4fe7b-5c34-436d-8814-c7e3a3c25216')\"\n",
              "              title=\"Convert this dataframe to an interactive table.\"\n",
              "              style=\"display:none;\">\n",
              "        \n",
              "  <svg xmlns=\"http://www.w3.org/2000/svg\" height=\"24px\"viewBox=\"0 0 24 24\"\n",
              "       width=\"24px\">\n",
              "    <path d=\"M0 0h24v24H0V0z\" fill=\"none\"/>\n",
              "    <path d=\"M18.56 5.44l.94 2.06.94-2.06 2.06-.94-2.06-.94-.94-2.06-.94 2.06-2.06.94zm-11 1L8.5 8.5l.94-2.06 2.06-.94-2.06-.94L8.5 2.5l-.94 2.06-2.06.94zm10 10l.94 2.06.94-2.06 2.06-.94-2.06-.94-.94-2.06-.94 2.06-2.06.94z\"/><path d=\"M17.41 7.96l-1.37-1.37c-.4-.4-.92-.59-1.43-.59-.52 0-1.04.2-1.43.59L10.3 9.45l-7.72 7.72c-.78.78-.78 2.05 0 2.83L4 21.41c.39.39.9.59 1.41.59.51 0 1.02-.2 1.41-.59l7.78-7.78 2.81-2.81c.8-.78.8-2.07 0-2.86zM5.41 20L4 18.59l7.72-7.72 1.47 1.35L5.41 20z\"/>\n",
              "  </svg>\n",
              "      </button>\n",
              "      \n",
              "  <style>\n",
              "    .colab-df-container {\n",
              "      display:flex;\n",
              "      flex-wrap:wrap;\n",
              "      gap: 12px;\n",
              "    }\n",
              "\n",
              "    .colab-df-convert {\n",
              "      background-color: #E8F0FE;\n",
              "      border: none;\n",
              "      border-radius: 50%;\n",
              "      cursor: pointer;\n",
              "      display: none;\n",
              "      fill: #1967D2;\n",
              "      height: 32px;\n",
              "      padding: 0 0 0 0;\n",
              "      width: 32px;\n",
              "    }\n",
              "\n",
              "    .colab-df-convert:hover {\n",
              "      background-color: #E2EBFA;\n",
              "      box-shadow: 0px 1px 2px rgba(60, 64, 67, 0.3), 0px 1px 3px 1px rgba(60, 64, 67, 0.15);\n",
              "      fill: #174EA6;\n",
              "    }\n",
              "\n",
              "    [theme=dark] .colab-df-convert {\n",
              "      background-color: #3B4455;\n",
              "      fill: #D2E3FC;\n",
              "    }\n",
              "\n",
              "    [theme=dark] .colab-df-convert:hover {\n",
              "      background-color: #434B5C;\n",
              "      box-shadow: 0px 1px 3px 1px rgba(0, 0, 0, 0.15);\n",
              "      filter: drop-shadow(0px 1px 2px rgba(0, 0, 0, 0.3));\n",
              "      fill: #FFFFFF;\n",
              "    }\n",
              "  </style>\n",
              "\n",
              "      <script>\n",
              "        const buttonEl =\n",
              "          document.querySelector('#df-fec4fe7b-5c34-436d-8814-c7e3a3c25216 button.colab-df-convert');\n",
              "        buttonEl.style.display =\n",
              "          google.colab.kernel.accessAllowed ? 'block' : 'none';\n",
              "\n",
              "        async function convertToInteractive(key) {\n",
              "          const element = document.querySelector('#df-fec4fe7b-5c34-436d-8814-c7e3a3c25216');\n",
              "          const dataTable =\n",
              "            await google.colab.kernel.invokeFunction('convertToInteractive',\n",
              "                                                     [key], {});\n",
              "          if (!dataTable) return;\n",
              "\n",
              "          const docLinkHtml = 'Like what you see? Visit the ' +\n",
              "            '<a target=\"_blank\" href=https://colab.research.google.com/notebooks/data_table.ipynb>data table notebook</a>'\n",
              "            + ' to learn more about interactive tables.';\n",
              "          element.innerHTML = '';\n",
              "          dataTable['output_type'] = 'display_data';\n",
              "          await google.colab.output.renderOutput(dataTable, element);\n",
              "          const docLink = document.createElement('div');\n",
              "          docLink.innerHTML = docLinkHtml;\n",
              "          element.appendChild(docLink);\n",
              "        }\n",
              "      </script>\n",
              "    </div>\n",
              "  </div>\n",
              "  "
            ]
          },
          "metadata": {},
          "execution_count": 42
        }
      ],
      "source": [
        "df_group_dir\n"
      ]
    },
    {
      "cell_type": "markdown",
      "metadata": {
        "id": "wwxO_P6VN_Cp"
      },
      "source": [
        "Создадим функцию для присвоения определенной категории колл-центру. Предлагаю распределять клиентов следующим образом. Если есть хоть один входящий и исходящий категория <b>in_out</b>, если нет входящих, то <b>out</b>, если нет исходящих то <b>in</b>. "
      ]
    },
    {
      "cell_type": "code",
      "execution_count": 43,
      "metadata": {
        "id": "3DCgA8Y2N_Cp"
      },
      "outputs": [],
      "source": [
        "def group_dir(row):\n",
        "    if (row['in'] !=0) & (row['out'] !=0):\n",
        "        return 'in_out'\n",
        "    elif (row['in'] != 0) & (row['out'] == 0):\n",
        "         return 'in'\n",
        "    elif (row['in'] == 0) & (row['out'] != 0):\n",
        "        return 'out'\n",
        "    else:\n",
        "        return 'проверить'"
      ]
    },
    {
      "cell_type": "markdown",
      "metadata": {
        "id": "gT9zq0ccN_Cp"
      },
      "source": [
        "Посмотрим на распределение категорий"
      ]
    },
    {
      "cell_type": "code",
      "execution_count": 44,
      "metadata": {
        "colab": {
          "base_uri": "https://localhost:8080/"
        },
        "id": "GrYp15WJN_Cp",
        "outputId": "d8f9df60-52d9-402b-a3e1-fe5f0cb83c13"
      },
      "outputs": [
        {
          "output_type": "execute_result",
          "data": {
            "text/plain": [
              "in_out       197\n",
              "in            76\n",
              "проверить     20\n",
              "out           14\n",
              "Name: direction_group, dtype: int64"
            ]
          },
          "metadata": {},
          "execution_count": 44
        }
      ],
      "source": [
        "df_group_dir['direction_group'] = df_group_dir.apply(group_dir, axis =1)\n",
        "df_group_dir['direction_group'].value_counts()"
      ]
    },
    {
      "cell_type": "markdown",
      "metadata": {
        "id": "9wjd3rOXN_Cp"
      },
      "source": [
        "Присоединем полученные данные к основной таблице."
      ]
    },
    {
      "cell_type": "code",
      "execution_count": 45,
      "metadata": {
        "colab": {
          "base_uri": "https://localhost:8080/",
          "height": 424
        },
        "id": "w_itPB-MN_Cp",
        "outputId": "d65076f2-0eb5-43d5-bdc7-8068821d930e"
      },
      "outputs": [
        {
          "output_type": "execute_result",
          "data": {
            "text/plain": [
              "    user_id direction_group\n",
              "0    166377          in_out\n",
              "1    166391              in\n",
              "2    166392              in\n",
              "3    166399              in\n",
              "4    166405          in_out\n",
              "..      ...             ...\n",
              "302  168583              in\n",
              "303  168598              in\n",
              "304  168601          in_out\n",
              "305  168603             out\n",
              "306  168606          in_out\n",
              "\n",
              "[307 rows x 2 columns]"
            ],
            "text/html": [
              "\n",
              "  <div id=\"df-4942ddec-160a-454a-a4a7-057fbebe4d38\">\n",
              "    <div class=\"colab-df-container\">\n",
              "      <div>\n",
              "<style scoped>\n",
              "    .dataframe tbody tr th:only-of-type {\n",
              "        vertical-align: middle;\n",
              "    }\n",
              "\n",
              "    .dataframe tbody tr th {\n",
              "        vertical-align: top;\n",
              "    }\n",
              "\n",
              "    .dataframe thead th {\n",
              "        text-align: right;\n",
              "    }\n",
              "</style>\n",
              "<table border=\"1\" class=\"dataframe\">\n",
              "  <thead>\n",
              "    <tr style=\"text-align: right;\">\n",
              "      <th></th>\n",
              "      <th>user_id</th>\n",
              "      <th>direction_group</th>\n",
              "    </tr>\n",
              "  </thead>\n",
              "  <tbody>\n",
              "    <tr>\n",
              "      <th>0</th>\n",
              "      <td>166377</td>\n",
              "      <td>in_out</td>\n",
              "    </tr>\n",
              "    <tr>\n",
              "      <th>1</th>\n",
              "      <td>166391</td>\n",
              "      <td>in</td>\n",
              "    </tr>\n",
              "    <tr>\n",
              "      <th>2</th>\n",
              "      <td>166392</td>\n",
              "      <td>in</td>\n",
              "    </tr>\n",
              "    <tr>\n",
              "      <th>3</th>\n",
              "      <td>166399</td>\n",
              "      <td>in</td>\n",
              "    </tr>\n",
              "    <tr>\n",
              "      <th>4</th>\n",
              "      <td>166405</td>\n",
              "      <td>in_out</td>\n",
              "    </tr>\n",
              "    <tr>\n",
              "      <th>...</th>\n",
              "      <td>...</td>\n",
              "      <td>...</td>\n",
              "    </tr>\n",
              "    <tr>\n",
              "      <th>302</th>\n",
              "      <td>168583</td>\n",
              "      <td>in</td>\n",
              "    </tr>\n",
              "    <tr>\n",
              "      <th>303</th>\n",
              "      <td>168598</td>\n",
              "      <td>in</td>\n",
              "    </tr>\n",
              "    <tr>\n",
              "      <th>304</th>\n",
              "      <td>168601</td>\n",
              "      <td>in_out</td>\n",
              "    </tr>\n",
              "    <tr>\n",
              "      <th>305</th>\n",
              "      <td>168603</td>\n",
              "      <td>out</td>\n",
              "    </tr>\n",
              "    <tr>\n",
              "      <th>306</th>\n",
              "      <td>168606</td>\n",
              "      <td>in_out</td>\n",
              "    </tr>\n",
              "  </tbody>\n",
              "</table>\n",
              "<p>307 rows × 2 columns</p>\n",
              "</div>\n",
              "      <button class=\"colab-df-convert\" onclick=\"convertToInteractive('df-4942ddec-160a-454a-a4a7-057fbebe4d38')\"\n",
              "              title=\"Convert this dataframe to an interactive table.\"\n",
              "              style=\"display:none;\">\n",
              "        \n",
              "  <svg xmlns=\"http://www.w3.org/2000/svg\" height=\"24px\"viewBox=\"0 0 24 24\"\n",
              "       width=\"24px\">\n",
              "    <path d=\"M0 0h24v24H0V0z\" fill=\"none\"/>\n",
              "    <path d=\"M18.56 5.44l.94 2.06.94-2.06 2.06-.94-2.06-.94-.94-2.06-.94 2.06-2.06.94zm-11 1L8.5 8.5l.94-2.06 2.06-.94-2.06-.94L8.5 2.5l-.94 2.06-2.06.94zm10 10l.94 2.06.94-2.06 2.06-.94-2.06-.94-.94-2.06-.94 2.06-2.06.94z\"/><path d=\"M17.41 7.96l-1.37-1.37c-.4-.4-.92-.59-1.43-.59-.52 0-1.04.2-1.43.59L10.3 9.45l-7.72 7.72c-.78.78-.78 2.05 0 2.83L4 21.41c.39.39.9.59 1.41.59.51 0 1.02-.2 1.41-.59l7.78-7.78 2.81-2.81c.8-.78.8-2.07 0-2.86zM5.41 20L4 18.59l7.72-7.72 1.47 1.35L5.41 20z\"/>\n",
              "  </svg>\n",
              "      </button>\n",
              "      \n",
              "  <style>\n",
              "    .colab-df-container {\n",
              "      display:flex;\n",
              "      flex-wrap:wrap;\n",
              "      gap: 12px;\n",
              "    }\n",
              "\n",
              "    .colab-df-convert {\n",
              "      background-color: #E8F0FE;\n",
              "      border: none;\n",
              "      border-radius: 50%;\n",
              "      cursor: pointer;\n",
              "      display: none;\n",
              "      fill: #1967D2;\n",
              "      height: 32px;\n",
              "      padding: 0 0 0 0;\n",
              "      width: 32px;\n",
              "    }\n",
              "\n",
              "    .colab-df-convert:hover {\n",
              "      background-color: #E2EBFA;\n",
              "      box-shadow: 0px 1px 2px rgba(60, 64, 67, 0.3), 0px 1px 3px 1px rgba(60, 64, 67, 0.15);\n",
              "      fill: #174EA6;\n",
              "    }\n",
              "\n",
              "    [theme=dark] .colab-df-convert {\n",
              "      background-color: #3B4455;\n",
              "      fill: #D2E3FC;\n",
              "    }\n",
              "\n",
              "    [theme=dark] .colab-df-convert:hover {\n",
              "      background-color: #434B5C;\n",
              "      box-shadow: 0px 1px 3px 1px rgba(0, 0, 0, 0.15);\n",
              "      filter: drop-shadow(0px 1px 2px rgba(0, 0, 0, 0.3));\n",
              "      fill: #FFFFFF;\n",
              "    }\n",
              "  </style>\n",
              "\n",
              "      <script>\n",
              "        const buttonEl =\n",
              "          document.querySelector('#df-4942ddec-160a-454a-a4a7-057fbebe4d38 button.colab-df-convert');\n",
              "        buttonEl.style.display =\n",
              "          google.colab.kernel.accessAllowed ? 'block' : 'none';\n",
              "\n",
              "        async function convertToInteractive(key) {\n",
              "          const element = document.querySelector('#df-4942ddec-160a-454a-a4a7-057fbebe4d38');\n",
              "          const dataTable =\n",
              "            await google.colab.kernel.invokeFunction('convertToInteractive',\n",
              "                                                     [key], {});\n",
              "          if (!dataTable) return;\n",
              "\n",
              "          const docLinkHtml = 'Like what you see? Visit the ' +\n",
              "            '<a target=\"_blank\" href=https://colab.research.google.com/notebooks/data_table.ipynb>data table notebook</a>'\n",
              "            + ' to learn more about interactive tables.';\n",
              "          element.innerHTML = '';\n",
              "          dataTable['output_type'] = 'display_data';\n",
              "          await google.colab.output.renderOutput(dataTable, element);\n",
              "          const docLink = document.createElement('div');\n",
              "          docLink.innerHTML = docLinkHtml;\n",
              "          element.appendChild(docLink);\n",
              "        }\n",
              "      </script>\n",
              "    </div>\n",
              "  </div>\n",
              "  "
            ]
          },
          "metadata": {},
          "execution_count": 45
        }
      ],
      "source": [
        "t = df_group_dir[['user_id', 'direction_group']]\n",
        "t"
      ]
    },
    {
      "cell_type": "code",
      "execution_count": 46,
      "metadata": {
        "id": "OMxepJA7N_Cp"
      },
      "outputs": [],
      "source": [
        "df = df.merge(t, on = 'user_id')"
      ]
    },
    {
      "cell_type": "markdown",
      "metadata": {
        "id": "RyPc4imTN_Cp"
      },
      "source": [
        "Сгруппируем данные для определения зависимости между новыми категориями и скорингом. Так же нам надо помнить и учеть особенность скоринг при определении не эффективности для входящих звонков использовали 2 показателя а для исходящих 1 показатель. Поэтому не корректно будет сравнивать категории по Total_score. Предлагаю сравнить вычисленные нами miss_score, wait_score, calls_count_score по доле максимально не эффектиных операторов, т.е получивших 1 балл."
      ]
    },
    {
      "cell_type": "code",
      "execution_count": 47,
      "metadata": {
        "id": "aANm0CW4N_Cp"
      },
      "outputs": [],
      "source": [
        "t1 = df[df['miss_score'] == 1]['direction_group'].value_counts()\n",
        "t11 = df['direction_group'].value_counts()\n",
        "t_1 = t1/t11\n"
      ]
    },
    {
      "cell_type": "code",
      "execution_count": 48,
      "metadata": {
        "id": "bFCHXKn-N_Cp"
      },
      "outputs": [],
      "source": [
        "t2 = df[df['wait_score'] == 1]['direction_group'].value_counts()\n",
        "t11 = df['direction_group'].value_counts()\n",
        "t_2 = t2/t11\n"
      ]
    },
    {
      "cell_type": "code",
      "execution_count": 49,
      "metadata": {
        "id": "_jCxp4jHN_Cp"
      },
      "outputs": [],
      "source": [
        "t3 = df[df['calls_count_score'] == 1]['direction_group'].value_counts()\n",
        "t11 = df['direction_group'].value_counts()\n",
        "t_3 = t3/t11\n"
      ]
    },
    {
      "cell_type": "code",
      "execution_count": 50,
      "metadata": {
        "colab": {
          "base_uri": "https://localhost:8080/",
          "height": 724
        },
        "id": "Hrz6UpQAN_Cq",
        "outputId": "2206d7bf-08b9-4ab3-9d56-103be3a3ae0e"
      },
      "outputs": [
        {
          "output_type": "stream",
          "name": "stdout",
          "text": [
            "                   in_out   in  out  проверить\n",
            "miss_score           0.04 0.05 0.05       0.09\n",
            "wait_score           0.10 0.29 0.02       0.00\n",
            "calls_count_score    0.13 0.00 0.05       0.00\n"
          ]
        },
        {
          "output_type": "display_data",
          "data": {
            "text/plain": [
              "<Figure size 1224x720 with 1 Axes>"
            ],
            "image/png": "[encoded data removed]"
          },
          "metadata": {
            "needs_background": "light"
          }
        }
      ],
      "source": [
        "t = [t_1[0:], t_2[0:], t_3[0:]]\n",
        "x = pd.DataFrame(t).fillna(0)\n",
        "x.index = ['miss_score','wait_score','calls_count_score']\n",
        "print(x)\n",
        "\n",
        "x.plot(kind='bar',figsize=(17, 10))\n",
        "plt.xticks(rotation = 45)\n",
        "plt.show()"
      ]
    },
    {
      "cell_type": "markdown",
      "metadata": {
        "id": "IZcbWbc1N_Cq"
      },
      "source": [
        "Из рисунка видим, что значительная часть, 29% , всех самых не эффективных по ожиданию  операторов из колл-центров с категорией in. Это те колл-центры которым пригодится наша услуга в первую очередь. Опредделим кому конкретно можно предложить эту услугу."
      ]
    },
    {
      "cell_type": "markdown",
      "metadata": {
        "id": "KDozpwGyN_Cq"
      },
      "source": [
        "## <div class=\"alert alert-info\"> Определим к каким клиентам нам стоит идти в-первую очередь, чтобы презентовать новую фичу для клиентов</div>"
      ]
    },
    {
      "cell_type": "markdown",
      "metadata": {
        "id": "Y_kF7Ls7N_Cq"
      },
      "source": [
        "Очевидный ответ на вопрос: \"к кому нам стоит идти в первую очередь, чтобы презетовать услугу\" - это к клиентам имеющим самую большую долю не эффективных операторов за все время наблюдений. Будем рассматривать только колл-центры с категорией in, так у них больше всего проблемных операторов. "
      ]
    },
    {
      "cell_type": "code",
      "execution_count": 51,
      "metadata": {
        "id": "5xiGHz57N_Cq"
      },
      "outputs": [],
      "source": [
        "df_first = df.query('direction_group == \"in\"').pivot_table(index=['user_id','operator_id'], values='total_score', aggfunc=['count', 'mean']).reset_index()\n",
        "df_first.columns = ['user_id', 'operator_id', 'total_score_count','total_score_mean']"
      ]
    },
    {
      "cell_type": "markdown",
      "metadata": {
        "id": "Du2IdB5rN_Cq"
      },
      "source": [
        "Присвоим всем оператором имеющим средний балл юольше или равно 1 метку 1, если меньше то 0."
      ]
    },
    {
      "cell_type": "code",
      "execution_count": 52,
      "metadata": {
        "id": "OHXI-IlfN_Cq"
      },
      "outputs": [],
      "source": [
        "def bad_operator(row):\n",
        "    if row['total_score_mean'] >= 1:\n",
        "        return 1\n",
        "    else:\n",
        "        return 0"
      ]
    },
    {
      "cell_type": "code",
      "execution_count": 53,
      "metadata": {
        "colab": {
          "base_uri": "https://localhost:8080/",
          "height": 424
        },
        "id": "sQFiZ-mdN_Cq",
        "outputId": "7aed6292-2313-4766-b763-98f8325743af"
      },
      "outputs": [
        {
          "output_type": "execute_result",
          "data": {
            "text/plain": [
              "       user_id  operator_id  total_score_count  total_score_mean  flag\n",
              "0       166377     69884.22                  0               NaN     0\n",
              "1       166377     69884.64                  0               NaN     0\n",
              "2       166377     69887.58                  0               NaN     0\n",
              "3       166377     69899.76                  0               NaN     0\n",
              "4       166377     69922.02                  0               NaN     0\n",
              "...        ...          ...                ...               ...   ...\n",
              "61702   168606    968520.00                  0               NaN     0\n",
              "61703   168606    971100.00                  0               NaN     0\n",
              "61704   168606    971102.00                  0               NaN     0\n",
              "61705   168606    971354.00                  0               NaN     0\n",
              "61706   168606    973286.00                  0               NaN     0\n",
              "\n",
              "[61707 rows x 5 columns]"
            ],
            "text/html": [
              "\n",
              "  <div id=\"df-37ee248b-812a-478f-ad9e-c18c0bc0f199\">\n",
              "    <div class=\"colab-df-container\">\n",
              "      <div>\n",
              "<style scoped>\n",
              "    .dataframe tbody tr th:only-of-type {\n",
              "        vertical-align: middle;\n",
              "    }\n",
              "\n",
              "    .dataframe tbody tr th {\n",
              "        vertical-align: top;\n",
              "    }\n",
              "\n",
              "    .dataframe thead th {\n",
              "        text-align: right;\n",
              "    }\n",
              "</style>\n",
              "<table border=\"1\" class=\"dataframe\">\n",
              "  <thead>\n",
              "    <tr style=\"text-align: right;\">\n",
              "      <th></th>\n",
              "      <th>user_id</th>\n",
              "      <th>operator_id</th>\n",
              "      <th>total_score_count</th>\n",
              "      <th>total_score_mean</th>\n",
              "      <th>flag</th>\n",
              "    </tr>\n",
              "  </thead>\n",
              "  <tbody>\n",
              "    <tr>\n",
              "      <th>0</th>\n",
              "      <td>166377</td>\n",
              "      <td>69884.22</td>\n",
              "      <td>0</td>\n",
              "      <td>NaN</td>\n",
              "      <td>0</td>\n",
              "    </tr>\n",
              "    <tr>\n",
              "      <th>1</th>\n",
              "      <td>166377</td>\n",
              "      <td>69884.64</td>\n",
              "      <td>0</td>\n",
              "      <td>NaN</td>\n",
              "      <td>0</td>\n",
              "    </tr>\n",
              "    <tr>\n",
              "      <th>2</th>\n",
              "      <td>166377</td>\n",
              "      <td>69887.58</td>\n",
              "      <td>0</td>\n",
              "      <td>NaN</td>\n",
              "      <td>0</td>\n",
              "    </tr>\n",
              "    <tr>\n",
              "      <th>3</th>\n",
              "      <td>166377</td>\n",
              "      <td>69899.76</td>\n",
              "      <td>0</td>\n",
              "      <td>NaN</td>\n",
              "      <td>0</td>\n",
              "    </tr>\n",
              "    <tr>\n",
              "      <th>4</th>\n",
              "      <td>166377</td>\n",
              "      <td>69922.02</td>\n",
              "      <td>0</td>\n",
              "      <td>NaN</td>\n",
              "      <td>0</td>\n",
              "    </tr>\n",
              "    <tr>\n",
              "      <th>...</th>\n",
              "      <td>...</td>\n",
              "      <td>...</td>\n",
              "      <td>...</td>\n",
              "      <td>...</td>\n",
              "      <td>...</td>\n",
              "    </tr>\n",
              "    <tr>\n",
              "      <th>61702</th>\n",
              "      <td>168606</td>\n",
              "      <td>968520.00</td>\n",
              "      <td>0</td>\n",
              "      <td>NaN</td>\n",
              "      <td>0</td>\n",
              "    </tr>\n",
              "    <tr>\n",
              "      <th>61703</th>\n",
              "      <td>168606</td>\n",
              "      <td>971100.00</td>\n",
              "      <td>0</td>\n",
              "      <td>NaN</td>\n",
              "      <td>0</td>\n",
              "    </tr>\n",
              "    <tr>\n",
              "      <th>61704</th>\n",
              "      <td>168606</td>\n",
              "      <td>971102.00</td>\n",
              "      <td>0</td>\n",
              "      <td>NaN</td>\n",
              "      <td>0</td>\n",
              "    </tr>\n",
              "    <tr>\n",
              "      <th>61705</th>\n",
              "      <td>168606</td>\n",
              "      <td>971354.00</td>\n",
              "      <td>0</td>\n",
              "      <td>NaN</td>\n",
              "      <td>0</td>\n",
              "    </tr>\n",
              "    <tr>\n",
              "      <th>61706</th>\n",
              "      <td>168606</td>\n",
              "      <td>973286.00</td>\n",
              "      <td>0</td>\n",
              "      <td>NaN</td>\n",
              "      <td>0</td>\n",
              "    </tr>\n",
              "  </tbody>\n",
              "</table>\n",
              "<p>61707 rows × 5 columns</p>\n",
              "</div>\n",
              "      <button class=\"colab-df-convert\" onclick=\"convertToInteractive('df-37ee248b-812a-478f-ad9e-c18c0bc0f199')\"\n",
              "              title=\"Convert this dataframe to an interactive table.\"\n",
              "              style=\"display:none;\">\n",
              "        \n",
              "  <svg xmlns=\"http://www.w3.org/2000/svg\" height=\"24px\"viewBox=\"0 0 24 24\"\n",
              "       width=\"24px\">\n",
              "    <path d=\"M0 0h24v24H0V0z\" fill=\"none\"/>\n",
              "    <path d=\"M18.56 5.44l.94 2.06.94-2.06 2.06-.94-2.06-.94-.94-2.06-.94 2.06-2.06.94zm-11 1L8.5 8.5l.94-2.06 2.06-.94-2.06-.94L8.5 2.5l-.94 2.06-2.06.94zm10 10l.94 2.06.94-2.06 2.06-.94-2.06-.94-.94-2.06-.94 2.06-2.06.94z\"/><path d=\"M17.41 7.96l-1.37-1.37c-.4-.4-.92-.59-1.43-.59-.52 0-1.04.2-1.43.59L10.3 9.45l-7.72 7.72c-.78.78-.78 2.05 0 2.83L4 21.41c.39.39.9.59 1.41.59.51 0 1.02-.2 1.41-.59l7.78-7.78 2.81-2.81c.8-.78.8-2.07 0-2.86zM5.41 20L4 18.59l7.72-7.72 1.47 1.35L5.41 20z\"/>\n",
              "  </svg>\n",
              "      </button>\n",
              "      \n",
              "  <style>\n",
              "    .colab-df-container {\n",
              "      display:flex;\n",
              "      flex-wrap:wrap;\n",
              "      gap: 12px;\n",
              "    }\n",
              "\n",
              "    .colab-df-convert {\n",
              "      background-color: #E8F0FE;\n",
              "      border: none;\n",
              "      border-radius: 50%;\n",
              "      cursor: pointer;\n",
              "      display: none;\n",
              "      fill: #1967D2;\n",
              "      height: 32px;\n",
              "      padding: 0 0 0 0;\n",
              "      width: 32px;\n",
              "    }\n",
              "\n",
              "    .colab-df-convert:hover {\n",
              "      background-color: #E2EBFA;\n",
              "      box-shadow: 0px 1px 2px rgba(60, 64, 67, 0.3), 0px 1px 3px 1px rgba(60, 64, 67, 0.15);\n",
              "      fill: #174EA6;\n",
              "    }\n",
              "\n",
              "    [theme=dark] .colab-df-convert {\n",
              "      background-color: #3B4455;\n",
              "      fill: #D2E3FC;\n",
              "    }\n",
              "\n",
              "    [theme=dark] .colab-df-convert:hover {\n",
              "      background-color: #434B5C;\n",
              "      box-shadow: 0px 1px 3px 1px rgba(0, 0, 0, 0.15);\n",
              "      filter: drop-shadow(0px 1px 2px rgba(0, 0, 0, 0.3));\n",
              "      fill: #FFFFFF;\n",
              "    }\n",
              "  </style>\n",
              "\n",
              "      <script>\n",
              "        const buttonEl =\n",
              "          document.querySelector('#df-37ee248b-812a-478f-ad9e-c18c0bc0f199 button.colab-df-convert');\n",
              "        buttonEl.style.display =\n",
              "          google.colab.kernel.accessAllowed ? 'block' : 'none';\n",
              "\n",
              "        async function convertToInteractive(key) {\n",
              "          const element = document.querySelector('#df-37ee248b-812a-478f-ad9e-c18c0bc0f199');\n",
              "          const dataTable =\n",
              "            await google.colab.kernel.invokeFunction('convertToInteractive',\n",
              "                                                     [key], {});\n",
              "          if (!dataTable) return;\n",
              "\n",
              "          const docLinkHtml = 'Like what you see? Visit the ' +\n",
              "            '<a target=\"_blank\" href=https://colab.research.google.com/notebooks/data_table.ipynb>data table notebook</a>'\n",
              "            + ' to learn more about interactive tables.';\n",
              "          element.innerHTML = '';\n",
              "          dataTable['output_type'] = 'display_data';\n",
              "          await google.colab.output.renderOutput(dataTable, element);\n",
              "          const docLink = document.createElement('div');\n",
              "          docLink.innerHTML = docLinkHtml;\n",
              "          element.appendChild(docLink);\n",
              "        }\n",
              "      </script>\n",
              "    </div>\n",
              "  </div>\n",
              "  "
            ]
          },
          "metadata": {},
          "execution_count": 53
        }
      ],
      "source": [
        "df_first['flag'] = df_first.apply(bad_operator, axis=1)\n",
        "df_first\n"
      ]
    },
    {
      "cell_type": "markdown",
      "metadata": {
        "id": "yoxo9ZYhN_Cq"
      },
      "source": [
        "Метки 0 и 1, помогут нам быстро и просто, вычислить долю не эффективных операторов, вычислив среднее."
      ]
    },
    {
      "cell_type": "code",
      "execution_count": 54,
      "metadata": {
        "scrolled": true,
        "colab": {
          "base_uri": "https://localhost:8080/",
          "height": 81
        },
        "id": "yhgZq1SnN_Cq",
        "outputId": "321e69a3-e64b-4f53-8cca-80cdd6dd6e66"
      },
      "outputs": [
        {
          "output_type": "execute_result",
          "data": {
            "text/plain": [
              "Empty DataFrame\n",
              "Columns: [count, mean]\n",
              "Index: []"
            ],
            "text/html": [
              "\n",
              "  <div id=\"df-ba85c57e-a34c-4e3c-bcc3-9909bcaa25af\">\n",
              "    <div class=\"colab-df-container\">\n",
              "      <div>\n",
              "<style scoped>\n",
              "    .dataframe tbody tr th:only-of-type {\n",
              "        vertical-align: middle;\n",
              "    }\n",
              "\n",
              "    .dataframe tbody tr th {\n",
              "        vertical-align: top;\n",
              "    }\n",
              "\n",
              "    .dataframe thead th {\n",
              "        text-align: right;\n",
              "    }\n",
              "</style>\n",
              "<table border=\"1\" class=\"dataframe\">\n",
              "  <thead>\n",
              "    <tr style=\"text-align: right;\">\n",
              "      <th></th>\n",
              "      <th>count</th>\n",
              "      <th>mean</th>\n",
              "    </tr>\n",
              "    <tr>\n",
              "      <th>user_id</th>\n",
              "      <th></th>\n",
              "      <th></th>\n",
              "    </tr>\n",
              "  </thead>\n",
              "  <tbody>\n",
              "  </tbody>\n",
              "</table>\n",
              "</div>\n",
              "      <button class=\"colab-df-convert\" onclick=\"convertToInteractive('df-ba85c57e-a34c-4e3c-bcc3-9909bcaa25af')\"\n",
              "              title=\"Convert this dataframe to an interactive table.\"\n",
              "              style=\"display:none;\">\n",
              "        \n",
              "  <svg xmlns=\"http://www.w3.org/2000/svg\" height=\"24px\"viewBox=\"0 0 24 24\"\n",
              "       width=\"24px\">\n",
              "    <path d=\"M0 0h24v24H0V0z\" fill=\"none\"/>\n",
              "    <path d=\"M18.56 5.44l.94 2.06.94-2.06 2.06-.94-2.06-.94-.94-2.06-.94 2.06-2.06.94zm-11 1L8.5 8.5l.94-2.06 2.06-.94-2.06-.94L8.5 2.5l-.94 2.06-2.06.94zm10 10l.94 2.06.94-2.06 2.06-.94-2.06-.94-.94-2.06-.94 2.06-2.06.94z\"/><path d=\"M17.41 7.96l-1.37-1.37c-.4-.4-.92-.59-1.43-.59-.52 0-1.04.2-1.43.59L10.3 9.45l-7.72 7.72c-.78.78-.78 2.05 0 2.83L4 21.41c.39.39.9.59 1.41.59.51 0 1.02-.2 1.41-.59l7.78-7.78 2.81-2.81c.8-.78.8-2.07 0-2.86zM5.41 20L4 18.59l7.72-7.72 1.47 1.35L5.41 20z\"/>\n",
              "  </svg>\n",
              "      </button>\n",
              "      \n",
              "  <style>\n",
              "    .colab-df-container {\n",
              "      display:flex;\n",
              "      flex-wrap:wrap;\n",
              "      gap: 12px;\n",
              "    }\n",
              "\n",
              "    .colab-df-convert {\n",
              "      background-color: #E8F0FE;\n",
              "      border: none;\n",
              "      border-radius: 50%;\n",
              "      cursor: pointer;\n",
              "      display: none;\n",
              "      fill: #1967D2;\n",
              "      height: 32px;\n",
              "      padding: 0 0 0 0;\n",
              "      width: 32px;\n",
              "    }\n",
              "\n",
              "    .colab-df-convert:hover {\n",
              "      background-color: #E2EBFA;\n",
              "      box-shadow: 0px 1px 2px rgba(60, 64, 67, 0.3), 0px 1px 3px 1px rgba(60, 64, 67, 0.15);\n",
              "      fill: #174EA6;\n",
              "    }\n",
              "\n",
              "    [theme=dark] .colab-df-convert {\n",
              "      background-color: #3B4455;\n",
              "      fill: #D2E3FC;\n",
              "    }\n",
              "\n",
              "    [theme=dark] .colab-df-convert:hover {\n",
              "      background-color: #434B5C;\n",
              "      box-shadow: 0px 1px 3px 1px rgba(0, 0, 0, 0.15);\n",
              "      filter: drop-shadow(0px 1px 2px rgba(0, 0, 0, 0.3));\n",
              "      fill: #FFFFFF;\n",
              "    }\n",
              "  </style>\n",
              "\n",
              "      <script>\n",
              "        const buttonEl =\n",
              "          document.querySelector('#df-ba85c57e-a34c-4e3c-bcc3-9909bcaa25af button.colab-df-convert');\n",
              "        buttonEl.style.display =\n",
              "          google.colab.kernel.accessAllowed ? 'block' : 'none';\n",
              "\n",
              "        async function convertToInteractive(key) {\n",
              "          const element = document.querySelector('#df-ba85c57e-a34c-4e3c-bcc3-9909bcaa25af');\n",
              "          const dataTable =\n",
              "            await google.colab.kernel.invokeFunction('convertToInteractive',\n",
              "                                                     [key], {});\n",
              "          if (!dataTable) return;\n",
              "\n",
              "          const docLinkHtml = 'Like what you see? Visit the ' +\n",
              "            '<a target=\"_blank\" href=https://colab.research.google.com/notebooks/data_table.ipynb>data table notebook</a>'\n",
              "            + ' to learn more about interactive tables.';\n",
              "          element.innerHTML = '';\n",
              "          dataTable['output_type'] = 'display_data';\n",
              "          await google.colab.output.renderOutput(dataTable, element);\n",
              "          const docLink = document.createElement('div');\n",
              "          docLink.innerHTML = docLinkHtml;\n",
              "          element.appendChild(docLink);\n",
              "        }\n",
              "      </script>\n",
              "    </div>\n",
              "  </div>\n",
              "  "
            ]
          },
          "metadata": {},
          "execution_count": 54
        }
      ],
      "source": [
        "df_first.groupby('user_id')['flag'].agg(['count', 'mean']).sort_values(by='mean',ascending=False).query('mean >= 0.5')"
      ]
    },
    {
      "cell_type": "markdown",
      "metadata": {
        "id": "Cd-7qURVN_Cq"
      },
      "source": [
        "Мы выгрузили список из 24 клиента где 50% операторов не эффективных. Да мы видим что, есть колл-центры с малым количеством операторов. Но я думаю количество операторов не имеет значение. "
      ]
    },
    {
      "cell_type": "markdown",
      "metadata": {
        "id": "En_KBZDJAgIh"
      },
      "source": [
        "## Проверка гипотезы"
      ]
    },
    {
      "cell_type": "markdown",
      "metadata": {
        "id": "TlFm7UzdApk7"
      },
      "source": [
        "### Подтвердим гипотезу, что среднее время ожидания у клиентов с тарифным планом А, В и С отличается.\n"
      ]
    },
    {
      "cell_type": "markdown",
      "metadata": {
        "id": "_-ErwvrFo8jw"
      },
      "source": [
        "Создадим выбоки"
      ]
    },
    {
      "cell_type": "code",
      "execution_count": 55,
      "metadata": {
        "id": "th7bLMMVEYAJ"
      },
      "outputs": [],
      "source": [
        "sample_01 = df.query('tariff_plan == \"A\"')\n",
        "sample_02 = df.query('tariff_plan == \"B\"')\n",
        "sample_1 = sample_01.loc[:,['avr_wait']]\n",
        "sample_2 = sample_02.loc[:,['avr_wait']]"
      ]
    },
    {
      "cell_type": "markdown",
      "metadata": {
        "id": "25oye9uiFN0p"
      },
      "source": [
        "Применим Т-тест для подтверждения гипотезы о равенстве средних двух генеральных совокупностей. Проверим гипотезы -  среднее время ожидания у тарифа А и В различается. Нулевая гипотеза будет звучать как sample_01 (среднее вермя ожидания по тарифу А) = sample_02 (среднее вермя ожидания по тарифу В), альтернативная гипотеза sample_01 != sample_02. Зададим p-value = 0.05."
      ]
    },
    {
      "cell_type": "code",
      "execution_count": 56,
      "metadata": {
        "colab": {
          "base_uri": "https://localhost:8080/"
        },
        "id": "P9ky-TK5AiVC",
        "outputId": "760a2eea-27f7-4788-ee4b-e2cb52453f51"
      },
      "outputs": [
        {
          "output_type": "stream",
          "name": "stdout",
          "text": [
            "p-значение: [0.37690886]\n",
            "Не получилось отвергнуть нулевую гипотезу\n"
          ]
        }
      ],
      "source": [
        "alpha = 0.05  # критический уровень статистической значимости\n",
        "# если p-value окажется меньше него - отвергнем гипотезу\n",
        "\n",
        "results = st.ttest_ind(sample_1, sample_2)\n",
        "\n",
        "print('p-значение:', results.pvalue)\n",
        "\n",
        "if results.pvalue < alpha:\n",
        "    print('Отвергаем нулевую гипотезу')\n",
        "else:\n",
        "    print('Не получилось отвергнуть нулевую гипотезу') "
      ]
    },
    {
      "cell_type": "markdown",
      "metadata": {
        "id": "9i3umq4aQDSQ"
      },
      "source": [
        "Размер значений среднего ожидания между тарифами А и В не отличается. Аналогично проверим тарифы В,С и С,А."
      ]
    },
    {
      "cell_type": "code",
      "execution_count": 57,
      "metadata": {
        "id": "ZMDY1-HMOGa8"
      },
      "outputs": [],
      "source": [
        "sample_03 = df.query('tariff_plan == \"C\"')\n",
        "sample_04 = df.query('tariff_plan == \"B\"')\n",
        "sample_3 = sample_03.loc[:,['avr_wait']]\n",
        "sample_4 = sample_04.loc[:,['avr_wait']]"
      ]
    },
    {
      "cell_type": "code",
      "execution_count": 58,
      "metadata": {
        "colab": {
          "base_uri": "https://localhost:8080/"
        },
        "id": "HVMQsNcQOGa8",
        "outputId": "11016d52-1ed8-496a-c957-c37aac4cc5d3"
      },
      "outputs": [
        {
          "output_type": "stream",
          "name": "stdout",
          "text": [
            "p-значение: [5.52019411e-16]\n",
            "Отвергаем нулевую гипотезу\n"
          ]
        }
      ],
      "source": [
        "alpha = 0.05  # критический уровень статистической значимости\n",
        "# если p-value окажется меньше него - отвергнем гипотезу\n",
        "\n",
        "results = st.ttest_ind(sample_3, sample_4)\n",
        "\n",
        "print('p-значение:', results.pvalue)\n",
        "\n",
        "if results.pvalue < alpha:\n",
        "    print('Отвергаем нулевую гипотезу')\n",
        "else:\n",
        "    print('Не получилось отвергнуть нулевую гипотезу') "
      ]
    },
    {
      "cell_type": "markdown",
      "metadata": {
        "id": "z7H9JcD6QdQQ"
      },
      "source": [
        "Разлиячия между значениями тарифов В и С статистически значимы."
      ]
    },
    {
      "cell_type": "code",
      "execution_count": 59,
      "metadata": {
        "id": "gHMKmDLmOLUF"
      },
      "outputs": [],
      "source": [
        "sample_05 = df.query('tariff_plan == \"A\"')\n",
        "sample_06 = df.query('tariff_plan == \"C\"')\n",
        "sample_5 = sample_05.loc[:,['avr_wait']]\n",
        "sample_6 = sample_06.loc[:,['avr_wait']]"
      ]
    },
    {
      "cell_type": "code",
      "execution_count": 60,
      "metadata": {
        "colab": {
          "base_uri": "https://localhost:8080/"
        },
        "id": "HouYbjPjOLUH",
        "outputId": "04ae9865-8fea-4527-9d71-b17284cf39f2"
      },
      "outputs": [
        {
          "output_type": "stream",
          "name": "stdout",
          "text": [
            "p-значение: [1.22623038e-12]\n",
            "Отвергаем нулевую гипотезу\n"
          ]
        }
      ],
      "source": [
        "alpha = 0.05  # критический уровень статистической значимости\n",
        "# если p-value окажется меньше него - отвергнем гипотезу\n",
        "\n",
        "results = st.ttest_ind(sample_5, sample_6)\n",
        "\n",
        "print('p-значение:', results.pvalue)\n",
        "\n",
        "if results.pvalue < alpha:\n",
        "    print('Отвергаем нулевую гипотезу')\n",
        "else:\n",
        "    print('Не получилось отвергнуть нулевую гипотезу') "
      ]
    },
    {
      "cell_type": "markdown",
      "metadata": {
        "id": "HtyCvz3pQtFH"
      },
      "source": [
        "Разлиячия между значениями тарифов A и С статистически значимы."
      ]
    },
    {
      "cell_type": "markdown",
      "metadata": {
        "id": "owtURaI_pFY6"
      },
      "source": [
        "### Вывод"
      ]
    },
    {
      "cell_type": "markdown",
      "metadata": {
        "id": "tyWTxJVeQ07W"
      },
      "source": [
        "Тариф С имеет отличия от тарифов А и В в показателях среднего ожидания клиента."
      ]
    },
    {
      "cell_type": "markdown",
      "metadata": {
        "id": "SRrJ7pWcN_Cs"
      },
      "source": [
        "### <div class=\"alert alert-info\"> Подтвердим гипотезу, что среднее время ожидания у клиентов с категориями in, in_out, out отличается.</div>"
      ]
    },
    {
      "cell_type": "code",
      "execution_count": 61,
      "metadata": {
        "id": "MtZGeiB8N_Cs"
      },
      "outputs": [],
      "source": [
        "sample_07 = df.query('direction_group == \"in\"')\n",
        "sample_08 = df.query('direction_group == \"out\"')\n",
        "sample_7 = sample_07.loc[:,['avr_wait']]\n",
        "sample_8 = sample_08.loc[:,['avr_wait']]"
      ]
    },
    {
      "cell_type": "code",
      "execution_count": 62,
      "metadata": {
        "colab": {
          "base_uri": "https://localhost:8080/"
        },
        "id": "jVg9AeBqN_Cs",
        "outputId": "f34a7251-e46d-4e96-a5f4-71e804c0b56b"
      },
      "outputs": [
        {
          "output_type": "stream",
          "name": "stdout",
          "text": [
            "p-значение: [0.14160727]\n",
            "Не получилось отвергнуть нулевую гипотезу\n"
          ]
        }
      ],
      "source": [
        "alpha = 0.05  # критический уровень статистической значимости\n",
        "# если p-value окажется меньше него - отвергнем гипотезу\n",
        "\n",
        "results = st.ttest_ind(sample_7, sample_8)\n",
        "\n",
        "print('p-значение:', results.pvalue)\n",
        "\n",
        "if results.pvalue < alpha:\n",
        "    print('Отвергаем нулевую гипотезу')\n",
        "else:\n",
        "    print('Не получилось отвергнуть нулевую гипотезу') "
      ]
    },
    {
      "cell_type": "code",
      "execution_count": 63,
      "metadata": {
        "id": "OBatd95cN_Cs"
      },
      "outputs": [],
      "source": [
        "sample_09 = df.query('direction_group == \"in\"')\n",
        "sample_10 = df.query('direction_group == \"in_out\"')\n",
        "sample_9 = sample_09.loc[:,['avr_wait']]\n",
        "sample_10 = sample_10.loc[:,['avr_wait']]"
      ]
    },
    {
      "cell_type": "code",
      "execution_count": 64,
      "metadata": {
        "colab": {
          "base_uri": "https://localhost:8080/"
        },
        "id": "4CquxKAHN_Cs",
        "outputId": "db7702e8-2bca-428a-dc01-00757fd5ab26"
      },
      "outputs": [
        {
          "output_type": "stream",
          "name": "stdout",
          "text": [
            "p-значение: [1.92198651e-11]\n",
            "Отвергаем нулевую гипотезу\n"
          ]
        }
      ],
      "source": [
        "alpha = 0.05  # критический уровень статистической значимости\n",
        "# если p-value окажется меньше него - отвергнем гипотезу\n",
        "\n",
        "results = st.ttest_ind(sample_9, sample_10)\n",
        "\n",
        "print('p-значение:', results.pvalue)\n",
        "\n",
        "if results.pvalue < alpha:\n",
        "    print('Отвергаем нулевую гипотезу')\n",
        "else:\n",
        "    print('Не получилось отвергнуть нулевую гипотезу') "
      ]
    },
    {
      "cell_type": "code",
      "execution_count": 65,
      "metadata": {
        "id": "Q5qwP38EN_Cs"
      },
      "outputs": [],
      "source": [
        "sample_11 = df.query('direction_group == \"out\"')\n",
        "sample_12 = df.query('direction_group == \"in_out\"')\n",
        "sample_11 = sample_11.loc[:,['avr_wait']]\n",
        "sample_12 = sample_12.loc[:,['avr_wait']]"
      ]
    },
    {
      "cell_type": "code",
      "execution_count": 66,
      "metadata": {
        "colab": {
          "base_uri": "https://localhost:8080/"
        },
        "id": "AEdABmG2N_Cs",
        "outputId": "3ae742d3-ed48-4daf-e5e6-17a3e59475d7"
      },
      "outputs": [
        {
          "output_type": "stream",
          "name": "stdout",
          "text": [
            "p-значение: [1.18954027e-16]\n",
            "Отвергаем нулевую гипотезу\n"
          ]
        }
      ],
      "source": [
        "alpha = 0.05  # критический уровень статистической значимости\n",
        "# если p-value окажется меньше него - отвергнем гипотезу\n",
        "\n",
        "results = st.ttest_ind(sample_11, sample_12)\n",
        "\n",
        "print('p-значение:', results.pvalue)\n",
        "\n",
        "if results.pvalue < alpha:\n",
        "    print('Отвергаем нулевую гипотезу')\n",
        "else:\n",
        "    print('Не получилось отвергнуть нулевую гипотезу') "
      ]
    },
    {
      "cell_type": "markdown",
      "metadata": {
        "id": "rqqoojVtN_Cs"
      },
      "source": [
        "В мультифункциональных колл-центрах ожидание имеет отличия от колл-центров имеющих категорю входящие и и сходящие."
      ]
    },
    {
      "cell_type": "markdown",
      "metadata": {
        "id": "9GNSVzz0pTnv"
      },
      "source": [
        "## Общий вывод"
      ]
    },
    {
      "cell_type": "markdown",
      "metadata": {
        "id": "jgGrTLYfpVlv"
      },
      "source": [
        "Мы проделали большую работу, что позволило нам определить неэффективных операторов. Мы загрузили данные, убрали пропуски и дубликаты, изменили типы данных для их оптимизации. Провели анализ и разработали алгоритм определения неэффектиных работников. Благодаря алгоритму клиент сам может решить какой уровень скоринга для него приемлем и отследить его в течение всего времени. Так же при необходимости можно не учитывать один из признаков или добавить новый. Мы определили, что наиболее востребована это услуга будет у колл-центров специализирующихся на входящих звонка. 29% процентов самых неэффективных по времени ожиданию операторов находятся именно в таких колл-центрах. Мы выгрузили список из 24 клиента где 50% операторов не эффективных. Так же мы нашли зависимость тарифного плана с временем ожидания и зависимость времени ожидания от специализации колл-центров. "
      ]
    },
    {
      "cell_type": "markdown",
      "metadata": {
        "id": "r9oyzauPN_Ct"
      },
      "source": [
        "## <div class=\"alert alert-info\"> Презентация и дашборд"
      ]
    },
    {
      "cell_type": "markdown",
      "metadata": {
        "id": "ah5k5ff-N_Ct"
      },
      "source": [
        "Выгрузим наш датасет."
      ]
    },
    {
      "cell_type": "code",
      "execution_count": 67,
      "metadata": {
        "id": "baWsSbxvrJ9N"
      },
      "outputs": [],
      "source": [
        "df.to_csv('data.csv', sep='\\t')"
      ]
    },
    {
      "cell_type": "markdown",
      "metadata": {
        "id": "rJQ5T0YdN_Ct"
      },
      "source": [
        "Создадим Дашборд и Презентацию."
      ]
    },
    {
      "cell_type": "markdown",
      "metadata": {
        "id": "BaXsSId2N_Ct"
      },
      "source": [
        "Дашборд [ https://public.tableau.com/views/Telecom_16399424042590/telecom?:language=en-US&publish=yes&:display_count=n&:origin=viz_share_link ]"
      ]
    },
    {
      "cell_type": "markdown",
      "metadata": {
        "id": "jHN3QFYvN_Ct"
      },
      "source": [
        "Презентациях [ https://disk.yandex.ru/i/FfnimYU34Qpe4w ]"
      ]
    },
    {
      "cell_type": "code",
      "execution_count": 67,
      "metadata": {
        "id": "vI8ZhS0FN_Ct"
      },
      "outputs": [],
      "source": [
        ""
      ]
    }
  ],
  "metadata": {
    "ExecuteTimeLog": [
      {
        "duration": 54314,
        "start_time": "2021-12-17T18:43:46.994Z"
      },
      {
        "duration": 177,
        "start_time": "2021-12-17T18:45:03.577Z"
      },
      {
        "duration": 177,
        "start_time": "2021-12-17T18:45:29.581Z"
      },
      {
        "duration": 20,
        "start_time": "2021-12-17T18:45:33.129Z"
      },
      {
        "duration": 36,
        "start_time": "2021-12-17T18:45:33.151Z"
      },
      {
        "duration": 37,
        "start_time": "2021-12-17T18:45:33.190Z"
      },
      {
        "duration": 20,
        "start_time": "2021-12-17T18:45:33.229Z"
      },
      {
        "duration": 41,
        "start_time": "2021-12-17T18:45:33.251Z"
      },
      {
        "duration": 11,
        "start_time": "2021-12-17T18:45:33.293Z"
      },
      {
        "duration": 2109,
        "start_time": "2021-12-17T18:45:33.305Z"
      },
      {
        "duration": 18,
        "start_time": "2021-12-17T18:45:35.418Z"
      },
      {
        "duration": 4798,
        "start_time": "2021-12-17T18:45:35.439Z"
      },
      {
        "duration": 21,
        "start_time": "2021-12-17T18:45:40.239Z"
      },
      {
        "duration": 44,
        "start_time": "2021-12-17T18:45:40.262Z"
      },
      {
        "duration": 22,
        "start_time": "2021-12-17T18:45:40.308Z"
      },
      {
        "duration": 5,
        "start_time": "2021-12-17T18:45:40.332Z"
      },
      {
        "duration": 220,
        "start_time": "2021-12-17T18:45:40.338Z"
      },
      {
        "duration": 210,
        "start_time": "2021-12-17T18:45:40.560Z"
      },
      {
        "duration": 19,
        "start_time": "2021-12-17T18:45:40.772Z"
      },
      {
        "duration": 22,
        "start_time": "2021-12-17T18:45:40.793Z"
      },
      {
        "duration": 5,
        "start_time": "2021-12-17T18:45:40.817Z"
      },
      {
        "duration": 9,
        "start_time": "2021-12-17T18:45:40.823Z"
      },
      {
        "duration": 23,
        "start_time": "2021-12-17T18:45:40.834Z"
      },
      {
        "duration": 2703,
        "start_time": "2021-12-17T18:45:40.859Z"
      },
      {
        "duration": 28,
        "start_time": "2021-12-17T18:45:43.564Z"
      },
      {
        "duration": 714,
        "start_time": "2021-12-17T18:45:43.595Z"
      },
      {
        "duration": 195,
        "start_time": "2021-12-17T18:45:44.310Z"
      },
      {
        "duration": 4,
        "start_time": "2021-12-17T18:45:44.507Z"
      },
      {
        "duration": 5462,
        "start_time": "2021-12-17T18:45:44.513Z"
      },
      {
        "duration": 27,
        "start_time": "2021-12-17T18:45:49.976Z"
      },
      {
        "duration": 193,
        "start_time": "2021-12-17T18:45:50.005Z"
      },
      {
        "duration": 4,
        "start_time": "2021-12-17T18:45:50.199Z"
      },
      {
        "duration": 5020,
        "start_time": "2021-12-17T18:45:50.205Z"
      },
      {
        "duration": 18,
        "start_time": "2021-12-17T18:45:55.227Z"
      },
      {
        "duration": 198,
        "start_time": "2021-12-17T18:45:55.246Z"
      },
      {
        "duration": 4,
        "start_time": "2021-12-17T18:45:55.445Z"
      },
      {
        "duration": 5528,
        "start_time": "2021-12-17T18:45:55.451Z"
      },
      {
        "duration": 11,
        "start_time": "2021-12-17T18:46:00.981Z"
      },
      {
        "duration": 43,
        "start_time": "2021-12-17T18:46:00.994Z"
      },
      {
        "duration": 581,
        "start_time": "2021-12-17T18:46:01.039Z"
      },
      {
        "duration": 613,
        "start_time": "2021-12-17T18:46:01.623Z"
      },
      {
        "duration": 419,
        "start_time": "2021-12-17T18:46:02.238Z"
      },
      {
        "duration": 16,
        "start_time": "2021-12-17T18:46:02.659Z"
      },
      {
        "duration": 18,
        "start_time": "2021-12-17T18:46:02.677Z"
      },
      {
        "duration": 31,
        "start_time": "2021-12-17T18:46:02.697Z"
      },
      {
        "duration": 6,
        "start_time": "2021-12-17T18:46:02.730Z"
      },
      {
        "duration": 26,
        "start_time": "2021-12-17T18:46:02.738Z"
      },
      {
        "duration": 6,
        "start_time": "2021-12-17T18:46:02.766Z"
      },
      {
        "duration": 2449,
        "start_time": "2021-12-18T07:32:59.256Z"
      },
      {
        "duration": 15,
        "start_time": "2021-12-18T07:33:01.707Z"
      },
      {
        "duration": 28,
        "start_time": "2021-12-18T07:33:01.724Z"
      },
      {
        "duration": 40,
        "start_time": "2021-12-18T07:33:01.754Z"
      },
      {
        "duration": 21,
        "start_time": "2021-12-18T07:33:01.796Z"
      },
      {
        "duration": 15,
        "start_time": "2021-12-18T07:33:01.818Z"
      },
      {
        "duration": 14,
        "start_time": "2021-12-18T07:33:01.864Z"
      },
      {
        "duration": 566,
        "start_time": "2021-12-18T07:33:01.881Z"
      },
      {
        "duration": 18,
        "start_time": "2021-12-18T07:33:02.449Z"
      },
      {
        "duration": 4825,
        "start_time": "2021-12-18T07:33:02.469Z"
      },
      {
        "duration": 19,
        "start_time": "2021-12-18T07:33:07.295Z"
      },
      {
        "duration": 25,
        "start_time": "2021-12-18T07:33:07.315Z"
      },
      {
        "duration": 36,
        "start_time": "2021-12-18T07:33:07.341Z"
      },
      {
        "duration": 4,
        "start_time": "2021-12-18T07:33:07.379Z"
      },
      {
        "duration": 196,
        "start_time": "2021-12-18T07:33:07.384Z"
      },
      {
        "duration": 184,
        "start_time": "2021-12-18T07:33:07.581Z"
      },
      {
        "duration": 9,
        "start_time": "2021-12-18T07:33:07.766Z"
      },
      {
        "duration": 22,
        "start_time": "2021-12-18T07:33:07.777Z"
      },
      {
        "duration": 4,
        "start_time": "2021-12-18T07:33:07.801Z"
      },
      {
        "duration": 9,
        "start_time": "2021-12-18T07:33:07.807Z"
      },
      {
        "duration": 47,
        "start_time": "2021-12-18T07:33:07.818Z"
      },
      {
        "duration": 436,
        "start_time": "2021-12-18T07:33:07.866Z"
      },
      {
        "duration": 840,
        "start_time": "2021-12-18T07:33:07.464Z"
      },
      {
        "duration": 799,
        "start_time": "2021-12-18T07:33:07.506Z"
      },
      {
        "duration": 794,
        "start_time": "2021-12-18T07:33:07.512Z"
      },
      {
        "duration": 789,
        "start_time": "2021-12-18T07:33:07.517Z"
      },
      {
        "duration": 785,
        "start_time": "2021-12-18T07:33:07.522Z"
      },
      {
        "duration": 781,
        "start_time": "2021-12-18T07:33:07.527Z"
      },
      {
        "duration": 777,
        "start_time": "2021-12-18T07:33:07.532Z"
      },
      {
        "duration": 771,
        "start_time": "2021-12-18T07:33:07.539Z"
      },
      {
        "duration": 766,
        "start_time": "2021-12-18T07:33:07.545Z"
      },
      {
        "duration": 762,
        "start_time": "2021-12-18T07:33:07.550Z"
      },
      {
        "duration": 758,
        "start_time": "2021-12-18T07:33:07.555Z"
      },
      {
        "duration": 754,
        "start_time": "2021-12-18T07:33:07.560Z"
      },
      {
        "duration": 750,
        "start_time": "2021-12-18T07:33:07.565Z"
      },
      {
        "duration": 736,
        "start_time": "2021-12-18T07:33:07.579Z"
      },
      {
        "duration": 732,
        "start_time": "2021-12-18T07:33:07.584Z"
      },
      {
        "duration": 727,
        "start_time": "2021-12-18T07:33:07.590Z"
      },
      {
        "duration": 723,
        "start_time": "2021-12-18T07:33:07.595Z"
      },
      {
        "duration": 719,
        "start_time": "2021-12-18T07:33:07.600Z"
      },
      {
        "duration": 716,
        "start_time": "2021-12-18T07:33:07.604Z"
      },
      {
        "duration": 714,
        "start_time": "2021-12-18T07:33:07.607Z"
      },
      {
        "duration": 711,
        "start_time": "2021-12-18T07:33:07.611Z"
      },
      {
        "duration": 709,
        "start_time": "2021-12-18T07:33:07.614Z"
      },
      {
        "duration": 704,
        "start_time": "2021-12-18T07:33:07.620Z"
      },
      {
        "duration": 701,
        "start_time": "2021-12-18T07:33:07.623Z"
      },
      {
        "duration": 3499,
        "start_time": "2021-12-18T07:41:03.644Z"
      },
      {
        "duration": 12,
        "start_time": "2021-12-18T07:41:07.146Z"
      },
      {
        "duration": 22,
        "start_time": "2021-12-18T07:41:07.160Z"
      },
      {
        "duration": 32,
        "start_time": "2021-12-18T07:41:07.184Z"
      },
      {
        "duration": 20,
        "start_time": "2021-12-18T07:41:07.218Z"
      },
      {
        "duration": 31,
        "start_time": "2021-12-18T07:41:07.240Z"
      },
      {
        "duration": 11,
        "start_time": "2021-12-18T07:41:07.273Z"
      },
      {
        "duration": 18,
        "start_time": "2021-12-18T07:41:07.287Z"
      },
      {
        "duration": 15,
        "start_time": "2021-12-18T07:41:07.307Z"
      },
      {
        "duration": 5161,
        "start_time": "2021-12-18T07:41:07.324Z"
      },
      {
        "duration": 20,
        "start_time": "2021-12-18T07:41:12.487Z"
      },
      {
        "duration": 27,
        "start_time": "2021-12-18T07:41:12.509Z"
      },
      {
        "duration": 41,
        "start_time": "2021-12-18T07:41:12.537Z"
      },
      {
        "duration": 5,
        "start_time": "2021-12-18T07:41:12.580Z"
      },
      {
        "duration": 193,
        "start_time": "2021-12-18T07:41:12.586Z"
      },
      {
        "duration": 193,
        "start_time": "2021-12-18T07:41:12.781Z"
      },
      {
        "duration": 9,
        "start_time": "2021-12-18T07:41:12.976Z"
      },
      {
        "duration": 24,
        "start_time": "2021-12-18T07:41:12.986Z"
      },
      {
        "duration": 4,
        "start_time": "2021-12-18T07:41:13.012Z"
      },
      {
        "duration": 9,
        "start_time": "2021-12-18T07:41:13.018Z"
      },
      {
        "duration": 53,
        "start_time": "2021-12-18T07:41:13.029Z"
      },
      {
        "duration": 271,
        "start_time": "2021-12-18T07:41:13.084Z"
      },
      {
        "duration": 905,
        "start_time": "2021-12-18T07:41:12.452Z"
      },
      {
        "duration": 899,
        "start_time": "2021-12-18T07:41:12.459Z"
      },
      {
        "duration": 880,
        "start_time": "2021-12-18T07:41:12.479Z"
      },
      {
        "duration": 877,
        "start_time": "2021-12-18T07:41:12.483Z"
      },
      {
        "duration": 871,
        "start_time": "2021-12-18T07:41:12.490Z"
      },
      {
        "duration": 869,
        "start_time": "2021-12-18T07:41:12.493Z"
      },
      {
        "duration": 866,
        "start_time": "2021-12-18T07:41:12.496Z"
      },
      {
        "duration": 864,
        "start_time": "2021-12-18T07:41:12.499Z"
      },
      {
        "duration": 859,
        "start_time": "2021-12-18T07:41:12.505Z"
      },
      {
        "duration": 856,
        "start_time": "2021-12-18T07:41:12.509Z"
      },
      {
        "duration": 854,
        "start_time": "2021-12-18T07:41:12.512Z"
      },
      {
        "duration": 851,
        "start_time": "2021-12-18T07:41:12.515Z"
      },
      {
        "duration": 850,
        "start_time": "2021-12-18T07:41:12.517Z"
      },
      {
        "duration": 846,
        "start_time": "2021-12-18T07:41:12.522Z"
      },
      {
        "duration": 844,
        "start_time": "2021-12-18T07:41:12.525Z"
      },
      {
        "duration": 841,
        "start_time": "2021-12-18T07:41:12.529Z"
      },
      {
        "duration": 838,
        "start_time": "2021-12-18T07:41:12.533Z"
      },
      {
        "duration": 834,
        "start_time": "2021-12-18T07:41:12.538Z"
      },
      {
        "duration": 822,
        "start_time": "2021-12-18T07:41:12.550Z"
      },
      {
        "duration": 818,
        "start_time": "2021-12-18T07:41:12.555Z"
      },
      {
        "duration": 817,
        "start_time": "2021-12-18T07:41:12.557Z"
      },
      {
        "duration": 814,
        "start_time": "2021-12-18T07:41:12.561Z"
      },
      {
        "duration": 812,
        "start_time": "2021-12-18T07:41:12.564Z"
      },
      {
        "duration": 808,
        "start_time": "2021-12-18T07:41:12.568Z"
      },
      {
        "duration": 3785,
        "start_time": "2021-12-18T07:41:32.968Z"
      },
      {
        "duration": 15,
        "start_time": "2021-12-18T07:41:36.755Z"
      },
      {
        "duration": 22,
        "start_time": "2021-12-18T07:41:36.772Z"
      },
      {
        "duration": 32,
        "start_time": "2021-12-18T07:41:36.796Z"
      },
      {
        "duration": 40,
        "start_time": "2021-12-18T07:41:36.830Z"
      },
      {
        "duration": 14,
        "start_time": "2021-12-18T07:41:36.872Z"
      },
      {
        "duration": 10,
        "start_time": "2021-12-18T07:41:36.888Z"
      },
      {
        "duration": 552,
        "start_time": "2021-12-18T07:41:36.900Z"
      },
      {
        "duration": 17,
        "start_time": "2021-12-18T07:41:37.455Z"
      },
      {
        "duration": 4671,
        "start_time": "2021-12-18T07:41:37.475Z"
      },
      {
        "duration": 29,
        "start_time": "2021-12-18T07:41:42.147Z"
      },
      {
        "duration": 28,
        "start_time": "2021-12-18T07:41:42.178Z"
      },
      {
        "duration": 21,
        "start_time": "2021-12-18T07:41:42.208Z"
      },
      {
        "duration": 5,
        "start_time": "2021-12-18T07:41:42.230Z"
      },
      {
        "duration": 203,
        "start_time": "2021-12-18T07:41:42.236Z"
      },
      {
        "duration": 196,
        "start_time": "2021-12-18T07:41:42.441Z"
      },
      {
        "duration": 9,
        "start_time": "2021-12-18T07:41:42.639Z"
      },
      {
        "duration": 31,
        "start_time": "2021-12-18T07:41:42.650Z"
      },
      {
        "duration": 5,
        "start_time": "2021-12-18T07:41:42.683Z"
      },
      {
        "duration": 10,
        "start_time": "2021-12-18T07:41:42.690Z"
      },
      {
        "duration": 25,
        "start_time": "2021-12-18T07:41:42.701Z"
      },
      {
        "duration": 2694,
        "start_time": "2021-12-18T07:41:42.727Z"
      },
      {
        "duration": 21,
        "start_time": "2021-12-18T07:41:45.422Z"
      },
      {
        "duration": 664,
        "start_time": "2021-12-18T07:41:45.445Z"
      },
      {
        "duration": 186,
        "start_time": "2021-12-18T07:41:46.111Z"
      },
      {
        "duration": 4,
        "start_time": "2021-12-18T07:41:46.298Z"
      },
      {
        "duration": 5557,
        "start_time": "2021-12-18T07:41:46.306Z"
      },
      {
        "duration": 19,
        "start_time": "2021-12-18T07:41:51.865Z"
      },
      {
        "duration": 179,
        "start_time": "2021-12-18T07:41:51.886Z"
      },
      {
        "duration": 3,
        "start_time": "2021-12-18T07:41:52.067Z"
      },
      {
        "duration": 4891,
        "start_time": "2021-12-18T07:41:52.072Z"
      },
      {
        "duration": 19,
        "start_time": "2021-12-18T07:41:56.965Z"
      },
      {
        "duration": 186,
        "start_time": "2021-12-18T07:41:56.985Z"
      },
      {
        "duration": 3,
        "start_time": "2021-12-18T07:41:57.173Z"
      },
      {
        "duration": 5405,
        "start_time": "2021-12-18T07:41:57.178Z"
      },
      {
        "duration": 4,
        "start_time": "2021-12-18T07:42:02.585Z"
      },
      {
        "duration": 29,
        "start_time": "2021-12-18T07:42:02.591Z"
      },
      {
        "duration": 515,
        "start_time": "2021-12-18T07:42:02.622Z"
      },
      {
        "duration": 600,
        "start_time": "2021-12-18T07:42:03.139Z"
      },
      {
        "duration": 407,
        "start_time": "2021-12-18T07:42:03.741Z"
      },
      {
        "duration": 25,
        "start_time": "2021-12-18T07:42:04.150Z"
      },
      {
        "duration": 5,
        "start_time": "2021-12-18T07:42:04.177Z"
      },
      {
        "duration": 19,
        "start_time": "2021-12-18T07:42:04.183Z"
      },
      {
        "duration": 6,
        "start_time": "2021-12-18T07:42:04.203Z"
      },
      {
        "duration": 17,
        "start_time": "2021-12-18T07:42:04.210Z"
      },
      {
        "duration": 6,
        "start_time": "2021-12-18T07:42:04.228Z"
      },
      {
        "duration": 6366,
        "start_time": "2021-12-19T05:01:49.929Z"
      },
      {
        "duration": 21,
        "start_time": "2021-12-19T05:01:56.297Z"
      },
      {
        "duration": 50,
        "start_time": "2021-12-19T05:01:56.321Z"
      },
      {
        "duration": 46,
        "start_time": "2021-12-19T05:01:56.374Z"
      },
      {
        "duration": 61,
        "start_time": "2021-12-19T05:01:56.422Z"
      },
      {
        "duration": 20,
        "start_time": "2021-12-19T05:01:56.486Z"
      },
      {
        "duration": 16,
        "start_time": "2021-12-19T05:01:56.509Z"
      },
      {
        "duration": 623,
        "start_time": "2021-12-19T05:01:56.529Z"
      },
      {
        "duration": 32,
        "start_time": "2021-12-19T05:01:57.156Z"
      },
      {
        "duration": 9533,
        "start_time": "2021-12-19T05:01:57.190Z"
      },
      {
        "duration": 28,
        "start_time": "2021-12-19T05:02:06.725Z"
      },
      {
        "duration": 48,
        "start_time": "2021-12-19T05:02:06.755Z"
      },
      {
        "duration": 28,
        "start_time": "2021-12-19T05:02:06.805Z"
      },
      {
        "duration": 35,
        "start_time": "2021-12-19T05:02:06.835Z"
      },
      {
        "duration": 331,
        "start_time": "2021-12-19T05:02:06.872Z"
      },
      {
        "duration": 330,
        "start_time": "2021-12-19T05:02:07.205Z"
      },
      {
        "duration": 12,
        "start_time": "2021-12-19T05:02:07.537Z"
      },
      {
        "duration": 43,
        "start_time": "2021-12-19T05:02:07.551Z"
      },
      {
        "duration": 7,
        "start_time": "2021-12-19T05:02:07.596Z"
      },
      {
        "duration": 13,
        "start_time": "2021-12-19T05:02:07.605Z"
      },
      {
        "duration": 62,
        "start_time": "2021-12-19T05:02:07.620Z"
      },
      {
        "duration": 4205,
        "start_time": "2021-12-19T05:02:07.686Z"
      },
      {
        "duration": 29,
        "start_time": "2021-12-19T05:02:11.896Z"
      },
      {
        "duration": 1173,
        "start_time": "2021-12-19T05:02:11.928Z"
      },
      {
        "duration": 329,
        "start_time": "2021-12-19T05:02:13.103Z"
      },
      {
        "duration": 5,
        "start_time": "2021-12-19T05:02:13.435Z"
      },
      {
        "duration": 10794,
        "start_time": "2021-12-19T05:02:13.443Z"
      },
      {
        "duration": 37,
        "start_time": "2021-12-19T05:02:24.240Z"
      },
      {
        "duration": 329,
        "start_time": "2021-12-19T05:02:24.280Z"
      },
      {
        "duration": 5,
        "start_time": "2021-12-19T05:02:24.611Z"
      },
      {
        "duration": 10073,
        "start_time": "2021-12-19T05:02:24.619Z"
      },
      {
        "duration": 29,
        "start_time": "2021-12-19T05:02:34.695Z"
      },
      {
        "duration": 326,
        "start_time": "2021-12-19T05:02:34.726Z"
      },
      {
        "duration": 15,
        "start_time": "2021-12-19T05:02:35.054Z"
      },
      {
        "duration": 10767,
        "start_time": "2021-12-19T05:02:35.071Z"
      },
      {
        "duration": 6,
        "start_time": "2021-12-19T05:02:45.840Z"
      },
      {
        "duration": 39,
        "start_time": "2021-12-19T05:02:45.848Z"
      },
      {
        "duration": 917,
        "start_time": "2021-12-19T05:02:45.889Z"
      },
      {
        "duration": 910,
        "start_time": "2021-12-19T05:02:46.808Z"
      },
      {
        "duration": 697,
        "start_time": "2021-12-19T05:02:47.720Z"
      },
      {
        "duration": 24,
        "start_time": "2021-12-19T05:02:48.420Z"
      },
      {
        "duration": 26,
        "start_time": "2021-12-19T05:02:48.447Z"
      },
      {
        "duration": 24,
        "start_time": "2021-12-19T05:02:48.476Z"
      },
      {
        "duration": 9,
        "start_time": "2021-12-19T05:02:48.502Z"
      },
      {
        "duration": 68,
        "start_time": "2021-12-19T05:02:48.514Z"
      },
      {
        "duration": 9,
        "start_time": "2021-12-19T05:02:48.584Z"
      },
      {
        "duration": 29,
        "start_time": "2021-12-19T05:19:01.876Z"
      },
      {
        "duration": 456,
        "start_time": "2021-12-19T05:21:05.064Z"
      },
      {
        "duration": 116,
        "start_time": "2021-12-19T05:30:07.049Z"
      },
      {
        "duration": 5,
        "start_time": "2021-12-19T05:33:21.524Z"
      },
      {
        "duration": 7159,
        "start_time": "2021-12-19T05:33:33.888Z"
      },
      {
        "duration": 279,
        "start_time": "2021-12-19T05:34:07.004Z"
      },
      {
        "duration": 2108,
        "start_time": "2021-12-19T05:34:10.528Z"
      },
      {
        "duration": 283,
        "start_time": "2021-12-19T05:34:22.972Z"
      },
      {
        "duration": 330,
        "start_time": "2021-12-19T05:34:40.072Z"
      },
      {
        "duration": 368,
        "start_time": "2021-12-19T05:35:18.976Z"
      },
      {
        "duration": 328,
        "start_time": "2021-12-19T05:35:27.140Z"
      },
      {
        "duration": 303,
        "start_time": "2021-12-19T05:37:09.456Z"
      },
      {
        "duration": 9,
        "start_time": "2021-12-19T05:37:49.220Z"
      },
      {
        "duration": 3200,
        "start_time": "2021-12-19T05:38:03.433Z"
      },
      {
        "duration": 17,
        "start_time": "2021-12-19T05:38:06.636Z"
      },
      {
        "duration": 43,
        "start_time": "2021-12-19T05:38:06.656Z"
      },
      {
        "duration": 78,
        "start_time": "2021-12-19T05:38:06.703Z"
      },
      {
        "duration": 32,
        "start_time": "2021-12-19T05:38:06.784Z"
      },
      {
        "duration": 16,
        "start_time": "2021-12-19T05:38:06.819Z"
      },
      {
        "duration": 23,
        "start_time": "2021-12-19T05:38:16.756Z"
      },
      {
        "duration": 47,
        "start_time": "2021-12-19T05:38:17.648Z"
      },
      {
        "duration": 62,
        "start_time": "2021-12-19T05:39:02.104Z"
      },
      {
        "duration": 40,
        "start_time": "2021-12-19T05:39:30.596Z"
      },
      {
        "duration": 49,
        "start_time": "2021-12-19T05:39:39.056Z"
      },
      {
        "duration": 307,
        "start_time": "2021-12-19T05:40:12.904Z"
      },
      {
        "duration": 328,
        "start_time": "2021-12-19T05:40:18.312Z"
      },
      {
        "duration": 325,
        "start_time": "2021-12-19T05:40:47.261Z"
      },
      {
        "duration": 308,
        "start_time": "2021-12-19T05:40:52.952Z"
      },
      {
        "duration": 52,
        "start_time": "2021-12-19T05:40:59.716Z"
      },
      {
        "duration": 6,
        "start_time": "2021-12-19T05:41:37.376Z"
      },
      {
        "duration": 6,
        "start_time": "2021-12-19T05:42:55.730Z"
      },
      {
        "duration": 4094,
        "start_time": "2021-12-19T05:43:46.864Z"
      },
      {
        "duration": 54,
        "start_time": "2021-12-19T05:44:13.734Z"
      },
      {
        "duration": 42,
        "start_time": "2021-12-19T05:44:25.920Z"
      },
      {
        "duration": 54,
        "start_time": "2021-12-19T05:44:30.628Z"
      },
      {
        "duration": 897,
        "start_time": "2021-12-19T05:44:45.964Z"
      },
      {
        "duration": 39,
        "start_time": "2021-12-19T05:46:28.225Z"
      },
      {
        "duration": 51,
        "start_time": "2021-12-19T05:46:38.244Z"
      },
      {
        "duration": 3545,
        "start_time": "2021-12-19T05:46:53.136Z"
      },
      {
        "duration": 39,
        "start_time": "2021-12-19T05:47:16.608Z"
      },
      {
        "duration": 3253,
        "start_time": "2021-12-19T05:47:29.906Z"
      },
      {
        "duration": 17,
        "start_time": "2021-12-19T05:47:33.162Z"
      },
      {
        "duration": 31,
        "start_time": "2021-12-19T05:47:33.182Z"
      },
      {
        "duration": 68,
        "start_time": "2021-12-19T05:47:33.216Z"
      },
      {
        "duration": 31,
        "start_time": "2021-12-19T05:47:33.286Z"
      },
      {
        "duration": 13,
        "start_time": "2021-12-19T05:47:33.320Z"
      },
      {
        "duration": 42,
        "start_time": "2021-12-19T05:47:33.336Z"
      },
      {
        "duration": 33,
        "start_time": "2021-12-19T05:47:33.382Z"
      },
      {
        "duration": 49,
        "start_time": "2021-12-19T05:47:33.418Z"
      },
      {
        "duration": 9786,
        "start_time": "2021-12-19T05:47:33.470Z"
      },
      {
        "duration": 30,
        "start_time": "2021-12-19T05:47:43.259Z"
      },
      {
        "duration": 44,
        "start_time": "2021-12-19T05:47:43.291Z"
      },
      {
        "duration": 52,
        "start_time": "2021-12-19T05:47:43.337Z"
      },
      {
        "duration": 6,
        "start_time": "2021-12-19T05:47:43.391Z"
      },
      {
        "duration": 440,
        "start_time": "2021-12-19T05:47:43.399Z"
      },
      {
        "duration": 339,
        "start_time": "2021-12-19T05:47:43.842Z"
      },
      {
        "duration": 12,
        "start_time": "2021-12-19T05:47:44.183Z"
      },
      {
        "duration": 25,
        "start_time": "2021-12-19T05:47:44.197Z"
      },
      {
        "duration": 6,
        "start_time": "2021-12-19T05:47:44.225Z"
      },
      {
        "duration": 40,
        "start_time": "2021-12-19T05:47:44.233Z"
      },
      {
        "duration": 33,
        "start_time": "2021-12-19T05:47:44.276Z"
      },
      {
        "duration": 4337,
        "start_time": "2021-12-19T05:47:44.312Z"
      },
      {
        "duration": 42,
        "start_time": "2021-12-19T05:47:48.654Z"
      },
      {
        "duration": 1072,
        "start_time": "2021-12-19T05:47:48.699Z"
      },
      {
        "duration": 334,
        "start_time": "2021-12-19T05:47:49.774Z"
      },
      {
        "duration": 7,
        "start_time": "2021-12-19T05:47:50.112Z"
      },
      {
        "duration": 10938,
        "start_time": "2021-12-19T05:47:50.122Z"
      },
      {
        "duration": 31,
        "start_time": "2021-12-19T05:48:01.062Z"
      },
      {
        "duration": 352,
        "start_time": "2021-12-19T05:48:01.096Z"
      },
      {
        "duration": 5,
        "start_time": "2021-12-19T05:48:01.451Z"
      },
      {
        "duration": 10027,
        "start_time": "2021-12-19T05:48:01.468Z"
      },
      {
        "duration": 29,
        "start_time": "2021-12-19T05:48:11.497Z"
      },
      {
        "duration": 341,
        "start_time": "2021-12-19T05:48:11.529Z"
      },
      {
        "duration": 6,
        "start_time": "2021-12-19T05:48:11.872Z"
      },
      {
        "duration": 11102,
        "start_time": "2021-12-19T05:48:11.880Z"
      },
      {
        "duration": 6,
        "start_time": "2021-12-19T05:48:22.984Z"
      },
      {
        "duration": 36,
        "start_time": "2021-12-19T05:48:22.992Z"
      },
      {
        "duration": 1063,
        "start_time": "2021-12-19T05:48:23.030Z"
      },
      {
        "duration": 1021,
        "start_time": "2021-12-19T05:48:24.095Z"
      },
      {
        "duration": 684,
        "start_time": "2021-12-19T05:48:25.119Z"
      },
      {
        "duration": 29,
        "start_time": "2021-12-19T05:48:25.805Z"
      },
      {
        "duration": 58,
        "start_time": "2021-12-19T05:48:25.837Z"
      },
      {
        "duration": 5,
        "start_time": "2021-12-19T05:48:25.897Z"
      },
      {
        "duration": 28,
        "start_time": "2021-12-19T05:48:36.448Z"
      },
      {
        "duration": 41,
        "start_time": "2021-12-19T05:48:38.996Z"
      },
      {
        "duration": 19,
        "start_time": "2021-12-19T05:48:52.688Z"
      },
      {
        "duration": 1067,
        "start_time": "2021-12-19T05:50:28.900Z"
      },
      {
        "duration": 36,
        "start_time": "2021-12-19T05:50:43.336Z"
      },
      {
        "duration": 15,
        "start_time": "2021-12-19T05:50:46.888Z"
      },
      {
        "duration": 7,
        "start_time": "2021-12-19T05:51:00.264Z"
      },
      {
        "duration": 5,
        "start_time": "2021-12-19T05:52:14.636Z"
      },
      {
        "duration": 7281,
        "start_time": "2021-12-19T05:52:21.904Z"
      },
      {
        "duration": 16,
        "start_time": "2021-12-19T05:53:06.216Z"
      },
      {
        "duration": 5,
        "start_time": "2021-12-19T05:54:00.504Z"
      },
      {
        "duration": 16,
        "start_time": "2021-12-19T05:54:02.788Z"
      },
      {
        "duration": 5419,
        "start_time": "2021-12-19T05:54:04.291Z"
      },
      {
        "duration": 5307,
        "start_time": "2021-12-19T05:54:59.600Z"
      },
      {
        "duration": 61,
        "start_time": "2021-12-19T05:55:35.160Z"
      },
      {
        "duration": 91,
        "start_time": "2021-12-19T05:56:09.600Z"
      },
      {
        "duration": 56,
        "start_time": "2021-12-19T05:56:15.116Z"
      },
      {
        "duration": 74,
        "start_time": "2021-12-19T05:56:20.520Z"
      },
      {
        "duration": 63,
        "start_time": "2021-12-19T06:03:53.584Z"
      },
      {
        "duration": 6,
        "start_time": "2021-12-19T06:05:00.537Z"
      },
      {
        "duration": 19,
        "start_time": "2021-12-19T06:05:01.063Z"
      },
      {
        "duration": 67,
        "start_time": "2021-12-19T06:05:01.611Z"
      },
      {
        "duration": 13,
        "start_time": "2021-12-19T06:05:36.263Z"
      },
      {
        "duration": 84,
        "start_time": "2021-12-19T06:06:28.412Z"
      },
      {
        "duration": 99,
        "start_time": "2021-12-19T06:06:58.815Z"
      },
      {
        "duration": 61,
        "start_time": "2021-12-19T06:06:59.151Z"
      },
      {
        "duration": 10,
        "start_time": "2021-12-19T06:07:57.127Z"
      },
      {
        "duration": 18,
        "start_time": "2021-12-19T06:08:04.067Z"
      },
      {
        "duration": 34,
        "start_time": "2021-12-19T06:11:10.599Z"
      },
      {
        "duration": 79,
        "start_time": "2021-12-19T06:11:15.582Z"
      },
      {
        "duration": 6,
        "start_time": "2021-12-19T06:12:16.691Z"
      },
      {
        "duration": 17,
        "start_time": "2021-12-19T06:12:20.555Z"
      },
      {
        "duration": 82,
        "start_time": "2021-12-19T06:12:30.185Z"
      },
      {
        "duration": 3450,
        "start_time": "2021-12-19T06:12:42.284Z"
      },
      {
        "duration": 16,
        "start_time": "2021-12-19T06:12:45.737Z"
      },
      {
        "duration": 31,
        "start_time": "2021-12-19T06:12:45.767Z"
      },
      {
        "duration": 78,
        "start_time": "2021-12-19T06:12:45.801Z"
      },
      {
        "duration": 32,
        "start_time": "2021-12-19T06:12:45.881Z"
      },
      {
        "duration": 15,
        "start_time": "2021-12-19T06:12:45.916Z"
      },
      {
        "duration": 38,
        "start_time": "2021-12-19T06:12:45.933Z"
      },
      {
        "duration": 30,
        "start_time": "2021-12-19T06:12:45.975Z"
      },
      {
        "duration": 21,
        "start_time": "2021-12-19T06:12:46.008Z"
      },
      {
        "duration": 9775,
        "start_time": "2021-12-19T06:12:46.031Z"
      },
      {
        "duration": 31,
        "start_time": "2021-12-19T06:12:55.808Z"
      },
      {
        "duration": 62,
        "start_time": "2021-12-19T06:12:55.841Z"
      },
      {
        "duration": 27,
        "start_time": "2021-12-19T06:12:55.905Z"
      },
      {
        "duration": 6,
        "start_time": "2021-12-19T06:12:55.934Z"
      },
      {
        "duration": 349,
        "start_time": "2021-12-19T06:12:55.943Z"
      },
      {
        "duration": 327,
        "start_time": "2021-12-19T06:12:56.295Z"
      },
      {
        "duration": 11,
        "start_time": "2021-12-19T06:12:56.625Z"
      },
      {
        "duration": 46,
        "start_time": "2021-12-19T06:12:56.639Z"
      },
      {
        "duration": 6,
        "start_time": "2021-12-19T06:12:56.687Z"
      },
      {
        "duration": 14,
        "start_time": "2021-12-19T06:12:56.695Z"
      },
      {
        "duration": 60,
        "start_time": "2021-12-19T06:12:56.711Z"
      },
      {
        "duration": 4063,
        "start_time": "2021-12-19T06:12:56.774Z"
      },
      {
        "duration": 37,
        "start_time": "2021-12-19T06:13:00.842Z"
      },
      {
        "duration": 1036,
        "start_time": "2021-12-19T06:13:00.882Z"
      },
      {
        "duration": 336,
        "start_time": "2021-12-19T06:13:01.920Z"
      },
      {
        "duration": 11,
        "start_time": "2021-12-19T06:13:02.258Z"
      },
      {
        "duration": 10516,
        "start_time": "2021-12-19T06:13:02.272Z"
      },
      {
        "duration": 36,
        "start_time": "2021-12-19T06:13:12.791Z"
      },
      {
        "duration": 441,
        "start_time": "2021-12-19T06:13:12.830Z"
      },
      {
        "duration": 5,
        "start_time": "2021-12-19T06:13:13.273Z"
      },
      {
        "duration": 9965,
        "start_time": "2021-12-19T06:13:13.281Z"
      },
      {
        "duration": 34,
        "start_time": "2021-12-19T06:13:23.249Z"
      },
      {
        "duration": 336,
        "start_time": "2021-12-19T06:13:23.285Z"
      },
      {
        "duration": 6,
        "start_time": "2021-12-19T06:13:23.623Z"
      },
      {
        "duration": 11173,
        "start_time": "2021-12-19T06:13:23.632Z"
      },
      {
        "duration": 7,
        "start_time": "2021-12-19T06:13:34.808Z"
      },
      {
        "duration": 54,
        "start_time": "2021-12-19T06:13:34.818Z"
      },
      {
        "duration": 972,
        "start_time": "2021-12-19T06:13:34.875Z"
      },
      {
        "duration": 883,
        "start_time": "2021-12-19T06:13:35.850Z"
      },
      {
        "duration": 700,
        "start_time": "2021-12-19T06:13:36.736Z"
      },
      {
        "duration": 47,
        "start_time": "2021-12-19T06:13:37.439Z"
      },
      {
        "duration": 40,
        "start_time": "2021-12-19T06:13:37.489Z"
      },
      {
        "duration": 38,
        "start_time": "2021-12-19T06:13:37.531Z"
      },
      {
        "duration": 10,
        "start_time": "2021-12-19T06:13:37.571Z"
      },
      {
        "duration": 22,
        "start_time": "2021-12-19T06:13:37.583Z"
      },
      {
        "duration": 76,
        "start_time": "2021-12-19T06:13:37.607Z"
      },
      {
        "duration": 17,
        "start_time": "2021-12-19T06:13:37.685Z"
      },
      {
        "duration": 80,
        "start_time": "2021-12-19T06:15:32.883Z"
      },
      {
        "duration": 803,
        "start_time": "2021-12-19T06:16:23.883Z"
      },
      {
        "duration": 1142,
        "start_time": "2021-12-19T06:16:46.031Z"
      },
      {
        "duration": 59,
        "start_time": "2021-12-19T06:19:44.731Z"
      },
      {
        "duration": 17,
        "start_time": "2021-12-19T06:19:46.659Z"
      },
      {
        "duration": 6,
        "start_time": "2021-12-19T06:20:12.052Z"
      },
      {
        "duration": 14,
        "start_time": "2021-12-19T06:20:12.859Z"
      },
      {
        "duration": 59,
        "start_time": "2021-12-19T06:20:17.435Z"
      },
      {
        "duration": 3750,
        "start_time": "2021-12-19T06:21:04.203Z"
      },
      {
        "duration": 16,
        "start_time": "2021-12-19T06:21:07.956Z"
      },
      {
        "duration": 30,
        "start_time": "2021-12-19T06:21:07.975Z"
      },
      {
        "duration": 71,
        "start_time": "2021-12-19T06:21:08.008Z"
      },
      {
        "duration": 31,
        "start_time": "2021-12-19T06:21:08.082Z"
      },
      {
        "duration": 15,
        "start_time": "2021-12-19T06:21:08.115Z"
      },
      {
        "duration": 38,
        "start_time": "2021-12-19T06:21:08.132Z"
      },
      {
        "duration": 30,
        "start_time": "2021-12-19T06:21:08.174Z"
      },
      {
        "duration": 21,
        "start_time": "2021-12-19T06:21:08.207Z"
      },
      {
        "duration": 9783,
        "start_time": "2021-12-19T06:21:08.230Z"
      },
      {
        "duration": 29,
        "start_time": "2021-12-19T06:21:18.016Z"
      },
      {
        "duration": 60,
        "start_time": "2021-12-19T06:21:18.048Z"
      },
      {
        "duration": 29,
        "start_time": "2021-12-19T06:21:18.111Z"
      },
      {
        "duration": 28,
        "start_time": "2021-12-19T06:21:18.143Z"
      },
      {
        "duration": 344,
        "start_time": "2021-12-19T06:21:18.175Z"
      },
      {
        "duration": 344,
        "start_time": "2021-12-19T06:21:18.523Z"
      },
      {
        "duration": 15,
        "start_time": "2021-12-19T06:21:18.870Z"
      },
      {
        "duration": 28,
        "start_time": "2021-12-19T06:21:18.887Z"
      },
      {
        "duration": 8,
        "start_time": "2021-12-19T06:21:18.918Z"
      },
      {
        "duration": 13,
        "start_time": "2021-12-19T06:21:18.968Z"
      },
      {
        "duration": 33,
        "start_time": "2021-12-19T06:21:18.983Z"
      },
      {
        "duration": 4040,
        "start_time": "2021-12-19T06:21:19.019Z"
      },
      {
        "duration": 29,
        "start_time": "2021-12-19T06:21:23.069Z"
      },
      {
        "duration": 1069,
        "start_time": "2021-12-19T06:21:23.102Z"
      },
      {
        "duration": 334,
        "start_time": "2021-12-19T06:21:24.173Z"
      },
      {
        "duration": 6,
        "start_time": "2021-12-19T06:21:24.509Z"
      },
      {
        "duration": 11058,
        "start_time": "2021-12-19T06:21:24.518Z"
      },
      {
        "duration": 27,
        "start_time": "2021-12-19T06:21:35.578Z"
      },
      {
        "duration": 326,
        "start_time": "2021-12-19T06:21:35.608Z"
      },
      {
        "duration": 5,
        "start_time": "2021-12-19T06:21:35.937Z"
      },
      {
        "duration": 9920,
        "start_time": "2021-12-19T06:21:35.944Z"
      },
      {
        "duration": 27,
        "start_time": "2021-12-19T06:21:45.867Z"
      },
      {
        "duration": 333,
        "start_time": "2021-12-19T06:21:45.896Z"
      },
      {
        "duration": 6,
        "start_time": "2021-12-19T06:21:46.232Z"
      },
      {
        "duration": 10927,
        "start_time": "2021-12-19T06:21:46.240Z"
      },
      {
        "duration": 6,
        "start_time": "2021-12-19T06:21:57.169Z"
      },
      {
        "duration": 32,
        "start_time": "2021-12-19T06:21:57.177Z"
      },
      {
        "duration": 948,
        "start_time": "2021-12-19T06:21:57.212Z"
      },
      {
        "duration": 882,
        "start_time": "2021-12-19T06:21:58.163Z"
      },
      {
        "duration": 675,
        "start_time": "2021-12-19T06:21:59.048Z"
      },
      {
        "duration": 44,
        "start_time": "2021-12-19T06:21:59.726Z"
      },
      {
        "duration": 47,
        "start_time": "2021-12-19T06:21:59.773Z"
      },
      {
        "duration": 50,
        "start_time": "2021-12-19T06:21:59.823Z"
      },
      {
        "duration": 6,
        "start_time": "2021-12-19T06:21:59.876Z"
      },
      {
        "duration": 17,
        "start_time": "2021-12-19T06:21:59.885Z"
      },
      {
        "duration": 89,
        "start_time": "2021-12-19T06:21:59.905Z"
      },
      {
        "duration": 23,
        "start_time": "2021-12-19T06:21:59.997Z"
      },
      {
        "duration": 79,
        "start_time": "2021-12-19T06:22:04.003Z"
      },
      {
        "duration": 1060,
        "start_time": "2021-12-19T06:22:14.907Z"
      },
      {
        "duration": 1185,
        "start_time": "2021-12-19T06:22:54.037Z"
      },
      {
        "duration": 860,
        "start_time": "2021-12-19T06:25:27.751Z"
      },
      {
        "duration": 421,
        "start_time": "2021-12-19T06:27:42.391Z"
      },
      {
        "duration": 7961,
        "start_time": "2021-12-19T06:27:58.239Z"
      },
      {
        "duration": 86,
        "start_time": "2021-12-19T06:28:29.111Z"
      },
      {
        "duration": 475,
        "start_time": "2021-12-19T06:28:33.807Z"
      },
      {
        "duration": 8560,
        "start_time": "2021-12-19T06:29:08.119Z"
      },
      {
        "duration": 55,
        "start_time": "2021-12-19T06:30:45.343Z"
      },
      {
        "duration": 8315,
        "start_time": "2021-12-19T06:30:59.771Z"
      },
      {
        "duration": 103,
        "start_time": "2021-12-19T06:31:11.543Z"
      },
      {
        "duration": 5406,
        "start_time": "2021-12-19T06:31:59.502Z"
      },
      {
        "duration": 20,
        "start_time": "2021-12-19T06:32:04.911Z"
      },
      {
        "duration": 43,
        "start_time": "2021-12-19T06:32:04.934Z"
      },
      {
        "duration": 45,
        "start_time": "2021-12-19T06:32:04.980Z"
      },
      {
        "duration": 56,
        "start_time": "2021-12-19T06:32:05.028Z"
      },
      {
        "duration": 14,
        "start_time": "2021-12-19T06:32:05.087Z"
      },
      {
        "duration": 16,
        "start_time": "2021-12-19T06:32:05.104Z"
      },
      {
        "duration": 825,
        "start_time": "2021-12-19T06:32:05.124Z"
      },
      {
        "duration": 25,
        "start_time": "2021-12-19T06:32:05.952Z"
      },
      {
        "duration": 12018,
        "start_time": "2021-12-19T06:32:05.980Z"
      },
      {
        "duration": 33,
        "start_time": "2021-12-19T06:32:18.000Z"
      },
      {
        "duration": 69,
        "start_time": "2021-12-19T06:32:18.036Z"
      },
      {
        "duration": 28,
        "start_time": "2021-12-19T06:32:18.108Z"
      },
      {
        "duration": 29,
        "start_time": "2021-12-19T06:32:18.138Z"
      },
      {
        "duration": 333,
        "start_time": "2021-12-19T06:32:18.169Z"
      },
      {
        "duration": 365,
        "start_time": "2021-12-19T06:32:18.505Z"
      },
      {
        "duration": 12,
        "start_time": "2021-12-19T06:32:18.873Z"
      },
      {
        "duration": 28,
        "start_time": "2021-12-19T06:32:18.888Z"
      },
      {
        "duration": 7,
        "start_time": "2021-12-19T06:32:18.918Z"
      },
      {
        "duration": 50,
        "start_time": "2021-12-19T06:32:18.927Z"
      },
      {
        "duration": 39,
        "start_time": "2021-12-19T06:32:18.980Z"
      },
      {
        "duration": 4567,
        "start_time": "2021-12-19T06:32:19.022Z"
      },
      {
        "duration": 29,
        "start_time": "2021-12-19T06:32:23.595Z"
      },
      {
        "duration": 1093,
        "start_time": "2021-12-19T06:32:23.627Z"
      },
      {
        "duration": 331,
        "start_time": "2021-12-19T06:32:24.722Z"
      },
      {
        "duration": 11,
        "start_time": "2021-12-19T06:32:25.056Z"
      },
      {
        "duration": 11285,
        "start_time": "2021-12-19T06:32:25.070Z"
      },
      {
        "duration": 32,
        "start_time": "2021-12-19T06:32:36.358Z"
      },
      {
        "duration": 322,
        "start_time": "2021-12-19T06:32:36.392Z"
      },
      {
        "duration": 6,
        "start_time": "2021-12-19T06:32:36.716Z"
      },
      {
        "duration": 10516,
        "start_time": "2021-12-19T06:32:36.724Z"
      },
      {
        "duration": 38,
        "start_time": "2021-12-19T06:32:47.243Z"
      },
      {
        "duration": 340,
        "start_time": "2021-12-19T06:32:47.284Z"
      },
      {
        "duration": 6,
        "start_time": "2021-12-19T06:32:47.626Z"
      },
      {
        "duration": 11696,
        "start_time": "2021-12-19T06:32:47.635Z"
      },
      {
        "duration": 5,
        "start_time": "2021-12-19T06:32:59.334Z"
      },
      {
        "duration": 49,
        "start_time": "2021-12-19T06:32:59.341Z"
      },
      {
        "duration": 966,
        "start_time": "2021-12-19T06:32:59.392Z"
      },
      {
        "duration": 896,
        "start_time": "2021-12-19T06:33:00.361Z"
      },
      {
        "duration": 692,
        "start_time": "2021-12-19T06:33:01.267Z"
      },
      {
        "duration": 29,
        "start_time": "2021-12-19T06:33:01.967Z"
      },
      {
        "duration": 68,
        "start_time": "2021-12-19T06:33:01.999Z"
      },
      {
        "duration": 17,
        "start_time": "2021-12-19T06:33:02.070Z"
      },
      {
        "duration": 14,
        "start_time": "2021-12-19T06:33:02.090Z"
      },
      {
        "duration": 23,
        "start_time": "2021-12-19T06:33:02.106Z"
      },
      {
        "duration": 81,
        "start_time": "2021-12-19T06:33:02.132Z"
      },
      {
        "duration": 16,
        "start_time": "2021-12-19T06:33:02.215Z"
      },
      {
        "duration": 98,
        "start_time": "2021-12-19T06:33:02.234Z"
      },
      {
        "duration": 128,
        "start_time": "2021-12-19T06:33:02.335Z"
      },
      {
        "duration": 8839,
        "start_time": "2021-12-19T06:33:02.467Z"
      },
      {
        "duration": 1680,
        "start_time": "2021-12-19T06:33:09.630Z"
      },
      {
        "duration": 1672,
        "start_time": "2021-12-19T06:33:09.639Z"
      },
      {
        "duration": 1670,
        "start_time": "2021-12-19T06:33:09.643Z"
      },
      {
        "duration": 1665,
        "start_time": "2021-12-19T06:33:09.649Z"
      },
      {
        "duration": 1662,
        "start_time": "2021-12-19T06:33:09.654Z"
      },
      {
        "duration": 1659,
        "start_time": "2021-12-19T06:33:09.658Z"
      },
      {
        "duration": 157,
        "start_time": "2021-12-19T06:33:54.023Z"
      },
      {
        "duration": 167,
        "start_time": "2021-12-19T06:34:15.302Z"
      },
      {
        "duration": 95,
        "start_time": "2021-12-19T06:35:37.342Z"
      },
      {
        "duration": 308,
        "start_time": "2021-12-19T06:36:59.614Z"
      },
      {
        "duration": 263,
        "start_time": "2021-12-19T06:37:18.978Z"
      },
      {
        "duration": 2467,
        "start_time": "2021-12-19T06:37:36.947Z"
      },
      {
        "duration": 591,
        "start_time": "2021-12-19T06:38:13.150Z"
      },
      {
        "duration": 319,
        "start_time": "2021-12-19T06:38:37.927Z"
      },
      {
        "duration": 597,
        "start_time": "2021-12-19T06:38:45.106Z"
      },
      {
        "duration": 598,
        "start_time": "2021-12-19T06:39:02.202Z"
      },
      {
        "duration": 733,
        "start_time": "2021-12-19T06:39:10.495Z"
      },
      {
        "duration": 3556,
        "start_time": "2021-12-19T06:39:50.951Z"
      },
      {
        "duration": 20,
        "start_time": "2021-12-19T06:39:54.510Z"
      },
      {
        "duration": 52,
        "start_time": "2021-12-19T06:39:54.533Z"
      },
      {
        "duration": 44,
        "start_time": "2021-12-19T06:39:54.588Z"
      },
      {
        "duration": 51,
        "start_time": "2021-12-19T06:39:54.634Z"
      },
      {
        "duration": 14,
        "start_time": "2021-12-19T06:39:54.687Z"
      },
      {
        "duration": 18,
        "start_time": "2021-12-19T06:39:54.704Z"
      },
      {
        "duration": 62,
        "start_time": "2021-12-19T06:39:54.726Z"
      },
      {
        "duration": 20,
        "start_time": "2021-12-19T06:39:54.791Z"
      },
      {
        "duration": 9913,
        "start_time": "2021-12-19T06:39:54.813Z"
      },
      {
        "duration": 39,
        "start_time": "2021-12-19T06:40:04.729Z"
      },
      {
        "duration": 46,
        "start_time": "2021-12-19T06:40:04.771Z"
      },
      {
        "duration": 58,
        "start_time": "2021-12-19T06:40:04.821Z"
      },
      {
        "duration": 7,
        "start_time": "2021-12-19T06:40:04.882Z"
      },
      {
        "duration": 333,
        "start_time": "2021-12-19T06:40:04.892Z"
      },
      {
        "duration": 333,
        "start_time": "2021-12-19T06:40:05.229Z"
      },
      {
        "duration": 14,
        "start_time": "2021-12-19T06:40:05.568Z"
      },
      {
        "duration": 30,
        "start_time": "2021-12-19T06:40:05.584Z"
      },
      {
        "duration": 8,
        "start_time": "2021-12-19T06:40:05.616Z"
      },
      {
        "duration": 47,
        "start_time": "2021-12-19T06:40:05.627Z"
      },
      {
        "duration": 37,
        "start_time": "2021-12-19T06:40:05.677Z"
      },
      {
        "duration": 4413,
        "start_time": "2021-12-19T06:40:05.716Z"
      },
      {
        "duration": 51,
        "start_time": "2021-12-19T06:40:10.137Z"
      },
      {
        "duration": 1019,
        "start_time": "2021-12-19T06:40:10.192Z"
      },
      {
        "duration": 341,
        "start_time": "2021-12-19T06:40:11.214Z"
      },
      {
        "duration": 10,
        "start_time": "2021-12-19T06:40:11.558Z"
      },
      {
        "duration": 11082,
        "start_time": "2021-12-19T06:40:11.571Z"
      },
      {
        "duration": 31,
        "start_time": "2021-12-19T06:40:22.656Z"
      },
      {
        "duration": 316,
        "start_time": "2021-12-19T06:40:22.690Z"
      },
      {
        "duration": 5,
        "start_time": "2021-12-19T06:40:23.009Z"
      },
      {
        "duration": 10173,
        "start_time": "2021-12-19T06:40:23.016Z"
      },
      {
        "duration": 27,
        "start_time": "2021-12-19T06:40:33.192Z"
      },
      {
        "duration": 334,
        "start_time": "2021-12-19T06:40:33.222Z"
      },
      {
        "duration": 9,
        "start_time": "2021-12-19T06:40:33.559Z"
      },
      {
        "duration": 11028,
        "start_time": "2021-12-19T06:40:33.571Z"
      },
      {
        "duration": 7,
        "start_time": "2021-12-19T06:40:44.601Z"
      },
      {
        "duration": 29,
        "start_time": "2021-12-19T06:40:44.610Z"
      },
      {
        "duration": 1069,
        "start_time": "2021-12-19T06:40:44.642Z"
      },
      {
        "duration": 919,
        "start_time": "2021-12-19T06:40:45.714Z"
      },
      {
        "duration": 695,
        "start_time": "2021-12-19T06:40:46.635Z"
      },
      {
        "duration": 36,
        "start_time": "2021-12-19T06:40:47.332Z"
      },
      {
        "duration": 47,
        "start_time": "2021-12-19T06:40:47.371Z"
      },
      {
        "duration": 16,
        "start_time": "2021-12-19T06:40:47.420Z"
      },
      {
        "duration": 5,
        "start_time": "2021-12-19T06:40:47.467Z"
      },
      {
        "duration": 15,
        "start_time": "2021-12-19T06:40:47.475Z"
      },
      {
        "duration": 80,
        "start_time": "2021-12-19T06:40:47.493Z"
      },
      {
        "duration": 16,
        "start_time": "2021-12-19T06:40:47.575Z"
      },
      {
        "duration": 78,
        "start_time": "2021-12-19T06:41:20.330Z"
      },
      {
        "duration": 724,
        "start_time": "2021-12-19T06:43:07.018Z"
      },
      {
        "duration": 39,
        "start_time": "2021-12-19T06:43:30.166Z"
      },
      {
        "duration": 48,
        "start_time": "2021-12-19T06:44:48.774Z"
      },
      {
        "duration": 262,
        "start_time": "2021-12-19T06:46:29.038Z"
      },
      {
        "duration": 48,
        "start_time": "2021-12-19T06:46:36.938Z"
      },
      {
        "duration": 41,
        "start_time": "2021-12-19T06:48:30.346Z"
      },
      {
        "duration": 35,
        "start_time": "2021-12-19T07:16:30.009Z"
      },
      {
        "duration": 63,
        "start_time": "2021-12-19T07:28:27.413Z"
      },
      {
        "duration": 62,
        "start_time": "2021-12-19T07:28:54.729Z"
      },
      {
        "duration": 37,
        "start_time": "2021-12-19T07:31:34.944Z"
      },
      {
        "duration": 56,
        "start_time": "2021-12-19T07:44:38.421Z"
      },
      {
        "duration": 305,
        "start_time": "2021-12-19T07:45:37.965Z"
      },
      {
        "duration": 25370,
        "start_time": "2021-12-19T07:46:08.189Z"
      },
      {
        "duration": 33290,
        "start_time": "2021-12-19T07:46:35.436Z"
      },
      {
        "duration": -271,
        "start_time": "2021-12-19T07:47:09.001Z"
      },
      {
        "duration": 17,
        "start_time": "2021-12-19T07:47:11.697Z"
      },
      {
        "duration": 22,
        "start_time": "2021-12-19T07:47:25.005Z"
      },
      {
        "duration": 20,
        "start_time": "2021-12-19T07:48:49.475Z"
      },
      {
        "duration": 22,
        "start_time": "2021-12-19T07:48:50.577Z"
      },
      {
        "duration": 26,
        "start_time": "2021-12-19T07:51:50.805Z"
      },
      {
        "duration": 19,
        "start_time": "2021-12-19T07:51:51.257Z"
      },
      {
        "duration": 20,
        "start_time": "2021-12-19T07:51:51.877Z"
      },
      {
        "duration": 266,
        "start_time": "2021-12-19T07:52:32.013Z"
      },
      {
        "duration": 21,
        "start_time": "2021-12-19T07:52:47.989Z"
      },
      {
        "duration": 649,
        "start_time": "2021-12-19T07:53:14.049Z"
      },
      {
        "duration": 682,
        "start_time": "2021-12-19T07:53:42.353Z"
      },
      {
        "duration": 663,
        "start_time": "2021-12-19T07:54:04.309Z"
      },
      {
        "duration": 671,
        "start_time": "2021-12-19T07:54:17.261Z"
      },
      {
        "duration": 676,
        "start_time": "2021-12-19T07:54:30.085Z"
      },
      {
        "duration": 243,
        "start_time": "2021-12-19T07:54:53.237Z"
      },
      {
        "duration": 256,
        "start_time": "2021-12-19T07:55:22.469Z"
      },
      {
        "duration": 358,
        "start_time": "2021-12-19T07:55:51.525Z"
      },
      {
        "duration": 354,
        "start_time": "2021-12-19T07:56:07.261Z"
      },
      {
        "duration": 366,
        "start_time": "2021-12-19T07:56:36.201Z"
      },
      {
        "duration": 363,
        "start_time": "2021-12-19T08:00:52.733Z"
      },
      {
        "duration": 433,
        "start_time": "2021-12-19T08:01:10.065Z"
      },
      {
        "duration": 443,
        "start_time": "2021-12-19T08:01:42.713Z"
      },
      {
        "duration": 363,
        "start_time": "2021-12-19T08:02:21.929Z"
      },
      {
        "duration": 432,
        "start_time": "2021-12-19T08:02:53.341Z"
      },
      {
        "duration": 370,
        "start_time": "2021-12-19T08:04:11.853Z"
      },
      {
        "duration": 358,
        "start_time": "2021-12-19T08:04:31.133Z"
      },
      {
        "duration": 371,
        "start_time": "2021-12-19T08:04:48.165Z"
      },
      {
        "duration": 387,
        "start_time": "2021-12-19T08:05:52.865Z"
      },
      {
        "duration": 383,
        "start_time": "2021-12-19T08:06:11.016Z"
      },
      {
        "duration": 294,
        "start_time": "2021-12-19T08:06:53.105Z"
      },
      {
        "duration": 318,
        "start_time": "2021-12-19T08:07:04.933Z"
      },
      {
        "duration": 281,
        "start_time": "2021-12-19T08:07:56.405Z"
      },
      {
        "duration": 98,
        "start_time": "2021-12-19T08:08:05.385Z"
      },
      {
        "duration": 265,
        "start_time": "2021-12-19T08:08:14.857Z"
      },
      {
        "duration": 284,
        "start_time": "2021-12-19T08:08:21.905Z"
      },
      {
        "duration": 22,
        "start_time": "2021-12-19T08:08:29.613Z"
      },
      {
        "duration": 30,
        "start_time": "2021-12-19T08:08:34.245Z"
      },
      {
        "duration": 18,
        "start_time": "2021-12-19T08:08:59.837Z"
      },
      {
        "duration": 24,
        "start_time": "2021-12-19T08:09:06.924Z"
      },
      {
        "duration": 23,
        "start_time": "2021-12-19T08:09:27.373Z"
      },
      {
        "duration": 19,
        "start_time": "2021-12-19T08:09:39.477Z"
      },
      {
        "duration": 23,
        "start_time": "2021-12-19T08:09:43.197Z"
      },
      {
        "duration": 24,
        "start_time": "2021-12-19T08:52:18.948Z"
      },
      {
        "duration": 30,
        "start_time": "2021-12-19T08:52:35.100Z"
      },
      {
        "duration": 27,
        "start_time": "2021-12-19T08:53:10.912Z"
      },
      {
        "duration": 26,
        "start_time": "2021-12-19T08:53:21.904Z"
      },
      {
        "duration": 20,
        "start_time": "2021-12-19T08:57:46.156Z"
      },
      {
        "duration": 22,
        "start_time": "2021-12-19T08:57:47.400Z"
      },
      {
        "duration": 20,
        "start_time": "2021-12-19T08:57:48.100Z"
      },
      {
        "duration": 18,
        "start_time": "2021-12-19T08:58:11.216Z"
      },
      {
        "duration": 20,
        "start_time": "2021-12-19T08:58:11.928Z"
      },
      {
        "duration": 21,
        "start_time": "2021-12-19T08:58:12.784Z"
      },
      {
        "duration": 282,
        "start_time": "2021-12-19T09:08:11.756Z"
      },
      {
        "duration": 16,
        "start_time": "2021-12-19T09:08:17.876Z"
      },
      {
        "duration": 17,
        "start_time": "2021-12-19T09:08:18.356Z"
      },
      {
        "duration": 20,
        "start_time": "2021-12-19T09:08:18.842Z"
      },
      {
        "duration": 459,
        "start_time": "2021-12-19T09:08:20.724Z"
      },
      {
        "duration": 395,
        "start_time": "2021-12-19T09:08:38.640Z"
      },
      {
        "duration": 642,
        "start_time": "2021-12-19T09:10:20.653Z"
      },
      {
        "duration": 482,
        "start_time": "2021-12-19T09:10:32.628Z"
      },
      {
        "duration": 354,
        "start_time": "2021-12-19T09:11:14.264Z"
      },
      {
        "duration": 367,
        "start_time": "2021-12-19T09:11:34.724Z"
      },
      {
        "duration": 369,
        "start_time": "2021-12-19T09:12:18.612Z"
      },
      {
        "duration": 323,
        "start_time": "2021-12-19T09:12:31.808Z"
      },
      {
        "duration": 368,
        "start_time": "2021-12-19T09:12:38.083Z"
      },
      {
        "duration": 483,
        "start_time": "2021-12-19T09:12:45.363Z"
      },
      {
        "duration": 380,
        "start_time": "2021-12-19T09:13:48.023Z"
      },
      {
        "duration": 21,
        "start_time": "2021-12-19T09:14:14.960Z"
      },
      {
        "duration": 19,
        "start_time": "2021-12-19T09:14:39.556Z"
      },
      {
        "duration": 19,
        "start_time": "2021-12-19T09:14:46.372Z"
      },
      {
        "duration": 50,
        "start_time": "2021-12-19T09:16:02.980Z"
      },
      {
        "duration": 46,
        "start_time": "2021-12-19T09:16:11.820Z"
      },
      {
        "duration": 45,
        "start_time": "2021-12-19T09:17:19.980Z"
      },
      {
        "duration": 401,
        "start_time": "2021-12-19T09:17:28.215Z"
      },
      {
        "duration": 396,
        "start_time": "2021-12-19T09:17:41.291Z"
      },
      {
        "duration": 365,
        "start_time": "2021-12-19T09:17:47.564Z"
      },
      {
        "duration": 396,
        "start_time": "2021-12-19T09:17:58.075Z"
      },
      {
        "duration": 627,
        "start_time": "2021-12-19T09:18:36.332Z"
      },
      {
        "duration": 4,
        "start_time": "2021-12-19T09:19:05.359Z"
      },
      {
        "duration": 360,
        "start_time": "2021-12-19T09:19:08.327Z"
      },
      {
        "duration": 355,
        "start_time": "2021-12-19T09:19:19.228Z"
      },
      {
        "duration": 389,
        "start_time": "2021-12-19T09:19:35.060Z"
      },
      {
        "duration": 353,
        "start_time": "2021-12-19T09:20:53.728Z"
      },
      {
        "duration": 368,
        "start_time": "2021-12-19T09:21:01.967Z"
      },
      {
        "duration": 376,
        "start_time": "2021-12-19T09:21:20.267Z"
      },
      {
        "duration": 404,
        "start_time": "2021-12-19T09:21:51.036Z"
      },
      {
        "duration": 289,
        "start_time": "2021-12-19T09:23:18.828Z"
      },
      {
        "duration": 597,
        "start_time": "2021-12-19T09:23:31.888Z"
      },
      {
        "duration": 283,
        "start_time": "2021-12-19T09:23:56.687Z"
      },
      {
        "duration": 288,
        "start_time": "2021-12-19T09:24:11.347Z"
      },
      {
        "duration": 313,
        "start_time": "2021-12-19T09:24:32.473Z"
      },
      {
        "duration": 6,
        "start_time": "2021-12-19T09:24:54.799Z"
      },
      {
        "duration": 6,
        "start_time": "2021-12-19T09:25:11.035Z"
      },
      {
        "duration": 285,
        "start_time": "2021-12-19T09:25:21.500Z"
      },
      {
        "duration": 523,
        "start_time": "2021-12-19T09:25:39.495Z"
      },
      {
        "duration": 526,
        "start_time": "2021-12-19T09:26:11.523Z"
      },
      {
        "duration": 527,
        "start_time": "2021-12-19T09:26:28.528Z"
      },
      {
        "duration": 285,
        "start_time": "2021-12-19T09:26:52.623Z"
      },
      {
        "duration": 6,
        "start_time": "2021-12-19T09:26:59.179Z"
      },
      {
        "duration": 8,
        "start_time": "2021-12-19T09:27:06.103Z"
      },
      {
        "duration": 8,
        "start_time": "2021-12-19T09:27:14.244Z"
      },
      {
        "duration": 8,
        "start_time": "2021-12-19T09:27:36.151Z"
      },
      {
        "duration": 6,
        "start_time": "2021-12-19T09:27:52.339Z"
      },
      {
        "duration": 589,
        "start_time": "2021-12-19T09:28:03.556Z"
      },
      {
        "duration": 579,
        "start_time": "2021-12-19T09:28:21.296Z"
      },
      {
        "duration": 499,
        "start_time": "2021-12-19T09:28:36.416Z"
      },
      {
        "duration": 508,
        "start_time": "2021-12-19T09:28:50.376Z"
      },
      {
        "duration": 571,
        "start_time": "2021-12-19T09:29:15.023Z"
      },
      {
        "duration": 301,
        "start_time": "2021-12-19T09:29:32.403Z"
      },
      {
        "duration": 818,
        "start_time": "2021-12-19T09:29:39.935Z"
      },
      {
        "duration": 806,
        "start_time": "2021-12-19T09:29:47.563Z"
      },
      {
        "duration": 498,
        "start_time": "2021-12-19T09:30:03.147Z"
      },
      {
        "duration": 27,
        "start_time": "2021-12-19T09:31:43.223Z"
      },
      {
        "duration": 4,
        "start_time": "2021-12-19T09:32:42.860Z"
      },
      {
        "duration": 8,
        "start_time": "2021-12-19T09:32:46.295Z"
      },
      {
        "duration": 9,
        "start_time": "2021-12-19T09:32:57.499Z"
      },
      {
        "duration": 7,
        "start_time": "2021-12-19T09:33:09.755Z"
      },
      {
        "duration": 6,
        "start_time": "2021-12-19T09:33:32.207Z"
      },
      {
        "duration": 6,
        "start_time": "2021-12-19T09:33:56.259Z"
      },
      {
        "duration": 279,
        "start_time": "2021-12-19T09:34:09.418Z"
      },
      {
        "duration": 259,
        "start_time": "2021-12-19T09:34:25.744Z"
      },
      {
        "duration": 6,
        "start_time": "2021-12-19T09:34:29.943Z"
      },
      {
        "duration": 6,
        "start_time": "2021-12-19T09:34:49.237Z"
      },
      {
        "duration": 273,
        "start_time": "2021-12-19T09:37:41.259Z"
      },
      {
        "duration": 309,
        "start_time": "2021-12-19T09:37:49.367Z"
      },
      {
        "duration": 12,
        "start_time": "2021-12-19T09:39:11.899Z"
      },
      {
        "duration": 12,
        "start_time": "2021-12-19T09:39:49.567Z"
      },
      {
        "duration": 449,
        "start_time": "2021-12-19T09:40:22.315Z"
      },
      {
        "duration": 9,
        "start_time": "2021-12-19T09:40:36.064Z"
      },
      {
        "duration": 11,
        "start_time": "2021-12-19T09:41:02.451Z"
      },
      {
        "duration": 7,
        "start_time": "2021-12-19T09:41:15.415Z"
      },
      {
        "duration": 7,
        "start_time": "2021-12-19T09:41:23.047Z"
      },
      {
        "duration": 7,
        "start_time": "2021-12-19T09:41:30.947Z"
      },
      {
        "duration": 14,
        "start_time": "2021-12-19T09:41:51.402Z"
      },
      {
        "duration": 275,
        "start_time": "2021-12-19T09:42:45.327Z"
      },
      {
        "duration": 280,
        "start_time": "2021-12-19T09:43:04.219Z"
      },
      {
        "duration": 514,
        "start_time": "2021-12-19T09:49:53.607Z"
      },
      {
        "duration": 579,
        "start_time": "2021-12-19T09:50:21.995Z"
      },
      {
        "duration": 396,
        "start_time": "2021-12-19T09:50:53.699Z"
      },
      {
        "duration": 288,
        "start_time": "2021-12-19T09:51:38.527Z"
      },
      {
        "duration": 585,
        "start_time": "2021-12-19T09:51:53.859Z"
      },
      {
        "duration": 280,
        "start_time": "2021-12-19T09:52:01.987Z"
      },
      {
        "duration": 6,
        "start_time": "2021-12-19T09:52:13.991Z"
      },
      {
        "duration": 336,
        "start_time": "2021-12-19T09:52:33.194Z"
      },
      {
        "duration": 9,
        "start_time": "2021-12-19T09:52:37.387Z"
      },
      {
        "duration": 13,
        "start_time": "2021-12-19T09:52:45.579Z"
      },
      {
        "duration": 256,
        "start_time": "2021-12-19T09:53:24.883Z"
      },
      {
        "duration": 8,
        "start_time": "2021-12-19T09:53:35.659Z"
      },
      {
        "duration": 15,
        "start_time": "2021-12-19T09:53:40.465Z"
      },
      {
        "duration": 302,
        "start_time": "2021-12-19T09:53:56.958Z"
      },
      {
        "duration": 14,
        "start_time": "2021-12-19T09:54:05.498Z"
      },
      {
        "duration": 13,
        "start_time": "2021-12-19T09:55:42.555Z"
      },
      {
        "duration": 302,
        "start_time": "2021-12-19T09:55:47.159Z"
      },
      {
        "duration": 550,
        "start_time": "2021-12-19T09:56:18.271Z"
      },
      {
        "duration": 288,
        "start_time": "2021-12-19T09:56:24.446Z"
      },
      {
        "duration": 323,
        "start_time": "2021-12-19T09:56:41.206Z"
      },
      {
        "duration": 281,
        "start_time": "2021-12-19T09:56:48.975Z"
      },
      {
        "duration": 259,
        "start_time": "2021-12-19T09:56:54.751Z"
      },
      {
        "duration": 294,
        "start_time": "2021-12-19T09:57:00.779Z"
      },
      {
        "duration": 565,
        "start_time": "2021-12-19T09:57:35.315Z"
      },
      {
        "duration": 85,
        "start_time": "2021-12-19T09:58:43.055Z"
      },
      {
        "duration": 293,
        "start_time": "2021-12-19T09:59:42.050Z"
      },
      {
        "duration": 281,
        "start_time": "2021-12-19T10:00:06.587Z"
      },
      {
        "duration": 313,
        "start_time": "2021-12-19T10:01:20.771Z"
      },
      {
        "duration": 23,
        "start_time": "2021-12-19T15:43:32.143Z"
      },
      {
        "duration": 24,
        "start_time": "2021-12-19T15:43:32.911Z"
      },
      {
        "duration": 19,
        "start_time": "2021-12-19T15:43:33.394Z"
      },
      {
        "duration": 7,
        "start_time": "2021-12-19T15:43:34.394Z"
      },
      {
        "duration": 458,
        "start_time": "2021-12-19T15:43:35.523Z"
      },
      {
        "duration": 310,
        "start_time": "2021-12-19T15:43:52.434Z"
      },
      {
        "duration": 433,
        "start_time": "2021-12-19T15:44:26.883Z"
      },
      {
        "duration": 769,
        "start_time": "2021-12-19T15:44:47.743Z"
      },
      {
        "duration": 556,
        "start_time": "2021-12-19T15:44:57.686Z"
      },
      {
        "duration": 60,
        "start_time": "2021-12-19T15:55:35.842Z"
      },
      {
        "duration": 263,
        "start_time": "2021-12-19T15:56:07.558Z"
      },
      {
        "duration": 6493,
        "start_time": "2021-12-19T15:56:24.856Z"
      },
      {
        "duration": 21,
        "start_time": "2021-12-19T15:56:31.355Z"
      },
      {
        "duration": 35,
        "start_time": "2021-12-19T15:56:31.380Z"
      },
      {
        "duration": 108,
        "start_time": "2021-12-19T15:56:31.419Z"
      },
      {
        "duration": 44,
        "start_time": "2021-12-19T15:56:31.530Z"
      },
      {
        "duration": 17,
        "start_time": "2021-12-19T15:56:31.577Z"
      },
      {
        "duration": 20,
        "start_time": "2021-12-19T15:56:31.597Z"
      },
      {
        "duration": 848,
        "start_time": "2021-12-19T15:56:31.622Z"
      },
      {
        "duration": 36,
        "start_time": "2021-12-19T15:56:32.475Z"
      },
      {
        "duration": 10096,
        "start_time": "2021-12-19T15:56:32.515Z"
      },
      {
        "duration": 32,
        "start_time": "2021-12-19T15:56:42.614Z"
      },
      {
        "duration": 46,
        "start_time": "2021-12-19T15:56:42.667Z"
      },
      {
        "duration": 28,
        "start_time": "2021-12-19T15:56:42.716Z"
      },
      {
        "duration": 7,
        "start_time": "2021-12-19T15:56:42.768Z"
      },
      {
        "duration": 347,
        "start_time": "2021-12-19T15:56:42.777Z"
      },
      {
        "duration": 349,
        "start_time": "2021-12-19T15:56:43.127Z"
      },
      {
        "duration": 13,
        "start_time": "2021-12-19T15:56:43.479Z"
      },
      {
        "duration": 27,
        "start_time": "2021-12-19T15:56:43.494Z"
      },
      {
        "duration": 7,
        "start_time": "2021-12-19T15:56:43.524Z"
      },
      {
        "duration": 12,
        "start_time": "2021-12-19T15:56:43.568Z"
      },
      {
        "duration": 41,
        "start_time": "2021-12-19T15:56:43.582Z"
      },
      {
        "duration": 4322,
        "start_time": "2021-12-19T15:56:43.626Z"
      },
      {
        "duration": 39,
        "start_time": "2021-12-19T15:56:47.954Z"
      },
      {
        "duration": 1151,
        "start_time": "2021-12-19T15:56:47.996Z"
      },
      {
        "duration": 567,
        "start_time": "2021-12-19T15:56:49.149Z"
      },
      {
        "duration": 9,
        "start_time": "2021-12-19T15:56:49.719Z"
      },
      {
        "duration": 15644,
        "start_time": "2021-12-19T15:56:49.732Z"
      },
      {
        "duration": 31,
        "start_time": "2021-12-19T15:57:05.378Z"
      },
      {
        "duration": 343,
        "start_time": "2021-12-19T15:57:05.412Z"
      },
      {
        "duration": 11,
        "start_time": "2021-12-19T15:57:05.757Z"
      },
      {
        "duration": 10465,
        "start_time": "2021-12-19T15:57:05.772Z"
      },
      {
        "duration": 55,
        "start_time": "2021-12-19T15:57:16.240Z"
      },
      {
        "duration": 349,
        "start_time": "2021-12-19T15:57:16.298Z"
      },
      {
        "duration": 7,
        "start_time": "2021-12-19T15:57:16.650Z"
      },
      {
        "duration": 12292,
        "start_time": "2021-12-19T15:57:16.667Z"
      },
      {
        "duration": 9,
        "start_time": "2021-12-19T15:57:28.962Z"
      },
      {
        "duration": 33,
        "start_time": "2021-12-19T15:57:28.974Z"
      },
      {
        "duration": 981,
        "start_time": "2021-12-19T15:57:29.010Z"
      },
      {
        "duration": 949,
        "start_time": "2021-12-19T15:57:29.994Z"
      },
      {
        "duration": 723,
        "start_time": "2021-12-19T15:57:30.947Z"
      },
      {
        "duration": 53,
        "start_time": "2021-12-19T15:57:31.674Z"
      },
      {
        "duration": 39,
        "start_time": "2021-12-19T15:57:31.730Z"
      },
      {
        "duration": 10,
        "start_time": "2021-12-19T15:57:31.772Z"
      },
      {
        "duration": 85,
        "start_time": "2021-12-19T15:57:31.784Z"
      },
      {
        "duration": 19,
        "start_time": "2021-12-19T15:57:31.872Z"
      },
      {
        "duration": 39,
        "start_time": "2021-12-19T15:57:31.893Z"
      },
      {
        "duration": 47,
        "start_time": "2021-12-19T15:57:31.935Z"
      },
      {
        "duration": 17,
        "start_time": "2021-12-19T15:57:31.985Z"
      },
      {
        "duration": 19,
        "start_time": "2021-12-19T15:57:32.005Z"
      },
      {
        "duration": 6,
        "start_time": "2021-12-19T15:57:32.027Z"
      },
      {
        "duration": 561,
        "start_time": "2021-12-19T15:57:32.068Z"
      },
      {
        "duration": 36,
        "start_time": "2021-12-19T15:57:32.631Z"
      },
      {
        "duration": 7,
        "start_time": "2021-12-19T15:57:32.669Z"
      },
      {
        "duration": 23,
        "start_time": "2021-12-19T15:57:32.679Z"
      },
      {
        "duration": 8,
        "start_time": "2021-12-19T15:57:32.704Z"
      },
      {
        "duration": 57,
        "start_time": "2021-12-19T15:57:32.717Z"
      },
      {
        "duration": 7,
        "start_time": "2021-12-19T15:57:32.777Z"
      },
      {
        "duration": 53,
        "start_time": "2021-12-19T16:00:14.631Z"
      },
      {
        "duration": 456,
        "start_time": "2021-12-19T16:01:27.847Z"
      },
      {
        "duration": 263,
        "start_time": "2021-12-19T16:01:37.263Z"
      },
      {
        "duration": 71,
        "start_time": "2021-12-19T16:01:45.359Z"
      },
      {
        "duration": 73925,
        "start_time": "2021-12-19T16:04:47.207Z"
      },
      {
        "duration": 278,
        "start_time": "2021-12-19T16:06:26.238Z"
      },
      {
        "duration": 276,
        "start_time": "2021-12-19T16:06:31.495Z"
      },
      {
        "duration": 6839,
        "start_time": "2021-12-19T16:07:10.135Z"
      },
      {
        "duration": 11505,
        "start_time": "2021-12-19T16:08:11.723Z"
      },
      {
        "duration": 7536,
        "start_time": "2021-12-19T16:08:58.590Z"
      },
      {
        "duration": 261,
        "start_time": "2021-12-19T16:10:14.799Z"
      },
      {
        "duration": 7494,
        "start_time": "2021-12-19T16:13:11.014Z"
      },
      {
        "duration": 7529,
        "start_time": "2021-12-19T16:13:47.099Z"
      },
      {
        "duration": 7598,
        "start_time": "2021-12-19T16:14:54.810Z"
      },
      {
        "duration": 6,
        "start_time": "2021-12-19T16:15:11.674Z"
      },
      {
        "duration": 4,
        "start_time": "2021-12-19T16:16:17.898Z"
      },
      {
        "duration": 20,
        "start_time": "2021-12-19T16:16:26.206Z"
      },
      {
        "duration": 264,
        "start_time": "2021-12-19T16:17:20.250Z"
      },
      {
        "duration": 288,
        "start_time": "2021-12-19T16:17:25.775Z"
      },
      {
        "duration": 18,
        "start_time": "2021-12-19T16:18:05.434Z"
      },
      {
        "duration": 4448,
        "start_time": "2021-12-19T16:21:11.690Z"
      },
      {
        "duration": 19,
        "start_time": "2021-12-19T16:21:19.810Z"
      },
      {
        "duration": 5782,
        "start_time": "2021-12-19T16:21:39.435Z"
      },
      {
        "duration": 15,
        "start_time": "2021-12-19T16:21:48.090Z"
      },
      {
        "duration": 20,
        "start_time": "2021-12-19T16:22:50.822Z"
      },
      {
        "duration": 4,
        "start_time": "2021-12-19T16:30:33.574Z"
      },
      {
        "duration": 17,
        "start_time": "2021-12-19T16:30:34.795Z"
      },
      {
        "duration": 6,
        "start_time": "2021-12-19T16:30:59.246Z"
      },
      {
        "duration": 157,
        "start_time": "2021-12-19T16:31:43.522Z"
      },
      {
        "duration": 170,
        "start_time": "2021-12-19T16:31:50.398Z"
      },
      {
        "duration": 5,
        "start_time": "2021-12-19T16:33:50.074Z"
      },
      {
        "duration": 283,
        "start_time": "2021-12-19T16:33:50.734Z"
      },
      {
        "duration": 305,
        "start_time": "2021-12-19T16:35:45.826Z"
      },
      {
        "duration": 331,
        "start_time": "2021-12-19T16:36:01.526Z"
      },
      {
        "duration": 434,
        "start_time": "2021-12-19T16:36:23.275Z"
      },
      {
        "duration": 481,
        "start_time": "2021-12-19T16:36:31.193Z"
      },
      {
        "duration": 297,
        "start_time": "2021-12-19T16:36:44.354Z"
      },
      {
        "duration": 575,
        "start_time": "2021-12-19T16:37:16.814Z"
      },
      {
        "duration": 373,
        "start_time": "2021-12-19T16:37:17.449Z"
      },
      {
        "duration": 4,
        "start_time": "2021-12-19T16:37:36.294Z"
      },
      {
        "duration": 166,
        "start_time": "2021-12-19T16:37:37.210Z"
      },
      {
        "duration": 173,
        "start_time": "2021-12-19T16:37:42.686Z"
      },
      {
        "duration": 11,
        "start_time": "2021-12-19T16:37:46.526Z"
      },
      {
        "duration": 13,
        "start_time": "2021-12-19T16:37:56.435Z"
      },
      {
        "duration": 12,
        "start_time": "2021-12-19T16:38:22.970Z"
      },
      {
        "duration": 300,
        "start_time": "2021-12-19T16:39:59.638Z"
      },
      {
        "duration": 295,
        "start_time": "2021-12-19T16:40:06.449Z"
      },
      {
        "duration": 20,
        "start_time": "2021-12-19T16:40:24.953Z"
      },
      {
        "duration": 18,
        "start_time": "2021-12-19T16:40:45.230Z"
      },
      {
        "duration": 20,
        "start_time": "2021-12-19T16:41:20.314Z"
      },
      {
        "duration": 21,
        "start_time": "2021-12-19T16:41:33.466Z"
      },
      {
        "duration": 25,
        "start_time": "2021-12-19T16:43:08.754Z"
      },
      {
        "duration": 26,
        "start_time": "2021-12-19T16:43:47.822Z"
      },
      {
        "duration": 29,
        "start_time": "2021-12-19T16:44:52.750Z"
      },
      {
        "duration": 50,
        "start_time": "2021-12-19T16:59:45.694Z"
      },
      {
        "duration": 1038,
        "start_time": "2021-12-19T17:07:36.098Z"
      },
      {
        "duration": 5,
        "start_time": "2021-12-19T17:07:38.930Z"
      },
      {
        "duration": 50,
        "start_time": "2021-12-19T17:07:39.726Z"
      },
      {
        "duration": 23,
        "start_time": "2021-12-19T17:07:42.978Z"
      },
      {
        "duration": 268,
        "start_time": "2021-12-19T17:31:07.274Z"
      },
      {
        "duration": 345,
        "start_time": "2021-12-19T17:31:11.974Z"
      },
      {
        "duration": 13,
        "start_time": "2021-12-19T17:31:26.010Z"
      },
      {
        "duration": 7337,
        "start_time": "2021-12-19T17:33:23.482Z"
      },
      {
        "duration": 1341,
        "start_time": "2021-12-19T17:35:00.838Z"
      },
      {
        "duration": 7882,
        "start_time": "2021-12-19T17:38:17.927Z"
      },
      {
        "duration": 7858,
        "start_time": "2021-12-19T17:38:29.869Z"
      },
      {
        "duration": 266,
        "start_time": "2021-12-19T17:38:54.784Z"
      },
      {
        "duration": 87,
        "start_time": "2021-12-19T17:39:01.627Z"
      },
      {
        "duration": 289,
        "start_time": "2021-12-19T17:39:06.281Z"
      },
      {
        "duration": 7991,
        "start_time": "2021-12-19T17:39:32.394Z"
      },
      {
        "duration": 21,
        "start_time": "2021-12-19T17:41:51.990Z"
      },
      {
        "duration": 8,
        "start_time": "2021-12-19T17:41:52.926Z"
      },
      {
        "duration": 9,
        "start_time": "2021-12-19T17:43:08.594Z"
      },
      {
        "duration": 133,
        "start_time": "2021-12-19T17:44:08.205Z"
      },
      {
        "duration": 8,
        "start_time": "2021-12-19T17:44:08.877Z"
      },
      {
        "duration": 137,
        "start_time": "2021-12-19T17:44:25.717Z"
      },
      {
        "duration": 24,
        "start_time": "2021-12-19T17:44:41.150Z"
      },
      {
        "duration": 9,
        "start_time": "2021-12-19T17:44:42.345Z"
      },
      {
        "duration": 20,
        "start_time": "2021-12-19T17:45:19.289Z"
      },
      {
        "duration": 9,
        "start_time": "2021-12-19T17:45:20.105Z"
      },
      {
        "duration": 27,
        "start_time": "2021-12-19T17:45:52.257Z"
      },
      {
        "duration": 7,
        "start_time": "2021-12-19T17:46:02.935Z"
      },
      {
        "duration": 25,
        "start_time": "2021-12-19T17:46:39.673Z"
      },
      {
        "duration": 8,
        "start_time": "2021-12-19T17:46:40.333Z"
      },
      {
        "duration": 3915,
        "start_time": "2021-12-19T17:52:38.809Z"
      },
      {
        "duration": 4349,
        "start_time": "2021-12-20T03:59:05.161Z"
      },
      {
        "duration": 16,
        "start_time": "2021-12-20T03:59:09.513Z"
      },
      {
        "duration": 24,
        "start_time": "2021-12-20T03:59:09.531Z"
      },
      {
        "duration": 50,
        "start_time": "2021-12-20T03:59:09.558Z"
      },
      {
        "duration": 20,
        "start_time": "2021-12-20T03:59:09.611Z"
      },
      {
        "duration": 11,
        "start_time": "2021-12-20T03:59:09.633Z"
      },
      {
        "duration": 25,
        "start_time": "2021-12-20T03:59:09.646Z"
      },
      {
        "duration": 301,
        "start_time": "2021-12-20T03:59:09.673Z"
      },
      {
        "duration": 17,
        "start_time": "2021-12-20T03:59:09.978Z"
      },
      {
        "duration": 4631,
        "start_time": "2021-12-20T03:59:09.998Z"
      },
      {
        "duration": 22,
        "start_time": "2021-12-20T03:59:14.631Z"
      },
      {
        "duration": 46,
        "start_time": "2021-12-20T03:59:14.655Z"
      },
      {
        "duration": 22,
        "start_time": "2021-12-20T03:59:14.703Z"
      },
      {
        "duration": 5,
        "start_time": "2021-12-20T03:59:14.727Z"
      },
      {
        "duration": 213,
        "start_time": "2021-12-20T03:59:14.734Z"
      },
      {
        "duration": 202,
        "start_time": "2021-12-20T03:59:14.948Z"
      },
      {
        "duration": 9,
        "start_time": "2021-12-20T03:59:15.152Z"
      },
      {
        "duration": 34,
        "start_time": "2021-12-20T03:59:15.163Z"
      },
      {
        "duration": 6,
        "start_time": "2021-12-20T03:59:15.198Z"
      },
      {
        "duration": 10,
        "start_time": "2021-12-20T03:59:15.206Z"
      },
      {
        "duration": 24,
        "start_time": "2021-12-20T03:59:15.218Z"
      },
      {
        "duration": 2686,
        "start_time": "2021-12-20T03:59:15.244Z"
      },
      {
        "duration": 22,
        "start_time": "2021-12-20T03:59:17.932Z"
      },
      {
        "duration": 675,
        "start_time": "2021-12-20T03:59:17.956Z"
      },
      {
        "duration": 188,
        "start_time": "2021-12-20T03:59:18.633Z"
      },
      {
        "duration": 4,
        "start_time": "2021-12-20T03:59:18.823Z"
      },
      {
        "duration": 5275,
        "start_time": "2021-12-20T03:59:18.830Z"
      },
      {
        "duration": 17,
        "start_time": "2021-12-20T03:59:24.108Z"
      },
      {
        "duration": 187,
        "start_time": "2021-12-20T03:59:24.127Z"
      },
      {
        "duration": 4,
        "start_time": "2021-12-20T03:59:24.316Z"
      },
      {
        "duration": 4924,
        "start_time": "2021-12-20T03:59:24.322Z"
      },
      {
        "duration": 19,
        "start_time": "2021-12-20T03:59:29.248Z"
      },
      {
        "duration": 204,
        "start_time": "2021-12-20T03:59:29.269Z"
      },
      {
        "duration": 4,
        "start_time": "2021-12-20T03:59:29.475Z"
      },
      {
        "duration": 5296,
        "start_time": "2021-12-20T03:59:29.481Z"
      },
      {
        "duration": 12,
        "start_time": "2021-12-20T03:59:34.779Z"
      },
      {
        "duration": 16,
        "start_time": "2021-12-20T03:59:34.793Z"
      },
      {
        "duration": 560,
        "start_time": "2021-12-20T03:59:34.811Z"
      },
      {
        "duration": 588,
        "start_time": "2021-12-20T03:59:35.372Z"
      },
      {
        "duration": 392,
        "start_time": "2021-12-20T03:59:35.962Z"
      },
      {
        "duration": 4515,
        "start_time": "2021-12-20T03:59:36.355Z"
      },
      {
        "duration": 800,
        "start_time": "2021-12-20T03:59:40.072Z"
      },
      {
        "duration": 796,
        "start_time": "2021-12-20T03:59:40.077Z"
      },
      {
        "duration": 792,
        "start_time": "2021-12-20T03:59:40.082Z"
      },
      {
        "duration": 785,
        "start_time": "2021-12-20T03:59:40.090Z"
      },
      {
        "duration": 781,
        "start_time": "2021-12-20T03:59:40.095Z"
      },
      {
        "duration": 778,
        "start_time": "2021-12-20T03:59:40.099Z"
      },
      {
        "duration": 772,
        "start_time": "2021-12-20T03:59:40.106Z"
      },
      {
        "duration": 768,
        "start_time": "2021-12-20T03:59:40.111Z"
      },
      {
        "duration": 764,
        "start_time": "2021-12-20T03:59:40.116Z"
      },
      {
        "duration": 761,
        "start_time": "2021-12-20T03:59:40.120Z"
      },
      {
        "duration": 757,
        "start_time": "2021-12-20T03:59:40.125Z"
      },
      {
        "duration": 753,
        "start_time": "2021-12-20T03:59:40.130Z"
      },
      {
        "duration": 749,
        "start_time": "2021-12-20T03:59:40.135Z"
      },
      {
        "duration": 746,
        "start_time": "2021-12-20T03:59:40.139Z"
      },
      {
        "duration": 741,
        "start_time": "2021-12-20T03:59:40.144Z"
      },
      {
        "duration": 738,
        "start_time": "2021-12-20T03:59:40.148Z"
      },
      {
        "duration": 734,
        "start_time": "2021-12-20T03:59:40.154Z"
      },
      {
        "duration": 731,
        "start_time": "2021-12-20T03:59:40.158Z"
      },
      {
        "duration": 719,
        "start_time": "2021-12-20T03:59:40.171Z"
      },
      {
        "duration": 716,
        "start_time": "2021-12-20T03:59:40.175Z"
      },
      {
        "duration": 712,
        "start_time": "2021-12-20T03:59:40.180Z"
      },
      {
        "duration": 709,
        "start_time": "2021-12-20T03:59:40.184Z"
      },
      {
        "duration": 705,
        "start_time": "2021-12-20T03:59:40.189Z"
      },
      {
        "duration": 702,
        "start_time": "2021-12-20T03:59:40.193Z"
      },
      {
        "duration": 698,
        "start_time": "2021-12-20T03:59:40.198Z"
      },
      {
        "duration": 693,
        "start_time": "2021-12-20T03:59:40.204Z"
      },
      {
        "duration": 689,
        "start_time": "2021-12-20T03:59:40.209Z"
      },
      {
        "duration": 3149,
        "start_time": "2021-12-20T04:39:23.452Z"
      },
      {
        "duration": 2547,
        "start_time": "2021-12-20T04:39:36.438Z"
      },
      {
        "duration": 33,
        "start_time": "2021-12-20T05:23:04.695Z"
      },
      {
        "duration": 10,
        "start_time": "2021-12-20T05:23:04.730Z"
      },
      {
        "duration": 4,
        "start_time": "2021-12-20T05:23:04.743Z"
      },
      {
        "duration": 57,
        "start_time": "2021-12-20T05:23:04.749Z"
      },
      {
        "duration": 32,
        "start_time": "2021-12-20T05:23:04.808Z"
      },
      {
        "duration": 33,
        "start_time": "2021-12-20T05:23:04.841Z"
      },
      {
        "duration": 16,
        "start_time": "2021-12-20T05:23:04.876Z"
      },
      {
        "duration": 22,
        "start_time": "2021-12-20T05:23:04.894Z"
      },
      {
        "duration": 30,
        "start_time": "2021-12-20T05:23:04.917Z"
      },
      {
        "duration": 331,
        "start_time": "2021-12-20T05:23:04.949Z"
      },
      {
        "duration": 852,
        "start_time": "2021-12-20T05:23:05.282Z"
      },
      {
        "duration": 2,
        "start_time": "2021-12-20T05:23:06.136Z"
      },
      {
        "duration": 40,
        "start_time": "2021-12-20T05:23:06.140Z"
      },
      {
        "duration": 17,
        "start_time": "2021-12-20T05:23:06.182Z"
      },
      {
        "duration": 21,
        "start_time": "2021-12-20T05:23:06.201Z"
      },
      {
        "duration": 19,
        "start_time": "2021-12-20T05:23:06.224Z"
      },
      {
        "duration": 18,
        "start_time": "2021-12-20T05:23:06.245Z"
      },
      {
        "duration": 11,
        "start_time": "2021-12-20T05:23:06.264Z"
      },
      {
        "duration": 20,
        "start_time": "2021-12-20T05:23:06.276Z"
      },
      {
        "duration": 12,
        "start_time": "2021-12-20T05:23:06.297Z"
      },
      {
        "duration": 16,
        "start_time": "2021-12-20T05:23:06.311Z"
      },
      {
        "duration": 11,
        "start_time": "2021-12-20T05:23:06.328Z"
      },
      {
        "duration": 17,
        "start_time": "2021-12-20T05:23:06.342Z"
      },
      {
        "duration": 7,
        "start_time": "2021-12-20T05:23:06.360Z"
      },
      {
        "duration": 32,
        "start_time": "2021-12-20T05:23:06.369Z"
      },
      {
        "duration": 5,
        "start_time": "2021-12-20T05:23:06.403Z"
      },
      {
        "duration": 1944,
        "start_time": "2021-12-20T05:23:06.409Z"
      }
    ],
    "kernelspec": {
      "display_name": "Python 3 (ipykernel)",
      "language": "python",
      "name": "python3"
    },
    "language_info": {
      "codemirror_mode": {
        "name": "ipython",
        "version": 3
      },
      "file_extension": ".py",
      "mimetype": "text/x-python",
      "name": "python",
      "nbconvert_exporter": "python",
      "pygments_lexer": "ipython3",
      "version": "3.9.5"
    },
    "toc": {
      "base_numbering": 1,
      "nav_menu": {},
      "number_sections": true,
      "sideBar": true,
      "skip_h1_title": true,
      "title_cell": "Table of Contents",
      "title_sidebar": "Contents",
      "toc_cell": false,
      "toc_position": {
        "height": "calc(100% - 180px)",
        "left": "10px",
        "top": "150px",
        "width": "165px"
      },
      "toc_section_display": true,
      "toc_window_display": true
    },
    "colab": {
      "name": "c9a6e23d-3dd9-484b-8ab7-78c16d037dcf.ipynb",
      "provenance": [],
      "include_colab_link": true
    }
  },
  "nbformat": 4,
  "nbformat_minor": 0
}