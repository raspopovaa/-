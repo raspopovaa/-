{
  "cells": [
    {
      "cell_type": "markdown",
      "metadata": {
        "id": "view-in-github",
        "colab_type": "text"
      },
      "source": [
        "<a href=\"https://colab.research.google.com/github/raspopovaa/Pet-Project-Data-Analyst/blob/main/%D0%90%D0%BD%D0%B0%D0%BB%D0%B8%D0%B7_%D0%B1%D0%B8%D0%B7%D0%BD%D0%B5%D1%81_%D0%BF%D0%BE%D0%BA%D0%B0%D0%B7%D0%B0%D1%82%D0%B5%D0%BB%D0%B5%D0%B9/%D0%90%D0%BD%D0%B0%D0%BB%D0%B8%D0%B7_%D0%B1%D0%B8%D0%B7%D0%BD%D0%B5%D1%81_%D0%BF%D0%BE%D0%BA%D0%B0%D0%B7%D0%B0%D1%82%D0%B5%D0%BB%D0%B5%D0%B91.ipynb\" target=\"_parent\"><img src=\"https://colab.research.google.com/assets/colab-badge.svg\" alt=\"Open In Colab\"/></a>"
      ]
    },
    {
      "cell_type": "markdown",
      "metadata": {
        "id": "T_8hPZdOyPnb"
      },
      "source": [
        "# Описание проекта\n",
        "\n"
      ]
    },
    {
      "cell_type": "markdown",
      "metadata": {
        "id": "BgnLLY-6yPnc"
      },
      "source": [
        "Вас пригласили на стажировку в отдел маркетинговой аналитики.***Наша цель: помочь маркетологам снизить расходы — отказаться от невыгодных источников трафика и перераспределить бюджет.***\n",
        "Есть данные с июня 2017 по конец мая 2018 года:\n",
        "лог сервера с данными о посещениях сайта,\n",
        "выгрузка всех заказов за этот период,\n",
        "статистика рекламных расходов.\n",
        "Вам предстоит изучить:\n",
        "как клиенты пользуются сервисом,\n",
        "когда делают первые покупки на сайте,\n",
        "сколько денег приносит компании каждый клиент,\n",
        "когда расходы на привлечение клиента окупаются.\n",
        "Выручка измеряется в условных единицах — у.е."
      ]
    },
    {
      "cell_type": "markdown",
      "metadata": {
        "id": "zDh8Y2KDyPnf"
      },
      "source": [
        "## Загрузите данные и подготовьте их к анализу"
      ]
    },
    {
      "cell_type": "code",
      "execution_count": 1,
      "metadata": {
        "id": "3CkVWL6JyPnf",
        "colab": {
          "base_uri": "https://localhost:8080/"
        },
        "outputId": "46d1c5c0-24a6-4865-b0f3-1597dec1586f"
      },
      "outputs": [
        {
          "output_type": "stream",
          "name": "stdout",
          "text": [
            "Downloading...\n",
            "From: https://drive.google.com/uc?id=1TM-i15kfRuMFp1uFd1mIQVwluDT2xID6\n",
            "To: /content/visits_log.csv\n",
            "100% 25.1M/25.1M [00:00<00:00, 164MB/s]\n",
            "Downloading...\n",
            "From: https://drive.google.com/uc?id=1BF94inAdCYqO7oC248hVRfniqvfxghdQ\n",
            "To: /content/orders_log.csv\n",
            "100% 2.29M/2.29M [00:00<00:00, 45.4MB/s]\n",
            "Downloading...\n",
            "From: https://drive.google.com/uc?id=19UqXKj2MD7p1yHxu4r3ElULw-z2CAxvr\n",
            "To: /content/costs.csv\n",
            "100% 49.3k/49.3k [00:00<00:00, 41.4MB/s]\n"
          ]
        }
      ],
      "source": [
        "# импортируем библиотеки\n",
        "import pandas as pd\n",
        "import matplotlib.pyplot as plt\n",
        "import numpy as np\n",
        "import seaborn as sns\n",
        "import plotly.express as px\n",
        "import calendar\n",
        "\n",
        "# открываем файлы\n",
        "! gdown --id 1TM-i15kfRuMFp1uFd1mIQVwluDT2xID6\n",
        "! gdown --id 1BF94inAdCYqO7oC248hVRfniqvfxghdQ\n",
        "! gdown --id 19UqXKj2MD7p1yHxu4r3ElULw-z2CAxvr\n",
        "\n",
        "try:\n",
        "    visits = pd.read_csv('/content/visits_log.csv')\n",
        "except:\n",
        "    visits = pd.read_csv('https://code.s3.yandex.net/datasets/visits_log.csv')\n",
        "try:\n",
        "    orders = pd.read_csv('/content/orders_log.csv')\n",
        "except:\n",
        "    orders = pd.read_csv('https://code.s3.yandex.net/datasets/orders_log.csv')\n",
        "try:\n",
        "    costs = pd.read_csv('/content/costs.csv')\n",
        "except:\n",
        "    costs = pd.read_csv('https://code.s3.yandex.net/datasets/costs.csv')\n",
        "# устанавливаем отображение количества столбцов экране \n",
        "pd.set_option('display.max_columns', None)\n",
        "pd.options.display.float_format = '{:.3f}'.format # устанавливаем отображение числа знаков после точки.\n",
        "import warnings\n",
        "warnings.filterwarnings('ignore')"
      ]
    },
    {
      "cell_type": "markdown",
      "metadata": {
        "id": "f5u2YQZsyPni"
      },
      "source": [
        "Изучим таблицу visits."
      ]
    },
    {
      "cell_type": "code",
      "execution_count": 2,
      "metadata": {
        "id": "YWBkcDEoyPnj",
        "outputId": "86394884-bc52-4d7f-a0eb-2d3caa133033",
        "colab": {
          "base_uri": "https://localhost:8080/",
          "height": 571
        }
      },
      "outputs": [
        {
          "output_type": "stream",
          "name": "stdout",
          "text": [
            "<class 'pandas.core.frame.DataFrame'>\n",
            "RangeIndex: 359400 entries, 0 to 359399\n",
            "Data columns (total 5 columns):\n",
            " #   Column     Non-Null Count   Dtype \n",
            "---  ------     --------------   ----- \n",
            " 0   Device     359400 non-null  object\n",
            " 1   End Ts     359400 non-null  object\n",
            " 2   Source Id  359400 non-null  int64 \n",
            " 3   Start Ts   359400 non-null  object\n",
            " 4   Uid        359400 non-null  uint64\n",
            "dtypes: int64(1), object(3), uint64(1)\n",
            "memory usage: 13.7+ MB\n"
          ]
        },
        {
          "output_type": "execute_result",
          "data": {
            "text/html": [
              "\n",
              "  <div id=\"df-6dbb3892-1704-4437-9b3b-1e6386144395\">\n",
              "    <div class=\"colab-df-container\">\n",
              "      <div>\n",
              "<style scoped>\n",
              "    .dataframe tbody tr th:only-of-type {\n",
              "        vertical-align: middle;\n",
              "    }\n",
              "\n",
              "    .dataframe tbody tr th {\n",
              "        vertical-align: top;\n",
              "    }\n",
              "\n",
              "    .dataframe thead th {\n",
              "        text-align: right;\n",
              "    }\n",
              "</style>\n",
              "<table border=\"1\" class=\"dataframe\">\n",
              "  <thead>\n",
              "    <tr style=\"text-align: right;\">\n",
              "      <th></th>\n",
              "      <th>Device</th>\n",
              "      <th>End Ts</th>\n",
              "      <th>Source Id</th>\n",
              "      <th>Start Ts</th>\n",
              "      <th>Uid</th>\n",
              "    </tr>\n",
              "  </thead>\n",
              "  <tbody>\n",
              "    <tr>\n",
              "      <th>359390</th>\n",
              "      <td>desktop</td>\n",
              "      <td>2017-12-11 17:54:19</td>\n",
              "      <td>1</td>\n",
              "      <td>2017-12-11 17:54:00</td>\n",
              "      <td>18268369011883553090</td>\n",
              "    </tr>\n",
              "    <tr>\n",
              "      <th>359391</th>\n",
              "      <td>touch</td>\n",
              "      <td>2017-08-30 11:53:19</td>\n",
              "      <td>2</td>\n",
              "      <td>2017-08-30 11:53:00</td>\n",
              "      <td>18304232853749481866</td>\n",
              "    </tr>\n",
              "    <tr>\n",
              "      <th>359392</th>\n",
              "      <td>desktop</td>\n",
              "      <td>2017-12-30 21:49:19</td>\n",
              "      <td>4</td>\n",
              "      <td>2017-12-30 21:49:00</td>\n",
              "      <td>18311497973035795342</td>\n",
              "    </tr>\n",
              "    <tr>\n",
              "      <th>359393</th>\n",
              "      <td>desktop</td>\n",
              "      <td>2017-06-08 07:49:19</td>\n",
              "      <td>4</td>\n",
              "      <td>2017-06-08 07:49:00</td>\n",
              "      <td>18325675073358289850</td>\n",
              "    </tr>\n",
              "    <tr>\n",
              "      <th>359394</th>\n",
              "      <td>touch</td>\n",
              "      <td>2017-11-06 08:00:19</td>\n",
              "      <td>4</td>\n",
              "      <td>2017-11-06 08:00:00</td>\n",
              "      <td>18332905065174083046</td>\n",
              "    </tr>\n",
              "    <tr>\n",
              "      <th>359395</th>\n",
              "      <td>desktop</td>\n",
              "      <td>2017-07-29 19:07:19</td>\n",
              "      <td>2</td>\n",
              "      <td>2017-07-29 19:07:00</td>\n",
              "      <td>18363291481961487539</td>\n",
              "    </tr>\n",
              "    <tr>\n",
              "      <th>359396</th>\n",
              "      <td>touch</td>\n",
              "      <td>2018-01-25 17:38:19</td>\n",
              "      <td>1</td>\n",
              "      <td>2018-01-25 17:38:00</td>\n",
              "      <td>18370831553019119586</td>\n",
              "    </tr>\n",
              "    <tr>\n",
              "      <th>359397</th>\n",
              "      <td>desktop</td>\n",
              "      <td>2018-03-03 10:12:19</td>\n",
              "      <td>4</td>\n",
              "      <td>2018-03-03 10:12:00</td>\n",
              "      <td>18387297585500748294</td>\n",
              "    </tr>\n",
              "    <tr>\n",
              "      <th>359398</th>\n",
              "      <td>desktop</td>\n",
              "      <td>2017-11-02 10:12:19</td>\n",
              "      <td>5</td>\n",
              "      <td>2017-11-02 10:12:00</td>\n",
              "      <td>18388616944624776485</td>\n",
              "    </tr>\n",
              "    <tr>\n",
              "      <th>359399</th>\n",
              "      <td>touch</td>\n",
              "      <td>2017-09-10 13:13:19</td>\n",
              "      <td>2</td>\n",
              "      <td>2017-09-10 13:13:00</td>\n",
              "      <td>18396128934054549559</td>\n",
              "    </tr>\n",
              "  </tbody>\n",
              "</table>\n",
              "</div>\n",
              "      <button class=\"colab-df-convert\" onclick=\"convertToInteractive('df-6dbb3892-1704-4437-9b3b-1e6386144395')\"\n",
              "              title=\"Convert this dataframe to an interactive table.\"\n",
              "              style=\"display:none;\">\n",
              "        \n",
              "  <svg xmlns=\"http://www.w3.org/2000/svg\" height=\"24px\"viewBox=\"0 0 24 24\"\n",
              "       width=\"24px\">\n",
              "    <path d=\"M0 0h24v24H0V0z\" fill=\"none\"/>\n",
              "    <path d=\"M18.56 5.44l.94 2.06.94-2.06 2.06-.94-2.06-.94-.94-2.06-.94 2.06-2.06.94zm-11 1L8.5 8.5l.94-2.06 2.06-.94-2.06-.94L8.5 2.5l-.94 2.06-2.06.94zm10 10l.94 2.06.94-2.06 2.06-.94-2.06-.94-.94-2.06-.94 2.06-2.06.94z\"/><path d=\"M17.41 7.96l-1.37-1.37c-.4-.4-.92-.59-1.43-.59-.52 0-1.04.2-1.43.59L10.3 9.45l-7.72 7.72c-.78.78-.78 2.05 0 2.83L4 21.41c.39.39.9.59 1.41.59.51 0 1.02-.2 1.41-.59l7.78-7.78 2.81-2.81c.8-.78.8-2.07 0-2.86zM5.41 20L4 18.59l7.72-7.72 1.47 1.35L5.41 20z\"/>\n",
              "  </svg>\n",
              "      </button>\n",
              "      \n",
              "  <style>\n",
              "    .colab-df-container {\n",
              "      display:flex;\n",
              "      flex-wrap:wrap;\n",
              "      gap: 12px;\n",
              "    }\n",
              "\n",
              "    .colab-df-convert {\n",
              "      background-color: #E8F0FE;\n",
              "      border: none;\n",
              "      border-radius: 50%;\n",
              "      cursor: pointer;\n",
              "      display: none;\n",
              "      fill: #1967D2;\n",
              "      height: 32px;\n",
              "      padding: 0 0 0 0;\n",
              "      width: 32px;\n",
              "    }\n",
              "\n",
              "    .colab-df-convert:hover {\n",
              "      background-color: #E2EBFA;\n",
              "      box-shadow: 0px 1px 2px rgba(60, 64, 67, 0.3), 0px 1px 3px 1px rgba(60, 64, 67, 0.15);\n",
              "      fill: #174EA6;\n",
              "    }\n",
              "\n",
              "    [theme=dark] .colab-df-convert {\n",
              "      background-color: #3B4455;\n",
              "      fill: #D2E3FC;\n",
              "    }\n",
              "\n",
              "    [theme=dark] .colab-df-convert:hover {\n",
              "      background-color: #434B5C;\n",
              "      box-shadow: 0px 1px 3px 1px rgba(0, 0, 0, 0.15);\n",
              "      filter: drop-shadow(0px 1px 2px rgba(0, 0, 0, 0.3));\n",
              "      fill: #FFFFFF;\n",
              "    }\n",
              "  </style>\n",
              "\n",
              "      <script>\n",
              "        const buttonEl =\n",
              "          document.querySelector('#df-6dbb3892-1704-4437-9b3b-1e6386144395 button.colab-df-convert');\n",
              "        buttonEl.style.display =\n",
              "          google.colab.kernel.accessAllowed ? 'block' : 'none';\n",
              "\n",
              "        async function convertToInteractive(key) {\n",
              "          const element = document.querySelector('#df-6dbb3892-1704-4437-9b3b-1e6386144395');\n",
              "          const dataTable =\n",
              "            await google.colab.kernel.invokeFunction('convertToInteractive',\n",
              "                                                     [key], {});\n",
              "          if (!dataTable) return;\n",
              "\n",
              "          const docLinkHtml = 'Like what you see? Visit the ' +\n",
              "            '<a target=\"_blank\" href=https://colab.research.google.com/notebooks/data_table.ipynb>data table notebook</a>'\n",
              "            + ' to learn more about interactive tables.';\n",
              "          element.innerHTML = '';\n",
              "          dataTable['output_type'] = 'display_data';\n",
              "          await google.colab.output.renderOutput(dataTable, element);\n",
              "          const docLink = document.createElement('div');\n",
              "          docLink.innerHTML = docLinkHtml;\n",
              "          element.appendChild(docLink);\n",
              "        }\n",
              "      </script>\n",
              "    </div>\n",
              "  </div>\n",
              "  "
            ],
            "text/plain": [
              "         Device               End Ts  Source Id             Start Ts  \\\n",
              "359390  desktop  2017-12-11 17:54:19          1  2017-12-11 17:54:00   \n",
              "359391    touch  2017-08-30 11:53:19          2  2017-08-30 11:53:00   \n",
              "359392  desktop  2017-12-30 21:49:19          4  2017-12-30 21:49:00   \n",
              "359393  desktop  2017-06-08 07:49:19          4  2017-06-08 07:49:00   \n",
              "359394    touch  2017-11-06 08:00:19          4  2017-11-06 08:00:00   \n",
              "359395  desktop  2017-07-29 19:07:19          2  2017-07-29 19:07:00   \n",
              "359396    touch  2018-01-25 17:38:19          1  2018-01-25 17:38:00   \n",
              "359397  desktop  2018-03-03 10:12:19          4  2018-03-03 10:12:00   \n",
              "359398  desktop  2017-11-02 10:12:19          5  2017-11-02 10:12:00   \n",
              "359399    touch  2017-09-10 13:13:19          2  2017-09-10 13:13:00   \n",
              "\n",
              "                         Uid  \n",
              "359390  18268369011883553090  \n",
              "359391  18304232853749481866  \n",
              "359392  18311497973035795342  \n",
              "359393  18325675073358289850  \n",
              "359394  18332905065174083046  \n",
              "359395  18363291481961487539  \n",
              "359396  18370831553019119586  \n",
              "359397  18387297585500748294  \n",
              "359398  18388616944624776485  \n",
              "359399  18396128934054549559  "
            ]
          },
          "metadata": {},
          "execution_count": 2
        }
      ],
      "source": [
        "visits.info()\n",
        "visits.tail(10)\n"
      ]
    },
    {
      "cell_type": "markdown",
      "metadata": {
        "id": "TxGkyIusyPnk"
      },
      "source": [
        "Пропусков нет. Видиим что столбцы End Ts и Start Ts имеют неверный тип данный. Нужно изменить тип на datetime. Так же обратим внимание на название столбцов. Напишем их строчными буквами а пробели заменим на нижнее подчеркивание."
      ]
    },
    {
      "cell_type": "markdown",
      "metadata": {
        "id": "g3BzOc8FyPnl"
      },
      "source": [
        "<div class=\"alert alert-block alert-success\">\n",
        "Комментарий ревьюера v. 1:\n",
        "    \n",
        "Отлично, пропусков нет, но нужно изменитьтип данных.\n",
        "</div>"
      ]
    },
    {
      "cell_type": "code",
      "execution_count": 3,
      "metadata": {
        "id": "AYQWzIL3yPnl",
        "outputId": "408db7f0-8d5a-499f-df94-2ec881c85871",
        "colab": {
          "base_uri": "https://localhost:8080/",
          "height": 423
        }
      },
      "outputs": [
        {
          "output_type": "execute_result",
          "data": {
            "text/html": [
              "\n",
              "  <div id=\"df-e4024990-4787-4842-9426-3d7260bdb260\">\n",
              "    <div class=\"colab-df-container\">\n",
              "      <div>\n",
              "<style scoped>\n",
              "    .dataframe tbody tr th:only-of-type {\n",
              "        vertical-align: middle;\n",
              "    }\n",
              "\n",
              "    .dataframe tbody tr th {\n",
              "        vertical-align: top;\n",
              "    }\n",
              "\n",
              "    .dataframe thead th {\n",
              "        text-align: right;\n",
              "    }\n",
              "</style>\n",
              "<table border=\"1\" class=\"dataframe\">\n",
              "  <thead>\n",
              "    <tr style=\"text-align: right;\">\n",
              "      <th></th>\n",
              "      <th>device</th>\n",
              "      <th>end_ts</th>\n",
              "      <th>source_id</th>\n",
              "      <th>start_ts</th>\n",
              "      <th>uid</th>\n",
              "    </tr>\n",
              "  </thead>\n",
              "  <tbody>\n",
              "    <tr>\n",
              "      <th>0</th>\n",
              "      <td>touch</td>\n",
              "      <td>2017-12-20 17:38:00</td>\n",
              "      <td>4</td>\n",
              "      <td>2017-12-20 17:20:00</td>\n",
              "      <td>16879256277535980062</td>\n",
              "    </tr>\n",
              "    <tr>\n",
              "      <th>1</th>\n",
              "      <td>desktop</td>\n",
              "      <td>2018-02-19 17:21:00</td>\n",
              "      <td>2</td>\n",
              "      <td>2018-02-19 16:53:00</td>\n",
              "      <td>104060357244891740</td>\n",
              "    </tr>\n",
              "    <tr>\n",
              "      <th>2</th>\n",
              "      <td>touch</td>\n",
              "      <td>2017-07-01 01:54:00</td>\n",
              "      <td>5</td>\n",
              "      <td>2017-07-01 01:54:00</td>\n",
              "      <td>7459035603376831527</td>\n",
              "    </tr>\n",
              "    <tr>\n",
              "      <th>3</th>\n",
              "      <td>desktop</td>\n",
              "      <td>2018-05-20 11:23:00</td>\n",
              "      <td>9</td>\n",
              "      <td>2018-05-20 10:59:00</td>\n",
              "      <td>16174680259334210214</td>\n",
              "    </tr>\n",
              "    <tr>\n",
              "      <th>4</th>\n",
              "      <td>desktop</td>\n",
              "      <td>2017-12-27 14:06:00</td>\n",
              "      <td>3</td>\n",
              "      <td>2017-12-27 14:06:00</td>\n",
              "      <td>9969694820036681168</td>\n",
              "    </tr>\n",
              "    <tr>\n",
              "      <th>...</th>\n",
              "      <td>...</td>\n",
              "      <td>...</td>\n",
              "      <td>...</td>\n",
              "      <td>...</td>\n",
              "      <td>...</td>\n",
              "    </tr>\n",
              "    <tr>\n",
              "      <th>359395</th>\n",
              "      <td>desktop</td>\n",
              "      <td>2017-07-29 19:07:19</td>\n",
              "      <td>2</td>\n",
              "      <td>2017-07-29 19:07:00</td>\n",
              "      <td>18363291481961487539</td>\n",
              "    </tr>\n",
              "    <tr>\n",
              "      <th>359396</th>\n",
              "      <td>touch</td>\n",
              "      <td>2018-01-25 17:38:19</td>\n",
              "      <td>1</td>\n",
              "      <td>2018-01-25 17:38:00</td>\n",
              "      <td>18370831553019119586</td>\n",
              "    </tr>\n",
              "    <tr>\n",
              "      <th>359397</th>\n",
              "      <td>desktop</td>\n",
              "      <td>2018-03-03 10:12:19</td>\n",
              "      <td>4</td>\n",
              "      <td>2018-03-03 10:12:00</td>\n",
              "      <td>18387297585500748294</td>\n",
              "    </tr>\n",
              "    <tr>\n",
              "      <th>359398</th>\n",
              "      <td>desktop</td>\n",
              "      <td>2017-11-02 10:12:19</td>\n",
              "      <td>5</td>\n",
              "      <td>2017-11-02 10:12:00</td>\n",
              "      <td>18388616944624776485</td>\n",
              "    </tr>\n",
              "    <tr>\n",
              "      <th>359399</th>\n",
              "      <td>touch</td>\n",
              "      <td>2017-09-10 13:13:19</td>\n",
              "      <td>2</td>\n",
              "      <td>2017-09-10 13:13:00</td>\n",
              "      <td>18396128934054549559</td>\n",
              "    </tr>\n",
              "  </tbody>\n",
              "</table>\n",
              "<p>359400 rows × 5 columns</p>\n",
              "</div>\n",
              "      <button class=\"colab-df-convert\" onclick=\"convertToInteractive('df-e4024990-4787-4842-9426-3d7260bdb260')\"\n",
              "              title=\"Convert this dataframe to an interactive table.\"\n",
              "              style=\"display:none;\">\n",
              "        \n",
              "  <svg xmlns=\"http://www.w3.org/2000/svg\" height=\"24px\"viewBox=\"0 0 24 24\"\n",
              "       width=\"24px\">\n",
              "    <path d=\"M0 0h24v24H0V0z\" fill=\"none\"/>\n",
              "    <path d=\"M18.56 5.44l.94 2.06.94-2.06 2.06-.94-2.06-.94-.94-2.06-.94 2.06-2.06.94zm-11 1L8.5 8.5l.94-2.06 2.06-.94-2.06-.94L8.5 2.5l-.94 2.06-2.06.94zm10 10l.94 2.06.94-2.06 2.06-.94-2.06-.94-.94-2.06-.94 2.06-2.06.94z\"/><path d=\"M17.41 7.96l-1.37-1.37c-.4-.4-.92-.59-1.43-.59-.52 0-1.04.2-1.43.59L10.3 9.45l-7.72 7.72c-.78.78-.78 2.05 0 2.83L4 21.41c.39.39.9.59 1.41.59.51 0 1.02-.2 1.41-.59l7.78-7.78 2.81-2.81c.8-.78.8-2.07 0-2.86zM5.41 20L4 18.59l7.72-7.72 1.47 1.35L5.41 20z\"/>\n",
              "  </svg>\n",
              "      </button>\n",
              "      \n",
              "  <style>\n",
              "    .colab-df-container {\n",
              "      display:flex;\n",
              "      flex-wrap:wrap;\n",
              "      gap: 12px;\n",
              "    }\n",
              "\n",
              "    .colab-df-convert {\n",
              "      background-color: #E8F0FE;\n",
              "      border: none;\n",
              "      border-radius: 50%;\n",
              "      cursor: pointer;\n",
              "      display: none;\n",
              "      fill: #1967D2;\n",
              "      height: 32px;\n",
              "      padding: 0 0 0 0;\n",
              "      width: 32px;\n",
              "    }\n",
              "\n",
              "    .colab-df-convert:hover {\n",
              "      background-color: #E2EBFA;\n",
              "      box-shadow: 0px 1px 2px rgba(60, 64, 67, 0.3), 0px 1px 3px 1px rgba(60, 64, 67, 0.15);\n",
              "      fill: #174EA6;\n",
              "    }\n",
              "\n",
              "    [theme=dark] .colab-df-convert {\n",
              "      background-color: #3B4455;\n",
              "      fill: #D2E3FC;\n",
              "    }\n",
              "\n",
              "    [theme=dark] .colab-df-convert:hover {\n",
              "      background-color: #434B5C;\n",
              "      box-shadow: 0px 1px 3px 1px rgba(0, 0, 0, 0.15);\n",
              "      filter: drop-shadow(0px 1px 2px rgba(0, 0, 0, 0.3));\n",
              "      fill: #FFFFFF;\n",
              "    }\n",
              "  </style>\n",
              "\n",
              "      <script>\n",
              "        const buttonEl =\n",
              "          document.querySelector('#df-e4024990-4787-4842-9426-3d7260bdb260 button.colab-df-convert');\n",
              "        buttonEl.style.display =\n",
              "          google.colab.kernel.accessAllowed ? 'block' : 'none';\n",
              "\n",
              "        async function convertToInteractive(key) {\n",
              "          const element = document.querySelector('#df-e4024990-4787-4842-9426-3d7260bdb260');\n",
              "          const dataTable =\n",
              "            await google.colab.kernel.invokeFunction('convertToInteractive',\n",
              "                                                     [key], {});\n",
              "          if (!dataTable) return;\n",
              "\n",
              "          const docLinkHtml = 'Like what you see? Visit the ' +\n",
              "            '<a target=\"_blank\" href=https://colab.research.google.com/notebooks/data_table.ipynb>data table notebook</a>'\n",
              "            + ' to learn more about interactive tables.';\n",
              "          element.innerHTML = '';\n",
              "          dataTable['output_type'] = 'display_data';\n",
              "          await google.colab.output.renderOutput(dataTable, element);\n",
              "          const docLink = document.createElement('div');\n",
              "          docLink.innerHTML = docLinkHtml;\n",
              "          element.appendChild(docLink);\n",
              "        }\n",
              "      </script>\n",
              "    </div>\n",
              "  </div>\n",
              "  "
            ],
            "text/plain": [
              "         device               end_ts  source_id             start_ts  \\\n",
              "0         touch  2017-12-20 17:38:00          4  2017-12-20 17:20:00   \n",
              "1       desktop  2018-02-19 17:21:00          2  2018-02-19 16:53:00   \n",
              "2         touch  2017-07-01 01:54:00          5  2017-07-01 01:54:00   \n",
              "3       desktop  2018-05-20 11:23:00          9  2018-05-20 10:59:00   \n",
              "4       desktop  2017-12-27 14:06:00          3  2017-12-27 14:06:00   \n",
              "...         ...                  ...        ...                  ...   \n",
              "359395  desktop  2017-07-29 19:07:19          2  2017-07-29 19:07:00   \n",
              "359396    touch  2018-01-25 17:38:19          1  2018-01-25 17:38:00   \n",
              "359397  desktop  2018-03-03 10:12:19          4  2018-03-03 10:12:00   \n",
              "359398  desktop  2017-11-02 10:12:19          5  2017-11-02 10:12:00   \n",
              "359399    touch  2017-09-10 13:13:19          2  2017-09-10 13:13:00   \n",
              "\n",
              "                         uid  \n",
              "0       16879256277535980062  \n",
              "1         104060357244891740  \n",
              "2        7459035603376831527  \n",
              "3       16174680259334210214  \n",
              "4        9969694820036681168  \n",
              "...                      ...  \n",
              "359395  18363291481961487539  \n",
              "359396  18370831553019119586  \n",
              "359397  18387297585500748294  \n",
              "359398  18388616944624776485  \n",
              "359399  18396128934054549559  \n",
              "\n",
              "[359400 rows x 5 columns]"
            ]
          },
          "metadata": {},
          "execution_count": 3
        }
      ],
      "source": [
        "visits.rename(columns={'Device': 'device', 'End Ts': 'end_ts', 'Source Id': 'source_id','Start Ts':'start_ts', 'Uid':'uid'}, inplace=True)\n",
        "visits"
      ]
    },
    {
      "cell_type": "code",
      "execution_count": 4,
      "metadata": {
        "id": "i7Bltf2hyPnm",
        "outputId": "a2fb3b88-c555-4fab-91aa-754772ff7265",
        "colab": {
          "base_uri": "https://localhost:8080/"
        }
      },
      "outputs": [
        {
          "output_type": "execute_result",
          "data": {
            "text/plain": [
              "count                  359400\n",
              "unique                 224760\n",
              "top       2017-11-24 16:51:00\n",
              "freq                       23\n",
              "Name: end_ts, dtype: object"
            ]
          },
          "metadata": {},
          "execution_count": 4
        }
      ],
      "source": [
        "visits['end_ts'].describe()"
      ]
    },
    {
      "cell_type": "markdown",
      "metadata": {
        "id": "j5Ntve_JyPnm"
      },
      "source": [
        "Изменяем тип данных на datetime"
      ]
    },
    {
      "cell_type": "code",
      "execution_count": 5,
      "metadata": {
        "id": "V7a0Cl7TyPnm"
      },
      "outputs": [],
      "source": [
        "visits['end_ts'] = pd.to_datetime(visits['end_ts'], format = '%Y-%m-%dT%H:%M:%S')\n",
        "visits['start_ts'] = pd.to_datetime(visits['start_ts'], format = '%Y-%m-%dT%H:%M:%S')"
      ]
    },
    {
      "cell_type": "markdown",
      "source": [
        "  В столбце device всего два значения. предлагаю перевести тип этого столбца в категориальный."
      ],
      "metadata": {
        "id": "AGFuTwXiieRV"
      }
    },
    {
      "cell_type": "code",
      "source": [
        "visits['device'].value_counts()"
      ],
      "metadata": {
        "colab": {
          "base_uri": "https://localhost:8080/"
        },
        "id": "OlSoI4bCh7rw",
        "outputId": "f12b87c3-5339-4447-bc6c-9b71a61fba6f"
      },
      "execution_count": 6,
      "outputs": [
        {
          "output_type": "execute_result",
          "data": {
            "text/plain": [
              "desktop    262567\n",
              "touch       96833\n",
              "Name: device, dtype: int64"
            ]
          },
          "metadata": {},
          "execution_count": 6
        }
      ]
    },
    {
      "cell_type": "markdown",
      "source": [
        "Строковая переменная, состоит только из нескольких разных значений. Преобразование такой строковой переменной в категориальную переменную сэкономит некоторую память."
      ],
      "metadata": {
        "id": "VAKlD1wAw57-"
      }
    },
    {
      "cell_type": "code",
      "source": [
        "visits['device']=visits['device'].astype('category')"
      ],
      "metadata": {
        "id": "74N5hPHNiNoP"
      },
      "execution_count": 7,
      "outputs": []
    },
    {
      "cell_type": "code",
      "execution_count": 8,
      "metadata": {
        "id": "jgvMuZ2YyPnn",
        "outputId": "d2b7c4df-eb81-4173-bd4a-854902b3dc92",
        "colab": {
          "base_uri": "https://localhost:8080/",
          "height": 352
        }
      },
      "outputs": [
        {
          "output_type": "stream",
          "name": "stdout",
          "text": [
            "<class 'pandas.core.frame.DataFrame'>\n",
            "RangeIndex: 359400 entries, 0 to 359399\n",
            "Data columns (total 5 columns):\n",
            " #   Column     Non-Null Count   Dtype         \n",
            "---  ------     --------------   -----         \n",
            " 0   device     359400 non-null  category      \n",
            " 1   end_ts     359400 non-null  datetime64[ns]\n",
            " 2   source_id  359400 non-null  int64         \n",
            " 3   start_ts   359400 non-null  datetime64[ns]\n",
            " 4   uid        359400 non-null  uint64        \n",
            "dtypes: category(1), datetime64[ns](2), int64(1), uint64(1)\n",
            "memory usage: 11.3 MB\n"
          ]
        },
        {
          "output_type": "execute_result",
          "data": {
            "text/html": [
              "\n",
              "  <div id=\"df-ec5d2fb9-ae82-47b1-be3a-c7fb6337e0cb\">\n",
              "    <div class=\"colab-df-container\">\n",
              "      <div>\n",
              "<style scoped>\n",
              "    .dataframe tbody tr th:only-of-type {\n",
              "        vertical-align: middle;\n",
              "    }\n",
              "\n",
              "    .dataframe tbody tr th {\n",
              "        vertical-align: top;\n",
              "    }\n",
              "\n",
              "    .dataframe thead th {\n",
              "        text-align: right;\n",
              "    }\n",
              "</style>\n",
              "<table border=\"1\" class=\"dataframe\">\n",
              "  <thead>\n",
              "    <tr style=\"text-align: right;\">\n",
              "      <th></th>\n",
              "      <th>device</th>\n",
              "      <th>end_ts</th>\n",
              "      <th>source_id</th>\n",
              "      <th>start_ts</th>\n",
              "      <th>uid</th>\n",
              "    </tr>\n",
              "  </thead>\n",
              "  <tbody>\n",
              "    <tr>\n",
              "      <th>0</th>\n",
              "      <td>touch</td>\n",
              "      <td>2017-12-20 17:38:00</td>\n",
              "      <td>4</td>\n",
              "      <td>2017-12-20 17:20:00</td>\n",
              "      <td>16879256277535980062</td>\n",
              "    </tr>\n",
              "    <tr>\n",
              "      <th>1</th>\n",
              "      <td>desktop</td>\n",
              "      <td>2018-02-19 17:21:00</td>\n",
              "      <td>2</td>\n",
              "      <td>2018-02-19 16:53:00</td>\n",
              "      <td>104060357244891740</td>\n",
              "    </tr>\n",
              "    <tr>\n",
              "      <th>2</th>\n",
              "      <td>touch</td>\n",
              "      <td>2017-07-01 01:54:00</td>\n",
              "      <td>5</td>\n",
              "      <td>2017-07-01 01:54:00</td>\n",
              "      <td>7459035603376831527</td>\n",
              "    </tr>\n",
              "  </tbody>\n",
              "</table>\n",
              "</div>\n",
              "      <button class=\"colab-df-convert\" onclick=\"convertToInteractive('df-ec5d2fb9-ae82-47b1-be3a-c7fb6337e0cb')\"\n",
              "              title=\"Convert this dataframe to an interactive table.\"\n",
              "              style=\"display:none;\">\n",
              "        \n",
              "  <svg xmlns=\"http://www.w3.org/2000/svg\" height=\"24px\"viewBox=\"0 0 24 24\"\n",
              "       width=\"24px\">\n",
              "    <path d=\"M0 0h24v24H0V0z\" fill=\"none\"/>\n",
              "    <path d=\"M18.56 5.44l.94 2.06.94-2.06 2.06-.94-2.06-.94-.94-2.06-.94 2.06-2.06.94zm-11 1L8.5 8.5l.94-2.06 2.06-.94-2.06-.94L8.5 2.5l-.94 2.06-2.06.94zm10 10l.94 2.06.94-2.06 2.06-.94-2.06-.94-.94-2.06-.94 2.06-2.06.94z\"/><path d=\"M17.41 7.96l-1.37-1.37c-.4-.4-.92-.59-1.43-.59-.52 0-1.04.2-1.43.59L10.3 9.45l-7.72 7.72c-.78.78-.78 2.05 0 2.83L4 21.41c.39.39.9.59 1.41.59.51 0 1.02-.2 1.41-.59l7.78-7.78 2.81-2.81c.8-.78.8-2.07 0-2.86zM5.41 20L4 18.59l7.72-7.72 1.47 1.35L5.41 20z\"/>\n",
              "  </svg>\n",
              "      </button>\n",
              "      \n",
              "  <style>\n",
              "    .colab-df-container {\n",
              "      display:flex;\n",
              "      flex-wrap:wrap;\n",
              "      gap: 12px;\n",
              "    }\n",
              "\n",
              "    .colab-df-convert {\n",
              "      background-color: #E8F0FE;\n",
              "      border: none;\n",
              "      border-radius: 50%;\n",
              "      cursor: pointer;\n",
              "      display: none;\n",
              "      fill: #1967D2;\n",
              "      height: 32px;\n",
              "      padding: 0 0 0 0;\n",
              "      width: 32px;\n",
              "    }\n",
              "\n",
              "    .colab-df-convert:hover {\n",
              "      background-color: #E2EBFA;\n",
              "      box-shadow: 0px 1px 2px rgba(60, 64, 67, 0.3), 0px 1px 3px 1px rgba(60, 64, 67, 0.15);\n",
              "      fill: #174EA6;\n",
              "    }\n",
              "\n",
              "    [theme=dark] .colab-df-convert {\n",
              "      background-color: #3B4455;\n",
              "      fill: #D2E3FC;\n",
              "    }\n",
              "\n",
              "    [theme=dark] .colab-df-convert:hover {\n",
              "      background-color: #434B5C;\n",
              "      box-shadow: 0px 1px 3px 1px rgba(0, 0, 0, 0.15);\n",
              "      filter: drop-shadow(0px 1px 2px rgba(0, 0, 0, 0.3));\n",
              "      fill: #FFFFFF;\n",
              "    }\n",
              "  </style>\n",
              "\n",
              "      <script>\n",
              "        const buttonEl =\n",
              "          document.querySelector('#df-ec5d2fb9-ae82-47b1-be3a-c7fb6337e0cb button.colab-df-convert');\n",
              "        buttonEl.style.display =\n",
              "          google.colab.kernel.accessAllowed ? 'block' : 'none';\n",
              "\n",
              "        async function convertToInteractive(key) {\n",
              "          const element = document.querySelector('#df-ec5d2fb9-ae82-47b1-be3a-c7fb6337e0cb');\n",
              "          const dataTable =\n",
              "            await google.colab.kernel.invokeFunction('convertToInteractive',\n",
              "                                                     [key], {});\n",
              "          if (!dataTable) return;\n",
              "\n",
              "          const docLinkHtml = 'Like what you see? Visit the ' +\n",
              "            '<a target=\"_blank\" href=https://colab.research.google.com/notebooks/data_table.ipynb>data table notebook</a>'\n",
              "            + ' to learn more about interactive tables.';\n",
              "          element.innerHTML = '';\n",
              "          dataTable['output_type'] = 'display_data';\n",
              "          await google.colab.output.renderOutput(dataTable, element);\n",
              "          const docLink = document.createElement('div');\n",
              "          docLink.innerHTML = docLinkHtml;\n",
              "          element.appendChild(docLink);\n",
              "        }\n",
              "      </script>\n",
              "    </div>\n",
              "  </div>\n",
              "  "
            ],
            "text/plain": [
              "    device              end_ts  source_id            start_ts  \\\n",
              "0    touch 2017-12-20 17:38:00          4 2017-12-20 17:20:00   \n",
              "1  desktop 2018-02-19 17:21:00          2 2018-02-19 16:53:00   \n",
              "2    touch 2017-07-01 01:54:00          5 2017-07-01 01:54:00   \n",
              "\n",
              "                    uid  \n",
              "0  16879256277535980062  \n",
              "1    104060357244891740  \n",
              "2   7459035603376831527  "
            ]
          },
          "metadata": {},
          "execution_count": 8
        }
      ],
      "source": [
        "visits.info()\n",
        "visits.head(3)\n"
      ]
    },
    {
      "cell_type": "markdown",
      "metadata": {
        "id": "QtmafmityPnn"
      },
      "source": [
        "Те же действия проводим с таблицами orders и costs."
      ]
    },
    {
      "cell_type": "code",
      "execution_count": 9,
      "metadata": {
        "id": "vzn89XbTyPno",
        "outputId": "e733016a-afec-404c-aacf-73f112d2039a",
        "colab": {
          "base_uri": "https://localhost:8080/",
          "height": 536
        }
      },
      "outputs": [
        {
          "output_type": "stream",
          "name": "stdout",
          "text": [
            "<class 'pandas.core.frame.DataFrame'>\n",
            "RangeIndex: 50415 entries, 0 to 50414\n",
            "Data columns (total 3 columns):\n",
            " #   Column   Non-Null Count  Dtype  \n",
            "---  ------   --------------  -----  \n",
            " 0   Buy Ts   50415 non-null  object \n",
            " 1   Revenue  50415 non-null  float64\n",
            " 2   Uid      50415 non-null  uint64 \n",
            "dtypes: float64(1), object(1), uint64(1)\n",
            "memory usage: 1.2+ MB\n"
          ]
        },
        {
          "output_type": "execute_result",
          "data": {
            "text/html": [
              "\n",
              "  <div id=\"df-66b10bdc-7964-47f1-950d-4aefd75dd75e\">\n",
              "    <div class=\"colab-df-container\">\n",
              "      <div>\n",
              "<style scoped>\n",
              "    .dataframe tbody tr th:only-of-type {\n",
              "        vertical-align: middle;\n",
              "    }\n",
              "\n",
              "    .dataframe tbody tr th {\n",
              "        vertical-align: top;\n",
              "    }\n",
              "\n",
              "    .dataframe thead th {\n",
              "        text-align: right;\n",
              "    }\n",
              "</style>\n",
              "<table border=\"1\" class=\"dataframe\">\n",
              "  <thead>\n",
              "    <tr style=\"text-align: right;\">\n",
              "      <th></th>\n",
              "      <th>Buy Ts</th>\n",
              "      <th>Revenue</th>\n",
              "      <th>Uid</th>\n",
              "    </tr>\n",
              "  </thead>\n",
              "  <tbody>\n",
              "    <tr>\n",
              "      <th>0</th>\n",
              "      <td>2017-06-01 00:10:00</td>\n",
              "      <td>17.000</td>\n",
              "      <td>10329302124590727494</td>\n",
              "    </tr>\n",
              "    <tr>\n",
              "      <th>1</th>\n",
              "      <td>2017-06-01 00:25:00</td>\n",
              "      <td>0.550</td>\n",
              "      <td>11627257723692907447</td>\n",
              "    </tr>\n",
              "    <tr>\n",
              "      <th>2</th>\n",
              "      <td>2017-06-01 00:27:00</td>\n",
              "      <td>0.370</td>\n",
              "      <td>17903680561304213844</td>\n",
              "    </tr>\n",
              "    <tr>\n",
              "      <th>3</th>\n",
              "      <td>2017-06-01 00:29:00</td>\n",
              "      <td>0.550</td>\n",
              "      <td>16109239769442553005</td>\n",
              "    </tr>\n",
              "    <tr>\n",
              "      <th>4</th>\n",
              "      <td>2017-06-01 07:58:00</td>\n",
              "      <td>0.370</td>\n",
              "      <td>14200605875248379450</td>\n",
              "    </tr>\n",
              "    <tr>\n",
              "      <th>5</th>\n",
              "      <td>2017-06-01 08:43:00</td>\n",
              "      <td>0.180</td>\n",
              "      <td>10402394430196413321</td>\n",
              "    </tr>\n",
              "    <tr>\n",
              "      <th>6</th>\n",
              "      <td>2017-06-01 08:54:00</td>\n",
              "      <td>1.830</td>\n",
              "      <td>12464626743129688638</td>\n",
              "    </tr>\n",
              "    <tr>\n",
              "      <th>7</th>\n",
              "      <td>2017-06-01 09:22:00</td>\n",
              "      <td>1.220</td>\n",
              "      <td>3644482766749211722</td>\n",
              "    </tr>\n",
              "    <tr>\n",
              "      <th>8</th>\n",
              "      <td>2017-06-01 09:22:00</td>\n",
              "      <td>3.300</td>\n",
              "      <td>17542070709969841479</td>\n",
              "    </tr>\n",
              "    <tr>\n",
              "      <th>9</th>\n",
              "      <td>2017-06-01 09:23:00</td>\n",
              "      <td>0.370</td>\n",
              "      <td>1074355127080856382</td>\n",
              "    </tr>\n",
              "  </tbody>\n",
              "</table>\n",
              "</div>\n",
              "      <button class=\"colab-df-convert\" onclick=\"convertToInteractive('df-66b10bdc-7964-47f1-950d-4aefd75dd75e')\"\n",
              "              title=\"Convert this dataframe to an interactive table.\"\n",
              "              style=\"display:none;\">\n",
              "        \n",
              "  <svg xmlns=\"http://www.w3.org/2000/svg\" height=\"24px\"viewBox=\"0 0 24 24\"\n",
              "       width=\"24px\">\n",
              "    <path d=\"M0 0h24v24H0V0z\" fill=\"none\"/>\n",
              "    <path d=\"M18.56 5.44l.94 2.06.94-2.06 2.06-.94-2.06-.94-.94-2.06-.94 2.06-2.06.94zm-11 1L8.5 8.5l.94-2.06 2.06-.94-2.06-.94L8.5 2.5l-.94 2.06-2.06.94zm10 10l.94 2.06.94-2.06 2.06-.94-2.06-.94-.94-2.06-.94 2.06-2.06.94z\"/><path d=\"M17.41 7.96l-1.37-1.37c-.4-.4-.92-.59-1.43-.59-.52 0-1.04.2-1.43.59L10.3 9.45l-7.72 7.72c-.78.78-.78 2.05 0 2.83L4 21.41c.39.39.9.59 1.41.59.51 0 1.02-.2 1.41-.59l7.78-7.78 2.81-2.81c.8-.78.8-2.07 0-2.86zM5.41 20L4 18.59l7.72-7.72 1.47 1.35L5.41 20z\"/>\n",
              "  </svg>\n",
              "      </button>\n",
              "      \n",
              "  <style>\n",
              "    .colab-df-container {\n",
              "      display:flex;\n",
              "      flex-wrap:wrap;\n",
              "      gap: 12px;\n",
              "    }\n",
              "\n",
              "    .colab-df-convert {\n",
              "      background-color: #E8F0FE;\n",
              "      border: none;\n",
              "      border-radius: 50%;\n",
              "      cursor: pointer;\n",
              "      display: none;\n",
              "      fill: #1967D2;\n",
              "      height: 32px;\n",
              "      padding: 0 0 0 0;\n",
              "      width: 32px;\n",
              "    }\n",
              "\n",
              "    .colab-df-convert:hover {\n",
              "      background-color: #E2EBFA;\n",
              "      box-shadow: 0px 1px 2px rgba(60, 64, 67, 0.3), 0px 1px 3px 1px rgba(60, 64, 67, 0.15);\n",
              "      fill: #174EA6;\n",
              "    }\n",
              "\n",
              "    [theme=dark] .colab-df-convert {\n",
              "      background-color: #3B4455;\n",
              "      fill: #D2E3FC;\n",
              "    }\n",
              "\n",
              "    [theme=dark] .colab-df-convert:hover {\n",
              "      background-color: #434B5C;\n",
              "      box-shadow: 0px 1px 3px 1px rgba(0, 0, 0, 0.15);\n",
              "      filter: drop-shadow(0px 1px 2px rgba(0, 0, 0, 0.3));\n",
              "      fill: #FFFFFF;\n",
              "    }\n",
              "  </style>\n",
              "\n",
              "      <script>\n",
              "        const buttonEl =\n",
              "          document.querySelector('#df-66b10bdc-7964-47f1-950d-4aefd75dd75e button.colab-df-convert');\n",
              "        buttonEl.style.display =\n",
              "          google.colab.kernel.accessAllowed ? 'block' : 'none';\n",
              "\n",
              "        async function convertToInteractive(key) {\n",
              "          const element = document.querySelector('#df-66b10bdc-7964-47f1-950d-4aefd75dd75e');\n",
              "          const dataTable =\n",
              "            await google.colab.kernel.invokeFunction('convertToInteractive',\n",
              "                                                     [key], {});\n",
              "          if (!dataTable) return;\n",
              "\n",
              "          const docLinkHtml = 'Like what you see? Visit the ' +\n",
              "            '<a target=\"_blank\" href=https://colab.research.google.com/notebooks/data_table.ipynb>data table notebook</a>'\n",
              "            + ' to learn more about interactive tables.';\n",
              "          element.innerHTML = '';\n",
              "          dataTable['output_type'] = 'display_data';\n",
              "          await google.colab.output.renderOutput(dataTable, element);\n",
              "          const docLink = document.createElement('div');\n",
              "          docLink.innerHTML = docLinkHtml;\n",
              "          element.appendChild(docLink);\n",
              "        }\n",
              "      </script>\n",
              "    </div>\n",
              "  </div>\n",
              "  "
            ],
            "text/plain": [
              "                Buy Ts  Revenue                   Uid\n",
              "0  2017-06-01 00:10:00   17.000  10329302124590727494\n",
              "1  2017-06-01 00:25:00    0.550  11627257723692907447\n",
              "2  2017-06-01 00:27:00    0.370  17903680561304213844\n",
              "3  2017-06-01 00:29:00    0.550  16109239769442553005\n",
              "4  2017-06-01 07:58:00    0.370  14200605875248379450\n",
              "5  2017-06-01 08:43:00    0.180  10402394430196413321\n",
              "6  2017-06-01 08:54:00    1.830  12464626743129688638\n",
              "7  2017-06-01 09:22:00    1.220   3644482766749211722\n",
              "8  2017-06-01 09:22:00    3.300  17542070709969841479\n",
              "9  2017-06-01 09:23:00    0.370   1074355127080856382"
            ]
          },
          "metadata": {},
          "execution_count": 9
        }
      ],
      "source": [
        "orders.info()\n",
        "orders.head(10)"
      ]
    },
    {
      "cell_type": "code",
      "execution_count": 10,
      "metadata": {
        "id": "ai3WouTnyPno",
        "outputId": "249fde8b-4159-4dde-8203-7539e9cdbe4c",
        "colab": {
          "base_uri": "https://localhost:8080/",
          "height": 317
        }
      },
      "outputs": [
        {
          "output_type": "stream",
          "name": "stdout",
          "text": [
            "<class 'pandas.core.frame.DataFrame'>\n",
            "RangeIndex: 50415 entries, 0 to 50414\n",
            "Data columns (total 3 columns):\n",
            " #   Column   Non-Null Count  Dtype         \n",
            "---  ------   --------------  -----         \n",
            " 0   buy_ts   50415 non-null  datetime64[ns]\n",
            " 1   revenue  50415 non-null  float64       \n",
            " 2   uid      50415 non-null  uint64        \n",
            "dtypes: datetime64[ns](1), float64(1), uint64(1)\n",
            "memory usage: 1.2 MB\n"
          ]
        },
        {
          "output_type": "execute_result",
          "data": {
            "text/html": [
              "\n",
              "  <div id=\"df-b54b4de2-9862-4d01-ba7c-fe9a2df15022\">\n",
              "    <div class=\"colab-df-container\">\n",
              "      <div>\n",
              "<style scoped>\n",
              "    .dataframe tbody tr th:only-of-type {\n",
              "        vertical-align: middle;\n",
              "    }\n",
              "\n",
              "    .dataframe tbody tr th {\n",
              "        vertical-align: top;\n",
              "    }\n",
              "\n",
              "    .dataframe thead th {\n",
              "        text-align: right;\n",
              "    }\n",
              "</style>\n",
              "<table border=\"1\" class=\"dataframe\">\n",
              "  <thead>\n",
              "    <tr style=\"text-align: right;\">\n",
              "      <th></th>\n",
              "      <th>buy_ts</th>\n",
              "      <th>revenue</th>\n",
              "      <th>uid</th>\n",
              "    </tr>\n",
              "  </thead>\n",
              "  <tbody>\n",
              "    <tr>\n",
              "      <th>0</th>\n",
              "      <td>2017-06-01 00:10:00</td>\n",
              "      <td>17.000</td>\n",
              "      <td>10329302124590727494</td>\n",
              "    </tr>\n",
              "    <tr>\n",
              "      <th>1</th>\n",
              "      <td>2017-06-01 00:25:00</td>\n",
              "      <td>0.550</td>\n",
              "      <td>11627257723692907447</td>\n",
              "    </tr>\n",
              "    <tr>\n",
              "      <th>2</th>\n",
              "      <td>2017-06-01 00:27:00</td>\n",
              "      <td>0.370</td>\n",
              "      <td>17903680561304213844</td>\n",
              "    </tr>\n",
              "  </tbody>\n",
              "</table>\n",
              "</div>\n",
              "      <button class=\"colab-df-convert\" onclick=\"convertToInteractive('df-b54b4de2-9862-4d01-ba7c-fe9a2df15022')\"\n",
              "              title=\"Convert this dataframe to an interactive table.\"\n",
              "              style=\"display:none;\">\n",
              "        \n",
              "  <svg xmlns=\"http://www.w3.org/2000/svg\" height=\"24px\"viewBox=\"0 0 24 24\"\n",
              "       width=\"24px\">\n",
              "    <path d=\"M0 0h24v24H0V0z\" fill=\"none\"/>\n",
              "    <path d=\"M18.56 5.44l.94 2.06.94-2.06 2.06-.94-2.06-.94-.94-2.06-.94 2.06-2.06.94zm-11 1L8.5 8.5l.94-2.06 2.06-.94-2.06-.94L8.5 2.5l-.94 2.06-2.06.94zm10 10l.94 2.06.94-2.06 2.06-.94-2.06-.94-.94-2.06-.94 2.06-2.06.94z\"/><path d=\"M17.41 7.96l-1.37-1.37c-.4-.4-.92-.59-1.43-.59-.52 0-1.04.2-1.43.59L10.3 9.45l-7.72 7.72c-.78.78-.78 2.05 0 2.83L4 21.41c.39.39.9.59 1.41.59.51 0 1.02-.2 1.41-.59l7.78-7.78 2.81-2.81c.8-.78.8-2.07 0-2.86zM5.41 20L4 18.59l7.72-7.72 1.47 1.35L5.41 20z\"/>\n",
              "  </svg>\n",
              "      </button>\n",
              "      \n",
              "  <style>\n",
              "    .colab-df-container {\n",
              "      display:flex;\n",
              "      flex-wrap:wrap;\n",
              "      gap: 12px;\n",
              "    }\n",
              "\n",
              "    .colab-df-convert {\n",
              "      background-color: #E8F0FE;\n",
              "      border: none;\n",
              "      border-radius: 50%;\n",
              "      cursor: pointer;\n",
              "      display: none;\n",
              "      fill: #1967D2;\n",
              "      height: 32px;\n",
              "      padding: 0 0 0 0;\n",
              "      width: 32px;\n",
              "    }\n",
              "\n",
              "    .colab-df-convert:hover {\n",
              "      background-color: #E2EBFA;\n",
              "      box-shadow: 0px 1px 2px rgba(60, 64, 67, 0.3), 0px 1px 3px 1px rgba(60, 64, 67, 0.15);\n",
              "      fill: #174EA6;\n",
              "    }\n",
              "\n",
              "    [theme=dark] .colab-df-convert {\n",
              "      background-color: #3B4455;\n",
              "      fill: #D2E3FC;\n",
              "    }\n",
              "\n",
              "    [theme=dark] .colab-df-convert:hover {\n",
              "      background-color: #434B5C;\n",
              "      box-shadow: 0px 1px 3px 1px rgba(0, 0, 0, 0.15);\n",
              "      filter: drop-shadow(0px 1px 2px rgba(0, 0, 0, 0.3));\n",
              "      fill: #FFFFFF;\n",
              "    }\n",
              "  </style>\n",
              "\n",
              "      <script>\n",
              "        const buttonEl =\n",
              "          document.querySelector('#df-b54b4de2-9862-4d01-ba7c-fe9a2df15022 button.colab-df-convert');\n",
              "        buttonEl.style.display =\n",
              "          google.colab.kernel.accessAllowed ? 'block' : 'none';\n",
              "\n",
              "        async function convertToInteractive(key) {\n",
              "          const element = document.querySelector('#df-b54b4de2-9862-4d01-ba7c-fe9a2df15022');\n",
              "          const dataTable =\n",
              "            await google.colab.kernel.invokeFunction('convertToInteractive',\n",
              "                                                     [key], {});\n",
              "          if (!dataTable) return;\n",
              "\n",
              "          const docLinkHtml = 'Like what you see? Visit the ' +\n",
              "            '<a target=\"_blank\" href=https://colab.research.google.com/notebooks/data_table.ipynb>data table notebook</a>'\n",
              "            + ' to learn more about interactive tables.';\n",
              "          element.innerHTML = '';\n",
              "          dataTable['output_type'] = 'display_data';\n",
              "          await google.colab.output.renderOutput(dataTable, element);\n",
              "          const docLink = document.createElement('div');\n",
              "          docLink.innerHTML = docLinkHtml;\n",
              "          element.appendChild(docLink);\n",
              "        }\n",
              "      </script>\n",
              "    </div>\n",
              "  </div>\n",
              "  "
            ],
            "text/plain": [
              "               buy_ts  revenue                   uid\n",
              "0 2017-06-01 00:10:00   17.000  10329302124590727494\n",
              "1 2017-06-01 00:25:00    0.550  11627257723692907447\n",
              "2 2017-06-01 00:27:00    0.370  17903680561304213844"
            ]
          },
          "metadata": {},
          "execution_count": 10
        }
      ],
      "source": [
        "orders.columns = orders.columns.str.lower()\n",
        "orders.rename(columns={'buy ts': 'buy_ts'}, inplace=True)\n",
        "orders['buy_ts'] = pd.to_datetime(orders['buy_ts'], format = '%Y-%m-%dT%H:%M:%S')\n",
        "orders.info()\n",
        "orders.head(3)\n"
      ]
    },
    {
      "cell_type": "code",
      "execution_count": 11,
      "metadata": {
        "id": "b2V258UwyPnp",
        "outputId": "0d61aa24-3103-4735-d3e2-879f569b2339",
        "colab": {
          "base_uri": "https://localhost:8080/"
        }
      },
      "outputs": [
        {
          "output_type": "execute_result",
          "data": {
            "text/plain": [
              "count                   50415\n",
              "unique                  45991\n",
              "top       2018-05-31 10:13:00\n",
              "freq                        9\n",
              "first     2017-06-01 00:10:00\n",
              "last      2018-06-01 00:02:00\n",
              "Name: buy_ts, dtype: object"
            ]
          },
          "metadata": {},
          "execution_count": 11
        }
      ],
      "source": [
        "orders['buy_ts'].describe()"
      ]
    },
    {
      "cell_type": "code",
      "source": [
        "orders = orders[orders['buy_ts'] != '2018-06-01 00:02:00']\n",
        "orders['buy_ts'] = pd.to_datetime(orders['buy_ts'], format = '%Y-%m-%dT%H:%M:%S')\n",
        "orders['buy_ts'].describe()"
      ],
      "metadata": {
        "colab": {
          "base_uri": "https://localhost:8080/"
        },
        "id": "sTTHIZ9zhVou",
        "outputId": "fee936f3-b034-43c0-dad3-4370e8df4bc6"
      },
      "execution_count": 12,
      "outputs": [
        {
          "output_type": "execute_result",
          "data": {
            "text/plain": [
              "count                   50414\n",
              "unique                  45990\n",
              "top       2018-05-31 10:13:00\n",
              "freq                        9\n",
              "first     2017-06-01 00:10:00\n",
              "last      2018-05-31 23:56:00\n",
              "Name: buy_ts, dtype: object"
            ]
          },
          "metadata": {},
          "execution_count": 12
        }
      ]
    },
    {
      "cell_type": "markdown",
      "metadata": {
        "id": "_nh5Sv2JyPnp"
      },
      "source": [
        "При просмотре дат заказов обратил внимание на то, что последний месяц представлен только одним заказом от 2018-06-01 00:02:00. Это может повлиять на анализ, так как созданная когорта по этому месяцу будет представлена только одной транзакцией, да и период в задании указан по конец мая 2018 года. Предлагаю удалить этот заказ. "
      ]
    },
    {
      "cell_type": "markdown",
      "metadata": {
        "id": "NlHV6PDFyPnq"
      },
      "source": [
        "Посмотрим следующую таблицу."
      ]
    },
    {
      "cell_type": "code",
      "execution_count": 13,
      "metadata": {
        "id": "NacwKuZcyPnq",
        "outputId": "09210ac6-3c12-476a-98b9-f514960f351b",
        "colab": {
          "base_uri": "https://localhost:8080/",
          "height": 536
        }
      },
      "outputs": [
        {
          "output_type": "stream",
          "name": "stdout",
          "text": [
            "<class 'pandas.core.frame.DataFrame'>\n",
            "RangeIndex: 2542 entries, 0 to 2541\n",
            "Data columns (total 3 columns):\n",
            " #   Column     Non-Null Count  Dtype  \n",
            "---  ------     --------------  -----  \n",
            " 0   source_id  2542 non-null   int64  \n",
            " 1   dt         2542 non-null   object \n",
            " 2   costs      2542 non-null   float64\n",
            "dtypes: float64(1), int64(1), object(1)\n",
            "memory usage: 59.7+ KB\n"
          ]
        },
        {
          "output_type": "execute_result",
          "data": {
            "text/html": [
              "\n",
              "  <div id=\"df-d49cc9e9-8395-4914-93f3-10e7580a24b2\">\n",
              "    <div class=\"colab-df-container\">\n",
              "      <div>\n",
              "<style scoped>\n",
              "    .dataframe tbody tr th:only-of-type {\n",
              "        vertical-align: middle;\n",
              "    }\n",
              "\n",
              "    .dataframe tbody tr th {\n",
              "        vertical-align: top;\n",
              "    }\n",
              "\n",
              "    .dataframe thead th {\n",
              "        text-align: right;\n",
              "    }\n",
              "</style>\n",
              "<table border=\"1\" class=\"dataframe\">\n",
              "  <thead>\n",
              "    <tr style=\"text-align: right;\">\n",
              "      <th></th>\n",
              "      <th>source_id</th>\n",
              "      <th>dt</th>\n",
              "      <th>costs</th>\n",
              "    </tr>\n",
              "  </thead>\n",
              "  <tbody>\n",
              "    <tr>\n",
              "      <th>0</th>\n",
              "      <td>1</td>\n",
              "      <td>2017-06-01</td>\n",
              "      <td>75.200</td>\n",
              "    </tr>\n",
              "    <tr>\n",
              "      <th>1</th>\n",
              "      <td>1</td>\n",
              "      <td>2017-06-02</td>\n",
              "      <td>62.250</td>\n",
              "    </tr>\n",
              "    <tr>\n",
              "      <th>2</th>\n",
              "      <td>1</td>\n",
              "      <td>2017-06-03</td>\n",
              "      <td>36.530</td>\n",
              "    </tr>\n",
              "    <tr>\n",
              "      <th>3</th>\n",
              "      <td>1</td>\n",
              "      <td>2017-06-04</td>\n",
              "      <td>55.000</td>\n",
              "    </tr>\n",
              "    <tr>\n",
              "      <th>4</th>\n",
              "      <td>1</td>\n",
              "      <td>2017-06-05</td>\n",
              "      <td>57.080</td>\n",
              "    </tr>\n",
              "    <tr>\n",
              "      <th>5</th>\n",
              "      <td>1</td>\n",
              "      <td>2017-06-06</td>\n",
              "      <td>40.390</td>\n",
              "    </tr>\n",
              "    <tr>\n",
              "      <th>6</th>\n",
              "      <td>1</td>\n",
              "      <td>2017-06-07</td>\n",
              "      <td>40.590</td>\n",
              "    </tr>\n",
              "    <tr>\n",
              "      <th>7</th>\n",
              "      <td>1</td>\n",
              "      <td>2017-06-08</td>\n",
              "      <td>56.630</td>\n",
              "    </tr>\n",
              "    <tr>\n",
              "      <th>8</th>\n",
              "      <td>1</td>\n",
              "      <td>2017-06-09</td>\n",
              "      <td>40.160</td>\n",
              "    </tr>\n",
              "    <tr>\n",
              "      <th>9</th>\n",
              "      <td>1</td>\n",
              "      <td>2017-06-10</td>\n",
              "      <td>43.240</td>\n",
              "    </tr>\n",
              "  </tbody>\n",
              "</table>\n",
              "</div>\n",
              "      <button class=\"colab-df-convert\" onclick=\"convertToInteractive('df-d49cc9e9-8395-4914-93f3-10e7580a24b2')\"\n",
              "              title=\"Convert this dataframe to an interactive table.\"\n",
              "              style=\"display:none;\">\n",
              "        \n",
              "  <svg xmlns=\"http://www.w3.org/2000/svg\" height=\"24px\"viewBox=\"0 0 24 24\"\n",
              "       width=\"24px\">\n",
              "    <path d=\"M0 0h24v24H0V0z\" fill=\"none\"/>\n",
              "    <path d=\"M18.56 5.44l.94 2.06.94-2.06 2.06-.94-2.06-.94-.94-2.06-.94 2.06-2.06.94zm-11 1L8.5 8.5l.94-2.06 2.06-.94-2.06-.94L8.5 2.5l-.94 2.06-2.06.94zm10 10l.94 2.06.94-2.06 2.06-.94-2.06-.94-.94-2.06-.94 2.06-2.06.94z\"/><path d=\"M17.41 7.96l-1.37-1.37c-.4-.4-.92-.59-1.43-.59-.52 0-1.04.2-1.43.59L10.3 9.45l-7.72 7.72c-.78.78-.78 2.05 0 2.83L4 21.41c.39.39.9.59 1.41.59.51 0 1.02-.2 1.41-.59l7.78-7.78 2.81-2.81c.8-.78.8-2.07 0-2.86zM5.41 20L4 18.59l7.72-7.72 1.47 1.35L5.41 20z\"/>\n",
              "  </svg>\n",
              "      </button>\n",
              "      \n",
              "  <style>\n",
              "    .colab-df-container {\n",
              "      display:flex;\n",
              "      flex-wrap:wrap;\n",
              "      gap: 12px;\n",
              "    }\n",
              "\n",
              "    .colab-df-convert {\n",
              "      background-color: #E8F0FE;\n",
              "      border: none;\n",
              "      border-radius: 50%;\n",
              "      cursor: pointer;\n",
              "      display: none;\n",
              "      fill: #1967D2;\n",
              "      height: 32px;\n",
              "      padding: 0 0 0 0;\n",
              "      width: 32px;\n",
              "    }\n",
              "\n",
              "    .colab-df-convert:hover {\n",
              "      background-color: #E2EBFA;\n",
              "      box-shadow: 0px 1px 2px rgba(60, 64, 67, 0.3), 0px 1px 3px 1px rgba(60, 64, 67, 0.15);\n",
              "      fill: #174EA6;\n",
              "    }\n",
              "\n",
              "    [theme=dark] .colab-df-convert {\n",
              "      background-color: #3B4455;\n",
              "      fill: #D2E3FC;\n",
              "    }\n",
              "\n",
              "    [theme=dark] .colab-df-convert:hover {\n",
              "      background-color: #434B5C;\n",
              "      box-shadow: 0px 1px 3px 1px rgba(0, 0, 0, 0.15);\n",
              "      filter: drop-shadow(0px 1px 2px rgba(0, 0, 0, 0.3));\n",
              "      fill: #FFFFFF;\n",
              "    }\n",
              "  </style>\n",
              "\n",
              "      <script>\n",
              "        const buttonEl =\n",
              "          document.querySelector('#df-d49cc9e9-8395-4914-93f3-10e7580a24b2 button.colab-df-convert');\n",
              "        buttonEl.style.display =\n",
              "          google.colab.kernel.accessAllowed ? 'block' : 'none';\n",
              "\n",
              "        async function convertToInteractive(key) {\n",
              "          const element = document.querySelector('#df-d49cc9e9-8395-4914-93f3-10e7580a24b2');\n",
              "          const dataTable =\n",
              "            await google.colab.kernel.invokeFunction('convertToInteractive',\n",
              "                                                     [key], {});\n",
              "          if (!dataTable) return;\n",
              "\n",
              "          const docLinkHtml = 'Like what you see? Visit the ' +\n",
              "            '<a target=\"_blank\" href=https://colab.research.google.com/notebooks/data_table.ipynb>data table notebook</a>'\n",
              "            + ' to learn more about interactive tables.';\n",
              "          element.innerHTML = '';\n",
              "          dataTable['output_type'] = 'display_data';\n",
              "          await google.colab.output.renderOutput(dataTable, element);\n",
              "          const docLink = document.createElement('div');\n",
              "          docLink.innerHTML = docLinkHtml;\n",
              "          element.appendChild(docLink);\n",
              "        }\n",
              "      </script>\n",
              "    </div>\n",
              "  </div>\n",
              "  "
            ],
            "text/plain": [
              "   source_id          dt  costs\n",
              "0          1  2017-06-01 75.200\n",
              "1          1  2017-06-02 62.250\n",
              "2          1  2017-06-03 36.530\n",
              "3          1  2017-06-04 55.000\n",
              "4          1  2017-06-05 57.080\n",
              "5          1  2017-06-06 40.390\n",
              "6          1  2017-06-07 40.590\n",
              "7          1  2017-06-08 56.630\n",
              "8          1  2017-06-09 40.160\n",
              "9          1  2017-06-10 43.240"
            ]
          },
          "metadata": {},
          "execution_count": 13
        }
      ],
      "source": [
        "costs.info()\n",
        "costs.head(10)"
      ]
    },
    {
      "cell_type": "code",
      "execution_count": 14,
      "metadata": {
        "id": "Nrd2VNz1yPnr",
        "outputId": "d0fdf763-c38e-49d9-917e-fc43c2150280",
        "colab": {
          "base_uri": "https://localhost:8080/"
        }
      },
      "outputs": [
        {
          "output_type": "stream",
          "name": "stdout",
          "text": [
            "<class 'pandas.core.frame.DataFrame'>\n",
            "RangeIndex: 2542 entries, 0 to 2541\n",
            "Data columns (total 3 columns):\n",
            " #   Column     Non-Null Count  Dtype         \n",
            "---  ------     --------------  -----         \n",
            " 0   source_id  2542 non-null   int64         \n",
            " 1   dt         2542 non-null   datetime64[ns]\n",
            " 2   costs      2542 non-null   float64       \n",
            "dtypes: datetime64[ns](1), float64(1), int64(1)\n",
            "memory usage: 59.7 KB\n"
          ]
        }
      ],
      "source": [
        "costs['dt'] = pd.to_datetime(costs['dt'], format = '%Y-%m-%dT%H:%M:%S')\n",
        "costs.info()\n"
      ]
    },
    {
      "cell_type": "code",
      "execution_count": 15,
      "metadata": {
        "id": "ysFvJbMoyPnr",
        "outputId": "a2429874-5f4b-41d0-fd2e-df5a5b1cc9f8",
        "colab": {
          "base_uri": "https://localhost:8080/",
          "height": 423
        }
      },
      "outputs": [
        {
          "output_type": "execute_result",
          "data": {
            "text/html": [
              "\n",
              "  <div id=\"df-34bb0c8c-8d5f-408a-bc23-a4794857244f\">\n",
              "    <div class=\"colab-df-container\">\n",
              "      <div>\n",
              "<style scoped>\n",
              "    .dataframe tbody tr th:only-of-type {\n",
              "        vertical-align: middle;\n",
              "    }\n",
              "\n",
              "    .dataframe tbody tr th {\n",
              "        vertical-align: top;\n",
              "    }\n",
              "\n",
              "    .dataframe thead th {\n",
              "        text-align: right;\n",
              "    }\n",
              "</style>\n",
              "<table border=\"1\" class=\"dataframe\">\n",
              "  <thead>\n",
              "    <tr style=\"text-align: right;\">\n",
              "      <th></th>\n",
              "      <th>source_id</th>\n",
              "      <th>dt</th>\n",
              "      <th>costs</th>\n",
              "    </tr>\n",
              "  </thead>\n",
              "  <tbody>\n",
              "    <tr>\n",
              "      <th>0</th>\n",
              "      <td>1</td>\n",
              "      <td>2017-06-01</td>\n",
              "      <td>75.200</td>\n",
              "    </tr>\n",
              "    <tr>\n",
              "      <th>1</th>\n",
              "      <td>1</td>\n",
              "      <td>2017-06-02</td>\n",
              "      <td>62.250</td>\n",
              "    </tr>\n",
              "    <tr>\n",
              "      <th>2</th>\n",
              "      <td>1</td>\n",
              "      <td>2017-06-03</td>\n",
              "      <td>36.530</td>\n",
              "    </tr>\n",
              "    <tr>\n",
              "      <th>3</th>\n",
              "      <td>1</td>\n",
              "      <td>2017-06-04</td>\n",
              "      <td>55.000</td>\n",
              "    </tr>\n",
              "    <tr>\n",
              "      <th>4</th>\n",
              "      <td>1</td>\n",
              "      <td>2017-06-05</td>\n",
              "      <td>57.080</td>\n",
              "    </tr>\n",
              "    <tr>\n",
              "      <th>...</th>\n",
              "      <td>...</td>\n",
              "      <td>...</td>\n",
              "      <td>...</td>\n",
              "    </tr>\n",
              "    <tr>\n",
              "      <th>2537</th>\n",
              "      <td>10</td>\n",
              "      <td>2018-05-27</td>\n",
              "      <td>9.920</td>\n",
              "    </tr>\n",
              "    <tr>\n",
              "      <th>2538</th>\n",
              "      <td>10</td>\n",
              "      <td>2018-05-28</td>\n",
              "      <td>21.260</td>\n",
              "    </tr>\n",
              "    <tr>\n",
              "      <th>2539</th>\n",
              "      <td>10</td>\n",
              "      <td>2018-05-29</td>\n",
              "      <td>11.320</td>\n",
              "    </tr>\n",
              "    <tr>\n",
              "      <th>2540</th>\n",
              "      <td>10</td>\n",
              "      <td>2018-05-30</td>\n",
              "      <td>33.150</td>\n",
              "    </tr>\n",
              "    <tr>\n",
              "      <th>2541</th>\n",
              "      <td>10</td>\n",
              "      <td>2018-05-31</td>\n",
              "      <td>17.600</td>\n",
              "    </tr>\n",
              "  </tbody>\n",
              "</table>\n",
              "<p>2542 rows × 3 columns</p>\n",
              "</div>\n",
              "      <button class=\"colab-df-convert\" onclick=\"convertToInteractive('df-34bb0c8c-8d5f-408a-bc23-a4794857244f')\"\n",
              "              title=\"Convert this dataframe to an interactive table.\"\n",
              "              style=\"display:none;\">\n",
              "        \n",
              "  <svg xmlns=\"http://www.w3.org/2000/svg\" height=\"24px\"viewBox=\"0 0 24 24\"\n",
              "       width=\"24px\">\n",
              "    <path d=\"M0 0h24v24H0V0z\" fill=\"none\"/>\n",
              "    <path d=\"M18.56 5.44l.94 2.06.94-2.06 2.06-.94-2.06-.94-.94-2.06-.94 2.06-2.06.94zm-11 1L8.5 8.5l.94-2.06 2.06-.94-2.06-.94L8.5 2.5l-.94 2.06-2.06.94zm10 10l.94 2.06.94-2.06 2.06-.94-2.06-.94-.94-2.06-.94 2.06-2.06.94z\"/><path d=\"M17.41 7.96l-1.37-1.37c-.4-.4-.92-.59-1.43-.59-.52 0-1.04.2-1.43.59L10.3 9.45l-7.72 7.72c-.78.78-.78 2.05 0 2.83L4 21.41c.39.39.9.59 1.41.59.51 0 1.02-.2 1.41-.59l7.78-7.78 2.81-2.81c.8-.78.8-2.07 0-2.86zM5.41 20L4 18.59l7.72-7.72 1.47 1.35L5.41 20z\"/>\n",
              "  </svg>\n",
              "      </button>\n",
              "      \n",
              "  <style>\n",
              "    .colab-df-container {\n",
              "      display:flex;\n",
              "      flex-wrap:wrap;\n",
              "      gap: 12px;\n",
              "    }\n",
              "\n",
              "    .colab-df-convert {\n",
              "      background-color: #E8F0FE;\n",
              "      border: none;\n",
              "      border-radius: 50%;\n",
              "      cursor: pointer;\n",
              "      display: none;\n",
              "      fill: #1967D2;\n",
              "      height: 32px;\n",
              "      padding: 0 0 0 0;\n",
              "      width: 32px;\n",
              "    }\n",
              "\n",
              "    .colab-df-convert:hover {\n",
              "      background-color: #E2EBFA;\n",
              "      box-shadow: 0px 1px 2px rgba(60, 64, 67, 0.3), 0px 1px 3px 1px rgba(60, 64, 67, 0.15);\n",
              "      fill: #174EA6;\n",
              "    }\n",
              "\n",
              "    [theme=dark] .colab-df-convert {\n",
              "      background-color: #3B4455;\n",
              "      fill: #D2E3FC;\n",
              "    }\n",
              "\n",
              "    [theme=dark] .colab-df-convert:hover {\n",
              "      background-color: #434B5C;\n",
              "      box-shadow: 0px 1px 3px 1px rgba(0, 0, 0, 0.15);\n",
              "      filter: drop-shadow(0px 1px 2px rgba(0, 0, 0, 0.3));\n",
              "      fill: #FFFFFF;\n",
              "    }\n",
              "  </style>\n",
              "\n",
              "      <script>\n",
              "        const buttonEl =\n",
              "          document.querySelector('#df-34bb0c8c-8d5f-408a-bc23-a4794857244f button.colab-df-convert');\n",
              "        buttonEl.style.display =\n",
              "          google.colab.kernel.accessAllowed ? 'block' : 'none';\n",
              "\n",
              "        async function convertToInteractive(key) {\n",
              "          const element = document.querySelector('#df-34bb0c8c-8d5f-408a-bc23-a4794857244f');\n",
              "          const dataTable =\n",
              "            await google.colab.kernel.invokeFunction('convertToInteractive',\n",
              "                                                     [key], {});\n",
              "          if (!dataTable) return;\n",
              "\n",
              "          const docLinkHtml = 'Like what you see? Visit the ' +\n",
              "            '<a target=\"_blank\" href=https://colab.research.google.com/notebooks/data_table.ipynb>data table notebook</a>'\n",
              "            + ' to learn more about interactive tables.';\n",
              "          element.innerHTML = '';\n",
              "          dataTable['output_type'] = 'display_data';\n",
              "          await google.colab.output.renderOutput(dataTable, element);\n",
              "          const docLink = document.createElement('div');\n",
              "          docLink.innerHTML = docLinkHtml;\n",
              "          element.appendChild(docLink);\n",
              "        }\n",
              "      </script>\n",
              "    </div>\n",
              "  </div>\n",
              "  "
            ],
            "text/plain": [
              "      source_id         dt  costs\n",
              "0             1 2017-06-01 75.200\n",
              "1             1 2017-06-02 62.250\n",
              "2             1 2017-06-03 36.530\n",
              "3             1 2017-06-04 55.000\n",
              "4             1 2017-06-05 57.080\n",
              "...         ...        ...    ...\n",
              "2537         10 2018-05-27  9.920\n",
              "2538         10 2018-05-28 21.260\n",
              "2539         10 2018-05-29 11.320\n",
              "2540         10 2018-05-30 33.150\n",
              "2541         10 2018-05-31 17.600\n",
              "\n",
              "[2542 rows x 3 columns]"
            ]
          },
          "metadata": {},
          "execution_count": 15
        }
      ],
      "source": [
        "costs"
      ]
    },
    {
      "cell_type": "markdown",
      "metadata": {
        "id": "ZMo7g4FsyPnr"
      },
      "source": [
        "В данной таблице изменили данные на даты."
      ]
    },
    {
      "cell_type": "markdown",
      "metadata": {
        "id": "_WaD3V6_yPnr"
      },
      "source": [
        "Провериим таблицы на дубликаты."
      ]
    },
    {
      "cell_type": "code",
      "execution_count": 16,
      "metadata": {
        "id": "-zQ0hUgLyPns",
        "outputId": "023ac9ef-d1bb-4b37-d341-03a6ff99ef6b",
        "colab": {
          "base_uri": "https://localhost:8080/"
        }
      },
      "outputs": [
        {
          "output_type": "execute_result",
          "data": {
            "text/plain": [
              "0"
            ]
          },
          "metadata": {},
          "execution_count": 16
        }
      ],
      "source": [
        "costs.duplicated().sum()"
      ]
    },
    {
      "cell_type": "code",
      "execution_count": 17,
      "metadata": {
        "id": "9b8rYyeIyPns",
        "outputId": "8c46b669-829b-4a15-ddaf-67ea3057bc40",
        "colab": {
          "base_uri": "https://localhost:8080/"
        }
      },
      "outputs": [
        {
          "output_type": "execute_result",
          "data": {
            "text/plain": [
              "0"
            ]
          },
          "metadata": {},
          "execution_count": 17
        }
      ],
      "source": [
        "orders.duplicated().sum()"
      ]
    },
    {
      "cell_type": "code",
      "execution_count": 18,
      "metadata": {
        "id": "8h2H4jDvyPns",
        "outputId": "effa22fd-4ca7-4863-c5cd-d36c85841550",
        "colab": {
          "base_uri": "https://localhost:8080/"
        }
      },
      "outputs": [
        {
          "output_type": "execute_result",
          "data": {
            "text/plain": [
              "0"
            ]
          },
          "metadata": {},
          "execution_count": 18
        }
      ],
      "source": [
        "visits.duplicated().sum()"
      ]
    },
    {
      "cell_type": "markdown",
      "metadata": {
        "id": "TZA7lRNvyPnt"
      },
      "source": [
        "### Вывод"
      ]
    },
    {
      "cell_type": "markdown",
      "metadata": {
        "id": "lus8Uh-kyPnt"
      },
      "source": [
        "Использовав метод info и head, мы визуально оценили данные в трех наблицах - visits, orders и costs . После наших преобразований во всех трех таблицах столбцы имеют необходимый тип данных. Таблицы удобные для анализа данных - в каждом столбце таблиц хранятся значения, каждая строка содержит одно наблюдение, к которому привязаны значения разных переменных. Название столбцов без пробелов, несколько слов разделяются нижним подчеркиванием, на одном языке и в одном регистре, отображают в краткой форме какого рода информация содержится в каждом столбце. Пропусков не наблюдаем. В талице orders удалили одну строчку, для исключения искажения результатов анализа. Данные готовы для расчета метрик. "
      ]
    },
    {
      "cell_type": "markdown",
      "metadata": {
        "id": "Pk5LlgtByPnt"
      },
      "source": [
        "<div class=\"alert alert-block alert-info\">\n",
        "Дубликаты отсутствуют.\n",
        "</div>"
      ]
    },
    {
      "cell_type": "markdown",
      "metadata": {
        "id": "tntM6h78yPnu"
      },
      "source": [
        "## Рассчитайте метрики и постройте графики"
      ]
    },
    {
      "cell_type": "markdown",
      "metadata": {
        "id": "3dgP0dUmyPnu"
      },
      "source": [
        "### Продуктовые метрики"
      ]
    },
    {
      "cell_type": "markdown",
      "metadata": {
        "id": "zF_wkIiQyPnu"
      },
      "source": [
        "Рассчитаем DAU, WAU и MAU. Вычислим средние значения этих метрик за весь период. Отобразим изменения метрик во времени на графиках.\n",
        "\n",
        "То, что сначала выглядит как набор китайских транскрипций, после небольшого разбора становится, в действительно очень понятным, легким, а самое главное полезным механизмов. Это Day/Week/Month Active Users - то есть дневная/недельная/месячная активная аудитория.\n",
        "\n",
        "DAU/WAU/MAU - популярная метрика вовлеченности пользователей - это отношение количества ежедневных активных пользователей к количеству ежемесячных активных пользователей, выраженное в процентах. Обычно считается, что более 20% - это хорошо, а 50%+ - это мировой уровень.\n",
        "\n",
        "Важно определить, какое действие пользователь должен совершить в вашем бизнесе, чтобы быть определенным как \"активный\" пользователь, поскольку оно не одинаково для каждого бизнеса. Является ли активным пользователем тот, кто входит в систему? Или это тот, кто совершает более конкретное действие с вашим продуктом, например, читает статью, отправляет запрос или комментарий, скачивает документ и т.д."
      ]
    },
    {
      "cell_type": "code",
      "execution_count": 19,
      "metadata": {
        "id": "2-qgPot5yPnu",
        "outputId": "de884df2-d677-4118-a75f-f41e4b224701",
        "colab": {
          "base_uri": "https://localhost:8080/",
          "height": 112
        }
      },
      "outputs": [
        {
          "output_type": "execute_result",
          "data": {
            "text/html": [
              "\n",
              "  <div id=\"df-8bc6f66d-9a05-493e-989f-10966762e874\">\n",
              "    <div class=\"colab-df-container\">\n",
              "      <div>\n",
              "<style scoped>\n",
              "    .dataframe tbody tr th:only-of-type {\n",
              "        vertical-align: middle;\n",
              "    }\n",
              "\n",
              "    .dataframe tbody tr th {\n",
              "        vertical-align: top;\n",
              "    }\n",
              "\n",
              "    .dataframe thead th {\n",
              "        text-align: right;\n",
              "    }\n",
              "</style>\n",
              "<table border=\"1\" class=\"dataframe\">\n",
              "  <thead>\n",
              "    <tr style=\"text-align: right;\">\n",
              "      <th></th>\n",
              "      <th>device</th>\n",
              "      <th>end_ts</th>\n",
              "      <th>source_id</th>\n",
              "      <th>start_ts</th>\n",
              "      <th>uid</th>\n",
              "    </tr>\n",
              "  </thead>\n",
              "  <tbody>\n",
              "    <tr>\n",
              "      <th>0</th>\n",
              "      <td>touch</td>\n",
              "      <td>2017-12-20 17:38:00</td>\n",
              "      <td>4</td>\n",
              "      <td>2017-12-20 17:20:00</td>\n",
              "      <td>16879256277535980062</td>\n",
              "    </tr>\n",
              "    <tr>\n",
              "      <th>1</th>\n",
              "      <td>desktop</td>\n",
              "      <td>2018-02-19 17:21:00</td>\n",
              "      <td>2</td>\n",
              "      <td>2018-02-19 16:53:00</td>\n",
              "      <td>104060357244891740</td>\n",
              "    </tr>\n",
              "  </tbody>\n",
              "</table>\n",
              "</div>\n",
              "      <button class=\"colab-df-convert\" onclick=\"convertToInteractive('df-8bc6f66d-9a05-493e-989f-10966762e874')\"\n",
              "              title=\"Convert this dataframe to an interactive table.\"\n",
              "              style=\"display:none;\">\n",
              "        \n",
              "  <svg xmlns=\"http://www.w3.org/2000/svg\" height=\"24px\"viewBox=\"0 0 24 24\"\n",
              "       width=\"24px\">\n",
              "    <path d=\"M0 0h24v24H0V0z\" fill=\"none\"/>\n",
              "    <path d=\"M18.56 5.44l.94 2.06.94-2.06 2.06-.94-2.06-.94-.94-2.06-.94 2.06-2.06.94zm-11 1L8.5 8.5l.94-2.06 2.06-.94-2.06-.94L8.5 2.5l-.94 2.06-2.06.94zm10 10l.94 2.06.94-2.06 2.06-.94-2.06-.94-.94-2.06-.94 2.06-2.06.94z\"/><path d=\"M17.41 7.96l-1.37-1.37c-.4-.4-.92-.59-1.43-.59-.52 0-1.04.2-1.43.59L10.3 9.45l-7.72 7.72c-.78.78-.78 2.05 0 2.83L4 21.41c.39.39.9.59 1.41.59.51 0 1.02-.2 1.41-.59l7.78-7.78 2.81-2.81c.8-.78.8-2.07 0-2.86zM5.41 20L4 18.59l7.72-7.72 1.47 1.35L5.41 20z\"/>\n",
              "  </svg>\n",
              "      </button>\n",
              "      \n",
              "  <style>\n",
              "    .colab-df-container {\n",
              "      display:flex;\n",
              "      flex-wrap:wrap;\n",
              "      gap: 12px;\n",
              "    }\n",
              "\n",
              "    .colab-df-convert {\n",
              "      background-color: #E8F0FE;\n",
              "      border: none;\n",
              "      border-radius: 50%;\n",
              "      cursor: pointer;\n",
              "      display: none;\n",
              "      fill: #1967D2;\n",
              "      height: 32px;\n",
              "      padding: 0 0 0 0;\n",
              "      width: 32px;\n",
              "    }\n",
              "\n",
              "    .colab-df-convert:hover {\n",
              "      background-color: #E2EBFA;\n",
              "      box-shadow: 0px 1px 2px rgba(60, 64, 67, 0.3), 0px 1px 3px 1px rgba(60, 64, 67, 0.15);\n",
              "      fill: #174EA6;\n",
              "    }\n",
              "\n",
              "    [theme=dark] .colab-df-convert {\n",
              "      background-color: #3B4455;\n",
              "      fill: #D2E3FC;\n",
              "    }\n",
              "\n",
              "    [theme=dark] .colab-df-convert:hover {\n",
              "      background-color: #434B5C;\n",
              "      box-shadow: 0px 1px 3px 1px rgba(0, 0, 0, 0.15);\n",
              "      filter: drop-shadow(0px 1px 2px rgba(0, 0, 0, 0.3));\n",
              "      fill: #FFFFFF;\n",
              "    }\n",
              "  </style>\n",
              "\n",
              "      <script>\n",
              "        const buttonEl =\n",
              "          document.querySelector('#df-8bc6f66d-9a05-493e-989f-10966762e874 button.colab-df-convert');\n",
              "        buttonEl.style.display =\n",
              "          google.colab.kernel.accessAllowed ? 'block' : 'none';\n",
              "\n",
              "        async function convertToInteractive(key) {\n",
              "          const element = document.querySelector('#df-8bc6f66d-9a05-493e-989f-10966762e874');\n",
              "          const dataTable =\n",
              "            await google.colab.kernel.invokeFunction('convertToInteractive',\n",
              "                                                     [key], {});\n",
              "          if (!dataTable) return;\n",
              "\n",
              "          const docLinkHtml = 'Like what you see? Visit the ' +\n",
              "            '<a target=\"_blank\" href=https://colab.research.google.com/notebooks/data_table.ipynb>data table notebook</a>'\n",
              "            + ' to learn more about interactive tables.';\n",
              "          element.innerHTML = '';\n",
              "          dataTable['output_type'] = 'display_data';\n",
              "          await google.colab.output.renderOutput(dataTable, element);\n",
              "          const docLink = document.createElement('div');\n",
              "          docLink.innerHTML = docLinkHtml;\n",
              "          element.appendChild(docLink);\n",
              "        }\n",
              "      </script>\n",
              "    </div>\n",
              "  </div>\n",
              "  "
            ],
            "text/plain": [
              "    device              end_ts  source_id            start_ts  \\\n",
              "0    touch 2017-12-20 17:38:00          4 2017-12-20 17:20:00   \n",
              "1  desktop 2018-02-19 17:21:00          2 2018-02-19 16:53:00   \n",
              "\n",
              "                    uid  \n",
              "0  16879256277535980062  \n",
              "1    104060357244891740  "
            ]
          },
          "metadata": {},
          "execution_count": 19
        }
      ],
      "source": [
        "visits.head(2)"
      ]
    },
    {
      "cell_type": "code",
      "execution_count": 20,
      "metadata": {
        "id": "aP5YdWDZyPnv"
      },
      "outputs": [],
      "source": [
        "visits['session_year']  = visits['start_ts'].dt.year\n",
        "visits['session_week'] = visits['start_ts'].dt.week\n",
        "visits['session_month']  = visits['start_ts'].dt.month\n",
        "visits['session_date'] = visits['start_ts'].dt.date"
      ]
    },
    {
      "cell_type": "code",
      "execution_count": 21,
      "metadata": {
        "id": "XZU-9vQDyPnv"
      },
      "outputs": [],
      "source": [
        "dau_total = visits.groupby('session_date').agg({'uid': 'nunique'}).mean()\n",
        "wau_total = (\n",
        "    visits.groupby(['session_year', 'session_week'])\n",
        "    .agg({'uid': 'nunique'})\n",
        "    .mean()\n",
        ")\n",
        "mau_total = (\n",
        "    visits.groupby(['session_year', 'session_month'])\n",
        "    .agg({'uid': 'nunique'})\n",
        "    .mean()\n",
        ")"
      ]
    },
    {
      "cell_type": "code",
      "execution_count": 22,
      "metadata": {
        "id": "xC3jPKlDyPnv",
        "outputId": "9cdecbe4-22a2-449d-9265-2250521a1c1e",
        "colab": {
          "base_uri": "https://localhost:8080/"
        }
      },
      "outputs": [
        {
          "output_type": "stream",
          "name": "stdout",
          "text": [
            "DAU - количество уникальных пользователей в день: 907\n",
            "WAU - количество уникальных пользователей в неделю: 5716\n",
            "MAU - количество уникальных пользователей в месяц: 23228\n"
          ]
        }
      ],
      "source": [
        "print(f'DAU - количество уникальных пользователей в день: {int(dau_total)}')\n",
        "print(f'WAU - количество уникальных пользователей в неделю: {int(wau_total)}') \n",
        "print(f'MAU - количество уникальных пользователей в месяц: {int(mau_total)}') "
      ]
    },
    {
      "cell_type": "code",
      "source": [
        "dau = visits.groupby('session_date', as_index=False).agg({'uid': 'nunique'})#.reset_index()\n",
        "dau.columns"
      ],
      "metadata": {
        "colab": {
          "base_uri": "https://localhost:8080/"
        },
        "id": "KKvu-kVi1kTo",
        "outputId": "a2cd14d0-6645-4ea5-9b83-6dceed2a92f6"
      },
      "execution_count": 23,
      "outputs": [
        {
          "output_type": "execute_result",
          "data": {
            "text/plain": [
              "Index(['session_date', 'uid'], dtype='object')"
            ]
          },
          "metadata": {},
          "execution_count": 23
        }
      ]
    },
    {
      "cell_type": "code",
      "source": [
        "\n",
        "fig = px.line(dau, x=\"session_date\", y=\"uid\", markers=True, )\n",
        "fig.update_layout(title= '<b>Количество уникальных пользователей в день</b>',\n",
        "                   xaxis_title='Месяц',\n",
        "                   yaxis_title='Количество пользователей',\n",
        "                  )\n",
        "fig.show(renderer=\"colab\")"
      ],
      "metadata": {
        "colab": {
          "base_uri": "https://localhost:8080/",
          "height": 542
        },
        "id": "VCDaGEVb1DdI",
        "outputId": "79f96b58-14de-4e35-ffb5-32bb46468fb5"
      },
      "execution_count": 28,
      "outputs": [
        {
          "output_type": "display_data",
          "data": {
            "text/html": [
              "<html>\n",
              "<head><meta charset=\"utf-8\" /></head>\n",
              "<body>\n",
              "    <div>            <script src=\"https://cdnjs.cloudflare.com/ajax/libs/mathjax/2.7.5/MathJax.js?config=TeX-AMS-MML_SVG\"></script><script type=\"text/javascript\">if (window.MathJax) {MathJax.Hub.Config({SVG: {font: \"STIX-Web\"}});}</script>                <script type=\"text/javascript\">window.PlotlyConfig = {MathJaxConfig: 'local'};</script>\n",
              "        <script src=\"https://cdn.plot.ly/plotly-2.8.3.min.js\"></script>                <div id=\"b5426fec-760d-4abc-94cc-848db87df633\" class=\"plotly-graph-div\" style=\"height:525px; width:100%;\"></div>            <script type=\"text/javascript\">                                    window.PLOTLYENV=window.PLOTLYENV || {};                                    if (document.getElementById(\"b5426fec-760d-4abc-94cc-848db87df633\")) {                    Plotly.newPlot(                        \"b5426fec-760d-4abc-94cc-848db87df633\",                        [{\"hovertemplate\":\"session_date=%{x}<br>uid=%{y}<extra></extra>\",\"legendgroup\":\"\",\"line\":{\"color\":\"#636efa\",\"dash\":\"solid\"},\"marker\":{\"symbol\":\"circle\"},\"mode\":\"lines+markers\",\"name\":\"\",\"orientation\":\"v\",\"showlegend\":false,\"x\":[\"2017-06-01\",\"2017-06-02\",\"2017-06-03\",\"2017-06-04\",\"2017-06-05\",\"2017-06-06\",\"2017-06-07\",\"2017-06-08\",\"2017-06-09\",\"2017-06-10\",\"2017-06-11\",\"2017-06-12\",\"2017-06-13\",\"2017-06-14\",\"2017-06-15\",\"2017-06-16\",\"2017-06-17\",\"2017-06-18\",\"2017-06-19\",\"2017-06-20\",\"2017-06-21\",\"2017-06-22\",\"2017-06-23\",\"2017-06-24\",\"2017-06-25\",\"2017-06-26\",\"2017-06-27\",\"2017-06-28\",\"2017-06-29\",\"2017-06-30\",\"2017-07-01\",\"2017-07-02\",\"2017-07-03\",\"2017-07-04\",\"2017-07-05\",\"2017-07-06\",\"2017-07-07\",\"2017-07-08\",\"2017-07-09\",\"2017-07-10\",\"2017-07-11\",\"2017-07-12\",\"2017-07-13\",\"2017-07-14\",\"2017-07-15\",\"2017-07-16\",\"2017-07-17\",\"2017-07-18\",\"2017-07-19\",\"2017-07-20\",\"2017-07-21\",\"2017-07-22\",\"2017-07-23\",\"2017-07-24\",\"2017-07-25\",\"2017-07-26\",\"2017-07-27\",\"2017-07-28\",\"2017-07-29\",\"2017-07-30\",\"2017-07-31\",\"2017-08-01\",\"2017-08-02\",\"2017-08-03\",\"2017-08-04\",\"2017-08-05\",\"2017-08-06\",\"2017-08-07\",\"2017-08-08\",\"2017-08-09\",\"2017-08-10\",\"2017-08-11\",\"2017-08-12\",\"2017-08-13\",\"2017-08-14\",\"2017-08-15\",\"2017-08-16\",\"2017-08-17\",\"2017-08-18\",\"2017-08-19\",\"2017-08-20\",\"2017-08-21\",\"2017-08-22\",\"2017-08-23\",\"2017-08-24\",\"2017-08-25\",\"2017-08-26\",\"2017-08-27\",\"2017-08-28\",\"2017-08-29\",\"2017-08-30\",\"2017-08-31\",\"2017-09-01\",\"2017-09-02\",\"2017-09-03\",\"2017-09-04\",\"2017-09-05\",\"2017-09-06\",\"2017-09-07\",\"2017-09-08\",\"2017-09-09\",\"2017-09-10\",\"2017-09-11\",\"2017-09-12\",\"2017-09-13\",\"2017-09-14\",\"2017-09-15\",\"2017-09-16\",\"2017-09-17\",\"2017-09-18\",\"2017-09-19\",\"2017-09-20\",\"2017-09-21\",\"2017-09-22\",\"2017-09-23\",\"2017-09-24\",\"2017-09-25\",\"2017-09-26\",\"2017-09-27\",\"2017-09-28\",\"2017-09-29\",\"2017-09-30\",\"2017-10-01\",\"2017-10-02\",\"2017-10-03\",\"2017-10-04\",\"2017-10-05\",\"2017-10-06\",\"2017-10-07\",\"2017-10-08\",\"2017-10-09\",\"2017-10-10\",\"2017-10-11\",\"2017-10-12\",\"2017-10-13\",\"2017-10-14\",\"2017-10-15\",\"2017-10-16\",\"2017-10-17\",\"2017-10-18\",\"2017-10-19\",\"2017-10-20\",\"2017-10-21\",\"2017-10-22\",\"2017-10-23\",\"2017-10-24\",\"2017-10-25\",\"2017-10-26\",\"2017-10-27\",\"2017-10-28\",\"2017-10-29\",\"2017-10-30\",\"2017-10-31\",\"2017-11-01\",\"2017-11-02\",\"2017-11-03\",\"2017-11-04\",\"2017-11-05\",\"2017-11-06\",\"2017-11-07\",\"2017-11-08\",\"2017-11-09\",\"2017-11-10\",\"2017-11-11\",\"2017-11-12\",\"2017-11-13\",\"2017-11-14\",\"2017-11-15\",\"2017-11-16\",\"2017-11-17\",\"2017-11-18\",\"2017-11-19\",\"2017-11-20\",\"2017-11-21\",\"2017-11-22\",\"2017-11-23\",\"2017-11-24\",\"2017-11-25\",\"2017-11-26\",\"2017-11-27\",\"2017-11-28\",\"2017-11-29\",\"2017-11-30\",\"2017-12-01\",\"2017-12-02\",\"2017-12-03\",\"2017-12-04\",\"2017-12-05\",\"2017-12-06\",\"2017-12-07\",\"2017-12-08\",\"2017-12-09\",\"2017-12-10\",\"2017-12-11\",\"2017-12-12\",\"2017-12-13\",\"2017-12-14\",\"2017-12-15\",\"2017-12-16\",\"2017-12-17\",\"2017-12-18\",\"2017-12-19\",\"2017-12-20\",\"2017-12-21\",\"2017-12-22\",\"2017-12-23\",\"2017-12-24\",\"2017-12-25\",\"2017-12-26\",\"2017-12-27\",\"2017-12-28\",\"2017-12-29\",\"2017-12-30\",\"2017-12-31\",\"2018-01-01\",\"2018-01-02\",\"2018-01-03\",\"2018-01-04\",\"2018-01-05\",\"2018-01-06\",\"2018-01-07\",\"2018-01-08\",\"2018-01-09\",\"2018-01-10\",\"2018-01-11\",\"2018-01-12\",\"2018-01-13\",\"2018-01-14\",\"2018-01-15\",\"2018-01-16\",\"2018-01-17\",\"2018-01-18\",\"2018-01-19\",\"2018-01-20\",\"2018-01-21\",\"2018-01-22\",\"2018-01-23\",\"2018-01-24\",\"2018-01-25\",\"2018-01-26\",\"2018-01-27\",\"2018-01-28\",\"2018-01-29\",\"2018-01-30\",\"2018-01-31\",\"2018-02-01\",\"2018-02-02\",\"2018-02-03\",\"2018-02-04\",\"2018-02-05\",\"2018-02-06\",\"2018-02-07\",\"2018-02-08\",\"2018-02-09\",\"2018-02-10\",\"2018-02-11\",\"2018-02-12\",\"2018-02-13\",\"2018-02-14\",\"2018-02-15\",\"2018-02-16\",\"2018-02-17\",\"2018-02-18\",\"2018-02-19\",\"2018-02-20\",\"2018-02-21\",\"2018-02-22\",\"2018-02-23\",\"2018-02-24\",\"2018-02-25\",\"2018-02-26\",\"2018-02-27\",\"2018-02-28\",\"2018-03-01\",\"2018-03-02\",\"2018-03-03\",\"2018-03-04\",\"2018-03-05\",\"2018-03-06\",\"2018-03-07\",\"2018-03-08\",\"2018-03-09\",\"2018-03-10\",\"2018-03-11\",\"2018-03-12\",\"2018-03-13\",\"2018-03-14\",\"2018-03-15\",\"2018-03-16\",\"2018-03-17\",\"2018-03-18\",\"2018-03-19\",\"2018-03-20\",\"2018-03-21\",\"2018-03-22\",\"2018-03-23\",\"2018-03-24\",\"2018-03-25\",\"2018-03-26\",\"2018-03-27\",\"2018-03-28\",\"2018-03-29\",\"2018-03-30\",\"2018-03-31\",\"2018-04-02\",\"2018-04-03\",\"2018-04-04\",\"2018-04-05\",\"2018-04-06\",\"2018-04-07\",\"2018-04-08\",\"2018-04-09\",\"2018-04-10\",\"2018-04-11\",\"2018-04-12\",\"2018-04-13\",\"2018-04-14\",\"2018-04-15\",\"2018-04-16\",\"2018-04-17\",\"2018-04-18\",\"2018-04-19\",\"2018-04-20\",\"2018-04-21\",\"2018-04-22\",\"2018-04-23\",\"2018-04-24\",\"2018-04-25\",\"2018-04-26\",\"2018-04-27\",\"2018-04-28\",\"2018-04-29\",\"2018-04-30\",\"2018-05-01\",\"2018-05-02\",\"2018-05-03\",\"2018-05-04\",\"2018-05-05\",\"2018-05-06\",\"2018-05-07\",\"2018-05-08\",\"2018-05-09\",\"2018-05-10\",\"2018-05-11\",\"2018-05-12\",\"2018-05-13\",\"2018-05-14\",\"2018-05-15\",\"2018-05-16\",\"2018-05-17\",\"2018-05-18\",\"2018-05-19\",\"2018-05-20\",\"2018-05-21\",\"2018-05-22\",\"2018-05-23\",\"2018-05-24\",\"2018-05-25\",\"2018-05-26\",\"2018-05-27\",\"2018-05-28\",\"2018-05-29\",\"2018-05-30\",\"2018-05-31\"],\"xaxis\":\"x\",\"y\":[605,608,445,476,820,797,699,868,695,350,292,335,502,499,575,481,328,285,482,458,436,537,446,328,383,564,489,552,546,439,361,330,594,511,519,578,542,389,444,685,564,669,741,839,694,514,1138,706,547,594,517,357,322,554,439,425,465,362,307,311,476,410,360,397,347,280,282,414,388,394,446,414,271,281,492,481,449,470,437,292,323,521,502,529,485,502,409,422,602,579,600,652,572,472,499,654,728,777,782,832,511,506,763,638,639,795,713,561,555,796,799,769,801,798,635,662,984,980,951,1079,1074,847,848,1146,1190,1232,1226,1418,1117,901,1257,1143,1119,1173,1197,897,913,1168,1074,1109,1133,1267,1000,1001,1257,1204,1114,1129,1187,1020,1127,1308,1259,1237,1168,1144,943,1009,1047,1240,1201,1149,1197,959,963,1413,1270,1148,1604,1411,1008,1041,1415,1363,1255,1433,3319,1817,1346,1571,1493,1296,1409,1273,1040,1185,1432,1458,1377,1524,1411,1077,1130,1505,1451,1509,1386,1300,1040,1045,1298,1164,1173,1215,1148,874,972,1372,1370,1334,1377,1192,1106,732,992,1265,1219,1260,1006,915,831,903,1128,1142,1238,1155,834,887,1222,1107,1045,1178,1173,980,923,1266,1153,1118,1224,1120,959,918,1319,1282,1240,1640,1378,1045,1007,1256,1200,1250,1417,1294,1189,1030,1372,1314,1333,1390,1153,899,1007,1368,1300,1285,1200,981,1062,1031,1411,1195,1073,1166,1253,962,1029,1209,1213,1311,1025,984,908,821,1169,1124,1010,1017,992,797,709,1180,1171,1120,1369,1146,1093,1545,1609,1551,981,1037,131,1,641,942,938,912,911,730,729,958,901,883,919,946,648,702,871,840,933,1043,997,781,778,1006,905,887,944,830,799,635,515,489,496,803,745,565,580,711,609,441,806,805,555,511,785,755,848,902,893,676,678,881,886,811,833,821,602,620,1039,948,1289,1997],\"yaxis\":\"y\",\"type\":\"scatter\"}],                        {\"template\":{\"data\":{\"bar\":[{\"error_x\":{\"color\":\"#2a3f5f\"},\"error_y\":{\"color\":\"#2a3f5f\"},\"marker\":{\"line\":{\"color\":\"#E5ECF6\",\"width\":0.5},\"pattern\":{\"fillmode\":\"overlay\",\"size\":10,\"solidity\":0.2}},\"type\":\"bar\"}],\"barpolar\":[{\"marker\":{\"line\":{\"color\":\"#E5ECF6\",\"width\":0.5},\"pattern\":{\"fillmode\":\"overlay\",\"size\":10,\"solidity\":0.2}},\"type\":\"barpolar\"}],\"carpet\":[{\"aaxis\":{\"endlinecolor\":\"#2a3f5f\",\"gridcolor\":\"white\",\"linecolor\":\"white\",\"minorgridcolor\":\"white\",\"startlinecolor\":\"#2a3f5f\"},\"baxis\":{\"endlinecolor\":\"#2a3f5f\",\"gridcolor\":\"white\",\"linecolor\":\"white\",\"minorgridcolor\":\"white\",\"startlinecolor\":\"#2a3f5f\"},\"type\":\"carpet\"}],\"choropleth\":[{\"colorbar\":{\"outlinewidth\":0,\"ticks\":\"\"},\"type\":\"choropleth\"}],\"contour\":[{\"colorbar\":{\"outlinewidth\":0,\"ticks\":\"\"},\"colorscale\":[[0.0,\"#0d0887\"],[0.1111111111111111,\"#46039f\"],[0.2222222222222222,\"#7201a8\"],[0.3333333333333333,\"#9c179e\"],[0.4444444444444444,\"#bd3786\"],[0.5555555555555556,\"#d8576b\"],[0.6666666666666666,\"#ed7953\"],[0.7777777777777778,\"#fb9f3a\"],[0.8888888888888888,\"#fdca26\"],[1.0,\"#f0f921\"]],\"type\":\"contour\"}],\"contourcarpet\":[{\"colorbar\":{\"outlinewidth\":0,\"ticks\":\"\"},\"type\":\"contourcarpet\"}],\"heatmap\":[{\"colorbar\":{\"outlinewidth\":0,\"ticks\":\"\"},\"colorscale\":[[0.0,\"#0d0887\"],[0.1111111111111111,\"#46039f\"],[0.2222222222222222,\"#7201a8\"],[0.3333333333333333,\"#9c179e\"],[0.4444444444444444,\"#bd3786\"],[0.5555555555555556,\"#d8576b\"],[0.6666666666666666,\"#ed7953\"],[0.7777777777777778,\"#fb9f3a\"],[0.8888888888888888,\"#fdca26\"],[1.0,\"#f0f921\"]],\"type\":\"heatmap\"}],\"heatmapgl\":[{\"colorbar\":{\"outlinewidth\":0,\"ticks\":\"\"},\"colorscale\":[[0.0,\"#0d0887\"],[0.1111111111111111,\"#46039f\"],[0.2222222222222222,\"#7201a8\"],[0.3333333333333333,\"#9c179e\"],[0.4444444444444444,\"#bd3786\"],[0.5555555555555556,\"#d8576b\"],[0.6666666666666666,\"#ed7953\"],[0.7777777777777778,\"#fb9f3a\"],[0.8888888888888888,\"#fdca26\"],[1.0,\"#f0f921\"]],\"type\":\"heatmapgl\"}],\"histogram\":[{\"marker\":{\"pattern\":{\"fillmode\":\"overlay\",\"size\":10,\"solidity\":0.2}},\"type\":\"histogram\"}],\"histogram2d\":[{\"colorbar\":{\"outlinewidth\":0,\"ticks\":\"\"},\"colorscale\":[[0.0,\"#0d0887\"],[0.1111111111111111,\"#46039f\"],[0.2222222222222222,\"#7201a8\"],[0.3333333333333333,\"#9c179e\"],[0.4444444444444444,\"#bd3786\"],[0.5555555555555556,\"#d8576b\"],[0.6666666666666666,\"#ed7953\"],[0.7777777777777778,\"#fb9f3a\"],[0.8888888888888888,\"#fdca26\"],[1.0,\"#f0f921\"]],\"type\":\"histogram2d\"}],\"histogram2dcontour\":[{\"colorbar\":{\"outlinewidth\":0,\"ticks\":\"\"},\"colorscale\":[[0.0,\"#0d0887\"],[0.1111111111111111,\"#46039f\"],[0.2222222222222222,\"#7201a8\"],[0.3333333333333333,\"#9c179e\"],[0.4444444444444444,\"#bd3786\"],[0.5555555555555556,\"#d8576b\"],[0.6666666666666666,\"#ed7953\"],[0.7777777777777778,\"#fb9f3a\"],[0.8888888888888888,\"#fdca26\"],[1.0,\"#f0f921\"]],\"type\":\"histogram2dcontour\"}],\"mesh3d\":[{\"colorbar\":{\"outlinewidth\":0,\"ticks\":\"\"},\"type\":\"mesh3d\"}],\"parcoords\":[{\"line\":{\"colorbar\":{\"outlinewidth\":0,\"ticks\":\"\"}},\"type\":\"parcoords\"}],\"pie\":[{\"automargin\":true,\"type\":\"pie\"}],\"scatter\":[{\"marker\":{\"colorbar\":{\"outlinewidth\":0,\"ticks\":\"\"}},\"type\":\"scatter\"}],\"scatter3d\":[{\"line\":{\"colorbar\":{\"outlinewidth\":0,\"ticks\":\"\"}},\"marker\":{\"colorbar\":{\"outlinewidth\":0,\"ticks\":\"\"}},\"type\":\"scatter3d\"}],\"scattercarpet\":[{\"marker\":{\"colorbar\":{\"outlinewidth\":0,\"ticks\":\"\"}},\"type\":\"scattercarpet\"}],\"scattergeo\":[{\"marker\":{\"colorbar\":{\"outlinewidth\":0,\"ticks\":\"\"}},\"type\":\"scattergeo\"}],\"scattergl\":[{\"marker\":{\"colorbar\":{\"outlinewidth\":0,\"ticks\":\"\"}},\"type\":\"scattergl\"}],\"scattermapbox\":[{\"marker\":{\"colorbar\":{\"outlinewidth\":0,\"ticks\":\"\"}},\"type\":\"scattermapbox\"}],\"scatterpolar\":[{\"marker\":{\"colorbar\":{\"outlinewidth\":0,\"ticks\":\"\"}},\"type\":\"scatterpolar\"}],\"scatterpolargl\":[{\"marker\":{\"colorbar\":{\"outlinewidth\":0,\"ticks\":\"\"}},\"type\":\"scatterpolargl\"}],\"scatterternary\":[{\"marker\":{\"colorbar\":{\"outlinewidth\":0,\"ticks\":\"\"}},\"type\":\"scatterternary\"}],\"surface\":[{\"colorbar\":{\"outlinewidth\":0,\"ticks\":\"\"},\"colorscale\":[[0.0,\"#0d0887\"],[0.1111111111111111,\"#46039f\"],[0.2222222222222222,\"#7201a8\"],[0.3333333333333333,\"#9c179e\"],[0.4444444444444444,\"#bd3786\"],[0.5555555555555556,\"#d8576b\"],[0.6666666666666666,\"#ed7953\"],[0.7777777777777778,\"#fb9f3a\"],[0.8888888888888888,\"#fdca26\"],[1.0,\"#f0f921\"]],\"type\":\"surface\"}],\"table\":[{\"cells\":{\"fill\":{\"color\":\"#EBF0F8\"},\"line\":{\"color\":\"white\"}},\"header\":{\"fill\":{\"color\":\"#C8D4E3\"},\"line\":{\"color\":\"white\"}},\"type\":\"table\"}]},\"layout\":{\"annotationdefaults\":{\"arrowcolor\":\"#2a3f5f\",\"arrowhead\":0,\"arrowwidth\":1},\"autotypenumbers\":\"strict\",\"coloraxis\":{\"colorbar\":{\"outlinewidth\":0,\"ticks\":\"\"}},\"colorscale\":{\"diverging\":[[0,\"#8e0152\"],[0.1,\"#c51b7d\"],[0.2,\"#de77ae\"],[0.3,\"#f1b6da\"],[0.4,\"#fde0ef\"],[0.5,\"#f7f7f7\"],[0.6,\"#e6f5d0\"],[0.7,\"#b8e186\"],[0.8,\"#7fbc41\"],[0.9,\"#4d9221\"],[1,\"#276419\"]],\"sequential\":[[0.0,\"#0d0887\"],[0.1111111111111111,\"#46039f\"],[0.2222222222222222,\"#7201a8\"],[0.3333333333333333,\"#9c179e\"],[0.4444444444444444,\"#bd3786\"],[0.5555555555555556,\"#d8576b\"],[0.6666666666666666,\"#ed7953\"],[0.7777777777777778,\"#fb9f3a\"],[0.8888888888888888,\"#fdca26\"],[1.0,\"#f0f921\"]],\"sequentialminus\":[[0.0,\"#0d0887\"],[0.1111111111111111,\"#46039f\"],[0.2222222222222222,\"#7201a8\"],[0.3333333333333333,\"#9c179e\"],[0.4444444444444444,\"#bd3786\"],[0.5555555555555556,\"#d8576b\"],[0.6666666666666666,\"#ed7953\"],[0.7777777777777778,\"#fb9f3a\"],[0.8888888888888888,\"#fdca26\"],[1.0,\"#f0f921\"]]},\"colorway\":[\"#636efa\",\"#EF553B\",\"#00cc96\",\"#ab63fa\",\"#FFA15A\",\"#19d3f3\",\"#FF6692\",\"#B6E880\",\"#FF97FF\",\"#FECB52\"],\"font\":{\"color\":\"#2a3f5f\"},\"geo\":{\"bgcolor\":\"white\",\"lakecolor\":\"white\",\"landcolor\":\"#E5ECF6\",\"showlakes\":true,\"showland\":true,\"subunitcolor\":\"white\"},\"hoverlabel\":{\"align\":\"left\"},\"hovermode\":\"closest\",\"mapbox\":{\"style\":\"light\"},\"paper_bgcolor\":\"white\",\"plot_bgcolor\":\"#E5ECF6\",\"polar\":{\"angularaxis\":{\"gridcolor\":\"white\",\"linecolor\":\"white\",\"ticks\":\"\"},\"bgcolor\":\"#E5ECF6\",\"radialaxis\":{\"gridcolor\":\"white\",\"linecolor\":\"white\",\"ticks\":\"\"}},\"scene\":{\"xaxis\":{\"backgroundcolor\":\"#E5ECF6\",\"gridcolor\":\"white\",\"gridwidth\":2,\"linecolor\":\"white\",\"showbackground\":true,\"ticks\":\"\",\"zerolinecolor\":\"white\"},\"yaxis\":{\"backgroundcolor\":\"#E5ECF6\",\"gridcolor\":\"white\",\"gridwidth\":2,\"linecolor\":\"white\",\"showbackground\":true,\"ticks\":\"\",\"zerolinecolor\":\"white\"},\"zaxis\":{\"backgroundcolor\":\"#E5ECF6\",\"gridcolor\":\"white\",\"gridwidth\":2,\"linecolor\":\"white\",\"showbackground\":true,\"ticks\":\"\",\"zerolinecolor\":\"white\"}},\"shapedefaults\":{\"line\":{\"color\":\"#2a3f5f\"}},\"ternary\":{\"aaxis\":{\"gridcolor\":\"white\",\"linecolor\":\"white\",\"ticks\":\"\"},\"baxis\":{\"gridcolor\":\"white\",\"linecolor\":\"white\",\"ticks\":\"\"},\"bgcolor\":\"#E5ECF6\",\"caxis\":{\"gridcolor\":\"white\",\"linecolor\":\"white\",\"ticks\":\"\"}},\"title\":{\"x\":0.05},\"xaxis\":{\"automargin\":true,\"gridcolor\":\"white\",\"linecolor\":\"white\",\"ticks\":\"\",\"title\":{\"standoff\":15},\"zerolinecolor\":\"white\",\"zerolinewidth\":2},\"yaxis\":{\"automargin\":true,\"gridcolor\":\"white\",\"linecolor\":\"white\",\"ticks\":\"\",\"title\":{\"standoff\":15},\"zerolinecolor\":\"white\",\"zerolinewidth\":2}}},\"xaxis\":{\"anchor\":\"y\",\"domain\":[0.0,1.0],\"title\":{\"text\":\"\\u041c\\u0435\\u0441\\u044f\\u0446\"}},\"yaxis\":{\"anchor\":\"x\",\"domain\":[0.0,1.0],\"title\":{\"text\":\"\\u041a\\u043e\\u043b\\u0438\\u0447\\u0435\\u0441\\u0442\\u0432\\u043e \\u043f\\u043e\\u043b\\u044c\\u0437\\u043e\\u0432\\u0430\\u0442\\u0435\\u043b\\u0435\\u0439\"}},\"legend\":{\"tracegroupgap\":0},\"margin\":{\"t\":60},\"title\":{\"text\":\"<b>\\u041a\\u043e\\u043b\\u0438\\u0447\\u0435\\u0441\\u0442\\u0432\\u043e \\u0443\\u043d\\u0438\\u043a\\u0430\\u043b\\u044c\\u043d\\u044b\\u0445 \\u043f\\u043e\\u043b\\u044c\\u0437\\u043e\\u0432\\u0430\\u0442\\u0435\\u043b\\u0435\\u0439 \\u0432 \\u0434\\u0435\\u043d\\u044c</b>\"}},                        {\"responsive\": true}                    ).then(function(){\n",
              "                            \n",
              "var gd = document.getElementById('b5426fec-760d-4abc-94cc-848db87df633');\n",
              "var x = new MutationObserver(function (mutations, observer) {{\n",
              "        var display = window.getComputedStyle(gd).display;\n",
              "        if (!display || display === 'none') {{\n",
              "            console.log([gd, 'removed!']);\n",
              "            Plotly.purge(gd);\n",
              "            observer.disconnect();\n",
              "        }}\n",
              "}});\n",
              "\n",
              "// Listen for the removal of the full notebook cells\n",
              "var notebookContainer = gd.closest('#notebook-container');\n",
              "if (notebookContainer) {{\n",
              "    x.observe(notebookContainer, {childList: true});\n",
              "}}\n",
              "\n",
              "// Listen for the clearing of the current output cell\n",
              "var outputEl = gd.closest('.output');\n",
              "if (outputEl) {{\n",
              "    x.observe(outputEl, {childList: true});\n",
              "}}\n",
              "\n",
              "                        })                };                            </script>        </div>\n",
              "</body>\n",
              "</html>"
            ]
          },
          "metadata": {}
        }
      ]
    },
    {
      "cell_type": "markdown",
      "metadata": {
        "id": "gNCSpqPayPnw"
      },
      "source": [
        "На графике выдим резкое увеличение пользователей 24 ноября 2017. Могу предположить такое увеличение связанно с празднованием нового года. Минимальное количество в конце марта 2018, с чем это связанно затрудняюсь ответить. Скорее всего случайность. Нужно посмотреть на данные других лет."
      ]
    },
    {
      "cell_type": "code",
      "source": [
        "wau = visits.groupby(['session_year', 'session_week'],as_index=False).agg({'uid': 'nunique'})\n",
        "wau"
      ],
      "metadata": {
        "id": "EYP_7WPd8A7g"
      },
      "execution_count": null,
      "outputs": []
    },
    {
      "cell_type": "code",
      "execution_count": null,
      "metadata": {
        "id": "B3v53foQyPnx"
      },
      "outputs": [],
      "source": [
        "\n",
        "fig = px.line(wau, x=\"session_week\", y=\"uid\", markers=True, color='session_year')\n",
        "fig.update_layout(title= '<b>Количество уникальных пользователей в неделю</b>',\n",
        "                   xaxis_title='Неделя',\n",
        "                   yaxis_title='Количество пользователей',\n",
        "                  )\n",
        "fig.show(\"svg\")"
      ]
    },
    {
      "cell_type": "markdown",
      "metadata": {
        "id": "m_XF8KykyPnx"
      },
      "source": [
        "Рассмотрев изменения по недельно видим более сглаженную картину. Рассуждая логически можно придти к выводу о сезонности количеста посещений сайта. Летом количество посетителей минимально, начиная с осени идет рост, достигая максимальных значений в конце ноября, зимой и осенью количество пользователей постепенно снижаеться до минимальных значений лета."
      ]
    },
    {
      "cell_type": "code",
      "execution_count": null,
      "metadata": {
        "id": "a2mJv0pyyPnx"
      },
      "outputs": [],
      "source": [
        "mau=visits.groupby(['session_year', 'session_month'],as_index=False).agg({'uid': 'nunique'})"
      ]
    },
    {
      "cell_type": "code",
      "source": [
        "fig = px.line(mau, x=\"session_month\", y=\"uid\", markers=True, color='session_year')\n",
        "fig.update_layout(title= '<b>Количество уникальных пользователей в месяц</b>',\n",
        "                   xaxis_title='Месяц',\n",
        "                   yaxis_title='Количество пользователей',\n",
        "                  )\n",
        "fig.show(\"svg\")"
      ],
      "metadata": {
        "id": "Nlx9HWTf-t1P"
      },
      "execution_count": null,
      "outputs": []
    },
    {
      "cell_type": "markdown",
      "metadata": {
        "id": "PYuqoZaxyPny"
      },
      "source": [
        "Помесячные показатели только подтверждают мои слова сказанные выше."
      ]
    },
    {
      "cell_type": "markdown",
      "metadata": {
        "id": "a7Uw3tKnyPny"
      },
      "source": [
        "Определим, сколько раз за день пользователи в среднем заходят на сайт. Построим график, отражающий изменения метрики во времени."
      ]
    },
    {
      "cell_type": "code",
      "execution_count": null,
      "metadata": {
        "id": "q7GEo5WByPny"
      },
      "outputs": [],
      "source": [
        "dau_per_user = visits.groupby('session_date').agg({'uid': ['count', 'nunique']})\n",
        "dau_per_user.columns = ['n_session', 'n_uid']\n",
        "dau_per_user['ses_per_user'] = dau_per_user['n_session'] / dau_per_user['n_uid']\n",
        "dau_per_user"
      ]
    },
    {
      "cell_type": "code",
      "execution_count": null,
      "metadata": {
        "id": "HuCdKRe9yPnz"
      },
      "outputs": [],
      "source": [
        "\n",
        "dau_per_user['ses_per_user'].plot(figsize=(12,6), title ='Cколько раз за день пользователи в среднем заходят на сайт')\n",
        "plt.ylabel('количество_пользователей')\n",
        "plt.xlabel('дни')\n",
        "plt.tick_params(axis = 'both',    #  Применяем параметры к обеим осям\n",
        "               which = 'major',    #  Применяем параметры к основным делениям\n",
        "               direction = 'inout',    #  Рисуем деления внутри и снаружи графика\n",
        "               length = 10,    #  Длинна делений\n",
        "               width = 4,     #  Ширина делений\n",
        "               color = 'g',    #  Цвет делений\n",
        "               pad = 10,    #  Расстояние между черточкой и ее подписью\n",
        "               labelsize = 12,    #  Размер подписи\n",
        "               labelcolor = 'g'    #  Цвет подписи\n",
        "             )    #  Поворот подписей\n",
        "\n",
        "\n",
        "plt.legend()\n",
        "plt.xticks(rotation = 45) \n",
        "plt.grid(True)\n",
        "plt.show()\n",
        "print('В среднем в день на одного пользователя приходится {} сессий'.format(round(dau_per_user['ses_per_user'].mean(),2)))"
      ]
    },
    {
      "cell_type": "code",
      "source": [
        "dau_ses_per_user = dau_per_user['ses_per_user'].reset_index()\n",
        "dau_ses_per_user"
      ],
      "metadata": {
        "id": "s_Qyd_ff_yq6"
      },
      "execution_count": null,
      "outputs": []
    },
    {
      "cell_type": "code",
      "source": [
        "fig = px.line(dau_ses_per_user, x=\"session_date\", y=\"ses_per_user\", markers=True)\n",
        "fig.update_layout(title= '<b>Cколько раз за день пользователи в среднем заходят на сайт</b>',\n",
        "                   xaxis_title='Дата',\n",
        "                   yaxis_title='Количество значений',\n",
        "                  )\n",
        "fig.show(\"svg\")"
      ],
      "metadata": {
        "id": "WC8ItiPg_pQN"
      },
      "execution_count": null,
      "outputs": []
    },
    {
      "cell_type": "markdown",
      "metadata": {
        "id": "WHLwPQmpyPnz"
      },
      "source": [
        "Исследуем, сколько времени пользователи проводят на сайте. Узнаем продолжительность типичной пользовательской сессии за весь период. Чтобы выбрать подходящую среднюю меру, построим график распределения. Изучим изменение продолжительности сессий во времени."
      ]
    },
    {
      "cell_type": "code",
      "execution_count": null,
      "metadata": {
        "id": "-CskqIKPyPnz"
      },
      "outputs": [],
      "source": [
        "visits.head(3)"
      ]
    },
    {
      "cell_type": "code",
      "execution_count": null,
      "metadata": {
        "id": "siA_CQFUyPn0"
      },
      "outputs": [],
      "source": [
        "visits['session_duration_sec'] = (\n",
        "    visits['end_ts'] - visits['start_ts']\n",
        ").dt.seconds \n",
        "visits['session_duration_sec'].hist(bins=300).set(title='Продолжительность пользовательских сессии за весь период', xlabel='Длина сессии, секунды', ylabel='Количество сессий', xlim = (0,10000))\n",
        "plt.show()\n"
      ]
    },
    {
      "cell_type": "code",
      "source": [
        "visits['session_duration_sec']"
      ],
      "metadata": {
        "id": "Bn7wESaUByoR"
      },
      "execution_count": null,
      "outputs": []
    },
    {
      "cell_type": "markdown",
      "metadata": {
        "id": "Cy6NbzcdyPn0"
      },
      "source": [
        "Узнаем продолжительность типичной пользовательской сессии за весь период используя метод mode(), так как распределение не нормальное. Этот метод выведет наболее часто встречающееся значение."
      ]
    },
    {
      "cell_type": "markdown",
      "metadata": {
        "id": "y4aAXP_oyPn0"
      },
      "source": [
        "<div class=\"alert alert-block alert-success\">\n",
        "Комментарий ревьюера v. 1:\n",
        "    \n",
        "Да, исходя из того, что распределение далеко отнормального нам нужно в качестве средней меры брать моду.\n",
        "</div>"
      ]
    },
    {
      "cell_type": "code",
      "execution_count": null,
      "metadata": {
        "id": "4aZEVHnJyPn0"
      },
      "outputs": [],
      "source": [
        "asl = visits['session_duration_sec'].mode()\n",
        "print('Продолжительность типичной пользовательской сессии за весь период - {} sec'.format(int(asl)))"
      ]
    },
    {
      "cell_type": "markdown",
      "metadata": {
        "id": "r1VJsGrVyPn0"
      },
      "source": [
        "Типичная продолжительность сессии показывает что она не превышает 1 минуты. Можно предположить, что пользователи заходят на Яндекс.Афишу просто купить билеты. Что в принципе подтверждается и количеством сессий. Пришел, увидел, заказал. Перейдем с следующему показателю."
      ]
    },
    {
      "cell_type": "markdown",
      "metadata": {
        "id": "a8JW_DgTyPn1"
      },
      "source": [
        "<div class=\"alert alert-block alert-success\">\n",
        "Комментарий ревьюера v. 1:\n",
        "    \n",
        "Да, скорее всего пользователи заходят на сайт уже определившись с выбором.\n",
        "</div>"
      ]
    },
    {
      "cell_type": "markdown",
      "metadata": {
        "id": "_LM98KKnyPn1"
      },
      "source": [
        "Retention Rate - показывает, сколько пользователей из когорты относительно их изначального числа вернулось в последующие периоды. Рассчитаем Retention Rate, применяя когортный анализ. Покажем изменения метрики во времени на графике. Найдем средний Retention Rate на второй месяц «жизни» когорт. Используя когортный анализ можно понять, как по месяцам изменяется количество пользователей, совершивших покупку впервые. Когда выяснится, растёт число «новичков» или падает, можно будет понять, кто прибыльнее — старые покупатели или новые."
      ]
    },
    {
      "cell_type": "code",
      "execution_count": null,
      "metadata": {
        "id": "fXNPwBF-yPn1"
      },
      "outputs": [],
      "source": [
        "visits.head(3)"
      ]
    },
    {
      "cell_type": "markdown",
      "metadata": {
        "id": "CMXLe_2wyPn1"
      },
      "source": [
        "Начанием создавать когорты. Находим перевое посещение клиента, иеняем типы данных. Соединяем все в общею таблицу."
      ]
    },
    {
      "cell_type": "code",
      "execution_count": null,
      "metadata": {
        "id": "8jyKTBQeyPn2"
      },
      "outputs": [],
      "source": [
        "first_visits_date = visits.groupby('uid')['start_ts'].min().reset_index()\n",
        "first_visits_date.columns = ['uid','first_month_start_ts']\n",
        "first_visits_date['first_month_start_ts'] = first_visits_date['first_month_start_ts'].dt.date\n",
        "first_visits_date['first_month_start_ts'] = first_visits_date['first_month_start_ts'].astype('datetime64[M]')\n",
        "user_activity = pd.merge(first_visits_date, visits, on='uid')"
      ]
    },
    {
      "cell_type": "markdown",
      "metadata": {
        "id": "5WQ0Wm0qyPn2"
      },
      "source": [
        "Создадим в таблице столбец с месяцем визита."
      ]
    },
    {
      "cell_type": "code",
      "execution_count": null,
      "metadata": {
        "id": "2TYGPcFPyPn2"
      },
      "outputs": [],
      "source": [
        "\n",
        "user_activity['session_month'] = pd.to_datetime(user_activity['session_date'], format = '%Y-%m-%dT%H:%M:%S')\n",
        "user_activity['session_month'] = user_activity['session_month'].astype('datetime64[M]')\n",
        "user_activity.head()"
      ]
    },
    {
      "cell_type": "markdown",
      "metadata": {
        "id": "kdcKFvKxyPn2"
      },
      "source": [
        "Создаем столбец с порядковым номером месяца жизни когорты."
      ]
    },
    {
      "cell_type": "code",
      "execution_count": null,
      "metadata": {
        "id": "NVAJJ2YIyPn2"
      },
      "outputs": [],
      "source": [
        "user_activity['cohort_lifetime'] = (\n",
        "    user_activity['session_month']\n",
        "    - user_activity['first_month_start_ts']\n",
        ")\n",
        "user_activity['cohort_lifetime'] = user_activity[\n",
        "    'cohort_lifetime'\n",
        "] / np.timedelta64(1, 'M')\n",
        "user_activity['cohort_lifetime'] = (\n",
        "    user_activity['cohort_lifetime'].round().astype('int')\n",
        ")\n",
        "\n",
        "\n",
        "user_activity.head(3)"
      ]
    },
    {
      "cell_type": "markdown",
      "metadata": {
        "id": "QjXZXt9nyPn3"
      },
      "source": [
        "Сгруппируем когорты. Значения в таблице будет количество пользователей. "
      ]
    },
    {
      "cell_type": "code",
      "execution_count": null,
      "metadata": {
        "id": "QBaZILkYyPn3"
      },
      "outputs": [],
      "source": [
        "cohorts = user_activity.pivot_table(\n",
        "    index='first_month_start_ts',\n",
        "    columns='cohort_lifetime',\n",
        "    values='uid',\n",
        "    aggfunc='nunique')\n",
        "\n",
        "cohorts"
      ]
    },
    {
      "cell_type": "markdown",
      "metadata": {
        "id": "6IYzSkdIyPn3"
      },
      "source": [
        "Посчитаем коофициет удержания разделив поочередно столбцы с 1 по 11 на знаения столбца 0. Визуализируем результат применив heatmap."
      ]
    },
    {
      "cell_type": "code",
      "execution_count": null,
      "metadata": {
        "id": "A3xw2X_wyPn4"
      },
      "outputs": [],
      "source": [
        "retention = pd.DataFrame()\n",
        "for col in cohorts.columns:\n",
        "    retention = pd.concat([retention, cohorts[col] / cohorts[0]], axis=1)\n",
        "retention.columns = cohorts.columns\n",
        "retention.index = [str(x)[0:10] for x in retention.index]\n",
        "plt.figure(figsize=(13,9))\n",
        "sns.heatmap(retention, annot=True, fmt='.1%', linewidths=1, linecolor='grey', vmax=0.1, cbar_kws={'orientation':'horizontal'} ).set(title='Retention Rate')\n",
        "plt.show()"
      ]
    },
    {
      "cell_type": "markdown",
      "metadata": {
        "id": "zX14XRTNyPn4"
      },
      "source": [
        "Посчитаем средний Retention Rate на второй месяц «жизни» когорт "
      ]
    },
    {
      "cell_type": "code",
      "execution_count": null,
      "metadata": {
        "id": "QEOynhMRyPn4"
      },
      "outputs": [],
      "source": [
        "m =retention[1].mean()\n",
        "print('Cредний Retention Rate на второй месяц «жизни» когорт - {:.1%}'.format(m))"
      ]
    },
    {
      "cell_type": "markdown",
      "metadata": {
        "id": "7UbIRiuQyPn4"
      },
      "source": [
        "<div class=\"alert alert-block alert-info\">\n",
        "Retention Rate с течением времени снижаеться до 2%.\n",
        "</div>"
      ]
    },
    {
      "cell_type": "markdown",
      "metadata": {
        "id": "7Vf04ainyPn5"
      },
      "source": [
        "#### Вывод"
      ]
    },
    {
      "cell_type": "markdown",
      "metadata": {
        "id": "NgqCQSewyPn5"
      },
      "source": [
        "Мы расчитали продуктовые метрики. У нас получилось:"
      ]
    },
    {
      "cell_type": "code",
      "execution_count": null,
      "metadata": {
        "id": "RFnm4_IpyPn6"
      },
      "outputs": [],
      "source": [
        "print('DAU - количество уникальных пользователей в день:', int(dau_total))\n",
        "print('WAU - количество уникальных пользователей в неделю:', int(wau_total)) \n",
        "print('MAU - количество уникальных пользователей в месяц:', int(mau_total)) \n",
        "print('В среднем в день на одного пользователя приходится {} сессий'.format(round(dau_per_user['ses_per_user'].mean(),2)))\n",
        "print('Продолжительность типичной пользовательской сессии за весь период - {} sec'.format(int(asl)))\n",
        "print('Cредний Retention Rate на второй месяц «жизни» когорт - {:.1%}'.format(m))"
      ]
    },
    {
      "cell_type": "markdown",
      "metadata": {
        "id": "a8qd7zSMyPn6"
      },
      "source": [
        "Так же из графиков мы видим среднее количество сессий распределённых во времении. Мы видим сезонность количеста посещений сайта. Летом количество посетителей минимально, начиная с осени идет рост, достигая максимальных значений в конце ноября, зимой и осенью количество пользователей постепенно снижаеться до минимальных значений лета. Так же мы видим что, на одного пользователя приходтся 1,08 сессии, а её длительность 60 секунд. Cредний Retention Rate на второй месяц «жизни» когорт - 6.5%. Получается 94,5 % клиентов заходят только один раз и больше к нам не возвращаються. Видимо у маркетинга с привлечением клиента все в порядке, клиентов привлеваают, а что покупают эти клиенты и покупают ли вообще? Посмотрим на метрики элетронной коммерции."
      ]
    },
    {
      "cell_type": "markdown",
      "metadata": {
        "id": "ENIp4IpdyPn6"
      },
      "source": [
        "### Метрики электронной коммерции"
      ]
    },
    {
      "cell_type": "markdown",
      "metadata": {
        "id": "KcnMcmKRyPn6"
      },
      "source": [
        "Исследуем, сколько времени в среднем проходит с момента первого посещения сайта до совершения покупки. "
      ]
    },
    {
      "cell_type": "code",
      "execution_count": null,
      "metadata": {
        "id": "GH3O4E2ayPn7"
      },
      "outputs": [],
      "source": [
        "visits.head(3)"
      ]
    },
    {
      "cell_type": "markdown",
      "metadata": {
        "id": "W7VLWPFiyPn7"
      },
      "source": [
        "Создадим в таблице столбец first_visits_date, с датой первого визита пользователя. В таблице users объединим таблицу orders с first_visits_date."
      ]
    },
    {
      "cell_type": "code",
      "execution_count": null,
      "metadata": {
        "id": "CF6wMK3oyPn7"
      },
      "outputs": [],
      "source": [
        "first_orders_date = orders.groupby('uid')['buy_ts'].min()\n",
        "first_orders_date.name = 'first_orders_date'\n",
        "orders2 = orders.join(first_orders_date, on='uid')\n",
        "first_visits_date = visits.groupby('uid')['start_ts'].min()\n",
        "first_visits_date.name = 'first_visits_date'\n",
        "users = orders2.join(first_visits_date, on='uid')\n",
        "users.sample(5)\n"
      ]
    },
    {
      "cell_type": "code",
      "execution_count": null,
      "metadata": {
        "id": "cSj9eghQyPn7"
      },
      "outputs": [],
      "source": [
        "users['time_delta'] = (\n",
        "    users['first_visits_date'] - users['first_orders_date']\n",
        ")\n",
        "users['time_delta'] = users[\n",
        "    'time_delta'\n",
        "] / np.timedelta64(1, 'm')\n",
        "users['time_delta'] = users['time_delta'].astype(\n",
        "    'float').abs()"
      ]
    },
    {
      "cell_type": "markdown",
      "metadata": {
        "id": "XpvBnqA6yPn8"
      },
      "source": [
        "Сгруппируем таблицу по пользователю. "
      ]
    },
    {
      "cell_type": "code",
      "execution_count": null,
      "metadata": {
        "id": "_M8vsBJjyPn8"
      },
      "outputs": [],
      "source": [
        "users_group = users.pivot_table(index='uid', values='time_delta')"
      ]
    },
    {
      "cell_type": "markdown",
      "metadata": {
        "id": "UU3V1Wt_yPn8"
      },
      "source": [
        "Определим какое время заказа чаще всего встречалось. Определим Моду."
      ]
    },
    {
      "cell_type": "code",
      "execution_count": null,
      "metadata": {
        "id": "SFYJqb0cyPn8"
      },
      "outputs": [],
      "source": [
        "users_group['time_delta'].hist(bins=1000).set(title='Время от первого посещения до первого заказа', xlabel='Время, секунды', ylabel='Количество значений', xlim=(0,4000))\n",
        "plt.show()\n",
        "mo=users_group['time_delta'].mode()\n",
        "print('Мода времени заказа после первого посещения пользователя {} минута'.format(int(mo)))\n",
        "users['time_delta'].describe()"
      ]
    },
    {
      "cell_type": "markdown",
      "metadata": {
        "id": "XT3IMqsRyPn9"
      },
      "source": [
        "Больше всего людей делают заказ в первую минуту посещения сайта. Предполагаю что это покупка по акции. Цены - невозможно отказаться.))) Продолжим исследовать метрики."
      ]
    },
    {
      "cell_type": "markdown",
      "metadata": {
        "id": "dyW62FXbyPn-"
      },
      "source": [
        "Применяя когортный анализ или другой метод, рассчитаем среднее количество покупок на одного покупателя за определённый период, например за 6 месяцев."
      ]
    },
    {
      "cell_type": "code",
      "execution_count": null,
      "metadata": {
        "id": "K-tGpUT4yPn-"
      },
      "outputs": [],
      "source": [
        "users.head(2)"
      ]
    },
    {
      "cell_type": "markdown",
      "metadata": {
        "id": "N6Ftg_PEyPn-"
      },
      "source": [
        "Добвим в таблицу месяц первой покупки и месяц покупки. "
      ]
    },
    {
      "cell_type": "code",
      "execution_count": null,
      "metadata": {
        "id": "dDA4isWByPn-"
      },
      "outputs": [],
      "source": [
        "users['first_orders_month'] = users['first_orders_date'].astype('datetime64[M]').dt.strftime('%Y-%m')\n",
        "users['orders_month'] = users['buy_ts'].astype('datetime64[M]').dt.strftime('%Y-%m')\n",
        "users = users[users['orders_month'] < '2017-12']\n",
        "users['orders_month'] = users['buy_ts'].astype('datetime64[M]').dt.strftime('%Y-%m')\n",
        "users.head(3)\n"
      ]
    },
    {
      "cell_type": "markdown",
      "metadata": {
        "id": "eUJulFQ2yPn-"
      },
      "source": [
        "Месяц первой покупки будет название когорты."
      ]
    },
    {
      "cell_type": "code",
      "execution_count": null,
      "metadata": {
        "id": "Pl232sNXyPn_"
      },
      "outputs": [],
      "source": [
        "cohort_grouped = users.groupby('first_orders_month').agg(\n",
        "    {'uid': 'nunique', 'revenue': 'count'}\n",
        ")\n",
        "\n",
        "cohort_grouped.head() "
      ]
    },
    {
      "cell_type": "markdown",
      "metadata": {
        "id": "EbBTaC_7yPn_"
      },
      "source": [
        "Добам так же группировку по месяцу покупки."
      ]
    },
    {
      "cell_type": "code",
      "execution_count": null,
      "metadata": {
        "id": "h-mTxxl1yPn_"
      },
      "outputs": [],
      "source": [
        "orders_grouped_by_cohorts = users.groupby(\n",
        "    ['first_orders_month', 'orders_month']\n",
        ").agg({'revenue': 'count', 'uid': 'nunique'})\n",
        "orders_grouped_by_cohorts"
      ]
    },
    {
      "cell_type": "markdown",
      "metadata": {
        "id": "QcMZFhdIyPn_"
      },
      "source": [
        "Определим количество покупок на одного пользователя. "
      ]
    },
    {
      "cell_type": "code",
      "execution_count": null,
      "metadata": {
        "id": "SkhdfYZhyPn_"
      },
      "outputs": [],
      "source": [
        "orders_grouped_by_cohorts['buy_per_user'] = orders_grouped_by_cohorts['revenue'] / orders_grouped_by_cohorts['uid']"
      ]
    },
    {
      "cell_type": "code",
      "execution_count": null,
      "metadata": {
        "id": "5HOAQZUAyPoA"
      },
      "outputs": [],
      "source": [
        "buy_per_user = orders_grouped_by_cohorts.pivot_table(\n",
        "    index='first_orders_month',\n",
        "    columns='orders_month',\n",
        "    values='buy_per_user',\n",
        "    aggfunc='mean',\n",
        ")"
      ]
    },
    {
      "cell_type": "code",
      "execution_count": null,
      "metadata": {
        "id": "P3Y-CxTryPoA"
      },
      "outputs": [],
      "source": [
        "buy_per_user"
      ]
    },
    {
      "cell_type": "code",
      "execution_count": null,
      "metadata": {
        "id": "p2_ZwfuiyPoA"
      },
      "outputs": [],
      "source": [
        "plt.figure(figsize=(13,9))\n",
        "sns.heatmap(buy_per_user, annot=True, fmt='.2f', linewidths=1, linecolor='grey', vmax=3, cbar_kws={'orientation':'horizontal'} ).set(title='Количество покупок на одного пользователя')\n",
        "plt.show()"
      ]
    },
    {
      "cell_type": "code",
      "execution_count": null,
      "metadata": {
        "id": "vgjjpBbByPoB"
      },
      "outputs": [],
      "source": [
        "mean_buy = orders_grouped_by_cohorts['buy_per_user'].mean()\n",
        "print(f'Среднее количество покупок {round(mean_buy,2)} заказов на одного покупателя.')"
      ]
    },
    {
      "cell_type": "markdown",
      "metadata": {
        "id": "wcS_-jpDyPoB"
      },
      "source": [
        "Мы видим что, количство покупок со временем увеличиваеться. Значит если клиент вернулся за повторной покупкой он делает это не раз"
      ]
    },
    {
      "cell_type": "markdown",
      "metadata": {
        "id": "RJ5_6_wiyPoB"
      },
      "source": [
        "Определим средний чек на одного пользователя. Алгорит определения размера средней покупки аналогичен предидущему расчеты."
      ]
    },
    {
      "cell_type": "code",
      "execution_count": null,
      "metadata": {
        "id": "hzYvmhStyPoC"
      },
      "outputs": [],
      "source": [
        "users = users.copy()"
      ]
    },
    {
      "cell_type": "code",
      "execution_count": null,
      "metadata": {
        "id": "EC4ub-R0yPoC"
      },
      "outputs": [],
      "source": [
        "users['first_orders_month'] = users['first_orders_date'].astype('datetime64[M]').dt.strftime('%Y-%m')\n",
        "users['orders_month'] = users['buy_ts'].astype('datetime64[M]').dt.strftime('%Y-%m')\n",
        "users.head(3)"
      ]
    },
    {
      "cell_type": "code",
      "execution_count": null,
      "metadata": {
        "id": "t9byKWayyPoC"
      },
      "outputs": [],
      "source": [
        "cohort_grouped2 = users.groupby('first_orders_month').agg(\n",
        "    {'uid': 'nunique', 'revenue': 'sum'}\n",
        ")\n",
        "\n",
        "cohort_grouped.head() "
      ]
    },
    {
      "cell_type": "code",
      "execution_count": null,
      "metadata": {
        "id": "oP0PqfQpyPoC"
      },
      "outputs": [],
      "source": [
        "orders_grouped_by_cohorts2 = users.groupby(\n",
        "    ['first_orders_month', 'orders_month']\n",
        ").agg({'revenue': 'sum', 'uid': 'nunique' })\n",
        "orders_grouped_by_cohorts2"
      ]
    },
    {
      "cell_type": "code",
      "execution_count": null,
      "metadata": {
        "id": "MyyByAQwyPoD"
      },
      "outputs": [],
      "source": [
        "orders_grouped_by_cohorts2['avrage_chek'] = orders_grouped_by_cohorts2['revenue'] / orders_grouped_by_cohorts2['uid']"
      ]
    },
    {
      "cell_type": "code",
      "execution_count": null,
      "metadata": {
        "id": "AYrmv2tMyPoD"
      },
      "outputs": [],
      "source": [
        "avrage_chek = orders_grouped_by_cohorts2.pivot_table(\n",
        "    index='first_orders_month',\n",
        "    columns='orders_month',\n",
        "    values='avrage_chek',\n",
        "    aggfunc='mean',\n",
        ")"
      ]
    },
    {
      "cell_type": "markdown",
      "metadata": {
        "id": "bjT_qvSQyPoE"
      },
      "source": [
        "Сгруппируем данные по месяцам."
      ]
    },
    {
      "cell_type": "code",
      "execution_count": null,
      "metadata": {
        "id": "Z6lcdD-DyPoE"
      },
      "outputs": [],
      "source": [
        "avrage_chek"
      ]
    },
    {
      "cell_type": "markdown",
      "metadata": {
        "id": "gop3XhS0yPoE"
      },
      "source": [
        "Визаулизурем данные"
      ]
    },
    {
      "cell_type": "code",
      "execution_count": null,
      "metadata": {
        "id": "Apzia6nOyPoE"
      },
      "outputs": [],
      "source": [
        "\n",
        "plt.figure(figsize=(13,9))\n",
        "sns.heatmap(avrage_chek, annot=True, fmt='.2f', linewidths=1, linecolor='grey', vmax=25, cbar_kws={'orientation':'horizontal'} ).set(title='Средний чек')\n",
        "plt.show()"
      ]
    },
    {
      "cell_type": "code",
      "execution_count": null,
      "metadata": {
        "id": "Kk9moJBqyPoF"
      },
      "outputs": [],
      "source": [
        "orders_grouped_by_cohorts3 = users.groupby(\n",
        "    ['orders_month']\n",
        ").agg({'revenue': 'sum', 'uid': 'nunique' })\n",
        "\n",
        "orders_grouped_by_cohorts3['avrage_chek'] = orders_grouped_by_cohorts3['revenue'] / orders_grouped_by_cohorts3['uid']\n",
        "orders_grouped_by_cohorts3['avrage_chek'].mean()\n"
      ]
    },
    {
      "cell_type": "code",
      "execution_count": null,
      "metadata": {
        "id": "RtViB5WLyPoF"
      },
      "outputs": [],
      "source": [
        "x = orders_grouped_by_cohorts2.groupby('orders_month')['avrage_chek'].mean()\n",
        "x1 = orders_grouped_by_cohorts3['avrage_chek'].mean()\n",
        "x.plot(figsize=(12,6)).set(title='Величина среднего чека распределенная по месяцам', xlabel='Месяц заказа', ylabel='Количество значений')\n",
        "plt.axhline(label= 'Средний чек за весь период - {:.1f}'.format(x1), y= orders_grouped_by_cohorts3['avrage_chek'].mean(),\n",
        "                linewidth=3, \n",
        "                color='r', \n",
        "                linestyle='--')\n",
        "plt.grid()\n",
        "plt.legend()\n",
        "plt.show()"
      ]
    },
    {
      "cell_type": "markdown",
      "metadata": {
        "id": "8bEyz-n2yPoF"
      },
      "source": [
        "Не применяя когортный анализ (мы не определяли месяц жизни когорты) был посчитан средний чек. Для расчета применили группировку по времени совершения покупки. Когортный анализ не подходит — он может исказить расчёты. Мы видим, что средний чек в первый месяц покупки значительно ниже, чем в последующие месяцы, так же мы видим, что количество клиентов в первый месяц намного больше  количества клиентов приобретающих в последующие месяцы. Предположение об привлечении клиентов по акции похоже на правду. Сайт завлекает клиентов низкими ценами. Клиенты которые делаю повторный заказ платят в среднем намного больше. Посмотрим сколько платит каждый клиент в общем. Какую прибыль он приносит сайту? Расчитаем LTV."
      ]
    },
    {
      "cell_type": "markdown",
      "metadata": {
        "id": "KsNj6johyPoH"
      },
      "source": [
        " Выясним, как меняется LTV на покупателя по когортам. Рассчитаем средний LTV по когортам за 6 месяцев. Отразим изменения метрики во времени на графике;"
      ]
    },
    {
      "cell_type": "markdown",
      "metadata": {
        "id": "yR2ooOX0yPoH"
      },
      "source": [
        "Визуально оценим данные"
      ]
    },
    {
      "cell_type": "code",
      "execution_count": null,
      "metadata": {
        "id": "DcxCVzAgyPoH"
      },
      "outputs": [],
      "source": [
        "orders['buy_ts'].describe()"
      ]
    },
    {
      "cell_type": "code",
      "execution_count": null,
      "metadata": {
        "id": "MAoqmT_SyPoH"
      },
      "outputs": [],
      "source": [
        "costs['dt'].describe() "
      ]
    },
    {
      "cell_type": "markdown",
      "metadata": {
        "id": "nqxHTwxNyPoI"
      },
      "source": [
        "Диапазон дат расходов совпадает с датами заказов.\n",
        "LTV удобно считать по когортам. Вспомним, что для этого нужно:\n",
        "* найти дату первой покупки каждого покупателя;\n",
        "* вычислить число новых покупателей за каждую дату;\n",
        "* добавить дату первой покупки в таблицу с заказами;\n",
        "* сгруппировать таблицу и посчитать выручку."
      ]
    },
    {
      "cell_type": "code",
      "execution_count": null,
      "metadata": {
        "id": "vpBU0VcLyPoI"
      },
      "outputs": [],
      "source": [
        "orders['order_month'] = orders['buy_ts'].astype('datetime64[M]')\n",
        "costs['month'] = costs['dt'].astype('datetime64[M]') "
      ]
    },
    {
      "cell_type": "code",
      "execution_count": null,
      "metadata": {
        "id": "UHVuVOTxyPoI"
      },
      "outputs": [],
      "source": [
        "first_orders = orders.groupby('uid').agg({'order_month': 'min'}).reset_index()\n",
        "first_orders.columns = ['uid', 'first_order_month']\n",
        "first_orders.head(3)"
      ]
    },
    {
      "cell_type": "markdown",
      "metadata": {
        "id": "m9v6lZityPoI"
      },
      "source": [
        "Посчитаем количество новых покупателей (n_buyers) за каждый месяц:"
      ]
    },
    {
      "cell_type": "code",
      "execution_count": null,
      "metadata": {
        "id": "t-21tH9_yPoJ"
      },
      "outputs": [],
      "source": [
        "cohort_sizes = (\n",
        "    first_orders.groupby('first_order_month')\n",
        "    .agg({'uid': 'nunique'})\n",
        "    .reset_index()\n",
        ")\n",
        "cohort_sizes.columns = ['first_order_month', 'n_buyers']\n",
        "cohort_sizes.head()"
      ]
    },
    {
      "cell_type": "markdown",
      "metadata": {
        "id": "MMUD-nkhyPoJ"
      },
      "source": [
        "Построим когорты. Добавим месяц первой покупки каждого покупателя в таблицу с заказами:"
      ]
    },
    {
      "cell_type": "code",
      "execution_count": null,
      "metadata": {
        "id": "t7b53HdpyPoJ"
      },
      "outputs": [],
      "source": [
        "orders_new = pd.merge(orders,first_orders, on='uid')\n",
        "\n",
        "orders_new.head()"
      ]
    },
    {
      "cell_type": "markdown",
      "metadata": {
        "id": "fItTsW3byPoJ"
      },
      "source": [
        "Сгруппируем таблицу заказов по месяцу первой покупки и месяцу каждого заказа и сложим выручку. Сбросим индекс методом reset_index():"
      ]
    },
    {
      "cell_type": "code",
      "execution_count": null,
      "metadata": {
        "id": "FHa2aa2oyPoJ"
      },
      "outputs": [],
      "source": [
        "cohorts_ltv = (\n",
        "    orders_new.groupby(['first_order_month', 'order_month'])\n",
        "    .agg({'revenue': 'sum'})\n",
        "    .reset_index()\n",
        ")\n",
        "cohorts_ltv.head() "
      ]
    },
    {
      "cell_type": "markdown",
      "metadata": {
        "id": "3FFSxZUYyPoK"
      },
      "source": [
        "Строка таблицы cohorts показывает, какую выручку принесла когорта. Например, строка 0 сообщает, что покупатели, сделавшие свой первый заказ в июне 2017 года, в этом же месяце принесли суммарно 9557.490 у.е. выручки.\n",
        "С точки зрения когортного анализа LTV — накопительная выручка когорты в пересчёте на количество людей. Добавим в таблицу cohorts данные о том, сколько людей первый раз совершили покупку в каждый месяц:"
      ]
    },
    {
      "cell_type": "code",
      "execution_count": null,
      "metadata": {
        "id": "PRakg51pyPoK"
      },
      "outputs": [],
      "source": [
        "report = pd.merge(cohort_sizes, cohorts_ltv, on='first_order_month')\n",
        "print(report.head()) "
      ]
    },
    {
      "cell_type": "markdown",
      "metadata": {
        "id": "nSFCLjwryPoK"
      },
      "source": [
        "Ранее в таблице появился столбец с новыми покупателями — n_buyers. В первых 5 строках его значение не изменяется — ведь это продажи одной и той же когорты.\n",
        "До расчёта LTV осталось 2 шага. Во-первых, LTV считают не из выручки, а из валовой прибыли. Значит, нужно найти валовую прибыль, умножив выручку на маржинальность. Во-вторых, LTV — относительный показатель. Значит его удобнее смотреть по «возрастным» когортам, где в столбцах — не месяц заказа, а возраст (age) когорты."
      ]
    },
    {
      "cell_type": "code",
      "execution_count": null,
      "metadata": {
        "id": "Mv-j1HD8yPoK"
      },
      "outputs": [],
      "source": [
        "margin_rate = 1\n",
        "\n",
        "report['gp'] = report['revenue'] * margin_rate\n",
        "report['age'] = (\n",
        "    report['order_month'] - report['first_order_month']\n",
        ") / np.timedelta64(1, 'M')\n",
        "report['age'] = report['age'].round().astype('int')\n",
        "# Срезаем только когорты «прожившие» не менее 6 месяцев\n",
        "report = report[report['first_order_month'] < '2017-12-01']\n",
        "report.head()"
      ]
    },
    {
      "cell_type": "markdown",
      "metadata": {
        "id": "wPEAEU5NyPoL"
      },
      "source": [
        "Наконец, найдём LTV. Разделим валовую прибыль когорт за каждый месяц на общее число пользователей в каждой когорте. Для наглядности визуализируем когорты в виде сводной таблицы:"
      ]
    },
    {
      "cell_type": "code",
      "execution_count": null,
      "metadata": {
        "id": "OsKSlnWNyPoL"
      },
      "outputs": [],
      "source": [
        "report['ltv'] = report['gp'] / report['n_buyers']\n",
        "report.head()"
      ]
    },
    {
      "cell_type": "code",
      "execution_count": null,
      "metadata": {
        "id": "nA5ngYiDyPoL"
      },
      "outputs": [],
      "source": [
        "\n",
        "\n",
        "output = report.pivot_table(\n",
        "    index='first_order_month', columns='age', values='ltv', aggfunc='mean'\n",
        ")\n",
        "\n",
        "output.fillna('') "
      ]
    },
    {
      "cell_type": "code",
      "execution_count": null,
      "metadata": {
        "id": "R5LtEZkCyPoL"
      },
      "outputs": [],
      "source": [
        "output.cumsum(axis=1)"
      ]
    },
    {
      "cell_type": "code",
      "execution_count": null,
      "metadata": {
        "id": "aMjiaYRAyPoL"
      },
      "outputs": [],
      "source": [
        "\n",
        "plt.figure(figsize=(13,9))\n",
        "sns.heatmap(output.cumsum(axis=1), annot=True, fmt='.2f', linewidths=1, linecolor='grey', vmax=14, cbar_kws={'orientation':'horizontal'} ).set(title='LTV')\n",
        "plt.show()"
      ]
    },
    {
      "cell_type": "code",
      "execution_count": null,
      "metadata": {
        "id": "aY45HypdyPoM"
      },
      "outputs": [],
      "source": [
        "output.cumsum(axis=1).mean(axis=1).plot(figsize=(12,6), kind='bar')\n",
        "plt.title('средний LTV по когортам не старше 6 месяцев')\n",
        "plt.ylabel('livetime value')\n",
        "plt.xlabel('месяц жизни когорты')\n",
        "plt.tick_params( axis = 'both',    #  Применяем параметры к обеим осям\n",
        "               which = 'major',    #  Применяем параметры к основным делениям\n",
        "               direction = 'inout',    #  Рисуем деления внутри и снаружи графика\n",
        "               length = 10,    #  Длинна делений\n",
        "               width = 6,     #  Ширина делений\n",
        "               color = 'g',    #  Цвет делений\n",
        "               pad = 12,    #  Расстояние между черточкой и ее подписью\n",
        "               labelsize = 12,    #  Размер подписи\n",
        "               labelcolor = 'g',    #  Цвет подписи\n",
        "            rotation = 45 )    #  Поворот подписей\n",
        "\n",
        " \n",
        "plt.grid(True)\n",
        "plt.show()\n",
        "ltv_mean = output.cumsum(axis=1).mean(axis=1).mean()\n",
        "print('Среднее LTV в общем {:.2f}'.format(ltv_mean))"
      ]
    },
    {
      "cell_type": "markdown",
      "metadata": {
        "id": "R8eMKwydyPoN"
      },
      "source": [
        "Из графика видим, что польше всего выручки принесли покупатели совершившие первую покупку в сентябре 2017. Интересно почему?"
      ]
    },
    {
      "cell_type": "markdown",
      "metadata": {
        "id": "K1FO7_N7yPoN"
      },
      "source": [
        "#### Вывод"
      ]
    },
    {
      "cell_type": "markdown",
      "metadata": {
        "id": "rCi2a05cyPoN"
      },
      "source": [
        "Обощив выведенные метрики электронной комерции можно сделать вывод\n",
        "* Больше всего людей делают заказ в первую минуту посещения сайта. \n",
        "\n",
        "* В среднем на одного покупетля выходи 1,86 покупки. Сгруппировав данные по месяцам мы видим что, количство покупок со временем увеличиваеться. Значит если клиент вернулся за повторной покупкой он делает это не раз.\n",
        "\n",
        "* Мы видим, что средний чек в первый месяц покупки значительно ниже, чем в последующие месяцы, так же мы видим, что количество клиентов в первый месяц намного больше  количества клиентов приобретающих в последующие месяцы. Предположение об привлечении клиентов по акции похоже на правду. Сайт завлекает клиентов низкими ценами. Клиенты которые делаю повторный заказ платят в среднем намного больше. \n",
        "\n",
        "* Среднее LTV в общем 7.56. Из графика видим, что польше всего выручки принесли покупатели совершившие первую покупку в сентябре 2017. "
      ]
    },
    {
      "cell_type": "code",
      "execution_count": null,
      "metadata": {
        "id": "MDL0GhZwyPoO"
      },
      "outputs": [],
      "source": [
        "plt.figure(figsize=(13,9))\n",
        "sns.heatmap(avrage_chek, annot=True, fmt='.2f', linewidths=1, linecolor='grey', vmax=25, cbar_kws={'orientation':'horizontal'} ).set(title='Средний чек')\n",
        "plt.show()"
      ]
    },
    {
      "cell_type": "markdown",
      "metadata": {
        "id": "W0skyNtAyPoO"
      },
      "source": [
        "### Маркетинговые метрики"
      ]
    },
    {
      "cell_type": "markdown",
      "metadata": {
        "id": "MfXt-oEqyPoO"
      },
      "source": [
        " Посчитаем общую сумму расходов на маркетинг. Выясним, как траты распределены по источникам. Визуализируем изменения метрики во времени. Так же посчитаем сумммарные расходы по всем источникам и за весь период."
      ]
    },
    {
      "cell_type": "code",
      "execution_count": null,
      "metadata": {
        "id": "cCfOwr1eyPoP"
      },
      "outputs": [],
      "source": [
        "plt.figure(figsize=(10, 5))\n",
        "costs_sum_by_sourse = costs.groupby('source_id')['costs'].sum()\n",
        "  \n",
        "costs_sum_by_sourse.plot(kind='line').set(title='Cумма расходов на маркетинг распределеныx по источникам за весь период', xlabel='наименование источника', ylabel='Количество значений')\n",
        "plt.show()"
      ]
    },
    {
      "cell_type": "code",
      "execution_count": null,
      "metadata": {
        "id": "EoWj3Tn4yPoP"
      },
      "outputs": [],
      "source": [
        "visits['first_session_date'] = visits['session_date'].astype('datetime64[D]') \n",
        "visits.sample(3)"
      ]
    },
    {
      "cell_type": "code",
      "execution_count": null,
      "metadata": {
        "id": "GksYtPnWyPoP"
      },
      "outputs": [],
      "source": [
        "costs['month'] = costs['month'].astype('datetime64[M]').dt.strftime('%Y-%m')"
      ]
    },
    {
      "cell_type": "code",
      "execution_count": null,
      "metadata": {
        "id": "Ycb6z0KyyPoQ"
      },
      "outputs": [],
      "source": [
        "\n",
        "costs_sum_by_sourse = costs.pivot_table(\n",
        "    index='month',\n",
        "    columns = 'source_id',\n",
        "    values='costs',\n",
        "    aggfunc='sum',\n",
        ")\n",
        "\n",
        "plt.figure(figsize=(13, 9))\n",
        "plt.title('Cумма расходов на маркетинг распределеныx по источникам', fontsize = 15)\n",
        "sns.heatmap(costs_sum_by_sourse, annot=True, fmt='.1f', linewidths=1, linecolor='gray', cmap=\"coolwarm\") \n",
        "plt.show()\n"
      ]
    },
    {
      "cell_type": "code",
      "execution_count": null,
      "metadata": {
        "id": "XSiCr575yPoQ"
      },
      "outputs": [],
      "source": [
        "plt.figure(figsize=(10, 5))\n",
        "costs_sum_by_sourse = costs.groupby('source_id')['costs'].sum()\n",
        "  \n",
        "costs_sum_by_sourse.plot(kind='line').set(title='Cумма расходов на маркетинг распределеныx по источникам за весь период', xlabel='наименование источника', ylabel='Количество значений')\n",
        "plt.show()"
      ]
    },
    {
      "cell_type": "markdown",
      "metadata": {
        "id": "azXmirGHyPoQ"
      },
      "source": [
        "<div class=\"alert alert-block alert-info\">\n",
        "Сравнив расходы на маркетинг по когортам и за весь период, мы видим, что они совпадают. 3 источник - имеет максимальные расходы.\n",
        "</div>"
      ]
    },
    {
      "cell_type": "markdown",
      "metadata": {
        "id": "zYPLpMEEyPoQ"
      },
      "source": [
        "<div class=\"alert alert-block alert-danger\">\n",
        "Комментарий ревьюера v. 1:\n",
        "    \n",
        "Дополнительно можно убрать timestamp \"00:00:00\" с дат. Просьба учесть этот комментарий и для других графиков.\n",
        "</div>"
      ]
    },
    {
      "cell_type": "markdown",
      "metadata": {
        "id": "TzxKZ_YFyPoR"
      },
      "source": [
        "<div class=\"alert alert-block alert-danger\">\n",
        "Комментарий ревьюера v. 1:\n",
        "    \n",
        "Молодец, что построил график расходов по источникам (но здесь лучше будет использовать линейный график для более удобного сравнения), но нужно добавить график суммарных расходов и сравнить совпадает ли динамика расходов по источникам с динамикой суммарных расходов.\n",
        "</div>"
      ]
    },
    {
      "cell_type": "markdown",
      "metadata": {
        "id": "TvSJBGVqyPoR"
      },
      "source": [
        "<div class=\"alert alert-block alert-danger\">\n",
        "Комментарий ревьюера v. 2:\n",
        "    \n",
        "Я имела ввиду построить с помощью линейного графика или .pivot_table(), .plot() и .area изменение расходов по отдельным источникам и суммарных расходов с теченеим времени.\n",
        "</div>"
      ]
    },
    {
      "cell_type": "markdown",
      "metadata": {
        "id": "K87oNrh2yPoR"
      },
      "source": [
        "<div class=\"alert alert-block alert-warning\">\n",
        "Комментарий ревьюера v. 3:\n",
        "    \n",
        "Здесь удобнее воспользоваться .pivot_table(), .plot и .area() для построения графиков.\n",
        "</div>"
      ]
    },
    {
      "cell_type": "markdown",
      "metadata": {
        "id": "HBMS_HOHyPoR"
      },
      "source": [
        "Рассчитаем средний CAC на одного покупателя для всего проекта и для каждого источника трафика. Отразите изменения метрик на графиках"
      ]
    },
    {
      "cell_type": "code",
      "execution_count": null,
      "metadata": {
        "id": "o_M9Qr-tyPoR"
      },
      "outputs": [],
      "source": [
        "monthly_costs = costs.pivot_table(index =['month'], values=['costs'], aggfunc= 'sum')\n",
        "monthly_costs = monthly_costs.reset_index()\n",
        "monthly_costs['month'] = monthly_costs['month'].astype('datetime64[M]')"
      ]
    },
    {
      "cell_type": "code",
      "execution_count": null,
      "metadata": {
        "id": "d7ISmFB5yPoS"
      },
      "outputs": [],
      "source": [
        "report.head()"
      ]
    },
    {
      "cell_type": "code",
      "execution_count": null,
      "metadata": {
        "id": "ccfyttUEyPoS"
      },
      "outputs": [],
      "source": [
        "\n",
        "report_new = pd.merge(\n",
        "    report, monthly_costs, left_on='first_order_month', right_on='month'\n",
        ")\n",
        "report_new['cac'] = report_new['costs'] / report_new['n_buyers']\n",
        "report_new.sample(5)\n"
      ]
    },
    {
      "cell_type": "code",
      "execution_count": null,
      "metadata": {
        "id": "JJx1RWm4yPoS"
      },
      "outputs": [],
      "source": [
        "cac = report_new['cac'].mean()\n",
        "print('Cредний CAC на одного покупателя для всего проекта {:.2f} y.e.'.format(cac))"
      ]
    },
    {
      "cell_type": "markdown",
      "metadata": {
        "id": "IL4yEdOXyPoT"
      },
      "source": [
        "<div class=\"alert alert-block alert-danger\">\n",
        "Комментарий ревьюера v. 1:\n",
        "    \n",
        "Проверь, пожалуйста, расчёт САС.\n",
        "</div>"
      ]
    },
    {
      "cell_type": "markdown",
      "metadata": {
        "id": "tLLQXKWRyPoT"
      },
      "source": [
        "<div class=\"alert alert-block alert-info\">\n",
        "Не верно сгруппировал помесячные расходы. Пересчитал.\n",
        "</div>"
      ]
    },
    {
      "cell_type": "markdown",
      "metadata": {
        "id": "a0W_d7KeyPoT"
      },
      "source": [
        "<div class=\"alert alert-block alert-warning\">\n",
        "Комментарий ревьюера v. 2:\n",
        "    \n",
        "На самом деле средний САС можно найти проще :)\n",
        "    \n",
        "costs['costs'].sum() / orders['uid'].nunique()\n",
        "</div>"
      ]
    },
    {
      "cell_type": "markdown",
      "metadata": {
        "id": "iRi-yQROyPoU"
      },
      "source": [
        "В задании не сказано в чем измеряеються расходы. Предположим они в тех же единицах что доходы. В противном случае нужно приводить показатели к единому курсу."
      ]
    },
    {
      "cell_type": "markdown",
      "metadata": {
        "id": "1tQSec-eyPoU"
      },
      "source": [
        "Сгруппируем данные по источникам."
      ]
    },
    {
      "cell_type": "code",
      "execution_count": null,
      "metadata": {
        "id": "Q9vPxoNFyPoU"
      },
      "outputs": [],
      "source": [
        "report.head(5)"
      ]
    },
    {
      "cell_type": "markdown",
      "metadata": {
        "id": "OBWhXcw_yPoU"
      },
      "source": [
        "<div class=\"alert alert-block alert-danger\">\n",
        "Комментарий ревьюера v. 2:\n",
        "    \n",
        "Исправь, пожалуйста, ошибку в коде и я смогу продолжить ревью проекта.\n",
        "</div>"
      ]
    },
    {
      "cell_type": "code",
      "execution_count": null,
      "metadata": {
        "id": "GKEJGe0nyPoV"
      },
      "outputs": [],
      "source": [
        "\n",
        "# Соединяем таблицы по первому месяцу активности клиента и месяцу расходов\n",
        "costs['month'] = costs['month'].astype('datetime64[M]')\n",
        "report_source = pd.merge(\n",
        "    costs, report, left_on='month', right_on='first_order_month'\n",
        ")\n",
        "report_source['cac'] = report_source['costs'] / report_source['n_buyers']\n",
        "report_source['month'] = report_source['month'].astype('datetime64[M]').dt.strftime('%Y-%m')\n",
        "cac_sum_by_sourse = report_source.pivot_table(\n",
        "    index='month',\n",
        "    columns = 'source_id',\n",
        "    values='cac',\n",
        "    aggfunc='mean',\n",
        ")\n"
      ]
    },
    {
      "cell_type": "code",
      "execution_count": null,
      "metadata": {
        "id": "gD818eTRyPoV"
      },
      "outputs": [],
      "source": [
        "plt.figure(figsize=(13, 9))\n",
        "plt.title('САС распределеный по источникам', fontsize = 15)\n",
        "sns.heatmap(cac_sum_by_sourse, annot=True, fmt='.3f', linewidths=1, linecolor='gray', cmap=\"coolwarm\") \n",
        "plt.show()"
      ]
    },
    {
      "cell_type": "markdown",
      "metadata": {
        "id": "bmo7AvEnyPoV"
      },
      "source": [
        "Мы видим, что нибольшие расходы идут на 3 источник, наименьшие на 9 и 10."
      ]
    },
    {
      "cell_type": "markdown",
      "metadata": {
        "id": "pTU-mT1iyPoV"
      },
      "source": [
        "Рассчитайте ROMI по когортам в разрезе источников. Сравните окупаемость за одинаковые периоды жизни когорт. Обратите внимание, что клиенты, пришедшие из разных источников, могут иметь разный LTV. Постройте графики, отражающие изменения метрик во времени."
      ]
    },
    {
      "cell_type": "markdown",
      "metadata": {
        "id": "QI4kVTsIyPoV"
      },
      "source": [
        "Для начала найдем только тех пользователей который пришли с ресурса 1."
      ]
    },
    {
      "cell_type": "code",
      "execution_count": null,
      "metadata": {
        "id": "Jig6gVcnyPoW"
      },
      "outputs": [],
      "source": [
        "visits['session_date'] = visits['session_date'].astype('datetime64[D]')\n",
        "visits.info()"
      ]
    },
    {
      "cell_type": "code",
      "execution_count": null,
      "metadata": {
        "id": "j6Qn85kiyPoW"
      },
      "outputs": [],
      "source": [
        "visits_sourse = visits[visits['first_session_date'] == visits['session_date']]\n",
        "visits_sourse_1 = visits_sourse[visits_sourse['source_id'] == 1]\n",
        "visits_sourse_1.info()"
      ]
    },
    {
      "cell_type": "markdown",
      "metadata": {
        "id": "26ByGtZ5yPoW"
      },
      "source": [
        "Сохраним uid этих пользователй в одтельный список"
      ]
    },
    {
      "cell_type": "code",
      "execution_count": null,
      "metadata": {
        "id": "xqCjKdY9yPoW"
      },
      "outputs": [],
      "source": [
        "uid_sourse_1 = visits_sourse_1['uid']\n",
        "uid_sourse_1"
      ]
    },
    {
      "cell_type": "code",
      "execution_count": null,
      "metadata": {
        "id": "zNBic0YiyPoW"
      },
      "outputs": [],
      "source": [
        "users_sourse_1 = users.query('uid in @uid_sourse_1')"
      ]
    },
    {
      "cell_type": "code",
      "execution_count": null,
      "metadata": {
        "id": "_Dow3CRGyPoX"
      },
      "outputs": [],
      "source": [
        "users_sourse_1['first_orders_month'] = users_sourse_1['first_orders_month'].astype('datetime64[M]')\n",
        "users_sourse_1['orders_month'] = users_sourse_1['orders_month'].astype('datetime64[M]')\n",
        "users_sourse_1.info()"
      ]
    },
    {
      "cell_type": "code",
      "execution_count": null,
      "metadata": {
        "id": "7M9X5hUlyPoX"
      },
      "outputs": [],
      "source": [
        "cohort_sizes_s1 = (\n",
        "    users_sourse_1.groupby('first_orders_month')\n",
        "    .agg({'uid': 'nunique'})\n",
        "    .reset_index()\n",
        ")\n",
        "cohort_sizes_s1.columns = ['first_orders_month', 'n_buyers']\n",
        "cohort_sizes_s1.head()"
      ]
    },
    {
      "cell_type": "code",
      "execution_count": null,
      "metadata": {
        "id": "URw5slfWyPoX"
      },
      "outputs": [],
      "source": [
        "cohorts_s1 = (\n",
        "    users_sourse_1.groupby(['first_orders_month', 'orders_month'])\n",
        "    .agg({'revenue': 'sum'})\n",
        "    .reset_index()\n",
        ")\n",
        "cohorts_s1.head() "
      ]
    },
    {
      "cell_type": "code",
      "execution_count": null,
      "metadata": {
        "id": "ymtEffMiyPoX"
      },
      "outputs": [],
      "source": [
        "report_s1 = pd.merge(cohorts_s1, cohort_sizes_s1, on = 'first_orders_month' )"
      ]
    },
    {
      "cell_type": "code",
      "execution_count": null,
      "metadata": {
        "id": "JN2EaiYwyPoX"
      },
      "outputs": [],
      "source": [
        "report_s1"
      ]
    },
    {
      "cell_type": "code",
      "execution_count": null,
      "metadata": {
        "id": "IpRPVXuwyPoY"
      },
      "outputs": [],
      "source": [
        "margin_rate = 1\n",
        "\n",
        "report_s1['gp'] = report_s1['revenue'] * margin_rate\n",
        "report_s1['age'] = (\n",
        "    report_s1['orders_month'] - report_s1['first_orders_month']\n",
        ") / np.timedelta64(1, 'M')\n",
        "report_s1['age'] = report_s1['age'].round().astype('int')\n",
        "\n",
        "report_s1.head(5)"
      ]
    },
    {
      "cell_type": "code",
      "execution_count": null,
      "metadata": {
        "id": "z0RCYP6gyPoY"
      },
      "outputs": [],
      "source": [
        "report_s1['ltv'] = report_s1['gp'] / report_s1['n_buyers']\n",
        "report_s1"
      ]
    },
    {
      "cell_type": "code",
      "execution_count": null,
      "metadata": {
        "id": "T0klDdPUyPoY"
      },
      "outputs": [],
      "source": [
        "monthly_costs_s1 = costs.query('source_id == 1').groupby(['source_id','month'])['costs'].sum()\n",
        "\n",
        "report_new_s1 = pd.merge(\n",
        "    report_s1, monthly_costs_s1, left_on='first_orders_month', right_on='month'\n",
        ")\n",
        "\n",
        "report_new_s1['cac'] = report_new_s1['costs'] / report_new_s1['n_buyers']\n",
        "\n",
        "report_new_s1"
      ]
    },
    {
      "cell_type": "code",
      "execution_count": null,
      "metadata": {
        "id": "vl6IEeUSyPoY"
      },
      "outputs": [],
      "source": [
        ""
      ]
    },
    {
      "cell_type": "code",
      "execution_count": null,
      "metadata": {
        "id": "3IEaEnOuyPoY"
      },
      "outputs": [],
      "source": [
        "report_new_s1['romi'] = report_new_s1['ltv'] / report_new_s1['cac']\n",
        "output_s1 = report_new_s1.pivot_table(\n",
        "    index='first_orders_month', columns='age', values='romi', aggfunc='mean'\n",
        ").cumsum(axis=1).round(2) \n",
        "output_s1\n"
      ]
    },
    {
      "cell_type": "code",
      "execution_count": null,
      "metadata": {
        "id": "miMr4AOayPoZ"
      },
      "outputs": [],
      "source": [
        "plt.figure(figsize=(13, 9))\n",
        "plt.title('Распределение ROMI по когортам у клиентов из источника 1', fontsize = 15)\n",
        "sns.heatmap(output_s1, annot=True, fmt='.2f', linewidths=1, linecolor='gray', cmap=\"coolwarm\", vmax=1) \n",
        "plt.show()"
      ]
    },
    {
      "cell_type": "markdown",
      "metadata": {
        "id": "KbqCnJUuyPoZ"
      },
      "source": [
        "<div class=\"alert alert-block alert-warning \">\n",
        "Комментарий ревьюера v. 3:\n",
        "    \n",
        "Рекомендую убрать timestamp \"00:00:00\" с дат.\n",
        "    \n",
        "Подсказка как можно удалить \"00:00:00\" с дат: https://coderoad.ru/28247778/Python-Pandas-%D1%83%D0%B4%D0%B0%D0%BB%D0%B8%D1%82%D1%8C-%D0%B4%D0%B0%D1%82%D1%83-%D0%B8%D0%B7-timestamp\n",
        "</div>"
      ]
    },
    {
      "cell_type": "markdown",
      "metadata": {
        "id": "LTTz__NTyPoZ"
      },
      "source": [
        "Источник 2 "
      ]
    },
    {
      "cell_type": "code",
      "execution_count": null,
      "metadata": {
        "id": "PjRJQbf5yPoZ"
      },
      "outputs": [],
      "source": [
        "visits_sourse = visits[visits['first_session_date'] == visits['session_date']]\n",
        "visits_sourse_2 = visits_sourse[visits_sourse['source_id'] == 2]\n",
        "\n",
        "uid_sourse_2 = visits_sourse_2['uid']\n",
        "\n",
        "users_sourse_2 = users.query('uid in @uid_sourse_2')\n",
        "users_sourse_2['first_orders_month'] = users_sourse_2['first_orders_month'].astype('datetime64[M]')\n",
        "users_sourse_2['orders_month'] = users_sourse_2['orders_month'].astype('datetime64[M]')\n",
        "users_sourse_2.info()\n",
        "cohort_sizes_s2 = (\n",
        "    users_sourse_2.groupby('first_orders_month')\n",
        "    .agg({'uid': 'nunique'})\n",
        "    .reset_index()\n",
        ")\n",
        "cohort_sizes_s2.columns = ['first_orders_month', 'n_buyers']\n",
        "\n",
        "cohorts_s2 = (\n",
        "    users_sourse_2.groupby(['first_orders_month', 'orders_month'])\n",
        "    .agg({'revenue': 'sum'})\n",
        "    .reset_index()\n",
        ")\n",
        "cohorts_s2.head() \n",
        "report_s2 = pd.merge(cohorts_s2, cohort_sizes_s2, on = 'first_orders_month' )\n",
        "margin_rate = 1\n",
        "\n",
        "report_s2['gp'] = report_s2['revenue'] * margin_rate\n",
        "report_s2['age'] = (\n",
        "    report_s2['orders_month'] - report_s2['first_orders_month']\n",
        ") / np.timedelta64(1, 'M')\n",
        "report_s2['age'] = report_s2['age'].round().astype('int')\n",
        "\n",
        "report_s2.head(5)\n",
        "report_s2['ltv'] = report_s2['gp'] / report_s2['n_buyers']\n",
        "\n",
        "monthly_costs_s2 = costs.query('source_id == 2').groupby(['source_id','month'])['costs'].sum()\n",
        "\n",
        "report_new_s2 = pd.merge(\n",
        "    report_s2, monthly_costs_s2, left_on='first_orders_month', right_on='month'\n",
        ")\n",
        "\n",
        "report_new_s2['cac'] = report_new_s2['costs'] / report_new_s2['n_buyers']\n",
        "\n",
        "\n",
        "report_new_s2['romi'] = report_new_s2['ltv'] / report_new_s2['cac']\n",
        "output_s2 = report_new_s2.pivot_table(\n",
        "    index='first_orders_month', columns='age', values='romi', aggfunc='mean'\n",
        ").cumsum(axis=1).round(2) \n",
        "\n",
        "plt.figure(figsize=(13, 9))\n",
        "plt.title('Распределение ROMI по когортам у клиентов из источника 2', fontsize = 15)\n",
        "sns.heatmap(output_s2, annot=True, fmt='.2f', linewidths=1, linecolor='gray', cmap=\"coolwarm\", vmax=1) \n",
        "plt.show()"
      ]
    },
    {
      "cell_type": "markdown",
      "metadata": {
        "id": "uyhw9VJuyPoa"
      },
      "source": [
        "Источник 3"
      ]
    },
    {
      "cell_type": "code",
      "execution_count": null,
      "metadata": {
        "id": "Kb5hOprMyPoa"
      },
      "outputs": [],
      "source": [
        "visits_sourse = visits[visits['first_session_date'] == visits['session_date']]\n",
        "visits_sourse_3 = visits_sourse[visits_sourse['source_id'] == 3]\n",
        "\n",
        "uid_sourse_3 = visits_sourse_3['uid']\n",
        "\n",
        "users_sourse_3 = users.query('uid in @uid_sourse_3')\n",
        "users_sourse_3['first_orders_month'] = users_sourse_3['first_orders_month'].astype('datetime64[M]')\n",
        "users_sourse_3['orders_month'] = users_sourse_3['orders_month'].astype('datetime64[M]')\n",
        "users_sourse_3.info()\n",
        "cohort_sizes_s3 = (\n",
        "    users_sourse_3.groupby('first_orders_month')\n",
        "    .agg({'uid': 'nunique'})\n",
        "    .reset_index()\n",
        ")\n",
        "cohort_sizes_s3.columns = ['first_orders_month', 'n_buyers']\n",
        "\n",
        "cohorts_s3 = (\n",
        "    users_sourse_3.groupby(['first_orders_month', 'orders_month'])\n",
        "    .agg({'revenue': 'sum'})\n",
        "    .reset_index()\n",
        ")\n",
        "cohorts_s3.head() \n",
        "report_s3 = pd.merge(cohorts_s3, cohort_sizes_s3, on = 'first_orders_month' )\n",
        "margin_rate = 1\n",
        "\n",
        "report_s3['gp'] = report_s3['revenue'] * margin_rate\n",
        "report_s3['age'] = (\n",
        "    report_s3['orders_month'] - report_s3['first_orders_month']\n",
        ") / np.timedelta64(1, 'M')\n",
        "report_s3['age'] = report_s3['age'].round().astype('int')\n",
        "\n",
        "report_s3.head(5)\n",
        "report_s3['ltv'] = report_s3['gp'] / report_s3['n_buyers']\n",
        "\n",
        "monthly_costs_s3 = costs.query('source_id == 3').groupby(['source_id','month'])['costs'].sum()\n",
        "\n",
        "report_new_s3 = pd.merge(\n",
        "    report_s3, monthly_costs_s3, left_on='first_orders_month', right_on='month'\n",
        ")\n",
        "\n",
        "report_new_s3['cac'] = report_new_s2['costs'] / report_new_s2['n_buyers']\n",
        "\n",
        "\n",
        "report_new_s3['romi'] = report_new_s3['ltv'] / report_new_s3['cac']\n",
        "output_s3 = report_new_s3.pivot_table(\n",
        "    index='first_orders_month', columns='age', values='romi', aggfunc='mean'\n",
        ").cumsum(axis=1).round(2) \n",
        "\n",
        "plt.figure(figsize=(13, 9))\n",
        "plt.title('Распределение ROMI по когортам у клиентов из источника 3', fontsize = 15)\n",
        "sns.heatmap(output_s3, annot=True, fmt='.2f', linewidths=1, linecolor='gray', cmap=\"coolwarm\", vmax=1) \n",
        "plt.show()"
      ]
    },
    {
      "cell_type": "markdown",
      "metadata": {
        "id": "ssUEvuHoyPoa"
      },
      "source": [
        "Источник 4"
      ]
    },
    {
      "cell_type": "code",
      "execution_count": null,
      "metadata": {
        "id": "0eLgRPTwyPoa"
      },
      "outputs": [],
      "source": [
        "visits_sourse = visits[visits['first_session_date'] == visits['session_date']]\n",
        "visits_sourse_4 = visits_sourse[visits_sourse['source_id'] == 4]\n",
        "\n",
        "uid_sourse_4 = visits_sourse_4['uid']\n",
        "\n",
        "users_sourse_4 = users.query('uid in @uid_sourse_4')\n",
        "users_sourse_4['first_orders_month'] = users_sourse_4['first_orders_month'].astype('datetime64[M]')\n",
        "users_sourse_4['orders_month'] = users_sourse_4['orders_month'].astype('datetime64[M]')\n",
        "users_sourse_4.info()\n",
        "cohort_sizes_s4 = (\n",
        "    users_sourse_4.groupby('first_orders_month')\n",
        "    .agg({'uid': 'nunique'})\n",
        "    .reset_index()\n",
        ")\n",
        "cohort_sizes_s4.columns = ['first_orders_month', 'n_buyers']\n",
        "\n",
        "cohorts_s4 = (\n",
        "    users_sourse_4.groupby(['first_orders_month', 'orders_month'])\n",
        "    .agg({'revenue': 'sum'})\n",
        "    .reset_index()\n",
        ")\n",
        "cohorts_s4.head() \n",
        "report_s4 = pd.merge(cohorts_s4, cohort_sizes_s4, on = 'first_orders_month' )\n",
        "margin_rate = 1\n",
        "\n",
        "report_s4['gp'] = report_s4['revenue'] * margin_rate\n",
        "report_s4['age'] = (\n",
        "    report_s4['orders_month'] - report_s4['first_orders_month']\n",
        ") / np.timedelta64(1, 'M')\n",
        "report_s4['age'] = report_s4['age'].round().astype('int')\n",
        "\n",
        "report_s4.head(5)\n",
        "report_s4['ltv'] = report_s4['gp'] / report_s4['n_buyers']\n",
        "\n",
        "monthly_costs_s4 = costs.query('source_id == 4').groupby(['source_id','month'])['costs'].sum()\n",
        "\n",
        "report_new_s4 = pd.merge(\n",
        "    report_s4, monthly_costs_s4, left_on='first_orders_month', right_on='month'\n",
        ")\n",
        "\n",
        "report_new_s4['cac'] = report_new_s4['costs'] / report_new_s4['n_buyers']\n",
        "\n",
        "\n",
        "report_new_s4['romi'] = report_new_s4['ltv'] / report_new_s4['cac']\n",
        "output_s4 = report_new_s4.pivot_table(\n",
        "    index='first_orders_month', columns='age', values='romi', aggfunc='mean'\n",
        ").cumsum(axis=1).round(2) \n",
        "\n",
        "plt.figure(figsize=(13, 9))\n",
        "plt.title('Распределение ROMI по когортам у клиентов из источника 4', fontsize = 15)\n",
        "sns.heatmap(output_s4, annot=True, fmt='.2f', linewidths=1, linecolor='gray', cmap=\"coolwarm\", vmax=1) \n",
        "plt.show()"
      ]
    },
    {
      "cell_type": "markdown",
      "metadata": {
        "id": "dibQyLUjyPob"
      },
      "source": [
        "Источник 5"
      ]
    },
    {
      "cell_type": "code",
      "execution_count": null,
      "metadata": {
        "id": "a9NvPvdpyPob"
      },
      "outputs": [],
      "source": [
        "visits_sourse = visits[visits['first_session_date'] == visits['session_date']]\n",
        "visits_sourse_5 = visits_sourse[visits_sourse['source_id'] == 5]\n",
        "\n",
        "uid_sourse_5 = visits_sourse_5['uid']\n",
        "\n",
        "users_sourse_5 = users.query('uid in @uid_sourse_5')\n",
        "users_sourse_5['first_orders_month'] = users_sourse_5['first_orders_month'].astype('datetime64[M]')\n",
        "users_sourse_5['orders_month'] = users_sourse_5['orders_month'].astype('datetime64[M]')\n",
        "users_sourse_5.info()\n",
        "cohort_sizes_s5 = (\n",
        "    users_sourse_5.groupby('first_orders_month')\n",
        "    .agg({'uid': 'nunique'})\n",
        "    .reset_index()\n",
        ")\n",
        "cohort_sizes_s5.columns = ['first_orders_month', 'n_buyers']\n",
        "\n",
        "cohorts_s5 = (\n",
        "    users_sourse_5.groupby(['first_orders_month', 'orders_month'])\n",
        "    .agg({'revenue': 'sum'})\n",
        "    .reset_index()\n",
        ")\n",
        "cohorts_s5.head() \n",
        "report_s5 = pd.merge(cohorts_s5, cohort_sizes_s5, on = 'first_orders_month' )\n",
        "margin_rate = 1\n",
        "\n",
        "report_s5['gp'] = report_s5['revenue'] * margin_rate\n",
        "report_s5['age'] = (\n",
        "    report_s5['orders_month'] - report_s5['first_orders_month']\n",
        ") / np.timedelta64(1, 'M')\n",
        "report_s5['age'] = report_s5['age'].round().astype('int')\n",
        "\n",
        "\n",
        "report_s5['ltv'] = report_s5['gp'] / report_s5['n_buyers']\n",
        "\n",
        "monthly_costs_s5 = costs.query('source_id == 5').groupby(['source_id','month'])['costs'].sum()\n",
        "\n",
        "report_new_s5 = pd.merge(\n",
        "    report_s5, monthly_costs_s5, left_on='first_orders_month', right_on='month'\n",
        ")\n",
        "\n",
        "report_new_s5['cac'] = report_new_s5['costs'] / report_new_s5['n_buyers']\n",
        "\n",
        "\n",
        "report_new_s5['romi'] = report_new_s5['ltv'] / report_new_s5['cac']\n",
        "output_s5 = report_new_s5.pivot_table(\n",
        "    index='first_orders_month', columns='age', values='romi', aggfunc='mean'\n",
        ").cumsum(axis=1).round(2) \n",
        "\n",
        "plt.figure(figsize=(13, 9))\n",
        "plt.title('Распределение ROMI по когортам у клиентов из источника 5', fontsize = 15)\n",
        "sns.heatmap(output_s5, annot=True, fmt='.2f', linewidths=1, linecolor='gray', cmap=\"coolwarm\", vmax=1) \n",
        "plt.show()"
      ]
    },
    {
      "cell_type": "markdown",
      "metadata": {
        "id": "3S9gflKXyPob"
      },
      "source": [
        "Источник 9"
      ]
    },
    {
      "cell_type": "code",
      "execution_count": null,
      "metadata": {
        "id": "xe7UHdVJyPob"
      },
      "outputs": [],
      "source": [
        "visits_sourse = visits[visits['first_session_date'] == visits['session_date']]\n",
        "visits_sourse_9 = visits_sourse[visits_sourse['source_id'] == 9]\n",
        "\n",
        "uid_sourse_9 = visits_sourse_9['uid']\n",
        "\n",
        "users_sourse_9 = users.query('uid in @uid_sourse_9')\n",
        "users_sourse_9['first_orders_month'] = users_sourse_9['first_orders_month'].astype('datetime64[M]')\n",
        "users_sourse_9['orders_month'] = users_sourse_9['orders_month'].astype('datetime64[M]')\n",
        "users_sourse_9.info()\n",
        "cohort_sizes_s9 = (\n",
        "    users_sourse_9.groupby('first_orders_month')\n",
        "    .agg({'uid': 'nunique'})\n",
        "    .reset_index()\n",
        ")\n",
        "cohort_sizes_s9.columns = ['first_orders_month', 'n_buyers']\n",
        "\n",
        "cohorts_s9 = (\n",
        "    users_sourse_9.groupby(['first_orders_month', 'orders_month'])\n",
        "    .agg({'revenue': 'sum'})\n",
        "    .reset_index()\n",
        ")\n",
        "cohorts_s9.head() \n",
        "report_s9 = pd.merge(cohorts_s9, cohort_sizes_s9, on = 'first_orders_month' )\n",
        "margin_rate = 1\n",
        "\n",
        "report_s9['gp'] = report_s9['revenue'] * margin_rate\n",
        "report_s9['age'] = (\n",
        "    report_s9['orders_month'] - report_s9['first_orders_month']\n",
        ") / np.timedelta64(1, 'M')\n",
        "report_s9['age'] = report_s9['age'].round().astype('int')\n",
        "\n",
        "\n",
        "report_s9['ltv'] = report_s9['gp'] / report_s9['n_buyers']\n",
        "\n",
        "monthly_costs_s9 = costs.query('source_id == 9').groupby(['source_id','month'])['costs'].sum()\n",
        "\n",
        "report_new_s9 = pd.merge(\n",
        "    report_s9, monthly_costs_s9, left_on='first_orders_month', right_on='month'\n",
        ")\n",
        "\n",
        "report_new_s9['cac'] = report_new_s9['costs'] / report_new_s9['n_buyers']\n",
        "\n",
        "\n",
        "report_new_s9['romi'] = report_new_s9['ltv'] / report_new_s9['cac']\n",
        "output_s9 = report_new_s9.pivot_table(\n",
        "    index='first_orders_month', columns='age', values='romi', aggfunc='mean'\n",
        ").cumsum(axis=1).round(2) \n",
        "\n",
        "plt.figure(figsize=(13, 9))\n",
        "plt.title('Распределение ROMI по когортам у клиентов из источника 9', fontsize = 15)\n",
        "sns.heatmap(output_s9, annot=True, fmt='.2f', linewidths=1, linecolor='gray', cmap=\"coolwarm\", vmax=1) \n",
        "plt.show()"
      ]
    },
    {
      "cell_type": "markdown",
      "metadata": {
        "id": "YEPcXmb9yPoc"
      },
      "source": [
        "Источник 10"
      ]
    },
    {
      "cell_type": "code",
      "execution_count": null,
      "metadata": {
        "id": "FPYtR66lyPoc"
      },
      "outputs": [],
      "source": [
        "visits_sourse = visits[visits['first_session_date'] == visits['session_date']]\n",
        "visits_sourse_10 = visits_sourse[visits_sourse['source_id'] == 10]\n",
        "\n",
        "uid_sourse_10 = visits_sourse_10['uid']\n",
        "\n",
        "users_sourse_10 = users.query('uid in @uid_sourse_10')\n",
        "users_sourse_10['first_orders_month'] = users_sourse_10['first_orders_month'].astype('datetime64[M]')\n",
        "users_sourse_10['orders_month'] = users_sourse_10['orders_month'].astype('datetime64[M]')\n",
        "users_sourse_10.info()\n",
        "cohort_sizes_s10 = (\n",
        "    users_sourse_10.groupby('first_orders_month')\n",
        "    .agg({'uid': 'nunique'})\n",
        "    .reset_index()\n",
        ")\n",
        "cohort_sizes_s10.columns = ['first_orders_month', 'n_buyers']\n",
        "\n",
        "cohorts_s10 = (\n",
        "    users_sourse_10.groupby(['first_orders_month', 'orders_month'])\n",
        "    .agg({'revenue': 'sum'})\n",
        "    .reset_index()\n",
        ")\n",
        "cohorts_s10.head() \n",
        "report_s10 = pd.merge(cohorts_s10, cohort_sizes_s10, on = 'first_orders_month' )\n",
        "margin_rate = 1\n",
        "\n",
        "report_s10['gp'] = report_s10['revenue'] * margin_rate\n",
        "report_s10['age'] = (\n",
        "    report_s10['orders_month'] - report_s10['first_orders_month']\n",
        ") / np.timedelta64(1, 'M')\n",
        "report_s10['age'] = report_s10['age'].round().astype('int')\n",
        "\n",
        "\n",
        "report_s10['ltv'] = report_s10['gp'] / report_s10['n_buyers']\n",
        "\n",
        "monthly_costs_s10 = costs.query('source_id == 10').groupby(['source_id','month'])['costs'].sum()\n",
        "\n",
        "report_new_s10 = pd.merge(\n",
        "    report_s10, monthly_costs_s10, left_on='first_orders_month', right_on='month'\n",
        ")\n",
        "\n",
        "report_new_s10['cac'] = report_new_s10['costs'] / report_new_s10['n_buyers']\n",
        "\n",
        "\n",
        "report_new_s10['romi'] = report_new_s10['ltv'] / report_new_s10['cac']\n",
        "output_s10 = report_new_s10.pivot_table(\n",
        "    index='first_orders_month', columns='age', values='romi', aggfunc='mean'\n",
        ").cumsum(axis=1).round(2) \n",
        "\n",
        "plt.figure(figsize=(13, 9))\n",
        "plt.title('Распределение ROMI по когортам у клиентов из источника 10', fontsize = 15)\n",
        "sns.heatmap(output_s10, annot=True, fmt='.2f', linewidths=1, linecolor='gray', cmap=\"coolwarm\", vmax=1) \n",
        "plt.show()"
      ]
    },
    {
      "cell_type": "code",
      "execution_count": null,
      "metadata": {
        "id": "Cn-vkmroyPoc"
      },
      "outputs": [],
      "source": [
        "plt.figure(figsize=(15,6))\n",
        "\n",
        "output_s1[0].plot(linestyle = '--', label='Sours_1')\n",
        "output_s2[0].plot(label='Sours_2')\n",
        "output_s3[0].plot(linestyle = ':', label='Sours_3') \n",
        "output_s4[0].plot(label='Sours_4')\n",
        "output_s5[0].plot(label='Sours_5')\n",
        "output_s9[0].plot(linestyle = '-.', label='Sours_9')\n",
        "output_s10[0].plot(label='Sours_10')\n",
        "plt.axhline(label= 'Линия окупаемости когорты', y= 1,\n",
        "                linewidth=3, \n",
        "                color='r', \n",
        "                linestyle='-.')\n",
        "#plt.text('2017-09-01', 2, output_s3[0].mean())\n",
        "plt.grid()\n",
        "plt.legend()\n",
        "plt.show()\n",
        "print('Среднее ROMI по Sours_1  - {}.'.format(output_s1[0].mean()))\n",
        "print('Среднее ROMI по Sours_2  - {}.'.format(output_s2[0].mean()))\n",
        "print('Среднее ROMI по Sours_3  - {}.'.format(output_s3[0].mean()))\n",
        "print('Среднее ROMI по Sours_4  - {}.'.format(output_s4[0].mean()))\n",
        "print('Среднее ROMI по Sours_5  - {}.'.format(output_s5[0].mean()))\n",
        "print('Среднее ROMI по Sours_9  - {}.'.format(output_s9[0].mean()))\n",
        "print('Среднее ROMI по Sours_10 - {}.'.format(output_s10[0].mean()))"
      ]
    },
    {
      "cell_type": "markdown",
      "metadata": {
        "id": "oknijIn8yPog"
      },
      "source": [
        "#### Вывод"
      ]
    },
    {
      "cell_type": "code",
      "execution_count": null,
      "metadata": {
        "id": "LnYzrjhFyPoh"
      },
      "outputs": [],
      "source": [
        "plt.figure(figsize=(13, 9))\n",
        "plt.title('Cумма расходов на маркетинг распределеныx по источникам', fontsize = 15)\n",
        "sns.heatmap(cac_sum_by_sourse, annot=True, fmt='.3f', linewidths=1, linecolor='gray', cmap=\"coolwarm\") \n",
        "plt.show()"
      ]
    },
    {
      "cell_type": "markdown",
      "metadata": {
        "id": "DLmbagzXyPoh"
      },
      "source": [
        "Из таблицы мы видим, что самые большие расходы на маркетинг приносит 3 источник. Минимальные расходы на 9 и 10 источнике."
      ]
    },
    {
      "cell_type": "code",
      "execution_count": null,
      "metadata": {
        "id": "xNnBJW_DyPoh"
      },
      "outputs": [],
      "source": [
        "print('Cредние затраты (САС) на одного покупателя для всего проекта {:.2f} y.e.'.format(cac))"
      ]
    },
    {
      "cell_type": "code",
      "execution_count": null,
      "metadata": {
        "id": "m6fEIWYdyPoh"
      },
      "outputs": [],
      "source": [
        "plt.figure(figsize=(13, 9))\n",
        "plt.title('САС распределеный по источникам', fontsize = 15)\n",
        "sns.heatmap(cac_sum_by_sourse, annot=True, fmt='.3f', linewidths=1, linecolor='gray', cmap=\"coolwarm\") \n",
        "plt.show()"
      ]
    },
    {
      "cell_type": "markdown",
      "metadata": {
        "id": "QVDRMF7tyPoi"
      },
      "source": [
        "Мы видим что САС на третьем источнике также самый большой. На 9 и 10 также минимальные значения."
      ]
    },
    {
      "cell_type": "code",
      "execution_count": null,
      "metadata": {
        "id": "CSQ2gHtAyPoi"
      },
      "outputs": [],
      "source": [
        "plt.figure(figsize=(15,6))\n",
        "plt.xlabel ='наименование когорты'\n",
        "plt.title('Размер ROMI по источникам привления')\n",
        "output_s1[0].plot(linestyle = '--', label='Sours_1')\n",
        "output_s2[0].plot(label='Sours_2')\n",
        "output_s3[0].plot(linestyle = ':', label='Sours_3') \n",
        "output_s4[0].plot(label='Sours_4')\n",
        "output_s5[0].plot(label='Sours_5')\n",
        "output_s9[0].plot(linestyle = '-.', label='Sours_9')\n",
        "output_s10[0].plot(label='Sours_10')\n",
        "plt.axhline(label= 'Линия окупаемости когорты', y= 1,\n",
        "                linewidth=3, \n",
        "                color='r', \n",
        "                linestyle='-.')\n",
        "#plt.text('2017-09-01', 2, output_s3[0].mean())\n",
        "plt.grid()\n",
        "plt.legend()\n",
        "plt.show()\n",
        "print('Среднее ROMI по Sours_1  - {}.'.format(output_s1[0].mean()))\n",
        "print('Среднее ROMI по Sours_2  - {}.'.format(output_s2[0].mean()))\n",
        "print('Среднее ROMI по Sours_3  - {}.'.format(output_s3[0].mean()))\n",
        "print('Среднее ROMI по Sours_4  - {}.'.format(output_s4[0].mean()))\n",
        "print('Среднее ROMI по Sours_5  - {}.'.format(output_s5[0].mean()))\n",
        "print('Среднее ROMI по Sours_9  - {}.'.format(output_s9[0].mean()))\n",
        "print('Среднее ROMI по Sours_10 - {}.'.format(output_s10[0].mean()))"
      ]
    },
    {
      "cell_type": "markdown",
      "metadata": {
        "id": "DACFpiWRyPoi"
      },
      "source": [
        "ROMI – это показатель рентабельности рекламных кампаний и в целом инвестиций в маркетинговую деятельность. Из рисунка мы видим наибольшие показатели у 1 и 9 источника, наименьшие у 3. Средние показатели по источникам это так же подтверждают."
      ]
    },
    {
      "cell_type": "markdown",
      "metadata": {
        "id": "QFPurt3yyPoj"
      },
      "source": [
        "### Вывод"
      ]
    },
    {
      "cell_type": "markdown",
      "metadata": {
        "id": "JTA7NPCAyPoj"
      },
      "source": [
        "Главная наша цель \"Первое задание: помочь маркетологам снизить расходы — отказаться от невыгодных источников трафика и перераспределить бюджет.\"\n",
        "Что у нас получилось:\n",
        "* Нужно отказаться от 3 источника трафика, он в среднем не окупается.\n",
        "* Эти расходы можно распределить на 1 и 9 источник. Они приносят больше всего прибыли на каждый затраченный рубль.\n",
        "Так же вы выявили сезонность в доходах сайта. К новому году становиться больше клиентов, так же увеличиваться средний чек. "
      ]
    }
  ],
  "metadata": {
    "ExecuteTimeLog": [
      {
        "duration": 5,
        "start_time": "2021-06-14T16:48:06.080Z"
      },
      {
        "duration": 2102,
        "start_time": "2021-06-15T17:24:22.999Z"
      },
      {
        "duration": 650,
        "start_time": "2021-06-15T17:25:28.383Z"
      },
      {
        "duration": 83,
        "start_time": "2021-06-15T17:25:44.332Z"
      },
      {
        "duration": 14,
        "start_time": "2021-06-15T17:26:33.597Z"
      },
      {
        "duration": 72,
        "start_time": "2021-06-15T17:27:03.827Z"
      },
      {
        "duration": 19,
        "start_time": "2021-06-15T17:27:28.919Z"
      },
      {
        "duration": 16,
        "start_time": "2021-06-15T17:27:57.098Z"
      },
      {
        "duration": 872,
        "start_time": "2021-06-15T17:31:30.792Z"
      },
      {
        "duration": 80,
        "start_time": "2021-06-15T17:31:31.667Z"
      },
      {
        "duration": 20,
        "start_time": "2021-06-15T17:31:35.099Z"
      },
      {
        "duration": 15,
        "start_time": "2021-06-15T17:31:56.580Z"
      },
      {
        "duration": 884,
        "start_time": "2021-06-15T17:32:43.249Z"
      },
      {
        "duration": 357,
        "start_time": "2021-06-15T17:34:42.791Z"
      },
      {
        "duration": 1267,
        "start_time": "2021-06-15T17:34:48.636Z"
      },
      {
        "duration": 337,
        "start_time": "2021-06-15T17:34:59.231Z"
      },
      {
        "duration": 2050,
        "start_time": "2021-06-16T05:12:25.519Z"
      },
      {
        "duration": 73,
        "start_time": "2021-06-16T05:12:27.571Z"
      },
      {
        "duration": 18,
        "start_time": "2021-06-16T05:12:27.647Z"
      },
      {
        "duration": 15,
        "start_time": "2021-06-16T05:12:27.684Z"
      },
      {
        "duration": 391,
        "start_time": "2021-06-16T05:12:27.701Z"
      },
      {
        "duration": 399,
        "start_time": "2021-06-16T05:29:17.844Z"
      },
      {
        "duration": 271,
        "start_time": "2021-06-16T05:29:25.169Z"
      },
      {
        "duration": 269,
        "start_time": "2021-06-16T05:30:15.764Z"
      },
      {
        "duration": 271,
        "start_time": "2021-06-16T05:31:41.828Z"
      },
      {
        "duration": 278,
        "start_time": "2021-06-16T05:32:01.931Z"
      },
      {
        "duration": 268,
        "start_time": "2021-06-16T05:32:14.376Z"
      },
      {
        "duration": 277,
        "start_time": "2021-06-16T05:32:41.184Z"
      },
      {
        "duration": 4,
        "start_time": "2021-06-16T05:32:48.632Z"
      },
      {
        "duration": 19,
        "start_time": "2021-06-16T05:32:55.154Z"
      },
      {
        "duration": 272,
        "start_time": "2021-06-16T05:33:51.452Z"
      },
      {
        "duration": 1411,
        "start_time": "2021-06-16T05:34:04.727Z"
      },
      {
        "duration": 17,
        "start_time": "2021-06-16T05:34:18.440Z"
      },
      {
        "duration": 6,
        "start_time": "2021-06-16T05:34:27.600Z"
      },
      {
        "duration": 2389,
        "start_time": "2021-06-16T05:35:07.668Z"
      },
      {
        "duration": 104,
        "start_time": "2021-06-16T05:35:19.763Z"
      },
      {
        "duration": 261,
        "start_time": "2021-06-16T05:35:23.732Z"
      },
      {
        "duration": 265,
        "start_time": "2021-06-16T05:35:45.528Z"
      },
      {
        "duration": 277,
        "start_time": "2021-06-16T05:35:58.345Z"
      },
      {
        "duration": 347,
        "start_time": "2021-06-16T05:39:12.853Z"
      },
      {
        "duration": 275,
        "start_time": "2021-06-16T05:39:21.235Z"
      },
      {
        "duration": 20,
        "start_time": "2021-06-16T05:40:45.208Z"
      },
      {
        "duration": 42,
        "start_time": "2021-06-16T05:40:49.061Z"
      },
      {
        "duration": 748,
        "start_time": "2021-06-16T05:41:11.991Z"
      },
      {
        "duration": 71,
        "start_time": "2021-06-16T05:41:12.742Z"
      },
      {
        "duration": 35,
        "start_time": "2021-06-16T05:41:12.816Z"
      },
      {
        "duration": 502,
        "start_time": "2021-06-16T05:41:12.854Z"
      },
      {
        "duration": 1321,
        "start_time": "2021-06-16T05:41:12.038Z"
      },
      {
        "duration": 1319,
        "start_time": "2021-06-16T05:41:12.041Z"
      },
      {
        "duration": 1316,
        "start_time": "2021-06-16T05:41:12.046Z"
      },
      {
        "duration": 98,
        "start_time": "2021-06-16T05:41:32.653Z"
      },
      {
        "duration": 90,
        "start_time": "2021-06-16T05:41:41.766Z"
      },
      {
        "duration": 100,
        "start_time": "2021-06-16T05:42:29.791Z"
      },
      {
        "duration": 213,
        "start_time": "2021-06-16T05:42:40.683Z"
      },
      {
        "duration": 37,
        "start_time": "2021-06-16T05:42:58.091Z"
      },
      {
        "duration": 24,
        "start_time": "2021-06-16T05:50:05.703Z"
      },
      {
        "duration": 749,
        "start_time": "2021-06-16T05:50:13.171Z"
      },
      {
        "duration": 71,
        "start_time": "2021-06-16T05:50:13.922Z"
      },
      {
        "duration": 34,
        "start_time": "2021-06-16T05:50:13.997Z"
      },
      {
        "duration": 6714,
        "start_time": "2021-06-16T05:50:14.034Z"
      },
      {
        "duration": 1269,
        "start_time": "2021-06-16T05:50:19.481Z"
      },
      {
        "duration": 1266,
        "start_time": "2021-06-16T05:50:19.486Z"
      },
      {
        "duration": 1263,
        "start_time": "2021-06-16T05:50:19.490Z"
      },
      {
        "duration": 1261,
        "start_time": "2021-06-16T05:50:19.494Z"
      },
      {
        "duration": 272,
        "start_time": "2021-06-16T05:50:59.987Z"
      },
      {
        "duration": 667,
        "start_time": "2021-06-16T05:51:26.067Z"
      },
      {
        "duration": 656,
        "start_time": "2021-06-16T05:51:31.945Z"
      },
      {
        "duration": 717,
        "start_time": "2021-06-16T05:53:49.721Z"
      },
      {
        "duration": 700,
        "start_time": "2021-06-16T05:53:57.003Z"
      },
      {
        "duration": 391,
        "start_time": "2021-06-16T06:02:31.831Z"
      },
      {
        "duration": 403,
        "start_time": "2021-06-16T06:02:37.551Z"
      },
      {
        "duration": 773,
        "start_time": "2021-06-16T06:02:42.947Z"
      },
      {
        "duration": 72,
        "start_time": "2021-06-16T06:02:43.723Z"
      },
      {
        "duration": 396,
        "start_time": "2021-06-16T06:02:43.798Z"
      },
      {
        "duration": 6353,
        "start_time": "2021-06-16T06:02:44.197Z"
      },
      {
        "duration": 1278,
        "start_time": "2021-06-16T06:02:49.275Z"
      },
      {
        "duration": 1275,
        "start_time": "2021-06-16T06:02:49.280Z"
      },
      {
        "duration": 1271,
        "start_time": "2021-06-16T06:02:49.285Z"
      },
      {
        "duration": 1269,
        "start_time": "2021-06-16T06:02:49.288Z"
      },
      {
        "duration": 833,
        "start_time": "2021-06-16T06:03:10.083Z"
      },
      {
        "duration": 71,
        "start_time": "2021-06-16T06:03:10.918Z"
      },
      {
        "duration": 385,
        "start_time": "2021-06-16T06:03:13.571Z"
      },
      {
        "duration": 354,
        "start_time": "2021-06-16T06:04:04.867Z"
      },
      {
        "duration": 323,
        "start_time": "2021-06-16T06:04:21.671Z"
      },
      {
        "duration": 254,
        "start_time": "2021-06-16T06:04:27.098Z"
      },
      {
        "duration": 261,
        "start_time": "2021-06-16T06:04:33.530Z"
      },
      {
        "duration": 362,
        "start_time": "2021-06-16T06:11:20.343Z"
      },
      {
        "duration": 288,
        "start_time": "2021-06-16T06:11:36.846Z"
      },
      {
        "duration": 888,
        "start_time": "2021-06-16T06:11:59.939Z"
      },
      {
        "duration": 275,
        "start_time": "2021-06-16T06:14:49.296Z"
      },
      {
        "duration": 718,
        "start_time": "2021-06-16T06:14:54.567Z"
      },
      {
        "duration": 73,
        "start_time": "2021-06-16T06:14:55.288Z"
      },
      {
        "duration": 44,
        "start_time": "2021-06-16T06:14:55.364Z"
      },
      {
        "duration": 231,
        "start_time": "2021-06-16T06:14:55.411Z"
      },
      {
        "duration": 57,
        "start_time": "2021-06-16T06:14:55.644Z"
      },
      {
        "duration": 21,
        "start_time": "2021-06-16T06:14:55.704Z"
      },
      {
        "duration": 18,
        "start_time": "2021-06-16T06:14:55.728Z"
      },
      {
        "duration": 314,
        "start_time": "2021-06-16T06:14:55.784Z"
      },
      {
        "duration": 23,
        "start_time": "2021-06-16T06:15:21.739Z"
      },
      {
        "duration": 290,
        "start_time": "2021-06-16T06:17:53.271Z"
      },
      {
        "duration": 369,
        "start_time": "2021-06-16T06:18:06.236Z"
      },
      {
        "duration": 7930,
        "start_time": "2021-06-16T06:18:58.312Z"
      },
      {
        "duration": 14,
        "start_time": "2021-06-16T06:19:32.843Z"
      },
      {
        "duration": 29,
        "start_time": "2021-06-16T06:20:19.423Z"
      },
      {
        "duration": 21,
        "start_time": "2021-06-16T06:20:37.190Z"
      },
      {
        "duration": 21,
        "start_time": "2021-06-16T06:20:55.587Z"
      },
      {
        "duration": 13,
        "start_time": "2021-06-16T06:21:54.866Z"
      },
      {
        "duration": 211,
        "start_time": "2021-06-16T06:22:10.723Z"
      },
      {
        "duration": 442,
        "start_time": "2021-06-17T14:28:54.735Z"
      },
      {
        "duration": 2398,
        "start_time": "2021-06-17T14:29:01.412Z"
      },
      {
        "duration": 78,
        "start_time": "2021-06-17T14:29:03.812Z"
      },
      {
        "duration": 56,
        "start_time": "2021-06-17T14:29:03.893Z"
      },
      {
        "duration": 260,
        "start_time": "2021-06-17T14:29:03.951Z"
      },
      {
        "duration": 43,
        "start_time": "2021-06-17T14:29:04.214Z"
      },
      {
        "duration": 17,
        "start_time": "2021-06-17T14:29:04.260Z"
      },
      {
        "duration": 60,
        "start_time": "2021-06-17T14:29:04.279Z"
      },
      {
        "duration": 17,
        "start_time": "2021-06-17T14:29:04.343Z"
      },
      {
        "duration": 42,
        "start_time": "2021-06-17T14:29:04.362Z"
      },
      {
        "duration": 12,
        "start_time": "2021-06-17T14:29:08.355Z"
      },
      {
        "duration": 394,
        "start_time": "2021-06-17T14:29:55.065Z"
      },
      {
        "duration": 8420,
        "start_time": "2021-06-17T14:31:25.251Z"
      },
      {
        "duration": 352,
        "start_time": "2021-06-17T14:31:54.913Z"
      },
      {
        "duration": 6,
        "start_time": "2021-06-17T14:32:13.527Z"
      },
      {
        "duration": 343,
        "start_time": "2021-06-17T14:32:56.587Z"
      },
      {
        "duration": 5,
        "start_time": "2021-06-17T14:32:57.127Z"
      },
      {
        "duration": 5,
        "start_time": "2021-06-17T14:34:16.015Z"
      },
      {
        "duration": 6,
        "start_time": "2021-06-17T14:35:12.060Z"
      },
      {
        "duration": 1185,
        "start_time": "2021-06-17T14:40:41.211Z"
      },
      {
        "duration": 1410,
        "start_time": "2021-06-17T14:45:03.286Z"
      },
      {
        "duration": 507,
        "start_time": "2021-06-17T14:46:09.415Z"
      },
      {
        "duration": 8537,
        "start_time": "2021-06-17T14:46:16.994Z"
      },
      {
        "duration": 893,
        "start_time": "2021-06-17T14:47:01.578Z"
      },
      {
        "duration": 814,
        "start_time": "2021-06-17T14:47:19.475Z"
      },
      {
        "duration": 1016,
        "start_time": "2021-06-17T14:47:32.702Z"
      },
      {
        "duration": 1516,
        "start_time": "2021-06-17T14:48:04.970Z"
      },
      {
        "duration": 1436,
        "start_time": "2021-06-17T14:48:52.534Z"
      },
      {
        "duration": 129,
        "start_time": "2021-06-17T14:51:43.978Z"
      },
      {
        "duration": 126,
        "start_time": "2021-06-17T14:52:25.058Z"
      },
      {
        "duration": 120,
        "start_time": "2021-06-17T14:52:39.010Z"
      },
      {
        "duration": 97,
        "start_time": "2021-06-17T14:52:57.374Z"
      },
      {
        "duration": 97,
        "start_time": "2021-06-17T14:53:05.122Z"
      },
      {
        "duration": 118,
        "start_time": "2021-06-17T14:53:12.546Z"
      },
      {
        "duration": 104,
        "start_time": "2021-06-17T14:53:25.490Z"
      },
      {
        "duration": 112,
        "start_time": "2021-06-17T14:53:55.108Z"
      },
      {
        "duration": 1390,
        "start_time": "2021-06-17T14:54:30.678Z"
      },
      {
        "duration": 478,
        "start_time": "2021-06-17T14:54:59.182Z"
      },
      {
        "duration": 1431,
        "start_time": "2021-06-17T14:55:04.578Z"
      },
      {
        "duration": 1409,
        "start_time": "2021-06-17T14:55:25.302Z"
      },
      {
        "duration": 1623,
        "start_time": "2021-06-17T14:57:57.730Z"
      },
      {
        "duration": 1441,
        "start_time": "2021-06-17T15:00:34.901Z"
      },
      {
        "duration": 1437,
        "start_time": "2021-06-17T15:00:56.010Z"
      },
      {
        "duration": 1510,
        "start_time": "2021-06-17T15:02:12.334Z"
      },
      {
        "duration": 1451,
        "start_time": "2021-06-17T15:03:29.278Z"
      },
      {
        "duration": 1506,
        "start_time": "2021-06-17T15:04:09.670Z"
      },
      {
        "duration": 1731,
        "start_time": "2021-06-17T15:04:26.022Z"
      },
      {
        "duration": 128,
        "start_time": "2021-06-17T15:05:11.242Z"
      },
      {
        "duration": 1461,
        "start_time": "2021-06-17T15:05:18.490Z"
      },
      {
        "duration": 890,
        "start_time": "2021-06-17T15:09:43.342Z"
      },
      {
        "duration": 5160,
        "start_time": "2021-06-17T15:09:52.666Z"
      },
      {
        "duration": 1135,
        "start_time": "2021-06-17T15:10:07.994Z"
      },
      {
        "duration": 888,
        "start_time": "2021-06-17T15:10:25.315Z"
      },
      {
        "duration": 1505,
        "start_time": "2021-06-17T15:10:31.006Z"
      },
      {
        "duration": 1525,
        "start_time": "2021-06-17T15:16:16.510Z"
      },
      {
        "duration": 1495,
        "start_time": "2021-06-17T15:16:39.214Z"
      },
      {
        "duration": 502,
        "start_time": "2021-06-17T15:23:14.929Z"
      },
      {
        "duration": 41,
        "start_time": "2021-06-17T15:25:41.581Z"
      },
      {
        "duration": 43,
        "start_time": "2021-06-17T15:25:49.997Z"
      },
      {
        "duration": 523,
        "start_time": "2021-06-17T15:26:26.141Z"
      },
      {
        "duration": 514,
        "start_time": "2021-06-17T15:27:00.862Z"
      },
      {
        "duration": 506,
        "start_time": "2021-06-17T15:27:50.837Z"
      },
      {
        "duration": 350,
        "start_time": "2021-06-17T15:28:18.802Z"
      },
      {
        "duration": 123,
        "start_time": "2021-06-17T15:28:41.277Z"
      },
      {
        "duration": 507,
        "start_time": "2021-06-17T15:28:48.129Z"
      },
      {
        "duration": 355,
        "start_time": "2021-06-18T12:02:12.466Z"
      },
      {
        "duration": 2289,
        "start_time": "2021-06-18T12:02:17.950Z"
      },
      {
        "duration": 84,
        "start_time": "2021-06-18T12:02:20.242Z"
      },
      {
        "duration": 64,
        "start_time": "2021-06-18T12:02:20.328Z"
      },
      {
        "duration": 259,
        "start_time": "2021-06-18T12:02:20.395Z"
      },
      {
        "duration": 43,
        "start_time": "2021-06-18T12:02:20.657Z"
      },
      {
        "duration": 18,
        "start_time": "2021-06-18T12:02:20.703Z"
      },
      {
        "duration": 60,
        "start_time": "2021-06-18T12:02:20.724Z"
      },
      {
        "duration": 15,
        "start_time": "2021-06-18T12:02:20.788Z"
      },
      {
        "duration": 12,
        "start_time": "2021-06-18T12:02:20.806Z"
      },
      {
        "duration": 46,
        "start_time": "2021-06-18T12:02:20.821Z"
      },
      {
        "duration": 327,
        "start_time": "2021-06-18T12:02:20.870Z"
      },
      {
        "duration": 495,
        "start_time": "2021-06-18T12:02:21.199Z"
      },
      {
        "duration": 5,
        "start_time": "2021-06-18T12:02:21.697Z"
      },
      {
        "duration": 1505,
        "start_time": "2021-06-18T12:02:21.705Z"
      },
      {
        "duration": 52,
        "start_time": "2021-06-18T12:02:23.212Z"
      },
      {
        "duration": 516,
        "start_time": "2021-06-18T12:02:23.266Z"
      },
      {
        "duration": 56,
        "start_time": "2021-06-18T12:03:10.602Z"
      },
      {
        "duration": 503,
        "start_time": "2021-06-18T12:03:59.860Z"
      },
      {
        "duration": 48,
        "start_time": "2021-06-18T12:04:11.750Z"
      },
      {
        "duration": 782,
        "start_time": "2021-06-18T12:06:25.917Z"
      },
      {
        "duration": 488,
        "start_time": "2021-06-18T12:06:38.218Z"
      },
      {
        "duration": 519,
        "start_time": "2021-06-18T12:07:07.784Z"
      },
      {
        "duration": 838,
        "start_time": "2021-06-18T12:08:32.334Z"
      },
      {
        "duration": 761,
        "start_time": "2021-06-18T12:09:22.904Z"
      },
      {
        "duration": 664,
        "start_time": "2021-06-18T12:09:30.094Z"
      },
      {
        "duration": 692,
        "start_time": "2021-06-18T12:09:48.171Z"
      },
      {
        "duration": 14,
        "start_time": "2021-06-18T12:12:09.993Z"
      },
      {
        "duration": 19,
        "start_time": "2021-06-18T12:12:16.833Z"
      },
      {
        "duration": 277,
        "start_time": "2021-06-18T12:12:51.000Z"
      },
      {
        "duration": 260,
        "start_time": "2021-06-18T12:13:15.313Z"
      },
      {
        "duration": 257,
        "start_time": "2021-06-18T12:13:27.513Z"
      },
      {
        "duration": 280,
        "start_time": "2021-06-18T12:13:42.104Z"
      },
      {
        "duration": 7,
        "start_time": "2021-06-18T12:15:27.186Z"
      },
      {
        "duration": 57,
        "start_time": "2021-06-18T12:15:39.241Z"
      },
      {
        "duration": 63,
        "start_time": "2021-06-18T12:15:48.055Z"
      },
      {
        "duration": 62,
        "start_time": "2021-06-18T12:16:30.207Z"
      },
      {
        "duration": 121,
        "start_time": "2021-06-18T12:16:48.969Z"
      },
      {
        "duration": 65,
        "start_time": "2021-06-18T12:16:54.457Z"
      },
      {
        "duration": 62,
        "start_time": "2021-06-18T12:17:19.477Z"
      },
      {
        "duration": 23,
        "start_time": "2021-06-18T12:17:49.251Z"
      },
      {
        "duration": 13,
        "start_time": "2021-06-18T12:18:23.087Z"
      },
      {
        "duration": 259,
        "start_time": "2021-06-18T12:18:52.819Z"
      },
      {
        "duration": 280,
        "start_time": "2021-06-18T12:18:58.952Z"
      },
      {
        "duration": 17,
        "start_time": "2021-06-18T12:20:37.957Z"
      },
      {
        "duration": 21,
        "start_time": "2021-06-18T12:20:43.826Z"
      },
      {
        "duration": 61,
        "start_time": "2021-06-18T12:21:24.021Z"
      },
      {
        "duration": 69,
        "start_time": "2021-06-18T12:21:52.029Z"
      },
      {
        "duration": 62,
        "start_time": "2021-06-18T12:22:04.321Z"
      },
      {
        "duration": 78,
        "start_time": "2021-06-18T12:22:24.609Z"
      },
      {
        "duration": 59,
        "start_time": "2021-06-18T12:22:49.585Z"
      },
      {
        "duration": 659,
        "start_time": "2021-06-18T14:06:31.523Z"
      },
      {
        "duration": 28,
        "start_time": "2021-06-18T14:16:14.290Z"
      },
      {
        "duration": 561,
        "start_time": "2021-06-18T14:16:43.882Z"
      },
      {
        "duration": 597,
        "start_time": "2021-06-18T14:16:59.130Z"
      },
      {
        "duration": 496,
        "start_time": "2021-06-18T14:18:08.806Z"
      },
      {
        "duration": 5,
        "start_time": "2021-06-18T14:18:15.374Z"
      },
      {
        "duration": 5,
        "start_time": "2021-06-18T14:18:27.437Z"
      },
      {
        "duration": 571,
        "start_time": "2021-06-18T14:18:44.811Z"
      },
      {
        "duration": 768,
        "start_time": "2021-06-18T14:19:23.506Z"
      },
      {
        "duration": 549,
        "start_time": "2021-06-18T14:19:33.482Z"
      },
      {
        "duration": 1336,
        "start_time": "2021-06-18T14:20:04.462Z"
      },
      {
        "duration": 637,
        "start_time": "2021-06-18T14:20:16.414Z"
      },
      {
        "duration": 1074,
        "start_time": "2021-06-18T14:20:56.825Z"
      },
      {
        "duration": 1054,
        "start_time": "2021-06-18T14:21:05.943Z"
      },
      {
        "duration": 659,
        "start_time": "2021-06-18T14:21:44.714Z"
      },
      {
        "duration": 10,
        "start_time": "2021-06-18T14:22:56.274Z"
      },
      {
        "duration": 10,
        "start_time": "2021-06-18T14:23:03.146Z"
      },
      {
        "duration": 13,
        "start_time": "2021-06-18T14:23:38.999Z"
      },
      {
        "duration": 16,
        "start_time": "2021-06-18T14:40:08.733Z"
      },
      {
        "duration": 32,
        "start_time": "2021-06-18T14:42:25.710Z"
      },
      {
        "duration": 46,
        "start_time": "2021-06-18T14:42:33.617Z"
      },
      {
        "duration": 6652,
        "start_time": "2021-06-18T14:46:41.605Z"
      },
      {
        "duration": 35,
        "start_time": "2021-06-18T14:48:39.560Z"
      },
      {
        "duration": 46,
        "start_time": "2021-06-18T14:48:49.097Z"
      },
      {
        "duration": 6971,
        "start_time": "2021-06-18T14:48:52.705Z"
      },
      {
        "duration": 6167,
        "start_time": "2021-06-18T14:49:45.433Z"
      },
      {
        "duration": 16,
        "start_time": "2021-06-18T14:49:56.117Z"
      },
      {
        "duration": 15,
        "start_time": "2021-06-18T14:50:49.254Z"
      },
      {
        "duration": 16,
        "start_time": "2021-06-18T14:50:50.877Z"
      },
      {
        "duration": 31,
        "start_time": "2021-06-18T14:50:56.605Z"
      },
      {
        "duration": 9,
        "start_time": "2021-06-18T14:52:04.345Z"
      },
      {
        "duration": 26,
        "start_time": "2021-06-18T14:52:12.945Z"
      },
      {
        "duration": 12,
        "start_time": "2021-06-18T14:54:52.166Z"
      },
      {
        "duration": 17,
        "start_time": "2021-06-18T14:55:08.505Z"
      },
      {
        "duration": 17,
        "start_time": "2021-06-18T14:57:34.997Z"
      },
      {
        "duration": 784,
        "start_time": "2021-06-18T15:00:34.799Z"
      },
      {
        "duration": 76,
        "start_time": "2021-06-18T15:00:35.585Z"
      },
      {
        "duration": 37,
        "start_time": "2021-06-18T15:00:35.665Z"
      },
      {
        "duration": 261,
        "start_time": "2021-06-18T15:00:35.706Z"
      },
      {
        "duration": 40,
        "start_time": "2021-06-18T15:00:35.970Z"
      },
      {
        "duration": 52,
        "start_time": "2021-06-18T15:00:36.014Z"
      },
      {
        "duration": 35,
        "start_time": "2021-06-18T15:00:36.068Z"
      },
      {
        "duration": 15,
        "start_time": "2021-06-18T15:00:36.105Z"
      },
      {
        "duration": 40,
        "start_time": "2021-06-18T15:00:36.124Z"
      },
      {
        "duration": 27,
        "start_time": "2021-06-18T15:00:36.167Z"
      },
      {
        "duration": 332,
        "start_time": "2021-06-18T15:00:36.196Z"
      },
      {
        "duration": 378,
        "start_time": "2021-06-18T15:00:36.530Z"
      },
      {
        "duration": 6,
        "start_time": "2021-06-18T15:00:36.911Z"
      },
      {
        "duration": 1501,
        "start_time": "2021-06-18T15:00:36.920Z"
      },
      {
        "duration": 46,
        "start_time": "2021-06-18T15:00:38.423Z"
      },
      {
        "duration": 676,
        "start_time": "2021-06-18T15:00:38.471Z"
      },
      {
        "duration": 28,
        "start_time": "2021-06-18T15:00:39.150Z"
      },
      {
        "duration": 653,
        "start_time": "2021-06-18T15:00:39.180Z"
      },
      {
        "duration": 22,
        "start_time": "2021-06-18T15:00:39.835Z"
      },
      {
        "duration": 43,
        "start_time": "2021-06-18T15:00:40.992Z"
      },
      {
        "duration": 10,
        "start_time": "2021-06-18T15:01:36.377Z"
      },
      {
        "duration": 44,
        "start_time": "2021-06-18T15:04:14.205Z"
      },
      {
        "duration": 45,
        "start_time": "2021-06-18T15:04:27.832Z"
      },
      {
        "duration": 23,
        "start_time": "2021-06-18T15:04:48.074Z"
      },
      {
        "duration": 46,
        "start_time": "2021-06-18T15:08:50.363Z"
      },
      {
        "duration": 86,
        "start_time": "2021-06-18T15:09:42.186Z"
      },
      {
        "duration": 90,
        "start_time": "2021-06-18T15:09:53.640Z"
      },
      {
        "duration": 45,
        "start_time": "2021-06-18T15:10:04.463Z"
      },
      {
        "duration": 46,
        "start_time": "2021-06-18T15:25:41.659Z"
      },
      {
        "duration": 47,
        "start_time": "2021-06-18T15:26:16.425Z"
      },
      {
        "duration": 14,
        "start_time": "2021-06-18T15:29:08.075Z"
      },
      {
        "duration": 15,
        "start_time": "2021-06-18T15:34:04.116Z"
      },
      {
        "duration": 39,
        "start_time": "2021-06-18T15:34:05.659Z"
      },
      {
        "duration": 32,
        "start_time": "2021-06-18T15:34:19.720Z"
      },
      {
        "duration": 27,
        "start_time": "2021-06-18T15:39:02.118Z"
      },
      {
        "duration": 15,
        "start_time": "2021-06-18T15:39:38.872Z"
      },
      {
        "duration": 35,
        "start_time": "2021-06-18T15:40:08.848Z"
      },
      {
        "duration": 6400,
        "start_time": "2021-06-18T15:41:31.161Z"
      },
      {
        "duration": 37,
        "start_time": "2021-06-18T15:42:38.087Z"
      },
      {
        "duration": 47,
        "start_time": "2021-06-18T15:42:47.995Z"
      },
      {
        "duration": 31,
        "start_time": "2021-06-18T15:48:30.100Z"
      },
      {
        "duration": 35,
        "start_time": "2021-06-18T15:49:28.355Z"
      },
      {
        "duration": 31,
        "start_time": "2021-06-18T15:53:31.766Z"
      },
      {
        "duration": 35,
        "start_time": "2021-06-18T15:53:44.844Z"
      },
      {
        "duration": 829,
        "start_time": "2021-06-18T15:53:53.232Z"
      },
      {
        "duration": 93,
        "start_time": "2021-06-18T15:53:54.064Z"
      },
      {
        "duration": 37,
        "start_time": "2021-06-18T15:53:54.161Z"
      },
      {
        "duration": 270,
        "start_time": "2021-06-18T15:53:54.200Z"
      },
      {
        "duration": 43,
        "start_time": "2021-06-18T15:53:54.472Z"
      },
      {
        "duration": 43,
        "start_time": "2021-06-18T15:53:54.517Z"
      },
      {
        "duration": 37,
        "start_time": "2021-06-18T15:53:54.563Z"
      },
      {
        "duration": 15,
        "start_time": "2021-06-18T15:53:54.604Z"
      },
      {
        "duration": 46,
        "start_time": "2021-06-18T15:53:54.622Z"
      },
      {
        "duration": 21,
        "start_time": "2021-06-18T15:53:54.671Z"
      },
      {
        "duration": 347,
        "start_time": "2021-06-18T15:53:54.695Z"
      },
      {
        "duration": 387,
        "start_time": "2021-06-18T15:53:55.045Z"
      },
      {
        "duration": 21,
        "start_time": "2021-06-18T15:53:55.434Z"
      },
      {
        "duration": 1556,
        "start_time": "2021-06-18T15:53:55.458Z"
      },
      {
        "duration": 53,
        "start_time": "2021-06-18T15:53:57.017Z"
      },
      {
        "duration": 735,
        "start_time": "2021-06-18T15:53:57.074Z"
      },
      {
        "duration": 26,
        "start_time": "2021-06-18T15:53:57.811Z"
      },
      {
        "duration": 866,
        "start_time": "2021-06-18T15:53:57.857Z"
      },
      {
        "duration": 9,
        "start_time": "2021-06-18T15:53:58.726Z"
      },
      {
        "duration": 36,
        "start_time": "2021-06-18T15:53:58.738Z"
      },
      {
        "duration": 43,
        "start_time": "2021-06-18T15:53:58.776Z"
      },
      {
        "duration": 45,
        "start_time": "2021-06-18T15:53:58.821Z"
      },
      {
        "duration": 36,
        "start_time": "2021-06-18T15:54:01.789Z"
      },
      {
        "duration": 28,
        "start_time": "2021-06-18T15:54:03.680Z"
      },
      {
        "duration": 45,
        "start_time": "2021-06-18T15:54:10.672Z"
      },
      {
        "duration": 67,
        "start_time": "2021-06-18T15:56:27.348Z"
      },
      {
        "duration": 84,
        "start_time": "2021-06-18T16:09:18.868Z"
      },
      {
        "duration": 22,
        "start_time": "2021-06-18T16:09:25.291Z"
      },
      {
        "duration": 837,
        "start_time": "2021-06-18T16:09:32.203Z"
      },
      {
        "duration": 82,
        "start_time": "2021-06-18T16:09:33.043Z"
      },
      {
        "duration": 58,
        "start_time": "2021-06-18T16:09:33.129Z"
      },
      {
        "duration": 253,
        "start_time": "2021-06-18T16:09:33.189Z"
      },
      {
        "duration": 52,
        "start_time": "2021-06-18T16:09:33.445Z"
      },
      {
        "duration": 18,
        "start_time": "2021-06-18T16:09:33.499Z"
      },
      {
        "duration": 35,
        "start_time": "2021-06-18T16:09:36.227Z"
      },
      {
        "duration": 93,
        "start_time": "2021-06-18T16:38:25.686Z"
      },
      {
        "duration": 91,
        "start_time": "2021-06-18T16:38:33.554Z"
      },
      {
        "duration": 845,
        "start_time": "2021-06-18T16:38:43.291Z"
      },
      {
        "duration": 86,
        "start_time": "2021-06-18T16:38:44.139Z"
      },
      {
        "duration": 60,
        "start_time": "2021-06-18T16:38:44.228Z"
      },
      {
        "duration": 258,
        "start_time": "2021-06-18T16:38:44.291Z"
      },
      {
        "duration": 50,
        "start_time": "2021-06-18T16:38:44.552Z"
      },
      {
        "duration": 20,
        "start_time": "2021-06-18T16:38:44.604Z"
      },
      {
        "duration": 94,
        "start_time": "2021-06-18T16:38:47.338Z"
      },
      {
        "duration": 131,
        "start_time": "2021-06-18T16:38:57.478Z"
      },
      {
        "duration": 2384,
        "start_time": "2021-06-18T16:39:19.915Z"
      },
      {
        "duration": 82,
        "start_time": "2021-06-18T16:39:22.301Z"
      },
      {
        "duration": 47,
        "start_time": "2021-06-18T16:39:22.385Z"
      },
      {
        "duration": 292,
        "start_time": "2021-06-18T16:39:22.435Z"
      },
      {
        "duration": 55,
        "start_time": "2021-06-18T16:39:22.729Z"
      },
      {
        "duration": 17,
        "start_time": "2021-06-18T16:39:22.786Z"
      },
      {
        "duration": 85,
        "start_time": "2021-06-18T16:39:22.805Z"
      },
      {
        "duration": 241,
        "start_time": "2021-06-18T16:39:22.652Z"
      },
      {
        "duration": 239,
        "start_time": "2021-06-18T16:39:22.656Z"
      },
      {
        "duration": 237,
        "start_time": "2021-06-18T16:39:22.659Z"
      },
      {
        "duration": 236,
        "start_time": "2021-06-18T16:39:22.662Z"
      },
      {
        "duration": 235,
        "start_time": "2021-06-18T16:39:22.664Z"
      },
      {
        "duration": 234,
        "start_time": "2021-06-18T16:39:22.667Z"
      },
      {
        "duration": 232,
        "start_time": "2021-06-18T16:39:22.671Z"
      },
      {
        "duration": 231,
        "start_time": "2021-06-18T16:39:22.673Z"
      },
      {
        "duration": 181,
        "start_time": "2021-06-18T16:39:22.724Z"
      },
      {
        "duration": 179,
        "start_time": "2021-06-18T16:39:22.728Z"
      },
      {
        "duration": 176,
        "start_time": "2021-06-18T16:39:22.732Z"
      },
      {
        "duration": 173,
        "start_time": "2021-06-18T16:39:22.737Z"
      },
      {
        "duration": 171,
        "start_time": "2021-06-18T16:39:22.740Z"
      },
      {
        "duration": 166,
        "start_time": "2021-06-18T16:39:22.747Z"
      },
      {
        "duration": 163,
        "start_time": "2021-06-18T16:39:22.751Z"
      },
      {
        "duration": 160,
        "start_time": "2021-06-18T16:39:22.756Z"
      },
      {
        "duration": 154,
        "start_time": "2021-06-18T16:39:22.763Z"
      },
      {
        "duration": 153,
        "start_time": "2021-06-18T16:39:22.766Z"
      },
      {
        "duration": 151,
        "start_time": "2021-06-18T16:39:22.769Z"
      },
      {
        "duration": 92,
        "start_time": "2021-06-18T16:39:47.885Z"
      },
      {
        "duration": 83,
        "start_time": "2021-06-18T16:40:07.061Z"
      },
      {
        "duration": 40,
        "start_time": "2021-06-18T16:40:29.133Z"
      },
      {
        "duration": 806,
        "start_time": "2021-06-18T16:40:55.170Z"
      },
      {
        "duration": 76,
        "start_time": "2021-06-18T16:40:55.978Z"
      },
      {
        "duration": 36,
        "start_time": "2021-06-18T16:40:56.058Z"
      },
      {
        "duration": 277,
        "start_time": "2021-06-18T16:40:56.097Z"
      },
      {
        "duration": 41,
        "start_time": "2021-06-18T16:40:56.378Z"
      },
      {
        "duration": 39,
        "start_time": "2021-06-18T16:40:56.422Z"
      },
      {
        "duration": 38,
        "start_time": "2021-06-18T16:40:56.464Z"
      },
      {
        "duration": 51,
        "start_time": "2021-06-18T16:40:56.508Z"
      },
      {
        "duration": 15,
        "start_time": "2021-06-18T16:40:56.563Z"
      },
      {
        "duration": 17,
        "start_time": "2021-06-18T16:40:56.581Z"
      },
      {
        "duration": 368,
        "start_time": "2021-06-18T16:40:56.601Z"
      },
      {
        "duration": 432,
        "start_time": "2021-06-18T16:40:56.972Z"
      },
      {
        "duration": 6,
        "start_time": "2021-06-18T16:40:57.406Z"
      },
      {
        "duration": 1613,
        "start_time": "2021-06-18T16:40:57.414Z"
      },
      {
        "duration": 57,
        "start_time": "2021-06-18T16:40:59.030Z"
      },
      {
        "duration": 797,
        "start_time": "2021-06-18T16:40:59.090Z"
      },
      {
        "duration": 29,
        "start_time": "2021-06-18T16:40:59.890Z"
      },
      {
        "duration": 741,
        "start_time": "2021-06-18T16:40:59.923Z"
      },
      {
        "duration": 13,
        "start_time": "2021-06-18T16:41:00.668Z"
      },
      {
        "duration": 25,
        "start_time": "2021-06-18T16:41:00.684Z"
      },
      {
        "duration": 74,
        "start_time": "2021-06-18T16:41:00.712Z"
      },
      {
        "duration": 16,
        "start_time": "2021-06-18T16:41:00.789Z"
      },
      {
        "duration": 51,
        "start_time": "2021-06-18T16:41:00.809Z"
      },
      {
        "duration": 30,
        "start_time": "2021-06-18T16:41:00.863Z"
      },
      {
        "duration": 81,
        "start_time": "2021-06-18T16:41:00.896Z"
      },
      {
        "duration": 80,
        "start_time": "2021-06-18T16:41:00.979Z"
      },
      {
        "duration": 117,
        "start_time": "2021-06-18T16:42:57.393Z"
      },
      {
        "duration": 37,
        "start_time": "2021-06-18T16:43:16.534Z"
      },
      {
        "duration": 34,
        "start_time": "2021-06-18T16:43:20.997Z"
      },
      {
        "duration": 432,
        "start_time": "2021-06-18T16:43:30.466Z"
      },
      {
        "duration": 850,
        "start_time": "2021-06-18T16:44:05.161Z"
      },
      {
        "duration": 83,
        "start_time": "2021-06-18T16:44:06.013Z"
      },
      {
        "duration": 58,
        "start_time": "2021-06-18T16:44:06.100Z"
      },
      {
        "duration": 266,
        "start_time": "2021-06-18T16:44:06.162Z"
      },
      {
        "duration": 61,
        "start_time": "2021-06-18T16:44:06.430Z"
      },
      {
        "duration": 20,
        "start_time": "2021-06-18T16:44:06.495Z"
      },
      {
        "duration": 72,
        "start_time": "2021-06-18T16:44:06.518Z"
      },
      {
        "duration": 15,
        "start_time": "2021-06-18T16:44:06.595Z"
      },
      {
        "duration": 51,
        "start_time": "2021-06-18T16:44:06.614Z"
      },
      {
        "duration": 23,
        "start_time": "2021-06-18T16:44:06.670Z"
      },
      {
        "duration": 483,
        "start_time": "2021-06-18T16:44:06.696Z"
      },
      {
        "duration": 557,
        "start_time": "2021-06-18T16:44:07.182Z"
      },
      {
        "duration": 15,
        "start_time": "2021-06-18T16:44:07.743Z"
      },
      {
        "duration": 2268,
        "start_time": "2021-06-18T16:44:07.761Z"
      },
      {
        "duration": 86,
        "start_time": "2021-06-18T16:44:10.032Z"
      },
      {
        "duration": 1165,
        "start_time": "2021-06-18T16:44:10.121Z"
      },
      {
        "duration": 29,
        "start_time": "2021-06-18T16:44:11.290Z"
      },
      {
        "duration": 721,
        "start_time": "2021-06-18T16:44:11.322Z"
      },
      {
        "duration": 13,
        "start_time": "2021-06-18T16:44:12.057Z"
      },
      {
        "duration": 17,
        "start_time": "2021-06-18T16:44:12.073Z"
      },
      {
        "duration": 74,
        "start_time": "2021-06-18T16:44:12.093Z"
      },
      {
        "duration": 21,
        "start_time": "2021-06-18T16:44:12.169Z"
      },
      {
        "duration": 42,
        "start_time": "2021-06-18T16:44:17.237Z"
      },
      {
        "duration": 261,
        "start_time": "2021-06-18T16:44:38.793Z"
      },
      {
        "duration": 32,
        "start_time": "2021-06-18T16:45:52.225Z"
      },
      {
        "duration": 31,
        "start_time": "2021-06-18T16:46:02.341Z"
      },
      {
        "duration": 12,
        "start_time": "2021-06-18T16:46:43.321Z"
      },
      {
        "duration": 31,
        "start_time": "2021-06-18T16:46:44.973Z"
      },
      {
        "duration": 38,
        "start_time": "2021-06-18T16:46:56.689Z"
      },
      {
        "duration": 244,
        "start_time": "2021-06-18T16:51:57.773Z"
      },
      {
        "duration": 794,
        "start_time": "2021-06-18T16:52:05.857Z"
      },
      {
        "duration": 815,
        "start_time": "2021-06-18T16:52:16.289Z"
      },
      {
        "duration": 1915,
        "start_time": "2021-06-18T16:52:35.113Z"
      },
      {
        "duration": 270,
        "start_time": "2021-06-18T17:16:28.816Z"
      },
      {
        "duration": 797,
        "start_time": "2021-06-18T17:16:59.676Z"
      },
      {
        "duration": 74,
        "start_time": "2021-06-18T17:17:00.476Z"
      },
      {
        "duration": 34,
        "start_time": "2021-06-18T17:17:00.556Z"
      },
      {
        "duration": 239,
        "start_time": "2021-06-18T17:17:00.593Z"
      },
      {
        "duration": 49,
        "start_time": "2021-06-18T17:17:00.835Z"
      },
      {
        "duration": 19,
        "start_time": "2021-06-18T17:17:00.886Z"
      },
      {
        "duration": 65,
        "start_time": "2021-06-18T17:17:00.907Z"
      },
      {
        "duration": 15,
        "start_time": "2021-06-18T17:17:00.974Z"
      },
      {
        "duration": 39,
        "start_time": "2021-06-18T17:17:00.993Z"
      },
      {
        "duration": 87,
        "start_time": "2021-06-18T17:17:01.035Z"
      },
      {
        "duration": 351,
        "start_time": "2021-06-18T17:17:01.124Z"
      },
      {
        "duration": 387,
        "start_time": "2021-06-18T17:17:01.478Z"
      },
      {
        "duration": 5,
        "start_time": "2021-06-18T17:17:01.868Z"
      },
      {
        "duration": 1762,
        "start_time": "2021-06-18T17:17:01.875Z"
      },
      {
        "duration": 50,
        "start_time": "2021-06-18T17:17:03.640Z"
      },
      {
        "duration": 837,
        "start_time": "2021-06-18T17:17:03.692Z"
      },
      {
        "duration": 39,
        "start_time": "2021-06-18T17:17:04.532Z"
      },
      {
        "duration": 833,
        "start_time": "2021-06-18T17:17:04.573Z"
      },
      {
        "duration": 8,
        "start_time": "2021-06-18T17:17:05.409Z"
      },
      {
        "duration": 37,
        "start_time": "2021-06-18T17:17:05.420Z"
      },
      {
        "duration": 42,
        "start_time": "2021-06-18T17:17:15.292Z"
      },
      {
        "duration": 8,
        "start_time": "2021-06-18T17:26:37.420Z"
      },
      {
        "duration": 13,
        "start_time": "2021-06-18T17:27:11.660Z"
      },
      {
        "duration": 21,
        "start_time": "2021-06-18T17:27:20.364Z"
      },
      {
        "duration": 19,
        "start_time": "2021-06-18T17:29:10.196Z"
      },
      {
        "duration": 24,
        "start_time": "2021-06-18T17:31:16.864Z"
      },
      {
        "duration": 250,
        "start_time": "2021-06-18T17:33:15.628Z"
      },
      {
        "duration": 250,
        "start_time": "2021-06-18T17:34:04.396Z"
      },
      {
        "duration": 259,
        "start_time": "2021-06-18T17:34:09.424Z"
      },
      {
        "duration": 82,
        "start_time": "2021-06-18T17:34:20.480Z"
      },
      {
        "duration": 81,
        "start_time": "2021-06-18T17:34:25.712Z"
      },
      {
        "duration": 89,
        "start_time": "2021-06-18T17:34:31.632Z"
      },
      {
        "duration": 250,
        "start_time": "2021-06-18T17:34:47.527Z"
      },
      {
        "duration": 25,
        "start_time": "2021-06-18T17:35:06.248Z"
      },
      {
        "duration": 25,
        "start_time": "2021-06-18T17:36:21.732Z"
      },
      {
        "duration": 25,
        "start_time": "2021-06-18T17:36:38.463Z"
      },
      {
        "duration": 778,
        "start_time": "2021-06-18T17:37:05.760Z"
      },
      {
        "duration": 76,
        "start_time": "2021-06-18T17:37:06.541Z"
      },
      {
        "duration": 46,
        "start_time": "2021-06-18T17:37:06.620Z"
      },
      {
        "duration": 235,
        "start_time": "2021-06-18T17:37:06.669Z"
      },
      {
        "duration": 49,
        "start_time": "2021-06-18T17:37:06.906Z"
      },
      {
        "duration": 17,
        "start_time": "2021-06-18T17:37:06.958Z"
      },
      {
        "duration": 33,
        "start_time": "2021-06-18T17:37:06.977Z"
      },
      {
        "duration": 47,
        "start_time": "2021-06-18T17:37:07.012Z"
      },
      {
        "duration": 13,
        "start_time": "2021-06-18T17:37:07.063Z"
      },
      {
        "duration": 12,
        "start_time": "2021-06-18T17:37:07.079Z"
      },
      {
        "duration": 347,
        "start_time": "2021-06-18T17:37:07.094Z"
      },
      {
        "duration": 377,
        "start_time": "2021-06-18T17:37:07.443Z"
      },
      {
        "duration": 5,
        "start_time": "2021-06-18T17:37:07.822Z"
      },
      {
        "duration": 1682,
        "start_time": "2021-06-18T17:37:07.829Z"
      },
      {
        "duration": 47,
        "start_time": "2021-06-18T17:37:09.513Z"
      },
      {
        "duration": 857,
        "start_time": "2021-06-18T17:37:09.563Z"
      },
      {
        "duration": 35,
        "start_time": "2021-06-18T17:37:10.423Z"
      },
      {
        "duration": 741,
        "start_time": "2021-06-18T17:37:10.460Z"
      },
      {
        "duration": 9,
        "start_time": "2021-06-18T17:37:11.203Z"
      },
      {
        "duration": 13,
        "start_time": "2021-06-18T17:37:11.214Z"
      },
      {
        "duration": 42,
        "start_time": "2021-06-18T17:37:11.255Z"
      },
      {
        "duration": 14,
        "start_time": "2021-06-18T17:37:11.299Z"
      },
      {
        "duration": 43,
        "start_time": "2021-06-18T17:37:11.315Z"
      },
      {
        "duration": 24,
        "start_time": "2021-06-18T17:37:15.976Z"
      },
      {
        "duration": 84,
        "start_time": "2021-06-18T17:37:30.916Z"
      },
      {
        "duration": 277,
        "start_time": "2021-06-18T17:37:43.144Z"
      },
      {
        "duration": 24,
        "start_time": "2021-06-18T17:37:50.892Z"
      },
      {
        "duration": 25,
        "start_time": "2021-06-18T17:47:55.588Z"
      },
      {
        "duration": 39,
        "start_time": "2021-06-18T17:48:03.840Z"
      },
      {
        "duration": 6,
        "start_time": "2021-06-18T17:50:41.392Z"
      },
      {
        "duration": 109,
        "start_time": "2021-06-18T17:50:42.243Z"
      },
      {
        "duration": 14,
        "start_time": "2021-06-18T18:00:45.859Z"
      },
      {
        "duration": 10,
        "start_time": "2021-06-18T18:01:44.312Z"
      },
      {
        "duration": 11,
        "start_time": "2021-06-18T18:02:11.995Z"
      },
      {
        "duration": 91,
        "start_time": "2021-06-18T18:03:04.975Z"
      },
      {
        "duration": 259,
        "start_time": "2021-06-18T18:03:42.639Z"
      },
      {
        "duration": 271,
        "start_time": "2021-06-18T18:05:29.850Z"
      },
      {
        "duration": 252,
        "start_time": "2021-06-18T18:05:49.995Z"
      },
      {
        "duration": 277,
        "start_time": "2021-06-18T18:06:18.532Z"
      },
      {
        "duration": 30,
        "start_time": "2021-06-18T18:06:32.731Z"
      },
      {
        "duration": 52,
        "start_time": "2021-06-18T18:06:41.319Z"
      },
      {
        "duration": 1218,
        "start_time": "2021-06-18T18:11:22.795Z"
      },
      {
        "duration": 24,
        "start_time": "2021-06-18T18:11:36.603Z"
      },
      {
        "duration": 828,
        "start_time": "2021-06-18T18:11:49.211Z"
      },
      {
        "duration": 72,
        "start_time": "2021-06-18T18:11:50.041Z"
      },
      {
        "duration": 53,
        "start_time": "2021-06-18T18:11:50.116Z"
      },
      {
        "duration": 231,
        "start_time": "2021-06-18T18:11:50.172Z"
      },
      {
        "duration": 50,
        "start_time": "2021-06-18T18:11:50.405Z"
      },
      {
        "duration": 18,
        "start_time": "2021-06-18T18:11:50.457Z"
      },
      {
        "duration": 33,
        "start_time": "2021-06-18T18:11:50.478Z"
      },
      {
        "duration": 46,
        "start_time": "2021-06-18T18:11:50.513Z"
      },
      {
        "duration": 12,
        "start_time": "2021-06-18T18:11:50.562Z"
      },
      {
        "duration": 12,
        "start_time": "2021-06-18T18:11:50.576Z"
      },
      {
        "duration": 358,
        "start_time": "2021-06-18T18:11:50.590Z"
      },
      {
        "duration": 385,
        "start_time": "2021-06-18T18:11:50.950Z"
      },
      {
        "duration": 5,
        "start_time": "2021-06-18T18:11:51.338Z"
      },
      {
        "duration": 1797,
        "start_time": "2021-06-18T18:11:51.356Z"
      },
      {
        "duration": 40,
        "start_time": "2021-06-18T18:11:53.156Z"
      },
      {
        "duration": 858,
        "start_time": "2021-06-18T18:11:53.198Z"
      },
      {
        "duration": 30,
        "start_time": "2021-06-18T18:11:54.059Z"
      },
      {
        "duration": 817,
        "start_time": "2021-06-18T18:11:54.092Z"
      },
      {
        "duration": 9,
        "start_time": "2021-06-18T18:11:54.911Z"
      },
      {
        "duration": 36,
        "start_time": "2021-06-18T18:11:54.922Z"
      },
      {
        "duration": 42,
        "start_time": "2021-06-18T18:11:54.960Z"
      },
      {
        "duration": 12,
        "start_time": "2021-06-18T18:11:55.005Z"
      },
      {
        "duration": 48,
        "start_time": "2021-06-18T18:11:55.019Z"
      },
      {
        "duration": 24,
        "start_time": "2021-06-18T18:11:55.069Z"
      },
      {
        "duration": 167,
        "start_time": "2021-06-18T18:11:55.096Z"
      },
      {
        "duration": 6,
        "start_time": "2021-06-18T18:11:55.266Z"
      },
      {
        "duration": 134,
        "start_time": "2021-06-18T18:11:55.278Z"
      },
      {
        "duration": 6693,
        "start_time": "2021-06-18T18:11:55.415Z"
      },
      {
        "duration": 215,
        "start_time": "2021-06-18T18:12:01.896Z"
      },
      {
        "duration": 207,
        "start_time": "2021-06-18T18:12:01.906Z"
      },
      {
        "duration": 205,
        "start_time": "2021-06-18T18:12:01.909Z"
      },
      {
        "duration": 203,
        "start_time": "2021-06-18T18:12:01.912Z"
      },
      {
        "duration": 203,
        "start_time": "2021-06-18T18:12:01.914Z"
      },
      {
        "duration": 201,
        "start_time": "2021-06-18T18:12:01.917Z"
      },
      {
        "duration": 200,
        "start_time": "2021-06-18T18:12:01.920Z"
      },
      {
        "duration": 163,
        "start_time": "2021-06-18T18:12:28.653Z"
      },
      {
        "duration": 30,
        "start_time": "2021-06-18T18:13:07.739Z"
      },
      {
        "duration": 6101,
        "start_time": "2021-06-18T18:13:39.693Z"
      },
      {
        "duration": 2249,
        "start_time": "2021-06-18T18:14:09.753Z"
      },
      {
        "duration": 79,
        "start_time": "2021-06-18T18:14:12.006Z"
      },
      {
        "duration": 68,
        "start_time": "2021-06-18T18:14:12.089Z"
      },
      {
        "duration": 262,
        "start_time": "2021-06-18T18:14:12.160Z"
      },
      {
        "duration": 58,
        "start_time": "2021-06-18T18:14:12.424Z"
      },
      {
        "duration": 16,
        "start_time": "2021-06-18T18:14:12.485Z"
      },
      {
        "duration": 56,
        "start_time": "2021-06-18T18:14:12.504Z"
      },
      {
        "duration": 15,
        "start_time": "2021-06-18T18:14:12.563Z"
      },
      {
        "duration": 11,
        "start_time": "2021-06-18T18:14:12.582Z"
      },
      {
        "duration": 14,
        "start_time": "2021-06-18T18:14:12.597Z"
      },
      {
        "duration": 361,
        "start_time": "2021-06-18T18:14:12.613Z"
      },
      {
        "duration": 418,
        "start_time": "2021-06-18T18:14:12.977Z"
      },
      {
        "duration": 6,
        "start_time": "2021-06-18T18:14:13.398Z"
      },
      {
        "duration": 1490,
        "start_time": "2021-06-18T18:14:13.407Z"
      },
      {
        "duration": 39,
        "start_time": "2021-06-18T18:14:14.899Z"
      },
      {
        "duration": 792,
        "start_time": "2021-06-18T18:14:14.940Z"
      },
      {
        "duration": 33,
        "start_time": "2021-06-18T18:14:15.735Z"
      },
      {
        "duration": 632,
        "start_time": "2021-06-18T18:14:15.770Z"
      },
      {
        "duration": 8,
        "start_time": "2021-06-18T18:14:16.405Z"
      },
      {
        "duration": 17,
        "start_time": "2021-06-18T18:14:16.415Z"
      },
      {
        "duration": 41,
        "start_time": "2021-06-18T18:14:16.457Z"
      },
      {
        "duration": 12,
        "start_time": "2021-06-18T18:14:16.500Z"
      },
      {
        "duration": 44,
        "start_time": "2021-06-18T18:14:16.514Z"
      },
      {
        "duration": 23,
        "start_time": "2021-06-18T18:14:16.561Z"
      },
      {
        "duration": 39,
        "start_time": "2021-06-18T18:14:16.587Z"
      },
      {
        "duration": 10,
        "start_time": "2021-06-18T18:14:16.656Z"
      },
      {
        "duration": 180,
        "start_time": "2021-06-18T18:14:16.670Z"
      },
      {
        "duration": 6276,
        "start_time": "2021-06-18T18:14:16.856Z"
      },
      {
        "duration": 220,
        "start_time": "2021-06-18T18:14:22.915Z"
      },
      {
        "duration": 217,
        "start_time": "2021-06-18T18:14:22.920Z"
      },
      {
        "duration": 215,
        "start_time": "2021-06-18T18:14:22.923Z"
      },
      {
        "duration": 212,
        "start_time": "2021-06-18T18:14:22.928Z"
      },
      {
        "duration": 210,
        "start_time": "2021-06-18T18:14:22.931Z"
      },
      {
        "duration": 208,
        "start_time": "2021-06-18T18:14:22.935Z"
      },
      {
        "duration": 204,
        "start_time": "2021-06-18T18:14:22.940Z"
      },
      {
        "duration": 7362,
        "start_time": "2021-06-18T18:21:28.329Z"
      },
      {
        "duration": 824,
        "start_time": "2021-06-18T18:31:57.633Z"
      },
      {
        "duration": 1230,
        "start_time": "2021-06-18T18:32:00.358Z"
      },
      {
        "duration": 122,
        "start_time": "2021-06-18T18:32:01.592Z"
      },
      {
        "duration": 58,
        "start_time": "2021-06-18T18:32:01.719Z"
      },
      {
        "duration": 427,
        "start_time": "2021-06-18T18:32:01.780Z"
      },
      {
        "duration": 71,
        "start_time": "2021-06-18T18:32:02.211Z"
      },
      {
        "duration": 27,
        "start_time": "2021-06-18T18:32:02.286Z"
      },
      {
        "duration": 86,
        "start_time": "2021-06-18T18:32:02.316Z"
      },
      {
        "duration": 24,
        "start_time": "2021-06-18T18:32:02.406Z"
      },
      {
        "duration": 17,
        "start_time": "2021-06-18T18:32:02.457Z"
      },
      {
        "duration": 18,
        "start_time": "2021-06-18T18:32:02.478Z"
      },
      {
        "duration": 502,
        "start_time": "2021-06-18T18:32:02.499Z"
      },
      {
        "duration": 558,
        "start_time": "2021-06-18T18:32:03.004Z"
      },
      {
        "duration": 9,
        "start_time": "2021-06-18T18:32:03.565Z"
      },
      {
        "duration": 2187,
        "start_time": "2021-06-18T18:32:03.577Z"
      },
      {
        "duration": 89,
        "start_time": "2021-06-18T18:32:05.767Z"
      },
      {
        "duration": 1096,
        "start_time": "2021-06-18T18:32:05.860Z"
      },
      {
        "duration": 27,
        "start_time": "2021-06-18T18:32:06.958Z"
      },
      {
        "duration": 631,
        "start_time": "2021-06-18T18:32:06.987Z"
      },
      {
        "duration": 9,
        "start_time": "2021-06-18T18:32:07.621Z"
      },
      {
        "duration": 33,
        "start_time": "2021-06-18T18:32:07.633Z"
      },
      {
        "duration": 40,
        "start_time": "2021-06-18T18:32:07.669Z"
      },
      {
        "duration": 12,
        "start_time": "2021-06-18T18:32:07.712Z"
      },
      {
        "duration": 19,
        "start_time": "2021-06-18T18:32:07.755Z"
      },
      {
        "duration": 24,
        "start_time": "2021-06-18T18:32:07.777Z"
      },
      {
        "duration": 71,
        "start_time": "2021-06-18T18:32:07.803Z"
      },
      {
        "duration": 5,
        "start_time": "2021-06-18T18:32:07.877Z"
      },
      {
        "duration": 186,
        "start_time": "2021-06-18T18:32:07.887Z"
      },
      {
        "duration": 7213,
        "start_time": "2021-06-18T18:32:08.076Z"
      },
      {
        "duration": 209,
        "start_time": "2021-06-18T18:32:15.082Z"
      },
      {
        "duration": 207,
        "start_time": "2021-06-18T18:32:15.086Z"
      },
      {
        "duration": 202,
        "start_time": "2021-06-18T18:32:15.093Z"
      },
      {
        "duration": 198,
        "start_time": "2021-06-18T18:32:15.099Z"
      },
      {
        "duration": 194,
        "start_time": "2021-06-18T18:32:15.104Z"
      },
      {
        "duration": 194,
        "start_time": "2021-06-18T18:32:15.106Z"
      },
      {
        "duration": 192,
        "start_time": "2021-06-18T18:32:15.109Z"
      },
      {
        "duration": 6163,
        "start_time": "2021-06-18T18:32:17.077Z"
      },
      {
        "duration": 6434,
        "start_time": "2021-06-18T18:32:50.744Z"
      },
      {
        "duration": 268,
        "start_time": "2021-06-18T18:34:59.486Z"
      },
      {
        "duration": 28,
        "start_time": "2021-06-18T18:35:03.477Z"
      },
      {
        "duration": 39,
        "start_time": "2021-06-18T18:35:16.809Z"
      },
      {
        "duration": 275,
        "start_time": "2021-06-18T18:36:22.421Z"
      },
      {
        "duration": 5,
        "start_time": "2021-06-18T18:37:06.245Z"
      },
      {
        "duration": 167,
        "start_time": "2021-06-18T18:37:06.793Z"
      },
      {
        "duration": 24,
        "start_time": "2021-06-18T18:37:57.525Z"
      },
      {
        "duration": 994,
        "start_time": "2021-06-18T18:38:23.912Z"
      },
      {
        "duration": 25,
        "start_time": "2021-06-18T18:38:36.734Z"
      },
      {
        "duration": 25,
        "start_time": "2021-06-18T18:38:42.749Z"
      },
      {
        "duration": 188,
        "start_time": "2021-06-18T18:38:58.125Z"
      },
      {
        "duration": 110,
        "start_time": "2021-06-18T18:39:09.376Z"
      },
      {
        "duration": 105,
        "start_time": "2021-06-18T18:39:17.557Z"
      },
      {
        "duration": 6768,
        "start_time": "2021-06-18T18:39:41.679Z"
      },
      {
        "duration": 164,
        "start_time": "2021-06-18T18:40:57.947Z"
      },
      {
        "duration": 736,
        "start_time": "2021-06-18T18:44:27.413Z"
      },
      {
        "duration": 7689,
        "start_time": "2021-06-18T18:44:33.496Z"
      },
      {
        "duration": 17,
        "start_time": "2021-06-18T18:46:53.569Z"
      },
      {
        "duration": 34,
        "start_time": "2021-06-18T18:47:00.788Z"
      },
      {
        "duration": 826,
        "start_time": "2021-06-18T18:47:14.300Z"
      },
      {
        "duration": 84,
        "start_time": "2021-06-18T18:47:15.129Z"
      },
      {
        "duration": 68,
        "start_time": "2021-06-18T18:47:15.217Z"
      },
      {
        "duration": 259,
        "start_time": "2021-06-18T18:47:15.288Z"
      },
      {
        "duration": 50,
        "start_time": "2021-06-18T18:47:15.549Z"
      },
      {
        "duration": 20,
        "start_time": "2021-06-18T18:47:15.601Z"
      },
      {
        "duration": 69,
        "start_time": "2021-06-18T18:47:15.623Z"
      },
      {
        "duration": 16,
        "start_time": "2021-06-18T18:47:15.696Z"
      },
      {
        "duration": 48,
        "start_time": "2021-06-18T18:47:15.716Z"
      },
      {
        "duration": 19,
        "start_time": "2021-06-18T18:47:15.767Z"
      },
      {
        "duration": 369,
        "start_time": "2021-06-18T18:47:15.790Z"
      },
      {
        "duration": 524,
        "start_time": "2021-06-18T18:47:16.162Z"
      },
      {
        "duration": 7,
        "start_time": "2021-06-18T18:47:16.689Z"
      },
      {
        "duration": 1646,
        "start_time": "2021-06-18T18:47:16.698Z"
      },
      {
        "duration": 50,
        "start_time": "2021-06-18T18:47:18.347Z"
      },
      {
        "duration": 781,
        "start_time": "2021-06-18T18:47:18.400Z"
      },
      {
        "duration": 27,
        "start_time": "2021-06-18T18:47:19.184Z"
      },
      {
        "duration": 1045,
        "start_time": "2021-06-18T18:47:19.214Z"
      },
      {
        "duration": 21,
        "start_time": "2021-06-18T18:47:20.262Z"
      },
      {
        "duration": 16,
        "start_time": "2021-06-18T18:47:20.285Z"
      },
      {
        "duration": 101,
        "start_time": "2021-06-18T18:47:20.304Z"
      },
      {
        "duration": 21,
        "start_time": "2021-06-18T18:47:20.408Z"
      },
      {
        "duration": 43,
        "start_time": "2021-06-18T18:47:20.437Z"
      },
      {
        "duration": 25,
        "start_time": "2021-06-18T18:47:20.482Z"
      },
      {
        "duration": 88,
        "start_time": "2021-06-18T18:47:20.509Z"
      },
      {
        "duration": 58,
        "start_time": "2021-06-18T18:47:20.600Z"
      },
      {
        "duration": 302,
        "start_time": "2021-06-18T18:47:20.662Z"
      },
      {
        "duration": 340,
        "start_time": "2021-06-18T18:47:20.968Z"
      },
      {
        "duration": 9005,
        "start_time": "2021-06-18T18:47:21.312Z"
      },
      {
        "duration": 16,
        "start_time": "2021-06-18T18:47:30.319Z"
      },
      {
        "duration": 29,
        "start_time": "2021-06-18T18:47:33.678Z"
      },
      {
        "duration": 26,
        "start_time": "2021-06-18T18:48:28.372Z"
      },
      {
        "duration": 16,
        "start_time": "2021-06-18T18:48:51.671Z"
      },
      {
        "duration": 2296,
        "start_time": "2021-06-18T18:49:08.124Z"
      },
      {
        "duration": 95,
        "start_time": "2021-06-18T18:49:10.423Z"
      },
      {
        "duration": 66,
        "start_time": "2021-06-18T18:49:10.521Z"
      },
      {
        "duration": 272,
        "start_time": "2021-06-18T18:49:10.590Z"
      },
      {
        "duration": 42,
        "start_time": "2021-06-18T18:49:10.869Z"
      },
      {
        "duration": 44,
        "start_time": "2021-06-18T18:49:10.913Z"
      },
      {
        "duration": 37,
        "start_time": "2021-06-18T18:49:10.963Z"
      },
      {
        "duration": 16,
        "start_time": "2021-06-18T18:49:11.004Z"
      },
      {
        "duration": 46,
        "start_time": "2021-06-18T18:49:11.023Z"
      },
      {
        "duration": 14,
        "start_time": "2021-06-18T18:49:11.072Z"
      },
      {
        "duration": 379,
        "start_time": "2021-06-18T18:49:11.088Z"
      },
      {
        "duration": 432,
        "start_time": "2021-06-18T18:49:11.470Z"
      },
      {
        "duration": 7,
        "start_time": "2021-06-18T18:49:11.904Z"
      },
      {
        "duration": 1634,
        "start_time": "2021-06-18T18:49:11.913Z"
      },
      {
        "duration": 51,
        "start_time": "2021-06-18T18:49:13.550Z"
      },
      {
        "duration": 753,
        "start_time": "2021-06-18T18:49:13.604Z"
      },
      {
        "duration": 31,
        "start_time": "2021-06-18T18:49:14.360Z"
      },
      {
        "duration": 706,
        "start_time": "2021-06-18T18:49:14.394Z"
      },
      {
        "duration": 10,
        "start_time": "2021-06-18T18:49:15.102Z"
      },
      {
        "duration": 15,
        "start_time": "2021-06-18T18:49:15.114Z"
      },
      {
        "duration": 47,
        "start_time": "2021-06-18T18:49:15.158Z"
      },
      {
        "duration": 12,
        "start_time": "2021-06-18T18:49:15.207Z"
      },
      {
        "duration": 52,
        "start_time": "2021-06-18T18:49:15.224Z"
      },
      {
        "duration": 25,
        "start_time": "2021-06-18T18:49:15.279Z"
      },
      {
        "duration": 70,
        "start_time": "2021-06-18T18:49:15.306Z"
      },
      {
        "duration": 29,
        "start_time": "2021-06-18T18:49:15.378Z"
      },
      {
        "duration": 135,
        "start_time": "2021-06-18T18:49:15.409Z"
      },
      {
        "duration": 131,
        "start_time": "2021-06-18T18:49:15.547Z"
      },
      {
        "duration": 7901,
        "start_time": "2021-06-18T18:49:15.681Z"
      },
      {
        "duration": 16,
        "start_time": "2021-06-18T18:49:23.584Z"
      },
      {
        "duration": 23,
        "start_time": "2021-06-18T18:49:23.602Z"
      },
      {
        "duration": 33,
        "start_time": "2021-06-18T18:49:23.657Z"
      },
      {
        "duration": 15,
        "start_time": "2021-06-18T18:49:23.693Z"
      },
      {
        "duration": 75,
        "start_time": "2021-06-18T18:49:23.712Z"
      },
      {
        "duration": 46,
        "start_time": "2021-06-18T18:49:23.790Z"
      },
      {
        "duration": 969,
        "start_time": "2021-06-18T18:49:23.857Z"
      },
      {
        "duration": 22,
        "start_time": "2021-06-18T18:52:35.734Z"
      },
      {
        "duration": 809,
        "start_time": "2021-06-18T18:53:12.919Z"
      },
      {
        "duration": 83,
        "start_time": "2021-06-18T18:53:13.731Z"
      },
      {
        "duration": 49,
        "start_time": "2021-06-18T18:53:13.817Z"
      },
      {
        "duration": 244,
        "start_time": "2021-06-18T18:53:13.869Z"
      },
      {
        "duration": 54,
        "start_time": "2021-06-18T18:53:14.116Z"
      },
      {
        "duration": 20,
        "start_time": "2021-06-18T18:53:14.174Z"
      },
      {
        "duration": 192,
        "start_time": "2021-06-18T18:53:14.197Z"
      },
      {
        "duration": 16,
        "start_time": "2021-06-18T18:53:14.392Z"
      },
      {
        "duration": 44,
        "start_time": "2021-06-18T18:53:14.412Z"
      },
      {
        "duration": 19,
        "start_time": "2021-06-18T18:53:14.461Z"
      },
      {
        "duration": 491,
        "start_time": "2021-06-18T18:53:14.483Z"
      },
      {
        "duration": 407,
        "start_time": "2021-06-18T18:53:14.977Z"
      },
      {
        "duration": 7,
        "start_time": "2021-06-18T18:53:15.386Z"
      },
      {
        "duration": 1933,
        "start_time": "2021-06-18T18:53:15.396Z"
      },
      {
        "duration": 49,
        "start_time": "2021-06-18T18:53:17.332Z"
      },
      {
        "duration": 849,
        "start_time": "2021-06-18T18:53:17.384Z"
      },
      {
        "duration": 34,
        "start_time": "2021-06-18T18:53:18.235Z"
      },
      {
        "duration": 1158,
        "start_time": "2021-06-18T18:53:18.273Z"
      },
      {
        "duration": 24,
        "start_time": "2021-06-18T18:53:19.434Z"
      },
      {
        "duration": 17,
        "start_time": "2021-06-18T18:53:19.461Z"
      },
      {
        "duration": 79,
        "start_time": "2021-06-18T18:53:19.481Z"
      },
      {
        "duration": 20,
        "start_time": "2021-06-18T18:53:19.563Z"
      },
      {
        "duration": 25,
        "start_time": "2021-06-18T18:53:19.586Z"
      },
      {
        "duration": 67,
        "start_time": "2021-06-18T18:53:19.614Z"
      },
      {
        "duration": 58,
        "start_time": "2021-06-18T18:53:19.684Z"
      },
      {
        "duration": 36,
        "start_time": "2021-06-18T18:53:19.757Z"
      },
      {
        "duration": 195,
        "start_time": "2021-06-18T18:53:19.799Z"
      },
      {
        "duration": 114,
        "start_time": "2021-06-18T18:53:19.997Z"
      },
      {
        "duration": 7687,
        "start_time": "2021-06-18T18:53:20.113Z"
      },
      {
        "duration": 29,
        "start_time": "2021-06-18T18:53:34.902Z"
      },
      {
        "duration": 29,
        "start_time": "2021-06-18T18:54:02.859Z"
      },
      {
        "duration": 89,
        "start_time": "2021-06-18T18:56:21.145Z"
      },
      {
        "duration": 81,
        "start_time": "2021-06-18T18:58:13.761Z"
      },
      {
        "duration": 98,
        "start_time": "2021-06-18T18:58:59.349Z"
      },
      {
        "duration": 81,
        "start_time": "2021-06-18T19:00:39.215Z"
      },
      {
        "duration": 92,
        "start_time": "2021-06-18T19:00:47.750Z"
      },
      {
        "duration": 83,
        "start_time": "2021-06-18T19:00:53.987Z"
      },
      {
        "duration": 798,
        "start_time": "2021-06-18T19:01:59.219Z"
      },
      {
        "duration": 75,
        "start_time": "2021-06-18T19:02:01.399Z"
      },
      {
        "duration": 131,
        "start_time": "2021-06-18T19:02:12.291Z"
      },
      {
        "duration": 86,
        "start_time": "2021-06-18T19:02:26.583Z"
      },
      {
        "duration": 69,
        "start_time": "2021-06-18T19:04:29.843Z"
      },
      {
        "duration": 61,
        "start_time": "2021-06-18T19:05:03.135Z"
      },
      {
        "duration": 6905,
        "start_time": "2021-06-18T19:05:32.914Z"
      },
      {
        "duration": 146,
        "start_time": "2021-06-18T19:05:49.382Z"
      },
      {
        "duration": 4752,
        "start_time": "2021-06-18T19:06:05.674Z"
      },
      {
        "duration": 301,
        "start_time": "2021-06-18T19:06:27.783Z"
      },
      {
        "duration": 319,
        "start_time": "2021-06-18T19:06:39.987Z"
      },
      {
        "duration": 319,
        "start_time": "2021-06-18T19:06:46.356Z"
      },
      {
        "duration": 139,
        "start_time": "2021-06-18T19:06:59.324Z"
      },
      {
        "duration": 66,
        "start_time": "2021-06-18T19:08:04.824Z"
      },
      {
        "duration": 73,
        "start_time": "2021-06-18T19:10:00.727Z"
      },
      {
        "duration": 139,
        "start_time": "2021-06-18T19:10:23.738Z"
      },
      {
        "duration": 16,
        "start_time": "2021-06-18T19:14:18.303Z"
      },
      {
        "duration": 20,
        "start_time": "2021-06-18T19:14:20.140Z"
      },
      {
        "duration": 22,
        "start_time": "2021-06-18T19:14:40.219Z"
      },
      {
        "duration": 116,
        "start_time": "2021-06-18T19:16:15.606Z"
      },
      {
        "duration": 330,
        "start_time": "2021-06-18T19:16:21.062Z"
      },
      {
        "duration": 791,
        "start_time": "2021-06-18T19:16:30.616Z"
      },
      {
        "duration": 74,
        "start_time": "2021-06-18T19:16:31.409Z"
      },
      {
        "duration": 38,
        "start_time": "2021-06-18T19:16:31.486Z"
      },
      {
        "duration": 262,
        "start_time": "2021-06-18T19:16:31.527Z"
      },
      {
        "duration": 39,
        "start_time": "2021-06-18T19:16:31.791Z"
      },
      {
        "duration": 45,
        "start_time": "2021-06-18T19:16:31.833Z"
      },
      {
        "duration": 35,
        "start_time": "2021-06-18T19:16:31.881Z"
      },
      {
        "duration": 45,
        "start_time": "2021-06-18T19:16:31.920Z"
      },
      {
        "duration": 18,
        "start_time": "2021-06-18T19:16:31.968Z"
      },
      {
        "duration": 17,
        "start_time": "2021-06-18T19:16:31.989Z"
      },
      {
        "duration": 389,
        "start_time": "2021-06-18T19:16:32.009Z"
      },
      {
        "duration": 386,
        "start_time": "2021-06-18T19:16:32.400Z"
      },
      {
        "duration": 7,
        "start_time": "2021-06-18T19:16:32.789Z"
      },
      {
        "duration": 1712,
        "start_time": "2021-06-18T19:16:32.799Z"
      },
      {
        "duration": 54,
        "start_time": "2021-06-18T19:16:34.513Z"
      },
      {
        "duration": 841,
        "start_time": "2021-06-18T19:16:34.570Z"
      },
      {
        "duration": 42,
        "start_time": "2021-06-18T19:16:35.414Z"
      },
      {
        "duration": 758,
        "start_time": "2021-06-18T19:16:35.459Z"
      },
      {
        "duration": 9,
        "start_time": "2021-06-18T19:16:36.220Z"
      },
      {
        "duration": 34,
        "start_time": "2021-06-18T19:16:36.231Z"
      },
      {
        "duration": 43,
        "start_time": "2021-06-18T19:16:36.268Z"
      },
      {
        "duration": 322,
        "start_time": "2021-06-18T19:16:50.415Z"
      },
      {
        "duration": 19,
        "start_time": "2021-06-18T19:16:51.165Z"
      },
      {
        "duration": 699,
        "start_time": "2021-06-18T19:17:16.950Z"
      },
      {
        "duration": 22,
        "start_time": "2021-06-18T19:17:19.018Z"
      },
      {
        "duration": 17,
        "start_time": "2021-06-18T19:17:37.510Z"
      },
      {
        "duration": 18,
        "start_time": "2021-06-18T19:17:38.168Z"
      },
      {
        "duration": 22,
        "start_time": "2021-06-18T19:17:39.629Z"
      },
      {
        "duration": 39,
        "start_time": "2021-06-18T19:18:03.894Z"
      },
      {
        "duration": 26,
        "start_time": "2021-06-18T19:18:19.049Z"
      },
      {
        "duration": 47,
        "start_time": "2021-06-18T19:19:13.622Z"
      },
      {
        "duration": 46,
        "start_time": "2021-06-18T19:19:14.542Z"
      },
      {
        "duration": 45,
        "start_time": "2021-06-18T19:20:14.856Z"
      },
      {
        "duration": 18,
        "start_time": "2021-06-18T19:20:46.298Z"
      },
      {
        "duration": 48,
        "start_time": "2021-06-18T19:20:53.582Z"
      },
      {
        "duration": 22,
        "start_time": "2021-06-18T19:20:56.471Z"
      },
      {
        "duration": 73,
        "start_time": "2021-06-18T19:21:33.570Z"
      },
      {
        "duration": 69,
        "start_time": "2021-06-18T19:21:46.818Z"
      },
      {
        "duration": 69,
        "start_time": "2021-06-18T19:24:16.394Z"
      },
      {
        "duration": 73,
        "start_time": "2021-06-18T19:25:00.061Z"
      },
      {
        "duration": 80,
        "start_time": "2021-06-18T19:25:49.350Z"
      },
      {
        "duration": 68,
        "start_time": "2021-06-18T19:26:13.874Z"
      },
      {
        "duration": 814,
        "start_time": "2021-06-18T19:26:33.901Z"
      },
      {
        "duration": 1302,
        "start_time": "2021-06-18T19:26:39.816Z"
      },
      {
        "duration": 68,
        "start_time": "2021-06-18T19:27:22.268Z"
      },
      {
        "duration": 1259,
        "start_time": "2021-06-18T19:27:23.025Z"
      },
      {
        "duration": 1332,
        "start_time": "2021-06-18T19:30:35.150Z"
      },
      {
        "duration": 871,
        "start_time": "2021-06-18T19:31:17.302Z"
      },
      {
        "duration": 1225,
        "start_time": "2021-06-18T19:31:35.244Z"
      },
      {
        "duration": 1336,
        "start_time": "2021-06-18T19:31:54.368Z"
      },
      {
        "duration": 71,
        "start_time": "2021-06-18T19:32:35.550Z"
      },
      {
        "duration": 78,
        "start_time": "2021-06-18T19:32:48.016Z"
      },
      {
        "duration": 1214,
        "start_time": "2021-06-18T19:32:48.270Z"
      },
      {
        "duration": 72,
        "start_time": "2021-06-18T19:34:59.438Z"
      },
      {
        "duration": 682,
        "start_time": "2021-06-18T19:35:18.746Z"
      },
      {
        "duration": 814,
        "start_time": "2021-06-18T19:35:42.338Z"
      },
      {
        "duration": 85,
        "start_time": "2021-06-18T19:36:00.904Z"
      },
      {
        "duration": 6,
        "start_time": "2021-06-18T19:36:42.930Z"
      },
      {
        "duration": 246,
        "start_time": "2021-06-18T19:37:03.997Z"
      },
      {
        "duration": 10,
        "start_time": "2021-06-18T19:37:18.206Z"
      },
      {
        "duration": 278,
        "start_time": "2021-06-18T19:37:34.989Z"
      },
      {
        "duration": 269,
        "start_time": "2021-06-18T19:37:54.234Z"
      },
      {
        "duration": 907,
        "start_time": "2021-06-18T19:38:00.281Z"
      },
      {
        "duration": 78,
        "start_time": "2021-06-18T19:38:01.191Z"
      },
      {
        "duration": 34,
        "start_time": "2021-06-18T19:38:01.272Z"
      },
      {
        "duration": 279,
        "start_time": "2021-06-18T19:38:01.310Z"
      },
      {
        "duration": 41,
        "start_time": "2021-06-18T19:38:01.592Z"
      },
      {
        "duration": 41,
        "start_time": "2021-06-18T19:38:01.636Z"
      },
      {
        "duration": 88,
        "start_time": "2021-06-18T19:38:01.679Z"
      },
      {
        "duration": 18,
        "start_time": "2021-06-18T19:38:01.771Z"
      },
      {
        "duration": 19,
        "start_time": "2021-06-18T19:38:01.792Z"
      },
      {
        "duration": 43,
        "start_time": "2021-06-18T19:38:01.813Z"
      },
      {
        "duration": 357,
        "start_time": "2021-06-18T19:38:01.861Z"
      },
      {
        "duration": 400,
        "start_time": "2021-06-18T19:38:02.221Z"
      },
      {
        "duration": 6,
        "start_time": "2021-06-18T19:38:02.624Z"
      },
      {
        "duration": 1809,
        "start_time": "2021-06-18T19:38:02.632Z"
      },
      {
        "duration": 55,
        "start_time": "2021-06-18T19:38:04.443Z"
      },
      {
        "duration": 962,
        "start_time": "2021-06-18T19:38:04.501Z"
      },
      {
        "duration": 28,
        "start_time": "2021-06-18T19:38:05.466Z"
      },
      {
        "duration": 811,
        "start_time": "2021-06-18T19:38:05.496Z"
      },
      {
        "duration": 11,
        "start_time": "2021-06-18T19:38:06.311Z"
      },
      {
        "duration": 51,
        "start_time": "2021-06-18T19:38:06.325Z"
      },
      {
        "duration": 43,
        "start_time": "2021-06-18T19:38:06.379Z"
      },
      {
        "duration": 35,
        "start_time": "2021-06-18T19:38:06.424Z"
      },
      {
        "duration": 22,
        "start_time": "2021-06-18T19:38:06.467Z"
      },
      {
        "duration": 23,
        "start_time": "2021-06-18T19:38:06.492Z"
      },
      {
        "duration": 65,
        "start_time": "2021-06-18T19:38:06.518Z"
      },
      {
        "duration": 27,
        "start_time": "2021-06-18T19:38:06.585Z"
      },
      {
        "duration": 73,
        "start_time": "2021-06-18T19:38:06.615Z"
      },
      {
        "duration": 71,
        "start_time": "2021-06-18T19:38:06.692Z"
      },
      {
        "duration": 21,
        "start_time": "2021-06-18T19:38:06.765Z"
      },
      {
        "duration": 92,
        "start_time": "2021-06-18T19:38:06.788Z"
      },
      {
        "duration": 1269,
        "start_time": "2021-06-18T19:38:06.882Z"
      },
      {
        "duration": 1228,
        "start_time": "2021-06-18T19:38:12.937Z"
      },
      {
        "duration": 18,
        "start_time": "2021-06-18T19:38:21.102Z"
      },
      {
        "duration": 8,
        "start_time": "2021-06-18T19:39:07.202Z"
      },
      {
        "duration": 24,
        "start_time": "2021-06-18T19:39:12.389Z"
      },
      {
        "duration": 325,
        "start_time": "2021-06-18T19:39:44.348Z"
      },
      {
        "duration": 72,
        "start_time": "2021-06-18T19:40:55.118Z"
      },
      {
        "duration": 88,
        "start_time": "2021-06-18T19:42:35.641Z"
      },
      {
        "duration": 299,
        "start_time": "2021-06-18T19:42:45.083Z"
      },
      {
        "duration": 329,
        "start_time": "2021-06-18T19:43:03.662Z"
      },
      {
        "duration": 1840,
        "start_time": "2021-06-18T19:43:13.774Z"
      },
      {
        "duration": 345,
        "start_time": "2021-06-18T19:43:27.866Z"
      },
      {
        "duration": 84,
        "start_time": "2021-06-18T19:45:09.754Z"
      },
      {
        "duration": 9,
        "start_time": "2021-06-18T19:45:26.318Z"
      },
      {
        "duration": 7,
        "start_time": "2021-06-18T19:47:27.237Z"
      },
      {
        "duration": 2342,
        "start_time": "2021-06-18T19:48:16.038Z"
      },
      {
        "duration": 79,
        "start_time": "2021-06-18T19:48:18.382Z"
      },
      {
        "duration": 47,
        "start_time": "2021-06-18T19:48:18.464Z"
      },
      {
        "duration": 457,
        "start_time": "2021-06-18T19:48:18.514Z"
      },
      {
        "duration": 42,
        "start_time": "2021-06-18T19:48:18.974Z"
      },
      {
        "duration": 46,
        "start_time": "2021-06-18T19:48:19.018Z"
      },
      {
        "duration": 35,
        "start_time": "2021-06-18T19:48:19.068Z"
      },
      {
        "duration": 14,
        "start_time": "2021-06-18T19:48:19.105Z"
      },
      {
        "duration": 46,
        "start_time": "2021-06-18T19:48:19.124Z"
      },
      {
        "duration": 12,
        "start_time": "2021-06-18T19:48:19.174Z"
      },
      {
        "duration": 360,
        "start_time": "2021-06-18T19:48:19.189Z"
      },
      {
        "duration": 417,
        "start_time": "2021-06-18T19:48:19.552Z"
      },
      {
        "duration": 6,
        "start_time": "2021-06-18T19:48:19.971Z"
      },
      {
        "duration": 1650,
        "start_time": "2021-06-18T19:48:19.980Z"
      },
      {
        "duration": 58,
        "start_time": "2021-06-18T19:48:21.633Z"
      },
      {
        "duration": 708,
        "start_time": "2021-06-18T19:48:21.693Z"
      },
      {
        "duration": 28,
        "start_time": "2021-06-18T19:48:22.403Z"
      },
      {
        "duration": 669,
        "start_time": "2021-06-18T19:48:22.457Z"
      },
      {
        "duration": 31,
        "start_time": "2021-06-18T19:48:23.129Z"
      },
      {
        "duration": 19,
        "start_time": "2021-06-18T19:48:23.164Z"
      },
      {
        "duration": 75,
        "start_time": "2021-06-18T19:48:23.186Z"
      },
      {
        "duration": 20,
        "start_time": "2021-06-18T19:48:23.265Z"
      },
      {
        "duration": 22,
        "start_time": "2021-06-18T19:48:23.288Z"
      },
      {
        "duration": 64,
        "start_time": "2021-06-18T19:48:23.313Z"
      },
      {
        "duration": 42,
        "start_time": "2021-06-18T19:48:23.382Z"
      },
      {
        "duration": 51,
        "start_time": "2021-06-18T19:48:23.426Z"
      },
      {
        "duration": 47,
        "start_time": "2021-06-18T19:48:23.481Z"
      },
      {
        "duration": 66,
        "start_time": "2021-06-18T19:48:23.530Z"
      },
      {
        "duration": 18,
        "start_time": "2021-06-18T19:48:23.599Z"
      },
      {
        "duration": 107,
        "start_time": "2021-06-18T19:48:23.620Z"
      },
      {
        "duration": 1241,
        "start_time": "2021-06-18T19:48:23.730Z"
      },
      {
        "duration": 9,
        "start_time": "2021-06-18T19:48:24.973Z"
      },
      {
        "duration": 2279,
        "start_time": "2021-06-18T19:51:06.606Z"
      },
      {
        "duration": 81,
        "start_time": "2021-06-18T19:51:08.887Z"
      },
      {
        "duration": 45,
        "start_time": "2021-06-18T19:51:08.972Z"
      },
      {
        "duration": 286,
        "start_time": "2021-06-18T19:51:09.020Z"
      },
      {
        "duration": 53,
        "start_time": "2021-06-18T19:51:09.309Z"
      },
      {
        "duration": 22,
        "start_time": "2021-06-18T19:51:09.365Z"
      },
      {
        "duration": 38,
        "start_time": "2021-06-18T19:51:09.389Z"
      },
      {
        "duration": 20,
        "start_time": "2021-06-18T19:51:09.456Z"
      },
      {
        "duration": 12,
        "start_time": "2021-06-18T19:51:09.481Z"
      },
      {
        "duration": 15,
        "start_time": "2021-06-18T19:51:09.497Z"
      },
      {
        "duration": 367,
        "start_time": "2021-06-18T19:51:09.515Z"
      },
      {
        "duration": 392,
        "start_time": "2021-06-18T19:51:09.885Z"
      },
      {
        "duration": 6,
        "start_time": "2021-06-18T19:51:10.279Z"
      },
      {
        "duration": 1667,
        "start_time": "2021-06-18T19:51:10.288Z"
      },
      {
        "duration": 48,
        "start_time": "2021-06-18T19:51:11.958Z"
      },
      {
        "duration": 873,
        "start_time": "2021-06-18T19:51:12.009Z"
      },
      {
        "duration": 28,
        "start_time": "2021-06-18T19:51:12.885Z"
      },
      {
        "duration": 692,
        "start_time": "2021-06-18T19:51:12.916Z"
      },
      {
        "duration": 11,
        "start_time": "2021-06-18T19:51:13.610Z"
      },
      {
        "duration": 40,
        "start_time": "2021-06-18T19:51:13.624Z"
      },
      {
        "duration": 46,
        "start_time": "2021-06-18T19:51:13.666Z"
      },
      {
        "duration": 15,
        "start_time": "2021-06-18T19:51:13.714Z"
      },
      {
        "duration": 50,
        "start_time": "2021-06-18T19:51:13.731Z"
      },
      {
        "duration": 23,
        "start_time": "2021-06-18T19:51:13.784Z"
      },
      {
        "duration": 64,
        "start_time": "2021-06-18T19:51:13.810Z"
      },
      {
        "duration": 27,
        "start_time": "2021-06-18T19:51:13.876Z"
      },
      {
        "duration": 69,
        "start_time": "2021-06-18T19:51:13.910Z"
      },
      {
        "duration": 47,
        "start_time": "2021-06-18T19:51:13.982Z"
      },
      {
        "duration": 55,
        "start_time": "2021-06-18T19:51:14.031Z"
      },
      {
        "duration": 74,
        "start_time": "2021-06-18T19:51:14.089Z"
      },
      {
        "duration": 1312,
        "start_time": "2021-06-18T19:51:14.167Z"
      },
      {
        "duration": 7,
        "start_time": "2021-06-18T19:51:15.481Z"
      },
      {
        "duration": 785,
        "start_time": "2021-06-18T19:57:16.470Z"
      },
      {
        "duration": 1056,
        "start_time": "2021-06-18T19:57:27.753Z"
      },
      {
        "duration": 7,
        "start_time": "2021-06-18T19:57:39.311Z"
      },
      {
        "duration": 3212,
        "start_time": "2021-06-18T19:59:25.462Z"
      },
      {
        "duration": 81,
        "start_time": "2021-06-18T19:59:28.678Z"
      },
      {
        "duration": 67,
        "start_time": "2021-06-18T19:59:28.764Z"
      },
      {
        "duration": 461,
        "start_time": "2021-06-18T19:59:28.835Z"
      },
      {
        "duration": 80,
        "start_time": "2021-06-18T19:59:29.300Z"
      },
      {
        "duration": 27,
        "start_time": "2021-06-18T19:59:29.383Z"
      },
      {
        "duration": 80,
        "start_time": "2021-06-18T19:59:29.413Z"
      },
      {
        "duration": 21,
        "start_time": "2021-06-18T19:59:29.497Z"
      },
      {
        "duration": 42,
        "start_time": "2021-06-18T19:59:29.525Z"
      },
      {
        "duration": 16,
        "start_time": "2021-06-18T19:59:29.570Z"
      },
      {
        "duration": 363,
        "start_time": "2021-06-18T19:59:29.589Z"
      },
      {
        "duration": 414,
        "start_time": "2021-06-18T19:59:29.954Z"
      },
      {
        "duration": 6,
        "start_time": "2021-06-18T19:59:30.371Z"
      },
      {
        "duration": 1668,
        "start_time": "2021-06-18T19:59:30.380Z"
      },
      {
        "duration": 74,
        "start_time": "2021-06-18T19:59:32.050Z"
      },
      {
        "duration": 805,
        "start_time": "2021-06-18T19:59:32.127Z"
      },
      {
        "duration": 44,
        "start_time": "2021-06-18T19:59:32.935Z"
      },
      {
        "duration": 717,
        "start_time": "2021-06-18T19:59:32.982Z"
      },
      {
        "duration": 10,
        "start_time": "2021-06-18T19:59:33.702Z"
      },
      {
        "duration": 43,
        "start_time": "2021-06-18T19:59:33.715Z"
      },
      {
        "duration": 44,
        "start_time": "2021-06-18T19:59:33.761Z"
      },
      {
        "duration": 48,
        "start_time": "2021-06-18T19:59:33.808Z"
      },
      {
        "duration": 21,
        "start_time": "2021-06-18T19:59:33.858Z"
      },
      {
        "duration": 28,
        "start_time": "2021-06-18T19:59:33.881Z"
      },
      {
        "duration": 92,
        "start_time": "2021-06-18T19:59:33.912Z"
      },
      {
        "duration": 30,
        "start_time": "2021-06-18T19:59:34.007Z"
      },
      {
        "duration": 62,
        "start_time": "2021-06-18T19:59:34.042Z"
      },
      {
        "duration": 78,
        "start_time": "2021-06-18T19:59:34.107Z"
      },
      {
        "duration": 22,
        "start_time": "2021-06-18T19:59:34.188Z"
      },
      {
        "duration": 790,
        "start_time": "2021-06-18T19:59:34.212Z"
      },
      {
        "duration": 1307,
        "start_time": "2021-06-18T19:59:35.005Z"
      },
      {
        "duration": 9,
        "start_time": "2021-06-18T19:59:36.316Z"
      },
      {
        "duration": 1631,
        "start_time": "2021-06-19T16:54:39.702Z"
      },
      {
        "duration": 59,
        "start_time": "2021-06-19T16:54:41.334Z"
      },
      {
        "duration": 31,
        "start_time": "2021-06-19T16:54:41.395Z"
      },
      {
        "duration": 172,
        "start_time": "2021-06-19T16:54:41.428Z"
      },
      {
        "duration": 30,
        "start_time": "2021-06-19T16:54:41.602Z"
      },
      {
        "duration": 12,
        "start_time": "2021-06-19T16:54:41.633Z"
      },
      {
        "duration": 45,
        "start_time": "2021-06-19T16:54:41.646Z"
      },
      {
        "duration": 9,
        "start_time": "2021-06-19T16:54:41.694Z"
      },
      {
        "duration": 7,
        "start_time": "2021-06-19T16:54:41.705Z"
      },
      {
        "duration": 8,
        "start_time": "2021-06-19T16:54:41.713Z"
      },
      {
        "duration": 226,
        "start_time": "2021-06-19T16:54:41.722Z"
      },
      {
        "duration": 286,
        "start_time": "2021-06-19T16:54:41.950Z"
      },
      {
        "duration": 5,
        "start_time": "2021-06-19T16:54:42.237Z"
      },
      {
        "duration": 937,
        "start_time": "2021-06-19T16:54:42.243Z"
      },
      {
        "duration": 25,
        "start_time": "2021-06-19T16:54:43.181Z"
      },
      {
        "duration": 494,
        "start_time": "2021-06-19T16:54:43.207Z"
      },
      {
        "duration": 15,
        "start_time": "2021-06-19T16:54:43.702Z"
      },
      {
        "duration": 390,
        "start_time": "2021-06-19T16:54:43.718Z"
      },
      {
        "duration": 5,
        "start_time": "2021-06-19T16:54:44.109Z"
      },
      {
        "duration": 9,
        "start_time": "2021-06-19T16:54:44.116Z"
      },
      {
        "duration": 26,
        "start_time": "2021-06-19T16:54:44.126Z"
      },
      {
        "duration": 33,
        "start_time": "2021-06-19T16:54:44.154Z"
      },
      {
        "duration": 12,
        "start_time": "2021-06-19T16:54:44.190Z"
      },
      {
        "duration": 16,
        "start_time": "2021-06-19T16:54:44.203Z"
      },
      {
        "duration": 25,
        "start_time": "2021-06-19T16:54:44.220Z"
      },
      {
        "duration": 44,
        "start_time": "2021-06-19T16:54:44.246Z"
      },
      {
        "duration": 27,
        "start_time": "2021-06-19T16:54:44.292Z"
      },
      {
        "duration": 31,
        "start_time": "2021-06-19T16:54:44.320Z"
      },
      {
        "duration": 37,
        "start_time": "2021-06-19T16:54:44.353Z"
      },
      {
        "duration": 440,
        "start_time": "2021-06-19T16:54:44.392Z"
      },
      {
        "duration": 699,
        "start_time": "2021-06-19T16:54:44.833Z"
      },
      {
        "duration": 5,
        "start_time": "2021-06-19T16:54:45.533Z"
      },
      {
        "duration": 17,
        "start_time": "2021-06-19T17:03:38.086Z"
      },
      {
        "duration": 125,
        "start_time": "2021-06-19T17:06:00.083Z"
      },
      {
        "duration": 102,
        "start_time": "2021-06-19T17:06:45.999Z"
      },
      {
        "duration": 99,
        "start_time": "2021-06-19T17:06:52.379Z"
      },
      {
        "duration": 6,
        "start_time": "2021-06-19T17:11:29.822Z"
      },
      {
        "duration": 13,
        "start_time": "2021-06-19T17:11:36.862Z"
      },
      {
        "duration": 57,
        "start_time": "2021-06-19T17:12:51.315Z"
      },
      {
        "duration": 65,
        "start_time": "2021-06-19T17:12:56.334Z"
      },
      {
        "duration": 260,
        "start_time": "2021-06-19T17:13:01.390Z"
      },
      {
        "duration": 7,
        "start_time": "2021-06-19T17:13:08.818Z"
      },
      {
        "duration": 68,
        "start_time": "2021-06-19T17:13:13.182Z"
      },
      {
        "duration": 13,
        "start_time": "2021-06-19T17:13:14.434Z"
      },
      {
        "duration": 6,
        "start_time": "2021-06-19T17:13:25.854Z"
      },
      {
        "duration": 14,
        "start_time": "2021-06-19T17:13:27.478Z"
      },
      {
        "duration": 59,
        "start_time": "2021-06-19T17:13:58.116Z"
      },
      {
        "duration": 198,
        "start_time": "2021-06-19T17:14:03.162Z"
      },
      {
        "duration": 12,
        "start_time": "2021-06-19T17:14:07.086Z"
      },
      {
        "duration": 7,
        "start_time": "2021-06-19T17:14:40.302Z"
      },
      {
        "duration": 14,
        "start_time": "2021-06-19T17:14:41.636Z"
      },
      {
        "duration": 7,
        "start_time": "2021-06-19T17:15:06.158Z"
      },
      {
        "duration": 13,
        "start_time": "2021-06-19T17:15:07.202Z"
      },
      {
        "duration": 4,
        "start_time": "2021-06-19T17:15:24.634Z"
      },
      {
        "duration": 207,
        "start_time": "2021-06-19T17:15:47.890Z"
      },
      {
        "duration": 502,
        "start_time": "2021-06-19T17:15:52.494Z"
      },
      {
        "duration": 15,
        "start_time": "2021-06-19T17:16:17.646Z"
      },
      {
        "duration": 173,
        "start_time": "2021-06-19T17:18:42.094Z"
      },
      {
        "duration": 16,
        "start_time": "2021-06-19T17:20:53.122Z"
      },
      {
        "duration": 33,
        "start_time": "2021-06-19T17:23:06.454Z"
      },
      {
        "duration": 205,
        "start_time": "2021-06-19T17:23:40.810Z"
      },
      {
        "duration": 28,
        "start_time": "2021-06-19T17:23:44.290Z"
      },
      {
        "duration": 8,
        "start_time": "2021-06-19T17:23:44.810Z"
      },
      {
        "duration": 4441,
        "start_time": "2021-06-19T17:24:00.290Z"
      },
      {
        "duration": 168,
        "start_time": "2021-06-19T17:24:22.030Z"
      },
      {
        "duration": 8,
        "start_time": "2021-06-19T17:24:31.247Z"
      },
      {
        "duration": 13,
        "start_time": "2021-06-19T17:24:51.638Z"
      },
      {
        "duration": 4589,
        "start_time": "2021-06-19T17:25:14.898Z"
      },
      {
        "duration": 28,
        "start_time": "2021-06-19T17:26:09.998Z"
      },
      {
        "duration": 8,
        "start_time": "2021-06-19T17:26:16.482Z"
      },
      {
        "duration": 13,
        "start_time": "2021-06-19T17:28:06.050Z"
      },
      {
        "duration": 5,
        "start_time": "2021-06-19T17:28:08.302Z"
      },
      {
        "duration": 12,
        "start_time": "2021-06-19T17:28:52.702Z"
      },
      {
        "duration": 27,
        "start_time": "2021-06-19T17:32:40.598Z"
      },
      {
        "duration": 7,
        "start_time": "2021-06-19T17:32:42.386Z"
      },
      {
        "duration": 9,
        "start_time": "2021-06-19T17:33:35.910Z"
      },
      {
        "duration": 5,
        "start_time": "2021-06-19T17:33:37.294Z"
      },
      {
        "duration": 187,
        "start_time": "2021-06-19T17:34:43.450Z"
      },
      {
        "duration": 12,
        "start_time": "2021-06-19T17:34:52.094Z"
      },
      {
        "duration": 10,
        "start_time": "2021-06-19T17:35:17.426Z"
      },
      {
        "duration": 4,
        "start_time": "2021-06-19T17:35:30.498Z"
      },
      {
        "duration": 7,
        "start_time": "2021-06-19T17:35:48.266Z"
      },
      {
        "duration": 7,
        "start_time": "2021-06-19T17:35:53.818Z"
      },
      {
        "duration": 171,
        "start_time": "2021-06-19T17:36:15.518Z"
      },
      {
        "duration": 176,
        "start_time": "2021-06-19T17:36:19.250Z"
      },
      {
        "duration": 10,
        "start_time": "2021-06-19T17:36:21.538Z"
      },
      {
        "duration": 6,
        "start_time": "2021-06-19T17:36:22.134Z"
      },
      {
        "duration": 258,
        "start_time": "2021-06-19T17:37:28.318Z"
      },
      {
        "duration": 173,
        "start_time": "2021-06-19T17:37:45.414Z"
      },
      {
        "duration": 177,
        "start_time": "2021-06-19T17:41:02.977Z"
      },
      {
        "duration": 11,
        "start_time": "2021-06-19T17:41:08.054Z"
      },
      {
        "duration": 258,
        "start_time": "2021-06-19T17:41:08.538Z"
      },
      {
        "duration": 8,
        "start_time": "2021-06-19T17:41:20.806Z"
      },
      {
        "duration": 257,
        "start_time": "2021-06-19T17:41:57.729Z"
      },
      {
        "duration": 177,
        "start_time": "2021-06-19T17:42:47.978Z"
      },
      {
        "duration": 180,
        "start_time": "2021-06-19T17:42:57.554Z"
      },
      {
        "duration": 11,
        "start_time": "2021-06-19T17:43:01.518Z"
      },
      {
        "duration": 10,
        "start_time": "2021-06-19T17:43:02.077Z"
      },
      {
        "duration": 179,
        "start_time": "2021-06-19T17:44:05.745Z"
      },
      {
        "duration": 168,
        "start_time": "2021-06-19T17:44:27.973Z"
      },
      {
        "duration": 11,
        "start_time": "2021-06-19T17:44:44.994Z"
      },
      {
        "duration": 11,
        "start_time": "2021-06-19T17:44:53.842Z"
      },
      {
        "duration": 8,
        "start_time": "2021-06-19T17:44:54.610Z"
      },
      {
        "duration": 4,
        "start_time": "2021-06-19T17:46:15.077Z"
      },
      {
        "duration": 175,
        "start_time": "2021-06-19T17:46:52.826Z"
      },
      {
        "duration": 4,
        "start_time": "2021-06-19T17:46:57.617Z"
      },
      {
        "duration": 6,
        "start_time": "2021-06-19T17:47:04.653Z"
      },
      {
        "duration": 4,
        "start_time": "2021-06-19T17:47:28.129Z"
      },
      {
        "duration": 8,
        "start_time": "2021-06-19T17:47:43.357Z"
      },
      {
        "duration": 6,
        "start_time": "2021-06-19T17:48:27.549Z"
      },
      {
        "duration": 6,
        "start_time": "2021-06-19T17:50:06.157Z"
      },
      {
        "duration": 6,
        "start_time": "2021-06-19T17:50:28.245Z"
      },
      {
        "duration": 59,
        "start_time": "2021-06-19T17:51:30.845Z"
      },
      {
        "duration": 57,
        "start_time": "2021-06-19T17:51:36.746Z"
      },
      {
        "duration": 55,
        "start_time": "2021-06-19T17:51:44.193Z"
      },
      {
        "duration": 175,
        "start_time": "2021-06-19T17:51:52.905Z"
      },
      {
        "duration": 179,
        "start_time": "2021-06-19T17:52:19.753Z"
      },
      {
        "duration": 180,
        "start_time": "2021-06-19T17:52:24.673Z"
      },
      {
        "duration": 11,
        "start_time": "2021-06-19T17:52:28.993Z"
      },
      {
        "duration": 6,
        "start_time": "2021-06-19T17:52:29.457Z"
      },
      {
        "duration": 5,
        "start_time": "2021-06-19T17:54:41.745Z"
      },
      {
        "duration": 5,
        "start_time": "2021-06-19T17:54:50.434Z"
      },
      {
        "duration": 196,
        "start_time": "2021-06-19T17:54:55.185Z"
      },
      {
        "duration": 11,
        "start_time": "2021-06-19T17:55:01.726Z"
      },
      {
        "duration": 5,
        "start_time": "2021-06-19T17:55:02.170Z"
      },
      {
        "duration": 7,
        "start_time": "2021-06-19T17:56:00.505Z"
      },
      {
        "duration": 6,
        "start_time": "2021-06-19T17:56:18.405Z"
      },
      {
        "duration": 179,
        "start_time": "2021-06-19T17:56:28.545Z"
      },
      {
        "duration": 11,
        "start_time": "2021-06-19T17:56:31.821Z"
      },
      {
        "duration": 6,
        "start_time": "2021-06-19T17:56:32.261Z"
      },
      {
        "duration": 5,
        "start_time": "2021-06-19T17:56:59.214Z"
      },
      {
        "duration": 6,
        "start_time": "2021-06-19T17:57:04.129Z"
      },
      {
        "duration": 173,
        "start_time": "2021-06-19T17:57:46.865Z"
      },
      {
        "duration": 12,
        "start_time": "2021-06-19T17:57:51.821Z"
      },
      {
        "duration": 6,
        "start_time": "2021-06-19T17:57:52.225Z"
      },
      {
        "duration": 6,
        "start_time": "2021-06-19T17:58:55.525Z"
      },
      {
        "duration": 11,
        "start_time": "2021-06-19T18:01:21.745Z"
      },
      {
        "duration": 6,
        "start_time": "2021-06-19T18:02:30.501Z"
      },
      {
        "duration": 14,
        "start_time": "2021-06-19T18:03:23.666Z"
      },
      {
        "duration": 731,
        "start_time": "2021-06-19T18:03:31.033Z"
      },
      {
        "duration": 58,
        "start_time": "2021-06-19T18:03:31.766Z"
      },
      {
        "duration": 24,
        "start_time": "2021-06-19T18:03:31.827Z"
      },
      {
        "duration": 184,
        "start_time": "2021-06-19T18:03:31.853Z"
      },
      {
        "duration": 31,
        "start_time": "2021-06-19T18:03:32.039Z"
      },
      {
        "duration": 24,
        "start_time": "2021-06-19T18:03:32.072Z"
      },
      {
        "duration": 23,
        "start_time": "2021-06-19T18:03:32.098Z"
      },
      {
        "duration": 10,
        "start_time": "2021-06-19T18:03:32.123Z"
      },
      {
        "duration": 9,
        "start_time": "2021-06-19T18:03:32.135Z"
      },
      {
        "duration": 41,
        "start_time": "2021-06-19T18:03:32.145Z"
      },
      {
        "duration": 220,
        "start_time": "2021-06-19T18:03:32.188Z"
      },
      {
        "duration": 284,
        "start_time": "2021-06-19T18:03:32.410Z"
      },
      {
        "duration": 4,
        "start_time": "2021-06-19T18:03:32.695Z"
      },
      {
        "duration": 1079,
        "start_time": "2021-06-19T18:03:32.701Z"
      },
      {
        "duration": 25,
        "start_time": "2021-06-19T18:03:33.785Z"
      },
      {
        "duration": 607,
        "start_time": "2021-06-19T18:03:33.812Z"
      },
      {
        "duration": 15,
        "start_time": "2021-06-19T18:03:34.421Z"
      },
      {
        "duration": 477,
        "start_time": "2021-06-19T18:03:34.438Z"
      },
      {
        "duration": 6,
        "start_time": "2021-06-19T18:03:34.916Z"
      },
      {
        "duration": 10,
        "start_time": "2021-06-19T18:03:34.923Z"
      },
      {
        "duration": 27,
        "start_time": "2021-06-19T18:03:34.934Z"
      },
      {
        "duration": 11,
        "start_time": "2021-06-19T18:03:34.985Z"
      },
      {
        "duration": 13,
        "start_time": "2021-06-19T18:03:34.999Z"
      },
      {
        "duration": 17,
        "start_time": "2021-06-19T18:03:35.014Z"
      },
      {
        "duration": 53,
        "start_time": "2021-06-19T18:03:35.033Z"
      },
      {
        "duration": 15,
        "start_time": "2021-06-19T18:03:35.088Z"
      },
      {
        "duration": 25,
        "start_time": "2021-06-19T18:03:35.104Z"
      },
      {
        "duration": 55,
        "start_time": "2021-06-19T18:03:35.131Z"
      },
      {
        "duration": 11,
        "start_time": "2021-06-19T18:03:35.187Z"
      },
      {
        "duration": 442,
        "start_time": "2021-06-19T18:03:35.200Z"
      },
      {
        "duration": 725,
        "start_time": "2021-06-19T18:03:35.644Z"
      },
      {
        "duration": 5,
        "start_time": "2021-06-19T18:03:36.370Z"
      },
      {
        "duration": 18,
        "start_time": "2021-06-19T18:03:36.384Z"
      },
      {
        "duration": 130,
        "start_time": "2021-06-19T18:03:36.404Z"
      },
      {
        "duration": 6,
        "start_time": "2021-06-19T18:03:36.536Z"
      },
      {
        "duration": 21,
        "start_time": "2021-06-19T18:03:36.544Z"
      },
      {
        "duration": 26,
        "start_time": "2021-06-19T18:03:36.567Z"
      },
      {
        "duration": 4,
        "start_time": "2021-06-19T18:03:36.595Z"
      },
      {
        "duration": 15,
        "start_time": "2021-06-19T18:03:38.872Z"
      },
      {
        "duration": 17,
        "start_time": "2021-06-19T18:09:30.997Z"
      },
      {
        "duration": 23,
        "start_time": "2021-06-19T18:12:02.053Z"
      },
      {
        "duration": 21,
        "start_time": "2021-06-19T18:12:10.445Z"
      },
      {
        "duration": 25,
        "start_time": "2021-06-19T18:12:39.745Z"
      },
      {
        "duration": 176,
        "start_time": "2021-06-19T18:14:45.781Z"
      },
      {
        "duration": 101,
        "start_time": "2021-06-19T18:14:48.641Z"
      },
      {
        "duration": 181,
        "start_time": "2021-06-19T18:14:49.445Z"
      },
      {
        "duration": 13,
        "start_time": "2021-06-19T18:15:29.897Z"
      },
      {
        "duration": 14,
        "start_time": "2021-06-19T18:16:49.573Z"
      },
      {
        "duration": 25,
        "start_time": "2021-06-19T18:16:54.561Z"
      },
      {
        "duration": 15,
        "start_time": "2021-06-19T18:16:55.033Z"
      },
      {
        "duration": 20,
        "start_time": "2021-06-19T18:17:06.657Z"
      },
      {
        "duration": 27,
        "start_time": "2021-06-19T18:21:45.252Z"
      },
      {
        "duration": 171,
        "start_time": "2021-06-19T18:23:03.316Z"
      },
      {
        "duration": 173,
        "start_time": "2021-06-19T18:23:09.529Z"
      },
      {
        "duration": 13,
        "start_time": "2021-06-19T18:24:03.108Z"
      },
      {
        "duration": 174,
        "start_time": "2021-06-19T18:26:42.914Z"
      },
      {
        "duration": 5,
        "start_time": "2021-06-19T18:26:48.376Z"
      },
      {
        "duration": 332,
        "start_time": "2021-06-19T18:26:55.604Z"
      },
      {
        "duration": 6,
        "start_time": "2021-06-19T18:28:45.984Z"
      },
      {
        "duration": 6,
        "start_time": "2021-06-19T18:28:55.044Z"
      },
      {
        "duration": 13,
        "start_time": "2021-06-19T18:38:02.528Z"
      },
      {
        "duration": 4,
        "start_time": "2021-06-19T18:38:31.621Z"
      },
      {
        "duration": 333,
        "start_time": "2021-06-19T18:38:43.892Z"
      },
      {
        "duration": 376,
        "start_time": "2021-06-19T18:39:07.472Z"
      },
      {
        "duration": 287,
        "start_time": "2021-06-19T18:40:24.016Z"
      },
      {
        "duration": 301,
        "start_time": "2021-06-19T18:41:11.592Z"
      },
      {
        "duration": 171,
        "start_time": "2021-06-19T18:43:37.613Z"
      },
      {
        "duration": 10,
        "start_time": "2021-06-19T18:43:46.324Z"
      },
      {
        "duration": 6,
        "start_time": "2021-06-19T18:44:02.829Z"
      },
      {
        "duration": 22,
        "start_time": "2021-06-19T18:46:13.748Z"
      },
      {
        "duration": 7,
        "start_time": "2021-06-19T18:48:17.232Z"
      },
      {
        "duration": 16,
        "start_time": "2021-06-19T18:48:23.119Z"
      },
      {
        "duration": 293,
        "start_time": "2021-06-19T18:51:52.876Z"
      },
      {
        "duration": 282,
        "start_time": "2021-06-19T18:53:34.740Z"
      },
      {
        "duration": 174,
        "start_time": "2021-06-19T18:53:58.859Z"
      },
      {
        "duration": 289,
        "start_time": "2021-06-19T18:54:06.691Z"
      },
      {
        "duration": 295,
        "start_time": "2021-06-19T18:54:14.892Z"
      },
      {
        "duration": 2280,
        "start_time": "2021-06-20T17:50:15.644Z"
      },
      {
        "duration": 85,
        "start_time": "2021-06-20T17:50:17.927Z"
      },
      {
        "duration": 65,
        "start_time": "2021-06-20T17:50:18.015Z"
      },
      {
        "duration": 253,
        "start_time": "2021-06-20T17:50:18.083Z"
      },
      {
        "duration": 47,
        "start_time": "2021-06-20T17:50:18.338Z"
      },
      {
        "duration": 20,
        "start_time": "2021-06-20T17:50:18.387Z"
      },
      {
        "duration": 63,
        "start_time": "2021-06-20T17:50:18.409Z"
      },
      {
        "duration": 15,
        "start_time": "2021-06-20T17:50:18.475Z"
      },
      {
        "duration": 26,
        "start_time": "2021-06-20T17:50:18.495Z"
      },
      {
        "duration": 32,
        "start_time": "2021-06-20T17:50:18.524Z"
      },
      {
        "duration": 484,
        "start_time": "2021-06-20T17:50:18.559Z"
      },
      {
        "duration": 562,
        "start_time": "2021-06-20T17:50:19.046Z"
      },
      {
        "duration": 6,
        "start_time": "2021-06-20T17:50:19.611Z"
      },
      {
        "duration": 1538,
        "start_time": "2021-06-20T17:50:19.620Z"
      },
      {
        "duration": 42,
        "start_time": "2021-06-20T17:50:21.160Z"
      },
      {
        "duration": 1179,
        "start_time": "2021-06-20T17:50:21.206Z"
      },
      {
        "duration": 26,
        "start_time": "2021-06-20T17:50:22.388Z"
      },
      {
        "duration": 659,
        "start_time": "2021-06-20T17:50:22.417Z"
      },
      {
        "duration": 10,
        "start_time": "2021-06-20T17:50:23.078Z"
      },
      {
        "duration": 14,
        "start_time": "2021-06-20T17:50:23.091Z"
      },
      {
        "duration": 81,
        "start_time": "2021-06-20T17:50:23.108Z"
      },
      {
        "duration": 15,
        "start_time": "2021-06-20T17:50:23.191Z"
      },
      {
        "duration": 19,
        "start_time": "2021-06-20T17:50:23.209Z"
      },
      {
        "duration": 23,
        "start_time": "2021-06-20T17:50:23.255Z"
      },
      {
        "duration": 38,
        "start_time": "2021-06-20T17:50:23.281Z"
      },
      {
        "duration": 67,
        "start_time": "2021-06-20T17:50:23.321Z"
      },
      {
        "duration": 78,
        "start_time": "2021-06-20T17:50:23.396Z"
      },
      {
        "duration": 46,
        "start_time": "2021-06-20T17:50:23.478Z"
      },
      {
        "duration": 46,
        "start_time": "2021-06-20T17:50:23.527Z"
      },
      {
        "duration": 746,
        "start_time": "2021-06-20T17:50:23.576Z"
      },
      {
        "duration": 1127,
        "start_time": "2021-06-20T17:50:24.324Z"
      },
      {
        "duration": 6,
        "start_time": "2021-06-20T17:50:25.454Z"
      },
      {
        "duration": 29,
        "start_time": "2021-06-20T17:50:25.463Z"
      },
      {
        "duration": 321,
        "start_time": "2021-06-20T17:50:25.494Z"
      },
      {
        "duration": 9,
        "start_time": "2021-06-20T17:50:25.818Z"
      },
      {
        "duration": 47,
        "start_time": "2021-06-20T17:50:25.829Z"
      },
      {
        "duration": 15,
        "start_time": "2021-06-20T17:50:25.878Z"
      },
      {
        "duration": 6,
        "start_time": "2021-06-20T17:50:25.896Z"
      },
      {
        "duration": 128,
        "start_time": "2021-06-20T17:50:25.904Z"
      },
      {
        "duration": 37,
        "start_time": "2021-06-20T17:50:26.035Z"
      },
      {
        "duration": 39,
        "start_time": "2021-06-20T17:50:26.076Z"
      },
      {
        "duration": 45,
        "start_time": "2021-06-20T17:50:26.118Z"
      },
      {
        "duration": 32,
        "start_time": "2021-06-20T17:50:26.166Z"
      },
      {
        "duration": 54,
        "start_time": "2021-06-20T17:50:26.201Z"
      },
      {
        "duration": 503,
        "start_time": "2021-06-20T17:50:26.258Z"
      },
      {
        "duration": 14,
        "start_time": "2021-06-20T17:52:13.932Z"
      },
      {
        "duration": 9,
        "start_time": "2021-06-20T17:52:52.007Z"
      },
      {
        "duration": 11,
        "start_time": "2021-06-20T17:53:30.928Z"
      },
      {
        "duration": 737,
        "start_time": "2021-06-20T17:53:36.692Z"
      },
      {
        "duration": 71,
        "start_time": "2021-06-20T17:53:37.432Z"
      },
      {
        "duration": 33,
        "start_time": "2021-06-20T17:53:37.506Z"
      },
      {
        "duration": 253,
        "start_time": "2021-06-20T17:53:37.541Z"
      },
      {
        "duration": 40,
        "start_time": "2021-06-20T17:53:37.796Z"
      },
      {
        "duration": 18,
        "start_time": "2021-06-20T17:53:37.854Z"
      },
      {
        "duration": 35,
        "start_time": "2021-06-20T17:53:37.874Z"
      },
      {
        "duration": 46,
        "start_time": "2021-06-20T17:53:37.911Z"
      },
      {
        "duration": 11,
        "start_time": "2021-06-20T17:53:41.336Z"
      },
      {
        "duration": 9,
        "start_time": "2021-06-20T17:53:48.679Z"
      },
      {
        "duration": 15,
        "start_time": "2021-06-20T17:53:53.720Z"
      },
      {
        "duration": 13,
        "start_time": "2021-06-20T17:55:18.704Z"
      },
      {
        "duration": 17,
        "start_time": "2021-06-20T17:55:50.836Z"
      },
      {
        "duration": 14,
        "start_time": "2021-06-20T17:56:50.624Z"
      },
      {
        "duration": 10,
        "start_time": "2021-06-20T17:59:12.551Z"
      },
      {
        "duration": 20,
        "start_time": "2021-06-20T17:59:51.607Z"
      },
      {
        "duration": 25,
        "start_time": "2021-06-20T18:00:09.212Z"
      },
      {
        "duration": 426,
        "start_time": "2021-06-20T18:00:44.292Z"
      },
      {
        "duration": 19,
        "start_time": "2021-06-20T18:00:55.028Z"
      },
      {
        "duration": 27,
        "start_time": "2021-06-20T18:01:37.084Z"
      },
      {
        "duration": 21,
        "start_time": "2021-06-20T18:02:06.338Z"
      },
      {
        "duration": 13,
        "start_time": "2021-06-20T18:02:54.907Z"
      },
      {
        "duration": 15,
        "start_time": "2021-06-20T18:03:38.379Z"
      },
      {
        "duration": 277,
        "start_time": "2021-06-20T18:04:44.971Z"
      },
      {
        "duration": 56,
        "start_time": "2021-06-20T18:04:52.216Z"
      },
      {
        "duration": 7,
        "start_time": "2021-06-20T18:05:51.735Z"
      },
      {
        "duration": 42,
        "start_time": "2021-06-20T18:10:20.017Z"
      },
      {
        "duration": 44,
        "start_time": "2021-06-20T18:10:32.254Z"
      },
      {
        "duration": 47,
        "start_time": "2021-06-20T18:11:18.519Z"
      },
      {
        "duration": 27,
        "start_time": "2021-06-20T18:13:31.515Z"
      },
      {
        "duration": 43,
        "start_time": "2021-06-20T18:14:19.639Z"
      },
      {
        "duration": 7,
        "start_time": "2021-06-20T18:14:36.571Z"
      },
      {
        "duration": 52,
        "start_time": "2021-06-20T18:16:12.583Z"
      },
      {
        "duration": 49,
        "start_time": "2021-06-20T18:16:51.598Z"
      },
      {
        "duration": 81,
        "start_time": "2021-06-20T18:16:59.923Z"
      },
      {
        "duration": 4230,
        "start_time": "2021-06-20T18:20:30.223Z"
      },
      {
        "duration": 51,
        "start_time": "2021-06-20T18:20:40.366Z"
      },
      {
        "duration": 316,
        "start_time": "2021-06-20T18:21:02.987Z"
      },
      {
        "duration": 49,
        "start_time": "2021-06-20T18:21:08.491Z"
      },
      {
        "duration": 15,
        "start_time": "2021-06-20T18:30:18.895Z"
      },
      {
        "duration": 4952,
        "start_time": "2021-06-20T18:30:44.191Z"
      },
      {
        "duration": 16,
        "start_time": "2021-06-20T18:31:08.135Z"
      },
      {
        "duration": 6,
        "start_time": "2021-06-20T18:31:18.147Z"
      },
      {
        "duration": 11,
        "start_time": "2021-06-20T18:31:32.446Z"
      },
      {
        "duration": 19,
        "start_time": "2021-06-20T18:31:40.387Z"
      },
      {
        "duration": 269,
        "start_time": "2021-06-20T18:32:46.843Z"
      },
      {
        "duration": 4949,
        "start_time": "2021-06-20T18:33:06.050Z"
      },
      {
        "duration": 17,
        "start_time": "2021-06-20T18:33:15.510Z"
      },
      {
        "duration": 20,
        "start_time": "2021-06-20T18:33:21.910Z"
      },
      {
        "duration": 4818,
        "start_time": "2021-06-20T18:33:31.279Z"
      },
      {
        "duration": 18,
        "start_time": "2021-06-20T18:33:42.786Z"
      },
      {
        "duration": 52,
        "start_time": "2021-06-20T18:33:48.658Z"
      },
      {
        "duration": 19,
        "start_time": "2021-06-20T18:33:49.422Z"
      },
      {
        "duration": 51,
        "start_time": "2021-06-20T18:33:53.631Z"
      },
      {
        "duration": 21,
        "start_time": "2021-06-20T18:33:54.426Z"
      },
      {
        "duration": 884,
        "start_time": "2021-06-20T18:34:03.314Z"
      },
      {
        "duration": 75,
        "start_time": "2021-06-20T18:34:04.201Z"
      },
      {
        "duration": 37,
        "start_time": "2021-06-20T18:34:04.279Z"
      },
      {
        "duration": 268,
        "start_time": "2021-06-20T18:34:04.320Z"
      },
      {
        "duration": 41,
        "start_time": "2021-06-20T18:34:04.591Z"
      },
      {
        "duration": 35,
        "start_time": "2021-06-20T18:34:04.635Z"
      },
      {
        "duration": 38,
        "start_time": "2021-06-20T18:34:04.672Z"
      },
      {
        "duration": 46,
        "start_time": "2021-06-20T18:34:04.715Z"
      },
      {
        "duration": 11,
        "start_time": "2021-06-20T18:34:04.765Z"
      },
      {
        "duration": 15,
        "start_time": "2021-06-20T18:34:04.778Z"
      },
      {
        "duration": 349,
        "start_time": "2021-06-20T18:34:04.795Z"
      },
      {
        "duration": 408,
        "start_time": "2021-06-20T18:34:05.146Z"
      },
      {
        "duration": 7,
        "start_time": "2021-06-20T18:34:05.557Z"
      },
      {
        "duration": 1760,
        "start_time": "2021-06-20T18:34:05.567Z"
      },
      {
        "duration": 45,
        "start_time": "2021-06-20T18:34:07.329Z"
      },
      {
        "duration": 831,
        "start_time": "2021-06-20T18:34:07.377Z"
      },
      {
        "duration": 26,
        "start_time": "2021-06-20T18:34:08.210Z"
      },
      {
        "duration": 760,
        "start_time": "2021-06-20T18:34:08.255Z"
      },
      {
        "duration": 9,
        "start_time": "2021-06-20T18:34:09.018Z"
      },
      {
        "duration": 37,
        "start_time": "2021-06-20T18:34:09.030Z"
      },
      {
        "duration": 42,
        "start_time": "2021-06-20T18:34:09.069Z"
      },
      {
        "duration": 41,
        "start_time": "2021-06-20T18:34:09.114Z"
      },
      {
        "duration": 20,
        "start_time": "2021-06-20T18:34:09.161Z"
      },
      {
        "duration": 23,
        "start_time": "2021-06-20T18:34:09.184Z"
      },
      {
        "duration": 71,
        "start_time": "2021-06-20T18:34:09.209Z"
      },
      {
        "duration": 25,
        "start_time": "2021-06-20T18:34:09.282Z"
      },
      {
        "duration": 63,
        "start_time": "2021-06-20T18:34:09.310Z"
      },
      {
        "duration": 47,
        "start_time": "2021-06-20T18:34:09.375Z"
      },
      {
        "duration": 44,
        "start_time": "2021-06-20T18:34:09.425Z"
      },
      {
        "duration": 751,
        "start_time": "2021-06-20T18:34:09.472Z"
      },
      {
        "duration": 1102,
        "start_time": "2021-06-20T18:34:10.226Z"
      },
      {
        "duration": 8,
        "start_time": "2021-06-20T18:34:11.330Z"
      },
      {
        "duration": 30,
        "start_time": "2021-06-20T18:34:11.355Z"
      },
      {
        "duration": 197,
        "start_time": "2021-06-20T18:34:11.387Z"
      },
      {
        "duration": 9,
        "start_time": "2021-06-20T18:34:11.586Z"
      },
      {
        "duration": 56,
        "start_time": "2021-06-20T18:34:11.597Z"
      },
      {
        "duration": 16,
        "start_time": "2021-06-20T18:34:11.656Z"
      },
      {
        "duration": 6,
        "start_time": "2021-06-20T18:34:11.675Z"
      },
      {
        "duration": 22,
        "start_time": "2021-06-20T18:34:11.684Z"
      },
      {
        "duration": 53,
        "start_time": "2021-06-20T18:34:11.709Z"
      },
      {
        "duration": 36,
        "start_time": "2021-06-20T18:34:11.764Z"
      },
      {
        "duration": 20,
        "start_time": "2021-06-20T18:34:11.803Z"
      },
      {
        "duration": 59,
        "start_time": "2021-06-20T18:34:11.825Z"
      },
      {
        "duration": 19,
        "start_time": "2021-06-20T18:34:11.886Z"
      },
      {
        "duration": 550,
        "start_time": "2021-06-20T18:34:11.907Z"
      },
      {
        "duration": 14,
        "start_time": "2021-06-20T18:34:12.460Z"
      },
      {
        "duration": 23,
        "start_time": "2021-06-20T18:34:12.476Z"
      },
      {
        "duration": 25,
        "start_time": "2021-06-20T18:34:12.501Z"
      },
      {
        "duration": 32,
        "start_time": "2021-06-20T18:34:12.529Z"
      },
      {
        "duration": 10,
        "start_time": "2021-06-20T18:34:12.564Z"
      },
      {
        "duration": 26,
        "start_time": "2021-06-20T18:34:12.576Z"
      },
      {
        "duration": 15,
        "start_time": "2021-06-20T18:34:12.604Z"
      },
      {
        "duration": 28,
        "start_time": "2021-06-20T18:34:12.655Z"
      },
      {
        "duration": 21,
        "start_time": "2021-06-20T18:34:12.685Z"
      },
      {
        "duration": 13,
        "start_time": "2021-06-20T18:34:12.708Z"
      },
      {
        "duration": 43,
        "start_time": "2021-06-20T18:34:12.723Z"
      },
      {
        "duration": 37,
        "start_time": "2021-06-20T18:34:12.769Z"
      },
      {
        "duration": 80,
        "start_time": "2021-06-20T18:34:12.808Z"
      },
      {
        "duration": 18,
        "start_time": "2021-06-20T18:34:17.567Z"
      },
      {
        "duration": 16,
        "start_time": "2021-06-20T18:34:27.670Z"
      },
      {
        "duration": 52,
        "start_time": "2021-06-20T18:34:31.162Z"
      },
      {
        "duration": 16,
        "start_time": "2021-06-20T18:34:31.878Z"
      },
      {
        "duration": 17,
        "start_time": "2021-06-20T18:34:46.246Z"
      },
      {
        "duration": 18,
        "start_time": "2021-06-20T18:34:54.939Z"
      },
      {
        "duration": 1095,
        "start_time": "2021-06-20T18:35:17.818Z"
      },
      {
        "duration": 19,
        "start_time": "2021-06-20T18:35:41.527Z"
      },
      {
        "duration": 55,
        "start_time": "2021-06-20T18:35:47.978Z"
      },
      {
        "duration": 18,
        "start_time": "2021-06-20T18:35:48.615Z"
      },
      {
        "duration": 8,
        "start_time": "2021-06-20T18:35:57.951Z"
      },
      {
        "duration": 26,
        "start_time": "2021-06-20T18:36:30.438Z"
      },
      {
        "duration": 53,
        "start_time": "2021-06-20T18:36:34.412Z"
      },
      {
        "duration": 20,
        "start_time": "2021-06-20T18:36:35.170Z"
      },
      {
        "duration": 32,
        "start_time": "2021-06-20T18:36:49.998Z"
      },
      {
        "duration": 55,
        "start_time": "2021-06-20T18:36:53.991Z"
      },
      {
        "duration": 22,
        "start_time": "2021-06-20T18:36:54.643Z"
      },
      {
        "duration": 20,
        "start_time": "2021-06-20T18:37:08.803Z"
      },
      {
        "duration": 22,
        "start_time": "2021-06-20T18:37:16.099Z"
      },
      {
        "duration": 52,
        "start_time": "2021-06-20T18:37:21.638Z"
      },
      {
        "duration": 21,
        "start_time": "2021-06-20T18:37:22.250Z"
      },
      {
        "duration": 22,
        "start_time": "2021-06-20T18:37:45.100Z"
      },
      {
        "duration": 62,
        "start_time": "2021-06-20T18:37:49.695Z"
      },
      {
        "duration": 21,
        "start_time": "2021-06-20T18:37:50.546Z"
      },
      {
        "duration": 23,
        "start_time": "2021-06-20T18:39:12.521Z"
      },
      {
        "duration": 291,
        "start_time": "2021-06-20T18:40:24.318Z"
      },
      {
        "duration": 271,
        "start_time": "2021-06-20T18:40:32.353Z"
      },
      {
        "duration": 270,
        "start_time": "2021-06-20T18:40:42.881Z"
      },
      {
        "duration": 21,
        "start_time": "2021-06-20T18:40:54.537Z"
      },
      {
        "duration": 94,
        "start_time": "2021-06-20T18:44:02.758Z"
      },
      {
        "duration": 135,
        "start_time": "2021-06-20T18:44:10.607Z"
      },
      {
        "duration": 279,
        "start_time": "2021-06-20T18:44:16.606Z"
      },
      {
        "duration": 274,
        "start_time": "2021-06-20T18:44:32.178Z"
      },
      {
        "duration": 24,
        "start_time": "2021-06-20T18:44:41.892Z"
      },
      {
        "duration": 279,
        "start_time": "2021-06-20T18:44:52.738Z"
      },
      {
        "duration": 298,
        "start_time": "2021-06-20T18:45:41.646Z"
      },
      {
        "duration": 295,
        "start_time": "2021-06-20T18:46:08.150Z"
      },
      {
        "duration": 12,
        "start_time": "2021-06-20T18:46:31.858Z"
      },
      {
        "duration": 21,
        "start_time": "2021-06-20T18:46:40.218Z"
      },
      {
        "duration": 16,
        "start_time": "2021-06-20T18:46:59.563Z"
      },
      {
        "duration": 12,
        "start_time": "2021-06-20T18:47:19.154Z"
      },
      {
        "duration": 6735,
        "start_time": "2021-06-20T18:47:42.480Z"
      },
      {
        "duration": 6482,
        "start_time": "2021-06-20T18:47:52.060Z"
      },
      {
        "duration": 6497,
        "start_time": "2021-06-20T18:48:02.318Z"
      },
      {
        "duration": 21,
        "start_time": "2021-06-20T18:48:16.622Z"
      },
      {
        "duration": 6,
        "start_time": "2021-06-20T18:52:06.598Z"
      },
      {
        "duration": 6,
        "start_time": "2021-06-20T18:53:43.354Z"
      },
      {
        "duration": 6,
        "start_time": "2021-06-20T18:55:58.638Z"
      },
      {
        "duration": 7,
        "start_time": "2021-06-20T18:56:06.018Z"
      },
      {
        "duration": 7,
        "start_time": "2021-06-20T18:56:17.442Z"
      },
      {
        "duration": 7,
        "start_time": "2021-06-20T18:56:28.626Z"
      },
      {
        "duration": 7,
        "start_time": "2021-06-20T18:57:26.398Z"
      },
      {
        "duration": 6,
        "start_time": "2021-06-20T18:57:49.676Z"
      },
      {
        "duration": 436,
        "start_time": "2021-06-20T19:03:51.947Z"
      },
      {
        "duration": 531,
        "start_time": "2021-06-20T19:04:02.110Z"
      },
      {
        "duration": 18,
        "start_time": "2021-06-20T19:12:41.422Z"
      },
      {
        "duration": 90,
        "start_time": "2021-06-20T19:12:44.208Z"
      },
      {
        "duration": 545,
        "start_time": "2021-06-20T19:12:45.530Z"
      },
      {
        "duration": 29,
        "start_time": "2021-06-20T19:13:16.483Z"
      },
      {
        "duration": 522,
        "start_time": "2021-06-20T19:13:32.400Z"
      },
      {
        "duration": 4,
        "start_time": "2021-06-20T19:21:02.828Z"
      },
      {
        "duration": 555,
        "start_time": "2021-06-20T19:21:33.425Z"
      },
      {
        "duration": 568,
        "start_time": "2021-06-20T19:21:50.951Z"
      },
      {
        "duration": 557,
        "start_time": "2021-06-20T19:21:56.064Z"
      },
      {
        "duration": 7,
        "start_time": "2021-06-20T19:39:38.805Z"
      },
      {
        "duration": 276,
        "start_time": "2021-06-20T19:40:05.214Z"
      },
      {
        "duration": 285,
        "start_time": "2021-06-20T19:40:17.455Z"
      },
      {
        "duration": 284,
        "start_time": "2021-06-20T19:40:29.865Z"
      },
      {
        "duration": 273,
        "start_time": "2021-06-20T19:40:41.287Z"
      },
      {
        "duration": 6,
        "start_time": "2021-06-20T19:40:53.465Z"
      },
      {
        "duration": 280,
        "start_time": "2021-06-20T19:41:32.178Z"
      },
      {
        "duration": 29,
        "start_time": "2021-06-20T19:41:38.033Z"
      },
      {
        "duration": 29,
        "start_time": "2021-06-20T19:42:30.429Z"
      },
      {
        "duration": 812,
        "start_time": "2021-06-20T19:42:35.426Z"
      },
      {
        "duration": 72,
        "start_time": "2021-06-20T19:42:36.240Z"
      },
      {
        "duration": 52,
        "start_time": "2021-06-20T19:42:36.316Z"
      },
      {
        "duration": 239,
        "start_time": "2021-06-20T19:42:36.372Z"
      },
      {
        "duration": 50,
        "start_time": "2021-06-20T19:42:36.614Z"
      },
      {
        "duration": 17,
        "start_time": "2021-06-20T19:42:36.667Z"
      },
      {
        "duration": 36,
        "start_time": "2021-06-20T19:42:36.687Z"
      },
      {
        "duration": 42,
        "start_time": "2021-06-20T19:42:36.726Z"
      },
      {
        "duration": 20,
        "start_time": "2021-06-20T19:42:36.771Z"
      },
      {
        "duration": 15,
        "start_time": "2021-06-20T19:42:36.793Z"
      },
      {
        "duration": 338,
        "start_time": "2021-06-20T19:42:36.811Z"
      },
      {
        "duration": 371,
        "start_time": "2021-06-20T19:42:37.154Z"
      },
      {
        "duration": 5,
        "start_time": "2021-06-20T19:42:37.527Z"
      },
      {
        "duration": 1820,
        "start_time": "2021-06-20T19:42:37.534Z"
      },
      {
        "duration": 39,
        "start_time": "2021-06-20T19:42:39.357Z"
      },
      {
        "duration": 917,
        "start_time": "2021-06-20T19:42:39.398Z"
      },
      {
        "duration": 39,
        "start_time": "2021-06-20T19:42:40.317Z"
      },
      {
        "duration": 797,
        "start_time": "2021-06-20T19:42:40.359Z"
      },
      {
        "duration": 10,
        "start_time": "2021-06-20T19:42:41.158Z"
      },
      {
        "duration": 16,
        "start_time": "2021-06-20T19:42:41.170Z"
      },
      {
        "duration": 78,
        "start_time": "2021-06-20T19:42:41.188Z"
      },
      {
        "duration": 17,
        "start_time": "2021-06-20T19:42:41.269Z"
      },
      {
        "duration": 20,
        "start_time": "2021-06-20T19:42:41.293Z"
      },
      {
        "duration": 52,
        "start_time": "2021-06-20T19:42:41.317Z"
      },
      {
        "duration": 39,
        "start_time": "2021-06-20T19:42:41.371Z"
      },
      {
        "duration": 47,
        "start_time": "2021-06-20T19:42:41.412Z"
      },
      {
        "duration": 61,
        "start_time": "2021-06-20T19:42:41.462Z"
      },
      {
        "duration": 71,
        "start_time": "2021-06-20T19:42:41.525Z"
      },
      {
        "duration": 18,
        "start_time": "2021-06-20T19:42:41.598Z"
      },
      {
        "duration": 728,
        "start_time": "2021-06-20T19:42:41.619Z"
      },
      {
        "duration": 1071,
        "start_time": "2021-06-20T19:42:42.350Z"
      },
      {
        "duration": 7,
        "start_time": "2021-06-20T19:42:43.424Z"
      },
      {
        "duration": 43,
        "start_time": "2021-06-20T19:42:43.433Z"
      },
      {
        "duration": 186,
        "start_time": "2021-06-20T19:42:43.479Z"
      },
      {
        "duration": 9,
        "start_time": "2021-06-20T19:42:43.667Z"
      },
      {
        "duration": 33,
        "start_time": "2021-06-20T19:42:43.679Z"
      },
      {
        "duration": 43,
        "start_time": "2021-06-20T19:42:43.714Z"
      },
      {
        "duration": 6,
        "start_time": "2021-06-20T19:42:43.760Z"
      },
      {
        "duration": 25,
        "start_time": "2021-06-20T19:42:43.769Z"
      },
      {
        "duration": 23,
        "start_time": "2021-06-20T19:42:43.796Z"
      },
      {
        "duration": 65,
        "start_time": "2021-06-20T19:42:43.822Z"
      },
      {
        "duration": 21,
        "start_time": "2021-06-20T19:42:43.889Z"
      },
      {
        "duration": 63,
        "start_time": "2021-06-20T19:42:43.912Z"
      },
      {
        "duration": 21,
        "start_time": "2021-06-20T19:42:43.978Z"
      },
      {
        "duration": 525,
        "start_time": "2021-06-20T19:42:44.002Z"
      },
      {
        "duration": 25,
        "start_time": "2021-06-20T19:42:44.530Z"
      },
      {
        "duration": 17,
        "start_time": "2021-06-20T19:42:44.557Z"
      },
      {
        "duration": 18,
        "start_time": "2021-06-20T19:42:44.577Z"
      },
      {
        "duration": 10,
        "start_time": "2021-06-20T19:42:44.597Z"
      },
      {
        "duration": 51,
        "start_time": "2021-06-20T19:42:44.609Z"
      },
      {
        "duration": 24,
        "start_time": "2021-06-20T19:42:44.662Z"
      },
      {
        "duration": 16,
        "start_time": "2021-06-20T19:42:44.688Z"
      },
      {
        "duration": 57,
        "start_time": "2021-06-20T19:42:44.706Z"
      },
      {
        "duration": 22,
        "start_time": "2021-06-20T19:42:44.766Z"
      },
      {
        "duration": 13,
        "start_time": "2021-06-20T19:42:44.791Z"
      },
      {
        "duration": 17,
        "start_time": "2021-06-20T19:42:44.806Z"
      },
      {
        "duration": 26,
        "start_time": "2021-06-20T19:42:44.855Z"
      },
      {
        "duration": 79,
        "start_time": "2021-06-20T19:42:44.883Z"
      },
      {
        "duration": 53,
        "start_time": "2021-06-20T19:42:49.005Z"
      },
      {
        "duration": 30,
        "start_time": "2021-06-20T19:42:56.548Z"
      },
      {
        "duration": 92,
        "start_time": "2021-06-20T19:51:47.141Z"
      },
      {
        "duration": 290,
        "start_time": "2021-06-20T19:51:52.365Z"
      },
      {
        "duration": 24,
        "start_time": "2021-06-20T19:52:05.927Z"
      },
      {
        "duration": 290,
        "start_time": "2021-06-20T19:52:41.956Z"
      },
      {
        "duration": 51,
        "start_time": "2021-06-20T19:52:51.612Z"
      },
      {
        "duration": 271,
        "start_time": "2021-06-20T19:52:52.211Z"
      },
      {
        "duration": 296,
        "start_time": "2021-06-20T19:53:01.229Z"
      },
      {
        "duration": 283,
        "start_time": "2021-06-20T19:53:12.004Z"
      },
      {
        "duration": 25,
        "start_time": "2021-06-20T19:53:19.906Z"
      },
      {
        "duration": 11,
        "start_time": "2021-06-20T19:53:29.233Z"
      },
      {
        "duration": 52,
        "start_time": "2021-06-20T19:55:20.857Z"
      },
      {
        "duration": 27,
        "start_time": "2021-06-20T19:55:25.649Z"
      },
      {
        "duration": 52,
        "start_time": "2021-06-20T19:55:26.332Z"
      },
      {
        "duration": 286,
        "start_time": "2021-06-20T19:57:38.882Z"
      },
      {
        "duration": 12,
        "start_time": "2021-06-20T19:57:44.648Z"
      },
      {
        "duration": 271,
        "start_time": "2021-06-20T19:57:46.332Z"
      },
      {
        "duration": 98,
        "start_time": "2021-06-20T19:57:54.339Z"
      },
      {
        "duration": 21,
        "start_time": "2021-06-20T19:57:57.617Z"
      },
      {
        "duration": 4868,
        "start_time": "2021-06-20T19:58:00.108Z"
      },
      {
        "duration": 53,
        "start_time": "2021-06-20T19:58:16.004Z"
      },
      {
        "duration": 21,
        "start_time": "2021-06-20T19:58:16.614Z"
      },
      {
        "duration": 5046,
        "start_time": "2021-06-20T19:58:20.000Z"
      },
      {
        "duration": 50,
        "start_time": "2021-06-20T19:58:40.513Z"
      },
      {
        "duration": 21,
        "start_time": "2021-06-20T19:58:42.242Z"
      },
      {
        "duration": 750,
        "start_time": "2021-06-20T19:58:50.041Z"
      },
      {
        "duration": 76,
        "start_time": "2021-06-20T19:58:50.794Z"
      },
      {
        "duration": 34,
        "start_time": "2021-06-20T19:58:50.875Z"
      },
      {
        "duration": 262,
        "start_time": "2021-06-20T19:58:50.913Z"
      },
      {
        "duration": 44,
        "start_time": "2021-06-20T19:58:51.178Z"
      },
      {
        "duration": 45,
        "start_time": "2021-06-20T19:58:51.225Z"
      },
      {
        "duration": 34,
        "start_time": "2021-06-20T19:58:51.273Z"
      },
      {
        "duration": 48,
        "start_time": "2021-06-20T19:58:51.309Z"
      },
      {
        "duration": 12,
        "start_time": "2021-06-20T19:58:51.361Z"
      },
      {
        "duration": 13,
        "start_time": "2021-06-20T19:58:51.377Z"
      },
      {
        "duration": 351,
        "start_time": "2021-06-20T19:58:51.393Z"
      },
      {
        "duration": 396,
        "start_time": "2021-06-20T19:58:51.747Z"
      },
      {
        "duration": 11,
        "start_time": "2021-06-20T19:58:52.145Z"
      },
      {
        "duration": 1740,
        "start_time": "2021-06-20T19:58:52.159Z"
      },
      {
        "duration": 57,
        "start_time": "2021-06-20T19:58:53.902Z"
      },
      {
        "duration": 971,
        "start_time": "2021-06-20T19:58:53.962Z"
      },
      {
        "duration": 36,
        "start_time": "2021-06-20T19:58:54.935Z"
      },
      {
        "duration": 895,
        "start_time": "2021-06-20T19:58:54.974Z"
      },
      {
        "duration": 9,
        "start_time": "2021-06-20T19:58:55.872Z"
      },
      {
        "duration": 20,
        "start_time": "2021-06-20T19:58:55.883Z"
      },
      {
        "duration": 64,
        "start_time": "2021-06-20T19:58:55.905Z"
      },
      {
        "duration": 14,
        "start_time": "2021-06-20T19:58:55.971Z"
      },
      {
        "duration": 20,
        "start_time": "2021-06-20T19:58:55.988Z"
      },
      {
        "duration": 51,
        "start_time": "2021-06-20T19:58:56.010Z"
      },
      {
        "duration": 39,
        "start_time": "2021-06-20T19:58:56.064Z"
      },
      {
        "duration": 50,
        "start_time": "2021-06-20T19:58:56.106Z"
      },
      {
        "duration": 49,
        "start_time": "2021-06-20T19:58:56.163Z"
      },
      {
        "duration": 77,
        "start_time": "2021-06-20T19:58:56.215Z"
      },
      {
        "duration": 18,
        "start_time": "2021-06-20T19:58:56.294Z"
      },
      {
        "duration": 731,
        "start_time": "2021-06-20T19:58:56.315Z"
      },
      {
        "duration": 1071,
        "start_time": "2021-06-20T19:58:57.048Z"
      },
      {
        "duration": 7,
        "start_time": "2021-06-20T19:58:58.121Z"
      },
      {
        "duration": 47,
        "start_time": "2021-06-20T19:58:58.130Z"
      },
      {
        "duration": 194,
        "start_time": "2021-06-20T19:58:58.180Z"
      },
      {
        "duration": 10,
        "start_time": "2021-06-20T19:58:58.376Z"
      },
      {
        "duration": 36,
        "start_time": "2021-06-20T19:58:58.388Z"
      },
      {
        "duration": 39,
        "start_time": "2021-06-20T19:58:58.427Z"
      },
      {
        "duration": 7,
        "start_time": "2021-06-20T19:58:58.469Z"
      },
      {
        "duration": 35,
        "start_time": "2021-06-20T19:58:58.479Z"
      },
      {
        "duration": 43,
        "start_time": "2021-06-20T19:58:58.516Z"
      },
      {
        "duration": 39,
        "start_time": "2021-06-20T19:58:58.563Z"
      },
      {
        "duration": 51,
        "start_time": "2021-06-20T19:58:58.605Z"
      },
      {
        "duration": 32,
        "start_time": "2021-06-20T19:58:58.659Z"
      },
      {
        "duration": 19,
        "start_time": "2021-06-20T19:58:58.693Z"
      },
      {
        "duration": 540,
        "start_time": "2021-06-20T19:58:58.714Z"
      },
      {
        "duration": 14,
        "start_time": "2021-06-20T19:58:59.256Z"
      },
      {
        "duration": 31,
        "start_time": "2021-06-20T19:58:59.272Z"
      },
      {
        "duration": 16,
        "start_time": "2021-06-20T19:58:59.305Z"
      },
      {
        "duration": 32,
        "start_time": "2021-06-20T19:58:59.323Z"
      },
      {
        "duration": 10,
        "start_time": "2021-06-20T19:58:59.358Z"
      },
      {
        "duration": 24,
        "start_time": "2021-06-20T19:58:59.370Z"
      },
      {
        "duration": 22,
        "start_time": "2021-06-20T19:58:59.397Z"
      },
      {
        "duration": 61,
        "start_time": "2021-06-20T19:58:59.422Z"
      },
      {
        "duration": 24,
        "start_time": "2021-06-20T19:58:59.486Z"
      },
      {
        "duration": 47,
        "start_time": "2021-06-20T19:58:59.514Z"
      },
      {
        "duration": 18,
        "start_time": "2021-06-20T19:58:59.565Z"
      },
      {
        "duration": 36,
        "start_time": "2021-06-20T19:58:59.586Z"
      },
      {
        "duration": 71,
        "start_time": "2021-06-20T19:58:59.656Z"
      },
      {
        "duration": 20,
        "start_time": "2021-06-20T19:59:04.241Z"
      },
      {
        "duration": 48,
        "start_time": "2021-06-20T19:59:08.562Z"
      },
      {
        "duration": 21,
        "start_time": "2021-06-20T19:59:09.576Z"
      },
      {
        "duration": 10,
        "start_time": "2021-06-20T20:00:59.305Z"
      },
      {
        "duration": 266,
        "start_time": "2021-06-20T20:01:06.353Z"
      },
      {
        "duration": 10,
        "start_time": "2021-06-20T20:01:17.041Z"
      },
      {
        "duration": 47,
        "start_time": "2021-06-20T20:01:23.050Z"
      },
      {
        "duration": 10,
        "start_time": "2021-06-20T20:01:25.108Z"
      },
      {
        "duration": 278,
        "start_time": "2021-06-20T20:01:27.322Z"
      },
      {
        "duration": 22,
        "start_time": "2021-06-20T20:01:44.038Z"
      },
      {
        "duration": 277,
        "start_time": "2021-06-20T20:01:48.683Z"
      },
      {
        "duration": 276,
        "start_time": "2021-06-20T20:02:11.746Z"
      },
      {
        "duration": 23,
        "start_time": "2021-06-20T20:02:35.705Z"
      },
      {
        "duration": 4985,
        "start_time": "2021-06-20T20:02:38.743Z"
      },
      {
        "duration": 23,
        "start_time": "2021-06-20T20:02:48.727Z"
      },
      {
        "duration": 20,
        "start_time": "2021-06-20T20:03:32.686Z"
      },
      {
        "duration": 50,
        "start_time": "2021-06-20T20:03:39.712Z"
      },
      {
        "duration": 20,
        "start_time": "2021-06-20T20:03:40.268Z"
      },
      {
        "duration": 21,
        "start_time": "2021-06-20T20:04:23.180Z"
      },
      {
        "duration": 20,
        "start_time": "2021-06-20T20:04:45.944Z"
      },
      {
        "duration": 17,
        "start_time": "2021-06-20T20:05:38.821Z"
      },
      {
        "duration": 15,
        "start_time": "2021-06-20T20:05:45.255Z"
      },
      {
        "duration": 13,
        "start_time": "2021-06-20T20:05:50.944Z"
      },
      {
        "duration": 19,
        "start_time": "2021-06-20T20:06:07.401Z"
      },
      {
        "duration": 19,
        "start_time": "2021-06-20T20:06:27.994Z"
      },
      {
        "duration": 20,
        "start_time": "2021-06-20T20:06:33.795Z"
      },
      {
        "duration": 21,
        "start_time": "2021-06-20T20:07:06.890Z"
      },
      {
        "duration": 8,
        "start_time": "2021-06-20T20:08:21.988Z"
      },
      {
        "duration": 265,
        "start_time": "2021-06-20T20:13:12.746Z"
      },
      {
        "duration": 318,
        "start_time": "2021-06-20T20:13:21.972Z"
      },
      {
        "duration": 7031,
        "start_time": "2021-06-20T20:13:39.967Z"
      },
      {
        "duration": 5029,
        "start_time": "2021-06-20T20:13:56.817Z"
      },
      {
        "duration": 7,
        "start_time": "2021-06-20T20:14:03.958Z"
      },
      {
        "duration": 6,
        "start_time": "2021-06-20T20:14:37.345Z"
      },
      {
        "duration": 7,
        "start_time": "2021-06-20T20:14:49.204Z"
      },
      {
        "duration": 6,
        "start_time": "2021-06-20T20:15:15.543Z"
      },
      {
        "duration": 23,
        "start_time": "2021-06-20T20:15:19.425Z"
      },
      {
        "duration": 6,
        "start_time": "2021-06-20T20:15:21.975Z"
      },
      {
        "duration": 12,
        "start_time": "2021-06-20T20:15:29.984Z"
      },
      {
        "duration": 21,
        "start_time": "2021-06-20T20:16:03.187Z"
      },
      {
        "duration": 16,
        "start_time": "2021-06-20T20:16:19.952Z"
      },
      {
        "duration": 14,
        "start_time": "2021-06-20T20:16:39.866Z"
      },
      {
        "duration": 15,
        "start_time": "2021-06-20T20:16:52.572Z"
      },
      {
        "duration": 7,
        "start_time": "2021-06-20T20:17:12.033Z"
      },
      {
        "duration": 7,
        "start_time": "2021-06-20T20:17:19.118Z"
      },
      {
        "duration": 5641,
        "start_time": "2021-06-20T20:17:24.809Z"
      },
      {
        "duration": 10,
        "start_time": "2021-06-20T20:17:38.188Z"
      },
      {
        "duration": 5212,
        "start_time": "2021-06-20T20:18:08.803Z"
      },
      {
        "duration": 266,
        "start_time": "2021-06-20T20:18:27.346Z"
      },
      {
        "duration": 11,
        "start_time": "2021-06-20T20:18:43.364Z"
      },
      {
        "duration": 272,
        "start_time": "2021-06-20T20:18:58.356Z"
      },
      {
        "duration": 300,
        "start_time": "2021-06-20T20:19:05.552Z"
      },
      {
        "duration": 11,
        "start_time": "2021-06-20T20:19:09.782Z"
      },
      {
        "duration": 14,
        "start_time": "2021-06-20T20:19:17.595Z"
      },
      {
        "duration": 17,
        "start_time": "2021-06-20T20:19:33.375Z"
      },
      {
        "duration": 16,
        "start_time": "2021-06-20T20:20:01.875Z"
      },
      {
        "duration": 342,
        "start_time": "2021-06-20T20:20:07.310Z"
      },
      {
        "duration": 9,
        "start_time": "2021-06-20T20:20:17.587Z"
      },
      {
        "duration": 87,
        "start_time": "2021-06-20T20:20:47.928Z"
      },
      {
        "duration": 10,
        "start_time": "2021-06-20T20:20:53.564Z"
      },
      {
        "duration": 14,
        "start_time": "2021-06-20T20:20:59.542Z"
      },
      {
        "duration": 8,
        "start_time": "2021-06-20T20:21:15.730Z"
      },
      {
        "duration": 9,
        "start_time": "2021-06-20T20:21:31.177Z"
      },
      {
        "duration": 15,
        "start_time": "2021-06-20T20:25:45.248Z"
      },
      {
        "duration": 21,
        "start_time": "2021-06-20T20:25:51.910Z"
      },
      {
        "duration": 9,
        "start_time": "2021-06-20T20:30:26.543Z"
      },
      {
        "duration": 11,
        "start_time": "2021-06-20T20:30:32.908Z"
      },
      {
        "duration": 16,
        "start_time": "2021-06-20T20:30:39.807Z"
      },
      {
        "duration": 4,
        "start_time": "2021-06-20T20:32:05.029Z"
      },
      {
        "duration": 7,
        "start_time": "2021-06-20T20:32:11.982Z"
      },
      {
        "duration": 20,
        "start_time": "2021-06-20T20:32:22.514Z"
      },
      {
        "duration": 19,
        "start_time": "2021-06-20T20:32:36.644Z"
      },
      {
        "duration": 19,
        "start_time": "2021-06-20T20:32:46.603Z"
      },
      {
        "duration": 284,
        "start_time": "2021-06-20T20:32:55.799Z"
      },
      {
        "duration": 19,
        "start_time": "2021-06-20T20:35:09.686Z"
      },
      {
        "duration": 270,
        "start_time": "2021-06-20T20:36:24.860Z"
      },
      {
        "duration": 271,
        "start_time": "2021-06-20T20:37:03.644Z"
      },
      {
        "duration": 271,
        "start_time": "2021-06-20T20:37:14.095Z"
      },
      {
        "duration": 285,
        "start_time": "2021-06-20T20:37:21.517Z"
      },
      {
        "duration": 19,
        "start_time": "2021-06-20T20:37:29.169Z"
      },
      {
        "duration": 14,
        "start_time": "2021-06-20T20:40:25.355Z"
      },
      {
        "duration": 18,
        "start_time": "2021-06-20T20:40:58.986Z"
      },
      {
        "duration": 17,
        "start_time": "2021-06-20T20:41:03.774Z"
      },
      {
        "duration": 808,
        "start_time": "2021-06-20T20:41:13.434Z"
      },
      {
        "duration": 76,
        "start_time": "2021-06-20T20:41:14.245Z"
      },
      {
        "duration": 49,
        "start_time": "2021-06-20T20:41:14.325Z"
      },
      {
        "duration": 258,
        "start_time": "2021-06-20T20:41:14.377Z"
      },
      {
        "duration": 45,
        "start_time": "2021-06-20T20:41:14.638Z"
      },
      {
        "duration": 18,
        "start_time": "2021-06-20T20:41:14.685Z"
      },
      {
        "duration": 64,
        "start_time": "2021-06-20T20:41:14.705Z"
      },
      {
        "duration": 23,
        "start_time": "2021-06-20T20:41:14.773Z"
      },
      {
        "duration": 18,
        "start_time": "2021-06-20T20:41:14.800Z"
      },
      {
        "duration": 40,
        "start_time": "2021-06-20T20:41:14.821Z"
      },
      {
        "duration": 321,
        "start_time": "2021-06-20T20:41:14.863Z"
      },
      {
        "duration": 382,
        "start_time": "2021-06-20T20:41:15.187Z"
      },
      {
        "duration": 8,
        "start_time": "2021-06-20T20:41:15.572Z"
      },
      {
        "duration": 1847,
        "start_time": "2021-06-20T20:41:15.583Z"
      },
      {
        "duration": 48,
        "start_time": "2021-06-20T20:41:17.433Z"
      },
      {
        "duration": 855,
        "start_time": "2021-06-20T20:41:17.483Z"
      },
      {
        "duration": 33,
        "start_time": "2021-06-20T20:41:18.341Z"
      },
      {
        "duration": 783,
        "start_time": "2021-06-20T20:41:18.376Z"
      },
      {
        "duration": 9,
        "start_time": "2021-06-20T20:41:19.162Z"
      },
      {
        "duration": 13,
        "start_time": "2021-06-20T20:41:19.174Z"
      },
      {
        "duration": 72,
        "start_time": "2021-06-20T20:41:19.190Z"
      },
      {
        "duration": 15,
        "start_time": "2021-06-20T20:41:19.265Z"
      },
      {
        "duration": 19,
        "start_time": "2021-06-20T20:41:19.282Z"
      },
      {
        "duration": 51,
        "start_time": "2021-06-20T20:41:19.303Z"
      },
      {
        "duration": 39,
        "start_time": "2021-06-20T20:41:19.357Z"
      },
      {
        "duration": 144,
        "start_time": "2021-06-20T20:41:19.398Z"
      },
      {
        "duration": 43,
        "start_time": "2021-06-20T20:41:19.561Z"
      },
      {
        "duration": 68,
        "start_time": "2021-06-20T20:41:19.607Z"
      },
      {
        "duration": 18,
        "start_time": "2021-06-20T20:41:19.677Z"
      },
      {
        "duration": 737,
        "start_time": "2021-06-20T20:41:19.697Z"
      },
      {
        "duration": 1080,
        "start_time": "2021-06-20T20:41:20.437Z"
      },
      {
        "duration": 7,
        "start_time": "2021-06-20T20:41:21.519Z"
      },
      {
        "duration": 47,
        "start_time": "2021-06-20T20:41:21.528Z"
      },
      {
        "duration": 184,
        "start_time": "2021-06-20T20:41:21.578Z"
      },
      {
        "duration": 8,
        "start_time": "2021-06-20T20:41:21.765Z"
      },
      {
        "duration": 37,
        "start_time": "2021-06-20T20:41:21.776Z"
      },
      {
        "duration": 40,
        "start_time": "2021-06-20T20:41:21.815Z"
      },
      {
        "duration": 7,
        "start_time": "2021-06-20T20:41:21.857Z"
      },
      {
        "duration": 29,
        "start_time": "2021-06-20T20:41:21.866Z"
      },
      {
        "duration": 22,
        "start_time": "2021-06-20T20:41:21.897Z"
      },
      {
        "duration": 61,
        "start_time": "2021-06-20T20:41:21.921Z"
      },
      {
        "duration": 21,
        "start_time": "2021-06-20T20:41:21.985Z"
      },
      {
        "duration": 62,
        "start_time": "2021-06-20T20:41:22.008Z"
      },
      {
        "duration": 20,
        "start_time": "2021-06-20T20:41:22.072Z"
      },
      {
        "duration": 516,
        "start_time": "2021-06-20T20:41:22.094Z"
      },
      {
        "duration": 14,
        "start_time": "2021-06-20T20:41:22.613Z"
      },
      {
        "duration": 30,
        "start_time": "2021-06-20T20:41:22.630Z"
      },
      {
        "duration": 15,
        "start_time": "2021-06-20T20:41:22.663Z"
      },
      {
        "duration": 10,
        "start_time": "2021-06-20T20:41:22.681Z"
      },
      {
        "duration": 11,
        "start_time": "2021-06-20T20:41:22.693Z"
      },
      {
        "duration": 69,
        "start_time": "2021-06-20T20:41:22.707Z"
      },
      {
        "duration": 17,
        "start_time": "2021-06-20T20:41:22.778Z"
      },
      {
        "duration": 29,
        "start_time": "2021-06-20T20:41:22.797Z"
      },
      {
        "duration": 47,
        "start_time": "2021-06-20T20:41:22.828Z"
      },
      {
        "duration": 14,
        "start_time": "2021-06-20T20:41:22.878Z"
      },
      {
        "duration": 22,
        "start_time": "2021-06-20T20:41:22.895Z"
      },
      {
        "duration": 50,
        "start_time": "2021-06-20T20:41:22.920Z"
      },
      {
        "duration": 17,
        "start_time": "2021-06-20T20:41:50.687Z"
      },
      {
        "duration": 37,
        "start_time": "2021-06-20T20:41:59.807Z"
      },
      {
        "duration": 15,
        "start_time": "2021-06-20T20:44:19.604Z"
      },
      {
        "duration": 17,
        "start_time": "2021-06-20T20:44:24.946Z"
      },
      {
        "duration": 15,
        "start_time": "2021-06-20T20:44:26.354Z"
      },
      {
        "duration": 782,
        "start_time": "2021-06-20T20:44:34.158Z"
      },
      {
        "duration": 75,
        "start_time": "2021-06-20T20:44:34.943Z"
      },
      {
        "duration": 48,
        "start_time": "2021-06-20T20:44:35.021Z"
      },
      {
        "duration": 231,
        "start_time": "2021-06-20T20:44:35.072Z"
      },
      {
        "duration": 52,
        "start_time": "2021-06-20T20:44:35.306Z"
      },
      {
        "duration": 21,
        "start_time": "2021-06-20T20:44:35.361Z"
      },
      {
        "duration": 70,
        "start_time": "2021-06-20T20:44:35.385Z"
      },
      {
        "duration": 16,
        "start_time": "2021-06-20T20:44:35.461Z"
      },
      {
        "duration": 13,
        "start_time": "2021-06-20T20:44:35.482Z"
      },
      {
        "duration": 56,
        "start_time": "2021-06-20T20:44:35.498Z"
      },
      {
        "duration": 317,
        "start_time": "2021-06-20T20:44:35.557Z"
      },
      {
        "duration": 377,
        "start_time": "2021-06-20T20:44:35.877Z"
      },
      {
        "duration": 7,
        "start_time": "2021-06-20T20:44:36.257Z"
      },
      {
        "duration": 1987,
        "start_time": "2021-06-20T20:44:36.267Z"
      },
      {
        "duration": 40,
        "start_time": "2021-06-20T20:44:38.257Z"
      },
      {
        "duration": 870,
        "start_time": "2021-06-20T20:44:38.300Z"
      },
      {
        "duration": 27,
        "start_time": "2021-06-20T20:44:39.173Z"
      },
      {
        "duration": 865,
        "start_time": "2021-06-20T20:44:39.203Z"
      },
      {
        "duration": 11,
        "start_time": "2021-06-20T20:44:40.070Z"
      },
      {
        "duration": 17,
        "start_time": "2021-06-20T20:44:40.083Z"
      },
      {
        "duration": 72,
        "start_time": "2021-06-20T20:44:40.102Z"
      },
      {
        "duration": 15,
        "start_time": "2021-06-20T20:44:40.177Z"
      },
      {
        "duration": 18,
        "start_time": "2021-06-20T20:44:40.198Z"
      },
      {
        "duration": 47,
        "start_time": "2021-06-20T20:44:40.220Z"
      },
      {
        "duration": 39,
        "start_time": "2021-06-20T20:44:40.269Z"
      },
      {
        "duration": 51,
        "start_time": "2021-06-20T20:44:40.310Z"
      },
      {
        "duration": 48,
        "start_time": "2021-06-20T20:44:40.364Z"
      },
      {
        "duration": 69,
        "start_time": "2021-06-20T20:44:40.414Z"
      },
      {
        "duration": 17,
        "start_time": "2021-06-20T20:44:40.485Z"
      },
      {
        "duration": 722,
        "start_time": "2021-06-20T20:44:40.504Z"
      },
      {
        "duration": 1151,
        "start_time": "2021-06-20T20:44:41.228Z"
      },
      {
        "duration": 8,
        "start_time": "2021-06-20T20:44:42.382Z"
      },
      {
        "duration": 59,
        "start_time": "2021-06-20T20:44:42.393Z"
      },
      {
        "duration": 181,
        "start_time": "2021-06-20T20:44:42.455Z"
      },
      {
        "duration": 18,
        "start_time": "2021-06-20T20:44:42.638Z"
      },
      {
        "duration": 35,
        "start_time": "2021-06-20T20:44:42.659Z"
      },
      {
        "duration": 38,
        "start_time": "2021-06-20T20:44:42.696Z"
      },
      {
        "duration": 7,
        "start_time": "2021-06-20T20:44:42.736Z"
      },
      {
        "duration": 30,
        "start_time": "2021-06-20T20:44:42.746Z"
      },
      {
        "duration": 25,
        "start_time": "2021-06-20T20:44:42.779Z"
      },
      {
        "duration": 71,
        "start_time": "2021-06-20T20:44:42.807Z"
      },
      {
        "duration": 24,
        "start_time": "2021-06-20T20:44:42.881Z"
      },
      {
        "duration": 60,
        "start_time": "2021-06-20T20:44:42.907Z"
      },
      {
        "duration": 21,
        "start_time": "2021-06-20T20:44:42.969Z"
      },
      {
        "duration": 513,
        "start_time": "2021-06-20T20:44:42.993Z"
      },
      {
        "duration": 13,
        "start_time": "2021-06-20T20:44:43.509Z"
      },
      {
        "duration": 35,
        "start_time": "2021-06-20T20:44:43.524Z"
      },
      {
        "duration": 16,
        "start_time": "2021-06-20T20:44:43.561Z"
      },
      {
        "duration": 10,
        "start_time": "2021-06-20T20:44:43.579Z"
      },
      {
        "duration": 17,
        "start_time": "2021-06-20T20:44:43.591Z"
      },
      {
        "duration": 56,
        "start_time": "2021-06-20T20:44:43.610Z"
      },
      {
        "duration": 15,
        "start_time": "2021-06-20T20:44:43.669Z"
      },
      {
        "duration": 29,
        "start_time": "2021-06-20T20:44:43.687Z"
      },
      {
        "duration": 49,
        "start_time": "2021-06-20T20:44:43.718Z"
      },
      {
        "duration": 124,
        "start_time": "2021-06-20T20:44:43.770Z"
      },
      {
        "duration": 20,
        "start_time": "2021-06-20T20:44:48.486Z"
      },
      {
        "duration": 25,
        "start_time": "2021-06-20T20:44:51.595Z"
      },
      {
        "duration": 39,
        "start_time": "2021-06-20T20:44:52.820Z"
      },
      {
        "duration": 96,
        "start_time": "2021-06-20T20:53:45.092Z"
      },
      {
        "duration": 116,
        "start_time": "2021-06-20T20:53:53.274Z"
      },
      {
        "duration": 93,
        "start_time": "2021-06-20T20:53:57.596Z"
      },
      {
        "duration": 91,
        "start_time": "2021-06-20T20:54:02.546Z"
      },
      {
        "duration": 93,
        "start_time": "2021-06-20T20:54:12.535Z"
      },
      {
        "duration": 87,
        "start_time": "2021-06-20T20:54:20.516Z"
      },
      {
        "duration": 105,
        "start_time": "2021-06-20T20:54:32.316Z"
      },
      {
        "duration": 98,
        "start_time": "2021-06-20T20:55:23.913Z"
      },
      {
        "duration": 93,
        "start_time": "2021-06-20T20:57:34.868Z"
      },
      {
        "duration": 16,
        "start_time": "2021-06-20T20:57:44.443Z"
      },
      {
        "duration": 19,
        "start_time": "2021-06-20T20:57:51.168Z"
      },
      {
        "duration": 35,
        "start_time": "2021-06-20T20:57:51.896Z"
      },
      {
        "duration": 31,
        "start_time": "2021-06-20T20:57:56.524Z"
      },
      {
        "duration": 758,
        "start_time": "2021-06-20T20:58:10.329Z"
      },
      {
        "duration": 73,
        "start_time": "2021-06-20T20:58:11.090Z"
      },
      {
        "duration": 33,
        "start_time": "2021-06-20T20:58:11.165Z"
      },
      {
        "duration": 244,
        "start_time": "2021-06-20T20:58:11.201Z"
      },
      {
        "duration": 39,
        "start_time": "2021-06-20T20:58:11.447Z"
      },
      {
        "duration": 17,
        "start_time": "2021-06-20T20:58:11.488Z"
      },
      {
        "duration": 67,
        "start_time": "2021-06-20T20:58:11.507Z"
      },
      {
        "duration": 15,
        "start_time": "2021-06-20T20:58:11.577Z"
      },
      {
        "duration": 19,
        "start_time": "2021-06-20T20:58:11.597Z"
      },
      {
        "duration": 43,
        "start_time": "2021-06-20T20:58:11.619Z"
      },
      {
        "duration": 317,
        "start_time": "2021-06-20T20:58:11.665Z"
      },
      {
        "duration": 381,
        "start_time": "2021-06-20T20:58:11.985Z"
      },
      {
        "duration": 6,
        "start_time": "2021-06-20T20:58:12.369Z"
      },
      {
        "duration": 1722,
        "start_time": "2021-06-20T20:58:12.378Z"
      },
      {
        "duration": 37,
        "start_time": "2021-06-20T20:58:14.103Z"
      },
      {
        "duration": 860,
        "start_time": "2021-06-20T20:58:14.154Z"
      },
      {
        "duration": 24,
        "start_time": "2021-06-20T20:58:15.016Z"
      },
      {
        "duration": 764,
        "start_time": "2021-06-20T20:58:15.055Z"
      },
      {
        "duration": 9,
        "start_time": "2021-06-20T20:58:15.821Z"
      },
      {
        "duration": 31,
        "start_time": "2021-06-20T20:58:15.833Z"
      },
      {
        "duration": 39,
        "start_time": "2021-06-20T20:58:15.866Z"
      },
      {
        "duration": 14,
        "start_time": "2021-06-20T20:58:15.908Z"
      },
      {
        "duration": 47,
        "start_time": "2021-06-20T20:58:15.924Z"
      },
      {
        "duration": 24,
        "start_time": "2021-06-20T20:58:15.974Z"
      },
      {
        "duration": 77,
        "start_time": "2021-06-20T20:58:16.001Z"
      },
      {
        "duration": 27,
        "start_time": "2021-06-20T20:58:16.081Z"
      },
      {
        "duration": 73,
        "start_time": "2021-06-20T20:58:16.116Z"
      },
      {
        "duration": 75,
        "start_time": "2021-06-20T20:58:16.194Z"
      },
      {
        "duration": 19,
        "start_time": "2021-06-20T20:58:16.272Z"
      },
      {
        "duration": 730,
        "start_time": "2021-06-20T20:58:16.295Z"
      },
      {
        "duration": 1090,
        "start_time": "2021-06-20T20:58:17.028Z"
      },
      {
        "duration": 10,
        "start_time": "2021-06-20T20:58:18.121Z"
      },
      {
        "duration": 28,
        "start_time": "2021-06-20T20:58:18.154Z"
      },
      {
        "duration": 193,
        "start_time": "2021-06-20T20:58:18.185Z"
      },
      {
        "duration": 9,
        "start_time": "2021-06-20T20:58:18.381Z"
      },
      {
        "duration": 42,
        "start_time": "2021-06-20T20:58:18.392Z"
      },
      {
        "duration": 32,
        "start_time": "2021-06-20T20:58:18.436Z"
      },
      {
        "duration": 7,
        "start_time": "2021-06-20T20:58:18.470Z"
      },
      {
        "duration": 32,
        "start_time": "2021-06-20T20:58:18.479Z"
      },
      {
        "duration": 42,
        "start_time": "2021-06-20T20:58:18.514Z"
      },
      {
        "duration": 35,
        "start_time": "2021-06-20T20:58:18.559Z"
      },
      {
        "duration": 19,
        "start_time": "2021-06-20T20:58:18.597Z"
      },
      {
        "duration": 60,
        "start_time": "2021-06-20T20:58:18.619Z"
      },
      {
        "duration": 20,
        "start_time": "2021-06-20T20:58:18.682Z"
      },
      {
        "duration": 537,
        "start_time": "2021-06-20T20:58:18.705Z"
      },
      {
        "duration": 22,
        "start_time": "2021-06-20T20:58:19.244Z"
      },
      {
        "duration": 16,
        "start_time": "2021-06-20T20:58:19.268Z"
      },
      {
        "duration": 16,
        "start_time": "2021-06-20T20:58:19.287Z"
      },
      {
        "duration": 49,
        "start_time": "2021-06-20T20:58:19.305Z"
      },
      {
        "duration": 12,
        "start_time": "2021-06-20T20:58:19.357Z"
      },
      {
        "duration": 25,
        "start_time": "2021-06-20T20:58:19.371Z"
      },
      {
        "duration": 22,
        "start_time": "2021-06-20T20:58:19.399Z"
      },
      {
        "duration": 62,
        "start_time": "2021-06-20T20:58:19.424Z"
      },
      {
        "duration": 23,
        "start_time": "2021-06-20T20:58:19.489Z"
      },
      {
        "duration": 43,
        "start_time": "2021-06-20T20:58:19.514Z"
      },
      {
        "duration": 20,
        "start_time": "2021-06-20T20:58:19.559Z"
      },
      {
        "duration": 29,
        "start_time": "2021-06-20T20:58:19.581Z"
      },
      {
        "duration": 43,
        "start_time": "2021-06-20T20:58:33.871Z"
      },
      {
        "duration": 15,
        "start_time": "2021-06-20T20:58:47.555Z"
      },
      {
        "duration": 44,
        "start_time": "2021-06-20T20:58:48.863Z"
      },
      {
        "duration": 17,
        "start_time": "2021-06-20T21:01:27.483Z"
      },
      {
        "duration": 14,
        "start_time": "2021-06-20T21:01:37.569Z"
      },
      {
        "duration": 49,
        "start_time": "2021-06-20T21:01:38.594Z"
      },
      {
        "duration": 34,
        "start_time": "2021-06-20T21:01:39.871Z"
      },
      {
        "duration": 46,
        "start_time": "2021-06-20T21:02:17.402Z"
      },
      {
        "duration": 14,
        "start_time": "2021-06-20T21:02:44.309Z"
      },
      {
        "duration": 45,
        "start_time": "2021-06-20T21:02:46.740Z"
      },
      {
        "duration": 797,
        "start_time": "2021-06-20T21:03:17.212Z"
      },
      {
        "duration": 73,
        "start_time": "2021-06-20T21:03:18.012Z"
      },
      {
        "duration": 34,
        "start_time": "2021-06-20T21:03:18.088Z"
      },
      {
        "duration": 243,
        "start_time": "2021-06-20T21:03:18.125Z"
      },
      {
        "duration": 41,
        "start_time": "2021-06-20T21:03:18.371Z"
      },
      {
        "duration": 42,
        "start_time": "2021-06-20T21:03:18.415Z"
      },
      {
        "duration": 35,
        "start_time": "2021-06-20T21:03:18.460Z"
      },
      {
        "duration": 15,
        "start_time": "2021-06-20T21:03:18.497Z"
      },
      {
        "duration": 49,
        "start_time": "2021-06-20T21:03:18.516Z"
      },
      {
        "duration": 15,
        "start_time": "2021-06-20T21:03:18.568Z"
      },
      {
        "duration": 329,
        "start_time": "2021-06-20T21:03:18.585Z"
      },
      {
        "duration": 371,
        "start_time": "2021-06-20T21:03:18.916Z"
      },
      {
        "duration": 7,
        "start_time": "2021-06-20T21:03:19.289Z"
      },
      {
        "duration": 1798,
        "start_time": "2021-06-20T21:03:19.299Z"
      },
      {
        "duration": 56,
        "start_time": "2021-06-20T21:03:21.100Z"
      },
      {
        "duration": 854,
        "start_time": "2021-06-20T21:03:21.159Z"
      },
      {
        "duration": 40,
        "start_time": "2021-06-20T21:03:22.016Z"
      },
      {
        "duration": 874,
        "start_time": "2021-06-20T21:03:22.058Z"
      },
      {
        "duration": 22,
        "start_time": "2021-06-20T21:03:22.934Z"
      },
      {
        "duration": 15,
        "start_time": "2021-06-20T21:03:22.958Z"
      },
      {
        "duration": 46,
        "start_time": "2021-06-20T21:03:22.975Z"
      },
      {
        "duration": 40,
        "start_time": "2021-06-20T21:03:23.024Z"
      },
      {
        "duration": 19,
        "start_time": "2021-06-20T21:03:23.066Z"
      },
      {
        "duration": 22,
        "start_time": "2021-06-20T21:03:23.088Z"
      },
      {
        "duration": 78,
        "start_time": "2021-06-20T21:03:23.113Z"
      },
      {
        "duration": 27,
        "start_time": "2021-06-20T21:03:23.194Z"
      },
      {
        "duration": 43,
        "start_time": "2021-06-20T21:03:23.258Z"
      },
      {
        "duration": 69,
        "start_time": "2021-06-20T21:03:23.305Z"
      },
      {
        "duration": 18,
        "start_time": "2021-06-20T21:03:23.376Z"
      },
      {
        "duration": 746,
        "start_time": "2021-06-20T21:03:23.397Z"
      },
      {
        "duration": 1160,
        "start_time": "2021-06-20T21:03:24.145Z"
      },
      {
        "duration": 7,
        "start_time": "2021-06-20T21:03:25.308Z"
      },
      {
        "duration": 52,
        "start_time": "2021-06-20T21:03:25.318Z"
      },
      {
        "duration": 185,
        "start_time": "2021-06-20T21:03:25.373Z"
      },
      {
        "duration": 9,
        "start_time": "2021-06-20T21:03:25.561Z"
      },
      {
        "duration": 38,
        "start_time": "2021-06-20T21:03:25.573Z"
      },
      {
        "duration": 41,
        "start_time": "2021-06-20T21:03:25.613Z"
      },
      {
        "duration": 8,
        "start_time": "2021-06-20T21:03:25.657Z"
      },
      {
        "duration": 49,
        "start_time": "2021-06-20T21:03:25.667Z"
      },
      {
        "duration": 21,
        "start_time": "2021-06-20T21:03:25.718Z"
      },
      {
        "duration": 40,
        "start_time": "2021-06-20T21:03:25.742Z"
      },
      {
        "duration": 21,
        "start_time": "2021-06-20T21:03:25.784Z"
      },
      {
        "duration": 66,
        "start_time": "2021-06-20T21:03:25.808Z"
      },
      {
        "duration": 20,
        "start_time": "2021-06-20T21:03:25.876Z"
      },
      {
        "duration": 508,
        "start_time": "2021-06-20T21:03:25.899Z"
      },
      {
        "duration": 13,
        "start_time": "2021-06-20T21:03:26.410Z"
      },
      {
        "duration": 38,
        "start_time": "2021-06-20T21:03:26.426Z"
      },
      {
        "duration": 16,
        "start_time": "2021-06-20T21:03:26.467Z"
      },
      {
        "duration": 12,
        "start_time": "2021-06-20T21:03:26.485Z"
      },
      {
        "duration": 12,
        "start_time": "2021-06-20T21:03:26.500Z"
      },
      {
        "duration": 55,
        "start_time": "2021-06-20T21:03:26.515Z"
      },
      {
        "duration": 16,
        "start_time": "2021-06-20T21:03:26.573Z"
      },
      {
        "duration": 36,
        "start_time": "2021-06-20T21:03:26.592Z"
      },
      {
        "duration": 43,
        "start_time": "2021-06-20T21:03:26.630Z"
      },
      {
        "duration": 23,
        "start_time": "2021-06-20T21:03:26.675Z"
      },
      {
        "duration": 17,
        "start_time": "2021-06-20T21:03:26.700Z"
      },
      {
        "duration": 39,
        "start_time": "2021-06-20T21:03:26.719Z"
      },
      {
        "duration": 49,
        "start_time": "2021-06-20T21:03:30.420Z"
      },
      {
        "duration": 17,
        "start_time": "2021-06-20T21:04:30.016Z"
      },
      {
        "duration": 14,
        "start_time": "2021-06-20T21:04:32.283Z"
      },
      {
        "duration": 42,
        "start_time": "2021-06-20T21:04:35.131Z"
      },
      {
        "duration": 20,
        "start_time": "2021-06-20T21:04:35.443Z"
      },
      {
        "duration": 9,
        "start_time": "2021-06-20T21:07:14.010Z"
      },
      {
        "duration": 9,
        "start_time": "2021-06-20T21:07:46.476Z"
      },
      {
        "duration": 9,
        "start_time": "2021-06-20T21:08:11.786Z"
      },
      {
        "duration": 7,
        "start_time": "2021-06-20T21:08:23.690Z"
      },
      {
        "duration": 7,
        "start_time": "2021-06-20T21:08:38.514Z"
      },
      {
        "duration": 339,
        "start_time": "2021-06-20T21:10:00.305Z"
      },
      {
        "duration": 4841,
        "start_time": "2021-06-20T21:10:14.265Z"
      },
      {
        "duration": 7,
        "start_time": "2021-06-20T21:10:28.033Z"
      },
      {
        "duration": 7,
        "start_time": "2021-06-20T21:15:08.730Z"
      },
      {
        "duration": 8,
        "start_time": "2021-06-20T21:15:32.369Z"
      },
      {
        "duration": 8,
        "start_time": "2021-06-20T21:23:08.592Z"
      },
      {
        "duration": 8,
        "start_time": "2021-06-20T21:23:12.859Z"
      },
      {
        "duration": 18,
        "start_time": "2021-06-20T21:23:24.771Z"
      },
      {
        "duration": 23,
        "start_time": "2021-06-20T21:23:34.523Z"
      },
      {
        "duration": 9,
        "start_time": "2021-06-20T21:23:45.099Z"
      },
      {
        "duration": 9,
        "start_time": "2021-06-20T21:24:47.944Z"
      },
      {
        "duration": 15,
        "start_time": "2021-06-20T21:25:07.530Z"
      },
      {
        "duration": 17,
        "start_time": "2021-06-20T21:25:37.946Z"
      },
      {
        "duration": 8,
        "start_time": "2021-06-20T21:27:08.685Z"
      },
      {
        "duration": 16,
        "start_time": "2021-06-20T21:27:28.830Z"
      },
      {
        "duration": 8,
        "start_time": "2021-06-20T21:28:00.170Z"
      },
      {
        "duration": 21,
        "start_time": "2021-06-20T21:30:01.218Z"
      },
      {
        "duration": 22,
        "start_time": "2021-06-20T21:30:02.630Z"
      },
      {
        "duration": 46,
        "start_time": "2021-06-20T21:30:03.227Z"
      },
      {
        "duration": 8,
        "start_time": "2021-06-20T21:30:05.230Z"
      },
      {
        "duration": 43,
        "start_time": "2021-06-20T21:30:11.542Z"
      },
      {
        "duration": 827,
        "start_time": "2021-06-20T21:30:25.051Z"
      },
      {
        "duration": 76,
        "start_time": "2021-06-20T21:30:25.881Z"
      },
      {
        "duration": 35,
        "start_time": "2021-06-20T21:30:25.960Z"
      },
      {
        "duration": 248,
        "start_time": "2021-06-20T21:30:25.997Z"
      },
      {
        "duration": 45,
        "start_time": "2021-06-20T21:30:26.248Z"
      },
      {
        "duration": 22,
        "start_time": "2021-06-20T21:30:26.296Z"
      },
      {
        "duration": 36,
        "start_time": "2021-06-20T21:30:26.356Z"
      },
      {
        "duration": 16,
        "start_time": "2021-06-20T21:30:26.395Z"
      },
      {
        "duration": 46,
        "start_time": "2021-06-20T21:30:26.415Z"
      },
      {
        "duration": 12,
        "start_time": "2021-06-20T21:30:26.464Z"
      },
      {
        "duration": 329,
        "start_time": "2021-06-20T21:30:26.479Z"
      },
      {
        "duration": 368,
        "start_time": "2021-06-20T21:30:26.810Z"
      },
      {
        "duration": 6,
        "start_time": "2021-06-20T21:30:27.180Z"
      },
      {
        "duration": 1738,
        "start_time": "2021-06-20T21:30:27.188Z"
      },
      {
        "duration": 50,
        "start_time": "2021-06-20T21:30:28.928Z"
      },
      {
        "duration": 867,
        "start_time": "2021-06-20T21:30:28.981Z"
      },
      {
        "duration": 27,
        "start_time": "2021-06-20T21:30:29.854Z"
      },
      {
        "duration": 792,
        "start_time": "2021-06-20T21:30:29.883Z"
      },
      {
        "duration": 10,
        "start_time": "2021-06-20T21:30:30.677Z"
      },
      {
        "duration": 33,
        "start_time": "2021-06-20T21:30:30.689Z"
      },
      {
        "duration": 80,
        "start_time": "2021-06-20T21:30:30.724Z"
      },
      {
        "duration": 15,
        "start_time": "2021-06-20T21:30:30.806Z"
      },
      {
        "duration": 51,
        "start_time": "2021-06-20T21:30:30.823Z"
      },
      {
        "duration": 64,
        "start_time": "2021-06-20T21:30:30.876Z"
      },
      {
        "duration": 99,
        "start_time": "2021-06-20T21:30:30.942Z"
      },
      {
        "duration": 28,
        "start_time": "2021-06-20T21:30:31.043Z"
      },
      {
        "duration": 67,
        "start_time": "2021-06-20T21:30:31.078Z"
      },
      {
        "duration": 47,
        "start_time": "2021-06-20T21:30:31.153Z"
      },
      {
        "duration": 18,
        "start_time": "2021-06-20T21:30:31.203Z"
      },
      {
        "duration": 846,
        "start_time": "2021-06-20T21:30:31.223Z"
      },
      {
        "duration": 1202,
        "start_time": "2021-06-20T21:30:32.072Z"
      },
      {
        "duration": 7,
        "start_time": "2021-06-20T21:30:33.277Z"
      },
      {
        "duration": 32,
        "start_time": "2021-06-20T21:30:33.287Z"
      },
      {
        "duration": 196,
        "start_time": "2021-06-20T21:30:33.322Z"
      },
      {
        "duration": 9,
        "start_time": "2021-06-20T21:30:33.521Z"
      },
      {
        "duration": 54,
        "start_time": "2021-06-20T21:30:33.532Z"
      },
      {
        "duration": 16,
        "start_time": "2021-06-20T21:30:33.589Z"
      },
      {
        "duration": 53,
        "start_time": "2021-06-20T21:30:33.607Z"
      },
      {
        "duration": 48,
        "start_time": "2021-06-20T21:30:33.662Z"
      },
      {
        "duration": 22,
        "start_time": "2021-06-20T21:30:33.712Z"
      },
      {
        "duration": 38,
        "start_time": "2021-06-20T21:30:33.736Z"
      },
      {
        "duration": 20,
        "start_time": "2021-06-20T21:30:33.776Z"
      },
      {
        "duration": 43,
        "start_time": "2021-06-20T21:30:33.798Z"
      },
      {
        "duration": 20,
        "start_time": "2021-06-20T21:30:33.843Z"
      },
      {
        "duration": 531,
        "start_time": "2021-06-20T21:30:33.865Z"
      },
      {
        "duration": 14,
        "start_time": "2021-06-20T21:30:34.398Z"
      },
      {
        "duration": 27,
        "start_time": "2021-06-20T21:30:34.414Z"
      },
      {
        "duration": 30,
        "start_time": "2021-06-20T21:30:34.443Z"
      },
      {
        "duration": 11,
        "start_time": "2021-06-20T21:30:34.476Z"
      },
      {
        "duration": 21,
        "start_time": "2021-06-20T21:30:34.489Z"
      },
      {
        "duration": 36,
        "start_time": "2021-06-20T21:30:34.513Z"
      },
      {
        "duration": 26,
        "start_time": "2021-06-20T21:30:34.551Z"
      },
      {
        "duration": 31,
        "start_time": "2021-06-20T21:30:34.579Z"
      },
      {
        "duration": 22,
        "start_time": "2021-06-20T21:30:34.613Z"
      },
      {
        "duration": 13,
        "start_time": "2021-06-20T21:30:34.638Z"
      },
      {
        "duration": 32,
        "start_time": "2021-06-20T21:30:34.653Z"
      },
      {
        "duration": 73,
        "start_time": "2021-06-20T21:30:34.688Z"
      },
      {
        "duration": 99,
        "start_time": "2021-06-20T21:30:34.763Z"
      },
      {
        "duration": 8,
        "start_time": "2021-06-20T21:30:42.665Z"
      },
      {
        "duration": 16,
        "start_time": "2021-06-20T21:31:03.064Z"
      },
      {
        "duration": 8,
        "start_time": "2021-06-20T21:35:25.045Z"
      },
      {
        "duration": 808,
        "start_time": "2021-06-20T21:37:22.228Z"
      },
      {
        "duration": 73,
        "start_time": "2021-06-20T21:37:23.038Z"
      },
      {
        "duration": 55,
        "start_time": "2021-06-20T21:37:23.114Z"
      },
      {
        "duration": 230,
        "start_time": "2021-06-20T21:37:23.172Z"
      },
      {
        "duration": 38,
        "start_time": "2021-06-20T21:37:23.405Z"
      },
      {
        "duration": 17,
        "start_time": "2021-06-20T21:37:23.455Z"
      },
      {
        "duration": 33,
        "start_time": "2021-06-20T21:37:23.474Z"
      },
      {
        "duration": 51,
        "start_time": "2021-06-20T21:37:23.509Z"
      },
      {
        "duration": 12,
        "start_time": "2021-06-20T21:37:23.562Z"
      },
      {
        "duration": 19,
        "start_time": "2021-06-20T21:37:23.576Z"
      },
      {
        "duration": 339,
        "start_time": "2021-06-20T21:37:23.597Z"
      },
      {
        "duration": 376,
        "start_time": "2021-06-20T21:37:23.938Z"
      },
      {
        "duration": 5,
        "start_time": "2021-06-20T21:37:24.317Z"
      },
      {
        "duration": 1790,
        "start_time": "2021-06-20T21:37:24.324Z"
      },
      {
        "duration": 47,
        "start_time": "2021-06-20T21:37:26.116Z"
      },
      {
        "duration": 938,
        "start_time": "2021-06-20T21:37:26.166Z"
      },
      {
        "duration": 27,
        "start_time": "2021-06-20T21:37:27.106Z"
      },
      {
        "duration": 755,
        "start_time": "2021-06-20T21:37:27.154Z"
      },
      {
        "duration": 10,
        "start_time": "2021-06-20T21:37:27.911Z"
      },
      {
        "duration": 41,
        "start_time": "2021-06-20T21:37:27.923Z"
      },
      {
        "duration": 42,
        "start_time": "2021-06-20T21:37:27.967Z"
      },
      {
        "duration": 15,
        "start_time": "2021-06-20T21:37:28.012Z"
      },
      {
        "duration": 40,
        "start_time": "2021-06-20T21:37:28.029Z"
      },
      {
        "duration": 25,
        "start_time": "2021-06-20T21:37:28.071Z"
      },
      {
        "duration": 73,
        "start_time": "2021-06-20T21:37:28.099Z"
      },
      {
        "duration": 23,
        "start_time": "2021-06-20T21:37:28.175Z"
      },
      {
        "duration": 67,
        "start_time": "2021-06-20T21:37:28.200Z"
      },
      {
        "duration": 45,
        "start_time": "2021-06-20T21:37:28.270Z"
      },
      {
        "duration": 38,
        "start_time": "2021-06-20T21:37:28.318Z"
      },
      {
        "duration": 666,
        "start_time": "2021-06-20T21:37:28.359Z"
      },
      {
        "duration": 1099,
        "start_time": "2021-06-20T21:37:29.028Z"
      },
      {
        "duration": 8,
        "start_time": "2021-06-20T21:37:30.129Z"
      },
      {
        "duration": 30,
        "start_time": "2021-06-20T21:37:30.155Z"
      },
      {
        "duration": 197,
        "start_time": "2021-06-20T21:37:30.188Z"
      },
      {
        "duration": 9,
        "start_time": "2021-06-20T21:37:30.388Z"
      },
      {
        "duration": 57,
        "start_time": "2021-06-20T21:37:30.399Z"
      },
      {
        "duration": 16,
        "start_time": "2021-06-20T21:37:30.459Z"
      },
      {
        "duration": 17,
        "start_time": "2021-06-20T21:37:30.477Z"
      },
      {
        "duration": 41,
        "start_time": "2021-06-20T21:37:30.497Z"
      },
      {
        "duration": 32,
        "start_time": "2021-06-20T21:37:30.541Z"
      },
      {
        "duration": 40,
        "start_time": "2021-06-20T21:37:30.576Z"
      },
      {
        "duration": 44,
        "start_time": "2021-06-20T21:37:30.619Z"
      },
      {
        "duration": 41,
        "start_time": "2021-06-20T21:37:30.666Z"
      },
      {
        "duration": 28,
        "start_time": "2021-06-20T21:37:30.709Z"
      },
      {
        "duration": 500,
        "start_time": "2021-06-20T21:37:30.754Z"
      },
      {
        "duration": 16,
        "start_time": "2021-06-20T21:37:31.257Z"
      },
      {
        "duration": 33,
        "start_time": "2021-06-20T21:37:31.276Z"
      },
      {
        "duration": 36,
        "start_time": "2021-06-20T21:37:31.312Z"
      },
      {
        "duration": 22,
        "start_time": "2021-06-20T21:37:31.351Z"
      },
      {
        "duration": 30,
        "start_time": "2021-06-20T21:37:31.377Z"
      },
      {
        "duration": 37,
        "start_time": "2021-06-20T21:37:31.410Z"
      },
      {
        "duration": 19,
        "start_time": "2021-06-20T21:37:31.450Z"
      },
      {
        "duration": 41,
        "start_time": "2021-06-20T21:37:31.472Z"
      },
      {
        "duration": 40,
        "start_time": "2021-06-20T21:37:31.517Z"
      },
      {
        "duration": 15,
        "start_time": "2021-06-20T21:37:31.569Z"
      },
      {
        "duration": 22,
        "start_time": "2021-06-20T21:37:31.587Z"
      },
      {
        "duration": 43,
        "start_time": "2021-06-20T21:37:31.611Z"
      },
      {
        "duration": 53,
        "start_time": "2021-06-20T21:37:31.657Z"
      },
      {
        "duration": 8,
        "start_time": "2021-06-20T21:37:31.713Z"
      },
      {
        "duration": 24,
        "start_time": "2021-06-20T21:38:24.452Z"
      },
      {
        "duration": 9,
        "start_time": "2021-06-20T21:39:13.792Z"
      },
      {
        "duration": 2256,
        "start_time": "2021-06-21T04:42:49.103Z"
      },
      {
        "duration": 84,
        "start_time": "2021-06-21T04:42:51.362Z"
      },
      {
        "duration": 54,
        "start_time": "2021-06-21T04:42:51.449Z"
      },
      {
        "duration": 281,
        "start_time": "2021-06-21T04:42:51.505Z"
      },
      {
        "duration": 43,
        "start_time": "2021-06-21T04:42:51.788Z"
      },
      {
        "duration": 41,
        "start_time": "2021-06-21T04:42:51.833Z"
      },
      {
        "duration": 32,
        "start_time": "2021-06-21T04:42:51.877Z"
      },
      {
        "duration": 56,
        "start_time": "2021-06-21T04:42:51.913Z"
      },
      {
        "duration": 12,
        "start_time": "2021-06-21T04:42:51.972Z"
      },
      {
        "duration": 21,
        "start_time": "2021-06-21T04:42:51.986Z"
      },
      {
        "duration": 353,
        "start_time": "2021-06-21T04:42:52.009Z"
      },
      {
        "duration": 398,
        "start_time": "2021-06-21T04:42:52.364Z"
      },
      {
        "duration": 5,
        "start_time": "2021-06-21T04:42:52.764Z"
      },
      {
        "duration": 1515,
        "start_time": "2021-06-21T04:42:52.772Z"
      },
      {
        "duration": 39,
        "start_time": "2021-06-21T04:42:54.289Z"
      },
      {
        "duration": 717,
        "start_time": "2021-06-21T04:42:54.331Z"
      },
      {
        "duration": 31,
        "start_time": "2021-06-21T04:42:55.050Z"
      },
      {
        "duration": 651,
        "start_time": "2021-06-21T04:42:55.083Z"
      },
      {
        "duration": 25,
        "start_time": "2021-06-21T04:42:55.737Z"
      },
      {
        "duration": 14,
        "start_time": "2021-06-21T04:42:55.765Z"
      },
      {
        "duration": 55,
        "start_time": "2021-06-21T04:42:55.781Z"
      },
      {
        "duration": 15,
        "start_time": "2021-06-21T04:42:55.863Z"
      },
      {
        "duration": 19,
        "start_time": "2021-06-21T04:42:55.884Z"
      },
      {
        "duration": 56,
        "start_time": "2021-06-21T04:42:55.906Z"
      },
      {
        "duration": 39,
        "start_time": "2021-06-21T04:42:55.964Z"
      },
      {
        "duration": 28,
        "start_time": "2021-06-21T04:42:56.005Z"
      },
      {
        "duration": 48,
        "start_time": "2021-06-21T04:42:56.063Z"
      },
      {
        "duration": 73,
        "start_time": "2021-06-21T04:42:56.113Z"
      },
      {
        "duration": 26,
        "start_time": "2021-06-21T04:42:56.189Z"
      },
      {
        "duration": 713,
        "start_time": "2021-06-21T04:42:56.218Z"
      },
      {
        "duration": 1104,
        "start_time": "2021-06-21T04:42:56.934Z"
      },
      {
        "duration": 21,
        "start_time": "2021-06-21T04:42:58.041Z"
      },
      {
        "duration": 52,
        "start_time": "2021-06-21T04:42:58.065Z"
      },
      {
        "duration": 190,
        "start_time": "2021-06-21T04:42:58.119Z"
      },
      {
        "duration": 9,
        "start_time": "2021-06-21T04:42:58.311Z"
      },
      {
        "duration": 55,
        "start_time": "2021-06-21T04:42:58.323Z"
      },
      {
        "duration": 17,
        "start_time": "2021-06-21T04:42:58.380Z"
      },
      {
        "duration": 97,
        "start_time": "2021-06-21T04:42:58.399Z"
      },
      {
        "duration": 30,
        "start_time": "2021-06-21T04:42:58.498Z"
      },
      {
        "duration": 40,
        "start_time": "2021-06-21T04:42:58.530Z"
      },
      {
        "duration": 36,
        "start_time": "2021-06-21T04:42:58.573Z"
      },
      {
        "duration": 20,
        "start_time": "2021-06-21T04:42:58.611Z"
      },
      {
        "duration": 57,
        "start_time": "2021-06-21T04:42:58.633Z"
      },
      {
        "duration": 20,
        "start_time": "2021-06-21T04:42:58.692Z"
      },
      {
        "duration": 513,
        "start_time": "2021-06-21T04:42:58.714Z"
      },
      {
        "duration": 14,
        "start_time": "2021-06-21T04:42:59.229Z"
      },
      {
        "duration": 13,
        "start_time": "2021-06-21T04:42:59.261Z"
      },
      {
        "duration": 16,
        "start_time": "2021-06-21T04:42:59.277Z"
      },
      {
        "duration": 9,
        "start_time": "2021-06-21T04:42:59.296Z"
      },
      {
        "duration": 9,
        "start_time": "2021-06-21T04:42:59.308Z"
      },
      {
        "duration": 64,
        "start_time": "2021-06-21T04:42:59.319Z"
      },
      {
        "duration": 15,
        "start_time": "2021-06-21T04:42:59.386Z"
      },
      {
        "duration": 58,
        "start_time": "2021-06-21T04:42:59.404Z"
      },
      {
        "duration": 22,
        "start_time": "2021-06-21T04:42:59.464Z"
      },
      {
        "duration": 13,
        "start_time": "2021-06-21T04:42:59.489Z"
      },
      {
        "duration": 20,
        "start_time": "2021-06-21T04:42:59.504Z"
      },
      {
        "duration": 44,
        "start_time": "2021-06-21T04:42:59.526Z"
      },
      {
        "duration": 44,
        "start_time": "2021-06-21T04:42:59.573Z"
      },
      {
        "duration": 7,
        "start_time": "2021-06-21T04:42:59.620Z"
      },
      {
        "duration": 392,
        "start_time": "2021-06-21T04:43:43.695Z"
      },
      {
        "duration": 493,
        "start_time": "2021-06-21T04:44:20.955Z"
      },
      {
        "duration": 526,
        "start_time": "2021-06-21T04:45:43.307Z"
      },
      {
        "duration": 640,
        "start_time": "2021-06-21T04:45:51.215Z"
      },
      {
        "duration": 518,
        "start_time": "2021-06-21T04:47:27.471Z"
      },
      {
        "duration": 523,
        "start_time": "2021-06-21T04:47:32.416Z"
      },
      {
        "duration": 517,
        "start_time": "2021-06-21T04:47:56.275Z"
      },
      {
        "duration": 636,
        "start_time": "2021-06-21T04:48:08.463Z"
      },
      {
        "duration": 526,
        "start_time": "2021-06-21T04:49:04.557Z"
      },
      {
        "duration": 531,
        "start_time": "2021-06-21T04:49:47.588Z"
      },
      {
        "duration": 1051,
        "start_time": "2021-06-21T04:49:55.915Z"
      },
      {
        "duration": 604,
        "start_time": "2021-06-21T04:50:01.204Z"
      },
      {
        "duration": 667,
        "start_time": "2021-06-21T04:50:07.636Z"
      },
      {
        "duration": 559,
        "start_time": "2021-06-21T04:50:12.879Z"
      },
      {
        "duration": 527,
        "start_time": "2021-06-21T04:50:20.003Z"
      },
      {
        "duration": 897,
        "start_time": "2021-06-21T04:51:07.815Z"
      },
      {
        "duration": 524,
        "start_time": "2021-06-21T04:51:15.796Z"
      },
      {
        "duration": 918,
        "start_time": "2021-06-21T04:51:57.403Z"
      },
      {
        "duration": 853,
        "start_time": "2021-06-21T04:52:02.420Z"
      },
      {
        "duration": 565,
        "start_time": "2021-06-21T04:52:12.784Z"
      },
      {
        "duration": 326,
        "start_time": "2021-06-21T04:55:39.107Z"
      },
      {
        "duration": 18,
        "start_time": "2021-06-21T04:56:06.320Z"
      },
      {
        "duration": 10,
        "start_time": "2021-06-21T04:56:20.431Z"
      },
      {
        "duration": 17,
        "start_time": "2021-06-21T04:56:26.271Z"
      },
      {
        "duration": 348,
        "start_time": "2021-06-21T05:47:33.594Z"
      },
      {
        "duration": 343,
        "start_time": "2021-06-21T05:47:41.682Z"
      },
      {
        "duration": 26,
        "start_time": "2021-06-21T05:47:45.439Z"
      },
      {
        "duration": 21,
        "start_time": "2021-06-21T05:50:32.663Z"
      },
      {
        "duration": 10,
        "start_time": "2021-06-21T05:50:57.066Z"
      },
      {
        "duration": 18,
        "start_time": "2021-06-21T05:51:24.002Z"
      },
      {
        "duration": 8,
        "start_time": "2021-06-21T05:53:03.150Z"
      },
      {
        "duration": 17,
        "start_time": "2021-06-21T05:54:11.554Z"
      },
      {
        "duration": 6,
        "start_time": "2021-06-21T05:57:15.982Z"
      },
      {
        "duration": 9,
        "start_time": "2021-06-21T05:57:55.861Z"
      },
      {
        "duration": 356,
        "start_time": "2021-06-21T05:58:36.222Z"
      },
      {
        "duration": 18,
        "start_time": "2021-06-21T05:58:53.706Z"
      },
      {
        "duration": 331,
        "start_time": "2021-06-21T05:59:11.590Z"
      },
      {
        "duration": 17,
        "start_time": "2021-06-21T05:59:32.810Z"
      },
      {
        "duration": 351,
        "start_time": "2021-06-21T05:59:55.493Z"
      },
      {
        "duration": 23,
        "start_time": "2021-06-21T06:00:13.050Z"
      },
      {
        "duration": 308,
        "start_time": "2021-06-21T06:05:03.542Z"
      },
      {
        "duration": 16,
        "start_time": "2021-06-21T06:05:17.470Z"
      },
      {
        "duration": 33,
        "start_time": "2021-06-21T06:07:15.934Z"
      },
      {
        "duration": 29,
        "start_time": "2021-06-21T06:07:30.879Z"
      },
      {
        "duration": 343,
        "start_time": "2021-06-21T06:09:18.362Z"
      },
      {
        "duration": 322,
        "start_time": "2021-06-21T06:10:31.503Z"
      },
      {
        "duration": 8168,
        "start_time": "2021-06-21T06:11:33.790Z"
      },
      {
        "duration": 404,
        "start_time": "2021-06-21T06:12:48.666Z"
      },
      {
        "duration": 316,
        "start_time": "2021-06-21T06:12:58.458Z"
      },
      {
        "duration": 584,
        "start_time": "2021-06-21T06:13:06.848Z"
      },
      {
        "duration": 357,
        "start_time": "2021-06-21T06:13:13.386Z"
      },
      {
        "duration": 308,
        "start_time": "2021-06-21T06:14:35.626Z"
      },
      {
        "duration": 390,
        "start_time": "2021-06-21T06:14:41.382Z"
      },
      {
        "duration": 329,
        "start_time": "2021-06-21T06:17:10.346Z"
      },
      {
        "duration": 324,
        "start_time": "2021-06-21T06:17:21.586Z"
      },
      {
        "duration": 329,
        "start_time": "2021-06-21T06:17:35.609Z"
      },
      {
        "duration": 297,
        "start_time": "2021-06-21T06:17:55.401Z"
      },
      {
        "duration": 356,
        "start_time": "2021-06-21T06:19:27.653Z"
      },
      {
        "duration": 1069,
        "start_time": "2021-06-21T06:19:35.229Z"
      },
      {
        "duration": 33,
        "start_time": "2021-06-21T06:19:51.334Z"
      },
      {
        "duration": 1173,
        "start_time": "2021-06-21T06:19:52.034Z"
      },
      {
        "duration": 1032,
        "start_time": "2021-06-21T06:20:02.079Z"
      },
      {
        "duration": 31,
        "start_time": "2021-06-21T06:24:36.480Z"
      },
      {
        "duration": 3674,
        "start_time": "2021-06-21T06:25:18.293Z"
      },
      {
        "duration": 1153,
        "start_time": "2021-06-21T06:25:51.421Z"
      },
      {
        "duration": 427,
        "start_time": "2021-06-21T06:26:14.401Z"
      },
      {
        "duration": 389,
        "start_time": "2021-06-21T06:26:29.533Z"
      },
      {
        "duration": 392,
        "start_time": "2021-06-21T06:30:19.161Z"
      },
      {
        "duration": 343,
        "start_time": "2021-06-21T06:30:23.687Z"
      },
      {
        "duration": 402,
        "start_time": "2021-06-21T06:31:04.118Z"
      },
      {
        "duration": 373,
        "start_time": "2021-06-21T06:31:54.909Z"
      },
      {
        "duration": 411,
        "start_time": "2021-06-21T06:33:24.493Z"
      },
      {
        "duration": 361,
        "start_time": "2021-06-21T08:37:17.997Z"
      },
      {
        "duration": 24,
        "start_time": "2021-06-21T08:37:28.734Z"
      },
      {
        "duration": 112,
        "start_time": "2021-06-21T08:38:24.110Z"
      },
      {
        "duration": 367,
        "start_time": "2021-06-21T08:38:36.874Z"
      },
      {
        "duration": 341,
        "start_time": "2021-06-21T08:38:46.102Z"
      },
      {
        "duration": 327,
        "start_time": "2021-06-21T08:39:33.169Z"
      },
      {
        "duration": 367,
        "start_time": "2021-06-21T08:40:17.834Z"
      },
      {
        "duration": 353,
        "start_time": "2021-06-21T08:40:32.165Z"
      },
      {
        "duration": 384,
        "start_time": "2021-06-21T08:40:46.888Z"
      },
      {
        "duration": 333,
        "start_time": "2021-06-21T08:40:57.634Z"
      },
      {
        "duration": 356,
        "start_time": "2021-06-21T08:41:09.058Z"
      },
      {
        "duration": 351,
        "start_time": "2021-06-21T08:41:19.202Z"
      },
      {
        "duration": 33,
        "start_time": "2021-06-21T08:41:24.982Z"
      },
      {
        "duration": 8,
        "start_time": "2021-06-21T08:42:10.954Z"
      },
      {
        "duration": 9,
        "start_time": "2021-06-21T08:42:26.182Z"
      },
      {
        "duration": 20,
        "start_time": "2021-06-21T08:44:00.914Z"
      },
      {
        "duration": 36,
        "start_time": "2021-06-21T08:44:04.502Z"
      },
      {
        "duration": 18,
        "start_time": "2021-06-21T08:46:17.770Z"
      },
      {
        "duration": 413,
        "start_time": "2021-06-21T08:47:10.078Z"
      },
      {
        "duration": 386,
        "start_time": "2021-06-21T08:47:21.254Z"
      },
      {
        "duration": 478,
        "start_time": "2021-06-21T08:48:57.702Z"
      },
      {
        "duration": 109,
        "start_time": "2021-06-21T08:49:26.422Z"
      },
      {
        "duration": 494,
        "start_time": "2021-06-21T08:49:31.234Z"
      },
      {
        "duration": 474,
        "start_time": "2021-06-21T08:49:44.111Z"
      },
      {
        "duration": 24,
        "start_time": "2021-06-21T08:51:29.934Z"
      },
      {
        "duration": 112,
        "start_time": "2021-06-21T08:51:59.090Z"
      },
      {
        "duration": 298,
        "start_time": "2021-06-21T08:52:07.818Z"
      },
      {
        "duration": 31,
        "start_time": "2021-06-21T08:52:13.682Z"
      },
      {
        "duration": 882,
        "start_time": "2021-06-21T08:54:45.814Z"
      },
      {
        "duration": 1297,
        "start_time": "2021-06-21T08:54:50.694Z"
      },
      {
        "duration": 6175,
        "start_time": "2021-06-21T08:56:58.741Z"
      },
      {
        "duration": 112,
        "start_time": "2021-06-21T08:57:37.366Z"
      },
      {
        "duration": 882,
        "start_time": "2021-06-21T08:57:43.615Z"
      },
      {
        "duration": 22,
        "start_time": "2021-06-21T08:57:49.833Z"
      },
      {
        "duration": 1323,
        "start_time": "2021-06-21T08:57:51.108Z"
      },
      {
        "duration": 1203,
        "start_time": "2021-06-21T08:58:56.617Z"
      },
      {
        "duration": 1179,
        "start_time": "2021-06-21T08:59:10.374Z"
      },
      {
        "duration": 1186,
        "start_time": "2021-06-21T08:59:22.013Z"
      },
      {
        "duration": 1173,
        "start_time": "2021-06-21T09:00:39.229Z"
      },
      {
        "duration": 1154,
        "start_time": "2021-06-21T09:04:32.738Z"
      },
      {
        "duration": 1325,
        "start_time": "2021-06-21T09:04:45.613Z"
      },
      {
        "duration": 1214,
        "start_time": "2021-06-21T09:06:21.397Z"
      },
      {
        "duration": 1308,
        "start_time": "2021-06-21T09:06:28.206Z"
      },
      {
        "duration": 1190,
        "start_time": "2021-06-21T09:06:53.742Z"
      },
      {
        "duration": 1235,
        "start_time": "2021-06-21T09:07:52.881Z"
      },
      {
        "duration": 1328,
        "start_time": "2021-06-21T09:08:52.001Z"
      },
      {
        "duration": 1215,
        "start_time": "2021-06-21T09:10:40.289Z"
      },
      {
        "duration": 17,
        "start_time": "2021-06-21T09:13:14.938Z"
      },
      {
        "duration": 18,
        "start_time": "2021-06-21T09:13:34.493Z"
      },
      {
        "duration": 1113,
        "start_time": "2021-06-21T09:13:58.350Z"
      },
      {
        "duration": 126,
        "start_time": "2021-06-21T09:13:59.466Z"
      },
      {
        "duration": 42,
        "start_time": "2021-06-21T09:13:59.596Z"
      },
      {
        "duration": 435,
        "start_time": "2021-06-21T09:13:59.642Z"
      },
      {
        "duration": 58,
        "start_time": "2021-06-21T09:14:00.081Z"
      },
      {
        "duration": 26,
        "start_time": "2021-06-21T09:14:00.162Z"
      },
      {
        "duration": 34,
        "start_time": "2021-06-21T09:14:00.191Z"
      },
      {
        "duration": 46,
        "start_time": "2021-06-21T09:14:00.228Z"
      },
      {
        "duration": 30,
        "start_time": "2021-06-21T09:14:00.278Z"
      },
      {
        "duration": 30,
        "start_time": "2021-06-21T09:14:00.312Z"
      },
      {
        "duration": 329,
        "start_time": "2021-06-21T09:14:00.344Z"
      },
      {
        "duration": 392,
        "start_time": "2021-06-21T09:14:00.676Z"
      },
      {
        "duration": 6,
        "start_time": "2021-06-21T09:14:01.070Z"
      },
      {
        "duration": 1819,
        "start_time": "2021-06-21T09:14:01.078Z"
      },
      {
        "duration": 40,
        "start_time": "2021-06-21T09:14:02.899Z"
      },
      {
        "duration": 921,
        "start_time": "2021-06-21T09:14:02.941Z"
      },
      {
        "duration": 24,
        "start_time": "2021-06-21T09:14:03.864Z"
      },
      {
        "duration": 801,
        "start_time": "2021-06-21T09:14:03.891Z"
      },
      {
        "duration": 10,
        "start_time": "2021-06-21T09:14:04.694Z"
      },
      {
        "duration": 14,
        "start_time": "2021-06-21T09:14:04.706Z"
      },
      {
        "duration": 76,
        "start_time": "2021-06-21T09:14:04.723Z"
      },
      {
        "duration": 15,
        "start_time": "2021-06-21T09:14:04.802Z"
      },
      {
        "duration": 51,
        "start_time": "2021-06-21T09:14:04.820Z"
      },
      {
        "duration": 23,
        "start_time": "2021-06-21T09:14:04.873Z"
      },
      {
        "duration": 72,
        "start_time": "2021-06-21T09:14:04.899Z"
      },
      {
        "duration": 29,
        "start_time": "2021-06-21T09:14:04.974Z"
      },
      {
        "duration": 78,
        "start_time": "2021-06-21T09:14:05.009Z"
      },
      {
        "duration": 72,
        "start_time": "2021-06-21T09:14:05.090Z"
      },
      {
        "duration": 18,
        "start_time": "2021-06-21T09:14:05.165Z"
      },
      {
        "duration": 725,
        "start_time": "2021-06-21T09:14:05.186Z"
      },
      {
        "duration": 1148,
        "start_time": "2021-06-21T09:14:05.913Z"
      },
      {
        "duration": 7,
        "start_time": "2021-06-21T09:14:07.064Z"
      },
      {
        "duration": 34,
        "start_time": "2021-06-21T09:14:07.073Z"
      },
      {
        "duration": 210,
        "start_time": "2021-06-21T09:14:07.110Z"
      },
      {
        "duration": 10,
        "start_time": "2021-06-21T09:14:07.322Z"
      },
      {
        "duration": 60,
        "start_time": "2021-06-21T09:14:07.334Z"
      },
      {
        "duration": 17,
        "start_time": "2021-06-21T09:14:07.397Z"
      },
      {
        "duration": 7,
        "start_time": "2021-06-21T09:14:07.417Z"
      },
      {
        "duration": 50,
        "start_time": "2021-06-21T09:14:07.427Z"
      },
      {
        "duration": 39,
        "start_time": "2021-06-21T09:14:07.479Z"
      },
      {
        "duration": 55,
        "start_time": "2021-06-21T09:14:07.520Z"
      },
      {
        "duration": 22,
        "start_time": "2021-06-21T09:14:07.577Z"
      },
      {
        "duration": 60,
        "start_time": "2021-06-21T09:14:07.602Z"
      },
      {
        "duration": 21,
        "start_time": "2021-06-21T09:14:07.664Z"
      },
      {
        "duration": 522,
        "start_time": "2021-06-21T09:14:07.688Z"
      },
      {
        "duration": 16,
        "start_time": "2021-06-21T09:14:08.213Z"
      },
      {
        "duration": 40,
        "start_time": "2021-06-21T09:14:08.232Z"
      },
      {
        "duration": 18,
        "start_time": "2021-06-21T09:14:08.275Z"
      },
      {
        "duration": 11,
        "start_time": "2021-06-21T09:14:08.295Z"
      },
      {
        "duration": 13,
        "start_time": "2021-06-21T09:14:08.309Z"
      },
      {
        "duration": 59,
        "start_time": "2021-06-21T09:14:08.324Z"
      },
      {
        "duration": 15,
        "start_time": "2021-06-21T09:14:08.385Z"
      },
      {
        "duration": 60,
        "start_time": "2021-06-21T09:14:08.402Z"
      },
      {
        "duration": 166,
        "start_time": "2021-06-21T09:14:08.465Z"
      },
      {
        "duration": 31,
        "start_time": "2021-06-21T09:14:08.634Z"
      },
      {
        "duration": 19,
        "start_time": "2021-06-21T09:14:08.668Z"
      },
      {
        "duration": 23,
        "start_time": "2021-06-21T09:14:08.690Z"
      },
      {
        "duration": 74,
        "start_time": "2021-06-21T09:14:08.716Z"
      },
      {
        "duration": 16,
        "start_time": "2021-06-21T09:14:08.792Z"
      },
      {
        "duration": 509,
        "start_time": "2021-06-21T09:14:08.811Z"
      },
      {
        "duration": 20,
        "start_time": "2021-06-21T09:14:09.322Z"
      },
      {
        "duration": 20,
        "start_time": "2021-06-21T09:14:09.362Z"
      },
      {
        "duration": 7,
        "start_time": "2021-06-21T09:14:09.385Z"
      },
      {
        "duration": 24,
        "start_time": "2021-06-21T09:14:09.394Z"
      },
      {
        "duration": 1207,
        "start_time": "2021-06-21T09:14:09.420Z"
      },
      {
        "duration": 17,
        "start_time": "2021-06-21T09:14:16.401Z"
      },
      {
        "duration": 15,
        "start_time": "2021-06-21T09:14:23.029Z"
      },
      {
        "duration": 18,
        "start_time": "2021-06-21T09:14:49.301Z"
      },
      {
        "duration": 17,
        "start_time": "2021-06-21T09:15:03.705Z"
      },
      {
        "duration": 16,
        "start_time": "2021-06-21T09:15:03.941Z"
      },
      {
        "duration": 16,
        "start_time": "2021-06-21T09:18:54.965Z"
      },
      {
        "duration": 14,
        "start_time": "2021-06-21T09:19:20.993Z"
      },
      {
        "duration": 9,
        "start_time": "2021-06-21T09:19:38.536Z"
      },
      {
        "duration": 9,
        "start_time": "2021-06-21T09:19:47.377Z"
      },
      {
        "duration": 3113,
        "start_time": "2021-06-21T09:21:01.546Z"
      },
      {
        "duration": 84,
        "start_time": "2021-06-21T09:21:04.662Z"
      },
      {
        "duration": 63,
        "start_time": "2021-06-21T09:21:04.762Z"
      },
      {
        "duration": 427,
        "start_time": "2021-06-21T09:21:04.829Z"
      },
      {
        "duration": 61,
        "start_time": "2021-06-21T09:21:05.259Z"
      },
      {
        "duration": 54,
        "start_time": "2021-06-21T09:21:05.323Z"
      },
      {
        "duration": 52,
        "start_time": "2021-06-21T09:21:05.380Z"
      },
      {
        "duration": 44,
        "start_time": "2021-06-21T09:21:05.436Z"
      },
      {
        "duration": 12,
        "start_time": "2021-06-21T09:21:05.484Z"
      },
      {
        "duration": 16,
        "start_time": "2021-06-21T09:21:05.498Z"
      },
      {
        "duration": 356,
        "start_time": "2021-06-21T09:21:05.517Z"
      },
      {
        "duration": 397,
        "start_time": "2021-06-21T09:21:05.875Z"
      },
      {
        "duration": 5,
        "start_time": "2021-06-21T09:21:06.275Z"
      },
      {
        "duration": 1578,
        "start_time": "2021-06-21T09:21:06.283Z"
      },
      {
        "duration": 42,
        "start_time": "2021-06-21T09:21:07.864Z"
      },
      {
        "duration": 736,
        "start_time": "2021-06-21T09:21:07.909Z"
      },
      {
        "duration": 35,
        "start_time": "2021-06-21T09:21:08.648Z"
      },
      {
        "duration": 1008,
        "start_time": "2021-06-21T09:21:08.686Z"
      },
      {
        "duration": 9,
        "start_time": "2021-06-21T09:21:09.696Z"
      },
      {
        "duration": 13,
        "start_time": "2021-06-21T09:21:09.708Z"
      },
      {
        "duration": 68,
        "start_time": "2021-06-21T09:21:09.723Z"
      },
      {
        "duration": 15,
        "start_time": "2021-06-21T09:21:09.793Z"
      },
      {
        "duration": 47,
        "start_time": "2021-06-21T09:21:09.815Z"
      },
      {
        "duration": 24,
        "start_time": "2021-06-21T09:21:09.865Z"
      },
      {
        "duration": 39,
        "start_time": "2021-06-21T09:21:09.892Z"
      },
      {
        "duration": 58,
        "start_time": "2021-06-21T09:21:09.933Z"
      },
      {
        "duration": 69,
        "start_time": "2021-06-21T09:21:09.993Z"
      },
      {
        "duration": 50,
        "start_time": "2021-06-21T09:21:10.064Z"
      },
      {
        "duration": 17,
        "start_time": "2021-06-21T09:21:10.117Z"
      },
      {
        "duration": 711,
        "start_time": "2021-06-21T09:21:10.162Z"
      },
      {
        "duration": 1114,
        "start_time": "2021-06-21T09:21:10.875Z"
      },
      {
        "duration": 7,
        "start_time": "2021-06-21T09:21:11.991Z"
      },
      {
        "duration": 30,
        "start_time": "2021-06-21T09:21:12.000Z"
      },
      {
        "duration": 208,
        "start_time": "2021-06-21T09:21:12.032Z"
      },
      {
        "duration": 10,
        "start_time": "2021-06-21T09:21:12.242Z"
      },
      {
        "duration": 35,
        "start_time": "2021-06-21T09:21:12.261Z"
      },
      {
        "duration": 116,
        "start_time": "2021-06-21T09:21:12.298Z"
      },
      {
        "duration": 7,
        "start_time": "2021-06-21T09:21:12.416Z"
      },
      {
        "duration": 39,
        "start_time": "2021-06-21T09:21:12.425Z"
      },
      {
        "duration": 22,
        "start_time": "2021-06-21T09:21:12.466Z"
      },
      {
        "duration": 37,
        "start_time": "2021-06-21T09:21:12.491Z"
      },
      {
        "duration": 49,
        "start_time": "2021-06-21T09:21:12.530Z"
      },
      {
        "duration": 32,
        "start_time": "2021-06-21T09:21:12.582Z"
      },
      {
        "duration": 45,
        "start_time": "2021-06-21T09:21:12.617Z"
      },
      {
        "duration": 647,
        "start_time": "2021-06-21T09:21:12.664Z"
      },
      {
        "duration": 14,
        "start_time": "2021-06-21T09:21:13.313Z"
      },
      {
        "duration": 35,
        "start_time": "2021-06-21T09:21:13.330Z"
      },
      {
        "duration": 17,
        "start_time": "2021-06-21T09:21:13.367Z"
      },
      {
        "duration": 10,
        "start_time": "2021-06-21T09:21:13.387Z"
      },
      {
        "duration": 11,
        "start_time": "2021-06-21T09:21:13.399Z"
      },
      {
        "duration": 60,
        "start_time": "2021-06-21T09:21:13.412Z"
      },
      {
        "duration": 17,
        "start_time": "2021-06-21T09:21:13.474Z"
      },
      {
        "duration": 31,
        "start_time": "2021-06-21T09:21:13.493Z"
      },
      {
        "duration": 55,
        "start_time": "2021-06-21T09:21:13.526Z"
      },
      {
        "duration": 12,
        "start_time": "2021-06-21T09:21:13.584Z"
      },
      {
        "duration": 17,
        "start_time": "2021-06-21T09:21:13.599Z"
      },
      {
        "duration": 45,
        "start_time": "2021-06-21T09:21:13.619Z"
      },
      {
        "duration": 41,
        "start_time": "2021-06-21T09:21:13.667Z"
      },
      {
        "duration": 16,
        "start_time": "2021-06-21T09:21:13.710Z"
      },
      {
        "duration": 774,
        "start_time": "2021-06-21T09:21:13.729Z"
      },
      {
        "duration": 19,
        "start_time": "2021-06-21T09:21:14.506Z"
      },
      {
        "duration": 44,
        "start_time": "2021-06-21T09:21:14.528Z"
      },
      {
        "duration": 446,
        "start_time": "2021-06-21T09:21:14.574Z"
      },
      {
        "duration": 850,
        "start_time": "2021-06-21T09:21:14.173Z"
      },
      {
        "duration": 844,
        "start_time": "2021-06-21T09:21:14.180Z"
      },
      {
        "duration": 838,
        "start_time": "2021-06-21T09:21:14.187Z"
      },
      {
        "duration": 832,
        "start_time": "2021-06-21T09:21:14.195Z"
      },
      {
        "duration": 1970,
        "start_time": "2021-06-21T09:21:23.177Z"
      },
      {
        "duration": 73,
        "start_time": "2021-06-21T09:21:25.150Z"
      },
      {
        "duration": 54,
        "start_time": "2021-06-21T09:21:25.226Z"
      },
      {
        "duration": 250,
        "start_time": "2021-06-21T09:21:25.283Z"
      },
      {
        "duration": 56,
        "start_time": "2021-06-21T09:21:25.535Z"
      },
      {
        "duration": 17,
        "start_time": "2021-06-21T09:21:25.593Z"
      },
      {
        "duration": 70,
        "start_time": "2021-06-21T09:21:25.612Z"
      },
      {
        "duration": 17,
        "start_time": "2021-06-21T09:21:25.686Z"
      },
      {
        "duration": 18,
        "start_time": "2021-06-21T09:21:25.707Z"
      },
      {
        "duration": 44,
        "start_time": "2021-06-21T09:21:25.727Z"
      },
      {
        "duration": 337,
        "start_time": "2021-06-21T09:21:25.774Z"
      },
      {
        "duration": 395,
        "start_time": "2021-06-21T09:21:26.113Z"
      },
      {
        "duration": 6,
        "start_time": "2021-06-21T09:21:26.510Z"
      },
      {
        "duration": 1839,
        "start_time": "2021-06-21T09:21:26.518Z"
      },
      {
        "duration": 38,
        "start_time": "2021-06-21T09:21:28.360Z"
      },
      {
        "duration": 923,
        "start_time": "2021-06-21T09:21:28.400Z"
      },
      {
        "duration": 40,
        "start_time": "2021-06-21T09:21:29.326Z"
      },
      {
        "duration": 807,
        "start_time": "2021-06-21T09:21:29.369Z"
      },
      {
        "duration": 10,
        "start_time": "2021-06-21T09:21:30.178Z"
      },
      {
        "duration": 30,
        "start_time": "2021-06-21T09:21:30.191Z"
      },
      {
        "duration": 61,
        "start_time": "2021-06-21T09:21:30.224Z"
      },
      {
        "duration": 19,
        "start_time": "2021-06-21T09:21:30.288Z"
      },
      {
        "duration": 34,
        "start_time": "2021-06-21T09:21:30.315Z"
      },
      {
        "duration": 25,
        "start_time": "2021-06-21T09:21:30.366Z"
      },
      {
        "duration": 49,
        "start_time": "2021-06-21T09:21:30.394Z"
      },
      {
        "duration": 39,
        "start_time": "2021-06-21T09:21:30.446Z"
      },
      {
        "duration": 75,
        "start_time": "2021-06-21T09:21:30.487Z"
      },
      {
        "duration": 50,
        "start_time": "2021-06-21T09:21:30.564Z"
      },
      {
        "duration": 22,
        "start_time": "2021-06-21T09:21:30.616Z"
      },
      {
        "duration": 712,
        "start_time": "2021-06-21T09:21:30.663Z"
      },
      {
        "duration": 1104,
        "start_time": "2021-06-21T09:21:31.378Z"
      },
      {
        "duration": 7,
        "start_time": "2021-06-21T09:21:32.484Z"
      },
      {
        "duration": 33,
        "start_time": "2021-06-21T09:21:32.494Z"
      },
      {
        "duration": 223,
        "start_time": "2021-06-21T09:21:32.529Z"
      },
      {
        "duration": 12,
        "start_time": "2021-06-21T09:21:32.755Z"
      },
      {
        "duration": 38,
        "start_time": "2021-06-21T09:21:32.770Z"
      },
      {
        "duration": 17,
        "start_time": "2021-06-21T09:21:32.810Z"
      },
      {
        "duration": 7,
        "start_time": "2021-06-21T09:21:32.830Z"
      },
      {
        "duration": 22,
        "start_time": "2021-06-21T09:21:32.862Z"
      },
      {
        "duration": 24,
        "start_time": "2021-06-21T09:21:32.886Z"
      },
      {
        "duration": 72,
        "start_time": "2021-06-21T09:21:32.913Z"
      },
      {
        "duration": 22,
        "start_time": "2021-06-21T09:21:32.987Z"
      },
      {
        "duration": 55,
        "start_time": "2021-06-21T09:21:33.011Z"
      },
      {
        "duration": 22,
        "start_time": "2021-06-21T09:21:33.068Z"
      },
      {
        "duration": 539,
        "start_time": "2021-06-21T09:21:33.092Z"
      },
      {
        "duration": 31,
        "start_time": "2021-06-21T09:21:33.634Z"
      },
      {
        "duration": 20,
        "start_time": "2021-06-21T09:21:33.668Z"
      },
      {
        "duration": 22,
        "start_time": "2021-06-21T09:21:33.691Z"
      },
      {
        "duration": 11,
        "start_time": "2021-06-21T09:21:33.716Z"
      },
      {
        "duration": 35,
        "start_time": "2021-06-21T09:21:33.730Z"
      },
      {
        "duration": 25,
        "start_time": "2021-06-21T09:21:33.767Z"
      },
      {
        "duration": 16,
        "start_time": "2021-06-21T09:21:33.794Z"
      },
      {
        "duration": 59,
        "start_time": "2021-06-21T09:21:33.813Z"
      },
      {
        "duration": 23,
        "start_time": "2021-06-21T09:21:33.875Z"
      },
      {
        "duration": 15,
        "start_time": "2021-06-21T09:21:33.900Z"
      },
      {
        "duration": 53,
        "start_time": "2021-06-21T09:21:33.917Z"
      },
      {
        "duration": 21,
        "start_time": "2021-06-21T09:21:33.973Z"
      },
      {
        "duration": 65,
        "start_time": "2021-06-21T09:21:33.997Z"
      },
      {
        "duration": 17,
        "start_time": "2021-06-21T09:21:34.065Z"
      },
      {
        "duration": 500,
        "start_time": "2021-06-21T09:21:34.085Z"
      },
      {
        "duration": 22,
        "start_time": "2021-06-21T09:21:34.588Z"
      },
      {
        "duration": 26,
        "start_time": "2021-06-21T09:21:34.612Z"
      },
      {
        "duration": 303,
        "start_time": "2021-06-21T09:21:34.662Z"
      },
      {
        "duration": 899,
        "start_time": "2021-06-21T09:21:34.068Z"
      },
      {
        "duration": 893,
        "start_time": "2021-06-21T09:21:34.075Z"
      },
      {
        "duration": 875,
        "start_time": "2021-06-21T09:21:34.094Z"
      },
      {
        "duration": 869,
        "start_time": "2021-06-21T09:21:34.102Z"
      },
      {
        "duration": 6,
        "start_time": "2021-06-21T09:22:34.442Z"
      },
      {
        "duration": 9,
        "start_time": "2021-06-21T09:22:46.851Z"
      },
      {
        "duration": 23,
        "start_time": "2021-06-21T09:22:53.302Z"
      },
      {
        "duration": 1384,
        "start_time": "2021-06-21T09:22:56.662Z"
      },
      {
        "duration": 1213,
        "start_time": "2021-06-21T09:23:26.926Z"
      },
      {
        "duration": 16,
        "start_time": "2021-06-21T09:23:31.982Z"
      },
      {
        "duration": 10,
        "start_time": "2021-06-21T09:23:39.973Z"
      },
      {
        "duration": 25,
        "start_time": "2021-06-21T09:25:05.745Z"
      },
      {
        "duration": 305,
        "start_time": "2021-06-21T09:25:25.514Z"
      },
      {
        "duration": 351,
        "start_time": "2021-06-21T09:25:50.265Z"
      },
      {
        "duration": 12,
        "start_time": "2021-06-21T09:26:06.377Z"
      },
      {
        "duration": 21,
        "start_time": "2021-06-21T09:27:10.946Z"
      },
      {
        "duration": 1162,
        "start_time": "2021-06-21T09:27:11.557Z"
      },
      {
        "duration": 17,
        "start_time": "2021-06-21T09:27:13.913Z"
      },
      {
        "duration": 1165,
        "start_time": "2021-06-21T09:27:26.494Z"
      },
      {
        "duration": 128,
        "start_time": "2021-06-21T09:27:27.662Z"
      },
      {
        "duration": 43,
        "start_time": "2021-06-21T09:27:27.794Z"
      },
      {
        "duration": 402,
        "start_time": "2021-06-21T09:27:27.862Z"
      },
      {
        "duration": 61,
        "start_time": "2021-06-21T09:27:28.268Z"
      },
      {
        "duration": 51,
        "start_time": "2021-06-21T09:27:28.332Z"
      },
      {
        "duration": 54,
        "start_time": "2021-06-21T09:27:28.386Z"
      },
      {
        "duration": 38,
        "start_time": "2021-06-21T09:27:28.443Z"
      },
      {
        "duration": 58,
        "start_time": "2021-06-21T09:27:28.488Z"
      },
      {
        "duration": 17,
        "start_time": "2021-06-21T09:27:28.551Z"
      },
      {
        "duration": 458,
        "start_time": "2021-06-21T09:27:28.571Z"
      },
      {
        "duration": 538,
        "start_time": "2021-06-21T09:27:29.033Z"
      },
      {
        "duration": 7,
        "start_time": "2021-06-21T09:27:29.574Z"
      },
      {
        "duration": 2618,
        "start_time": "2021-06-21T09:27:29.584Z"
      },
      {
        "duration": 41,
        "start_time": "2021-06-21T09:27:32.204Z"
      },
      {
        "duration": 890,
        "start_time": "2021-06-21T09:27:32.248Z"
      },
      {
        "duration": 35,
        "start_time": "2021-06-21T09:27:33.140Z"
      },
      {
        "duration": 793,
        "start_time": "2021-06-21T09:27:33.178Z"
      },
      {
        "duration": 9,
        "start_time": "2021-06-21T09:27:33.974Z"
      },
      {
        "duration": 14,
        "start_time": "2021-06-21T09:27:33.986Z"
      },
      {
        "duration": 78,
        "start_time": "2021-06-21T09:27:34.003Z"
      },
      {
        "duration": 16,
        "start_time": "2021-06-21T09:27:34.084Z"
      },
      {
        "duration": 19,
        "start_time": "2021-06-21T09:27:34.102Z"
      },
      {
        "duration": 54,
        "start_time": "2021-06-21T09:27:34.124Z"
      },
      {
        "duration": 157,
        "start_time": "2021-06-21T09:27:34.181Z"
      },
      {
        "duration": 41,
        "start_time": "2021-06-21T09:27:34.340Z"
      },
      {
        "duration": 48,
        "start_time": "2021-06-21T09:27:34.387Z"
      },
      {
        "duration": 67,
        "start_time": "2021-06-21T09:27:34.438Z"
      },
      {
        "duration": 21,
        "start_time": "2021-06-21T09:27:34.507Z"
      },
      {
        "duration": 747,
        "start_time": "2021-06-21T09:27:34.530Z"
      },
      {
        "duration": 1219,
        "start_time": "2021-06-21T09:27:35.279Z"
      },
      {
        "duration": 7,
        "start_time": "2021-06-21T09:27:36.500Z"
      },
      {
        "duration": 53,
        "start_time": "2021-06-21T09:27:36.511Z"
      },
      {
        "duration": 195,
        "start_time": "2021-06-21T09:27:36.566Z"
      },
      {
        "duration": 12,
        "start_time": "2021-06-21T09:27:36.764Z"
      },
      {
        "duration": 37,
        "start_time": "2021-06-21T09:27:36.779Z"
      },
      {
        "duration": 53,
        "start_time": "2021-06-21T09:27:36.819Z"
      },
      {
        "duration": 7,
        "start_time": "2021-06-21T09:27:36.874Z"
      },
      {
        "duration": 23,
        "start_time": "2021-06-21T09:27:36.884Z"
      },
      {
        "duration": 52,
        "start_time": "2021-06-21T09:27:36.910Z"
      },
      {
        "duration": 38,
        "start_time": "2021-06-21T09:27:36.964Z"
      },
      {
        "duration": 19,
        "start_time": "2021-06-21T09:27:37.005Z"
      },
      {
        "duration": 60,
        "start_time": "2021-06-21T09:27:37.027Z"
      },
      {
        "duration": 19,
        "start_time": "2021-06-21T09:27:37.089Z"
      },
      {
        "duration": 564,
        "start_time": "2021-06-21T09:27:37.110Z"
      },
      {
        "duration": 14,
        "start_time": "2021-06-21T09:27:37.676Z"
      },
      {
        "duration": 15,
        "start_time": "2021-06-21T09:27:37.693Z"
      },
      {
        "duration": 59,
        "start_time": "2021-06-21T09:27:37.711Z"
      },
      {
        "duration": 10,
        "start_time": "2021-06-21T09:27:37.772Z"
      },
      {
        "duration": 10,
        "start_time": "2021-06-21T09:27:37.784Z"
      },
      {
        "duration": 47,
        "start_time": "2021-06-21T09:27:37.797Z"
      },
      {
        "duration": 17,
        "start_time": "2021-06-21T09:27:37.863Z"
      },
      {
        "duration": 31,
        "start_time": "2021-06-21T09:27:37.882Z"
      },
      {
        "duration": 56,
        "start_time": "2021-06-21T09:27:37.915Z"
      },
      {
        "duration": 15,
        "start_time": "2021-06-21T09:27:37.973Z"
      },
      {
        "duration": 19,
        "start_time": "2021-06-21T09:27:37.990Z"
      },
      {
        "duration": 50,
        "start_time": "2021-06-21T09:27:38.012Z"
      },
      {
        "duration": 49,
        "start_time": "2021-06-21T09:27:38.065Z"
      },
      {
        "duration": 19,
        "start_time": "2021-06-21T09:27:38.117Z"
      },
      {
        "duration": 518,
        "start_time": "2021-06-21T09:27:38.138Z"
      },
      {
        "duration": 20,
        "start_time": "2021-06-21T09:27:38.661Z"
      },
      {
        "duration": 26,
        "start_time": "2021-06-21T09:27:45.310Z"
      },
      {
        "duration": 1822,
        "start_time": "2021-06-21T09:27:49.394Z"
      },
      {
        "duration": 25,
        "start_time": "2021-06-21T09:27:55.122Z"
      },
      {
        "duration": 14,
        "start_time": "2021-06-21T09:27:58.382Z"
      },
      {
        "duration": 25,
        "start_time": "2021-06-21T09:28:04.169Z"
      },
      {
        "duration": 23,
        "start_time": "2021-06-21T09:28:07.821Z"
      },
      {
        "duration": 26,
        "start_time": "2021-06-21T09:29:59.537Z"
      },
      {
        "duration": 17,
        "start_time": "2021-06-21T09:34:11.709Z"
      },
      {
        "duration": 17,
        "start_time": "2021-06-21T09:34:20.533Z"
      },
      {
        "duration": 25,
        "start_time": "2021-06-21T09:34:21.293Z"
      },
      {
        "duration": 29,
        "start_time": "2021-06-21T09:34:23.357Z"
      },
      {
        "duration": 18,
        "start_time": "2021-06-21T09:34:53.501Z"
      },
      {
        "duration": 23,
        "start_time": "2021-06-21T09:34:53.797Z"
      },
      {
        "duration": 26,
        "start_time": "2021-06-21T09:34:54.709Z"
      },
      {
        "duration": 19,
        "start_time": "2021-06-21T09:40:06.001Z"
      },
      {
        "duration": 30,
        "start_time": "2021-06-21T09:42:48.615Z"
      },
      {
        "duration": 33,
        "start_time": "2021-06-21T09:43:29.956Z"
      },
      {
        "duration": 25,
        "start_time": "2021-06-21T09:44:07.585Z"
      },
      {
        "duration": 400,
        "start_time": "2021-06-21T09:45:10.781Z"
      },
      {
        "duration": 1427,
        "start_time": "2021-06-21T09:45:47.548Z"
      },
      {
        "duration": 1087,
        "start_time": "2021-06-21T09:46:27.153Z"
      },
      {
        "duration": 1024,
        "start_time": "2021-06-21T09:46:50.381Z"
      },
      {
        "duration": 41,
        "start_time": "2021-06-21T09:47:18.393Z"
      },
      {
        "duration": 41,
        "start_time": "2021-06-21T09:47:31.005Z"
      },
      {
        "duration": 60,
        "start_time": "2021-06-21T09:47:36.825Z"
      },
      {
        "duration": 58,
        "start_time": "2021-06-21T09:48:31.357Z"
      },
      {
        "duration": 52,
        "start_time": "2021-06-21T09:48:43.934Z"
      },
      {
        "duration": 115,
        "start_time": "2021-06-21T09:48:52.509Z"
      },
      {
        "duration": 976,
        "start_time": "2021-06-21T09:48:57.880Z"
      },
      {
        "duration": 1130,
        "start_time": "2021-06-21T09:49:10.381Z"
      },
      {
        "duration": 6196,
        "start_time": "2021-06-21T09:50:09.393Z"
      },
      {
        "duration": 6641,
        "start_time": "2021-06-21T09:50:18.473Z"
      },
      {
        "duration": 6099,
        "start_time": "2021-06-21T09:50:33.041Z"
      },
      {
        "duration": 6100,
        "start_time": "2021-06-21T09:51:01.749Z"
      },
      {
        "duration": 42,
        "start_time": "2021-06-21T09:51:14.160Z"
      },
      {
        "duration": 44,
        "start_time": "2021-06-21T09:51:49.152Z"
      },
      {
        "duration": 37,
        "start_time": "2021-06-21T09:53:04.865Z"
      },
      {
        "duration": 879,
        "start_time": "2021-06-21T09:53:05.760Z"
      },
      {
        "duration": 38,
        "start_time": "2021-06-21T09:53:22.681Z"
      },
      {
        "duration": 952,
        "start_time": "2021-06-21T09:53:23.225Z"
      },
      {
        "duration": 43,
        "start_time": "2021-06-21T09:53:33.560Z"
      },
      {
        "duration": 1028,
        "start_time": "2021-06-21T09:53:34.317Z"
      },
      {
        "duration": 47,
        "start_time": "2021-06-21T09:58:20.417Z"
      },
      {
        "duration": 110,
        "start_time": "2021-06-21T09:59:04.201Z"
      },
      {
        "duration": 44,
        "start_time": "2021-06-21T09:59:08.569Z"
      },
      {
        "duration": 57,
        "start_time": "2021-06-21T09:59:46.041Z"
      },
      {
        "duration": 38,
        "start_time": "2021-06-21T10:00:14.681Z"
      },
      {
        "duration": 9,
        "start_time": "2021-06-21T10:01:10.001Z"
      },
      {
        "duration": 431,
        "start_time": "2021-06-21T10:03:51.539Z"
      },
      {
        "duration": 15,
        "start_time": "2021-06-21T10:04:13.373Z"
      },
      {
        "duration": 31,
        "start_time": "2021-06-21T10:04:53.349Z"
      },
      {
        "duration": 33,
        "start_time": "2021-06-21T10:06:23.629Z"
      },
      {
        "duration": 1448,
        "start_time": "2021-06-21T10:07:47.593Z"
      },
      {
        "duration": 2386,
        "start_time": "2021-06-22T05:57:19.580Z"
      },
      {
        "duration": 80,
        "start_time": "2021-06-22T05:57:21.969Z"
      },
      {
        "duration": 46,
        "start_time": "2021-06-22T05:57:22.052Z"
      },
      {
        "duration": 260,
        "start_time": "2021-06-22T05:57:22.100Z"
      },
      {
        "duration": 42,
        "start_time": "2021-06-22T05:57:22.362Z"
      },
      {
        "duration": 35,
        "start_time": "2021-06-22T05:57:22.406Z"
      },
      {
        "duration": 34,
        "start_time": "2021-06-22T05:57:22.443Z"
      },
      {
        "duration": 45,
        "start_time": "2021-06-22T05:57:22.481Z"
      },
      {
        "duration": 11,
        "start_time": "2021-06-22T05:57:22.529Z"
      },
      {
        "duration": 16,
        "start_time": "2021-06-22T05:57:22.543Z"
      },
      {
        "duration": 354,
        "start_time": "2021-06-22T05:57:22.561Z"
      },
      {
        "duration": 385,
        "start_time": "2021-06-22T05:57:22.917Z"
      },
      {
        "duration": 5,
        "start_time": "2021-06-22T05:57:23.304Z"
      },
      {
        "duration": 1543,
        "start_time": "2021-06-22T05:57:23.312Z"
      },
      {
        "duration": 41,
        "start_time": "2021-06-22T05:57:24.858Z"
      },
      {
        "duration": 720,
        "start_time": "2021-06-22T05:57:24.902Z"
      },
      {
        "duration": 24,
        "start_time": "2021-06-22T05:57:25.626Z"
      },
      {
        "duration": 687,
        "start_time": "2021-06-22T05:57:25.652Z"
      },
      {
        "duration": 9,
        "start_time": "2021-06-22T05:57:26.342Z"
      },
      {
        "duration": 15,
        "start_time": "2021-06-22T05:57:26.353Z"
      },
      {
        "duration": 77,
        "start_time": "2021-06-22T05:57:26.370Z"
      },
      {
        "duration": 15,
        "start_time": "2021-06-22T05:57:26.449Z"
      },
      {
        "duration": 22,
        "start_time": "2021-06-22T05:57:26.471Z"
      },
      {
        "duration": 43,
        "start_time": "2021-06-22T05:57:26.496Z"
      },
      {
        "duration": 39,
        "start_time": "2021-06-22T05:57:26.541Z"
      },
      {
        "duration": 57,
        "start_time": "2021-06-22T05:57:26.582Z"
      },
      {
        "duration": 49,
        "start_time": "2021-06-22T05:57:26.641Z"
      },
      {
        "duration": 70,
        "start_time": "2021-06-22T05:57:26.693Z"
      },
      {
        "duration": 18,
        "start_time": "2021-06-22T05:57:26.765Z"
      },
      {
        "duration": 849,
        "start_time": "2021-06-22T05:57:26.785Z"
      },
      {
        "duration": 1128,
        "start_time": "2021-06-22T05:57:27.636Z"
      },
      {
        "duration": 7,
        "start_time": "2021-06-22T05:57:28.767Z"
      },
      {
        "duration": 50,
        "start_time": "2021-06-22T05:57:28.777Z"
      },
      {
        "duration": 190,
        "start_time": "2021-06-22T05:57:28.830Z"
      },
      {
        "duration": 9,
        "start_time": "2021-06-22T05:57:29.025Z"
      },
      {
        "duration": 35,
        "start_time": "2021-06-22T05:57:29.037Z"
      },
      {
        "duration": 109,
        "start_time": "2021-06-22T05:57:29.074Z"
      },
      {
        "duration": 8,
        "start_time": "2021-06-22T05:57:29.186Z"
      },
      {
        "duration": 44,
        "start_time": "2021-06-22T05:57:29.196Z"
      },
      {
        "duration": 93,
        "start_time": "2021-06-22T05:57:29.242Z"
      },
      {
        "duration": 36,
        "start_time": "2021-06-22T05:57:29.338Z"
      },
      {
        "duration": 20,
        "start_time": "2021-06-22T05:57:29.377Z"
      },
      {
        "duration": 33,
        "start_time": "2021-06-22T05:57:29.425Z"
      },
      {
        "duration": 25,
        "start_time": "2021-06-22T05:57:29.461Z"
      },
      {
        "duration": 564,
        "start_time": "2021-06-22T05:57:29.489Z"
      },
      {
        "duration": 15,
        "start_time": "2021-06-22T05:57:30.056Z"
      },
      {
        "duration": 20,
        "start_time": "2021-06-22T05:57:30.074Z"
      },
      {
        "duration": 41,
        "start_time": "2021-06-22T05:57:30.097Z"
      },
      {
        "duration": 12,
        "start_time": "2021-06-22T05:57:30.140Z"
      },
      {
        "duration": 18,
        "start_time": "2021-06-22T05:57:30.155Z"
      },
      {
        "duration": 25,
        "start_time": "2021-06-22T05:57:30.176Z"
      },
      {
        "duration": 16,
        "start_time": "2021-06-22T05:57:30.227Z"
      },
      {
        "duration": 30,
        "start_time": "2021-06-22T05:57:30.246Z"
      },
      {
        "duration": 52,
        "start_time": "2021-06-22T05:57:30.278Z"
      },
      {
        "duration": 13,
        "start_time": "2021-06-22T05:57:30.332Z"
      },
      {
        "duration": 25,
        "start_time": "2021-06-22T05:57:30.348Z"
      },
      {
        "duration": 27,
        "start_time": "2021-06-22T05:57:30.376Z"
      },
      {
        "duration": 62,
        "start_time": "2021-06-22T05:57:30.405Z"
      },
      {
        "duration": 15,
        "start_time": "2021-06-22T05:57:30.470Z"
      },
      {
        "duration": 524,
        "start_time": "2021-06-22T05:57:30.488Z"
      },
      {
        "duration": 25,
        "start_time": "2021-06-22T05:57:31.014Z"
      },
      {
        "duration": 26,
        "start_time": "2021-06-22T05:57:31.041Z"
      },
      {
        "duration": 1321,
        "start_time": "2021-06-22T05:57:31.070Z"
      },
      {
        "duration": 17,
        "start_time": "2021-06-22T05:57:32.393Z"
      },
      {
        "duration": 30,
        "start_time": "2021-06-22T05:57:32.412Z"
      },
      {
        "duration": 22,
        "start_time": "2021-06-22T05:57:32.445Z"
      },
      {
        "duration": 58,
        "start_time": "2021-06-22T05:57:32.469Z"
      },
      {
        "duration": 45,
        "start_time": "2021-06-22T05:57:32.534Z"
      },
      {
        "duration": 1049,
        "start_time": "2021-06-22T05:57:32.582Z"
      },
      {
        "duration": 41,
        "start_time": "2021-06-22T05:57:33.634Z"
      },
      {
        "duration": 461,
        "start_time": "2021-06-22T05:57:33.677Z"
      },
      {
        "duration": 35,
        "start_time": "2021-06-22T05:57:34.140Z"
      },
      {
        "duration": 56,
        "start_time": "2021-06-22T05:57:34.177Z"
      },
      {
        "duration": 1022,
        "start_time": "2021-06-22T05:57:34.235Z"
      },
      {
        "duration": 44,
        "start_time": "2021-06-22T06:13:42.887Z"
      },
      {
        "duration": 1117,
        "start_time": "2021-06-22T06:13:43.855Z"
      },
      {
        "duration": 39,
        "start_time": "2021-06-22T06:13:49.863Z"
      },
      {
        "duration": 406,
        "start_time": "2021-06-22T06:13:50.475Z"
      },
      {
        "duration": 32,
        "start_time": "2021-06-22T06:13:51.255Z"
      },
      {
        "duration": 34,
        "start_time": "2021-06-22T06:13:54.599Z"
      },
      {
        "duration": 1048,
        "start_time": "2021-06-22T06:13:55.151Z"
      },
      {
        "duration": 18,
        "start_time": "2021-06-22T06:15:24.947Z"
      },
      {
        "duration": 951,
        "start_time": "2021-06-22T06:15:31.955Z"
      },
      {
        "duration": 75,
        "start_time": "2021-06-22T06:15:32.908Z"
      },
      {
        "duration": 49,
        "start_time": "2021-06-22T06:15:32.986Z"
      },
      {
        "duration": 241,
        "start_time": "2021-06-22T06:15:33.038Z"
      },
      {
        "duration": 53,
        "start_time": "2021-06-22T06:15:33.282Z"
      },
      {
        "duration": 18,
        "start_time": "2021-06-22T06:15:33.337Z"
      },
      {
        "duration": 34,
        "start_time": "2021-06-22T06:15:33.357Z"
      },
      {
        "duration": 15,
        "start_time": "2021-06-22T06:15:33.425Z"
      },
      {
        "duration": 11,
        "start_time": "2021-06-22T06:15:33.444Z"
      },
      {
        "duration": 12,
        "start_time": "2021-06-22T06:15:33.458Z"
      },
      {
        "duration": 361,
        "start_time": "2021-06-22T06:15:33.472Z"
      },
      {
        "duration": 389,
        "start_time": "2021-06-22T06:15:33.836Z"
      },
      {
        "duration": 6,
        "start_time": "2021-06-22T06:15:34.227Z"
      },
      {
        "duration": 2102,
        "start_time": "2021-06-22T06:15:34.235Z"
      },
      {
        "duration": 40,
        "start_time": "2021-06-22T06:15:36.340Z"
      },
      {
        "duration": 950,
        "start_time": "2021-06-22T06:15:36.383Z"
      },
      {
        "duration": 31,
        "start_time": "2021-06-22T06:15:37.336Z"
      },
      {
        "duration": 831,
        "start_time": "2021-06-22T06:15:37.370Z"
      },
      {
        "duration": 22,
        "start_time": "2021-06-22T06:15:38.203Z"
      },
      {
        "duration": 14,
        "start_time": "2021-06-22T06:15:38.228Z"
      },
      {
        "duration": 45,
        "start_time": "2021-06-22T06:15:38.244Z"
      },
      {
        "duration": 44,
        "start_time": "2021-06-22T06:15:38.292Z"
      },
      {
        "duration": 20,
        "start_time": "2021-06-22T06:15:38.339Z"
      },
      {
        "duration": 23,
        "start_time": "2021-06-22T06:15:38.361Z"
      },
      {
        "duration": 72,
        "start_time": "2021-06-22T06:15:38.386Z"
      },
      {
        "duration": 26,
        "start_time": "2021-06-22T06:15:38.461Z"
      },
      {
        "duration": 75,
        "start_time": "2021-06-22T06:15:38.495Z"
      },
      {
        "duration": 67,
        "start_time": "2021-06-22T06:15:38.574Z"
      },
      {
        "duration": 19,
        "start_time": "2021-06-22T06:15:38.643Z"
      },
      {
        "duration": 824,
        "start_time": "2021-06-22T06:15:38.665Z"
      },
      {
        "duration": 1292,
        "start_time": "2021-06-22T06:15:39.492Z"
      },
      {
        "duration": 7,
        "start_time": "2021-06-22T06:15:40.787Z"
      },
      {
        "duration": 66,
        "start_time": "2021-06-22T06:15:40.797Z"
      },
      {
        "duration": 263,
        "start_time": "2021-06-22T06:15:40.866Z"
      },
      {
        "duration": 14,
        "start_time": "2021-06-22T06:15:41.133Z"
      },
      {
        "duration": 36,
        "start_time": "2021-06-22T06:15:41.150Z"
      },
      {
        "duration": 49,
        "start_time": "2021-06-22T06:15:41.188Z"
      },
      {
        "duration": 8,
        "start_time": "2021-06-22T06:15:41.239Z"
      },
      {
        "duration": 34,
        "start_time": "2021-06-22T06:15:41.249Z"
      },
      {
        "duration": 43,
        "start_time": "2021-06-22T06:15:41.286Z"
      },
      {
        "duration": 38,
        "start_time": "2021-06-22T06:15:41.331Z"
      },
      {
        "duration": 24,
        "start_time": "2021-06-22T06:15:41.372Z"
      },
      {
        "duration": 31,
        "start_time": "2021-06-22T06:15:41.426Z"
      },
      {
        "duration": 21,
        "start_time": "2021-06-22T06:15:41.459Z"
      },
      {
        "duration": 566,
        "start_time": "2021-06-22T06:15:41.483Z"
      },
      {
        "duration": 14,
        "start_time": "2021-06-22T06:15:42.052Z"
      },
      {
        "duration": 16,
        "start_time": "2021-06-22T06:15:42.069Z"
      },
      {
        "duration": 58,
        "start_time": "2021-06-22T06:15:42.087Z"
      },
      {
        "duration": 16,
        "start_time": "2021-06-22T06:15:42.147Z"
      },
      {
        "duration": 16,
        "start_time": "2021-06-22T06:15:42.166Z"
      },
      {
        "duration": 64,
        "start_time": "2021-06-22T06:15:42.185Z"
      },
      {
        "duration": 23,
        "start_time": "2021-06-22T06:15:42.251Z"
      },
      {
        "duration": 65,
        "start_time": "2021-06-22T06:15:42.277Z"
      },
      {
        "duration": 29,
        "start_time": "2021-06-22T06:15:42.345Z"
      },
      {
        "duration": 18,
        "start_time": "2021-06-22T06:15:42.377Z"
      },
      {
        "duration": 43,
        "start_time": "2021-06-22T06:15:42.398Z"
      },
      {
        "duration": 17,
        "start_time": "2021-06-22T06:15:42.444Z"
      },
      {
        "duration": 82,
        "start_time": "2021-06-22T06:15:42.464Z"
      },
      {
        "duration": 17,
        "start_time": "2021-06-22T06:15:42.549Z"
      },
      {
        "duration": 515,
        "start_time": "2021-06-22T06:15:42.569Z"
      },
      {
        "duration": 20,
        "start_time": "2021-06-22T06:15:43.086Z"
      },
      {
        "duration": 26,
        "start_time": "2021-06-22T06:15:43.126Z"
      },
      {
        "duration": 1385,
        "start_time": "2021-06-22T06:15:43.154Z"
      },
      {
        "duration": 25,
        "start_time": "2021-06-22T06:15:44.543Z"
      },
      {
        "duration": 22,
        "start_time": "2021-06-22T06:15:44.571Z"
      },
      {
        "duration": 35,
        "start_time": "2021-06-22T06:15:44.626Z"
      },
      {
        "duration": 63,
        "start_time": "2021-06-22T06:15:44.664Z"
      },
      {
        "duration": 42,
        "start_time": "2021-06-22T06:15:44.729Z"
      },
      {
        "duration": 1062,
        "start_time": "2021-06-22T06:15:44.773Z"
      },
      {
        "duration": 42,
        "start_time": "2021-06-22T06:15:45.838Z"
      },
      {
        "duration": 560,
        "start_time": "2021-06-22T06:15:45.882Z"
      },
      {
        "duration": 35,
        "start_time": "2021-06-22T06:15:46.444Z"
      },
      {
        "duration": 59,
        "start_time": "2021-06-22T06:15:46.482Z"
      },
      {
        "duration": 1053,
        "start_time": "2021-06-22T06:15:46.543Z"
      },
      {
        "duration": 54,
        "start_time": "2021-06-22T06:18:40.111Z"
      },
      {
        "duration": 1104,
        "start_time": "2021-06-22T06:18:42.883Z"
      },
      {
        "duration": 34,
        "start_time": "2021-06-22T06:19:04.415Z"
      },
      {
        "duration": 1054,
        "start_time": "2021-06-22T06:19:06.919Z"
      },
      {
        "duration": 42,
        "start_time": "2021-06-22T06:28:01.175Z"
      },
      {
        "duration": 1042,
        "start_time": "2021-06-22T06:28:01.843Z"
      },
      {
        "duration": 348,
        "start_time": "2021-06-23T09:58:02.540Z"
      },
      {
        "duration": 2300,
        "start_time": "2021-06-23T09:58:11.292Z"
      },
      {
        "duration": 75,
        "start_time": "2021-06-23T09:58:13.594Z"
      },
      {
        "duration": 52,
        "start_time": "2021-06-23T09:58:13.673Z"
      },
      {
        "duration": 263,
        "start_time": "2021-06-23T09:58:13.727Z"
      },
      {
        "duration": 42,
        "start_time": "2021-06-23T09:58:13.992Z"
      },
      {
        "duration": 19,
        "start_time": "2021-06-23T09:58:14.037Z"
      },
      {
        "duration": 33,
        "start_time": "2021-06-23T09:58:14.084Z"
      },
      {
        "duration": 14,
        "start_time": "2021-06-23T09:58:14.122Z"
      },
      {
        "duration": 48,
        "start_time": "2021-06-23T09:58:14.139Z"
      },
      {
        "duration": 16,
        "start_time": "2021-06-23T09:58:14.189Z"
      },
      {
        "duration": 313,
        "start_time": "2021-06-23T09:58:14.207Z"
      },
      {
        "duration": 574,
        "start_time": "2021-06-23T09:58:14.522Z"
      },
      {
        "duration": 839,
        "start_time": "2021-06-23T09:58:14.264Z"
      },
      {
        "duration": 829,
        "start_time": "2021-06-23T09:58:14.275Z"
      },
      {
        "duration": 827,
        "start_time": "2021-06-23T09:58:14.279Z"
      },
      {
        "duration": 823,
        "start_time": "2021-06-23T09:58:14.284Z"
      },
      {
        "duration": 818,
        "start_time": "2021-06-23T09:58:14.291Z"
      },
      {
        "duration": 815,
        "start_time": "2021-06-23T09:58:14.295Z"
      },
      {
        "duration": 811,
        "start_time": "2021-06-23T09:58:14.300Z"
      },
      {
        "duration": 807,
        "start_time": "2021-06-23T09:58:14.305Z"
      },
      {
        "duration": 803,
        "start_time": "2021-06-23T09:58:14.310Z"
      },
      {
        "duration": 799,
        "start_time": "2021-06-23T09:58:14.315Z"
      },
      {
        "duration": 796,
        "start_time": "2021-06-23T09:58:14.319Z"
      },
      {
        "duration": 784,
        "start_time": "2021-06-23T09:58:14.332Z"
      },
      {
        "duration": 779,
        "start_time": "2021-06-23T09:58:14.339Z"
      },
      {
        "duration": 776,
        "start_time": "2021-06-23T09:58:14.343Z"
      },
      {
        "duration": 773,
        "start_time": "2021-06-23T09:58:14.347Z"
      },
      {
        "duration": 769,
        "start_time": "2021-06-23T09:58:14.352Z"
      },
      {
        "duration": 767,
        "start_time": "2021-06-23T09:58:14.356Z"
      },
      {
        "duration": 764,
        "start_time": "2021-06-23T09:58:14.360Z"
      },
      {
        "duration": 752,
        "start_time": "2021-06-23T09:58:14.374Z"
      },
      {
        "duration": 749,
        "start_time": "2021-06-23T09:58:14.378Z"
      },
      {
        "duration": 747,
        "start_time": "2021-06-23T09:58:14.382Z"
      },
      {
        "duration": 743,
        "start_time": "2021-06-23T09:58:14.388Z"
      },
      {
        "duration": 742,
        "start_time": "2021-06-23T09:58:14.391Z"
      },
      {
        "duration": 739,
        "start_time": "2021-06-23T09:58:14.395Z"
      },
      {
        "duration": 736,
        "start_time": "2021-06-23T09:58:14.399Z"
      },
      {
        "duration": 734,
        "start_time": "2021-06-23T09:58:14.403Z"
      },
      {
        "duration": 731,
        "start_time": "2021-06-23T09:58:14.407Z"
      },
      {
        "duration": 772,
        "start_time": "2021-06-23T09:58:14.411Z"
      },
      {
        "duration": 771,
        "start_time": "2021-06-23T09:58:14.414Z"
      },
      {
        "duration": 768,
        "start_time": "2021-06-23T09:58:14.418Z"
      },
      {
        "duration": 766,
        "start_time": "2021-06-23T09:58:14.422Z"
      },
      {
        "duration": 764,
        "start_time": "2021-06-23T09:58:14.426Z"
      },
      {
        "duration": 758,
        "start_time": "2021-06-23T09:58:14.433Z"
      },
      {
        "duration": 754,
        "start_time": "2021-06-23T09:58:14.439Z"
      },
      {
        "duration": 752,
        "start_time": "2021-06-23T09:58:14.443Z"
      },
      {
        "duration": 730,
        "start_time": "2021-06-23T09:58:14.467Z"
      },
      {
        "duration": 727,
        "start_time": "2021-06-23T09:58:14.472Z"
      },
      {
        "duration": 389,
        "start_time": "2021-06-23T09:58:14.812Z"
      },
      {
        "duration": 67,
        "start_time": "2021-06-23T09:58:15.135Z"
      },
      {
        "duration": 46,
        "start_time": "2021-06-23T09:58:15.158Z"
      },
      {
        "duration": 18,
        "start_time": "2021-06-23T09:58:15.188Z"
      },
      {
        "duration": 13,
        "start_time": "2021-06-23T09:58:15.195Z"
      },
      {
        "duration": 10,
        "start_time": "2021-06-23T09:58:15.199Z"
      },
      {
        "duration": 7,
        "start_time": "2021-06-23T09:58:15.204Z"
      },
      {
        "duration": 5,
        "start_time": "2021-06-23T09:58:15.208Z"
      },
      {
        "duration": 3,
        "start_time": "2021-06-23T09:58:15.212Z"
      },
      {
        "duration": 1,
        "start_time": "2021-06-23T09:58:15.216Z"
      },
      {
        "duration": -2,
        "start_time": "2021-06-23T09:58:15.221Z"
      },
      {
        "duration": -4,
        "start_time": "2021-06-23T09:58:15.224Z"
      },
      {
        "duration": -6,
        "start_time": "2021-06-23T09:58:15.228Z"
      },
      {
        "duration": 52,
        "start_time": "2021-06-23T09:58:15.231Z"
      },
      {
        "duration": 47,
        "start_time": "2021-06-23T09:58:15.238Z"
      },
      {
        "duration": 46,
        "start_time": "2021-06-23T09:58:15.241Z"
      },
      {
        "duration": 44,
        "start_time": "2021-06-23T09:58:15.245Z"
      },
      {
        "duration": 42,
        "start_time": "2021-06-23T09:58:15.249Z"
      },
      {
        "duration": 39,
        "start_time": "2021-06-23T09:58:15.254Z"
      },
      {
        "duration": 37,
        "start_time": "2021-06-23T09:58:15.258Z"
      },
      {
        "duration": 35,
        "start_time": "2021-06-23T09:58:15.262Z"
      },
      {
        "duration": 34,
        "start_time": "2021-06-23T09:58:15.265Z"
      },
      {
        "duration": 31,
        "start_time": "2021-06-23T09:58:15.270Z"
      },
      {
        "duration": 28,
        "start_time": "2021-06-23T09:58:15.274Z"
      },
      {
        "duration": 24,
        "start_time": "2021-06-23T09:58:15.280Z"
      },
      {
        "duration": 495,
        "start_time": "2021-06-23T09:58:30.968Z"
      },
      {
        "duration": 2244,
        "start_time": "2021-06-23T09:58:41.732Z"
      },
      {
        "duration": 79,
        "start_time": "2021-06-23T09:58:43.978Z"
      },
      {
        "duration": 48,
        "start_time": "2021-06-23T09:58:44.062Z"
      },
      {
        "duration": 257,
        "start_time": "2021-06-23T09:58:44.112Z"
      },
      {
        "duration": 44,
        "start_time": "2021-06-23T09:58:44.371Z"
      },
      {
        "duration": 19,
        "start_time": "2021-06-23T09:58:44.417Z"
      },
      {
        "duration": 65,
        "start_time": "2021-06-23T09:58:44.438Z"
      },
      {
        "duration": 15,
        "start_time": "2021-06-23T09:58:44.506Z"
      },
      {
        "duration": 10,
        "start_time": "2021-06-23T09:58:44.525Z"
      },
      {
        "duration": 54,
        "start_time": "2021-06-23T09:58:44.538Z"
      },
      {
        "duration": 310,
        "start_time": "2021-06-23T09:58:44.594Z"
      },
      {
        "duration": 698,
        "start_time": "2021-06-23T09:58:44.907Z"
      },
      {
        "duration": 878,
        "start_time": "2021-06-23T09:58:44.732Z"
      },
      {
        "duration": 876,
        "start_time": "2021-06-23T09:58:44.736Z"
      },
      {
        "duration": 873,
        "start_time": "2021-06-23T09:58:44.740Z"
      },
      {
        "duration": 869,
        "start_time": "2021-06-23T09:58:44.746Z"
      },
      {
        "duration": 865,
        "start_time": "2021-06-23T09:58:44.751Z"
      },
      {
        "duration": 862,
        "start_time": "2021-06-23T09:58:44.755Z"
      },
      {
        "duration": 861,
        "start_time": "2021-06-23T09:58:44.758Z"
      },
      {
        "duration": 856,
        "start_time": "2021-06-23T09:58:44.764Z"
      },
      {
        "duration": 853,
        "start_time": "2021-06-23T09:58:44.769Z"
      },
      {
        "duration": 849,
        "start_time": "2021-06-23T09:58:44.774Z"
      },
      {
        "duration": 846,
        "start_time": "2021-06-23T09:58:44.778Z"
      },
      {
        "duration": 844,
        "start_time": "2021-06-23T09:58:44.782Z"
      },
      {
        "duration": 841,
        "start_time": "2021-06-23T09:58:44.786Z"
      },
      {
        "duration": 838,
        "start_time": "2021-06-23T09:58:44.790Z"
      },
      {
        "duration": 837,
        "start_time": "2021-06-23T09:58:44.793Z"
      },
      {
        "duration": 833,
        "start_time": "2021-06-23T09:58:44.798Z"
      },
      {
        "duration": 824,
        "start_time": "2021-06-23T09:58:44.808Z"
      },
      {
        "duration": 819,
        "start_time": "2021-06-23T09:58:44.815Z"
      },
      {
        "duration": 817,
        "start_time": "2021-06-23T09:58:44.818Z"
      },
      {
        "duration": 815,
        "start_time": "2021-06-23T09:58:44.822Z"
      },
      {
        "duration": 813,
        "start_time": "2021-06-23T09:58:44.825Z"
      },
      {
        "duration": 809,
        "start_time": "2021-06-23T09:58:44.831Z"
      },
      {
        "duration": 807,
        "start_time": "2021-06-23T09:58:44.834Z"
      },
      {
        "duration": 804,
        "start_time": "2021-06-23T09:58:44.839Z"
      },
      {
        "duration": 801,
        "start_time": "2021-06-23T09:58:44.843Z"
      },
      {
        "duration": 834,
        "start_time": "2021-06-23T09:58:44.848Z"
      },
      {
        "duration": 833,
        "start_time": "2021-06-23T09:58:44.851Z"
      },
      {
        "duration": 830,
        "start_time": "2021-06-23T09:58:44.856Z"
      },
      {
        "duration": 828,
        "start_time": "2021-06-23T09:58:44.859Z"
      },
      {
        "duration": 822,
        "start_time": "2021-06-23T09:58:44.866Z"
      },
      {
        "duration": 819,
        "start_time": "2021-06-23T09:58:44.871Z"
      },
      {
        "duration": 817,
        "start_time": "2021-06-23T09:58:44.875Z"
      },
      {
        "duration": 814,
        "start_time": "2021-06-23T09:58:44.879Z"
      },
      {
        "duration": 810,
        "start_time": "2021-06-23T09:58:44.884Z"
      },
      {
        "duration": 747,
        "start_time": "2021-06-23T09:58:44.949Z"
      },
      {
        "duration": 744,
        "start_time": "2021-06-23T09:58:44.953Z"
      },
      {
        "duration": 725,
        "start_time": "2021-06-23T09:58:44.974Z"
      },
      {
        "duration": 721,
        "start_time": "2021-06-23T09:58:44.979Z"
      },
      {
        "duration": 695,
        "start_time": "2021-06-23T09:58:45.007Z"
      },
      {
        "duration": 691,
        "start_time": "2021-06-23T09:58:45.012Z"
      },
      {
        "duration": 689,
        "start_time": "2021-06-23T09:58:45.016Z"
      },
      {
        "duration": 659,
        "start_time": "2021-06-23T09:58:45.047Z"
      },
      {
        "duration": 657,
        "start_time": "2021-06-23T09:58:45.051Z"
      },
      {
        "duration": 645,
        "start_time": "2021-06-23T09:58:45.065Z"
      },
      {
        "duration": 642,
        "start_time": "2021-06-23T09:58:45.069Z"
      },
      {
        "duration": 628,
        "start_time": "2021-06-23T09:58:45.085Z"
      },
      {
        "duration": 626,
        "start_time": "2021-06-23T09:58:45.088Z"
      },
      {
        "duration": 624,
        "start_time": "2021-06-23T09:58:45.092Z"
      },
      {
        "duration": 614,
        "start_time": "2021-06-23T09:58:45.104Z"
      },
      {
        "duration": 669,
        "start_time": "2021-06-23T09:58:45.116Z"
      },
      {
        "duration": 666,
        "start_time": "2021-06-23T09:58:45.120Z"
      },
      {
        "duration": 658,
        "start_time": "2021-06-23T09:58:45.130Z"
      },
      {
        "duration": 657,
        "start_time": "2021-06-23T09:58:45.133Z"
      },
      {
        "duration": 637,
        "start_time": "2021-06-23T09:58:45.155Z"
      },
      {
        "duration": 590,
        "start_time": "2021-06-23T09:58:45.204Z"
      },
      {
        "duration": 563,
        "start_time": "2021-06-23T09:58:45.233Z"
      },
      {
        "duration": 561,
        "start_time": "2021-06-23T09:58:45.236Z"
      },
      {
        "duration": 559,
        "start_time": "2021-06-23T09:58:45.240Z"
      },
      {
        "duration": 558,
        "start_time": "2021-06-23T09:58:45.243Z"
      },
      {
        "duration": 554,
        "start_time": "2021-06-23T09:58:45.249Z"
      },
      {
        "duration": 551,
        "start_time": "2021-06-23T09:58:45.253Z"
      },
      {
        "duration": 550,
        "start_time": "2021-06-23T09:58:45.256Z"
      },
      {
        "duration": 311,
        "start_time": "2021-06-23T10:00:02.368Z"
      },
      {
        "duration": 359,
        "start_time": "2021-06-23T10:00:02.960Z"
      },
      {
        "duration": 6,
        "start_time": "2021-06-23T10:00:08.064Z"
      },
      {
        "duration": 1579,
        "start_time": "2021-06-23T10:00:12.592Z"
      },
      {
        "duration": 42,
        "start_time": "2021-06-23T10:00:18.580Z"
      },
      {
        "duration": 753,
        "start_time": "2021-06-23T10:00:18.625Z"
      },
      {
        "duration": 28,
        "start_time": "2021-06-23T10:00:19.381Z"
      },
      {
        "duration": 613,
        "start_time": "2021-06-23T10:00:19.412Z"
      },
      {
        "duration": 10,
        "start_time": "2021-06-23T10:00:20.028Z"
      },
      {
        "duration": 44,
        "start_time": "2021-06-23T10:00:20.041Z"
      },
      {
        "duration": 54,
        "start_time": "2021-06-23T10:00:20.088Z"
      },
      {
        "duration": 42,
        "start_time": "2021-06-23T10:00:20.147Z"
      },
      {
        "duration": 25,
        "start_time": "2021-06-23T10:00:20.193Z"
      },
      {
        "duration": 29,
        "start_time": "2021-06-23T10:00:20.221Z"
      },
      {
        "duration": 76,
        "start_time": "2021-06-23T10:00:20.253Z"
      },
      {
        "duration": 51,
        "start_time": "2021-06-23T10:00:20.332Z"
      },
      {
        "duration": 64,
        "start_time": "2021-06-23T10:00:20.386Z"
      },
      {
        "duration": 80,
        "start_time": "2021-06-23T10:00:20.453Z"
      },
      {
        "duration": 24,
        "start_time": "2021-06-23T10:00:20.536Z"
      },
      {
        "duration": 687,
        "start_time": "2021-06-23T10:00:20.563Z"
      },
      {
        "duration": 1059,
        "start_time": "2021-06-23T10:00:21.252Z"
      },
      {
        "duration": 7,
        "start_time": "2021-06-23T10:00:22.314Z"
      },
      {
        "duration": 32,
        "start_time": "2021-06-23T10:00:22.324Z"
      },
      {
        "duration": 218,
        "start_time": "2021-06-23T10:00:22.359Z"
      },
      {
        "duration": 9,
        "start_time": "2021-06-23T10:00:22.583Z"
      },
      {
        "duration": 33,
        "start_time": "2021-06-23T10:00:22.595Z"
      },
      {
        "duration": 17,
        "start_time": "2021-06-23T10:00:22.742Z"
      },
      {
        "duration": 20,
        "start_time": "2021-06-23T10:00:22.763Z"
      },
      {
        "duration": 22,
        "start_time": "2021-06-23T10:00:22.785Z"
      },
      {
        "duration": 22,
        "start_time": "2021-06-23T10:00:22.810Z"
      },
      {
        "duration": 73,
        "start_time": "2021-06-23T10:00:22.834Z"
      },
      {
        "duration": 21,
        "start_time": "2021-06-23T10:00:22.910Z"
      },
      {
        "duration": 82,
        "start_time": "2021-06-23T10:00:22.934Z"
      },
      {
        "duration": 32,
        "start_time": "2021-06-23T10:00:23.019Z"
      },
      {
        "duration": 496,
        "start_time": "2021-06-23T10:00:23.054Z"
      },
      {
        "duration": 37,
        "start_time": "2021-06-23T10:00:23.552Z"
      },
      {
        "duration": 25,
        "start_time": "2021-06-23T10:00:23.592Z"
      },
      {
        "duration": 24,
        "start_time": "2021-06-23T10:00:23.620Z"
      },
      {
        "duration": 40,
        "start_time": "2021-06-23T10:00:23.647Z"
      },
      {
        "duration": 11,
        "start_time": "2021-06-23T10:00:23.689Z"
      },
      {
        "duration": 24,
        "start_time": "2021-06-23T10:00:23.702Z"
      },
      {
        "duration": 56,
        "start_time": "2021-06-23T10:00:23.729Z"
      },
      {
        "duration": 28,
        "start_time": "2021-06-23T10:00:23.788Z"
      },
      {
        "duration": 23,
        "start_time": "2021-06-23T10:00:23.819Z"
      },
      {
        "duration": 46,
        "start_time": "2021-06-23T10:00:23.844Z"
      },
      {
        "duration": 23,
        "start_time": "2021-06-23T10:00:23.893Z"
      },
      {
        "duration": 27,
        "start_time": "2021-06-23T10:00:23.919Z"
      },
      {
        "duration": 83,
        "start_time": "2021-06-23T10:00:23.949Z"
      },
      {
        "duration": 23,
        "start_time": "2021-06-23T10:00:24.035Z"
      },
      {
        "duration": 668,
        "start_time": "2021-06-23T10:00:24.061Z"
      },
      {
        "duration": 27,
        "start_time": "2021-06-23T10:00:24.732Z"
      },
      {
        "duration": 36,
        "start_time": "2021-06-23T10:00:24.761Z"
      },
      {
        "duration": 1352,
        "start_time": "2021-06-23T10:00:24.799Z"
      },
      {
        "duration": 31,
        "start_time": "2021-06-23T10:00:26.154Z"
      },
      {
        "duration": 18,
        "start_time": "2021-06-23T10:00:26.188Z"
      },
      {
        "duration": 24,
        "start_time": "2021-06-23T10:00:26.209Z"
      },
      {
        "duration": 66,
        "start_time": "2021-06-23T10:00:26.235Z"
      },
      {
        "duration": 46,
        "start_time": "2021-06-23T10:00:26.304Z"
      },
      {
        "duration": 993,
        "start_time": "2021-06-23T10:00:26.353Z"
      },
      {
        "duration": 53,
        "start_time": "2021-06-23T10:00:27.349Z"
      },
      {
        "duration": 415,
        "start_time": "2021-06-23T10:00:27.405Z"
      },
      {
        "duration": 33,
        "start_time": "2021-06-23T10:00:27.823Z"
      },
      {
        "duration": 37,
        "start_time": "2021-06-23T10:00:27.884Z"
      },
      {
        "duration": 1046,
        "start_time": "2021-06-23T10:00:27.924Z"
      },
      {
        "duration": 360,
        "start_time": "2021-06-23T16:05:50.631Z"
      },
      {
        "duration": 2580,
        "start_time": "2021-06-23T16:05:56.562Z"
      },
      {
        "duration": 84,
        "start_time": "2021-06-23T16:05:59.145Z"
      },
      {
        "duration": 48,
        "start_time": "2021-06-23T16:06:02.742Z"
      },
      {
        "duration": 606,
        "start_time": "2021-06-23T16:07:12.318Z"
      },
      {
        "duration": 236,
        "start_time": "2021-06-23T16:07:47.549Z"
      },
      {
        "duration": 85,
        "start_time": "2021-06-23T16:07:49.845Z"
      },
      {
        "duration": 89,
        "start_time": "2021-06-23T16:08:19.094Z"
      },
      {
        "duration": 76,
        "start_time": "2021-06-23T16:08:30.942Z"
      },
      {
        "duration": 79,
        "start_time": "2021-06-23T16:09:01.878Z"
      },
      {
        "duration": 39,
        "start_time": "2021-06-23T16:09:10.634Z"
      },
      {
        "duration": 21,
        "start_time": "2021-06-23T16:10:13.766Z"
      },
      {
        "duration": 42,
        "start_time": "2021-06-23T16:11:06.349Z"
      },
      {
        "duration": 27,
        "start_time": "2021-06-23T16:12:58.810Z"
      },
      {
        "duration": 21,
        "start_time": "2021-06-23T16:13:02.873Z"
      },
      {
        "duration": 19,
        "start_time": "2021-06-23T16:14:06.673Z"
      },
      {
        "duration": 12,
        "start_time": "2021-06-23T16:14:35.506Z"
      },
      {
        "duration": 17,
        "start_time": "2021-06-23T16:16:26.577Z"
      },
      {
        "duration": 23,
        "start_time": "2021-06-23T16:16:38.242Z"
      },
      {
        "duration": 16,
        "start_time": "2021-06-23T16:16:38.773Z"
      },
      {
        "duration": 23,
        "start_time": "2021-06-23T16:16:48.998Z"
      },
      {
        "duration": 17,
        "start_time": "2021-06-23T16:16:52.421Z"
      },
      {
        "duration": 140,
        "start_time": "2021-06-23T16:22:25.382Z"
      },
      {
        "duration": 442,
        "start_time": "2021-06-23T16:22:28.802Z"
      },
      {
        "duration": 126,
        "start_time": "2021-06-23T16:22:39.661Z"
      },
      {
        "duration": 12,
        "start_time": "2021-06-23T16:22:46.794Z"
      },
      {
        "duration": 22,
        "start_time": "2021-06-23T16:23:01.787Z"
      },
      {
        "duration": 30,
        "start_time": "2021-06-23T16:23:13.527Z"
      },
      {
        "duration": 17,
        "start_time": "2021-06-23T16:23:16.146Z"
      },
      {
        "duration": 30,
        "start_time": "2021-06-23T16:23:16.766Z"
      },
      {
        "duration": 34,
        "start_time": "2021-06-23T16:23:24.172Z"
      },
      {
        "duration": 31,
        "start_time": "2021-06-23T16:23:29.198Z"
      },
      {
        "duration": 33,
        "start_time": "2021-06-23T16:23:37.881Z"
      },
      {
        "duration": 11,
        "start_time": "2021-06-23T16:23:38.758Z"
      },
      {
        "duration": 144,
        "start_time": "2021-06-23T16:23:39.294Z"
      },
      {
        "duration": 957,
        "start_time": "2021-06-23T16:23:45.154Z"
      },
      {
        "duration": 77,
        "start_time": "2021-06-23T16:23:46.114Z"
      },
      {
        "duration": 36,
        "start_time": "2021-06-23T16:23:46.195Z"
      },
      {
        "duration": 275,
        "start_time": "2021-06-23T16:23:46.234Z"
      },
      {
        "duration": 43,
        "start_time": "2021-06-23T16:23:46.512Z"
      },
      {
        "duration": 40,
        "start_time": "2021-06-23T16:23:46.558Z"
      },
      {
        "duration": 35,
        "start_time": "2021-06-23T16:23:46.600Z"
      },
      {
        "duration": 47,
        "start_time": "2021-06-23T16:23:46.638Z"
      },
      {
        "duration": 234,
        "start_time": "2021-06-23T16:24:08.122Z"
      },
      {
        "duration": 152,
        "start_time": "2021-06-23T16:24:16.461Z"
      },
      {
        "duration": 71,
        "start_time": "2021-06-23T16:24:46.346Z"
      },
      {
        "duration": 32,
        "start_time": "2021-06-23T16:25:59.446Z"
      },
      {
        "duration": 320,
        "start_time": "2021-06-23T16:26:11.173Z"
      },
      {
        "duration": 146,
        "start_time": "2021-06-23T16:26:21.162Z"
      },
      {
        "duration": 149,
        "start_time": "2021-06-23T16:26:24.741Z"
      },
      {
        "duration": 913,
        "start_time": "2021-06-23T16:26:28.486Z"
      },
      {
        "duration": 73,
        "start_time": "2021-06-23T16:26:29.402Z"
      },
      {
        "duration": 43,
        "start_time": "2021-06-23T16:26:29.479Z"
      },
      {
        "duration": 255,
        "start_time": "2021-06-23T16:26:29.524Z"
      },
      {
        "duration": 41,
        "start_time": "2021-06-23T16:26:29.782Z"
      },
      {
        "duration": 20,
        "start_time": "2021-06-23T16:26:29.826Z"
      },
      {
        "duration": 66,
        "start_time": "2021-06-23T16:26:29.848Z"
      },
      {
        "duration": 16,
        "start_time": "2021-06-23T16:26:29.916Z"
      },
      {
        "duration": 305,
        "start_time": "2021-06-23T16:26:33.589Z"
      },
      {
        "duration": 13,
        "start_time": "2021-06-23T16:35:25.473Z"
      },
      {
        "duration": 310,
        "start_time": "2021-06-23T16:35:26.441Z"
      },
      {
        "duration": 380,
        "start_time": "2021-06-23T16:35:28.598Z"
      },
      {
        "duration": 6,
        "start_time": "2021-06-23T16:35:37.385Z"
      },
      {
        "duration": 1511,
        "start_time": "2021-06-23T16:35:44.249Z"
      },
      {
        "duration": 7,
        "start_time": "2021-06-23T16:36:46.857Z"
      },
      {
        "duration": 6,
        "start_time": "2021-06-23T16:37:27.609Z"
      },
      {
        "duration": 2008,
        "start_time": "2021-06-23T16:49:04.853Z"
      },
      {
        "duration": 582,
        "start_time": "2021-06-23T16:49:42.135Z"
      },
      {
        "duration": 589,
        "start_time": "2021-06-23T16:50:24.565Z"
      },
      {
        "duration": 512,
        "start_time": "2021-06-23T16:55:15.273Z"
      },
      {
        "duration": 709,
        "start_time": "2021-06-23T16:55:57.386Z"
      },
      {
        "duration": 447,
        "start_time": "2021-06-23T16:56:02.757Z"
      },
      {
        "duration": 442,
        "start_time": "2021-06-23T16:56:38.809Z"
      },
      {
        "duration": 435,
        "start_time": "2021-06-23T16:56:46.653Z"
      },
      {
        "duration": 436,
        "start_time": "2021-06-23T16:59:55.653Z"
      },
      {
        "duration": 434,
        "start_time": "2021-06-23T17:08:24.573Z"
      },
      {
        "duration": 131,
        "start_time": "2021-06-23T17:12:41.373Z"
      },
      {
        "duration": 662,
        "start_time": "2021-06-23T17:12:50.120Z"
      },
      {
        "duration": 137,
        "start_time": "2021-06-23T17:13:14.561Z"
      },
      {
        "duration": 664,
        "start_time": "2021-06-23T17:14:51.421Z"
      },
      {
        "duration": 138,
        "start_time": "2021-06-23T17:17:15.421Z"
      },
      {
        "duration": 140,
        "start_time": "2021-06-23T17:17:35.297Z"
      },
      {
        "duration": 423,
        "start_time": "2021-06-23T17:19:03.917Z"
      },
      {
        "duration": 138,
        "start_time": "2021-06-23T17:19:26.933Z"
      },
      {
        "duration": 146,
        "start_time": "2021-06-23T17:20:48.012Z"
      },
      {
        "duration": 626,
        "start_time": "2021-06-23T17:21:44.105Z"
      },
      {
        "duration": 835,
        "start_time": "2021-06-23T17:22:11.056Z"
      },
      {
        "duration": 867,
        "start_time": "2021-06-23T17:22:28.089Z"
      },
      {
        "duration": 506,
        "start_time": "2021-06-23T17:23:05.050Z"
      },
      {
        "duration": 463,
        "start_time": "2021-06-23T17:23:22.732Z"
      },
      {
        "duration": 746,
        "start_time": "2021-06-23T17:24:29.101Z"
      },
      {
        "duration": 677,
        "start_time": "2021-06-23T17:25:09.921Z"
      },
      {
        "duration": 604,
        "start_time": "2021-06-23T17:25:21.181Z"
      },
      {
        "duration": 484,
        "start_time": "2021-06-23T17:26:30.089Z"
      },
      {
        "duration": 483,
        "start_time": "2021-06-23T17:30:00.513Z"
      },
      {
        "duration": 26,
        "start_time": "2021-06-23T17:37:37.371Z"
      },
      {
        "duration": 16,
        "start_time": "2021-06-23T17:37:56.360Z"
      },
      {
        "duration": 939,
        "start_time": "2021-06-23T17:41:31.930Z"
      },
      {
        "duration": 1304,
        "start_time": "2021-06-23T17:42:06.040Z"
      },
      {
        "duration": 896,
        "start_time": "2021-06-23T17:42:32.956Z"
      },
      {
        "duration": 925,
        "start_time": "2021-06-23T17:42:48.420Z"
      },
      {
        "duration": 1700,
        "start_time": "2021-06-23T17:42:57.908Z"
      },
      {
        "duration": 301,
        "start_time": "2021-06-23T17:44:44.346Z"
      },
      {
        "duration": 104,
        "start_time": "2021-06-23T17:45:08.476Z"
      },
      {
        "duration": 1822,
        "start_time": "2021-06-23T17:45:14.008Z"
      },
      {
        "duration": 1940,
        "start_time": "2021-06-23T17:45:18.148Z"
      },
      {
        "duration": 1042,
        "start_time": "2021-06-23T17:46:56.440Z"
      },
      {
        "duration": 3067,
        "start_time": "2021-06-23T17:47:03.553Z"
      },
      {
        "duration": 552,
        "start_time": "2021-06-23T17:47:20.372Z"
      },
      {
        "duration": 877,
        "start_time": "2021-06-23T17:47:52.408Z"
      },
      {
        "duration": 11,
        "start_time": "2021-06-23T17:49:37.224Z"
      },
      {
        "duration": 1403,
        "start_time": "2021-06-23T17:55:47.176Z"
      },
      {
        "duration": 1377,
        "start_time": "2021-06-23T17:55:53.420Z"
      },
      {
        "duration": 1375,
        "start_time": "2021-06-23T17:56:41.664Z"
      },
      {
        "duration": 775,
        "start_time": "2021-06-23T17:58:54.760Z"
      },
      {
        "duration": 7040,
        "start_time": "2021-06-23T17:59:11.574Z"
      },
      {
        "duration": 12,
        "start_time": "2021-06-23T17:59:33.850Z"
      },
      {
        "duration": 11033,
        "start_time": "2021-06-23T17:59:33.865Z"
      },
      {
        "duration": 778,
        "start_time": "2021-06-23T17:59:47.172Z"
      },
      {
        "duration": 78,
        "start_time": "2021-06-23T17:59:47.953Z"
      },
      {
        "duration": 53,
        "start_time": "2021-06-23T17:59:48.034Z"
      },
      {
        "duration": 231,
        "start_time": "2021-06-23T17:59:48.090Z"
      },
      {
        "duration": 37,
        "start_time": "2021-06-23T17:59:48.324Z"
      },
      {
        "duration": 34,
        "start_time": "2021-06-23T17:59:48.364Z"
      },
      {
        "duration": 33,
        "start_time": "2021-06-23T17:59:48.401Z"
      },
      {
        "duration": 52,
        "start_time": "2021-06-23T17:59:48.439Z"
      },
      {
        "duration": 250,
        "start_time": "2021-06-23T17:59:48.494Z"
      },
      {
        "duration": 16,
        "start_time": "2021-06-23T17:59:48.746Z"
      },
      {
        "duration": 30,
        "start_time": "2021-06-23T17:59:48.764Z"
      },
      {
        "duration": 13,
        "start_time": "2021-06-23T17:59:48.797Z"
      },
      {
        "duration": 328,
        "start_time": "2021-06-23T17:59:48.813Z"
      },
      {
        "duration": 376,
        "start_time": "2021-06-23T17:59:49.144Z"
      },
      {
        "duration": 6,
        "start_time": "2021-06-23T17:59:49.522Z"
      },
      {
        "duration": 573,
        "start_time": "2021-06-23T17:59:49.531Z"
      },
      {
        "duration": 443,
        "start_time": "2021-06-23T17:59:50.106Z"
      },
      {
        "duration": 446,
        "start_time": "2021-06-23T17:59:50.551Z"
      },
      {
        "duration": 151,
        "start_time": "2021-06-23T17:59:51.000Z"
      },
      {
        "duration": 476,
        "start_time": "2021-06-23T17:59:51.153Z"
      },
      {
        "duration": 14,
        "start_time": "2021-06-23T17:59:51.632Z"
      },
      {
        "duration": 1373,
        "start_time": "2021-06-23T17:59:55.676Z"
      },
      {
        "duration": 1427,
        "start_time": "2021-06-23T18:00:09.065Z"
      },
      {
        "duration": 1361,
        "start_time": "2021-06-23T18:02:36.966Z"
      },
      {
        "duration": 1085,
        "start_time": "2021-06-23T18:02:50.027Z"
      },
      {
        "duration": 1451,
        "start_time": "2021-06-23T18:03:12.872Z"
      },
      {
        "duration": 1061,
        "start_time": "2021-06-23T18:03:42.944Z"
      },
      {
        "duration": 1033,
        "start_time": "2021-06-23T18:03:50.415Z"
      },
      {
        "duration": 1167,
        "start_time": "2021-06-23T18:03:58.652Z"
      },
      {
        "duration": 1367,
        "start_time": "2021-06-23T18:04:17.766Z"
      },
      {
        "duration": 1051,
        "start_time": "2021-06-23T18:04:43.870Z"
      },
      {
        "duration": 10,
        "start_time": "2021-06-23T18:05:45.748Z"
      },
      {
        "duration": 10,
        "start_time": "2021-06-23T18:15:20.164Z"
      },
      {
        "duration": 41,
        "start_time": "2021-06-23T18:15:59.225Z"
      },
      {
        "duration": 42,
        "start_time": "2021-06-23T18:17:05.178Z"
      },
      {
        "duration": 16,
        "start_time": "2021-06-23T18:18:39.583Z"
      },
      {
        "duration": 19,
        "start_time": "2021-06-23T18:18:44.919Z"
      },
      {
        "duration": 28,
        "start_time": "2021-06-23T18:21:35.671Z"
      },
      {
        "duration": 372,
        "start_time": "2021-06-23T18:23:07.270Z"
      },
      {
        "duration": 25,
        "start_time": "2021-06-23T18:23:12.970Z"
      },
      {
        "duration": 340,
        "start_time": "2021-06-23T18:23:14.195Z"
      },
      {
        "duration": 343,
        "start_time": "2021-06-23T18:23:21.843Z"
      },
      {
        "duration": 39,
        "start_time": "2021-06-23T18:24:49.675Z"
      },
      {
        "duration": 340,
        "start_time": "2021-06-23T18:25:02.620Z"
      },
      {
        "duration": 839,
        "start_time": "2021-06-23T18:25:12.616Z"
      },
      {
        "duration": 77,
        "start_time": "2021-06-23T18:25:13.457Z"
      },
      {
        "duration": 50,
        "start_time": "2021-06-23T18:25:13.537Z"
      },
      {
        "duration": 242,
        "start_time": "2021-06-23T18:25:13.590Z"
      },
      {
        "duration": 51,
        "start_time": "2021-06-23T18:25:13.835Z"
      },
      {
        "duration": 18,
        "start_time": "2021-06-23T18:25:13.889Z"
      },
      {
        "duration": 45,
        "start_time": "2021-06-23T18:25:13.909Z"
      },
      {
        "duration": 42,
        "start_time": "2021-06-23T18:25:13.956Z"
      },
      {
        "duration": 267,
        "start_time": "2021-06-23T18:25:14.002Z"
      },
      {
        "duration": 22,
        "start_time": "2021-06-23T18:25:14.272Z"
      },
      {
        "duration": 30,
        "start_time": "2021-06-23T18:25:14.297Z"
      },
      {
        "duration": 28,
        "start_time": "2021-06-23T18:25:14.330Z"
      },
      {
        "duration": 340,
        "start_time": "2021-06-23T18:25:14.361Z"
      },
      {
        "duration": 390,
        "start_time": "2021-06-23T18:25:14.704Z"
      },
      {
        "duration": 6,
        "start_time": "2021-06-23T18:25:15.096Z"
      },
      {
        "duration": 615,
        "start_time": "2021-06-23T18:25:15.105Z"
      },
      {
        "duration": 465,
        "start_time": "2021-06-23T18:25:15.723Z"
      },
      {
        "duration": 449,
        "start_time": "2021-06-23T18:25:16.191Z"
      },
      {
        "duration": 155,
        "start_time": "2021-06-23T18:25:16.643Z"
      },
      {
        "duration": 496,
        "start_time": "2021-06-23T18:25:16.800Z"
      },
      {
        "duration": 14,
        "start_time": "2021-06-23T18:25:17.299Z"
      },
      {
        "duration": 1102,
        "start_time": "2021-06-23T18:25:17.316Z"
      },
      {
        "duration": 9,
        "start_time": "2021-06-23T18:25:18.421Z"
      },
      {
        "duration": 13,
        "start_time": "2021-06-23T18:25:18.433Z"
      },
      {
        "duration": 68,
        "start_time": "2021-06-23T18:25:18.448Z"
      },
      {
        "duration": 16,
        "start_time": "2021-06-23T18:25:18.518Z"
      },
      {
        "duration": 18,
        "start_time": "2021-06-23T18:25:18.538Z"
      },
      {
        "duration": 48,
        "start_time": "2021-06-23T18:25:18.558Z"
      },
      {
        "duration": 33,
        "start_time": "2021-06-23T18:25:22.435Z"
      },
      {
        "duration": 17,
        "start_time": "2021-06-23T18:31:35.967Z"
      },
      {
        "duration": 259,
        "start_time": "2021-06-23T18:32:14.160Z"
      },
      {
        "duration": 765,
        "start_time": "2021-06-23T18:32:30.264Z"
      },
      {
        "duration": 73,
        "start_time": "2021-06-23T18:32:31.032Z"
      },
      {
        "duration": 34,
        "start_time": "2021-06-23T18:32:31.109Z"
      },
      {
        "duration": 258,
        "start_time": "2021-06-23T18:32:31.147Z"
      },
      {
        "duration": 41,
        "start_time": "2021-06-23T18:32:31.408Z"
      },
      {
        "duration": 46,
        "start_time": "2021-06-23T18:32:31.453Z"
      },
      {
        "duration": 38,
        "start_time": "2021-06-23T18:32:31.501Z"
      },
      {
        "duration": 48,
        "start_time": "2021-06-23T18:32:31.541Z"
      },
      {
        "duration": 244,
        "start_time": "2021-06-23T18:32:31.593Z"
      },
      {
        "duration": 17,
        "start_time": "2021-06-23T18:32:31.840Z"
      },
      {
        "duration": 33,
        "start_time": "2021-06-23T18:32:31.861Z"
      },
      {
        "duration": 22,
        "start_time": "2021-06-23T18:32:31.896Z"
      },
      {
        "duration": 328,
        "start_time": "2021-06-23T18:32:31.921Z"
      },
      {
        "duration": 385,
        "start_time": "2021-06-23T18:32:32.252Z"
      },
      {
        "duration": 6,
        "start_time": "2021-06-23T18:32:32.639Z"
      },
      {
        "duration": 576,
        "start_time": "2021-06-23T18:32:32.647Z"
      },
      {
        "duration": 444,
        "start_time": "2021-06-23T18:32:33.226Z"
      },
      {
        "duration": 434,
        "start_time": "2021-06-23T18:32:33.685Z"
      },
      {
        "duration": 161,
        "start_time": "2021-06-23T18:32:34.121Z"
      },
      {
        "duration": 483,
        "start_time": "2021-06-23T18:32:34.286Z"
      },
      {
        "duration": 27,
        "start_time": "2021-06-23T18:32:34.772Z"
      },
      {
        "duration": 1119,
        "start_time": "2021-06-23T18:32:34.802Z"
      },
      {
        "duration": 11,
        "start_time": "2021-06-23T18:32:35.925Z"
      },
      {
        "duration": 16,
        "start_time": "2021-06-23T18:32:35.939Z"
      },
      {
        "duration": 273,
        "start_time": "2021-06-23T18:32:39.829Z"
      },
      {
        "duration": 112,
        "start_time": "2021-06-23T18:35:05.544Z"
      },
      {
        "duration": 107,
        "start_time": "2021-06-23T18:35:57.487Z"
      },
      {
        "duration": 102,
        "start_time": "2021-06-23T18:36:41.247Z"
      },
      {
        "duration": 105,
        "start_time": "2021-06-23T18:36:46.033Z"
      },
      {
        "duration": 121,
        "start_time": "2021-06-23T18:37:03.851Z"
      },
      {
        "duration": 101,
        "start_time": "2021-06-23T18:37:35.821Z"
      },
      {
        "duration": 105,
        "start_time": "2021-06-23T18:37:41.951Z"
      },
      {
        "duration": 730,
        "start_time": "2021-06-23T18:37:48.228Z"
      },
      {
        "duration": 125,
        "start_time": "2021-06-23T18:37:48.961Z"
      },
      {
        "duration": 32,
        "start_time": "2021-06-23T18:37:49.089Z"
      },
      {
        "duration": 237,
        "start_time": "2021-06-23T18:37:49.124Z"
      },
      {
        "duration": 45,
        "start_time": "2021-06-23T18:37:49.363Z"
      },
      {
        "duration": 17,
        "start_time": "2021-06-23T18:37:49.411Z"
      },
      {
        "duration": 58,
        "start_time": "2021-06-23T18:37:49.431Z"
      },
      {
        "duration": 16,
        "start_time": "2021-06-23T18:37:49.491Z"
      },
      {
        "duration": 262,
        "start_time": "2021-06-23T18:37:49.511Z"
      },
      {
        "duration": 20,
        "start_time": "2021-06-23T18:37:49.776Z"
      },
      {
        "duration": 14,
        "start_time": "2021-06-23T18:37:49.798Z"
      },
      {
        "duration": 20,
        "start_time": "2021-06-23T18:37:49.814Z"
      },
      {
        "duration": 329,
        "start_time": "2021-06-23T18:37:49.837Z"
      },
      {
        "duration": 369,
        "start_time": "2021-06-23T18:37:50.168Z"
      },
      {
        "duration": 6,
        "start_time": "2021-06-23T18:37:50.540Z"
      },
      {
        "duration": 570,
        "start_time": "2021-06-23T18:37:50.548Z"
      },
      {
        "duration": 457,
        "start_time": "2021-06-23T18:37:51.120Z"
      },
      {
        "duration": 444,
        "start_time": "2021-06-23T18:37:51.580Z"
      },
      {
        "duration": 162,
        "start_time": "2021-06-23T18:37:52.027Z"
      },
      {
        "duration": 474,
        "start_time": "2021-06-23T18:37:52.192Z"
      },
      {
        "duration": 25,
        "start_time": "2021-06-23T18:37:52.668Z"
      },
      {
        "duration": 1070,
        "start_time": "2021-06-23T18:37:52.695Z"
      },
      {
        "duration": 17,
        "start_time": "2021-06-23T18:37:53.768Z"
      },
      {
        "duration": 19,
        "start_time": "2021-06-23T18:37:53.788Z"
      },
      {
        "duration": 118,
        "start_time": "2021-06-23T18:37:57.543Z"
      },
      {
        "duration": 109,
        "start_time": "2021-06-23T18:38:21.805Z"
      },
      {
        "duration": 203,
        "start_time": "2021-06-23T18:39:19.575Z"
      },
      {
        "duration": 316,
        "start_time": "2021-06-23T18:40:04.133Z"
      },
      {
        "duration": 310,
        "start_time": "2021-06-23T18:40:12.607Z"
      },
      {
        "duration": 96,
        "start_time": "2021-06-23T18:41:33.768Z"
      },
      {
        "duration": 341,
        "start_time": "2021-06-23T18:41:38.892Z"
      },
      {
        "duration": 318,
        "start_time": "2021-06-23T18:42:22.547Z"
      },
      {
        "duration": 318,
        "start_time": "2021-06-23T18:47:03.838Z"
      },
      {
        "duration": 352,
        "start_time": "2021-06-23T18:47:04.633Z"
      },
      {
        "duration": 308,
        "start_time": "2021-06-23T18:47:44.179Z"
      },
      {
        "duration": 377,
        "start_time": "2021-06-23T18:48:38.963Z"
      },
      {
        "duration": 21,
        "start_time": "2021-06-23T18:48:41.624Z"
      },
      {
        "duration": 311,
        "start_time": "2021-06-23T18:49:46.035Z"
      },
      {
        "duration": 329,
        "start_time": "2021-06-23T18:49:56.493Z"
      },
      {
        "duration": 17,
        "start_time": "2021-06-23T18:50:01.159Z"
      },
      {
        "duration": 45,
        "start_time": "2021-06-23T18:50:08.317Z"
      },
      {
        "duration": 436,
        "start_time": "2021-06-23T18:51:18.787Z"
      },
      {
        "duration": 330,
        "start_time": "2021-06-23T18:51:42.459Z"
      },
      {
        "duration": 47,
        "start_time": "2021-06-23T18:52:10.551Z"
      },
      {
        "duration": 374,
        "start_time": "2021-06-23T18:52:40.575Z"
      },
      {
        "duration": 91,
        "start_time": "2021-06-23T18:52:57.991Z"
      },
      {
        "duration": 670,
        "start_time": "2021-06-23T18:53:06.687Z"
      },
      {
        "duration": 596,
        "start_time": "2021-06-23T18:53:35.951Z"
      },
      {
        "duration": 745,
        "start_time": "2021-06-23T18:53:58.575Z"
      },
      {
        "duration": 78,
        "start_time": "2021-06-23T18:53:59.323Z"
      },
      {
        "duration": 32,
        "start_time": "2021-06-23T18:53:59.405Z"
      },
      {
        "duration": 272,
        "start_time": "2021-06-23T18:53:59.440Z"
      },
      {
        "duration": 43,
        "start_time": "2021-06-23T18:53:59.715Z"
      },
      {
        "duration": 43,
        "start_time": "2021-06-23T18:53:59.761Z"
      },
      {
        "duration": 38,
        "start_time": "2021-06-23T18:53:59.807Z"
      },
      {
        "duration": 50,
        "start_time": "2021-06-23T18:53:59.848Z"
      },
      {
        "duration": 265,
        "start_time": "2021-06-23T18:53:59.904Z"
      },
      {
        "duration": 27,
        "start_time": "2021-06-23T18:54:00.173Z"
      },
      {
        "duration": 28,
        "start_time": "2021-06-23T18:54:00.203Z"
      },
      {
        "duration": 27,
        "start_time": "2021-06-23T18:54:00.234Z"
      },
      {
        "duration": 327,
        "start_time": "2021-06-23T18:54:00.264Z"
      },
      {
        "duration": 369,
        "start_time": "2021-06-23T18:54:00.594Z"
      },
      {
        "duration": 7,
        "start_time": "2021-06-23T18:54:00.965Z"
      },
      {
        "duration": 576,
        "start_time": "2021-06-23T18:54:00.986Z"
      },
      {
        "duration": 457,
        "start_time": "2021-06-23T18:54:01.564Z"
      },
      {
        "duration": 444,
        "start_time": "2021-06-23T18:54:02.024Z"
      },
      {
        "duration": 157,
        "start_time": "2021-06-23T18:54:02.470Z"
      },
      {
        "duration": 479,
        "start_time": "2021-06-23T18:54:02.630Z"
      },
      {
        "duration": 15,
        "start_time": "2021-06-23T18:54:03.112Z"
      },
      {
        "duration": 1110,
        "start_time": "2021-06-23T18:54:03.129Z"
      },
      {
        "duration": 10,
        "start_time": "2021-06-23T18:54:04.241Z"
      },
      {
        "duration": 36,
        "start_time": "2021-06-23T18:54:04.254Z"
      },
      {
        "duration": 316,
        "start_time": "2021-06-23T18:54:04.293Z"
      },
      {
        "duration": 594,
        "start_time": "2021-06-23T18:54:08.223Z"
      },
      {
        "duration": 605,
        "start_time": "2021-06-23T18:54:51.019Z"
      },
      {
        "duration": 464,
        "start_time": "2021-06-23T18:55:10.296Z"
      },
      {
        "duration": 314,
        "start_time": "2021-06-23T18:56:21.509Z"
      },
      {
        "duration": 342,
        "start_time": "2021-06-23T18:56:42.129Z"
      },
      {
        "duration": 45,
        "start_time": "2021-06-23T18:56:45.266Z"
      },
      {
        "duration": 378,
        "start_time": "2021-06-23T18:57:03.463Z"
      },
      {
        "duration": 347,
        "start_time": "2021-06-23T18:57:16.405Z"
      },
      {
        "duration": 794,
        "start_time": "2021-06-23T18:57:33.270Z"
      },
      {
        "duration": 76,
        "start_time": "2021-06-23T18:57:34.067Z"
      },
      {
        "duration": 53,
        "start_time": "2021-06-23T18:57:34.146Z"
      },
      {
        "duration": 241,
        "start_time": "2021-06-23T18:57:34.202Z"
      },
      {
        "duration": 49,
        "start_time": "2021-06-23T18:57:34.445Z"
      },
      {
        "duration": 18,
        "start_time": "2021-06-23T18:57:34.497Z"
      },
      {
        "duration": 33,
        "start_time": "2021-06-23T18:57:34.518Z"
      },
      {
        "duration": 16,
        "start_time": "2021-06-23T18:57:34.587Z"
      },
      {
        "duration": 259,
        "start_time": "2021-06-23T18:57:34.606Z"
      },
      {
        "duration": 21,
        "start_time": "2021-06-23T18:57:34.867Z"
      },
      {
        "duration": 20,
        "start_time": "2021-06-23T18:57:34.890Z"
      },
      {
        "duration": 16,
        "start_time": "2021-06-23T18:57:34.913Z"
      },
      {
        "duration": 331,
        "start_time": "2021-06-23T18:57:34.932Z"
      },
      {
        "duration": 375,
        "start_time": "2021-06-23T18:57:35.266Z"
      },
      {
        "duration": 6,
        "start_time": "2021-06-23T18:57:35.644Z"
      },
      {
        "duration": 583,
        "start_time": "2021-06-23T18:57:35.653Z"
      },
      {
        "duration": 447,
        "start_time": "2021-06-23T18:57:36.238Z"
      },
      {
        "duration": 446,
        "start_time": "2021-06-23T18:57:36.688Z"
      },
      {
        "duration": 152,
        "start_time": "2021-06-23T18:57:37.137Z"
      },
      {
        "duration": 498,
        "start_time": "2021-06-23T18:57:37.292Z"
      },
      {
        "duration": 18,
        "start_time": "2021-06-23T18:57:37.793Z"
      },
      {
        "duration": 1084,
        "start_time": "2021-06-23T18:57:37.815Z"
      },
      {
        "duration": 11,
        "start_time": "2021-06-23T18:57:38.905Z"
      },
      {
        "duration": 16,
        "start_time": "2021-06-23T18:57:38.919Z"
      },
      {
        "duration": 358,
        "start_time": "2021-06-23T18:57:38.938Z"
      },
      {
        "duration": 346,
        "start_time": "2021-06-23T18:57:50.682Z"
      },
      {
        "duration": 3661,
        "start_time": "2021-06-23T18:59:36.724Z"
      },
      {
        "duration": 61,
        "start_time": "2021-06-23T18:59:51.495Z"
      },
      {
        "duration": 555,
        "start_time": "2021-06-23T19:00:10.586Z"
      },
      {
        "duration": 33,
        "start_time": "2021-06-23T19:00:24.378Z"
      },
      {
        "duration": 581,
        "start_time": "2021-06-23T19:05:19.395Z"
      },
      {
        "duration": 166,
        "start_time": "2021-06-23T19:05:26.574Z"
      },
      {
        "duration": 165,
        "start_time": "2021-06-23T19:06:20.672Z"
      },
      {
        "duration": 169,
        "start_time": "2021-06-23T19:06:33.562Z"
      },
      {
        "duration": 303,
        "start_time": "2021-06-23T19:19:42.174Z"
      },
      {
        "duration": 335,
        "start_time": "2021-06-23T19:20:41.383Z"
      },
      {
        "duration": 330,
        "start_time": "2021-06-23T19:23:11.847Z"
      },
      {
        "duration": 338,
        "start_time": "2021-06-23T19:23:23.770Z"
      },
      {
        "duration": 760,
        "start_time": "2021-06-23T19:23:31.893Z"
      },
      {
        "duration": 85,
        "start_time": "2021-06-23T19:23:32.655Z"
      },
      {
        "duration": 46,
        "start_time": "2021-06-23T19:23:32.743Z"
      },
      {
        "duration": 246,
        "start_time": "2021-06-23T19:23:32.791Z"
      },
      {
        "duration": 50,
        "start_time": "2021-06-23T19:23:33.040Z"
      },
      {
        "duration": 19,
        "start_time": "2021-06-23T19:23:33.093Z"
      },
      {
        "duration": 33,
        "start_time": "2021-06-23T19:23:33.115Z"
      },
      {
        "duration": 16,
        "start_time": "2021-06-23T19:23:33.186Z"
      },
      {
        "duration": 257,
        "start_time": "2021-06-23T19:23:33.206Z"
      },
      {
        "duration": 24,
        "start_time": "2021-06-23T19:23:33.467Z"
      },
      {
        "duration": 29,
        "start_time": "2021-06-23T19:23:33.494Z"
      },
      {
        "duration": 19,
        "start_time": "2021-06-23T19:23:33.526Z"
      },
      {
        "duration": 482,
        "start_time": "2021-06-23T19:23:33.548Z"
      },
      {
        "duration": 551,
        "start_time": "2021-06-23T19:23:34.034Z"
      },
      {
        "duration": 8,
        "start_time": "2021-06-23T19:23:34.589Z"
      },
      {
        "duration": 924,
        "start_time": "2021-06-23T19:23:34.600Z"
      },
      {
        "duration": 687,
        "start_time": "2021-06-23T19:23:35.527Z"
      },
      {
        "duration": 673,
        "start_time": "2021-06-23T19:23:36.217Z"
      },
      {
        "duration": 239,
        "start_time": "2021-06-23T19:23:36.893Z"
      },
      {
        "duration": 766,
        "start_time": "2021-06-23T19:23:37.136Z"
      },
      {
        "duration": 17,
        "start_time": "2021-06-23T19:23:37.905Z"
      },
      {
        "duration": 1144,
        "start_time": "2021-06-23T19:23:37.925Z"
      },
      {
        "duration": 15,
        "start_time": "2021-06-23T19:23:39.072Z"
      },
      {
        "duration": 18,
        "start_time": "2021-06-23T19:23:39.090Z"
      },
      {
        "duration": 348,
        "start_time": "2021-06-23T19:23:39.111Z"
      },
      {
        "duration": 529,
        "start_time": "2021-06-23T19:23:39.462Z"
      },
      {
        "duration": 41,
        "start_time": "2021-06-23T19:23:39.996Z"
      },
      {
        "duration": 251,
        "start_time": "2021-06-23T19:23:40.040Z"
      },
      {
        "duration": 322,
        "start_time": "2021-06-23T19:24:06.886Z"
      },
      {
        "duration": 312,
        "start_time": "2021-06-23T19:24:18.408Z"
      },
      {
        "duration": 310,
        "start_time": "2021-06-23T19:25:37.038Z"
      },
      {
        "duration": 366,
        "start_time": "2021-06-23T19:26:32.114Z"
      },
      {
        "duration": 397,
        "start_time": "2021-06-23T19:26:36.674Z"
      },
      {
        "duration": 178,
        "start_time": "2021-06-23T19:29:02.660Z"
      },
      {
        "duration": 320,
        "start_time": "2021-06-23T19:29:06.353Z"
      },
      {
        "duration": 184,
        "start_time": "2021-06-23T19:29:15.183Z"
      },
      {
        "duration": 167,
        "start_time": "2021-06-23T19:30:05.478Z"
      },
      {
        "duration": 167,
        "start_time": "2021-06-23T19:30:30.458Z"
      },
      {
        "duration": 6057,
        "start_time": "2021-06-23T19:32:55.386Z"
      },
      {
        "duration": 173,
        "start_time": "2021-06-23T19:33:13.252Z"
      },
      {
        "duration": 349,
        "start_time": "2021-06-23T19:41:19.876Z"
      },
      {
        "duration": 277,
        "start_time": "2021-06-23T19:42:13.173Z"
      },
      {
        "duration": 319,
        "start_time": "2021-06-23T19:42:14.230Z"
      },
      {
        "duration": 182,
        "start_time": "2021-06-23T19:43:33.847Z"
      },
      {
        "duration": 467,
        "start_time": "2021-06-23T19:44:09.402Z"
      },
      {
        "duration": 167,
        "start_time": "2021-06-23T19:44:36.098Z"
      },
      {
        "duration": 796,
        "start_time": "2021-06-23T19:44:48.756Z"
      },
      {
        "duration": 179,
        "start_time": "2021-06-23T19:45:01.209Z"
      },
      {
        "duration": 320,
        "start_time": "2021-06-23T19:45:05.478Z"
      },
      {
        "duration": 2075,
        "start_time": "2021-06-23T19:49:49.633Z"
      },
      {
        "duration": 327,
        "start_time": "2021-06-23T19:50:42.638Z"
      },
      {
        "duration": 337,
        "start_time": "2021-06-23T19:51:30.334Z"
      },
      {
        "duration": 298,
        "start_time": "2021-06-23T19:52:01.732Z"
      },
      {
        "duration": 9292,
        "start_time": "2021-06-23T19:52:15.772Z"
      },
      {
        "duration": 2380,
        "start_time": "2021-06-25T09:40:51.889Z"
      },
      {
        "duration": 77,
        "start_time": "2021-06-25T09:40:54.272Z"
      },
      {
        "duration": 52,
        "start_time": "2021-06-25T09:40:54.352Z"
      },
      {
        "duration": 259,
        "start_time": "2021-06-25T09:40:54.407Z"
      },
      {
        "duration": 43,
        "start_time": "2021-06-25T09:40:54.668Z"
      },
      {
        "duration": 18,
        "start_time": "2021-06-25T09:40:54.714Z"
      },
      {
        "duration": 34,
        "start_time": "2021-06-25T09:40:54.762Z"
      },
      {
        "duration": 16,
        "start_time": "2021-06-25T09:40:54.800Z"
      },
      {
        "duration": 294,
        "start_time": "2021-06-25T09:40:54.819Z"
      },
      {
        "duration": 16,
        "start_time": "2021-06-25T09:40:55.115Z"
      },
      {
        "duration": 36,
        "start_time": "2021-06-25T09:40:55.133Z"
      },
      {
        "duration": 11,
        "start_time": "2021-06-25T09:40:55.172Z"
      },
      {
        "duration": 352,
        "start_time": "2021-06-25T09:40:55.185Z"
      },
      {
        "duration": 406,
        "start_time": "2021-06-25T09:40:55.540Z"
      },
      {
        "duration": 12,
        "start_time": "2021-06-25T09:40:55.949Z"
      },
      {
        "duration": 667,
        "start_time": "2021-06-25T09:40:55.963Z"
      },
      {
        "duration": 472,
        "start_time": "2021-06-25T09:40:56.632Z"
      },
      {
        "duration": 516,
        "start_time": "2021-06-25T09:40:57.107Z"
      },
      {
        "duration": 185,
        "start_time": "2021-06-25T09:40:57.625Z"
      },
      {
        "duration": 494,
        "start_time": "2021-06-25T09:40:57.812Z"
      },
      {
        "duration": 16,
        "start_time": "2021-06-25T09:40:58.308Z"
      },
      {
        "duration": 1189,
        "start_time": "2021-06-25T09:40:58.327Z"
      },
      {
        "duration": 9,
        "start_time": "2021-06-25T09:40:59.523Z"
      },
      {
        "duration": 33,
        "start_time": "2021-06-25T09:40:59.537Z"
      },
      {
        "duration": 348,
        "start_time": "2021-06-25T09:40:59.573Z"
      },
      {
        "duration": 578,
        "start_time": "2021-06-25T09:40:59.924Z"
      },
      {
        "duration": 31,
        "start_time": "2021-06-25T09:41:00.504Z"
      },
      {
        "duration": 243,
        "start_time": "2021-06-25T09:41:00.538Z"
      },
      {
        "duration": 852,
        "start_time": "2021-06-25T09:41:00.783Z"
      },
      {
        "duration": -600,
        "start_time": "2021-06-25T09:41:02.239Z"
      },
      {
        "duration": -603,
        "start_time": "2021-06-25T09:41:02.244Z"
      },
      {
        "duration": -605,
        "start_time": "2021-06-25T09:41:02.247Z"
      },
      {
        "duration": -609,
        "start_time": "2021-06-25T09:41:02.253Z"
      },
      {
        "duration": -612,
        "start_time": "2021-06-25T09:41:02.257Z"
      },
      {
        "duration": -598,
        "start_time": "2021-06-25T09:41:02.260Z"
      },
      {
        "duration": -600,
        "start_time": "2021-06-25T09:41:02.263Z"
      },
      {
        "duration": -603,
        "start_time": "2021-06-25T09:41:02.268Z"
      },
      {
        "duration": -605,
        "start_time": "2021-06-25T09:41:02.271Z"
      },
      {
        "duration": -608,
        "start_time": "2021-06-25T09:41:02.275Z"
      },
      {
        "duration": -609,
        "start_time": "2021-06-25T09:41:02.278Z"
      },
      {
        "duration": -612,
        "start_time": "2021-06-25T09:41:02.282Z"
      },
      {
        "duration": -614,
        "start_time": "2021-06-25T09:41:02.286Z"
      },
      {
        "duration": -616,
        "start_time": "2021-06-25T09:41:02.289Z"
      },
      {
        "duration": -619,
        "start_time": "2021-06-25T09:41:02.293Z"
      },
      {
        "duration": -622,
        "start_time": "2021-06-25T09:41:02.298Z"
      },
      {
        "duration": -631,
        "start_time": "2021-06-25T09:41:02.308Z"
      },
      {
        "duration": -633,
        "start_time": "2021-06-25T09:41:02.312Z"
      },
      {
        "duration": -636,
        "start_time": "2021-06-25T09:41:02.316Z"
      },
      {
        "duration": -670,
        "start_time": "2021-06-25T09:41:02.351Z"
      },
      {
        "duration": -714,
        "start_time": "2021-06-25T09:41:02.396Z"
      },
      {
        "duration": -717,
        "start_time": "2021-06-25T09:41:02.400Z"
      },
      {
        "duration": -719,
        "start_time": "2021-06-25T09:41:02.404Z"
      },
      {
        "duration": -722,
        "start_time": "2021-06-25T09:41:02.408Z"
      },
      {
        "duration": -724,
        "start_time": "2021-06-25T09:41:02.411Z"
      },
      {
        "duration": -727,
        "start_time": "2021-06-25T09:41:02.415Z"
      },
      {
        "duration": -728,
        "start_time": "2021-06-25T09:41:02.418Z"
      },
      {
        "duration": -731,
        "start_time": "2021-06-25T09:41:02.422Z"
      },
      {
        "duration": -733,
        "start_time": "2021-06-25T09:41:02.425Z"
      },
      {
        "duration": -736,
        "start_time": "2021-06-25T09:41:02.429Z"
      },
      {
        "duration": -737,
        "start_time": "2021-06-25T09:41:02.432Z"
      },
      {
        "duration": -738,
        "start_time": "2021-06-25T09:41:02.435Z"
      },
      {
        "duration": -739,
        "start_time": "2021-06-25T09:41:02.438Z"
      },
      {
        "duration": -742,
        "start_time": "2021-06-25T09:41:02.442Z"
      },
      {
        "duration": -765,
        "start_time": "2021-06-25T09:41:02.528Z"
      },
      {
        "duration": -766,
        "start_time": "2021-06-25T09:41:02.531Z"
      },
      {
        "duration": -769,
        "start_time": "2021-06-25T09:41:02.536Z"
      },
      {
        "duration": -775,
        "start_time": "2021-06-25T09:41:02.544Z"
      },
      {
        "duration": -789,
        "start_time": "2021-06-25T09:41:02.560Z"
      },
      {
        "duration": -794,
        "start_time": "2021-06-25T09:41:02.567Z"
      },
      {
        "duration": -803,
        "start_time": "2021-06-25T09:41:02.578Z"
      },
      {
        "duration": -805,
        "start_time": "2021-06-25T09:41:02.582Z"
      },
      {
        "duration": -807,
        "start_time": "2021-06-25T09:41:02.586Z"
      },
      {
        "duration": 15,
        "start_time": "2021-06-25T09:46:22.593Z"
      },
      {
        "duration": 603,
        "start_time": "2021-06-25T09:48:44.737Z"
      },
      {
        "duration": 601,
        "start_time": "2021-06-25T09:48:53.905Z"
      },
      {
        "duration": 256,
        "start_time": "2021-06-25T09:50:04.545Z"
      },
      {
        "duration": 32,
        "start_time": "2021-06-25T09:50:37.189Z"
      },
      {
        "duration": 30,
        "start_time": "2021-06-25T09:50:44.653Z"
      },
      {
        "duration": 221,
        "start_time": "2021-06-25T09:50:48.330Z"
      },
      {
        "duration": 500,
        "start_time": "2021-06-25T09:59:50.970Z"
      },
      {
        "duration": 343,
        "start_time": "2021-06-25T10:01:09.254Z"
      },
      {
        "duration": 351,
        "start_time": "2021-06-25T10:01:19.509Z"
      },
      {
        "duration": 328,
        "start_time": "2021-06-25T10:01:33.893Z"
      },
      {
        "duration": 389,
        "start_time": "2021-06-25T10:02:25.702Z"
      },
      {
        "duration": 432,
        "start_time": "2021-06-25T10:02:52.414Z"
      },
      {
        "duration": 2116,
        "start_time": "2021-06-25T10:03:20.537Z"
      },
      {
        "duration": 355,
        "start_time": "2021-06-25T10:04:11.993Z"
      },
      {
        "duration": 4,
        "start_time": "2021-06-25T10:04:32.361Z"
      },
      {
        "duration": 7,
        "start_time": "2021-06-25T10:04:40.841Z"
      },
      {
        "duration": 377,
        "start_time": "2021-06-25T10:05:02.045Z"
      },
      {
        "duration": 329,
        "start_time": "2021-06-25T10:18:13.918Z"
      },
      {
        "duration": 7,
        "start_time": "2021-06-25T10:18:29.278Z"
      },
      {
        "duration": 7,
        "start_time": "2021-06-25T10:18:51.102Z"
      },
      {
        "duration": 11,
        "start_time": "2021-06-25T10:18:58.570Z"
      },
      {
        "duration": 6,
        "start_time": "2021-06-25T10:19:05.646Z"
      },
      {
        "duration": 23,
        "start_time": "2021-06-25T10:19:14.653Z"
      },
      {
        "duration": 6,
        "start_time": "2021-06-25T10:19:34.634Z"
      },
      {
        "duration": 6764,
        "start_time": "2021-06-25T10:19:44.910Z"
      },
      {
        "duration": 7,
        "start_time": "2021-06-25T10:19:57.558Z"
      },
      {
        "duration": 10994,
        "start_time": "2021-06-25T10:20:09.590Z"
      },
      {
        "duration": 7,
        "start_time": "2021-06-25T10:20:29.217Z"
      },
      {
        "duration": 336,
        "start_time": "2021-06-25T10:20:48.413Z"
      },
      {
        "duration": 323,
        "start_time": "2021-06-25T10:20:55.246Z"
      },
      {
        "duration": 7,
        "start_time": "2021-06-25T10:21:16.617Z"
      },
      {
        "duration": 185,
        "start_time": "2021-06-25T10:21:41.365Z"
      },
      {
        "duration": 8,
        "start_time": "2021-06-25T10:21:44.754Z"
      },
      {
        "duration": 7,
        "start_time": "2021-06-25T10:21:57.337Z"
      },
      {
        "duration": 184,
        "start_time": "2021-06-25T10:22:12.457Z"
      },
      {
        "duration": 380,
        "start_time": "2021-06-25T10:23:52.878Z"
      },
      {
        "duration": 362,
        "start_time": "2021-06-25T10:24:00.565Z"
      },
      {
        "duration": 159,
        "start_time": "2021-06-25T10:26:06.005Z"
      },
      {
        "duration": 312,
        "start_time": "2021-06-25T10:26:51.513Z"
      },
      {
        "duration": 171,
        "start_time": "2021-06-25T10:27:13.313Z"
      },
      {
        "duration": 159,
        "start_time": "2021-06-25T10:27:26.061Z"
      },
      {
        "duration": 365,
        "start_time": "2021-06-25T10:27:28.710Z"
      },
      {
        "duration": 360,
        "start_time": "2021-06-25T10:27:45.874Z"
      },
      {
        "duration": 537,
        "start_time": "2021-06-25T10:27:53.605Z"
      },
      {
        "duration": 11,
        "start_time": "2021-06-25T10:28:02.857Z"
      },
      {
        "duration": 403,
        "start_time": "2021-06-25T10:28:20.101Z"
      },
      {
        "duration": 352,
        "start_time": "2021-06-25T10:28:28.513Z"
      },
      {
        "duration": 160,
        "start_time": "2021-06-25T10:28:46.321Z"
      },
      {
        "duration": 371,
        "start_time": "2021-06-25T10:28:48.421Z"
      },
      {
        "duration": 165,
        "start_time": "2021-06-25T10:28:59.457Z"
      },
      {
        "duration": 606,
        "start_time": "2021-06-25T10:29:11.234Z"
      },
      {
        "duration": 797,
        "start_time": "2021-06-25T10:29:22.522Z"
      },
      {
        "duration": 74,
        "start_time": "2021-06-25T10:29:23.321Z"
      },
      {
        "duration": 34,
        "start_time": "2021-06-25T10:29:23.398Z"
      },
      {
        "duration": 256,
        "start_time": "2021-06-25T10:29:23.435Z"
      },
      {
        "duration": 41,
        "start_time": "2021-06-25T10:29:23.694Z"
      },
      {
        "duration": 42,
        "start_time": "2021-06-25T10:29:23.737Z"
      },
      {
        "duration": 34,
        "start_time": "2021-06-25T10:29:23.781Z"
      },
      {
        "duration": 53,
        "start_time": "2021-06-25T10:29:23.819Z"
      },
      {
        "duration": 359,
        "start_time": "2021-06-25T10:29:23.874Z"
      },
      {
        "duration": 25,
        "start_time": "2021-06-25T10:29:24.236Z"
      },
      {
        "duration": 12,
        "start_time": "2021-06-25T10:29:24.264Z"
      },
      {
        "duration": 11,
        "start_time": "2021-06-25T10:29:24.279Z"
      },
      {
        "duration": 353,
        "start_time": "2021-06-25T10:29:24.293Z"
      },
      {
        "duration": 385,
        "start_time": "2021-06-25T10:29:24.648Z"
      },
      {
        "duration": 7,
        "start_time": "2021-06-25T10:29:25.036Z"
      },
      {
        "duration": 609,
        "start_time": "2021-06-25T10:29:25.045Z"
      },
      {
        "duration": 488,
        "start_time": "2021-06-25T10:29:25.656Z"
      },
      {
        "duration": 454,
        "start_time": "2021-06-25T10:29:26.147Z"
      },
      {
        "duration": 160,
        "start_time": "2021-06-25T10:29:26.603Z"
      },
      {
        "duration": 507,
        "start_time": "2021-06-25T10:29:26.766Z"
      },
      {
        "duration": 15,
        "start_time": "2021-06-25T10:29:27.275Z"
      },
      {
        "duration": 1188,
        "start_time": "2021-06-25T10:29:27.292Z"
      },
      {
        "duration": 9,
        "start_time": "2021-06-25T10:29:28.485Z"
      },
      {
        "duration": 16,
        "start_time": "2021-06-25T10:29:28.496Z"
      },
      {
        "duration": 692,
        "start_time": "2021-06-25T10:29:28.514Z"
      },
      {
        "duration": 231,
        "start_time": "2021-06-25T10:29:29.209Z"
      },
      {
        "duration": 44,
        "start_time": "2021-06-25T10:29:29.443Z"
      },
      {
        "duration": 31,
        "start_time": "2021-06-25T10:29:32.674Z"
      },
      {
        "duration": 540,
        "start_time": "2021-06-25T10:29:39.186Z"
      },
      {
        "duration": 549,
        "start_time": "2021-06-25T10:30:03.037Z"
      },
      {
        "duration": 157,
        "start_time": "2021-06-25T10:30:06.766Z"
      },
      {
        "duration": 172,
        "start_time": "2021-06-25T10:30:12.138Z"
      },
      {
        "duration": 163,
        "start_time": "2021-06-25T10:30:19.501Z"
      },
      {
        "duration": 6,
        "start_time": "2021-06-25T10:31:23.877Z"
      },
      {
        "duration": 348,
        "start_time": "2021-06-25T10:31:44.962Z"
      },
      {
        "duration": 358,
        "start_time": "2021-06-25T10:32:04.154Z"
      },
      {
        "duration": 6,
        "start_time": "2021-06-25T10:32:14.814Z"
      },
      {
        "duration": 509,
        "start_time": "2021-06-25T10:32:36.758Z"
      },
      {
        "duration": 341,
        "start_time": "2021-06-25T10:33:00.337Z"
      },
      {
        "duration": 403,
        "start_time": "2021-06-25T10:33:11.110Z"
      },
      {
        "duration": 359,
        "start_time": "2021-06-25T10:33:17.274Z"
      },
      {
        "duration": 180,
        "start_time": "2021-06-25T10:33:30.789Z"
      },
      {
        "duration": 374,
        "start_time": "2021-06-25T10:34:05.701Z"
      },
      {
        "duration": 16,
        "start_time": "2021-06-25T10:34:19.645Z"
      },
      {
        "duration": 14,
        "start_time": "2021-06-25T10:34:52.665Z"
      },
      {
        "duration": 26,
        "start_time": "2021-06-25T10:34:59.737Z"
      },
      {
        "duration": 25,
        "start_time": "2021-06-25T10:35:47.218Z"
      },
      {
        "duration": 366,
        "start_time": "2021-06-25T10:36:01.329Z"
      },
      {
        "duration": 418,
        "start_time": "2021-06-25T10:37:24.121Z"
      },
      {
        "duration": 22,
        "start_time": "2021-06-25T10:37:32.441Z"
      },
      {
        "duration": 22,
        "start_time": "2021-06-25T10:37:39.649Z"
      },
      {
        "duration": 18,
        "start_time": "2021-06-25T10:38:01.345Z"
      },
      {
        "duration": 7,
        "start_time": "2021-06-25T10:38:21.437Z"
      },
      {
        "duration": 23,
        "start_time": "2021-06-25T10:42:18.809Z"
      },
      {
        "duration": 6,
        "start_time": "2021-06-25T10:42:29.789Z"
      },
      {
        "duration": 7,
        "start_time": "2021-06-25T10:42:41.301Z"
      },
      {
        "duration": 347,
        "start_time": "2021-06-25T10:42:58.069Z"
      },
      {
        "duration": 383,
        "start_time": "2021-06-25T10:43:34.597Z"
      },
      {
        "duration": 13,
        "start_time": "2021-06-25T10:44:03.389Z"
      },
      {
        "duration": 531,
        "start_time": "2021-06-25T10:47:17.085Z"
      },
      {
        "duration": 571,
        "start_time": "2021-06-25T10:47:27.487Z"
      },
      {
        "duration": 474,
        "start_time": "2021-06-25T10:50:11.033Z"
      },
      {
        "duration": 165,
        "start_time": "2021-06-25T10:51:14.609Z"
      },
      {
        "duration": 11,
        "start_time": "2021-06-25T10:51:29.506Z"
      },
      {
        "duration": 7,
        "start_time": "2021-06-25T10:51:37.229Z"
      },
      {
        "duration": 9,
        "start_time": "2021-06-25T10:51:53.685Z"
      },
      {
        "duration": 7,
        "start_time": "2021-06-25T10:51:59.829Z"
      },
      {
        "duration": 356,
        "start_time": "2021-06-25T10:52:06.861Z"
      },
      {
        "duration": 12,
        "start_time": "2021-06-25T10:52:15.710Z"
      },
      {
        "duration": 281,
        "start_time": "2021-06-25T10:56:41.845Z"
      },
      {
        "duration": 311,
        "start_time": "2021-06-25T10:56:54.806Z"
      },
      {
        "duration": 18,
        "start_time": "2021-06-25T10:57:45.381Z"
      },
      {
        "duration": 789,
        "start_time": "2021-06-25T10:57:55.073Z"
      },
      {
        "duration": 73,
        "start_time": "2021-06-25T10:57:55.865Z"
      },
      {
        "duration": 44,
        "start_time": "2021-06-25T10:57:55.940Z"
      },
      {
        "duration": 247,
        "start_time": "2021-06-25T10:57:55.987Z"
      },
      {
        "duration": 51,
        "start_time": "2021-06-25T10:57:56.236Z"
      },
      {
        "duration": 17,
        "start_time": "2021-06-25T10:57:56.289Z"
      },
      {
        "duration": 57,
        "start_time": "2021-06-25T10:57:56.309Z"
      },
      {
        "duration": 16,
        "start_time": "2021-06-25T10:57:56.369Z"
      },
      {
        "duration": 279,
        "start_time": "2021-06-25T10:57:56.388Z"
      },
      {
        "duration": 16,
        "start_time": "2021-06-25T10:57:56.669Z"
      },
      {
        "duration": 16,
        "start_time": "2021-06-25T10:57:56.688Z"
      },
      {
        "duration": 55,
        "start_time": "2021-06-25T10:57:56.707Z"
      },
      {
        "duration": 332,
        "start_time": "2021-06-25T10:57:56.765Z"
      },
      {
        "duration": 410,
        "start_time": "2021-06-25T10:57:57.100Z"
      },
      {
        "duration": 7,
        "start_time": "2021-06-25T10:57:57.513Z"
      },
      {
        "duration": 633,
        "start_time": "2021-06-25T10:57:57.523Z"
      },
      {
        "duration": 478,
        "start_time": "2021-06-25T10:57:58.162Z"
      },
      {
        "duration": 544,
        "start_time": "2021-06-25T10:57:58.642Z"
      },
      {
        "duration": 166,
        "start_time": "2021-06-25T10:57:59.188Z"
      },
      {
        "duration": 518,
        "start_time": "2021-06-25T10:57:59.361Z"
      },
      {
        "duration": 14,
        "start_time": "2021-06-25T10:57:59.882Z"
      },
      {
        "duration": 1141,
        "start_time": "2021-06-25T10:57:59.899Z"
      },
      {
        "duration": 24,
        "start_time": "2021-06-25T10:58:01.044Z"
      },
      {
        "duration": 35,
        "start_time": "2021-06-25T10:58:01.071Z"
      },
      {
        "duration": 656,
        "start_time": "2021-06-25T10:58:01.109Z"
      },
      {
        "duration": 256,
        "start_time": "2021-06-25T10:58:01.768Z"
      },
      {
        "duration": 50,
        "start_time": "2021-06-25T10:58:02.027Z"
      },
      {
        "duration": 233,
        "start_time": "2021-06-25T10:58:02.080Z"
      },
      {
        "duration": 167,
        "start_time": "2021-06-25T10:58:07.057Z"
      },
      {
        "duration": 16,
        "start_time": "2021-06-25T10:58:10.453Z"
      },
      {
        "duration": 37,
        "start_time": "2021-06-25T10:58:14.497Z"
      },
      {
        "duration": 25,
        "start_time": "2021-06-25T10:58:20.697Z"
      },
      {
        "duration": 6,
        "start_time": "2021-06-25T10:58:58.073Z"
      },
      {
        "duration": 794,
        "start_time": "2021-06-25T10:59:18.137Z"
      },
      {
        "duration": 161,
        "start_time": "2021-06-25T10:59:28.133Z"
      },
      {
        "duration": 17,
        "start_time": "2021-06-25T10:59:29.045Z"
      },
      {
        "duration": 6,
        "start_time": "2021-06-25T10:59:30.405Z"
      },
      {
        "duration": 36,
        "start_time": "2021-06-25T10:59:31.965Z"
      },
      {
        "duration": 35,
        "start_time": "2021-06-25T10:59:37.425Z"
      },
      {
        "duration": 16,
        "start_time": "2021-06-25T10:59:38.181Z"
      },
      {
        "duration": 802,
        "start_time": "2021-06-25T10:59:52.841Z"
      },
      {
        "duration": 16,
        "start_time": "2021-06-25T11:00:12.309Z"
      },
      {
        "duration": 1249,
        "start_time": "2021-06-25T11:03:08.381Z"
      },
      {
        "duration": 1362,
        "start_time": "2021-06-25T11:06:21.064Z"
      },
      {
        "duration": 1117,
        "start_time": "2021-06-25T11:06:38.400Z"
      },
      {
        "duration": 796,
        "start_time": "2021-06-25T11:15:58.288Z"
      },
      {
        "duration": 80,
        "start_time": "2021-06-25T11:15:59.086Z"
      },
      {
        "duration": 33,
        "start_time": "2021-06-25T11:15:59.169Z"
      },
      {
        "duration": 246,
        "start_time": "2021-06-25T11:15:59.205Z"
      },
      {
        "duration": 45,
        "start_time": "2021-06-25T11:15:59.454Z"
      },
      {
        "duration": 20,
        "start_time": "2021-06-25T11:15:59.501Z"
      },
      {
        "duration": 63,
        "start_time": "2021-06-25T11:15:59.523Z"
      },
      {
        "duration": 15,
        "start_time": "2021-06-25T11:15:59.589Z"
      },
      {
        "duration": 283,
        "start_time": "2021-06-25T11:15:59.608Z"
      },
      {
        "duration": 16,
        "start_time": "2021-06-25T11:15:59.894Z"
      },
      {
        "duration": 13,
        "start_time": "2021-06-25T11:15:59.914Z"
      },
      {
        "duration": 26,
        "start_time": "2021-06-25T11:15:59.947Z"
      },
      {
        "duration": 338,
        "start_time": "2021-06-25T11:15:59.976Z"
      },
      {
        "duration": 386,
        "start_time": "2021-06-25T11:16:00.316Z"
      },
      {
        "duration": 7,
        "start_time": "2021-06-25T11:16:00.705Z"
      },
      {
        "duration": 621,
        "start_time": "2021-06-25T11:16:00.715Z"
      },
      {
        "duration": 766,
        "start_time": "2021-06-25T11:16:01.339Z"
      },
      {
        "duration": 634,
        "start_time": "2021-06-25T11:16:02.108Z"
      },
      {
        "duration": 181,
        "start_time": "2021-06-25T11:16:02.745Z"
      },
      {
        "duration": 497,
        "start_time": "2021-06-25T11:16:02.929Z"
      },
      {
        "duration": 17,
        "start_time": "2021-06-25T11:16:03.428Z"
      },
      {
        "duration": 1136,
        "start_time": "2021-06-25T11:16:03.463Z"
      },
      {
        "duration": 9,
        "start_time": "2021-06-25T11:16:04.601Z"
      },
      {
        "duration": 14,
        "start_time": "2021-06-25T11:16:04.613Z"
      },
      {
        "duration": 670,
        "start_time": "2021-06-25T11:16:04.629Z"
      },
      {
        "duration": 249,
        "start_time": "2021-06-25T11:16:05.302Z"
      },
      {
        "duration": 33,
        "start_time": "2021-06-25T11:16:05.568Z"
      },
      {
        "duration": 233,
        "start_time": "2021-06-25T11:16:05.605Z"
      },
      {
        "duration": 1104,
        "start_time": "2021-06-25T11:16:05.841Z"
      },
      {
        "duration": 6086,
        "start_time": "2021-06-25T11:16:06.947Z"
      },
      {
        "duration": -597,
        "start_time": "2021-06-25T11:16:13.633Z"
      },
      {
        "duration": -604,
        "start_time": "2021-06-25T11:16:13.641Z"
      },
      {
        "duration": -606,
        "start_time": "2021-06-25T11:16:13.645Z"
      },
      {
        "duration": -609,
        "start_time": "2021-06-25T11:16:13.649Z"
      },
      {
        "duration": -614,
        "start_time": "2021-06-25T11:16:13.655Z"
      },
      {
        "duration": -615,
        "start_time": "2021-06-25T11:16:13.658Z"
      },
      {
        "duration": -617,
        "start_time": "2021-06-25T11:16:13.661Z"
      },
      {
        "duration": -619,
        "start_time": "2021-06-25T11:16:13.665Z"
      },
      {
        "duration": -622,
        "start_time": "2021-06-25T11:16:13.669Z"
      },
      {
        "duration": -624,
        "start_time": "2021-06-25T11:16:13.673Z"
      },
      {
        "duration": -626,
        "start_time": "2021-06-25T11:16:13.676Z"
      },
      {
        "duration": -628,
        "start_time": "2021-06-25T11:16:13.680Z"
      },
      {
        "duration": -631,
        "start_time": "2021-06-25T11:16:13.684Z"
      },
      {
        "duration": -632,
        "start_time": "2021-06-25T11:16:13.687Z"
      },
      {
        "duration": -634,
        "start_time": "2021-06-25T11:16:13.691Z"
      },
      {
        "duration": -637,
        "start_time": "2021-06-25T11:16:13.695Z"
      },
      {
        "duration": -638,
        "start_time": "2021-06-25T11:16:13.698Z"
      },
      {
        "duration": -660,
        "start_time": "2021-06-25T11:16:13.721Z"
      },
      {
        "duration": -661,
        "start_time": "2021-06-25T11:16:13.724Z"
      },
      {
        "duration": -665,
        "start_time": "2021-06-25T11:16:13.729Z"
      },
      {
        "duration": -672,
        "start_time": "2021-06-25T11:16:13.738Z"
      },
      {
        "duration": -675,
        "start_time": "2021-06-25T11:16:13.742Z"
      },
      {
        "duration": -678,
        "start_time": "2021-06-25T11:16:13.748Z"
      },
      {
        "duration": -683,
        "start_time": "2021-06-25T11:16:13.754Z"
      },
      {
        "duration": -686,
        "start_time": "2021-06-25T11:16:13.759Z"
      },
      {
        "duration": -690,
        "start_time": "2021-06-25T11:16:13.764Z"
      },
      {
        "duration": -695,
        "start_time": "2021-06-25T11:16:13.770Z"
      },
      {
        "duration": -697,
        "start_time": "2021-06-25T11:16:13.774Z"
      },
      {
        "duration": -699,
        "start_time": "2021-06-25T11:16:13.777Z"
      },
      {
        "duration": -702,
        "start_time": "2021-06-25T11:16:13.781Z"
      },
      {
        "duration": -704,
        "start_time": "2021-06-25T11:16:13.785Z"
      },
      {
        "duration": -707,
        "start_time": "2021-06-25T11:16:13.789Z"
      },
      {
        "duration": -708,
        "start_time": "2021-06-25T11:16:13.792Z"
      },
      {
        "duration": -712,
        "start_time": "2021-06-25T11:16:13.797Z"
      },
      {
        "duration": -713,
        "start_time": "2021-06-25T11:16:13.800Z"
      },
      {
        "duration": -716,
        "start_time": "2021-06-25T11:16:13.804Z"
      },
      {
        "duration": -719,
        "start_time": "2021-06-25T11:16:13.808Z"
      },
      {
        "duration": -721,
        "start_time": "2021-06-25T11:16:13.812Z"
      },
      {
        "duration": -736,
        "start_time": "2021-06-25T11:16:13.828Z"
      },
      {
        "duration": -738,
        "start_time": "2021-06-25T11:16:13.832Z"
      },
      {
        "duration": -741,
        "start_time": "2021-06-25T11:16:13.836Z"
      },
      {
        "duration": -744,
        "start_time": "2021-06-25T11:16:13.840Z"
      },
      {
        "duration": 1134,
        "start_time": "2021-06-25T11:21:30.588Z"
      },
      {
        "duration": 1426,
        "start_time": "2021-06-25T11:21:37.176Z"
      },
      {
        "duration": 1625,
        "start_time": "2021-06-25T11:21:45.977Z"
      },
      {
        "duration": 1573,
        "start_time": "2021-06-25T11:21:58.937Z"
      },
      {
        "duration": 1600,
        "start_time": "2021-06-25T11:22:14.325Z"
      },
      {
        "duration": 1675,
        "start_time": "2021-06-25T11:22:21.017Z"
      },
      {
        "duration": 6436,
        "start_time": "2021-06-25T11:23:17.588Z"
      },
      {
        "duration": 36,
        "start_time": "2021-06-25T11:24:45.668Z"
      },
      {
        "duration": 30,
        "start_time": "2021-06-25T11:25:01.220Z"
      },
      {
        "duration": 1221,
        "start_time": "2021-06-25T11:45:15.727Z"
      },
      {
        "duration": 6409,
        "start_time": "2021-06-25T11:46:29.805Z"
      },
      {
        "duration": 8,
        "start_time": "2021-06-25T11:46:39.465Z"
      },
      {
        "duration": 6,
        "start_time": "2021-06-25T11:46:49.981Z"
      },
      {
        "duration": 16,
        "start_time": "2021-06-25T11:47:09.185Z"
      },
      {
        "duration": 6,
        "start_time": "2021-06-25T11:47:23.889Z"
      },
      {
        "duration": 5,
        "start_time": "2021-06-25T11:47:33.249Z"
      },
      {
        "duration": 5,
        "start_time": "2021-06-25T11:47:52.957Z"
      },
      {
        "duration": 5,
        "start_time": "2021-06-25T11:48:09.589Z"
      },
      {
        "duration": 414,
        "start_time": "2021-06-25T11:52:15.620Z"
      },
      {
        "duration": 5,
        "start_time": "2021-06-25T11:52:49.443Z"
      },
      {
        "duration": 7,
        "start_time": "2021-06-25T11:57:06.108Z"
      },
      {
        "duration": 29,
        "start_time": "2021-06-25T12:12:17.908Z"
      },
      {
        "duration": 190,
        "start_time": "2021-06-25T12:12:17.939Z"
      },
      {
        "duration": 8,
        "start_time": "2021-06-25T12:12:18.132Z"
      },
      {
        "duration": 48,
        "start_time": "2021-06-25T12:12:18.143Z"
      },
      {
        "duration": 15,
        "start_time": "2021-06-25T12:12:18.193Z"
      },
      {
        "duration": 6,
        "start_time": "2021-06-25T12:12:18.211Z"
      },
      {
        "duration": 73,
        "start_time": "2021-06-25T12:12:18.219Z"
      },
      {
        "duration": 376,
        "start_time": "2021-06-25T12:12:18.296Z"
      },
      {
        "duration": -530,
        "start_time": "2021-06-25T12:12:19.205Z"
      },
      {
        "duration": -553,
        "start_time": "2021-06-25T12:12:19.230Z"
      },
      {
        "duration": -569,
        "start_time": "2021-06-25T12:12:19.247Z"
      },
      {
        "duration": -584,
        "start_time": "2021-06-25T12:12:19.264Z"
      },
      {
        "duration": -588,
        "start_time": "2021-06-25T12:12:19.269Z"
      },
      {
        "duration": -593,
        "start_time": "2021-06-25T12:12:19.276Z"
      },
      {
        "duration": -597,
        "start_time": "2021-06-25T12:12:19.281Z"
      },
      {
        "duration": -604,
        "start_time": "2021-06-25T12:12:19.289Z"
      },
      {
        "duration": -607,
        "start_time": "2021-06-25T12:12:19.294Z"
      },
      {
        "duration": -612,
        "start_time": "2021-06-25T12:12:19.300Z"
      },
      {
        "duration": -615,
        "start_time": "2021-06-25T12:12:19.304Z"
      },
      {
        "duration": -619,
        "start_time": "2021-06-25T12:12:19.310Z"
      },
      {
        "duration": -623,
        "start_time": "2021-06-25T12:12:19.315Z"
      },
      {
        "duration": -627,
        "start_time": "2021-06-25T12:12:19.320Z"
      },
      {
        "duration": -630,
        "start_time": "2021-06-25T12:12:19.324Z"
      },
      {
        "duration": -633,
        "start_time": "2021-06-25T12:12:19.329Z"
      },
      {
        "duration": -645,
        "start_time": "2021-06-25T12:12:19.342Z"
      },
      {
        "duration": -650,
        "start_time": "2021-06-25T12:12:19.348Z"
      },
      {
        "duration": -654,
        "start_time": "2021-06-25T12:12:19.353Z"
      },
      {
        "duration": -656,
        "start_time": "2021-06-25T12:12:19.357Z"
      },
      {
        "duration": -659,
        "start_time": "2021-06-25T12:12:19.361Z"
      },
      {
        "duration": -663,
        "start_time": "2021-06-25T12:12:19.366Z"
      },
      {
        "duration": -665,
        "start_time": "2021-06-25T12:12:19.369Z"
      },
      {
        "duration": -669,
        "start_time": "2021-06-25T12:12:19.375Z"
      },
      {
        "duration": -672,
        "start_time": "2021-06-25T12:12:19.379Z"
      },
      {
        "duration": -682,
        "start_time": "2021-06-25T12:12:19.390Z"
      },
      {
        "duration": -685,
        "start_time": "2021-06-25T12:12:19.394Z"
      },
      {
        "duration": -687,
        "start_time": "2021-06-25T12:12:19.398Z"
      },
      {
        "duration": -690,
        "start_time": "2021-06-25T12:12:19.402Z"
      },
      {
        "duration": -643,
        "start_time": "2021-06-25T12:12:19.405Z"
      },
      {
        "duration": -646,
        "start_time": "2021-06-25T12:12:19.409Z"
      },
      {
        "duration": -648,
        "start_time": "2021-06-25T12:12:19.413Z"
      },
      {
        "duration": -653,
        "start_time": "2021-06-25T12:12:19.419Z"
      },
      {
        "duration": -655,
        "start_time": "2021-06-25T12:12:19.422Z"
      },
      {
        "duration": 15,
        "start_time": "2021-06-25T12:12:33.951Z"
      },
      {
        "duration": 163,
        "start_time": "2021-06-25T12:13:12.639Z"
      },
      {
        "duration": 164,
        "start_time": "2021-06-25T12:14:32.695Z"
      },
      {
        "duration": 161,
        "start_time": "2021-06-25T12:15:34.003Z"
      },
      {
        "duration": 177,
        "start_time": "2021-06-25T12:15:45.959Z"
      },
      {
        "duration": 155,
        "start_time": "2021-06-25T12:25:20.655Z"
      },
      {
        "duration": 11,
        "start_time": "2021-06-25T12:25:26.539Z"
      },
      {
        "duration": 36,
        "start_time": "2021-06-25T12:25:31.179Z"
      },
      {
        "duration": 9,
        "start_time": "2021-06-25T12:25:40.787Z"
      },
      {
        "duration": 36,
        "start_time": "2021-06-25T12:25:42.895Z"
      },
      {
        "duration": 21,
        "start_time": "2021-06-25T12:26:02.363Z"
      },
      {
        "duration": 788,
        "start_time": "2021-06-25T12:26:26.063Z"
      },
      {
        "duration": 345,
        "start_time": "2021-06-25T12:26:38.663Z"
      },
      {
        "duration": 9,
        "start_time": "2021-06-25T12:26:48.183Z"
      },
      {
        "duration": 9,
        "start_time": "2021-06-25T12:26:56.287Z"
      },
      {
        "duration": 9,
        "start_time": "2021-06-25T12:26:56.871Z"
      },
      {
        "duration": 35,
        "start_time": "2021-06-25T12:26:57.579Z"
      },
      {
        "duration": 361,
        "start_time": "2021-06-25T12:27:18.243Z"
      },
      {
        "duration": 311,
        "start_time": "2021-06-25T12:27:32.987Z"
      },
      {
        "duration": 303,
        "start_time": "2021-06-25T12:29:44.815Z"
      },
      {
        "duration": 291,
        "start_time": "2021-06-25T12:39:52.643Z"
      },
      {
        "duration": 542,
        "start_time": "2021-06-25T12:40:40.294Z"
      },
      {
        "duration": 951,
        "start_time": "2021-06-25T12:41:15.346Z"
      },
      {
        "duration": 624,
        "start_time": "2021-06-25T12:41:48.455Z"
      },
      {
        "duration": 847,
        "start_time": "2021-06-25T12:41:54.903Z"
      },
      {
        "duration": 831,
        "start_time": "2021-06-25T12:42:00.859Z"
      },
      {
        "duration": 859,
        "start_time": "2021-06-25T12:42:05.643Z"
      },
      {
        "duration": 850,
        "start_time": "2021-06-25T12:42:17.767Z"
      },
      {
        "duration": 4884,
        "start_time": "2021-06-25T12:42:32.491Z"
      },
      {
        "duration": 4937,
        "start_time": "2021-06-25T12:42:47.255Z"
      },
      {
        "duration": 4960,
        "start_time": "2021-06-25T12:43:25.707Z"
      },
      {
        "duration": 101,
        "start_time": "2021-06-25T12:44:26.803Z"
      },
      {
        "duration": 106,
        "start_time": "2021-06-25T12:44:48.271Z"
      },
      {
        "duration": 106,
        "start_time": "2021-06-25T12:45:23.015Z"
      },
      {
        "duration": 117,
        "start_time": "2021-06-25T12:45:39.674Z"
      },
      {
        "duration": 3071,
        "start_time": "2021-06-25T12:45:57.243Z"
      },
      {
        "duration": 117,
        "start_time": "2021-06-25T12:46:27.162Z"
      },
      {
        "duration": 3075,
        "start_time": "2021-06-25T12:46:35.467Z"
      },
      {
        "duration": 19,
        "start_time": "2021-06-25T12:52:27.902Z"
      },
      {
        "duration": 12,
        "start_time": "2021-06-25T12:53:06.206Z"
      },
      {
        "duration": 26,
        "start_time": "2021-06-25T12:55:49.894Z"
      },
      {
        "duration": 11,
        "start_time": "2021-06-25T12:55:54.562Z"
      },
      {
        "duration": 8,
        "start_time": "2021-06-25T12:58:15.978Z"
      },
      {
        "duration": 27,
        "start_time": "2021-06-25T12:58:19.214Z"
      },
      {
        "duration": 12,
        "start_time": "2021-06-25T12:58:20.090Z"
      },
      {
        "duration": 342,
        "start_time": "2021-06-25T13:05:22.258Z"
      },
      {
        "duration": 17,
        "start_time": "2021-06-25T13:05:27.377Z"
      },
      {
        "duration": 324,
        "start_time": "2021-06-25T13:05:32.905Z"
      },
      {
        "duration": 343,
        "start_time": "2021-06-25T13:06:04.774Z"
      },
      {
        "duration": 6,
        "start_time": "2021-06-25T13:06:10.094Z"
      },
      {
        "duration": 23,
        "start_time": "2021-06-25T13:06:26.925Z"
      },
      {
        "duration": 18,
        "start_time": "2021-06-25T13:06:41.962Z"
      },
      {
        "duration": 189,
        "start_time": "2021-06-25T13:06:47.551Z"
      },
      {
        "duration": 9,
        "start_time": "2021-06-25T13:07:12.138Z"
      },
      {
        "duration": 28,
        "start_time": "2021-06-25T13:07:30.906Z"
      },
      {
        "duration": 26,
        "start_time": "2021-06-25T13:07:39.175Z"
      },
      {
        "duration": 12,
        "start_time": "2021-06-25T13:07:40.006Z"
      },
      {
        "duration": 23,
        "start_time": "2021-06-25T13:08:10.259Z"
      },
      {
        "duration": 26,
        "start_time": "2021-06-25T13:08:55.894Z"
      },
      {
        "duration": 12,
        "start_time": "2021-06-25T13:08:57.506Z"
      },
      {
        "duration": 6,
        "start_time": "2021-06-25T13:09:24.814Z"
      },
      {
        "duration": 7,
        "start_time": "2021-06-25T13:09:41.299Z"
      },
      {
        "duration": 10,
        "start_time": "2021-06-25T13:11:59.794Z"
      },
      {
        "duration": 23,
        "start_time": "2021-06-25T13:12:11.867Z"
      },
      {
        "duration": 3543,
        "start_time": "2021-06-25T13:13:46.310Z"
      },
      {
        "duration": 3102,
        "start_time": "2021-06-25T13:15:57.003Z"
      },
      {
        "duration": 3250,
        "start_time": "2021-06-25T13:23:46.215Z"
      },
      {
        "duration": 116,
        "start_time": "2021-06-25T13:23:49.467Z"
      },
      {
        "duration": 110,
        "start_time": "2021-06-25T13:23:49.587Z"
      },
      {
        "duration": 262,
        "start_time": "2021-06-25T13:23:49.700Z"
      },
      {
        "duration": 47,
        "start_time": "2021-06-25T13:23:49.964Z"
      },
      {
        "duration": 51,
        "start_time": "2021-06-25T13:23:50.015Z"
      },
      {
        "duration": 37,
        "start_time": "2021-06-25T13:23:50.070Z"
      },
      {
        "duration": 52,
        "start_time": "2021-06-25T13:23:50.110Z"
      },
      {
        "duration": 263,
        "start_time": "2021-06-25T13:23:50.167Z"
      },
      {
        "duration": 15,
        "start_time": "2021-06-25T13:23:50.434Z"
      },
      {
        "duration": 25,
        "start_time": "2021-06-25T13:23:50.451Z"
      },
      {
        "duration": 19,
        "start_time": "2021-06-25T13:23:50.479Z"
      },
      {
        "duration": 362,
        "start_time": "2021-06-25T13:23:50.501Z"
      },
      {
        "duration": 416,
        "start_time": "2021-06-25T13:23:50.866Z"
      },
      {
        "duration": 7,
        "start_time": "2021-06-25T13:23:51.285Z"
      },
      {
        "duration": 669,
        "start_time": "2021-06-25T13:23:51.295Z"
      },
      {
        "duration": 486,
        "start_time": "2021-06-25T13:23:51.967Z"
      },
      {
        "duration": 470,
        "start_time": "2021-06-25T13:23:52.463Z"
      },
      {
        "duration": 175,
        "start_time": "2021-06-25T13:23:52.935Z"
      },
      {
        "duration": 497,
        "start_time": "2021-06-25T13:23:53.113Z"
      },
      {
        "duration": 18,
        "start_time": "2021-06-25T13:23:53.613Z"
      },
      {
        "duration": 1158,
        "start_time": "2021-06-25T13:23:53.634Z"
      },
      {
        "duration": 10,
        "start_time": "2021-06-25T13:23:54.795Z"
      },
      {
        "duration": 20,
        "start_time": "2021-06-25T13:23:54.808Z"
      },
      {
        "duration": 708,
        "start_time": "2021-06-25T13:23:54.830Z"
      },
      {
        "duration": 262,
        "start_time": "2021-06-25T13:23:55.540Z"
      },
      {
        "duration": 30,
        "start_time": "2021-06-25T13:23:55.808Z"
      },
      {
        "duration": 249,
        "start_time": "2021-06-25T13:23:55.841Z"
      },
      {
        "duration": 1115,
        "start_time": "2021-06-25T13:23:56.092Z"
      },
      {
        "duration": 5,
        "start_time": "2021-06-25T13:23:57.210Z"
      },
      {
        "duration": 12,
        "start_time": "2021-06-25T13:23:57.217Z"
      },
      {
        "duration": 42,
        "start_time": "2021-06-25T13:23:57.232Z"
      },
      {
        "duration": 230,
        "start_time": "2021-06-25T13:23:57.276Z"
      },
      {
        "duration": 15,
        "start_time": "2021-06-25T13:23:57.510Z"
      },
      {
        "duration": 61,
        "start_time": "2021-06-25T13:23:57.529Z"
      },
      {
        "duration": 31,
        "start_time": "2021-06-25T13:23:57.593Z"
      },
      {
        "duration": 62,
        "start_time": "2021-06-25T13:23:57.628Z"
      },
      {
        "duration": 19,
        "start_time": "2021-06-25T13:23:57.694Z"
      },
      {
        "duration": 45,
        "start_time": "2021-06-25T13:23:57.717Z"
      },
      {
        "duration": 18,
        "start_time": "2021-06-25T13:23:57.766Z"
      },
      {
        "duration": 11,
        "start_time": "2021-06-25T13:23:57.787Z"
      },
      {
        "duration": 94,
        "start_time": "2021-06-25T13:23:57.802Z"
      },
      {
        "duration": 467,
        "start_time": "2021-06-25T13:23:57.899Z"
      },
      {
        "duration": -551,
        "start_time": "2021-06-25T13:23:58.920Z"
      },
      {
        "duration": -554,
        "start_time": "2021-06-25T13:23:58.924Z"
      },
      {
        "duration": -571,
        "start_time": "2021-06-25T13:23:58.943Z"
      },
      {
        "duration": -577,
        "start_time": "2021-06-25T13:23:58.950Z"
      },
      {
        "duration": -579,
        "start_time": "2021-06-25T13:23:58.954Z"
      },
      {
        "duration": -582,
        "start_time": "2021-06-25T13:23:58.959Z"
      },
      {
        "duration": -590,
        "start_time": "2021-06-25T13:23:58.968Z"
      },
      {
        "duration": -593,
        "start_time": "2021-06-25T13:23:58.973Z"
      },
      {
        "duration": -608,
        "start_time": "2021-06-25T13:23:58.989Z"
      },
      {
        "duration": -611,
        "start_time": "2021-06-25T13:23:58.993Z"
      },
      {
        "duration": -624,
        "start_time": "2021-06-25T13:23:59.008Z"
      },
      {
        "duration": -631,
        "start_time": "2021-06-25T13:23:59.016Z"
      },
      {
        "duration": -645,
        "start_time": "2021-06-25T13:23:59.032Z"
      },
      {
        "duration": -653,
        "start_time": "2021-06-25T13:23:59.042Z"
      },
      {
        "duration": -660,
        "start_time": "2021-06-25T13:23:59.050Z"
      },
      {
        "duration": -675,
        "start_time": "2021-06-25T13:23:59.066Z"
      },
      {
        "duration": -689,
        "start_time": "2021-06-25T13:23:59.082Z"
      },
      {
        "duration": -692,
        "start_time": "2021-06-25T13:23:59.087Z"
      },
      {
        "duration": -695,
        "start_time": "2021-06-25T13:23:59.092Z"
      },
      {
        "duration": -700,
        "start_time": "2021-06-25T13:23:59.099Z"
      },
      {
        "duration": -641,
        "start_time": "2021-06-25T13:23:59.103Z"
      },
      {
        "duration": -642,
        "start_time": "2021-06-25T13:23:59.107Z"
      },
      {
        "duration": -646,
        "start_time": "2021-06-25T13:23:59.113Z"
      },
      {
        "duration": -647,
        "start_time": "2021-06-25T13:23:59.117Z"
      },
      {
        "duration": -648,
        "start_time": "2021-06-25T13:23:59.121Z"
      },
      {
        "duration": -649,
        "start_time": "2021-06-25T13:23:59.124Z"
      },
      {
        "duration": -652,
        "start_time": "2021-06-25T13:23:59.129Z"
      },
      {
        "duration": -653,
        "start_time": "2021-06-25T13:23:59.133Z"
      },
      {
        "duration": -656,
        "start_time": "2021-06-25T13:23:59.138Z"
      },
      {
        "duration": -660,
        "start_time": "2021-06-25T13:23:59.145Z"
      },
      {
        "duration": -663,
        "start_time": "2021-06-25T13:23:59.150Z"
      },
      {
        "duration": -665,
        "start_time": "2021-06-25T13:23:59.155Z"
      },
      {
        "duration": -667,
        "start_time": "2021-06-25T13:23:59.160Z"
      },
      {
        "duration": -669,
        "start_time": "2021-06-25T13:23:59.164Z"
      },
      {
        "duration": 6344,
        "start_time": "2021-06-25T13:24:52.906Z"
      },
      {
        "duration": 5323,
        "start_time": "2021-06-25T13:26:02.398Z"
      },
      {
        "duration": 5752,
        "start_time": "2021-06-25T13:26:38.378Z"
      },
      {
        "duration": 101,
        "start_time": "2021-06-25T13:27:37.235Z"
      },
      {
        "duration": 5794,
        "start_time": "2021-06-25T13:27:55.515Z"
      },
      {
        "duration": 4305,
        "start_time": "2021-06-25T13:29:11.270Z"
      },
      {
        "duration": -549,
        "start_time": "2021-06-25T13:29:38.578Z"
      },
      {
        "duration": 376,
        "start_time": "2021-06-25T13:29:52.054Z"
      },
      {
        "duration": 3708,
        "start_time": "2021-06-25T13:29:56.482Z"
      },
      {
        "duration": -587,
        "start_time": "2021-06-25T13:30:00.780Z"
      },
      {
        "duration": 3323,
        "start_time": "2021-06-25T13:30:56.966Z"
      },
      {
        "duration": 5,
        "start_time": "2021-06-25T13:31:16.198Z"
      },
      {
        "duration": 27,
        "start_time": "2021-06-25T13:32:11.413Z"
      },
      {
        "duration": 12,
        "start_time": "2021-06-25T13:32:13.306Z"
      },
      {
        "duration": 8,
        "start_time": "2021-06-25T13:33:29.057Z"
      },
      {
        "duration": 8,
        "start_time": "2021-06-25T13:34:19.033Z"
      },
      {
        "duration": 8,
        "start_time": "2021-06-25T13:35:01.206Z"
      },
      {
        "duration": 28,
        "start_time": "2021-06-25T13:35:45.147Z"
      },
      {
        "duration": 7,
        "start_time": "2021-06-25T13:35:46.493Z"
      },
      {
        "duration": 9,
        "start_time": "2021-06-25T13:36:22.350Z"
      },
      {
        "duration": 7,
        "start_time": "2021-06-25T13:36:43.386Z"
      },
      {
        "duration": 381,
        "start_time": "2021-06-25T13:36:55.881Z"
      },
      {
        "duration": 16,
        "start_time": "2021-06-25T13:37:43.030Z"
      },
      {
        "duration": 803,
        "start_time": "2021-06-25T13:38:07.514Z"
      },
      {
        "duration": 77,
        "start_time": "2021-06-25T13:38:08.320Z"
      },
      {
        "duration": 33,
        "start_time": "2021-06-25T13:38:08.400Z"
      },
      {
        "duration": 255,
        "start_time": "2021-06-25T13:38:08.436Z"
      },
      {
        "duration": 40,
        "start_time": "2021-06-25T13:38:08.693Z"
      },
      {
        "duration": 35,
        "start_time": "2021-06-25T13:38:08.736Z"
      },
      {
        "duration": 36,
        "start_time": "2021-06-25T13:38:08.774Z"
      },
      {
        "duration": 54,
        "start_time": "2021-06-25T13:38:08.816Z"
      },
      {
        "duration": 265,
        "start_time": "2021-06-25T13:38:08.874Z"
      },
      {
        "duration": 25,
        "start_time": "2021-06-25T13:38:09.142Z"
      },
      {
        "duration": 22,
        "start_time": "2021-06-25T13:38:09.170Z"
      },
      {
        "duration": 31,
        "start_time": "2021-06-25T13:38:09.195Z"
      },
      {
        "duration": 335,
        "start_time": "2021-06-25T13:38:09.229Z"
      },
      {
        "duration": 402,
        "start_time": "2021-06-25T13:38:09.567Z"
      },
      {
        "duration": 8,
        "start_time": "2021-06-25T13:38:09.972Z"
      },
      {
        "duration": 631,
        "start_time": "2021-06-25T13:38:09.983Z"
      },
      {
        "duration": 488,
        "start_time": "2021-06-25T13:38:10.616Z"
      },
      {
        "duration": 657,
        "start_time": "2021-06-25T13:38:11.107Z"
      },
      {
        "duration": 173,
        "start_time": "2021-06-25T13:38:11.767Z"
      },
      {
        "duration": 520,
        "start_time": "2021-06-25T13:38:11.943Z"
      },
      {
        "duration": 16,
        "start_time": "2021-06-25T13:38:12.465Z"
      },
      {
        "duration": 1145,
        "start_time": "2021-06-25T13:38:12.491Z"
      },
      {
        "duration": 22,
        "start_time": "2021-06-25T13:38:13.640Z"
      },
      {
        "duration": 16,
        "start_time": "2021-06-25T13:38:13.665Z"
      },
      {
        "duration": 705,
        "start_time": "2021-06-25T13:38:13.684Z"
      },
      {
        "duration": 272,
        "start_time": "2021-06-25T13:38:14.391Z"
      },
      {
        "duration": 31,
        "start_time": "2021-06-25T13:38:14.665Z"
      },
      {
        "duration": 246,
        "start_time": "2021-06-25T13:38:14.699Z"
      },
      {
        "duration": 1143,
        "start_time": "2021-06-25T13:38:14.948Z"
      },
      {
        "duration": 5,
        "start_time": "2021-06-25T13:38:16.093Z"
      },
      {
        "duration": 10,
        "start_time": "2021-06-25T13:38:16.101Z"
      },
      {
        "duration": 24,
        "start_time": "2021-06-25T13:38:16.113Z"
      },
      {
        "duration": 224,
        "start_time": "2021-06-25T13:38:16.162Z"
      },
      {
        "duration": 10,
        "start_time": "2021-06-25T13:38:16.388Z"
      },
      {
        "duration": 40,
        "start_time": "2021-06-25T13:38:16.400Z"
      },
      {
        "duration": 7,
        "start_time": "2021-06-25T13:38:22.921Z"
      },
      {
        "duration": 21,
        "start_time": "2021-06-25T13:38:26.198Z"
      },
      {
        "duration": 21,
        "start_time": "2021-06-25T13:38:29.918Z"
      },
      {
        "duration": 37,
        "start_time": "2021-06-25T13:39:48.172Z"
      },
      {
        "duration": 9,
        "start_time": "2021-06-25T13:39:48.213Z"
      },
      {
        "duration": 775,
        "start_time": "2021-06-25T13:39:55.115Z"
      },
      {
        "duration": 77,
        "start_time": "2021-06-25T13:39:55.893Z"
      },
      {
        "duration": 34,
        "start_time": "2021-06-25T13:39:55.974Z"
      },
      {
        "duration": 250,
        "start_time": "2021-06-25T13:39:56.011Z"
      },
      {
        "duration": 42,
        "start_time": "2021-06-25T13:39:56.264Z"
      },
      {
        "duration": 21,
        "start_time": "2021-06-25T13:39:56.309Z"
      },
      {
        "duration": 36,
        "start_time": "2021-06-25T13:39:56.363Z"
      },
      {
        "duration": 18,
        "start_time": "2021-06-25T13:39:56.402Z"
      },
      {
        "duration": 357,
        "start_time": "2021-06-25T13:39:56.463Z"
      },
      {
        "duration": 15,
        "start_time": "2021-06-25T13:39:56.824Z"
      },
      {
        "duration": 27,
        "start_time": "2021-06-25T13:39:56.842Z"
      },
      {
        "duration": 12,
        "start_time": "2021-06-25T13:39:56.871Z"
      },
      {
        "duration": 363,
        "start_time": "2021-06-25T13:39:56.885Z"
      },
      {
        "duration": 412,
        "start_time": "2021-06-25T13:39:57.250Z"
      },
      {
        "duration": 5,
        "start_time": "2021-06-25T13:39:57.664Z"
      },
      {
        "duration": 601,
        "start_time": "2021-06-25T13:39:57.671Z"
      },
      {
        "duration": 477,
        "start_time": "2021-06-25T13:39:58.275Z"
      },
      {
        "duration": 454,
        "start_time": "2021-06-25T13:39:58.761Z"
      },
      {
        "duration": 166,
        "start_time": "2021-06-25T13:39:59.218Z"
      },
      {
        "duration": 510,
        "start_time": "2021-06-25T13:39:59.386Z"
      },
      {
        "duration": 16,
        "start_time": "2021-06-25T13:39:59.898Z"
      },
      {
        "duration": 1186,
        "start_time": "2021-06-25T13:39:59.917Z"
      },
      {
        "duration": 10,
        "start_time": "2021-06-25T13:40:01.106Z"
      },
      {
        "duration": 40,
        "start_time": "2021-06-25T13:40:01.118Z"
      },
      {
        "duration": 818,
        "start_time": "2021-06-25T13:40:01.161Z"
      },
      {
        "duration": 264,
        "start_time": "2021-06-25T13:40:01.982Z"
      },
      {
        "duration": 40,
        "start_time": "2021-06-25T13:40:02.251Z"
      },
      {
        "duration": 235,
        "start_time": "2021-06-25T13:40:02.294Z"
      },
      {
        "duration": 1151,
        "start_time": "2021-06-25T13:40:02.531Z"
      },
      {
        "duration": 5,
        "start_time": "2021-06-25T13:40:03.685Z"
      },
      {
        "duration": 14,
        "start_time": "2021-06-25T13:40:03.692Z"
      },
      {
        "duration": 27,
        "start_time": "2021-06-25T13:40:03.709Z"
      },
      {
        "duration": 250,
        "start_time": "2021-06-25T13:40:03.764Z"
      },
      {
        "duration": 12,
        "start_time": "2021-06-25T13:40:04.017Z"
      },
      {
        "duration": 57,
        "start_time": "2021-06-25T13:40:04.032Z"
      },
      {
        "duration": 5486,
        "start_time": "2021-06-25T13:40:04.092Z"
      },
      {
        "duration": 31,
        "start_time": "2021-06-25T13:40:09.581Z"
      },
      {
        "duration": 28,
        "start_time": "2021-06-25T13:40:26.657Z"
      },
      {
        "duration": 7,
        "start_time": "2021-06-25T13:40:27.369Z"
      },
      {
        "duration": 27,
        "start_time": "2021-06-25T13:40:38.717Z"
      },
      {
        "duration": 8,
        "start_time": "2021-06-25T13:40:39.493Z"
      },
      {
        "duration": 1180,
        "start_time": "2021-06-25T13:41:17.582Z"
      },
      {
        "duration": 1772,
        "start_time": "2021-06-25T13:41:27.857Z"
      },
      {
        "duration": 2059,
        "start_time": "2021-06-25T13:41:37.393Z"
      },
      {
        "duration": 5363,
        "start_time": "2021-06-25T13:41:55.806Z"
      },
      {
        "duration": 50130,
        "start_time": "2021-06-25T13:42:17.314Z"
      },
      {
        "duration": 8156,
        "start_time": "2021-06-25T13:43:36.990Z"
      },
      {
        "duration": 3065,
        "start_time": "2021-06-25T13:43:48.858Z"
      },
      {
        "duration": 316,
        "start_time": "2021-06-25T13:46:28.437Z"
      },
      {
        "duration": 10,
        "start_time": "2021-06-25T13:47:37.589Z"
      },
      {
        "duration": 8,
        "start_time": "2021-06-25T13:48:01.013Z"
      },
      {
        "duration": 8380,
        "start_time": "2021-06-25T13:48:44.437Z"
      },
      {
        "duration": 26,
        "start_time": "2021-06-25T13:48:58.717Z"
      },
      {
        "duration": 8818,
        "start_time": "2021-06-25T13:48:59.497Z"
      },
      {
        "duration": 372,
        "start_time": "2021-06-25T13:49:21.626Z"
      },
      {
        "duration": 353,
        "start_time": "2021-06-25T13:49:41.274Z"
      },
      {
        "duration": 8,
        "start_time": "2021-06-25T13:49:45.885Z"
      },
      {
        "duration": 30,
        "start_time": "2021-06-25T13:53:48.236Z"
      },
      {
        "duration": 3271,
        "start_time": "2021-06-25T13:53:48.269Z"
      },
      {
        "duration": 34,
        "start_time": "2021-06-25T13:56:40.641Z"
      },
      {
        "duration": 14,
        "start_time": "2021-06-25T13:57:48.108Z"
      },
      {
        "duration": 34,
        "start_time": "2021-06-25T14:00:32.809Z"
      },
      {
        "duration": 13,
        "start_time": "2021-06-25T14:02:31.073Z"
      },
      {
        "duration": 10,
        "start_time": "2021-06-25T14:04:43.909Z"
      },
      {
        "duration": 30,
        "start_time": "2021-06-25T14:04:50.777Z"
      },
      {
        "duration": 17,
        "start_time": "2021-06-25T14:05:10.389Z"
      },
      {
        "duration": 27,
        "start_time": "2021-06-25T14:05:43.162Z"
      },
      {
        "duration": 29,
        "start_time": "2021-06-25T14:05:54.026Z"
      },
      {
        "duration": 32,
        "start_time": "2021-06-25T14:06:30.493Z"
      },
      {
        "duration": 35,
        "start_time": "2021-06-25T14:06:56.522Z"
      },
      {
        "duration": 41,
        "start_time": "2021-06-25T14:08:43.770Z"
      },
      {
        "duration": 38,
        "start_time": "2021-06-25T14:08:49.979Z"
      },
      {
        "duration": 374,
        "start_time": "2021-06-25T14:08:51.213Z"
      },
      {
        "duration": 55,
        "start_time": "2021-06-25T14:09:04.899Z"
      },
      {
        "duration": 34,
        "start_time": "2021-06-25T14:09:27.334Z"
      },
      {
        "duration": 54,
        "start_time": "2021-06-25T14:14:28.005Z"
      },
      {
        "duration": 24,
        "start_time": "2021-06-25T14:15:02.186Z"
      },
      {
        "duration": 43,
        "start_time": "2021-06-25T14:15:25.825Z"
      },
      {
        "duration": 22,
        "start_time": "2021-06-25T14:18:36.237Z"
      },
      {
        "duration": 327,
        "start_time": "2021-06-25T14:20:58.173Z"
      },
      {
        "duration": 26,
        "start_time": "2021-06-25T14:21:01.337Z"
      },
      {
        "duration": 1349,
        "start_time": "2021-06-25T14:21:01.933Z"
      },
      {
        "duration": 1255,
        "start_time": "2021-06-25T14:21:19.936Z"
      },
      {
        "duration": 1325,
        "start_time": "2021-06-25T14:21:27.109Z"
      },
      {
        "duration": 1477,
        "start_time": "2021-06-25T14:22:07.317Z"
      },
      {
        "duration": 27,
        "start_time": "2021-06-25T14:25:53.092Z"
      },
      {
        "duration": 41,
        "start_time": "2021-06-25T14:26:13.856Z"
      },
      {
        "duration": 28,
        "start_time": "2021-06-25T14:26:36.821Z"
      },
      {
        "duration": 344,
        "start_time": "2021-06-25T14:28:03.904Z"
      },
      {
        "duration": 27,
        "start_time": "2021-06-25T14:28:09.412Z"
      },
      {
        "duration": 24,
        "start_time": "2021-06-25T14:28:10.044Z"
      },
      {
        "duration": 1282,
        "start_time": "2021-06-25T14:28:11.760Z"
      },
      {
        "duration": 25,
        "start_time": "2021-06-25T14:28:52.016Z"
      },
      {
        "duration": 1289,
        "start_time": "2021-06-25T14:28:52.545Z"
      },
      {
        "duration": 13432,
        "start_time": "2021-06-25T14:30:42.000Z"
      },
      {
        "duration": 24,
        "start_time": "2021-06-25T14:30:58.064Z"
      },
      {
        "duration": 17231,
        "start_time": "2021-06-25T14:30:58.624Z"
      },
      {
        "duration": 22,
        "start_time": "2021-06-25T14:31:43.448Z"
      },
      {
        "duration": 26,
        "start_time": "2021-06-25T14:32:39.152Z"
      },
      {
        "duration": 15819,
        "start_time": "2021-06-25T14:32:39.776Z"
      },
      {
        "duration": 16651,
        "start_time": "2021-06-25T14:33:34.364Z"
      },
      {
        "duration": -1370,
        "start_time": "2021-06-25T14:33:52.387Z"
      },
      {
        "duration": 641,
        "start_time": "2021-06-25T14:34:26.624Z"
      },
      {
        "duration": 32,
        "start_time": "2021-06-25T14:34:32.580Z"
      },
      {
        "duration": 56,
        "start_time": "2021-06-25T14:34:32.615Z"
      },
      {
        "duration": 33,
        "start_time": "2021-06-25T14:34:32.675Z"
      },
      {
        "duration": 58,
        "start_time": "2021-06-25T14:34:32.712Z"
      },
      {
        "duration": 27,
        "start_time": "2021-06-25T14:34:32.773Z"
      },
      {
        "duration": 1123,
        "start_time": "2021-06-25T14:34:32.802Z"
      },
      {
        "duration": 34,
        "start_time": "2021-06-25T14:34:33.927Z"
      },
      {
        "duration": 383,
        "start_time": "2021-06-25T14:34:33.964Z"
      },
      {
        "duration": -580,
        "start_time": "2021-06-25T14:34:34.931Z"
      },
      {
        "duration": -610,
        "start_time": "2021-06-25T14:34:34.962Z"
      },
      {
        "duration": -615,
        "start_time": "2021-06-25T14:34:34.968Z"
      },
      {
        "duration": -621,
        "start_time": "2021-06-25T14:34:34.975Z"
      },
      {
        "duration": -625,
        "start_time": "2021-06-25T14:34:34.980Z"
      },
      {
        "duration": -628,
        "start_time": "2021-06-25T14:34:34.985Z"
      },
      {
        "duration": -636,
        "start_time": "2021-06-25T14:34:34.994Z"
      },
      {
        "duration": -643,
        "start_time": "2021-06-25T14:34:35.002Z"
      },
      {
        "duration": -649,
        "start_time": "2021-06-25T14:34:35.010Z"
      },
      {
        "duration": -653,
        "start_time": "2021-06-25T14:34:35.015Z"
      },
      {
        "duration": -657,
        "start_time": "2021-06-25T14:34:35.020Z"
      },
      {
        "duration": -663,
        "start_time": "2021-06-25T14:34:35.027Z"
      },
      {
        "duration": -665,
        "start_time": "2021-06-25T14:34:35.031Z"
      },
      {
        "duration": -674,
        "start_time": "2021-06-25T14:34:35.041Z"
      },
      {
        "duration": -679,
        "start_time": "2021-06-25T14:34:35.047Z"
      },
      {
        "duration": -682,
        "start_time": "2021-06-25T14:34:35.052Z"
      },
      {
        "duration": -699,
        "start_time": "2021-06-25T14:34:35.070Z"
      },
      {
        "duration": -705,
        "start_time": "2021-06-25T14:34:35.077Z"
      },
      {
        "duration": -708,
        "start_time": "2021-06-25T14:34:35.081Z"
      },
      {
        "duration": -711,
        "start_time": "2021-06-25T14:34:35.085Z"
      },
      {
        "duration": -716,
        "start_time": "2021-06-25T14:34:35.091Z"
      },
      {
        "duration": -718,
        "start_time": "2021-06-25T14:34:35.095Z"
      },
      {
        "duration": -721,
        "start_time": "2021-06-25T14:34:35.099Z"
      },
      {
        "duration": -724,
        "start_time": "2021-06-25T14:34:35.103Z"
      },
      {
        "duration": -728,
        "start_time": "2021-06-25T14:34:35.108Z"
      },
      {
        "duration": -730,
        "start_time": "2021-06-25T14:34:35.112Z"
      },
      {
        "duration": -732,
        "start_time": "2021-06-25T14:34:35.115Z"
      },
      {
        "duration": -736,
        "start_time": "2021-06-25T14:34:35.120Z"
      },
      {
        "duration": -739,
        "start_time": "2021-06-25T14:34:35.124Z"
      },
      {
        "duration": 21,
        "start_time": "2021-06-25T14:35:38.781Z"
      },
      {
        "duration": 22,
        "start_time": "2021-06-25T14:36:29.124Z"
      },
      {
        "duration": 119,
        "start_time": "2021-06-25T14:37:10.236Z"
      },
      {
        "duration": 310,
        "start_time": "2021-06-25T14:40:10.268Z"
      },
      {
        "duration": 16,
        "start_time": "2021-06-25T14:52:05.296Z"
      },
      {
        "duration": 17,
        "start_time": "2021-06-25T14:52:20.188Z"
      },
      {
        "duration": 13,
        "start_time": "2021-06-25T14:52:24.304Z"
      },
      {
        "duration": 16,
        "start_time": "2021-06-25T14:53:17.019Z"
      },
      {
        "duration": 11,
        "start_time": "2021-06-25T14:53:17.592Z"
      },
      {
        "duration": 11,
        "start_time": "2021-06-25T14:53:29.432Z"
      },
      {
        "duration": 25,
        "start_time": "2021-06-25T14:53:29.446Z"
      },
      {
        "duration": 16,
        "start_time": "2021-06-25T14:53:29.474Z"
      },
      {
        "duration": 29,
        "start_time": "2021-06-25T14:53:29.493Z"
      },
      {
        "duration": 55,
        "start_time": "2021-06-25T14:53:29.524Z"
      },
      {
        "duration": 18,
        "start_time": "2021-06-25T14:53:29.582Z"
      },
      {
        "duration": 23,
        "start_time": "2021-06-25T14:53:29.603Z"
      },
      {
        "duration": 16,
        "start_time": "2021-06-25T14:53:29.661Z"
      },
      {
        "duration": 90,
        "start_time": "2021-06-25T14:53:29.681Z"
      },
      {
        "duration": 23,
        "start_time": "2021-06-25T14:53:29.774Z"
      },
      {
        "duration": 433,
        "start_time": "2021-06-25T14:53:29.800Z"
      },
      {
        "duration": 32,
        "start_time": "2021-06-25T14:53:30.236Z"
      },
      {
        "duration": 29,
        "start_time": "2021-06-25T14:53:30.272Z"
      },
      {
        "duration": 1330,
        "start_time": "2021-06-25T14:53:30.304Z"
      },
      {
        "duration": 32,
        "start_time": "2021-06-25T14:53:31.637Z"
      },
      {
        "duration": 18,
        "start_time": "2021-06-25T14:53:31.672Z"
      },
      {
        "duration": 24,
        "start_time": "2021-06-25T14:53:31.693Z"
      },
      {
        "duration": 70,
        "start_time": "2021-06-25T14:53:31.720Z"
      },
      {
        "duration": 160,
        "start_time": "2021-06-25T14:53:31.793Z"
      },
      {
        "duration": 930,
        "start_time": "2021-06-25T14:53:31.955Z"
      },
      {
        "duration": 37,
        "start_time": "2021-06-25T14:53:32.887Z"
      },
      {
        "duration": 479,
        "start_time": "2021-06-25T14:53:32.927Z"
      },
      {
        "duration": 60,
        "start_time": "2021-06-25T14:53:33.412Z"
      },
      {
        "duration": 52,
        "start_time": "2021-06-25T14:53:33.475Z"
      },
      {
        "duration": 1282,
        "start_time": "2021-06-25T14:53:33.530Z"
      },
      {
        "duration": 35,
        "start_time": "2021-06-25T14:54:16.528Z"
      },
      {
        "duration": 46,
        "start_time": "2021-06-25T14:54:57.156Z"
      },
      {
        "duration": 40,
        "start_time": "2021-06-25T14:55:42.580Z"
      },
      {
        "duration": 19,
        "start_time": "2021-06-25T14:57:17.176Z"
      },
      {
        "duration": 33,
        "start_time": "2021-06-25T14:58:54.400Z"
      },
      {
        "duration": 22,
        "start_time": "2021-06-25T14:59:08.608Z"
      },
      {
        "duration": 65,
        "start_time": "2021-06-25T14:59:21.468Z"
      },
      {
        "duration": 407,
        "start_time": "2021-06-25T15:42:16.289Z"
      },
      {
        "duration": 404,
        "start_time": "2021-06-25T15:42:22.384Z"
      },
      {
        "duration": 379,
        "start_time": "2021-06-25T15:44:09.239Z"
      },
      {
        "duration": 394,
        "start_time": "2021-06-25T15:44:18.619Z"
      },
      {
        "duration": 45,
        "start_time": "2021-06-25T15:58:56.551Z"
      },
      {
        "duration": 25,
        "start_time": "2021-06-25T16:01:17.676Z"
      },
      {
        "duration": 38,
        "start_time": "2021-06-25T16:01:39.487Z"
      },
      {
        "duration": 6,
        "start_time": "2021-06-25T16:04:17.839Z"
      },
      {
        "duration": 19,
        "start_time": "2021-06-25T16:04:25.231Z"
      },
      {
        "duration": 27,
        "start_time": "2021-06-25T16:04:45.155Z"
      },
      {
        "duration": 161,
        "start_time": "2021-06-25T16:05:26.687Z"
      },
      {
        "duration": 118,
        "start_time": "2021-06-25T16:05:39.143Z"
      },
      {
        "duration": 168,
        "start_time": "2021-06-25T16:05:56.583Z"
      },
      {
        "duration": 8499,
        "start_time": "2021-06-25T16:06:14.819Z"
      },
      {
        "duration": -219,
        "start_time": "2021-06-25T16:06:36.922Z"
      },
      {
        "duration": 99,
        "start_time": "2021-06-25T16:06:39.443Z"
      },
      {
        "duration": 123,
        "start_time": "2021-06-25T16:06:53.063Z"
      },
      {
        "duration": 98,
        "start_time": "2021-06-25T16:08:29.739Z"
      },
      {
        "duration": 127,
        "start_time": "2021-06-25T16:08:42.643Z"
      },
      {
        "duration": 33,
        "start_time": "2021-06-25T16:08:48.454Z"
      },
      {
        "duration": 50,
        "start_time": "2021-06-25T16:09:00.270Z"
      },
      {
        "duration": 43,
        "start_time": "2021-06-25T16:09:16.714Z"
      },
      {
        "duration": 55,
        "start_time": "2021-06-25T16:09:19.246Z"
      },
      {
        "duration": 45,
        "start_time": "2021-06-25T16:09:27.742Z"
      },
      {
        "duration": 49,
        "start_time": "2021-06-25T16:09:28.351Z"
      },
      {
        "duration": 96,
        "start_time": "2021-06-25T16:09:38.874Z"
      },
      {
        "duration": 40,
        "start_time": "2021-06-25T16:09:40.507Z"
      },
      {
        "duration": 56,
        "start_time": "2021-06-25T16:09:41.290Z"
      },
      {
        "duration": 40,
        "start_time": "2021-06-25T16:10:19.619Z"
      },
      {
        "duration": 51,
        "start_time": "2021-06-25T16:10:20.558Z"
      },
      {
        "duration": 91,
        "start_time": "2021-06-25T16:10:55.527Z"
      },
      {
        "duration": 61,
        "start_time": "2021-06-25T16:11:02.286Z"
      },
      {
        "duration": 1121,
        "start_time": "2021-06-25T16:11:57.280Z"
      },
      {
        "duration": 117,
        "start_time": "2021-06-25T16:11:58.405Z"
      },
      {
        "duration": 57,
        "start_time": "2021-06-25T16:11:58.527Z"
      },
      {
        "duration": 390,
        "start_time": "2021-06-25T16:11:58.588Z"
      },
      {
        "duration": 58,
        "start_time": "2021-06-25T16:11:58.982Z"
      },
      {
        "duration": 28,
        "start_time": "2021-06-25T16:11:59.063Z"
      },
      {
        "duration": 79,
        "start_time": "2021-06-25T16:11:59.094Z"
      },
      {
        "duration": 16,
        "start_time": "2021-06-25T16:11:59.175Z"
      },
      {
        "duration": 365,
        "start_time": "2021-06-25T16:11:59.195Z"
      },
      {
        "duration": 16,
        "start_time": "2021-06-25T16:11:59.564Z"
      },
      {
        "duration": 40,
        "start_time": "2021-06-25T16:11:59.583Z"
      },
      {
        "duration": 20,
        "start_time": "2021-06-25T16:11:59.626Z"
      },
      {
        "duration": 339,
        "start_time": "2021-06-25T16:11:59.649Z"
      },
      {
        "duration": 381,
        "start_time": "2021-06-25T16:11:59.990Z"
      },
      {
        "duration": 7,
        "start_time": "2021-06-25T16:12:00.374Z"
      },
      {
        "duration": 709,
        "start_time": "2021-06-25T16:12:00.384Z"
      },
      {
        "duration": 489,
        "start_time": "2021-06-25T16:12:01.096Z"
      },
      {
        "duration": 459,
        "start_time": "2021-06-25T16:12:01.587Z"
      },
      {
        "duration": 175,
        "start_time": "2021-06-25T16:12:02.049Z"
      },
      {
        "duration": 517,
        "start_time": "2021-06-25T16:12:02.226Z"
      },
      {
        "duration": 24,
        "start_time": "2021-06-25T16:12:02.746Z"
      },
      {
        "duration": 1208,
        "start_time": "2021-06-25T16:12:02.772Z"
      },
      {
        "duration": 10,
        "start_time": "2021-06-25T16:12:03.982Z"
      },
      {
        "duration": 18,
        "start_time": "2021-06-25T16:12:03.995Z"
      },
      {
        "duration": 764,
        "start_time": "2021-06-25T16:12:04.015Z"
      },
      {
        "duration": 245,
        "start_time": "2021-06-25T16:12:04.781Z"
      },
      {
        "duration": 49,
        "start_time": "2021-06-25T16:12:05.031Z"
      },
      {
        "duration": 230,
        "start_time": "2021-06-25T16:12:05.085Z"
      },
      {
        "duration": 1129,
        "start_time": "2021-06-25T16:12:05.318Z"
      },
      {
        "duration": 14,
        "start_time": "2021-06-25T16:12:06.450Z"
      },
      {
        "duration": 12,
        "start_time": "2021-06-25T16:12:06.467Z"
      },
      {
        "duration": 21,
        "start_time": "2021-06-25T16:12:06.482Z"
      },
      {
        "duration": 235,
        "start_time": "2021-06-25T16:12:06.506Z"
      },
      {
        "duration": 24,
        "start_time": "2021-06-25T16:12:06.744Z"
      },
      {
        "duration": 28,
        "start_time": "2021-06-25T16:12:06.771Z"
      },
      {
        "duration": 2994,
        "start_time": "2021-06-25T16:12:06.801Z"
      },
      {
        "duration": 11,
        "start_time": "2021-06-25T16:12:09.797Z"
      },
      {
        "duration": 18,
        "start_time": "2021-06-25T16:12:09.811Z"
      },
      {
        "duration": 802,
        "start_time": "2021-06-25T16:12:09.832Z"
      },
      {
        "duration": 41,
        "start_time": "2021-06-25T16:12:10.636Z"
      },
      {
        "duration": 36,
        "start_time": "2021-06-25T16:12:10.679Z"
      },
      {
        "duration": 7,
        "start_time": "2021-06-25T16:12:10.718Z"
      },
      {
        "duration": 53,
        "start_time": "2021-06-25T16:12:10.728Z"
      },
      {
        "duration": 29,
        "start_time": "2021-06-25T16:12:10.784Z"
      },
      {
        "duration": 358,
        "start_time": "2021-06-25T16:12:10.816Z"
      },
      {
        "duration": -238,
        "start_time": "2021-06-25T16:12:11.415Z"
      },
      {
        "duration": -242,
        "start_time": "2021-06-25T16:12:11.421Z"
      },
      {
        "duration": -244,
        "start_time": "2021-06-25T16:12:11.425Z"
      },
      {
        "duration": -247,
        "start_time": "2021-06-25T16:12:11.430Z"
      },
      {
        "duration": -249,
        "start_time": "2021-06-25T16:12:11.434Z"
      },
      {
        "duration": -251,
        "start_time": "2021-06-25T16:12:11.438Z"
      },
      {
        "duration": -253,
        "start_time": "2021-06-25T16:12:11.442Z"
      },
      {
        "duration": -255,
        "start_time": "2021-06-25T16:12:11.447Z"
      },
      {
        "duration": -257,
        "start_time": "2021-06-25T16:12:11.451Z"
      },
      {
        "duration": -260,
        "start_time": "2021-06-25T16:12:11.456Z"
      },
      {
        "duration": -262,
        "start_time": "2021-06-25T16:12:11.460Z"
      },
      {
        "duration": -264,
        "start_time": "2021-06-25T16:12:11.464Z"
      },
      {
        "duration": -279,
        "start_time": "2021-06-25T16:12:11.481Z"
      },
      {
        "duration": -282,
        "start_time": "2021-06-25T16:12:11.486Z"
      },
      {
        "duration": 6,
        "start_time": "2021-06-25T16:13:12.407Z"
      },
      {
        "duration": 19,
        "start_time": "2021-06-25T16:13:13.126Z"
      },
      {
        "duration": 21,
        "start_time": "2021-06-25T16:13:14.258Z"
      },
      {
        "duration": 1333,
        "start_time": "2021-06-25T16:14:17.814Z"
      },
      {
        "duration": 1288,
        "start_time": "2021-06-25T16:17:01.247Z"
      },
      {
        "duration": 26,
        "start_time": "2021-06-25T16:17:06.722Z"
      },
      {
        "duration": 107,
        "start_time": "2021-06-25T16:17:09.363Z"
      },
      {
        "duration": 816,
        "start_time": "2021-06-25T16:17:20.831Z"
      },
      {
        "duration": 73,
        "start_time": "2021-06-25T16:17:21.649Z"
      },
      {
        "duration": 50,
        "start_time": "2021-06-25T16:17:21.726Z"
      },
      {
        "duration": 235,
        "start_time": "2021-06-25T16:17:21.780Z"
      },
      {
        "duration": 48,
        "start_time": "2021-06-25T16:17:22.018Z"
      },
      {
        "duration": 20,
        "start_time": "2021-06-25T16:17:22.069Z"
      },
      {
        "duration": 74,
        "start_time": "2021-06-25T16:17:22.093Z"
      },
      {
        "duration": 16,
        "start_time": "2021-06-25T16:17:22.173Z"
      },
      {
        "duration": 278,
        "start_time": "2021-06-25T16:17:22.193Z"
      },
      {
        "duration": 17,
        "start_time": "2021-06-25T16:17:22.474Z"
      },
      {
        "duration": 19,
        "start_time": "2021-06-25T16:17:22.494Z"
      },
      {
        "duration": 16,
        "start_time": "2021-06-25T16:17:22.516Z"
      },
      {
        "duration": 327,
        "start_time": "2021-06-25T16:17:22.563Z"
      },
      {
        "duration": 397,
        "start_time": "2021-06-25T16:17:22.892Z"
      },
      {
        "duration": 6,
        "start_time": "2021-06-25T16:17:23.291Z"
      },
      {
        "duration": 601,
        "start_time": "2021-06-25T16:17:23.299Z"
      },
      {
        "duration": 475,
        "start_time": "2021-06-25T16:17:23.902Z"
      },
      {
        "duration": 472,
        "start_time": "2021-06-25T16:17:24.380Z"
      },
      {
        "duration": 167,
        "start_time": "2021-06-25T16:17:24.855Z"
      },
      {
        "duration": 614,
        "start_time": "2021-06-25T16:17:25.024Z"
      },
      {
        "duration": 24,
        "start_time": "2021-06-25T16:17:25.641Z"
      },
      {
        "duration": 1115,
        "start_time": "2021-06-25T16:17:25.667Z"
      },
      {
        "duration": 10,
        "start_time": "2021-06-25T16:17:26.788Z"
      },
      {
        "duration": 17,
        "start_time": "2021-06-25T16:17:26.801Z"
      },
      {
        "duration": 674,
        "start_time": "2021-06-25T16:17:26.821Z"
      },
      {
        "duration": 242,
        "start_time": "2021-06-25T16:17:27.498Z"
      },
      {
        "duration": 38,
        "start_time": "2021-06-25T16:17:27.743Z"
      },
      {
        "duration": 228,
        "start_time": "2021-06-25T16:17:27.784Z"
      },
      {
        "duration": 1133,
        "start_time": "2021-06-25T16:17:28.014Z"
      },
      {
        "duration": 13,
        "start_time": "2021-06-25T16:17:29.149Z"
      },
      {
        "duration": 10,
        "start_time": "2021-06-25T16:17:29.165Z"
      },
      {
        "duration": 19,
        "start_time": "2021-06-25T16:17:29.178Z"
      },
      {
        "duration": 218,
        "start_time": "2021-06-25T16:17:29.199Z"
      },
      {
        "duration": 10,
        "start_time": "2021-06-25T16:17:29.419Z"
      },
      {
        "duration": 44,
        "start_time": "2021-06-25T16:17:29.431Z"
      },
      {
        "duration": 3068,
        "start_time": "2021-06-25T16:17:29.477Z"
      },
      {
        "duration": 22,
        "start_time": "2021-06-25T16:17:32.547Z"
      },
      {
        "duration": 17,
        "start_time": "2021-06-25T16:17:32.571Z"
      },
      {
        "duration": 1409,
        "start_time": "2021-06-25T16:17:32.591Z"
      },
      {
        "duration": 28,
        "start_time": "2021-06-25T16:17:34.002Z"
      },
      {
        "duration": 103,
        "start_time": "2021-06-25T16:17:49.786Z"
      },
      {
        "duration": 1479,
        "start_time": "2021-06-25T16:18:27.158Z"
      },
      {
        "duration": 27,
        "start_time": "2021-06-25T16:18:31.363Z"
      },
      {
        "duration": 40,
        "start_time": "2021-06-25T16:18:35.430Z"
      },
      {
        "duration": 6,
        "start_time": "2021-06-25T16:18:39.922Z"
      },
      {
        "duration": 22,
        "start_time": "2021-06-25T16:18:41.042Z"
      },
      {
        "duration": 17,
        "start_time": "2021-06-25T16:18:41.879Z"
      },
      {
        "duration": 1195,
        "start_time": "2021-06-25T16:18:43.698Z"
      },
      {
        "duration": 1090,
        "start_time": "2021-06-25T16:19:35.271Z"
      },
      {
        "duration": 7,
        "start_time": "2021-06-25T16:24:52.642Z"
      },
      {
        "duration": 650,
        "start_time": "2021-06-25T16:24:59.046Z"
      },
      {
        "duration": 28,
        "start_time": "2021-06-25T16:25:43.766Z"
      },
      {
        "duration": 25,
        "start_time": "2021-06-25T16:26:35.286Z"
      },
      {
        "duration": 39,
        "start_time": "2021-06-25T16:26:36.234Z"
      },
      {
        "duration": 39,
        "start_time": "2021-06-25T16:27:37.114Z"
      },
      {
        "duration": 812,
        "start_time": "2021-06-25T16:27:53.167Z"
      },
      {
        "duration": 73,
        "start_time": "2021-06-25T16:27:53.981Z"
      },
      {
        "duration": 31,
        "start_time": "2021-06-25T16:27:54.057Z"
      },
      {
        "duration": 237,
        "start_time": "2021-06-25T16:27:54.090Z"
      },
      {
        "duration": 51,
        "start_time": "2021-06-25T16:27:54.329Z"
      },
      {
        "duration": 17,
        "start_time": "2021-06-25T16:27:54.382Z"
      },
      {
        "duration": 32,
        "start_time": "2021-06-25T16:27:54.402Z"
      },
      {
        "duration": 16,
        "start_time": "2021-06-25T16:27:54.462Z"
      },
      {
        "duration": 269,
        "start_time": "2021-06-25T16:27:54.482Z"
      },
      {
        "duration": 20,
        "start_time": "2021-06-25T16:27:54.754Z"
      },
      {
        "duration": 20,
        "start_time": "2021-06-25T16:27:54.776Z"
      },
      {
        "duration": 24,
        "start_time": "2021-06-25T16:27:54.798Z"
      },
      {
        "duration": 343,
        "start_time": "2021-06-25T16:27:54.825Z"
      },
      {
        "duration": 393,
        "start_time": "2021-06-25T16:27:55.171Z"
      },
      {
        "duration": 6,
        "start_time": "2021-06-25T16:27:55.566Z"
      },
      {
        "duration": 600,
        "start_time": "2021-06-25T16:27:55.575Z"
      },
      {
        "duration": 810,
        "start_time": "2021-06-25T16:27:56.178Z"
      },
      {
        "duration": 676,
        "start_time": "2021-06-25T16:27:56.991Z"
      },
      {
        "duration": 239,
        "start_time": "2021-06-25T16:27:57.670Z"
      },
      {
        "duration": 751,
        "start_time": "2021-06-25T16:27:57.912Z"
      },
      {
        "duration": 21,
        "start_time": "2021-06-25T16:27:58.666Z"
      },
      {
        "duration": 1220,
        "start_time": "2021-06-25T16:27:58.689Z"
      },
      {
        "duration": 11,
        "start_time": "2021-06-25T16:27:59.911Z"
      },
      {
        "duration": 39,
        "start_time": "2021-06-25T16:27:59.924Z"
      },
      {
        "duration": 679,
        "start_time": "2021-06-25T16:27:59.966Z"
      },
      {
        "duration": 269,
        "start_time": "2021-06-25T16:28:00.647Z"
      },
      {
        "duration": 45,
        "start_time": "2021-06-25T16:28:00.921Z"
      },
      {
        "duration": 228,
        "start_time": "2021-06-25T16:28:00.969Z"
      },
      {
        "duration": 1138,
        "start_time": "2021-06-25T16:28:01.200Z"
      },
      {
        "duration": 21,
        "start_time": "2021-06-25T16:28:02.340Z"
      },
      {
        "duration": 12,
        "start_time": "2021-06-25T16:28:02.365Z"
      },
      {
        "duration": 36,
        "start_time": "2021-06-25T16:28:02.380Z"
      },
      {
        "duration": 275,
        "start_time": "2021-06-25T16:28:02.419Z"
      },
      {
        "duration": 12,
        "start_time": "2021-06-25T16:28:02.697Z"
      },
      {
        "duration": 61,
        "start_time": "2021-06-25T16:28:02.712Z"
      },
      {
        "duration": 5615,
        "start_time": "2021-06-25T16:28:02.776Z"
      },
      {
        "duration": 12,
        "start_time": "2021-06-25T16:28:08.395Z"
      },
      {
        "duration": 54,
        "start_time": "2021-06-25T16:28:08.410Z"
      },
      {
        "duration": 2786,
        "start_time": "2021-06-25T16:28:08.467Z"
      },
      {
        "duration": 39,
        "start_time": "2021-06-25T16:28:11.256Z"
      },
      {
        "duration": 73,
        "start_time": "2021-06-25T16:28:11.298Z"
      },
      {
        "duration": 6,
        "start_time": "2021-06-25T16:28:11.375Z"
      },
      {
        "duration": 28,
        "start_time": "2021-06-25T16:28:11.384Z"
      },
      {
        "duration": 17,
        "start_time": "2021-06-25T16:28:11.415Z"
      },
      {
        "duration": 1146,
        "start_time": "2021-06-25T16:28:11.463Z"
      },
      {
        "duration": 6,
        "start_time": "2021-06-25T16:28:12.611Z"
      },
      {
        "duration": 682,
        "start_time": "2021-06-25T16:28:12.620Z"
      },
      {
        "duration": 26,
        "start_time": "2021-06-25T16:28:13.304Z"
      },
      {
        "duration": 59,
        "start_time": "2021-06-25T16:28:13.333Z"
      },
      {
        "duration": 6,
        "start_time": "2021-06-25T16:30:27.714Z"
      },
      {
        "duration": 20,
        "start_time": "2021-06-25T16:30:28.662Z"
      },
      {
        "duration": 18,
        "start_time": "2021-06-25T16:30:35.290Z"
      },
      {
        "duration": 19,
        "start_time": "2021-06-25T16:31:01.762Z"
      },
      {
        "duration": 17,
        "start_time": "2021-06-25T16:31:03.362Z"
      },
      {
        "duration": 910,
        "start_time": "2021-06-25T16:31:09.806Z"
      },
      {
        "duration": 74,
        "start_time": "2021-06-25T16:31:10.718Z"
      },
      {
        "duration": 33,
        "start_time": "2021-06-25T16:31:10.795Z"
      },
      {
        "duration": 258,
        "start_time": "2021-06-25T16:31:10.831Z"
      },
      {
        "duration": 39,
        "start_time": "2021-06-25T16:31:11.091Z"
      },
      {
        "duration": 42,
        "start_time": "2021-06-25T16:31:11.133Z"
      },
      {
        "duration": 36,
        "start_time": "2021-06-25T16:31:11.178Z"
      },
      {
        "duration": 44,
        "start_time": "2021-06-25T16:31:11.219Z"
      },
      {
        "duration": 359,
        "start_time": "2021-06-25T16:31:11.267Z"
      },
      {
        "duration": 17,
        "start_time": "2021-06-25T16:31:11.628Z"
      },
      {
        "duration": 12,
        "start_time": "2021-06-25T16:31:11.663Z"
      },
      {
        "duration": 15,
        "start_time": "2021-06-25T16:31:11.677Z"
      },
      {
        "duration": 355,
        "start_time": "2021-06-25T16:31:11.694Z"
      },
      {
        "duration": 402,
        "start_time": "2021-06-25T16:31:12.052Z"
      },
      {
        "duration": 5,
        "start_time": "2021-06-25T16:31:12.457Z"
      },
      {
        "duration": 647,
        "start_time": "2021-06-25T16:31:12.465Z"
      },
      {
        "duration": 469,
        "start_time": "2021-06-25T16:31:13.115Z"
      },
      {
        "duration": 457,
        "start_time": "2021-06-25T16:31:13.586Z"
      },
      {
        "duration": 158,
        "start_time": "2021-06-25T16:31:14.045Z"
      },
      {
        "duration": 505,
        "start_time": "2021-06-25T16:31:14.206Z"
      },
      {
        "duration": 16,
        "start_time": "2021-06-25T16:31:14.714Z"
      },
      {
        "duration": 1107,
        "start_time": "2021-06-25T16:31:14.732Z"
      },
      {
        "duration": 18,
        "start_time": "2021-06-25T16:31:15.846Z"
      },
      {
        "duration": 17,
        "start_time": "2021-06-25T16:31:15.867Z"
      },
      {
        "duration": 677,
        "start_time": "2021-06-25T16:31:15.886Z"
      },
      {
        "duration": 235,
        "start_time": "2021-06-25T16:31:16.565Z"
      },
      {
        "duration": 29,
        "start_time": "2021-06-25T16:31:16.802Z"
      },
      {
        "duration": 239,
        "start_time": "2021-06-25T16:31:16.834Z"
      },
      {
        "duration": 1267,
        "start_time": "2021-06-25T16:31:17.076Z"
      },
      {
        "duration": 5,
        "start_time": "2021-06-25T16:31:18.346Z"
      },
      {
        "duration": 9,
        "start_time": "2021-06-25T16:31:18.362Z"
      },
      {
        "duration": 24,
        "start_time": "2021-06-25T16:31:18.374Z"
      },
      {
        "duration": 274,
        "start_time": "2021-06-25T16:31:18.401Z"
      },
      {
        "duration": 12,
        "start_time": "2021-06-25T16:31:18.678Z"
      },
      {
        "duration": 44,
        "start_time": "2021-06-25T16:31:18.693Z"
      },
      {
        "duration": 4982,
        "start_time": "2021-06-25T16:31:18.741Z"
      },
      {
        "duration": 12,
        "start_time": "2021-06-25T16:31:23.725Z"
      },
      {
        "duration": 35,
        "start_time": "2021-06-25T16:31:23.740Z"
      },
      {
        "duration": 1640,
        "start_time": "2021-06-25T16:31:23.777Z"
      },
      {
        "duration": 24,
        "start_time": "2021-06-25T16:31:25.420Z"
      },
      {
        "duration": 50,
        "start_time": "2021-06-25T16:31:25.446Z"
      },
      {
        "duration": 5,
        "start_time": "2021-06-25T16:31:25.498Z"
      },
      {
        "duration": 22,
        "start_time": "2021-06-25T16:31:25.505Z"
      },
      {
        "duration": 44,
        "start_time": "2021-06-25T16:31:25.529Z"
      },
      {
        "duration": 1110,
        "start_time": "2021-06-25T16:31:25.576Z"
      },
      {
        "duration": 6,
        "start_time": "2021-06-25T16:31:26.688Z"
      },
      {
        "duration": 689,
        "start_time": "2021-06-25T16:31:26.697Z"
      },
      {
        "duration": 29,
        "start_time": "2021-06-25T16:31:27.389Z"
      },
      {
        "duration": 74,
        "start_time": "2021-06-25T16:31:27.421Z"
      },
      {
        "duration": 5,
        "start_time": "2021-06-25T16:31:27.498Z"
      },
      {
        "duration": 30,
        "start_time": "2021-06-25T16:31:27.505Z"
      },
      {
        "duration": 34,
        "start_time": "2021-06-25T16:31:27.537Z"
      },
      {
        "duration": 5,
        "start_time": "2021-06-25T16:31:46.190Z"
      },
      {
        "duration": 19,
        "start_time": "2021-06-25T16:31:46.846Z"
      },
      {
        "duration": 19,
        "start_time": "2021-06-25T16:31:50.397Z"
      },
      {
        "duration": 1144,
        "start_time": "2021-06-25T16:31:59.122Z"
      },
      {
        "duration": 343,
        "start_time": "2021-06-25T16:32:11.874Z"
      },
      {
        "duration": -241,
        "start_time": "2021-06-25T16:32:12.462Z"
      },
      {
        "duration": -246,
        "start_time": "2021-06-25T16:32:12.469Z"
      },
      {
        "duration": -264,
        "start_time": "2021-06-25T16:32:12.488Z"
      },
      {
        "duration": -269,
        "start_time": "2021-06-25T16:32:12.495Z"
      },
      {
        "duration": -273,
        "start_time": "2021-06-25T16:32:12.500Z"
      },
      {
        "duration": -275,
        "start_time": "2021-06-25T16:32:12.504Z"
      },
      {
        "duration": -281,
        "start_time": "2021-06-25T16:32:12.511Z"
      },
      {
        "duration": -283,
        "start_time": "2021-06-25T16:32:12.515Z"
      },
      {
        "duration": -288,
        "start_time": "2021-06-25T16:32:12.521Z"
      },
      {
        "duration": -291,
        "start_time": "2021-06-25T16:32:12.526Z"
      },
      {
        "duration": -295,
        "start_time": "2021-06-25T16:32:12.531Z"
      },
      {
        "duration": -298,
        "start_time": "2021-06-25T16:32:12.535Z"
      },
      {
        "duration": -303,
        "start_time": "2021-06-25T16:32:12.542Z"
      },
      {
        "duration": -305,
        "start_time": "2021-06-25T16:32:12.546Z"
      },
      {
        "duration": -309,
        "start_time": "2021-06-25T16:32:12.551Z"
      },
      {
        "duration": -312,
        "start_time": "2021-06-25T16:32:12.555Z"
      },
      {
        "duration": -317,
        "start_time": "2021-06-25T16:32:12.562Z"
      },
      {
        "duration": -320,
        "start_time": "2021-06-25T16:32:12.566Z"
      },
      {
        "duration": -324,
        "start_time": "2021-06-25T16:32:12.571Z"
      },
      {
        "duration": -329,
        "start_time": "2021-06-25T16:32:12.578Z"
      },
      {
        "duration": -335,
        "start_time": "2021-06-25T16:32:12.585Z"
      },
      {
        "duration": -348,
        "start_time": "2021-06-25T16:32:12.600Z"
      },
      {
        "duration": -352,
        "start_time": "2021-06-25T16:32:12.605Z"
      },
      {
        "duration": -359,
        "start_time": "2021-06-25T16:32:12.614Z"
      },
      {
        "duration": -363,
        "start_time": "2021-06-25T16:32:12.619Z"
      },
      {
        "duration": -363,
        "start_time": "2021-06-25T16:32:12.624Z"
      },
      {
        "duration": -367,
        "start_time": "2021-06-25T16:32:12.630Z"
      },
      {
        "duration": 367,
        "start_time": "2021-06-25T16:32:56.058Z"
      },
      {
        "duration": 519,
        "start_time": "2021-06-25T16:33:16.518Z"
      },
      {
        "duration": 16,
        "start_time": "2021-06-25T16:33:23.607Z"
      },
      {
        "duration": 11,
        "start_time": "2021-06-25T16:33:23.626Z"
      },
      {
        "duration": 11,
        "start_time": "2021-06-25T16:33:23.641Z"
      },
      {
        "duration": 28,
        "start_time": "2021-06-25T16:33:23.655Z"
      },
      {
        "duration": 20,
        "start_time": "2021-06-25T16:33:23.685Z"
      },
      {
        "duration": 68,
        "start_time": "2021-06-25T16:33:23.707Z"
      },
      {
        "duration": 27,
        "start_time": "2021-06-25T16:33:23.777Z"
      },
      {
        "duration": 14,
        "start_time": "2021-06-25T16:33:23.807Z"
      },
      {
        "duration": 60,
        "start_time": "2021-06-25T16:33:23.825Z"
      },
      {
        "duration": 16,
        "start_time": "2021-06-25T16:33:23.888Z"
      },
      {
        "duration": 72,
        "start_time": "2021-06-25T16:33:23.907Z"
      },
      {
        "duration": 15,
        "start_time": "2021-06-25T16:33:23.982Z"
      },
      {
        "duration": 415,
        "start_time": "2021-06-25T16:33:23.999Z"
      },
      {
        "duration": 19,
        "start_time": "2021-06-25T16:33:24.417Z"
      },
      {
        "duration": 40,
        "start_time": "2021-06-25T16:33:24.438Z"
      },
      {
        "duration": 1286,
        "start_time": "2021-06-25T16:33:24.481Z"
      },
      {
        "duration": 19,
        "start_time": "2021-06-25T16:33:25.770Z"
      },
      {
        "duration": 31,
        "start_time": "2021-06-25T16:33:25.792Z"
      },
      {
        "duration": 39,
        "start_time": "2021-06-25T16:33:25.826Z"
      },
      {
        "duration": 27,
        "start_time": "2021-06-25T16:33:25.867Z"
      },
      {
        "duration": 90,
        "start_time": "2021-06-25T16:33:25.897Z"
      },
      {
        "duration": 1292,
        "start_time": "2021-06-25T16:33:25.991Z"
      },
      {
        "duration": 76,
        "start_time": "2021-06-25T16:33:27.286Z"
      },
      {
        "duration": 463,
        "start_time": "2021-06-25T16:33:27.365Z"
      },
      {
        "duration": 46,
        "start_time": "2021-06-25T16:33:27.831Z"
      },
      {
        "duration": 35,
        "start_time": "2021-06-25T16:33:27.880Z"
      },
      {
        "duration": 1283,
        "start_time": "2021-06-25T16:33:27.920Z"
      },
      {
        "duration": 403,
        "start_time": "2021-06-25T16:38:35.842Z"
      },
      {
        "duration": 326,
        "start_time": "2021-06-25T16:38:42.322Z"
      },
      {
        "duration": 20,
        "start_time": "2021-06-25T16:39:08.942Z"
      },
      {
        "duration": 21,
        "start_time": "2021-06-25T16:40:44.454Z"
      },
      {
        "duration": 17,
        "start_time": "2021-06-25T16:40:45.166Z"
      },
      {
        "duration": 1108,
        "start_time": "2021-06-25T16:40:46.629Z"
      },
      {
        "duration": 391,
        "start_time": "2021-06-25T16:42:09.202Z"
      },
      {
        "duration": 16,
        "start_time": "2021-06-25T16:42:29.778Z"
      },
      {
        "duration": 21,
        "start_time": "2021-06-25T16:42:49.294Z"
      },
      {
        "duration": 14,
        "start_time": "2021-06-25T16:42:50.770Z"
      },
      {
        "duration": 42,
        "start_time": "2021-06-25T16:42:51.294Z"
      },
      {
        "duration": 15,
        "start_time": "2021-06-25T16:42:51.862Z"
      },
      {
        "duration": 498,
        "start_time": "2021-06-25T16:42:52.793Z"
      },
      {
        "duration": 392,
        "start_time": "2021-06-25T16:45:04.582Z"
      },
      {
        "duration": 377,
        "start_time": "2021-06-25T16:45:48.101Z"
      },
      {
        "duration": 648,
        "start_time": "2021-06-25T16:46:01.774Z"
      },
      {
        "duration": 390,
        "start_time": "2021-06-25T16:46:17.706Z"
      },
      {
        "duration": 9,
        "start_time": "2021-06-25T16:49:09.341Z"
      },
      {
        "duration": 19,
        "start_time": "2021-06-25T16:50:33.662Z"
      },
      {
        "duration": 18,
        "start_time": "2021-06-25T16:53:54.642Z"
      },
      {
        "duration": 17,
        "start_time": "2021-06-25T16:53:57.662Z"
      },
      {
        "duration": 23,
        "start_time": "2021-06-25T16:54:06.926Z"
      },
      {
        "duration": 14,
        "start_time": "2021-06-25T16:54:23.358Z"
      },
      {
        "duration": 25,
        "start_time": "2021-06-25T16:54:46.962Z"
      },
      {
        "duration": 11,
        "start_time": "2021-06-25T16:56:06.598Z"
      },
      {
        "duration": 15,
        "start_time": "2021-06-25T17:03:21.826Z"
      },
      {
        "duration": 36,
        "start_time": "2021-06-25T17:03:42.473Z"
      },
      {
        "duration": 4,
        "start_time": "2021-06-25T17:06:10.477Z"
      },
      {
        "duration": 6,
        "start_time": "2021-06-25T17:07:17.573Z"
      },
      {
        "duration": 5,
        "start_time": "2021-06-25T17:07:41.021Z"
      },
      {
        "duration": 43,
        "start_time": "2021-06-25T17:11:30.017Z"
      },
      {
        "duration": 26,
        "start_time": "2021-06-25T17:12:10.506Z"
      },
      {
        "duration": 7,
        "start_time": "2021-06-25T17:12:18.621Z"
      },
      {
        "duration": 61,
        "start_time": "2021-06-25T17:12:36.985Z"
      },
      {
        "duration": 7,
        "start_time": "2021-06-25T17:13:21.221Z"
      },
      {
        "duration": 348,
        "start_time": "2021-06-25T17:13:42.870Z"
      },
      {
        "duration": 338,
        "start_time": "2021-06-25T17:13:49.186Z"
      },
      {
        "duration": 359,
        "start_time": "2021-06-25T17:14:05.854Z"
      },
      {
        "duration": 342,
        "start_time": "2021-06-25T17:14:10.446Z"
      },
      {
        "duration": 9,
        "start_time": "2021-06-25T17:14:29.053Z"
      },
      {
        "duration": 25,
        "start_time": "2021-06-25T17:18:01.198Z"
      },
      {
        "duration": 18,
        "start_time": "2021-06-25T17:20:30.773Z"
      },
      {
        "duration": 25,
        "start_time": "2021-06-25T17:21:08.629Z"
      },
      {
        "duration": 42,
        "start_time": "2021-06-25T17:25:38.573Z"
      },
      {
        "duration": 58,
        "start_time": "2021-06-25T17:25:55.333Z"
      },
      {
        "duration": 360,
        "start_time": "2021-06-25T17:30:38.629Z"
      },
      {
        "duration": 28,
        "start_time": "2021-06-25T17:30:42.841Z"
      },
      {
        "duration": 404,
        "start_time": "2021-06-25T17:35:20.248Z"
      },
      {
        "duration": 380,
        "start_time": "2021-06-25T17:35:39.440Z"
      },
      {
        "duration": 124,
        "start_time": "2021-06-25T17:36:29.937Z"
      },
      {
        "duration": 8713,
        "start_time": "2021-06-25T17:36:44.829Z"
      },
      {
        "duration": 8694,
        "start_time": "2021-06-25T17:38:05.673Z"
      },
      {
        "duration": 10319,
        "start_time": "2021-06-25T17:38:16.149Z"
      },
      {
        "duration": 10180,
        "start_time": "2021-06-25T17:42:22.676Z"
      },
      {
        "duration": 8758,
        "start_time": "2021-06-25T17:43:09.360Z"
      },
      {
        "duration": 6,
        "start_time": "2021-06-25T17:43:58.684Z"
      },
      {
        "duration": 86,
        "start_time": "2021-06-25T17:44:24.953Z"
      },
      {
        "duration": 65,
        "start_time": "2021-06-25T17:44:43.949Z"
      },
      {
        "duration": 18,
        "start_time": "2021-06-25T17:45:11.912Z"
      },
      {
        "duration": 1221,
        "start_time": "2021-06-25T17:45:19.768Z"
      },
      {
        "duration": 14,
        "start_time": "2021-06-25T17:45:29.612Z"
      },
      {
        "duration": 15,
        "start_time": "2021-06-25T17:46:40.532Z"
      },
      {
        "duration": 22,
        "start_time": "2021-06-25T17:48:30.333Z"
      },
      {
        "duration": 6,
        "start_time": "2021-06-25T17:51:15.912Z"
      },
      {
        "duration": 6,
        "start_time": "2021-06-25T17:52:14.660Z"
      },
      {
        "duration": 28,
        "start_time": "2021-06-25T17:54:10.136Z"
      },
      {
        "duration": 33,
        "start_time": "2021-06-25T17:55:57.356Z"
      },
      {
        "duration": 432,
        "start_time": "2021-06-25T17:56:24.076Z"
      },
      {
        "duration": 467,
        "start_time": "2021-06-25T17:56:35.752Z"
      },
      {
        "duration": 387,
        "start_time": "2021-06-25T17:56:55.971Z"
      },
      {
        "duration": 436,
        "start_time": "2021-06-25T17:57:11.566Z"
      },
      {
        "duration": 121,
        "start_time": "2021-06-25T17:57:21.732Z"
      },
      {
        "duration": 153,
        "start_time": "2021-06-25T17:57:33.252Z"
      },
      {
        "duration": 21,
        "start_time": "2021-06-25T18:00:24.236Z"
      },
      {
        "duration": 431,
        "start_time": "2021-06-26T04:19:46.813Z"
      },
      {
        "duration": 2347,
        "start_time": "2021-06-26T04:19:58.709Z"
      },
      {
        "duration": 81,
        "start_time": "2021-06-26T04:20:01.059Z"
      },
      {
        "duration": 65,
        "start_time": "2021-06-26T04:20:01.143Z"
      },
      {
        "duration": 277,
        "start_time": "2021-06-26T04:20:01.212Z"
      },
      {
        "duration": 44,
        "start_time": "2021-06-26T04:20:01.491Z"
      },
      {
        "duration": 38,
        "start_time": "2021-06-26T04:20:01.538Z"
      },
      {
        "duration": 36,
        "start_time": "2021-06-26T04:20:01.578Z"
      },
      {
        "duration": 49,
        "start_time": "2021-06-26T04:20:01.616Z"
      },
      {
        "duration": 270,
        "start_time": "2021-06-26T04:20:01.669Z"
      },
      {
        "duration": 26,
        "start_time": "2021-06-26T04:20:01.942Z"
      },
      {
        "duration": 30,
        "start_time": "2021-06-26T04:20:01.970Z"
      },
      {
        "duration": 31,
        "start_time": "2021-06-26T04:20:02.002Z"
      },
      {
        "duration": 323,
        "start_time": "2021-06-26T04:20:02.035Z"
      },
      {
        "duration": 411,
        "start_time": "2021-06-26T04:20:02.360Z"
      },
      {
        "duration": 6,
        "start_time": "2021-06-26T04:20:02.773Z"
      },
      {
        "duration": 657,
        "start_time": "2021-06-26T04:20:02.781Z"
      },
      {
        "duration": 572,
        "start_time": "2021-06-26T04:20:03.440Z"
      },
      {
        "duration": 547,
        "start_time": "2021-06-26T04:20:04.015Z"
      },
      {
        "duration": 163,
        "start_time": "2021-06-26T04:20:04.564Z"
      },
      {
        "duration": 495,
        "start_time": "2021-06-26T04:20:04.730Z"
      },
      {
        "duration": 35,
        "start_time": "2021-06-26T04:20:05.227Z"
      },
      {
        "duration": 1088,
        "start_time": "2021-06-26T04:20:05.264Z"
      },
      {
        "duration": 10,
        "start_time": "2021-06-26T04:20:06.361Z"
      },
      {
        "duration": 18,
        "start_time": "2021-06-26T04:20:06.373Z"
      },
      {
        "duration": 697,
        "start_time": "2021-06-26T04:20:06.393Z"
      },
      {
        "duration": 239,
        "start_time": "2021-06-26T04:20:07.092Z"
      },
      {
        "duration": 48,
        "start_time": "2021-06-26T04:20:07.337Z"
      },
      {
        "duration": 233,
        "start_time": "2021-06-26T04:20:07.388Z"
      },
      {
        "duration": 1115,
        "start_time": "2021-06-26T04:20:07.624Z"
      },
      {
        "duration": 6,
        "start_time": "2021-06-26T04:20:08.741Z"
      },
      {
        "duration": 19,
        "start_time": "2021-06-26T04:20:08.762Z"
      },
      {
        "duration": 25,
        "start_time": "2021-06-26T04:20:08.783Z"
      },
      {
        "duration": 356,
        "start_time": "2021-06-26T04:20:08.811Z"
      },
      {
        "duration": 13,
        "start_time": "2021-06-26T04:20:09.170Z"
      },
      {
        "duration": 34,
        "start_time": "2021-06-26T04:20:09.186Z"
      },
      {
        "duration": 5023,
        "start_time": "2021-06-26T04:20:09.223Z"
      },
      {
        "duration": 24,
        "start_time": "2021-06-26T04:20:14.249Z"
      },
      {
        "duration": 17,
        "start_time": "2021-06-26T04:20:14.276Z"
      },
      {
        "duration": 1573,
        "start_time": "2021-06-26T04:20:14.296Z"
      },
      {
        "duration": 24,
        "start_time": "2021-06-26T04:20:15.871Z"
      },
      {
        "duration": 36,
        "start_time": "2021-06-26T04:20:15.897Z"
      },
      {
        "duration": 6,
        "start_time": "2021-06-26T04:20:15.961Z"
      },
      {
        "duration": 23,
        "start_time": "2021-06-26T04:20:15.969Z"
      },
      {
        "duration": 17,
        "start_time": "2021-06-26T04:20:15.994Z"
      },
      {
        "duration": 1102,
        "start_time": "2021-06-26T04:20:16.014Z"
      },
      {
        "duration": 6,
        "start_time": "2021-06-26T04:20:17.118Z"
      },
      {
        "duration": 663,
        "start_time": "2021-06-26T04:20:17.126Z"
      },
      {
        "duration": 26,
        "start_time": "2021-06-26T04:20:17.792Z"
      },
      {
        "duration": 61,
        "start_time": "2021-06-26T04:20:17.820Z"
      },
      {
        "duration": 5,
        "start_time": "2021-06-26T04:20:17.884Z"
      },
      {
        "duration": 24,
        "start_time": "2021-06-26T04:20:17.892Z"
      },
      {
        "duration": 18,
        "start_time": "2021-06-26T04:20:17.918Z"
      },
      {
        "duration": 1185,
        "start_time": "2021-06-26T04:20:17.938Z"
      },
      {
        "duration": 319,
        "start_time": "2021-06-26T04:20:19.125Z"
      },
      {
        "duration": 26,
        "start_time": "2021-06-26T04:20:19.447Z"
      },
      {
        "duration": 20,
        "start_time": "2021-06-26T04:20:19.477Z"
      },
      {
        "duration": 19,
        "start_time": "2021-06-26T04:20:19.499Z"
      },
      {
        "duration": 46,
        "start_time": "2021-06-26T04:20:19.520Z"
      },
      {
        "duration": 20,
        "start_time": "2021-06-26T04:20:19.569Z"
      },
      {
        "duration": 32,
        "start_time": "2021-06-26T04:20:19.592Z"
      },
      {
        "duration": 60,
        "start_time": "2021-06-26T04:20:19.627Z"
      },
      {
        "duration": 14,
        "start_time": "2021-06-26T04:20:19.690Z"
      },
      {
        "duration": 56,
        "start_time": "2021-06-26T04:20:19.707Z"
      },
      {
        "duration": 17,
        "start_time": "2021-06-26T04:20:19.766Z"
      },
      {
        "duration": 42,
        "start_time": "2021-06-26T04:20:19.786Z"
      },
      {
        "duration": 42,
        "start_time": "2021-06-26T04:20:19.831Z"
      },
      {
        "duration": 385,
        "start_time": "2021-06-26T04:20:19.876Z"
      },
      {
        "duration": 152,
        "start_time": "2021-06-26T04:20:20.264Z"
      },
      {
        "duration": 19,
        "start_time": "2021-06-26T04:20:20.419Z"
      },
      {
        "duration": 1286,
        "start_time": "2021-06-26T04:20:20.440Z"
      },
      {
        "duration": 38,
        "start_time": "2021-06-26T04:20:21.728Z"
      },
      {
        "duration": 13,
        "start_time": "2021-06-26T04:20:21.769Z"
      },
      {
        "duration": 26,
        "start_time": "2021-06-26T04:20:21.785Z"
      },
      {
        "duration": 7,
        "start_time": "2021-06-26T04:20:21.813Z"
      },
      {
        "duration": 57,
        "start_time": "2021-06-26T04:20:21.823Z"
      },
      {
        "duration": 58,
        "start_time": "2021-06-26T04:20:21.883Z"
      },
      {
        "duration": 877,
        "start_time": "2021-06-26T04:20:21.944Z"
      },
      {
        "duration": 8,
        "start_time": "2021-06-26T04:20:27.732Z"
      },
      {
        "duration": 9,
        "start_time": "2021-06-26T04:20:54.061Z"
      },
      {
        "duration": 8,
        "start_time": "2021-06-26T04:21:54.972Z"
      },
      {
        "duration": 6,
        "start_time": "2021-06-26T04:22:06.693Z"
      },
      {
        "duration": 18,
        "start_time": "2021-06-26T04:22:51.637Z"
      },
      {
        "duration": 7,
        "start_time": "2021-06-26T04:23:19.868Z"
      },
      {
        "duration": 9,
        "start_time": "2021-06-26T04:24:11.041Z"
      },
      {
        "duration": 8,
        "start_time": "2021-06-26T04:24:27.665Z"
      },
      {
        "duration": 49,
        "start_time": "2021-06-26T04:24:55.707Z"
      },
      {
        "duration": 22,
        "start_time": "2021-06-26T04:30:44.421Z"
      },
      {
        "duration": 20,
        "start_time": "2021-06-26T04:31:13.797Z"
      },
      {
        "duration": 26,
        "start_time": "2021-06-26T05:08:40.352Z"
      },
      {
        "duration": 14,
        "start_time": "2021-06-26T05:12:44.871Z"
      },
      {
        "duration": 14,
        "start_time": "2021-06-26T05:25:52.831Z"
      },
      {
        "duration": 19,
        "start_time": "2021-06-26T05:33:42.155Z"
      },
      {
        "duration": 810,
        "start_time": "2021-06-26T05:33:51.015Z"
      },
      {
        "duration": 72,
        "start_time": "2021-06-26T05:33:51.827Z"
      },
      {
        "duration": 34,
        "start_time": "2021-06-26T05:33:51.902Z"
      },
      {
        "duration": 260,
        "start_time": "2021-06-26T05:33:51.939Z"
      },
      {
        "duration": 40,
        "start_time": "2021-06-26T05:33:52.201Z"
      },
      {
        "duration": 34,
        "start_time": "2021-06-26T05:33:52.244Z"
      },
      {
        "duration": 33,
        "start_time": "2021-06-26T05:33:52.281Z"
      },
      {
        "duration": 49,
        "start_time": "2021-06-26T05:33:52.317Z"
      },
      {
        "duration": 346,
        "start_time": "2021-06-26T05:33:52.370Z"
      },
      {
        "duration": 16,
        "start_time": "2021-06-26T05:33:52.720Z"
      },
      {
        "duration": 33,
        "start_time": "2021-06-26T05:33:52.738Z"
      },
      {
        "duration": 17,
        "start_time": "2021-06-26T05:33:52.773Z"
      },
      {
        "duration": 14,
        "start_time": "2021-06-26T05:33:52.793Z"
      },
      {
        "duration": 338,
        "start_time": "2021-06-26T05:33:52.810Z"
      },
      {
        "duration": 378,
        "start_time": "2021-06-26T05:33:53.151Z"
      },
      {
        "duration": 5,
        "start_time": "2021-06-26T05:33:53.532Z"
      },
      {
        "duration": 588,
        "start_time": "2021-06-26T05:33:53.539Z"
      },
      {
        "duration": 457,
        "start_time": "2021-06-26T05:33:54.129Z"
      },
      {
        "duration": 440,
        "start_time": "2021-06-26T05:33:54.589Z"
      },
      {
        "duration": 160,
        "start_time": "2021-06-26T05:33:55.031Z"
      },
      {
        "duration": 490,
        "start_time": "2021-06-26T05:33:55.194Z"
      },
      {
        "duration": 16,
        "start_time": "2021-06-26T05:33:55.686Z"
      },
      {
        "duration": 1082,
        "start_time": "2021-06-26T05:33:55.704Z"
      },
      {
        "duration": 10,
        "start_time": "2021-06-26T05:33:56.788Z"
      },
      {
        "duration": 18,
        "start_time": "2021-06-26T05:33:56.800Z"
      },
      {
        "duration": 693,
        "start_time": "2021-06-26T05:33:56.820Z"
      },
      {
        "duration": 282,
        "start_time": "2021-06-26T05:33:57.520Z"
      },
      {
        "duration": 30,
        "start_time": "2021-06-26T05:33:57.806Z"
      },
      {
        "duration": 236,
        "start_time": "2021-06-26T05:33:57.839Z"
      },
      {
        "duration": 1113,
        "start_time": "2021-06-26T05:33:58.077Z"
      },
      {
        "duration": 5,
        "start_time": "2021-06-26T05:33:59.192Z"
      },
      {
        "duration": 13,
        "start_time": "2021-06-26T05:33:59.199Z"
      },
      {
        "duration": 49,
        "start_time": "2021-06-26T05:33:59.214Z"
      },
      {
        "duration": 203,
        "start_time": "2021-06-26T05:33:59.266Z"
      },
      {
        "duration": 12,
        "start_time": "2021-06-26T05:33:59.472Z"
      },
      {
        "duration": 29,
        "start_time": "2021-06-26T05:33:59.487Z"
      },
      {
        "duration": 2932,
        "start_time": "2021-06-26T05:33:59.518Z"
      },
      {
        "duration": 11,
        "start_time": "2021-06-26T05:34:02.463Z"
      },
      {
        "duration": 18,
        "start_time": "2021-06-26T05:34:02.477Z"
      },
      {
        "duration": 1607,
        "start_time": "2021-06-26T05:34:02.498Z"
      },
      {
        "duration": 26,
        "start_time": "2021-06-26T05:34:04.107Z"
      },
      {
        "duration": 53,
        "start_time": "2021-06-26T05:34:04.135Z"
      },
      {
        "duration": 5,
        "start_time": "2021-06-26T05:34:04.191Z"
      },
      {
        "duration": 23,
        "start_time": "2021-06-26T05:34:04.199Z"
      },
      {
        "duration": 42,
        "start_time": "2021-06-26T05:34:04.225Z"
      },
      {
        "duration": 1072,
        "start_time": "2021-06-26T05:34:04.270Z"
      },
      {
        "duration": 19,
        "start_time": "2021-06-26T05:34:05.345Z"
      },
      {
        "duration": 660,
        "start_time": "2021-06-26T05:34:05.366Z"
      },
      {
        "duration": 35,
        "start_time": "2021-06-26T05:34:06.029Z"
      },
      {
        "duration": 38,
        "start_time": "2021-06-26T05:34:06.066Z"
      },
      {
        "duration": 5,
        "start_time": "2021-06-26T05:34:06.107Z"
      },
      {
        "duration": 51,
        "start_time": "2021-06-26T05:34:06.114Z"
      },
      {
        "duration": 18,
        "start_time": "2021-06-26T05:34:06.167Z"
      },
      {
        "duration": 1185,
        "start_time": "2021-06-26T05:34:06.188Z"
      },
      {
        "duration": 374,
        "start_time": "2021-06-26T05:34:07.376Z"
      },
      {
        "duration": 22,
        "start_time": "2021-06-26T05:34:07.753Z"
      },
      {
        "duration": 10,
        "start_time": "2021-06-26T05:34:07.778Z"
      },
      {
        "duration": 15,
        "start_time": "2021-06-26T05:34:07.790Z"
      },
      {
        "duration": 64,
        "start_time": "2021-06-26T05:34:07.807Z"
      },
      {
        "duration": 19,
        "start_time": "2021-06-26T05:34:07.874Z"
      },
      {
        "duration": 32,
        "start_time": "2021-06-26T05:34:07.895Z"
      },
      {
        "duration": 51,
        "start_time": "2021-06-26T05:34:07.930Z"
      },
      {
        "duration": 14,
        "start_time": "2021-06-26T05:34:07.983Z"
      },
      {
        "duration": 29,
        "start_time": "2021-06-26T05:34:07.999Z"
      },
      {
        "duration": 39,
        "start_time": "2021-06-26T05:34:08.031Z"
      },
      {
        "duration": 45,
        "start_time": "2021-06-26T05:34:08.073Z"
      },
      {
        "duration": 15,
        "start_time": "2021-06-26T05:34:08.120Z"
      },
      {
        "duration": 402,
        "start_time": "2021-06-26T05:34:08.161Z"
      },
      {
        "duration": 206,
        "start_time": "2021-06-26T05:34:08.566Z"
      },
      {
        "duration": 25,
        "start_time": "2021-06-26T05:34:08.775Z"
      },
      {
        "duration": 1779,
        "start_time": "2021-06-26T05:34:08.803Z"
      },
      {
        "duration": 21,
        "start_time": "2021-06-26T05:34:10.585Z"
      },
      {
        "duration": 19,
        "start_time": "2021-06-26T05:34:10.609Z"
      },
      {
        "duration": 34,
        "start_time": "2021-06-26T05:34:10.663Z"
      },
      {
        "duration": 11,
        "start_time": "2021-06-26T05:34:10.701Z"
      },
      {
        "duration": 59,
        "start_time": "2021-06-26T05:34:10.715Z"
      },
      {
        "duration": 98,
        "start_time": "2021-06-26T05:34:10.777Z"
      },
      {
        "duration": 944,
        "start_time": "2021-06-26T05:34:10.878Z"
      },
      {
        "duration": 37,
        "start_time": "2021-06-26T05:34:11.824Z"
      },
      {
        "duration": 13,
        "start_time": "2021-06-26T05:34:11.864Z"
      },
      {
        "duration": 22,
        "start_time": "2021-06-26T05:34:11.885Z"
      },
      {
        "duration": 60,
        "start_time": "2021-06-26T05:34:11.910Z"
      },
      {
        "duration": 46,
        "start_time": "2021-06-26T05:34:11.973Z"
      },
      {
        "duration": 325,
        "start_time": "2021-06-26T05:34:12.022Z"
      },
      {
        "duration": 39,
        "start_time": "2021-06-26T05:34:12.350Z"
      },
      {
        "duration": 40,
        "start_time": "2021-06-26T05:34:12.392Z"
      },
      {
        "duration": 921,
        "start_time": "2021-06-26T05:34:12.435Z"
      },
      {
        "duration": 394,
        "start_time": "2021-06-26T05:41:11.325Z"
      },
      {
        "duration": 34,
        "start_time": "2021-06-26T05:41:13.663Z"
      },
      {
        "duration": 11,
        "start_time": "2021-06-26T05:43:54.450Z"
      },
      {
        "duration": 13,
        "start_time": "2021-06-26T05:44:00.377Z"
      },
      {
        "duration": 47,
        "start_time": "2021-06-26T05:44:17.867Z"
      },
      {
        "duration": 13,
        "start_time": "2021-06-26T05:44:41.345Z"
      },
      {
        "duration": 30,
        "start_time": "2021-06-26T05:44:52.297Z"
      },
      {
        "duration": 13,
        "start_time": "2021-06-26T05:46:17.927Z"
      },
      {
        "duration": 127,
        "start_time": "2021-06-26T05:46:42.799Z"
      },
      {
        "duration": 21,
        "start_time": "2021-06-26T05:46:44.334Z"
      },
      {
        "duration": 65,
        "start_time": "2021-06-26T05:47:40.763Z"
      },
      {
        "duration": 13,
        "start_time": "2021-06-26T05:48:25.613Z"
      },
      {
        "duration": 801,
        "start_time": "2021-06-26T05:50:34.490Z"
      },
      {
        "duration": 74,
        "start_time": "2021-06-26T05:50:35.294Z"
      },
      {
        "duration": 34,
        "start_time": "2021-06-26T05:50:35.373Z"
      },
      {
        "duration": 242,
        "start_time": "2021-06-26T05:50:35.410Z"
      },
      {
        "duration": 41,
        "start_time": "2021-06-26T05:50:35.655Z"
      },
      {
        "duration": 20,
        "start_time": "2021-06-26T05:50:35.700Z"
      },
      {
        "duration": 73,
        "start_time": "2021-06-26T05:50:35.723Z"
      },
      {
        "duration": 15,
        "start_time": "2021-06-26T05:50:35.800Z"
      },
      {
        "duration": 358,
        "start_time": "2021-06-26T05:50:35.819Z"
      },
      {
        "duration": 16,
        "start_time": "2021-06-26T05:50:36.180Z"
      },
      {
        "duration": 14,
        "start_time": "2021-06-26T05:50:36.198Z"
      },
      {
        "duration": 19,
        "start_time": "2021-06-26T05:50:36.214Z"
      },
      {
        "duration": 38,
        "start_time": "2021-06-26T05:50:36.235Z"
      },
      {
        "duration": 328,
        "start_time": "2021-06-26T05:50:36.276Z"
      },
      {
        "duration": 385,
        "start_time": "2021-06-26T05:50:36.606Z"
      },
      {
        "duration": 7,
        "start_time": "2021-06-26T05:50:36.994Z"
      },
      {
        "duration": 582,
        "start_time": "2021-06-26T05:50:37.004Z"
      },
      {
        "duration": 464,
        "start_time": "2021-06-26T05:50:37.589Z"
      },
      {
        "duration": 457,
        "start_time": "2021-06-26T05:50:38.056Z"
      },
      {
        "duration": 164,
        "start_time": "2021-06-26T05:50:38.516Z"
      },
      {
        "duration": 596,
        "start_time": "2021-06-26T05:50:38.684Z"
      },
      {
        "duration": 14,
        "start_time": "2021-06-26T05:50:39.282Z"
      },
      {
        "duration": 1145,
        "start_time": "2021-06-26T05:50:39.303Z"
      },
      {
        "duration": 14,
        "start_time": "2021-06-26T05:50:40.452Z"
      },
      {
        "duration": 16,
        "start_time": "2021-06-26T05:50:40.469Z"
      },
      {
        "duration": 1020,
        "start_time": "2021-06-26T05:50:40.487Z"
      },
      {
        "duration": 221,
        "start_time": "2021-06-26T05:50:41.510Z"
      },
      {
        "duration": 47,
        "start_time": "2021-06-26T05:50:41.733Z"
      },
      {
        "duration": 222,
        "start_time": "2021-06-26T05:50:41.782Z"
      },
      {
        "duration": 1215,
        "start_time": "2021-06-26T05:50:42.006Z"
      },
      {
        "duration": 6,
        "start_time": "2021-06-26T05:50:43.223Z"
      },
      {
        "duration": 33,
        "start_time": "2021-06-26T05:50:43.231Z"
      },
      {
        "duration": 22,
        "start_time": "2021-06-26T05:50:43.266Z"
      },
      {
        "duration": 199,
        "start_time": "2021-06-26T05:50:43.291Z"
      },
      {
        "duration": 9,
        "start_time": "2021-06-26T05:50:43.493Z"
      },
      {
        "duration": 28,
        "start_time": "2021-06-26T05:50:43.504Z"
      },
      {
        "duration": 2853,
        "start_time": "2021-06-26T05:50:43.534Z"
      },
      {
        "duration": 11,
        "start_time": "2021-06-26T05:50:46.389Z"
      },
      {
        "duration": 21,
        "start_time": "2021-06-26T05:50:46.403Z"
      },
      {
        "duration": 1539,
        "start_time": "2021-06-26T05:50:46.427Z"
      },
      {
        "duration": 24,
        "start_time": "2021-06-26T05:50:47.969Z"
      },
      {
        "duration": 35,
        "start_time": "2021-06-26T05:50:47.995Z"
      },
      {
        "duration": 31,
        "start_time": "2021-06-26T05:50:48.032Z"
      },
      {
        "duration": 23,
        "start_time": "2021-06-26T05:50:48.066Z"
      },
      {
        "duration": 17,
        "start_time": "2021-06-26T05:50:48.091Z"
      },
      {
        "duration": 1113,
        "start_time": "2021-06-26T05:50:48.110Z"
      },
      {
        "duration": 7,
        "start_time": "2021-06-26T05:50:49.225Z"
      },
      {
        "duration": 669,
        "start_time": "2021-06-26T05:50:49.234Z"
      },
      {
        "duration": 25,
        "start_time": "2021-06-26T05:50:49.906Z"
      },
      {
        "duration": 53,
        "start_time": "2021-06-26T05:50:49.933Z"
      },
      {
        "duration": 5,
        "start_time": "2021-06-26T05:50:49.988Z"
      },
      {
        "duration": 24,
        "start_time": "2021-06-26T05:50:49.996Z"
      },
      {
        "duration": 41,
        "start_time": "2021-06-26T05:50:50.023Z"
      },
      {
        "duration": 1078,
        "start_time": "2021-06-26T05:50:50.066Z"
      },
      {
        "duration": 401,
        "start_time": "2021-06-26T05:50:51.146Z"
      },
      {
        "duration": 24,
        "start_time": "2021-06-26T05:50:51.549Z"
      },
      {
        "duration": 11,
        "start_time": "2021-06-26T05:50:51.575Z"
      },
      {
        "duration": 13,
        "start_time": "2021-06-26T05:50:51.589Z"
      },
      {
        "duration": 28,
        "start_time": "2021-06-26T05:50:51.604Z"
      },
      {
        "duration": 20,
        "start_time": "2021-06-26T05:50:51.662Z"
      },
      {
        "duration": 43,
        "start_time": "2021-06-26T05:50:51.686Z"
      },
      {
        "duration": 60,
        "start_time": "2021-06-26T05:50:51.732Z"
      },
      {
        "duration": 18,
        "start_time": "2021-06-26T05:50:51.796Z"
      },
      {
        "duration": 52,
        "start_time": "2021-06-26T05:50:51.817Z"
      },
      {
        "duration": 27,
        "start_time": "2021-06-26T05:50:51.872Z"
      },
      {
        "duration": 45,
        "start_time": "2021-06-26T05:50:51.901Z"
      },
      {
        "duration": 16,
        "start_time": "2021-06-26T05:50:51.961Z"
      },
      {
        "duration": 399,
        "start_time": "2021-06-26T05:50:51.984Z"
      },
      {
        "duration": 158,
        "start_time": "2021-06-26T05:50:52.386Z"
      },
      {
        "duration": 30,
        "start_time": "2021-06-26T05:50:52.547Z"
      },
      {
        "duration": 1207,
        "start_time": "2021-06-26T05:50:52.579Z"
      },
      {
        "duration": 18,
        "start_time": "2021-06-26T05:50:53.788Z"
      },
      {
        "duration": 13,
        "start_time": "2021-06-26T05:50:53.809Z"
      },
      {
        "duration": 56,
        "start_time": "2021-06-26T05:50:53.824Z"
      },
      {
        "duration": 7,
        "start_time": "2021-06-26T05:50:53.883Z"
      },
      {
        "duration": 18,
        "start_time": "2021-06-26T05:50:53.893Z"
      },
      {
        "duration": 80,
        "start_time": "2021-06-26T05:50:53.914Z"
      },
      {
        "duration": 903,
        "start_time": "2021-06-26T05:50:53.998Z"
      },
      {
        "duration": 161,
        "start_time": "2021-06-26T05:51:01.842Z"
      },
      {
        "duration": 14,
        "start_time": "2021-06-26T05:51:04.237Z"
      },
      {
        "duration": 51,
        "start_time": "2021-06-26T05:51:19.482Z"
      },
      {
        "duration": 13,
        "start_time": "2021-06-26T05:51:46.398Z"
      },
      {
        "duration": 13,
        "start_time": "2021-06-26T05:53:37.106Z"
      },
      {
        "duration": 321,
        "start_time": "2021-06-26T05:57:00.474Z"
      },
      {
        "duration": 65,
        "start_time": "2021-06-26T05:57:25.278Z"
      },
      {
        "duration": 77,
        "start_time": "2021-06-26T05:57:45.774Z"
      },
      {
        "duration": 16,
        "start_time": "2021-06-26T05:58:39.807Z"
      },
      {
        "duration": 30,
        "start_time": "2021-06-26T05:58:52.171Z"
      },
      {
        "duration": 63,
        "start_time": "2021-06-26T06:00:20.822Z"
      },
      {
        "duration": 99,
        "start_time": "2021-06-26T06:03:16.267Z"
      },
      {
        "duration": 50,
        "start_time": "2021-06-26T06:03:20.588Z"
      },
      {
        "duration": 74,
        "start_time": "2021-06-26T06:03:28.590Z"
      },
      {
        "duration": 50,
        "start_time": "2021-06-26T06:03:43.410Z"
      },
      {
        "duration": 68,
        "start_time": "2021-06-26T06:03:48.731Z"
      },
      {
        "duration": 26,
        "start_time": "2021-06-26T06:05:35.722Z"
      },
      {
        "duration": 4,
        "start_time": "2021-06-26T06:08:33.637Z"
      },
      {
        "duration": 3,
        "start_time": "2021-06-26T06:09:21.506Z"
      },
      {
        "duration": 123,
        "start_time": "2021-06-26T06:09:22.033Z"
      },
      {
        "duration": 332,
        "start_time": "2021-06-26T06:10:04.229Z"
      },
      {
        "duration": 9,
        "start_time": "2021-06-26T06:10:39.871Z"
      },
      {
        "duration": 50,
        "start_time": "2021-06-26T06:11:00.434Z"
      },
      {
        "duration": 63,
        "start_time": "2021-06-26T06:11:13.622Z"
      },
      {
        "duration": 52,
        "start_time": "2021-06-26T06:11:22.449Z"
      },
      {
        "duration": 8,
        "start_time": "2021-06-26T06:11:30.074Z"
      },
      {
        "duration": 355,
        "start_time": "2021-06-26T06:11:31.640Z"
      },
      {
        "duration": 12,
        "start_time": "2021-06-26T06:12:41.871Z"
      },
      {
        "duration": 25,
        "start_time": "2021-06-26T06:12:47.891Z"
      },
      {
        "duration": 15,
        "start_time": "2021-06-26T06:12:55.134Z"
      },
      {
        "duration": 16,
        "start_time": "2021-06-26T06:13:58.743Z"
      },
      {
        "duration": 12,
        "start_time": "2021-06-26T06:20:22.290Z"
      },
      {
        "duration": 27,
        "start_time": "2021-06-26T06:21:54.786Z"
      },
      {
        "duration": 14,
        "start_time": "2021-06-26T06:23:30.224Z"
      },
      {
        "duration": 25,
        "start_time": "2021-06-26T06:23:36.014Z"
      },
      {
        "duration": 22,
        "start_time": "2021-06-26T06:25:59.030Z"
      },
      {
        "duration": 154,
        "start_time": "2021-06-26T06:26:55.525Z"
      },
      {
        "duration": 22,
        "start_time": "2021-06-26T06:27:00.378Z"
      },
      {
        "duration": 20,
        "start_time": "2021-06-26T06:27:23.154Z"
      },
      {
        "duration": 456,
        "start_time": "2021-06-26T06:27:58.786Z"
      },
      {
        "duration": 27,
        "start_time": "2021-06-26T06:28:46.354Z"
      },
      {
        "duration": 21,
        "start_time": "2021-06-26T06:29:06.372Z"
      },
      {
        "duration": 374,
        "start_time": "2021-06-26T06:30:51.434Z"
      },
      {
        "duration": 21,
        "start_time": "2021-06-26T06:31:03.989Z"
      },
      {
        "duration": 331,
        "start_time": "2021-06-26T06:31:05.309Z"
      },
      {
        "duration": 14,
        "start_time": "2021-06-26T06:31:11.160Z"
      },
      {
        "duration": 28,
        "start_time": "2021-06-26T06:31:19.770Z"
      },
      {
        "duration": 45,
        "start_time": "2021-06-26T06:38:56.861Z"
      },
      {
        "duration": 10157,
        "start_time": "2021-06-26T06:40:07.270Z"
      },
      {
        "duration": 24,
        "start_time": "2021-06-26T06:40:39.911Z"
      },
      {
        "duration": 27,
        "start_time": "2021-06-26T06:40:48.474Z"
      },
      {
        "duration": 50,
        "start_time": "2021-06-26T06:41:35.010Z"
      },
      {
        "duration": 34,
        "start_time": "2021-06-26T06:41:40.142Z"
      },
      {
        "duration": 8726,
        "start_time": "2021-06-26T06:43:22.379Z"
      },
      {
        "duration": 8595,
        "start_time": "2021-06-26T06:45:00.882Z"
      },
      {
        "duration": 19,
        "start_time": "2021-06-26T06:46:18.113Z"
      },
      {
        "duration": 28,
        "start_time": "2021-06-26T06:46:31.904Z"
      },
      {
        "duration": 28,
        "start_time": "2021-06-26T06:50:07.046Z"
      },
      {
        "duration": 23,
        "start_time": "2021-06-26T06:50:27.941Z"
      },
      {
        "duration": 42,
        "start_time": "2021-06-26T06:51:46.121Z"
      },
      {
        "duration": 68,
        "start_time": "2021-06-26T06:52:31.965Z"
      },
      {
        "duration": 55,
        "start_time": "2021-06-26T06:57:40.424Z"
      },
      {
        "duration": 27,
        "start_time": "2021-06-26T07:00:02.745Z"
      },
      {
        "duration": 5,
        "start_time": "2021-06-26T07:00:07.441Z"
      },
      {
        "duration": 54,
        "start_time": "2021-06-26T07:03:25.165Z"
      },
      {
        "duration": 6651,
        "start_time": "2021-06-26T07:07:18.437Z"
      },
      {
        "duration": 66,
        "start_time": "2021-06-26T07:07:33.973Z"
      },
      {
        "duration": 57,
        "start_time": "2021-06-26T07:07:58.713Z"
      },
      {
        "duration": 60,
        "start_time": "2021-06-26T07:09:43.034Z"
      },
      {
        "duration": 50,
        "start_time": "2021-06-26T07:12:04.261Z"
      },
      {
        "duration": 50,
        "start_time": "2021-06-26T07:12:59.229Z"
      },
      {
        "duration": 129,
        "start_time": "2021-06-26T07:16:16.921Z"
      },
      {
        "duration": 10225,
        "start_time": "2021-06-26T07:16:21.877Z"
      },
      {
        "duration": -152,
        "start_time": "2021-06-26T07:16:32.257Z"
      },
      {
        "duration": 14,
        "start_time": "2021-06-26T07:17:04.341Z"
      },
      {
        "duration": 21,
        "start_time": "2021-06-26T07:17:05.525Z"
      },
      {
        "duration": 8805,
        "start_time": "2021-06-26T07:17:13.425Z"
      },
      {
        "duration": 28,
        "start_time": "2021-06-26T07:17:44.256Z"
      },
      {
        "duration": 9,
        "start_time": "2021-06-26T07:18:09.673Z"
      },
      {
        "duration": 19,
        "start_time": "2021-06-26T07:18:36.601Z"
      },
      {
        "duration": 29,
        "start_time": "2021-06-26T07:18:53.741Z"
      },
      {
        "duration": 1451,
        "start_time": "2021-06-26T07:20:37.003Z"
      },
      {
        "duration": 19,
        "start_time": "2021-06-26T07:21:03.401Z"
      },
      {
        "duration": 20,
        "start_time": "2021-06-26T07:21:55.257Z"
      },
      {
        "duration": 10,
        "start_time": "2021-06-26T07:22:12.944Z"
      },
      {
        "duration": 19,
        "start_time": "2021-06-26T07:22:23.453Z"
      },
      {
        "duration": 21,
        "start_time": "2021-06-26T07:22:44.470Z"
      },
      {
        "duration": 21,
        "start_time": "2021-06-26T07:23:07.509Z"
      },
      {
        "duration": 20,
        "start_time": "2021-06-26T07:23:41.951Z"
      },
      {
        "duration": 8416,
        "start_time": "2021-06-26T07:25:58.328Z"
      },
      {
        "duration": 8150,
        "start_time": "2021-06-26T07:26:47.117Z"
      },
      {
        "duration": 325,
        "start_time": "2021-06-26T07:28:21.155Z"
      },
      {
        "duration": 64,
        "start_time": "2021-06-26T07:28:27.281Z"
      },
      {
        "duration": 49,
        "start_time": "2021-06-26T07:29:18.665Z"
      },
      {
        "duration": 8928,
        "start_time": "2021-06-26T07:29:35.366Z"
      },
      {
        "duration": 8881,
        "start_time": "2021-06-26T07:30:05.772Z"
      },
      {
        "duration": 26,
        "start_time": "2021-06-26T07:30:18.719Z"
      },
      {
        "duration": 22,
        "start_time": "2021-06-26T07:32:55.525Z"
      },
      {
        "duration": 9,
        "start_time": "2021-06-26T07:34:46.348Z"
      },
      {
        "duration": 8452,
        "start_time": "2021-06-26T07:34:57.444Z"
      },
      {
        "duration": 20,
        "start_time": "2021-06-26T07:35:19.262Z"
      },
      {
        "duration": 8340,
        "start_time": "2021-06-26T07:35:42.976Z"
      },
      {
        "duration": 8819,
        "start_time": "2021-06-26T07:35:57.800Z"
      },
      {
        "duration": 24,
        "start_time": "2021-06-26T07:36:46.525Z"
      },
      {
        "duration": 10,
        "start_time": "2021-06-26T07:37:03.981Z"
      },
      {
        "duration": 19,
        "start_time": "2021-06-26T07:37:29.860Z"
      },
      {
        "duration": 23,
        "start_time": "2021-06-26T07:37:37.103Z"
      },
      {
        "duration": 9,
        "start_time": "2021-06-26T07:37:45.426Z"
      },
      {
        "duration": 18,
        "start_time": "2021-06-26T07:37:45.992Z"
      },
      {
        "duration": 21,
        "start_time": "2021-06-26T07:37:53.528Z"
      },
      {
        "duration": 5,
        "start_time": "2021-06-26T07:37:58.950Z"
      },
      {
        "duration": 26,
        "start_time": "2021-06-26T07:38:14.212Z"
      },
      {
        "duration": 39,
        "start_time": "2021-06-26T07:39:11.556Z"
      },
      {
        "duration": 42,
        "start_time": "2021-06-26T07:39:27.768Z"
      },
      {
        "duration": 322,
        "start_time": "2021-06-26T07:40:17.296Z"
      },
      {
        "duration": 336,
        "start_time": "2021-06-26T07:40:40.112Z"
      },
      {
        "duration": 38,
        "start_time": "2021-06-26T07:40:50.152Z"
      },
      {
        "duration": 291,
        "start_time": "2021-06-26T07:41:22.892Z"
      },
      {
        "duration": 283,
        "start_time": "2021-06-26T07:41:43.632Z"
      },
      {
        "duration": 1279,
        "start_time": "2021-06-26T07:47:39.344Z"
      },
      {
        "duration": 41,
        "start_time": "2021-06-26T07:48:02.400Z"
      },
      {
        "duration": 1292,
        "start_time": "2021-06-26T07:48:03.180Z"
      },
      {
        "duration": 1144,
        "start_time": "2021-06-26T07:48:16.060Z"
      },
      {
        "duration": 412,
        "start_time": "2021-06-26T07:56:03.607Z"
      },
      {
        "duration": 1368,
        "start_time": "2021-06-26T07:56:19.123Z"
      },
      {
        "duration": 1265,
        "start_time": "2021-06-26T08:01:17.742Z"
      },
      {
        "duration": 18,
        "start_time": "2021-06-26T08:03:02.608Z"
      },
      {
        "duration": 9,
        "start_time": "2021-06-26T08:03:29.610Z"
      },
      {
        "duration": 1707,
        "start_time": "2021-06-26T08:06:00.458Z"
      },
      {
        "duration": 1783,
        "start_time": "2021-06-26T08:06:06.468Z"
      },
      {
        "duration": 1443,
        "start_time": "2021-06-26T08:06:12.725Z"
      },
      {
        "duration": 1886,
        "start_time": "2021-06-26T08:07:46.005Z"
      },
      {
        "duration": 1295,
        "start_time": "2021-06-26T08:11:35.262Z"
      },
      {
        "duration": 1432,
        "start_time": "2021-06-26T08:14:25.644Z"
      },
      {
        "duration": 428,
        "start_time": "2021-06-26T08:14:46.350Z"
      },
      {
        "duration": 1293,
        "start_time": "2021-06-26T08:15:09.881Z"
      },
      {
        "duration": 1263,
        "start_time": "2021-06-26T08:19:31.515Z"
      },
      {
        "duration": 1404,
        "start_time": "2021-06-26T08:20:55.619Z"
      },
      {
        "duration": 1262,
        "start_time": "2021-06-26T08:21:33.445Z"
      },
      {
        "duration": 1387,
        "start_time": "2021-06-26T08:21:54.311Z"
      },
      {
        "duration": 1783,
        "start_time": "2021-06-26T08:22:25.865Z"
      },
      {
        "duration": 1779,
        "start_time": "2021-06-26T08:22:41.931Z"
      },
      {
        "duration": 3160,
        "start_time": "2021-06-26T08:25:07.512Z"
      },
      {
        "duration": 126,
        "start_time": "2021-06-26T08:25:10.675Z"
      },
      {
        "duration": 82,
        "start_time": "2021-06-26T08:25:10.806Z"
      },
      {
        "duration": 406,
        "start_time": "2021-06-26T08:25:10.892Z"
      },
      {
        "duration": 67,
        "start_time": "2021-06-26T08:25:11.302Z"
      },
      {
        "duration": 25,
        "start_time": "2021-06-26T08:25:11.372Z"
      },
      {
        "duration": 75,
        "start_time": "2021-06-26T08:25:11.400Z"
      },
      {
        "duration": 22,
        "start_time": "2021-06-26T08:25:11.478Z"
      },
      {
        "duration": 429,
        "start_time": "2021-06-26T08:25:11.506Z"
      },
      {
        "duration": 29,
        "start_time": "2021-06-26T08:25:11.939Z"
      },
      {
        "duration": 15,
        "start_time": "2021-06-26T08:25:11.971Z"
      },
      {
        "duration": 18,
        "start_time": "2021-06-26T08:25:11.989Z"
      },
      {
        "duration": 54,
        "start_time": "2021-06-26T08:25:12.010Z"
      },
      {
        "duration": 457,
        "start_time": "2021-06-26T08:25:12.067Z"
      },
      {
        "duration": 538,
        "start_time": "2021-06-26T08:25:12.527Z"
      },
      {
        "duration": 6,
        "start_time": "2021-06-26T08:25:13.068Z"
      },
      {
        "duration": 908,
        "start_time": "2021-06-26T08:25:13.077Z"
      },
      {
        "duration": 634,
        "start_time": "2021-06-26T08:25:13.988Z"
      },
      {
        "duration": 616,
        "start_time": "2021-06-26T08:25:14.625Z"
      },
      {
        "duration": 222,
        "start_time": "2021-06-26T08:25:15.244Z"
      },
      {
        "duration": 683,
        "start_time": "2021-06-26T08:25:15.469Z"
      },
      {
        "duration": 21,
        "start_time": "2021-06-26T08:25:16.163Z"
      },
      {
        "duration": 1721,
        "start_time": "2021-06-26T08:25:16.187Z"
      },
      {
        "duration": 11,
        "start_time": "2021-06-26T08:25:17.912Z"
      },
      {
        "duration": 46,
        "start_time": "2021-06-26T08:25:17.926Z"
      },
      {
        "duration": 890,
        "start_time": "2021-06-26T08:25:17.975Z"
      },
      {
        "duration": 396,
        "start_time": "2021-06-26T08:25:18.875Z"
      },
      {
        "duration": 42,
        "start_time": "2021-06-26T08:25:19.277Z"
      },
      {
        "duration": 319,
        "start_time": "2021-06-26T08:25:19.322Z"
      },
      {
        "duration": 1138,
        "start_time": "2021-06-26T08:25:19.643Z"
      },
      {
        "duration": 6,
        "start_time": "2021-06-26T08:25:20.783Z"
      },
      {
        "duration": 13,
        "start_time": "2021-06-26T08:25:20.791Z"
      },
      {
        "duration": 21,
        "start_time": "2021-06-26T08:25:20.807Z"
      },
      {
        "duration": 235,
        "start_time": "2021-06-26T08:25:20.830Z"
      },
      {
        "duration": 9,
        "start_time": "2021-06-26T08:25:21.068Z"
      },
      {
        "duration": 27,
        "start_time": "2021-06-26T08:25:21.080Z"
      },
      {
        "duration": 3086,
        "start_time": "2021-06-26T08:25:21.110Z"
      },
      {
        "duration": 10,
        "start_time": "2021-06-26T08:25:24.199Z"
      },
      {
        "duration": 15,
        "start_time": "2021-06-26T08:25:24.211Z"
      },
      {
        "duration": 1608,
        "start_time": "2021-06-26T08:25:24.229Z"
      },
      {
        "duration": 33,
        "start_time": "2021-06-26T08:25:25.839Z"
      },
      {
        "duration": 36,
        "start_time": "2021-06-26T08:25:25.874Z"
      },
      {
        "duration": 5,
        "start_time": "2021-06-26T08:25:25.912Z"
      },
      {
        "duration": 47,
        "start_time": "2021-06-26T08:25:25.919Z"
      },
      {
        "duration": 24,
        "start_time": "2021-06-26T08:25:25.969Z"
      },
      {
        "duration": 1106,
        "start_time": "2021-06-26T08:25:25.996Z"
      },
      {
        "duration": 5,
        "start_time": "2021-06-26T08:25:27.105Z"
      },
      {
        "duration": 686,
        "start_time": "2021-06-26T08:25:27.112Z"
      },
      {
        "duration": 24,
        "start_time": "2021-06-26T08:25:27.801Z"
      },
      {
        "duration": 58,
        "start_time": "2021-06-26T08:25:27.828Z"
      },
      {
        "duration": 5,
        "start_time": "2021-06-26T08:25:27.888Z"
      },
      {
        "duration": 24,
        "start_time": "2021-06-26T08:25:27.895Z"
      },
      {
        "duration": 41,
        "start_time": "2021-06-26T08:25:27.921Z"
      },
      {
        "duration": 1076,
        "start_time": "2021-06-26T08:25:27.964Z"
      },
      {
        "duration": 322,
        "start_time": "2021-06-26T08:25:29.043Z"
      },
      {
        "duration": 15,
        "start_time": "2021-06-26T08:25:29.368Z"
      },
      {
        "duration": 11,
        "start_time": "2021-06-26T08:25:29.385Z"
      },
      {
        "duration": 10,
        "start_time": "2021-06-26T08:25:29.398Z"
      },
      {
        "duration": 62,
        "start_time": "2021-06-26T08:25:29.411Z"
      },
      {
        "duration": 21,
        "start_time": "2021-06-26T08:25:29.476Z"
      },
      {
        "duration": 31,
        "start_time": "2021-06-26T08:25:29.500Z"
      },
      {
        "duration": 27,
        "start_time": "2021-06-26T08:25:29.563Z"
      },
      {
        "duration": 14,
        "start_time": "2021-06-26T08:25:29.594Z"
      },
      {
        "duration": 62,
        "start_time": "2021-06-26T08:25:29.611Z"
      },
      {
        "duration": 17,
        "start_time": "2021-06-26T08:25:29.677Z"
      },
      {
        "duration": 72,
        "start_time": "2021-06-26T08:25:29.697Z"
      },
      {
        "duration": 18,
        "start_time": "2021-06-26T08:25:29.772Z"
      },
      {
        "duration": 409,
        "start_time": "2021-06-26T08:25:29.793Z"
      },
      {
        "duration": 159,
        "start_time": "2021-06-26T08:25:30.205Z"
      },
      {
        "duration": 21,
        "start_time": "2021-06-26T08:25:30.368Z"
      },
      {
        "duration": 1335,
        "start_time": "2021-06-26T08:25:30.391Z"
      },
      {
        "duration": 16,
        "start_time": "2021-06-26T08:25:31.728Z"
      },
      {
        "duration": 12,
        "start_time": "2021-06-26T08:25:31.763Z"
      },
      {
        "duration": 42,
        "start_time": "2021-06-26T08:25:31.778Z"
      },
      {
        "duration": 5,
        "start_time": "2021-06-26T08:25:31.822Z"
      },
      {
        "duration": 34,
        "start_time": "2021-06-26T08:25:31.829Z"
      },
      {
        "duration": 59,
        "start_time": "2021-06-26T08:25:31.865Z"
      },
      {
        "duration": 882,
        "start_time": "2021-06-26T08:25:31.926Z"
      },
      {
        "duration": 170,
        "start_time": "2021-06-26T08:25:32.811Z"
      },
      {
        "duration": 51,
        "start_time": "2021-06-26T08:25:32.983Z"
      },
      {
        "duration": 24,
        "start_time": "2021-06-26T08:25:33.043Z"
      },
      {
        "duration": 13,
        "start_time": "2021-06-26T08:25:33.070Z"
      },
      {
        "duration": 26,
        "start_time": "2021-06-26T08:25:33.086Z"
      },
      {
        "duration": 51,
        "start_time": "2021-06-26T08:25:33.114Z"
      },
      {
        "duration": 22,
        "start_time": "2021-06-26T08:25:33.168Z"
      },
      {
        "duration": 9,
        "start_time": "2021-06-26T08:25:33.193Z"
      },
      {
        "duration": 21,
        "start_time": "2021-06-26T08:25:33.204Z"
      },
      {
        "duration": 53,
        "start_time": "2021-06-26T08:25:33.228Z"
      },
      {
        "duration": 31,
        "start_time": "2021-06-26T08:25:33.284Z"
      },
      {
        "duration": 70,
        "start_time": "2021-06-26T08:25:33.318Z"
      },
      {
        "duration": 44,
        "start_time": "2021-06-26T08:25:33.390Z"
      },
      {
        "duration": 1139,
        "start_time": "2021-06-26T08:25:33.461Z"
      },
      {
        "duration": 1299,
        "start_time": "2021-06-26T08:25:34.603Z"
      },
      {
        "duration": 1461,
        "start_time": "2021-06-26T08:25:35.904Z"
      },
      {
        "duration": 2394,
        "start_time": "2021-06-26T08:25:37.368Z"
      },
      {
        "duration": 1459,
        "start_time": "2021-06-26T08:25:39.766Z"
      },
      {
        "duration": 1290,
        "start_time": "2021-06-26T08:25:41.228Z"
      },
      {
        "duration": 1268,
        "start_time": "2021-06-26T08:25:42.521Z"
      },
      {
        "duration": 43,
        "start_time": "2021-06-26T08:27:03.216Z"
      },
      {
        "duration": 1154,
        "start_time": "2021-06-26T08:27:04.087Z"
      },
      {
        "duration": 7,
        "start_time": "2021-06-26T08:33:36.700Z"
      },
      {
        "duration": 7,
        "start_time": "2021-06-26T08:33:54.690Z"
      },
      {
        "duration": 319,
        "start_time": "2021-06-26T08:34:01.326Z"
      },
      {
        "duration": 391,
        "start_time": "2021-06-26T08:38:55.555Z"
      },
      {
        "duration": 449,
        "start_time": "2021-06-26T08:39:09.644Z"
      },
      {
        "duration": 503,
        "start_time": "2021-06-26T08:39:55.649Z"
      },
      {
        "duration": 1003,
        "start_time": "2021-06-26T08:43:39.097Z"
      },
      {
        "duration": 591,
        "start_time": "2021-06-26T08:44:27.727Z"
      },
      {
        "duration": 867,
        "start_time": "2021-06-26T08:44:38.795Z"
      },
      {
        "duration": 845,
        "start_time": "2021-06-26T08:44:49.064Z"
      },
      {
        "duration": 887,
        "start_time": "2021-06-26T08:45:07.263Z"
      },
      {
        "duration": 589,
        "start_time": "2021-06-26T08:45:15.089Z"
      },
      {
        "duration": 600,
        "start_time": "2021-06-26T08:45:42.802Z"
      },
      {
        "duration": 826,
        "start_time": "2021-06-26T08:45:55.987Z"
      },
      {
        "duration": 663,
        "start_time": "2021-06-26T08:47:00.411Z"
      },
      {
        "duration": 676,
        "start_time": "2021-06-26T08:47:21.759Z"
      },
      {
        "duration": 141,
        "start_time": "2021-06-26T08:47:51.604Z"
      },
      {
        "duration": 1058,
        "start_time": "2021-06-26T08:47:59.851Z"
      },
      {
        "duration": 655,
        "start_time": "2021-06-26T08:48:12.929Z"
      },
      {
        "duration": 663,
        "start_time": "2021-06-26T08:48:34.727Z"
      },
      {
        "duration": 691,
        "start_time": "2021-06-26T08:54:04.915Z"
      },
      {
        "duration": 693,
        "start_time": "2021-06-26T08:55:10.999Z"
      },
      {
        "duration": 758,
        "start_time": "2021-06-26T08:55:40.527Z"
      },
      {
        "duration": 124,
        "start_time": "2021-06-26T08:56:32.931Z"
      },
      {
        "duration": 348,
        "start_time": "2021-06-26T08:56:38.931Z"
      },
      {
        "duration": 693,
        "start_time": "2021-06-26T08:58:12.959Z"
      },
      {
        "duration": 695,
        "start_time": "2021-06-26T09:01:15.503Z"
      },
      {
        "duration": 1072,
        "start_time": "2021-06-26T09:01:37.829Z"
      },
      {
        "duration": 710,
        "start_time": "2021-06-26T09:02:05.487Z"
      },
      {
        "duration": 9130,
        "start_time": "2021-06-26T09:06:38.490Z"
      },
      {
        "duration": 4256,
        "start_time": "2021-06-26T09:07:18.331Z"
      },
      {
        "duration": 849,
        "start_time": "2021-06-26T09:07:29.254Z"
      },
      {
        "duration": 4254,
        "start_time": "2021-06-26T09:07:44.471Z"
      },
      {
        "duration": 1037,
        "start_time": "2021-06-26T09:07:58.830Z"
      },
      {
        "duration": 4379,
        "start_time": "2021-06-26T09:08:16.481Z"
      },
      {
        "duration": 4296,
        "start_time": "2021-06-26T09:08:25.346Z"
      },
      {
        "duration": 986,
        "start_time": "2021-06-26T09:08:38.910Z"
      },
      {
        "duration": 913,
        "start_time": "2021-06-26T09:08:57.386Z"
      },
      {
        "duration": 916,
        "start_time": "2021-06-26T09:09:08.494Z"
      },
      {
        "duration": 140,
        "start_time": "2021-06-26T09:10:19.630Z"
      },
      {
        "duration": 1124,
        "start_time": "2021-06-26T09:10:25.512Z"
      },
      {
        "duration": 756,
        "start_time": "2021-06-26T09:11:05.262Z"
      },
      {
        "duration": 110,
        "start_time": "2021-06-26T09:13:27.667Z"
      },
      {
        "duration": 120,
        "start_time": "2021-06-26T09:13:34.494Z"
      },
      {
        "duration": 724,
        "start_time": "2021-06-26T09:13:43.778Z"
      },
      {
        "duration": 717,
        "start_time": "2021-06-26T09:13:58.049Z"
      },
      {
        "duration": 680,
        "start_time": "2021-06-26T09:15:43.802Z"
      },
      {
        "duration": 964,
        "start_time": "2021-06-26T09:17:11.386Z"
      },
      {
        "duration": 941,
        "start_time": "2021-06-26T09:17:56.274Z"
      },
      {
        "duration": 737,
        "start_time": "2021-06-26T09:18:20.050Z"
      },
      {
        "duration": 4,
        "start_time": "2021-06-26T14:40:46.198Z"
      },
      {
        "duration": 3465,
        "start_time": "2021-06-26T14:46:45.722Z"
      },
      {
        "duration": 140,
        "start_time": "2021-06-26T14:46:49.191Z"
      },
      {
        "duration": 78,
        "start_time": "2021-06-26T14:46:49.335Z"
      },
      {
        "duration": 445,
        "start_time": "2021-06-26T14:46:49.417Z"
      },
      {
        "duration": 77,
        "start_time": "2021-06-26T14:46:49.865Z"
      },
      {
        "duration": 26,
        "start_time": "2021-06-26T14:46:49.945Z"
      },
      {
        "duration": 87,
        "start_time": "2021-06-26T14:46:49.974Z"
      },
      {
        "duration": 42,
        "start_time": "2021-06-26T14:46:50.067Z"
      },
      {
        "duration": 442,
        "start_time": "2021-06-26T14:46:50.113Z"
      },
      {
        "duration": 18,
        "start_time": "2021-06-26T14:46:50.558Z"
      },
      {
        "duration": 35,
        "start_time": "2021-06-26T14:46:50.580Z"
      },
      {
        "duration": 16,
        "start_time": "2021-06-26T14:46:50.617Z"
      },
      {
        "duration": 19,
        "start_time": "2021-06-26T14:46:50.636Z"
      },
      {
        "duration": 356,
        "start_time": "2021-06-26T14:46:50.658Z"
      },
      {
        "duration": 429,
        "start_time": "2021-06-26T14:46:51.016Z"
      },
      {
        "duration": 25,
        "start_time": "2021-06-26T14:46:51.448Z"
      },
      {
        "duration": 1493,
        "start_time": "2021-06-26T14:46:51.475Z"
      },
      {
        "duration": 483,
        "start_time": "2021-06-26T14:46:53.010Z"
      },
      {
        "duration": 614,
        "start_time": "2021-06-26T14:46:53.495Z"
      },
      {
        "duration": 253,
        "start_time": "2021-06-26T14:46:54.112Z"
      },
      {
        "duration": 500,
        "start_time": "2021-06-26T14:46:54.368Z"
      },
      {
        "duration": 16,
        "start_time": "2021-06-26T14:46:54.870Z"
      },
      {
        "duration": 1264,
        "start_time": "2021-06-26T14:46:54.912Z"
      },
      {
        "duration": 10,
        "start_time": "2021-06-26T14:46:56.180Z"
      },
      {
        "duration": 22,
        "start_time": "2021-06-26T14:46:56.210Z"
      },
      {
        "duration": 738,
        "start_time": "2021-06-26T14:46:56.235Z"
      },
      {
        "duration": 281,
        "start_time": "2021-06-26T14:46:56.975Z"
      },
      {
        "duration": 52,
        "start_time": "2021-06-26T14:46:57.259Z"
      },
      {
        "duration": 242,
        "start_time": "2021-06-26T14:46:57.313Z"
      },
      {
        "duration": 1535,
        "start_time": "2021-06-26T14:46:57.558Z"
      },
      {
        "duration": 15,
        "start_time": "2021-06-26T14:46:59.096Z"
      },
      {
        "duration": 12,
        "start_time": "2021-06-26T14:46:59.114Z"
      },
      {
        "duration": 21,
        "start_time": "2021-06-26T14:46:59.129Z"
      },
      {
        "duration": 257,
        "start_time": "2021-06-26T14:46:59.153Z"
      },
      {
        "duration": 11,
        "start_time": "2021-06-26T14:46:59.413Z"
      },
      {
        "duration": 32,
        "start_time": "2021-06-26T14:46:59.427Z"
      },
      {
        "duration": 3068,
        "start_time": "2021-06-26T14:46:59.462Z"
      },
      {
        "duration": 11,
        "start_time": "2021-06-26T14:47:02.533Z"
      },
      {
        "duration": 27,
        "start_time": "2021-06-26T14:47:02.547Z"
      },
      {
        "duration": 1649,
        "start_time": "2021-06-26T14:47:02.577Z"
      },
      {
        "duration": 34,
        "start_time": "2021-06-26T14:47:04.229Z"
      },
      {
        "duration": 79,
        "start_time": "2021-06-26T14:47:04.266Z"
      },
      {
        "duration": 6,
        "start_time": "2021-06-26T14:47:04.348Z"
      },
      {
        "duration": 35,
        "start_time": "2021-06-26T14:47:04.357Z"
      },
      {
        "duration": 31,
        "start_time": "2021-06-26T14:47:04.395Z"
      },
      {
        "duration": 1258,
        "start_time": "2021-06-26T14:47:04.428Z"
      },
      {
        "duration": 6,
        "start_time": "2021-06-26T14:47:05.688Z"
      },
      {
        "duration": 743,
        "start_time": "2021-06-26T14:47:05.709Z"
      },
      {
        "duration": 33,
        "start_time": "2021-06-26T14:47:06.455Z"
      },
      {
        "duration": 58,
        "start_time": "2021-06-26T14:47:06.491Z"
      },
      {
        "duration": 5,
        "start_time": "2021-06-26T14:47:06.551Z"
      },
      {
        "duration": 50,
        "start_time": "2021-06-26T14:47:06.559Z"
      },
      {
        "duration": 21,
        "start_time": "2021-06-26T14:47:06.612Z"
      },
      {
        "duration": 1113,
        "start_time": "2021-06-26T14:47:06.635Z"
      },
      {
        "duration": 329,
        "start_time": "2021-06-26T14:47:07.751Z"
      },
      {
        "duration": 28,
        "start_time": "2021-06-26T14:47:08.083Z"
      },
      {
        "duration": 12,
        "start_time": "2021-06-26T14:47:08.114Z"
      },
      {
        "duration": 11,
        "start_time": "2021-06-26T14:47:08.129Z"
      },
      {
        "duration": 27,
        "start_time": "2021-06-26T14:47:08.143Z"
      },
      {
        "duration": 53,
        "start_time": "2021-06-26T14:47:08.172Z"
      },
      {
        "duration": 33,
        "start_time": "2021-06-26T14:47:08.228Z"
      },
      {
        "duration": 58,
        "start_time": "2021-06-26T14:47:08.263Z"
      },
      {
        "duration": 13,
        "start_time": "2021-06-26T14:47:08.324Z"
      },
      {
        "duration": 34,
        "start_time": "2021-06-26T14:47:08.340Z"
      },
      {
        "duration": 53,
        "start_time": "2021-06-26T14:47:08.378Z"
      },
      {
        "duration": 90,
        "start_time": "2021-06-26T14:47:08.434Z"
      },
      {
        "duration": 24,
        "start_time": "2021-06-26T14:47:08.528Z"
      },
      {
        "duration": 580,
        "start_time": "2021-06-26T14:47:08.566Z"
      },
      {
        "duration": 166,
        "start_time": "2021-06-26T14:47:09.149Z"
      },
      {
        "duration": 20,
        "start_time": "2021-06-26T14:47:09.317Z"
      },
      {
        "duration": 1412,
        "start_time": "2021-06-26T14:47:09.340Z"
      },
      {
        "duration": 18,
        "start_time": "2021-06-26T14:47:10.755Z"
      },
      {
        "duration": 33,
        "start_time": "2021-06-26T14:47:10.777Z"
      },
      {
        "duration": 29,
        "start_time": "2021-06-26T14:47:10.814Z"
      },
      {
        "duration": 6,
        "start_time": "2021-06-26T14:47:10.846Z"
      },
      {
        "duration": 21,
        "start_time": "2021-06-26T14:47:10.855Z"
      },
      {
        "duration": 90,
        "start_time": "2021-06-26T14:47:10.878Z"
      },
      {
        "duration": 1044,
        "start_time": "2021-06-26T14:47:10.972Z"
      },
      {
        "duration": 175,
        "start_time": "2021-06-26T14:47:12.019Z"
      },
      {
        "duration": 75,
        "start_time": "2021-06-26T14:47:12.197Z"
      },
      {
        "duration": 9,
        "start_time": "2021-06-26T14:47:12.275Z"
      },
      {
        "duration": 15,
        "start_time": "2021-06-26T14:47:12.310Z"
      },
      {
        "duration": 48,
        "start_time": "2021-06-26T14:47:12.328Z"
      },
      {
        "duration": 56,
        "start_time": "2021-06-26T14:47:12.379Z"
      },
      {
        "duration": 35,
        "start_time": "2021-06-26T14:47:12.438Z"
      },
      {
        "duration": 40,
        "start_time": "2021-06-26T14:47:12.476Z"
      },
      {
        "duration": 35,
        "start_time": "2021-06-26T14:47:12.518Z"
      },
      {
        "duration": 35,
        "start_time": "2021-06-26T14:47:12.556Z"
      },
      {
        "duration": 29,
        "start_time": "2021-06-26T14:47:12.610Z"
      },
      {
        "duration": 68,
        "start_time": "2021-06-26T14:47:12.641Z"
      },
      {
        "duration": 65,
        "start_time": "2021-06-26T14:47:12.712Z"
      },
      {
        "duration": 1691,
        "start_time": "2021-06-26T14:47:12.779Z"
      },
      {
        "duration": 1908,
        "start_time": "2021-06-26T14:47:14.473Z"
      },
      {
        "duration": 1397,
        "start_time": "2021-06-26T14:47:16.385Z"
      },
      {
        "duration": 1598,
        "start_time": "2021-06-26T14:47:17.786Z"
      },
      {
        "duration": 1417,
        "start_time": "2021-06-26T14:47:19.387Z"
      },
      {
        "duration": 1320,
        "start_time": "2021-06-26T14:47:20.807Z"
      },
      {
        "duration": 1343,
        "start_time": "2021-06-26T14:47:22.129Z"
      },
      {
        "duration": 820,
        "start_time": "2021-06-26T14:47:23.475Z"
      },
      {
        "duration": 1150,
        "start_time": "2021-06-26T14:54:12.462Z"
      },
      {
        "duration": 6,
        "start_time": "2021-06-26T14:58:30.786Z"
      },
      {
        "duration": 7,
        "start_time": "2021-06-26T15:00:55.986Z"
      },
      {
        "duration": 6,
        "start_time": "2021-06-26T15:01:34.813Z"
      },
      {
        "duration": 7,
        "start_time": "2021-06-26T15:01:44.754Z"
      },
      {
        "duration": 1204,
        "start_time": "2021-06-26T15:05:52.597Z"
      },
      {
        "duration": 1141,
        "start_time": "2021-06-26T15:06:15.605Z"
      },
      {
        "duration": 1115,
        "start_time": "2021-06-26T15:06:32.633Z"
      },
      {
        "duration": 1116,
        "start_time": "2021-06-26T15:07:04.281Z"
      },
      {
        "duration": 306,
        "start_time": "2021-06-26T15:08:45.058Z"
      },
      {
        "duration": 40,
        "start_time": "2021-06-26T15:09:34.358Z"
      },
      {
        "duration": 19,
        "start_time": "2021-06-26T15:09:49.217Z"
      },
      {
        "duration": 8,
        "start_time": "2021-06-26T15:09:58.818Z"
      },
      {
        "duration": 22,
        "start_time": "2021-06-26T15:09:59.438Z"
      },
      {
        "duration": 396,
        "start_time": "2021-06-26T15:14:07.714Z"
      },
      {
        "duration": 396,
        "start_time": "2021-06-26T15:15:45.997Z"
      },
      {
        "duration": 1218,
        "start_time": "2021-06-26T15:16:08.497Z"
      },
      {
        "duration": 1344,
        "start_time": "2021-06-26T15:19:21.277Z"
      },
      {
        "duration": 1796,
        "start_time": "2021-06-26T15:19:29.305Z"
      },
      {
        "duration": 1704,
        "start_time": "2021-06-26T15:22:34.369Z"
      },
      {
        "duration": 1546,
        "start_time": "2021-06-26T15:23:01.509Z"
      },
      {
        "duration": 2164,
        "start_time": "2021-06-26T15:23:42.934Z"
      },
      {
        "duration": 1995,
        "start_time": "2021-06-26T15:24:23.229Z"
      },
      {
        "duration": 1918,
        "start_time": "2021-06-26T15:24:37.673Z"
      },
      {
        "duration": 1658,
        "start_time": "2021-06-26T15:24:48.265Z"
      },
      {
        "duration": 1328,
        "start_time": "2021-06-26T15:26:31.506Z"
      },
      {
        "duration": 4,
        "start_time": "2021-06-26T15:29:13.797Z"
      },
      {
        "duration": 4,
        "start_time": "2021-06-26T15:31:02.297Z"
      },
      {
        "duration": 5,
        "start_time": "2021-06-26T15:31:09.969Z"
      },
      {
        "duration": 998,
        "start_time": "2021-06-26T15:32:42.550Z"
      },
      {
        "duration": 873,
        "start_time": "2021-06-26T15:32:56.893Z"
      },
      {
        "duration": 775,
        "start_time": "2021-06-26T15:34:23.081Z"
      },
      {
        "duration": 754,
        "start_time": "2021-06-26T15:37:30.982Z"
      },
      {
        "duration": 792,
        "start_time": "2021-06-26T15:39:17.785Z"
      },
      {
        "duration": 847,
        "start_time": "2021-06-26T15:39:54.597Z"
      },
      {
        "duration": 706,
        "start_time": "2021-06-26T15:40:06.941Z"
      },
      {
        "duration": 112,
        "start_time": "2021-06-26T15:47:46.800Z"
      },
      {
        "duration": 56,
        "start_time": "2021-06-26T15:48:21.573Z"
      },
      {
        "duration": 55,
        "start_time": "2021-06-26T15:48:31.485Z"
      },
      {
        "duration": 7458,
        "start_time": "2021-06-26T15:49:34.589Z"
      },
      {
        "duration": 60,
        "start_time": "2021-06-26T15:49:48.301Z"
      },
      {
        "duration": 2423,
        "start_time": "2021-06-26T15:50:21.268Z"
      },
      {
        "duration": 94,
        "start_time": "2021-06-26T15:50:23.694Z"
      },
      {
        "duration": 61,
        "start_time": "2021-06-26T15:50:23.791Z"
      },
      {
        "duration": 569,
        "start_time": "2021-06-26T15:50:23.855Z"
      },
      {
        "duration": 311,
        "start_time": "2021-06-26T15:50:24.426Z"
      },
      {
        "duration": 4699,
        "start_time": "2021-06-26T15:50:24.739Z"
      },
      {
        "duration": -371,
        "start_time": "2021-06-26T15:50:29.816Z"
      },
      {
        "duration": -377,
        "start_time": "2021-06-26T15:50:29.823Z"
      },
      {
        "duration": -380,
        "start_time": "2021-06-26T15:50:29.828Z"
      },
      {
        "duration": -384,
        "start_time": "2021-06-26T15:50:29.833Z"
      },
      {
        "duration": -389,
        "start_time": "2021-06-26T15:50:29.839Z"
      },
      {
        "duration": -392,
        "start_time": "2021-06-26T15:50:29.843Z"
      },
      {
        "duration": -396,
        "start_time": "2021-06-26T15:50:29.849Z"
      },
      {
        "duration": -399,
        "start_time": "2021-06-26T15:50:29.854Z"
      },
      {
        "duration": -403,
        "start_time": "2021-06-26T15:50:29.859Z"
      },
      {
        "duration": -406,
        "start_time": "2021-06-26T15:50:29.864Z"
      },
      {
        "duration": -410,
        "start_time": "2021-06-26T15:50:29.869Z"
      },
      {
        "duration": -414,
        "start_time": "2021-06-26T15:50:29.875Z"
      },
      {
        "duration": -419,
        "start_time": "2021-06-26T15:50:29.881Z"
      },
      {
        "duration": -433,
        "start_time": "2021-06-26T15:50:29.896Z"
      },
      {
        "duration": -437,
        "start_time": "2021-06-26T15:50:29.902Z"
      },
      {
        "duration": -441,
        "start_time": "2021-06-26T15:50:29.908Z"
      },
      {
        "duration": -445,
        "start_time": "2021-06-26T15:50:29.913Z"
      },
      {
        "duration": -450,
        "start_time": "2021-06-26T15:50:29.919Z"
      },
      {
        "duration": -457,
        "start_time": "2021-06-26T15:50:29.928Z"
      },
      {
        "duration": -461,
        "start_time": "2021-06-26T15:50:29.933Z"
      },
      {
        "duration": -464,
        "start_time": "2021-06-26T15:50:29.938Z"
      },
      {
        "duration": -467,
        "start_time": "2021-06-26T15:50:29.942Z"
      },
      {
        "duration": -471,
        "start_time": "2021-06-26T15:50:29.947Z"
      },
      {
        "duration": -474,
        "start_time": "2021-06-26T15:50:29.952Z"
      },
      {
        "duration": -477,
        "start_time": "2021-06-26T15:50:29.957Z"
      },
      {
        "duration": -453,
        "start_time": "2021-06-26T15:50:29.962Z"
      },
      {
        "duration": -456,
        "start_time": "2021-06-26T15:50:29.967Z"
      },
      {
        "duration": -459,
        "start_time": "2021-06-26T15:50:29.972Z"
      },
      {
        "duration": -464,
        "start_time": "2021-06-26T15:50:29.978Z"
      },
      {
        "duration": -467,
        "start_time": "2021-06-26T15:50:29.983Z"
      },
      {
        "duration": -471,
        "start_time": "2021-06-26T15:50:29.989Z"
      },
      {
        "duration": -475,
        "start_time": "2021-06-26T15:50:29.994Z"
      },
      {
        "duration": -489,
        "start_time": "2021-06-26T15:50:30.010Z"
      },
      {
        "duration": -493,
        "start_time": "2021-06-26T15:50:30.015Z"
      },
      {
        "duration": -500,
        "start_time": "2021-06-26T15:50:30.023Z"
      },
      {
        "duration": -554,
        "start_time": "2021-06-26T15:50:30.079Z"
      },
      {
        "duration": -558,
        "start_time": "2021-06-26T15:50:30.084Z"
      },
      {
        "duration": -562,
        "start_time": "2021-06-26T15:50:30.089Z"
      },
      {
        "duration": -566,
        "start_time": "2021-06-26T15:50:30.094Z"
      },
      {
        "duration": -641,
        "start_time": "2021-06-26T15:50:30.171Z"
      },
      {
        "duration": -647,
        "start_time": "2021-06-26T15:50:30.178Z"
      },
      {
        "duration": -651,
        "start_time": "2021-06-26T15:50:30.183Z"
      },
      {
        "duration": -708,
        "start_time": "2021-06-26T15:50:30.242Z"
      },
      {
        "duration": -712,
        "start_time": "2021-06-26T15:50:30.247Z"
      },
      {
        "duration": -716,
        "start_time": "2021-06-26T15:50:30.253Z"
      },
      {
        "duration": -720,
        "start_time": "2021-06-26T15:50:30.258Z"
      },
      {
        "duration": -785,
        "start_time": "2021-06-26T15:50:30.324Z"
      },
      {
        "duration": -1232,
        "start_time": "2021-06-26T15:50:30.773Z"
      },
      {
        "duration": -1369,
        "start_time": "2021-06-26T15:50:30.911Z"
      },
      {
        "duration": -1372,
        "start_time": "2021-06-26T15:50:30.915Z"
      },
      {
        "duration": -1376,
        "start_time": "2021-06-26T15:50:30.921Z"
      },
      {
        "duration": -1389,
        "start_time": "2021-06-26T15:50:30.935Z"
      },
      {
        "duration": -1394,
        "start_time": "2021-06-26T15:50:30.941Z"
      },
      {
        "duration": -1338,
        "start_time": "2021-06-26T15:50:30.946Z"
      },
      {
        "duration": -1342,
        "start_time": "2021-06-26T15:50:30.952Z"
      },
      {
        "duration": -1380,
        "start_time": "2021-06-26T15:50:30.991Z"
      },
      {
        "duration": -1385,
        "start_time": "2021-06-26T15:50:30.997Z"
      },
      {
        "duration": -1420,
        "start_time": "2021-06-26T15:50:31.034Z"
      },
      {
        "duration": -1433,
        "start_time": "2021-06-26T15:50:31.048Z"
      },
      {
        "duration": -1436,
        "start_time": "2021-06-26T15:50:31.053Z"
      },
      {
        "duration": -1442,
        "start_time": "2021-06-26T15:50:31.060Z"
      },
      {
        "duration": -1777,
        "start_time": "2021-06-26T15:50:31.397Z"
      },
      {
        "duration": -1820,
        "start_time": "2021-06-26T15:50:31.441Z"
      },
      {
        "duration": -1823,
        "start_time": "2021-06-26T15:50:31.446Z"
      },
      {
        "duration": -1827,
        "start_time": "2021-06-26T15:50:31.451Z"
      },
      {
        "duration": -1831,
        "start_time": "2021-06-26T15:50:31.456Z"
      },
      {
        "duration": -1889,
        "start_time": "2021-06-26T15:50:31.516Z"
      },
      {
        "duration": -1928,
        "start_time": "2021-06-26T15:50:31.556Z"
      },
      {
        "duration": -1931,
        "start_time": "2021-06-26T15:50:31.561Z"
      },
      {
        "duration": -2010,
        "start_time": "2021-06-26T15:50:31.641Z"
      },
      {
        "duration": -2013,
        "start_time": "2021-06-26T15:50:31.646Z"
      },
      {
        "duration": -2017,
        "start_time": "2021-06-26T15:50:31.651Z"
      },
      {
        "duration": -2029,
        "start_time": "2021-06-26T15:50:31.665Z"
      },
      {
        "duration": -2032,
        "start_time": "2021-06-26T15:50:31.669Z"
      },
      {
        "duration": -2036,
        "start_time": "2021-06-26T15:50:31.675Z"
      },
      {
        "duration": -2040,
        "start_time": "2021-06-26T15:50:31.680Z"
      },
      {
        "duration": -2043,
        "start_time": "2021-06-26T15:50:31.685Z"
      },
      {
        "duration": -2047,
        "start_time": "2021-06-26T15:50:31.690Z"
      },
      {
        "duration": -2051,
        "start_time": "2021-06-26T15:50:31.696Z"
      },
      {
        "duration": -2055,
        "start_time": "2021-06-26T15:50:31.701Z"
      },
      {
        "duration": -2058,
        "start_time": "2021-06-26T15:50:31.706Z"
      },
      {
        "duration": -2000,
        "start_time": "2021-06-26T15:50:31.711Z"
      },
      {
        "duration": -2003,
        "start_time": "2021-06-26T15:50:31.716Z"
      },
      {
        "duration": -2006,
        "start_time": "2021-06-26T15:50:31.721Z"
      },
      {
        "duration": -2010,
        "start_time": "2021-06-26T15:50:31.726Z"
      },
      {
        "duration": -2013,
        "start_time": "2021-06-26T15:50:31.731Z"
      },
      {
        "duration": -2016,
        "start_time": "2021-06-26T15:50:31.736Z"
      },
      {
        "duration": -2019,
        "start_time": "2021-06-26T15:50:31.741Z"
      },
      {
        "duration": -2022,
        "start_time": "2021-06-26T15:50:31.746Z"
      },
      {
        "duration": -2025,
        "start_time": "2021-06-26T15:50:31.751Z"
      },
      {
        "duration": -2028,
        "start_time": "2021-06-26T15:50:31.757Z"
      },
      {
        "duration": -2043,
        "start_time": "2021-06-26T15:50:31.774Z"
      },
      {
        "duration": -2046,
        "start_time": "2021-06-26T15:50:31.779Z"
      },
      {
        "duration": -2050,
        "start_time": "2021-06-26T15:50:31.785Z"
      },
      {
        "duration": -2054,
        "start_time": "2021-06-26T15:50:31.791Z"
      },
      {
        "duration": -2058,
        "start_time": "2021-06-26T15:50:31.797Z"
      },
      {
        "duration": -2063,
        "start_time": "2021-06-26T15:50:31.803Z"
      },
      {
        "duration": -2067,
        "start_time": "2021-06-26T15:50:31.808Z"
      },
      {
        "duration": -2071,
        "start_time": "2021-06-26T15:50:31.813Z"
      },
      {
        "duration": -2073,
        "start_time": "2021-06-26T15:50:31.817Z"
      },
      {
        "duration": 2395,
        "start_time": "2021-06-26T15:52:19.112Z"
      },
      {
        "duration": 78,
        "start_time": "2021-06-26T15:52:21.510Z"
      },
      {
        "duration": 58,
        "start_time": "2021-06-26T15:52:21.591Z"
      },
      {
        "duration": 522,
        "start_time": "2021-06-26T15:52:21.652Z"
      },
      {
        "duration": 246,
        "start_time": "2021-06-26T15:52:22.176Z"
      },
      {
        "duration": 3742,
        "start_time": "2021-06-26T15:52:22.424Z"
      },
      {
        "duration": 240,
        "start_time": "2021-06-26T15:52:26.169Z"
      },
      {
        "duration": 19,
        "start_time": "2021-06-26T15:52:26.412Z"
      },
      {
        "duration": 35,
        "start_time": "2021-06-26T15:52:26.435Z"
      },
      {
        "duration": 16,
        "start_time": "2021-06-26T15:52:26.474Z"
      },
      {
        "duration": 253,
        "start_time": "2021-06-26T15:52:26.493Z"
      },
      {
        "duration": 15,
        "start_time": "2021-06-26T15:52:26.749Z"
      },
      {
        "duration": 17,
        "start_time": "2021-06-26T15:52:26.766Z"
      },
      {
        "duration": 19,
        "start_time": "2021-06-26T15:52:26.786Z"
      },
      {
        "duration": 13,
        "start_time": "2021-06-26T15:52:26.808Z"
      },
      {
        "duration": 334,
        "start_time": "2021-06-26T15:52:26.824Z"
      },
      {
        "duration": 491,
        "start_time": "2021-06-26T15:52:27.160Z"
      },
      {
        "duration": 5,
        "start_time": "2021-06-26T15:52:27.709Z"
      },
      {
        "duration": 880,
        "start_time": "2021-06-26T15:52:27.716Z"
      },
      {
        "duration": 484,
        "start_time": "2021-06-26T15:52:28.598Z"
      },
      {
        "duration": 458,
        "start_time": "2021-06-26T15:52:29.085Z"
      },
      {
        "duration": 281,
        "start_time": "2021-06-26T15:52:29.545Z"
      },
      {
        "duration": 759,
        "start_time": "2021-06-26T15:52:29.828Z"
      },
      {
        "duration": 28,
        "start_time": "2021-06-26T15:52:30.589Z"
      },
      {
        "duration": 508,
        "start_time": "2021-06-26T15:52:30.619Z"
      },
      {
        "duration": -372,
        "start_time": "2021-06-26T15:52:31.506Z"
      },
      {
        "duration": -377,
        "start_time": "2021-06-26T15:52:31.513Z"
      },
      {
        "duration": -382,
        "start_time": "2021-06-26T15:52:31.519Z"
      },
      {
        "duration": -390,
        "start_time": "2021-06-26T15:52:31.528Z"
      },
      {
        "duration": -395,
        "start_time": "2021-06-26T15:52:31.534Z"
      },
      {
        "duration": -398,
        "start_time": "2021-06-26T15:52:31.539Z"
      },
      {
        "duration": -403,
        "start_time": "2021-06-26T15:52:31.545Z"
      },
      {
        "duration": -407,
        "start_time": "2021-06-26T15:52:31.551Z"
      },
      {
        "duration": -411,
        "start_time": "2021-06-26T15:52:31.556Z"
      },
      {
        "duration": -416,
        "start_time": "2021-06-26T15:52:31.562Z"
      },
      {
        "duration": -422,
        "start_time": "2021-06-26T15:52:31.569Z"
      },
      {
        "duration": -435,
        "start_time": "2021-06-26T15:52:31.583Z"
      },
      {
        "duration": -439,
        "start_time": "2021-06-26T15:52:31.589Z"
      },
      {
        "duration": -446,
        "start_time": "2021-06-26T15:52:31.597Z"
      },
      {
        "duration": -459,
        "start_time": "2021-06-26T15:52:31.611Z"
      },
      {
        "duration": -470,
        "start_time": "2021-06-26T15:52:31.623Z"
      },
      {
        "duration": -477,
        "start_time": "2021-06-26T15:52:31.631Z"
      },
      {
        "duration": -488,
        "start_time": "2021-06-26T15:52:31.643Z"
      },
      {
        "duration": -499,
        "start_time": "2021-06-26T15:52:31.656Z"
      },
      {
        "duration": -503,
        "start_time": "2021-06-26T15:52:31.661Z"
      },
      {
        "duration": -515,
        "start_time": "2021-06-26T15:52:31.674Z"
      },
      {
        "duration": -614,
        "start_time": "2021-06-26T15:52:31.774Z"
      },
      {
        "duration": -621,
        "start_time": "2021-06-26T15:52:31.782Z"
      },
      {
        "duration": -633,
        "start_time": "2021-06-26T15:52:31.795Z"
      },
      {
        "duration": -644,
        "start_time": "2021-06-26T15:52:31.808Z"
      },
      {
        "duration": -606,
        "start_time": "2021-06-26T15:52:31.815Z"
      },
      {
        "duration": -618,
        "start_time": "2021-06-26T15:52:31.828Z"
      },
      {
        "duration": -620,
        "start_time": "2021-06-26T15:52:31.832Z"
      },
      {
        "duration": -625,
        "start_time": "2021-06-26T15:52:31.838Z"
      },
      {
        "duration": -629,
        "start_time": "2021-06-26T15:52:31.843Z"
      },
      {
        "duration": -632,
        "start_time": "2021-06-26T15:52:31.848Z"
      },
      {
        "duration": -636,
        "start_time": "2021-06-26T15:52:31.853Z"
      },
      {
        "duration": -686,
        "start_time": "2021-06-26T15:52:31.904Z"
      },
      {
        "duration": -689,
        "start_time": "2021-06-26T15:52:31.908Z"
      },
      {
        "duration": -740,
        "start_time": "2021-06-26T15:52:31.961Z"
      },
      {
        "duration": -746,
        "start_time": "2021-06-26T15:52:31.968Z"
      },
      {
        "duration": -750,
        "start_time": "2021-06-26T15:52:31.973Z"
      },
      {
        "duration": -755,
        "start_time": "2021-06-26T15:52:31.980Z"
      },
      {
        "duration": -758,
        "start_time": "2021-06-26T15:52:31.984Z"
      },
      {
        "duration": -762,
        "start_time": "2021-06-26T15:52:31.989Z"
      },
      {
        "duration": -765,
        "start_time": "2021-06-26T15:52:31.994Z"
      },
      {
        "duration": -840,
        "start_time": "2021-06-26T15:52:32.070Z"
      },
      {
        "duration": -844,
        "start_time": "2021-06-26T15:52:32.075Z"
      },
      {
        "duration": -848,
        "start_time": "2021-06-26T15:52:32.080Z"
      },
      {
        "duration": -852,
        "start_time": "2021-06-26T15:52:32.085Z"
      },
      {
        "duration": -887,
        "start_time": "2021-06-26T15:52:32.122Z"
      },
      {
        "duration": -892,
        "start_time": "2021-06-26T15:52:32.128Z"
      },
      {
        "duration": -897,
        "start_time": "2021-06-26T15:52:32.134Z"
      },
      {
        "duration": -989,
        "start_time": "2021-06-26T15:52:32.228Z"
      },
      {
        "duration": -993,
        "start_time": "2021-06-26T15:52:32.233Z"
      },
      {
        "duration": -997,
        "start_time": "2021-06-26T15:52:32.238Z"
      },
      {
        "duration": -1494,
        "start_time": "2021-06-26T15:52:32.736Z"
      },
      {
        "duration": -1541,
        "start_time": "2021-06-26T15:52:32.785Z"
      },
      {
        "duration": -1573,
        "start_time": "2021-06-26T15:52:32.818Z"
      },
      {
        "duration": -1514,
        "start_time": "2021-06-26T15:52:32.823Z"
      },
      {
        "duration": -1522,
        "start_time": "2021-06-26T15:52:32.832Z"
      },
      {
        "duration": -1525,
        "start_time": "2021-06-26T15:52:32.837Z"
      },
      {
        "duration": -1529,
        "start_time": "2021-06-26T15:52:32.842Z"
      },
      {
        "duration": -1536,
        "start_time": "2021-06-26T15:52:32.850Z"
      },
      {
        "duration": -1540,
        "start_time": "2021-06-26T15:52:32.855Z"
      },
      {
        "duration": -1545,
        "start_time": "2021-06-26T15:52:32.862Z"
      },
      {
        "duration": -1549,
        "start_time": "2021-06-26T15:52:32.867Z"
      },
      {
        "duration": -1552,
        "start_time": "2021-06-26T15:52:32.871Z"
      },
      {
        "duration": -1558,
        "start_time": "2021-06-26T15:52:32.878Z"
      },
      {
        "duration": -1562,
        "start_time": "2021-06-26T15:52:32.883Z"
      },
      {
        "duration": -1565,
        "start_time": "2021-06-26T15:52:32.888Z"
      },
      {
        "duration": -1570,
        "start_time": "2021-06-26T15:52:32.894Z"
      },
      {
        "duration": -1574,
        "start_time": "2021-06-26T15:52:32.899Z"
      },
      {
        "duration": -1578,
        "start_time": "2021-06-26T15:52:32.904Z"
      },
      {
        "duration": -1581,
        "start_time": "2021-06-26T15:52:32.908Z"
      },
      {
        "duration": -1600,
        "start_time": "2021-06-26T15:52:32.929Z"
      },
      {
        "duration": -1604,
        "start_time": "2021-06-26T15:52:32.934Z"
      },
      {
        "duration": -1608,
        "start_time": "2021-06-26T15:52:32.939Z"
      },
      {
        "duration": -1614,
        "start_time": "2021-06-26T15:52:32.947Z"
      },
      {
        "duration": -1618,
        "start_time": "2021-06-26T15:52:32.952Z"
      },
      {
        "duration": -1622,
        "start_time": "2021-06-26T15:52:32.957Z"
      },
      {
        "duration": -1630,
        "start_time": "2021-06-26T15:52:32.966Z"
      },
      {
        "duration": -1633,
        "start_time": "2021-06-26T15:52:32.971Z"
      },
      {
        "duration": -1637,
        "start_time": "2021-06-26T15:52:32.976Z"
      },
      {
        "duration": -1643,
        "start_time": "2021-06-26T15:52:32.983Z"
      },
      {
        "duration": -1651,
        "start_time": "2021-06-26T15:52:32.992Z"
      },
      {
        "duration": 1072,
        "start_time": "2021-06-26T15:53:21.271Z"
      },
      {
        "duration": 63,
        "start_time": "2021-06-26T15:53:23.055Z"
      },
      {
        "duration": 14,
        "start_time": "2021-06-26T15:53:47.256Z"
      },
      {
        "duration": 61,
        "start_time": "2021-06-26T15:53:48.012Z"
      },
      {
        "duration": 56,
        "start_time": "2021-06-26T15:53:53.587Z"
      },
      {
        "duration": 2450,
        "start_time": "2021-06-26T15:54:01.299Z"
      },
      {
        "duration": 80,
        "start_time": "2021-06-26T15:54:03.752Z"
      },
      {
        "duration": 47,
        "start_time": "2021-06-26T15:54:03.834Z"
      },
      {
        "duration": 564,
        "start_time": "2021-06-26T15:54:03.884Z"
      },
      {
        "duration": 242,
        "start_time": "2021-06-26T15:54:04.451Z"
      },
      {
        "duration": 49,
        "start_time": "2021-06-26T15:54:04.696Z"
      },
      {
        "duration": 19,
        "start_time": "2021-06-26T15:54:04.748Z"
      },
      {
        "duration": 68,
        "start_time": "2021-06-26T15:54:04.770Z"
      },
      {
        "duration": 17,
        "start_time": "2021-06-26T15:54:04.845Z"
      },
      {
        "duration": 292,
        "start_time": "2021-06-26T15:54:04.866Z"
      },
      {
        "duration": 17,
        "start_time": "2021-06-26T15:54:05.161Z"
      },
      {
        "duration": 36,
        "start_time": "2021-06-26T15:54:05.181Z"
      },
      {
        "duration": 20,
        "start_time": "2021-06-26T15:54:05.220Z"
      },
      {
        "duration": 24,
        "start_time": "2021-06-26T15:54:05.243Z"
      },
      {
        "duration": 339,
        "start_time": "2021-06-26T15:54:05.269Z"
      },
      {
        "duration": 420,
        "start_time": "2021-06-26T15:54:05.611Z"
      },
      {
        "duration": 6,
        "start_time": "2021-06-26T15:54:06.033Z"
      },
      {
        "duration": 685,
        "start_time": "2021-06-26T15:54:06.041Z"
      },
      {
        "duration": 505,
        "start_time": "2021-06-26T15:54:06.729Z"
      },
      {
        "duration": 496,
        "start_time": "2021-06-26T15:54:07.237Z"
      },
      {
        "duration": 172,
        "start_time": "2021-06-26T15:54:07.736Z"
      },
      {
        "duration": 526,
        "start_time": "2021-06-26T15:54:07.910Z"
      },
      {
        "duration": 14,
        "start_time": "2021-06-26T15:54:08.439Z"
      },
      {
        "duration": 1133,
        "start_time": "2021-06-26T15:54:08.455Z"
      },
      {
        "duration": 19,
        "start_time": "2021-06-26T15:54:09.590Z"
      },
      {
        "duration": 18,
        "start_time": "2021-06-26T15:54:09.611Z"
      },
      {
        "duration": 708,
        "start_time": "2021-06-26T15:54:09.635Z"
      },
      {
        "duration": 276,
        "start_time": "2021-06-26T15:54:10.347Z"
      },
      {
        "duration": 33,
        "start_time": "2021-06-26T15:54:10.625Z"
      },
      {
        "duration": 254,
        "start_time": "2021-06-26T15:54:10.661Z"
      },
      {
        "duration": 1161,
        "start_time": "2021-06-26T15:54:10.918Z"
      },
      {
        "duration": 6,
        "start_time": "2021-06-26T15:54:12.081Z"
      },
      {
        "duration": 25,
        "start_time": "2021-06-26T15:54:12.089Z"
      },
      {
        "duration": 25,
        "start_time": "2021-06-26T15:54:12.117Z"
      },
      {
        "duration": 270,
        "start_time": "2021-06-26T15:54:12.145Z"
      },
      {
        "duration": 9,
        "start_time": "2021-06-26T15:54:12.418Z"
      },
      {
        "duration": 29,
        "start_time": "2021-06-26T15:54:12.429Z"
      },
      {
        "duration": 3017,
        "start_time": "2021-06-26T15:54:12.461Z"
      },
      {
        "duration": 31,
        "start_time": "2021-06-26T15:54:15.481Z"
      },
      {
        "duration": 1634,
        "start_time": "2021-06-26T15:54:15.516Z"
      },
      {
        "duration": 27,
        "start_time": "2021-06-26T15:54:17.154Z"
      },
      {
        "duration": 58,
        "start_time": "2021-06-26T15:54:17.185Z"
      },
      {
        "duration": 7,
        "start_time": "2021-06-26T15:54:17.246Z"
      },
      {
        "duration": 54,
        "start_time": "2021-06-26T15:54:17.256Z"
      },
      {
        "duration": 26,
        "start_time": "2021-06-26T15:54:17.313Z"
      },
      {
        "duration": 1171,
        "start_time": "2021-06-26T15:54:17.341Z"
      },
      {
        "duration": 5,
        "start_time": "2021-06-26T15:54:18.515Z"
      },
      {
        "duration": 9,
        "start_time": "2021-06-26T15:54:18.522Z"
      },
      {
        "duration": 681,
        "start_time": "2021-06-26T15:54:18.533Z"
      },
      {
        "duration": 25,
        "start_time": "2021-06-26T15:54:19.217Z"
      },
      {
        "duration": 64,
        "start_time": "2021-06-26T15:54:19.244Z"
      },
      {
        "duration": 5,
        "start_time": "2021-06-26T15:54:19.311Z"
      },
      {
        "duration": 34,
        "start_time": "2021-06-26T15:54:19.319Z"
      },
      {
        "duration": 18,
        "start_time": "2021-06-26T15:54:19.356Z"
      },
      {
        "duration": 1154,
        "start_time": "2021-06-26T15:54:19.376Z"
      },
      {
        "duration": 332,
        "start_time": "2021-06-26T15:54:20.533Z"
      },
      {
        "duration": 17,
        "start_time": "2021-06-26T15:54:20.867Z"
      },
      {
        "duration": 32,
        "start_time": "2021-06-26T15:54:20.886Z"
      },
      {
        "duration": 19,
        "start_time": "2021-06-26T15:54:20.921Z"
      },
      {
        "duration": 32,
        "start_time": "2021-06-26T15:54:20.942Z"
      },
      {
        "duration": 51,
        "start_time": "2021-06-26T15:54:20.977Z"
      },
      {
        "duration": 36,
        "start_time": "2021-06-26T15:54:21.031Z"
      },
      {
        "duration": 59,
        "start_time": "2021-06-26T15:54:21.070Z"
      },
      {
        "duration": 15,
        "start_time": "2021-06-26T15:54:21.133Z"
      },
      {
        "duration": 58,
        "start_time": "2021-06-26T15:54:21.152Z"
      },
      {
        "duration": 19,
        "start_time": "2021-06-26T15:54:21.213Z"
      },
      {
        "duration": 43,
        "start_time": "2021-06-26T15:54:21.234Z"
      },
      {
        "duration": 43,
        "start_time": "2021-06-26T15:54:21.280Z"
      },
      {
        "duration": 406,
        "start_time": "2021-06-26T15:54:21.325Z"
      },
      {
        "duration": 1204,
        "start_time": "2021-06-26T15:54:21.733Z"
      },
      {
        "duration": 162,
        "start_time": "2021-06-26T15:54:22.939Z"
      },
      {
        "duration": 20,
        "start_time": "2021-06-26T15:54:23.109Z"
      },
      {
        "duration": 1739,
        "start_time": "2021-06-26T15:54:23.133Z"
      },
      {
        "duration": 17,
        "start_time": "2021-06-26T15:54:24.875Z"
      },
      {
        "duration": 14,
        "start_time": "2021-06-26T15:54:24.909Z"
      },
      {
        "duration": 28,
        "start_time": "2021-06-26T15:54:24.925Z"
      },
      {
        "duration": 6,
        "start_time": "2021-06-26T15:54:24.955Z"
      },
      {
        "duration": 54,
        "start_time": "2021-06-26T15:54:24.963Z"
      },
      {
        "duration": 62,
        "start_time": "2021-06-26T15:54:25.019Z"
      },
      {
        "duration": 926,
        "start_time": "2021-06-26T15:54:25.083Z"
      },
      {
        "duration": 168,
        "start_time": "2021-06-26T15:54:26.018Z"
      },
      {
        "duration": 62,
        "start_time": "2021-06-26T15:54:26.189Z"
      },
      {
        "duration": 7,
        "start_time": "2021-06-26T15:54:26.254Z"
      },
      {
        "duration": 15,
        "start_time": "2021-06-26T15:54:26.263Z"
      },
      {
        "duration": 52,
        "start_time": "2021-06-26T15:54:26.280Z"
      },
      {
        "duration": 19,
        "start_time": "2021-06-26T15:54:26.335Z"
      },
      {
        "duration": 52,
        "start_time": "2021-06-26T15:54:26.357Z"
      },
      {
        "duration": 9,
        "start_time": "2021-06-26T15:54:26.411Z"
      },
      {
        "duration": 20,
        "start_time": "2021-06-26T15:54:26.422Z"
      },
      {
        "duration": 21,
        "start_time": "2021-06-26T15:54:26.444Z"
      },
      {
        "duration": 59,
        "start_time": "2021-06-26T15:54:26.467Z"
      },
      {
        "duration": 42,
        "start_time": "2021-06-26T15:54:26.528Z"
      },
      {
        "duration": 71,
        "start_time": "2021-06-26T15:54:26.573Z"
      },
      {
        "duration": 1340,
        "start_time": "2021-06-26T15:54:26.647Z"
      },
      {
        "duration": 1619,
        "start_time": "2021-06-26T15:54:27.990Z"
      },
      {
        "duration": 1697,
        "start_time": "2021-06-26T15:54:29.612Z"
      },
      {
        "duration": 1428,
        "start_time": "2021-06-26T15:54:31.311Z"
      },
      {
        "duration": 1323,
        "start_time": "2021-06-26T15:54:32.742Z"
      },
      {
        "duration": 1315,
        "start_time": "2021-06-26T15:54:34.067Z"
      },
      {
        "duration": 1307,
        "start_time": "2021-06-26T15:54:35.385Z"
      },
      {
        "duration": 732,
        "start_time": "2021-06-26T15:54:36.694Z"
      },
      {
        "duration": 1347,
        "start_time": "2021-06-26T15:54:37.430Z"
      },
      {
        "duration": 6,
        "start_time": "2021-06-26T15:54:38.780Z"
      },
      {
        "duration": 884,
        "start_time": "2021-06-26T15:54:38.789Z"
      },
      {
        "duration": 748,
        "start_time": "2021-06-26T15:54:39.676Z"
      },
      {
        "duration": 3256,
        "start_time": "2021-06-27T10:56:11.197Z"
      },
      {
        "duration": 60,
        "start_time": "2021-06-27T10:56:14.455Z"
      },
      {
        "duration": 113,
        "start_time": "2021-06-27T10:56:14.517Z"
      },
      {
        "duration": 1810,
        "start_time": "2021-06-27T10:56:14.632Z"
      },
      {
        "duration": 300,
        "start_time": "2021-06-27T10:56:16.444Z"
      },
      {
        "duration": 177,
        "start_time": "2021-06-27T10:56:16.745Z"
      },
      {
        "duration": 12,
        "start_time": "2021-06-27T10:56:16.923Z"
      },
      {
        "duration": 20,
        "start_time": "2021-06-27T10:56:16.937Z"
      },
      {
        "duration": 9,
        "start_time": "2021-06-27T10:56:16.959Z"
      },
      {
        "duration": 515,
        "start_time": "2021-06-27T10:56:16.970Z"
      },
      {
        "duration": 8,
        "start_time": "2021-06-27T10:56:17.487Z"
      },
      {
        "duration": 85,
        "start_time": "2021-06-27T10:56:17.497Z"
      },
      {
        "duration": 14,
        "start_time": "2021-06-27T10:56:17.584Z"
      },
      {
        "duration": 15,
        "start_time": "2021-06-27T10:56:17.600Z"
      },
      {
        "duration": 237,
        "start_time": "2021-06-27T10:56:17.616Z"
      },
      {
        "duration": 1843,
        "start_time": "2021-06-27T10:56:17.855Z"
      },
      {
        "duration": 4,
        "start_time": "2021-06-27T10:56:19.699Z"
      },
      {
        "duration": 468,
        "start_time": "2021-06-27T10:56:19.705Z"
      },
      {
        "duration": 303,
        "start_time": "2021-06-27T10:56:20.174Z"
      },
      {
        "duration": 296,
        "start_time": "2021-06-27T10:56:20.478Z"
      },
      {
        "duration": 121,
        "start_time": "2021-06-27T10:56:20.775Z"
      },
      {
        "duration": 303,
        "start_time": "2021-06-27T10:56:20.897Z"
      },
      {
        "duration": 9,
        "start_time": "2021-06-27T10:56:21.203Z"
      },
      {
        "duration": 729,
        "start_time": "2021-06-27T10:56:21.215Z"
      },
      {
        "duration": 6,
        "start_time": "2021-06-27T10:56:21.946Z"
      },
      {
        "duration": 10,
        "start_time": "2021-06-27T10:56:21.953Z"
      },
      {
        "duration": 1081,
        "start_time": "2021-06-27T10:56:21.965Z"
      },
      {
        "duration": 161,
        "start_time": "2021-06-27T10:56:23.048Z"
      },
      {
        "duration": 23,
        "start_time": "2021-06-27T10:56:23.211Z"
      },
      {
        "duration": 185,
        "start_time": "2021-06-27T10:56:23.236Z"
      },
      {
        "duration": 803,
        "start_time": "2021-06-27T10:56:23.422Z"
      },
      {
        "duration": 4,
        "start_time": "2021-06-27T10:56:24.227Z"
      },
      {
        "duration": 8,
        "start_time": "2021-06-27T10:56:24.233Z"
      },
      {
        "duration": 13,
        "start_time": "2021-06-27T10:56:24.242Z"
      },
      {
        "duration": 154,
        "start_time": "2021-06-27T10:56:24.257Z"
      },
      {
        "duration": 8,
        "start_time": "2021-06-27T10:56:24.413Z"
      },
      {
        "duration": 19,
        "start_time": "2021-06-27T10:56:24.422Z"
      },
      {
        "duration": 2271,
        "start_time": "2021-06-27T10:56:24.442Z"
      },
      {
        "duration": 8,
        "start_time": "2021-06-27T10:56:26.715Z"
      },
      {
        "duration": 1164,
        "start_time": "2021-06-27T10:56:26.725Z"
      },
      {
        "duration": 20,
        "start_time": "2021-06-27T10:56:27.891Z"
      },
      {
        "duration": 28,
        "start_time": "2021-06-27T10:56:27.913Z"
      },
      {
        "duration": 4,
        "start_time": "2021-06-27T10:56:27.943Z"
      },
      {
        "duration": 41,
        "start_time": "2021-06-27T10:56:27.948Z"
      },
      {
        "duration": 11,
        "start_time": "2021-06-27T10:56:27.991Z"
      },
      {
        "duration": 733,
        "start_time": "2021-06-27T10:56:28.004Z"
      },
      {
        "duration": 4,
        "start_time": "2021-06-27T10:56:28.739Z"
      },
      {
        "duration": 7,
        "start_time": "2021-06-27T10:56:28.745Z"
      },
      {
        "duration": 434,
        "start_time": "2021-06-27T10:56:28.753Z"
      },
      {
        "duration": 18,
        "start_time": "2021-06-27T10:56:29.189Z"
      },
      {
        "duration": 26,
        "start_time": "2021-06-27T10:56:29.209Z"
      },
      {
        "duration": 3,
        "start_time": "2021-06-27T10:56:29.237Z"
      },
      {
        "duration": 47,
        "start_time": "2021-06-27T10:56:29.241Z"
      },
      {
        "duration": 10,
        "start_time": "2021-06-27T10:56:29.290Z"
      },
      {
        "duration": 740,
        "start_time": "2021-06-27T10:56:29.302Z"
      },
      {
        "duration": 206,
        "start_time": "2021-06-27T10:56:30.043Z"
      },
      {
        "duration": 11,
        "start_time": "2021-06-27T10:56:30.251Z"
      },
      {
        "duration": 7,
        "start_time": "2021-06-27T10:56:30.263Z"
      },
      {
        "duration": 11,
        "start_time": "2021-06-27T10:56:30.285Z"
      },
      {
        "duration": 19,
        "start_time": "2021-06-27T10:56:30.298Z"
      },
      {
        "duration": 12,
        "start_time": "2021-06-27T10:56:30.319Z"
      },
      {
        "duration": 20,
        "start_time": "2021-06-27T10:56:30.332Z"
      },
      {
        "duration": 41,
        "start_time": "2021-06-27T10:56:30.353Z"
      },
      {
        "duration": 8,
        "start_time": "2021-06-27T10:56:30.395Z"
      },
      {
        "duration": 16,
        "start_time": "2021-06-27T10:56:30.405Z"
      },
      {
        "duration": 9,
        "start_time": "2021-06-27T10:56:30.422Z"
      },
      {
        "duration": 31,
        "start_time": "2021-06-27T10:56:30.433Z"
      },
      {
        "duration": 11,
        "start_time": "2021-06-27T10:56:30.490Z"
      },
      {
        "duration": 256,
        "start_time": "2021-06-27T10:56:30.504Z"
      },
      {
        "duration": 799,
        "start_time": "2021-06-27T10:56:30.762Z"
      },
      {
        "duration": 101,
        "start_time": "2021-06-27T10:56:31.563Z"
      },
      {
        "duration": 23,
        "start_time": "2021-06-27T10:56:31.665Z"
      },
      {
        "duration": 999,
        "start_time": "2021-06-27T10:56:31.690Z"
      },
      {
        "duration": 11,
        "start_time": "2021-06-27T10:56:32.690Z"
      },
      {
        "duration": 8,
        "start_time": "2021-06-27T10:56:32.703Z"
      },
      {
        "duration": 14,
        "start_time": "2021-06-27T10:56:32.713Z"
      },
      {
        "duration": 4,
        "start_time": "2021-06-27T10:56:32.729Z"
      },
      {
        "duration": 11,
        "start_time": "2021-06-27T10:56:32.735Z"
      },
      {
        "duration": 72,
        "start_time": "2021-06-27T10:56:32.748Z"
      },
      {
        "duration": 577,
        "start_time": "2021-06-27T10:56:32.822Z"
      },
      {
        "duration": 127,
        "start_time": "2021-06-27T10:56:33.401Z"
      },
      {
        "duration": 36,
        "start_time": "2021-06-27T10:56:33.529Z"
      },
      {
        "duration": 18,
        "start_time": "2021-06-27T10:56:33.567Z"
      },
      {
        "duration": 8,
        "start_time": "2021-06-27T10:56:33.586Z"
      },
      {
        "duration": 19,
        "start_time": "2021-06-27T10:56:33.596Z"
      },
      {
        "duration": 12,
        "start_time": "2021-06-27T10:56:33.616Z"
      },
      {
        "duration": 13,
        "start_time": "2021-06-27T10:56:33.629Z"
      },
      {
        "duration": 5,
        "start_time": "2021-06-27T10:56:33.643Z"
      },
      {
        "duration": 43,
        "start_time": "2021-06-27T10:56:33.650Z"
      },
      {
        "duration": 12,
        "start_time": "2021-06-27T10:56:33.695Z"
      },
      {
        "duration": 15,
        "start_time": "2021-06-27T10:56:33.708Z"
      },
      {
        "duration": 23,
        "start_time": "2021-06-27T10:56:33.725Z"
      },
      {
        "duration": 54,
        "start_time": "2021-06-27T10:56:33.750Z"
      },
      {
        "duration": 800,
        "start_time": "2021-06-27T10:56:33.805Z"
      },
      {
        "duration": 886,
        "start_time": "2021-06-27T10:56:34.607Z"
      },
      {
        "duration": 969,
        "start_time": "2021-06-27T10:56:35.495Z"
      },
      {
        "duration": 899,
        "start_time": "2021-06-27T10:56:36.466Z"
      },
      {
        "duration": 906,
        "start_time": "2021-06-27T10:56:37.367Z"
      },
      {
        "duration": 891,
        "start_time": "2021-06-27T10:56:38.275Z"
      },
      {
        "duration": 861,
        "start_time": "2021-06-27T10:56:39.167Z"
      },
      {
        "duration": 497,
        "start_time": "2021-06-27T10:56:40.029Z"
      },
      {
        "duration": 886,
        "start_time": "2021-06-27T10:56:40.528Z"
      },
      {
        "duration": 3,
        "start_time": "2021-06-27T10:56:41.416Z"
      },
      {
        "duration": 586,
        "start_time": "2021-06-27T10:56:41.421Z"
      },
      {
        "duration": 510,
        "start_time": "2021-06-27T10:56:42.008Z"
      },
      {
        "duration": 80,
        "start_time": "2021-07-05T14:37:05.276Z"
      },
      {
        "duration": 297,
        "start_time": "2021-07-05T14:40:49.215Z"
      },
      {
        "duration": 1920,
        "start_time": "2021-07-05T14:40:59.435Z"
      },
      {
        "duration": 82,
        "start_time": "2021-07-05T14:41:01.357Z"
      },
      {
        "duration": 33,
        "start_time": "2021-07-05T14:41:01.441Z"
      },
      {
        "duration": 462,
        "start_time": "2021-07-05T14:41:01.476Z"
      },
      {
        "duration": 209,
        "start_time": "2021-07-05T14:41:01.940Z"
      },
      {
        "duration": 38,
        "start_time": "2021-07-05T14:41:02.151Z"
      },
      {
        "duration": 25,
        "start_time": "2021-07-05T14:41:02.192Z"
      },
      {
        "duration": 33,
        "start_time": "2021-07-05T14:41:03.280Z"
      },
      {
        "duration": 11,
        "start_time": "2021-07-05T14:41:03.315Z"
      },
      {
        "duration": 179,
        "start_time": "2021-07-05T14:41:04.313Z"
      },
      {
        "duration": 23,
        "start_time": "2021-07-05T14:41:04.495Z"
      },
      {
        "duration": 9,
        "start_time": "2021-07-05T14:41:04.521Z"
      },
      {
        "duration": 11,
        "start_time": "2021-07-05T14:41:04.533Z"
      },
      {
        "duration": 7,
        "start_time": "2021-07-05T14:41:04.546Z"
      },
      {
        "duration": 18,
        "start_time": "2021-07-05T14:41:04.587Z"
      },
      {
        "duration": 285,
        "start_time": "2021-07-05T14:41:08.452Z"
      },
      {
        "duration": 405,
        "start_time": "2021-07-05T14:41:08.738Z"
      },
      {
        "duration": 4,
        "start_time": "2021-07-05T14:41:09.145Z"
      },
      {
        "duration": 529,
        "start_time": "2021-07-05T14:41:09.151Z"
      },
      {
        "duration": 371,
        "start_time": "2021-07-05T14:41:09.682Z"
      },
      {
        "duration": 371,
        "start_time": "2021-07-05T14:41:10.055Z"
      },
      {
        "duration": 135,
        "start_time": "2021-07-05T14:41:10.428Z"
      },
      {
        "duration": 374,
        "start_time": "2021-07-05T14:41:10.565Z"
      },
      {
        "duration": 11,
        "start_time": "2021-07-05T14:41:10.942Z"
      },
      {
        "duration": 880,
        "start_time": "2021-07-05T14:41:10.955Z"
      },
      {
        "duration": 8,
        "start_time": "2021-07-05T14:41:11.837Z"
      },
      {
        "duration": 10,
        "start_time": "2021-07-05T14:41:11.847Z"
      },
      {
        "duration": 629,
        "start_time": "2021-07-05T14:41:11.858Z"
      },
      {
        "duration": 210,
        "start_time": "2021-07-05T14:41:12.495Z"
      },
      {
        "duration": 24,
        "start_time": "2021-07-05T14:41:12.709Z"
      },
      {
        "duration": 230,
        "start_time": "2021-07-05T14:41:12.734Z"
      },
      {
        "duration": 902,
        "start_time": "2021-07-05T14:41:12.965Z"
      },
      {
        "duration": 3,
        "start_time": "2021-07-05T14:41:13.869Z"
      },
      {
        "duration": 26,
        "start_time": "2021-07-05T14:41:13.874Z"
      },
      {
        "duration": 18,
        "start_time": "2021-07-05T14:41:13.903Z"
      },
      {
        "duration": 159,
        "start_time": "2021-07-05T14:41:13.923Z"
      },
      {
        "duration": 12,
        "start_time": "2021-07-05T14:41:14.085Z"
      },
      {
        "duration": 28,
        "start_time": "2021-07-05T14:41:14.103Z"
      },
      {
        "duration": 2339,
        "start_time": "2021-07-05T14:41:14.133Z"
      },
      {
        "duration": 8,
        "start_time": "2021-07-05T14:41:16.474Z"
      },
      {
        "duration": 1284,
        "start_time": "2021-07-05T14:41:16.489Z"
      },
      {
        "duration": 34,
        "start_time": "2021-07-05T14:41:17.778Z"
      },
      {
        "duration": 26,
        "start_time": "2021-07-05T14:41:17.816Z"
      },
      {
        "duration": 3,
        "start_time": "2021-07-05T14:41:17.844Z"
      },
      {
        "duration": 15,
        "start_time": "2021-07-05T14:41:17.848Z"
      },
      {
        "duration": 42,
        "start_time": "2021-07-05T14:41:17.864Z"
      },
      {
        "duration": 857,
        "start_time": "2021-07-05T14:41:17.910Z"
      },
      {
        "duration": 5,
        "start_time": "2021-07-05T14:41:18.769Z"
      },
      {
        "duration": 13,
        "start_time": "2021-07-05T14:41:18.776Z"
      },
      {
        "duration": 533,
        "start_time": "2021-07-05T14:41:18.795Z"
      },
      {
        "duration": 18,
        "start_time": "2021-07-05T14:41:19.329Z"
      },
      {
        "duration": 27,
        "start_time": "2021-07-05T14:41:19.348Z"
      },
      {
        "duration": 13,
        "start_time": "2021-07-05T14:41:19.376Z"
      },
      {
        "duration": 23,
        "start_time": "2021-07-05T14:41:19.393Z"
      },
      {
        "duration": 11,
        "start_time": "2021-07-05T14:41:19.418Z"
      },
      {
        "duration": 917,
        "start_time": "2021-07-05T14:41:19.430Z"
      },
      {
        "duration": 262,
        "start_time": "2021-07-05T14:41:20.348Z"
      },
      {
        "duration": 12,
        "start_time": "2021-07-05T14:41:20.612Z"
      },
      {
        "duration": 8,
        "start_time": "2021-07-05T14:41:20.626Z"
      },
      {
        "duration": 8,
        "start_time": "2021-07-05T14:41:20.635Z"
      },
      {
        "duration": 50,
        "start_time": "2021-07-05T14:41:20.644Z"
      },
      {
        "duration": 20,
        "start_time": "2021-07-05T14:41:20.697Z"
      },
      {
        "duration": 20,
        "start_time": "2021-07-05T14:41:20.718Z"
      },
      {
        "duration": 17,
        "start_time": "2021-07-05T14:41:20.740Z"
      },
      {
        "duration": 37,
        "start_time": "2021-07-05T14:41:20.758Z"
      },
      {
        "duration": 22,
        "start_time": "2021-07-05T14:41:20.799Z"
      },
      {
        "duration": 9,
        "start_time": "2021-07-05T14:41:20.823Z"
      },
      {
        "duration": 59,
        "start_time": "2021-07-05T14:41:20.834Z"
      },
      {
        "duration": 20,
        "start_time": "2021-07-05T14:41:20.896Z"
      },
      {
        "duration": 309,
        "start_time": "2021-07-05T14:41:20.918Z"
      },
      {
        "duration": 964,
        "start_time": "2021-07-05T14:41:21.229Z"
      },
      {
        "duration": 135,
        "start_time": "2021-07-05T14:41:22.196Z"
      },
      {
        "duration": 13,
        "start_time": "2021-07-05T14:41:22.332Z"
      },
      {
        "duration": 1295,
        "start_time": "2021-07-05T14:41:22.346Z"
      },
      {
        "duration": 11,
        "start_time": "2021-07-05T14:41:23.643Z"
      },
      {
        "duration": 8,
        "start_time": "2021-07-05T14:41:23.656Z"
      },
      {
        "duration": 24,
        "start_time": "2021-07-05T14:41:23.687Z"
      },
      {
        "duration": 5,
        "start_time": "2021-07-05T14:41:23.713Z"
      },
      {
        "duration": 10,
        "start_time": "2021-07-05T14:41:23.720Z"
      },
      {
        "duration": 72,
        "start_time": "2021-07-05T14:41:23.732Z"
      },
      {
        "duration": 714,
        "start_time": "2021-07-05T14:41:23.807Z"
      },
      {
        "duration": 138,
        "start_time": "2021-07-05T14:41:24.523Z"
      },
      {
        "duration": 71,
        "start_time": "2021-07-05T14:41:24.663Z"
      },
      {
        "duration": 6,
        "start_time": "2021-07-05T14:41:24.735Z"
      },
      {
        "duration": 27,
        "start_time": "2021-07-05T14:41:24.742Z"
      },
      {
        "duration": 45,
        "start_time": "2021-07-05T14:41:24.771Z"
      },
      {
        "duration": 13,
        "start_time": "2021-07-05T14:41:24.818Z"
      },
      {
        "duration": 25,
        "start_time": "2021-07-05T14:41:24.832Z"
      },
      {
        "duration": 13,
        "start_time": "2021-07-05T14:41:24.859Z"
      },
      {
        "duration": 38,
        "start_time": "2021-07-05T14:41:24.873Z"
      },
      {
        "duration": 18,
        "start_time": "2021-07-05T14:41:24.913Z"
      },
      {
        "duration": 27,
        "start_time": "2021-07-05T14:41:24.933Z"
      },
      {
        "duration": 29,
        "start_time": "2021-07-05T14:41:24.962Z"
      },
      {
        "duration": 36,
        "start_time": "2021-07-05T14:41:24.996Z"
      },
      {
        "duration": 912,
        "start_time": "2021-07-05T14:41:25.034Z"
      },
      {
        "duration": 1075,
        "start_time": "2021-07-05T14:41:25.951Z"
      },
      {
        "duration": 1135,
        "start_time": "2021-07-05T14:41:27.028Z"
      },
      {
        "duration": 998,
        "start_time": "2021-07-05T14:41:28.164Z"
      },
      {
        "duration": 1039,
        "start_time": "2021-07-05T14:41:29.164Z"
      },
      {
        "duration": 973,
        "start_time": "2021-07-05T14:41:30.206Z"
      },
      {
        "duration": 1041,
        "start_time": "2021-07-05T14:41:31.185Z"
      },
      {
        "duration": 574,
        "start_time": "2021-07-05T14:41:32.228Z"
      },
      {
        "duration": 1086,
        "start_time": "2021-07-05T14:41:32.804Z"
      },
      {
        "duration": 4,
        "start_time": "2021-07-05T14:41:33.893Z"
      },
      {
        "duration": 697,
        "start_time": "2021-07-05T14:41:33.900Z"
      },
      {
        "duration": 610,
        "start_time": "2021-07-05T14:41:34.599Z"
      },
      {
        "duration": 6,
        "start_time": "2021-07-05T14:43:45.931Z"
      },
      {
        "duration": 12,
        "start_time": "2021-07-05T14:44:14.686Z"
      },
      {
        "duration": 109,
        "start_time": "2021-07-05T14:44:37.062Z"
      },
      {
        "duration": 72,
        "start_time": "2021-07-05T14:58:36.425Z"
      },
      {
        "duration": 1833,
        "start_time": "2021-07-05T15:03:15.238Z"
      },
      {
        "duration": 1890,
        "start_time": "2021-07-05T15:03:42.562Z"
      },
      {
        "duration": 1874,
        "start_time": "2021-07-05T15:04:13.490Z"
      },
      {
        "duration": 435,
        "start_time": "2021-07-05T15:07:28.212Z"
      },
      {
        "duration": 4,
        "start_time": "2021-07-05T15:08:26.969Z"
      },
      {
        "duration": 375,
        "start_time": "2021-07-05T15:11:17.021Z"
      },
      {
        "duration": 532,
        "start_time": "2021-07-05T15:12:02.526Z"
      },
      {
        "duration": 409,
        "start_time": "2021-07-05T15:12:44.257Z"
      },
      {
        "duration": 335,
        "start_time": "2021-07-05T15:13:09.220Z"
      },
      {
        "duration": 345,
        "start_time": "2021-07-05T15:13:16.223Z"
      },
      {
        "duration": 384,
        "start_time": "2021-07-05T15:14:26.472Z"
      },
      {
        "duration": 709,
        "start_time": "2021-07-05T15:16:42.600Z"
      },
      {
        "duration": 63,
        "start_time": "2021-07-05T15:17:37.043Z"
      },
      {
        "duration": 460,
        "start_time": "2021-07-05T15:17:51.470Z"
      },
      {
        "duration": 1803,
        "start_time": "2021-07-05T15:24:05.369Z"
      },
      {
        "duration": 907,
        "start_time": "2021-07-05T15:26:13.572Z"
      },
      {
        "duration": 779,
        "start_time": "2021-07-05T15:26:41.128Z"
      },
      {
        "duration": 476,
        "start_time": "2021-07-05T15:27:04.324Z"
      },
      {
        "duration": 465,
        "start_time": "2021-07-05T15:27:18.900Z"
      },
      {
        "duration": 647,
        "start_time": "2021-07-05T15:31:34.572Z"
      },
      {
        "duration": 247,
        "start_time": "2021-07-05T15:33:06.627Z"
      },
      {
        "duration": 231,
        "start_time": "2021-07-05T15:33:28.095Z"
      },
      {
        "duration": 503,
        "start_time": "2021-07-05T15:34:03.719Z"
      },
      {
        "duration": 332,
        "start_time": "2021-07-05T15:34:37.545Z"
      },
      {
        "duration": 271,
        "start_time": "2021-07-05T15:34:52.134Z"
      },
      {
        "duration": 1949,
        "start_time": "2021-07-05T15:36:41.663Z"
      },
      {
        "duration": 61,
        "start_time": "2021-07-05T15:36:43.614Z"
      },
      {
        "duration": 44,
        "start_time": "2021-07-05T15:36:43.677Z"
      },
      {
        "duration": 444,
        "start_time": "2021-07-05T15:36:43.723Z"
      },
      {
        "duration": 209,
        "start_time": "2021-07-05T15:36:44.169Z"
      },
      {
        "duration": 46,
        "start_time": "2021-07-05T15:36:44.387Z"
      },
      {
        "duration": 13,
        "start_time": "2021-07-05T15:36:44.435Z"
      },
      {
        "duration": 72,
        "start_time": "2021-07-05T15:36:44.451Z"
      },
      {
        "duration": 12,
        "start_time": "2021-07-05T15:36:44.525Z"
      },
      {
        "duration": 210,
        "start_time": "2021-07-05T15:36:44.539Z"
      },
      {
        "duration": 10,
        "start_time": "2021-07-05T15:36:44.751Z"
      },
      {
        "duration": 28,
        "start_time": "2021-07-05T15:36:44.764Z"
      },
      {
        "duration": 20,
        "start_time": "2021-07-05T15:36:44.794Z"
      },
      {
        "duration": 5,
        "start_time": "2021-07-05T15:36:44.816Z"
      },
      {
        "duration": 10,
        "start_time": "2021-07-05T15:36:44.823Z"
      },
      {
        "duration": 123,
        "start_time": "2021-07-05T15:36:44.835Z"
      },
      {
        "duration": 8,
        "start_time": "2021-07-05T15:36:44.959Z"
      },
      {
        "duration": 268,
        "start_time": "2021-07-05T15:36:44.968Z"
      },
      {
        "duration": 344,
        "start_time": "2021-07-05T15:36:45.238Z"
      },
      {
        "duration": 8,
        "start_time": "2021-07-05T15:36:45.587Z"
      },
      {
        "duration": 516,
        "start_time": "2021-07-05T15:36:45.597Z"
      },
      {
        "duration": 351,
        "start_time": "2021-07-05T15:36:46.115Z"
      },
      {
        "duration": 354,
        "start_time": "2021-07-05T15:36:46.471Z"
      },
      {
        "duration": 138,
        "start_time": "2021-07-05T15:36:46.829Z"
      },
      {
        "duration": 368,
        "start_time": "2021-07-05T15:36:46.969Z"
      },
      {
        "duration": 10,
        "start_time": "2021-07-05T15:36:47.339Z"
      },
      {
        "duration": 785,
        "start_time": "2021-07-05T15:36:47.350Z"
      },
      {
        "duration": 6,
        "start_time": "2021-07-05T15:36:48.137Z"
      },
      {
        "duration": 11,
        "start_time": "2021-07-05T15:36:48.145Z"
      },
      {
        "duration": 572,
        "start_time": "2021-07-05T15:36:48.158Z"
      },
      {
        "duration": 202,
        "start_time": "2021-07-05T15:36:48.731Z"
      },
      {
        "duration": 22,
        "start_time": "2021-07-05T15:36:48.935Z"
      },
      {
        "duration": 192,
        "start_time": "2021-07-05T15:36:48.959Z"
      },
      {
        "duration": 827,
        "start_time": "2021-07-05T15:36:49.153Z"
      },
      {
        "duration": 4,
        "start_time": "2021-07-05T15:36:49.982Z"
      },
      {
        "duration": 9,
        "start_time": "2021-07-05T15:36:49.990Z"
      },
      {
        "duration": 18,
        "start_time": "2021-07-05T15:36:50.002Z"
      },
      {
        "duration": 158,
        "start_time": "2021-07-05T15:36:50.022Z"
      },
      {
        "duration": 11,
        "start_time": "2021-07-05T15:36:50.182Z"
      },
      {
        "duration": 24,
        "start_time": "2021-07-05T15:36:50.195Z"
      },
      {
        "duration": 2137,
        "start_time": "2021-07-05T15:36:50.221Z"
      },
      {
        "duration": 8,
        "start_time": "2021-07-05T15:36:52.359Z"
      },
      {
        "duration": 1222,
        "start_time": "2021-07-05T15:36:52.369Z"
      },
      {
        "duration": 26,
        "start_time": "2021-07-05T15:36:53.594Z"
      },
      {
        "duration": 24,
        "start_time": "2021-07-05T15:36:53.622Z"
      },
      {
        "duration": 3,
        "start_time": "2021-07-05T15:36:53.648Z"
      },
      {
        "duration": 19,
        "start_time": "2021-07-05T15:36:53.652Z"
      },
      {
        "duration": 25,
        "start_time": "2021-07-05T15:36:53.687Z"
      },
      {
        "duration": 842,
        "start_time": "2021-07-05T15:36:53.714Z"
      },
      {
        "duration": 4,
        "start_time": "2021-07-05T15:36:54.557Z"
      },
      {
        "duration": 6,
        "start_time": "2021-07-05T15:36:54.563Z"
      },
      {
        "duration": 547,
        "start_time": "2021-07-05T15:36:54.571Z"
      },
      {
        "duration": 17,
        "start_time": "2021-07-05T15:36:55.119Z"
      },
      {
        "duration": 25,
        "start_time": "2021-07-05T15:36:55.138Z"
      },
      {
        "duration": 3,
        "start_time": "2021-07-05T15:36:55.165Z"
      },
      {
        "duration": 36,
        "start_time": "2021-07-05T15:36:55.170Z"
      },
      {
        "duration": 13,
        "start_time": "2021-07-05T15:36:55.208Z"
      },
      {
        "duration": 830,
        "start_time": "2021-07-05T15:36:55.222Z"
      },
      {
        "duration": 391,
        "start_time": "2021-07-05T15:36:56.055Z"
      },
      {
        "duration": 10,
        "start_time": "2021-07-05T15:36:56.448Z"
      },
      {
        "duration": 7,
        "start_time": "2021-07-05T15:36:56.459Z"
      },
      {
        "duration": 26,
        "start_time": "2021-07-05T15:36:56.468Z"
      },
      {
        "duration": 22,
        "start_time": "2021-07-05T15:36:56.496Z"
      },
      {
        "duration": 12,
        "start_time": "2021-07-05T15:36:56.520Z"
      },
      {
        "duration": 19,
        "start_time": "2021-07-05T15:36:56.533Z"
      },
      {
        "duration": 59,
        "start_time": "2021-07-05T15:36:56.553Z"
      },
      {
        "duration": 10,
        "start_time": "2021-07-05T15:36:56.614Z"
      },
      {
        "duration": 14,
        "start_time": "2021-07-05T15:36:56.628Z"
      },
      {
        "duration": 9,
        "start_time": "2021-07-05T15:36:56.644Z"
      },
      {
        "duration": 55,
        "start_time": "2021-07-05T15:36:56.654Z"
      },
      {
        "duration": 10,
        "start_time": "2021-07-05T15:36:56.711Z"
      },
      {
        "duration": 808,
        "start_time": "2021-07-05T15:36:56.722Z"
      },
      {
        "duration": 277,
        "start_time": "2021-07-05T15:36:57.532Z"
      },
      {
        "duration": 861,
        "start_time": "2021-07-05T15:36:57.811Z"
      },
      {
        "duration": 141,
        "start_time": "2021-07-05T15:36:58.674Z"
      },
      {
        "duration": 12,
        "start_time": "2021-07-05T15:36:58.818Z"
      },
      {
        "duration": 1015,
        "start_time": "2021-07-05T15:36:58.832Z"
      },
      {
        "duration": 286,
        "start_time": "2021-07-05T15:36:59.849Z"
      },
      {
        "duration": 10,
        "start_time": "2021-07-05T15:37:00.137Z"
      },
      {
        "duration": 15,
        "start_time": "2021-07-05T15:37:00.149Z"
      },
      {
        "duration": 47,
        "start_time": "2021-07-05T15:37:00.166Z"
      },
      {
        "duration": 6,
        "start_time": "2021-07-05T15:37:00.215Z"
      },
      {
        "duration": 21,
        "start_time": "2021-07-05T15:37:00.223Z"
      },
      {
        "duration": 78,
        "start_time": "2021-07-05T15:37:00.245Z"
      },
      {
        "duration": 650,
        "start_time": "2021-07-05T15:37:00.325Z"
      },
      {
        "duration": 147,
        "start_time": "2021-07-05T15:37:00.977Z"
      },
      {
        "duration": 38,
        "start_time": "2021-07-05T15:37:01.125Z"
      },
      {
        "duration": 6,
        "start_time": "2021-07-05T15:37:01.165Z"
      },
      {
        "duration": 16,
        "start_time": "2021-07-05T15:37:01.188Z"
      },
      {
        "duration": 29,
        "start_time": "2021-07-05T15:37:01.206Z"
      },
      {
        "duration": 13,
        "start_time": "2021-07-05T15:37:01.237Z"
      },
      {
        "duration": 37,
        "start_time": "2021-07-05T15:37:01.252Z"
      },
      {
        "duration": 8,
        "start_time": "2021-07-05T15:37:01.291Z"
      },
      {
        "duration": 23,
        "start_time": "2021-07-05T15:37:01.306Z"
      },
      {
        "duration": 28,
        "start_time": "2021-07-05T15:37:01.330Z"
      },
      {
        "duration": 24,
        "start_time": "2021-07-05T15:37:01.360Z"
      },
      {
        "duration": 65,
        "start_time": "2021-07-05T15:37:01.386Z"
      },
      {
        "duration": 29,
        "start_time": "2021-07-05T15:37:01.453Z"
      },
      {
        "duration": 940,
        "start_time": "2021-07-05T15:37:01.488Z"
      },
      {
        "duration": 1149,
        "start_time": "2021-07-05T15:37:02.430Z"
      },
      {
        "duration": 1054,
        "start_time": "2021-07-05T15:37:03.581Z"
      },
      {
        "duration": 1037,
        "start_time": "2021-07-05T15:37:04.637Z"
      },
      {
        "duration": 1032,
        "start_time": "2021-07-05T15:37:05.676Z"
      },
      {
        "duration": 1044,
        "start_time": "2021-07-05T15:37:06.710Z"
      },
      {
        "duration": 1080,
        "start_time": "2021-07-05T15:37:07.755Z"
      },
      {
        "duration": 632,
        "start_time": "2021-07-05T15:37:08.837Z"
      },
      {
        "duration": 644,
        "start_time": "2021-07-05T15:37:09.471Z"
      },
      {
        "duration": -727,
        "start_time": "2021-07-05T15:37:10.845Z"
      },
      {
        "duration": -736,
        "start_time": "2021-07-05T15:37:10.855Z"
      },
      {
        "duration": -742,
        "start_time": "2021-07-05T15:37:10.862Z"
      },
      {
        "duration": 217,
        "start_time": "2021-07-05T15:41:08.761Z"
      },
      {
        "duration": 184,
        "start_time": "2021-07-05T15:41:16.363Z"
      },
      {
        "duration": 4,
        "start_time": "2021-07-05T15:41:24.206Z"
      },
      {
        "duration": 475,
        "start_time": "2021-07-05T15:42:45.165Z"
      },
      {
        "duration": 911,
        "start_time": "2021-07-05T15:42:46.040Z"
      },
      {
        "duration": 197,
        "start_time": "2021-07-05T15:43:10.304Z"
      },
      {
        "duration": 14,
        "start_time": "2021-07-05T15:43:15.797Z"
      },
      {
        "duration": 6,
        "start_time": "2021-07-05T15:43:27.767Z"
      },
      {
        "duration": 25,
        "start_time": "2021-07-05T15:43:37.581Z"
      },
      {
        "duration": 926,
        "start_time": "2021-07-05T15:43:38.295Z"
      },
      {
        "duration": 903,
        "start_time": "2021-07-05T15:43:48.669Z"
      },
      {
        "duration": 678,
        "start_time": "2021-07-05T15:44:00.280Z"
      },
      {
        "duration": 72,
        "start_time": "2021-07-05T15:44:00.960Z"
      },
      {
        "duration": 24,
        "start_time": "2021-07-05T15:44:01.035Z"
      },
      {
        "duration": 459,
        "start_time": "2021-07-05T15:44:01.062Z"
      },
      {
        "duration": 170,
        "start_time": "2021-07-05T15:44:01.523Z"
      },
      {
        "duration": 34,
        "start_time": "2021-07-05T15:44:01.696Z"
      },
      {
        "duration": 12,
        "start_time": "2021-07-05T15:44:01.732Z"
      },
      {
        "duration": 58,
        "start_time": "2021-07-05T15:44:01.747Z"
      },
      {
        "duration": 11,
        "start_time": "2021-07-05T15:44:01.807Z"
      },
      {
        "duration": 310,
        "start_time": "2021-07-05T15:44:01.820Z"
      },
      {
        "duration": 12,
        "start_time": "2021-07-05T15:44:02.132Z"
      },
      {
        "duration": 19,
        "start_time": "2021-07-05T15:44:02.146Z"
      },
      {
        "duration": 30,
        "start_time": "2021-07-05T15:44:02.167Z"
      },
      {
        "duration": 15,
        "start_time": "2021-07-05T15:44:02.199Z"
      },
      {
        "duration": 17,
        "start_time": "2021-07-05T15:44:02.216Z"
      },
      {
        "duration": 93,
        "start_time": "2021-07-05T15:44:02.234Z"
      },
      {
        "duration": 8,
        "start_time": "2021-07-05T15:44:02.329Z"
      },
      {
        "duration": 246,
        "start_time": "2021-07-05T15:44:02.339Z"
      },
      {
        "duration": 341,
        "start_time": "2021-07-05T15:44:02.588Z"
      },
      {
        "duration": 3,
        "start_time": "2021-07-05T15:44:02.931Z"
      },
      {
        "duration": 481,
        "start_time": "2021-07-05T15:44:02.936Z"
      },
      {
        "duration": 359,
        "start_time": "2021-07-05T15:44:03.420Z"
      },
      {
        "duration": 342,
        "start_time": "2021-07-05T15:44:03.782Z"
      },
      {
        "duration": 127,
        "start_time": "2021-07-05T15:44:04.126Z"
      },
      {
        "duration": 365,
        "start_time": "2021-07-05T15:44:04.255Z"
      },
      {
        "duration": 10,
        "start_time": "2021-07-05T15:44:04.621Z"
      },
      {
        "duration": 831,
        "start_time": "2021-07-05T15:44:04.633Z"
      },
      {
        "duration": 6,
        "start_time": "2021-07-05T15:44:05.466Z"
      },
      {
        "duration": 27,
        "start_time": "2021-07-05T15:44:05.473Z"
      },
      {
        "duration": 504,
        "start_time": "2021-07-05T15:44:05.502Z"
      },
      {
        "duration": 201,
        "start_time": "2021-07-05T15:44:06.008Z"
      },
      {
        "duration": 23,
        "start_time": "2021-07-05T15:44:06.211Z"
      },
      {
        "duration": 189,
        "start_time": "2021-07-05T15:44:06.236Z"
      },
      {
        "duration": 791,
        "start_time": "2021-07-05T15:44:06.426Z"
      },
      {
        "duration": 4,
        "start_time": "2021-07-05T15:44:07.219Z"
      },
      {
        "duration": 17,
        "start_time": "2021-07-05T15:44:07.225Z"
      },
      {
        "duration": 30,
        "start_time": "2021-07-05T15:44:07.244Z"
      },
      {
        "duration": 154,
        "start_time": "2021-07-05T15:44:07.275Z"
      },
      {
        "duration": 7,
        "start_time": "2021-07-05T15:44:07.431Z"
      },
      {
        "duration": 17,
        "start_time": "2021-07-05T15:44:07.440Z"
      },
      {
        "duration": 2091,
        "start_time": "2021-07-05T15:44:07.459Z"
      },
      {
        "duration": 8,
        "start_time": "2021-07-05T15:44:09.552Z"
      },
      {
        "duration": 1054,
        "start_time": "2021-07-05T15:44:09.561Z"
      },
      {
        "duration": 18,
        "start_time": "2021-07-05T15:44:10.616Z"
      },
      {
        "duration": 23,
        "start_time": "2021-07-05T15:44:10.636Z"
      },
      {
        "duration": 3,
        "start_time": "2021-07-05T15:44:10.661Z"
      },
      {
        "duration": 19,
        "start_time": "2021-07-05T15:44:10.685Z"
      },
      {
        "duration": 11,
        "start_time": "2021-07-05T15:44:10.706Z"
      },
      {
        "duration": 790,
        "start_time": "2021-07-05T15:44:10.719Z"
      },
      {
        "duration": 4,
        "start_time": "2021-07-05T15:44:11.512Z"
      },
      {
        "duration": 12,
        "start_time": "2021-07-05T15:44:11.518Z"
      },
      {
        "duration": 494,
        "start_time": "2021-07-05T15:44:11.532Z"
      },
      {
        "duration": 18,
        "start_time": "2021-07-05T15:44:12.028Z"
      },
      {
        "duration": 50,
        "start_time": "2021-07-05T15:44:12.048Z"
      },
      {
        "duration": 135,
        "start_time": "2021-07-05T15:44:12.101Z"
      },
      {
        "duration": 31,
        "start_time": "2021-07-05T15:44:12.238Z"
      },
      {
        "duration": 31,
        "start_time": "2021-07-05T15:44:12.271Z"
      },
      {
        "duration": 813,
        "start_time": "2021-07-05T15:44:12.304Z"
      },
      {
        "duration": 360,
        "start_time": "2021-07-05T15:44:13.118Z"
      },
      {
        "duration": 21,
        "start_time": "2021-07-05T15:44:13.480Z"
      },
      {
        "duration": 15,
        "start_time": "2021-07-05T15:44:13.503Z"
      },
      {
        "duration": 28,
        "start_time": "2021-07-05T15:44:13.520Z"
      },
      {
        "duration": 33,
        "start_time": "2021-07-05T15:44:13.549Z"
      },
      {
        "duration": 20,
        "start_time": "2021-07-05T15:44:13.587Z"
      },
      {
        "duration": 25,
        "start_time": "2021-07-05T15:44:13.609Z"
      },
      {
        "duration": 19,
        "start_time": "2021-07-05T15:44:13.636Z"
      },
      {
        "duration": 39,
        "start_time": "2021-07-05T15:44:13.656Z"
      },
      {
        "duration": 16,
        "start_time": "2021-07-05T15:44:13.703Z"
      },
      {
        "duration": 35,
        "start_time": "2021-07-05T15:44:13.721Z"
      },
      {
        "duration": 61,
        "start_time": "2021-07-05T15:44:13.758Z"
      },
      {
        "duration": 10,
        "start_time": "2021-07-05T15:44:13.820Z"
      },
      {
        "duration": 702,
        "start_time": "2021-07-05T15:44:13.832Z"
      },
      {
        "duration": 287,
        "start_time": "2021-07-05T15:44:14.535Z"
      },
      {
        "duration": 807,
        "start_time": "2021-07-05T15:44:14.824Z"
      },
      {
        "duration": 106,
        "start_time": "2021-07-05T15:44:15.633Z"
      },
      {
        "duration": 17,
        "start_time": "2021-07-05T15:44:15.741Z"
      },
      {
        "duration": 913,
        "start_time": "2021-07-05T15:44:15.759Z"
      },
      {
        "duration": 19,
        "start_time": "2021-07-05T15:44:27.128Z"
      },
      {
        "duration": 978,
        "start_time": "2021-07-05T15:44:27.636Z"
      },
      {
        "duration": 24,
        "start_time": "2021-07-05T15:51:08.994Z"
      },
      {
        "duration": 903,
        "start_time": "2021-07-05T15:51:09.868Z"
      },
      {
        "duration": 27,
        "start_time": "2021-07-05T15:51:22.774Z"
      },
      {
        "duration": 928,
        "start_time": "2021-07-05T15:51:23.393Z"
      },
      {
        "duration": 246,
        "start_time": "2021-07-05T15:51:39.578Z"
      },
      {
        "duration": 17,
        "start_time": "2021-07-05T15:52:05.163Z"
      },
      {
        "duration": 826,
        "start_time": "2021-07-05T15:52:06.831Z"
      },
      {
        "duration": 8,
        "start_time": "2021-07-05T15:57:57.814Z"
      },
      {
        "duration": 13,
        "start_time": "2021-07-05T15:57:59.901Z"
      },
      {
        "duration": 348,
        "start_time": "2021-07-05T15:58:03.406Z"
      },
      {
        "duration": 171,
        "start_time": "2021-07-05T15:58:47.909Z"
      },
      {
        "duration": 185,
        "start_time": "2021-07-05T15:58:56.078Z"
      },
      {
        "duration": 7,
        "start_time": "2021-07-05T15:59:02.222Z"
      },
      {
        "duration": 21,
        "start_time": "2021-07-05T16:00:36.291Z"
      },
      {
        "duration": 17,
        "start_time": "2021-07-05T16:00:46.570Z"
      },
      {
        "duration": 10,
        "start_time": "2021-07-05T16:00:46.959Z"
      },
      {
        "duration": 193,
        "start_time": "2021-07-05T16:00:48.829Z"
      },
      {
        "duration": 4359,
        "start_time": "2021-07-05T16:02:00.790Z"
      },
      {
        "duration": 4625,
        "start_time": "2021-07-05T16:02:24.132Z"
      },
      {
        "duration": 13,
        "start_time": "2021-07-05T16:02:33.725Z"
      },
      {
        "duration": 12,
        "start_time": "2021-07-05T16:02:50.147Z"
      },
      {
        "duration": 11,
        "start_time": "2021-07-05T16:03:25.128Z"
      },
      {
        "duration": 16,
        "start_time": "2021-07-05T16:03:31.815Z"
      },
      {
        "duration": 28,
        "start_time": "2021-07-05T16:03:38.238Z"
      },
      {
        "duration": 9,
        "start_time": "2021-07-05T16:03:38.932Z"
      },
      {
        "duration": 186,
        "start_time": "2021-07-05T16:03:40.915Z"
      },
      {
        "duration": 12,
        "start_time": "2021-07-05T16:04:35.260Z"
      },
      {
        "duration": 10,
        "start_time": "2021-07-05T16:04:38.513Z"
      },
      {
        "duration": 17,
        "start_time": "2021-07-05T16:04:39.408Z"
      },
      {
        "duration": 5,
        "start_time": "2021-07-05T16:04:44.064Z"
      },
      {
        "duration": 63,
        "start_time": "2021-07-05T16:05:54.887Z"
      },
      {
        "duration": 720,
        "start_time": "2021-07-05T16:07:29.255Z"
      },
      {
        "duration": 181,
        "start_time": "2021-07-05T16:10:40.934Z"
      },
      {
        "duration": 180,
        "start_time": "2021-07-05T16:11:01.272Z"
      },
      {
        "duration": 1700,
        "start_time": "2021-07-06T11:59:50.549Z"
      },
      {
        "duration": 55,
        "start_time": "2021-07-06T11:59:52.250Z"
      },
      {
        "duration": 39,
        "start_time": "2021-07-06T11:59:52.308Z"
      },
      {
        "duration": 335,
        "start_time": "2021-07-06T11:59:52.348Z"
      },
      {
        "duration": 155,
        "start_time": "2021-07-06T11:59:52.685Z"
      },
      {
        "duration": 29,
        "start_time": "2021-07-06T11:59:52.842Z"
      },
      {
        "duration": 16,
        "start_time": "2021-07-06T11:59:52.875Z"
      },
      {
        "duration": 24,
        "start_time": "2021-07-06T11:59:52.893Z"
      },
      {
        "duration": 10,
        "start_time": "2021-07-06T11:59:52.941Z"
      },
      {
        "duration": 184,
        "start_time": "2021-07-06T11:59:52.953Z"
      },
      {
        "duration": 11,
        "start_time": "2021-07-06T11:59:53.141Z"
      },
      {
        "duration": 12,
        "start_time": "2021-07-06T11:59:53.153Z"
      },
      {
        "duration": 13,
        "start_time": "2021-07-06T11:59:53.167Z"
      },
      {
        "duration": 8,
        "start_time": "2021-07-06T11:59:53.182Z"
      },
      {
        "duration": 15,
        "start_time": "2021-07-06T11:59:53.192Z"
      },
      {
        "duration": 91,
        "start_time": "2021-07-06T11:59:53.209Z"
      },
      {
        "duration": 8,
        "start_time": "2021-07-06T11:59:53.301Z"
      },
      {
        "duration": 233,
        "start_time": "2021-07-06T11:59:53.311Z"
      },
      {
        "duration": 283,
        "start_time": "2021-07-06T11:59:53.546Z"
      },
      {
        "duration": 4,
        "start_time": "2021-07-06T11:59:53.831Z"
      },
      {
        "duration": 433,
        "start_time": "2021-07-06T11:59:53.841Z"
      },
      {
        "duration": 299,
        "start_time": "2021-07-06T11:59:54.278Z"
      },
      {
        "duration": 279,
        "start_time": "2021-07-06T11:59:54.580Z"
      },
      {
        "duration": 116,
        "start_time": "2021-07-06T11:59:54.861Z"
      },
      {
        "duration": 276,
        "start_time": "2021-07-06T11:59:54.979Z"
      },
      {
        "duration": 9,
        "start_time": "2021-07-06T11:59:55.257Z"
      },
      {
        "duration": 641,
        "start_time": "2021-07-06T11:59:55.268Z"
      },
      {
        "duration": 6,
        "start_time": "2021-07-06T11:59:55.910Z"
      },
      {
        "duration": 24,
        "start_time": "2021-07-06T11:59:55.917Z"
      },
      {
        "duration": 442,
        "start_time": "2021-07-06T11:59:55.943Z"
      },
      {
        "duration": 140,
        "start_time": "2021-07-06T11:59:56.387Z"
      },
      {
        "duration": 28,
        "start_time": "2021-07-06T11:59:56.529Z"
      },
      {
        "duration": 157,
        "start_time": "2021-07-06T11:59:56.558Z"
      },
      {
        "duration": 705,
        "start_time": "2021-07-06T11:59:56.716Z"
      },
      {
        "duration": 5,
        "start_time": "2021-07-06T11:59:57.423Z"
      },
      {
        "duration": 16,
        "start_time": "2021-07-06T11:59:57.430Z"
      },
      {
        "duration": 21,
        "start_time": "2021-07-06T11:59:57.447Z"
      },
      {
        "duration": 122,
        "start_time": "2021-07-06T11:59:57.470Z"
      },
      {
        "duration": 6,
        "start_time": "2021-07-06T11:59:57.593Z"
      },
      {
        "duration": 21,
        "start_time": "2021-07-06T11:59:57.601Z"
      },
      {
        "duration": 1619,
        "start_time": "2021-07-06T11:59:57.624Z"
      },
      {
        "duration": 7,
        "start_time": "2021-07-06T11:59:59.245Z"
      },
      {
        "duration": 998,
        "start_time": "2021-07-06T11:59:59.254Z"
      },
      {
        "duration": 15,
        "start_time": "2021-07-06T12:00:00.254Z"
      },
      {
        "duration": 23,
        "start_time": "2021-07-06T12:00:00.271Z"
      },
      {
        "duration": 4,
        "start_time": "2021-07-06T12:00:00.296Z"
      },
      {
        "duration": 17,
        "start_time": "2021-07-06T12:00:00.301Z"
      },
      {
        "duration": 29,
        "start_time": "2021-07-06T12:00:00.319Z"
      },
      {
        "duration": 662,
        "start_time": "2021-07-06T12:00:00.350Z"
      },
      {
        "duration": 3,
        "start_time": "2021-07-06T12:00:01.014Z"
      },
      {
        "duration": 29,
        "start_time": "2021-07-06T12:00:01.019Z"
      },
      {
        "duration": 419,
        "start_time": "2021-07-06T12:00:01.050Z"
      },
      {
        "duration": 17,
        "start_time": "2021-07-06T12:00:01.471Z"
      },
      {
        "duration": 24,
        "start_time": "2021-07-06T12:00:01.489Z"
      },
      {
        "duration": 3,
        "start_time": "2021-07-06T12:00:01.515Z"
      },
      {
        "duration": 35,
        "start_time": "2021-07-06T12:00:01.520Z"
      },
      {
        "duration": 38,
        "start_time": "2021-07-06T12:00:01.556Z"
      },
      {
        "duration": 706,
        "start_time": "2021-07-06T12:00:01.596Z"
      },
      {
        "duration": 362,
        "start_time": "2021-07-06T12:00:02.304Z"
      },
      {
        "duration": 11,
        "start_time": "2021-07-06T12:00:02.668Z"
      },
      {
        "duration": 15,
        "start_time": "2021-07-06T12:00:02.681Z"
      },
      {
        "duration": 17,
        "start_time": "2021-07-06T12:00:02.697Z"
      },
      {
        "duration": 22,
        "start_time": "2021-07-06T12:00:02.716Z"
      },
      {
        "duration": 12,
        "start_time": "2021-07-06T12:00:02.739Z"
      },
      {
        "duration": 23,
        "start_time": "2021-07-06T12:00:02.752Z"
      },
      {
        "duration": 16,
        "start_time": "2021-07-06T12:00:02.776Z"
      },
      {
        "duration": 9,
        "start_time": "2021-07-06T12:00:02.797Z"
      },
      {
        "duration": 33,
        "start_time": "2021-07-06T12:00:02.808Z"
      },
      {
        "duration": 22,
        "start_time": "2021-07-06T12:00:02.843Z"
      },
      {
        "duration": 39,
        "start_time": "2021-07-06T12:00:02.866Z"
      },
      {
        "duration": 19,
        "start_time": "2021-07-06T12:00:02.906Z"
      },
      {
        "duration": 668,
        "start_time": "2021-07-06T12:00:02.926Z"
      },
      {
        "duration": 214,
        "start_time": "2021-07-06T12:00:03.596Z"
      },
      {
        "duration": 702,
        "start_time": "2021-07-06T12:00:03.811Z"
      },
      {
        "duration": 92,
        "start_time": "2021-07-06T12:00:04.515Z"
      },
      {
        "duration": 14,
        "start_time": "2021-07-06T12:00:04.609Z"
      },
      {
        "duration": 679,
        "start_time": "2021-07-06T12:00:04.624Z"
      },
      {
        "duration": 198,
        "start_time": "2021-07-06T12:00:05.304Z"
      },
      {
        "duration": 10,
        "start_time": "2021-07-06T12:00:05.503Z"
      },
      {
        "duration": 21,
        "start_time": "2021-07-06T12:00:05.515Z"
      },
      {
        "duration": 24,
        "start_time": "2021-07-06T12:00:05.537Z"
      },
      {
        "duration": 6,
        "start_time": "2021-07-06T12:00:05.563Z"
      },
      {
        "duration": 29,
        "start_time": "2021-07-06T12:00:05.571Z"
      },
      {
        "duration": 337,
        "start_time": "2021-07-06T12:00:05.602Z"
      },
      {
        "duration": -63,
        "start_time": "2021-07-06T12:00:06.004Z"
      },
      {
        "duration": -79,
        "start_time": "2021-07-06T12:00:06.021Z"
      },
      {
        "duration": -95,
        "start_time": "2021-07-06T12:00:06.038Z"
      },
      {
        "duration": -107,
        "start_time": "2021-07-06T12:00:06.051Z"
      },
      {
        "duration": -119,
        "start_time": "2021-07-06T12:00:06.064Z"
      },
      {
        "duration": -133,
        "start_time": "2021-07-06T12:00:06.079Z"
      },
      {
        "duration": -153,
        "start_time": "2021-07-06T12:00:06.099Z"
      },
      {
        "duration": -166,
        "start_time": "2021-07-06T12:00:06.113Z"
      },
      {
        "duration": -191,
        "start_time": "2021-07-06T12:00:06.139Z"
      },
      {
        "duration": -203,
        "start_time": "2021-07-06T12:00:06.152Z"
      },
      {
        "duration": -220,
        "start_time": "2021-07-06T12:00:06.170Z"
      },
      {
        "duration": -232,
        "start_time": "2021-07-06T12:00:06.183Z"
      },
      {
        "duration": -254,
        "start_time": "2021-07-06T12:00:06.206Z"
      },
      {
        "duration": -275,
        "start_time": "2021-07-06T12:00:06.228Z"
      },
      {
        "duration": -293,
        "start_time": "2021-07-06T12:00:06.247Z"
      },
      {
        "duration": -313,
        "start_time": "2021-07-06T12:00:06.267Z"
      },
      {
        "duration": -324,
        "start_time": "2021-07-06T12:00:06.279Z"
      },
      {
        "duration": -337,
        "start_time": "2021-07-06T12:00:06.293Z"
      },
      {
        "duration": -343,
        "start_time": "2021-07-06T12:00:06.300Z"
      },
      {
        "duration": -353,
        "start_time": "2021-07-06T12:00:06.311Z"
      },
      {
        "duration": -365,
        "start_time": "2021-07-06T12:00:06.324Z"
      },
      {
        "duration": -373,
        "start_time": "2021-07-06T12:00:06.333Z"
      },
      {
        "duration": -380,
        "start_time": "2021-07-06T12:00:06.341Z"
      },
      {
        "duration": -385,
        "start_time": "2021-07-06T12:00:06.347Z"
      },
      {
        "duration": -391,
        "start_time": "2021-07-06T12:00:06.354Z"
      },
      {
        "duration": -396,
        "start_time": "2021-07-06T12:00:06.360Z"
      },
      {
        "duration": 1831,
        "start_time": "2021-07-06T12:02:34.338Z"
      },
      {
        "duration": 56,
        "start_time": "2021-07-06T12:02:36.170Z"
      },
      {
        "duration": 33,
        "start_time": "2021-07-06T12:02:36.228Z"
      },
      {
        "duration": 388,
        "start_time": "2021-07-06T12:02:36.263Z"
      },
      {
        "duration": 190,
        "start_time": "2021-07-06T12:02:36.654Z"
      },
      {
        "duration": 32,
        "start_time": "2021-07-06T12:02:36.847Z"
      },
      {
        "duration": 66,
        "start_time": "2021-07-06T12:02:36.881Z"
      },
      {
        "duration": 24,
        "start_time": "2021-07-06T12:02:36.950Z"
      },
      {
        "duration": 67,
        "start_time": "2021-07-06T12:02:36.975Z"
      },
      {
        "duration": 238,
        "start_time": "2021-07-06T12:02:37.044Z"
      },
      {
        "duration": 9,
        "start_time": "2021-07-06T12:02:37.283Z"
      },
      {
        "duration": 26,
        "start_time": "2021-07-06T12:02:37.294Z"
      },
      {
        "duration": 26,
        "start_time": "2021-07-06T12:02:37.321Z"
      },
      {
        "duration": 20,
        "start_time": "2021-07-06T12:02:37.349Z"
      },
      {
        "duration": 34,
        "start_time": "2021-07-06T12:02:37.370Z"
      },
      {
        "duration": 146,
        "start_time": "2021-07-06T12:02:37.405Z"
      },
      {
        "duration": 9,
        "start_time": "2021-07-06T12:02:37.553Z"
      },
      {
        "duration": 220,
        "start_time": "2021-07-06T12:02:37.564Z"
      },
      {
        "duration": 286,
        "start_time": "2021-07-06T12:02:37.785Z"
      },
      {
        "duration": 4,
        "start_time": "2021-07-06T12:02:38.073Z"
      },
      {
        "duration": 412,
        "start_time": "2021-07-06T12:02:38.079Z"
      },
      {
        "duration": 295,
        "start_time": "2021-07-06T12:02:38.493Z"
      },
      {
        "duration": 316,
        "start_time": "2021-07-06T12:02:38.792Z"
      },
      {
        "duration": 118,
        "start_time": "2021-07-06T12:02:39.111Z"
      },
      {
        "duration": 285,
        "start_time": "2021-07-06T12:02:39.231Z"
      },
      {
        "duration": 8,
        "start_time": "2021-07-06T12:02:39.518Z"
      },
      {
        "duration": 612,
        "start_time": "2021-07-06T12:02:39.528Z"
      },
      {
        "duration": 7,
        "start_time": "2021-07-06T12:02:40.142Z"
      },
      {
        "duration": 14,
        "start_time": "2021-07-06T12:02:40.150Z"
      },
      {
        "duration": 448,
        "start_time": "2021-07-06T12:02:40.166Z"
      },
      {
        "duration": 144,
        "start_time": "2021-07-06T12:02:40.616Z"
      },
      {
        "duration": 19,
        "start_time": "2021-07-06T12:02:40.761Z"
      },
      {
        "duration": 160,
        "start_time": "2021-07-06T12:02:40.782Z"
      },
      {
        "duration": 694,
        "start_time": "2021-07-06T12:02:40.944Z"
      },
      {
        "duration": 5,
        "start_time": "2021-07-06T12:02:41.640Z"
      },
      {
        "duration": 13,
        "start_time": "2021-07-06T12:02:41.647Z"
      },
      {
        "duration": 16,
        "start_time": "2021-07-06T12:02:41.662Z"
      },
      {
        "duration": 120,
        "start_time": "2021-07-06T12:02:41.680Z"
      },
      {
        "duration": 6,
        "start_time": "2021-07-06T12:02:41.801Z"
      },
      {
        "duration": 22,
        "start_time": "2021-07-06T12:02:41.808Z"
      },
      {
        "duration": 1611,
        "start_time": "2021-07-06T12:02:41.831Z"
      },
      {
        "duration": 9,
        "start_time": "2021-07-06T12:02:43.443Z"
      },
      {
        "duration": 1069,
        "start_time": "2021-07-06T12:02:43.454Z"
      },
      {
        "duration": 25,
        "start_time": "2021-07-06T12:02:44.525Z"
      },
      {
        "duration": 25,
        "start_time": "2021-07-06T12:02:44.552Z"
      },
      {
        "duration": 3,
        "start_time": "2021-07-06T12:02:44.578Z"
      },
      {
        "duration": 21,
        "start_time": "2021-07-06T12:02:44.583Z"
      },
      {
        "duration": 25,
        "start_time": "2021-07-06T12:02:44.605Z"
      },
      {
        "duration": 682,
        "start_time": "2021-07-06T12:02:44.631Z"
      },
      {
        "duration": 4,
        "start_time": "2021-07-06T12:02:45.315Z"
      },
      {
        "duration": 22,
        "start_time": "2021-07-06T12:02:45.320Z"
      },
      {
        "duration": 445,
        "start_time": "2021-07-06T12:02:45.344Z"
      },
      {
        "duration": 16,
        "start_time": "2021-07-06T12:02:45.790Z"
      },
      {
        "duration": 43,
        "start_time": "2021-07-06T12:02:45.807Z"
      },
      {
        "duration": 5,
        "start_time": "2021-07-06T12:02:45.851Z"
      },
      {
        "duration": 23,
        "start_time": "2021-07-06T12:02:45.858Z"
      },
      {
        "duration": 18,
        "start_time": "2021-07-06T12:02:45.883Z"
      },
      {
        "duration": 718,
        "start_time": "2021-07-06T12:02:45.902Z"
      },
      {
        "duration": 356,
        "start_time": "2021-07-06T12:02:46.621Z"
      },
      {
        "duration": 11,
        "start_time": "2021-07-06T12:02:46.979Z"
      },
      {
        "duration": 11,
        "start_time": "2021-07-06T12:02:46.991Z"
      },
      {
        "duration": 13,
        "start_time": "2021-07-06T12:02:47.003Z"
      },
      {
        "duration": 33,
        "start_time": "2021-07-06T12:02:47.017Z"
      },
      {
        "duration": 14,
        "start_time": "2021-07-06T12:02:47.051Z"
      },
      {
        "duration": 27,
        "start_time": "2021-07-06T12:02:47.067Z"
      },
      {
        "duration": 14,
        "start_time": "2021-07-06T12:02:47.096Z"
      },
      {
        "duration": 7,
        "start_time": "2021-07-06T12:02:47.112Z"
      },
      {
        "duration": 36,
        "start_time": "2021-07-06T12:02:47.124Z"
      },
      {
        "duration": 10,
        "start_time": "2021-07-06T12:02:47.163Z"
      },
      {
        "duration": 29,
        "start_time": "2021-07-06T12:02:47.174Z"
      },
      {
        "duration": 10,
        "start_time": "2021-07-06T12:02:47.204Z"
      },
      {
        "duration": 693,
        "start_time": "2021-07-06T12:02:47.215Z"
      },
      {
        "duration": 232,
        "start_time": "2021-07-06T12:02:47.909Z"
      },
      {
        "duration": 704,
        "start_time": "2021-07-06T12:02:48.144Z"
      },
      {
        "duration": 108,
        "start_time": "2021-07-06T12:02:48.850Z"
      },
      {
        "duration": 25,
        "start_time": "2021-07-06T12:02:48.960Z"
      },
      {
        "duration": 758,
        "start_time": "2021-07-06T12:02:48.987Z"
      },
      {
        "duration": 215,
        "start_time": "2021-07-06T12:02:49.747Z"
      },
      {
        "duration": 11,
        "start_time": "2021-07-06T12:02:49.963Z"
      },
      {
        "duration": 11,
        "start_time": "2021-07-06T12:02:49.976Z"
      },
      {
        "duration": 16,
        "start_time": "2021-07-06T12:02:49.989Z"
      },
      {
        "duration": 9,
        "start_time": "2021-07-06T12:02:50.006Z"
      },
      {
        "duration": 20,
        "start_time": "2021-07-06T12:02:50.017Z"
      },
      {
        "duration": 335,
        "start_time": "2021-07-06T12:02:50.039Z"
      },
      {
        "duration": -105,
        "start_time": "2021-07-06T12:02:50.481Z"
      },
      {
        "duration": -111,
        "start_time": "2021-07-06T12:02:50.488Z"
      },
      {
        "duration": -118,
        "start_time": "2021-07-06T12:02:50.496Z"
      },
      {
        "duration": -123,
        "start_time": "2021-07-06T12:02:50.502Z"
      },
      {
        "duration": -128,
        "start_time": "2021-07-06T12:02:50.508Z"
      },
      {
        "duration": -133,
        "start_time": "2021-07-06T12:02:50.514Z"
      },
      {
        "duration": -138,
        "start_time": "2021-07-06T12:02:50.520Z"
      },
      {
        "duration": -143,
        "start_time": "2021-07-06T12:02:50.526Z"
      },
      {
        "duration": -148,
        "start_time": "2021-07-06T12:02:50.532Z"
      },
      {
        "duration": -153,
        "start_time": "2021-07-06T12:02:50.538Z"
      },
      {
        "duration": -160,
        "start_time": "2021-07-06T12:02:50.546Z"
      },
      {
        "duration": -167,
        "start_time": "2021-07-06T12:02:50.554Z"
      },
      {
        "duration": -171,
        "start_time": "2021-07-06T12:02:50.559Z"
      },
      {
        "duration": -178,
        "start_time": "2021-07-06T12:02:50.566Z"
      },
      {
        "duration": -193,
        "start_time": "2021-07-06T12:02:50.582Z"
      },
      {
        "duration": -201,
        "start_time": "2021-07-06T12:02:50.591Z"
      },
      {
        "duration": -205,
        "start_time": "2021-07-06T12:02:50.596Z"
      },
      {
        "duration": -214,
        "start_time": "2021-07-06T12:02:50.606Z"
      },
      {
        "duration": -220,
        "start_time": "2021-07-06T12:02:50.613Z"
      },
      {
        "duration": -226,
        "start_time": "2021-07-06T12:02:50.620Z"
      },
      {
        "duration": -230,
        "start_time": "2021-07-06T12:02:50.625Z"
      },
      {
        "duration": -236,
        "start_time": "2021-07-06T12:02:50.632Z"
      },
      {
        "duration": -240,
        "start_time": "2021-07-06T12:02:50.637Z"
      },
      {
        "duration": -245,
        "start_time": "2021-07-06T12:02:50.643Z"
      },
      {
        "duration": -250,
        "start_time": "2021-07-06T12:02:50.649Z"
      },
      {
        "duration": -255,
        "start_time": "2021-07-06T12:02:50.655Z"
      },
      {
        "duration": 371,
        "start_time": "2021-07-06T15:57:32.336Z"
      },
      {
        "duration": 2730,
        "start_time": "2021-07-06T15:57:47.335Z"
      },
      {
        "duration": 81,
        "start_time": "2021-07-06T15:57:50.067Z"
      },
      {
        "duration": 48,
        "start_time": "2021-07-06T15:57:50.162Z"
      },
      {
        "duration": 535,
        "start_time": "2021-07-06T15:57:50.213Z"
      },
      {
        "duration": 241,
        "start_time": "2021-07-06T15:57:50.750Z"
      },
      {
        "duration": 45,
        "start_time": "2021-07-06T15:57:50.994Z"
      },
      {
        "duration": 37,
        "start_time": "2021-07-06T15:57:51.041Z"
      },
      {
        "duration": 51,
        "start_time": "2021-07-06T15:57:51.082Z"
      },
      {
        "duration": 22,
        "start_time": "2021-07-06T15:57:51.165Z"
      },
      {
        "duration": 287,
        "start_time": "2021-07-06T15:57:51.190Z"
      },
      {
        "duration": 16,
        "start_time": "2021-07-06T15:57:51.479Z"
      },
      {
        "duration": 27,
        "start_time": "2021-07-06T15:57:51.497Z"
      },
      {
        "duration": 46,
        "start_time": "2021-07-06T15:57:51.526Z"
      },
      {
        "duration": 8,
        "start_time": "2021-07-06T15:57:51.575Z"
      },
      {
        "duration": 19,
        "start_time": "2021-07-06T15:57:51.585Z"
      },
      {
        "duration": 247,
        "start_time": "2021-07-06T15:57:51.607Z"
      },
      {
        "duration": 17,
        "start_time": "2021-07-06T15:57:51.861Z"
      },
      {
        "duration": 473,
        "start_time": "2021-07-06T15:57:51.881Z"
      },
      {
        "duration": 532,
        "start_time": "2021-07-06T15:57:52.357Z"
      },
      {
        "duration": 7,
        "start_time": "2021-07-06T15:57:52.892Z"
      },
      {
        "duration": 665,
        "start_time": "2021-07-06T15:57:52.902Z"
      },
      {
        "duration": 491,
        "start_time": "2021-07-06T15:57:53.570Z"
      },
      {
        "duration": 469,
        "start_time": "2021-07-06T15:57:54.068Z"
      },
      {
        "duration": 168,
        "start_time": "2021-07-06T15:57:54.540Z"
      },
      {
        "duration": 627,
        "start_time": "2021-07-06T15:57:54.710Z"
      },
      {
        "duration": 25,
        "start_time": "2021-07-06T15:57:55.339Z"
      },
      {
        "duration": 1199,
        "start_time": "2021-07-06T15:57:55.366Z"
      },
      {
        "duration": 10,
        "start_time": "2021-07-06T15:57:56.567Z"
      },
      {
        "duration": 16,
        "start_time": "2021-07-06T15:57:56.580Z"
      },
      {
        "duration": 719,
        "start_time": "2021-07-06T15:57:56.598Z"
      },
      {
        "duration": 288,
        "start_time": "2021-07-06T15:57:57.319Z"
      },
      {
        "duration": 33,
        "start_time": "2021-07-06T15:57:57.610Z"
      },
      {
        "duration": 244,
        "start_time": "2021-07-06T15:57:57.661Z"
      },
      {
        "duration": 1140,
        "start_time": "2021-07-06T15:57:57.907Z"
      },
      {
        "duration": 14,
        "start_time": "2021-07-06T15:57:59.049Z"
      },
      {
        "duration": 8,
        "start_time": "2021-07-06T15:57:59.065Z"
      },
      {
        "duration": 20,
        "start_time": "2021-07-06T15:57:59.075Z"
      },
      {
        "duration": 238,
        "start_time": "2021-07-06T15:57:59.098Z"
      },
      {
        "duration": 26,
        "start_time": "2021-07-06T15:57:59.338Z"
      },
      {
        "duration": 28,
        "start_time": "2021-07-06T15:57:59.366Z"
      },
      {
        "duration": 3094,
        "start_time": "2021-07-06T15:57:59.396Z"
      },
      {
        "duration": 13,
        "start_time": "2021-07-06T15:58:02.492Z"
      },
      {
        "duration": 1689,
        "start_time": "2021-07-06T15:58:02.508Z"
      },
      {
        "duration": 25,
        "start_time": "2021-07-06T15:58:04.200Z"
      },
      {
        "duration": 56,
        "start_time": "2021-07-06T15:58:04.228Z"
      },
      {
        "duration": 5,
        "start_time": "2021-07-06T15:58:04.288Z"
      },
      {
        "duration": 20,
        "start_time": "2021-07-06T15:58:04.297Z"
      },
      {
        "duration": 51,
        "start_time": "2021-07-06T15:58:04.320Z"
      },
      {
        "duration": 1066,
        "start_time": "2021-07-06T15:58:04.373Z"
      },
      {
        "duration": 6,
        "start_time": "2021-07-06T15:58:05.441Z"
      },
      {
        "duration": 17,
        "start_time": "2021-07-06T15:58:05.449Z"
      },
      {
        "duration": 707,
        "start_time": "2021-07-06T15:58:05.469Z"
      },
      {
        "duration": 25,
        "start_time": "2021-07-06T15:58:06.178Z"
      },
      {
        "duration": 81,
        "start_time": "2021-07-06T15:58:06.207Z"
      },
      {
        "duration": 7,
        "start_time": "2021-07-06T15:58:06.291Z"
      },
      {
        "duration": 34,
        "start_time": "2021-07-06T15:58:06.301Z"
      },
      {
        "duration": 41,
        "start_time": "2021-07-06T15:58:06.339Z"
      },
      {
        "duration": 1572,
        "start_time": "2021-07-06T15:58:06.383Z"
      },
      {
        "duration": 621,
        "start_time": "2021-07-06T15:58:07.963Z"
      },
      {
        "duration": 20,
        "start_time": "2021-07-06T15:58:08.588Z"
      },
      {
        "duration": 15,
        "start_time": "2021-07-06T15:58:08.611Z"
      },
      {
        "duration": 45,
        "start_time": "2021-07-06T15:58:08.629Z"
      },
      {
        "duration": 36,
        "start_time": "2021-07-06T15:58:08.678Z"
      },
      {
        "duration": 56,
        "start_time": "2021-07-06T15:58:08.717Z"
      },
      {
        "duration": 46,
        "start_time": "2021-07-06T15:58:08.776Z"
      },
      {
        "duration": 61,
        "start_time": "2021-07-06T15:58:08.825Z"
      },
      {
        "duration": 18,
        "start_time": "2021-07-06T15:58:08.890Z"
      },
      {
        "duration": 59,
        "start_time": "2021-07-06T15:58:08.920Z"
      },
      {
        "duration": 25,
        "start_time": "2021-07-06T15:58:08.983Z"
      },
      {
        "duration": 80,
        "start_time": "2021-07-06T15:58:09.011Z"
      },
      {
        "duration": 24,
        "start_time": "2021-07-06T15:58:09.094Z"
      },
      {
        "duration": 1429,
        "start_time": "2021-07-06T15:58:09.121Z"
      },
      {
        "duration": 559,
        "start_time": "2021-07-06T15:58:10.553Z"
      },
      {
        "duration": 1561,
        "start_time": "2021-07-06T15:58:11.115Z"
      },
      {
        "duration": 250,
        "start_time": "2021-07-06T15:58:12.679Z"
      },
      {
        "duration": 48,
        "start_time": "2021-07-06T15:58:12.933Z"
      },
      {
        "duration": 1568,
        "start_time": "2021-07-06T15:58:12.985Z"
      },
      {
        "duration": 524,
        "start_time": "2021-07-06T15:58:14.556Z"
      },
      {
        "duration": 23,
        "start_time": "2021-07-06T15:58:15.083Z"
      },
      {
        "duration": 18,
        "start_time": "2021-07-06T15:58:15.110Z"
      },
      {
        "duration": 64,
        "start_time": "2021-07-06T15:58:15.131Z"
      },
      {
        "duration": 8,
        "start_time": "2021-07-06T15:58:15.198Z"
      },
      {
        "duration": 18,
        "start_time": "2021-07-06T15:58:15.209Z"
      },
      {
        "duration": 396,
        "start_time": "2021-07-06T15:58:25.319Z"
      },
      {
        "duration": 117,
        "start_time": "2021-07-06T16:00:40.412Z"
      },
      {
        "duration": 139,
        "start_time": "2021-07-06T16:00:51.172Z"
      },
      {
        "duration": 858,
        "start_time": "2021-07-06T16:00:51.314Z"
      },
      {
        "duration": 175,
        "start_time": "2021-07-06T16:00:52.175Z"
      },
      {
        "duration": 52,
        "start_time": "2021-07-06T16:00:52.353Z"
      },
      {
        "duration": 6,
        "start_time": "2021-07-06T16:00:52.407Z"
      },
      {
        "duration": 19,
        "start_time": "2021-07-06T16:00:52.415Z"
      },
      {
        "duration": 48,
        "start_time": "2021-07-06T16:00:52.436Z"
      },
      {
        "duration": 18,
        "start_time": "2021-07-06T16:00:52.488Z"
      },
      {
        "duration": 58,
        "start_time": "2021-07-06T16:00:52.509Z"
      },
      {
        "duration": 12,
        "start_time": "2021-07-06T16:00:52.570Z"
      },
      {
        "duration": 24,
        "start_time": "2021-07-06T16:00:52.585Z"
      },
      {
        "duration": 57,
        "start_time": "2021-07-06T16:00:52.612Z"
      },
      {
        "duration": 39,
        "start_time": "2021-07-06T16:00:52.672Z"
      },
      {
        "duration": 85,
        "start_time": "2021-07-06T16:00:52.714Z"
      },
      {
        "duration": 64,
        "start_time": "2021-07-06T16:00:52.801Z"
      },
      {
        "duration": 1164,
        "start_time": "2021-07-06T16:00:52.867Z"
      },
      {
        "duration": 1543,
        "start_time": "2021-07-06T16:00:54.033Z"
      },
      {
        "duration": 1343,
        "start_time": "2021-07-06T16:00:55.578Z"
      },
      {
        "duration": 1371,
        "start_time": "2021-07-06T16:00:56.923Z"
      },
      {
        "duration": 1318,
        "start_time": "2021-07-06T16:00:58.296Z"
      },
      {
        "duration": 1303,
        "start_time": "2021-07-06T16:00:59.616Z"
      },
      {
        "duration": 1265,
        "start_time": "2021-07-06T16:01:00.921Z"
      },
      {
        "duration": 845,
        "start_time": "2021-07-06T16:01:02.191Z"
      },
      {
        "duration": 811,
        "start_time": "2021-07-06T16:01:03.038Z"
      },
      {
        "duration": -442,
        "start_time": "2021-07-06T16:01:04.293Z"
      },
      {
        "duration": -459,
        "start_time": "2021-07-06T16:01:04.311Z"
      },
      {
        "duration": -470,
        "start_time": "2021-07-06T16:01:04.323Z"
      },
      {
        "duration": 832,
        "start_time": "2021-07-06T16:01:48.389Z"
      },
      {
        "duration": 776,
        "start_time": "2021-07-06T16:02:37.874Z"
      },
      {
        "duration": 781,
        "start_time": "2021-07-06T16:03:37.788Z"
      },
      {
        "duration": 834,
        "start_time": "2021-07-06T16:03:59.439Z"
      },
      {
        "duration": 858,
        "start_time": "2021-07-06T16:04:13.104Z"
      },
      {
        "duration": 4,
        "start_time": "2021-07-06T16:04:13.964Z"
      },
      {
        "duration": 812,
        "start_time": "2021-07-06T16:04:13.971Z"
      },
      {
        "duration": 731,
        "start_time": "2021-07-06T16:04:14.785Z"
      },
      {
        "duration": 18,
        "start_time": "2021-07-06T16:15:52.245Z"
      },
      {
        "duration": 11,
        "start_time": "2021-07-06T16:16:20.085Z"
      },
      {
        "duration": 7862,
        "start_time": "2021-07-06T16:16:33.959Z"
      },
      {
        "duration": 27,
        "start_time": "2021-07-06T16:19:08.490Z"
      },
      {
        "duration": 28,
        "start_time": "2021-07-06T16:20:09.631Z"
      },
      {
        "duration": 26,
        "start_time": "2021-07-06T16:20:35.983Z"
      },
      {
        "duration": 23,
        "start_time": "2021-07-06T16:21:00.425Z"
      },
      {
        "duration": 606,
        "start_time": "2021-07-06T16:21:38.207Z"
      },
      {
        "duration": 32,
        "start_time": "2021-07-06T16:21:52.443Z"
      },
      {
        "duration": 374,
        "start_time": "2021-07-06T16:25:45.563Z"
      },
      {
        "duration": 20,
        "start_time": "2021-07-06T16:28:32.775Z"
      },
      {
        "duration": 21,
        "start_time": "2021-07-06T16:28:32.798Z"
      },
      {
        "duration": 27,
        "start_time": "2021-07-06T16:28:32.862Z"
      },
      {
        "duration": 6,
        "start_time": "2021-07-06T16:28:32.891Z"
      },
      {
        "duration": 16,
        "start_time": "2021-07-06T16:28:32.900Z"
      },
      {
        "duration": 241,
        "start_time": "2021-07-06T16:28:32.949Z"
      },
      {
        "duration": 849,
        "start_time": "2021-07-06T16:28:33.192Z"
      },
      {
        "duration": 73,
        "start_time": "2021-07-06T16:28:34.045Z"
      },
      {
        "duration": 57,
        "start_time": "2021-07-06T16:28:34.121Z"
      },
      {
        "duration": 7,
        "start_time": "2021-07-06T16:28:34.181Z"
      },
      {
        "duration": 13,
        "start_time": "2021-07-06T16:28:34.190Z"
      },
      {
        "duration": 58,
        "start_time": "2021-07-06T16:28:34.205Z"
      },
      {
        "duration": 19,
        "start_time": "2021-07-06T16:28:34.267Z"
      },
      {
        "duration": 22,
        "start_time": "2021-07-06T16:28:34.289Z"
      },
      {
        "duration": 13,
        "start_time": "2021-07-06T16:28:34.313Z"
      },
      {
        "duration": 52,
        "start_time": "2021-07-06T16:28:34.329Z"
      },
      {
        "duration": 28,
        "start_time": "2021-07-06T16:28:34.384Z"
      },
      {
        "duration": 66,
        "start_time": "2021-07-06T16:28:34.415Z"
      },
      {
        "duration": 83,
        "start_time": "2021-07-06T16:28:34.484Z"
      },
      {
        "duration": 62,
        "start_time": "2021-07-06T16:28:34.569Z"
      },
      {
        "duration": 1661,
        "start_time": "2021-07-06T16:28:34.634Z"
      },
      {
        "duration": 1872,
        "start_time": "2021-07-06T16:28:36.298Z"
      },
      {
        "duration": 1880,
        "start_time": "2021-07-06T16:28:38.174Z"
      },
      {
        "duration": 1872,
        "start_time": "2021-07-06T16:28:40.061Z"
      },
      {
        "duration": 1295,
        "start_time": "2021-07-06T16:28:41.936Z"
      },
      {
        "duration": 1386,
        "start_time": "2021-07-06T16:28:43.233Z"
      },
      {
        "duration": 1304,
        "start_time": "2021-07-06T16:28:44.621Z"
      },
      {
        "duration": 755,
        "start_time": "2021-07-06T16:28:45.932Z"
      },
      {
        "duration": 860,
        "start_time": "2021-07-06T16:28:46.689Z"
      },
      {
        "duration": 12,
        "start_time": "2021-07-06T16:28:47.552Z"
      },
      {
        "duration": 880,
        "start_time": "2021-07-06T16:28:47.567Z"
      },
      {
        "duration": 750,
        "start_time": "2021-07-06T16:28:48.450Z"
      },
      {
        "duration": 2492,
        "start_time": "2021-07-07T15:56:23.099Z"
      },
      {
        "duration": 78,
        "start_time": "2021-07-07T15:56:25.594Z"
      },
      {
        "duration": 44,
        "start_time": "2021-07-07T15:56:25.675Z"
      },
      {
        "duration": 526,
        "start_time": "2021-07-07T15:56:25.722Z"
      },
      {
        "duration": 235,
        "start_time": "2021-07-07T15:56:26.251Z"
      },
      {
        "duration": 42,
        "start_time": "2021-07-07T15:56:26.489Z"
      },
      {
        "duration": 41,
        "start_time": "2021-07-07T15:56:26.534Z"
      },
      {
        "duration": 47,
        "start_time": "2021-07-07T15:56:26.579Z"
      },
      {
        "duration": 16,
        "start_time": "2021-07-07T15:56:26.629Z"
      },
      {
        "duration": 287,
        "start_time": "2021-07-07T15:56:26.647Z"
      },
      {
        "duration": 31,
        "start_time": "2021-07-07T15:56:26.936Z"
      },
      {
        "duration": 10,
        "start_time": "2021-07-07T15:56:26.969Z"
      },
      {
        "duration": 15,
        "start_time": "2021-07-07T15:56:26.982Z"
      },
      {
        "duration": 9,
        "start_time": "2021-07-07T15:56:27.000Z"
      },
      {
        "duration": 23,
        "start_time": "2021-07-07T15:56:27.011Z"
      },
      {
        "duration": 186,
        "start_time": "2021-07-07T15:56:27.037Z"
      },
      {
        "duration": 12,
        "start_time": "2021-07-07T15:56:27.226Z"
      },
      {
        "duration": 342,
        "start_time": "2021-07-07T15:56:27.240Z"
      },
      {
        "duration": 392,
        "start_time": "2021-07-07T15:56:27.584Z"
      },
      {
        "duration": 5,
        "start_time": "2021-07-07T15:56:27.978Z"
      },
      {
        "duration": 654,
        "start_time": "2021-07-07T15:56:27.985Z"
      },
      {
        "duration": 477,
        "start_time": "2021-07-07T15:56:28.642Z"
      },
      {
        "duration": 462,
        "start_time": "2021-07-07T15:56:29.125Z"
      },
      {
        "duration": 175,
        "start_time": "2021-07-07T15:56:29.593Z"
      },
      {
        "duration": 529,
        "start_time": "2021-07-07T15:56:29.771Z"
      },
      {
        "duration": 15,
        "start_time": "2021-07-07T15:56:30.302Z"
      },
      {
        "duration": 1221,
        "start_time": "2021-07-07T15:56:30.319Z"
      },
      {
        "duration": 25,
        "start_time": "2021-07-07T15:56:31.542Z"
      },
      {
        "duration": 16,
        "start_time": "2021-07-07T15:56:31.570Z"
      },
      {
        "duration": 698,
        "start_time": "2021-07-07T15:56:31.589Z"
      },
      {
        "duration": 238,
        "start_time": "2021-07-07T15:56:32.290Z"
      },
      {
        "duration": 47,
        "start_time": "2021-07-07T15:56:32.530Z"
      },
      {
        "duration": 231,
        "start_time": "2021-07-07T15:56:32.579Z"
      },
      {
        "duration": 1234,
        "start_time": "2021-07-07T15:56:32.812Z"
      },
      {
        "duration": 4,
        "start_time": "2021-07-07T15:56:34.049Z"
      },
      {
        "duration": 7,
        "start_time": "2021-07-07T15:56:34.067Z"
      },
      {
        "duration": 19,
        "start_time": "2021-07-07T15:56:34.076Z"
      },
      {
        "duration": 227,
        "start_time": "2021-07-07T15:56:34.097Z"
      },
      {
        "duration": 9,
        "start_time": "2021-07-07T15:56:34.326Z"
      },
      {
        "duration": 48,
        "start_time": "2021-07-07T15:56:34.338Z"
      },
      {
        "duration": 3158,
        "start_time": "2021-07-07T15:56:34.388Z"
      },
      {
        "duration": 26,
        "start_time": "2021-07-07T15:56:37.548Z"
      },
      {
        "duration": 1630,
        "start_time": "2021-07-07T15:56:37.577Z"
      },
      {
        "duration": 24,
        "start_time": "2021-07-07T15:56:39.209Z"
      },
      {
        "duration": 61,
        "start_time": "2021-07-07T15:56:39.235Z"
      },
      {
        "duration": 5,
        "start_time": "2021-07-07T15:56:39.299Z"
      },
      {
        "duration": 31,
        "start_time": "2021-07-07T15:56:39.307Z"
      },
      {
        "duration": 34,
        "start_time": "2021-07-07T15:56:39.340Z"
      },
      {
        "duration": 1090,
        "start_time": "2021-07-07T15:56:39.377Z"
      },
      {
        "duration": 5,
        "start_time": "2021-07-07T15:56:40.470Z"
      },
      {
        "duration": 12,
        "start_time": "2021-07-07T15:56:40.477Z"
      },
      {
        "duration": 716,
        "start_time": "2021-07-07T15:56:40.491Z"
      },
      {
        "duration": 26,
        "start_time": "2021-07-07T15:56:41.209Z"
      },
      {
        "duration": 58,
        "start_time": "2021-07-07T15:56:41.237Z"
      },
      {
        "duration": 5,
        "start_time": "2021-07-07T15:56:41.298Z"
      },
      {
        "duration": 22,
        "start_time": "2021-07-07T15:56:41.305Z"
      },
      {
        "duration": 39,
        "start_time": "2021-07-07T15:56:41.330Z"
      },
      {
        "duration": 1245,
        "start_time": "2021-07-07T15:56:41.371Z"
      },
      {
        "duration": 24,
        "start_time": "2021-07-07T15:56:42.618Z"
      },
      {
        "duration": 509,
        "start_time": "2021-07-07T15:56:42.645Z"
      },
      {
        "duration": 25,
        "start_time": "2021-07-07T15:56:43.157Z"
      },
      {
        "duration": 13,
        "start_time": "2021-07-07T15:56:43.185Z"
      },
      {
        "duration": 14,
        "start_time": "2021-07-07T15:56:43.200Z"
      },
      {
        "duration": 60,
        "start_time": "2021-07-07T15:56:43.216Z"
      },
      {
        "duration": 19,
        "start_time": "2021-07-07T15:56:43.278Z"
      },
      {
        "duration": 35,
        "start_time": "2021-07-07T15:56:43.299Z"
      },
      {
        "duration": 54,
        "start_time": "2021-07-07T15:56:43.337Z"
      },
      {
        "duration": 13,
        "start_time": "2021-07-07T15:56:43.401Z"
      },
      {
        "duration": 57,
        "start_time": "2021-07-07T15:56:43.419Z"
      },
      {
        "duration": 18,
        "start_time": "2021-07-07T15:56:43.479Z"
      },
      {
        "duration": 43,
        "start_time": "2021-07-07T15:56:43.499Z"
      },
      {
        "duration": 17,
        "start_time": "2021-07-07T15:56:43.568Z"
      },
      {
        "duration": 1057,
        "start_time": "2021-07-07T15:56:43.588Z"
      },
      {
        "duration": 406,
        "start_time": "2021-07-07T15:56:44.648Z"
      },
      {
        "duration": 1148,
        "start_time": "2021-07-07T15:56:45.057Z"
      },
      {
        "duration": 379,
        "start_time": "2021-07-07T15:56:46.208Z"
      },
      {
        "duration": 192,
        "start_time": "2021-07-07T15:56:46.590Z"
      },
      {
        "duration": 23,
        "start_time": "2021-07-07T15:56:46.784Z"
      },
      {
        "duration": 1171,
        "start_time": "2021-07-07T15:56:46.810Z"
      },
      {
        "duration": 398,
        "start_time": "2021-07-07T15:56:47.984Z"
      },
      {
        "duration": 17,
        "start_time": "2021-07-07T15:56:48.384Z"
      },
      {
        "duration": 17,
        "start_time": "2021-07-07T15:56:48.403Z"
      },
      {
        "duration": 48,
        "start_time": "2021-07-07T15:56:48.423Z"
      },
      {
        "duration": 5,
        "start_time": "2021-07-07T15:56:48.474Z"
      },
      {
        "duration": 14,
        "start_time": "2021-07-07T15:56:48.482Z"
      },
      {
        "duration": 145,
        "start_time": "2021-07-07T15:56:48.499Z"
      },
      {
        "duration": 825,
        "start_time": "2021-07-07T15:56:48.646Z"
      },
      {
        "duration": 176,
        "start_time": "2021-07-07T15:56:49.474Z"
      },
      {
        "duration": 61,
        "start_time": "2021-07-07T15:56:49.653Z"
      },
      {
        "duration": 8,
        "start_time": "2021-07-07T15:56:49.717Z"
      },
      {
        "duration": 45,
        "start_time": "2021-07-07T15:56:49.728Z"
      },
      {
        "duration": 30,
        "start_time": "2021-07-07T15:56:49.775Z"
      },
      {
        "duration": 20,
        "start_time": "2021-07-07T15:56:49.808Z"
      },
      {
        "duration": 58,
        "start_time": "2021-07-07T15:56:49.831Z"
      },
      {
        "duration": 9,
        "start_time": "2021-07-07T15:56:49.892Z"
      },
      {
        "duration": 29,
        "start_time": "2021-07-07T15:56:49.904Z"
      },
      {
        "duration": 51,
        "start_time": "2021-07-07T15:56:49.936Z"
      },
      {
        "duration": 30,
        "start_time": "2021-07-07T15:56:49.989Z"
      },
      {
        "duration": 71,
        "start_time": "2021-07-07T15:56:50.022Z"
      },
      {
        "duration": 43,
        "start_time": "2021-07-07T15:56:50.096Z"
      },
      {
        "duration": 1218,
        "start_time": "2021-07-07T15:56:50.142Z"
      },
      {
        "duration": 1561,
        "start_time": "2021-07-07T15:56:51.362Z"
      },
      {
        "duration": 1319,
        "start_time": "2021-07-07T15:56:52.925Z"
      },
      {
        "duration": 1379,
        "start_time": "2021-07-07T15:56:54.246Z"
      },
      {
        "duration": 1330,
        "start_time": "2021-07-07T15:56:55.628Z"
      },
      {
        "duration": 1331,
        "start_time": "2021-07-07T15:56:56.967Z"
      },
      {
        "duration": 1429,
        "start_time": "2021-07-07T15:56:58.301Z"
      },
      {
        "duration": 766,
        "start_time": "2021-07-07T15:56:59.733Z"
      },
      {
        "duration": 862,
        "start_time": "2021-07-07T15:57:00.501Z"
      },
      {
        "duration": 5,
        "start_time": "2021-07-07T15:57:01.367Z"
      },
      {
        "duration": 816,
        "start_time": "2021-07-07T15:57:01.374Z"
      },
      {
        "duration": 879,
        "start_time": "2021-07-07T15:57:02.193Z"
      }
    ],
    "kernelspec": {
      "display_name": "Python 3",
      "language": "python",
      "name": "python3"
    },
    "language_info": {
      "codemirror_mode": {
        "name": "ipython",
        "version": 3
      },
      "file_extension": ".py",
      "mimetype": "text/x-python",
      "name": "python",
      "nbconvert_exporter": "python",
      "pygments_lexer": "ipython3",
      "version": "3.7.8"
    },
    "toc": {
      "base_numbering": 1,
      "nav_menu": {},
      "number_sections": true,
      "sideBar": true,
      "skip_h1_title": true,
      "title_cell": "Table of Contents",
      "title_sidebar": "Contents",
      "toc_cell": false,
      "toc_position": {
        "height": "calc(100% - 180px)",
        "left": "10px",
        "top": "150px",
        "width": "289.597px"
      },
      "toc_section_display": true,
      "toc_window_display": true
    },
    "colab": {
      "name": "Анализ бизнес-показателей",
      "provenance": [],
      "collapsed_sections": [
        "TZA7lRNvyPnt"
      ],
      "toc_visible": true,
      "include_colab_link": true
    }
  },
  "nbformat": 4,
  "nbformat_minor": 0
}