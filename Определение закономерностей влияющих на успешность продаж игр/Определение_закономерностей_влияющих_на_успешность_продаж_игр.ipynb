{
  "nbformat": 4,
  "nbformat_minor": 0,
  "metadata": {
    "colab": {
      "name": "Untitled26.ipynb",
      "provenance": [],
      "toc_visible": true,
      "authorship_tag": "ABX9TyPj7O/nhtbCGNRhEhzsenSv",
      "include_colab_link": true
    },
    "kernelspec": {
      "name": "python3",
      "display_name": "Python 3"
    },
    "language_info": {
      "name": "python"
    }
  },
  "cells": [
    {
      "cell_type": "markdown",
      "metadata": {
        "id": "view-in-github",
        "colab_type": "text"
      },
      "source": [
        "<a href=\"https://colab.research.google.com/github/raspopovaa/Pet-Project-Data-Analyst/blob/main/%D0%9E%D0%BF%D1%80%D0%B5%D0%B4%D0%B5%D0%BB%D0%B5%D0%BD%D0%B8%D0%B5%20%D0%B7%D0%B0%D0%BA%D0%BE%D0%BD%D0%BE%D0%BC%D0%B5%D1%80%D0%BD%D0%BE%D1%81%D1%82%D0%B5%D0%B9%20%D0%B2%D0%BB%D0%B8%D1%8F%D1%8E%D1%89%D0%B8%D1%85%20%D0%BD%D0%B0%20%D1%83%D1%81%D0%BF%D0%B5%D1%88%D0%BD%D0%BE%D1%81%D1%82%D1%8C%20%D0%BF%D1%80%D0%BE%D0%B4%D0%B0%D0%B6%20%D0%B8%D0%B3%D1%80/%D0%9E%D0%BF%D1%80%D0%B5%D0%B4%D0%B5%D0%BB%D0%B5%D0%BD%D0%B8%D0%B5_%D0%B7%D0%B0%D0%BA%D0%BE%D0%BD%D0%BE%D0%BC%D0%B5%D1%80%D0%BD%D0%BE%D1%81%D1%82%D0%B5%D0%B9_%D0%B2%D0%BB%D0%B8%D1%8F%D1%8E%D1%89%D0%B8%D1%85_%D0%BD%D0%B0_%D1%83%D1%81%D0%BF%D0%B5%D1%88%D0%BD%D0%BE%D1%81%D1%82%D1%8C_%D0%BF%D1%80%D0%BE%D0%B4%D0%B0%D0%B6_%D0%B8%D0%B3%D1%80.ipynb\" target=\"_parent\"><img src=\"https://colab.research.google.com/assets/colab-badge.svg\" alt=\"Open In Colab\"/></a>"
      ]
    },
    {
      "cell_type": "code",
      "execution_count": 1,
      "metadata": {
        "colab": {
          "base_uri": "https://localhost:8080/"
        },
        "id": "OxK1dkribV33",
        "outputId": "9744e0ed-0d90-4ecc-84e4-a21df0fa484b"
      },
      "outputs": [
        {
          "output_type": "stream",
          "name": "stderr",
          "text": [
            "/usr/local/lib/python3.7/dist-packages/statsmodels/tools/_testing.py:19: FutureWarning: pandas.util.testing is deprecated. Use the functions in the public API at pandas.testing instead.\n",
            "  import pandas.util.testing as tm\n"
          ]
        }
      ],
      "source": [
        "# Импорт необходимых библиотек\n",
        "import pandas as pd\n",
        "import seaborn as sns\n",
        "sns.set_style('darkgrid')\n",
        "import matplotlib.pyplot as plt\n",
        "from statsmodels.graphics.gofplots import qqplot\n",
        "import numpy as np\n",
        "import scipy.stats as st\n",
        "from scipy.stats import levene\n",
        "from scipy.stats import mannwhitneyu\n",
        "import plotly\n",
        "import plotly.express as px\n",
        "import plotly.graph_objs as go\n",
        "from plotly.offline import download_plotlyjs, init_notebook_mode, plot, iplot\n",
        "pd.set_option('display.float_format', lambda x: '%.3f' % x)\n",
        "pd.set_option('display.max_columns', 100)\n",
        "import warnings\n",
        "warnings.simplefilter(action='ignore', category=FutureWarning)\n",
        "cm = sns.light_palette(\"brown\", as_cmap=True)"
      ]
    },
    {
      "cell_type": "code",
      "source": [
        "# Чтение файла\n",
        "df = pd.read_csv('https://code.s3.yandex.net/datasets/games.csv')"
      ],
      "metadata": {
        "id": "z-n1jbOHbcI4"
      },
      "execution_count": 2,
      "outputs": []
    },
    {
      "cell_type": "code",
      "source": [
        "df.info()"
      ],
      "metadata": {
        "colab": {
          "base_uri": "https://localhost:8080/"
        },
        "id": "6fpjUiJIbgEs",
        "outputId": "5451bdee-2eba-4831-8c27-b24be65c32a7"
      },
      "execution_count": 3,
      "outputs": [
        {
          "output_type": "stream",
          "name": "stdout",
          "text": [
            "<class 'pandas.core.frame.DataFrame'>\n",
            "RangeIndex: 16715 entries, 0 to 16714\n",
            "Data columns (total 11 columns):\n",
            " #   Column           Non-Null Count  Dtype  \n",
            "---  ------           --------------  -----  \n",
            " 0   Name             16713 non-null  object \n",
            " 1   Platform         16715 non-null  object \n",
            " 2   Year_of_Release  16446 non-null  float64\n",
            " 3   Genre            16713 non-null  object \n",
            " 4   NA_sales         16715 non-null  float64\n",
            " 5   EU_sales         16715 non-null  float64\n",
            " 6   JP_sales         16715 non-null  float64\n",
            " 7   Other_sales      16715 non-null  float64\n",
            " 8   Critic_Score     8137 non-null   float64\n",
            " 9   User_Score       10014 non-null  object \n",
            " 10  Rating           9949 non-null   object \n",
            "dtypes: float64(6), object(5)\n",
            "memory usage: 1.4+ MB\n"
          ]
        }
      ]
    },
    {
      "cell_type": "code",
      "source": [
        "df.head()\n",
        "display(df.sample(5))"
      ],
      "metadata": {
        "colab": {
          "base_uri": "https://localhost:8080/",
          "height": 285
        },
        "id": "X9rrQIZ-bgHb",
        "outputId": "d9ffc03a-3cbe-45bc-be99-75bc12c5fcca"
      },
      "execution_count": 4,
      "outputs": [
        {
          "output_type": "display_data",
          "data": {
            "text/html": [
              "\n",
              "  <div id=\"df-83d19719-9041-41ce-a5cd-99f8b3d9c23c\">\n",
              "    <div class=\"colab-df-container\">\n",
              "      <div>\n",
              "<style scoped>\n",
              "    .dataframe tbody tr th:only-of-type {\n",
              "        vertical-align: middle;\n",
              "    }\n",
              "\n",
              "    .dataframe tbody tr th {\n",
              "        vertical-align: top;\n",
              "    }\n",
              "\n",
              "    .dataframe thead th {\n",
              "        text-align: right;\n",
              "    }\n",
              "</style>\n",
              "<table border=\"1\" class=\"dataframe\">\n",
              "  <thead>\n",
              "    <tr style=\"text-align: right;\">\n",
              "      <th></th>\n",
              "      <th>Name</th>\n",
              "      <th>Platform</th>\n",
              "      <th>Year_of_Release</th>\n",
              "      <th>Genre</th>\n",
              "      <th>NA_sales</th>\n",
              "      <th>EU_sales</th>\n",
              "      <th>JP_sales</th>\n",
              "      <th>Other_sales</th>\n",
              "      <th>Critic_Score</th>\n",
              "      <th>User_Score</th>\n",
              "      <th>Rating</th>\n",
              "    </tr>\n",
              "  </thead>\n",
              "  <tbody>\n",
              "    <tr>\n",
              "      <th>14210</th>\n",
              "      <td>Sabre Wulf</td>\n",
              "      <td>GBA</td>\n",
              "      <td>NaN</td>\n",
              "      <td>Platform</td>\n",
              "      <td>0.020</td>\n",
              "      <td>0.010</td>\n",
              "      <td>0.000</td>\n",
              "      <td>0.000</td>\n",
              "      <td>75.000</td>\n",
              "      <td>8</td>\n",
              "      <td>E</td>\n",
              "    </tr>\n",
              "    <tr>\n",
              "      <th>11517</th>\n",
              "      <td>Kenshuui Tendo Dokuta</td>\n",
              "      <td>DS</td>\n",
              "      <td>2004.000</td>\n",
              "      <td>Simulation</td>\n",
              "      <td>0.000</td>\n",
              "      <td>0.000</td>\n",
              "      <td>0.080</td>\n",
              "      <td>0.000</td>\n",
              "      <td>NaN</td>\n",
              "      <td>NaN</td>\n",
              "      <td>NaN</td>\n",
              "    </tr>\n",
              "    <tr>\n",
              "      <th>12675</th>\n",
              "      <td>Daito Giken Koushiki Pachi-Slot Simulator: Shi...</td>\n",
              "      <td>PS2</td>\n",
              "      <td>2008.000</td>\n",
              "      <td>Misc</td>\n",
              "      <td>0.000</td>\n",
              "      <td>0.000</td>\n",
              "      <td>0.060</td>\n",
              "      <td>0.000</td>\n",
              "      <td>NaN</td>\n",
              "      <td>NaN</td>\n",
              "      <td>NaN</td>\n",
              "    </tr>\n",
              "    <tr>\n",
              "      <th>5963</th>\n",
              "      <td>Jikkyou Powerful Pro Yakyuu 2000 Kaimakuban</td>\n",
              "      <td>PS</td>\n",
              "      <td>2000.000</td>\n",
              "      <td>Sports</td>\n",
              "      <td>0.000</td>\n",
              "      <td>0.000</td>\n",
              "      <td>0.270</td>\n",
              "      <td>0.020</td>\n",
              "      <td>NaN</td>\n",
              "      <td>NaN</td>\n",
              "      <td>NaN</td>\n",
              "    </tr>\n",
              "    <tr>\n",
              "      <th>1996</th>\n",
              "      <td>Sonic the Hedgehog</td>\n",
              "      <td>X360</td>\n",
              "      <td>2006.000</td>\n",
              "      <td>Platform</td>\n",
              "      <td>0.440</td>\n",
              "      <td>0.480</td>\n",
              "      <td>0.000</td>\n",
              "      <td>0.110</td>\n",
              "      <td>46.000</td>\n",
              "      <td>4.4</td>\n",
              "      <td>E10+</td>\n",
              "    </tr>\n",
              "  </tbody>\n",
              "</table>\n",
              "</div>\n",
              "      <button class=\"colab-df-convert\" onclick=\"convertToInteractive('df-83d19719-9041-41ce-a5cd-99f8b3d9c23c')\"\n",
              "              title=\"Convert this dataframe to an interactive table.\"\n",
              "              style=\"display:none;\">\n",
              "        \n",
              "  <svg xmlns=\"http://www.w3.org/2000/svg\" height=\"24px\"viewBox=\"0 0 24 24\"\n",
              "       width=\"24px\">\n",
              "    <path d=\"M0 0h24v24H0V0z\" fill=\"none\"/>\n",
              "    <path d=\"M18.56 5.44l.94 2.06.94-2.06 2.06-.94-2.06-.94-.94-2.06-.94 2.06-2.06.94zm-11 1L8.5 8.5l.94-2.06 2.06-.94-2.06-.94L8.5 2.5l-.94 2.06-2.06.94zm10 10l.94 2.06.94-2.06 2.06-.94-2.06-.94-.94-2.06-.94 2.06-2.06.94z\"/><path d=\"M17.41 7.96l-1.37-1.37c-.4-.4-.92-.59-1.43-.59-.52 0-1.04.2-1.43.59L10.3 9.45l-7.72 7.72c-.78.78-.78 2.05 0 2.83L4 21.41c.39.39.9.59 1.41.59.51 0 1.02-.2 1.41-.59l7.78-7.78 2.81-2.81c.8-.78.8-2.07 0-2.86zM5.41 20L4 18.59l7.72-7.72 1.47 1.35L5.41 20z\"/>\n",
              "  </svg>\n",
              "      </button>\n",
              "      \n",
              "  <style>\n",
              "    .colab-df-container {\n",
              "      display:flex;\n",
              "      flex-wrap:wrap;\n",
              "      gap: 12px;\n",
              "    }\n",
              "\n",
              "    .colab-df-convert {\n",
              "      background-color: #E8F0FE;\n",
              "      border: none;\n",
              "      border-radius: 50%;\n",
              "      cursor: pointer;\n",
              "      display: none;\n",
              "      fill: #1967D2;\n",
              "      height: 32px;\n",
              "      padding: 0 0 0 0;\n",
              "      width: 32px;\n",
              "    }\n",
              "\n",
              "    .colab-df-convert:hover {\n",
              "      background-color: #E2EBFA;\n",
              "      box-shadow: 0px 1px 2px rgba(60, 64, 67, 0.3), 0px 1px 3px 1px rgba(60, 64, 67, 0.15);\n",
              "      fill: #174EA6;\n",
              "    }\n",
              "\n",
              "    [theme=dark] .colab-df-convert {\n",
              "      background-color: #3B4455;\n",
              "      fill: #D2E3FC;\n",
              "    }\n",
              "\n",
              "    [theme=dark] .colab-df-convert:hover {\n",
              "      background-color: #434B5C;\n",
              "      box-shadow: 0px 1px 3px 1px rgba(0, 0, 0, 0.15);\n",
              "      filter: drop-shadow(0px 1px 2px rgba(0, 0, 0, 0.3));\n",
              "      fill: #FFFFFF;\n",
              "    }\n",
              "  </style>\n",
              "\n",
              "      <script>\n",
              "        const buttonEl =\n",
              "          document.querySelector('#df-83d19719-9041-41ce-a5cd-99f8b3d9c23c button.colab-df-convert');\n",
              "        buttonEl.style.display =\n",
              "          google.colab.kernel.accessAllowed ? 'block' : 'none';\n",
              "\n",
              "        async function convertToInteractive(key) {\n",
              "          const element = document.querySelector('#df-83d19719-9041-41ce-a5cd-99f8b3d9c23c');\n",
              "          const dataTable =\n",
              "            await google.colab.kernel.invokeFunction('convertToInteractive',\n",
              "                                                     [key], {});\n",
              "          if (!dataTable) return;\n",
              "\n",
              "          const docLinkHtml = 'Like what you see? Visit the ' +\n",
              "            '<a target=\"_blank\" href=https://colab.research.google.com/notebooks/data_table.ipynb>data table notebook</a>'\n",
              "            + ' to learn more about interactive tables.';\n",
              "          element.innerHTML = '';\n",
              "          dataTable['output_type'] = 'display_data';\n",
              "          await google.colab.output.renderOutput(dataTable, element);\n",
              "          const docLink = document.createElement('div');\n",
              "          docLink.innerHTML = docLinkHtml;\n",
              "          element.appendChild(docLink);\n",
              "        }\n",
              "      </script>\n",
              "    </div>\n",
              "  </div>\n",
              "  "
            ],
            "text/plain": [
              "                                                    Name Platform  \\\n",
              "14210                                         Sabre Wulf      GBA   \n",
              "11517                              Kenshuui Tendo Dokuta       DS   \n",
              "12675  Daito Giken Koushiki Pachi-Slot Simulator: Shi...      PS2   \n",
              "5963         Jikkyou Powerful Pro Yakyuu 2000 Kaimakuban       PS   \n",
              "1996                                  Sonic the Hedgehog     X360   \n",
              "\n",
              "       Year_of_Release       Genre  NA_sales  EU_sales  JP_sales  Other_sales  \\\n",
              "14210              NaN    Platform     0.020     0.010     0.000        0.000   \n",
              "11517         2004.000  Simulation     0.000     0.000     0.080        0.000   \n",
              "12675         2008.000        Misc     0.000     0.000     0.060        0.000   \n",
              "5963          2000.000      Sports     0.000     0.000     0.270        0.020   \n",
              "1996          2006.000    Platform     0.440     0.480     0.000        0.110   \n",
              "\n",
              "       Critic_Score User_Score Rating  \n",
              "14210        75.000          8      E  \n",
              "11517           NaN        NaN    NaN  \n",
              "12675           NaN        NaN    NaN  \n",
              "5963            NaN        NaN    NaN  \n",
              "1996         46.000        4.4   E10+  "
            ]
          },
          "metadata": {}
        }
      ]
    },
    {
      "cell_type": "markdown",
      "source": [
        "Есть пропуски в столбцах с наименованием,годом релиза, оценкой критиков, оценкой пользователей, рейтингом. У года релиза тип данных float, в пользовательском рейтинге встречается аббривеатура tbd"
      ],
      "metadata": {
        "id": "qHFNMO5Gbzi0"
      }
    },
    {
      "cell_type": "code",
      "source": [
        "pd.DataFrame(round((df.isna().mean()*100),2)).style.background_gradient('coolwarm')"
      ],
      "metadata": {
        "colab": {
          "base_uri": "https://localhost:8080/",
          "height": 394
        },
        "id": "pwvn4C4IbgOI",
        "outputId": "e33a5e6f-3234-42d4-a122-82ba8ff3c3e6"
      },
      "execution_count": 5,
      "outputs": [
        {
          "output_type": "execute_result",
          "data": {
            "text/html": [
              "<style type=\"text/css\">\n",
              "#T_ff135_row0_col0, #T_ff135_row1_col0, #T_ff135_row3_col0, #T_ff135_row4_col0, #T_ff135_row5_col0, #T_ff135_row6_col0, #T_ff135_row7_col0 {\n",
              "  background-color: #3b4cc0;\n",
              "  color: #f1f1f1;\n",
              "}\n",
              "#T_ff135_row2_col0 {\n",
              "  background-color: #445acc;\n",
              "  color: #f1f1f1;\n",
              "}\n",
              "#T_ff135_row8_col0 {\n",
              "  background-color: #b40426;\n",
              "  color: #f1f1f1;\n",
              "}\n",
              "#T_ff135_row9_col0 {\n",
              "  background-color: #f18d6f;\n",
              "  color: #f1f1f1;\n",
              "}\n",
              "#T_ff135_row10_col0 {\n",
              "  background-color: #f08a6c;\n",
              "  color: #f1f1f1;\n",
              "}\n",
              "</style>\n",
              "<table id=\"T_ff135_\" class=\"dataframe\">\n",
              "  <thead>\n",
              "    <tr>\n",
              "      <th class=\"blank level0\" >&nbsp;</th>\n",
              "      <th class=\"col_heading level0 col0\" >0</th>\n",
              "    </tr>\n",
              "  </thead>\n",
              "  <tbody>\n",
              "    <tr>\n",
              "      <th id=\"T_ff135_level0_row0\" class=\"row_heading level0 row0\" >Name</th>\n",
              "      <td id=\"T_ff135_row0_col0\" class=\"data row0 col0\" >0.010000</td>\n",
              "    </tr>\n",
              "    <tr>\n",
              "      <th id=\"T_ff135_level0_row1\" class=\"row_heading level0 row1\" >Platform</th>\n",
              "      <td id=\"T_ff135_row1_col0\" class=\"data row1 col0\" >0.000000</td>\n",
              "    </tr>\n",
              "    <tr>\n",
              "      <th id=\"T_ff135_level0_row2\" class=\"row_heading level0 row2\" >Year_of_Release</th>\n",
              "      <td id=\"T_ff135_row2_col0\" class=\"data row2 col0\" >1.610000</td>\n",
              "    </tr>\n",
              "    <tr>\n",
              "      <th id=\"T_ff135_level0_row3\" class=\"row_heading level0 row3\" >Genre</th>\n",
              "      <td id=\"T_ff135_row3_col0\" class=\"data row3 col0\" >0.010000</td>\n",
              "    </tr>\n",
              "    <tr>\n",
              "      <th id=\"T_ff135_level0_row4\" class=\"row_heading level0 row4\" >NA_sales</th>\n",
              "      <td id=\"T_ff135_row4_col0\" class=\"data row4 col0\" >0.000000</td>\n",
              "    </tr>\n",
              "    <tr>\n",
              "      <th id=\"T_ff135_level0_row5\" class=\"row_heading level0 row5\" >EU_sales</th>\n",
              "      <td id=\"T_ff135_row5_col0\" class=\"data row5 col0\" >0.000000</td>\n",
              "    </tr>\n",
              "    <tr>\n",
              "      <th id=\"T_ff135_level0_row6\" class=\"row_heading level0 row6\" >JP_sales</th>\n",
              "      <td id=\"T_ff135_row6_col0\" class=\"data row6 col0\" >0.000000</td>\n",
              "    </tr>\n",
              "    <tr>\n",
              "      <th id=\"T_ff135_level0_row7\" class=\"row_heading level0 row7\" >Other_sales</th>\n",
              "      <td id=\"T_ff135_row7_col0\" class=\"data row7 col0\" >0.000000</td>\n",
              "    </tr>\n",
              "    <tr>\n",
              "      <th id=\"T_ff135_level0_row8\" class=\"row_heading level0 row8\" >Critic_Score</th>\n",
              "      <td id=\"T_ff135_row8_col0\" class=\"data row8 col0\" >51.320000</td>\n",
              "    </tr>\n",
              "    <tr>\n",
              "      <th id=\"T_ff135_level0_row9\" class=\"row_heading level0 row9\" >User_Score</th>\n",
              "      <td id=\"T_ff135_row9_col0\" class=\"data row9 col0\" >40.090000</td>\n",
              "    </tr>\n",
              "    <tr>\n",
              "      <th id=\"T_ff135_level0_row10\" class=\"row_heading level0 row10\" >Rating</th>\n",
              "      <td id=\"T_ff135_row10_col0\" class=\"data row10 col0\" >40.480000</td>\n",
              "    </tr>\n",
              "  </tbody>\n",
              "</table>\n"
            ],
            "text/plain": [
              "<pandas.io.formats.style.Styler at 0x7f4e92deb050>"
            ]
          },
          "metadata": {},
          "execution_count": 5
        }
      ]
    },
    {
      "cell_type": "markdown",
      "source": [
        "% пропусков в наименовании, годе релиза и жанре - незначителен, можно такие строки удалить."
      ],
      "metadata": {
        "id": "TKozYH4rdIaf"
      }
    },
    {
      "cell_type": "code",
      "source": [
        "# Вывод описания колличественных признаков\n",
        "df.describe()"
      ],
      "metadata": {
        "colab": {
          "base_uri": "https://localhost:8080/",
          "height": 300
        },
        "id": "YfTNzYTWbgRA",
        "outputId": "5cc3c2b2-b323-48cd-fdaa-0df7f573e163"
      },
      "execution_count": 6,
      "outputs": [
        {
          "output_type": "execute_result",
          "data": {
            "text/html": [
              "\n",
              "  <div id=\"df-6d4f7ede-aa28-4ce9-b994-3769df6c20e7\">\n",
              "    <div class=\"colab-df-container\">\n",
              "      <div>\n",
              "<style scoped>\n",
              "    .dataframe tbody tr th:only-of-type {\n",
              "        vertical-align: middle;\n",
              "    }\n",
              "\n",
              "    .dataframe tbody tr th {\n",
              "        vertical-align: top;\n",
              "    }\n",
              "\n",
              "    .dataframe thead th {\n",
              "        text-align: right;\n",
              "    }\n",
              "</style>\n",
              "<table border=\"1\" class=\"dataframe\">\n",
              "  <thead>\n",
              "    <tr style=\"text-align: right;\">\n",
              "      <th></th>\n",
              "      <th>Year_of_Release</th>\n",
              "      <th>NA_sales</th>\n",
              "      <th>EU_sales</th>\n",
              "      <th>JP_sales</th>\n",
              "      <th>Other_sales</th>\n",
              "      <th>Critic_Score</th>\n",
              "    </tr>\n",
              "  </thead>\n",
              "  <tbody>\n",
              "    <tr>\n",
              "      <th>count</th>\n",
              "      <td>16446.000</td>\n",
              "      <td>16715.000</td>\n",
              "      <td>16715.000</td>\n",
              "      <td>16715.000</td>\n",
              "      <td>16715.000</td>\n",
              "      <td>8137.000</td>\n",
              "    </tr>\n",
              "    <tr>\n",
              "      <th>mean</th>\n",
              "      <td>2006.485</td>\n",
              "      <td>0.263</td>\n",
              "      <td>0.145</td>\n",
              "      <td>0.078</td>\n",
              "      <td>0.047</td>\n",
              "      <td>68.968</td>\n",
              "    </tr>\n",
              "    <tr>\n",
              "      <th>std</th>\n",
              "      <td>5.877</td>\n",
              "      <td>0.814</td>\n",
              "      <td>0.503</td>\n",
              "      <td>0.309</td>\n",
              "      <td>0.187</td>\n",
              "      <td>13.938</td>\n",
              "    </tr>\n",
              "    <tr>\n",
              "      <th>min</th>\n",
              "      <td>1980.000</td>\n",
              "      <td>0.000</td>\n",
              "      <td>0.000</td>\n",
              "      <td>0.000</td>\n",
              "      <td>0.000</td>\n",
              "      <td>13.000</td>\n",
              "    </tr>\n",
              "    <tr>\n",
              "      <th>25%</th>\n",
              "      <td>2003.000</td>\n",
              "      <td>0.000</td>\n",
              "      <td>0.000</td>\n",
              "      <td>0.000</td>\n",
              "      <td>0.000</td>\n",
              "      <td>60.000</td>\n",
              "    </tr>\n",
              "    <tr>\n",
              "      <th>50%</th>\n",
              "      <td>2007.000</td>\n",
              "      <td>0.080</td>\n",
              "      <td>0.020</td>\n",
              "      <td>0.000</td>\n",
              "      <td>0.010</td>\n",
              "      <td>71.000</td>\n",
              "    </tr>\n",
              "    <tr>\n",
              "      <th>75%</th>\n",
              "      <td>2010.000</td>\n",
              "      <td>0.240</td>\n",
              "      <td>0.110</td>\n",
              "      <td>0.040</td>\n",
              "      <td>0.030</td>\n",
              "      <td>79.000</td>\n",
              "    </tr>\n",
              "    <tr>\n",
              "      <th>max</th>\n",
              "      <td>2016.000</td>\n",
              "      <td>41.360</td>\n",
              "      <td>28.960</td>\n",
              "      <td>10.220</td>\n",
              "      <td>10.570</td>\n",
              "      <td>98.000</td>\n",
              "    </tr>\n",
              "  </tbody>\n",
              "</table>\n",
              "</div>\n",
              "      <button class=\"colab-df-convert\" onclick=\"convertToInteractive('df-6d4f7ede-aa28-4ce9-b994-3769df6c20e7')\"\n",
              "              title=\"Convert this dataframe to an interactive table.\"\n",
              "              style=\"display:none;\">\n",
              "        \n",
              "  <svg xmlns=\"http://www.w3.org/2000/svg\" height=\"24px\"viewBox=\"0 0 24 24\"\n",
              "       width=\"24px\">\n",
              "    <path d=\"M0 0h24v24H0V0z\" fill=\"none\"/>\n",
              "    <path d=\"M18.56 5.44l.94 2.06.94-2.06 2.06-.94-2.06-.94-.94-2.06-.94 2.06-2.06.94zm-11 1L8.5 8.5l.94-2.06 2.06-.94-2.06-.94L8.5 2.5l-.94 2.06-2.06.94zm10 10l.94 2.06.94-2.06 2.06-.94-2.06-.94-.94-2.06-.94 2.06-2.06.94z\"/><path d=\"M17.41 7.96l-1.37-1.37c-.4-.4-.92-.59-1.43-.59-.52 0-1.04.2-1.43.59L10.3 9.45l-7.72 7.72c-.78.78-.78 2.05 0 2.83L4 21.41c.39.39.9.59 1.41.59.51 0 1.02-.2 1.41-.59l7.78-7.78 2.81-2.81c.8-.78.8-2.07 0-2.86zM5.41 20L4 18.59l7.72-7.72 1.47 1.35L5.41 20z\"/>\n",
              "  </svg>\n",
              "      </button>\n",
              "      \n",
              "  <style>\n",
              "    .colab-df-container {\n",
              "      display:flex;\n",
              "      flex-wrap:wrap;\n",
              "      gap: 12px;\n",
              "    }\n",
              "\n",
              "    .colab-df-convert {\n",
              "      background-color: #E8F0FE;\n",
              "      border: none;\n",
              "      border-radius: 50%;\n",
              "      cursor: pointer;\n",
              "      display: none;\n",
              "      fill: #1967D2;\n",
              "      height: 32px;\n",
              "      padding: 0 0 0 0;\n",
              "      width: 32px;\n",
              "    }\n",
              "\n",
              "    .colab-df-convert:hover {\n",
              "      background-color: #E2EBFA;\n",
              "      box-shadow: 0px 1px 2px rgba(60, 64, 67, 0.3), 0px 1px 3px 1px rgba(60, 64, 67, 0.15);\n",
              "      fill: #174EA6;\n",
              "    }\n",
              "\n",
              "    [theme=dark] .colab-df-convert {\n",
              "      background-color: #3B4455;\n",
              "      fill: #D2E3FC;\n",
              "    }\n",
              "\n",
              "    [theme=dark] .colab-df-convert:hover {\n",
              "      background-color: #434B5C;\n",
              "      box-shadow: 0px 1px 3px 1px rgba(0, 0, 0, 0.15);\n",
              "      filter: drop-shadow(0px 1px 2px rgba(0, 0, 0, 0.3));\n",
              "      fill: #FFFFFF;\n",
              "    }\n",
              "  </style>\n",
              "\n",
              "      <script>\n",
              "        const buttonEl =\n",
              "          document.querySelector('#df-6d4f7ede-aa28-4ce9-b994-3769df6c20e7 button.colab-df-convert');\n",
              "        buttonEl.style.display =\n",
              "          google.colab.kernel.accessAllowed ? 'block' : 'none';\n",
              "\n",
              "        async function convertToInteractive(key) {\n",
              "          const element = document.querySelector('#df-6d4f7ede-aa28-4ce9-b994-3769df6c20e7');\n",
              "          const dataTable =\n",
              "            await google.colab.kernel.invokeFunction('convertToInteractive',\n",
              "                                                     [key], {});\n",
              "          if (!dataTable) return;\n",
              "\n",
              "          const docLinkHtml = 'Like what you see? Visit the ' +\n",
              "            '<a target=\"_blank\" href=https://colab.research.google.com/notebooks/data_table.ipynb>data table notebook</a>'\n",
              "            + ' to learn more about interactive tables.';\n",
              "          element.innerHTML = '';\n",
              "          dataTable['output_type'] = 'display_data';\n",
              "          await google.colab.output.renderOutput(dataTable, element);\n",
              "          const docLink = document.createElement('div');\n",
              "          docLink.innerHTML = docLinkHtml;\n",
              "          element.appendChild(docLink);\n",
              "        }\n",
              "      </script>\n",
              "    </div>\n",
              "  </div>\n",
              "  "
            ],
            "text/plain": [
              "       Year_of_Release  NA_sales  EU_sales  JP_sales  Other_sales  \\\n",
              "count        16446.000 16715.000 16715.000 16715.000    16715.000   \n",
              "mean          2006.485     0.263     0.145     0.078        0.047   \n",
              "std              5.877     0.814     0.503     0.309        0.187   \n",
              "min           1980.000     0.000     0.000     0.000        0.000   \n",
              "25%           2003.000     0.000     0.000     0.000        0.000   \n",
              "50%           2007.000     0.080     0.020     0.000        0.010   \n",
              "75%           2010.000     0.240     0.110     0.040        0.030   \n",
              "max           2016.000    41.360    28.960    10.220       10.570   \n",
              "\n",
              "       Critic_Score  \n",
              "count      8137.000  \n",
              "mean         68.968  \n",
              "std          13.938  \n",
              "min          13.000  \n",
              "25%          60.000  \n",
              "50%          71.000  \n",
              "75%          79.000  \n",
              "max          98.000  "
            ]
          },
          "metadata": {},
          "execution_count": 6
        }
      ]
    },
    {
      "cell_type": "code",
      "source": [
        "# Вывод описания категориальных признаков\n",
        "df.describe(include=[object])"
      ],
      "metadata": {
        "colab": {
          "base_uri": "https://localhost:8080/",
          "height": 174
        },
        "id": "1UTtsF4KbgT8",
        "outputId": "214faade-797f-4cba-f922-2afccdff13c4"
      },
      "execution_count": 7,
      "outputs": [
        {
          "output_type": "execute_result",
          "data": {
            "text/html": [
              "\n",
              "  <div id=\"df-e0d1300c-a9dc-48d8-b061-83a7d1336afd\">\n",
              "    <div class=\"colab-df-container\">\n",
              "      <div>\n",
              "<style scoped>\n",
              "    .dataframe tbody tr th:only-of-type {\n",
              "        vertical-align: middle;\n",
              "    }\n",
              "\n",
              "    .dataframe tbody tr th {\n",
              "        vertical-align: top;\n",
              "    }\n",
              "\n",
              "    .dataframe thead th {\n",
              "        text-align: right;\n",
              "    }\n",
              "</style>\n",
              "<table border=\"1\" class=\"dataframe\">\n",
              "  <thead>\n",
              "    <tr style=\"text-align: right;\">\n",
              "      <th></th>\n",
              "      <th>Name</th>\n",
              "      <th>Platform</th>\n",
              "      <th>Genre</th>\n",
              "      <th>User_Score</th>\n",
              "      <th>Rating</th>\n",
              "    </tr>\n",
              "  </thead>\n",
              "  <tbody>\n",
              "    <tr>\n",
              "      <th>count</th>\n",
              "      <td>16713</td>\n",
              "      <td>16715</td>\n",
              "      <td>16713</td>\n",
              "      <td>10014</td>\n",
              "      <td>9949</td>\n",
              "    </tr>\n",
              "    <tr>\n",
              "      <th>unique</th>\n",
              "      <td>11559</td>\n",
              "      <td>31</td>\n",
              "      <td>12</td>\n",
              "      <td>96</td>\n",
              "      <td>8</td>\n",
              "    </tr>\n",
              "    <tr>\n",
              "      <th>top</th>\n",
              "      <td>Need for Speed: Most Wanted</td>\n",
              "      <td>PS2</td>\n",
              "      <td>Action</td>\n",
              "      <td>tbd</td>\n",
              "      <td>E</td>\n",
              "    </tr>\n",
              "    <tr>\n",
              "      <th>freq</th>\n",
              "      <td>12</td>\n",
              "      <td>2161</td>\n",
              "      <td>3369</td>\n",
              "      <td>2424</td>\n",
              "      <td>3990</td>\n",
              "    </tr>\n",
              "  </tbody>\n",
              "</table>\n",
              "</div>\n",
              "      <button class=\"colab-df-convert\" onclick=\"convertToInteractive('df-e0d1300c-a9dc-48d8-b061-83a7d1336afd')\"\n",
              "              title=\"Convert this dataframe to an interactive table.\"\n",
              "              style=\"display:none;\">\n",
              "        \n",
              "  <svg xmlns=\"http://www.w3.org/2000/svg\" height=\"24px\"viewBox=\"0 0 24 24\"\n",
              "       width=\"24px\">\n",
              "    <path d=\"M0 0h24v24H0V0z\" fill=\"none\"/>\n",
              "    <path d=\"M18.56 5.44l.94 2.06.94-2.06 2.06-.94-2.06-.94-.94-2.06-.94 2.06-2.06.94zm-11 1L8.5 8.5l.94-2.06 2.06-.94-2.06-.94L8.5 2.5l-.94 2.06-2.06.94zm10 10l.94 2.06.94-2.06 2.06-.94-2.06-.94-.94-2.06-.94 2.06-2.06.94z\"/><path d=\"M17.41 7.96l-1.37-1.37c-.4-.4-.92-.59-1.43-.59-.52 0-1.04.2-1.43.59L10.3 9.45l-7.72 7.72c-.78.78-.78 2.05 0 2.83L4 21.41c.39.39.9.59 1.41.59.51 0 1.02-.2 1.41-.59l7.78-7.78 2.81-2.81c.8-.78.8-2.07 0-2.86zM5.41 20L4 18.59l7.72-7.72 1.47 1.35L5.41 20z\"/>\n",
              "  </svg>\n",
              "      </button>\n",
              "      \n",
              "  <style>\n",
              "    .colab-df-container {\n",
              "      display:flex;\n",
              "      flex-wrap:wrap;\n",
              "      gap: 12px;\n",
              "    }\n",
              "\n",
              "    .colab-df-convert {\n",
              "      background-color: #E8F0FE;\n",
              "      border: none;\n",
              "      border-radius: 50%;\n",
              "      cursor: pointer;\n",
              "      display: none;\n",
              "      fill: #1967D2;\n",
              "      height: 32px;\n",
              "      padding: 0 0 0 0;\n",
              "      width: 32px;\n",
              "    }\n",
              "\n",
              "    .colab-df-convert:hover {\n",
              "      background-color: #E2EBFA;\n",
              "      box-shadow: 0px 1px 2px rgba(60, 64, 67, 0.3), 0px 1px 3px 1px rgba(60, 64, 67, 0.15);\n",
              "      fill: #174EA6;\n",
              "    }\n",
              "\n",
              "    [theme=dark] .colab-df-convert {\n",
              "      background-color: #3B4455;\n",
              "      fill: #D2E3FC;\n",
              "    }\n",
              "\n",
              "    [theme=dark] .colab-df-convert:hover {\n",
              "      background-color: #434B5C;\n",
              "      box-shadow: 0px 1px 3px 1px rgba(0, 0, 0, 0.15);\n",
              "      filter: drop-shadow(0px 1px 2px rgba(0, 0, 0, 0.3));\n",
              "      fill: #FFFFFF;\n",
              "    }\n",
              "  </style>\n",
              "\n",
              "      <script>\n",
              "        const buttonEl =\n",
              "          document.querySelector('#df-e0d1300c-a9dc-48d8-b061-83a7d1336afd button.colab-df-convert');\n",
              "        buttonEl.style.display =\n",
              "          google.colab.kernel.accessAllowed ? 'block' : 'none';\n",
              "\n",
              "        async function convertToInteractive(key) {\n",
              "          const element = document.querySelector('#df-e0d1300c-a9dc-48d8-b061-83a7d1336afd');\n",
              "          const dataTable =\n",
              "            await google.colab.kernel.invokeFunction('convertToInteractive',\n",
              "                                                     [key], {});\n",
              "          if (!dataTable) return;\n",
              "\n",
              "          const docLinkHtml = 'Like what you see? Visit the ' +\n",
              "            '<a target=\"_blank\" href=https://colab.research.google.com/notebooks/data_table.ipynb>data table notebook</a>'\n",
              "            + ' to learn more about interactive tables.';\n",
              "          element.innerHTML = '';\n",
              "          dataTable['output_type'] = 'display_data';\n",
              "          await google.colab.output.renderOutput(dataTable, element);\n",
              "          const docLink = document.createElement('div');\n",
              "          docLink.innerHTML = docLinkHtml;\n",
              "          element.appendChild(docLink);\n",
              "        }\n",
              "      </script>\n",
              "    </div>\n",
              "  </div>\n",
              "  "
            ],
            "text/plain": [
              "                               Name Platform   Genre User_Score Rating\n",
              "count                         16713    16715   16713      10014   9949\n",
              "unique                        11559       31      12         96      8\n",
              "top     Need for Speed: Most Wanted      PS2  Action        tbd      E\n",
              "freq                             12     2161    3369       2424   3990"
            ]
          },
          "metadata": {},
          "execution_count": 7
        }
      ]
    },
    {
      "cell_type": "markdown",
      "source": [
        "Мы видим большой % пропусков в оценках критиков и пользователей, рейтинге, есть нулевые значения продаж, самая частотная аббривеатура - tbd в пользовательской оценке, сам столбец с пользовательской оценкой в формате object, а оценка кртиков имеет формат float. Назавания столбцов нужно привести к нижнему регистру для удобства анализа."
      ],
      "metadata": {
        "id": "S_tYMLKndi31"
      }
    },
    {
      "cell_type": "markdown",
      "source": [
        "## Подготовка данных"
      ],
      "metadata": {
        "id": "bDeHpUKGdxoO"
      }
    },
    {
      "cell_type": "markdown",
      "source": [
        "### Приведение названий столбцов к нижнему регистру"
      ],
      "metadata": {
        "id": "7UcS8HZ_d2K0"
      }
    },
    {
      "cell_type": "code",
      "source": [
        "# Нижний регистр для наименований столбцов\n",
        "df.columns = map(str.lower, df.columns)"
      ],
      "metadata": {
        "id": "Ac1VKZBXbgXP"
      },
      "execution_count": 8,
      "outputs": []
    },
    {
      "cell_type": "code",
      "source": [
        "df.sample(1)"
      ],
      "metadata": {
        "colab": {
          "base_uri": "https://localhost:8080/",
          "height": 81
        },
        "id": "Rp128EFhAgcG",
        "outputId": "d68fa54b-ea0d-4214-d363-7c0feef79ff7"
      },
      "execution_count": 9,
      "outputs": [
        {
          "output_type": "execute_result",
          "data": {
            "text/html": [
              "\n",
              "  <div id=\"df-07c35471-77a1-4ac1-b549-e3ec79a502b7\">\n",
              "    <div class=\"colab-df-container\">\n",
              "      <div>\n",
              "<style scoped>\n",
              "    .dataframe tbody tr th:only-of-type {\n",
              "        vertical-align: middle;\n",
              "    }\n",
              "\n",
              "    .dataframe tbody tr th {\n",
              "        vertical-align: top;\n",
              "    }\n",
              "\n",
              "    .dataframe thead th {\n",
              "        text-align: right;\n",
              "    }\n",
              "</style>\n",
              "<table border=\"1\" class=\"dataframe\">\n",
              "  <thead>\n",
              "    <tr style=\"text-align: right;\">\n",
              "      <th></th>\n",
              "      <th>name</th>\n",
              "      <th>platform</th>\n",
              "      <th>year_of_release</th>\n",
              "      <th>genre</th>\n",
              "      <th>na_sales</th>\n",
              "      <th>eu_sales</th>\n",
              "      <th>jp_sales</th>\n",
              "      <th>other_sales</th>\n",
              "      <th>critic_score</th>\n",
              "      <th>user_score</th>\n",
              "      <th>rating</th>\n",
              "    </tr>\n",
              "  </thead>\n",
              "  <tbody>\n",
              "    <tr>\n",
              "      <th>7206</th>\n",
              "      <td>Tales of Graces</td>\n",
              "      <td>Wii</td>\n",
              "      <td>2009.000</td>\n",
              "      <td>Role-Playing</td>\n",
              "      <td>0.000</td>\n",
              "      <td>0.000</td>\n",
              "      <td>0.220</td>\n",
              "      <td>0.000</td>\n",
              "      <td>NaN</td>\n",
              "      <td>NaN</td>\n",
              "      <td>NaN</td>\n",
              "    </tr>\n",
              "  </tbody>\n",
              "</table>\n",
              "</div>\n",
              "      <button class=\"colab-df-convert\" onclick=\"convertToInteractive('df-07c35471-77a1-4ac1-b549-e3ec79a502b7')\"\n",
              "              title=\"Convert this dataframe to an interactive table.\"\n",
              "              style=\"display:none;\">\n",
              "        \n",
              "  <svg xmlns=\"http://www.w3.org/2000/svg\" height=\"24px\"viewBox=\"0 0 24 24\"\n",
              "       width=\"24px\">\n",
              "    <path d=\"M0 0h24v24H0V0z\" fill=\"none\"/>\n",
              "    <path d=\"M18.56 5.44l.94 2.06.94-2.06 2.06-.94-2.06-.94-.94-2.06-.94 2.06-2.06.94zm-11 1L8.5 8.5l.94-2.06 2.06-.94-2.06-.94L8.5 2.5l-.94 2.06-2.06.94zm10 10l.94 2.06.94-2.06 2.06-.94-2.06-.94-.94-2.06-.94 2.06-2.06.94z\"/><path d=\"M17.41 7.96l-1.37-1.37c-.4-.4-.92-.59-1.43-.59-.52 0-1.04.2-1.43.59L10.3 9.45l-7.72 7.72c-.78.78-.78 2.05 0 2.83L4 21.41c.39.39.9.59 1.41.59.51 0 1.02-.2 1.41-.59l7.78-7.78 2.81-2.81c.8-.78.8-2.07 0-2.86zM5.41 20L4 18.59l7.72-7.72 1.47 1.35L5.41 20z\"/>\n",
              "  </svg>\n",
              "      </button>\n",
              "      \n",
              "  <style>\n",
              "    .colab-df-container {\n",
              "      display:flex;\n",
              "      flex-wrap:wrap;\n",
              "      gap: 12px;\n",
              "    }\n",
              "\n",
              "    .colab-df-convert {\n",
              "      background-color: #E8F0FE;\n",
              "      border: none;\n",
              "      border-radius: 50%;\n",
              "      cursor: pointer;\n",
              "      display: none;\n",
              "      fill: #1967D2;\n",
              "      height: 32px;\n",
              "      padding: 0 0 0 0;\n",
              "      width: 32px;\n",
              "    }\n",
              "\n",
              "    .colab-df-convert:hover {\n",
              "      background-color: #E2EBFA;\n",
              "      box-shadow: 0px 1px 2px rgba(60, 64, 67, 0.3), 0px 1px 3px 1px rgba(60, 64, 67, 0.15);\n",
              "      fill: #174EA6;\n",
              "    }\n",
              "\n",
              "    [theme=dark] .colab-df-convert {\n",
              "      background-color: #3B4455;\n",
              "      fill: #D2E3FC;\n",
              "    }\n",
              "\n",
              "    [theme=dark] .colab-df-convert:hover {\n",
              "      background-color: #434B5C;\n",
              "      box-shadow: 0px 1px 3px 1px rgba(0, 0, 0, 0.15);\n",
              "      filter: drop-shadow(0px 1px 2px rgba(0, 0, 0, 0.3));\n",
              "      fill: #FFFFFF;\n",
              "    }\n",
              "  </style>\n",
              "\n",
              "      <script>\n",
              "        const buttonEl =\n",
              "          document.querySelector('#df-07c35471-77a1-4ac1-b549-e3ec79a502b7 button.colab-df-convert');\n",
              "        buttonEl.style.display =\n",
              "          google.colab.kernel.accessAllowed ? 'block' : 'none';\n",
              "\n",
              "        async function convertToInteractive(key) {\n",
              "          const element = document.querySelector('#df-07c35471-77a1-4ac1-b549-e3ec79a502b7');\n",
              "          const dataTable =\n",
              "            await google.colab.kernel.invokeFunction('convertToInteractive',\n",
              "                                                     [key], {});\n",
              "          if (!dataTable) return;\n",
              "\n",
              "          const docLinkHtml = 'Like what you see? Visit the ' +\n",
              "            '<a target=\"_blank\" href=https://colab.research.google.com/notebooks/data_table.ipynb>data table notebook</a>'\n",
              "            + ' to learn more about interactive tables.';\n",
              "          element.innerHTML = '';\n",
              "          dataTable['output_type'] = 'display_data';\n",
              "          await google.colab.output.renderOutput(dataTable, element);\n",
              "          const docLink = document.createElement('div');\n",
              "          docLink.innerHTML = docLinkHtml;\n",
              "          element.appendChild(docLink);\n",
              "        }\n",
              "      </script>\n",
              "    </div>\n",
              "  </div>\n",
              "  "
            ],
            "text/plain": [
              "                 name platform  year_of_release         genre  na_sales  \\\n",
              "7206  Tales of Graces      Wii         2009.000  Role-Playing     0.000   \n",
              "\n",
              "      eu_sales  jp_sales  other_sales  critic_score user_score rating  \n",
              "7206     0.000     0.220        0.000           NaN        NaN    NaN  "
            ]
          },
          "metadata": {},
          "execution_count": 9
        }
      ]
    },
    {
      "cell_type": "code",
      "source": [
        "# Замена типа данных в year_of_release с float на int\n",
        "df['year_of_release'] = df['year_of_release'].astype('Int64')"
      ],
      "metadata": {
        "id": "z9y0otpOBexj"
      },
      "execution_count": 10,
      "outputs": []
    },
    {
      "cell_type": "code",
      "source": [
        "# Обработка значения tbd и изменение типа данных в столбце с оценкой пользователя\n",
        "df['user_score'] = df['user_score'].replace('tbd', 0, regex=True)\n",
        "df['user_score'] = df['user_score'].astype('float64')"
      ],
      "metadata": {
        "id": "uRTZIWdzBllM"
      },
      "execution_count": 11,
      "outputs": []
    },
    {
      "cell_type": "code",
      "source": [
        "df.info()"
      ],
      "metadata": {
        "colab": {
          "base_uri": "https://localhost:8080/"
        },
        "id": "sgWqCv0NBsO7",
        "outputId": "f0f7b40f-dc9b-49d9-c4bf-376b2b9450d7"
      },
      "execution_count": 12,
      "outputs": [
        {
          "output_type": "stream",
          "name": "stdout",
          "text": [
            "<class 'pandas.core.frame.DataFrame'>\n",
            "RangeIndex: 16715 entries, 0 to 16714\n",
            "Data columns (total 11 columns):\n",
            " #   Column           Non-Null Count  Dtype  \n",
            "---  ------           --------------  -----  \n",
            " 0   name             16713 non-null  object \n",
            " 1   platform         16715 non-null  object \n",
            " 2   year_of_release  16446 non-null  Int64  \n",
            " 3   genre            16713 non-null  object \n",
            " 4   na_sales         16715 non-null  float64\n",
            " 5   eu_sales         16715 non-null  float64\n",
            " 6   jp_sales         16715 non-null  float64\n",
            " 7   other_sales      16715 non-null  float64\n",
            " 8   critic_score     8137 non-null   float64\n",
            " 9   user_score       10014 non-null  float64\n",
            " 10  rating           9949 non-null   object \n",
            "dtypes: Int64(1), float64(6), object(4)\n",
            "memory usage: 1.4+ MB\n"
          ]
        }
      ]
    },
    {
      "cell_type": "markdown",
      "source": [
        "<br>Замена типа float на int в годе релиза логически вытекает из значений в годах.\n",
        "<br>Замена типа данных с object на float в столбце с пользовательской оценкой необходима для приведения обоих столбцов с оценками к одному типу, что необходимо для последующего анализа данных. Аббривеатура tbd по открытым источникам расшифровывется в общем смысле как *To Be Determined* или *To Be Decided*. Т.е. в толковании применительно к представленным данным, оценка по играм с таким значением отцуствует либо не определена и будет определена в будущем. Оценка в столбце определена численно, т.е отсуствие оценки возможно заменить на значение 0, как логичное числовое значение отсутствия оценки."
      ],
      "metadata": {
        "id": "ZShkLLaAB0eH"
      }
    },
    {
      "cell_type": "markdown",
      "source": [
        "### Обработка пропусков"
      ],
      "metadata": {
        "id": "tRVC4ykKCA7j"
      }
    },
    {
      "cell_type": "code",
      "source": [
        "# Вывод пропусков в столбце name\n",
        "df.query('name != name')"
      ],
      "metadata": {
        "colab": {
          "base_uri": "https://localhost:8080/",
          "height": 112
        },
        "id": "LgfRjE3XB5nL",
        "outputId": "cf62c749-1d15-4e70-ef6a-c9d7ab89716a"
      },
      "execution_count": 13,
      "outputs": [
        {
          "output_type": "execute_result",
          "data": {
            "text/html": [
              "\n",
              "  <div id=\"df-f4aef4c0-a228-4e5b-9198-1a8899db97d4\">\n",
              "    <div class=\"colab-df-container\">\n",
              "      <div>\n",
              "<style scoped>\n",
              "    .dataframe tbody tr th:only-of-type {\n",
              "        vertical-align: middle;\n",
              "    }\n",
              "\n",
              "    .dataframe tbody tr th {\n",
              "        vertical-align: top;\n",
              "    }\n",
              "\n",
              "    .dataframe thead th {\n",
              "        text-align: right;\n",
              "    }\n",
              "</style>\n",
              "<table border=\"1\" class=\"dataframe\">\n",
              "  <thead>\n",
              "    <tr style=\"text-align: right;\">\n",
              "      <th></th>\n",
              "      <th>name</th>\n",
              "      <th>platform</th>\n",
              "      <th>year_of_release</th>\n",
              "      <th>genre</th>\n",
              "      <th>na_sales</th>\n",
              "      <th>eu_sales</th>\n",
              "      <th>jp_sales</th>\n",
              "      <th>other_sales</th>\n",
              "      <th>critic_score</th>\n",
              "      <th>user_score</th>\n",
              "      <th>rating</th>\n",
              "    </tr>\n",
              "  </thead>\n",
              "  <tbody>\n",
              "    <tr>\n",
              "      <th>659</th>\n",
              "      <td>NaN</td>\n",
              "      <td>GEN</td>\n",
              "      <td>1993</td>\n",
              "      <td>NaN</td>\n",
              "      <td>1.780</td>\n",
              "      <td>0.530</td>\n",
              "      <td>0.000</td>\n",
              "      <td>0.080</td>\n",
              "      <td>NaN</td>\n",
              "      <td>NaN</td>\n",
              "      <td>NaN</td>\n",
              "    </tr>\n",
              "    <tr>\n",
              "      <th>14244</th>\n",
              "      <td>NaN</td>\n",
              "      <td>GEN</td>\n",
              "      <td>1993</td>\n",
              "      <td>NaN</td>\n",
              "      <td>0.000</td>\n",
              "      <td>0.000</td>\n",
              "      <td>0.030</td>\n",
              "      <td>0.000</td>\n",
              "      <td>NaN</td>\n",
              "      <td>NaN</td>\n",
              "      <td>NaN</td>\n",
              "    </tr>\n",
              "  </tbody>\n",
              "</table>\n",
              "</div>\n",
              "      <button class=\"colab-df-convert\" onclick=\"convertToInteractive('df-f4aef4c0-a228-4e5b-9198-1a8899db97d4')\"\n",
              "              title=\"Convert this dataframe to an interactive table.\"\n",
              "              style=\"display:none;\">\n",
              "        \n",
              "  <svg xmlns=\"http://www.w3.org/2000/svg\" height=\"24px\"viewBox=\"0 0 24 24\"\n",
              "       width=\"24px\">\n",
              "    <path d=\"M0 0h24v24H0V0z\" fill=\"none\"/>\n",
              "    <path d=\"M18.56 5.44l.94 2.06.94-2.06 2.06-.94-2.06-.94-.94-2.06-.94 2.06-2.06.94zm-11 1L8.5 8.5l.94-2.06 2.06-.94-2.06-.94L8.5 2.5l-.94 2.06-2.06.94zm10 10l.94 2.06.94-2.06 2.06-.94-2.06-.94-.94-2.06-.94 2.06-2.06.94z\"/><path d=\"M17.41 7.96l-1.37-1.37c-.4-.4-.92-.59-1.43-.59-.52 0-1.04.2-1.43.59L10.3 9.45l-7.72 7.72c-.78.78-.78 2.05 0 2.83L4 21.41c.39.39.9.59 1.41.59.51 0 1.02-.2 1.41-.59l7.78-7.78 2.81-2.81c.8-.78.8-2.07 0-2.86zM5.41 20L4 18.59l7.72-7.72 1.47 1.35L5.41 20z\"/>\n",
              "  </svg>\n",
              "      </button>\n",
              "      \n",
              "  <style>\n",
              "    .colab-df-container {\n",
              "      display:flex;\n",
              "      flex-wrap:wrap;\n",
              "      gap: 12px;\n",
              "    }\n",
              "\n",
              "    .colab-df-convert {\n",
              "      background-color: #E8F0FE;\n",
              "      border: none;\n",
              "      border-radius: 50%;\n",
              "      cursor: pointer;\n",
              "      display: none;\n",
              "      fill: #1967D2;\n",
              "      height: 32px;\n",
              "      padding: 0 0 0 0;\n",
              "      width: 32px;\n",
              "    }\n",
              "\n",
              "    .colab-df-convert:hover {\n",
              "      background-color: #E2EBFA;\n",
              "      box-shadow: 0px 1px 2px rgba(60, 64, 67, 0.3), 0px 1px 3px 1px rgba(60, 64, 67, 0.15);\n",
              "      fill: #174EA6;\n",
              "    }\n",
              "\n",
              "    [theme=dark] .colab-df-convert {\n",
              "      background-color: #3B4455;\n",
              "      fill: #D2E3FC;\n",
              "    }\n",
              "\n",
              "    [theme=dark] .colab-df-convert:hover {\n",
              "      background-color: #434B5C;\n",
              "      box-shadow: 0px 1px 3px 1px rgba(0, 0, 0, 0.15);\n",
              "      filter: drop-shadow(0px 1px 2px rgba(0, 0, 0, 0.3));\n",
              "      fill: #FFFFFF;\n",
              "    }\n",
              "  </style>\n",
              "\n",
              "      <script>\n",
              "        const buttonEl =\n",
              "          document.querySelector('#df-f4aef4c0-a228-4e5b-9198-1a8899db97d4 button.colab-df-convert');\n",
              "        buttonEl.style.display =\n",
              "          google.colab.kernel.accessAllowed ? 'block' : 'none';\n",
              "\n",
              "        async function convertToInteractive(key) {\n",
              "          const element = document.querySelector('#df-f4aef4c0-a228-4e5b-9198-1a8899db97d4');\n",
              "          const dataTable =\n",
              "            await google.colab.kernel.invokeFunction('convertToInteractive',\n",
              "                                                     [key], {});\n",
              "          if (!dataTable) return;\n",
              "\n",
              "          const docLinkHtml = 'Like what you see? Visit the ' +\n",
              "            '<a target=\"_blank\" href=https://colab.research.google.com/notebooks/data_table.ipynb>data table notebook</a>'\n",
              "            + ' to learn more about interactive tables.';\n",
              "          element.innerHTML = '';\n",
              "          dataTable['output_type'] = 'display_data';\n",
              "          await google.colab.output.renderOutput(dataTable, element);\n",
              "          const docLink = document.createElement('div');\n",
              "          docLink.innerHTML = docLinkHtml;\n",
              "          element.appendChild(docLink);\n",
              "        }\n",
              "      </script>\n",
              "    </div>\n",
              "  </div>\n",
              "  "
            ],
            "text/plain": [
              "      name platform  year_of_release genre  na_sales  eu_sales  jp_sales  \\\n",
              "659    NaN      GEN             1993   NaN     1.780     0.530     0.000   \n",
              "14244  NaN      GEN             1993   NaN     0.000     0.000     0.030   \n",
              "\n",
              "       other_sales  critic_score  user_score rating  \n",
              "659          0.080           NaN         NaN    NaN  \n",
              "14244        0.000           NaN         NaN    NaN  "
            ]
          },
          "metadata": {},
          "execution_count": 13
        }
      ]
    },
    {
      "cell_type": "markdown",
      "source": [
        " В столбце year_of_release есть пропуски. Визуально оценим пропуски."
      ],
      "metadata": {
        "id": "WT7EDelQg_2D"
      }
    },
    {
      "cell_type": "code",
      "source": [
        "df.query('name == \"FIFA Soccer 2004\"')"
      ],
      "metadata": {
        "colab": {
          "base_uri": "https://localhost:8080/",
          "height": 174
        },
        "id": "M2bZ8N9qg-_6",
        "outputId": "fd1ef8de-56fc-4bb6-96c3-ee5b580d29a8"
      },
      "execution_count": 14,
      "outputs": [
        {
          "output_type": "execute_result",
          "data": {
            "text/html": [
              "\n",
              "  <div id=\"df-6207d726-c1e7-4aeb-bfa2-64bbb0c4b369\">\n",
              "    <div class=\"colab-df-container\">\n",
              "      <div>\n",
              "<style scoped>\n",
              "    .dataframe tbody tr th:only-of-type {\n",
              "        vertical-align: middle;\n",
              "    }\n",
              "\n",
              "    .dataframe tbody tr th {\n",
              "        vertical-align: top;\n",
              "    }\n",
              "\n",
              "    .dataframe thead th {\n",
              "        text-align: right;\n",
              "    }\n",
              "</style>\n",
              "<table border=\"1\" class=\"dataframe\">\n",
              "  <thead>\n",
              "    <tr style=\"text-align: right;\">\n",
              "      <th></th>\n",
              "      <th>name</th>\n",
              "      <th>platform</th>\n",
              "      <th>year_of_release</th>\n",
              "      <th>genre</th>\n",
              "      <th>na_sales</th>\n",
              "      <th>eu_sales</th>\n",
              "      <th>jp_sales</th>\n",
              "      <th>other_sales</th>\n",
              "      <th>critic_score</th>\n",
              "      <th>user_score</th>\n",
              "      <th>rating</th>\n",
              "    </tr>\n",
              "  </thead>\n",
              "  <tbody>\n",
              "    <tr>\n",
              "      <th>377</th>\n",
              "      <td>FIFA Soccer 2004</td>\n",
              "      <td>PS2</td>\n",
              "      <td>&lt;NA&gt;</td>\n",
              "      <td>Sports</td>\n",
              "      <td>0.590</td>\n",
              "      <td>2.360</td>\n",
              "      <td>0.040</td>\n",
              "      <td>0.510</td>\n",
              "      <td>84.000</td>\n",
              "      <td>6.400</td>\n",
              "      <td>E</td>\n",
              "    </tr>\n",
              "    <tr>\n",
              "      <th>2606</th>\n",
              "      <td>FIFA Soccer 2004</td>\n",
              "      <td>XB</td>\n",
              "      <td>2003</td>\n",
              "      <td>Sports</td>\n",
              "      <td>0.240</td>\n",
              "      <td>0.490</td>\n",
              "      <td>0.000</td>\n",
              "      <td>0.050</td>\n",
              "      <td>82.000</td>\n",
              "      <td>8.200</td>\n",
              "      <td>E</td>\n",
              "    </tr>\n",
              "    <tr>\n",
              "      <th>12029</th>\n",
              "      <td>FIFA Soccer 2004</td>\n",
              "      <td>GC</td>\n",
              "      <td>2003</td>\n",
              "      <td>Sports</td>\n",
              "      <td>0.050</td>\n",
              "      <td>0.010</td>\n",
              "      <td>0.000</td>\n",
              "      <td>0.000</td>\n",
              "      <td>83.000</td>\n",
              "      <td>6.200</td>\n",
              "      <td>E</td>\n",
              "    </tr>\n",
              "    <tr>\n",
              "      <th>13086</th>\n",
              "      <td>FIFA Soccer 2004</td>\n",
              "      <td>GBA</td>\n",
              "      <td>2003</td>\n",
              "      <td>Sports</td>\n",
              "      <td>0.040</td>\n",
              "      <td>0.010</td>\n",
              "      <td>0.000</td>\n",
              "      <td>0.000</td>\n",
              "      <td>82.000</td>\n",
              "      <td>7.900</td>\n",
              "      <td>E</td>\n",
              "    </tr>\n",
              "  </tbody>\n",
              "</table>\n",
              "</div>\n",
              "      <button class=\"colab-df-convert\" onclick=\"convertToInteractive('df-6207d726-c1e7-4aeb-bfa2-64bbb0c4b369')\"\n",
              "              title=\"Convert this dataframe to an interactive table.\"\n",
              "              style=\"display:none;\">\n",
              "        \n",
              "  <svg xmlns=\"http://www.w3.org/2000/svg\" height=\"24px\"viewBox=\"0 0 24 24\"\n",
              "       width=\"24px\">\n",
              "    <path d=\"M0 0h24v24H0V0z\" fill=\"none\"/>\n",
              "    <path d=\"M18.56 5.44l.94 2.06.94-2.06 2.06-.94-2.06-.94-.94-2.06-.94 2.06-2.06.94zm-11 1L8.5 8.5l.94-2.06 2.06-.94-2.06-.94L8.5 2.5l-.94 2.06-2.06.94zm10 10l.94 2.06.94-2.06 2.06-.94-2.06-.94-.94-2.06-.94 2.06-2.06.94z\"/><path d=\"M17.41 7.96l-1.37-1.37c-.4-.4-.92-.59-1.43-.59-.52 0-1.04.2-1.43.59L10.3 9.45l-7.72 7.72c-.78.78-.78 2.05 0 2.83L4 21.41c.39.39.9.59 1.41.59.51 0 1.02-.2 1.41-.59l7.78-7.78 2.81-2.81c.8-.78.8-2.07 0-2.86zM5.41 20L4 18.59l7.72-7.72 1.47 1.35L5.41 20z\"/>\n",
              "  </svg>\n",
              "      </button>\n",
              "      \n",
              "  <style>\n",
              "    .colab-df-container {\n",
              "      display:flex;\n",
              "      flex-wrap:wrap;\n",
              "      gap: 12px;\n",
              "    }\n",
              "\n",
              "    .colab-df-convert {\n",
              "      background-color: #E8F0FE;\n",
              "      border: none;\n",
              "      border-radius: 50%;\n",
              "      cursor: pointer;\n",
              "      display: none;\n",
              "      fill: #1967D2;\n",
              "      height: 32px;\n",
              "      padding: 0 0 0 0;\n",
              "      width: 32px;\n",
              "    }\n",
              "\n",
              "    .colab-df-convert:hover {\n",
              "      background-color: #E2EBFA;\n",
              "      box-shadow: 0px 1px 2px rgba(60, 64, 67, 0.3), 0px 1px 3px 1px rgba(60, 64, 67, 0.15);\n",
              "      fill: #174EA6;\n",
              "    }\n",
              "\n",
              "    [theme=dark] .colab-df-convert {\n",
              "      background-color: #3B4455;\n",
              "      fill: #D2E3FC;\n",
              "    }\n",
              "\n",
              "    [theme=dark] .colab-df-convert:hover {\n",
              "      background-color: #434B5C;\n",
              "      box-shadow: 0px 1px 3px 1px rgba(0, 0, 0, 0.15);\n",
              "      filter: drop-shadow(0px 1px 2px rgba(0, 0, 0, 0.3));\n",
              "      fill: #FFFFFF;\n",
              "    }\n",
              "  </style>\n",
              "\n",
              "      <script>\n",
              "        const buttonEl =\n",
              "          document.querySelector('#df-6207d726-c1e7-4aeb-bfa2-64bbb0c4b369 button.colab-df-convert');\n",
              "        buttonEl.style.display =\n",
              "          google.colab.kernel.accessAllowed ? 'block' : 'none';\n",
              "\n",
              "        async function convertToInteractive(key) {\n",
              "          const element = document.querySelector('#df-6207d726-c1e7-4aeb-bfa2-64bbb0c4b369');\n",
              "          const dataTable =\n",
              "            await google.colab.kernel.invokeFunction('convertToInteractive',\n",
              "                                                     [key], {});\n",
              "          if (!dataTable) return;\n",
              "\n",
              "          const docLinkHtml = 'Like what you see? Visit the ' +\n",
              "            '<a target=\"_blank\" href=https://colab.research.google.com/notebooks/data_table.ipynb>data table notebook</a>'\n",
              "            + ' to learn more about interactive tables.';\n",
              "          element.innerHTML = '';\n",
              "          dataTable['output_type'] = 'display_data';\n",
              "          await google.colab.output.renderOutput(dataTable, element);\n",
              "          const docLink = document.createElement('div');\n",
              "          docLink.innerHTML = docLinkHtml;\n",
              "          element.appendChild(docLink);\n",
              "        }\n",
              "      </script>\n",
              "    </div>\n",
              "  </div>\n",
              "  "
            ],
            "text/plain": [
              "                   name platform  year_of_release   genre  na_sales  eu_sales  \\\n",
              "377    FIFA Soccer 2004      PS2             <NA>  Sports     0.590     2.360   \n",
              "2606   FIFA Soccer 2004       XB             2003  Sports     0.240     0.490   \n",
              "12029  FIFA Soccer 2004       GC             2003  Sports     0.050     0.010   \n",
              "13086  FIFA Soccer 2004      GBA             2003  Sports     0.040     0.010   \n",
              "\n",
              "       jp_sales  other_sales  critic_score  user_score rating  \n",
              "377       0.040        0.510        84.000       6.400      E  \n",
              "2606      0.000        0.050        82.000       8.200      E  \n",
              "12029     0.000        0.000        83.000       6.200      E  \n",
              "13086     0.000        0.000        82.000       7.900      E  "
            ]
          },
          "metadata": {},
          "execution_count": 14
        }
      ]
    },
    {
      "cell_type": "markdown",
      "source": [
        "Мы видим, что пропуски можно заменить на год выпуска той же игры вышедшей на другой платформе. Напишем функцию заменяющую данные пропуски."
      ],
      "metadata": {
        "id": "LMNhOBfFhQbg"
      }
    },
    {
      "cell_type": "code",
      "source": [
        "def not_nan(df, value, category):\n",
        "    for type_unique in df[category].unique():\n",
        "        df.loc[(df[value].isna())&(df[category] ==type_unique), value] = \\\n",
        "        df.loc[df[category] ==type_unique, value].max()\n",
        "    return df"
      ],
      "metadata": {
        "id": "xQwi5QNzg_Du"
      },
      "execution_count": 15,
      "outputs": []
    },
    {
      "cell_type": "code",
      "source": [
        "not_nan(df, 'year_of_release', 'name')"
      ],
      "metadata": {
        "colab": {
          "base_uri": "https://localhost:8080/",
          "height": 502
        },
        "id": "Qm7KqXB8g_Hq",
        "outputId": "ce888652-0223-42b8-a071-bbd44a7d21fd"
      },
      "execution_count": 16,
      "outputs": [
        {
          "output_type": "execute_result",
          "data": {
            "text/html": [
              "\n",
              "  <div id=\"df-cd99c720-2f97-4ac8-969c-d8a2d7c65b67\">\n",
              "    <div class=\"colab-df-container\">\n",
              "      <div>\n",
              "<style scoped>\n",
              "    .dataframe tbody tr th:only-of-type {\n",
              "        vertical-align: middle;\n",
              "    }\n",
              "\n",
              "    .dataframe tbody tr th {\n",
              "        vertical-align: top;\n",
              "    }\n",
              "\n",
              "    .dataframe thead th {\n",
              "        text-align: right;\n",
              "    }\n",
              "</style>\n",
              "<table border=\"1\" class=\"dataframe\">\n",
              "  <thead>\n",
              "    <tr style=\"text-align: right;\">\n",
              "      <th></th>\n",
              "      <th>name</th>\n",
              "      <th>platform</th>\n",
              "      <th>year_of_release</th>\n",
              "      <th>genre</th>\n",
              "      <th>na_sales</th>\n",
              "      <th>eu_sales</th>\n",
              "      <th>jp_sales</th>\n",
              "      <th>other_sales</th>\n",
              "      <th>critic_score</th>\n",
              "      <th>user_score</th>\n",
              "      <th>rating</th>\n",
              "    </tr>\n",
              "  </thead>\n",
              "  <tbody>\n",
              "    <tr>\n",
              "      <th>0</th>\n",
              "      <td>Wii Sports</td>\n",
              "      <td>Wii</td>\n",
              "      <td>2006</td>\n",
              "      <td>Sports</td>\n",
              "      <td>41.360</td>\n",
              "      <td>28.960</td>\n",
              "      <td>3.770</td>\n",
              "      <td>8.450</td>\n",
              "      <td>76.000</td>\n",
              "      <td>8.000</td>\n",
              "      <td>E</td>\n",
              "    </tr>\n",
              "    <tr>\n",
              "      <th>1</th>\n",
              "      <td>Super Mario Bros.</td>\n",
              "      <td>NES</td>\n",
              "      <td>1985</td>\n",
              "      <td>Platform</td>\n",
              "      <td>29.080</td>\n",
              "      <td>3.580</td>\n",
              "      <td>6.810</td>\n",
              "      <td>0.770</td>\n",
              "      <td>NaN</td>\n",
              "      <td>NaN</td>\n",
              "      <td>NaN</td>\n",
              "    </tr>\n",
              "    <tr>\n",
              "      <th>2</th>\n",
              "      <td>Mario Kart Wii</td>\n",
              "      <td>Wii</td>\n",
              "      <td>2008</td>\n",
              "      <td>Racing</td>\n",
              "      <td>15.680</td>\n",
              "      <td>12.760</td>\n",
              "      <td>3.790</td>\n",
              "      <td>3.290</td>\n",
              "      <td>82.000</td>\n",
              "      <td>8.300</td>\n",
              "      <td>E</td>\n",
              "    </tr>\n",
              "    <tr>\n",
              "      <th>3</th>\n",
              "      <td>Wii Sports Resort</td>\n",
              "      <td>Wii</td>\n",
              "      <td>2009</td>\n",
              "      <td>Sports</td>\n",
              "      <td>15.610</td>\n",
              "      <td>10.930</td>\n",
              "      <td>3.280</td>\n",
              "      <td>2.950</td>\n",
              "      <td>80.000</td>\n",
              "      <td>8.000</td>\n",
              "      <td>E</td>\n",
              "    </tr>\n",
              "    <tr>\n",
              "      <th>4</th>\n",
              "      <td>Pokemon Red/Pokemon Blue</td>\n",
              "      <td>GB</td>\n",
              "      <td>1996</td>\n",
              "      <td>Role-Playing</td>\n",
              "      <td>11.270</td>\n",
              "      <td>8.890</td>\n",
              "      <td>10.220</td>\n",
              "      <td>1.000</td>\n",
              "      <td>NaN</td>\n",
              "      <td>NaN</td>\n",
              "      <td>NaN</td>\n",
              "    </tr>\n",
              "    <tr>\n",
              "      <th>...</th>\n",
              "      <td>...</td>\n",
              "      <td>...</td>\n",
              "      <td>...</td>\n",
              "      <td>...</td>\n",
              "      <td>...</td>\n",
              "      <td>...</td>\n",
              "      <td>...</td>\n",
              "      <td>...</td>\n",
              "      <td>...</td>\n",
              "      <td>...</td>\n",
              "      <td>...</td>\n",
              "    </tr>\n",
              "    <tr>\n",
              "      <th>16710</th>\n",
              "      <td>Samurai Warriors: Sanada Maru</td>\n",
              "      <td>PS3</td>\n",
              "      <td>2016</td>\n",
              "      <td>Action</td>\n",
              "      <td>0.000</td>\n",
              "      <td>0.000</td>\n",
              "      <td>0.010</td>\n",
              "      <td>0.000</td>\n",
              "      <td>NaN</td>\n",
              "      <td>NaN</td>\n",
              "      <td>NaN</td>\n",
              "    </tr>\n",
              "    <tr>\n",
              "      <th>16711</th>\n",
              "      <td>LMA Manager 2007</td>\n",
              "      <td>X360</td>\n",
              "      <td>2006</td>\n",
              "      <td>Sports</td>\n",
              "      <td>0.000</td>\n",
              "      <td>0.010</td>\n",
              "      <td>0.000</td>\n",
              "      <td>0.000</td>\n",
              "      <td>NaN</td>\n",
              "      <td>NaN</td>\n",
              "      <td>NaN</td>\n",
              "    </tr>\n",
              "    <tr>\n",
              "      <th>16712</th>\n",
              "      <td>Haitaka no Psychedelica</td>\n",
              "      <td>PSV</td>\n",
              "      <td>2016</td>\n",
              "      <td>Adventure</td>\n",
              "      <td>0.000</td>\n",
              "      <td>0.000</td>\n",
              "      <td>0.010</td>\n",
              "      <td>0.000</td>\n",
              "      <td>NaN</td>\n",
              "      <td>NaN</td>\n",
              "      <td>NaN</td>\n",
              "    </tr>\n",
              "    <tr>\n",
              "      <th>16713</th>\n",
              "      <td>Spirits &amp; Spells</td>\n",
              "      <td>GBA</td>\n",
              "      <td>2003</td>\n",
              "      <td>Platform</td>\n",
              "      <td>0.010</td>\n",
              "      <td>0.000</td>\n",
              "      <td>0.000</td>\n",
              "      <td>0.000</td>\n",
              "      <td>NaN</td>\n",
              "      <td>NaN</td>\n",
              "      <td>NaN</td>\n",
              "    </tr>\n",
              "    <tr>\n",
              "      <th>16714</th>\n",
              "      <td>Winning Post 8 2016</td>\n",
              "      <td>PSV</td>\n",
              "      <td>2016</td>\n",
              "      <td>Simulation</td>\n",
              "      <td>0.000</td>\n",
              "      <td>0.000</td>\n",
              "      <td>0.010</td>\n",
              "      <td>0.000</td>\n",
              "      <td>NaN</td>\n",
              "      <td>NaN</td>\n",
              "      <td>NaN</td>\n",
              "    </tr>\n",
              "  </tbody>\n",
              "</table>\n",
              "<p>16715 rows × 11 columns</p>\n",
              "</div>\n",
              "      <button class=\"colab-df-convert\" onclick=\"convertToInteractive('df-cd99c720-2f97-4ac8-969c-d8a2d7c65b67')\"\n",
              "              title=\"Convert this dataframe to an interactive table.\"\n",
              "              style=\"display:none;\">\n",
              "        \n",
              "  <svg xmlns=\"http://www.w3.org/2000/svg\" height=\"24px\"viewBox=\"0 0 24 24\"\n",
              "       width=\"24px\">\n",
              "    <path d=\"M0 0h24v24H0V0z\" fill=\"none\"/>\n",
              "    <path d=\"M18.56 5.44l.94 2.06.94-2.06 2.06-.94-2.06-.94-.94-2.06-.94 2.06-2.06.94zm-11 1L8.5 8.5l.94-2.06 2.06-.94-2.06-.94L8.5 2.5l-.94 2.06-2.06.94zm10 10l.94 2.06.94-2.06 2.06-.94-2.06-.94-.94-2.06-.94 2.06-2.06.94z\"/><path d=\"M17.41 7.96l-1.37-1.37c-.4-.4-.92-.59-1.43-.59-.52 0-1.04.2-1.43.59L10.3 9.45l-7.72 7.72c-.78.78-.78 2.05 0 2.83L4 21.41c.39.39.9.59 1.41.59.51 0 1.02-.2 1.41-.59l7.78-7.78 2.81-2.81c.8-.78.8-2.07 0-2.86zM5.41 20L4 18.59l7.72-7.72 1.47 1.35L5.41 20z\"/>\n",
              "  </svg>\n",
              "      </button>\n",
              "      \n",
              "  <style>\n",
              "    .colab-df-container {\n",
              "      display:flex;\n",
              "      flex-wrap:wrap;\n",
              "      gap: 12px;\n",
              "    }\n",
              "\n",
              "    .colab-df-convert {\n",
              "      background-color: #E8F0FE;\n",
              "      border: none;\n",
              "      border-radius: 50%;\n",
              "      cursor: pointer;\n",
              "      display: none;\n",
              "      fill: #1967D2;\n",
              "      height: 32px;\n",
              "      padding: 0 0 0 0;\n",
              "      width: 32px;\n",
              "    }\n",
              "\n",
              "    .colab-df-convert:hover {\n",
              "      background-color: #E2EBFA;\n",
              "      box-shadow: 0px 1px 2px rgba(60, 64, 67, 0.3), 0px 1px 3px 1px rgba(60, 64, 67, 0.15);\n",
              "      fill: #174EA6;\n",
              "    }\n",
              "\n",
              "    [theme=dark] .colab-df-convert {\n",
              "      background-color: #3B4455;\n",
              "      fill: #D2E3FC;\n",
              "    }\n",
              "\n",
              "    [theme=dark] .colab-df-convert:hover {\n",
              "      background-color: #434B5C;\n",
              "      box-shadow: 0px 1px 3px 1px rgba(0, 0, 0, 0.15);\n",
              "      filter: drop-shadow(0px 1px 2px rgba(0, 0, 0, 0.3));\n",
              "      fill: #FFFFFF;\n",
              "    }\n",
              "  </style>\n",
              "\n",
              "      <script>\n",
              "        const buttonEl =\n",
              "          document.querySelector('#df-cd99c720-2f97-4ac8-969c-d8a2d7c65b67 button.colab-df-convert');\n",
              "        buttonEl.style.display =\n",
              "          google.colab.kernel.accessAllowed ? 'block' : 'none';\n",
              "\n",
              "        async function convertToInteractive(key) {\n",
              "          const element = document.querySelector('#df-cd99c720-2f97-4ac8-969c-d8a2d7c65b67');\n",
              "          const dataTable =\n",
              "            await google.colab.kernel.invokeFunction('convertToInteractive',\n",
              "                                                     [key], {});\n",
              "          if (!dataTable) return;\n",
              "\n",
              "          const docLinkHtml = 'Like what you see? Visit the ' +\n",
              "            '<a target=\"_blank\" href=https://colab.research.google.com/notebooks/data_table.ipynb>data table notebook</a>'\n",
              "            + ' to learn more about interactive tables.';\n",
              "          element.innerHTML = '';\n",
              "          dataTable['output_type'] = 'display_data';\n",
              "          await google.colab.output.renderOutput(dataTable, element);\n",
              "          const docLink = document.createElement('div');\n",
              "          docLink.innerHTML = docLinkHtml;\n",
              "          element.appendChild(docLink);\n",
              "        }\n",
              "      </script>\n",
              "    </div>\n",
              "  </div>\n",
              "  "
            ],
            "text/plain": [
              "                                name platform  year_of_release         genre  \\\n",
              "0                         Wii Sports      Wii             2006        Sports   \n",
              "1                  Super Mario Bros.      NES             1985      Platform   \n",
              "2                     Mario Kart Wii      Wii             2008        Racing   \n",
              "3                  Wii Sports Resort      Wii             2009        Sports   \n",
              "4           Pokemon Red/Pokemon Blue       GB             1996  Role-Playing   \n",
              "...                              ...      ...              ...           ...   \n",
              "16710  Samurai Warriors: Sanada Maru      PS3             2016        Action   \n",
              "16711               LMA Manager 2007     X360             2006        Sports   \n",
              "16712        Haitaka no Psychedelica      PSV             2016     Adventure   \n",
              "16713               Spirits & Spells      GBA             2003      Platform   \n",
              "16714            Winning Post 8 2016      PSV             2016    Simulation   \n",
              "\n",
              "       na_sales  eu_sales  jp_sales  other_sales  critic_score  user_score  \\\n",
              "0        41.360    28.960     3.770        8.450        76.000       8.000   \n",
              "1        29.080     3.580     6.810        0.770           NaN         NaN   \n",
              "2        15.680    12.760     3.790        3.290        82.000       8.300   \n",
              "3        15.610    10.930     3.280        2.950        80.000       8.000   \n",
              "4        11.270     8.890    10.220        1.000           NaN         NaN   \n",
              "...         ...       ...       ...          ...           ...         ...   \n",
              "16710     0.000     0.000     0.010        0.000           NaN         NaN   \n",
              "16711     0.000     0.010     0.000        0.000           NaN         NaN   \n",
              "16712     0.000     0.000     0.010        0.000           NaN         NaN   \n",
              "16713     0.010     0.000     0.000        0.000           NaN         NaN   \n",
              "16714     0.000     0.000     0.010        0.000           NaN         NaN   \n",
              "\n",
              "      rating  \n",
              "0          E  \n",
              "1        NaN  \n",
              "2          E  \n",
              "3          E  \n",
              "4        NaN  \n",
              "...      ...  \n",
              "16710    NaN  \n",
              "16711    NaN  \n",
              "16712    NaN  \n",
              "16713    NaN  \n",
              "16714    NaN  \n",
              "\n",
              "[16715 rows x 11 columns]"
            ]
          },
          "metadata": {},
          "execution_count": 16
        }
      ]
    },
    {
      "cell_type": "code",
      "source": [
        "df.query('name == \"FIFA Soccer 2004\"')"
      ],
      "metadata": {
        "colab": {
          "base_uri": "https://localhost:8080/",
          "height": 174
        },
        "id": "FznsefsYhXie",
        "outputId": "93c6f448-f99b-4462-9585-71e650f2c0c8"
      },
      "execution_count": 17,
      "outputs": [
        {
          "output_type": "execute_result",
          "data": {
            "text/html": [
              "\n",
              "  <div id=\"df-d1fa3b09-a9dc-4114-9a1b-13d95e93fb5c\">\n",
              "    <div class=\"colab-df-container\">\n",
              "      <div>\n",
              "<style scoped>\n",
              "    .dataframe tbody tr th:only-of-type {\n",
              "        vertical-align: middle;\n",
              "    }\n",
              "\n",
              "    .dataframe tbody tr th {\n",
              "        vertical-align: top;\n",
              "    }\n",
              "\n",
              "    .dataframe thead th {\n",
              "        text-align: right;\n",
              "    }\n",
              "</style>\n",
              "<table border=\"1\" class=\"dataframe\">\n",
              "  <thead>\n",
              "    <tr style=\"text-align: right;\">\n",
              "      <th></th>\n",
              "      <th>name</th>\n",
              "      <th>platform</th>\n",
              "      <th>year_of_release</th>\n",
              "      <th>genre</th>\n",
              "      <th>na_sales</th>\n",
              "      <th>eu_sales</th>\n",
              "      <th>jp_sales</th>\n",
              "      <th>other_sales</th>\n",
              "      <th>critic_score</th>\n",
              "      <th>user_score</th>\n",
              "      <th>rating</th>\n",
              "    </tr>\n",
              "  </thead>\n",
              "  <tbody>\n",
              "    <tr>\n",
              "      <th>377</th>\n",
              "      <td>FIFA Soccer 2004</td>\n",
              "      <td>PS2</td>\n",
              "      <td>2003</td>\n",
              "      <td>Sports</td>\n",
              "      <td>0.590</td>\n",
              "      <td>2.360</td>\n",
              "      <td>0.040</td>\n",
              "      <td>0.510</td>\n",
              "      <td>84.000</td>\n",
              "      <td>6.400</td>\n",
              "      <td>E</td>\n",
              "    </tr>\n",
              "    <tr>\n",
              "      <th>2606</th>\n",
              "      <td>FIFA Soccer 2004</td>\n",
              "      <td>XB</td>\n",
              "      <td>2003</td>\n",
              "      <td>Sports</td>\n",
              "      <td>0.240</td>\n",
              "      <td>0.490</td>\n",
              "      <td>0.000</td>\n",
              "      <td>0.050</td>\n",
              "      <td>82.000</td>\n",
              "      <td>8.200</td>\n",
              "      <td>E</td>\n",
              "    </tr>\n",
              "    <tr>\n",
              "      <th>12029</th>\n",
              "      <td>FIFA Soccer 2004</td>\n",
              "      <td>GC</td>\n",
              "      <td>2003</td>\n",
              "      <td>Sports</td>\n",
              "      <td>0.050</td>\n",
              "      <td>0.010</td>\n",
              "      <td>0.000</td>\n",
              "      <td>0.000</td>\n",
              "      <td>83.000</td>\n",
              "      <td>6.200</td>\n",
              "      <td>E</td>\n",
              "    </tr>\n",
              "    <tr>\n",
              "      <th>13086</th>\n",
              "      <td>FIFA Soccer 2004</td>\n",
              "      <td>GBA</td>\n",
              "      <td>2003</td>\n",
              "      <td>Sports</td>\n",
              "      <td>0.040</td>\n",
              "      <td>0.010</td>\n",
              "      <td>0.000</td>\n",
              "      <td>0.000</td>\n",
              "      <td>82.000</td>\n",
              "      <td>7.900</td>\n",
              "      <td>E</td>\n",
              "    </tr>\n",
              "  </tbody>\n",
              "</table>\n",
              "</div>\n",
              "      <button class=\"colab-df-convert\" onclick=\"convertToInteractive('df-d1fa3b09-a9dc-4114-9a1b-13d95e93fb5c')\"\n",
              "              title=\"Convert this dataframe to an interactive table.\"\n",
              "              style=\"display:none;\">\n",
              "        \n",
              "  <svg xmlns=\"http://www.w3.org/2000/svg\" height=\"24px\"viewBox=\"0 0 24 24\"\n",
              "       width=\"24px\">\n",
              "    <path d=\"M0 0h24v24H0V0z\" fill=\"none\"/>\n",
              "    <path d=\"M18.56 5.44l.94 2.06.94-2.06 2.06-.94-2.06-.94-.94-2.06-.94 2.06-2.06.94zm-11 1L8.5 8.5l.94-2.06 2.06-.94-2.06-.94L8.5 2.5l-.94 2.06-2.06.94zm10 10l.94 2.06.94-2.06 2.06-.94-2.06-.94-.94-2.06-.94 2.06-2.06.94z\"/><path d=\"M17.41 7.96l-1.37-1.37c-.4-.4-.92-.59-1.43-.59-.52 0-1.04.2-1.43.59L10.3 9.45l-7.72 7.72c-.78.78-.78 2.05 0 2.83L4 21.41c.39.39.9.59 1.41.59.51 0 1.02-.2 1.41-.59l7.78-7.78 2.81-2.81c.8-.78.8-2.07 0-2.86zM5.41 20L4 18.59l7.72-7.72 1.47 1.35L5.41 20z\"/>\n",
              "  </svg>\n",
              "      </button>\n",
              "      \n",
              "  <style>\n",
              "    .colab-df-container {\n",
              "      display:flex;\n",
              "      flex-wrap:wrap;\n",
              "      gap: 12px;\n",
              "    }\n",
              "\n",
              "    .colab-df-convert {\n",
              "      background-color: #E8F0FE;\n",
              "      border: none;\n",
              "      border-radius: 50%;\n",
              "      cursor: pointer;\n",
              "      display: none;\n",
              "      fill: #1967D2;\n",
              "      height: 32px;\n",
              "      padding: 0 0 0 0;\n",
              "      width: 32px;\n",
              "    }\n",
              "\n",
              "    .colab-df-convert:hover {\n",
              "      background-color: #E2EBFA;\n",
              "      box-shadow: 0px 1px 2px rgba(60, 64, 67, 0.3), 0px 1px 3px 1px rgba(60, 64, 67, 0.15);\n",
              "      fill: #174EA6;\n",
              "    }\n",
              "\n",
              "    [theme=dark] .colab-df-convert {\n",
              "      background-color: #3B4455;\n",
              "      fill: #D2E3FC;\n",
              "    }\n",
              "\n",
              "    [theme=dark] .colab-df-convert:hover {\n",
              "      background-color: #434B5C;\n",
              "      box-shadow: 0px 1px 3px 1px rgba(0, 0, 0, 0.15);\n",
              "      filter: drop-shadow(0px 1px 2px rgba(0, 0, 0, 0.3));\n",
              "      fill: #FFFFFF;\n",
              "    }\n",
              "  </style>\n",
              "\n",
              "      <script>\n",
              "        const buttonEl =\n",
              "          document.querySelector('#df-d1fa3b09-a9dc-4114-9a1b-13d95e93fb5c button.colab-df-convert');\n",
              "        buttonEl.style.display =\n",
              "          google.colab.kernel.accessAllowed ? 'block' : 'none';\n",
              "\n",
              "        async function convertToInteractive(key) {\n",
              "          const element = document.querySelector('#df-d1fa3b09-a9dc-4114-9a1b-13d95e93fb5c');\n",
              "          const dataTable =\n",
              "            await google.colab.kernel.invokeFunction('convertToInteractive',\n",
              "                                                     [key], {});\n",
              "          if (!dataTable) return;\n",
              "\n",
              "          const docLinkHtml = 'Like what you see? Visit the ' +\n",
              "            '<a target=\"_blank\" href=https://colab.research.google.com/notebooks/data_table.ipynb>data table notebook</a>'\n",
              "            + ' to learn more about interactive tables.';\n",
              "          element.innerHTML = '';\n",
              "          dataTable['output_type'] = 'display_data';\n",
              "          await google.colab.output.renderOutput(dataTable, element);\n",
              "          const docLink = document.createElement('div');\n",
              "          docLink.innerHTML = docLinkHtml;\n",
              "          element.appendChild(docLink);\n",
              "        }\n",
              "      </script>\n",
              "    </div>\n",
              "  </div>\n",
              "  "
            ],
            "text/plain": [
              "                   name platform  year_of_release   genre  na_sales  eu_sales  \\\n",
              "377    FIFA Soccer 2004      PS2             2003  Sports     0.590     2.360   \n",
              "2606   FIFA Soccer 2004       XB             2003  Sports     0.240     0.490   \n",
              "12029  FIFA Soccer 2004       GC             2003  Sports     0.050     0.010   \n",
              "13086  FIFA Soccer 2004      GBA             2003  Sports     0.040     0.010   \n",
              "\n",
              "       jp_sales  other_sales  critic_score  user_score rating  \n",
              "377       0.040        0.510        84.000       6.400      E  \n",
              "2606      0.000        0.050        82.000       8.200      E  \n",
              "12029     0.000        0.000        83.000       6.200      E  \n",
              "13086     0.000        0.000        82.000       7.900      E  "
            ]
          },
          "metadata": {},
          "execution_count": 17
        }
      ]
    },
    {
      "cell_type": "code",
      "source": [
        "df.query('name == \"Rock Band\"')"
      ],
      "metadata": {
        "colab": {
          "base_uri": "https://localhost:8080/",
          "height": 174
        },
        "id": "rCvbTerZhXmC",
        "outputId": "7eb04e81-12f3-42ae-a2b5-21dfc69959f9"
      },
      "execution_count": 18,
      "outputs": [
        {
          "output_type": "execute_result",
          "data": {
            "text/html": [
              "\n",
              "  <div id=\"df-37e8fd1f-a709-4c57-8bcd-84e1c27bc3a9\">\n",
              "    <div class=\"colab-df-container\">\n",
              "      <div>\n",
              "<style scoped>\n",
              "    .dataframe tbody tr th:only-of-type {\n",
              "        vertical-align: middle;\n",
              "    }\n",
              "\n",
              "    .dataframe tbody tr th {\n",
              "        vertical-align: top;\n",
              "    }\n",
              "\n",
              "    .dataframe thead th {\n",
              "        text-align: right;\n",
              "    }\n",
              "</style>\n",
              "<table border=\"1\" class=\"dataframe\">\n",
              "  <thead>\n",
              "    <tr style=\"text-align: right;\">\n",
              "      <th></th>\n",
              "      <th>name</th>\n",
              "      <th>platform</th>\n",
              "      <th>year_of_release</th>\n",
              "      <th>genre</th>\n",
              "      <th>na_sales</th>\n",
              "      <th>eu_sales</th>\n",
              "      <th>jp_sales</th>\n",
              "      <th>other_sales</th>\n",
              "      <th>critic_score</th>\n",
              "      <th>user_score</th>\n",
              "      <th>rating</th>\n",
              "    </tr>\n",
              "  </thead>\n",
              "  <tbody>\n",
              "    <tr>\n",
              "      <th>627</th>\n",
              "      <td>Rock Band</td>\n",
              "      <td>X360</td>\n",
              "      <td>&lt;NA&gt;</td>\n",
              "      <td>Misc</td>\n",
              "      <td>1.930</td>\n",
              "      <td>0.330</td>\n",
              "      <td>0.000</td>\n",
              "      <td>0.210</td>\n",
              "      <td>92.000</td>\n",
              "      <td>8.200</td>\n",
              "      <td>T</td>\n",
              "    </tr>\n",
              "    <tr>\n",
              "      <th>805</th>\n",
              "      <td>Rock Band</td>\n",
              "      <td>Wii</td>\n",
              "      <td>&lt;NA&gt;</td>\n",
              "      <td>Misc</td>\n",
              "      <td>1.330</td>\n",
              "      <td>0.560</td>\n",
              "      <td>0.000</td>\n",
              "      <td>0.200</td>\n",
              "      <td>80.000</td>\n",
              "      <td>6.300</td>\n",
              "      <td>T</td>\n",
              "    </tr>\n",
              "    <tr>\n",
              "      <th>1142</th>\n",
              "      <td>Rock Band</td>\n",
              "      <td>PS3</td>\n",
              "      <td>&lt;NA&gt;</td>\n",
              "      <td>Misc</td>\n",
              "      <td>0.990</td>\n",
              "      <td>0.410</td>\n",
              "      <td>0.000</td>\n",
              "      <td>0.220</td>\n",
              "      <td>92.000</td>\n",
              "      <td>8.400</td>\n",
              "      <td>T</td>\n",
              "    </tr>\n",
              "    <tr>\n",
              "      <th>1840</th>\n",
              "      <td>Rock Band</td>\n",
              "      <td>PS2</td>\n",
              "      <td>&lt;NA&gt;</td>\n",
              "      <td>Misc</td>\n",
              "      <td>0.710</td>\n",
              "      <td>0.060</td>\n",
              "      <td>0.000</td>\n",
              "      <td>0.350</td>\n",
              "      <td>82.000</td>\n",
              "      <td>6.800</td>\n",
              "      <td>T</td>\n",
              "    </tr>\n",
              "  </tbody>\n",
              "</table>\n",
              "</div>\n",
              "      <button class=\"colab-df-convert\" onclick=\"convertToInteractive('df-37e8fd1f-a709-4c57-8bcd-84e1c27bc3a9')\"\n",
              "              title=\"Convert this dataframe to an interactive table.\"\n",
              "              style=\"display:none;\">\n",
              "        \n",
              "  <svg xmlns=\"http://www.w3.org/2000/svg\" height=\"24px\"viewBox=\"0 0 24 24\"\n",
              "       width=\"24px\">\n",
              "    <path d=\"M0 0h24v24H0V0z\" fill=\"none\"/>\n",
              "    <path d=\"M18.56 5.44l.94 2.06.94-2.06 2.06-.94-2.06-.94-.94-2.06-.94 2.06-2.06.94zm-11 1L8.5 8.5l.94-2.06 2.06-.94-2.06-.94L8.5 2.5l-.94 2.06-2.06.94zm10 10l.94 2.06.94-2.06 2.06-.94-2.06-.94-.94-2.06-.94 2.06-2.06.94z\"/><path d=\"M17.41 7.96l-1.37-1.37c-.4-.4-.92-.59-1.43-.59-.52 0-1.04.2-1.43.59L10.3 9.45l-7.72 7.72c-.78.78-.78 2.05 0 2.83L4 21.41c.39.39.9.59 1.41.59.51 0 1.02-.2 1.41-.59l7.78-7.78 2.81-2.81c.8-.78.8-2.07 0-2.86zM5.41 20L4 18.59l7.72-7.72 1.47 1.35L5.41 20z\"/>\n",
              "  </svg>\n",
              "      </button>\n",
              "      \n",
              "  <style>\n",
              "    .colab-df-container {\n",
              "      display:flex;\n",
              "      flex-wrap:wrap;\n",
              "      gap: 12px;\n",
              "    }\n",
              "\n",
              "    .colab-df-convert {\n",
              "      background-color: #E8F0FE;\n",
              "      border: none;\n",
              "      border-radius: 50%;\n",
              "      cursor: pointer;\n",
              "      display: none;\n",
              "      fill: #1967D2;\n",
              "      height: 32px;\n",
              "      padding: 0 0 0 0;\n",
              "      width: 32px;\n",
              "    }\n",
              "\n",
              "    .colab-df-convert:hover {\n",
              "      background-color: #E2EBFA;\n",
              "      box-shadow: 0px 1px 2px rgba(60, 64, 67, 0.3), 0px 1px 3px 1px rgba(60, 64, 67, 0.15);\n",
              "      fill: #174EA6;\n",
              "    }\n",
              "\n",
              "    [theme=dark] .colab-df-convert {\n",
              "      background-color: #3B4455;\n",
              "      fill: #D2E3FC;\n",
              "    }\n",
              "\n",
              "    [theme=dark] .colab-df-convert:hover {\n",
              "      background-color: #434B5C;\n",
              "      box-shadow: 0px 1px 3px 1px rgba(0, 0, 0, 0.15);\n",
              "      filter: drop-shadow(0px 1px 2px rgba(0, 0, 0, 0.3));\n",
              "      fill: #FFFFFF;\n",
              "    }\n",
              "  </style>\n",
              "\n",
              "      <script>\n",
              "        const buttonEl =\n",
              "          document.querySelector('#df-37e8fd1f-a709-4c57-8bcd-84e1c27bc3a9 button.colab-df-convert');\n",
              "        buttonEl.style.display =\n",
              "          google.colab.kernel.accessAllowed ? 'block' : 'none';\n",
              "\n",
              "        async function convertToInteractive(key) {\n",
              "          const element = document.querySelector('#df-37e8fd1f-a709-4c57-8bcd-84e1c27bc3a9');\n",
              "          const dataTable =\n",
              "            await google.colab.kernel.invokeFunction('convertToInteractive',\n",
              "                                                     [key], {});\n",
              "          if (!dataTable) return;\n",
              "\n",
              "          const docLinkHtml = 'Like what you see? Visit the ' +\n",
              "            '<a target=\"_blank\" href=https://colab.research.google.com/notebooks/data_table.ipynb>data table notebook</a>'\n",
              "            + ' to learn more about interactive tables.';\n",
              "          element.innerHTML = '';\n",
              "          dataTable['output_type'] = 'display_data';\n",
              "          await google.colab.output.renderOutput(dataTable, element);\n",
              "          const docLink = document.createElement('div');\n",
              "          docLink.innerHTML = docLinkHtml;\n",
              "          element.appendChild(docLink);\n",
              "        }\n",
              "      </script>\n",
              "    </div>\n",
              "  </div>\n",
              "  "
            ],
            "text/plain": [
              "           name platform  year_of_release genre  na_sales  eu_sales  jp_sales  \\\n",
              "627   Rock Band     X360             <NA>  Misc     1.930     0.330     0.000   \n",
              "805   Rock Band      Wii             <NA>  Misc     1.330     0.560     0.000   \n",
              "1142  Rock Band      PS3             <NA>  Misc     0.990     0.410     0.000   \n",
              "1840  Rock Band      PS2             <NA>  Misc     0.710     0.060     0.000   \n",
              "\n",
              "      other_sales  critic_score  user_score rating  \n",
              "627         0.210        92.000       8.200      T  \n",
              "805         0.200        80.000       6.300      T  \n",
              "1142        0.220        92.000       8.400      T  \n",
              "1840        0.350        82.000       6.800      T  "
            ]
          },
          "metadata": {},
          "execution_count": 18
        }
      ]
    },
    {
      "cell_type": "markdown",
      "source": [
        "Функция заменила пропуски, но не все. Остались пропуски где неизвестен год выхода игры на всех платформах. Заменить эти пропуски невозможно. Прелагаю удалить их. Их осталось 0,87%. Удалим пропуски и в других столбцах"
      ],
      "metadata": {
        "id": "i5OHlb-Mlkzf"
      }
    },
    {
      "cell_type": "code",
      "source": [
        "# Удаление строк с  пропусками в наименования игры, жанре и годе релиза.\n",
        "df.dropna(subset=['name', 'year_of_release', 'genre'], inplace=True)"
      ],
      "metadata": {
        "id": "EYUfH3WfCgBh"
      },
      "execution_count": 19,
      "outputs": []
    },
    {
      "cell_type": "code",
      "source": [
        "pd.DataFrame(round((df.isna().mean()*100),2)).style.background_gradient('viridis_r')"
      ],
      "metadata": {
        "colab": {
          "base_uri": "https://localhost:8080/",
          "height": 394
        },
        "id": "0T7UdMy4Efkj",
        "outputId": "d81b53a8-e5dd-4168-9566-e55a625f3c93"
      },
      "execution_count": 20,
      "outputs": [
        {
          "output_type": "execute_result",
          "data": {
            "text/html": [
              "<style type=\"text/css\">\n",
              "#T_f8393_row0_col0, #T_f8393_row1_col0, #T_f8393_row2_col0, #T_f8393_row3_col0, #T_f8393_row4_col0, #T_f8393_row5_col0, #T_f8393_row6_col0, #T_f8393_row7_col0 {\n",
              "  background-color: #fde725;\n",
              "  color: #000000;\n",
              "}\n",
              "#T_f8393_row8_col0 {\n",
              "  background-color: #440154;\n",
              "  color: #f1f1f1;\n",
              "}\n",
              "#T_f8393_row9_col0 {\n",
              "  background-color: #3e4989;\n",
              "  color: #f1f1f1;\n",
              "}\n",
              "#T_f8393_row10_col0 {\n",
              "  background-color: #3f4788;\n",
              "  color: #f1f1f1;\n",
              "}\n",
              "</style>\n",
              "<table id=\"T_f8393_\" class=\"dataframe\">\n",
              "  <thead>\n",
              "    <tr>\n",
              "      <th class=\"blank level0\" >&nbsp;</th>\n",
              "      <th class=\"col_heading level0 col0\" >0</th>\n",
              "    </tr>\n",
              "  </thead>\n",
              "  <tbody>\n",
              "    <tr>\n",
              "      <th id=\"T_f8393_level0_row0\" class=\"row_heading level0 row0\" >name</th>\n",
              "      <td id=\"T_f8393_row0_col0\" class=\"data row0 col0\" >0.000000</td>\n",
              "    </tr>\n",
              "    <tr>\n",
              "      <th id=\"T_f8393_level0_row1\" class=\"row_heading level0 row1\" >platform</th>\n",
              "      <td id=\"T_f8393_row1_col0\" class=\"data row1 col0\" >0.000000</td>\n",
              "    </tr>\n",
              "    <tr>\n",
              "      <th id=\"T_f8393_level0_row2\" class=\"row_heading level0 row2\" >year_of_release</th>\n",
              "      <td id=\"T_f8393_row2_col0\" class=\"data row2 col0\" >0.000000</td>\n",
              "    </tr>\n",
              "    <tr>\n",
              "      <th id=\"T_f8393_level0_row3\" class=\"row_heading level0 row3\" >genre</th>\n",
              "      <td id=\"T_f8393_row3_col0\" class=\"data row3 col0\" >0.000000</td>\n",
              "    </tr>\n",
              "    <tr>\n",
              "      <th id=\"T_f8393_level0_row4\" class=\"row_heading level0 row4\" >na_sales</th>\n",
              "      <td id=\"T_f8393_row4_col0\" class=\"data row4 col0\" >0.000000</td>\n",
              "    </tr>\n",
              "    <tr>\n",
              "      <th id=\"T_f8393_level0_row5\" class=\"row_heading level0 row5\" >eu_sales</th>\n",
              "      <td id=\"T_f8393_row5_col0\" class=\"data row5 col0\" >0.000000</td>\n",
              "    </tr>\n",
              "    <tr>\n",
              "      <th id=\"T_f8393_level0_row6\" class=\"row_heading level0 row6\" >jp_sales</th>\n",
              "      <td id=\"T_f8393_row6_col0\" class=\"data row6 col0\" >0.000000</td>\n",
              "    </tr>\n",
              "    <tr>\n",
              "      <th id=\"T_f8393_level0_row7\" class=\"row_heading level0 row7\" >other_sales</th>\n",
              "      <td id=\"T_f8393_row7_col0\" class=\"data row7 col0\" >0.000000</td>\n",
              "    </tr>\n",
              "    <tr>\n",
              "      <th id=\"T_f8393_level0_row8\" class=\"row_heading level0 row8\" >critic_score</th>\n",
              "      <td id=\"T_f8393_row8_col0\" class=\"data row8 col0\" >51.260000</td>\n",
              "    </tr>\n",
              "    <tr>\n",
              "      <th id=\"T_f8393_level0_row9\" class=\"row_heading level0 row9\" >user_score</th>\n",
              "      <td id=\"T_f8393_row9_col0\" class=\"data row9 col0\" >40.040000</td>\n",
              "    </tr>\n",
              "    <tr>\n",
              "      <th id=\"T_f8393_level0_row10\" class=\"row_heading level0 row10\" >rating</th>\n",
              "      <td id=\"T_f8393_row10_col0\" class=\"data row10 col0\" >40.440000</td>\n",
              "    </tr>\n",
              "  </tbody>\n",
              "</table>\n"
            ],
            "text/plain": [
              "<pandas.io.formats.style.Styler at 0x7f4e76b085d0>"
            ]
          },
          "metadata": {},
          "execution_count": 20
        }
      ]
    },
    {
      "cell_type": "markdown",
      "source": [
        "Мы привели названия столбцов в порядок, проверили строки на отсутствие полных дубликатов, удалили строки с пропусками в столбцах `name`, `year_of_release`, `genre` (там не более 2% пропусков, потеря для нашего исследования несущественная).\n",
        "\n",
        "Исследуем более подробно пропуски в рейтингах"
      ],
      "metadata": {
        "id": "72VuQQLOEzSe"
      }
    },
    {
      "cell_type": "code",
      "source": [
        "# Количество пропусков в оценках критиков, пользователей и рейтинге\n",
        "print('Количество пропусков оценки критиков',(len(df.query('critic_score != critic_score', engine='python'))))\n",
        "print('Количество пропусков оценки пользователей',(len(df.query('user_score != user_score', engine='python'))))\n",
        "print('Количество пропусков рейтинга',(len(df.query('rating != rating', engine='python'))))"
      ],
      "metadata": {
        "colab": {
          "base_uri": "https://localhost:8080/"
        },
        "id": "kEOTZFb5Elu6",
        "outputId": "b10c008d-f033-46d7-f0f5-133a2ba8da35"
      },
      "execution_count": 21,
      "outputs": [
        {
          "output_type": "stream",
          "name": "stdout",
          "text": [
            "Количество пропусков оценки критиков 8492\n",
            "Количество пропусков оценки пользователей 6633\n",
            "Количество пропусков рейтинга 6699\n"
          ]
        }
      ]
    },
    {
      "cell_type": "code",
      "source": [
        "len(df.query('user_score != user_score and rating != rating and critic_score != critic_score', engine='python'))"
      ],
      "metadata": {
        "colab": {
          "base_uri": "https://localhost:8080/"
        },
        "id": "qUSjiXceGLIM",
        "outputId": "260a349e-2b61-49b7-f15f-67451034d141"
      },
      "execution_count": 22,
      "outputs": [
        {
          "output_type": "execute_result",
          "data": {
            "text/plain": [
              "6555"
            ]
          },
          "metadata": {},
          "execution_count": 22
        }
      ]
    },
    {
      "cell_type": "markdown",
      "source": [
        "В сэмплах данных с пропусками нет определенных закономерностей, разные платформы, разные года релизов. Возможно отметить только невысокие продажи в сэмплах строк, часто только в одном регионе. 6555 строки имеют пропуски в оценках и рейтинге одновременно. Причины пропусков могут быть обусловлены разными факторами. Даты релиза для разных платформ могут быть разные, оценки могут отсутсвовать в агрегаторах в силу года релиза или по другим причинам. Поскольку количество пропусков очень большое, возможно заменить их на технические индикаторы для возможности выделения при анализе:оценки критиков и пользователей - на 0, т.к. столбцы имеют колличественные данные."
      ],
      "metadata": {
        "id": "HtI7RwgrF7F5"
      }
    },
    {
      "cell_type": "code",
      "source": [
        "# Заполнение пропусков техническими значениями\n",
        "df['critic_score'].fillna(0, inplace=True)\n",
        "df['user_score'].fillna(0, inplace=True)"
      ],
      "metadata": {
        "id": "7zLH2obwGleH"
      },
      "execution_count": 23,
      "outputs": []
    },
    {
      "cell_type": "code",
      "source": [
        "# Проверка уникальных значений в рейтинге\n",
        "df['rating'].unique().tolist()"
      ],
      "metadata": {
        "colab": {
          "base_uri": "https://localhost:8080/"
        },
        "id": "Plnx6wp0Gwhv",
        "outputId": "45c1628a-772b-4197-d83f-0d6532bbff94"
      },
      "execution_count": 24,
      "outputs": [
        {
          "output_type": "execute_result",
          "data": {
            "text/plain": [
              "['E', nan, 'M', 'T', 'E10+', 'K-A', 'AO', 'EC', 'RP']"
            ]
          },
          "metadata": {},
          "execution_count": 24
        }
      ]
    },
    {
      "cell_type": "markdown",
      "source": [
        "Столбец `rating` содержит буквенное обозначение рейтинга, присвоенного видеоигре организацией ESRB (всего 8 уникальных значений + пропуски).\n",
        "\n",
        "Справочная информация (источник - https://ru.wikipedia.org/wiki/Entertainment_Software_Rating_Board):  \n",
        "**Entertainment Software Rating Board (ESRB)** — негосударственная организация, основное направление деятельности — принятие и определение рейтингов для компьютерных видеоигр и другого развлекательного программного обеспечения в США и Канаде.  \n",
        "\n",
        "Расшифровка буквенных обозначений рейтинга:  \n",
        "«EC» («Early childhood») — «Для детей младшего возраста»  \n",
        "«E» («Everyone») — «Для всех» (до 1998 года - \"K-A\" (\"Kids to Adults\"))  \n",
        "«E10+» («Everyone 10 and older») — «Для всех от 10 лет и старше»  \n",
        "«T» («Teen») — «Подросткам»  \n",
        "«M» («Mature») — «Для взрослых»  \n",
        "«AO» («Adults Only 18+») — «Только для взрослых»  \n",
        "«RP» («Rating Pending») — «Рейтинг ожидается»\n",
        "\n",
        "В других странах существуют свои системы стандартизации и лицензирования видеоигр (например, как PEGI в Европейском Союзе, CERA в Японии). Отсутствие рейтинга в датасете может обозначать, что игра была произведена за переделами Северной Америки и не подлежала оценке ESRB. Мы можем заменить NaN на 0, чтобы заполнить пропуски."
      ],
      "metadata": {
        "id": "JZl27B_RG38v"
      }
    },
    {
      "cell_type": "code",
      "source": [
        "# Замена пропусков в рейтинге на нулевое значение\n",
        "df['rating'].fillna(0, inplace=True)"
      ],
      "metadata": {
        "id": "5dXGuZq_G5eM"
      },
      "execution_count": 25,
      "outputs": []
    },
    {
      "cell_type": "code",
      "source": [
        "pd.DataFrame(round((df.isna().mean()*100),2)).style.background_gradient('viridis_r')"
      ],
      "metadata": {
        "colab": {
          "base_uri": "https://localhost:8080/",
          "height": 394
        },
        "id": "JoOxyIeuHUVQ",
        "outputId": "bb40ffce-8a5f-4f27-945b-28cad8c18670"
      },
      "execution_count": 26,
      "outputs": [
        {
          "output_type": "execute_result",
          "data": {
            "text/html": [
              "<style type=\"text/css\">\n",
              "#T_4ac2d_row0_col0, #T_4ac2d_row1_col0, #T_4ac2d_row2_col0, #T_4ac2d_row3_col0, #T_4ac2d_row4_col0, #T_4ac2d_row5_col0, #T_4ac2d_row6_col0, #T_4ac2d_row7_col0, #T_4ac2d_row8_col0, #T_4ac2d_row9_col0, #T_4ac2d_row10_col0 {\n",
              "  background-color: #fde725;\n",
              "  color: #000000;\n",
              "}\n",
              "</style>\n",
              "<table id=\"T_4ac2d_\" class=\"dataframe\">\n",
              "  <thead>\n",
              "    <tr>\n",
              "      <th class=\"blank level0\" >&nbsp;</th>\n",
              "      <th class=\"col_heading level0 col0\" >0</th>\n",
              "    </tr>\n",
              "  </thead>\n",
              "  <tbody>\n",
              "    <tr>\n",
              "      <th id=\"T_4ac2d_level0_row0\" class=\"row_heading level0 row0\" >name</th>\n",
              "      <td id=\"T_4ac2d_row0_col0\" class=\"data row0 col0\" >0.000000</td>\n",
              "    </tr>\n",
              "    <tr>\n",
              "      <th id=\"T_4ac2d_level0_row1\" class=\"row_heading level0 row1\" >platform</th>\n",
              "      <td id=\"T_4ac2d_row1_col0\" class=\"data row1 col0\" >0.000000</td>\n",
              "    </tr>\n",
              "    <tr>\n",
              "      <th id=\"T_4ac2d_level0_row2\" class=\"row_heading level0 row2\" >year_of_release</th>\n",
              "      <td id=\"T_4ac2d_row2_col0\" class=\"data row2 col0\" >0.000000</td>\n",
              "    </tr>\n",
              "    <tr>\n",
              "      <th id=\"T_4ac2d_level0_row3\" class=\"row_heading level0 row3\" >genre</th>\n",
              "      <td id=\"T_4ac2d_row3_col0\" class=\"data row3 col0\" >0.000000</td>\n",
              "    </tr>\n",
              "    <tr>\n",
              "      <th id=\"T_4ac2d_level0_row4\" class=\"row_heading level0 row4\" >na_sales</th>\n",
              "      <td id=\"T_4ac2d_row4_col0\" class=\"data row4 col0\" >0.000000</td>\n",
              "    </tr>\n",
              "    <tr>\n",
              "      <th id=\"T_4ac2d_level0_row5\" class=\"row_heading level0 row5\" >eu_sales</th>\n",
              "      <td id=\"T_4ac2d_row5_col0\" class=\"data row5 col0\" >0.000000</td>\n",
              "    </tr>\n",
              "    <tr>\n",
              "      <th id=\"T_4ac2d_level0_row6\" class=\"row_heading level0 row6\" >jp_sales</th>\n",
              "      <td id=\"T_4ac2d_row6_col0\" class=\"data row6 col0\" >0.000000</td>\n",
              "    </tr>\n",
              "    <tr>\n",
              "      <th id=\"T_4ac2d_level0_row7\" class=\"row_heading level0 row7\" >other_sales</th>\n",
              "      <td id=\"T_4ac2d_row7_col0\" class=\"data row7 col0\" >0.000000</td>\n",
              "    </tr>\n",
              "    <tr>\n",
              "      <th id=\"T_4ac2d_level0_row8\" class=\"row_heading level0 row8\" >critic_score</th>\n",
              "      <td id=\"T_4ac2d_row8_col0\" class=\"data row8 col0\" >0.000000</td>\n",
              "    </tr>\n",
              "    <tr>\n",
              "      <th id=\"T_4ac2d_level0_row9\" class=\"row_heading level0 row9\" >user_score</th>\n",
              "      <td id=\"T_4ac2d_row9_col0\" class=\"data row9 col0\" >0.000000</td>\n",
              "    </tr>\n",
              "    <tr>\n",
              "      <th id=\"T_4ac2d_level0_row10\" class=\"row_heading level0 row10\" >rating</th>\n",
              "      <td id=\"T_4ac2d_row10_col0\" class=\"data row10 col0\" >0.000000</td>\n",
              "    </tr>\n",
              "  </tbody>\n",
              "</table>\n"
            ],
            "text/plain": [
              "<pandas.io.formats.style.Styler at 0x7f4e7675ff50>"
            ]
          },
          "metadata": {},
          "execution_count": 26
        }
      ]
    },
    {
      "cell_type": "markdown",
      "source": [
        "### Добавление столбца с общими продажами"
      ],
      "metadata": {
        "id": "R68KmXHGHZYk"
      }
    },
    {
      "cell_type": "code",
      "source": [
        "df['total_sales'] = df[['na_sales','eu_sales','jp_sales','other_sales']].sum(axis=1)\n",
        "df"
      ],
      "metadata": {
        "colab": {
          "base_uri": "https://localhost:8080/",
          "height": 661
        },
        "id": "zIVAUQA6HaW4",
        "outputId": "4d8b40cf-0c61-4884-b420-9b6d96255edd"
      },
      "execution_count": 27,
      "outputs": [
        {
          "output_type": "execute_result",
          "data": {
            "text/html": [
              "\n",
              "  <div id=\"df-64d1c171-7de0-4d12-b725-9a4c9b9ef752\">\n",
              "    <div class=\"colab-df-container\">\n",
              "      <div>\n",
              "<style scoped>\n",
              "    .dataframe tbody tr th:only-of-type {\n",
              "        vertical-align: middle;\n",
              "    }\n",
              "\n",
              "    .dataframe tbody tr th {\n",
              "        vertical-align: top;\n",
              "    }\n",
              "\n",
              "    .dataframe thead th {\n",
              "        text-align: right;\n",
              "    }\n",
              "</style>\n",
              "<table border=\"1\" class=\"dataframe\">\n",
              "  <thead>\n",
              "    <tr style=\"text-align: right;\">\n",
              "      <th></th>\n",
              "      <th>name</th>\n",
              "      <th>platform</th>\n",
              "      <th>year_of_release</th>\n",
              "      <th>genre</th>\n",
              "      <th>na_sales</th>\n",
              "      <th>eu_sales</th>\n",
              "      <th>jp_sales</th>\n",
              "      <th>other_sales</th>\n",
              "      <th>critic_score</th>\n",
              "      <th>user_score</th>\n",
              "      <th>rating</th>\n",
              "      <th>total_sales</th>\n",
              "    </tr>\n",
              "  </thead>\n",
              "  <tbody>\n",
              "    <tr>\n",
              "      <th>0</th>\n",
              "      <td>Wii Sports</td>\n",
              "      <td>Wii</td>\n",
              "      <td>2006</td>\n",
              "      <td>Sports</td>\n",
              "      <td>41.360</td>\n",
              "      <td>28.960</td>\n",
              "      <td>3.770</td>\n",
              "      <td>8.450</td>\n",
              "      <td>76.000</td>\n",
              "      <td>8.000</td>\n",
              "      <td>E</td>\n",
              "      <td>82.540</td>\n",
              "    </tr>\n",
              "    <tr>\n",
              "      <th>1</th>\n",
              "      <td>Super Mario Bros.</td>\n",
              "      <td>NES</td>\n",
              "      <td>1985</td>\n",
              "      <td>Platform</td>\n",
              "      <td>29.080</td>\n",
              "      <td>3.580</td>\n",
              "      <td>6.810</td>\n",
              "      <td>0.770</td>\n",
              "      <td>0.000</td>\n",
              "      <td>0.000</td>\n",
              "      <td>0</td>\n",
              "      <td>40.240</td>\n",
              "    </tr>\n",
              "    <tr>\n",
              "      <th>2</th>\n",
              "      <td>Mario Kart Wii</td>\n",
              "      <td>Wii</td>\n",
              "      <td>2008</td>\n",
              "      <td>Racing</td>\n",
              "      <td>15.680</td>\n",
              "      <td>12.760</td>\n",
              "      <td>3.790</td>\n",
              "      <td>3.290</td>\n",
              "      <td>82.000</td>\n",
              "      <td>8.300</td>\n",
              "      <td>E</td>\n",
              "      <td>35.520</td>\n",
              "    </tr>\n",
              "    <tr>\n",
              "      <th>3</th>\n",
              "      <td>Wii Sports Resort</td>\n",
              "      <td>Wii</td>\n",
              "      <td>2009</td>\n",
              "      <td>Sports</td>\n",
              "      <td>15.610</td>\n",
              "      <td>10.930</td>\n",
              "      <td>3.280</td>\n",
              "      <td>2.950</td>\n",
              "      <td>80.000</td>\n",
              "      <td>8.000</td>\n",
              "      <td>E</td>\n",
              "      <td>32.770</td>\n",
              "    </tr>\n",
              "    <tr>\n",
              "      <th>4</th>\n",
              "      <td>Pokemon Red/Pokemon Blue</td>\n",
              "      <td>GB</td>\n",
              "      <td>1996</td>\n",
              "      <td>Role-Playing</td>\n",
              "      <td>11.270</td>\n",
              "      <td>8.890</td>\n",
              "      <td>10.220</td>\n",
              "      <td>1.000</td>\n",
              "      <td>0.000</td>\n",
              "      <td>0.000</td>\n",
              "      <td>0</td>\n",
              "      <td>31.380</td>\n",
              "    </tr>\n",
              "    <tr>\n",
              "      <th>...</th>\n",
              "      <td>...</td>\n",
              "      <td>...</td>\n",
              "      <td>...</td>\n",
              "      <td>...</td>\n",
              "      <td>...</td>\n",
              "      <td>...</td>\n",
              "      <td>...</td>\n",
              "      <td>...</td>\n",
              "      <td>...</td>\n",
              "      <td>...</td>\n",
              "      <td>...</td>\n",
              "      <td>...</td>\n",
              "    </tr>\n",
              "    <tr>\n",
              "      <th>16710</th>\n",
              "      <td>Samurai Warriors: Sanada Maru</td>\n",
              "      <td>PS3</td>\n",
              "      <td>2016</td>\n",
              "      <td>Action</td>\n",
              "      <td>0.000</td>\n",
              "      <td>0.000</td>\n",
              "      <td>0.010</td>\n",
              "      <td>0.000</td>\n",
              "      <td>0.000</td>\n",
              "      <td>0.000</td>\n",
              "      <td>0</td>\n",
              "      <td>0.010</td>\n",
              "    </tr>\n",
              "    <tr>\n",
              "      <th>16711</th>\n",
              "      <td>LMA Manager 2007</td>\n",
              "      <td>X360</td>\n",
              "      <td>2006</td>\n",
              "      <td>Sports</td>\n",
              "      <td>0.000</td>\n",
              "      <td>0.010</td>\n",
              "      <td>0.000</td>\n",
              "      <td>0.000</td>\n",
              "      <td>0.000</td>\n",
              "      <td>0.000</td>\n",
              "      <td>0</td>\n",
              "      <td>0.010</td>\n",
              "    </tr>\n",
              "    <tr>\n",
              "      <th>16712</th>\n",
              "      <td>Haitaka no Psychedelica</td>\n",
              "      <td>PSV</td>\n",
              "      <td>2016</td>\n",
              "      <td>Adventure</td>\n",
              "      <td>0.000</td>\n",
              "      <td>0.000</td>\n",
              "      <td>0.010</td>\n",
              "      <td>0.000</td>\n",
              "      <td>0.000</td>\n",
              "      <td>0.000</td>\n",
              "      <td>0</td>\n",
              "      <td>0.010</td>\n",
              "    </tr>\n",
              "    <tr>\n",
              "      <th>16713</th>\n",
              "      <td>Spirits &amp; Spells</td>\n",
              "      <td>GBA</td>\n",
              "      <td>2003</td>\n",
              "      <td>Platform</td>\n",
              "      <td>0.010</td>\n",
              "      <td>0.000</td>\n",
              "      <td>0.000</td>\n",
              "      <td>0.000</td>\n",
              "      <td>0.000</td>\n",
              "      <td>0.000</td>\n",
              "      <td>0</td>\n",
              "      <td>0.010</td>\n",
              "    </tr>\n",
              "    <tr>\n",
              "      <th>16714</th>\n",
              "      <td>Winning Post 8 2016</td>\n",
              "      <td>PSV</td>\n",
              "      <td>2016</td>\n",
              "      <td>Simulation</td>\n",
              "      <td>0.000</td>\n",
              "      <td>0.000</td>\n",
              "      <td>0.010</td>\n",
              "      <td>0.000</td>\n",
              "      <td>0.000</td>\n",
              "      <td>0.000</td>\n",
              "      <td>0</td>\n",
              "      <td>0.010</td>\n",
              "    </tr>\n",
              "  </tbody>\n",
              "</table>\n",
              "<p>16567 rows × 12 columns</p>\n",
              "</div>\n",
              "      <button class=\"colab-df-convert\" onclick=\"convertToInteractive('df-64d1c171-7de0-4d12-b725-9a4c9b9ef752')\"\n",
              "              title=\"Convert this dataframe to an interactive table.\"\n",
              "              style=\"display:none;\">\n",
              "        \n",
              "  <svg xmlns=\"http://www.w3.org/2000/svg\" height=\"24px\"viewBox=\"0 0 24 24\"\n",
              "       width=\"24px\">\n",
              "    <path d=\"M0 0h24v24H0V0z\" fill=\"none\"/>\n",
              "    <path d=\"M18.56 5.44l.94 2.06.94-2.06 2.06-.94-2.06-.94-.94-2.06-.94 2.06-2.06.94zm-11 1L8.5 8.5l.94-2.06 2.06-.94-2.06-.94L8.5 2.5l-.94 2.06-2.06.94zm10 10l.94 2.06.94-2.06 2.06-.94-2.06-.94-.94-2.06-.94 2.06-2.06.94z\"/><path d=\"M17.41 7.96l-1.37-1.37c-.4-.4-.92-.59-1.43-.59-.52 0-1.04.2-1.43.59L10.3 9.45l-7.72 7.72c-.78.78-.78 2.05 0 2.83L4 21.41c.39.39.9.59 1.41.59.51 0 1.02-.2 1.41-.59l7.78-7.78 2.81-2.81c.8-.78.8-2.07 0-2.86zM5.41 20L4 18.59l7.72-7.72 1.47 1.35L5.41 20z\"/>\n",
              "  </svg>\n",
              "      </button>\n",
              "      \n",
              "  <style>\n",
              "    .colab-df-container {\n",
              "      display:flex;\n",
              "      flex-wrap:wrap;\n",
              "      gap: 12px;\n",
              "    }\n",
              "\n",
              "    .colab-df-convert {\n",
              "      background-color: #E8F0FE;\n",
              "      border: none;\n",
              "      border-radius: 50%;\n",
              "      cursor: pointer;\n",
              "      display: none;\n",
              "      fill: #1967D2;\n",
              "      height: 32px;\n",
              "      padding: 0 0 0 0;\n",
              "      width: 32px;\n",
              "    }\n",
              "\n",
              "    .colab-df-convert:hover {\n",
              "      background-color: #E2EBFA;\n",
              "      box-shadow: 0px 1px 2px rgba(60, 64, 67, 0.3), 0px 1px 3px 1px rgba(60, 64, 67, 0.15);\n",
              "      fill: #174EA6;\n",
              "    }\n",
              "\n",
              "    [theme=dark] .colab-df-convert {\n",
              "      background-color: #3B4455;\n",
              "      fill: #D2E3FC;\n",
              "    }\n",
              "\n",
              "    [theme=dark] .colab-df-convert:hover {\n",
              "      background-color: #434B5C;\n",
              "      box-shadow: 0px 1px 3px 1px rgba(0, 0, 0, 0.15);\n",
              "      filter: drop-shadow(0px 1px 2px rgba(0, 0, 0, 0.3));\n",
              "      fill: #FFFFFF;\n",
              "    }\n",
              "  </style>\n",
              "\n",
              "      <script>\n",
              "        const buttonEl =\n",
              "          document.querySelector('#df-64d1c171-7de0-4d12-b725-9a4c9b9ef752 button.colab-df-convert');\n",
              "        buttonEl.style.display =\n",
              "          google.colab.kernel.accessAllowed ? 'block' : 'none';\n",
              "\n",
              "        async function convertToInteractive(key) {\n",
              "          const element = document.querySelector('#df-64d1c171-7de0-4d12-b725-9a4c9b9ef752');\n",
              "          const dataTable =\n",
              "            await google.colab.kernel.invokeFunction('convertToInteractive',\n",
              "                                                     [key], {});\n",
              "          if (!dataTable) return;\n",
              "\n",
              "          const docLinkHtml = 'Like what you see? Visit the ' +\n",
              "            '<a target=\"_blank\" href=https://colab.research.google.com/notebooks/data_table.ipynb>data table notebook</a>'\n",
              "            + ' to learn more about interactive tables.';\n",
              "          element.innerHTML = '';\n",
              "          dataTable['output_type'] = 'display_data';\n",
              "          await google.colab.output.renderOutput(dataTable, element);\n",
              "          const docLink = document.createElement('div');\n",
              "          docLink.innerHTML = docLinkHtml;\n",
              "          element.appendChild(docLink);\n",
              "        }\n",
              "      </script>\n",
              "    </div>\n",
              "  </div>\n",
              "  "
            ],
            "text/plain": [
              "                                name platform  year_of_release         genre  \\\n",
              "0                         Wii Sports      Wii             2006        Sports   \n",
              "1                  Super Mario Bros.      NES             1985      Platform   \n",
              "2                     Mario Kart Wii      Wii             2008        Racing   \n",
              "3                  Wii Sports Resort      Wii             2009        Sports   \n",
              "4           Pokemon Red/Pokemon Blue       GB             1996  Role-Playing   \n",
              "...                              ...      ...              ...           ...   \n",
              "16710  Samurai Warriors: Sanada Maru      PS3             2016        Action   \n",
              "16711               LMA Manager 2007     X360             2006        Sports   \n",
              "16712        Haitaka no Psychedelica      PSV             2016     Adventure   \n",
              "16713               Spirits & Spells      GBA             2003      Platform   \n",
              "16714            Winning Post 8 2016      PSV             2016    Simulation   \n",
              "\n",
              "       na_sales  eu_sales  jp_sales  other_sales  critic_score  user_score  \\\n",
              "0        41.360    28.960     3.770        8.450        76.000       8.000   \n",
              "1        29.080     3.580     6.810        0.770         0.000       0.000   \n",
              "2        15.680    12.760     3.790        3.290        82.000       8.300   \n",
              "3        15.610    10.930     3.280        2.950        80.000       8.000   \n",
              "4        11.270     8.890    10.220        1.000         0.000       0.000   \n",
              "...         ...       ...       ...          ...           ...         ...   \n",
              "16710     0.000     0.000     0.010        0.000         0.000       0.000   \n",
              "16711     0.000     0.010     0.000        0.000         0.000       0.000   \n",
              "16712     0.000     0.000     0.010        0.000         0.000       0.000   \n",
              "16713     0.010     0.000     0.000        0.000         0.000       0.000   \n",
              "16714     0.000     0.000     0.010        0.000         0.000       0.000   \n",
              "\n",
              "      rating  total_sales  \n",
              "0          E       82.540  \n",
              "1          0       40.240  \n",
              "2          E       35.520  \n",
              "3          E       32.770  \n",
              "4          0       31.380  \n",
              "...      ...          ...  \n",
              "16710      0        0.010  \n",
              "16711      0        0.010  \n",
              "16712      0        0.010  \n",
              "16713      0        0.010  \n",
              "16714      0        0.010  \n",
              "\n",
              "[16567 rows x 12 columns]"
            ]
          },
          "metadata": {},
          "execution_count": 27
        }
      ]
    },
    {
      "cell_type": "markdown",
      "source": [
        "Итак, мы подготовили данные к работе: избавились от пропусков и артефактов, изменили тип данных, убедились в отсутствии дубликатов, привели названия столбцов к удобному виду. Дополнительно расчитали для каждой игры суммарные продажи по всем регионам. \n",
        "\n",
        "Переходим к исследованию!"
      ],
      "metadata": {
        "id": "uKpiUqIDIYSN"
      }
    },
    {
      "cell_type": "markdown",
      "source": [
        "## Исследовательский анализ данных"
      ],
      "metadata": {
        "id": "kTbqODIrIdxa"
      }
    },
    {
      "cell_type": "markdown",
      "source": [
        "### Посмотрим, сколько игр выпускалось в разные годы. Важны ли данные за все периоды?"
      ],
      "metadata": {
        "id": "8n5KCgfbI0L8"
      }
    },
    {
      "cell_type": "code",
      "source": [
        "games_stat = df.groupby('year_of_release')[['total_sales', 'name']].agg({'total_sales': 'sum', 'name': 'count'})\n",
        "games_stat.columns = ['total_sales', 'games_released']\n",
        "trace0 = go.Scatter(\n",
        "    x=games_stat.index,\n",
        "    y=games_stat.total_sales,\n",
        "    name='Значение общих продаж, млн шт.'\n",
        ")\n",
        "\n",
        "trace1 = go.Scatter(\n",
        "    x=games_stat.index,\n",
        "    y=games_stat.games_released,\n",
        "    name='Количество выпущенных игр'\n",
        ")\n",
        "\n",
        "data = [trace0, trace1]\n",
        "layout = {'title': 'Выпуск видео игр с 1980 по 2016 года'}\n",
        "\n",
        "fig = go.Figure(data=data, layout=layout)\n",
        "iplot(fig, show_link=False)"
      ],
      "metadata": {
        "colab": {
          "base_uri": "https://localhost:8080/",
          "height": 542
        },
        "id": "aG5QxjVDIZPw",
        "outputId": "2a8efb16-3551-44bd-d171-74bb0d9aa24f"
      },
      "execution_count": 28,
      "outputs": [
        {
          "output_type": "display_data",
          "data": {
            "text/html": [
              "<html>\n",
              "<head><meta charset=\"utf-8\" /></head>\n",
              "<body>\n",
              "    <div>            <script src=\"https://cdnjs.cloudflare.com/ajax/libs/mathjax/2.7.5/MathJax.js?config=TeX-AMS-MML_SVG\"></script><script type=\"text/javascript\">if (window.MathJax) {MathJax.Hub.Config({SVG: {font: \"STIX-Web\"}});}</script>                <script type=\"text/javascript\">window.PlotlyConfig = {MathJaxConfig: 'local'};</script>\n",
              "        <script src=\"https://cdn.plot.ly/plotly-2.8.3.min.js\"></script>                <div id=\"66e92e3b-a946-4dcb-9511-3bce44799f3b\" class=\"plotly-graph-div\" style=\"height:525px; width:100%;\"></div>            <script type=\"text/javascript\">                                    window.PLOTLYENV=window.PLOTLYENV || {};                                    if (document.getElementById(\"66e92e3b-a946-4dcb-9511-3bce44799f3b\")) {                    Plotly.newPlot(                        \"66e92e3b-a946-4dcb-9511-3bce44799f3b\",                        [{\"name\":\"\\u0417\\u043d\\u0430\\u0447\\u0435\\u043d\\u0438\\u0435 \\u043e\\u0431\\u0449\\u0438\\u0445 \\u043f\\u0440\\u043e\\u0434\\u0430\\u0436, \\u043c\\u043b\\u043d \\u0448\\u0442.\",\"x\":[1980,1981,1982,1983,1984,1985,1986,1987,1988,1989,1990,1991,1992,1993,1994,1995,1996,1997,1998,1999,2000,2001,2002,2003,2004,2005,2006,2007,2008,2009,2010,2011,2012,2013,2014,2015,2016],\"y\":[11.379999999999999,35.68,28.880000000000003,16.8,50.35,53.95,37.08,21.7,47.21,73.45,49.37,32.230000000000004,76.16,45.99,79.23,88.12,199.15,201.07,256.31,251.25,201.66,332.32,403.64,368.15,419.63,459.96,523.65,606.16,680.44,660.3100000000001,595.63,510.59,360.52,361.76,331.88,267.98,129.94],\"type\":\"scatter\"},{\"name\":\"\\u041a\\u043e\\u043b\\u0438\\u0447\\u0435\\u0441\\u0442\\u0432\\u043e \\u0432\\u044b\\u043f\\u0443\\u0449\\u0435\\u043d\\u043d\\u044b\\u0445 \\u0438\\u0433\\u0440\",\"x\":[1980,1981,1982,1983,1984,1985,1986,1987,1988,1989,1990,1991,1992,1993,1994,1995,1996,1997,1998,1999,2000,2001,2002,2003,2004,2005,2006,2007,2008,2009,2010,2011,2012,2013,2014,2015,2016],\"y\":[9,46,36,17,14,14,21,16,15,17,16,41,43,60,121,219,263,289,379,339,350,484,845,785,765,947,1020,1202,1440,1431,1271,1153,662,547,582,606,502],\"type\":\"scatter\"}],                        {\"template\":{\"data\":{\"barpolar\":[{\"marker\":{\"line\":{\"color\":\"#E5ECF6\",\"width\":0.5},\"pattern\":{\"fillmode\":\"overlay\",\"size\":10,\"solidity\":0.2}},\"type\":\"barpolar\"}],\"bar\":[{\"error_x\":{\"color\":\"#2a3f5f\"},\"error_y\":{\"color\":\"#2a3f5f\"},\"marker\":{\"line\":{\"color\":\"#E5ECF6\",\"width\":0.5},\"pattern\":{\"fillmode\":\"overlay\",\"size\":10,\"solidity\":0.2}},\"type\":\"bar\"}],\"carpet\":[{\"aaxis\":{\"endlinecolor\":\"#2a3f5f\",\"gridcolor\":\"white\",\"linecolor\":\"white\",\"minorgridcolor\":\"white\",\"startlinecolor\":\"#2a3f5f\"},\"baxis\":{\"endlinecolor\":\"#2a3f5f\",\"gridcolor\":\"white\",\"linecolor\":\"white\",\"minorgridcolor\":\"white\",\"startlinecolor\":\"#2a3f5f\"},\"type\":\"carpet\"}],\"choropleth\":[{\"colorbar\":{\"outlinewidth\":0,\"ticks\":\"\"},\"type\":\"choropleth\"}],\"contourcarpet\":[{\"colorbar\":{\"outlinewidth\":0,\"ticks\":\"\"},\"type\":\"contourcarpet\"}],\"contour\":[{\"colorbar\":{\"outlinewidth\":0,\"ticks\":\"\"},\"colorscale\":[[0.0,\"#0d0887\"],[0.1111111111111111,\"#46039f\"],[0.2222222222222222,\"#7201a8\"],[0.3333333333333333,\"#9c179e\"],[0.4444444444444444,\"#bd3786\"],[0.5555555555555556,\"#d8576b\"],[0.6666666666666666,\"#ed7953\"],[0.7777777777777778,\"#fb9f3a\"],[0.8888888888888888,\"#fdca26\"],[1.0,\"#f0f921\"]],\"type\":\"contour\"}],\"heatmapgl\":[{\"colorbar\":{\"outlinewidth\":0,\"ticks\":\"\"},\"colorscale\":[[0.0,\"#0d0887\"],[0.1111111111111111,\"#46039f\"],[0.2222222222222222,\"#7201a8\"],[0.3333333333333333,\"#9c179e\"],[0.4444444444444444,\"#bd3786\"],[0.5555555555555556,\"#d8576b\"],[0.6666666666666666,\"#ed7953\"],[0.7777777777777778,\"#fb9f3a\"],[0.8888888888888888,\"#fdca26\"],[1.0,\"#f0f921\"]],\"type\":\"heatmapgl\"}],\"heatmap\":[{\"colorbar\":{\"outlinewidth\":0,\"ticks\":\"\"},\"colorscale\":[[0.0,\"#0d0887\"],[0.1111111111111111,\"#46039f\"],[0.2222222222222222,\"#7201a8\"],[0.3333333333333333,\"#9c179e\"],[0.4444444444444444,\"#bd3786\"],[0.5555555555555556,\"#d8576b\"],[0.6666666666666666,\"#ed7953\"],[0.7777777777777778,\"#fb9f3a\"],[0.8888888888888888,\"#fdca26\"],[1.0,\"#f0f921\"]],\"type\":\"heatmap\"}],\"histogram2dcontour\":[{\"colorbar\":{\"outlinewidth\":0,\"ticks\":\"\"},\"colorscale\":[[0.0,\"#0d0887\"],[0.1111111111111111,\"#46039f\"],[0.2222222222222222,\"#7201a8\"],[0.3333333333333333,\"#9c179e\"],[0.4444444444444444,\"#bd3786\"],[0.5555555555555556,\"#d8576b\"],[0.6666666666666666,\"#ed7953\"],[0.7777777777777778,\"#fb9f3a\"],[0.8888888888888888,\"#fdca26\"],[1.0,\"#f0f921\"]],\"type\":\"histogram2dcontour\"}],\"histogram2d\":[{\"colorbar\":{\"outlinewidth\":0,\"ticks\":\"\"},\"colorscale\":[[0.0,\"#0d0887\"],[0.1111111111111111,\"#46039f\"],[0.2222222222222222,\"#7201a8\"],[0.3333333333333333,\"#9c179e\"],[0.4444444444444444,\"#bd3786\"],[0.5555555555555556,\"#d8576b\"],[0.6666666666666666,\"#ed7953\"],[0.7777777777777778,\"#fb9f3a\"],[0.8888888888888888,\"#fdca26\"],[1.0,\"#f0f921\"]],\"type\":\"histogram2d\"}],\"histogram\":[{\"marker\":{\"pattern\":{\"fillmode\":\"overlay\",\"size\":10,\"solidity\":0.2}},\"type\":\"histogram\"}],\"mesh3d\":[{\"colorbar\":{\"outlinewidth\":0,\"ticks\":\"\"},\"type\":\"mesh3d\"}],\"parcoords\":[{\"line\":{\"colorbar\":{\"outlinewidth\":0,\"ticks\":\"\"}},\"type\":\"parcoords\"}],\"pie\":[{\"automargin\":true,\"type\":\"pie\"}],\"scatter3d\":[{\"line\":{\"colorbar\":{\"outlinewidth\":0,\"ticks\":\"\"}},\"marker\":{\"colorbar\":{\"outlinewidth\":0,\"ticks\":\"\"}},\"type\":\"scatter3d\"}],\"scattercarpet\":[{\"marker\":{\"colorbar\":{\"outlinewidth\":0,\"ticks\":\"\"}},\"type\":\"scattercarpet\"}],\"scattergeo\":[{\"marker\":{\"colorbar\":{\"outlinewidth\":0,\"ticks\":\"\"}},\"type\":\"scattergeo\"}],\"scattergl\":[{\"marker\":{\"colorbar\":{\"outlinewidth\":0,\"ticks\":\"\"}},\"type\":\"scattergl\"}],\"scattermapbox\":[{\"marker\":{\"colorbar\":{\"outlinewidth\":0,\"ticks\":\"\"}},\"type\":\"scattermapbox\"}],\"scatterpolargl\":[{\"marker\":{\"colorbar\":{\"outlinewidth\":0,\"ticks\":\"\"}},\"type\":\"scatterpolargl\"}],\"scatterpolar\":[{\"marker\":{\"colorbar\":{\"outlinewidth\":0,\"ticks\":\"\"}},\"type\":\"scatterpolar\"}],\"scatter\":[{\"marker\":{\"colorbar\":{\"outlinewidth\":0,\"ticks\":\"\"}},\"type\":\"scatter\"}],\"scatterternary\":[{\"marker\":{\"colorbar\":{\"outlinewidth\":0,\"ticks\":\"\"}},\"type\":\"scatterternary\"}],\"surface\":[{\"colorbar\":{\"outlinewidth\":0,\"ticks\":\"\"},\"colorscale\":[[0.0,\"#0d0887\"],[0.1111111111111111,\"#46039f\"],[0.2222222222222222,\"#7201a8\"],[0.3333333333333333,\"#9c179e\"],[0.4444444444444444,\"#bd3786\"],[0.5555555555555556,\"#d8576b\"],[0.6666666666666666,\"#ed7953\"],[0.7777777777777778,\"#fb9f3a\"],[0.8888888888888888,\"#fdca26\"],[1.0,\"#f0f921\"]],\"type\":\"surface\"}],\"table\":[{\"cells\":{\"fill\":{\"color\":\"#EBF0F8\"},\"line\":{\"color\":\"white\"}},\"header\":{\"fill\":{\"color\":\"#C8D4E3\"},\"line\":{\"color\":\"white\"}},\"type\":\"table\"}]},\"layout\":{\"annotationdefaults\":{\"arrowcolor\":\"#2a3f5f\",\"arrowhead\":0,\"arrowwidth\":1},\"autotypenumbers\":\"strict\",\"coloraxis\":{\"colorbar\":{\"outlinewidth\":0,\"ticks\":\"\"}},\"colorscale\":{\"diverging\":[[0,\"#8e0152\"],[0.1,\"#c51b7d\"],[0.2,\"#de77ae\"],[0.3,\"#f1b6da\"],[0.4,\"#fde0ef\"],[0.5,\"#f7f7f7\"],[0.6,\"#e6f5d0\"],[0.7,\"#b8e186\"],[0.8,\"#7fbc41\"],[0.9,\"#4d9221\"],[1,\"#276419\"]],\"sequential\":[[0.0,\"#0d0887\"],[0.1111111111111111,\"#46039f\"],[0.2222222222222222,\"#7201a8\"],[0.3333333333333333,\"#9c179e\"],[0.4444444444444444,\"#bd3786\"],[0.5555555555555556,\"#d8576b\"],[0.6666666666666666,\"#ed7953\"],[0.7777777777777778,\"#fb9f3a\"],[0.8888888888888888,\"#fdca26\"],[1.0,\"#f0f921\"]],\"sequentialminus\":[[0.0,\"#0d0887\"],[0.1111111111111111,\"#46039f\"],[0.2222222222222222,\"#7201a8\"],[0.3333333333333333,\"#9c179e\"],[0.4444444444444444,\"#bd3786\"],[0.5555555555555556,\"#d8576b\"],[0.6666666666666666,\"#ed7953\"],[0.7777777777777778,\"#fb9f3a\"],[0.8888888888888888,\"#fdca26\"],[1.0,\"#f0f921\"]]},\"colorway\":[\"#636efa\",\"#EF553B\",\"#00cc96\",\"#ab63fa\",\"#FFA15A\",\"#19d3f3\",\"#FF6692\",\"#B6E880\",\"#FF97FF\",\"#FECB52\"],\"font\":{\"color\":\"#2a3f5f\"},\"geo\":{\"bgcolor\":\"white\",\"lakecolor\":\"white\",\"landcolor\":\"#E5ECF6\",\"showlakes\":true,\"showland\":true,\"subunitcolor\":\"white\"},\"hoverlabel\":{\"align\":\"left\"},\"hovermode\":\"closest\",\"mapbox\":{\"style\":\"light\"},\"paper_bgcolor\":\"white\",\"plot_bgcolor\":\"#E5ECF6\",\"polar\":{\"angularaxis\":{\"gridcolor\":\"white\",\"linecolor\":\"white\",\"ticks\":\"\"},\"bgcolor\":\"#E5ECF6\",\"radialaxis\":{\"gridcolor\":\"white\",\"linecolor\":\"white\",\"ticks\":\"\"}},\"scene\":{\"xaxis\":{\"backgroundcolor\":\"#E5ECF6\",\"gridcolor\":\"white\",\"gridwidth\":2,\"linecolor\":\"white\",\"showbackground\":true,\"ticks\":\"\",\"zerolinecolor\":\"white\"},\"yaxis\":{\"backgroundcolor\":\"#E5ECF6\",\"gridcolor\":\"white\",\"gridwidth\":2,\"linecolor\":\"white\",\"showbackground\":true,\"ticks\":\"\",\"zerolinecolor\":\"white\"},\"zaxis\":{\"backgroundcolor\":\"#E5ECF6\",\"gridcolor\":\"white\",\"gridwidth\":2,\"linecolor\":\"white\",\"showbackground\":true,\"ticks\":\"\",\"zerolinecolor\":\"white\"}},\"shapedefaults\":{\"line\":{\"color\":\"#2a3f5f\"}},\"ternary\":{\"aaxis\":{\"gridcolor\":\"white\",\"linecolor\":\"white\",\"ticks\":\"\"},\"baxis\":{\"gridcolor\":\"white\",\"linecolor\":\"white\",\"ticks\":\"\"},\"bgcolor\":\"#E5ECF6\",\"caxis\":{\"gridcolor\":\"white\",\"linecolor\":\"white\",\"ticks\":\"\"}},\"title\":{\"x\":0.05},\"xaxis\":{\"automargin\":true,\"gridcolor\":\"white\",\"linecolor\":\"white\",\"ticks\":\"\",\"title\":{\"standoff\":15},\"zerolinecolor\":\"white\",\"zerolinewidth\":2},\"yaxis\":{\"automargin\":true,\"gridcolor\":\"white\",\"linecolor\":\"white\",\"ticks\":\"\",\"title\":{\"standoff\":15},\"zerolinecolor\":\"white\",\"zerolinewidth\":2}}},\"title\":{\"text\":\"\\u0412\\u044b\\u043f\\u0443\\u0441\\u043a \\u0432\\u0438\\u0434\\u0435\\u043e \\u0438\\u0433\\u0440 \\u0441 1980 \\u043f\\u043e 2016 \\u0433\\u043e\\u0434\\u0430\"}},                        {\"responsive\": true}                    ).then(function(){\n",
              "                            \n",
              "var gd = document.getElementById('66e92e3b-a946-4dcb-9511-3bce44799f3b');\n",
              "var x = new MutationObserver(function (mutations, observer) {{\n",
              "        var display = window.getComputedStyle(gd).display;\n",
              "        if (!display || display === 'none') {{\n",
              "            console.log([gd, 'removed!']);\n",
              "            Plotly.purge(gd);\n",
              "            observer.disconnect();\n",
              "        }}\n",
              "}});\n",
              "\n",
              "// Listen for the removal of the full notebook cells\n",
              "var notebookContainer = gd.closest('#notebook-container');\n",
              "if (notebookContainer) {{\n",
              "    x.observe(notebookContainer, {childList: true});\n",
              "}}\n",
              "\n",
              "// Listen for the clearing of the current output cell\n",
              "var outputEl = gd.closest('.output');\n",
              "if (outputEl) {{\n",
              "    x.observe(outputEl, {childList: true});\n",
              "}}\n",
              "\n",
              "                        })                };                            </script>        </div>\n",
              "</body>\n",
              "</html>"
            ]
          },
          "metadata": {}
        }
      ]
    },
    {
      "cell_type": "markdown",
      "source": [
        "С 1980 по 1990 выпускалось и продавалось очень мало игр. В 90-е годы индустрия игр для ПК и игровых консолей начала развиваться, активный рост наблюдался в начале 2000х годов. Бум развития игровой индустрии пришелся на 2008-2009 годы - в это время было произведено и реализовано максимальное количество игр, продажи по всему миру превысили 650 млн копий в год. Начиная с 2009 года объем выпуска и объем продаж неуклонно снижаются. \n",
        "\n",
        "По данным портала Stopgame.ru (https://stopgame.ru/newsdata/41236) в 2019 году 46% рынка занимали игры для мобильных устройств (смартфонов и планшетов). Данные об этих платформах отсутствуют в нашем датасете - предполагаем, что именно их стремительное развитие и завоевание существенной доли рынка обусловило снижение продаж игр для консолей и ПК после 2009 года.\n",
        "\n",
        "Посмотрим динамику продаж по макрорегионам"
      ],
      "metadata": {
        "id": "yxkQ-ZWrKhSy"
      }
    },
    {
      "cell_type": "code",
      "source": [
        "#Агрегируем данные и посмотрим на динамику продаж в макрорегиионах\n",
        "sales = df[[x for x in df.columns if 'sales' in x] + ['year_of_release']]\n",
        "sales.groupby('year_of_release').sum().plot(figsize=(20,7))\n",
        "plt.title('Динамика продаж по макрорегионам')\n",
        "plt.xlabel('год выпуска игры')\n",
        "plt.ylabel('количество проданных игр, млн.шт');"
      ],
      "metadata": {
        "colab": {
          "base_uri": "https://localhost:8080/",
          "height": 437
        },
        "id": "jhiMYRUoKjH-",
        "outputId": "687823f3-a8e4-49a1-f229-541f5dbe7d43"
      },
      "execution_count": 29,
      "outputs": [
        {
          "output_type": "display_data",
          "data": {
            "image/png": "[encoded data removed]",
            "text/plain": [
              "<Figure size 1440x504 with 1 Axes>"
            ]
          },
          "metadata": {
            "needs_background": "light"
          }
        }
      ]
    },
    {
      "cell_type": "markdown",
      "source": [
        "На графике выше представлена динамика объема продаж компьютерных игр по регионам и в целом в мире. Мы видим, что основная доля продаж приходится на рынок Европы и Северной Америки. Для данных регионов характерен рост спроса на игры в первом десятилетии 21 века, и спад в 2009-2015 годах. В то же время доля Японии и других стран в общим объеме продаж незначительна и спрос практически стабилен на протяжении последних 15 лет. "
      ],
      "metadata": {
        "id": "LeBCKwBKLcVo"
      }
    },
    {
      "cell_type": "markdown",
      "source": [
        "### Посмотрим, как менялись продажи по платформам. "
      ],
      "metadata": {
        "id": "Gjr4dRe3LlGP"
      }
    },
    {
      "cell_type": "markdown",
      "source": [
        "С 2009 года идет снижение показателей. Наша задача определить закономерности определяющие успешность игры. Для этого нам не нужны данные за весь период. Игра скорее всего не будет успешной, если выйдет на платформе из 1984 года. Определим временной период в котором будут находиться данные полезные нам.\n",
        "Посмотрим, как менялись продажи по платформам. Выберем платформы с наибольшими суммарными продажами и построим распределение по годам. За какой характерный срок появляются новые и исчезают старые платформы"
      ],
      "metadata": {
        "id": "wTCxMcUiXgr1"
      }
    },
    {
      "cell_type": "code",
      "source": [
        "# Расчет общих продаж по платформам\n",
        "df_platforms = df.pivot_table(index=['platform'],values= 'total_sales', aggfunc='sum').sort_values(by='total_sales', ascending =False).reset_index()\n",
        "df_platforms = df_platforms.loc[0:11]\n",
        "df_platforms.style.background_gradient(cmap=cm)"
      ],
      "metadata": {
        "colab": {
          "base_uri": "https://localhost:8080/",
          "height": 426
        },
        "id": "mdaBin5GLACI",
        "outputId": "ec9eef59-716d-4073-f676-d1f3b651390f"
      },
      "execution_count": 30,
      "outputs": [
        {
          "output_type": "execute_result",
          "data": {
            "text/html": [
              "<style type=\"text/css\">\n",
              "#T_cc2a9_row0_col1 {\n",
              "  background-color: #a52a2a;\n",
              "  color: #f1f1f1;\n",
              "}\n",
              "#T_cc2a9_row1_col1 {\n",
              "  background-color: #bb6262;\n",
              "  color: #f1f1f1;\n",
              "}\n",
              "#T_cc2a9_row2_col1 {\n",
              "  background-color: #bd6868;\n",
              "  color: #f1f1f1;\n",
              "}\n",
              "#T_cc2a9_row3_col1 {\n",
              "  background-color: #c06e6e;\n",
              "  color: #f1f1f1;\n",
              "}\n",
              "#T_cc2a9_row4_col1 {\n",
              "  background-color: #c88383;\n",
              "  color: #f1f1f1;\n",
              "}\n",
              "#T_cc2a9_row5_col1 {\n",
              "  background-color: #ce9292;\n",
              "  color: #f1f1f1;\n",
              "}\n",
              "#T_cc2a9_row6_col1, #T_cc2a9_row7_col1 {\n",
              "  background-color: #eee5e5;\n",
              "  color: #000000;\n",
              "}\n",
              "#T_cc2a9_row8_col1 {\n",
              "  background-color: #f0e9e9;\n",
              "  color: #000000;\n",
              "}\n",
              "#T_cc2a9_row9_col1, #T_cc2a9_row10_col1, #T_cc2a9_row11_col1 {\n",
              "  background-color: #f2f0f0;\n",
              "  color: #000000;\n",
              "}\n",
              "</style>\n",
              "<table id=\"T_cc2a9_\" class=\"dataframe\">\n",
              "  <thead>\n",
              "    <tr>\n",
              "      <th class=\"blank level0\" >&nbsp;</th>\n",
              "      <th class=\"col_heading level0 col0\" >platform</th>\n",
              "      <th class=\"col_heading level0 col1\" >total_sales</th>\n",
              "    </tr>\n",
              "  </thead>\n",
              "  <tbody>\n",
              "    <tr>\n",
              "      <th id=\"T_cc2a9_level0_row0\" class=\"row_heading level0 row0\" >0</th>\n",
              "      <td id=\"T_cc2a9_row0_col0\" class=\"data row0 col0\" >PS2</td>\n",
              "      <td id=\"T_cc2a9_row0_col1\" class=\"data row0 col1\" >1247.160000</td>\n",
              "    </tr>\n",
              "    <tr>\n",
              "      <th id=\"T_cc2a9_level0_row1\" class=\"row_heading level0 row1\" >1</th>\n",
              "      <td id=\"T_cc2a9_row1_col0\" class=\"data row1 col0\" >X360</td>\n",
              "      <td id=\"T_cc2a9_row1_col1\" class=\"data row1 col1\" >966.610000</td>\n",
              "    </tr>\n",
              "    <tr>\n",
              "      <th id=\"T_cc2a9_level0_row2\" class=\"row_heading level0 row2\" >2</th>\n",
              "      <td id=\"T_cc2a9_row2_col0\" class=\"data row2 col0\" >PS3</td>\n",
              "      <td id=\"T_cc2a9_row2_col1\" class=\"data row2 col1\" >935.190000</td>\n",
              "    </tr>\n",
              "    <tr>\n",
              "      <th id=\"T_cc2a9_level0_row3\" class=\"row_heading level0 row3\" >3</th>\n",
              "      <td id=\"T_cc2a9_row3_col0\" class=\"data row3 col0\" >Wii</td>\n",
              "      <td id=\"T_cc2a9_row3_col1\" class=\"data row3 col1\" >903.310000</td>\n",
              "    </tr>\n",
              "    <tr>\n",
              "      <th id=\"T_cc2a9_level0_row4\" class=\"row_heading level0 row4\" >4</th>\n",
              "      <td id=\"T_cc2a9_row4_col0\" class=\"data row4 col0\" >DS</td>\n",
              "      <td id=\"T_cc2a9_row4_col1\" class=\"data row4 col1\" >804.280000</td>\n",
              "    </tr>\n",
              "    <tr>\n",
              "      <th id=\"T_cc2a9_level0_row5\" class=\"row_heading level0 row5\" >5</th>\n",
              "      <td id=\"T_cc2a9_row5_col0\" class=\"data row5 col0\" >PS</td>\n",
              "      <td id=\"T_cc2a9_row5_col1\" class=\"data row5 col1\" >727.580000</td>\n",
              "    </tr>\n",
              "    <tr>\n",
              "      <th id=\"T_cc2a9_level0_row6\" class=\"row_heading level0 row6\" >6</th>\n",
              "      <td id=\"T_cc2a9_row6_col0\" class=\"data row6 col0\" >PS4</td>\n",
              "      <td id=\"T_cc2a9_row6_col1\" class=\"data row6 col1\" >314.140000</td>\n",
              "    </tr>\n",
              "    <tr>\n",
              "      <th id=\"T_cc2a9_level0_row7\" class=\"row_heading level0 row7\" >7</th>\n",
              "      <td id=\"T_cc2a9_row7_col0\" class=\"data row7 col0\" >GBA</td>\n",
              "      <td id=\"T_cc2a9_row7_col1\" class=\"data row7 col1\" >313.730000</td>\n",
              "    </tr>\n",
              "    <tr>\n",
              "      <th id=\"T_cc2a9_level0_row8\" class=\"row_heading level0 row8\" >8</th>\n",
              "      <td id=\"T_cc2a9_row8_col0\" class=\"data row8 col0\" >PSP</td>\n",
              "      <td id=\"T_cc2a9_row8_col1\" class=\"data row8 col1\" >293.570000</td>\n",
              "    </tr>\n",
              "    <tr>\n",
              "      <th id=\"T_cc2a9_level0_row9\" class=\"row_heading level0 row9\" >9</th>\n",
              "      <td id=\"T_cc2a9_row9_col0\" class=\"data row9 col0\" >PC</td>\n",
              "      <td id=\"T_cc2a9_row9_col1\" class=\"data row9 col1\" >258.860000</td>\n",
              "    </tr>\n",
              "    <tr>\n",
              "      <th id=\"T_cc2a9_level0_row10\" class=\"row_heading level0 row10\" >10</th>\n",
              "      <td id=\"T_cc2a9_row10_col0\" class=\"data row10 col0\" >3DS</td>\n",
              "      <td id=\"T_cc2a9_row10_col1\" class=\"data row10 col1\" >258.530000</td>\n",
              "    </tr>\n",
              "    <tr>\n",
              "      <th id=\"T_cc2a9_level0_row11\" class=\"row_heading level0 row11\" >11</th>\n",
              "      <td id=\"T_cc2a9_row11_col0\" class=\"data row11 col0\" >XB</td>\n",
              "      <td id=\"T_cc2a9_row11_col1\" class=\"data row11 col1\" >256.690000</td>\n",
              "    </tr>\n",
              "  </tbody>\n",
              "</table>\n"
            ],
            "text/plain": [
              "<pandas.io.formats.style.Styler at 0x7f4e75b30910>"
            ]
          },
          "metadata": {},
          "execution_count": 30
        }
      ]
    },
    {
      "cell_type": "code",
      "source": [
        "# Группировка платформ с самыми большими продажами по годам\n",
        "p = df_platforms['platform']\n",
        "df1 = df.query('platform in @p').groupby(['platform', 'year_of_release'], as_index=False).agg({'total_sales': 'sum'})\n",
        "df1"
      ],
      "metadata": {
        "colab": {
          "base_uri": "https://localhost:8080/",
          "height": 423
        },
        "id": "QCXDnffSOMdl",
        "outputId": "ed47710a-354b-4707-ab4a-1f83b164413a"
      },
      "execution_count": 31,
      "outputs": [
        {
          "output_type": "execute_result",
          "data": {
            "text/html": [
              "\n",
              "  <div id=\"df-c0a681ec-89ec-4fc7-824b-677a6f348d3e\">\n",
              "    <div class=\"colab-df-container\">\n",
              "      <div>\n",
              "<style scoped>\n",
              "    .dataframe tbody tr th:only-of-type {\n",
              "        vertical-align: middle;\n",
              "    }\n",
              "\n",
              "    .dataframe tbody tr th {\n",
              "        vertical-align: top;\n",
              "    }\n",
              "\n",
              "    .dataframe thead th {\n",
              "        text-align: right;\n",
              "    }\n",
              "</style>\n",
              "<table border=\"1\" class=\"dataframe\">\n",
              "  <thead>\n",
              "    <tr style=\"text-align: right;\">\n",
              "      <th></th>\n",
              "      <th>platform</th>\n",
              "      <th>year_of_release</th>\n",
              "      <th>total_sales</th>\n",
              "    </tr>\n",
              "  </thead>\n",
              "  <tbody>\n",
              "    <tr>\n",
              "      <th>0</th>\n",
              "      <td>3DS</td>\n",
              "      <td>2010</td>\n",
              "      <td>0.320</td>\n",
              "    </tr>\n",
              "    <tr>\n",
              "      <th>1</th>\n",
              "      <td>3DS</td>\n",
              "      <td>2011</td>\n",
              "      <td>63.200</td>\n",
              "    </tr>\n",
              "    <tr>\n",
              "      <th>2</th>\n",
              "      <td>3DS</td>\n",
              "      <td>2012</td>\n",
              "      <td>51.760</td>\n",
              "    </tr>\n",
              "    <tr>\n",
              "      <th>3</th>\n",
              "      <td>3DS</td>\n",
              "      <td>2013</td>\n",
              "      <td>56.570</td>\n",
              "    </tr>\n",
              "    <tr>\n",
              "      <th>4</th>\n",
              "      <td>3DS</td>\n",
              "      <td>2014</td>\n",
              "      <td>43.760</td>\n",
              "    </tr>\n",
              "    <tr>\n",
              "      <th>...</th>\n",
              "      <td>...</td>\n",
              "      <td>...</td>\n",
              "      <td>...</td>\n",
              "    </tr>\n",
              "    <tr>\n",
              "      <th>129</th>\n",
              "      <td>XB</td>\n",
              "      <td>2004</td>\n",
              "      <td>65.970</td>\n",
              "    </tr>\n",
              "    <tr>\n",
              "      <th>130</th>\n",
              "      <td>XB</td>\n",
              "      <td>2005</td>\n",
              "      <td>49.090</td>\n",
              "    </tr>\n",
              "    <tr>\n",
              "      <th>131</th>\n",
              "      <td>XB</td>\n",
              "      <td>2006</td>\n",
              "      <td>10.040</td>\n",
              "    </tr>\n",
              "    <tr>\n",
              "      <th>132</th>\n",
              "      <td>XB</td>\n",
              "      <td>2007</td>\n",
              "      <td>0.550</td>\n",
              "    </tr>\n",
              "    <tr>\n",
              "      <th>133</th>\n",
              "      <td>XB</td>\n",
              "      <td>2008</td>\n",
              "      <td>0.180</td>\n",
              "    </tr>\n",
              "  </tbody>\n",
              "</table>\n",
              "<p>134 rows × 3 columns</p>\n",
              "</div>\n",
              "      <button class=\"colab-df-convert\" onclick=\"convertToInteractive('df-c0a681ec-89ec-4fc7-824b-677a6f348d3e')\"\n",
              "              title=\"Convert this dataframe to an interactive table.\"\n",
              "              style=\"display:none;\">\n",
              "        \n",
              "  <svg xmlns=\"http://www.w3.org/2000/svg\" height=\"24px\"viewBox=\"0 0 24 24\"\n",
              "       width=\"24px\">\n",
              "    <path d=\"M0 0h24v24H0V0z\" fill=\"none\"/>\n",
              "    <path d=\"M18.56 5.44l.94 2.06.94-2.06 2.06-.94-2.06-.94-.94-2.06-.94 2.06-2.06.94zm-11 1L8.5 8.5l.94-2.06 2.06-.94-2.06-.94L8.5 2.5l-.94 2.06-2.06.94zm10 10l.94 2.06.94-2.06 2.06-.94-2.06-.94-.94-2.06-.94 2.06-2.06.94z\"/><path d=\"M17.41 7.96l-1.37-1.37c-.4-.4-.92-.59-1.43-.59-.52 0-1.04.2-1.43.59L10.3 9.45l-7.72 7.72c-.78.78-.78 2.05 0 2.83L4 21.41c.39.39.9.59 1.41.59.51 0 1.02-.2 1.41-.59l7.78-7.78 2.81-2.81c.8-.78.8-2.07 0-2.86zM5.41 20L4 18.59l7.72-7.72 1.47 1.35L5.41 20z\"/>\n",
              "  </svg>\n",
              "      </button>\n",
              "      \n",
              "  <style>\n",
              "    .colab-df-container {\n",
              "      display:flex;\n",
              "      flex-wrap:wrap;\n",
              "      gap: 12px;\n",
              "    }\n",
              "\n",
              "    .colab-df-convert {\n",
              "      background-color: #E8F0FE;\n",
              "      border: none;\n",
              "      border-radius: 50%;\n",
              "      cursor: pointer;\n",
              "      display: none;\n",
              "      fill: #1967D2;\n",
              "      height: 32px;\n",
              "      padding: 0 0 0 0;\n",
              "      width: 32px;\n",
              "    }\n",
              "\n",
              "    .colab-df-convert:hover {\n",
              "      background-color: #E2EBFA;\n",
              "      box-shadow: 0px 1px 2px rgba(60, 64, 67, 0.3), 0px 1px 3px 1px rgba(60, 64, 67, 0.15);\n",
              "      fill: #174EA6;\n",
              "    }\n",
              "\n",
              "    [theme=dark] .colab-df-convert {\n",
              "      background-color: #3B4455;\n",
              "      fill: #D2E3FC;\n",
              "    }\n",
              "\n",
              "    [theme=dark] .colab-df-convert:hover {\n",
              "      background-color: #434B5C;\n",
              "      box-shadow: 0px 1px 3px 1px rgba(0, 0, 0, 0.15);\n",
              "      filter: drop-shadow(0px 1px 2px rgba(0, 0, 0, 0.3));\n",
              "      fill: #FFFFFF;\n",
              "    }\n",
              "  </style>\n",
              "\n",
              "      <script>\n",
              "        const buttonEl =\n",
              "          document.querySelector('#df-c0a681ec-89ec-4fc7-824b-677a6f348d3e button.colab-df-convert');\n",
              "        buttonEl.style.display =\n",
              "          google.colab.kernel.accessAllowed ? 'block' : 'none';\n",
              "\n",
              "        async function convertToInteractive(key) {\n",
              "          const element = document.querySelector('#df-c0a681ec-89ec-4fc7-824b-677a6f348d3e');\n",
              "          const dataTable =\n",
              "            await google.colab.kernel.invokeFunction('convertToInteractive',\n",
              "                                                     [key], {});\n",
              "          if (!dataTable) return;\n",
              "\n",
              "          const docLinkHtml = 'Like what you see? Visit the ' +\n",
              "            '<a target=\"_blank\" href=https://colab.research.google.com/notebooks/data_table.ipynb>data table notebook</a>'\n",
              "            + ' to learn more about interactive tables.';\n",
              "          element.innerHTML = '';\n",
              "          dataTable['output_type'] = 'display_data';\n",
              "          await google.colab.output.renderOutput(dataTable, element);\n",
              "          const docLink = document.createElement('div');\n",
              "          docLink.innerHTML = docLinkHtml;\n",
              "          element.appendChild(docLink);\n",
              "        }\n",
              "      </script>\n",
              "    </div>\n",
              "  </div>\n",
              "  "
            ],
            "text/plain": [
              "    platform  year_of_release  total_sales\n",
              "0        3DS             2010        0.320\n",
              "1        3DS             2011       63.200\n",
              "2        3DS             2012       51.760\n",
              "3        3DS             2013       56.570\n",
              "4        3DS             2014       43.760\n",
              "..       ...              ...          ...\n",
              "129       XB             2004       65.970\n",
              "130       XB             2005       49.090\n",
              "131       XB             2006       10.040\n",
              "132       XB             2007        0.550\n",
              "133       XB             2008        0.180\n",
              "\n",
              "[134 rows x 3 columns]"
            ]
          },
          "metadata": {},
          "execution_count": 31
        }
      ]
    },
    {
      "cell_type": "code",
      "source": [
        "sns.relplot(data = df1, x=\"year_of_release\", y=\"platform\", hue=\"total_sales\", size=\"total_sales\", sizes=(30, 150),  height=8.27, aspect=11.7/8.27)\n",
        "plt.title('Продажи игр в зависимости от платформы')\n",
        "plt.xlabel('Года')\n",
        "plt.ylabel('Проданно копий млн.шт')\n",
        "plt.show()"
      ],
      "metadata": {
        "colab": {
          "base_uri": "https://localhost:8080/",
          "height": 621
        },
        "id": "Fe31TGPNORN8",
        "outputId": "7b24d998-f24c-4f8c-8dde-8a8d4dd556c4"
      },
      "execution_count": 32,
      "outputs": [
        {
          "output_type": "display_data",
          "data": {
            "image/png": "[encoded data removed]",
            "text/plain": [
              "<Figure size 903.775x595.44 with 1 Axes>"
            ]
          },
          "metadata": {
            "needs_background": "light"
          }
        }
      ]
    },
    {
      "cell_type": "markdown",
      "source": [
        "На графике видим продажи игр по каждой платформе. Наблюдаем в основном нормальное распределение значений продаж. Видим, что из 12 платформ к 2016 году \"остались в живых\" только 6. Особняком среди них стоит PC, это платформа стабильно продает игры уже на протяжении 23 лет, но показатели продаж стабильно низкие."
      ],
      "metadata": {
        "id": "jlEQm-3vYc0b"
      }
    },
    {
      "cell_type": "code",
      "source": [
        "#Сгруппируем данные и определим за какой характерный срок появляются новые и исчезают старые платформы.\n",
        "z = df.pivot_table(values='year_of_release', index='platform', aggfunc=lambda x: len(x.unique())).median()\n",
        "print('Медиана продолжительности жизни всех платформ', int(z[0]), 'лет')\n"
      ],
      "metadata": {
        "colab": {
          "base_uri": "https://localhost:8080/"
        },
        "id": "bEHTMcvBOSxb",
        "outputId": "8fbc5d54-f9f9-4dc3-d4f1-94507fdeb12b"
      },
      "execution_count": 33,
      "outputs": [
        {
          "output_type": "stream",
          "name": "stdout",
          "text": [
            "Медиана продолжительности жизни всех платформ 7 лет\n"
          ]
        }
      ]
    },
    {
      "cell_type": "markdown",
      "source": [
        "Для исключения возможных выбросов используем медиану показателей продолжительнойте жизни платформ. Пик продаж платформы = 7/2. Округлим до 4. Вывод: актуальный период исследования данных 4 года.\n",
        "Возьмём данные за соответствующий актуальный период. Эти данные помогут построить прогноз на 2017 год."
      ],
      "metadata": {
        "id": "NJLKY2rEYvs0"
      }
    },
    {
      "cell_type": "code",
      "source": [
        "df_2012=df[df.year_of_release > 2012]\n",
        "df_new = df_2012.pivot_table(index='year_of_release',\n",
        "                             columns ='platform',\n",
        "                             values='total_sales',\n",
        "                             aggfunc='sum' )\n",
        "df_new.plot(figsize=(20,7))\n",
        "plt.title('Продажи платформ')\n",
        "plt.xlabel('года')\n",
        "plt.ylabel('Продажи')\n",
        "plt.show()"
      ],
      "metadata": {
        "colab": {
          "base_uri": "https://localhost:8080/",
          "height": 437
        },
        "id": "py-dwLJqYzcp",
        "outputId": "8c89c6ef-8de5-42b4-f62d-60894511f6b6"
      },
      "execution_count": 34,
      "outputs": [
        {
          "output_type": "display_data",
          "data": {
            "image/png": "[encoded data removed]",
            "text/plain": [
              "<Figure size 1440x504 with 1 Axes>"
            ]
          },
          "metadata": {
            "needs_background": "light"
          }
        }
      ]
    },
    {
      "cell_type": "markdown",
      "source": [
        "Мы видим группу из 3-х платформ лидирующих в продажах как 2015 так и в 2016 годах: XOne, PS4, 3DS. Все платформы на ходятся на спаде продаж. Их жизненные циклы подходят к концу. Определим потенциально прибыльные платформы. Прежде всего, нужно определить термин \"потенциально прибыльный\". Будем считать, что это значит приносящий максимальную выручку. Т.Е. нам нужны платформы с максимальными продажами на 2016 год - XOne, PS4, 3DS."
      ],
      "metadata": {
        "id": "treSuV7aaLgG"
      }
    },
    {
      "cell_type": "code",
      "source": [
        "#Построим график «ящик с усами» по глобальным продажам игр в разбивке по платформам. Есть ли выбросы?\n",
        "df_box= df_2012.query('platform in (\"XOne\", \"PS4\", \"3DS\")').pivot_table(index=['name', 'platform', 'year_of_release'], values='total_sales').sort_values(by='platform').reset_index()\n",
        "df_box"
      ],
      "metadata": {
        "colab": {
          "base_uri": "https://localhost:8080/",
          "height": 423
        },
        "id": "09qlAI0DZYDc",
        "outputId": "f97021fa-7c57-4166-9927-1daf828c3793"
      },
      "execution_count": 35,
      "outputs": [
        {
          "output_type": "execute_result",
          "data": {
            "text/html": [
              "\n",
              "  <div id=\"df-dc14150b-8dc3-4b6c-9d50-2a35874a6942\">\n",
              "    <div class=\"colab-df-container\">\n",
              "      <div>\n",
              "<style scoped>\n",
              "    .dataframe tbody tr th:only-of-type {\n",
              "        vertical-align: middle;\n",
              "    }\n",
              "\n",
              "    .dataframe tbody tr th {\n",
              "        vertical-align: top;\n",
              "    }\n",
              "\n",
              "    .dataframe thead th {\n",
              "        text-align: right;\n",
              "    }\n",
              "</style>\n",
              "<table border=\"1\" class=\"dataframe\">\n",
              "  <thead>\n",
              "    <tr style=\"text-align: right;\">\n",
              "      <th></th>\n",
              "      <th>name</th>\n",
              "      <th>platform</th>\n",
              "      <th>year_of_release</th>\n",
              "      <th>total_sales</th>\n",
              "    </tr>\n",
              "  </thead>\n",
              "  <tbody>\n",
              "    <tr>\n",
              "      <th>0</th>\n",
              "      <td>Beyblade Burst</td>\n",
              "      <td>3DS</td>\n",
              "      <td>2016</td>\n",
              "      <td>0.030</td>\n",
              "    </tr>\n",
              "    <tr>\n",
              "      <th>1</th>\n",
              "      <td>Mario Party: Star Rush</td>\n",
              "      <td>3DS</td>\n",
              "      <td>2016</td>\n",
              "      <td>0.310</td>\n",
              "    </tr>\n",
              "    <tr>\n",
              "      <th>2</th>\n",
              "      <td>Mario Party: Island Tour</td>\n",
              "      <td>3DS</td>\n",
              "      <td>2013</td>\n",
              "      <td>1.920</td>\n",
              "    </tr>\n",
              "    <tr>\n",
              "      <th>3</th>\n",
              "      <td>Zyuden Sentai Kyoryuger: Game de Gaburincho!!</td>\n",
              "      <td>3DS</td>\n",
              "      <td>2013</td>\n",
              "      <td>0.050</td>\n",
              "    </tr>\n",
              "    <tr>\n",
              "      <th>4</th>\n",
              "      <td>Mario &amp; Sonic at the Rio 2016 Olympic Games</td>\n",
              "      <td>3DS</td>\n",
              "      <td>2016</td>\n",
              "      <td>0.530</td>\n",
              "    </tr>\n",
              "    <tr>\n",
              "      <th>...</th>\n",
              "      <td>...</td>\n",
              "      <td>...</td>\n",
              "      <td>...</td>\n",
              "      <td>...</td>\n",
              "    </tr>\n",
              "    <tr>\n",
              "      <th>937</th>\n",
              "      <td>Ryse: Son of Rome</td>\n",
              "      <td>XOne</td>\n",
              "      <td>2013</td>\n",
              "      <td>1.390</td>\n",
              "    </tr>\n",
              "    <tr>\n",
              "      <th>938</th>\n",
              "      <td>Rugby World Cup 2015</td>\n",
              "      <td>XOne</td>\n",
              "      <td>2015</td>\n",
              "      <td>0.020</td>\n",
              "    </tr>\n",
              "    <tr>\n",
              "      <th>939</th>\n",
              "      <td>Rugby League Live 3</td>\n",
              "      <td>XOne</td>\n",
              "      <td>2015</td>\n",
              "      <td>0.010</td>\n",
              "    </tr>\n",
              "    <tr>\n",
              "      <th>940</th>\n",
              "      <td>LEGO Marvel Super Heroes</td>\n",
              "      <td>XOne</td>\n",
              "      <td>2013</td>\n",
              "      <td>1.050</td>\n",
              "    </tr>\n",
              "    <tr>\n",
              "      <th>941</th>\n",
              "      <td>Payday 2</td>\n",
              "      <td>XOne</td>\n",
              "      <td>2015</td>\n",
              "      <td>0.180</td>\n",
              "    </tr>\n",
              "  </tbody>\n",
              "</table>\n",
              "<p>942 rows × 4 columns</p>\n",
              "</div>\n",
              "      <button class=\"colab-df-convert\" onclick=\"convertToInteractive('df-dc14150b-8dc3-4b6c-9d50-2a35874a6942')\"\n",
              "              title=\"Convert this dataframe to an interactive table.\"\n",
              "              style=\"display:none;\">\n",
              "        \n",
              "  <svg xmlns=\"http://www.w3.org/2000/svg\" height=\"24px\"viewBox=\"0 0 24 24\"\n",
              "       width=\"24px\">\n",
              "    <path d=\"M0 0h24v24H0V0z\" fill=\"none\"/>\n",
              "    <path d=\"M18.56 5.44l.94 2.06.94-2.06 2.06-.94-2.06-.94-.94-2.06-.94 2.06-2.06.94zm-11 1L8.5 8.5l.94-2.06 2.06-.94-2.06-.94L8.5 2.5l-.94 2.06-2.06.94zm10 10l.94 2.06.94-2.06 2.06-.94-2.06-.94-.94-2.06-.94 2.06-2.06.94z\"/><path d=\"M17.41 7.96l-1.37-1.37c-.4-.4-.92-.59-1.43-.59-.52 0-1.04.2-1.43.59L10.3 9.45l-7.72 7.72c-.78.78-.78 2.05 0 2.83L4 21.41c.39.39.9.59 1.41.59.51 0 1.02-.2 1.41-.59l7.78-7.78 2.81-2.81c.8-.78.8-2.07 0-2.86zM5.41 20L4 18.59l7.72-7.72 1.47 1.35L5.41 20z\"/>\n",
              "  </svg>\n",
              "      </button>\n",
              "      \n",
              "  <style>\n",
              "    .colab-df-container {\n",
              "      display:flex;\n",
              "      flex-wrap:wrap;\n",
              "      gap: 12px;\n",
              "    }\n",
              "\n",
              "    .colab-df-convert {\n",
              "      background-color: #E8F0FE;\n",
              "      border: none;\n",
              "      border-radius: 50%;\n",
              "      cursor: pointer;\n",
              "      display: none;\n",
              "      fill: #1967D2;\n",
              "      height: 32px;\n",
              "      padding: 0 0 0 0;\n",
              "      width: 32px;\n",
              "    }\n",
              "\n",
              "    .colab-df-convert:hover {\n",
              "      background-color: #E2EBFA;\n",
              "      box-shadow: 0px 1px 2px rgba(60, 64, 67, 0.3), 0px 1px 3px 1px rgba(60, 64, 67, 0.15);\n",
              "      fill: #174EA6;\n",
              "    }\n",
              "\n",
              "    [theme=dark] .colab-df-convert {\n",
              "      background-color: #3B4455;\n",
              "      fill: #D2E3FC;\n",
              "    }\n",
              "\n",
              "    [theme=dark] .colab-df-convert:hover {\n",
              "      background-color: #434B5C;\n",
              "      box-shadow: 0px 1px 3px 1px rgba(0, 0, 0, 0.15);\n",
              "      filter: drop-shadow(0px 1px 2px rgba(0, 0, 0, 0.3));\n",
              "      fill: #FFFFFF;\n",
              "    }\n",
              "  </style>\n",
              "\n",
              "      <script>\n",
              "        const buttonEl =\n",
              "          document.querySelector('#df-dc14150b-8dc3-4b6c-9d50-2a35874a6942 button.colab-df-convert');\n",
              "        buttonEl.style.display =\n",
              "          google.colab.kernel.accessAllowed ? 'block' : 'none';\n",
              "\n",
              "        async function convertToInteractive(key) {\n",
              "          const element = document.querySelector('#df-dc14150b-8dc3-4b6c-9d50-2a35874a6942');\n",
              "          const dataTable =\n",
              "            await google.colab.kernel.invokeFunction('convertToInteractive',\n",
              "                                                     [key], {});\n",
              "          if (!dataTable) return;\n",
              "\n",
              "          const docLinkHtml = 'Like what you see? Visit the ' +\n",
              "            '<a target=\"_blank\" href=https://colab.research.google.com/notebooks/data_table.ipynb>data table notebook</a>'\n",
              "            + ' to learn more about interactive tables.';\n",
              "          element.innerHTML = '';\n",
              "          dataTable['output_type'] = 'display_data';\n",
              "          await google.colab.output.renderOutput(dataTable, element);\n",
              "          const docLink = document.createElement('div');\n",
              "          docLink.innerHTML = docLinkHtml;\n",
              "          element.appendChild(docLink);\n",
              "        }\n",
              "      </script>\n",
              "    </div>\n",
              "  </div>\n",
              "  "
            ],
            "text/plain": [
              "                                              name platform  year_of_release  \\\n",
              "0                                   Beyblade Burst      3DS             2016   \n",
              "1                           Mario Party: Star Rush      3DS             2016   \n",
              "2                         Mario Party: Island Tour      3DS             2013   \n",
              "3    Zyuden Sentai Kyoryuger: Game de Gaburincho!!      3DS             2013   \n",
              "4      Mario & Sonic at the Rio 2016 Olympic Games      3DS             2016   \n",
              "..                                             ...      ...              ...   \n",
              "937                              Ryse: Son of Rome     XOne             2013   \n",
              "938                           Rugby World Cup 2015     XOne             2015   \n",
              "939                            Rugby League Live 3     XOne             2015   \n",
              "940                       LEGO Marvel Super Heroes     XOne             2013   \n",
              "941                                       Payday 2     XOne             2015   \n",
              "\n",
              "     total_sales  \n",
              "0          0.030  \n",
              "1          0.310  \n",
              "2          1.920  \n",
              "3          0.050  \n",
              "4          0.530  \n",
              "..           ...  \n",
              "937        1.390  \n",
              "938        0.020  \n",
              "939        0.010  \n",
              "940        1.050  \n",
              "941        0.180  \n",
              "\n",
              "[942 rows x 4 columns]"
            ]
          },
          "metadata": {},
          "execution_count": 35
        }
      ]
    },
    {
      "cell_type": "code",
      "source": [
        "# Диаграмма размах по глобальным продажам в разрезе платформ\n",
        "fig, ax = plt.subplots(figsize=(20,6))\n",
        "sns.boxplot(y=\"platform\", x='total_sales', data=df_box, orient='h', palette='rocket')\n",
        "ax.set_xticks(np.arange(0,2,0.1))\n",
        "plt.title('Размах значений глобальных продаж по платформам в актуальном периоде')\n",
        "ax.set_xlabel('продажи млн. шт')\n",
        "ax.set_ylabel('наименование платформы')\n",
        "ax.set_xlim(0, 2)\n",
        "plt.show()"
      ],
      "metadata": {
        "colab": {
          "base_uri": "https://localhost:8080/",
          "height": 383
        },
        "id": "OEPi_FiOdnLb",
        "outputId": "9c917454-6dbe-4654-ef56-2966c9dfbeef"
      },
      "execution_count": 36,
      "outputs": [
        {
          "output_type": "display_data",
          "data": {
            "image/png": "[encoded data removed]",
            "text/plain": [
              "<Figure size 1440x432 with 1 Axes>"
            ]
          },
          "metadata": {
            "needs_background": "light"
          }
        }
      ]
    },
    {
      "cell_type": "markdown",
      "source": [
        "В период с 2013 по 2016 самые высокие средние продажи были у игр, произведенных для платформ: \n",
        "- PS4 (год выпуска - 2013, производитель - Sony, max продажи - 118.9, медиана 84.6), \n",
        "- Xbox One (год выпуска - 2013, разработчик Microsoft, max продажи - 60.1, медиана 40.1) и \n",
        "- 3DS (год выпуска - 2011, производитель - Nintendo, max продажи - 56.6, медиана 35.8).\n",
        "\n",
        "У явного лидера - PS4 - распределение смещено в сторону максимальных значений. Это самая популярная и успешная платформа: игры, созданные для нее, продавались большими тиражами.\n",
        "\n",
        "На общем фоне выделяются также консоли\n",
        "- PS3 (2006, Sony, max продажи 113.25) и\n",
        "- XBox 360 (2005, Microsoft, max продажи 88.58).  \n",
        "Однако у этих двух платформ медианное значение ниже, чем у тройки лидеров, а разброс значений достаточно большой. Медиана смещена в сторону меньших значений, значит как минимум половина игр для этих платформ продавалась хуже, чем для PS4, XOne и 3DS.\n",
        "\n",
        "Продажи игр, разработанных для платформ DS (производитель - Nintendo, год выпуска - 2004), PSP (производитель - Sony, год выпуска - 2004), Wii (год выпуска - 2006, производитель - Nintendo), WiiU (2012 год), PC (персональный компьютер), PSV (2011 год) в последние 3 года не выходили за рамки 20 млн. копий в год. Эти платформы нельзя назвать прибыльными."
      ],
      "metadata": {
        "id": "SVfku-AVwP-O"
      }
    },
    {
      "cell_type": "markdown",
      "source": [
        "### Посмотрим, как влияют на продажи внутри одной популярной платформы отзывы пользователей и критиков. "
      ],
      "metadata": {
        "id": "V1mNuI8Qx3A2"
      }
    },
    {
      "cell_type": "code",
      "source": [
        "df.year_of_release > 2012"
      ],
      "metadata": {
        "id": "5z7H8YMp-Q2G",
        "outputId": "cdc036cc-77bf-4cbd-e7c3-c89dbf823d12",
        "colab": {
          "base_uri": "https://localhost:8080/"
        }
      },
      "execution_count": 37,
      "outputs": [
        {
          "output_type": "execute_result",
          "data": {
            "text/plain": [
              "0        False\n",
              "1        False\n",
              "2        False\n",
              "3        False\n",
              "4        False\n",
              "         ...  \n",
              "16710     True\n",
              "16711    False\n",
              "16712     True\n",
              "16713    False\n",
              "16714     True\n",
              "Name: year_of_release, Length: 16567, dtype: boolean"
            ]
          },
          "metadata": {},
          "execution_count": 37
        }
      ]
    },
    {
      "cell_type": "code",
      "source": [
        "df_corr = df[df.year_of_release > 2012].query('platform in (\"XOne\")').pivot_table(index=['name', 'platform', 'year_of_release', 'critic_score' , 'user_score'], values='total_sales').sort_values(by='platform').reset_index()\n",
        "corrMatrix = df_corr.corr()\n",
        "sns.heatmap(corrMatrix, annot=True)\n",
        "plt.show()\n",
        "sns.pairplot(df_corr, height=5, aspect=1)\n",
        "plt.show()"
      ],
      "metadata": {
        "id": "hG_ekhsA6Az9",
        "outputId": "a9e84f71-5292-4ed1-8037-cffd2570cbb3",
        "colab": {
          "base_uri": "https://localhost:8080/",
          "height": 1000
        }
      },
      "execution_count": 38,
      "outputs": [
        {
          "output_type": "display_data",
          "data": {
            "image/png": "[encoded data removed]",
            "text/plain": [
              "<Figure size 432x288 with 2 Axes>"
            ]
          },
          "metadata": {
            "needs_background": "light"
          }
        },
        {
          "output_type": "display_data",
          "data": {
            "image/png": "[encoded data removed]",
            "text/plain": [
              "<Figure size 1440x1440 with 20 Axes>"
            ]
          },
          "metadata": {
            "needs_background": "light"
          }
        }
      ]
    },
    {
      "cell_type": "markdown",
      "source": [
        "Явной взамосвязи нет. Продажи не зависят от оценок критиков и пользователей."
      ],
      "metadata": {
        "id": "PRHBVgwsEHZb"
      }
    },
    {
      "cell_type": "markdown",
      "source": [
        "### Посмотрим на общее распределение игр по жанрам. "
      ],
      "metadata": {
        "id": "bAL7lP1WER4k"
      }
    },
    {
      "cell_type": "code",
      "source": [
        "df_genre = df[df.year_of_release > 2012].pivot_table(index=['genre'], values='total_sales', aggfunc=['count', 'sum', 'median']).sort_values(by=('count', 'total_sales'), ascending=False).reset_index()\n",
        "df_genre.style.background_gradient(cmap='mako_r')"
      ],
      "metadata": {
        "id": "9M6ajT-S38VT",
        "outputId": "243deea6-b2d1-4701-eb8a-29fea67e812a",
        "colab": {
          "base_uri": "https://localhost:8080/",
          "height": 457
        }
      },
      "execution_count": 39,
      "outputs": [
        {
          "output_type": "execute_result",
          "data": {
            "text/html": [
              "<style type=\"text/css\">\n",
              "#T_41b2a_row0_col1, #T_41b2a_row0_col2, #T_41b2a_row4_col3 {\n",
              "  background-color: #0b0405;\n",
              "  color: #f1f1f1;\n",
              "}\n",
              "#T_41b2a_row0_col3, #T_41b2a_row5_col2 {\n",
              "  background-color: #68d1ad;\n",
              "  color: #000000;\n",
              "}\n",
              "#T_41b2a_row1_col1 {\n",
              "  background-color: #35a1ab;\n",
              "  color: #f1f1f1;\n",
              "}\n",
              "#T_41b2a_row1_col2 {\n",
              "  background-color: #3489a6;\n",
              "  color: #f1f1f1;\n",
              "}\n",
              "#T_41b2a_row1_col3, #T_41b2a_row4_col1, #T_41b2a_row7_col3 {\n",
              "  background-color: #53c9ad;\n",
              "  color: #000000;\n",
              "}\n",
              "#T_41b2a_row2_col1 {\n",
              "  background-color: #3db3ad;\n",
              "  color: #f1f1f1;\n",
              "}\n",
              "#T_41b2a_row2_col2 {\n",
              "  background-color: #bee8ca;\n",
              "  color: #000000;\n",
              "}\n",
              "#T_41b2a_row2_col3, #T_41b2a_row11_col1, #T_41b2a_row11_col2 {\n",
              "  background-color: #def5e5;\n",
              "  color: #000000;\n",
              "}\n",
              "#T_41b2a_row3_col1 {\n",
              "  background-color: #46bead;\n",
              "  color: #000000;\n",
              "}\n",
              "#T_41b2a_row3_col2, #T_41b2a_row8_col3 {\n",
              "  background-color: #3485a5;\n",
              "  color: #f1f1f1;\n",
              "}\n",
              "#T_41b2a_row3_col3 {\n",
              "  background-color: #357aa2;\n",
              "  color: #f1f1f1;\n",
              "}\n",
              "#T_41b2a_row4_col2 {\n",
              "  background-color: #403b78;\n",
              "  color: #f1f1f1;\n",
              "}\n",
              "#T_41b2a_row5_col1 {\n",
              "  background-color: #6ad2ad;\n",
              "  color: #000000;\n",
              "}\n",
              "#T_41b2a_row5_col3 {\n",
              "  background-color: #70d4ad;\n",
              "  color: #000000;\n",
              "}\n",
              "#T_41b2a_row6_col1 {\n",
              "  background-color: #aee3c0;\n",
              "  color: #000000;\n",
              "}\n",
              "#T_41b2a_row6_col2 {\n",
              "  background-color: #9edfb8;\n",
              "  color: #000000;\n",
              "}\n",
              "#T_41b2a_row6_col3 {\n",
              "  background-color: #59ccad;\n",
              "  color: #000000;\n",
              "}\n",
              "#T_41b2a_row7_col1 {\n",
              "  background-color: #b2e4c2;\n",
              "  color: #000000;\n",
              "}\n",
              "#T_41b2a_row7_col2 {\n",
              "  background-color: #a9e1bd;\n",
              "  color: #000000;\n",
              "}\n",
              "#T_41b2a_row8_col1 {\n",
              "  background-color: #b7e6c5;\n",
              "  color: #000000;\n",
              "}\n",
              "#T_41b2a_row8_col2 {\n",
              "  background-color: #99ddb6;\n",
              "  color: #000000;\n",
              "}\n",
              "#T_41b2a_row9_col1 {\n",
              "  background-color: #c0e9cc;\n",
              "  color: #000000;\n",
              "}\n",
              "#T_41b2a_row9_col2 {\n",
              "  background-color: #c2e9cd;\n",
              "  color: #000000;\n",
              "}\n",
              "#T_41b2a_row9_col3 {\n",
              "  background-color: #79d6ae;\n",
              "  color: #000000;\n",
              "}\n",
              "#T_41b2a_row10_col1 {\n",
              "  background-color: #c4eacf;\n",
              "  color: #000000;\n",
              "}\n",
              "#T_41b2a_row10_col2 {\n",
              "  background-color: #d4f1dc;\n",
              "  color: #000000;\n",
              "}\n",
              "#T_41b2a_row10_col3 {\n",
              "  background-color: #9cdeb7;\n",
              "  color: #000000;\n",
              "}\n",
              "#T_41b2a_row11_col3 {\n",
              "  background-color: #b9e6c7;\n",
              "  color: #000000;\n",
              "}\n",
              "</style>\n",
              "<table id=\"T_41b2a_\" class=\"dataframe\">\n",
              "  <thead>\n",
              "    <tr>\n",
              "      <th class=\"blank level0\" >&nbsp;</th>\n",
              "      <th class=\"col_heading level0 col0\" >genre</th>\n",
              "      <th class=\"col_heading level0 col1\" >count</th>\n",
              "      <th class=\"col_heading level0 col2\" >sum</th>\n",
              "      <th class=\"col_heading level0 col3\" >median</th>\n",
              "    </tr>\n",
              "    <tr>\n",
              "      <th class=\"blank level1\" >&nbsp;</th>\n",
              "      <th class=\"col_heading level1 col0\" ></th>\n",
              "      <th class=\"col_heading level1 col1\" >total_sales</th>\n",
              "      <th class=\"col_heading level1 col2\" >total_sales</th>\n",
              "      <th class=\"col_heading level1 col3\" >total_sales</th>\n",
              "    </tr>\n",
              "  </thead>\n",
              "  <tbody>\n",
              "    <tr>\n",
              "      <th id=\"T_41b2a_level0_row0\" class=\"row_heading level0 row0\" >0</th>\n",
              "      <td id=\"T_41b2a_row0_col0\" class=\"data row0 col0\" >Action</td>\n",
              "      <td id=\"T_41b2a_row0_col1\" class=\"data row0 col1\" >769</td>\n",
              "      <td id=\"T_41b2a_row0_col2\" class=\"data row0 col2\" >322.500000</td>\n",
              "      <td id=\"T_41b2a_row0_col3\" class=\"data row0 col3\" >0.110000</td>\n",
              "    </tr>\n",
              "    <tr>\n",
              "      <th id=\"T_41b2a_level0_row1\" class=\"row_heading level0 row1\" >1</th>\n",
              "      <td id=\"T_41b2a_row1_col0\" class=\"data row1 col0\" >Role-Playing</td>\n",
              "      <td id=\"T_41b2a_row1_col1\" class=\"data row1 col1\" >292</td>\n",
              "      <td id=\"T_41b2a_row1_col2\" class=\"data row1 col2\" >145.890000</td>\n",
              "      <td id=\"T_41b2a_row1_col3\" class=\"data row1 col3\" >0.125000</td>\n",
              "    </tr>\n",
              "    <tr>\n",
              "      <th id=\"T_41b2a_level0_row2\" class=\"row_heading level0 row2\" >2</th>\n",
              "      <td id=\"T_41b2a_row2_col0\" class=\"data row2 col0\" >Adventure</td>\n",
              "      <td id=\"T_41b2a_row2_col1\" class=\"data row2 col1\" >245</td>\n",
              "      <td id=\"T_41b2a_row2_col2\" class=\"data row2 col2\" >23.640000</td>\n",
              "      <td id=\"T_41b2a_row2_col3\" class=\"data row2 col3\" >0.030000</td>\n",
              "    </tr>\n",
              "    <tr>\n",
              "      <th id=\"T_41b2a_level0_row3\" class=\"row_heading level0 row3\" >3</th>\n",
              "      <td id=\"T_41b2a_row3_col0\" class=\"data row3 col0\" >Sports</td>\n",
              "      <td id=\"T_41b2a_row3_col1\" class=\"data row3 col1\" >214</td>\n",
              "      <td id=\"T_41b2a_row3_col2\" class=\"data row3 col2\" >150.650000</td>\n",
              "      <td id=\"T_41b2a_row3_col3\" class=\"data row3 col3\" >0.240000</td>\n",
              "    </tr>\n",
              "    <tr>\n",
              "      <th id=\"T_41b2a_level0_row4\" class=\"row_heading level0 row4\" >4</th>\n",
              "      <td id=\"T_41b2a_row4_col0\" class=\"data row4 col0\" >Shooter</td>\n",
              "      <td id=\"T_41b2a_row4_col1\" class=\"data row4 col1\" >187</td>\n",
              "      <td id=\"T_41b2a_row4_col2\" class=\"data row4 col2\" >232.980000</td>\n",
              "      <td id=\"T_41b2a_row4_col3\" class=\"data row4 col3\" >0.450000</td>\n",
              "    </tr>\n",
              "    <tr>\n",
              "      <th id=\"T_41b2a_level0_row5\" class=\"row_heading level0 row5\" >5</th>\n",
              "      <td id=\"T_41b2a_row5_col0\" class=\"data row5 col0\" >Misc</td>\n",
              "      <td id=\"T_41b2a_row5_col1\" class=\"data row5 col1\" >156</td>\n",
              "      <td id=\"T_41b2a_row5_col2\" class=\"data row5 col2\" >63.060000</td>\n",
              "      <td id=\"T_41b2a_row5_col3\" class=\"data row5 col3\" >0.105000</td>\n",
              "    </tr>\n",
              "    <tr>\n",
              "      <th id=\"T_41b2a_level0_row6\" class=\"row_heading level0 row6\" >6</th>\n",
              "      <td id=\"T_41b2a_row6_col0\" class=\"data row6 col0\" >Racing</td>\n",
              "      <td id=\"T_41b2a_row6_col1\" class=\"data row6 col1\" >85</td>\n",
              "      <td id=\"T_41b2a_row6_col2\" class=\"data row6 col2\" >39.890000</td>\n",
              "      <td id=\"T_41b2a_row6_col3\" class=\"data row6 col3\" >0.120000</td>\n",
              "    </tr>\n",
              "    <tr>\n",
              "      <th id=\"T_41b2a_level0_row7\" class=\"row_heading level0 row7\" >7</th>\n",
              "      <td id=\"T_41b2a_row7_col0\" class=\"data row7 col0\" >Fighting</td>\n",
              "      <td id=\"T_41b2a_row7_col1\" class=\"data row7 col1\" >80</td>\n",
              "      <td id=\"T_41b2a_row7_col2\" class=\"data row7 col2\" >35.310000</td>\n",
              "      <td id=\"T_41b2a_row7_col3\" class=\"data row7 col3\" >0.125000</td>\n",
              "    </tr>\n",
              "    <tr>\n",
              "      <th id=\"T_41b2a_level0_row8\" class=\"row_heading level0 row8\" >8</th>\n",
              "      <td id=\"T_41b2a_row8_col0\" class=\"data row8 col0\" >Platform</td>\n",
              "      <td id=\"T_41b2a_row8_col1\" class=\"data row8 col1\" >74</td>\n",
              "      <td id=\"T_41b2a_row8_col2\" class=\"data row8 col2\" >42.630000</td>\n",
              "      <td id=\"T_41b2a_row8_col3\" class=\"data row8 col3\" >0.225000</td>\n",
              "    </tr>\n",
              "    <tr>\n",
              "      <th id=\"T_41b2a_level0_row9\" class=\"row_heading level0 row9\" >9</th>\n",
              "      <td id=\"T_41b2a_row9_col0\" class=\"data row9 col0\" >Simulation</td>\n",
              "      <td id=\"T_41b2a_row9_col1\" class=\"data row9 col1\" >62</td>\n",
              "      <td id=\"T_41b2a_row9_col2\" class=\"data row9 col2\" >21.760000</td>\n",
              "      <td id=\"T_41b2a_row9_col3\" class=\"data row9 col3\" >0.100000</td>\n",
              "    </tr>\n",
              "    <tr>\n",
              "      <th id=\"T_41b2a_level0_row10\" class=\"row_heading level0 row10\" >10</th>\n",
              "      <td id=\"T_41b2a_row10_col0\" class=\"data row10 col0\" >Strategy</td>\n",
              "      <td id=\"T_41b2a_row10_col1\" class=\"data row10 col1\" >56</td>\n",
              "      <td id=\"T_41b2a_row10_col2\" class=\"data row10 col2\" >10.080000</td>\n",
              "      <td id=\"T_41b2a_row10_col3\" class=\"data row10 col3\" >0.080000</td>\n",
              "    </tr>\n",
              "    <tr>\n",
              "      <th id=\"T_41b2a_level0_row11\" class=\"row_heading level0 row11\" >11</th>\n",
              "      <td id=\"T_41b2a_row11_col0\" class=\"data row11 col0\" >Puzzle</td>\n",
              "      <td id=\"T_41b2a_row11_col1\" class=\"data row11 col1\" >17</td>\n",
              "      <td id=\"T_41b2a_row11_col2\" class=\"data row11 col2\" >3.170000</td>\n",
              "      <td id=\"T_41b2a_row11_col3\" class=\"data row11 col3\" >0.060000</td>\n",
              "    </tr>\n",
              "  </tbody>\n",
              "</table>\n"
            ],
            "text/plain": [
              "<pandas.io.formats.style.Styler at 0x7f4e71451510>"
            ]
          },
          "metadata": {},
          "execution_count": 39
        }
      ]
    },
    {
      "cell_type": "code",
      "source": [
        "sns.set(rc={'figure.figsize':(16,6)})  \n",
        "sns.barplot(data = df_genre, x=\"genre\", y=('count', 'total_sales'))\n",
        "plt.title('Количество игр по жанрам')\n",
        "plt.xlabel('жанры')\n",
        "plt.ylabel('Кол-во игр')\n",
        "plt.show()\n",
        "sns.barplot(data = df_genre, x=\"genre\", y=(  'sum', 'total_sales'))\n",
        "plt.title('Объем продаж по жанрам')\n",
        "plt.xlabel('жанры')\n",
        "plt.ylabel('Продажи, млн.шт')\n",
        "plt.show()\n",
        "sns.barplot(data = df_genre, x=\"genre\", y=(  'median', 'total_sales'))\n",
        "plt.title('Объем продаж по жанрам')\n",
        "plt.xlabel('жанры')\n",
        "plt.ylabel('Продажи, млн.шт')\n",
        "plt.show()"
      ],
      "metadata": {
        "id": "yqGyq75eFE7I",
        "outputId": "e1ad9047-6b34-4e1e-a365-28979d5da921",
        "colab": {
          "base_uri": "https://localhost:8080/",
          "height": 1000
        }
      },
      "execution_count": 40,
      "outputs": [
        {
          "output_type": "display_data",
          "data": {
            "image/png": "[encoded data removed]",
            "text/plain": [
              "<Figure size 1152x432 with 1 Axes>"
            ]
          },
          "metadata": {}
        },
        {
          "output_type": "display_data",
          "data": {
            "image/png": "[encoded data removed]",
            "text/plain": [
              "<Figure size 1152x432 with 1 Axes>"
            ]
          },
          "metadata": {}
        },
        {
          "output_type": "display_data",
          "data": {
            "image/png": "[encoded data removed]",
            "text/plain": [
              "<Figure size 1152x432 with 1 Axes>"
            ]
          },
          "metadata": {}
        }
      ]
    },
    {
      "cell_type": "markdown",
      "source": [
        "На рынок выходит много игр с жанром Action, этот же жанр и больше всего покупают, но если посмотреть на медиану продаж каждой игры, видим, что жанр Action только седьмой \"экшн делает продажи только за счет большего количества игр и большого количества бестселлеров\". На втором месте по продажам жанр Shooter. По распределению медиан видим, что лидером являеться жанр Shooter. В среднем каждая игра этого жанра продаеться 0,45 мл. раз. Будет более выгоднее закупить больше шетеров, так как они принесут больший доход."
      ],
      "metadata": {
        "id": "NYXOaZa5FepV"
      }
    },
    {
      "cell_type": "markdown",
      "source": [
        "При исследовании данных мы рассмотрели продажи игр взависиомти по годам, определили среднюю  продолжнительность жизни платформы,  определили 3 потенциально прибыльные платформы, рассмотрели их корреляцию с рейтингом пользователей и экспертов. Рассмотрели продажи игр в зависимости от жанра. Обобщив результаты можем сказать, что потенциально прибыльные игры должны быть на платформах - XOne, PS4, 3DS, с жанром Action, Sports и Misc с любыми рейтингами пользователей или экспертов. Мы определили общий портрет игры с наибольшими продажами. Теперь определим портрет пользователя для каждого региона."
      ],
      "metadata": {
        "id": "VpBopIdKFmQC"
      }
    },
    {
      "cell_type": "markdown",
      "source": [
        "###  Составим портрет пользователя каждого региона"
      ],
      "metadata": {
        "id": "Yo24k_L0Fpi6"
      }
    },
    {
      "cell_type": "code",
      "source": [
        "# Группировка данных ТОП5 платформ по продажам в разрезе рынков\n",
        "na_platform = df[df.year_of_release > 2012].groupby('platform')['na_sales'].agg(na_sales='sum').nlargest(5, 'na_sales').reset_index()\n",
        "eu_platform = df[df.year_of_release > 2012].groupby('platform')['eu_sales'].agg(eu_sales='sum').nlargest(5, 'eu_sales').reset_index()\n",
        "jp_platform = df[df.year_of_release > 2012].groupby('platform')['jp_sales'].agg(jp_sales='sum').nlargest(5, 'jp_sales').reset_index()"
      ],
      "metadata": {
        "id": "89Re4uwjHE3q"
      },
      "execution_count": 41,
      "outputs": []
    },
    {
      "cell_type": "code",
      "source": [
        "# График продаж по платформам в разрезе рынков\n",
        "fig, ax = plt.subplots(1, 3, figsize=(16, 4))\n",
        "fig.suptitle('Продажи по платформам в разрезе рынков')\n",
        "sns.barplot(y='na_sales', x='platform', data=na_platform, ax=ax[0], palette='rocket')\n",
        "ax[0].set_title('Северная Америка')\n",
        "ax[0].set_ylabel('продажи, млн.шт.')\n",
        "ax[0].set_xlabel('платформа')\n",
        "sns.barplot(y='eu_sales', x='platform', data=eu_platform, ax=ax[1], palette='rocket')\n",
        "ax[1].set_title('Европа')\n",
        "ax[1].set_ylabel('продажи, млн.шт.')\n",
        "ax[1].set_xlabel('платформа')\n",
        "sns.barplot(y='jp_sales', x='platform', data=jp_platform, ax=ax[2], palette='rocket')\n",
        "ax[2].set_title('Япония')\n",
        "ax[2].set_ylabel('продажи, млн.шт.')\n",
        "ax[2].set_xlabel('платформа')\n",
        "plt.show()"
      ],
      "metadata": {
        "id": "19KL0JU5HE7D",
        "outputId": "2f9d818a-9618-4a1b-9e15-fac75d2bafb2",
        "colab": {
          "base_uri": "https://localhost:8080/",
          "height": 314
        }
      },
      "execution_count": 42,
      "outputs": [
        {
          "output_type": "display_data",
          "data": {
            "image/png": "[encoded data removed]",
            "text/plain": [
              "<Figure size 1152x288 with 3 Axes>"
            ]
          },
          "metadata": {}
        }
      ]
    },
    {
      "cell_type": "markdown",
      "source": [
        "В Северной Америке и в Европе лидер - PS4, а в Японии - мобильный 3DS, Япония - последний оплот компании Nintendo, 3DS и WiiU в сумме занимают 76% местного рынка. XOne от Microsoft второй в Северной Америке, в Японии его доля - статистическая погрешность. В Европе кроме лидирущего с большим отрывом PS4 остальные платформы показывают почти одинаковые цифры."
      ],
      "metadata": {
        "id": "87SbELMoIdYw"
      }
    },
    {
      "cell_type": "code",
      "source": [
        "# Группировка данных ТОП5 жанров по продажам в разрезе рынков\n",
        "na_genres = df[df.year_of_release > 2012].groupby('genre')['na_sales'].agg(na_sales='sum').nlargest(5, 'na_sales').reset_index()\n",
        "eu_genres = df[df.year_of_release > 2012].groupby('genre')['eu_sales'].agg(eu_sales='sum').nlargest(5, 'eu_sales').reset_index()\n",
        "jp_genres = df[df.year_of_release > 2012].groupby('genre')['jp_sales'].agg(jp_sales='sum').nlargest(5, 'jp_sales').reset_index()"
      ],
      "metadata": {
        "id": "trykaCAMIfHZ"
      },
      "execution_count": 43,
      "outputs": []
    },
    {
      "cell_type": "code",
      "source": [
        "# График продаж по жанрам в разрезе рынков\n",
        "fig, ax = plt.subplots(1, 3, figsize=(16, 4))\n",
        "fig.suptitle('Продажи по жанрам в разрезе рынков')\n",
        "sns.barplot(y='na_sales', x='genre', data=na_genres, ax=ax[0], palette='rocket')\n",
        "ax[0].set_title('Северная Америка')\n",
        "ax[0].set_ylabel('продажи, млн.шт.')\n",
        "ax[0].set_xlabel('жанр')\n",
        "sns.barplot(y='eu_sales', x='genre', data=eu_genres, ax=ax[1], palette='rocket')\n",
        "ax[1].set_title('Европа')\n",
        "ax[1].set_ylabel('продажи, млн.шт.')\n",
        "ax[1].set_xlabel('жанр')\n",
        "sns.barplot(y='jp_sales', x='genre', data=jp_genres, ax=ax[2], palette='rocket')\n",
        "ax[2].set_title('Япония')\n",
        "ax[2].set_ylabel('продажи, млн.шт.')\n",
        "ax[2].set_xlabel('жанр')\n",
        "plt.show()"
      ],
      "metadata": {
        "id": "a4D4qDAdIfLI",
        "outputId": "5218643a-9e0b-4fd1-fa8d-bf2b58168ed8",
        "colab": {
          "base_uri": "https://localhost:8080/",
          "height": 314
        }
      },
      "execution_count": 44,
      "outputs": [
        {
          "output_type": "display_data",
          "data": {
            "image/png": "[encoded data removed]",
            "text/plain": [
              "<Figure size 1152x288 with 3 Axes>"
            ]
          },
          "metadata": {}
        }
      ]
    },
    {
      "cell_type": "markdown",
      "source": [
        "В Северной Америке и в Европе больше всего продаются экшены, затем шутеры, потом ролевые игры. В Японии совершенно другой лидер - жанр ролевых игр, экшены идут с большим отрывом вторыми, а вот шутеры даже не попадают в ТОП5"
      ],
      "metadata": {
        "id": "Y4yqR-1-IxEo"
      }
    },
    {
      "cell_type": "markdown",
      "source": [
        "### Влияние рейтинга ESRB на продажи по регионам"
      ],
      "metadata": {
        "id": "gIQSEBVcI15e"
      }
    },
    {
      "cell_type": "code",
      "source": [
        "# Группировка данных ТОП5 жанров по рейтинге в разрезе рынков\n",
        "na_rating = df[df.year_of_release > 2012].groupby('rating')['na_sales'].agg(na_sales='sum').reset_index()\n",
        "eu_rating = df[df.year_of_release > 2012].groupby('rating')['eu_sales'].agg(eu_sales='sum').reset_index()\n",
        "jp_rating = df[df.year_of_release > 2012].groupby('rating')['jp_sales'].agg(jp_sales='sum').reset_index()\n"
      ],
      "metadata": {
        "id": "aBLxF5hGIfS3"
      },
      "execution_count": 45,
      "outputs": []
    },
    {
      "cell_type": "code",
      "source": [
        "# Диаграмма продаж по рейтингам в разрезе рынков\n",
        "\n",
        "fig, ax = plt.subplots(1,3, figsize=(20, 6))\n",
        "fig.suptitle('Продажи по рейтингам ESRB в разрезе рынков')\n",
        "data1, categories1 = na_rating['na_sales'], na_rating['rating']\n",
        "data2, categories2 = eu_rating['eu_sales'], eu_rating['rating']\n",
        "data3, categories3 = jp_rating['jp_sales'], jp_rating['rating']\n",
        "colors = ['#ff9999','#66b3ff','#99ff99','#ffcc99', '#ff99cc']\n",
        "def func(pct, allvals):\n",
        "    absolute = int(pct/100.*np.sum(allvals))\n",
        "    return \"{:.1f}% ({:d} млн )\".format(pct, absolute)\n",
        "wedges, texts, autotexts = ax[0].pie(data1 ,autopct=lambda pct: func(pct, data1), textprops=dict(color=\"w\"), colors=colors)\n",
        "ax[0].set_title(\"Северная Америка\")\n",
        "ax[0].legend(wedges, categories1, title=\"рейтинг\", loc=\"upper right\")\n",
        "plt.setp(autotexts, size=8, weight=850)\n",
        "wedges, texts, autotexts = ax[1].pie(data2 ,autopct=lambda pct: func(pct, data2), textprops=dict(color=\"w\"),colors=colors)\n",
        "ax[1].set_title(\"Европа\")\n",
        "ax[1].legend(wedges, categories2, title=\"рейтинг\", loc=\"upper right\")\n",
        "plt.setp(autotexts, size=8, weight=850)\n",
        "wedges, texts, autotexts = ax[2].pie(\n",
        "    data3 ,autopct=lambda pct: func(pct, data3), startangle = 65, textprops=dict(color=\"w\"),colors=colors)\n",
        "ax[2].set_title(\"Япония\")\n",
        "ax[2].legend(wedges, categories3, title=\"рейтинг\", loc=\"upper right\")\n",
        "plt.setp(autotexts, size=8, weight=850)\n",
        "plt.show()    "
      ],
      "metadata": {
        "id": "LCTHQUcSJJgZ",
        "outputId": "f3d4453d-cdc5-4226-f80a-346b4eb55b95",
        "colab": {
          "base_uri": "https://localhost:8080/",
          "height": 395
        }
      },
      "execution_count": 46,
      "outputs": [
        {
          "output_type": "display_data",
          "data": {
            "image/png": "[encoded data removed]",
            "text/plain": [
              "<Figure size 1440x432 with 3 Axes>"
            ]
          },
          "metadata": {}
        }
      ]
    },
    {
      "cell_type": "markdown",
      "source": [
        "<br>В Северной Америке и в Европе схожая картина продаж по рейтингу - треть игр имеют рейтинг \"17+\", пятая часть - рейтинг \"для всех\", четверть - \"подростковые\" рейтинги, у примерно четверти игр рейтинг отсутствует.\n",
        "<br>В Японии рейтинг отсутствует более чем у половины игр, пятая часть имеет рейтинг \"для всех\", четверть - все остальные.\n",
        "\n",
        "<br>Большое количество отсутствия рейтингов в Японии возможно объяснить наличием национальной рейтинговой организации, что справедливо и для Европы, где есть как общие так и национальные организации. Онлайн магазины тип Stream вообще могут не получать рейтинги, или пользоватся международной IARC для полностью цифровых продаж."
      ],
      "metadata": {
        "id": "yE5aUOwvJXDH"
      }
    },
    {
      "cell_type": "markdown",
      "source": [
        "**Портрет пользователя определенного рынка:**\n",
        "\n",
        "Пользователь из Северной Америки любит и покупает экшены в пяти случаях из ста, чуть меньше - шутеры. В основном у него игры с рейтингом \"для всех\" или \"17+\" В 50% случаях, для своей Play Station 4, немного меньше вероятность что у него XOne от Microsoft. Возможно довольно часто покупает игры онлайн, иначе сложно объяснить что в стране придумавшей рейтинги для игр, их нет у четверти релизов.\n",
        "\n",
        "Пользователь из Европы однозначно почти в половине случаев выбирает игры для Play Station 4, XOne у него окажется с такой же вероятностью что и игровой ноутбук или мобильная 3DS - в 13-16 случаях из ста. В остальном его предпочтения такие же как у пользователя из Северной Америки - больше всего любит экшены, затем шутеры, в половине случаев с рейтингом \" для всех\" или \"17+\", цифровые покупки вероятны также как и в Америке.\n",
        "\n",
        "Пользователи из Японии уникальны, как и их страна. Они не замечают и не притрагиваются к XOne от Microsoft, Свежий PS4 У японца можно встретиь в десяти случаях из ста. В отличии от старого доброго 3DS от Nintendo, игры для которой забирают 66% продаж в индустрии в последние годы. Японец не любит стрелялки-шутеры, они его почти не интересуют, зато ролевые игры у него на первом месте в 37 случаях из ста, единственное что роднит его в предпочтениях с американцем и европейцем - популяность жанра экшен - 25% от всех продаж. Значению рейтинга американской ESRB его заботит мало, его нет у более чем половины игр покупаемых в Японии. Свои приставки, свои игры и скорее всего свои рейтинги или онлайн покупки, японцы действительно отличаются от других игроманов. "
      ],
      "metadata": {
        "id": "j5q1hlldJa7N"
      }
    },
    {
      "cell_type": "markdown",
      "source": [
        "### Проверьте гипотезы"
      ],
      "metadata": {
        "id": "ySW1qKTrJoCl"
      }
    },
    {
      "cell_type": "markdown",
      "source": [
        "Проверим гипотезу, что средние пользовательские рейтинги платформ Xbox One и PC одинаковые;"
      ],
      "metadata": {
        "id": "eqOmDFXQJsNm"
      }
    },
    {
      "cell_type": "markdown",
      "source": [
        "Применим Т-тест для подтверждения гипотезы о равенстве средних двух генеральных совокупностей. \n",
        "<br>**Первая гипотеза представленная для проверки - cредние пользовательские рейтинги платформ Xbox One и PC равны**\n",
        "\n",
        "<br>Следовательно гипотезы можно сформулировать:\n",
        "\n",
        "<br>**$Ho$**  - cредние пользовательские рейтинги платформ Xbox One и PC одинаковые\n",
        "<br>**$H1$**  - cредние пользовательские рейтинги платформ Xbox One и PC различаются\n",
        "\n",
        "Зададим p-value = 0.05."
      ],
      "metadata": {
        "id": "vIj3skMIJvSB"
      }
    },
    {
      "cell_type": "code",
      "source": [
        "# Формирование выборок\n",
        "xone_user_score = df[df.year_of_release > 2012].query('platform == \"XOne\" and user_score != 0', engine='python')['user_score']\n",
        "pc_user_score = df[df.year_of_release > 2012].query('platform == \"PC\" and user_score != 0', engine='python')['user_score']\n",
        "print('Размер выборки XOne:',len(xone_user_score))\n",
        "print('Размер выборки PC:',len(pc_user_score))"
      ],
      "metadata": {
        "id": "COZaENerJJjj",
        "outputId": "d5743533-8b98-48d8-cc70-aac8f2da6c5f",
        "colab": {
          "base_uri": "https://localhost:8080/"
        }
      },
      "execution_count": 47,
      "outputs": [
        {
          "output_type": "stream",
          "name": "stdout",
          "text": [
            "Размер выборки XOne: 182\n",
            "Размер выборки PC: 158\n"
          ]
        }
      ]
    },
    {
      "cell_type": "code",
      "source": [
        "# Визуальная оценка распределения признаков в выборках\n",
        "fig, axes = plt.subplots(2, 2, figsize=(14, 6))\n",
        "fig.suptitle('Распределение значений оценки пользователей')\n",
        "sns.set_palette(\"rocket_r\", 2, .85  ,color_codes=True)\n",
        "sns.distplot(xone_user_score, ax=axes[0,0], kde=False, bins=25)\n",
        "axes[0,0].set_title('XOne')\n",
        "axes[0,0].set_xlabel('оценка')\n",
        "axes[0,0].set_ylabel('частота')\n",
        "sns.distplot(pc_user_score, ax=axes[0,1], kde=False, bins=25)\n",
        "axes[0,1].set_title('PC')\n",
        "axes[0,1].set_xlabel('оценка')\n",
        "axes[0,1].set_ylabel('частота')\n",
        "qqplot(xone_user_score, line='s', ax=axes[1,0])\n",
        "qqplot(pc_user_score, line='s', ax=axes[1,1])\n",
        "plt.show()"
      ],
      "metadata": {
        "id": "pGU87aEVGai1",
        "outputId": "5113c49d-7ea4-441c-9e5a-2ce7454b7cbd",
        "colab": {
          "base_uri": "https://localhost:8080/",
          "height": 437
        }
      },
      "execution_count": 48,
      "outputs": [
        {
          "output_type": "display_data",
          "data": {
            "image/png": "[encoded data removed]",
            "text/plain": [
              "<Figure size 1008x432 with 4 Axes>"
            ]
          },
          "metadata": {}
        }
      ]
    },
    {
      "cell_type": "markdown",
      "source": [
        "Выборки для проверки гиротезы были очищены от нулевых значений - замен пропусков, визуально, распределение можно считать условно нормальным, отклонения можно объяснить не очень большой выборкой 182 и 158 наблюдений"
      ],
      "metadata": {
        "id": "2E3aQDnBKZwW"
      }
    },
    {
      "cell_type": "code",
      "source": [
        "# Проведение t теста для выборок с разной дисперсией\n",
        "alpha=0.05\n",
        "results1 = st.ttest_ind(xone_user_score, pc_user_score, equal_var=False) \n",
        "print('p-value:', results1.pvalue)\n",
        "\n",
        "if (results1.pvalue < alpha):\n",
        "    print(\"Необходимо отвергнуть нулевую гипотезу\")\n",
        "else:\n",
        "    print(\"Не нужно отвергать нулевую гипотезу\")"
      ],
      "metadata": {
        "id": "yOcFV1y0Kp0H",
        "outputId": "384594be-cfe6-4457-f9a9-1f15fef9748a",
        "colab": {
          "base_uri": "https://localhost:8080/"
        }
      },
      "execution_count": 49,
      "outputs": [
        {
          "output_type": "stream",
          "name": "stdout",
          "text": [
            "p-value: 0.16174359801784308\n",
            "Не нужно отвергать нулевую гипотезу\n"
          ]
        }
      ]
    },
    {
      "cell_type": "markdown",
      "source": [
        "<br>**Вторая гипотеза представленная для проверки - cредние пользовательские рейтинги жанров Action и Sports различаются**\n",
        "\n",
        "<br>Следовательно гипотезы можно сформулировать:\n",
        "\n",
        "<br>**$Ho$**  - ***cредние пользовательские рейтинги жанров Action и Sports одинаковы***\n",
        "<br>**$H1$**  - ***cредние пользовательские рейтинги жанров Action и Sports различаются***"
      ],
      "metadata": {
        "id": "rypB4uiRLGb1"
      }
    },
    {
      "cell_type": "code",
      "source": [
        "# Формирование выборок\n",
        "action_user_score = df[df.year_of_release > 2012].query('genre == \"Action\" and user_score != 0', engine='python')['user_score']\n",
        "sports_user_score = df[df.year_of_release > 2012].query('genre == \"Sports\" and user_score != 0', engine='python')['user_score']\n",
        "print('Размер выборки Action:',len(action_user_score))\n",
        "print('Размер выборки Sports:',len(sports_user_score))"
      ],
      "metadata": {
        "id": "-ELpQ9BWLKba",
        "outputId": "950defa1-11d2-4c9a-ed54-592a7caf3500",
        "colab": {
          "base_uri": "https://localhost:8080/"
        }
      },
      "execution_count": 50,
      "outputs": [
        {
          "output_type": "stream",
          "name": "stdout",
          "text": [
            "Размер выборки Action: 392\n",
            "Размер выборки Sports: 160\n"
          ]
        }
      ]
    },
    {
      "cell_type": "code",
      "source": [
        "# Визуальная оценка распределения признаков в выборках\n",
        "fig, axes = plt.subplots(2, 2, figsize=(14, 6))\n",
        "fig.suptitle('Распределение значений оценки пользователей')\n",
        "sns.set_palette(\"rocket_r\", 2, .85  ,color_codes=True)\n",
        "sns.distplot(action_user_score, ax=axes[0,0], kde=False, bins=25)\n",
        "axes[0,0].set_title('Action')\n",
        "axes[0,0].set_xlabel('оценка')\n",
        "axes[0,0].set_ylabel('частота')\n",
        "sns.distplot(sports_user_score, ax=axes[0,1], kde=False, bins=25)\n",
        "axes[0,1].set_title('Sports')\n",
        "axes[0,1].set_xlabel('оценка')\n",
        "axes[0,1].set_ylabel('частота')\n",
        "qqplot(xone_user_score, line='s', ax=axes[1,0])\n",
        "qqplot(pc_user_score, line='s', ax=axes[1,1])\n",
        "plt.show()"
      ],
      "metadata": {
        "id": "HktuOvv-LSzG",
        "outputId": "3f3309ac-50cd-4800-e218-09a75cec516a",
        "colab": {
          "base_uri": "https://localhost:8080/",
          "height": 437
        }
      },
      "execution_count": 51,
      "outputs": [
        {
          "output_type": "display_data",
          "data": {
            "image/png": "[encoded data removed]",
            "text/plain": [
              "<Figure size 1008x432 with 4 Axes>"
            ]
          },
          "metadata": {}
        }
      ]
    },
    {
      "cell_type": "code",
      "source": [
        "# Проведение t теста для выборок с разной дисперсией\n",
        "alpha=0.05\n",
        "results1 = st.ttest_ind(action_user_score, sports_user_score, equal_var=False) \n",
        "print('p-value:', results1.pvalue)\n",
        "\n",
        "if (results1.pvalue < alpha):\n",
        "    print(\"Необходимо отвергнуть нулевую гипотезу\")\n",
        "else:\n",
        "    print(\"Не нужно отвергать нулевую гипотезу\")"
      ],
      "metadata": {
        "id": "pKR4pbv6LaCX",
        "outputId": "f718aa2f-b7bf-4d82-d86f-1e82ab3b706e",
        "colab": {
          "base_uri": "https://localhost:8080/"
        }
      },
      "execution_count": 52,
      "outputs": [
        {
          "output_type": "stream",
          "name": "stdout",
          "text": [
            "p-value: 1.3883444596405356e-20\n",
            "Необходимо отвергнуть нулевую гипотезу\n"
          ]
        }
      ]
    },
    {
      "cell_type": "markdown",
      "source": [
        "<br>**Результат проверки гипотез показал:**\n",
        "\n",
        "<br>**Оснований отвергнуть гипотезу о равенстве средних значений оценок пользователей платформ XOne и PC нет.**\n",
        "<br>**Есть статистически значимые различия между средними значениями оценок пользователей жанров Action и Sports.**"
      ],
      "metadata": {
        "id": "jsgnjnpfLp_2"
      }
    },
    {
      "cell_type": "markdown",
      "source": [
        "## Общий вывод"
      ],
      "metadata": {
        "id": "7uxFD5dBLwD4"
      }
    },
    {
      "cell_type": "markdown",
      "source": [
        "**Общий вывод:**\n",
        "\n",
        "<br>Исторически \"золотой век\"(до 1400 релизов в год) как для мобильных так и для стационарных игровых платформ, если судить по количеству релизов закончился в 2010 году, можно предположить что появление и развитие смартфонов сыграло определяющую роль. После падения, количество релизов стабилизировалось с 2012 года около уровня 600 релизов, в настоящем рынок игр для игровых платформ - отдельная ниша. В среднем платформы существуют около 8 лет, после чего либо исчезают с рынка либо заменяются следующим поколением. Так, актуальный период для оценки рынка и перспектив в динамике - 4 года. За последние годы можно назвать нишевых лидеров - Sony и Microsoft, чьи платформы последнего поколения **Sony Playstation 4 и Microdoft XOne** в топе по штучным продажам игр *(244 и 133 млн шт. соответственно)*, причем с 2014 года уверенно лидирует PS4. 3DS хотя формально вторая (179 млн.шт) но уже не в активной фазе. Между продажами и пользовательскими оценками нет взаимосвязи, связь с оценками критиков присутствует умеренная, это справедливо для лидеров, для остальных такие оценки имеюь слабую взаимосвязь.\n",
        "\n",
        "<br>Рекомендации для ассортиментной матрицы магазина компьютерных игр в 2017 году можно обозначить следующим образом:\n",
        "\n",
        "<br>Для рынка **Северной Америки**, самая перспективная платформа **PS4**, затем **XOne** *(доля рынка - 31% и 28%)*, должны быть широко представлены самые популярные жанры для этого рынка - **Action** и **Shooter** *(доля рынка 27% и 22%)*, далее по убыванию - RPG, Sports, Platform, в основном , более чем в половине случаев с рейтингами M и T, четверть - с подростковыми рейтингами.\n",
        "\n",
        "<br>Для рынка **Европы**, большую часть ассортимента должны составлять игры для **PS4** и **XOne** *(доля рынка 28% и 20%)* и и WiiU и остальные - в равных долях, самые популярны жанры - аналогично ассортименту для Северной Америки, рекомендации по рейтингам - также аналогично американским. \n",
        "\n",
        "<br>Для рынка **Японии**, по крайней мере на ближайший год все еще актуальны игры для мобильной приставки от **Nintendo 3DS** *(доля рынка 66%)*, из-за хоть и имеющей тенденцию к снижению, но все еще большой популярности, однако игры для современныех **PS4** *(9%)* и WiiU*(10%)* должны быть представлены, Основной перспективный жанр - **RPG** *(доля рынка 37%)*, затем **Action** *(23%)*, далее смешанные жанры, Simulation и Platform - в  равных пропорциях. Самый частотный рейтинг - \"для всех\", возможно необходимы рейтинги от национальной ассоциации.\n",
        "\n",
        "<br>Общей рекомендацией для всех рынков может являтся наличие в ассортименте игр с хорошими оценками критиков, для самых перспективных платформ, возможно - рейтинги для цифровых продаж от онлайн ассоциаций. Также можно учесть что игры для PC - небольшая по объему но стабильная ниша, многие игры для XOne выходят также для PC, в силу доминирования на рынке PC софта Microsoft. C большой вероятностью средние пользовательские отзывы для для этих платформ одинаковы, что может давать синергию в продажах и варьиативность ассортимента. Также с небходимо отметить что пользователи более охотно дают хорошие оценки самому популярному жанру Action чем например жанру Sports. В целом для жанра Action необходима широта ассортимента, для Shooter - наличие популярных бестселлеров."
      ],
      "metadata": {
        "id": "IYNDnmZ-Lzzr"
      }
    }
  ]
}