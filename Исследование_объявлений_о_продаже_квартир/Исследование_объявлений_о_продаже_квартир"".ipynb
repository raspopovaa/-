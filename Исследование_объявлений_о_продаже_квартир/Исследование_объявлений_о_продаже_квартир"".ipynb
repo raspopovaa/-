{
  "nbformat": 4,
  "nbformat_minor": 0,
  "metadata": {
    "kernelspec": {
      "display_name": "Python 3",
      "language": "python",
      "name": "python3"
    },
    "language_info": {
      "codemirror_mode": {
        "name": "ipython",
        "version": 3
      },
      "file_extension": ".py",
      "mimetype": "text/x-python",
      "name": "python",
      "nbconvert_exporter": "python",
      "pygments_lexer": "ipython3",
      "version": "3.7.8"
    },
    "toc": {
      "base_numbering": 1,
      "nav_menu": {},
      "number_sections": true,
      "sideBar": true,
      "skip_h1_title": true,
      "title_cell": "Содержание",
      "title_sidebar": "Contents",
      "toc_cell": true,
      "toc_position": {
        "height": "calc(100% - 180px)",
        "left": "10px",
        "top": "150px",
        "width": "165px"
      },
      "toc_section_display": true,
      "toc_window_display": false
    },
    "colab": {
      "name": "Копия блокнота \"Исследование_объявлений_о_продаже_квартир\"\"",
      "provenance": [],
      "collapsed_sections": [],
      "include_colab_link": true
    }
  },
  "cells": [
    {
      "cell_type": "markdown",
      "metadata": {
        "id": "view-in-github",
        "colab_type": "text"
      },
      "source": [
        "<a href=\"https://colab.research.google.com/github/raspopovaa/Pet-Project-Data-Analyst/blob/main/%D0%98%D1%81%D1%81%D0%BB%D0%B5%D0%B4%D0%BE%D0%B2%D0%B0%D0%BD%D0%B8%D0%B5_%D0%BE%D0%B1%D1%8A%D1%8F%D0%B2%D0%BB%D0%B5%D0%BD%D0%B8%D0%B9_%D0%BE_%D0%BF%D1%80%D0%BE%D0%B4%D0%B0%D0%B6%D0%B5_%D0%BA%D0%B2%D0%B0%D1%80%D1%82%D0%B8%D1%80/%D0%98%D1%81%D1%81%D0%BB%D0%B5%D0%B4%D0%BE%D0%B2%D0%B0%D0%BD%D0%B8%D0%B5_%D0%BE%D0%B1%D1%8A%D1%8F%D0%B2%D0%BB%D0%B5%D0%BD%D0%B8%D0%B9_%D0%BE_%D0%BF%D1%80%D0%BE%D0%B4%D0%B0%D0%B6%D0%B5_%D0%BA%D0%B2%D0%B0%D1%80%D1%82%D0%B8%D1%80%22%22.ipynb\" target=\"_parent\"><img src=\"https://colab.research.google.com/assets/colab-badge.svg\" alt=\"Open In Colab\"/></a>"
      ]
    },
    {
      "cell_type": "markdown",
      "metadata": {
        "id": "Q2hk31Pvi8BX"
      },
      "source": [
        "# Исследование объявлений о продаже квартир\n",
        "\n",
        "В вашем распоряжении данные сервиса о недвижимости — архив объявлений о продаже квартир в Санкт-Петербурге и соседних населённых пунктах за несколько лет. Нужно научиться определять рыночную стоимость объектов недвижимости. Ваша задача — установить параметры. Это позволит построить автоматизированную систему: она отследит аномалии и мошенническую деятельность. \n",
        "\n",
        "По каждой квартире на продажу доступны два вида данных. Первые вписаны пользователем, вторые получены автоматически на основе картографических данных. Например, расстояние до центра, аэропорта, ближайшего парка и водоёма. "
      ]
    },
    {
      "cell_type": "markdown",
      "metadata": {
        "id": "hY9CGw1Ei8BY"
      },
      "source": [
        "## Изучение данных из файла"
      ]
    },
    {
      "cell_type": "markdown",
      "source": [
        "Импортируем необходимые библиотеки"
      ],
      "metadata": {
        "id": "iZ_B4T4OSGWV"
      }
    },
    {
      "cell_type": "code",
      "source": [
        "# импортируем библиотеки\n",
        "import pandas as pd\n",
        "import matplotlib.pyplot as plt\n",
        "import numpy as np\n",
        "import seaborn as sn\n",
        "import plotly.express as px\n",
        "import calendar\n",
        "from datetime import datetime, time\n",
        "# открываем файлы\n",
        "! gdown --id 1uiXqkETYTkztZMbXXWcO3VgVr78hCx2W\n",
        "try:\n",
        "    data = pd.read_csv('/content/real_estate_data.csv', sep='\\t')\n",
        "except:\n",
        "    data = pd.read_csv('https://code.s3.yandex.net/datasets/real_estate_data.csv', sep='\\t')\n",
        "\n",
        "# устанавливаем отображение количества столбцов экране \n",
        "pd.set_option('display.max_columns', None)\n",
        "pd.set_option('display.max_rows', None)\n",
        "pd.set_option('display.float_format', lambda x: '%.3f' % x) # устанавливаем отображение числа знаков после точки.\n",
        "import warnings\n",
        "warnings.filterwarnings('ignore')"
      ],
      "metadata": {
        "colab": {
          "base_uri": "https://localhost:8080/"
        },
        "id": "fKLk1JN75FM4",
        "outputId": "975a822a-cdc9-4b67-8178-ad9129ea8901"
      },
      "execution_count": 41,
      "outputs": [
        {
          "output_type": "stream",
          "name": "stdout",
          "text": [
            "Downloading...\n",
            "From: https://drive.google.com/uc?id=1uiXqkETYTkztZMbXXWcO3VgVr78hCx2W\n",
            "To: /content/real_estate_data.csv\n",
            "\r  0% 0.00/3.21M [00:00<?, ?B/s]\r100% 3.21M/3.21M [00:00<00:00, 55.9MB/s]\n"
          ]
        }
      ]
    },
    {
      "cell_type": "markdown",
      "metadata": {
        "id": "meEmQyfIi8BZ"
      },
      "source": [
        "Импортируем таблицу, выводим на экран несколько строк. Изучаем данные."
      ]
    },
    {
      "cell_type": "code",
      "metadata": {
        "id": "jBi--wNdi8Bb",
        "outputId": "3a9a301b-fee8-4b83-df88-d3ff8b1a20b0",
        "colab": {
          "base_uri": "https://localhost:8080/",
          "height": 250
        }
      },
      "source": [
        "data.sample(5)"
      ],
      "execution_count": 42,
      "outputs": [
        {
          "output_type": "execute_result",
          "data": {
            "text/html": [
              "\n",
              "  <div id=\"df-12a6a7a6-4e4f-40e7-83d4-b44beb2f4c99\">\n",
              "    <div class=\"colab-df-container\">\n",
              "      <div>\n",
              "<style scoped>\n",
              "    .dataframe tbody tr th:only-of-type {\n",
              "        vertical-align: middle;\n",
              "    }\n",
              "\n",
              "    .dataframe tbody tr th {\n",
              "        vertical-align: top;\n",
              "    }\n",
              "\n",
              "    .dataframe thead th {\n",
              "        text-align: right;\n",
              "    }\n",
              "</style>\n",
              "<table border=\"1\" class=\"dataframe\">\n",
              "  <thead>\n",
              "    <tr style=\"text-align: right;\">\n",
              "      <th></th>\n",
              "      <th>total_images</th>\n",
              "      <th>last_price</th>\n",
              "      <th>total_area</th>\n",
              "      <th>first_day_exposition</th>\n",
              "      <th>rooms</th>\n",
              "      <th>ceiling_height</th>\n",
              "      <th>floors_total</th>\n",
              "      <th>living_area</th>\n",
              "      <th>floor</th>\n",
              "      <th>is_apartment</th>\n",
              "      <th>studio</th>\n",
              "      <th>open_plan</th>\n",
              "      <th>kitchen_area</th>\n",
              "      <th>balcony</th>\n",
              "      <th>locality_name</th>\n",
              "      <th>airports_nearest</th>\n",
              "      <th>cityCenters_nearest</th>\n",
              "      <th>parks_around3000</th>\n",
              "      <th>parks_nearest</th>\n",
              "      <th>ponds_around3000</th>\n",
              "      <th>ponds_nearest</th>\n",
              "      <th>days_exposition</th>\n",
              "    </tr>\n",
              "  </thead>\n",
              "  <tbody>\n",
              "    <tr>\n",
              "      <th>8213</th>\n",
              "      <td>0</td>\n",
              "      <td>2800000.000</td>\n",
              "      <td>29.540</td>\n",
              "      <td>2016-09-30T00:00:00</td>\n",
              "      <td>1</td>\n",
              "      <td>NaN</td>\n",
              "      <td>5.000</td>\n",
              "      <td>16.600</td>\n",
              "      <td>3</td>\n",
              "      <td>False</td>\n",
              "      <td>False</td>\n",
              "      <td>False</td>\n",
              "      <td>5.330</td>\n",
              "      <td>0.000</td>\n",
              "      <td>Пушкин</td>\n",
              "      <td>14836.000</td>\n",
              "      <td>26989.000</td>\n",
              "      <td>0.000</td>\n",
              "      <td>NaN</td>\n",
              "      <td>0.000</td>\n",
              "      <td>NaN</td>\n",
              "      <td>163.000</td>\n",
              "    </tr>\n",
              "    <tr>\n",
              "      <th>20534</th>\n",
              "      <td>18</td>\n",
              "      <td>3600000.000</td>\n",
              "      <td>31.230</td>\n",
              "      <td>2016-04-13T00:00:00</td>\n",
              "      <td>1</td>\n",
              "      <td>2.800</td>\n",
              "      <td>23.000</td>\n",
              "      <td>15.000</td>\n",
              "      <td>11</td>\n",
              "      <td>True</td>\n",
              "      <td>False</td>\n",
              "      <td>False</td>\n",
              "      <td>10.000</td>\n",
              "      <td>2.000</td>\n",
              "      <td>Санкт-Петербург</td>\n",
              "      <td>33705.000</td>\n",
              "      <td>14883.000</td>\n",
              "      <td>0.000</td>\n",
              "      <td>NaN</td>\n",
              "      <td>0.000</td>\n",
              "      <td>NaN</td>\n",
              "      <td>767.000</td>\n",
              "    </tr>\n",
              "    <tr>\n",
              "      <th>22997</th>\n",
              "      <td>9</td>\n",
              "      <td>560000.000</td>\n",
              "      <td>28.500</td>\n",
              "      <td>2018-08-11T00:00:00</td>\n",
              "      <td>1</td>\n",
              "      <td>2.600</td>\n",
              "      <td>4.000</td>\n",
              "      <td>17.200</td>\n",
              "      <td>4</td>\n",
              "      <td>NaN</td>\n",
              "      <td>False</td>\n",
              "      <td>False</td>\n",
              "      <td>5.700</td>\n",
              "      <td>1.000</td>\n",
              "      <td>Пикалёво</td>\n",
              "      <td>NaN</td>\n",
              "      <td>NaN</td>\n",
              "      <td>NaN</td>\n",
              "      <td>NaN</td>\n",
              "      <td>NaN</td>\n",
              "      <td>NaN</td>\n",
              "      <td>198.000</td>\n",
              "    </tr>\n",
              "    <tr>\n",
              "      <th>8358</th>\n",
              "      <td>6</td>\n",
              "      <td>3150000.000</td>\n",
              "      <td>31.500</td>\n",
              "      <td>2019-03-07T00:00:00</td>\n",
              "      <td>1</td>\n",
              "      <td>2.600</td>\n",
              "      <td>4.000</td>\n",
              "      <td>18.500</td>\n",
              "      <td>2</td>\n",
              "      <td>NaN</td>\n",
              "      <td>False</td>\n",
              "      <td>False</td>\n",
              "      <td>5.200</td>\n",
              "      <td>NaN</td>\n",
              "      <td>Санкт-Петербург</td>\n",
              "      <td>21541.000</td>\n",
              "      <td>13095.000</td>\n",
              "      <td>1.000</td>\n",
              "      <td>460.000</td>\n",
              "      <td>0.000</td>\n",
              "      <td>NaN</td>\n",
              "      <td>28.000</td>\n",
              "    </tr>\n",
              "    <tr>\n",
              "      <th>23340</th>\n",
              "      <td>12</td>\n",
              "      <td>7575000.000</td>\n",
              "      <td>69.000</td>\n",
              "      <td>2017-01-13T00:00:00</td>\n",
              "      <td>3</td>\n",
              "      <td>2.700</td>\n",
              "      <td>14.000</td>\n",
              "      <td>41.200</td>\n",
              "      <td>3</td>\n",
              "      <td>False</td>\n",
              "      <td>False</td>\n",
              "      <td>False</td>\n",
              "      <td>12.000</td>\n",
              "      <td>0.000</td>\n",
              "      <td>Санкт-Петербург</td>\n",
              "      <td>35455.000</td>\n",
              "      <td>11356.000</td>\n",
              "      <td>0.000</td>\n",
              "      <td>NaN</td>\n",
              "      <td>2.000</td>\n",
              "      <td>662.000</td>\n",
              "      <td>214.000</td>\n",
              "    </tr>\n",
              "  </tbody>\n",
              "</table>\n",
              "</div>\n",
              "      <button class=\"colab-df-convert\" onclick=\"convertToInteractive('df-12a6a7a6-4e4f-40e7-83d4-b44beb2f4c99')\"\n",
              "              title=\"Convert this dataframe to an interactive table.\"\n",
              "              style=\"display:none;\">\n",
              "        \n",
              "  <svg xmlns=\"http://www.w3.org/2000/svg\" height=\"24px\"viewBox=\"0 0 24 24\"\n",
              "       width=\"24px\">\n",
              "    <path d=\"M0 0h24v24H0V0z\" fill=\"none\"/>\n",
              "    <path d=\"M18.56 5.44l.94 2.06.94-2.06 2.06-.94-2.06-.94-.94-2.06-.94 2.06-2.06.94zm-11 1L8.5 8.5l.94-2.06 2.06-.94-2.06-.94L8.5 2.5l-.94 2.06-2.06.94zm10 10l.94 2.06.94-2.06 2.06-.94-2.06-.94-.94-2.06-.94 2.06-2.06.94z\"/><path d=\"M17.41 7.96l-1.37-1.37c-.4-.4-.92-.59-1.43-.59-.52 0-1.04.2-1.43.59L10.3 9.45l-7.72 7.72c-.78.78-.78 2.05 0 2.83L4 21.41c.39.39.9.59 1.41.59.51 0 1.02-.2 1.41-.59l7.78-7.78 2.81-2.81c.8-.78.8-2.07 0-2.86zM5.41 20L4 18.59l7.72-7.72 1.47 1.35L5.41 20z\"/>\n",
              "  </svg>\n",
              "      </button>\n",
              "      \n",
              "  <style>\n",
              "    .colab-df-container {\n",
              "      display:flex;\n",
              "      flex-wrap:wrap;\n",
              "      gap: 12px;\n",
              "    }\n",
              "\n",
              "    .colab-df-convert {\n",
              "      background-color: #E8F0FE;\n",
              "      border: none;\n",
              "      border-radius: 50%;\n",
              "      cursor: pointer;\n",
              "      display: none;\n",
              "      fill: #1967D2;\n",
              "      height: 32px;\n",
              "      padding: 0 0 0 0;\n",
              "      width: 32px;\n",
              "    }\n",
              "\n",
              "    .colab-df-convert:hover {\n",
              "      background-color: #E2EBFA;\n",
              "      box-shadow: 0px 1px 2px rgba(60, 64, 67, 0.3), 0px 1px 3px 1px rgba(60, 64, 67, 0.15);\n",
              "      fill: #174EA6;\n",
              "    }\n",
              "\n",
              "    [theme=dark] .colab-df-convert {\n",
              "      background-color: #3B4455;\n",
              "      fill: #D2E3FC;\n",
              "    }\n",
              "\n",
              "    [theme=dark] .colab-df-convert:hover {\n",
              "      background-color: #434B5C;\n",
              "      box-shadow: 0px 1px 3px 1px rgba(0, 0, 0, 0.15);\n",
              "      filter: drop-shadow(0px 1px 2px rgba(0, 0, 0, 0.3));\n",
              "      fill: #FFFFFF;\n",
              "    }\n",
              "  </style>\n",
              "\n",
              "      <script>\n",
              "        const buttonEl =\n",
              "          document.querySelector('#df-12a6a7a6-4e4f-40e7-83d4-b44beb2f4c99 button.colab-df-convert');\n",
              "        buttonEl.style.display =\n",
              "          google.colab.kernel.accessAllowed ? 'block' : 'none';\n",
              "\n",
              "        async function convertToInteractive(key) {\n",
              "          const element = document.querySelector('#df-12a6a7a6-4e4f-40e7-83d4-b44beb2f4c99');\n",
              "          const dataTable =\n",
              "            await google.colab.kernel.invokeFunction('convertToInteractive',\n",
              "                                                     [key], {});\n",
              "          if (!dataTable) return;\n",
              "\n",
              "          const docLinkHtml = 'Like what you see? Visit the ' +\n",
              "            '<a target=\"_blank\" href=https://colab.research.google.com/notebooks/data_table.ipynb>data table notebook</a>'\n",
              "            + ' to learn more about interactive tables.';\n",
              "          element.innerHTML = '';\n",
              "          dataTable['output_type'] = 'display_data';\n",
              "          await google.colab.output.renderOutput(dataTable, element);\n",
              "          const docLink = document.createElement('div');\n",
              "          docLink.innerHTML = docLinkHtml;\n",
              "          element.appendChild(docLink);\n",
              "        }\n",
              "      </script>\n",
              "    </div>\n",
              "  </div>\n",
              "  "
            ],
            "text/plain": [
              "       total_images  last_price  total_area first_day_exposition  rooms  \\\n",
              "8213              0 2800000.000      29.540  2016-09-30T00:00:00      1   \n",
              "20534            18 3600000.000      31.230  2016-04-13T00:00:00      1   \n",
              "22997             9  560000.000      28.500  2018-08-11T00:00:00      1   \n",
              "8358              6 3150000.000      31.500  2019-03-07T00:00:00      1   \n",
              "23340            12 7575000.000      69.000  2017-01-13T00:00:00      3   \n",
              "\n",
              "       ceiling_height  floors_total  living_area  floor is_apartment  studio  \\\n",
              "8213              NaN         5.000       16.600      3        False   False   \n",
              "20534           2.800        23.000       15.000     11         True   False   \n",
              "22997           2.600         4.000       17.200      4          NaN   False   \n",
              "8358            2.600         4.000       18.500      2          NaN   False   \n",
              "23340           2.700        14.000       41.200      3        False   False   \n",
              "\n",
              "       open_plan  kitchen_area  balcony    locality_name  airports_nearest  \\\n",
              "8213       False         5.330    0.000           Пушкин         14836.000   \n",
              "20534      False        10.000    2.000  Санкт-Петербург         33705.000   \n",
              "22997      False         5.700    1.000         Пикалёво               NaN   \n",
              "8358       False         5.200      NaN  Санкт-Петербург         21541.000   \n",
              "23340      False        12.000    0.000  Санкт-Петербург         35455.000   \n",
              "\n",
              "       cityCenters_nearest  parks_around3000  parks_nearest  ponds_around3000  \\\n",
              "8213             26989.000             0.000            NaN             0.000   \n",
              "20534            14883.000             0.000            NaN             0.000   \n",
              "22997                  NaN               NaN            NaN               NaN   \n",
              "8358             13095.000             1.000        460.000             0.000   \n",
              "23340            11356.000             0.000            NaN             2.000   \n",
              "\n",
              "       ponds_nearest  days_exposition  \n",
              "8213             NaN          163.000  \n",
              "20534            NaN          767.000  \n",
              "22997            NaN          198.000  \n",
              "8358             NaN           28.000  \n",
              "23340        662.000          214.000  "
            ]
          },
          "metadata": {},
          "execution_count": 42
        }
      ]
    },
    {
      "cell_type": "markdown",
      "metadata": {
        "id": "Qwmh4JbIi8Bd"
      },
      "source": [
        "Визуально оценим данные из таблицы. Есть много пропусков в разных столбцах. Название столбца cityCenters_nearest, написано в разных регистрах и без нижнего подчеркивания между словами. Изменим его. Еще в двух столбцах добавим нижнее подчеркивание."
      ]
    },
    {
      "cell_type": "code",
      "metadata": {
        "id": "MF7kAKWki8Bd"
      },
      "source": [
        "data.rename(columns={'cityCenters_nearest': 'city_centers_nearest', 'ponds_around3000': 'ponds_around_3000', 'parks_around3000': 'parks_around_3000'}, inplace=True)"
      ],
      "execution_count": 43,
      "outputs": []
    },
    {
      "cell_type": "markdown",
      "metadata": {
        "id": "XIdoLZNYi8Be"
      },
      "source": [
        "Посмотрим краткую инфармацию о таблице."
      ]
    },
    {
      "cell_type": "code",
      "metadata": {
        "id": "sjGRmemsi8Be",
        "outputId": "5d6bfab4-6cfe-4e9d-dc9f-c9bb8cc132d5",
        "colab": {
          "base_uri": "https://localhost:8080/"
        }
      },
      "source": [
        "data.info()"
      ],
      "execution_count": 44,
      "outputs": [
        {
          "output_type": "stream",
          "name": "stdout",
          "text": [
            "<class 'pandas.core.frame.DataFrame'>\n",
            "RangeIndex: 23699 entries, 0 to 23698\n",
            "Data columns (total 22 columns):\n",
            " #   Column                Non-Null Count  Dtype  \n",
            "---  ------                --------------  -----  \n",
            " 0   total_images          23699 non-null  int64  \n",
            " 1   last_price            23699 non-null  float64\n",
            " 2   total_area            23699 non-null  float64\n",
            " 3   first_day_exposition  23699 non-null  object \n",
            " 4   rooms                 23699 non-null  int64  \n",
            " 5   ceiling_height        14504 non-null  float64\n",
            " 6   floors_total          23613 non-null  float64\n",
            " 7   living_area           21796 non-null  float64\n",
            " 8   floor                 23699 non-null  int64  \n",
            " 9   is_apartment          2775 non-null   object \n",
            " 10  studio                23699 non-null  bool   \n",
            " 11  open_plan             23699 non-null  bool   \n",
            " 12  kitchen_area          21421 non-null  float64\n",
            " 13  balcony               12180 non-null  float64\n",
            " 14  locality_name         23650 non-null  object \n",
            " 15  airports_nearest      18157 non-null  float64\n",
            " 16  city_centers_nearest  18180 non-null  float64\n",
            " 17  parks_around_3000     18181 non-null  float64\n",
            " 18  parks_nearest         8079 non-null   float64\n",
            " 19  ponds_around_3000     18181 non-null  float64\n",
            " 20  ponds_nearest         9110 non-null   float64\n",
            " 21  days_exposition       20518 non-null  float64\n",
            "dtypes: bool(2), float64(14), int64(3), object(3)\n",
            "memory usage: 3.7+ MB\n"
          ]
        }
      ]
    },
    {
      "cell_type": "markdown",
      "source": [
        "Посмотрим на процет пропусков в таблице."
      ],
      "metadata": {
        "id": "mTrI5hEXS-Cx"
      }
    },
    {
      "cell_type": "code",
      "metadata": {
        "id": "YMJXhuWgi8Be",
        "outputId": "3dc3006f-e60f-4d12-f2d5-976b61fc8c27",
        "colab": {
          "base_uri": "https://localhost:8080/",
          "height": 740
        }
      },
      "source": [
        "pd.DataFrame(round((data.isna().mean()*100),2)).style.background_gradient('coolwarm')"
      ],
      "execution_count": 45,
      "outputs": [
        {
          "output_type": "execute_result",
          "data": {
            "text/html": [
              "<style type=\"text/css\">\n",
              "#T_14756_row0_col0, #T_14756_row1_col0, #T_14756_row2_col0, #T_14756_row3_col0, #T_14756_row4_col0, #T_14756_row8_col0, #T_14756_row10_col0, #T_14756_row11_col0, #T_14756_row14_col0 {\n",
              "  background-color: #3b4cc0;\n",
              "  color: #f1f1f1;\n",
              "}\n",
              "#T_14756_row5_col0 {\n",
              "  background-color: #ccd9ed;\n",
              "  color: #000000;\n",
              "}\n",
              "#T_14756_row6_col0 {\n",
              "  background-color: #3c4ec2;\n",
              "  color: #f1f1f1;\n",
              "}\n",
              "#T_14756_row7_col0 {\n",
              "  background-color: #5673e0;\n",
              "  color: #f1f1f1;\n",
              "}\n",
              "#T_14756_row9_col0 {\n",
              "  background-color: #b40426;\n",
              "  color: #f1f1f1;\n",
              "}\n",
              "#T_14756_row12_col0 {\n",
              "  background-color: #5b7ae5;\n",
              "  color: #f1f1f1;\n",
              "}\n",
              "#T_14756_row13_col0 {\n",
              "  background-color: #e9d5cb;\n",
              "  color: #000000;\n",
              "}\n",
              "#T_14756_row15_col0, #T_14756_row16_col0, #T_14756_row17_col0, #T_14756_row19_col0 {\n",
              "  background-color: #92b4fe;\n",
              "  color: #000000;\n",
              "}\n",
              "#T_14756_row18_col0 {\n",
              "  background-color: #f49a7b;\n",
              "  color: #000000;\n",
              "}\n",
              "#T_14756_row20_col0 {\n",
              "  background-color: #f7ad90;\n",
              "  color: #000000;\n",
              "}\n",
              "#T_14756_row21_col0 {\n",
              "  background-color: #6a8bef;\n",
              "  color: #f1f1f1;\n",
              "}\n",
              "</style>\n",
              "<table id=\"T_14756_\" class=\"dataframe\">\n",
              "  <thead>\n",
              "    <tr>\n",
              "      <th class=\"blank level0\" >&nbsp;</th>\n",
              "      <th class=\"col_heading level0 col0\" >0</th>\n",
              "    </tr>\n",
              "  </thead>\n",
              "  <tbody>\n",
              "    <tr>\n",
              "      <th id=\"T_14756_level0_row0\" class=\"row_heading level0 row0\" >total_images</th>\n",
              "      <td id=\"T_14756_row0_col0\" class=\"data row0 col0\" >0.000000</td>\n",
              "    </tr>\n",
              "    <tr>\n",
              "      <th id=\"T_14756_level0_row1\" class=\"row_heading level0 row1\" >last_price</th>\n",
              "      <td id=\"T_14756_row1_col0\" class=\"data row1 col0\" >0.000000</td>\n",
              "    </tr>\n",
              "    <tr>\n",
              "      <th id=\"T_14756_level0_row2\" class=\"row_heading level0 row2\" >total_area</th>\n",
              "      <td id=\"T_14756_row2_col0\" class=\"data row2 col0\" >0.000000</td>\n",
              "    </tr>\n",
              "    <tr>\n",
              "      <th id=\"T_14756_level0_row3\" class=\"row_heading level0 row3\" >first_day_exposition</th>\n",
              "      <td id=\"T_14756_row3_col0\" class=\"data row3 col0\" >0.000000</td>\n",
              "    </tr>\n",
              "    <tr>\n",
              "      <th id=\"T_14756_level0_row4\" class=\"row_heading level0 row4\" >rooms</th>\n",
              "      <td id=\"T_14756_row4_col0\" class=\"data row4 col0\" >0.000000</td>\n",
              "    </tr>\n",
              "    <tr>\n",
              "      <th id=\"T_14756_level0_row5\" class=\"row_heading level0 row5\" >ceiling_height</th>\n",
              "      <td id=\"T_14756_row5_col0\" class=\"data row5 col0\" >38.800000</td>\n",
              "    </tr>\n",
              "    <tr>\n",
              "      <th id=\"T_14756_level0_row6\" class=\"row_heading level0 row6\" >floors_total</th>\n",
              "      <td id=\"T_14756_row6_col0\" class=\"data row6 col0\" >0.360000</td>\n",
              "    </tr>\n",
              "    <tr>\n",
              "      <th id=\"T_14756_level0_row7\" class=\"row_heading level0 row7\" >living_area</th>\n",
              "      <td id=\"T_14756_row7_col0\" class=\"data row7 col0\" >8.030000</td>\n",
              "    </tr>\n",
              "    <tr>\n",
              "      <th id=\"T_14756_level0_row8\" class=\"row_heading level0 row8\" >floor</th>\n",
              "      <td id=\"T_14756_row8_col0\" class=\"data row8 col0\" >0.000000</td>\n",
              "    </tr>\n",
              "    <tr>\n",
              "      <th id=\"T_14756_level0_row9\" class=\"row_heading level0 row9\" >is_apartment</th>\n",
              "      <td id=\"T_14756_row9_col0\" class=\"data row9 col0\" >88.290000</td>\n",
              "    </tr>\n",
              "    <tr>\n",
              "      <th id=\"T_14756_level0_row10\" class=\"row_heading level0 row10\" >studio</th>\n",
              "      <td id=\"T_14756_row10_col0\" class=\"data row10 col0\" >0.000000</td>\n",
              "    </tr>\n",
              "    <tr>\n",
              "      <th id=\"T_14756_level0_row11\" class=\"row_heading level0 row11\" >open_plan</th>\n",
              "      <td id=\"T_14756_row11_col0\" class=\"data row11 col0\" >0.000000</td>\n",
              "    </tr>\n",
              "    <tr>\n",
              "      <th id=\"T_14756_level0_row12\" class=\"row_heading level0 row12\" >kitchen_area</th>\n",
              "      <td id=\"T_14756_row12_col0\" class=\"data row12 col0\" >9.610000</td>\n",
              "    </tr>\n",
              "    <tr>\n",
              "      <th id=\"T_14756_level0_row13\" class=\"row_heading level0 row13\" >balcony</th>\n",
              "      <td id=\"T_14756_row13_col0\" class=\"data row13 col0\" >48.610000</td>\n",
              "    </tr>\n",
              "    <tr>\n",
              "      <th id=\"T_14756_level0_row14\" class=\"row_heading level0 row14\" >locality_name</th>\n",
              "      <td id=\"T_14756_row14_col0\" class=\"data row14 col0\" >0.210000</td>\n",
              "    </tr>\n",
              "    <tr>\n",
              "      <th id=\"T_14756_level0_row15\" class=\"row_heading level0 row15\" >airports_nearest</th>\n",
              "      <td id=\"T_14756_row15_col0\" class=\"data row15 col0\" >23.380000</td>\n",
              "    </tr>\n",
              "    <tr>\n",
              "      <th id=\"T_14756_level0_row16\" class=\"row_heading level0 row16\" >city_centers_nearest</th>\n",
              "      <td id=\"T_14756_row16_col0\" class=\"data row16 col0\" >23.290000</td>\n",
              "    </tr>\n",
              "    <tr>\n",
              "      <th id=\"T_14756_level0_row17\" class=\"row_heading level0 row17\" >parks_around_3000</th>\n",
              "      <td id=\"T_14756_row17_col0\" class=\"data row17 col0\" >23.280000</td>\n",
              "    </tr>\n",
              "    <tr>\n",
              "      <th id=\"T_14756_level0_row18\" class=\"row_heading level0 row18\" >parks_nearest</th>\n",
              "      <td id=\"T_14756_row18_col0\" class=\"data row18 col0\" >65.910000</td>\n",
              "    </tr>\n",
              "    <tr>\n",
              "      <th id=\"T_14756_level0_row19\" class=\"row_heading level0 row19\" >ponds_around_3000</th>\n",
              "      <td id=\"T_14756_row19_col0\" class=\"data row19 col0\" >23.280000</td>\n",
              "    </tr>\n",
              "    <tr>\n",
              "      <th id=\"T_14756_level0_row20\" class=\"row_heading level0 row20\" >ponds_nearest</th>\n",
              "      <td id=\"T_14756_row20_col0\" class=\"data row20 col0\" >61.560000</td>\n",
              "    </tr>\n",
              "    <tr>\n",
              "      <th id=\"T_14756_level0_row21\" class=\"row_heading level0 row21\" >days_exposition</th>\n",
              "      <td id=\"T_14756_row21_col0\" class=\"data row21 col0\" >13.420000</td>\n",
              "    </tr>\n",
              "  </tbody>\n",
              "</table>\n"
            ],
            "text/plain": [
              "<pandas.io.formats.style.Styler at 0x7ff7d63673d0>"
            ]
          },
          "metadata": {},
          "execution_count": 45
        }
      ]
    },
    {
      "cell_type": "markdown",
      "metadata": {
        "id": "bvIAqCGfi8Bf"
      },
      "source": [
        "### Вывод"
      ]
    },
    {
      "cell_type": "markdown",
      "metadata": {
        "id": "mLX6__vhi8Bf"
      },
      "source": [
        "Использовав метод info и head, можно сделать вывод, что таблица содержит 23699 строк, 22 столбца. Столбцы имеют разный тип данных. Таблица удобная для анализа данных - в каждом столбце хранятся значения, каждая строка содержит одно наблюдение, к которому привязаны значения разных переменных. Название столбцов без пробелов, несколько слов разделяются нижним подчеркиванием, на одном языке и в одном регистре, отображают в краткой форме какого рода информация содержится в каждом столбце. Наблюдаем огромное количество пропусков в 14 столбцах из 22. Особенно в столбце is_apartment 88% значений - пропуски. Так же видим много пропусков в столбцах ponds_nearest, balcony и parks_nearest. Пропуски есть в большинстве столбцов и в большом количестве. Таблица имеет два типа данных. Первый - данные заполненые самими людьми. В них прричина пропусков - человеческий фактор. Люди не знали, как заполнить соответствующее поле, поэтому нам придется заполнить эти поля за них. Второй тип данных - картографические данные которые были заполнены автоматически, в них тоже есть пропуски - это технические пропуски. По данным пропускам можно сформировать Баг-репорт, для дальнейшего исправления разработчиками. Целесообразно заполнить пропуски с первым типом данных. \n",
        "Необходимо провести предобработку данных, для выявления артефактов содержащих недостоверные данные и исключить пропуски.\n"
      ]
    },
    {
      "cell_type": "markdown",
      "metadata": {
        "id": "_SPnBMoCi8Bg"
      },
      "source": [
        "## Предобработка данных"
      ]
    },
    {
      "cell_type": "code",
      "metadata": {
        "id": "dP_hnPUgi8Bg",
        "colab": {
          "base_uri": "https://localhost:8080/"
        },
        "outputId": "c86a50fb-db30-4db8-9c4e-306b0adc6deb"
      },
      "source": [
        "data.dtypes"
      ],
      "execution_count": 46,
      "outputs": [
        {
          "output_type": "execute_result",
          "data": {
            "text/plain": [
              "total_images              int64\n",
              "last_price              float64\n",
              "total_area              float64\n",
              "first_day_exposition     object\n",
              "rooms                     int64\n",
              "ceiling_height          float64\n",
              "floors_total            float64\n",
              "living_area             float64\n",
              "floor                     int64\n",
              "is_apartment             object\n",
              "studio                     bool\n",
              "open_plan                  bool\n",
              "kitchen_area            float64\n",
              "balcony                 float64\n",
              "locality_name            object\n",
              "airports_nearest        float64\n",
              "city_centers_nearest    float64\n",
              "parks_around_3000       float64\n",
              "parks_nearest           float64\n",
              "ponds_around_3000       float64\n",
              "ponds_nearest           float64\n",
              "days_exposition         float64\n",
              "dtype: object"
            ]
          },
          "metadata": {},
          "execution_count": 46
        }
      ]
    },
    {
      "cell_type": "markdown",
      "metadata": {
        "id": "xjGpBtlYi8Bg"
      },
      "source": [
        "Переведм столбец first_day_exposition из строкового типа в дату и время"
      ]
    },
    {
      "cell_type": "code",
      "metadata": {
        "id": "B54iG5Q9i8Bh"
      },
      "source": [
        "data['first_day_exposition'] = pd.to_datetime(data['first_day_exposition'], format = '%Y-%m-%dT%H:%M:%S')\n"
      ],
      "execution_count": 47,
      "outputs": []
    },
    {
      "cell_type": "markdown",
      "metadata": {
        "id": "o0w__H35i8Bh"
      },
      "source": [
        "Проверим, что получилось."
      ]
    },
    {
      "cell_type": "code",
      "metadata": {
        "id": "IMiSa9Ini8Bh",
        "colab": {
          "base_uri": "https://localhost:8080/"
        },
        "outputId": "ee13db40-6059-4ad7-ecf4-dc6d571be949"
      },
      "source": [
        "data['first_day_exposition'].dtypes"
      ],
      "execution_count": 48,
      "outputs": [
        {
          "output_type": "execute_result",
          "data": {
            "text/plain": [
              "dtype('<M8[ns]')"
            ]
          },
          "metadata": {},
          "execution_count": 48
        }
      ]
    },
    {
      "cell_type": "markdown",
      "metadata": {
        "id": "vKFJGyYBi8Bh"
      },
      "source": [
        "Округлим дату до дня. Уберем лишние часы и минуты. В любом случае там были только нулевые значения."
      ]
    },
    {
      "cell_type": "code",
      "metadata": {
        "id": "GvVXKleKi8Bh"
      },
      "source": [
        "data['first_day_exposition'] = data['first_day_exposition'].dt.round('1D')"
      ],
      "execution_count": 49,
      "outputs": []
    },
    {
      "cell_type": "code",
      "metadata": {
        "id": "mLGrkiq-i8Bi",
        "colab": {
          "base_uri": "https://localhost:8080/",
          "height": 250
        },
        "outputId": "b84e6d2e-6d45-43d7-c80e-488d86af89f5"
      },
      "source": [
        "data.head()"
      ],
      "execution_count": 50,
      "outputs": [
        {
          "output_type": "execute_result",
          "data": {
            "text/html": [
              "\n",
              "  <div id=\"df-61e802fb-44a0-4b74-b762-6b2943261f98\">\n",
              "    <div class=\"colab-df-container\">\n",
              "      <div>\n",
              "<style scoped>\n",
              "    .dataframe tbody tr th:only-of-type {\n",
              "        vertical-align: middle;\n",
              "    }\n",
              "\n",
              "    .dataframe tbody tr th {\n",
              "        vertical-align: top;\n",
              "    }\n",
              "\n",
              "    .dataframe thead th {\n",
              "        text-align: right;\n",
              "    }\n",
              "</style>\n",
              "<table border=\"1\" class=\"dataframe\">\n",
              "  <thead>\n",
              "    <tr style=\"text-align: right;\">\n",
              "      <th></th>\n",
              "      <th>total_images</th>\n",
              "      <th>last_price</th>\n",
              "      <th>total_area</th>\n",
              "      <th>first_day_exposition</th>\n",
              "      <th>rooms</th>\n",
              "      <th>ceiling_height</th>\n",
              "      <th>floors_total</th>\n",
              "      <th>living_area</th>\n",
              "      <th>floor</th>\n",
              "      <th>is_apartment</th>\n",
              "      <th>studio</th>\n",
              "      <th>open_plan</th>\n",
              "      <th>kitchen_area</th>\n",
              "      <th>balcony</th>\n",
              "      <th>locality_name</th>\n",
              "      <th>airports_nearest</th>\n",
              "      <th>city_centers_nearest</th>\n",
              "      <th>parks_around_3000</th>\n",
              "      <th>parks_nearest</th>\n",
              "      <th>ponds_around_3000</th>\n",
              "      <th>ponds_nearest</th>\n",
              "      <th>days_exposition</th>\n",
              "    </tr>\n",
              "  </thead>\n",
              "  <tbody>\n",
              "    <tr>\n",
              "      <th>0</th>\n",
              "      <td>20</td>\n",
              "      <td>13000000.000</td>\n",
              "      <td>108.000</td>\n",
              "      <td>2019-03-07</td>\n",
              "      <td>3</td>\n",
              "      <td>2.700</td>\n",
              "      <td>16.000</td>\n",
              "      <td>51.000</td>\n",
              "      <td>8</td>\n",
              "      <td>NaN</td>\n",
              "      <td>False</td>\n",
              "      <td>False</td>\n",
              "      <td>25.000</td>\n",
              "      <td>NaN</td>\n",
              "      <td>Санкт-Петербург</td>\n",
              "      <td>18863.000</td>\n",
              "      <td>16028.000</td>\n",
              "      <td>1.000</td>\n",
              "      <td>482.000</td>\n",
              "      <td>2.000</td>\n",
              "      <td>755.000</td>\n",
              "      <td>NaN</td>\n",
              "    </tr>\n",
              "    <tr>\n",
              "      <th>1</th>\n",
              "      <td>7</td>\n",
              "      <td>3350000.000</td>\n",
              "      <td>40.400</td>\n",
              "      <td>2018-12-04</td>\n",
              "      <td>1</td>\n",
              "      <td>NaN</td>\n",
              "      <td>11.000</td>\n",
              "      <td>18.600</td>\n",
              "      <td>1</td>\n",
              "      <td>NaN</td>\n",
              "      <td>False</td>\n",
              "      <td>False</td>\n",
              "      <td>11.000</td>\n",
              "      <td>2.000</td>\n",
              "      <td>посёлок Шушары</td>\n",
              "      <td>12817.000</td>\n",
              "      <td>18603.000</td>\n",
              "      <td>0.000</td>\n",
              "      <td>NaN</td>\n",
              "      <td>0.000</td>\n",
              "      <td>NaN</td>\n",
              "      <td>81.000</td>\n",
              "    </tr>\n",
              "    <tr>\n",
              "      <th>2</th>\n",
              "      <td>10</td>\n",
              "      <td>5196000.000</td>\n",
              "      <td>56.000</td>\n",
              "      <td>2015-08-20</td>\n",
              "      <td>2</td>\n",
              "      <td>NaN</td>\n",
              "      <td>5.000</td>\n",
              "      <td>34.300</td>\n",
              "      <td>4</td>\n",
              "      <td>NaN</td>\n",
              "      <td>False</td>\n",
              "      <td>False</td>\n",
              "      <td>8.300</td>\n",
              "      <td>0.000</td>\n",
              "      <td>Санкт-Петербург</td>\n",
              "      <td>21741.000</td>\n",
              "      <td>13933.000</td>\n",
              "      <td>1.000</td>\n",
              "      <td>90.000</td>\n",
              "      <td>2.000</td>\n",
              "      <td>574.000</td>\n",
              "      <td>558.000</td>\n",
              "    </tr>\n",
              "    <tr>\n",
              "      <th>3</th>\n",
              "      <td>0</td>\n",
              "      <td>64900000.000</td>\n",
              "      <td>159.000</td>\n",
              "      <td>2015-07-24</td>\n",
              "      <td>3</td>\n",
              "      <td>NaN</td>\n",
              "      <td>14.000</td>\n",
              "      <td>NaN</td>\n",
              "      <td>9</td>\n",
              "      <td>NaN</td>\n",
              "      <td>False</td>\n",
              "      <td>False</td>\n",
              "      <td>NaN</td>\n",
              "      <td>0.000</td>\n",
              "      <td>Санкт-Петербург</td>\n",
              "      <td>28098.000</td>\n",
              "      <td>6800.000</td>\n",
              "      <td>2.000</td>\n",
              "      <td>84.000</td>\n",
              "      <td>3.000</td>\n",
              "      <td>234.000</td>\n",
              "      <td>424.000</td>\n",
              "    </tr>\n",
              "    <tr>\n",
              "      <th>4</th>\n",
              "      <td>2</td>\n",
              "      <td>10000000.000</td>\n",
              "      <td>100.000</td>\n",
              "      <td>2018-06-19</td>\n",
              "      <td>2</td>\n",
              "      <td>3.030</td>\n",
              "      <td>14.000</td>\n",
              "      <td>32.000</td>\n",
              "      <td>13</td>\n",
              "      <td>NaN</td>\n",
              "      <td>False</td>\n",
              "      <td>False</td>\n",
              "      <td>41.000</td>\n",
              "      <td>NaN</td>\n",
              "      <td>Санкт-Петербург</td>\n",
              "      <td>31856.000</td>\n",
              "      <td>8098.000</td>\n",
              "      <td>2.000</td>\n",
              "      <td>112.000</td>\n",
              "      <td>1.000</td>\n",
              "      <td>48.000</td>\n",
              "      <td>121.000</td>\n",
              "    </tr>\n",
              "  </tbody>\n",
              "</table>\n",
              "</div>\n",
              "      <button class=\"colab-df-convert\" onclick=\"convertToInteractive('df-61e802fb-44a0-4b74-b762-6b2943261f98')\"\n",
              "              title=\"Convert this dataframe to an interactive table.\"\n",
              "              style=\"display:none;\">\n",
              "        \n",
              "  <svg xmlns=\"http://www.w3.org/2000/svg\" height=\"24px\"viewBox=\"0 0 24 24\"\n",
              "       width=\"24px\">\n",
              "    <path d=\"M0 0h24v24H0V0z\" fill=\"none\"/>\n",
              "    <path d=\"M18.56 5.44l.94 2.06.94-2.06 2.06-.94-2.06-.94-.94-2.06-.94 2.06-2.06.94zm-11 1L8.5 8.5l.94-2.06 2.06-.94-2.06-.94L8.5 2.5l-.94 2.06-2.06.94zm10 10l.94 2.06.94-2.06 2.06-.94-2.06-.94-.94-2.06-.94 2.06-2.06.94z\"/><path d=\"M17.41 7.96l-1.37-1.37c-.4-.4-.92-.59-1.43-.59-.52 0-1.04.2-1.43.59L10.3 9.45l-7.72 7.72c-.78.78-.78 2.05 0 2.83L4 21.41c.39.39.9.59 1.41.59.51 0 1.02-.2 1.41-.59l7.78-7.78 2.81-2.81c.8-.78.8-2.07 0-2.86zM5.41 20L4 18.59l7.72-7.72 1.47 1.35L5.41 20z\"/>\n",
              "  </svg>\n",
              "      </button>\n",
              "      \n",
              "  <style>\n",
              "    .colab-df-container {\n",
              "      display:flex;\n",
              "      flex-wrap:wrap;\n",
              "      gap: 12px;\n",
              "    }\n",
              "\n",
              "    .colab-df-convert {\n",
              "      background-color: #E8F0FE;\n",
              "      border: none;\n",
              "      border-radius: 50%;\n",
              "      cursor: pointer;\n",
              "      display: none;\n",
              "      fill: #1967D2;\n",
              "      height: 32px;\n",
              "      padding: 0 0 0 0;\n",
              "      width: 32px;\n",
              "    }\n",
              "\n",
              "    .colab-df-convert:hover {\n",
              "      background-color: #E2EBFA;\n",
              "      box-shadow: 0px 1px 2px rgba(60, 64, 67, 0.3), 0px 1px 3px 1px rgba(60, 64, 67, 0.15);\n",
              "      fill: #174EA6;\n",
              "    }\n",
              "\n",
              "    [theme=dark] .colab-df-convert {\n",
              "      background-color: #3B4455;\n",
              "      fill: #D2E3FC;\n",
              "    }\n",
              "\n",
              "    [theme=dark] .colab-df-convert:hover {\n",
              "      background-color: #434B5C;\n",
              "      box-shadow: 0px 1px 3px 1px rgba(0, 0, 0, 0.15);\n",
              "      filter: drop-shadow(0px 1px 2px rgba(0, 0, 0, 0.3));\n",
              "      fill: #FFFFFF;\n",
              "    }\n",
              "  </style>\n",
              "\n",
              "      <script>\n",
              "        const buttonEl =\n",
              "          document.querySelector('#df-61e802fb-44a0-4b74-b762-6b2943261f98 button.colab-df-convert');\n",
              "        buttonEl.style.display =\n",
              "          google.colab.kernel.accessAllowed ? 'block' : 'none';\n",
              "\n",
              "        async function convertToInteractive(key) {\n",
              "          const element = document.querySelector('#df-61e802fb-44a0-4b74-b762-6b2943261f98');\n",
              "          const dataTable =\n",
              "            await google.colab.kernel.invokeFunction('convertToInteractive',\n",
              "                                                     [key], {});\n",
              "          if (!dataTable) return;\n",
              "\n",
              "          const docLinkHtml = 'Like what you see? Visit the ' +\n",
              "            '<a target=\"_blank\" href=https://colab.research.google.com/notebooks/data_table.ipynb>data table notebook</a>'\n",
              "            + ' to learn more about interactive tables.';\n",
              "          element.innerHTML = '';\n",
              "          dataTable['output_type'] = 'display_data';\n",
              "          await google.colab.output.renderOutput(dataTable, element);\n",
              "          const docLink = document.createElement('div');\n",
              "          docLink.innerHTML = docLinkHtml;\n",
              "          element.appendChild(docLink);\n",
              "        }\n",
              "      </script>\n",
              "    </div>\n",
              "  </div>\n",
              "  "
            ],
            "text/plain": [
              "   total_images   last_price  total_area first_day_exposition  rooms  \\\n",
              "0            20 13000000.000     108.000           2019-03-07      3   \n",
              "1             7  3350000.000      40.400           2018-12-04      1   \n",
              "2            10  5196000.000      56.000           2015-08-20      2   \n",
              "3             0 64900000.000     159.000           2015-07-24      3   \n",
              "4             2 10000000.000     100.000           2018-06-19      2   \n",
              "\n",
              "   ceiling_height  floors_total  living_area  floor is_apartment  studio  \\\n",
              "0           2.700        16.000       51.000      8          NaN   False   \n",
              "1             NaN        11.000       18.600      1          NaN   False   \n",
              "2             NaN         5.000       34.300      4          NaN   False   \n",
              "3             NaN        14.000          NaN      9          NaN   False   \n",
              "4           3.030        14.000       32.000     13          NaN   False   \n",
              "\n",
              "   open_plan  kitchen_area  balcony    locality_name  airports_nearest  \\\n",
              "0      False        25.000      NaN  Санкт-Петербург         18863.000   \n",
              "1      False        11.000    2.000   посёлок Шушары         12817.000   \n",
              "2      False         8.300    0.000  Санкт-Петербург         21741.000   \n",
              "3      False           NaN    0.000  Санкт-Петербург         28098.000   \n",
              "4      False        41.000      NaN  Санкт-Петербург         31856.000   \n",
              "\n",
              "   city_centers_nearest  parks_around_3000  parks_nearest  ponds_around_3000  \\\n",
              "0             16028.000              1.000        482.000              2.000   \n",
              "1             18603.000              0.000            NaN              0.000   \n",
              "2             13933.000              1.000         90.000              2.000   \n",
              "3              6800.000              2.000         84.000              3.000   \n",
              "4              8098.000              2.000        112.000              1.000   \n",
              "\n",
              "   ponds_nearest  days_exposition  \n",
              "0        755.000              NaN  \n",
              "1            NaN           81.000  \n",
              "2        574.000          558.000  \n",
              "3        234.000          424.000  \n",
              "4         48.000          121.000  "
            ]
          },
          "metadata": {},
          "execution_count": 50
        }
      ]
    },
    {
      "cell_type": "markdown",
      "metadata": {
        "id": "arL_AzQLi8Bi"
      },
      "source": [
        "\n",
        "Так как в столбце ceiling_height доля пропущенных значений очень большая -38%, более умесным будет на трогать эти пропуски и оставить все как есть. "
      ]
    },
    {
      "cell_type": "code",
      "metadata": {
        "id": "iEsed9chi8Bj",
        "colab": {
          "base_uri": "https://localhost:8080/"
        },
        "outputId": "2649d4a4-fd2f-403e-83b3-710eaceef282"
      },
      "source": [
        "data['ceiling_height'].value_counts(bins=4)"
      ],
      "execution_count": 51,
      "outputs": [
        {
          "output_type": "execute_result",
          "data": {
            "text/plain": [
              "(0.9, 25.75]      14491\n",
              "(25.75, 50.5]        12\n",
              "(75.25, 100.0]        1\n",
              "(50.5, 75.25]         0\n",
              "Name: ceiling_height, dtype: int64"
            ]
          },
          "metadata": {},
          "execution_count": 51
        }
      ]
    },
    {
      "cell_type": "markdown",
      "metadata": {
        "id": "2fHCBrUPi8Bj"
      },
      "source": [
        "Много пропусков. Есть значения явно недостоверные, к примеру высота потолка 100 метров или 1 метр. Придумаем чем можно заменить. Нужна фунция которая будет заменять не только пропущенные значения но и те которые мы укажем. Допустим высота или потолков зависит от элитности. Параметра элитное у нас нет будет ориентироваться на цены.  Заменим пропуски на медиану высоты потолков в конкретной ценовой категории."
      ]
    },
    {
      "cell_type": "markdown",
      "metadata": {
        "id": "xKkHBAm1i8Bj"
      },
      "source": [
        "Создаем копию таблицы"
      ]
    },
    {
      "cell_type": "code",
      "metadata": {
        "id": "xpoVzaWIi8Bj"
      },
      "source": [
        "t = data.copy()"
      ],
      "execution_count": 52,
      "outputs": []
    },
    {
      "cell_type": "markdown",
      "metadata": {
        "id": "XbYklaDCi8Bk"
      },
      "source": [
        "Сгруппируем цену на 5 почти равных частей. Разделим на равные части методом qcut"
      ]
    },
    {
      "cell_type": "code",
      "metadata": {
        "id": "f3FnBBdni8Bk",
        "colab": {
          "base_uri": "https://localhost:8080/"
        },
        "outputId": "92f0d514-dc3c-484b-8fd5-e2f5daa088ad"
      },
      "source": [
        "t['last_price_group'] = pd.qcut(t['last_price'], 5, labels=[\"эконом\", \"средний\", \"бизнес\", \"элитное\", \"чтоб я так жил\",])\n",
        "t['last_price_group'].value_counts()"
      ],
      "execution_count": 53,
      "outputs": [
        {
          "output_type": "execute_result",
          "data": {
            "text/plain": [
              "эконом            4756\n",
              "бизнес            4741\n",
              "элитное           4739\n",
              "чтоб я так жил    4739\n",
              "средний           4724\n",
              "Name: last_price_group, dtype: int64"
            ]
          },
          "metadata": {},
          "execution_count": 53
        }
      ]
    },
    {
      "cell_type": "markdown",
      "metadata": {
        "id": "J_FRd5nDi8Bk"
      },
      "source": [
        "Напишем функцию которая автоматически меняет пропуски на медиану той же категории значений."
      ]
    },
    {
      "cell_type": "code",
      "metadata": {
        "id": "37gws-jgi8Bk"
      },
      "source": [
        "\n",
        "def no_NaN(df, value, category):\n",
        "    for type_unique in df[category].unique():\n",
        "        df.loc[(df[value].isna())&(df[category] ==type_unique), value] = \\\n",
        "        df.loc[df[category] ==type_unique, value].median()\n",
        "    return df\n",
        "   \n",
        "        "
      ],
      "execution_count": 54,
      "outputs": []
    },
    {
      "cell_type": "markdown",
      "metadata": {
        "id": "xDJj4Bk7i8Bl"
      },
      "source": [
        "Применим фунцию и проверим результат."
      ]
    },
    {
      "cell_type": "markdown",
      "metadata": {
        "id": "I5JJ4oJdi8Bm"
      },
      "source": [
        "Теперь напишем фунцию которая будет менять артефакты. Например: высота потолков - 1 метр и 100 метров."
      ]
    },
    {
      "cell_type": "code",
      "metadata": {
        "id": "092GrMeji8Bm"
      },
      "source": [
        "def no_artefact(df, value, category, min_num, max_num):\n",
        "    for type_unique in df[category].unique():\n",
        "        df.loc[(df[value] > max_num) | (df[value] <= min_num)&(df[category] ==type_unique), value] = \\\n",
        "        df.loc[df[category] ==type_unique, value].median()\n",
        "        \n",
        "    return df"
      ],
      "execution_count": 55,
      "outputs": []
    },
    {
      "cell_type": "markdown",
      "metadata": {
        "id": "vbfTglkgi8Bn"
      },
      "source": [
        "Следующий столбец - floors_total смотрим."
      ]
    },
    {
      "cell_type": "code",
      "metadata": {
        "id": "v7182GGJi8Bn",
        "colab": {
          "base_uri": "https://localhost:8080/"
        },
        "outputId": "4bbe1a93-52e5-4483-cc7c-5dbbc113f8e4"
      },
      "source": [
        "len(data.loc[data['floors_total'].isna()])"
      ],
      "execution_count": 56,
      "outputs": [
        {
          "output_type": "execute_result",
          "data": {
            "text/plain": [
              "86"
            ]
          },
          "metadata": {},
          "execution_count": 56
        }
      ]
    },
    {
      "cell_type": "markdown",
      "metadata": {
        "id": "NHlJepkNi8Bn"
      },
      "source": [
        "Всего 86 значений. Думаю можно удалить. Так же оставшиеся значения заменим на целочисленные. "
      ]
    },
    {
      "cell_type": "code",
      "metadata": {
        "id": "QuAUxldHi8Bn"
      },
      "source": [
        "data.dropna(subset = ['floors_total'], inplace = True)\n",
        "data['floors_total'] = data['floors_total'].astype('int')"
      ],
      "execution_count": 57,
      "outputs": []
    },
    {
      "cell_type": "code",
      "metadata": {
        "id": "KVDnv_3gi8Bo",
        "colab": {
          "base_uri": "https://localhost:8080/"
        },
        "outputId": "fffb0a84-43f4-4463-f7a9-11a59a98c228"
      },
      "source": [
        "data.info()"
      ],
      "execution_count": 58,
      "outputs": [
        {
          "output_type": "stream",
          "name": "stdout",
          "text": [
            "<class 'pandas.core.frame.DataFrame'>\n",
            "Int64Index: 23613 entries, 0 to 23698\n",
            "Data columns (total 22 columns):\n",
            " #   Column                Non-Null Count  Dtype         \n",
            "---  ------                --------------  -----         \n",
            " 0   total_images          23613 non-null  int64         \n",
            " 1   last_price            23613 non-null  float64       \n",
            " 2   total_area            23613 non-null  float64       \n",
            " 3   first_day_exposition  23613 non-null  datetime64[ns]\n",
            " 4   rooms                 23613 non-null  int64         \n",
            " 5   ceiling_height        14495 non-null  float64       \n",
            " 6   floors_total          23613 non-null  int64         \n",
            " 7   living_area           21743 non-null  float64       \n",
            " 8   floor                 23613 non-null  int64         \n",
            " 9   is_apartment          2775 non-null   object        \n",
            " 10  studio                23613 non-null  bool          \n",
            " 11  open_plan             23613 non-null  bool          \n",
            " 12  kitchen_area          21382 non-null  float64       \n",
            " 13  balcony               12133 non-null  float64       \n",
            " 14  locality_name         23565 non-null  object        \n",
            " 15  airports_nearest      18081 non-null  float64       \n",
            " 16  city_centers_nearest  18104 non-null  float64       \n",
            " 17  parks_around_3000     18105 non-null  float64       \n",
            " 18  parks_nearest         8045 non-null   float64       \n",
            " 19  ponds_around_3000     18105 non-null  float64       \n",
            " 20  ponds_nearest         9061 non-null   float64       \n",
            " 21  days_exposition       20441 non-null  float64       \n",
            "dtypes: bool(2), datetime64[ns](1), float64(13), int64(4), object(2)\n",
            "memory usage: 3.8+ MB\n"
          ]
        }
      ]
    },
    {
      "cell_type": "markdown",
      "metadata": {
        "id": "3-dvWjHhi8Bo"
      },
      "source": [
        "Далее по списку - living_area. Посмотрим на пропуски."
      ]
    },
    {
      "cell_type": "code",
      "metadata": {
        "id": "zXEOgRgEi8Bo",
        "colab": {
          "base_uri": "https://localhost:8080/",
          "height": 285
        },
        "outputId": "fcb78274-7981-4326-ab8e-f1d5fa725f35"
      },
      "source": [
        "data.loc[data['living_area'].isna(), ].head()"
      ],
      "execution_count": 59,
      "outputs": [
        {
          "output_type": "execute_result",
          "data": {
            "text/html": [
              "\n",
              "  <div id=\"df-71e98923-e66b-4931-b6f7-09ff12e1f632\">\n",
              "    <div class=\"colab-df-container\">\n",
              "      <div>\n",
              "<style scoped>\n",
              "    .dataframe tbody tr th:only-of-type {\n",
              "        vertical-align: middle;\n",
              "    }\n",
              "\n",
              "    .dataframe tbody tr th {\n",
              "        vertical-align: top;\n",
              "    }\n",
              "\n",
              "    .dataframe thead th {\n",
              "        text-align: right;\n",
              "    }\n",
              "</style>\n",
              "<table border=\"1\" class=\"dataframe\">\n",
              "  <thead>\n",
              "    <tr style=\"text-align: right;\">\n",
              "      <th></th>\n",
              "      <th>total_images</th>\n",
              "      <th>last_price</th>\n",
              "      <th>total_area</th>\n",
              "      <th>first_day_exposition</th>\n",
              "      <th>rooms</th>\n",
              "      <th>ceiling_height</th>\n",
              "      <th>floors_total</th>\n",
              "      <th>living_area</th>\n",
              "      <th>floor</th>\n",
              "      <th>is_apartment</th>\n",
              "      <th>studio</th>\n",
              "      <th>open_plan</th>\n",
              "      <th>kitchen_area</th>\n",
              "      <th>balcony</th>\n",
              "      <th>locality_name</th>\n",
              "      <th>airports_nearest</th>\n",
              "      <th>city_centers_nearest</th>\n",
              "      <th>parks_around_3000</th>\n",
              "      <th>parks_nearest</th>\n",
              "      <th>ponds_around_3000</th>\n",
              "      <th>ponds_nearest</th>\n",
              "      <th>days_exposition</th>\n",
              "    </tr>\n",
              "  </thead>\n",
              "  <tbody>\n",
              "    <tr>\n",
              "      <th>3</th>\n",
              "      <td>0</td>\n",
              "      <td>64900000.000</td>\n",
              "      <td>159.000</td>\n",
              "      <td>2015-07-24</td>\n",
              "      <td>3</td>\n",
              "      <td>NaN</td>\n",
              "      <td>14</td>\n",
              "      <td>NaN</td>\n",
              "      <td>9</td>\n",
              "      <td>NaN</td>\n",
              "      <td>False</td>\n",
              "      <td>False</td>\n",
              "      <td>NaN</td>\n",
              "      <td>0.000</td>\n",
              "      <td>Санкт-Петербург</td>\n",
              "      <td>28098.000</td>\n",
              "      <td>6800.000</td>\n",
              "      <td>2.000</td>\n",
              "      <td>84.000</td>\n",
              "      <td>3.000</td>\n",
              "      <td>234.000</td>\n",
              "      <td>424.000</td>\n",
              "    </tr>\n",
              "    <tr>\n",
              "      <th>7</th>\n",
              "      <td>5</td>\n",
              "      <td>7915000.000</td>\n",
              "      <td>71.600</td>\n",
              "      <td>2019-04-18</td>\n",
              "      <td>2</td>\n",
              "      <td>NaN</td>\n",
              "      <td>24</td>\n",
              "      <td>NaN</td>\n",
              "      <td>22</td>\n",
              "      <td>NaN</td>\n",
              "      <td>False</td>\n",
              "      <td>False</td>\n",
              "      <td>18.900</td>\n",
              "      <td>2.000</td>\n",
              "      <td>Санкт-Петербург</td>\n",
              "      <td>23982.000</td>\n",
              "      <td>11634.000</td>\n",
              "      <td>0.000</td>\n",
              "      <td>NaN</td>\n",
              "      <td>0.000</td>\n",
              "      <td>NaN</td>\n",
              "      <td>NaN</td>\n",
              "    </tr>\n",
              "    <tr>\n",
              "      <th>30</th>\n",
              "      <td>12</td>\n",
              "      <td>2200000.000</td>\n",
              "      <td>32.800</td>\n",
              "      <td>2018-02-19</td>\n",
              "      <td>1</td>\n",
              "      <td>NaN</td>\n",
              "      <td>9</td>\n",
              "      <td>NaN</td>\n",
              "      <td>2</td>\n",
              "      <td>NaN</td>\n",
              "      <td>False</td>\n",
              "      <td>False</td>\n",
              "      <td>NaN</td>\n",
              "      <td>NaN</td>\n",
              "      <td>Коммунар</td>\n",
              "      <td>NaN</td>\n",
              "      <td>NaN</td>\n",
              "      <td>NaN</td>\n",
              "      <td>NaN</td>\n",
              "      <td>NaN</td>\n",
              "      <td>NaN</td>\n",
              "      <td>63.000</td>\n",
              "    </tr>\n",
              "    <tr>\n",
              "      <th>37</th>\n",
              "      <td>10</td>\n",
              "      <td>1990000.000</td>\n",
              "      <td>45.800</td>\n",
              "      <td>2017-10-28</td>\n",
              "      <td>2</td>\n",
              "      <td>2.500</td>\n",
              "      <td>5</td>\n",
              "      <td>NaN</td>\n",
              "      <td>1</td>\n",
              "      <td>NaN</td>\n",
              "      <td>False</td>\n",
              "      <td>False</td>\n",
              "      <td>NaN</td>\n",
              "      <td>NaN</td>\n",
              "      <td>поселок городского типа Красный Бор</td>\n",
              "      <td>NaN</td>\n",
              "      <td>NaN</td>\n",
              "      <td>NaN</td>\n",
              "      <td>NaN</td>\n",
              "      <td>NaN</td>\n",
              "      <td>NaN</td>\n",
              "      <td>196.000</td>\n",
              "    </tr>\n",
              "    <tr>\n",
              "      <th>44</th>\n",
              "      <td>13</td>\n",
              "      <td>5350000.000</td>\n",
              "      <td>40.000</td>\n",
              "      <td>2018-11-18</td>\n",
              "      <td>1</td>\n",
              "      <td>NaN</td>\n",
              "      <td>22</td>\n",
              "      <td>NaN</td>\n",
              "      <td>3</td>\n",
              "      <td>NaN</td>\n",
              "      <td>False</td>\n",
              "      <td>False</td>\n",
              "      <td>NaN</td>\n",
              "      <td>1.000</td>\n",
              "      <td>Санкт-Петербург</td>\n",
              "      <td>30471.000</td>\n",
              "      <td>11603.000</td>\n",
              "      <td>1.000</td>\n",
              "      <td>620.000</td>\n",
              "      <td>1.000</td>\n",
              "      <td>1152.000</td>\n",
              "      <td>NaN</td>\n",
              "    </tr>\n",
              "  </tbody>\n",
              "</table>\n",
              "</div>\n",
              "      <button class=\"colab-df-convert\" onclick=\"convertToInteractive('df-71e98923-e66b-4931-b6f7-09ff12e1f632')\"\n",
              "              title=\"Convert this dataframe to an interactive table.\"\n",
              "              style=\"display:none;\">\n",
              "        \n",
              "  <svg xmlns=\"http://www.w3.org/2000/svg\" height=\"24px\"viewBox=\"0 0 24 24\"\n",
              "       width=\"24px\">\n",
              "    <path d=\"M0 0h24v24H0V0z\" fill=\"none\"/>\n",
              "    <path d=\"M18.56 5.44l.94 2.06.94-2.06 2.06-.94-2.06-.94-.94-2.06-.94 2.06-2.06.94zm-11 1L8.5 8.5l.94-2.06 2.06-.94-2.06-.94L8.5 2.5l-.94 2.06-2.06.94zm10 10l.94 2.06.94-2.06 2.06-.94-2.06-.94-.94-2.06-.94 2.06-2.06.94z\"/><path d=\"M17.41 7.96l-1.37-1.37c-.4-.4-.92-.59-1.43-.59-.52 0-1.04.2-1.43.59L10.3 9.45l-7.72 7.72c-.78.78-.78 2.05 0 2.83L4 21.41c.39.39.9.59 1.41.59.51 0 1.02-.2 1.41-.59l7.78-7.78 2.81-2.81c.8-.78.8-2.07 0-2.86zM5.41 20L4 18.59l7.72-7.72 1.47 1.35L5.41 20z\"/>\n",
              "  </svg>\n",
              "      </button>\n",
              "      \n",
              "  <style>\n",
              "    .colab-df-container {\n",
              "      display:flex;\n",
              "      flex-wrap:wrap;\n",
              "      gap: 12px;\n",
              "    }\n",
              "\n",
              "    .colab-df-convert {\n",
              "      background-color: #E8F0FE;\n",
              "      border: none;\n",
              "      border-radius: 50%;\n",
              "      cursor: pointer;\n",
              "      display: none;\n",
              "      fill: #1967D2;\n",
              "      height: 32px;\n",
              "      padding: 0 0 0 0;\n",
              "      width: 32px;\n",
              "    }\n",
              "\n",
              "    .colab-df-convert:hover {\n",
              "      background-color: #E2EBFA;\n",
              "      box-shadow: 0px 1px 2px rgba(60, 64, 67, 0.3), 0px 1px 3px 1px rgba(60, 64, 67, 0.15);\n",
              "      fill: #174EA6;\n",
              "    }\n",
              "\n",
              "    [theme=dark] .colab-df-convert {\n",
              "      background-color: #3B4455;\n",
              "      fill: #D2E3FC;\n",
              "    }\n",
              "\n",
              "    [theme=dark] .colab-df-convert:hover {\n",
              "      background-color: #434B5C;\n",
              "      box-shadow: 0px 1px 3px 1px rgba(0, 0, 0, 0.15);\n",
              "      filter: drop-shadow(0px 1px 2px rgba(0, 0, 0, 0.3));\n",
              "      fill: #FFFFFF;\n",
              "    }\n",
              "  </style>\n",
              "\n",
              "      <script>\n",
              "        const buttonEl =\n",
              "          document.querySelector('#df-71e98923-e66b-4931-b6f7-09ff12e1f632 button.colab-df-convert');\n",
              "        buttonEl.style.display =\n",
              "          google.colab.kernel.accessAllowed ? 'block' : 'none';\n",
              "\n",
              "        async function convertToInteractive(key) {\n",
              "          const element = document.querySelector('#df-71e98923-e66b-4931-b6f7-09ff12e1f632');\n",
              "          const dataTable =\n",
              "            await google.colab.kernel.invokeFunction('convertToInteractive',\n",
              "                                                     [key], {});\n",
              "          if (!dataTable) return;\n",
              "\n",
              "          const docLinkHtml = 'Like what you see? Visit the ' +\n",
              "            '<a target=\"_blank\" href=https://colab.research.google.com/notebooks/data_table.ipynb>data table notebook</a>'\n",
              "            + ' to learn more about interactive tables.';\n",
              "          element.innerHTML = '';\n",
              "          dataTable['output_type'] = 'display_data';\n",
              "          await google.colab.output.renderOutput(dataTable, element);\n",
              "          const docLink = document.createElement('div');\n",
              "          docLink.innerHTML = docLinkHtml;\n",
              "          element.appendChild(docLink);\n",
              "        }\n",
              "      </script>\n",
              "    </div>\n",
              "  </div>\n",
              "  "
            ],
            "text/plain": [
              "    total_images   last_price  total_area first_day_exposition  rooms  \\\n",
              "3              0 64900000.000     159.000           2015-07-24      3   \n",
              "7              5  7915000.000      71.600           2019-04-18      2   \n",
              "30            12  2200000.000      32.800           2018-02-19      1   \n",
              "37            10  1990000.000      45.800           2017-10-28      2   \n",
              "44            13  5350000.000      40.000           2018-11-18      1   \n",
              "\n",
              "    ceiling_height  floors_total  living_area  floor is_apartment  studio  \\\n",
              "3              NaN            14          NaN      9          NaN   False   \n",
              "7              NaN            24          NaN     22          NaN   False   \n",
              "30             NaN             9          NaN      2          NaN   False   \n",
              "37           2.500             5          NaN      1          NaN   False   \n",
              "44             NaN            22          NaN      3          NaN   False   \n",
              "\n",
              "    open_plan  kitchen_area  balcony                        locality_name  \\\n",
              "3       False           NaN    0.000                      Санкт-Петербург   \n",
              "7       False        18.900    2.000                      Санкт-Петербург   \n",
              "30      False           NaN      NaN                             Коммунар   \n",
              "37      False           NaN      NaN  поселок городского типа Красный Бор   \n",
              "44      False           NaN    1.000                      Санкт-Петербург   \n",
              "\n",
              "    airports_nearest  city_centers_nearest  parks_around_3000  parks_nearest  \\\n",
              "3          28098.000              6800.000              2.000         84.000   \n",
              "7          23982.000             11634.000              0.000            NaN   \n",
              "30               NaN                   NaN                NaN            NaN   \n",
              "37               NaN                   NaN                NaN            NaN   \n",
              "44         30471.000             11603.000              1.000        620.000   \n",
              "\n",
              "    ponds_around_3000  ponds_nearest  days_exposition  \n",
              "3               3.000        234.000          424.000  \n",
              "7               0.000            NaN              NaN  \n",
              "30                NaN            NaN           63.000  \n",
              "37                NaN            NaN          196.000  \n",
              "44              1.000       1152.000              NaN  "
            ]
          },
          "metadata": {},
          "execution_count": 59
        }
      ]
    },
    {
      "cell_type": "markdown",
      "metadata": {
        "id": "4QepEg20i8Bo"
      },
      "source": [
        "Поступаем аналогично и применим написанную выше функцию no_NAN. Для этого сгруппируем данные."
      ]
    },
    {
      "cell_type": "code",
      "metadata": {
        "id": "OOKmFYARi8Bp",
        "colab": {
          "base_uri": "https://localhost:8080/"
        },
        "outputId": "2b35b944-7601-45c7-b210-cbb249779fac"
      },
      "source": [
        "data['total_area_group'] = pd.qcut(data['total_area'], 5, labels=[\"студия\", \"не большие\", \"средние\", \"большие\", \"очень большие\",])\n",
        "data['total_area_group'].value_counts()"
      ],
      "execution_count": 60,
      "outputs": [
        {
          "output_type": "execute_result",
          "data": {
            "text/plain": [
              "не большие       4962\n",
              "студия           4733\n",
              "очень большие    4720\n",
              "большие          4635\n",
              "средние          4563\n",
              "Name: total_area_group, dtype: int64"
            ]
          },
          "metadata": {},
          "execution_count": 60
        }
      ]
    },
    {
      "cell_type": "markdown",
      "metadata": {
        "id": "LEKhpz8Pi8Bp"
      },
      "source": [
        "Применяем фунцию - проверяем результат."
      ]
    },
    {
      "cell_type": "code",
      "metadata": {
        "scrolled": false,
        "id": "50P_TgSAi8Bq",
        "colab": {
          "base_uri": "https://localhost:8080/"
        },
        "outputId": "b6bfd7e0-bffc-403a-8325-3b52598c43c4"
      },
      "source": [
        "data = no_NaN(data, 'living_area', 'total_area_group')\n",
        "data.info()"
      ],
      "execution_count": 61,
      "outputs": [
        {
          "output_type": "stream",
          "name": "stdout",
          "text": [
            "<class 'pandas.core.frame.DataFrame'>\n",
            "Int64Index: 23613 entries, 0 to 23698\n",
            "Data columns (total 23 columns):\n",
            " #   Column                Non-Null Count  Dtype         \n",
            "---  ------                --------------  -----         \n",
            " 0   total_images          23613 non-null  int64         \n",
            " 1   last_price            23613 non-null  float64       \n",
            " 2   total_area            23613 non-null  float64       \n",
            " 3   first_day_exposition  23613 non-null  datetime64[ns]\n",
            " 4   rooms                 23613 non-null  int64         \n",
            " 5   ceiling_height        14495 non-null  float64       \n",
            " 6   floors_total          23613 non-null  int64         \n",
            " 7   living_area           23613 non-null  float64       \n",
            " 8   floor                 23613 non-null  int64         \n",
            " 9   is_apartment          2775 non-null   object        \n",
            " 10  studio                23613 non-null  bool          \n",
            " 11  open_plan             23613 non-null  bool          \n",
            " 12  kitchen_area          21382 non-null  float64       \n",
            " 13  balcony               12133 non-null  float64       \n",
            " 14  locality_name         23565 non-null  object        \n",
            " 15  airports_nearest      18081 non-null  float64       \n",
            " 16  city_centers_nearest  18104 non-null  float64       \n",
            " 17  parks_around_3000     18105 non-null  float64       \n",
            " 18  parks_nearest         8045 non-null   float64       \n",
            " 19  ponds_around_3000     18105 non-null  float64       \n",
            " 20  ponds_nearest         9061 non-null   float64       \n",
            " 21  days_exposition       20441 non-null  float64       \n",
            " 22  total_area_group      23613 non-null  category      \n",
            "dtypes: bool(2), category(1), datetime64[ns](1), float64(13), int64(4), object(2)\n",
            "memory usage: 3.9+ MB\n"
          ]
        }
      ]
    },
    {
      "cell_type": "code",
      "metadata": {
        "id": "sV3CEKAai8Bq",
        "colab": {
          "base_uri": "https://localhost:8080/"
        },
        "outputId": "e33dfe91-2799-4193-a864-dc3e13c4faa1"
      },
      "source": [
        "data['living_area'].value_counts(bins=4)"
      ],
      "execution_count": 62,
      "outputs": [
        {
          "output_type": "execute_result",
          "data": {
            "text/plain": [
              "(1.5910000000000002, 103.925]    23297\n",
              "(103.925, 205.85]                  286\n",
              "(205.85, 307.775]                   24\n",
              "(307.775, 409.7]                     6\n",
              "Name: living_area, dtype: int64"
            ]
          },
          "metadata": {},
          "execution_count": 62
        }
      ]
    },
    {
      "cell_type": "markdown",
      "metadata": {
        "id": "55IPo7TIi8Bq"
      },
      "source": [
        "Так же применяем фунцию no_artefact для замены недостоверных данных. А именно удаляем минимальные значения (1,5 метра - скорее всего не реальное значение). Ограничивать максимальные значения не целесообразно."
      ]
    },
    {
      "cell_type": "code",
      "metadata": {
        "id": "IEUKAUdHi8Bq",
        "colab": {
          "base_uri": "https://localhost:8080/"
        },
        "outputId": "52a92965-00e6-4319-855b-0ff8733ece38"
      },
      "source": [
        "data = no_artefact(data, 'living_area', 'total_area_group', 10, 5000)\n",
        "data['living_area'].value_counts(bins=4)"
      ],
      "execution_count": 63,
      "outputs": [
        {
          "output_type": "execute_result",
          "data": {
            "text/plain": [
              "(9.679, 109.985]     23342\n",
              "(109.985, 209.89]      241\n",
              "(209.89, 309.795]       24\n",
              "(309.795, 409.7]         6\n",
              "Name: living_area, dtype: int64"
            ]
          },
          "metadata": {},
          "execution_count": 63
        }
      ]
    },
    {
      "cell_type": "markdown",
      "metadata": {
        "id": "3_KT7uzCi8Bs"
      },
      "source": [
        "     \n",
        " Следующий столбец - is_apartment. В данном столбце 88 % пропуском. Думаю достоверно заменить такое количество невозможно. Оставим данные как есть.       "
      ]
    },
    {
      "cell_type": "markdown",
      "metadata": {
        "id": "YcWZCbcFi8Bt"
      },
      "source": [
        "Продолжаем. Следующий столбец - 'kitchen_area' заполняем с помощью функции."
      ]
    },
    {
      "cell_type": "code",
      "metadata": {
        "id": "a19ydiOki8Bt",
        "colab": {
          "base_uri": "https://localhost:8080/"
        },
        "outputId": "06e5b6e8-9229-4795-b4c9-18f4f3e209d4"
      },
      "source": [
        "data = no_NaN(data, 'kitchen_area', 'total_area_group')\n",
        "data.info()"
      ],
      "execution_count": 64,
      "outputs": [
        {
          "output_type": "stream",
          "name": "stdout",
          "text": [
            "<class 'pandas.core.frame.DataFrame'>\n",
            "Int64Index: 23613 entries, 0 to 23698\n",
            "Data columns (total 23 columns):\n",
            " #   Column                Non-Null Count  Dtype         \n",
            "---  ------                --------------  -----         \n",
            " 0   total_images          23613 non-null  int64         \n",
            " 1   last_price            23613 non-null  float64       \n",
            " 2   total_area            23613 non-null  float64       \n",
            " 3   first_day_exposition  23613 non-null  datetime64[ns]\n",
            " 4   rooms                 23613 non-null  int64         \n",
            " 5   ceiling_height        14495 non-null  float64       \n",
            " 6   floors_total          23613 non-null  int64         \n",
            " 7   living_area           23613 non-null  float64       \n",
            " 8   floor                 23613 non-null  int64         \n",
            " 9   is_apartment          2775 non-null   object        \n",
            " 10  studio                23613 non-null  bool          \n",
            " 11  open_plan             23613 non-null  bool          \n",
            " 12  kitchen_area          23613 non-null  float64       \n",
            " 13  balcony               12133 non-null  float64       \n",
            " 14  locality_name         23565 non-null  object        \n",
            " 15  airports_nearest      18081 non-null  float64       \n",
            " 16  city_centers_nearest  18104 non-null  float64       \n",
            " 17  parks_around_3000     18105 non-null  float64       \n",
            " 18  parks_nearest         8045 non-null   float64       \n",
            " 19  ponds_around_3000     18105 non-null  float64       \n",
            " 20  ponds_nearest         9061 non-null   float64       \n",
            " 21  days_exposition       20441 non-null  float64       \n",
            " 22  total_area_group      23613 non-null  category      \n",
            "dtypes: bool(2), category(1), datetime64[ns](1), float64(13), int64(4), object(2)\n",
            "memory usage: 3.9+ MB\n"
          ]
        }
      ]
    },
    {
      "cell_type": "markdown",
      "metadata": {
        "id": "nrFgWnPDi8Bu"
      },
      "source": [
        "Если человек не указал количество балконов логично предположить, что их нет. В столбце balcony пропуски заменяем на 0. И меняем тип данных на целочисленный."
      ]
    },
    {
      "cell_type": "code",
      "metadata": {
        "id": "3QKTDR3ai8Bu",
        "colab": {
          "base_uri": "https://localhost:8080/"
        },
        "outputId": "f25f8ccb-180c-4df4-925b-c8f998dfea78"
      },
      "source": [
        "data['balcony'] = data['balcony'].fillna(0).astype('int')\n",
        "data.info()"
      ],
      "execution_count": 65,
      "outputs": [
        {
          "output_type": "stream",
          "name": "stdout",
          "text": [
            "<class 'pandas.core.frame.DataFrame'>\n",
            "Int64Index: 23613 entries, 0 to 23698\n",
            "Data columns (total 23 columns):\n",
            " #   Column                Non-Null Count  Dtype         \n",
            "---  ------                --------------  -----         \n",
            " 0   total_images          23613 non-null  int64         \n",
            " 1   last_price            23613 non-null  float64       \n",
            " 2   total_area            23613 non-null  float64       \n",
            " 3   first_day_exposition  23613 non-null  datetime64[ns]\n",
            " 4   rooms                 23613 non-null  int64         \n",
            " 5   ceiling_height        14495 non-null  float64       \n",
            " 6   floors_total          23613 non-null  int64         \n",
            " 7   living_area           23613 non-null  float64       \n",
            " 8   floor                 23613 non-null  int64         \n",
            " 9   is_apartment          2775 non-null   object        \n",
            " 10  studio                23613 non-null  bool          \n",
            " 11  open_plan             23613 non-null  bool          \n",
            " 12  kitchen_area          23613 non-null  float64       \n",
            " 13  balcony               23613 non-null  int64         \n",
            " 14  locality_name         23565 non-null  object        \n",
            " 15  airports_nearest      18081 non-null  float64       \n",
            " 16  city_centers_nearest  18104 non-null  float64       \n",
            " 17  parks_around_3000     18105 non-null  float64       \n",
            " 18  parks_nearest         8045 non-null   float64       \n",
            " 19  ponds_around_3000     18105 non-null  float64       \n",
            " 20  ponds_nearest         9061 non-null   float64       \n",
            " 21  days_exposition       20441 non-null  float64       \n",
            " 22  total_area_group      23613 non-null  category      \n",
            "dtypes: bool(2), category(1), datetime64[ns](1), float64(12), int64(5), object(2)\n",
            "memory usage: 3.9+ MB\n"
          ]
        }
      ]
    },
    {
      "cell_type": "markdown",
      "metadata": {
        "id": "VhJaFaati8Bu"
      },
      "source": [
        "Столбец locality_name."
      ]
    },
    {
      "cell_type": "code",
      "metadata": {
        "id": "iMXC_Q7ti8Bu",
        "colab": {
          "base_uri": "https://localhost:8080/"
        },
        "outputId": "fc8f4480-ef56-4b3f-a12e-53193980f370"
      },
      "source": [
        "len(data[data['locality_name'].isna()])\n"
      ],
      "execution_count": 66,
      "outputs": [
        {
          "output_type": "execute_result",
          "data": {
            "text/plain": [
              "48"
            ]
          },
          "metadata": {},
          "execution_count": 66
        }
      ]
    },
    {
      "cell_type": "markdown",
      "metadata": {
        "id": "MD2xo9__i8Bu"
      },
      "source": [
        "Всего 48 значений. Удаляем. И заодно приведем вид наименования населенного пункта к единообразию.  Так же заменим букву ё на е, для уменьшения дублей."
      ]
    },
    {
      "cell_type": "code",
      "metadata": {
        "id": "QNdUyYNDi8Bv",
        "colab": {
          "base_uri": "https://localhost:8080/"
        },
        "outputId": "31ae3ef6-8892-451e-c4b0-039dbe667fb8"
      },
      "source": [
        "data.dropna(subset=['locality_name'], inplace=True)\n",
        "data['locality_name'] = data['locality_name'].str.lower()\n",
        "data['locality_name'] = data['locality_name'].str.replace('ё', 'е')\n",
        "data.info()"
      ],
      "execution_count": 67,
      "outputs": [
        {
          "output_type": "stream",
          "name": "stdout",
          "text": [
            "<class 'pandas.core.frame.DataFrame'>\n",
            "Int64Index: 23565 entries, 0 to 23698\n",
            "Data columns (total 23 columns):\n",
            " #   Column                Non-Null Count  Dtype         \n",
            "---  ------                --------------  -----         \n",
            " 0   total_images          23565 non-null  int64         \n",
            " 1   last_price            23565 non-null  float64       \n",
            " 2   total_area            23565 non-null  float64       \n",
            " 3   first_day_exposition  23565 non-null  datetime64[ns]\n",
            " 4   rooms                 23565 non-null  int64         \n",
            " 5   ceiling_height        14481 non-null  float64       \n",
            " 6   floors_total          23565 non-null  int64         \n",
            " 7   living_area           23565 non-null  float64       \n",
            " 8   floor                 23565 non-null  int64         \n",
            " 9   is_apartment          2760 non-null   object        \n",
            " 10  studio                23565 non-null  bool          \n",
            " 11  open_plan             23565 non-null  bool          \n",
            " 12  kitchen_area          23565 non-null  float64       \n",
            " 13  balcony               23565 non-null  int64         \n",
            " 14  locality_name         23565 non-null  object        \n",
            " 15  airports_nearest      18041 non-null  float64       \n",
            " 16  city_centers_nearest  18064 non-null  float64       \n",
            " 17  parks_around_3000     18065 non-null  float64       \n",
            " 18  parks_nearest         8030 non-null   float64       \n",
            " 19  ponds_around_3000     18065 non-null  float64       \n",
            " 20  ponds_nearest         9036 non-null   float64       \n",
            " 21  days_exposition       20394 non-null  float64       \n",
            " 22  total_area_group      23565 non-null  category      \n",
            "dtypes: bool(2), category(1), datetime64[ns](1), float64(12), int64(5), object(2)\n",
            "memory usage: 3.8+ MB\n"
          ]
        }
      ]
    },
    {
      "cell_type": "markdown",
      "metadata": {
        "id": "mr8vbkl6i8Bw"
      },
      "source": [
        "        \n",
        " Столбец 'days_exposition' имеет слишком много пропусков. Оставим его без именений."
      ]
    },
    {
      "cell_type": "markdown",
      "metadata": {
        "id": "nBTvtrpUi8Bw"
      },
      "source": [
        "### Вывод\n"
      ]
    },
    {
      "cell_type": "markdown",
      "metadata": {
        "id": "rG5nJJKTi8Bw"
      },
      "source": [
        "В данной таблице было множество пропусков, в большинстве столбцов. Таблицу можно разделить на два типа данных - заполненых пользователями и картографические данные заполненые автомачитески. Считаю умесным заполнить только пропуски в данных заполненых пользователями, так как именно эти данные будут играть большую роль в определении рыночной цены недвижомости. Картографические данные так же важны, но достоверно заменить пропуски в них будет проблематично, так как дынные отсутсвуют по всему населенному пункту, следовательно заменить их на подобное значение в соответсвующей группе не получиться. По данному вопросу нужно создать баг-репорт и обратиться к разработчикам  для исправления данных. Нам же будет достаточнои тех что остались заполеными. Основной населенный пунк Санкт-петербург заполнен. Начнём наше исследование, данных для него достаточно."
      ]
    },
    {
      "cell_type": "markdown",
      "metadata": {
        "id": "ilMg4jvUi8Bw"
      },
      "source": [
        "**Дополнение. Размышления на тему замены пропусков**\n",
        "\n",
        "Мы предложил определенные стратегии заполнения пропусков в данных, основанные на биннинге, в целом, это интересное решение, но хочу заметить о том, что важно понимать риски тех способов, которые мы используем для обработки пропусков.\n",
        "    \n",
        "Например, не совсем корректно заменять пропуски в ceiling_height на среднее или медианное значение потолков (это же касается моды). В этой колонке отсутствует около 38% данных. Это очень много, и сложно найти веские причины для таких радикальных трансформаций. В нашем случае, значения высоты потолков имеет техничесикй характер, а так же большинство наших квартир имеют высоту потолков установленную на основе правил СНИПов. В большинство других случаев замены на конкретное значение без ссылки на источники - это, скорее, искажение исходных данных, а не их обогащение. По поводу того, насколько биннинг здесь может отработать корректно с точки зрения рисков искажения данных - вопрос дискуссионный.\n",
        "    \n",
        "Такая стратегия удачна для переменных, в которых отсутствует до 10% данных.\n",
        "\n",
        "Зачем мы вообще проводим EDA? Есть два пункта:\n",
        "1. Мы хотим получить какие-то инсайты о данных (средние значения, минимумы, максимумы и т.д.), чтобы описать, например, среднестатистическую продаваемую квартиру.\n",
        "2. Мы хотим проверить, подходят ли данные для моделирования (смотрим на аномалии, распределения переменных и другие характеристики).\n",
        "    \n",
        "Соответственно, мы должны быть очень осторожны с изменением изначальных данных. Трансформации с булевыми переменными не должны сильно повлиять на наши будущие интерпретации, так как логика замены очень сильная: если нет положительного ответа, значит, он отрицательный. (так, например, в случае is_apartment можно предположить бинарную природу этих данных, в изначальном виде там как раз содержались значения True и False, опять же процент пропусков большой и мы точно не знаем, является ли NaN, например, False. Удалить данные столбец тоже решение дискуссионное, если он не используется в анализе, наверно, можно попробовать просто не трогать эти данные) \n",
        "\n",
        "Также в этих данных есть картографические данные (расстояние до парков и проч), эти данные тоже не совсем продуктивно восполнять, потому что процент пропусков слишком большой, наверняка эти данные заполнялись автоматически, поэтому сложно восстановить их каким-то известным способом, я бы не рекомендовал заполнять пропуски в этих колонках.\n",
        "\n",
        "    \n",
        "Конечно, последнее слово всегда за аналитиком, но в реальной жизни важно понимать вероятность того, что объективность данных может быть искажена подобными заменами. Чтобы доказать обратное, можно, например, сравнить распределения и ключевые статистики до и после замены.\n",
        "   \n",
        "  \n",
        "Какие стратегии замены были бы наименее \"болезненными\" и  \"искажающими\"? Можно попробовать заполнить пропуски по группировкам (мы опять же использовали по сути разновидность граппировки - бинниг и замену на медиану по группе). Или построить корреляционную матрицу, посмотреть, какие переменные коррелируют между собой, и на основе корреляции и группировки заполнить пропуски. Но при этом опять-таки важно оценивать масштаб проблемы, и применять любые стратегии заполнения только там, где это действительно уместно и возможно."
      ]
    },
    {
      "cell_type": "markdown",
      "metadata": {
        "id": "6nmr7pSei8By"
      },
      "source": [
        "## Расчёты и добавление результатов в таблицу"
      ]
    },
    {
      "cell_type": "markdown",
      "metadata": {
        "id": "CLDN4NBQi8By"
      },
      "source": [
        "Расчитаем цену квадратного метра."
      ]
    },
    {
      "cell_type": "code",
      "metadata": {
        "id": "juIwUCATi8By"
      },
      "source": [
        "data['sqmetr_price'] = data['last_price'] / data['total_area']"
      ],
      "execution_count": 68,
      "outputs": []
    },
    {
      "cell_type": "code",
      "metadata": {
        "id": "mgHypRN4i8Bz",
        "outputId": "f1de504f-36e9-4095-ce21-7ecd9f5bc129",
        "colab": {
          "base_uri": "https://localhost:8080/",
          "height": 340
        }
      },
      "source": [
        "data.sample(5)"
      ],
      "execution_count": 69,
      "outputs": [
        {
          "output_type": "execute_result",
          "data": {
            "text/html": [
              "\n",
              "  <div id=\"df-13bba89d-58c1-4cb0-b51b-8ab74d3e693a\">\n",
              "    <div class=\"colab-df-container\">\n",
              "      <div>\n",
              "<style scoped>\n",
              "    .dataframe tbody tr th:only-of-type {\n",
              "        vertical-align: middle;\n",
              "    }\n",
              "\n",
              "    .dataframe tbody tr th {\n",
              "        vertical-align: top;\n",
              "    }\n",
              "\n",
              "    .dataframe thead th {\n",
              "        text-align: right;\n",
              "    }\n",
              "</style>\n",
              "<table border=\"1\" class=\"dataframe\">\n",
              "  <thead>\n",
              "    <tr style=\"text-align: right;\">\n",
              "      <th></th>\n",
              "      <th>total_images</th>\n",
              "      <th>last_price</th>\n",
              "      <th>total_area</th>\n",
              "      <th>first_day_exposition</th>\n",
              "      <th>rooms</th>\n",
              "      <th>ceiling_height</th>\n",
              "      <th>floors_total</th>\n",
              "      <th>living_area</th>\n",
              "      <th>floor</th>\n",
              "      <th>is_apartment</th>\n",
              "      <th>studio</th>\n",
              "      <th>open_plan</th>\n",
              "      <th>kitchen_area</th>\n",
              "      <th>balcony</th>\n",
              "      <th>locality_name</th>\n",
              "      <th>airports_nearest</th>\n",
              "      <th>city_centers_nearest</th>\n",
              "      <th>parks_around_3000</th>\n",
              "      <th>parks_nearest</th>\n",
              "      <th>ponds_around_3000</th>\n",
              "      <th>ponds_nearest</th>\n",
              "      <th>days_exposition</th>\n",
              "      <th>total_area_group</th>\n",
              "      <th>sqmetr_price</th>\n",
              "    </tr>\n",
              "  </thead>\n",
              "  <tbody>\n",
              "    <tr>\n",
              "      <th>17631</th>\n",
              "      <td>19</td>\n",
              "      <td>5800000.000</td>\n",
              "      <td>38.000</td>\n",
              "      <td>2018-08-06</td>\n",
              "      <td>1</td>\n",
              "      <td>NaN</td>\n",
              "      <td>24</td>\n",
              "      <td>15.800</td>\n",
              "      <td>23</td>\n",
              "      <td>NaN</td>\n",
              "      <td>False</td>\n",
              "      <td>False</td>\n",
              "      <td>10.000</td>\n",
              "      <td>0</td>\n",
              "      <td>санкт-петербург</td>\n",
              "      <td>7201.000</td>\n",
              "      <td>13417.000</td>\n",
              "      <td>1.000</td>\n",
              "      <td>1199.000</td>\n",
              "      <td>0.000</td>\n",
              "      <td>NaN</td>\n",
              "      <td>45.000</td>\n",
              "      <td>не большие</td>\n",
              "      <td>152631.579</td>\n",
              "    </tr>\n",
              "    <tr>\n",
              "      <th>4966</th>\n",
              "      <td>10</td>\n",
              "      <td>2650000.000</td>\n",
              "      <td>61.300</td>\n",
              "      <td>2018-11-17</td>\n",
              "      <td>3</td>\n",
              "      <td>2.500</td>\n",
              "      <td>5</td>\n",
              "      <td>45.130</td>\n",
              "      <td>4</td>\n",
              "      <td>NaN</td>\n",
              "      <td>False</td>\n",
              "      <td>False</td>\n",
              "      <td>5.200</td>\n",
              "      <td>1</td>\n",
              "      <td>коммунар</td>\n",
              "      <td>NaN</td>\n",
              "      <td>NaN</td>\n",
              "      <td>NaN</td>\n",
              "      <td>NaN</td>\n",
              "      <td>NaN</td>\n",
              "      <td>NaN</td>\n",
              "      <td>NaN</td>\n",
              "      <td>большие</td>\n",
              "      <td>43230.016</td>\n",
              "    </tr>\n",
              "    <tr>\n",
              "      <th>2710</th>\n",
              "      <td>8</td>\n",
              "      <td>6200000.000</td>\n",
              "      <td>95.000</td>\n",
              "      <td>2015-12-02</td>\n",
              "      <td>3</td>\n",
              "      <td>NaN</td>\n",
              "      <td>17</td>\n",
              "      <td>54.000</td>\n",
              "      <td>12</td>\n",
              "      <td>False</td>\n",
              "      <td>False</td>\n",
              "      <td>False</td>\n",
              "      <td>13.000</td>\n",
              "      <td>0</td>\n",
              "      <td>санкт-петербург</td>\n",
              "      <td>16057.000</td>\n",
              "      <td>14853.000</td>\n",
              "      <td>0.000</td>\n",
              "      <td>NaN</td>\n",
              "      <td>0.000</td>\n",
              "      <td>NaN</td>\n",
              "      <td>271.000</td>\n",
              "      <td>очень большие</td>\n",
              "      <td>65263.158</td>\n",
              "    </tr>\n",
              "    <tr>\n",
              "      <th>15157</th>\n",
              "      <td>42</td>\n",
              "      <td>17998000.000</td>\n",
              "      <td>138.600</td>\n",
              "      <td>2017-09-27</td>\n",
              "      <td>4</td>\n",
              "      <td>NaN</td>\n",
              "      <td>18</td>\n",
              "      <td>93.100</td>\n",
              "      <td>17</td>\n",
              "      <td>NaN</td>\n",
              "      <td>False</td>\n",
              "      <td>False</td>\n",
              "      <td>16.000</td>\n",
              "      <td>2</td>\n",
              "      <td>санкт-петербург</td>\n",
              "      <td>34991.000</td>\n",
              "      <td>11920.000</td>\n",
              "      <td>0.000</td>\n",
              "      <td>NaN</td>\n",
              "      <td>0.000</td>\n",
              "      <td>NaN</td>\n",
              "      <td>172.000</td>\n",
              "      <td>очень большие</td>\n",
              "      <td>129855.700</td>\n",
              "    </tr>\n",
              "    <tr>\n",
              "      <th>9202</th>\n",
              "      <td>0</td>\n",
              "      <td>3500000.000</td>\n",
              "      <td>38.000</td>\n",
              "      <td>2016-02-01</td>\n",
              "      <td>1</td>\n",
              "      <td>NaN</td>\n",
              "      <td>12</td>\n",
              "      <td>20.000</td>\n",
              "      <td>6</td>\n",
              "      <td>NaN</td>\n",
              "      <td>False</td>\n",
              "      <td>False</td>\n",
              "      <td>9.000</td>\n",
              "      <td>0</td>\n",
              "      <td>санкт-петербург</td>\n",
              "      <td>32899.000</td>\n",
              "      <td>11354.000</td>\n",
              "      <td>0.000</td>\n",
              "      <td>NaN</td>\n",
              "      <td>0.000</td>\n",
              "      <td>NaN</td>\n",
              "      <td>229.000</td>\n",
              "      <td>не большие</td>\n",
              "      <td>92105.263</td>\n",
              "    </tr>\n",
              "  </tbody>\n",
              "</table>\n",
              "</div>\n",
              "      <button class=\"colab-df-convert\" onclick=\"convertToInteractive('df-13bba89d-58c1-4cb0-b51b-8ab74d3e693a')\"\n",
              "              title=\"Convert this dataframe to an interactive table.\"\n",
              "              style=\"display:none;\">\n",
              "        \n",
              "  <svg xmlns=\"http://www.w3.org/2000/svg\" height=\"24px\"viewBox=\"0 0 24 24\"\n",
              "       width=\"24px\">\n",
              "    <path d=\"M0 0h24v24H0V0z\" fill=\"none\"/>\n",
              "    <path d=\"M18.56 5.44l.94 2.06.94-2.06 2.06-.94-2.06-.94-.94-2.06-.94 2.06-2.06.94zm-11 1L8.5 8.5l.94-2.06 2.06-.94-2.06-.94L8.5 2.5l-.94 2.06-2.06.94zm10 10l.94 2.06.94-2.06 2.06-.94-2.06-.94-.94-2.06-.94 2.06-2.06.94z\"/><path d=\"M17.41 7.96l-1.37-1.37c-.4-.4-.92-.59-1.43-.59-.52 0-1.04.2-1.43.59L10.3 9.45l-7.72 7.72c-.78.78-.78 2.05 0 2.83L4 21.41c.39.39.9.59 1.41.59.51 0 1.02-.2 1.41-.59l7.78-7.78 2.81-2.81c.8-.78.8-2.07 0-2.86zM5.41 20L4 18.59l7.72-7.72 1.47 1.35L5.41 20z\"/>\n",
              "  </svg>\n",
              "      </button>\n",
              "      \n",
              "  <style>\n",
              "    .colab-df-container {\n",
              "      display:flex;\n",
              "      flex-wrap:wrap;\n",
              "      gap: 12px;\n",
              "    }\n",
              "\n",
              "    .colab-df-convert {\n",
              "      background-color: #E8F0FE;\n",
              "      border: none;\n",
              "      border-radius: 50%;\n",
              "      cursor: pointer;\n",
              "      display: none;\n",
              "      fill: #1967D2;\n",
              "      height: 32px;\n",
              "      padding: 0 0 0 0;\n",
              "      width: 32px;\n",
              "    }\n",
              "\n",
              "    .colab-df-convert:hover {\n",
              "      background-color: #E2EBFA;\n",
              "      box-shadow: 0px 1px 2px rgba(60, 64, 67, 0.3), 0px 1px 3px 1px rgba(60, 64, 67, 0.15);\n",
              "      fill: #174EA6;\n",
              "    }\n",
              "\n",
              "    [theme=dark] .colab-df-convert {\n",
              "      background-color: #3B4455;\n",
              "      fill: #D2E3FC;\n",
              "    }\n",
              "\n",
              "    [theme=dark] .colab-df-convert:hover {\n",
              "      background-color: #434B5C;\n",
              "      box-shadow: 0px 1px 3px 1px rgba(0, 0, 0, 0.15);\n",
              "      filter: drop-shadow(0px 1px 2px rgba(0, 0, 0, 0.3));\n",
              "      fill: #FFFFFF;\n",
              "    }\n",
              "  </style>\n",
              "\n",
              "      <script>\n",
              "        const buttonEl =\n",
              "          document.querySelector('#df-13bba89d-58c1-4cb0-b51b-8ab74d3e693a button.colab-df-convert');\n",
              "        buttonEl.style.display =\n",
              "          google.colab.kernel.accessAllowed ? 'block' : 'none';\n",
              "\n",
              "        async function convertToInteractive(key) {\n",
              "          const element = document.querySelector('#df-13bba89d-58c1-4cb0-b51b-8ab74d3e693a');\n",
              "          const dataTable =\n",
              "            await google.colab.kernel.invokeFunction('convertToInteractive',\n",
              "                                                     [key], {});\n",
              "          if (!dataTable) return;\n",
              "\n",
              "          const docLinkHtml = 'Like what you see? Visit the ' +\n",
              "            '<a target=\"_blank\" href=https://colab.research.google.com/notebooks/data_table.ipynb>data table notebook</a>'\n",
              "            + ' to learn more about interactive tables.';\n",
              "          element.innerHTML = '';\n",
              "          dataTable['output_type'] = 'display_data';\n",
              "          await google.colab.output.renderOutput(dataTable, element);\n",
              "          const docLink = document.createElement('div');\n",
              "          docLink.innerHTML = docLinkHtml;\n",
              "          element.appendChild(docLink);\n",
              "        }\n",
              "      </script>\n",
              "    </div>\n",
              "  </div>\n",
              "  "
            ],
            "text/plain": [
              "       total_images   last_price  total_area first_day_exposition  rooms  \\\n",
              "17631            19  5800000.000      38.000           2018-08-06      1   \n",
              "4966             10  2650000.000      61.300           2018-11-17      3   \n",
              "2710              8  6200000.000      95.000           2015-12-02      3   \n",
              "15157            42 17998000.000     138.600           2017-09-27      4   \n",
              "9202              0  3500000.000      38.000           2016-02-01      1   \n",
              "\n",
              "       ceiling_height  floors_total  living_area  floor is_apartment  studio  \\\n",
              "17631             NaN            24       15.800     23          NaN   False   \n",
              "4966            2.500             5       45.130      4          NaN   False   \n",
              "2710              NaN            17       54.000     12        False   False   \n",
              "15157             NaN            18       93.100     17          NaN   False   \n",
              "9202              NaN            12       20.000      6          NaN   False   \n",
              "\n",
              "       open_plan  kitchen_area  balcony    locality_name  airports_nearest  \\\n",
              "17631      False        10.000        0  санкт-петербург          7201.000   \n",
              "4966       False         5.200        1         коммунар               NaN   \n",
              "2710       False        13.000        0  санкт-петербург         16057.000   \n",
              "15157      False        16.000        2  санкт-петербург         34991.000   \n",
              "9202       False         9.000        0  санкт-петербург         32899.000   \n",
              "\n",
              "       city_centers_nearest  parks_around_3000  parks_nearest  \\\n",
              "17631             13417.000              1.000       1199.000   \n",
              "4966                    NaN                NaN            NaN   \n",
              "2710              14853.000              0.000            NaN   \n",
              "15157             11920.000              0.000            NaN   \n",
              "9202              11354.000              0.000            NaN   \n",
              "\n",
              "       ponds_around_3000  ponds_nearest  days_exposition total_area_group  \\\n",
              "17631              0.000            NaN           45.000       не большие   \n",
              "4966                 NaN            NaN              NaN          большие   \n",
              "2710               0.000            NaN          271.000    очень большие   \n",
              "15157              0.000            NaN          172.000    очень большие   \n",
              "9202               0.000            NaN          229.000       не большие   \n",
              "\n",
              "       sqmetr_price  \n",
              "17631    152631.579  \n",
              "4966      43230.016  \n",
              "2710      65263.158  \n",
              "15157    129855.700  \n",
              "9202      92105.263  "
            ]
          },
          "metadata": {},
          "execution_count": 69
        }
      ]
    },
    {
      "cell_type": "markdown",
      "metadata": {
        "id": "eTjy5My2i8Bz"
      },
      "source": [
        "Узнаем день недели, месяц и год подачи объявления."
      ]
    },
    {
      "cell_type": "code",
      "metadata": {
        "id": "DOfJT-oSi8Bz"
      },
      "source": [
        "data['weekday_exposition'] = data['first_day_exposition'].dt.weekday\n",
        "data['month_exposition']= pd.DatetimeIndex(data['first_day_exposition']).month\n",
        "data['year_exposition']= pd.DatetimeIndex(data['first_day_exposition']).year"
      ],
      "execution_count": 70,
      "outputs": []
    },
    {
      "cell_type": "code",
      "metadata": {
        "id": "cFOQqPVQi8B0",
        "outputId": "235582eb-af1e-4412-b3d7-b26fd5081b36",
        "colab": {
          "base_uri": "https://localhost:8080/",
          "height": 340
        }
      },
      "source": [
        "data.sample(5)\n"
      ],
      "execution_count": 71,
      "outputs": [
        {
          "output_type": "execute_result",
          "data": {
            "text/html": [
              "\n",
              "  <div id=\"df-d562d79e-5408-462b-8319-b26832e14c9f\">\n",
              "    <div class=\"colab-df-container\">\n",
              "      <div>\n",
              "<style scoped>\n",
              "    .dataframe tbody tr th:only-of-type {\n",
              "        vertical-align: middle;\n",
              "    }\n",
              "\n",
              "    .dataframe tbody tr th {\n",
              "        vertical-align: top;\n",
              "    }\n",
              "\n",
              "    .dataframe thead th {\n",
              "        text-align: right;\n",
              "    }\n",
              "</style>\n",
              "<table border=\"1\" class=\"dataframe\">\n",
              "  <thead>\n",
              "    <tr style=\"text-align: right;\">\n",
              "      <th></th>\n",
              "      <th>total_images</th>\n",
              "      <th>last_price</th>\n",
              "      <th>total_area</th>\n",
              "      <th>first_day_exposition</th>\n",
              "      <th>rooms</th>\n",
              "      <th>ceiling_height</th>\n",
              "      <th>floors_total</th>\n",
              "      <th>living_area</th>\n",
              "      <th>floor</th>\n",
              "      <th>is_apartment</th>\n",
              "      <th>studio</th>\n",
              "      <th>open_plan</th>\n",
              "      <th>kitchen_area</th>\n",
              "      <th>balcony</th>\n",
              "      <th>locality_name</th>\n",
              "      <th>airports_nearest</th>\n",
              "      <th>city_centers_nearest</th>\n",
              "      <th>parks_around_3000</th>\n",
              "      <th>parks_nearest</th>\n",
              "      <th>ponds_around_3000</th>\n",
              "      <th>ponds_nearest</th>\n",
              "      <th>days_exposition</th>\n",
              "      <th>total_area_group</th>\n",
              "      <th>sqmetr_price</th>\n",
              "      <th>weekday_exposition</th>\n",
              "      <th>month_exposition</th>\n",
              "      <th>year_exposition</th>\n",
              "    </tr>\n",
              "  </thead>\n",
              "  <tbody>\n",
              "    <tr>\n",
              "      <th>20343</th>\n",
              "      <td>8</td>\n",
              "      <td>4300000.000</td>\n",
              "      <td>40.000</td>\n",
              "      <td>2018-03-26</td>\n",
              "      <td>1</td>\n",
              "      <td>NaN</td>\n",
              "      <td>23</td>\n",
              "      <td>18.000</td>\n",
              "      <td>3</td>\n",
              "      <td>NaN</td>\n",
              "      <td>False</td>\n",
              "      <td>False</td>\n",
              "      <td>10.000</td>\n",
              "      <td>0</td>\n",
              "      <td>санкт-петербург</td>\n",
              "      <td>15297.000</td>\n",
              "      <td>13279.000</td>\n",
              "      <td>0.000</td>\n",
              "      <td>NaN</td>\n",
              "      <td>1.000</td>\n",
              "      <td>1112.000</td>\n",
              "      <td>75.000</td>\n",
              "      <td>не большие</td>\n",
              "      <td>107500.000</td>\n",
              "      <td>0</td>\n",
              "      <td>3</td>\n",
              "      <td>2018</td>\n",
              "    </tr>\n",
              "    <tr>\n",
              "      <th>6733</th>\n",
              "      <td>2</td>\n",
              "      <td>2800000.000</td>\n",
              "      <td>36.200</td>\n",
              "      <td>2017-12-08</td>\n",
              "      <td>1</td>\n",
              "      <td>2.500</td>\n",
              "      <td>5</td>\n",
              "      <td>17.500</td>\n",
              "      <td>5</td>\n",
              "      <td>NaN</td>\n",
              "      <td>False</td>\n",
              "      <td>False</td>\n",
              "      <td>8.500</td>\n",
              "      <td>1</td>\n",
              "      <td>гатчина</td>\n",
              "      <td>NaN</td>\n",
              "      <td>NaN</td>\n",
              "      <td>NaN</td>\n",
              "      <td>NaN</td>\n",
              "      <td>NaN</td>\n",
              "      <td>NaN</td>\n",
              "      <td>46.000</td>\n",
              "      <td>студия</td>\n",
              "      <td>77348.066</td>\n",
              "      <td>4</td>\n",
              "      <td>12</td>\n",
              "      <td>2017</td>\n",
              "    </tr>\n",
              "    <tr>\n",
              "      <th>17383</th>\n",
              "      <td>12</td>\n",
              "      <td>10990000.000</td>\n",
              "      <td>69.000</td>\n",
              "      <td>2017-10-04</td>\n",
              "      <td>2</td>\n",
              "      <td>2.800</td>\n",
              "      <td>22</td>\n",
              "      <td>29.500</td>\n",
              "      <td>7</td>\n",
              "      <td>NaN</td>\n",
              "      <td>False</td>\n",
              "      <td>False</td>\n",
              "      <td>17.500</td>\n",
              "      <td>5</td>\n",
              "      <td>санкт-петербург</td>\n",
              "      <td>44151.000</td>\n",
              "      <td>13731.000</td>\n",
              "      <td>1.000</td>\n",
              "      <td>633.000</td>\n",
              "      <td>0.000</td>\n",
              "      <td>NaN</td>\n",
              "      <td>377.000</td>\n",
              "      <td>большие</td>\n",
              "      <td>159275.362</td>\n",
              "      <td>2</td>\n",
              "      <td>10</td>\n",
              "      <td>2017</td>\n",
              "    </tr>\n",
              "    <tr>\n",
              "      <th>12489</th>\n",
              "      <td>6</td>\n",
              "      <td>3450000.000</td>\n",
              "      <td>37.000</td>\n",
              "      <td>2016-01-22</td>\n",
              "      <td>1</td>\n",
              "      <td>2.550</td>\n",
              "      <td>9</td>\n",
              "      <td>20.000</td>\n",
              "      <td>2</td>\n",
              "      <td>NaN</td>\n",
              "      <td>False</td>\n",
              "      <td>False</td>\n",
              "      <td>6.000</td>\n",
              "      <td>0</td>\n",
              "      <td>санкт-петербург</td>\n",
              "      <td>23299.000</td>\n",
              "      <td>12920.000</td>\n",
              "      <td>0.000</td>\n",
              "      <td>NaN</td>\n",
              "      <td>0.000</td>\n",
              "      <td>NaN</td>\n",
              "      <td>286.000</td>\n",
              "      <td>студия</td>\n",
              "      <td>93243.243</td>\n",
              "      <td>4</td>\n",
              "      <td>1</td>\n",
              "      <td>2016</td>\n",
              "    </tr>\n",
              "    <tr>\n",
              "      <th>3498</th>\n",
              "      <td>11</td>\n",
              "      <td>8500000.000</td>\n",
              "      <td>62.200</td>\n",
              "      <td>2018-10-23</td>\n",
              "      <td>2</td>\n",
              "      <td>3.000</td>\n",
              "      <td>20</td>\n",
              "      <td>35.700</td>\n",
              "      <td>2</td>\n",
              "      <td>NaN</td>\n",
              "      <td>False</td>\n",
              "      <td>False</td>\n",
              "      <td>19.900</td>\n",
              "      <td>0</td>\n",
              "      <td>санкт-петербург</td>\n",
              "      <td>39771.000</td>\n",
              "      <td>8672.000</td>\n",
              "      <td>1.000</td>\n",
              "      <td>139.000</td>\n",
              "      <td>0.000</td>\n",
              "      <td>NaN</td>\n",
              "      <td>20.000</td>\n",
              "      <td>большие</td>\n",
              "      <td>136655.949</td>\n",
              "      <td>1</td>\n",
              "      <td>10</td>\n",
              "      <td>2018</td>\n",
              "    </tr>\n",
              "  </tbody>\n",
              "</table>\n",
              "</div>\n",
              "      <button class=\"colab-df-convert\" onclick=\"convertToInteractive('df-d562d79e-5408-462b-8319-b26832e14c9f')\"\n",
              "              title=\"Convert this dataframe to an interactive table.\"\n",
              "              style=\"display:none;\">\n",
              "        \n",
              "  <svg xmlns=\"http://www.w3.org/2000/svg\" height=\"24px\"viewBox=\"0 0 24 24\"\n",
              "       width=\"24px\">\n",
              "    <path d=\"M0 0h24v24H0V0z\" fill=\"none\"/>\n",
              "    <path d=\"M18.56 5.44l.94 2.06.94-2.06 2.06-.94-2.06-.94-.94-2.06-.94 2.06-2.06.94zm-11 1L8.5 8.5l.94-2.06 2.06-.94-2.06-.94L8.5 2.5l-.94 2.06-2.06.94zm10 10l.94 2.06.94-2.06 2.06-.94-2.06-.94-.94-2.06-.94 2.06-2.06.94z\"/><path d=\"M17.41 7.96l-1.37-1.37c-.4-.4-.92-.59-1.43-.59-.52 0-1.04.2-1.43.59L10.3 9.45l-7.72 7.72c-.78.78-.78 2.05 0 2.83L4 21.41c.39.39.9.59 1.41.59.51 0 1.02-.2 1.41-.59l7.78-7.78 2.81-2.81c.8-.78.8-2.07 0-2.86zM5.41 20L4 18.59l7.72-7.72 1.47 1.35L5.41 20z\"/>\n",
              "  </svg>\n",
              "      </button>\n",
              "      \n",
              "  <style>\n",
              "    .colab-df-container {\n",
              "      display:flex;\n",
              "      flex-wrap:wrap;\n",
              "      gap: 12px;\n",
              "    }\n",
              "\n",
              "    .colab-df-convert {\n",
              "      background-color: #E8F0FE;\n",
              "      border: none;\n",
              "      border-radius: 50%;\n",
              "      cursor: pointer;\n",
              "      display: none;\n",
              "      fill: #1967D2;\n",
              "      height: 32px;\n",
              "      padding: 0 0 0 0;\n",
              "      width: 32px;\n",
              "    }\n",
              "\n",
              "    .colab-df-convert:hover {\n",
              "      background-color: #E2EBFA;\n",
              "      box-shadow: 0px 1px 2px rgba(60, 64, 67, 0.3), 0px 1px 3px 1px rgba(60, 64, 67, 0.15);\n",
              "      fill: #174EA6;\n",
              "    }\n",
              "\n",
              "    [theme=dark] .colab-df-convert {\n",
              "      background-color: #3B4455;\n",
              "      fill: #D2E3FC;\n",
              "    }\n",
              "\n",
              "    [theme=dark] .colab-df-convert:hover {\n",
              "      background-color: #434B5C;\n",
              "      box-shadow: 0px 1px 3px 1px rgba(0, 0, 0, 0.15);\n",
              "      filter: drop-shadow(0px 1px 2px rgba(0, 0, 0, 0.3));\n",
              "      fill: #FFFFFF;\n",
              "    }\n",
              "  </style>\n",
              "\n",
              "      <script>\n",
              "        const buttonEl =\n",
              "          document.querySelector('#df-d562d79e-5408-462b-8319-b26832e14c9f button.colab-df-convert');\n",
              "        buttonEl.style.display =\n",
              "          google.colab.kernel.accessAllowed ? 'block' : 'none';\n",
              "\n",
              "        async function convertToInteractive(key) {\n",
              "          const element = document.querySelector('#df-d562d79e-5408-462b-8319-b26832e14c9f');\n",
              "          const dataTable =\n",
              "            await google.colab.kernel.invokeFunction('convertToInteractive',\n",
              "                                                     [key], {});\n",
              "          if (!dataTable) return;\n",
              "\n",
              "          const docLinkHtml = 'Like what you see? Visit the ' +\n",
              "            '<a target=\"_blank\" href=https://colab.research.google.com/notebooks/data_table.ipynb>data table notebook</a>'\n",
              "            + ' to learn more about interactive tables.';\n",
              "          element.innerHTML = '';\n",
              "          dataTable['output_type'] = 'display_data';\n",
              "          await google.colab.output.renderOutput(dataTable, element);\n",
              "          const docLink = document.createElement('div');\n",
              "          docLink.innerHTML = docLinkHtml;\n",
              "          element.appendChild(docLink);\n",
              "        }\n",
              "      </script>\n",
              "    </div>\n",
              "  </div>\n",
              "  "
            ],
            "text/plain": [
              "       total_images   last_price  total_area first_day_exposition  rooms  \\\n",
              "20343             8  4300000.000      40.000           2018-03-26      1   \n",
              "6733              2  2800000.000      36.200           2017-12-08      1   \n",
              "17383            12 10990000.000      69.000           2017-10-04      2   \n",
              "12489             6  3450000.000      37.000           2016-01-22      1   \n",
              "3498             11  8500000.000      62.200           2018-10-23      2   \n",
              "\n",
              "       ceiling_height  floors_total  living_area  floor is_apartment  studio  \\\n",
              "20343             NaN            23       18.000      3          NaN   False   \n",
              "6733            2.500             5       17.500      5          NaN   False   \n",
              "17383           2.800            22       29.500      7          NaN   False   \n",
              "12489           2.550             9       20.000      2          NaN   False   \n",
              "3498            3.000            20       35.700      2          NaN   False   \n",
              "\n",
              "       open_plan  kitchen_area  balcony    locality_name  airports_nearest  \\\n",
              "20343      False        10.000        0  санкт-петербург         15297.000   \n",
              "6733       False         8.500        1          гатчина               NaN   \n",
              "17383      False        17.500        5  санкт-петербург         44151.000   \n",
              "12489      False         6.000        0  санкт-петербург         23299.000   \n",
              "3498       False        19.900        0  санкт-петербург         39771.000   \n",
              "\n",
              "       city_centers_nearest  parks_around_3000  parks_nearest  \\\n",
              "20343             13279.000              0.000            NaN   \n",
              "6733                    NaN                NaN            NaN   \n",
              "17383             13731.000              1.000        633.000   \n",
              "12489             12920.000              0.000            NaN   \n",
              "3498               8672.000              1.000        139.000   \n",
              "\n",
              "       ponds_around_3000  ponds_nearest  days_exposition total_area_group  \\\n",
              "20343              1.000       1112.000           75.000       не большие   \n",
              "6733                 NaN            NaN           46.000           студия   \n",
              "17383              0.000            NaN          377.000          большие   \n",
              "12489              0.000            NaN          286.000           студия   \n",
              "3498               0.000            NaN           20.000          большие   \n",
              "\n",
              "       sqmetr_price  weekday_exposition  month_exposition  year_exposition  \n",
              "20343    107500.000                   0                 3             2018  \n",
              "6733      77348.066                   4                12             2017  \n",
              "17383    159275.362                   2                10             2017  \n",
              "12489     93243.243                   4                 1             2016  \n",
              "3498     136655.949                   1                10             2018  "
            ]
          },
          "metadata": {},
          "execution_count": 71
        }
      ]
    },
    {
      "cell_type": "markdown",
      "metadata": {
        "id": "rhmFHlFQi8B0"
      },
      "source": [
        "Переименуем название этажей на первый, последний и другие. Для этого создадим функцию name_floors."
      ]
    },
    {
      "cell_type": "code",
      "metadata": {
        "id": "DNRvIpiIi8B0"
      },
      "source": [
        "def name_floors(row):\n",
        "    floor = row['floor']\n",
        "    floors_total= row['floors_total']\n",
        "    if floor == 1:\n",
        "        return 'первый'\n",
        "    elif floor == floors_total:\n",
        "        return 'последний'\n",
        "    elif floor !=1 and floor != floors_total:\n",
        "        return 'другой'\n",
        "    else:\n",
        "        return 'нужно проверить'"
      ],
      "execution_count": 72,
      "outputs": []
    },
    {
      "cell_type": "code",
      "metadata": {
        "id": "z7UzwUyFi8B1",
        "outputId": "2496a67c-bdbb-479e-8bb1-cc7e191f4edb",
        "colab": {
          "base_uri": "https://localhost:8080/",
          "height": 322
        }
      },
      "source": [
        "data['name_floor'] = data.apply(name_floors, axis=1)\n",
        "data.sample(5)"
      ],
      "execution_count": 73,
      "outputs": [
        {
          "output_type": "execute_result",
          "data": {
            "text/html": [
              "\n",
              "  <div id=\"df-4a5500db-ffc6-4239-af49-f1565a65f6a6\">\n",
              "    <div class=\"colab-df-container\">\n",
              "      <div>\n",
              "<style scoped>\n",
              "    .dataframe tbody tr th:only-of-type {\n",
              "        vertical-align: middle;\n",
              "    }\n",
              "\n",
              "    .dataframe tbody tr th {\n",
              "        vertical-align: top;\n",
              "    }\n",
              "\n",
              "    .dataframe thead th {\n",
              "        text-align: right;\n",
              "    }\n",
              "</style>\n",
              "<table border=\"1\" class=\"dataframe\">\n",
              "  <thead>\n",
              "    <tr style=\"text-align: right;\">\n",
              "      <th></th>\n",
              "      <th>total_images</th>\n",
              "      <th>last_price</th>\n",
              "      <th>total_area</th>\n",
              "      <th>first_day_exposition</th>\n",
              "      <th>rooms</th>\n",
              "      <th>ceiling_height</th>\n",
              "      <th>floors_total</th>\n",
              "      <th>living_area</th>\n",
              "      <th>floor</th>\n",
              "      <th>is_apartment</th>\n",
              "      <th>studio</th>\n",
              "      <th>open_plan</th>\n",
              "      <th>kitchen_area</th>\n",
              "      <th>balcony</th>\n",
              "      <th>locality_name</th>\n",
              "      <th>airports_nearest</th>\n",
              "      <th>city_centers_nearest</th>\n",
              "      <th>parks_around_3000</th>\n",
              "      <th>parks_nearest</th>\n",
              "      <th>ponds_around_3000</th>\n",
              "      <th>ponds_nearest</th>\n",
              "      <th>days_exposition</th>\n",
              "      <th>total_area_group</th>\n",
              "      <th>sqmetr_price</th>\n",
              "      <th>weekday_exposition</th>\n",
              "      <th>month_exposition</th>\n",
              "      <th>year_exposition</th>\n",
              "      <th>name_floor</th>\n",
              "    </tr>\n",
              "  </thead>\n",
              "  <tbody>\n",
              "    <tr>\n",
              "      <th>8891</th>\n",
              "      <td>11</td>\n",
              "      <td>2400000.000</td>\n",
              "      <td>58.000</td>\n",
              "      <td>2017-05-07</td>\n",
              "      <td>2</td>\n",
              "      <td>2.550</td>\n",
              "      <td>9</td>\n",
              "      <td>31.000</td>\n",
              "      <td>4</td>\n",
              "      <td>NaN</td>\n",
              "      <td>False</td>\n",
              "      <td>False</td>\n",
              "      <td>11.000</td>\n",
              "      <td>0</td>\n",
              "      <td>коммунар</td>\n",
              "      <td>NaN</td>\n",
              "      <td>NaN</td>\n",
              "      <td>NaN</td>\n",
              "      <td>NaN</td>\n",
              "      <td>NaN</td>\n",
              "      <td>NaN</td>\n",
              "      <td>128.000</td>\n",
              "      <td>средние</td>\n",
              "      <td>41379.310</td>\n",
              "      <td>6</td>\n",
              "      <td>5</td>\n",
              "      <td>2017</td>\n",
              "      <td>другой</td>\n",
              "    </tr>\n",
              "    <tr>\n",
              "      <th>22817</th>\n",
              "      <td>6</td>\n",
              "      <td>5100000.000</td>\n",
              "      <td>45.000</td>\n",
              "      <td>2017-11-10</td>\n",
              "      <td>1</td>\n",
              "      <td>NaN</td>\n",
              "      <td>17</td>\n",
              "      <td>20.200</td>\n",
              "      <td>6</td>\n",
              "      <td>NaN</td>\n",
              "      <td>False</td>\n",
              "      <td>False</td>\n",
              "      <td>9.000</td>\n",
              "      <td>0</td>\n",
              "      <td>санкт-петербург</td>\n",
              "      <td>7934.000</td>\n",
              "      <td>12748.000</td>\n",
              "      <td>1.000</td>\n",
              "      <td>613.000</td>\n",
              "      <td>0.000</td>\n",
              "      <td>NaN</td>\n",
              "      <td>124.000</td>\n",
              "      <td>не большие</td>\n",
              "      <td>113333.333</td>\n",
              "      <td>4</td>\n",
              "      <td>11</td>\n",
              "      <td>2017</td>\n",
              "      <td>другой</td>\n",
              "    </tr>\n",
              "    <tr>\n",
              "      <th>10746</th>\n",
              "      <td>9</td>\n",
              "      <td>12400000.000</td>\n",
              "      <td>127.500</td>\n",
              "      <td>2018-11-15</td>\n",
              "      <td>5</td>\n",
              "      <td>3.000</td>\n",
              "      <td>6</td>\n",
              "      <td>92.900</td>\n",
              "      <td>4</td>\n",
              "      <td>NaN</td>\n",
              "      <td>False</td>\n",
              "      <td>False</td>\n",
              "      <td>14.400</td>\n",
              "      <td>0</td>\n",
              "      <td>санкт-петербург</td>\n",
              "      <td>22503.000</td>\n",
              "      <td>3768.000</td>\n",
              "      <td>0.000</td>\n",
              "      <td>NaN</td>\n",
              "      <td>1.000</td>\n",
              "      <td>603.000</td>\n",
              "      <td>90.000</td>\n",
              "      <td>очень большие</td>\n",
              "      <td>97254.902</td>\n",
              "      <td>3</td>\n",
              "      <td>11</td>\n",
              "      <td>2018</td>\n",
              "      <td>другой</td>\n",
              "    </tr>\n",
              "    <tr>\n",
              "      <th>9318</th>\n",
              "      <td>15</td>\n",
              "      <td>4400000.000</td>\n",
              "      <td>52.000</td>\n",
              "      <td>2018-07-07</td>\n",
              "      <td>3</td>\n",
              "      <td>2.500</td>\n",
              "      <td>12</td>\n",
              "      <td>34.000</td>\n",
              "      <td>5</td>\n",
              "      <td>NaN</td>\n",
              "      <td>False</td>\n",
              "      <td>False</td>\n",
              "      <td>6.200</td>\n",
              "      <td>2</td>\n",
              "      <td>санкт-петербург</td>\n",
              "      <td>45445.000</td>\n",
              "      <td>16536.000</td>\n",
              "      <td>1.000</td>\n",
              "      <td>423.000</td>\n",
              "      <td>0.000</td>\n",
              "      <td>NaN</td>\n",
              "      <td>10.000</td>\n",
              "      <td>средние</td>\n",
              "      <td>84615.385</td>\n",
              "      <td>5</td>\n",
              "      <td>7</td>\n",
              "      <td>2018</td>\n",
              "      <td>другой</td>\n",
              "    </tr>\n",
              "    <tr>\n",
              "      <th>16096</th>\n",
              "      <td>4</td>\n",
              "      <td>2900000.000</td>\n",
              "      <td>36.000</td>\n",
              "      <td>2016-06-14</td>\n",
              "      <td>1</td>\n",
              "      <td>2.500</td>\n",
              "      <td>14</td>\n",
              "      <td>19.000</td>\n",
              "      <td>8</td>\n",
              "      <td>NaN</td>\n",
              "      <td>False</td>\n",
              "      <td>False</td>\n",
              "      <td>6.000</td>\n",
              "      <td>2</td>\n",
              "      <td>колпино</td>\n",
              "      <td>26581.000</td>\n",
              "      <td>32368.000</td>\n",
              "      <td>1.000</td>\n",
              "      <td>735.000</td>\n",
              "      <td>0.000</td>\n",
              "      <td>NaN</td>\n",
              "      <td>672.000</td>\n",
              "      <td>студия</td>\n",
              "      <td>80555.556</td>\n",
              "      <td>1</td>\n",
              "      <td>6</td>\n",
              "      <td>2016</td>\n",
              "      <td>другой</td>\n",
              "    </tr>\n",
              "  </tbody>\n",
              "</table>\n",
              "</div>\n",
              "      <button class=\"colab-df-convert\" onclick=\"convertToInteractive('df-4a5500db-ffc6-4239-af49-f1565a65f6a6')\"\n",
              "              title=\"Convert this dataframe to an interactive table.\"\n",
              "              style=\"display:none;\">\n",
              "        \n",
              "  <svg xmlns=\"http://www.w3.org/2000/svg\" height=\"24px\"viewBox=\"0 0 24 24\"\n",
              "       width=\"24px\">\n",
              "    <path d=\"M0 0h24v24H0V0z\" fill=\"none\"/>\n",
              "    <path d=\"M18.56 5.44l.94 2.06.94-2.06 2.06-.94-2.06-.94-.94-2.06-.94 2.06-2.06.94zm-11 1L8.5 8.5l.94-2.06 2.06-.94-2.06-.94L8.5 2.5l-.94 2.06-2.06.94zm10 10l.94 2.06.94-2.06 2.06-.94-2.06-.94-.94-2.06-.94 2.06-2.06.94z\"/><path d=\"M17.41 7.96l-1.37-1.37c-.4-.4-.92-.59-1.43-.59-.52 0-1.04.2-1.43.59L10.3 9.45l-7.72 7.72c-.78.78-.78 2.05 0 2.83L4 21.41c.39.39.9.59 1.41.59.51 0 1.02-.2 1.41-.59l7.78-7.78 2.81-2.81c.8-.78.8-2.07 0-2.86zM5.41 20L4 18.59l7.72-7.72 1.47 1.35L5.41 20z\"/>\n",
              "  </svg>\n",
              "      </button>\n",
              "      \n",
              "  <style>\n",
              "    .colab-df-container {\n",
              "      display:flex;\n",
              "      flex-wrap:wrap;\n",
              "      gap: 12px;\n",
              "    }\n",
              "\n",
              "    .colab-df-convert {\n",
              "      background-color: #E8F0FE;\n",
              "      border: none;\n",
              "      border-radius: 50%;\n",
              "      cursor: pointer;\n",
              "      display: none;\n",
              "      fill: #1967D2;\n",
              "      height: 32px;\n",
              "      padding: 0 0 0 0;\n",
              "      width: 32px;\n",
              "    }\n",
              "\n",
              "    .colab-df-convert:hover {\n",
              "      background-color: #E2EBFA;\n",
              "      box-shadow: 0px 1px 2px rgba(60, 64, 67, 0.3), 0px 1px 3px 1px rgba(60, 64, 67, 0.15);\n",
              "      fill: #174EA6;\n",
              "    }\n",
              "\n",
              "    [theme=dark] .colab-df-convert {\n",
              "      background-color: #3B4455;\n",
              "      fill: #D2E3FC;\n",
              "    }\n",
              "\n",
              "    [theme=dark] .colab-df-convert:hover {\n",
              "      background-color: #434B5C;\n",
              "      box-shadow: 0px 1px 3px 1px rgba(0, 0, 0, 0.15);\n",
              "      filter: drop-shadow(0px 1px 2px rgba(0, 0, 0, 0.3));\n",
              "      fill: #FFFFFF;\n",
              "    }\n",
              "  </style>\n",
              "\n",
              "      <script>\n",
              "        const buttonEl =\n",
              "          document.querySelector('#df-4a5500db-ffc6-4239-af49-f1565a65f6a6 button.colab-df-convert');\n",
              "        buttonEl.style.display =\n",
              "          google.colab.kernel.accessAllowed ? 'block' : 'none';\n",
              "\n",
              "        async function convertToInteractive(key) {\n",
              "          const element = document.querySelector('#df-4a5500db-ffc6-4239-af49-f1565a65f6a6');\n",
              "          const dataTable =\n",
              "            await google.colab.kernel.invokeFunction('convertToInteractive',\n",
              "                                                     [key], {});\n",
              "          if (!dataTable) return;\n",
              "\n",
              "          const docLinkHtml = 'Like what you see? Visit the ' +\n",
              "            '<a target=\"_blank\" href=https://colab.research.google.com/notebooks/data_table.ipynb>data table notebook</a>'\n",
              "            + ' to learn more about interactive tables.';\n",
              "          element.innerHTML = '';\n",
              "          dataTable['output_type'] = 'display_data';\n",
              "          await google.colab.output.renderOutput(dataTable, element);\n",
              "          const docLink = document.createElement('div');\n",
              "          docLink.innerHTML = docLinkHtml;\n",
              "          element.appendChild(docLink);\n",
              "        }\n",
              "      </script>\n",
              "    </div>\n",
              "  </div>\n",
              "  "
            ],
            "text/plain": [
              "       total_images   last_price  total_area first_day_exposition  rooms  \\\n",
              "8891             11  2400000.000      58.000           2017-05-07      2   \n",
              "22817             6  5100000.000      45.000           2017-11-10      1   \n",
              "10746             9 12400000.000     127.500           2018-11-15      5   \n",
              "9318             15  4400000.000      52.000           2018-07-07      3   \n",
              "16096             4  2900000.000      36.000           2016-06-14      1   \n",
              "\n",
              "       ceiling_height  floors_total  living_area  floor is_apartment  studio  \\\n",
              "8891            2.550             9       31.000      4          NaN   False   \n",
              "22817             NaN            17       20.200      6          NaN   False   \n",
              "10746           3.000             6       92.900      4          NaN   False   \n",
              "9318            2.500            12       34.000      5          NaN   False   \n",
              "16096           2.500            14       19.000      8          NaN   False   \n",
              "\n",
              "       open_plan  kitchen_area  balcony    locality_name  airports_nearest  \\\n",
              "8891       False        11.000        0         коммунар               NaN   \n",
              "22817      False         9.000        0  санкт-петербург          7934.000   \n",
              "10746      False        14.400        0  санкт-петербург         22503.000   \n",
              "9318       False         6.200        2  санкт-петербург         45445.000   \n",
              "16096      False         6.000        2          колпино         26581.000   \n",
              "\n",
              "       city_centers_nearest  parks_around_3000  parks_nearest  \\\n",
              "8891                    NaN                NaN            NaN   \n",
              "22817             12748.000              1.000        613.000   \n",
              "10746              3768.000              0.000            NaN   \n",
              "9318              16536.000              1.000        423.000   \n",
              "16096             32368.000              1.000        735.000   \n",
              "\n",
              "       ponds_around_3000  ponds_nearest  days_exposition total_area_group  \\\n",
              "8891                 NaN            NaN          128.000          средние   \n",
              "22817              0.000            NaN          124.000       не большие   \n",
              "10746              1.000        603.000           90.000    очень большие   \n",
              "9318               0.000            NaN           10.000          средние   \n",
              "16096              0.000            NaN          672.000           студия   \n",
              "\n",
              "       sqmetr_price  weekday_exposition  month_exposition  year_exposition  \\\n",
              "8891      41379.310                   6                 5             2017   \n",
              "22817    113333.333                   4                11             2017   \n",
              "10746     97254.902                   3                11             2018   \n",
              "9318      84615.385                   5                 7             2018   \n",
              "16096     80555.556                   1                 6             2016   \n",
              "\n",
              "      name_floor  \n",
              "8891      другой  \n",
              "22817     другой  \n",
              "10746     другой  \n",
              "9318      другой  \n",
              "16096     другой  "
            ]
          },
          "metadata": {},
          "execution_count": 73
        }
      ]
    },
    {
      "cell_type": "markdown",
      "metadata": {
        "id": "Qs3By9KCi8B1"
      },
      "source": [
        "Найдем соотношение жилой и общей площади, а также отношение площади кухни к общей. Создадим соответствующие столбцы."
      ]
    },
    {
      "cell_type": "code",
      "metadata": {
        "id": "13QhhDp1i8B1",
        "outputId": "4df9abc8-39fc-4178-c3de-5baa7636a9e6",
        "colab": {
          "base_uri": "https://localhost:8080/",
          "height": 357
        }
      },
      "source": [
        "data['living_area_%'] = data['living_area'] / data['total_area']*100\n",
        "data['kitchen_area_%'] = data['kitchen_area'] / data['total_area']*100\n",
        "data.sample(5)"
      ],
      "execution_count": 74,
      "outputs": [
        {
          "output_type": "execute_result",
          "data": {
            "text/html": [
              "\n",
              "  <div id=\"df-0e076523-1821-448c-b3b8-5efcd6e4fd87\">\n",
              "    <div class=\"colab-df-container\">\n",
              "      <div>\n",
              "<style scoped>\n",
              "    .dataframe tbody tr th:only-of-type {\n",
              "        vertical-align: middle;\n",
              "    }\n",
              "\n",
              "    .dataframe tbody tr th {\n",
              "        vertical-align: top;\n",
              "    }\n",
              "\n",
              "    .dataframe thead th {\n",
              "        text-align: right;\n",
              "    }\n",
              "</style>\n",
              "<table border=\"1\" class=\"dataframe\">\n",
              "  <thead>\n",
              "    <tr style=\"text-align: right;\">\n",
              "      <th></th>\n",
              "      <th>total_images</th>\n",
              "      <th>last_price</th>\n",
              "      <th>total_area</th>\n",
              "      <th>first_day_exposition</th>\n",
              "      <th>rooms</th>\n",
              "      <th>ceiling_height</th>\n",
              "      <th>floors_total</th>\n",
              "      <th>living_area</th>\n",
              "      <th>floor</th>\n",
              "      <th>is_apartment</th>\n",
              "      <th>studio</th>\n",
              "      <th>open_plan</th>\n",
              "      <th>kitchen_area</th>\n",
              "      <th>balcony</th>\n",
              "      <th>locality_name</th>\n",
              "      <th>airports_nearest</th>\n",
              "      <th>city_centers_nearest</th>\n",
              "      <th>parks_around_3000</th>\n",
              "      <th>parks_nearest</th>\n",
              "      <th>ponds_around_3000</th>\n",
              "      <th>ponds_nearest</th>\n",
              "      <th>days_exposition</th>\n",
              "      <th>total_area_group</th>\n",
              "      <th>sqmetr_price</th>\n",
              "      <th>weekday_exposition</th>\n",
              "      <th>month_exposition</th>\n",
              "      <th>year_exposition</th>\n",
              "      <th>name_floor</th>\n",
              "      <th>living_area_%</th>\n",
              "      <th>kitchen_area_%</th>\n",
              "    </tr>\n",
              "  </thead>\n",
              "  <tbody>\n",
              "    <tr>\n",
              "      <th>11850</th>\n",
              "      <td>13</td>\n",
              "      <td>9900000.000</td>\n",
              "      <td>75.200</td>\n",
              "      <td>2016-01-29</td>\n",
              "      <td>2</td>\n",
              "      <td>3.200</td>\n",
              "      <td>6</td>\n",
              "      <td>33.000</td>\n",
              "      <td>2</td>\n",
              "      <td>False</td>\n",
              "      <td>False</td>\n",
              "      <td>False</td>\n",
              "      <td>19.000</td>\n",
              "      <td>0</td>\n",
              "      <td>санкт-петербург</td>\n",
              "      <td>20288.000</td>\n",
              "      <td>2152.000</td>\n",
              "      <td>2.000</td>\n",
              "      <td>604.000</td>\n",
              "      <td>3.000</td>\n",
              "      <td>65.000</td>\n",
              "      <td>324.000</td>\n",
              "      <td>очень большие</td>\n",
              "      <td>131648.936</td>\n",
              "      <td>4</td>\n",
              "      <td>1</td>\n",
              "      <td>2016</td>\n",
              "      <td>другой</td>\n",
              "      <td>43.883</td>\n",
              "      <td>25.266</td>\n",
              "    </tr>\n",
              "    <tr>\n",
              "      <th>5224</th>\n",
              "      <td>9</td>\n",
              "      <td>4250000.000</td>\n",
              "      <td>41.800</td>\n",
              "      <td>2017-04-20</td>\n",
              "      <td>1</td>\n",
              "      <td>2.550</td>\n",
              "      <td>17</td>\n",
              "      <td>18.600</td>\n",
              "      <td>12</td>\n",
              "      <td>NaN</td>\n",
              "      <td>False</td>\n",
              "      <td>False</td>\n",
              "      <td>8.600</td>\n",
              "      <td>2</td>\n",
              "      <td>санкт-петербург</td>\n",
              "      <td>7994.000</td>\n",
              "      <td>12688.000</td>\n",
              "      <td>1.000</td>\n",
              "      <td>624.000</td>\n",
              "      <td>0.000</td>\n",
              "      <td>NaN</td>\n",
              "      <td>15.000</td>\n",
              "      <td>не большие</td>\n",
              "      <td>101674.641</td>\n",
              "      <td>3</td>\n",
              "      <td>4</td>\n",
              "      <td>2017</td>\n",
              "      <td>другой</td>\n",
              "      <td>44.498</td>\n",
              "      <td>20.574</td>\n",
              "    </tr>\n",
              "    <tr>\n",
              "      <th>6184</th>\n",
              "      <td>6</td>\n",
              "      <td>8210000.000</td>\n",
              "      <td>88.300</td>\n",
              "      <td>2018-03-27</td>\n",
              "      <td>3</td>\n",
              "      <td>NaN</td>\n",
              "      <td>25</td>\n",
              "      <td>48.400</td>\n",
              "      <td>10</td>\n",
              "      <td>NaN</td>\n",
              "      <td>False</td>\n",
              "      <td>False</td>\n",
              "      <td>13.300</td>\n",
              "      <td>0</td>\n",
              "      <td>санкт-петербург</td>\n",
              "      <td>42427.000</td>\n",
              "      <td>9877.000</td>\n",
              "      <td>0.000</td>\n",
              "      <td>NaN</td>\n",
              "      <td>0.000</td>\n",
              "      <td>NaN</td>\n",
              "      <td>60.000</td>\n",
              "      <td>очень большие</td>\n",
              "      <td>92978.482</td>\n",
              "      <td>1</td>\n",
              "      <td>3</td>\n",
              "      <td>2018</td>\n",
              "      <td>другой</td>\n",
              "      <td>54.813</td>\n",
              "      <td>15.062</td>\n",
              "    </tr>\n",
              "    <tr>\n",
              "      <th>6085</th>\n",
              "      <td>8</td>\n",
              "      <td>6960000.000</td>\n",
              "      <td>44.100</td>\n",
              "      <td>2019-03-11</td>\n",
              "      <td>1</td>\n",
              "      <td>2.700</td>\n",
              "      <td>17</td>\n",
              "      <td>17.300</td>\n",
              "      <td>5</td>\n",
              "      <td>NaN</td>\n",
              "      <td>False</td>\n",
              "      <td>False</td>\n",
              "      <td>13.000</td>\n",
              "      <td>2</td>\n",
              "      <td>санкт-петербург</td>\n",
              "      <td>37491.000</td>\n",
              "      <td>9963.000</td>\n",
              "      <td>1.000</td>\n",
              "      <td>657.000</td>\n",
              "      <td>0.000</td>\n",
              "      <td>NaN</td>\n",
              "      <td>9.000</td>\n",
              "      <td>не большие</td>\n",
              "      <td>157823.129</td>\n",
              "      <td>0</td>\n",
              "      <td>3</td>\n",
              "      <td>2019</td>\n",
              "      <td>другой</td>\n",
              "      <td>39.229</td>\n",
              "      <td>29.478</td>\n",
              "    </tr>\n",
              "    <tr>\n",
              "      <th>20254</th>\n",
              "      <td>5</td>\n",
              "      <td>3200000.000</td>\n",
              "      <td>23.600</td>\n",
              "      <td>2018-07-13</td>\n",
              "      <td>0</td>\n",
              "      <td>3.100</td>\n",
              "      <td>4</td>\n",
              "      <td>17.000</td>\n",
              "      <td>1</td>\n",
              "      <td>NaN</td>\n",
              "      <td>True</td>\n",
              "      <td>False</td>\n",
              "      <td>8.000</td>\n",
              "      <td>0</td>\n",
              "      <td>санкт-петербург</td>\n",
              "      <td>22807.000</td>\n",
              "      <td>2349.000</td>\n",
              "      <td>0.000</td>\n",
              "      <td>NaN</td>\n",
              "      <td>0.000</td>\n",
              "      <td>NaN</td>\n",
              "      <td>67.000</td>\n",
              "      <td>студия</td>\n",
              "      <td>135593.220</td>\n",
              "      <td>4</td>\n",
              "      <td>7</td>\n",
              "      <td>2018</td>\n",
              "      <td>первый</td>\n",
              "      <td>72.034</td>\n",
              "      <td>33.898</td>\n",
              "    </tr>\n",
              "  </tbody>\n",
              "</table>\n",
              "</div>\n",
              "      <button class=\"colab-df-convert\" onclick=\"convertToInteractive('df-0e076523-1821-448c-b3b8-5efcd6e4fd87')\"\n",
              "              title=\"Convert this dataframe to an interactive table.\"\n",
              "              style=\"display:none;\">\n",
              "        \n",
              "  <svg xmlns=\"http://www.w3.org/2000/svg\" height=\"24px\"viewBox=\"0 0 24 24\"\n",
              "       width=\"24px\">\n",
              "    <path d=\"M0 0h24v24H0V0z\" fill=\"none\"/>\n",
              "    <path d=\"M18.56 5.44l.94 2.06.94-2.06 2.06-.94-2.06-.94-.94-2.06-.94 2.06-2.06.94zm-11 1L8.5 8.5l.94-2.06 2.06-.94-2.06-.94L8.5 2.5l-.94 2.06-2.06.94zm10 10l.94 2.06.94-2.06 2.06-.94-2.06-.94-.94-2.06-.94 2.06-2.06.94z\"/><path d=\"M17.41 7.96l-1.37-1.37c-.4-.4-.92-.59-1.43-.59-.52 0-1.04.2-1.43.59L10.3 9.45l-7.72 7.72c-.78.78-.78 2.05 0 2.83L4 21.41c.39.39.9.59 1.41.59.51 0 1.02-.2 1.41-.59l7.78-7.78 2.81-2.81c.8-.78.8-2.07 0-2.86zM5.41 20L4 18.59l7.72-7.72 1.47 1.35L5.41 20z\"/>\n",
              "  </svg>\n",
              "      </button>\n",
              "      \n",
              "  <style>\n",
              "    .colab-df-container {\n",
              "      display:flex;\n",
              "      flex-wrap:wrap;\n",
              "      gap: 12px;\n",
              "    }\n",
              "\n",
              "    .colab-df-convert {\n",
              "      background-color: #E8F0FE;\n",
              "      border: none;\n",
              "      border-radius: 50%;\n",
              "      cursor: pointer;\n",
              "      display: none;\n",
              "      fill: #1967D2;\n",
              "      height: 32px;\n",
              "      padding: 0 0 0 0;\n",
              "      width: 32px;\n",
              "    }\n",
              "\n",
              "    .colab-df-convert:hover {\n",
              "      background-color: #E2EBFA;\n",
              "      box-shadow: 0px 1px 2px rgba(60, 64, 67, 0.3), 0px 1px 3px 1px rgba(60, 64, 67, 0.15);\n",
              "      fill: #174EA6;\n",
              "    }\n",
              "\n",
              "    [theme=dark] .colab-df-convert {\n",
              "      background-color: #3B4455;\n",
              "      fill: #D2E3FC;\n",
              "    }\n",
              "\n",
              "    [theme=dark] .colab-df-convert:hover {\n",
              "      background-color: #434B5C;\n",
              "      box-shadow: 0px 1px 3px 1px rgba(0, 0, 0, 0.15);\n",
              "      filter: drop-shadow(0px 1px 2px rgba(0, 0, 0, 0.3));\n",
              "      fill: #FFFFFF;\n",
              "    }\n",
              "  </style>\n",
              "\n",
              "      <script>\n",
              "        const buttonEl =\n",
              "          document.querySelector('#df-0e076523-1821-448c-b3b8-5efcd6e4fd87 button.colab-df-convert');\n",
              "        buttonEl.style.display =\n",
              "          google.colab.kernel.accessAllowed ? 'block' : 'none';\n",
              "\n",
              "        async function convertToInteractive(key) {\n",
              "          const element = document.querySelector('#df-0e076523-1821-448c-b3b8-5efcd6e4fd87');\n",
              "          const dataTable =\n",
              "            await google.colab.kernel.invokeFunction('convertToInteractive',\n",
              "                                                     [key], {});\n",
              "          if (!dataTable) return;\n",
              "\n",
              "          const docLinkHtml = 'Like what you see? Visit the ' +\n",
              "            '<a target=\"_blank\" href=https://colab.research.google.com/notebooks/data_table.ipynb>data table notebook</a>'\n",
              "            + ' to learn more about interactive tables.';\n",
              "          element.innerHTML = '';\n",
              "          dataTable['output_type'] = 'display_data';\n",
              "          await google.colab.output.renderOutput(dataTable, element);\n",
              "          const docLink = document.createElement('div');\n",
              "          docLink.innerHTML = docLinkHtml;\n",
              "          element.appendChild(docLink);\n",
              "        }\n",
              "      </script>\n",
              "    </div>\n",
              "  </div>\n",
              "  "
            ],
            "text/plain": [
              "       total_images  last_price  total_area first_day_exposition  rooms  \\\n",
              "11850            13 9900000.000      75.200           2016-01-29      2   \n",
              "5224              9 4250000.000      41.800           2017-04-20      1   \n",
              "6184              6 8210000.000      88.300           2018-03-27      3   \n",
              "6085              8 6960000.000      44.100           2019-03-11      1   \n",
              "20254             5 3200000.000      23.600           2018-07-13      0   \n",
              "\n",
              "       ceiling_height  floors_total  living_area  floor is_apartment  studio  \\\n",
              "11850           3.200             6       33.000      2        False   False   \n",
              "5224            2.550            17       18.600     12          NaN   False   \n",
              "6184              NaN            25       48.400     10          NaN   False   \n",
              "6085            2.700            17       17.300      5          NaN   False   \n",
              "20254           3.100             4       17.000      1          NaN    True   \n",
              "\n",
              "       open_plan  kitchen_area  balcony    locality_name  airports_nearest  \\\n",
              "11850      False        19.000        0  санкт-петербург         20288.000   \n",
              "5224       False         8.600        2  санкт-петербург          7994.000   \n",
              "6184       False        13.300        0  санкт-петербург         42427.000   \n",
              "6085       False        13.000        2  санкт-петербург         37491.000   \n",
              "20254      False         8.000        0  санкт-петербург         22807.000   \n",
              "\n",
              "       city_centers_nearest  parks_around_3000  parks_nearest  \\\n",
              "11850              2152.000              2.000        604.000   \n",
              "5224              12688.000              1.000        624.000   \n",
              "6184               9877.000              0.000            NaN   \n",
              "6085               9963.000              1.000        657.000   \n",
              "20254              2349.000              0.000            NaN   \n",
              "\n",
              "       ponds_around_3000  ponds_nearest  days_exposition total_area_group  \\\n",
              "11850              3.000         65.000          324.000    очень большие   \n",
              "5224               0.000            NaN           15.000       не большие   \n",
              "6184               0.000            NaN           60.000    очень большие   \n",
              "6085               0.000            NaN            9.000       не большие   \n",
              "20254              0.000            NaN           67.000           студия   \n",
              "\n",
              "       sqmetr_price  weekday_exposition  month_exposition  year_exposition  \\\n",
              "11850    131648.936                   4                 1             2016   \n",
              "5224     101674.641                   3                 4             2017   \n",
              "6184      92978.482                   1                 3             2018   \n",
              "6085     157823.129                   0                 3             2019   \n",
              "20254    135593.220                   4                 7             2018   \n",
              "\n",
              "      name_floor  living_area_%  kitchen_area_%  \n",
              "11850     другой         43.883          25.266  \n",
              "5224      другой         44.498          20.574  \n",
              "6184      другой         54.813          15.062  \n",
              "6085      другой         39.229          29.478  \n",
              "20254     первый         72.034          33.898  "
            ]
          },
          "metadata": {},
          "execution_count": 74
        }
      ]
    },
    {
      "cell_type": "markdown",
      "metadata": {
        "id": "9Oqxv5Iri8B1"
      },
      "source": [
        "### Вывод"
      ]
    },
    {
      "cell_type": "markdown",
      "metadata": {
        "id": "aJa6DyzQi8B2"
      },
      "source": [
        "Данные указанные в задании добалены. Мы определили рад новых параметров которые позволят более детально рассмотреть взамосвязь цены квартиры от ее параметров. Рассмотрим эти взимосвязи."
      ]
    },
    {
      "cell_type": "markdown",
      "metadata": {
        "id": "ZRm6QDSsi8B2"
      },
      "source": [
        "## Исследовательский анализ данных"
      ]
    },
    {
      "cell_type": "markdown",
      "metadata": {
        "id": "llz_R17hi8B2"
      },
      "source": [
        "Зададм себе простой вопрос - от чего зависит цена квартиры? Логика подсказывает что от площади, числа комнат, высоты потолков. От чего еще может зависить цена? Для начала изучим следующие параметры: площадь, цена, число комнат, высота потолков. Построим гистограммы для каждого параметра."
      ]
    },
    {
      "cell_type": "markdown",
      "metadata": {
        "id": "fuqGgkI5i8B2"
      },
      "source": [
        "Общая площадь."
      ]
    },
    {
      "cell_type": "code",
      "metadata": {
        "id": "RTAb6u46i8B3",
        "outputId": "52256a1d-1e59-4d70-a209-06d3b68a86c8",
        "colab": {
          "base_uri": "https://localhost:8080/",
          "height": 385
        }
      },
      "source": [
        "plt.figure(figsize =(20, 6))\n",
        "data.boxplot('total_area', \n",
        "            notch=True, \n",
        "            sym=\"o\", \n",
        "            vert=False,\n",
        "            widths = 0.1, \n",
        "            patch_artist = True,\n",
        "             )\n",
        "plt.ylabel('общая площадь')\n",
        "plt.tick_params(axis = 'both',    #  Применяем параметры к обеим осям\n",
        "               which = 'major',    #  Применяем параметры к основным делениям\n",
        "               direction = 'inout',    #  Рисуем деления внутри и снаружи графика\n",
        "               length = 10,    #  Длинна делений\n",
        "               width = 4,     #  Ширина делений\n",
        "               color = 'g',    #  Цвет делений\n",
        "               pad = 10,    #  Расстояние между черточкой и ее подписью\n",
        "               labelsize = 12,    #  Размер подписи\n",
        "               labelcolor = 'g'    #  Цвет подписи\n",
        "               )\n",
        "\n",
        "plt.grid()\n",
        "plt.show()"
      ],
      "execution_count": 75,
      "outputs": [
        {
          "output_type": "display_data",
          "data": {
            "image/png": "[encoded data removed]",
            "text/plain": [
              "<Figure size 1440x432 with 1 Axes>"
            ]
          },
          "metadata": {
            "needs_background": "light"
          }
        }
      ]
    },
    {
      "cell_type": "code",
      "metadata": {
        "scrolled": false,
        "id": "wdB2UQHVi8B3",
        "outputId": "bba6f9fa-3a90-486d-9fe8-0344187c225a",
        "colab": {
          "base_uri": "https://localhost:8080/",
          "height": 722
        }
      },
      "source": [
        "\n",
        "\n",
        "data['total_area'].hist(bins=100, range=(0, 300), figsize=(20,9))\n",
        "plt.xlabel('значение общей площади объекта недвижимости')\n",
        "plt.ylabel('частота значений')\n",
        "plt.tick_params(axis = 'both',    #  Применяем параметры к обеим осям\n",
        "               which = 'major',    #  Применяем параметры к основным делениям\n",
        "               direction = 'inout',    #  Рисуем деления внутри и снаружи графика\n",
        "               length = 10,    #  Длинна делений\n",
        "               width = 4,     #  Ширина делений\n",
        "               color = 'g',    #  Цвет делений\n",
        "               pad = 10,    #  Расстояние между черточкой и ее подписью\n",
        "               labelsize = 12,    #  Размер подписи\n",
        "               labelcolor = 'g'    #  Цвет подписи\n",
        "             )    #  Поворот подписей\n",
        "plt.axvline(label= 'Медиана', x=data['total_area'].median(),\n",
        "                linewidth=3, \n",
        "                color='red', \n",
        "                linestyle='--')\n",
        "plt.axvline(label= 'Q5%, Наблюдаемый минимум', x=data['total_area'].quantile(.05),\n",
        "                linewidth=3, \n",
        "                color='y', \n",
        "                linestyle='--')\n",
        "plt.axvline(label= 'Q95%, Наблюдаемый максимум', x=data['total_area'].quantile(.95),\n",
        "                linewidth=3, \n",
        "                color='y', \n",
        "                linestyle='--'\n",
        "           )\n",
        "plt.grid()\n",
        "plt.legend()\n",
        "plt.show()\n",
        "data['total_area'].describe()"
      ],
      "execution_count": 76,
      "outputs": [
        {
          "output_type": "display_data",
          "data": {
            "image/png": "[encoded data removed]",
            "text/plain": [
              "<Figure size 1440x648 with 1 Axes>"
            ]
          },
          "metadata": {
            "needs_background": "light"
          }
        },
        {
          "output_type": "execute_result",
          "data": {
            "text/plain": [
              "count   23565.000\n",
              "mean       60.323\n",
              "std        35.657\n",
              "min        12.000\n",
              "25%        40.000\n",
              "50%        52.000\n",
              "75%        69.700\n",
              "max       900.000\n",
              "Name: total_area, dtype: float64"
            ]
          },
          "metadata": {},
          "execution_count": 76
        }
      ]
    },
    {
      "cell_type": "code",
      "metadata": {
        "id": "i3PK5qP0i8B3",
        "outputId": "7804396d-2c90-4379-ed6b-d0e6763797f2",
        "colab": {
          "base_uri": "https://localhost:8080/"
        }
      },
      "source": [
        "q75, q25 = np.percentile(data['total_area'], [75,25])\n",
        "iqr = q75 - q25\n",
        "min = q25 - (q25 +1.5*iqr)\n",
        "max = q75 + 1.5*iqr\n",
        "print('IQR: ', iqr)\n",
        "print('Граница нижнего уса: ', min)\n",
        "print('Граница верхнего уса: ', max)"
      ],
      "execution_count": 77,
      "outputs": [
        {
          "output_type": "stream",
          "name": "stdout",
          "text": [
            "IQR:  29.700000000000003\n",
            "Граница нижнего уса:  -44.55000000000001\n",
            "Граница верхнего уса:  114.25\n"
          ]
        }
      ]
    },
    {
      "cell_type": "markdown",
      "metadata": {
        "id": "QVMWcPA7i8B4"
      },
      "source": [
        "Из графика видно, что большинство квартир имеет площадь от 40 до 69 кв.м. График имеет вид распределения Пуасона. Минимальное и максимальное значения, в принципе, соответствуют действительности."
      ]
    },
    {
      "cell_type": "markdown",
      "metadata": {
        "id": "15_M1rH2i8B4"
      },
      "source": [
        "Цена"
      ]
    },
    {
      "cell_type": "code",
      "metadata": {
        "id": "OLxPvpUWi8B4",
        "outputId": "f55d5876-4cbf-438d-8a69-bb99e0b34c6c",
        "colab": {
          "base_uri": "https://localhost:8080/",
          "height": 1000
        }
      },
      "source": [
        "plt.figure(figsize =(20, 5))\n",
        "data.boxplot('last_price', \n",
        "            notch=True, \n",
        "            sym=\"o\", \n",
        "            vert=False,\n",
        "            widths = 0.1, \n",
        "            patch_artist = True)\n",
        "plt.ylabel('цена')\n",
        "plt.tick_params(axis = 'both',    #  Применяем параметры к обеим осям\n",
        "               which = 'major',    #  Применяем параметры к основным делениям\n",
        "               direction = 'inout',    #  Рисуем деления внутри и снаружи графика\n",
        "               length = 10,    #  Длинна делений\n",
        "               width = 4,     #  Ширина делений\n",
        "               color = 'g',    #  Цвет делений\n",
        "               pad = 10,    #  Расстояние между черточкой и ее подписью\n",
        "               labelsize = 12,    #  Размер подписи\n",
        "               labelcolor = 'g'    #  Цвет подписи\n",
        "               )\n",
        "\n",
        "plt.grid()\n",
        "plt.show()\n",
        "data['last_price'].hist(bins=100, range=(0, 70000000), figsize=(20,9))\n",
        "plt.xlabel('цена объекта недвижимости')\n",
        "plt.ylabel('частота значений')\n",
        "\n",
        "plt.tick_params(axis = 'both',    #  Применяем параметры к обеим осям\n",
        "               which = 'major',    #  Применяем параметры к основным делениям\n",
        "               direction = 'inout',    #  Рисуем деления внутри и снаружи графика\n",
        "               length = 10,    #  Длинна делений\n",
        "               width = 4,     #  Ширина делений\n",
        "               color = 'g',    #  Цвет делений\n",
        "               pad = 10,    #  Расстояние между черточкой и ее подписью\n",
        "               labelsize = 12,    #  Размер подписи\n",
        "               labelcolor = 'g'    #  Цвет подписи\n",
        "             )    #  Поворот подписей\n",
        "plt.axvline(label= 'Медиана', x=data['last_price'].median(),\n",
        "                linewidth=3, \n",
        "                color='red', \n",
        "                linestyle='--')\n",
        "plt.axvline(label= 'Q5%, Наблюдаемый минимум', x=data['last_price'].quantile(.05),\n",
        "                linewidth=3, \n",
        "                color='y', \n",
        "                linestyle='--')\n",
        "plt.axvline(label= 'Q95%, Наблюдаемый максимум', x=data['last_price'].quantile(.95),\n",
        "                linewidth=3, \n",
        "                color='y', \n",
        "                linestyle='--'\n",
        "           )\n",
        "\n",
        "plt.grid()\n",
        "plt.legend()\n",
        "plt.show()\n",
        "data['last_price'].describe()"
      ],
      "execution_count": 78,
      "outputs": [
        {
          "output_type": "display_data",
          "data": {
            "image/png": "[encoded data removed]",
            "text/plain": [
              "<Figure size 1440x360 with 1 Axes>"
            ]
          },
          "metadata": {
            "needs_background": "light"
          }
        },
        {
          "output_type": "display_data",
          "data": {
            "image/png": "[encoded data removed]",
            "text/plain": [
              "<Figure size 1440x648 with 1 Axes>"
            ]
          },
          "metadata": {
            "needs_background": "light"
          }
        },
        {
          "output_type": "execute_result",
          "data": {
            "text/plain": [
              "count       23565.000\n",
              "mean      6540058.260\n",
              "std      10910934.722\n",
              "min         12190.000\n",
              "25%       3400000.000\n",
              "50%       4646000.000\n",
              "75%       6790000.000\n",
              "max     763000000.000\n",
              "Name: last_price, dtype: float64"
            ]
          },
          "metadata": {},
          "execution_count": 78
        }
      ]
    },
    {
      "cell_type": "code",
      "metadata": {
        "id": "O7Ep0X41i8B4",
        "outputId": "29409431-0e0a-45f1-b935-0ea994fdd642",
        "colab": {
          "base_uri": "https://localhost:8080/"
        }
      },
      "source": [
        "q75, q25 = np.percentile(data['last_price'], [75,25])\n",
        "iqr = q75 - q25\n",
        "min = q25 - (q25 +1.5*iqr)\n",
        "max = q75 + 1.5*iqr\n",
        "print('IQR: ', iqr)\n",
        "print('Граница нижнего уса: ', min)\n",
        "print('Граница верхнего уса: ', max)"
      ],
      "execution_count": 79,
      "outputs": [
        {
          "output_type": "stream",
          "name": "stdout",
          "text": [
            "IQR:  3390000.0\n",
            "Граница нижнего уса:  -5085000.0\n",
            "Граница верхнего уса:  11875000.0\n"
          ]
        }
      ]
    },
    {
      "cell_type": "code",
      "metadata": {
        "id": "f5nVJ8J2i8B5",
        "outputId": "260ce371-2c9c-44d9-e473-498e6de8f013",
        "colab": {
          "base_uri": "https://localhost:8080/"
        }
      },
      "source": [
        "len(data[data['last_price'] > 11875000])"
      ],
      "execution_count": 80,
      "outputs": [
        {
          "output_type": "execute_result",
          "data": {
            "text/plain": [
              "2046"
            ]
          },
          "metadata": {},
          "execution_count": 80
        }
      ]
    },
    {
      "cell_type": "markdown",
      "metadata": {
        "id": "ddjhi8tki8B5"
      },
      "source": [
        "График имеет вид нормального распределения. В основном цены меняютья от 3400 тыс. руб до 6790 тысю руб. Наблюдаем очень низкое минимальное значение, скорее всего пользователь ошибся и указал цену аренды а не продажи, или просто забыл дописать несколько нулей. Такое значение всего одно, можем его не учитывать."
      ]
    },
    {
      "cell_type": "markdown",
      "metadata": {
        "id": "piU2FM0vi8B5"
      },
      "source": [
        "Рассмотри число комнат, как тут обстоят дела?"
      ]
    },
    {
      "cell_type": "code",
      "metadata": {
        "id": "zCQSuLuSi8B5",
        "outputId": "9546af0c-5872-4110-8b75-da3d0716b5a3",
        "colab": {
          "base_uri": "https://localhost:8080/"
        }
      },
      "source": [
        "data['rooms'].describe()"
      ],
      "execution_count": 81,
      "outputs": [
        {
          "output_type": "execute_result",
          "data": {
            "text/plain": [
              "count   23565.000\n",
              "mean        2.071\n",
              "std         1.079\n",
              "min         0.000\n",
              "25%         1.000\n",
              "50%         2.000\n",
              "75%         3.000\n",
              "max        19.000\n",
              "Name: rooms, dtype: float64"
            ]
          },
          "metadata": {},
          "execution_count": 81
        }
      ]
    },
    {
      "cell_type": "markdown",
      "metadata": {
        "id": "-62Ch3NBi8B6"
      },
      "source": [
        "Видим нулевые значения. Это явная ошибка изменим данные. С помощью уже созданной функции no_artefact."
      ]
    },
    {
      "cell_type": "code",
      "metadata": {
        "id": "TsDC5PFmi8B6",
        "outputId": "13f51a32-38f3-4c12-b8b7-35a59082684b",
        "colab": {
          "base_uri": "https://localhost:8080/"
        }
      },
      "source": [
        "len(data[data['rooms'] == 0])"
      ],
      "execution_count": 82,
      "outputs": [
        {
          "output_type": "execute_result",
          "data": {
            "text/plain": [
              "194"
            ]
          },
          "metadata": {},
          "execution_count": 82
        }
      ]
    },
    {
      "cell_type": "code",
      "metadata": {
        "id": "wjj4eJbhi8B6"
      },
      "source": [
        "data = no_artefact(data, 'rooms', 'total_area_group', 0, 20)\n"
      ],
      "execution_count": 83,
      "outputs": []
    },
    {
      "cell_type": "code",
      "metadata": {
        "id": "qyan3Kq_i8B7",
        "outputId": "6c507305-7f06-4088-8bf4-2146e8fbaf2f",
        "colab": {
          "base_uri": "https://localhost:8080/",
          "height": 869
        }
      },
      "source": [
        "plt.figure(figsize =(20, 5))\n",
        "data.boxplot('rooms', \n",
        "            notch=True, \n",
        "            sym=\"o\", \n",
        "            vert=False,\n",
        "            widths = 0.1, \n",
        "            patch_artist = True)\n",
        "plt.ylabel('количество комнат')\n",
        "plt.tick_params(axis = 'both',    #  Применяем параметры к обеим осям\n",
        "               which = 'major',    #  Применяем параметры к основным делениям\n",
        "               direction = 'inout',    #  Рисуем деления внутри и снаружи графика\n",
        "               length = 10,    #  Длинна делений\n",
        "               width = 4,     #  Ширина делений\n",
        "               color = 'g',    #  Цвет делений\n",
        "               pad = 10,    #  Расстояние между черточкой и ее подписью\n",
        "               labelsize = 12,    #  Размер подписи\n",
        "               labelcolor = 'g'    #  Цвет подписи\n",
        "               )\n",
        "\n",
        "plt.grid()\n",
        "plt.show()\n",
        "\n",
        "data['rooms'].hist(bins=20, range=(0, 10), figsize=(20,6))\n",
        "plt.xlabel('количество комнат')\n",
        "plt.ylabel('частота значений')\n",
        "\n",
        "plt.tick_params(axis = 'both',    #  Применяем параметры к обеим осям\n",
        "               which = 'major',    #  Применяем параметры к основным делениям\n",
        "               direction = 'inout',    #  Рисуем деления внутри и снаружи графика\n",
        "               length = 10,    #  Длинна делений\n",
        "               width = 4,     #  Ширина делений\n",
        "               color = 'g',    #  Цвет делений\n",
        "               pad = 10,    #  Расстояние между черточкой и ее подписью\n",
        "               labelsize = 12,    #  Размер подписи\n",
        "               labelcolor = 'g'    #  Цвет подписи\n",
        "             )    #  Поворот подписей\n",
        "plt.axvline(label= 'Медиана', x=data['rooms'].median(),\n",
        "                linewidth=3, \n",
        "                color='red', \n",
        "                linestyle='--')\n",
        "plt.axvline(label= 'Q5%, Наблюдаемый минимум', x=data['rooms'].quantile(.05),\n",
        "                linewidth=3, \n",
        "                color='y', \n",
        "                linestyle='--')\n",
        "plt.axvline(label= 'Q95%, Наблюдаемый максимум', x=data['rooms'].quantile(.95),\n",
        "                linewidth=3, \n",
        "                color='y', \n",
        "                linestyle='--'\n",
        "           )\n",
        "plt.grid()\n",
        "plt.legend()\n",
        "plt.show()\n",
        "data['rooms'].describe()\n"
      ],
      "execution_count": 84,
      "outputs": [
        {
          "output_type": "display_data",
          "data": {
            "image/png": "[encoded data removed]",
            "text/plain": [
              "<Figure size 1440x360 with 1 Axes>"
            ]
          },
          "metadata": {
            "needs_background": "light"
          }
        },
        {
          "output_type": "display_data",
          "data": {
            "image/png": "[encoded data removed]",
            "text/plain": [
              "<Figure size 1440x432 with 1 Axes>"
            ]
          },
          "metadata": {
            "needs_background": "light"
          }
        },
        {
          "output_type": "execute_result",
          "data": {
            "text/plain": [
              "count   23565.000\n",
              "mean        2.079\n",
              "std         1.066\n",
              "min         1.000\n",
              "25%         1.000\n",
              "50%         2.000\n",
              "75%         3.000\n",
              "max        19.000\n",
              "Name: rooms, dtype: float64"
            ]
          },
          "metadata": {},
          "execution_count": 84
        }
      ]
    },
    {
      "cell_type": "code",
      "metadata": {
        "id": "FYcNSPdRi8B7",
        "outputId": "da9f5e8b-0865-46b8-a77b-ddfa7b431976",
        "colab": {
          "base_uri": "https://localhost:8080/"
        }
      },
      "source": [
        "q75, q25 = np.percentile(data['rooms'], [75,25])\n",
        "iqr = q75 - q25\n",
        "min = q25 - (q25 +1.5*iqr)\n",
        "max = q75 + 1.5*iqr\n",
        "print('IQR: ', iqr)\n",
        "print('Граница нижнего уса: ', min)\n",
        "print('Граница верхнего уса: ', max)"
      ],
      "execution_count": 85,
      "outputs": [
        {
          "output_type": "stream",
          "name": "stdout",
          "text": [
            "IQR:  2.0\n",
            "Граница нижнего уса:  -3.0\n",
            "Граница верхнего уса:  6.0\n"
          ]
        }
      ]
    },
    {
      "cell_type": "markdown",
      "metadata": {
        "id": "jeK82V6ai8B7"
      },
      "source": [
        "Из гарфика видим что основное количество комнат от 1 до 3. Минимальное значение мы заменили. Максимальное думаю не нужно, тут всякое может быть )) 19 комнат это не предел."
      ]
    },
    {
      "cell_type": "markdown",
      "metadata": {
        "id": "23n1ktQSi8B7"
      },
      "source": [
        "Поссмотрим на высоту потолков. Так как мы уже убирали артефакты в этом столбце, думаю сюрпризов не будет."
      ]
    },
    {
      "cell_type": "markdown",
      "metadata": {
        "id": "MVknFs3ji8B8"
      },
      "source": [
        "Видим что основная высота потолков колеблется от 2,2 метра до 2,75 метра. Минимальные и максимальные значения соответствуют здравому смыслу."
      ]
    },
    {
      "cell_type": "markdown",
      "metadata": {
        "id": "FRQqPC4Gi8B9"
      },
      "source": [
        "Мы посмотрели на основные параметры объекта недвижимости, которые могут повлиять на цену квадратного метра. Почистили артефакты. Посмотрим как долго продаются квартиры.\n",
        "Изучим время продажи квартиры. Пострим гистограмму. Посчитаем среднее и медиану. Опишим, сколько обычно занимает продажа. Когда можно считать, что продажи прошли очень быстро, а когда необычно долго?"
      ]
    },
    {
      "cell_type": "code",
      "metadata": {
        "id": "Y-uHsGqui8B9",
        "outputId": "a7702b27-b132-4d55-f094-7f2be7c05470",
        "colab": {
          "base_uri": "https://localhost:8080/"
        }
      },
      "source": [
        "\n",
        "print('Среднее время продажи объекта недвижимости: {:.1f} дней.'.format(data['days_exposition'].mean()))\n",
        "print(' ')\n",
        "print('Медиана времени прадажи объекта недвижимости: {} дней.'.format(data['days_exposition'].median()))"
      ],
      "execution_count": 86,
      "outputs": [
        {
          "output_type": "stream",
          "name": "stdout",
          "text": [
            "Среднее время продажи объекта недвижимости: 180.7 дней.\n",
            " \n",
            "Медиана времени прадажи объекта недвижимости: 95.0 дней.\n"
          ]
        }
      ]
    },
    {
      "cell_type": "markdown",
      "metadata": {
        "id": "I30mGZwDi8B9"
      },
      "source": [
        "Медиана очень отличается от среднего значения, скорее всего это связанно с недостоверными значениями в столбце."
      ]
    },
    {
      "cell_type": "code",
      "metadata": {
        "id": "S85k5ROLi8B-",
        "outputId": "ed69dc43-dc98-4b5b-a652-51c0d6c8d77c",
        "colab": {
          "base_uri": "https://localhost:8080/",
          "height": 554
        }
      },
      "source": [
        "data['days_exposition'].hist(bins=50, range=(0, 1800), figsize=(20,6))\n",
        "plt.xlabel('кол-во дней в продаже')\n",
        "plt.ylabel('частота значений')\n",
        "\n",
        "plt.tick_params(axis = 'both',    #  Применяем параметры к обеим осям\n",
        "               which = 'major',    #  Применяем параметры к основным делениям\n",
        "               direction = 'inout',    #  Рисуем деления внутри и снаружи графика\n",
        "               length = 10,    #  Длинна делений\n",
        "               width = 4,     #  Ширина делений\n",
        "               color = 'g',    #  Цвет делений\n",
        "               pad = 10,    #  Расстояние между черточкой и ее подписью\n",
        "               labelsize = 12,    #  Размер подписи\n",
        "               labelcolor = 'g'    #  Цвет подписи\n",
        "             )    #  Поворот подписей\n",
        "plt.axvline(label= 'Медиана', x=data['days_exposition'].median(),\n",
        "                linewidth=3, \n",
        "                color='red', \n",
        "                linestyle='--')\n",
        "plt.axvline(label= 'Q5%, Наблюдаемый минимум', x=data['days_exposition'].quantile(.05),\n",
        "                linewidth=3, \n",
        "                color='y', \n",
        "                linestyle='--')\n",
        "plt.axvline(label= 'Q95%, Наблюдаемый максимум', x=data['days_exposition'].quantile(.95),\n",
        "                linewidth=3, \n",
        "                color='y', \n",
        "                linestyle='--'\n",
        "           )\n",
        "plt.grid()\n",
        "plt.legend()\n",
        "\n",
        "plt.show()\n",
        "data['days_exposition'].describe()"
      ],
      "execution_count": 87,
      "outputs": [
        {
          "output_type": "display_data",
          "data": {
            "image/png": "[encoded data removed]",
            "text/plain": [
              "<Figure size 1440x432 with 1 Axes>"
            ]
          },
          "metadata": {
            "needs_background": "light"
          }
        },
        {
          "output_type": "execute_result",
          "data": {
            "text/plain": [
              "count   20394.000\n",
              "mean      180.741\n",
              "std       219.733\n",
              "min         1.000\n",
              "25%        45.000\n",
              "50%        95.000\n",
              "75%       231.000\n",
              "max      1580.000\n",
              "Name: days_exposition, dtype: float64"
            ]
          },
          "metadata": {},
          "execution_count": 87
        }
      ]
    },
    {
      "cell_type": "code",
      "metadata": {
        "id": "40f6negOi8B-",
        "outputId": "23b0cdfc-8813-40b3-f6ac-6c99c7585f69",
        "colab": {
          "base_uri": "https://localhost:8080/"
        }
      },
      "source": [
        "len(data[data['days_exposition'] > 365])"
      ],
      "execution_count": 88,
      "outputs": [
        {
          "output_type": "execute_result",
          "data": {
            "text/plain": [
              "3042"
            ]
          },
          "metadata": {},
          "execution_count": 88
        }
      ]
    },
    {
      "cell_type": "markdown",
      "metadata": {
        "id": "IwVj0anTi8B-"
      },
      "source": [
        "Видим, что в основном люди продают объект недвижимости за 45 - 198 дней (1,5 мес до 6,5 мес). Но есть и объявления которые висели 4,3 года. Даже объявлений с размещением более года - 3025 шт. Может быть пользователи просто забыли снять объявления с продажи или все таки это реальные объявления?\n",
        "Посмотрим диаграмму размаха, что она нам скажет."
      ]
    },
    {
      "cell_type": "code",
      "metadata": {
        "id": "wYXjqPfKi8B-",
        "outputId": "da300e81-41e7-49c1-8ed2-dffbcfce19c2",
        "colab": {
          "base_uri": "https://localhost:8080/",
          "height": 288
        }
      },
      "source": [
        "plt.ylim(0, 1600)\n",
        "data.boxplot('days_exposition')"
      ],
      "execution_count": 89,
      "outputs": [
        {
          "output_type": "execute_result",
          "data": {
            "text/plain": [
              "<matplotlib.axes._subplots.AxesSubplot at 0x7ff7d5e47b50>"
            ]
          },
          "metadata": {},
          "execution_count": 89
        },
        {
          "output_type": "display_data",
          "data": {
            "image/png": "[encoded data removed]",
            "text/plain": [
              "<Figure size 432x288 with 1 Axes>"
            ]
          },
          "metadata": {
            "needs_background": "light"
          }
        }
      ]
    },
    {
      "cell_type": "markdown",
      "metadata": {
        "id": "WQuuBizPi8B_"
      },
      "source": [
        "Из диаграмы размаха мы видим, что в основном объявление находится в продаже 96 дней. Посмотрим на усы диаграммы. Быстрой считаеться продажа за 1 - 45 дней, долгой считаеться продажа от 430 дней. Что, в принципе, соответствует правде. 1,5 года достаточно чтобы найти покупателя и продать картиру. Необходимо убрать редкие и выбивающиеся значения. Предлагаю считать значение 600 дней как максимум, остальные значения достаточно редки и слишком превышают нормальные значения."
      ]
    },
    {
      "cell_type": "code",
      "metadata": {
        "id": "D_j5KO3Mi8B_",
        "outputId": "1c330f21-b011-4c50-c819-a847dcc0a088",
        "colab": {
          "base_uri": "https://localhost:8080/"
        }
      },
      "source": [
        "len(data[data['days_exposition'] > 600])"
      ],
      "execution_count": 90,
      "outputs": [
        {
          "output_type": "execute_result",
          "data": {
            "text/plain": [
              "1193"
            ]
          },
          "metadata": {},
          "execution_count": 90
        }
      ]
    },
    {
      "cell_type": "markdown",
      "metadata": {
        "id": "SkXNf73ui8B_"
      },
      "source": [
        "Чтобы не потерять данные (хоть и количество дней продажи завышено, но остальные параметра квартир достоверны и пригодятся нам) применим функцию no_artefact заменим все значения выше 600 на медианные значения объявлений с похожей общей площадью."
      ]
    },
    {
      "cell_type": "code",
      "metadata": {
        "id": "hbun5gQzi8B_"
      },
      "source": [
        "data = no_artefact(data, 'days_exposition', 'total_area_group', 0, 600)"
      ],
      "execution_count": 91,
      "outputs": []
    },
    {
      "cell_type": "code",
      "metadata": {
        "id": "rZ1r7r0Bi8CA",
        "outputId": "0c2217a7-d0bc-4b7e-9361-e9d452c5b64f",
        "colab": {
          "base_uri": "https://localhost:8080/"
        }
      },
      "source": [
        "len(data[data['days_exposition'] > 600])"
      ],
      "execution_count": 92,
      "outputs": [
        {
          "output_type": "execute_result",
          "data": {
            "text/plain": [
              "0"
            ]
          },
          "metadata": {},
          "execution_count": 92
        }
      ]
    },
    {
      "cell_type": "code",
      "metadata": {
        "id": "ekJRa-dmi8CA",
        "outputId": "95073289-00ee-4616-8d11-34fb98756284",
        "colab": {
          "base_uri": "https://localhost:8080/",
          "height": 426
        }
      },
      "source": [
        "plt.ylim(0, 600)\n",
        "data.boxplot('days_exposition')\n",
        "plt.show()\n",
        "data['days_exposition'].describe()"
      ],
      "execution_count": 93,
      "outputs": [
        {
          "output_type": "display_data",
          "data": {
            "image/png": "[encoded data removed]",
            "text/plain": [
              "<Figure size 432x288 with 1 Axes>"
            ]
          },
          "metadata": {
            "needs_background": "light"
          }
        },
        {
          "output_type": "execute_result",
          "data": {
            "text/plain": [
              "count   20394.000\n",
              "mean      139.320\n",
              "std       132.855\n",
              "min         1.000\n",
              "25%        45.000\n",
              "50%        95.000\n",
              "75%       184.000\n",
              "max       600.000\n",
              "Name: days_exposition, dtype: float64"
            ]
          },
          "metadata": {},
          "execution_count": 93
        }
      ]
    },
    {
      "cell_type": "markdown",
      "metadata": {
        "id": "bbIuYNKEi8CA"
      },
      "source": [
        "Мы убрали редкие и выбивающиеся значения, благодаря этому средние значение уменьшилось до 134 дней. \n",
        "Данные очищены. \n",
        "Теперь ответим на следующие вопросы.\n",
        "Какие факторы больше всего влияют на стоимость квартиры? Зависит ли цена от площади, числа комнат, удалённости от центра. Есть ли, зависимость цены от того, на каком этаже расположена квартира: первом, последнем или другом. Также посмотрим зависимость от даты размещения: дня недели, месяца и года."
      ]
    },
    {
      "cell_type": "code",
      "metadata": {
        "scrolled": false,
        "id": "CWRcu5YHi8CB",
        "outputId": "4ce8edbc-0d47-42cc-d547-0ac611e8e050",
        "colab": {
          "base_uri": "https://localhost:8080/",
          "height": 362
        }
      },
      "source": [
        "stat = data.loc[:, ['total_area', 'rooms', 'city_centers_nearest', 'sqmetr_price']]\n",
        "\n",
        "corrMatrix = stat.corr()\n",
        "sn.heatmap(corrMatrix, annot=True)\n",
        "plt.show()"
      ],
      "execution_count": 94,
      "outputs": [
        {
          "output_type": "display_data",
          "data": {
            "image/png": "[encoded data removed]",
            "text/plain": [
              "<Figure size 432x288 with 2 Axes>"
            ]
          },
          "metadata": {
            "needs_background": "light"
          }
        }
      ]
    },
    {
      "cell_type": "markdown",
      "metadata": {
        "id": "rIAQbMHni8CB"
      },
      "source": [
        "Мы построили матрицу корреляции, по данным которой очевидной взамосвязи между ценой квадратно метра, общей площадью, количеством комнат, удаленностью от центра нет. Может быть есть связь между ценой кв.метра и этажом квартиры?"
      ]
    },
    {
      "cell_type": "markdown",
      "metadata": {
        "id": "Q6N35dkVi8CB"
      },
      "source": [
        "Создадим сводную таблицу с нименоваанием этажа и средней ценой за кв.метр."
      ]
    },
    {
      "cell_type": "code",
      "metadata": {
        "id": "9SWHfcoyi8CB",
        "outputId": "be13e893-67cb-43fe-9673-de4d991b8c6f",
        "colab": {
          "base_uri": "https://localhost:8080/",
          "height": 280
        }
      },
      "source": [
        "data.pivot_table(index='name_floor', values='sqmetr_price').plot()\n",
        "plt.show()"
      ],
      "execution_count": 95,
      "outputs": [
        {
          "output_type": "display_data",
          "data": {
            "image/png": "[encoded data removed]",
            "text/plain": [
              "<Figure size 432x288 with 1 Axes>"
            ]
          },
          "metadata": {
            "needs_background": "light"
          }
        }
      ]
    },
    {
      "cell_type": "markdown",
      "metadata": {
        "id": "Xk__Dm4si8CC"
      },
      "source": [
        "Видим, что в среднем самую низкую цену за квадратный метр, дают за квартиры на первом этаже, затем на последнем этаже. Больше всего платят за квадратный метр квартиры ни на первом и ни на последнем этаже. Посмотрим как средняя цена за квадрат зависит от дня недели, месяца и года подачи объявления."
      ]
    },
    {
      "cell_type": "code",
      "metadata": {
        "scrolled": false,
        "id": "-IXp_pMri8CC",
        "outputId": "965a1814-ae7b-471d-fe23-143613ded16c",
        "colab": {
          "base_uri": "https://localhost:8080/",
          "height": 854
        }
      },
      "source": [
        "data.pivot_table(index='weekday_exposition', values='last_price').plot(title='Распределение цены квартиры по дням недели')\n",
        "data.pivot_table(index='month_exposition', values='last_price').plot(title='Распределение цены квартиры по месяца года')\n",
        "data.pivot_table(index='year_exposition', values='last_price').plot(title='Распределение цены квартиры по годам')\n",
        "plt.show()\n"
      ],
      "execution_count": 96,
      "outputs": [
        {
          "output_type": "display_data",
          "data": {
            "image/png": "[encoded data removed]",
            "text/plain": [
              "<Figure size 432x288 with 1 Axes>"
            ]
          },
          "metadata": {
            "needs_background": "light"
          }
        },
        {
          "output_type": "display_data",
          "data": {
            "image/png": "[encoded data removed]",
            "text/plain": [
              "<Figure size 432x288 with 1 Axes>"
            ]
          },
          "metadata": {
            "needs_background": "light"
          }
        },
        {
          "output_type": "display_data",
          "data": {
            "image/png": "[encoded data removed]",
            "text/plain": [
              "<Figure size 432x288 with 1 Axes>"
            ]
          },
          "metadata": {
            "needs_background": "light"
          }
        }
      ]
    },
    {
      "cell_type": "markdown",
      "metadata": {
        "id": "k7xUNnZWi8CC"
      },
      "source": [
        "Что видим в этих графиках. Объявления с самой низкой ценой обычно подают в воскресенье, а самой высокой ценой в четверг. Если смотреть по месяцам, в апреле больше всех объявлений с самой высокой средней ценой за квадратный метр, в июне и октябре подаются объявления с самой низкой ценой за квадратный метр. Намного интереснее посмотреть на цену за кв.метр в разрере последних лет. Видно, что цена снижалась до 2017 годаб в 2018 незначительный рост, можно было хорошо съекономить купив квартиру в 2017 или 2018 году. С 2019 году видим значительный рост цены кв.метр до уровня 2015 года.\n",
        "Но вернемся к нашему исследованию. Выберем 10 населённых пунктов с наибольшим числом объявлений. Посчитаем среднюю цену квадратного метра в этих населённых пунктах. Выделим среди них населённые пункты с самой высокой и низкой стоимостью жилья."
      ]
    },
    {
      "cell_type": "markdown",
      "metadata": {
        "id": "zV8M9AQzi8CC"
      },
      "source": [
        "<div class=\"alert alert-warning\">\n",
        "    <h2> Комментарий ревьюера <a class=\"tocSkip\"> </h2>\n",
        "    \n",
        "<b>Некоторые замечания и рекомендации💡:</b> \n",
        "        \n",
        "Что могу посоветовать для улучшения работы:\n",
        "        \n",
        "1) возможно, для количественных переменных было бы удобнее выводить коэффициенты корреляции в единой корреляционной таблице или использовать график типа `heatmap` \n",
        "        \n",
        "https://datatofish.com/correlation-matrix-pandas/ (построение корреляционной матрицы с помощью Python)\n",
        "\n",
        "        \n",
        "https://stackoverflow.com/questions/29432629/plot-correlation-matrix-using-pandas (полезный тред на Stackoverflow, очень полезный ресурс для кодеров, советую, с помощью него можно решить практически все проблемы, которые возникают у тебя при работе с кодом)\n",
        "        \n",
        "https://likegeeks.com/python-correlation-matrix/ (еще один туториал)\n",
        "\n",
        "2) корреляцию лучше посчитать для количественных переменных, для категориальных же адекватнее использовать графический метод (столбчатые диаграммы для анализа категорий этажности, дня, месяца и года подачи объявления о продаже квартиры, количества комнат) Сейчас ты используешь линейные графики для анализа этих факторов, в этом нет ошибки, но, кажется, что визуально этот тип графика менее подходит для анализа такого рода переменных.\n",
        "    \n",
        "3) графики лучше дооформить!"
      ]
    },
    {
      "cell_type": "code",
      "metadata": {
        "id": "d-BsFTSWi8CD",
        "outputId": "131bd25d-6185-4b1a-8cd8-d73d3f7402e8",
        "colab": {
          "base_uri": "https://localhost:8080/"
        }
      },
      "source": [
        "data_1 = data['locality_name'].value_counts().head(10)\n",
        "data10 = data.query('locality_name in @data_1.index')\n",
        "data10['locality_name'].value_counts()"
      ],
      "execution_count": 97,
      "outputs": [
        {
          "output_type": "execute_result",
          "data": {
            "text/plain": [
              "санкт-петербург      15651\n",
              "поселок мурино         552\n",
              "поселок шушары         439\n",
              "всеволожск             398\n",
              "пушкин                 369\n",
              "колпино                338\n",
              "поселок парголово      327\n",
              "гатчина                307\n",
              "деревня кудрово        299\n",
              "выборг                 237\n",
              "Name: locality_name, dtype: int64"
            ]
          },
          "metadata": {},
          "execution_count": 97
        }
      ]
    },
    {
      "cell_type": "markdown",
      "metadata": {
        "id": "4oBV1dPmi8CD"
      },
      "source": [
        "Это наши ТОП-10. На первом месте, ожидаемо, Санкт-Петербург. Найдем Среднюю цену кв.метра в этих населенных пунктах."
      ]
    },
    {
      "cell_type": "code",
      "metadata": {
        "id": "2Kam8zbJi8CE",
        "outputId": "f62499d5-fbb8-4990-f7cd-1a889c9eec73",
        "colab": {
          "base_uri": "https://localhost:8080/",
          "height": 494
        }
      },
      "source": [
        "d2 = data10.pivot_table(index ='locality_name', values='sqmetr_price').reset_index()\n",
        "d2.plot(x= 'locality_name', y='sqmetr_price', kind='bar', figsize =(20, 6), title= 'ТОП-10 городов с самыми высокими ценами', legend = True)\n",
        "x1 = plt.axhline(y= d2['sqmetr_price'].min(),\n",
        "           linewidth=3, \n",
        "                color='r', \n",
        "                linestyle='--',\n",
        "           label = 'минимум')\n",
        "x2 = plt.axhline(y= d2['sqmetr_price'].max(),\n",
        "           linewidth=3, \n",
        "                color='y', \n",
        "                linestyle='--',\n",
        "           label = 'максимум')\n",
        "plt.legend(handles=[x1, x2], title='Значение линий', bbox_to_anchor=(1.05, 1), loc='upper left')\n",
        "plt.title= 'ТОП-10 городов с самыми высокими ценами'\n",
        "plt.show()"
      ],
      "execution_count": 98,
      "outputs": [
        {
          "output_type": "display_data",
          "data": {
            "image/png": "[encoded data removed]",
            "text/plain": [
              "<Figure size 1440x432 with 1 Axes>"
            ]
          },
          "metadata": {
            "needs_background": "light"
          }
        }
      ]
    },
    {
      "cell_type": "markdown",
      "metadata": {
        "id": "XlJ4DQYTi8CE"
      },
      "source": [
        "Из графика видим. Набольшая цена кв.метра - Санкт петербург, наименьшая - выборг."
      ]
    },
    {
      "cell_type": "markdown",
      "metadata": {
        "id": "AxN0zTYgi8CE"
      },
      "source": [
        "Изучим предложения квартир: для каждой квартиры есть информация о расстоянии до центра. Выделим квартиры в Санкт-Петербурге. Наша задача — выяснить, какая область входит в центр. Создадим столбец с расстоянием до центра в километрах: округлим до целых значений. После этого посчитаем среднюю цену для каждого километра. Построим график: он должен показывать, как цена зависит от удалённости от центра. Определим границу, где график сильно меняется — это и будет центральная зона.\n"
      ]
    },
    {
      "cell_type": "code",
      "metadata": {
        "id": "-BhaYjP1i8CF"
      },
      "source": [
        "\n",
        "data1 = data[data['locality_name'] == 'санкт-петербург']\n",
        "data1['city_centers_nearest_km'] = data1['city_centers_nearest'] / 1000\n",
        "data1['city_centers_nearest_km'] = data1['city_centers_nearest_km'].apply(np.floor)\n"
      ],
      "execution_count": 99,
      "outputs": []
    },
    {
      "cell_type": "code",
      "metadata": {
        "id": "hGhOJl6ni8CF",
        "outputId": "7941113f-e1a0-4392-d293-33c09bc01bee",
        "colab": {
          "base_uri": "https://localhost:8080/",
          "height": 404
        }
      },
      "source": [
        "X_1 = data1.pivot_table(index='city_centers_nearest_km', values='sqmetr_price', aggfunc='mean').reset_index()\n",
        "X_1.plot(x= 'city_centers_nearest_km', y='sqmetr_price', kind='line',  figsize =(20, 6), title= 'Распределение цены за квадрат в зависимости от удаленности от центра', xlim=(0, 15))\n",
        "plt.xlabel('Растояние от центра, км')\n",
        "plt.ylabel('Значение цены кв.м.')\n",
        "plt.show()"
      ],
      "execution_count": 100,
      "outputs": [
        {
          "output_type": "display_data",
          "data": {
            "image/png": "[encoded data removed]",
            "text/plain": [
              "<Figure size 1440x432 with 1 Axes>"
            ]
          },
          "metadata": {
            "needs_background": "light"
          }
        }
      ]
    },
    {
      "cell_type": "markdown",
      "metadata": {
        "id": "q_HBzbGBi8CF"
      },
      "source": [
        "Наблюдаем резкое падение цены квадратного метра после 7-8 км. Следовательно центром можно считать область радиусом 10 км. от центра."
      ]
    },
    {
      "cell_type": "markdown",
      "metadata": {
        "id": "eGHYTl5Vi8CG"
      },
      "source": [
        "Затем выделим сегмент квартир в центре. Проанализируем эту территорию и изучим следующие параметры: площадь, цена, число комнат, высота потолков. Также выделим факторы, которые влияют на стоимость квартиры (этаж, удалённость от центра, дата размещения объявления). Сделаем выводы. Отличаются ли они от общих выводов по всему городу?"
      ]
    },
    {
      "cell_type": "code",
      "metadata": {
        "id": "gvdUxoXZi8CG",
        "outputId": "ea30e7be-be24-4383-c65a-88d3bbda0d9d",
        "colab": {
          "base_uri": "https://localhost:8080/",
          "height": 382
        }
      },
      "source": [
        "data_cen = data1.query('city_centers_nearest_km < 10')\n",
        "data_cen['city_centers_nearest_km'] = data_cen['city_centers_nearest_km'].apply(np.floor)\n",
        "data_cen1 = data_cen.loc[:, ['ceiling_height', 'total_area', 'city_centers_nearest_km', 'rooms', 'sqmetr_price']]\n",
        "corrMatrix = data_cen1.corr()\n",
        "sn.heatmap(corrMatrix, annot=True)\n",
        "plt.show()"
      ],
      "execution_count": 101,
      "outputs": [
        {
          "output_type": "display_data",
          "data": {
            "image/png": "[encoded data removed]",
            "text/plain": [
              "<Figure size 432x288 with 2 Axes>"
            ]
          },
          "metadata": {
            "needs_background": "light"
          }
        }
      ]
    },
    {
      "cell_type": "markdown",
      "metadata": {
        "id": "oPQAT2D6i8CH"
      },
      "source": [
        "Между ценой за квадратный метр, общей площадью, количество комнат, и расстоянием от центра так же как и по всем населенным пунктам взаимосвязи нет. Рассмотрим такие параметры как этаж, время размещения объявления."
      ]
    },
    {
      "cell_type": "code",
      "metadata": {
        "id": "7883BMxAi8CH",
        "outputId": "fa7e9a66-2524-4f28-a24c-49e06333b591",
        "colab": {
          "base_uri": "https://localhost:8080/",
          "height": 560
        }
      },
      "source": [
        "ax = data_cen.pivot_table(index='name_floor', values='sqmetr_price').plot(kind='bar', title= 'Данные по Санкт-Петербургу', color='y')\n",
        "d = data.pivot_table(index='name_floor', values='sqmetr_price').plot(kind='bar', title= 'Сравнение средней цены в центре города и остальной области по дням недели', ax=ax, figsize=(20,8))\n",
        "plt.xlabel('наменование этажа')\n",
        "plt.ylabel('Значение цены за кв.м.')\n",
        "plt.show()"
      ],
      "execution_count": 102,
      "outputs": [
        {
          "output_type": "display_data",
          "data": {
            "image/png": "[encoded data removed]",
            "text/plain": [
              "<Figure size 1440x576 with 1 Axes>"
            ]
          },
          "metadata": {
            "needs_background": "light"
          }
        }
      ]
    },
    {
      "cell_type": "markdown",
      "metadata": {
        "id": "R4tczPmQi8CH"
      },
      "source": [
        "Мы видим что, квартиры на первом этаже так же стоят дешевле чем на остальных этажах. Снижение цены на последние этажи отсутствует."
      ]
    },
    {
      "cell_type": "code",
      "metadata": {
        "id": "99EQltD1i8CH",
        "outputId": "7835c490-1ea7-48b8-c509-0c086e2f0af1",
        "colab": {
          "base_uri": "https://localhost:8080/",
          "height": 509
        }
      },
      "source": [
        "ax = data_cen.pivot_table(index='weekday_exposition', values='sqmetr_price').plot(kind='bar', title= 'Данные по Санкт-Петербургу', color='y')\n",
        "d = data.pivot_table(index='weekday_exposition', values='sqmetr_price').plot(kind='bar', title= 'Сравнение средней цены в центре города и остальной области по дням недели', ax=ax, figsize=(20,8))\n",
        "plt.xlabel('дни недели')\n",
        "plt.ylabel('Значение цены за кв.м.')\n",
        "plt.show()"
      ],
      "execution_count": 103,
      "outputs": [
        {
          "output_type": "display_data",
          "data": {
            "image/png": "[encoded data removed]",
            "text/plain": [
              "<Figure size 1440x576 with 1 Axes>"
            ]
          },
          "metadata": {
            "needs_background": "light"
          }
        }
      ]
    },
    {
      "cell_type": "markdown",
      "metadata": {
        "id": "TdTwbLydi8CH"
      },
      "source": [
        "Посмотрев данные по дням недели, можно сделать вывод, что ярко выраженного минимума нет, все дни кроме субботы примерно равны. В субботу пользователи подают объявления на продажу квартир.с самым дорогим квадратным метром."
      ]
    },
    {
      "cell_type": "code",
      "metadata": {
        "id": "9kdvhYi1i8CI",
        "outputId": "6df79e02-bc8d-45ee-d3c5-33a5a3680bad",
        "colab": {
          "base_uri": "https://localhost:8080/",
          "height": 516
        }
      },
      "source": [
        "\n",
        "ax = data_cen.pivot_table(index='month_exposition', values='sqmetr_price').plot(kind='bar', title= 'Данные по Санкт-Петербургу', color='y')\n",
        "d = data.pivot_table(index='month_exposition', values='sqmetr_price').plot(kind='bar', title= 'Сравнение средней цены в центре города и остальной области по месяцам', ax=ax, figsize=(20,8))\n",
        "plt.xlabel('месяца года')\n",
        "plt.ylabel('Значение цены за кв.м.')\n",
        "plt.show()"
      ],
      "execution_count": 104,
      "outputs": [
        {
          "output_type": "display_data",
          "data": {
            "image/png": "[encoded data removed]",
            "text/plain": [
              "<Figure size 1440x576 with 1 Axes>"
            ]
          },
          "metadata": {
            "needs_background": "light"
          }
        }
      ]
    },
    {
      "cell_type": "markdown",
      "metadata": {
        "id": "7kXMPG0Hi8CI"
      },
      "source": [
        "Данные о размещении объявлений по месяцом приблизительно равны. Разницы между пригородом и мегаполисом нет."
      ]
    },
    {
      "cell_type": "code",
      "metadata": {
        "id": "kfly2N8Ti8CI",
        "outputId": "94d7aae7-ac8b-40e7-ac92-d8435df14969",
        "colab": {
          "base_uri": "https://localhost:8080/",
          "height": 528
        }
      },
      "source": [
        "ax = data_cen.pivot_table(index='year_exposition', values='sqmetr_price').plot(kind='bar', title= 'Данные по Санкт-Петербургу', color='y')\n",
        "d = data.pivot_table(index='year_exposition', values='sqmetr_price').plot(kind='bar', title= 'Сравнение средней цены в центре города и остальной области по годам', ax=ax, figsize=(20,8))\n",
        "plt.xlabel('года')\n",
        "plt.ylabel('Значение цены за кв.м.')\n",
        "plt.show()"
      ],
      "execution_count": 105,
      "outputs": [
        {
          "output_type": "display_data",
          "data": {
            "image/png": "[encoded data removed]",
            "text/plain": [
              "<Figure size 1440x576 with 1 Axes>"
            ]
          },
          "metadata": {
            "needs_background": "light"
          }
        }
      ]
    },
    {
      "cell_type": "markdown",
      "metadata": {
        "id": "1J9Qkpk_i8CI"
      },
      "source": [
        "Данные по годам так же отличаються незначительно."
      ]
    },
    {
      "cell_type": "markdown",
      "metadata": {
        "id": "nkbXikxSi8CJ"
      },
      "source": [
        "### Вывод\n"
      ]
    },
    {
      "cell_type": "markdown",
      "metadata": {
        "id": "kkyCT0N8i8CJ"
      },
      "source": [
        "Мы изучили параметры объекта недвижости которые могут повлиять цену квадратного метра. Рассмотрели эти параметры в отдельности и постарались определить взаимосвязь между ними и ценой квадратного метра. Определили центр мегаполиса и рассмотрели теже параметры квартир но уже расположенных в центре города. Исследование не выявило явной взаимосвязи между параметрами. Странно но, даже корреляция между ценой квадратного метра и удаления от центра всего: - 0.318. "
      ]
    },
    {
      "cell_type": "markdown",
      "metadata": {
        "id": "d0TDkCyDi8CK"
      },
      "source": [
        "## Общий вывод"
      ]
    },
    {
      "cell_type": "markdown",
      "metadata": {
        "id": "sNlCnhvyi8CK"
      },
      "source": [
        "Была проделана большая работа. Нам были предоставлны данные сервиса Яндекс.Недвижимость — архив объявлений о продаже квартир в Санкт-Петербурге и соседних населённых пунктах за несколько лет. Нужно было научиться определять рыночную стоимость объектов недвижимости. Наша задача — установить параметры. Это позволит построить автоматизированную систему: она отследит аномалии и мошенническую деятельность. Для этого была проведена предоработка данных. Были определены пропуски и аномальные данные которые мы с помощью функций no_NAN и no_artefact, переписали на медианные значения. Так же изменили типы данных столбцов необходимых нам в дальнейших расчетах. Были дабавлены такие парметры как цена квадратного метра, день, месяц и год подачи объявления. Мы подробно рассмотрели данные из стобца days_exposition — сколько дней было размещено объявление. С помощью диаграмы размаха определили редкие и выбивающиеся значения. Их так же заменили на медианные значения. Затем постарались определить корреляцию меджу ценой квадратного метра и таким параметрами как - площадь квартиры, количество комнат, высота потолков, этаж квартиры, удаление от центра. К сожалению явной взамосвязи я не нашел. даже корреляция между ценой квадратного метра и удаления от центра всего: - 0.318. Затем были рассмотрены объявления картир из Санкт-петербурга. Рассмотрев взамосвязь между ценой квадратно метра и расположением квартиры от центра города мы опредлелили область центра города - 10 км. Затем постарались определить корреляцию меджу ценой квадратного метра и таким параметрами как - площадь квартиры, количество комнат, высота потолков, этаж квартиры, удаление от центра, но уже в ценре города. К сожалению явной связи так же нет. Подводя итог, можно сказать либо мои исследования не верны, либо отсутсвие связи это сам по себе результат. т.е. обяъявления имеющие явную связь между вышеказанными параметрами могут быть аномалиями или мошейнической деятельностью."
      ]
    },
    {
      "cell_type": "markdown",
      "metadata": {
        "id": "8_acenyzi8CK"
      },
      "source": [
        "<div class=\"alert alert-info\">\n",
        "    <h2> Комментарий студента <a class=\"tocSkip\"> </h2>\n",
        "    \n",
        "        \n",
        "Обобщив данные можно сказать, что мы определили папаметры \"нормальной\" квартиры - общая площать не больше 114 кв.м., ценой не больше 6 790 000 руб., не больше 6 комнат, такая квартира будет продана не дольше чем за 435 дней. Так же стоимость объекта недвижимости зависит только от удаленности от центра города."
      ]
    },
    {
      "cell_type": "markdown",
      "metadata": {
        "id": "9yqI-8tNi8CK"
      },
      "source": [
        "<div class=\"alert alert-block alert-danger\">\n",
        "<h2> Комментарий ревьюера <a class=\"tocSkip\"></h2>\n",
        "\n",
        "    \n",
        "<b>На доработку🤔:</b>\n",
        "\n",
        "Андрей, если ты вспомнишь инструкцию к проекту, то основная цель звучит так: \n",
        "    \n",
        "`В вашем распоряжении данные сервиса Яндекс.Недвижимость — архив объявлений о продаже квартир в Санкт-Петербурге и соседних населённых пунктах за несколько лет. Нужно научиться определять рыночную стоимость объектов недвижимости. Ваша задача — установить параметры. Это позволит построить автоматизированную систему: она отследит аномалии и мошенническую деятельность.`\n",
        "    \n",
        "Поэтому в итоговом выводе важно не просто суммировать свои действия в рамках реализации анализа, а также дать рекомендации заказчику. Попробуй подумать, какие это могут быть рекомендации, и сформулировав их, добавь в итоговый вывод по проекту."
      ]
    },
    {
      "cell_type": "markdown",
      "metadata": {
        "id": "H7TRH-oSi8CL"
      },
      "source": [
        "<div style=\"border:solid Chocolate 2px; padding: 40px\">\n",
        "\n",
        "**Общий вывод по проекту**\n",
        "\n",
        "Андрей, спасибо за твой проект! Ты приложил много усилий, чтобы довести его до конца, фактически все задачи в рамках проекта у тебя получились, проделана огромная работа, и это видно невооруженным глазом, ты большой молодец! Есть несколько важных моментов, которые я отметила и которые можно было бы улучшить, подсказки ты найдешь в моих комментариях. \n",
        "\n",
        "**Отмечу отдельные положительные моменты проекта🙂**:\n",
        " \n",
        "* На разных шагах проекта ты предлагал очень интересные решения и методы для их реализации. Хорошая работа!\n",
        "* Здорово, что ты использовал автоматизацию для выполнения задач, писал свои функции и циклы, так держать!\n",
        "* Ты использовал самые разные методы для работы с данными, все получилось!\n",
        "* Ты активно использовал визуализацию, хорошо, что ты не избегаешь этого инструмента анализа!\n",
        "\n",
        "**На что стоит обратить внимание🤓**:\n",
        "    \n",
        "* Удели чуть больше внимания визуализации: в некоторых случаях графикам не хватает оформления, можно попробовать сделать визуализацию более информативной!\n",
        "* Выбросы в колонке days_exposition удалять не стоит, а вот поработать над аномальными значениями в других колонках - стоит:)\n",
        "* Важно доработать итоговый вывод!\n",
        "* Корреляционный анализ стоит проводить для количественных переменных, для категориальных лучше построить графики.\n",
        "* Остальные рекомендации ты найдешь в моих комментариях!\n",
        "\n",
        "\n",
        "**Желаю удачи и жду твой проект на повторное ревью!**😉\n",
        "    \n",
        "![gif](https://media.giphy.com/media/kVaj8JXJcDsqs/giphy.gif)"
      ]
    }
  ]
}