{
  "cells": [
    {
      "cell_type": "markdown",
      "metadata": {
        "id": "view-in-github",
        "colab_type": "text"
      },
      "source": [
        "<a href=\"https://colab.research.google.com/github/raspopovaa/Pet-Project-Data-Analyst/blob/main/%D0%98%D1%81%D1%81%D0%BB%D0%B5%D0%B4%D0%BE%D0%B2%D0%B0%D0%BD%D0%B8%D0%B5_%D0%BD%D0%B0%D0%B4%D1%91%D0%B6%D0%BD%D0%BE%D1%81%D1%82%D0%B8_%D0%B7%D0%B0%D1%91%D0%BC%D1%89%D0%B8%D0%BA%D0%BE%D0%B2/%22%D0%98%D1%81%D1%81%D0%BB%D0%B5%D0%B4%D0%BE%D0%B2%D0%B0%D0%BD%D0%B8%D0%B5_%D0%BD%D0%B0%D0%B4%D1%91%D0%B6%D0%BD%D0%BE%D1%81%D1%82%D0%B8_%D0%B7%D0%B0%D1%91%D0%BC%D1%89%D0%B8%D0%BA%D0%BE%D0%B2%22.ipynb\" target=\"_parent\"><img src=\"https://colab.research.google.com/assets/colab-badge.svg\" alt=\"Open In Colab\"/></a>"
      ]
    },
    {
      "cell_type": "markdown",
      "metadata": {
        "id": "muyqeXA5zeVU"
      },
      "source": [
        "# Исследование надёжности заёмщиков\n",
        "\n",
        "Заказчик — кредитный отдел банка. Нужно разобраться, влияет ли семейное положение и количество детей клиента на факт погашения кредита в срок. Входные данные от банка — статистика о платёжеспособности клиентов.\n",
        "\n",
        "Результаты исследования будут учтены при построении модели **кредитного скоринга** — специальной системы, которая оценивает способность потенциального заёмщика вернуть кредит банку."
      ]
    },
    {
      "cell_type": "markdown",
      "metadata": {
        "id": "dQwuWP0L_iIa"
      },
      "source": [
        "Описание данных\n",
        "* children — количество детей в семье\n",
        "* days_employed — общий трудовой стаж в днях\n",
        "* dob_years — возраст клиента в годах\n",
        "* education — уровень образования клиента\n",
        "* education_id — идентификатор уровня образования\n",
        "* family_status — семейное положение\n",
        "* family_status_id — идентификатор семейного положения\n",
        "* gender — пол клиента\n",
        "* income_type — тип занятости\n",
        "* debt — имел ли задолженность по возврату кредитов\n",
        "* total_income — ежемесячный доход\n",
        "* purpose — цель получения кредита"
      ]
    },
    {
      "cell_type": "markdown",
      "metadata": {
        "id": "X1rRaLRAzeVU"
      },
      "source": [
        "## Шаг 1. Откроем файл с данными и изучим общую информацию"
      ]
    },
    {
      "cell_type": "code",
      "execution_count": null,
      "metadata": {
        "id": "0618VVqFnC9T"
      },
      "outputs": [],
      "source": [
        "#Этот код позволяет запускать лематизацию pymystem3 в colab. \n",
        "#После установки,нужно презапустить среду выполнения\n",
        "!wget http://download.cdn.yandex.net/mystem/mystem-3.0-linux3.1-64bit.tar.gz\n",
        "!tar -xvf mystem-3.0-linux3.1-64bit.tar.gz\n",
        "!cp mystem /root/.local/bin/mystem"
      ]
    },
    {
      "cell_type": "markdown",
      "source": [
        "Загружаем необходимые нам библиотеки."
      ],
      "metadata": {
        "id": "ZPIqMCIB04jI"
      }
    },
    {
      "cell_type": "code",
      "execution_count": null,
      "metadata": {
        "id": "oLKZz3bXzeVv"
      },
      "outputs": [],
      "source": [
        "%pip install pymystem3 -U\n",
        "import matplotlib.pyplot as plt\n",
        "plt.rcParams[\"figure.figsize\"] = (20,6)\n",
        "plt.style.use('dark_background')\n",
        "import pandas as pd\n",
        "from pymystem3 import Mystem\n",
        "m = Mystem()\n",
        "\n",
        "%pip install catboost\n",
        "from catboost import CatBoostClassifier\n",
        "model = CatBoostClassifier(verbose=100)"
      ]
    },
    {
      "cell_type": "markdown",
      "metadata": {
        "id": "BJ-2PjhCzeVW"
      },
      "source": [
        "Импортируем бибилиотеку pandas, pymystem2, matplotlib и загружаем таблицу. Pandas для работы с таблицами, matplotlib для визуализации, pymystem3 для лематизации. Catboost для определения скоринговой модели позволяющей выявлять недобросовестных клиентов."
      ]
    },
    {
      "cell_type": "code",
      "execution_count": 3,
      "metadata": {
        "colab": {
          "base_uri": "https://localhost:8080/"
        },
        "id": "PoF8hhI6zeVX",
        "outputId": "23f96677-d628-484c-d01c-50a15f9a7f3a"
      },
      "outputs": [
        {
          "output_type": "stream",
          "name": "stdout",
          "text": [
            "<class 'pandas.core.frame.DataFrame'>\n",
            "RangeIndex: 21525 entries, 0 to 21524\n",
            "Data columns (total 12 columns):\n",
            " #   Column            Non-Null Count  Dtype  \n",
            "---  ------            --------------  -----  \n",
            " 0   children          21525 non-null  int64  \n",
            " 1   days_employed     19351 non-null  float64\n",
            " 2   dob_years         21525 non-null  int64  \n",
            " 3   education         21525 non-null  object \n",
            " 4   education_id      21525 non-null  int64  \n",
            " 5   family_status     21525 non-null  object \n",
            " 6   family_status_id  21525 non-null  int64  \n",
            " 7   gender            21525 non-null  object \n",
            " 8   income_type       21525 non-null  object \n",
            " 9   debt              21525 non-null  int64  \n",
            " 10  total_income      19351 non-null  float64\n",
            " 11  purpose           21525 non-null  object \n",
            "dtypes: float64(2), int64(5), object(5)\n",
            "memory usage: 2.0+ MB\n"
          ]
        }
      ],
      "source": [
        "data = pd.read_csv('https://code.s3.yandex.net/datasets/data.csv')\n",
        "data.info()"
      ]
    },
    {
      "cell_type": "markdown",
      "metadata": {
        "id": "5jvUUwxHzeVY"
      },
      "source": [
        "Используем метод info() для выявлнния пропущеных значений в таблице"
      ]
    },
    {
      "cell_type": "markdown",
      "metadata": {
        "id": "rhGZjCmuzeVY"
      },
      "source": [
        "Используем метод .head(), для визуальной оценки данных."
      ]
    },
    {
      "cell_type": "code",
      "execution_count": 4,
      "metadata": {
        "colab": {
          "base_uri": "https://localhost:8080/",
          "height": 206
        },
        "id": "pMOx3TMZzeVY",
        "outputId": "594dadd7-a0a5-459a-cb43-71ae1975e01c"
      },
      "outputs": [
        {
          "output_type": "execute_result",
          "data": {
            "text/html": [
              "\n",
              "  <div id=\"df-fa1efa88-4726-4b24-829c-7748b815f171\">\n",
              "    <div class=\"colab-df-container\">\n",
              "      <div>\n",
              "<style scoped>\n",
              "    .dataframe tbody tr th:only-of-type {\n",
              "        vertical-align: middle;\n",
              "    }\n",
              "\n",
              "    .dataframe tbody tr th {\n",
              "        vertical-align: top;\n",
              "    }\n",
              "\n",
              "    .dataframe thead th {\n",
              "        text-align: right;\n",
              "    }\n",
              "</style>\n",
              "<table border=\"1\" class=\"dataframe\">\n",
              "  <thead>\n",
              "    <tr style=\"text-align: right;\">\n",
              "      <th></th>\n",
              "      <th>children</th>\n",
              "      <th>days_employed</th>\n",
              "      <th>dob_years</th>\n",
              "      <th>education</th>\n",
              "      <th>education_id</th>\n",
              "      <th>family_status</th>\n",
              "      <th>family_status_id</th>\n",
              "      <th>gender</th>\n",
              "      <th>income_type</th>\n",
              "      <th>debt</th>\n",
              "      <th>total_income</th>\n",
              "      <th>purpose</th>\n",
              "    </tr>\n",
              "  </thead>\n",
              "  <tbody>\n",
              "    <tr>\n",
              "      <th>0</th>\n",
              "      <td>1</td>\n",
              "      <td>-8437.673028</td>\n",
              "      <td>42</td>\n",
              "      <td>высшее</td>\n",
              "      <td>0</td>\n",
              "      <td>женат / замужем</td>\n",
              "      <td>0</td>\n",
              "      <td>F</td>\n",
              "      <td>сотрудник</td>\n",
              "      <td>0</td>\n",
              "      <td>253875.639453</td>\n",
              "      <td>покупка жилья</td>\n",
              "    </tr>\n",
              "    <tr>\n",
              "      <th>1</th>\n",
              "      <td>1</td>\n",
              "      <td>-4024.803754</td>\n",
              "      <td>36</td>\n",
              "      <td>среднее</td>\n",
              "      <td>1</td>\n",
              "      <td>женат / замужем</td>\n",
              "      <td>0</td>\n",
              "      <td>F</td>\n",
              "      <td>сотрудник</td>\n",
              "      <td>0</td>\n",
              "      <td>112080.014102</td>\n",
              "      <td>приобретение автомобиля</td>\n",
              "    </tr>\n",
              "    <tr>\n",
              "      <th>2</th>\n",
              "      <td>0</td>\n",
              "      <td>-5623.422610</td>\n",
              "      <td>33</td>\n",
              "      <td>Среднее</td>\n",
              "      <td>1</td>\n",
              "      <td>женат / замужем</td>\n",
              "      <td>0</td>\n",
              "      <td>M</td>\n",
              "      <td>сотрудник</td>\n",
              "      <td>0</td>\n",
              "      <td>145885.952297</td>\n",
              "      <td>покупка жилья</td>\n",
              "    </tr>\n",
              "    <tr>\n",
              "      <th>3</th>\n",
              "      <td>3</td>\n",
              "      <td>-4124.747207</td>\n",
              "      <td>32</td>\n",
              "      <td>среднее</td>\n",
              "      <td>1</td>\n",
              "      <td>женат / замужем</td>\n",
              "      <td>0</td>\n",
              "      <td>M</td>\n",
              "      <td>сотрудник</td>\n",
              "      <td>0</td>\n",
              "      <td>267628.550329</td>\n",
              "      <td>дополнительное образование</td>\n",
              "    </tr>\n",
              "    <tr>\n",
              "      <th>4</th>\n",
              "      <td>0</td>\n",
              "      <td>340266.072047</td>\n",
              "      <td>53</td>\n",
              "      <td>среднее</td>\n",
              "      <td>1</td>\n",
              "      <td>гражданский брак</td>\n",
              "      <td>1</td>\n",
              "      <td>F</td>\n",
              "      <td>пенсионер</td>\n",
              "      <td>0</td>\n",
              "      <td>158616.077870</td>\n",
              "      <td>сыграть свадьбу</td>\n",
              "    </tr>\n",
              "  </tbody>\n",
              "</table>\n",
              "</div>\n",
              "      <button class=\"colab-df-convert\" onclick=\"convertToInteractive('df-fa1efa88-4726-4b24-829c-7748b815f171')\"\n",
              "              title=\"Convert this dataframe to an interactive table.\"\n",
              "              style=\"display:none;\">\n",
              "        \n",
              "  <svg xmlns=\"http://www.w3.org/2000/svg\" height=\"24px\"viewBox=\"0 0 24 24\"\n",
              "       width=\"24px\">\n",
              "    <path d=\"M0 0h24v24H0V0z\" fill=\"none\"/>\n",
              "    <path d=\"M18.56 5.44l.94 2.06.94-2.06 2.06-.94-2.06-.94-.94-2.06-.94 2.06-2.06.94zm-11 1L8.5 8.5l.94-2.06 2.06-.94-2.06-.94L8.5 2.5l-.94 2.06-2.06.94zm10 10l.94 2.06.94-2.06 2.06-.94-2.06-.94-.94-2.06-.94 2.06-2.06.94z\"/><path d=\"M17.41 7.96l-1.37-1.37c-.4-.4-.92-.59-1.43-.59-.52 0-1.04.2-1.43.59L10.3 9.45l-7.72 7.72c-.78.78-.78 2.05 0 2.83L4 21.41c.39.39.9.59 1.41.59.51 0 1.02-.2 1.41-.59l7.78-7.78 2.81-2.81c.8-.78.8-2.07 0-2.86zM5.41 20L4 18.59l7.72-7.72 1.47 1.35L5.41 20z\"/>\n",
              "  </svg>\n",
              "      </button>\n",
              "      \n",
              "  <style>\n",
              "    .colab-df-container {\n",
              "      display:flex;\n",
              "      flex-wrap:wrap;\n",
              "      gap: 12px;\n",
              "    }\n",
              "\n",
              "    .colab-df-convert {\n",
              "      background-color: #E8F0FE;\n",
              "      border: none;\n",
              "      border-radius: 50%;\n",
              "      cursor: pointer;\n",
              "      display: none;\n",
              "      fill: #1967D2;\n",
              "      height: 32px;\n",
              "      padding: 0 0 0 0;\n",
              "      width: 32px;\n",
              "    }\n",
              "\n",
              "    .colab-df-convert:hover {\n",
              "      background-color: #E2EBFA;\n",
              "      box-shadow: 0px 1px 2px rgba(60, 64, 67, 0.3), 0px 1px 3px 1px rgba(60, 64, 67, 0.15);\n",
              "      fill: #174EA6;\n",
              "    }\n",
              "\n",
              "    [theme=dark] .colab-df-convert {\n",
              "      background-color: #3B4455;\n",
              "      fill: #D2E3FC;\n",
              "    }\n",
              "\n",
              "    [theme=dark] .colab-df-convert:hover {\n",
              "      background-color: #434B5C;\n",
              "      box-shadow: 0px 1px 3px 1px rgba(0, 0, 0, 0.15);\n",
              "      filter: drop-shadow(0px 1px 2px rgba(0, 0, 0, 0.3));\n",
              "      fill: #FFFFFF;\n",
              "    }\n",
              "  </style>\n",
              "\n",
              "      <script>\n",
              "        const buttonEl =\n",
              "          document.querySelector('#df-fa1efa88-4726-4b24-829c-7748b815f171 button.colab-df-convert');\n",
              "        buttonEl.style.display =\n",
              "          google.colab.kernel.accessAllowed ? 'block' : 'none';\n",
              "\n",
              "        async function convertToInteractive(key) {\n",
              "          const element = document.querySelector('#df-fa1efa88-4726-4b24-829c-7748b815f171');\n",
              "          const dataTable =\n",
              "            await google.colab.kernel.invokeFunction('convertToInteractive',\n",
              "                                                     [key], {});\n",
              "          if (!dataTable) return;\n",
              "\n",
              "          const docLinkHtml = 'Like what you see? Visit the ' +\n",
              "            '<a target=\"_blank\" href=https://colab.research.google.com/notebooks/data_table.ipynb>data table notebook</a>'\n",
              "            + ' to learn more about interactive tables.';\n",
              "          element.innerHTML = '';\n",
              "          dataTable['output_type'] = 'display_data';\n",
              "          await google.colab.output.renderOutput(dataTable, element);\n",
              "          const docLink = document.createElement('div');\n",
              "          docLink.innerHTML = docLinkHtml;\n",
              "          element.appendChild(docLink);\n",
              "        }\n",
              "      </script>\n",
              "    </div>\n",
              "  </div>\n",
              "  "
            ],
            "text/plain": [
              "   children  days_employed  ...   total_income                     purpose\n",
              "0         1   -8437.673028  ...  253875.639453               покупка жилья\n",
              "1         1   -4024.803754  ...  112080.014102     приобретение автомобиля\n",
              "2         0   -5623.422610  ...  145885.952297               покупка жилья\n",
              "3         3   -4124.747207  ...  267628.550329  дополнительное образование\n",
              "4         0  340266.072047  ...  158616.077870             сыграть свадьбу\n",
              "\n",
              "[5 rows x 12 columns]"
            ]
          },
          "metadata": {},
          "execution_count": 4
        }
      ],
      "source": [
        "\n",
        "data.head(5)"
      ]
    },
    {
      "cell_type": "markdown",
      "metadata": {
        "id": "vXMCCYjv_EZ0"
      },
      "source": [
        "Посмотрим на числовые значения таблицы поближе."
      ]
    },
    {
      "cell_type": "code",
      "execution_count": 5,
      "metadata": {
        "colab": {
          "base_uri": "https://localhost:8080/"
        },
        "id": "WXJjkhME8bM3",
        "outputId": "dc4885ce-e1b9-4e2b-8277-9848d327ccda"
      },
      "outputs": [
        {
          "output_type": "execute_result",
          "data": {
            "text/plain": [
              "[count    21525.000000\n",
              " mean         0.538908\n",
              " std          1.381587\n",
              " min         -1.000000\n",
              " 25%          0.000000\n",
              " 50%          0.000000\n",
              " 75%          1.000000\n",
              " max         20.000000\n",
              " Name: children, dtype: float64, count     19351.000000\n",
              " mean      63046.497661\n",
              " std      140827.311974\n",
              " min      -18388.949901\n",
              " 25%       -2747.423625\n",
              " 50%       -1203.369529\n",
              " 75%        -291.095954\n",
              " max      401755.400475\n",
              " Name: days_employed, dtype: float64, count    21525.000000\n",
              " mean        43.293380\n",
              " std         12.574584\n",
              " min          0.000000\n",
              " 25%         33.000000\n",
              " 50%         42.000000\n",
              " 75%         53.000000\n",
              " max         75.000000\n",
              " Name: dob_years, dtype: float64, count       21525\n",
              " unique         15\n",
              " top       среднее\n",
              " freq        13750\n",
              " Name: education, dtype: object, count    21525.000000\n",
              " mean         0.817236\n",
              " std          0.548138\n",
              " min          0.000000\n",
              " 25%          1.000000\n",
              " 50%          1.000000\n",
              " 75%          1.000000\n",
              " max          4.000000\n",
              " Name: education_id, dtype: float64, count               21525\n",
              " unique                  5\n",
              " top       женат / замужем\n",
              " freq                12380\n",
              " Name: family_status, dtype: object, count    21525.000000\n",
              " mean         0.972544\n",
              " std          1.420324\n",
              " min          0.000000\n",
              " 25%          0.000000\n",
              " 50%          0.000000\n",
              " 75%          1.000000\n",
              " max          4.000000\n",
              " Name: family_status_id, dtype: float64, count     21525\n",
              " unique        3\n",
              " top           F\n",
              " freq      14236\n",
              " Name: gender, dtype: object, count         21525\n",
              " unique            8\n",
              " top       сотрудник\n",
              " freq          11119\n",
              " Name: income_type, dtype: object, count    21525.000000\n",
              " mean         0.080883\n",
              " std          0.272661\n",
              " min          0.000000\n",
              " 25%          0.000000\n",
              " 50%          0.000000\n",
              " 75%          0.000000\n",
              " max          1.000000\n",
              " Name: debt, dtype: float64, count    1.935100e+04\n",
              " mean     1.674223e+05\n",
              " std      1.029716e+05\n",
              " min      2.066726e+04\n",
              " 25%      1.030532e+05\n",
              " 50%      1.450179e+05\n",
              " 75%      2.034351e+05\n",
              " max      2.265604e+06\n",
              " Name: total_income, dtype: float64, count       21525\n",
              " unique         38\n",
              " top       свадьба\n",
              " freq          797\n",
              " Name: purpose, dtype: object]"
            ]
          },
          "metadata": {},
          "execution_count": 5
        }
      ],
      "source": [
        "[data[col].describe() for col in data.columns]"
      ]
    },
    {
      "cell_type": "markdown",
      "source": [
        "В данных есть много артефактов, которые мы исправим ниже."
      ],
      "metadata": {
        "id": "8CFI1p1c2ELR"
      }
    },
    {
      "cell_type": "markdown",
      "metadata": {
        "id": "ndbWjboYzeVZ"
      },
      "source": [
        "###**Вывод:**"
      ]
    },
    {
      "cell_type": "markdown",
      "metadata": {
        "id": "RvGXGei1zeVZ"
      },
      "source": [
        "Использовав метод info и head, можно сделать вывод, что таблица содержит 21525 строк, 12 столбцов. Столбцы имеют разний тип данных. Таблица удобная для анализа данных - в каждом столбце храняться значения, каждая строка содержит одно наблюдение, к которому приязанны значения разных переменных. Название столбцов без пробелов, несколько слов разделяются нижним подчеркиванием, на одном языке и в одном регистре, отображают в краткой форме какого рода информация содержиться в каждом столбце. Столбцы 'days_employed' (общий трудовой стаж в днях) и 'total_income' (ежемесячный доход) имеют 19351 заполненых строк вместо 21525, т.е имеют около 10 % пропусков значений. Так же в столбце 'days_employed' есть отрицательные значения, чего не может быть с трудовым стажем. Так же отрицательные значения есть в столбце 'children', в столбцах 'education', 'family_status' и income_type буквы разного регистра, столбец 'gender' содержит неверное значение XNA. В строке 'dob_years' есть нулевые значения, что недопустимо. Скорее всего это технические ошибки.  Так же предположу, что пропуски в столбцах 'days_employed' (общий трудовой стаж в днях) и 'total_income' (ежемесячный доход) созданны намеренно и связанно это с видом кредита (т.е. есть кредиты не предполагающие предоставление информации о трудовом стаже, и ежемесячном доходе). Интересно, есть ли связь между заполнением этих строк и возвратом кредита в срок. Но вернемся к заданию, необходимо провести предобработку данных для выявления артефактов содержащих недостоверные данные."
      ]
    },
    {
      "cell_type": "markdown",
      "metadata": {
        "id": "UHaujQeJzeVa"
      },
      "source": [
        "## Шаг 2. Предобработка данных"
      ]
    },
    {
      "cell_type": "markdown",
      "metadata": {
        "id": "Eo96vrL8zeVb"
      },
      "source": [
        "### Обработка пропусков"
      ]
    },
    {
      "cell_type": "markdown",
      "metadata": {
        "id": "O_bUKmaX7rcT"
      },
      "source": [
        "Посмотрим сколько процентов сотавляют пропущенные значения."
      ]
    },
    {
      "cell_type": "code",
      "execution_count": 6,
      "metadata": {
        "colab": {
          "base_uri": "https://localhost:8080/",
          "height": 425
        },
        "id": "TxO6AuHi7mQD",
        "outputId": "0592b729-8a67-4ad1-acc5-9280cbb82b71"
      },
      "outputs": [
        {
          "output_type": "execute_result",
          "data": {
            "text/html": [
              "<style  type=\"text/css\" >\n",
              "#T_748a71d2_830a_11ec_a932_0242ac1c0002row0_col0,#T_748a71d2_830a_11ec_a932_0242ac1c0002row2_col0,#T_748a71d2_830a_11ec_a932_0242ac1c0002row3_col0,#T_748a71d2_830a_11ec_a932_0242ac1c0002row4_col0,#T_748a71d2_830a_11ec_a932_0242ac1c0002row5_col0,#T_748a71d2_830a_11ec_a932_0242ac1c0002row6_col0,#T_748a71d2_830a_11ec_a932_0242ac1c0002row7_col0,#T_748a71d2_830a_11ec_a932_0242ac1c0002row8_col0,#T_748a71d2_830a_11ec_a932_0242ac1c0002row9_col0,#T_748a71d2_830a_11ec_a932_0242ac1c0002row11_col0{\n",
              "            background-color:  #3b4cc0;\n",
              "            color:  #f1f1f1;\n",
              "        }#T_748a71d2_830a_11ec_a932_0242ac1c0002row1_col0,#T_748a71d2_830a_11ec_a932_0242ac1c0002row10_col0{\n",
              "            background-color:  #b40426;\n",
              "            color:  #f1f1f1;\n",
              "        }</style><table id=\"T_748a71d2_830a_11ec_a932_0242ac1c0002\" class=\"dataframe\"><thead>    <tr>        <th class=\"blank level0\" ></th>        <th class=\"col_heading level0 col0\" >0</th>    </tr></thead><tbody>\n",
              "                <tr>\n",
              "                        <th id=\"T_748a71d2_830a_11ec_a932_0242ac1c0002level0_row0\" class=\"row_heading level0 row0\" >children</th>\n",
              "                        <td id=\"T_748a71d2_830a_11ec_a932_0242ac1c0002row0_col0\" class=\"data row0 col0\" >0.000000</td>\n",
              "            </tr>\n",
              "            <tr>\n",
              "                        <th id=\"T_748a71d2_830a_11ec_a932_0242ac1c0002level0_row1\" class=\"row_heading level0 row1\" >days_employed</th>\n",
              "                        <td id=\"T_748a71d2_830a_11ec_a932_0242ac1c0002row1_col0\" class=\"data row1 col0\" >10.100000</td>\n",
              "            </tr>\n",
              "            <tr>\n",
              "                        <th id=\"T_748a71d2_830a_11ec_a932_0242ac1c0002level0_row2\" class=\"row_heading level0 row2\" >dob_years</th>\n",
              "                        <td id=\"T_748a71d2_830a_11ec_a932_0242ac1c0002row2_col0\" class=\"data row2 col0\" >0.000000</td>\n",
              "            </tr>\n",
              "            <tr>\n",
              "                        <th id=\"T_748a71d2_830a_11ec_a932_0242ac1c0002level0_row3\" class=\"row_heading level0 row3\" >education</th>\n",
              "                        <td id=\"T_748a71d2_830a_11ec_a932_0242ac1c0002row3_col0\" class=\"data row3 col0\" >0.000000</td>\n",
              "            </tr>\n",
              "            <tr>\n",
              "                        <th id=\"T_748a71d2_830a_11ec_a932_0242ac1c0002level0_row4\" class=\"row_heading level0 row4\" >education_id</th>\n",
              "                        <td id=\"T_748a71d2_830a_11ec_a932_0242ac1c0002row4_col0\" class=\"data row4 col0\" >0.000000</td>\n",
              "            </tr>\n",
              "            <tr>\n",
              "                        <th id=\"T_748a71d2_830a_11ec_a932_0242ac1c0002level0_row5\" class=\"row_heading level0 row5\" >family_status</th>\n",
              "                        <td id=\"T_748a71d2_830a_11ec_a932_0242ac1c0002row5_col0\" class=\"data row5 col0\" >0.000000</td>\n",
              "            </tr>\n",
              "            <tr>\n",
              "                        <th id=\"T_748a71d2_830a_11ec_a932_0242ac1c0002level0_row6\" class=\"row_heading level0 row6\" >family_status_id</th>\n",
              "                        <td id=\"T_748a71d2_830a_11ec_a932_0242ac1c0002row6_col0\" class=\"data row6 col0\" >0.000000</td>\n",
              "            </tr>\n",
              "            <tr>\n",
              "                        <th id=\"T_748a71d2_830a_11ec_a932_0242ac1c0002level0_row7\" class=\"row_heading level0 row7\" >gender</th>\n",
              "                        <td id=\"T_748a71d2_830a_11ec_a932_0242ac1c0002row7_col0\" class=\"data row7 col0\" >0.000000</td>\n",
              "            </tr>\n",
              "            <tr>\n",
              "                        <th id=\"T_748a71d2_830a_11ec_a932_0242ac1c0002level0_row8\" class=\"row_heading level0 row8\" >income_type</th>\n",
              "                        <td id=\"T_748a71d2_830a_11ec_a932_0242ac1c0002row8_col0\" class=\"data row8 col0\" >0.000000</td>\n",
              "            </tr>\n",
              "            <tr>\n",
              "                        <th id=\"T_748a71d2_830a_11ec_a932_0242ac1c0002level0_row9\" class=\"row_heading level0 row9\" >debt</th>\n",
              "                        <td id=\"T_748a71d2_830a_11ec_a932_0242ac1c0002row9_col0\" class=\"data row9 col0\" >0.000000</td>\n",
              "            </tr>\n",
              "            <tr>\n",
              "                        <th id=\"T_748a71d2_830a_11ec_a932_0242ac1c0002level0_row10\" class=\"row_heading level0 row10\" >total_income</th>\n",
              "                        <td id=\"T_748a71d2_830a_11ec_a932_0242ac1c0002row10_col0\" class=\"data row10 col0\" >10.100000</td>\n",
              "            </tr>\n",
              "            <tr>\n",
              "                        <th id=\"T_748a71d2_830a_11ec_a932_0242ac1c0002level0_row11\" class=\"row_heading level0 row11\" >purpose</th>\n",
              "                        <td id=\"T_748a71d2_830a_11ec_a932_0242ac1c0002row11_col0\" class=\"data row11 col0\" >0.000000</td>\n",
              "            </tr>\n",
              "    </tbody></table>"
            ],
            "text/plain": [
              "<pandas.io.formats.style.Styler at 0x7f2c1a341a10>"
            ]
          },
          "metadata": {},
          "execution_count": 6
        }
      ],
      "source": [
        "pd.DataFrame(round((data.isna().mean()*100),2)).style.background_gradient('coolwarm')"
      ]
    },
    {
      "cell_type": "markdown",
      "metadata": {
        "id": "MtrZ6GTDATls"
      },
      "source": [
        "Посмотрим на клиентов имеющих пропуски в трудовом стаже."
      ]
    },
    {
      "cell_type": "code",
      "execution_count": 7,
      "metadata": {
        "colab": {
          "base_uri": "https://localhost:8080/",
          "height": 424
        },
        "id": "c2h3rNkF_6vV",
        "outputId": "9734b633-d738-47e5-cf94-129612e28ca6"
      },
      "outputs": [
        {
          "output_type": "execute_result",
          "data": {
            "text/html": [
              "\n",
              "  <div id=\"df-6eae0278-4473-4dd9-904b-9bb0d4e079f3\">\n",
              "    <div class=\"colab-df-container\">\n",
              "      <div>\n",
              "<style scoped>\n",
              "    .dataframe tbody tr th:only-of-type {\n",
              "        vertical-align: middle;\n",
              "    }\n",
              "\n",
              "    .dataframe tbody tr th {\n",
              "        vertical-align: top;\n",
              "    }\n",
              "\n",
              "    .dataframe thead th {\n",
              "        text-align: right;\n",
              "    }\n",
              "</style>\n",
              "<table border=\"1\" class=\"dataframe\">\n",
              "  <thead>\n",
              "    <tr style=\"text-align: right;\">\n",
              "      <th></th>\n",
              "      <th>children</th>\n",
              "      <th>days_employed</th>\n",
              "      <th>dob_years</th>\n",
              "      <th>education</th>\n",
              "      <th>education_id</th>\n",
              "      <th>family_status</th>\n",
              "      <th>family_status_id</th>\n",
              "      <th>gender</th>\n",
              "      <th>income_type</th>\n",
              "      <th>debt</th>\n",
              "      <th>total_income</th>\n",
              "      <th>purpose</th>\n",
              "    </tr>\n",
              "  </thead>\n",
              "  <tbody>\n",
              "    <tr>\n",
              "      <th>12</th>\n",
              "      <td>0</td>\n",
              "      <td>NaN</td>\n",
              "      <td>65</td>\n",
              "      <td>среднее</td>\n",
              "      <td>1</td>\n",
              "      <td>гражданский брак</td>\n",
              "      <td>1</td>\n",
              "      <td>M</td>\n",
              "      <td>пенсионер</td>\n",
              "      <td>0</td>\n",
              "      <td>NaN</td>\n",
              "      <td>сыграть свадьбу</td>\n",
              "    </tr>\n",
              "    <tr>\n",
              "      <th>26</th>\n",
              "      <td>0</td>\n",
              "      <td>NaN</td>\n",
              "      <td>41</td>\n",
              "      <td>среднее</td>\n",
              "      <td>1</td>\n",
              "      <td>женат / замужем</td>\n",
              "      <td>0</td>\n",
              "      <td>M</td>\n",
              "      <td>госслужащий</td>\n",
              "      <td>0</td>\n",
              "      <td>NaN</td>\n",
              "      <td>образование</td>\n",
              "    </tr>\n",
              "    <tr>\n",
              "      <th>29</th>\n",
              "      <td>0</td>\n",
              "      <td>NaN</td>\n",
              "      <td>63</td>\n",
              "      <td>среднее</td>\n",
              "      <td>1</td>\n",
              "      <td>Не женат / не замужем</td>\n",
              "      <td>4</td>\n",
              "      <td>F</td>\n",
              "      <td>пенсионер</td>\n",
              "      <td>0</td>\n",
              "      <td>NaN</td>\n",
              "      <td>строительство жилой недвижимости</td>\n",
              "    </tr>\n",
              "    <tr>\n",
              "      <th>41</th>\n",
              "      <td>0</td>\n",
              "      <td>NaN</td>\n",
              "      <td>50</td>\n",
              "      <td>среднее</td>\n",
              "      <td>1</td>\n",
              "      <td>женат / замужем</td>\n",
              "      <td>0</td>\n",
              "      <td>F</td>\n",
              "      <td>госслужащий</td>\n",
              "      <td>0</td>\n",
              "      <td>NaN</td>\n",
              "      <td>сделка с подержанным автомобилем</td>\n",
              "    </tr>\n",
              "    <tr>\n",
              "      <th>55</th>\n",
              "      <td>0</td>\n",
              "      <td>NaN</td>\n",
              "      <td>54</td>\n",
              "      <td>среднее</td>\n",
              "      <td>1</td>\n",
              "      <td>гражданский брак</td>\n",
              "      <td>1</td>\n",
              "      <td>F</td>\n",
              "      <td>пенсионер</td>\n",
              "      <td>1</td>\n",
              "      <td>NaN</td>\n",
              "      <td>сыграть свадьбу</td>\n",
              "    </tr>\n",
              "    <tr>\n",
              "      <th>...</th>\n",
              "      <td>...</td>\n",
              "      <td>...</td>\n",
              "      <td>...</td>\n",
              "      <td>...</td>\n",
              "      <td>...</td>\n",
              "      <td>...</td>\n",
              "      <td>...</td>\n",
              "      <td>...</td>\n",
              "      <td>...</td>\n",
              "      <td>...</td>\n",
              "      <td>...</td>\n",
              "      <td>...</td>\n",
              "    </tr>\n",
              "    <tr>\n",
              "      <th>21489</th>\n",
              "      <td>2</td>\n",
              "      <td>NaN</td>\n",
              "      <td>47</td>\n",
              "      <td>Среднее</td>\n",
              "      <td>1</td>\n",
              "      <td>женат / замужем</td>\n",
              "      <td>0</td>\n",
              "      <td>M</td>\n",
              "      <td>компаньон</td>\n",
              "      <td>0</td>\n",
              "      <td>NaN</td>\n",
              "      <td>сделка с автомобилем</td>\n",
              "    </tr>\n",
              "    <tr>\n",
              "      <th>21495</th>\n",
              "      <td>1</td>\n",
              "      <td>NaN</td>\n",
              "      <td>50</td>\n",
              "      <td>среднее</td>\n",
              "      <td>1</td>\n",
              "      <td>гражданский брак</td>\n",
              "      <td>1</td>\n",
              "      <td>F</td>\n",
              "      <td>сотрудник</td>\n",
              "      <td>0</td>\n",
              "      <td>NaN</td>\n",
              "      <td>свадьба</td>\n",
              "    </tr>\n",
              "    <tr>\n",
              "      <th>21497</th>\n",
              "      <td>0</td>\n",
              "      <td>NaN</td>\n",
              "      <td>48</td>\n",
              "      <td>ВЫСШЕЕ</td>\n",
              "      <td>0</td>\n",
              "      <td>женат / замужем</td>\n",
              "      <td>0</td>\n",
              "      <td>F</td>\n",
              "      <td>компаньон</td>\n",
              "      <td>0</td>\n",
              "      <td>NaN</td>\n",
              "      <td>строительство недвижимости</td>\n",
              "    </tr>\n",
              "    <tr>\n",
              "      <th>21502</th>\n",
              "      <td>1</td>\n",
              "      <td>NaN</td>\n",
              "      <td>42</td>\n",
              "      <td>среднее</td>\n",
              "      <td>1</td>\n",
              "      <td>женат / замужем</td>\n",
              "      <td>0</td>\n",
              "      <td>F</td>\n",
              "      <td>сотрудник</td>\n",
              "      <td>0</td>\n",
              "      <td>NaN</td>\n",
              "      <td>строительство жилой недвижимости</td>\n",
              "    </tr>\n",
              "    <tr>\n",
              "      <th>21510</th>\n",
              "      <td>2</td>\n",
              "      <td>NaN</td>\n",
              "      <td>28</td>\n",
              "      <td>среднее</td>\n",
              "      <td>1</td>\n",
              "      <td>женат / замужем</td>\n",
              "      <td>0</td>\n",
              "      <td>F</td>\n",
              "      <td>сотрудник</td>\n",
              "      <td>0</td>\n",
              "      <td>NaN</td>\n",
              "      <td>приобретение автомобиля</td>\n",
              "    </tr>\n",
              "  </tbody>\n",
              "</table>\n",
              "<p>2174 rows × 12 columns</p>\n",
              "</div>\n",
              "      <button class=\"colab-df-convert\" onclick=\"convertToInteractive('df-6eae0278-4473-4dd9-904b-9bb0d4e079f3')\"\n",
              "              title=\"Convert this dataframe to an interactive table.\"\n",
              "              style=\"display:none;\">\n",
              "        \n",
              "  <svg xmlns=\"http://www.w3.org/2000/svg\" height=\"24px\"viewBox=\"0 0 24 24\"\n",
              "       width=\"24px\">\n",
              "    <path d=\"M0 0h24v24H0V0z\" fill=\"none\"/>\n",
              "    <path d=\"M18.56 5.44l.94 2.06.94-2.06 2.06-.94-2.06-.94-.94-2.06-.94 2.06-2.06.94zm-11 1L8.5 8.5l.94-2.06 2.06-.94-2.06-.94L8.5 2.5l-.94 2.06-2.06.94zm10 10l.94 2.06.94-2.06 2.06-.94-2.06-.94-.94-2.06-.94 2.06-2.06.94z\"/><path d=\"M17.41 7.96l-1.37-1.37c-.4-.4-.92-.59-1.43-.59-.52 0-1.04.2-1.43.59L10.3 9.45l-7.72 7.72c-.78.78-.78 2.05 0 2.83L4 21.41c.39.39.9.59 1.41.59.51 0 1.02-.2 1.41-.59l7.78-7.78 2.81-2.81c.8-.78.8-2.07 0-2.86zM5.41 20L4 18.59l7.72-7.72 1.47 1.35L5.41 20z\"/>\n",
              "  </svg>\n",
              "      </button>\n",
              "      \n",
              "  <style>\n",
              "    .colab-df-container {\n",
              "      display:flex;\n",
              "      flex-wrap:wrap;\n",
              "      gap: 12px;\n",
              "    }\n",
              "\n",
              "    .colab-df-convert {\n",
              "      background-color: #E8F0FE;\n",
              "      border: none;\n",
              "      border-radius: 50%;\n",
              "      cursor: pointer;\n",
              "      display: none;\n",
              "      fill: #1967D2;\n",
              "      height: 32px;\n",
              "      padding: 0 0 0 0;\n",
              "      width: 32px;\n",
              "    }\n",
              "\n",
              "    .colab-df-convert:hover {\n",
              "      background-color: #E2EBFA;\n",
              "      box-shadow: 0px 1px 2px rgba(60, 64, 67, 0.3), 0px 1px 3px 1px rgba(60, 64, 67, 0.15);\n",
              "      fill: #174EA6;\n",
              "    }\n",
              "\n",
              "    [theme=dark] .colab-df-convert {\n",
              "      background-color: #3B4455;\n",
              "      fill: #D2E3FC;\n",
              "    }\n",
              "\n",
              "    [theme=dark] .colab-df-convert:hover {\n",
              "      background-color: #434B5C;\n",
              "      box-shadow: 0px 1px 3px 1px rgba(0, 0, 0, 0.15);\n",
              "      filter: drop-shadow(0px 1px 2px rgba(0, 0, 0, 0.3));\n",
              "      fill: #FFFFFF;\n",
              "    }\n",
              "  </style>\n",
              "\n",
              "      <script>\n",
              "        const buttonEl =\n",
              "          document.querySelector('#df-6eae0278-4473-4dd9-904b-9bb0d4e079f3 button.colab-df-convert');\n",
              "        buttonEl.style.display =\n",
              "          google.colab.kernel.accessAllowed ? 'block' : 'none';\n",
              "\n",
              "        async function convertToInteractive(key) {\n",
              "          const element = document.querySelector('#df-6eae0278-4473-4dd9-904b-9bb0d4e079f3');\n",
              "          const dataTable =\n",
              "            await google.colab.kernel.invokeFunction('convertToInteractive',\n",
              "                                                     [key], {});\n",
              "          if (!dataTable) return;\n",
              "\n",
              "          const docLinkHtml = 'Like what you see? Visit the ' +\n",
              "            '<a target=\"_blank\" href=https://colab.research.google.com/notebooks/data_table.ipynb>data table notebook</a>'\n",
              "            + ' to learn more about interactive tables.';\n",
              "          element.innerHTML = '';\n",
              "          dataTable['output_type'] = 'display_data';\n",
              "          await google.colab.output.renderOutput(dataTable, element);\n",
              "          const docLink = document.createElement('div');\n",
              "          docLink.innerHTML = docLinkHtml;\n",
              "          element.appendChild(docLink);\n",
              "        }\n",
              "      </script>\n",
              "    </div>\n",
              "  </div>\n",
              "  "
            ],
            "text/plain": [
              "       children  days_employed  ...  total_income                           purpose\n",
              "12            0            NaN  ...           NaN                   сыграть свадьбу\n",
              "26            0            NaN  ...           NaN                       образование\n",
              "29            0            NaN  ...           NaN  строительство жилой недвижимости\n",
              "41            0            NaN  ...           NaN  сделка с подержанным автомобилем\n",
              "55            0            NaN  ...           NaN                   сыграть свадьбу\n",
              "...         ...            ...  ...           ...                               ...\n",
              "21489         2            NaN  ...           NaN              сделка с автомобилем\n",
              "21495         1            NaN  ...           NaN                           свадьба\n",
              "21497         0            NaN  ...           NaN        строительство недвижимости\n",
              "21502         1            NaN  ...           NaN  строительство жилой недвижимости\n",
              "21510         2            NaN  ...           NaN           приобретение автомобиля\n",
              "\n",
              "[2174 rows x 12 columns]"
            ]
          },
          "metadata": {},
          "execution_count": 7
        }
      ],
      "source": [
        "data.query('days_employed != days_employed')"
      ]
    },
    {
      "cell_type": "markdown",
      "metadata": {
        "id": "DEc-pN4uzeVb"
      },
      "source": [
        "Было найдено 2174 значения NaN. Нам нужно либо заменить NaN на другое значение, либо удалить полностью строку с пропущенным значением. У каждого метода есть минусы и плюсы. Ответим на вопрос: \"Какой метод лучше в нашем случае?\" Удаление строки не целесообразно (10% от выбоки, как никак), так как удаление полностью всех строк может повлиять на результат исследования. Добавление нового значения тоже может повлиять на результат. Так как пропуски в трудовом стаже и общем доходе совпадают, предположу, что это клиенты взявшие кредитный продукт не учитывающий длительности стажа и размера дохода. В нашем случае можем заменить NaN на медианные значения. Так же у нас есть отризацельные значения, думаю это баг в выгрузке, заменим их на положительные."
      ]
    },
    {
      "cell_type": "code",
      "execution_count": 8,
      "metadata": {
        "id": "jjiVkyTFzeVd"
      },
      "outputs": [],
      "source": [
        "data['days_employed'] = data['days_employed'].abs()\n",
        "data['total_income'] = data['total_income'].abs()"
      ]
    },
    {
      "cell_type": "markdown",
      "metadata": {
        "id": "CGSXFPw7GeCR"
      },
      "source": [
        "Для столбца income_type, предлагаю так же заполнить пропуски медианными значениями в соответствующей группе. Сгруппируем данные по категориям income_type и вычислим их медиану по доходу и трудовому стажу. Эти данные будем использовать для проверки нашей функции для замены пропусков."
      ]
    },
    {
      "cell_type": "code",
      "execution_count": 9,
      "metadata": {
        "colab": {
          "base_uri": "https://localhost:8080/",
          "height": 332
        },
        "id": "aSOypd_yzeVd",
        "outputId": "75931e59-890f-4ecb-c9c7-54b51de7ddcb"
      },
      "outputs": [
        {
          "output_type": "execute_result",
          "data": {
            "text/html": [
              "\n",
              "  <div id=\"df-d5ba6359-6c86-4612-b4e6-9d5be2cb4e10\">\n",
              "    <div class=\"colab-df-container\">\n",
              "      <div>\n",
              "<style scoped>\n",
              "    .dataframe tbody tr th:only-of-type {\n",
              "        vertical-align: middle;\n",
              "    }\n",
              "\n",
              "    .dataframe tbody tr th {\n",
              "        vertical-align: top;\n",
              "    }\n",
              "\n",
              "    .dataframe thead tr th {\n",
              "        text-align: left;\n",
              "    }\n",
              "</style>\n",
              "<table border=\"1\" class=\"dataframe\">\n",
              "  <thead>\n",
              "    <tr>\n",
              "      <th></th>\n",
              "      <th>income_type</th>\n",
              "      <th colspan=\"3\" halign=\"left\">total_income</th>\n",
              "      <th colspan=\"3\" halign=\"left\">days_employed</th>\n",
              "    </tr>\n",
              "    <tr>\n",
              "      <th></th>\n",
              "      <th></th>\n",
              "      <th>count</th>\n",
              "      <th>mean</th>\n",
              "      <th>median</th>\n",
              "      <th>count</th>\n",
              "      <th>mean</th>\n",
              "      <th>median</th>\n",
              "    </tr>\n",
              "  </thead>\n",
              "  <tbody>\n",
              "    <tr>\n",
              "      <th>0</th>\n",
              "      <td>безработный</td>\n",
              "      <td>2</td>\n",
              "      <td>131339.751676</td>\n",
              "      <td>131339.751676</td>\n",
              "      <td>2</td>\n",
              "      <td>366413.652744</td>\n",
              "      <td>366413.652744</td>\n",
              "    </tr>\n",
              "    <tr>\n",
              "      <th>1</th>\n",
              "      <td>в декрете</td>\n",
              "      <td>1</td>\n",
              "      <td>53829.130729</td>\n",
              "      <td>53829.130729</td>\n",
              "      <td>1</td>\n",
              "      <td>3296.759962</td>\n",
              "      <td>3296.759962</td>\n",
              "    </tr>\n",
              "    <tr>\n",
              "      <th>2</th>\n",
              "      <td>госслужащий</td>\n",
              "      <td>1312</td>\n",
              "      <td>170898.309923</td>\n",
              "      <td>150447.935283</td>\n",
              "      <td>1312</td>\n",
              "      <td>3399.896902</td>\n",
              "      <td>2689.368353</td>\n",
              "    </tr>\n",
              "    <tr>\n",
              "      <th>3</th>\n",
              "      <td>компаньон</td>\n",
              "      <td>4577</td>\n",
              "      <td>202417.461462</td>\n",
              "      <td>172357.950966</td>\n",
              "      <td>4577</td>\n",
              "      <td>2111.524398</td>\n",
              "      <td>1547.382223</td>\n",
              "    </tr>\n",
              "    <tr>\n",
              "      <th>4</th>\n",
              "      <td>пенсионер</td>\n",
              "      <td>3443</td>\n",
              "      <td>137127.465690</td>\n",
              "      <td>118514.486412</td>\n",
              "      <td>3443</td>\n",
              "      <td>365003.491245</td>\n",
              "      <td>365213.306266</td>\n",
              "    </tr>\n",
              "    <tr>\n",
              "      <th>5</th>\n",
              "      <td>предприниматель</td>\n",
              "      <td>1</td>\n",
              "      <td>499163.144947</td>\n",
              "      <td>499163.144947</td>\n",
              "      <td>1</td>\n",
              "      <td>520.848083</td>\n",
              "      <td>520.848083</td>\n",
              "    </tr>\n",
              "    <tr>\n",
              "      <th>6</th>\n",
              "      <td>сотрудник</td>\n",
              "      <td>10014</td>\n",
              "      <td>161380.260488</td>\n",
              "      <td>142594.396847</td>\n",
              "      <td>10014</td>\n",
              "      <td>2326.499216</td>\n",
              "      <td>1574.202821</td>\n",
              "    </tr>\n",
              "    <tr>\n",
              "      <th>7</th>\n",
              "      <td>студент</td>\n",
              "      <td>1</td>\n",
              "      <td>98201.625314</td>\n",
              "      <td>98201.625314</td>\n",
              "      <td>1</td>\n",
              "      <td>578.751554</td>\n",
              "      <td>578.751554</td>\n",
              "    </tr>\n",
              "  </tbody>\n",
              "</table>\n",
              "</div>\n",
              "      <button class=\"colab-df-convert\" onclick=\"convertToInteractive('df-d5ba6359-6c86-4612-b4e6-9d5be2cb4e10')\"\n",
              "              title=\"Convert this dataframe to an interactive table.\"\n",
              "              style=\"display:none;\">\n",
              "        \n",
              "  <svg xmlns=\"http://www.w3.org/2000/svg\" height=\"24px\"viewBox=\"0 0 24 24\"\n",
              "       width=\"24px\">\n",
              "    <path d=\"M0 0h24v24H0V0z\" fill=\"none\"/>\n",
              "    <path d=\"M18.56 5.44l.94 2.06.94-2.06 2.06-.94-2.06-.94-.94-2.06-.94 2.06-2.06.94zm-11 1L8.5 8.5l.94-2.06 2.06-.94-2.06-.94L8.5 2.5l-.94 2.06-2.06.94zm10 10l.94 2.06.94-2.06 2.06-.94-2.06-.94-.94-2.06-.94 2.06-2.06.94z\"/><path d=\"M17.41 7.96l-1.37-1.37c-.4-.4-.92-.59-1.43-.59-.52 0-1.04.2-1.43.59L10.3 9.45l-7.72 7.72c-.78.78-.78 2.05 0 2.83L4 21.41c.39.39.9.59 1.41.59.51 0 1.02-.2 1.41-.59l7.78-7.78 2.81-2.81c.8-.78.8-2.07 0-2.86zM5.41 20L4 18.59l7.72-7.72 1.47 1.35L5.41 20z\"/>\n",
              "  </svg>\n",
              "      </button>\n",
              "      \n",
              "  <style>\n",
              "    .colab-df-container {\n",
              "      display:flex;\n",
              "      flex-wrap:wrap;\n",
              "      gap: 12px;\n",
              "    }\n",
              "\n",
              "    .colab-df-convert {\n",
              "      background-color: #E8F0FE;\n",
              "      border: none;\n",
              "      border-radius: 50%;\n",
              "      cursor: pointer;\n",
              "      display: none;\n",
              "      fill: #1967D2;\n",
              "      height: 32px;\n",
              "      padding: 0 0 0 0;\n",
              "      width: 32px;\n",
              "    }\n",
              "\n",
              "    .colab-df-convert:hover {\n",
              "      background-color: #E2EBFA;\n",
              "      box-shadow: 0px 1px 2px rgba(60, 64, 67, 0.3), 0px 1px 3px 1px rgba(60, 64, 67, 0.15);\n",
              "      fill: #174EA6;\n",
              "    }\n",
              "\n",
              "    [theme=dark] .colab-df-convert {\n",
              "      background-color: #3B4455;\n",
              "      fill: #D2E3FC;\n",
              "    }\n",
              "\n",
              "    [theme=dark] .colab-df-convert:hover {\n",
              "      background-color: #434B5C;\n",
              "      box-shadow: 0px 1px 3px 1px rgba(0, 0, 0, 0.15);\n",
              "      filter: drop-shadow(0px 1px 2px rgba(0, 0, 0, 0.3));\n",
              "      fill: #FFFFFF;\n",
              "    }\n",
              "  </style>\n",
              "\n",
              "      <script>\n",
              "        const buttonEl =\n",
              "          document.querySelector('#df-d5ba6359-6c86-4612-b4e6-9d5be2cb4e10 button.colab-df-convert');\n",
              "        buttonEl.style.display =\n",
              "          google.colab.kernel.accessAllowed ? 'block' : 'none';\n",
              "\n",
              "        async function convertToInteractive(key) {\n",
              "          const element = document.querySelector('#df-d5ba6359-6c86-4612-b4e6-9d5be2cb4e10');\n",
              "          const dataTable =\n",
              "            await google.colab.kernel.invokeFunction('convertToInteractive',\n",
              "                                                     [key], {});\n",
              "          if (!dataTable) return;\n",
              "\n",
              "          const docLinkHtml = 'Like what you see? Visit the ' +\n",
              "            '<a target=\"_blank\" href=https://colab.research.google.com/notebooks/data_table.ipynb>data table notebook</a>'\n",
              "            + ' to learn more about interactive tables.';\n",
              "          element.innerHTML = '';\n",
              "          dataTable['output_type'] = 'display_data';\n",
              "          await google.colab.output.renderOutput(dataTable, element);\n",
              "          const docLink = document.createElement('div');\n",
              "          docLink.innerHTML = docLinkHtml;\n",
              "          element.appendChild(docLink);\n",
              "        }\n",
              "      </script>\n",
              "    </div>\n",
              "  </div>\n",
              "  "
            ],
            "text/plain": [
              "       income_type total_income  ...  days_employed               \n",
              "                          count  ...           mean         median\n",
              "0      безработный            2  ...  366413.652744  366413.652744\n",
              "1        в декрете            1  ...    3296.759962    3296.759962\n",
              "2      госслужащий         1312  ...    3399.896902    2689.368353\n",
              "3        компаньон         4577  ...    2111.524398    1547.382223\n",
              "4        пенсионер         3443  ...  365003.491245  365213.306266\n",
              "5  предприниматель            1  ...     520.848083     520.848083\n",
              "6        сотрудник        10014  ...    2326.499216    1574.202821\n",
              "7          студент            1  ...     578.751554     578.751554\n",
              "\n",
              "[8 rows x 7 columns]"
            ]
          },
          "metadata": {},
          "execution_count": 9
        }
      ],
      "source": [
        "data.groupby('income_type', as_index=False).agg({'total_income': ['count', 'mean', 'median'],'days_employed': ['count', 'mean', 'median']})"
      ]
    },
    {
      "cell_type": "markdown",
      "metadata": {
        "id": "1usFAXkizeVe"
      },
      "source": [
        "  \n",
        "Напишем функцию no_non_value для замены пропусков в нужном нам столбце  на медианные значения в категории. Используем медиану для исключения экстремальных значений в расчетах.\n"
      ]
    },
    {
      "cell_type": "code",
      "execution_count": 10,
      "metadata": {
        "id": "k1M8j0-fS1G9"
      },
      "outputs": [],
      "source": [
        "\n",
        "def no_non_value(df, value, category):\n",
        "    for type_unique in df[category].unique():\n",
        "        df.loc[(df[value].isna())&(df[category] ==type_unique), value] = \\\n",
        "        df.loc[df[category] ==type_unique, value].median()\n",
        "    return df"
      ]
    },
    {
      "cell_type": "markdown",
      "metadata": {
        "id": "tqGKAbrLWZfH"
      },
      "source": [
        "Прменим функцию для запонения пропущенных значений в столбце total_income, на медианные значения в категории income_type."
      ]
    },
    {
      "cell_type": "code",
      "execution_count": 11,
      "metadata": {
        "id": "4e_3e9x4TtDr"
      },
      "outputs": [],
      "source": [
        "data = no_non_value(data, 'total_income', 'income_type')"
      ]
    },
    {
      "cell_type": "markdown",
      "metadata": {
        "id": "K0nqyANYW47L"
      },
      "source": [
        "Смотрим что все строки с пропущенными значениями в столбце total_income, по категории income_type (мы смотрим по пенсионерам) заполнены."
      ]
    },
    {
      "cell_type": "code",
      "execution_count": 12,
      "metadata": {
        "colab": {
          "base_uri": "https://localhost:8080/",
          "height": 424
        },
        "id": "3zj4ZrOKTjso",
        "outputId": "48b55892-edd3-462a-da66-55d110bc80d4"
      },
      "outputs": [
        {
          "output_type": "execute_result",
          "data": {
            "text/html": [
              "\n",
              "  <div id=\"df-f06d157b-2cb1-4b07-becd-7b08e5346f60\">\n",
              "    <div class=\"colab-df-container\">\n",
              "      <div>\n",
              "<style scoped>\n",
              "    .dataframe tbody tr th:only-of-type {\n",
              "        vertical-align: middle;\n",
              "    }\n",
              "\n",
              "    .dataframe tbody tr th {\n",
              "        vertical-align: top;\n",
              "    }\n",
              "\n",
              "    .dataframe thead th {\n",
              "        text-align: right;\n",
              "    }\n",
              "</style>\n",
              "<table border=\"1\" class=\"dataframe\">\n",
              "  <thead>\n",
              "    <tr style=\"text-align: right;\">\n",
              "      <th></th>\n",
              "      <th>children</th>\n",
              "      <th>days_employed</th>\n",
              "      <th>dob_years</th>\n",
              "      <th>education</th>\n",
              "      <th>education_id</th>\n",
              "      <th>family_status</th>\n",
              "      <th>family_status_id</th>\n",
              "      <th>gender</th>\n",
              "      <th>income_type</th>\n",
              "      <th>debt</th>\n",
              "      <th>total_income</th>\n",
              "      <th>purpose</th>\n",
              "    </tr>\n",
              "  </thead>\n",
              "  <tbody>\n",
              "    <tr>\n",
              "      <th>12</th>\n",
              "      <td>0</td>\n",
              "      <td>NaN</td>\n",
              "      <td>65</td>\n",
              "      <td>среднее</td>\n",
              "      <td>1</td>\n",
              "      <td>гражданский брак</td>\n",
              "      <td>1</td>\n",
              "      <td>M</td>\n",
              "      <td>пенсионер</td>\n",
              "      <td>0</td>\n",
              "      <td>118514.486412</td>\n",
              "      <td>сыграть свадьбу</td>\n",
              "    </tr>\n",
              "    <tr>\n",
              "      <th>29</th>\n",
              "      <td>0</td>\n",
              "      <td>NaN</td>\n",
              "      <td>63</td>\n",
              "      <td>среднее</td>\n",
              "      <td>1</td>\n",
              "      <td>Не женат / не замужем</td>\n",
              "      <td>4</td>\n",
              "      <td>F</td>\n",
              "      <td>пенсионер</td>\n",
              "      <td>0</td>\n",
              "      <td>118514.486412</td>\n",
              "      <td>строительство жилой недвижимости</td>\n",
              "    </tr>\n",
              "    <tr>\n",
              "      <th>55</th>\n",
              "      <td>0</td>\n",
              "      <td>NaN</td>\n",
              "      <td>54</td>\n",
              "      <td>среднее</td>\n",
              "      <td>1</td>\n",
              "      <td>гражданский брак</td>\n",
              "      <td>1</td>\n",
              "      <td>F</td>\n",
              "      <td>пенсионер</td>\n",
              "      <td>1</td>\n",
              "      <td>118514.486412</td>\n",
              "      <td>сыграть свадьбу</td>\n",
              "    </tr>\n",
              "    <tr>\n",
              "      <th>67</th>\n",
              "      <td>0</td>\n",
              "      <td>NaN</td>\n",
              "      <td>52</td>\n",
              "      <td>высшее</td>\n",
              "      <td>0</td>\n",
              "      <td>женат / замужем</td>\n",
              "      <td>0</td>\n",
              "      <td>F</td>\n",
              "      <td>пенсионер</td>\n",
              "      <td>0</td>\n",
              "      <td>118514.486412</td>\n",
              "      <td>покупка жилья для семьи</td>\n",
              "    </tr>\n",
              "    <tr>\n",
              "      <th>145</th>\n",
              "      <td>0</td>\n",
              "      <td>NaN</td>\n",
              "      <td>62</td>\n",
              "      <td>среднее</td>\n",
              "      <td>1</td>\n",
              "      <td>женат / замужем</td>\n",
              "      <td>0</td>\n",
              "      <td>M</td>\n",
              "      <td>пенсионер</td>\n",
              "      <td>0</td>\n",
              "      <td>118514.486412</td>\n",
              "      <td>строительство недвижимости</td>\n",
              "    </tr>\n",
              "    <tr>\n",
              "      <th>...</th>\n",
              "      <td>...</td>\n",
              "      <td>...</td>\n",
              "      <td>...</td>\n",
              "      <td>...</td>\n",
              "      <td>...</td>\n",
              "      <td>...</td>\n",
              "      <td>...</td>\n",
              "      <td>...</td>\n",
              "      <td>...</td>\n",
              "      <td>...</td>\n",
              "      <td>...</td>\n",
              "      <td>...</td>\n",
              "    </tr>\n",
              "    <tr>\n",
              "      <th>21311</th>\n",
              "      <td>0</td>\n",
              "      <td>NaN</td>\n",
              "      <td>49</td>\n",
              "      <td>среднее</td>\n",
              "      <td>1</td>\n",
              "      <td>женат / замужем</td>\n",
              "      <td>0</td>\n",
              "      <td>F</td>\n",
              "      <td>пенсионер</td>\n",
              "      <td>0</td>\n",
              "      <td>118514.486412</td>\n",
              "      <td>покупка жилья для сдачи</td>\n",
              "    </tr>\n",
              "    <tr>\n",
              "      <th>21321</th>\n",
              "      <td>0</td>\n",
              "      <td>NaN</td>\n",
              "      <td>56</td>\n",
              "      <td>Среднее</td>\n",
              "      <td>1</td>\n",
              "      <td>женат / замужем</td>\n",
              "      <td>0</td>\n",
              "      <td>F</td>\n",
              "      <td>пенсионер</td>\n",
              "      <td>0</td>\n",
              "      <td>118514.486412</td>\n",
              "      <td>операции с недвижимостью</td>\n",
              "    </tr>\n",
              "    <tr>\n",
              "      <th>21414</th>\n",
              "      <td>0</td>\n",
              "      <td>NaN</td>\n",
              "      <td>65</td>\n",
              "      <td>среднее</td>\n",
              "      <td>1</td>\n",
              "      <td>женат / замужем</td>\n",
              "      <td>0</td>\n",
              "      <td>F</td>\n",
              "      <td>пенсионер</td>\n",
              "      <td>0</td>\n",
              "      <td>118514.486412</td>\n",
              "      <td>покупка своего жилья</td>\n",
              "    </tr>\n",
              "    <tr>\n",
              "      <th>21415</th>\n",
              "      <td>0</td>\n",
              "      <td>NaN</td>\n",
              "      <td>54</td>\n",
              "      <td>среднее</td>\n",
              "      <td>1</td>\n",
              "      <td>женат / замужем</td>\n",
              "      <td>0</td>\n",
              "      <td>F</td>\n",
              "      <td>пенсионер</td>\n",
              "      <td>0</td>\n",
              "      <td>118514.486412</td>\n",
              "      <td>операции с жильем</td>\n",
              "    </tr>\n",
              "    <tr>\n",
              "      <th>21423</th>\n",
              "      <td>0</td>\n",
              "      <td>NaN</td>\n",
              "      <td>63</td>\n",
              "      <td>среднее</td>\n",
              "      <td>1</td>\n",
              "      <td>женат / замужем</td>\n",
              "      <td>0</td>\n",
              "      <td>M</td>\n",
              "      <td>пенсионер</td>\n",
              "      <td>0</td>\n",
              "      <td>118514.486412</td>\n",
              "      <td>сделка с автомобилем</td>\n",
              "    </tr>\n",
              "  </tbody>\n",
              "</table>\n",
              "<p>413 rows × 12 columns</p>\n",
              "</div>\n",
              "      <button class=\"colab-df-convert\" onclick=\"convertToInteractive('df-f06d157b-2cb1-4b07-becd-7b08e5346f60')\"\n",
              "              title=\"Convert this dataframe to an interactive table.\"\n",
              "              style=\"display:none;\">\n",
              "        \n",
              "  <svg xmlns=\"http://www.w3.org/2000/svg\" height=\"24px\"viewBox=\"0 0 24 24\"\n",
              "       width=\"24px\">\n",
              "    <path d=\"M0 0h24v24H0V0z\" fill=\"none\"/>\n",
              "    <path d=\"M18.56 5.44l.94 2.06.94-2.06 2.06-.94-2.06-.94-.94-2.06-.94 2.06-2.06.94zm-11 1L8.5 8.5l.94-2.06 2.06-.94-2.06-.94L8.5 2.5l-.94 2.06-2.06.94zm10 10l.94 2.06.94-2.06 2.06-.94-2.06-.94-.94-2.06-.94 2.06-2.06.94z\"/><path d=\"M17.41 7.96l-1.37-1.37c-.4-.4-.92-.59-1.43-.59-.52 0-1.04.2-1.43.59L10.3 9.45l-7.72 7.72c-.78.78-.78 2.05 0 2.83L4 21.41c.39.39.9.59 1.41.59.51 0 1.02-.2 1.41-.59l7.78-7.78 2.81-2.81c.8-.78.8-2.07 0-2.86zM5.41 20L4 18.59l7.72-7.72 1.47 1.35L5.41 20z\"/>\n",
              "  </svg>\n",
              "      </button>\n",
              "      \n",
              "  <style>\n",
              "    .colab-df-container {\n",
              "      display:flex;\n",
              "      flex-wrap:wrap;\n",
              "      gap: 12px;\n",
              "    }\n",
              "\n",
              "    .colab-df-convert {\n",
              "      background-color: #E8F0FE;\n",
              "      border: none;\n",
              "      border-radius: 50%;\n",
              "      cursor: pointer;\n",
              "      display: none;\n",
              "      fill: #1967D2;\n",
              "      height: 32px;\n",
              "      padding: 0 0 0 0;\n",
              "      width: 32px;\n",
              "    }\n",
              "\n",
              "    .colab-df-convert:hover {\n",
              "      background-color: #E2EBFA;\n",
              "      box-shadow: 0px 1px 2px rgba(60, 64, 67, 0.3), 0px 1px 3px 1px rgba(60, 64, 67, 0.15);\n",
              "      fill: #174EA6;\n",
              "    }\n",
              "\n",
              "    [theme=dark] .colab-df-convert {\n",
              "      background-color: #3B4455;\n",
              "      fill: #D2E3FC;\n",
              "    }\n",
              "\n",
              "    [theme=dark] .colab-df-convert:hover {\n",
              "      background-color: #434B5C;\n",
              "      box-shadow: 0px 1px 3px 1px rgba(0, 0, 0, 0.15);\n",
              "      filter: drop-shadow(0px 1px 2px rgba(0, 0, 0, 0.3));\n",
              "      fill: #FFFFFF;\n",
              "    }\n",
              "  </style>\n",
              "\n",
              "      <script>\n",
              "        const buttonEl =\n",
              "          document.querySelector('#df-f06d157b-2cb1-4b07-becd-7b08e5346f60 button.colab-df-convert');\n",
              "        buttonEl.style.display =\n",
              "          google.colab.kernel.accessAllowed ? 'block' : 'none';\n",
              "\n",
              "        async function convertToInteractive(key) {\n",
              "          const element = document.querySelector('#df-f06d157b-2cb1-4b07-becd-7b08e5346f60');\n",
              "          const dataTable =\n",
              "            await google.colab.kernel.invokeFunction('convertToInteractive',\n",
              "                                                     [key], {});\n",
              "          if (!dataTable) return;\n",
              "\n",
              "          const docLinkHtml = 'Like what you see? Visit the ' +\n",
              "            '<a target=\"_blank\" href=https://colab.research.google.com/notebooks/data_table.ipynb>data table notebook</a>'\n",
              "            + ' to learn more about interactive tables.';\n",
              "          element.innerHTML = '';\n",
              "          dataTable['output_type'] = 'display_data';\n",
              "          await google.colab.output.renderOutput(dataTable, element);\n",
              "          const docLink = document.createElement('div');\n",
              "          docLink.innerHTML = docLinkHtml;\n",
              "          element.appendChild(docLink);\n",
              "        }\n",
              "      </script>\n",
              "    </div>\n",
              "  </div>\n",
              "  "
            ],
            "text/plain": [
              "       children  days_employed  ...   total_income                           purpose\n",
              "12            0            NaN  ...  118514.486412                   сыграть свадьбу\n",
              "29            0            NaN  ...  118514.486412  строительство жилой недвижимости\n",
              "55            0            NaN  ...  118514.486412                   сыграть свадьбу\n",
              "67            0            NaN  ...  118514.486412           покупка жилья для семьи\n",
              "145           0            NaN  ...  118514.486412        строительство недвижимости\n",
              "...         ...            ...  ...            ...                               ...\n",
              "21311         0            NaN  ...  118514.486412           покупка жилья для сдачи\n",
              "21321         0            NaN  ...  118514.486412          операции с недвижимостью\n",
              "21414         0            NaN  ...  118514.486412              покупка своего жилья\n",
              "21415         0            NaN  ...  118514.486412                 операции с жильем\n",
              "21423         0            NaN  ...  118514.486412              сделка с автомобилем\n",
              "\n",
              "[413 rows x 12 columns]"
            ]
          },
          "metadata": {},
          "execution_count": 12
        }
      ],
      "source": [
        "data.query('income_type == \"пенсионер\" and days_employed != days_employed')"
      ]
    },
    {
      "cell_type": "code",
      "execution_count": 13,
      "metadata": {
        "id": "1kqZx46yNm59"
      },
      "outputs": [],
      "source": [
        "data = no_non_value(data, 'total_income', 'income_type')"
      ]
    },
    {
      "cell_type": "code",
      "execution_count": 14,
      "metadata": {
        "id": "TzXuLhDGX0xo"
      },
      "outputs": [],
      "source": [
        "data = no_non_value(data, 'days_employed', 'income_type')"
      ]
    },
    {
      "cell_type": "code",
      "execution_count": 15,
      "metadata": {
        "colab": {
          "base_uri": "https://localhost:8080/"
        },
        "id": "xLzBrW-BzeVg",
        "outputId": "7377afbb-8911-44a8-f7db-2445522720cd"
      },
      "outputs": [
        {
          "output_type": "stream",
          "name": "stdout",
          "text": [
            "<class 'pandas.core.frame.DataFrame'>\n",
            "RangeIndex: 21525 entries, 0 to 21524\n",
            "Data columns (total 12 columns):\n",
            " #   Column            Non-Null Count  Dtype  \n",
            "---  ------            --------------  -----  \n",
            " 0   children          21525 non-null  int64  \n",
            " 1   days_employed     21525 non-null  float64\n",
            " 2   dob_years         21525 non-null  int64  \n",
            " 3   education         21525 non-null  object \n",
            " 4   education_id      21525 non-null  int64  \n",
            " 5   family_status     21525 non-null  object \n",
            " 6   family_status_id  21525 non-null  int64  \n",
            " 7   gender            21525 non-null  object \n",
            " 8   income_type       21525 non-null  object \n",
            " 9   debt              21525 non-null  int64  \n",
            " 10  total_income      21525 non-null  float64\n",
            " 11  purpose           21525 non-null  object \n",
            "dtypes: float64(2), int64(5), object(5)\n",
            "memory usage: 2.0+ MB\n"
          ]
        }
      ],
      "source": [
        "data.info()"
      ]
    },
    {
      "cell_type": "markdown",
      "metadata": {
        "id": "7pSWaYFrzeVg"
      },
      "source": [
        "**Вывод:**"
      ]
    },
    {
      "cell_type": "code",
      "source": [
        ""
      ],
      "metadata": {
        "id": "wHon0JY25X73"
      },
      "execution_count": 15,
      "outputs": []
    },
    {
      "cell_type": "markdown",
      "metadata": {
        "id": "9DN4D5i0zeVg"
      },
      "source": [
        "Для определения и подсчёта пропущенных значений таблицы применим метод .isna() в сочетании с методом .mean(). В результате мы видим два столбца days_employed и total_income с 2174 (10% от всех данных) строками пропущенных значений. Заполним данные строки используя написанную нами функцию no_non_value. Она заполнит пропуски медианными значениями вычисленными в соответствующей группе клиентов. Удаление данных строк методом .dropna() не целесообразно, так как удаление полностью всех строк может повлиять на результат исследования."
      ]
    },
    {
      "cell_type": "markdown",
      "metadata": {
        "id": "dmIVvQ8WzeVh"
      },
      "source": [
        "### Замена типа данных"
      ]
    },
    {
      "cell_type": "code",
      "execution_count": 16,
      "metadata": {
        "colab": {
          "base_uri": "https://localhost:8080/"
        },
        "id": "UzxaveZ0g4GX",
        "outputId": "fa3b493d-0582-4f6d-9da7-6ab356dea63e"
      },
      "outputs": [
        {
          "output_type": "execute_result",
          "data": {
            "text/plain": [
              "children              int64\n",
              "days_employed       float64\n",
              "dob_years             int64\n",
              "education            object\n",
              "education_id          int64\n",
              "family_status        object\n",
              "family_status_id      int64\n",
              "gender               object\n",
              "income_type          object\n",
              "debt                  int64\n",
              "total_income        float64\n",
              "purpose              object\n",
              "dtype: object"
            ]
          },
          "metadata": {},
          "execution_count": 16
        }
      ],
      "source": [
        "data.dtypes"
      ]
    },
    {
      "cell_type": "markdown",
      "metadata": {
        "id": "5mHGK10hzeVh"
      },
      "source": [
        "Самый простой способ преобразовать столбец данных в другой тип - использовать .astype()"
      ]
    },
    {
      "cell_type": "code",
      "execution_count": 17,
      "metadata": {
        "id": "7f4F4ZYSzeVi"
      },
      "outputs": [],
      "source": [
        "data['days_employed'] = data['days_employed'].astype('int')\n",
        "data['children'] = data['children'].astype('int')\n"
      ]
    },
    {
      "cell_type": "markdown",
      "metadata": {
        "id": "wbfRJ4qczeVj"
      },
      "source": [
        "Целесообразно изменить тип данных в трех столбцах. 'days_employed'(общий трудовой стаж в днях), 'children'(количество детей в семье), так как из их смысла понятно что они могут быть только целочисленные. "
      ]
    },
    {
      "cell_type": "markdown",
      "metadata": {
        "id": "5YcuFi-IzeVk"
      },
      "source": [
        "Так же столбцы 'days_employed', 'children' имют отрицательные значения, что также не являеться верным. Создаем функцию для изменения минуса на плюс. Либо можем применить метод .abs"
      ]
    },
    {
      "cell_type": "code",
      "execution_count": 18,
      "metadata": {
        "id": "W3sXwyRdzeVk"
      },
      "outputs": [],
      "source": [
        "def modul(num):\n",
        "    if num < 0:\n",
        "        num_p = num * -1\n",
        "        return num_p\n",
        "    else:\n",
        "        return num"
      ]
    },
    {
      "cell_type": "code",
      "execution_count": 19,
      "metadata": {
        "id": "x00mdHkmzeVk"
      },
      "outputs": [],
      "source": [
        "data['days_employed'] = data['days_employed'].apply(modul)\n",
        "data['children'] = data['children'].apply(modul)"
      ]
    },
    {
      "cell_type": "markdown",
      "metadata": {
        "id": "_eZHKy4RzeVl"
      },
      "source": [
        "Проверим, что получилось."
      ]
    },
    {
      "cell_type": "code",
      "execution_count": 20,
      "metadata": {
        "colab": {
          "base_uri": "https://localhost:8080/",
          "height": 206
        },
        "id": "cYIAjJ6ozeVl",
        "outputId": "09bf8d6a-d7fe-4387-aba6-71afeccc797a"
      },
      "outputs": [
        {
          "output_type": "execute_result",
          "data": {
            "text/html": [
              "\n",
              "  <div id=\"df-80e55650-d4d4-4f84-91eb-91dff5d23362\">\n",
              "    <div class=\"colab-df-container\">\n",
              "      <div>\n",
              "<style scoped>\n",
              "    .dataframe tbody tr th:only-of-type {\n",
              "        vertical-align: middle;\n",
              "    }\n",
              "\n",
              "    .dataframe tbody tr th {\n",
              "        vertical-align: top;\n",
              "    }\n",
              "\n",
              "    .dataframe thead th {\n",
              "        text-align: right;\n",
              "    }\n",
              "</style>\n",
              "<table border=\"1\" class=\"dataframe\">\n",
              "  <thead>\n",
              "    <tr style=\"text-align: right;\">\n",
              "      <th></th>\n",
              "      <th>children</th>\n",
              "      <th>days_employed</th>\n",
              "      <th>dob_years</th>\n",
              "      <th>education</th>\n",
              "      <th>education_id</th>\n",
              "      <th>family_status</th>\n",
              "      <th>family_status_id</th>\n",
              "      <th>gender</th>\n",
              "      <th>income_type</th>\n",
              "      <th>debt</th>\n",
              "      <th>total_income</th>\n",
              "      <th>purpose</th>\n",
              "    </tr>\n",
              "  </thead>\n",
              "  <tbody>\n",
              "    <tr>\n",
              "      <th>0</th>\n",
              "      <td>1</td>\n",
              "      <td>8437</td>\n",
              "      <td>42</td>\n",
              "      <td>высшее</td>\n",
              "      <td>0</td>\n",
              "      <td>женат / замужем</td>\n",
              "      <td>0</td>\n",
              "      <td>F</td>\n",
              "      <td>сотрудник</td>\n",
              "      <td>0</td>\n",
              "      <td>253875.639453</td>\n",
              "      <td>покупка жилья</td>\n",
              "    </tr>\n",
              "    <tr>\n",
              "      <th>1</th>\n",
              "      <td>1</td>\n",
              "      <td>4024</td>\n",
              "      <td>36</td>\n",
              "      <td>среднее</td>\n",
              "      <td>1</td>\n",
              "      <td>женат / замужем</td>\n",
              "      <td>0</td>\n",
              "      <td>F</td>\n",
              "      <td>сотрудник</td>\n",
              "      <td>0</td>\n",
              "      <td>112080.014102</td>\n",
              "      <td>приобретение автомобиля</td>\n",
              "    </tr>\n",
              "    <tr>\n",
              "      <th>2</th>\n",
              "      <td>0</td>\n",
              "      <td>5623</td>\n",
              "      <td>33</td>\n",
              "      <td>Среднее</td>\n",
              "      <td>1</td>\n",
              "      <td>женат / замужем</td>\n",
              "      <td>0</td>\n",
              "      <td>M</td>\n",
              "      <td>сотрудник</td>\n",
              "      <td>0</td>\n",
              "      <td>145885.952297</td>\n",
              "      <td>покупка жилья</td>\n",
              "    </tr>\n",
              "    <tr>\n",
              "      <th>3</th>\n",
              "      <td>3</td>\n",
              "      <td>4124</td>\n",
              "      <td>32</td>\n",
              "      <td>среднее</td>\n",
              "      <td>1</td>\n",
              "      <td>женат / замужем</td>\n",
              "      <td>0</td>\n",
              "      <td>M</td>\n",
              "      <td>сотрудник</td>\n",
              "      <td>0</td>\n",
              "      <td>267628.550329</td>\n",
              "      <td>дополнительное образование</td>\n",
              "    </tr>\n",
              "    <tr>\n",
              "      <th>4</th>\n",
              "      <td>0</td>\n",
              "      <td>340266</td>\n",
              "      <td>53</td>\n",
              "      <td>среднее</td>\n",
              "      <td>1</td>\n",
              "      <td>гражданский брак</td>\n",
              "      <td>1</td>\n",
              "      <td>F</td>\n",
              "      <td>пенсионер</td>\n",
              "      <td>0</td>\n",
              "      <td>158616.077870</td>\n",
              "      <td>сыграть свадьбу</td>\n",
              "    </tr>\n",
              "  </tbody>\n",
              "</table>\n",
              "</div>\n",
              "      <button class=\"colab-df-convert\" onclick=\"convertToInteractive('df-80e55650-d4d4-4f84-91eb-91dff5d23362')\"\n",
              "              title=\"Convert this dataframe to an interactive table.\"\n",
              "              style=\"display:none;\">\n",
              "        \n",
              "  <svg xmlns=\"http://www.w3.org/2000/svg\" height=\"24px\"viewBox=\"0 0 24 24\"\n",
              "       width=\"24px\">\n",
              "    <path d=\"M0 0h24v24H0V0z\" fill=\"none\"/>\n",
              "    <path d=\"M18.56 5.44l.94 2.06.94-2.06 2.06-.94-2.06-.94-.94-2.06-.94 2.06-2.06.94zm-11 1L8.5 8.5l.94-2.06 2.06-.94-2.06-.94L8.5 2.5l-.94 2.06-2.06.94zm10 10l.94 2.06.94-2.06 2.06-.94-2.06-.94-.94-2.06-.94 2.06-2.06.94z\"/><path d=\"M17.41 7.96l-1.37-1.37c-.4-.4-.92-.59-1.43-.59-.52 0-1.04.2-1.43.59L10.3 9.45l-7.72 7.72c-.78.78-.78 2.05 0 2.83L4 21.41c.39.39.9.59 1.41.59.51 0 1.02-.2 1.41-.59l7.78-7.78 2.81-2.81c.8-.78.8-2.07 0-2.86zM5.41 20L4 18.59l7.72-7.72 1.47 1.35L5.41 20z\"/>\n",
              "  </svg>\n",
              "      </button>\n",
              "      \n",
              "  <style>\n",
              "    .colab-df-container {\n",
              "      display:flex;\n",
              "      flex-wrap:wrap;\n",
              "      gap: 12px;\n",
              "    }\n",
              "\n",
              "    .colab-df-convert {\n",
              "      background-color: #E8F0FE;\n",
              "      border: none;\n",
              "      border-radius: 50%;\n",
              "      cursor: pointer;\n",
              "      display: none;\n",
              "      fill: #1967D2;\n",
              "      height: 32px;\n",
              "      padding: 0 0 0 0;\n",
              "      width: 32px;\n",
              "    }\n",
              "\n",
              "    .colab-df-convert:hover {\n",
              "      background-color: #E2EBFA;\n",
              "      box-shadow: 0px 1px 2px rgba(60, 64, 67, 0.3), 0px 1px 3px 1px rgba(60, 64, 67, 0.15);\n",
              "      fill: #174EA6;\n",
              "    }\n",
              "\n",
              "    [theme=dark] .colab-df-convert {\n",
              "      background-color: #3B4455;\n",
              "      fill: #D2E3FC;\n",
              "    }\n",
              "\n",
              "    [theme=dark] .colab-df-convert:hover {\n",
              "      background-color: #434B5C;\n",
              "      box-shadow: 0px 1px 3px 1px rgba(0, 0, 0, 0.15);\n",
              "      filter: drop-shadow(0px 1px 2px rgba(0, 0, 0, 0.3));\n",
              "      fill: #FFFFFF;\n",
              "    }\n",
              "  </style>\n",
              "\n",
              "      <script>\n",
              "        const buttonEl =\n",
              "          document.querySelector('#df-80e55650-d4d4-4f84-91eb-91dff5d23362 button.colab-df-convert');\n",
              "        buttonEl.style.display =\n",
              "          google.colab.kernel.accessAllowed ? 'block' : 'none';\n",
              "\n",
              "        async function convertToInteractive(key) {\n",
              "          const element = document.querySelector('#df-80e55650-d4d4-4f84-91eb-91dff5d23362');\n",
              "          const dataTable =\n",
              "            await google.colab.kernel.invokeFunction('convertToInteractive',\n",
              "                                                     [key], {});\n",
              "          if (!dataTable) return;\n",
              "\n",
              "          const docLinkHtml = 'Like what you see? Visit the ' +\n",
              "            '<a target=\"_blank\" href=https://colab.research.google.com/notebooks/data_table.ipynb>data table notebook</a>'\n",
              "            + ' to learn more about interactive tables.';\n",
              "          element.innerHTML = '';\n",
              "          dataTable['output_type'] = 'display_data';\n",
              "          await google.colab.output.renderOutput(dataTable, element);\n",
              "          const docLink = document.createElement('div');\n",
              "          docLink.innerHTML = docLinkHtml;\n",
              "          element.appendChild(docLink);\n",
              "        }\n",
              "      </script>\n",
              "    </div>\n",
              "  </div>\n",
              "  "
            ],
            "text/plain": [
              "   children  days_employed  ...   total_income                     purpose\n",
              "0         1           8437  ...  253875.639453               покупка жилья\n",
              "1         1           4024  ...  112080.014102     приобретение автомобиля\n",
              "2         0           5623  ...  145885.952297               покупка жилья\n",
              "3         3           4124  ...  267628.550329  дополнительное образование\n",
              "4         0         340266  ...  158616.077870             сыграть свадьбу\n",
              "\n",
              "[5 rows x 12 columns]"
            ]
          },
          "metadata": {},
          "execution_count": 20
        }
      ],
      "source": [
        "data.head()"
      ]
    },
    {
      "cell_type": "markdown",
      "metadata": {
        "id": "wp3JhphmzeVl"
      },
      "source": [
        "**Вывод**"
      ]
    },
    {
      "cell_type": "markdown",
      "metadata": {
        "id": "XFZ8nQJ5zeVl"
      },
      "source": [
        "Мы изменили вещественный тип (float) данных на целочисленный (int). После анализа таблицы были определены столбы с вещественным типом данных 'days_employed', 'children'. Для их изменнеия выбрали метод astype() как самый простой и универсальный. Отрицательные значения изменили в рамках общей задачи предобработки данных."
      ]
    },
    {
      "cell_type": "markdown",
      "metadata": {
        "id": "P5Wskw5wzeVm"
      },
      "source": [
        "### Обработка дубликатов"
      ]
    },
    {
      "cell_type": "markdown",
      "metadata": {
        "id": "6I8Q6crgzeVm"
      },
      "source": [
        "Проверим на дубликаты и удалим их."
      ]
    },
    {
      "cell_type": "code",
      "execution_count": 21,
      "metadata": {
        "colab": {
          "base_uri": "https://localhost:8080/"
        },
        "id": "e39ZvjJczeVn",
        "outputId": "215235b5-afe3-4413-f257-3e1ce0fcf970"
      },
      "outputs": [
        {
          "output_type": "execute_result",
          "data": {
            "text/plain": [
              "среднее                13750\n",
              "высшее                  4718\n",
              "СРЕДНЕЕ                  772\n",
              "Среднее                  711\n",
              "неоконченное высшее      668\n",
              "ВЫСШЕЕ                   274\n",
              "Высшее                   268\n",
              "начальное                250\n",
              "Неоконченное высшее       47\n",
              "НЕОКОНЧЕННОЕ ВЫСШЕЕ       29\n",
              "НАЧАЛЬНОЕ                 17\n",
              "Начальное                 15\n",
              "ученая степень             4\n",
              "УЧЕНАЯ СТЕПЕНЬ             1\n",
              "Ученая степень             1\n",
              "Name: education, dtype: int64"
            ]
          },
          "metadata": {},
          "execution_count": 21
        }
      ],
      "source": [
        "data['education'].value_counts()"
      ]
    },
    {
      "cell_type": "markdown",
      "metadata": {
        "id": "GgKmFbTRzeVn"
      },
      "source": [
        "Cтроки отличаются регистром букв. Чтобы учесть такие дубликаты, все символы в строке приводят к нижнему регистру вызовом метода lower(). В Pandas синтаксис .str.lower(). Тем самым мы удалили все дубликаты"
      ]
    },
    {
      "cell_type": "code",
      "execution_count": 22,
      "metadata": {
        "colab": {
          "base_uri": "https://localhost:8080/"
        },
        "id": "eZ-rPkHvzeVn",
        "outputId": "aee64db5-10ed-4465-89a2-01b9bcd7478d"
      },
      "outputs": [
        {
          "output_type": "execute_result",
          "data": {
            "text/plain": [
              "21520"
            ]
          },
          "metadata": {},
          "execution_count": 22
        }
      ],
      "source": [
        "data['education'] = data['education'].str.lower()\n",
        "data['education'].duplicated().sum()\n"
      ]
    },
    {
      "cell_type": "code",
      "execution_count": 23,
      "metadata": {
        "colab": {
          "base_uri": "https://localhost:8080/"
        },
        "id": "tcPzdbwIzeVo",
        "outputId": "8065dc5e-7ec5-4962-b941-04b15439750f"
      },
      "outputs": [
        {
          "output_type": "execute_result",
          "data": {
            "text/plain": [
              "среднее                15233\n",
              "высшее                  5260\n",
              "неоконченное высшее      744\n",
              "начальное                282\n",
              "ученая степень             6\n",
              "Name: education, dtype: int64"
            ]
          },
          "metadata": {},
          "execution_count": 23
        }
      ],
      "source": [
        "data['education'].value_counts()"
      ]
    },
    {
      "cell_type": "markdown",
      "metadata": {
        "id": "UBnN8Jm5zeVo"
      },
      "source": [
        "По аналогии поступим и с другими столцами имющими категориальные типы данных."
      ]
    },
    {
      "cell_type": "code",
      "execution_count": 24,
      "metadata": {
        "colab": {
          "base_uri": "https://localhost:8080/"
        },
        "id": "6TyZbyhqzeVo",
        "outputId": "ae9647d2-09ab-4b6a-d5af-b038b28e91aa"
      },
      "outputs": [
        {
          "output_type": "execute_result",
          "data": {
            "text/plain": [
              "женат / замужем          12380\n",
              "гражданский брак          4177\n",
              "Не женат / не замужем     2813\n",
              "в разводе                 1195\n",
              "вдовец / вдова             960\n",
              "Name: family_status, dtype: int64"
            ]
          },
          "metadata": {},
          "execution_count": 24
        }
      ],
      "source": [
        "data['family_status'].value_counts()"
      ]
    },
    {
      "cell_type": "code",
      "execution_count": 25,
      "metadata": {
        "colab": {
          "base_uri": "https://localhost:8080/"
        },
        "id": "Rd0l6o3gzeVp",
        "outputId": "3e56c3dd-5849-4e98-a6eb-bd0d2350206c"
      },
      "outputs": [
        {
          "output_type": "execute_result",
          "data": {
            "text/plain": [
              "женат / замужем          12380\n",
              "гражданский брак          4177\n",
              "не женат / не замужем     2813\n",
              "в разводе                 1195\n",
              "вдовец / вдова             960\n",
              "Name: family_status, dtype: int64"
            ]
          },
          "metadata": {},
          "execution_count": 25
        }
      ],
      "source": [
        "data['family_status'] = data['family_status'].str.lower()\n",
        "data['family_status'].value_counts()"
      ]
    },
    {
      "cell_type": "code",
      "execution_count": 26,
      "metadata": {
        "colab": {
          "base_uri": "https://localhost:8080/"
        },
        "id": "JApBldHnzeVp",
        "outputId": "67319e30-c70f-4deb-fd73-c03f91dddce3"
      },
      "outputs": [
        {
          "output_type": "execute_result",
          "data": {
            "text/plain": [
              "F      14236\n",
              "M       7288\n",
              "XNA        1\n",
              "Name: gender, dtype: int64"
            ]
          },
          "metadata": {},
          "execution_count": 26
        }
      ],
      "source": [
        "data['gender'].value_counts()"
      ]
    },
    {
      "cell_type": "markdown",
      "metadata": {
        "id": "0bwa-TotzeVp"
      },
      "source": [
        "Наблюдаем появление в данных третьего пола. Кстати в США официально 54 типа половой принадлежности))). В данном случае будем считать это дубликатом появившимся по технической причине, заменим его на f (так как это всего один случай не имеет значения на что менять, можно просто удалить его)"
      ]
    },
    {
      "cell_type": "code",
      "execution_count": 27,
      "metadata": {
        "colab": {
          "base_uri": "https://localhost:8080/"
        },
        "id": "2G1KKP5XzeVq",
        "outputId": "8aa64876-35f2-4c31-d152-cadae72f926b"
      },
      "outputs": [
        {
          "output_type": "execute_result",
          "data": {
            "text/plain": [
              "f    14237\n",
              "m     7288\n",
              "Name: gender, dtype: int64"
            ]
          },
          "metadata": {},
          "execution_count": 27
        }
      ],
      "source": [
        "data = data.replace('XNA', 'f')\n",
        "data['gender'] = data['gender'].str.lower()\n",
        "data['gender'].value_counts()"
      ]
    },
    {
      "cell_type": "code",
      "execution_count": 28,
      "metadata": {
        "colab": {
          "base_uri": "https://localhost:8080/"
        },
        "id": "v-6IlW44zeVq",
        "outputId": "ee8aadbf-0c13-4690-b01a-9d1b5f06f362"
      },
      "outputs": [
        {
          "output_type": "execute_result",
          "data": {
            "text/plain": [
              "сотрудник          11119\n",
              "компаньон           5085\n",
              "пенсионер           3856\n",
              "госслужащий         1459\n",
              "предприниматель        2\n",
              "безработный            2\n",
              "студент                1\n",
              "в декрете              1\n",
              "Name: income_type, dtype: int64"
            ]
          },
          "metadata": {},
          "execution_count": 28
        }
      ],
      "source": [
        "data['income_type'].value_counts()"
      ]
    },
    {
      "cell_type": "markdown",
      "metadata": {
        "id": "8QWVqN0YzeVq"
      },
      "source": [
        "Мы видим разные категории, некоторые из которых не отражают тип занятосяти. Предлагаю объеденить некоторые категории в схожие катерии. Сотрудник, безработный и пенсионер."
      ]
    },
    {
      "cell_type": "code",
      "execution_count": 29,
      "metadata": {
        "id": "J8RRuHCDaG-s"
      },
      "outputs": [],
      "source": [
        "data['income_type'] = data['income_type'].replace({'компаньон':'сотрудник', 'госслужащий':'сотрудник', 'предприниматель':'сотрудник', 'студент':'безработный',  'в декрете':'безработный', })"
      ]
    },
    {
      "cell_type": "code",
      "execution_count": 30,
      "metadata": {
        "colab": {
          "base_uri": "https://localhost:8080/"
        },
        "id": "c_S70T50zeVr",
        "outputId": "e0097fd1-362a-44f0-eaa1-9165bdff3b8a"
      },
      "outputs": [
        {
          "output_type": "execute_result",
          "data": {
            "text/plain": [
              "сотрудник      17665\n",
              "пенсионер       3856\n",
              "безработный        4\n",
              "Name: income_type, dtype: int64"
            ]
          },
          "metadata": {},
          "execution_count": 30
        }
      ],
      "source": [
        "data['income_type'].value_counts()"
      ]
    },
    {
      "cell_type": "code",
      "execution_count": 31,
      "metadata": {
        "colab": {
          "base_uri": "https://localhost:8080/",
          "height": 393
        },
        "id": "GaCzpb_yzeVr",
        "outputId": "23603e0e-9b9b-40f1-f707-3dad1cb7e982"
      },
      "outputs": [
        {
          "output_type": "display_data",
          "data": {
            "image/png": "[encoded data removed]",
            "text/plain": [
              "<Figure size 1440x432 with 1 Axes>"
            ]
          },
          "metadata": {}
        }
      ],
      "source": [
        "plt.title('Распределение клиентов по возрасту')\n",
        "data['dob_years'].value_counts().sort_index(ascending=True).plot(kind='bar')\n",
        "plt.show()"
      ]
    },
    {
      "cell_type": "markdown",
      "metadata": {
        "id": "sbltNBgMzeVs"
      },
      "source": [
        "В столбце есть 101 значение равно 0. Предполагаю, что эо так же техническая ошибка. Так как этих строй мало, предлагаю удалить их."
      ]
    },
    {
      "cell_type": "code",
      "execution_count": 32,
      "metadata": {
        "id": "hRLB2oE2zeVs"
      },
      "outputs": [],
      "source": [
        "data = data.query('dob_years != 0')"
      ]
    },
    {
      "cell_type": "code",
      "execution_count": 33,
      "metadata": {
        "colab": {
          "base_uri": "https://localhost:8080/",
          "height": 393
        },
        "id": "mfvYPcW2zeVt",
        "outputId": "6a7344b0-802d-4f60-9dc9-f91ac2d445a1"
      },
      "outputs": [
        {
          "output_type": "display_data",
          "data": {
            "image/png": "[encoded data removed]",
            "text/plain": [
              "<Figure size 1440x432 with 1 Axes>"
            ]
          },
          "metadata": {}
        }
      ],
      "source": [
        "plt.title ('Распределение клиентов по возрасту')\n",
        "data['dob_years'].value_counts().sort_index(ascending=True).plot(kind='bar')\n",
        "plt.show()"
      ]
    },
    {
      "cell_type": "markdown",
      "metadata": {
        "id": "kVTsiHBKzeVt"
      },
      "source": [
        "**Вывод**"
      ]
    },
    {
      "cell_type": "markdown",
      "metadata": {
        "id": "b-lblx4HzeVt"
      },
      "source": [
        "В таблице присутствовало множество дубликатов. Мы удалили дубликаты приведя все знаки в строках к нижнему регистру, в ручном режиме объеденили некоторые группы значений, заменили отсутствующие значения на средние по столбцу. Данные дубликаты возникали в связи с техническими ошибками. Скорее всего эти данные в систему заводили специалисты банка и каждый специалист заводил по своему."
      ]
    },
    {
      "cell_type": "markdown",
      "metadata": {
        "id": "VZTHvk11zeVu"
      },
      "source": [
        "#### Лемматизация"
      ]
    },
    {
      "cell_type": "markdown",
      "metadata": {
        "id": "6Cp2VDINzeVu"
      },
      "source": [
        "Для устранения дублей в столбце -цели кредита,воспользуемся лемматизацией.Для лемматизаци будем использовать бибилитеку pymystem3. "
      ]
    },
    {
      "cell_type": "markdown",
      "metadata": {
        "id": "5r_hWT8rzeVv"
      },
      "source": [
        "Создадим функию для лемматизации значений"
      ]
    },
    {
      "cell_type": "code",
      "execution_count": 34,
      "metadata": {
        "id": "8mED-YzEo-uX"
      },
      "outputs": [],
      "source": [
        "def lemmatize(str):\n",
        "    return ' '.join(m.lemmatize(str))\n"
      ]
    },
    {
      "cell_type": "markdown",
      "metadata": {
        "id": "fgmZAT-uzeVw"
      },
      "source": [
        "С помощью метода apply пременим фунцию для лемматизации слов в столбце purpose."
      ]
    },
    {
      "cell_type": "code",
      "execution_count": 35,
      "metadata": {
        "colab": {
          "base_uri": "https://localhost:8080/",
          "height": 144
        },
        "id": "IIQ6JDC_l2FI",
        "outputId": "959310d4-a636-4761-8d22-c3e2d95ca657"
      },
      "outputs": [
        {
          "output_type": "execute_result",
          "data": {
            "text/html": [
              "\n",
              "  <div id=\"df-871a893e-5383-4e7f-9db6-657a9fb873ac\">\n",
              "    <div class=\"colab-df-container\">\n",
              "      <div>\n",
              "<style scoped>\n",
              "    .dataframe tbody tr th:only-of-type {\n",
              "        vertical-align: middle;\n",
              "    }\n",
              "\n",
              "    .dataframe tbody tr th {\n",
              "        vertical-align: top;\n",
              "    }\n",
              "\n",
              "    .dataframe thead th {\n",
              "        text-align: right;\n",
              "    }\n",
              "</style>\n",
              "<table border=\"1\" class=\"dataframe\">\n",
              "  <thead>\n",
              "    <tr style=\"text-align: right;\">\n",
              "      <th></th>\n",
              "      <th>children</th>\n",
              "      <th>days_employed</th>\n",
              "      <th>dob_years</th>\n",
              "      <th>education</th>\n",
              "      <th>education_id</th>\n",
              "      <th>family_status</th>\n",
              "      <th>family_status_id</th>\n",
              "      <th>gender</th>\n",
              "      <th>income_type</th>\n",
              "      <th>debt</th>\n",
              "      <th>total_income</th>\n",
              "      <th>purpose</th>\n",
              "      <th>lemm_purpose</th>\n",
              "    </tr>\n",
              "  </thead>\n",
              "  <tbody>\n",
              "    <tr>\n",
              "      <th>0</th>\n",
              "      <td>1</td>\n",
              "      <td>8437</td>\n",
              "      <td>42</td>\n",
              "      <td>высшее</td>\n",
              "      <td>0</td>\n",
              "      <td>женат / замужем</td>\n",
              "      <td>0</td>\n",
              "      <td>f</td>\n",
              "      <td>сотрудник</td>\n",
              "      <td>0</td>\n",
              "      <td>253875.639453</td>\n",
              "      <td>покупка жилья</td>\n",
              "      <td>покупка   жилье \\n</td>\n",
              "    </tr>\n",
              "    <tr>\n",
              "      <th>1</th>\n",
              "      <td>1</td>\n",
              "      <td>4024</td>\n",
              "      <td>36</td>\n",
              "      <td>среднее</td>\n",
              "      <td>1</td>\n",
              "      <td>женат / замужем</td>\n",
              "      <td>0</td>\n",
              "      <td>f</td>\n",
              "      <td>сотрудник</td>\n",
              "      <td>0</td>\n",
              "      <td>112080.014102</td>\n",
              "      <td>приобретение автомобиля</td>\n",
              "      <td>приобретение   автомобиль \\n</td>\n",
              "    </tr>\n",
              "    <tr>\n",
              "      <th>2</th>\n",
              "      <td>0</td>\n",
              "      <td>5623</td>\n",
              "      <td>33</td>\n",
              "      <td>среднее</td>\n",
              "      <td>1</td>\n",
              "      <td>женат / замужем</td>\n",
              "      <td>0</td>\n",
              "      <td>m</td>\n",
              "      <td>сотрудник</td>\n",
              "      <td>0</td>\n",
              "      <td>145885.952297</td>\n",
              "      <td>покупка жилья</td>\n",
              "      <td>покупка   жилье \\n</td>\n",
              "    </tr>\n",
              "  </tbody>\n",
              "</table>\n",
              "</div>\n",
              "      <button class=\"colab-df-convert\" onclick=\"convertToInteractive('df-871a893e-5383-4e7f-9db6-657a9fb873ac')\"\n",
              "              title=\"Convert this dataframe to an interactive table.\"\n",
              "              style=\"display:none;\">\n",
              "        \n",
              "  <svg xmlns=\"http://www.w3.org/2000/svg\" height=\"24px\"viewBox=\"0 0 24 24\"\n",
              "       width=\"24px\">\n",
              "    <path d=\"M0 0h24v24H0V0z\" fill=\"none\"/>\n",
              "    <path d=\"M18.56 5.44l.94 2.06.94-2.06 2.06-.94-2.06-.94-.94-2.06-.94 2.06-2.06.94zm-11 1L8.5 8.5l.94-2.06 2.06-.94-2.06-.94L8.5 2.5l-.94 2.06-2.06.94zm10 10l.94 2.06.94-2.06 2.06-.94-2.06-.94-.94-2.06-.94 2.06-2.06.94z\"/><path d=\"M17.41 7.96l-1.37-1.37c-.4-.4-.92-.59-1.43-.59-.52 0-1.04.2-1.43.59L10.3 9.45l-7.72 7.72c-.78.78-.78 2.05 0 2.83L4 21.41c.39.39.9.59 1.41.59.51 0 1.02-.2 1.41-.59l7.78-7.78 2.81-2.81c.8-.78.8-2.07 0-2.86zM5.41 20L4 18.59l7.72-7.72 1.47 1.35L5.41 20z\"/>\n",
              "  </svg>\n",
              "      </button>\n",
              "      \n",
              "  <style>\n",
              "    .colab-df-container {\n",
              "      display:flex;\n",
              "      flex-wrap:wrap;\n",
              "      gap: 12px;\n",
              "    }\n",
              "\n",
              "    .colab-df-convert {\n",
              "      background-color: #E8F0FE;\n",
              "      border: none;\n",
              "      border-radius: 50%;\n",
              "      cursor: pointer;\n",
              "      display: none;\n",
              "      fill: #1967D2;\n",
              "      height: 32px;\n",
              "      padding: 0 0 0 0;\n",
              "      width: 32px;\n",
              "    }\n",
              "\n",
              "    .colab-df-convert:hover {\n",
              "      background-color: #E2EBFA;\n",
              "      box-shadow: 0px 1px 2px rgba(60, 64, 67, 0.3), 0px 1px 3px 1px rgba(60, 64, 67, 0.15);\n",
              "      fill: #174EA6;\n",
              "    }\n",
              "\n",
              "    [theme=dark] .colab-df-convert {\n",
              "      background-color: #3B4455;\n",
              "      fill: #D2E3FC;\n",
              "    }\n",
              "\n",
              "    [theme=dark] .colab-df-convert:hover {\n",
              "      background-color: #434B5C;\n",
              "      box-shadow: 0px 1px 3px 1px rgba(0, 0, 0, 0.15);\n",
              "      filter: drop-shadow(0px 1px 2px rgba(0, 0, 0, 0.3));\n",
              "      fill: #FFFFFF;\n",
              "    }\n",
              "  </style>\n",
              "\n",
              "      <script>\n",
              "        const buttonEl =\n",
              "          document.querySelector('#df-871a893e-5383-4e7f-9db6-657a9fb873ac button.colab-df-convert');\n",
              "        buttonEl.style.display =\n",
              "          google.colab.kernel.accessAllowed ? 'block' : 'none';\n",
              "\n",
              "        async function convertToInteractive(key) {\n",
              "          const element = document.querySelector('#df-871a893e-5383-4e7f-9db6-657a9fb873ac');\n",
              "          const dataTable =\n",
              "            await google.colab.kernel.invokeFunction('convertToInteractive',\n",
              "                                                     [key], {});\n",
              "          if (!dataTable) return;\n",
              "\n",
              "          const docLinkHtml = 'Like what you see? Visit the ' +\n",
              "            '<a target=\"_blank\" href=https://colab.research.google.com/notebooks/data_table.ipynb>data table notebook</a>'\n",
              "            + ' to learn more about interactive tables.';\n",
              "          element.innerHTML = '';\n",
              "          dataTable['output_type'] = 'display_data';\n",
              "          await google.colab.output.renderOutput(dataTable, element);\n",
              "          const docLink = document.createElement('div');\n",
              "          docLink.innerHTML = docLinkHtml;\n",
              "          element.appendChild(docLink);\n",
              "        }\n",
              "      </script>\n",
              "    </div>\n",
              "  </div>\n",
              "  "
            ],
            "text/plain": [
              "   children  ...                  lemm_purpose\n",
              "0         1  ...            покупка   жилье \\n\n",
              "1         1  ...  приобретение   автомобиль \\n\n",
              "2         0  ...            покупка   жилье \\n\n",
              "\n",
              "[3 rows x 13 columns]"
            ]
          },
          "metadata": {},
          "execution_count": 35
        }
      ],
      "source": [
        "data['lemm_purpose'] = data['purpose'].apply(lemmatize)\n",
        "data.head(3)"
      ]
    },
    {
      "cell_type": "markdown",
      "metadata": {
        "id": "Gepg6RZnzeVw"
      },
      "source": [
        "**Вывод**"
      ]
    },
    {
      "cell_type": "markdown",
      "metadata": {
        "id": "xmWz2_dHzeVw"
      },
      "source": [
        "Применив созданную нами фенкцию Lemmatize для лемматизции значений в столбце purpose, можно выделить несколько целей кредита - Автомобиль, жилье, недвижимость, свадьба, образование. Разобьем целина эти категории."
      ]
    },
    {
      "cell_type": "markdown",
      "metadata": {
        "id": "podChsD1zeVx"
      },
      "source": [
        "### Категоризация данных"
      ]
    },
    {
      "cell_type": "markdown",
      "metadata": {
        "id": "qwYjLlTIzeVx"
      },
      "source": [
        "Для наглядности последующих расчетов, разобьем на категории столбцы lemm_purpose, dob_years, children, total_income, ."
      ]
    },
    {
      "cell_type": "code",
      "execution_count": 36,
      "metadata": {
        "id": "AHs3dzLBzeVx"
      },
      "outputs": [],
      "source": [
        "def lem_group(word):\n",
        "    if 'свадьба' in word:\n",
        "        return 'кредит на общие нужды'\n",
        "    elif 'образование' in word:\n",
        "        return 'кредит на образование'\n",
        "    elif 'жилье' in word or 'недвижимость' in word or \"жильё\" in word:\n",
        "        return 'кредит на недвижимость'\n",
        "    elif 'автомобиль' in word:\n",
        "        return 'автокредит'\n",
        "    else:\n",
        "        return 'нужно проверить лемму'"
      ]
    },
    {
      "cell_type": "code",
      "execution_count": 37,
      "metadata": {
        "colab": {
          "base_uri": "https://localhost:8080/"
        },
        "id": "kcddfdn5zeVy",
        "outputId": "583cb64f-81a9-41e3-a4ad-a69f53413ad3",
        "scrolled": true
      },
      "outputs": [
        {
          "output_type": "execute_result",
          "data": {
            "text/plain": [
              "кредит на недвижимость    10793\n",
              "автокредит                 4293\n",
              "кредит на образование      4004\n",
              "кредит на общие нужды      2334\n",
              "Name: lemm_purpose_group, dtype: int64"
            ]
          },
          "metadata": {},
          "execution_count": 37
        }
      ],
      "source": [
        "data['lemm_purpose_group'] = data['lemm_purpose'].apply(lem_group)\n",
        "data['lemm_purpose_group'] = data['lemm_purpose_group'].astype('category')#Для оптимизации изменим тип данных на категории\n",
        "data['lemm_purpose_group'].value_counts()"
      ]
    },
    {
      "cell_type": "markdown",
      "metadata": {
        "id": "T5sBXP5gzeVy"
      },
      "source": [
        "Цели кредита разделили исходя из текущих видов кредитования в банках. Кредит на авто - Автокердит, кредит на приобретение жилья - кредит на недвижимость, кредит на разные цели -кредит на общие нужды, на образование -  \"кредит на образование\""
      ]
    },
    {
      "cell_type": "markdown",
      "metadata": {
        "id": "z17qaF4qzeVz"
      },
      "source": [
        "Категоризируем возраст клиента на молодых, взрослых и старых. Эти значения пригодяться для оценки взаимосвязи между возрастом заемщиков и возвратом кдита в срок. Для этого создадим фнкцию age_group и применим к соответствующему столбцу."
      ]
    },
    {
      "cell_type": "code",
      "execution_count": 38,
      "metadata": {
        "id": "OKPZnIl0zeVz"
      },
      "outputs": [],
      "source": [
        "def age_group(age):\n",
        "    if age <= 30:\n",
        "        return 'молодой'\n",
        "    elif age <= 64:\n",
        "        return 'взрослый'\n",
        "    elif age >= 65:\n",
        "        return 'старый'\n",
        "    else:\n",
        "        return 'нужно проверить значение'\n",
        "    \n",
        "       "
      ]
    },
    {
      "cell_type": "code",
      "execution_count": 39,
      "metadata": {
        "colab": {
          "base_uri": "https://localhost:8080/"
        },
        "id": "oZBLMBXxzeV0",
        "outputId": "e763b972-9025-4b9e-ba22-bef3544395d0",
        "scrolled": true
      },
      "outputs": [
        {
          "output_type": "execute_result",
          "data": {
            "text/plain": [
              "взрослый    16802\n",
              "молодой      3723\n",
              "старый        899\n",
              "Name: dob_age_group, dtype: int64"
            ]
          },
          "metadata": {},
          "execution_count": 39
        }
      ],
      "source": [
        "data['dob_age_group'] = data['dob_years'].apply(age_group)\n",
        "data['dob_age_group'] = data['dob_age_group'].astype('category')\n",
        "data['dob_age_group'].value_counts()\n"
      ]
    },
    {
      "cell_type": "markdown",
      "metadata": {
        "id": "cDGCX4LtzeV0"
      },
      "source": [
        "Категоризируем количество детей клиента на бездетных и с детьми . Эти значения пригодяться для оценки взаимосвязи между количеством детей у заемщиков и возвратом кдита в срок. Для этого создадим фнкцию children_group и применим к соответствующему столбцу."
      ]
    },
    {
      "cell_type": "code",
      "execution_count": 40,
      "metadata": {
        "id": "7LtZOBxBzeV0"
      },
      "outputs": [],
      "source": [
        "def children_group(children):\n",
        "    try:\n",
        "        if children == 0:\n",
        "            return 'бездетные'\n",
        "        else:\n",
        "            return 'есть дети'\n",
        "               \n",
        "    except:\n",
        "        return 'нужно проверить'"
      ]
    },
    {
      "cell_type": "code",
      "execution_count": 41,
      "metadata": {
        "colab": {
          "base_uri": "https://localhost:8080/"
        },
        "id": "4MiK6LfFzeV0",
        "outputId": "c3d96b06-a831-4806-a930-cefde24f4d3c",
        "scrolled": true
      },
      "outputs": [
        {
          "output_type": "execute_result",
          "data": {
            "text/plain": [
              "бездетные    14080\n",
              "есть дети     7344\n",
              "Name: dob_children_group, dtype: int64"
            ]
          },
          "metadata": {},
          "execution_count": 41
        }
      ],
      "source": [
        "data['dob_children_group'] = data['children'].apply(children_group)\n",
        "data['dob_children_group'] = data['dob_children_group'].astype('category')\n",
        "data['dob_children_group'].value_counts()"
      ]
    },
    {
      "cell_type": "markdown",
      "metadata": {
        "id": "lZiZq9-szeV1"
      },
      "source": [
        "Категоризируем доход клиента на без дохода, бехных, со средним доходом и с высоким доходом. Эти значения пригодяться для оценки взаимосвязи между доходом у заемщиков и возвратом кдита в срок. Для этого создадим фнкцию total_income_group и применим к соответствующему столбцу."
      ]
    },
    {
      "cell_type": "code",
      "execution_count": 42,
      "metadata": {
        "id": "escrOFzRzeV1"
      },
      "outputs": [],
      "source": [
        "def total_income_group(total_income):\n",
        "    if total_income == 0:\n",
        "        return 'без дохода'\n",
        "    elif total_income <= 50000:\n",
        "        return 'бедный'    \n",
        "    elif total_income < 100000:\n",
        "        return 'средний доход'\n",
        "    elif total_income >= 100000:\n",
        "         return 'высоких доход'\n",
        "    else:\n",
        "        return 'нужно проверить значение'"
      ]
    },
    {
      "cell_type": "code",
      "execution_count": 43,
      "metadata": {
        "colab": {
          "base_uri": "https://localhost:8080/"
        },
        "id": "DvW_uhQWzeV2",
        "outputId": "7fff7089-d0be-4886-a25e-652a0ef01b13"
      },
      "outputs": [
        {
          "output_type": "execute_result",
          "data": {
            "text/plain": [
              "высоких доход    16984\n",
              "средний доход     4070\n",
              "бедный             370\n",
              "Name: total_income_group, dtype: int64"
            ]
          },
          "metadata": {},
          "execution_count": 43
        }
      ],
      "source": [
        "data['total_income_group'] = data['total_income'].apply(total_income_group)\n",
        "data['total_income_group'] = data['total_income_group'].astype('category')\n",
        "data['total_income_group'].value_counts()"
      ]
    },
    {
      "cell_type": "markdown",
      "metadata": {
        "id": "g8APyILlL1JM"
      },
      "source": [
        "Сгруппируем данные семейного положения, пусть 0 будет не женат, все остальное 1."
      ]
    },
    {
      "cell_type": "code",
      "execution_count": 44,
      "metadata": {
        "id": "gHsw5mR6J6ml"
      },
      "outputs": [],
      "source": [
        "data['family_status_group'] = data['family_status_id'].isin([1,2,3,4])*1"
      ]
    },
    {
      "cell_type": "code",
      "execution_count": 45,
      "metadata": {
        "colab": {
          "base_uri": "https://localhost:8080/",
          "height": 337
        },
        "id": "GFvdnCW8LFQS",
        "outputId": "c6e35ee3-5d0e-47f9-9e1f-e03cb6605c86"
      },
      "outputs": [
        {
          "output_type": "execute_result",
          "data": {
            "text/html": [
              "\n",
              "  <div id=\"df-b988023f-b672-463f-9171-c23f0ee45bc4\">\n",
              "    <div class=\"colab-df-container\">\n",
              "      <div>\n",
              "<style scoped>\n",
              "    .dataframe tbody tr th:only-of-type {\n",
              "        vertical-align: middle;\n",
              "    }\n",
              "\n",
              "    .dataframe tbody tr th {\n",
              "        vertical-align: top;\n",
              "    }\n",
              "\n",
              "    .dataframe thead th {\n",
              "        text-align: right;\n",
              "    }\n",
              "</style>\n",
              "<table border=\"1\" class=\"dataframe\">\n",
              "  <thead>\n",
              "    <tr style=\"text-align: right;\">\n",
              "      <th></th>\n",
              "      <th>children</th>\n",
              "      <th>days_employed</th>\n",
              "      <th>dob_years</th>\n",
              "      <th>education</th>\n",
              "      <th>education_id</th>\n",
              "      <th>family_status</th>\n",
              "      <th>family_status_id</th>\n",
              "      <th>gender</th>\n",
              "      <th>income_type</th>\n",
              "      <th>debt</th>\n",
              "      <th>total_income</th>\n",
              "      <th>purpose</th>\n",
              "      <th>lemm_purpose</th>\n",
              "      <th>lemm_purpose_group</th>\n",
              "      <th>dob_age_group</th>\n",
              "      <th>dob_children_group</th>\n",
              "      <th>total_income_group</th>\n",
              "      <th>family_status_group</th>\n",
              "    </tr>\n",
              "  </thead>\n",
              "  <tbody>\n",
              "    <tr>\n",
              "      <th>0</th>\n",
              "      <td>1</td>\n",
              "      <td>8437</td>\n",
              "      <td>42</td>\n",
              "      <td>высшее</td>\n",
              "      <td>0</td>\n",
              "      <td>женат / замужем</td>\n",
              "      <td>0</td>\n",
              "      <td>f</td>\n",
              "      <td>сотрудник</td>\n",
              "      <td>0</td>\n",
              "      <td>253875.639453</td>\n",
              "      <td>покупка жилья</td>\n",
              "      <td>покупка   жилье \\n</td>\n",
              "      <td>кредит на недвижимость</td>\n",
              "      <td>взрослый</td>\n",
              "      <td>есть дети</td>\n",
              "      <td>высоких доход</td>\n",
              "      <td>0</td>\n",
              "    </tr>\n",
              "    <tr>\n",
              "      <th>1</th>\n",
              "      <td>1</td>\n",
              "      <td>4024</td>\n",
              "      <td>36</td>\n",
              "      <td>среднее</td>\n",
              "      <td>1</td>\n",
              "      <td>женат / замужем</td>\n",
              "      <td>0</td>\n",
              "      <td>f</td>\n",
              "      <td>сотрудник</td>\n",
              "      <td>0</td>\n",
              "      <td>112080.014102</td>\n",
              "      <td>приобретение автомобиля</td>\n",
              "      <td>приобретение   автомобиль \\n</td>\n",
              "      <td>автокредит</td>\n",
              "      <td>взрослый</td>\n",
              "      <td>есть дети</td>\n",
              "      <td>высоких доход</td>\n",
              "      <td>0</td>\n",
              "    </tr>\n",
              "    <tr>\n",
              "      <th>2</th>\n",
              "      <td>0</td>\n",
              "      <td>5623</td>\n",
              "      <td>33</td>\n",
              "      <td>среднее</td>\n",
              "      <td>1</td>\n",
              "      <td>женат / замужем</td>\n",
              "      <td>0</td>\n",
              "      <td>m</td>\n",
              "      <td>сотрудник</td>\n",
              "      <td>0</td>\n",
              "      <td>145885.952297</td>\n",
              "      <td>покупка жилья</td>\n",
              "      <td>покупка   жилье \\n</td>\n",
              "      <td>кредит на недвижимость</td>\n",
              "      <td>взрослый</td>\n",
              "      <td>бездетные</td>\n",
              "      <td>высоких доход</td>\n",
              "      <td>0</td>\n",
              "    </tr>\n",
              "    <tr>\n",
              "      <th>3</th>\n",
              "      <td>3</td>\n",
              "      <td>4124</td>\n",
              "      <td>32</td>\n",
              "      <td>среднее</td>\n",
              "      <td>1</td>\n",
              "      <td>женат / замужем</td>\n",
              "      <td>0</td>\n",
              "      <td>m</td>\n",
              "      <td>сотрудник</td>\n",
              "      <td>0</td>\n",
              "      <td>267628.550329</td>\n",
              "      <td>дополнительное образование</td>\n",
              "      <td>дополнительный   образование \\n</td>\n",
              "      <td>кредит на образование</td>\n",
              "      <td>взрослый</td>\n",
              "      <td>есть дети</td>\n",
              "      <td>высоких доход</td>\n",
              "      <td>0</td>\n",
              "    </tr>\n",
              "    <tr>\n",
              "      <th>4</th>\n",
              "      <td>0</td>\n",
              "      <td>340266</td>\n",
              "      <td>53</td>\n",
              "      <td>среднее</td>\n",
              "      <td>1</td>\n",
              "      <td>гражданский брак</td>\n",
              "      <td>1</td>\n",
              "      <td>f</td>\n",
              "      <td>пенсионер</td>\n",
              "      <td>0</td>\n",
              "      <td>158616.077870</td>\n",
              "      <td>сыграть свадьбу</td>\n",
              "      <td>сыграть   свадьба \\n</td>\n",
              "      <td>кредит на общие нужды</td>\n",
              "      <td>взрослый</td>\n",
              "      <td>бездетные</td>\n",
              "      <td>высоких доход</td>\n",
              "      <td>1</td>\n",
              "    </tr>\n",
              "  </tbody>\n",
              "</table>\n",
              "</div>\n",
              "      <button class=\"colab-df-convert\" onclick=\"convertToInteractive('df-b988023f-b672-463f-9171-c23f0ee45bc4')\"\n",
              "              title=\"Convert this dataframe to an interactive table.\"\n",
              "              style=\"display:none;\">\n",
              "        \n",
              "  <svg xmlns=\"http://www.w3.org/2000/svg\" height=\"24px\"viewBox=\"0 0 24 24\"\n",
              "       width=\"24px\">\n",
              "    <path d=\"M0 0h24v24H0V0z\" fill=\"none\"/>\n",
              "    <path d=\"M18.56 5.44l.94 2.06.94-2.06 2.06-.94-2.06-.94-.94-2.06-.94 2.06-2.06.94zm-11 1L8.5 8.5l.94-2.06 2.06-.94-2.06-.94L8.5 2.5l-.94 2.06-2.06.94zm10 10l.94 2.06.94-2.06 2.06-.94-2.06-.94-.94-2.06-.94 2.06-2.06.94z\"/><path d=\"M17.41 7.96l-1.37-1.37c-.4-.4-.92-.59-1.43-.59-.52 0-1.04.2-1.43.59L10.3 9.45l-7.72 7.72c-.78.78-.78 2.05 0 2.83L4 21.41c.39.39.9.59 1.41.59.51 0 1.02-.2 1.41-.59l7.78-7.78 2.81-2.81c.8-.78.8-2.07 0-2.86zM5.41 20L4 18.59l7.72-7.72 1.47 1.35L5.41 20z\"/>\n",
              "  </svg>\n",
              "      </button>\n",
              "      \n",
              "  <style>\n",
              "    .colab-df-container {\n",
              "      display:flex;\n",
              "      flex-wrap:wrap;\n",
              "      gap: 12px;\n",
              "    }\n",
              "\n",
              "    .colab-df-convert {\n",
              "      background-color: #E8F0FE;\n",
              "      border: none;\n",
              "      border-radius: 50%;\n",
              "      cursor: pointer;\n",
              "      display: none;\n",
              "      fill: #1967D2;\n",
              "      height: 32px;\n",
              "      padding: 0 0 0 0;\n",
              "      width: 32px;\n",
              "    }\n",
              "\n",
              "    .colab-df-convert:hover {\n",
              "      background-color: #E2EBFA;\n",
              "      box-shadow: 0px 1px 2px rgba(60, 64, 67, 0.3), 0px 1px 3px 1px rgba(60, 64, 67, 0.15);\n",
              "      fill: #174EA6;\n",
              "    }\n",
              "\n",
              "    [theme=dark] .colab-df-convert {\n",
              "      background-color: #3B4455;\n",
              "      fill: #D2E3FC;\n",
              "    }\n",
              "\n",
              "    [theme=dark] .colab-df-convert:hover {\n",
              "      background-color: #434B5C;\n",
              "      box-shadow: 0px 1px 3px 1px rgba(0, 0, 0, 0.15);\n",
              "      filter: drop-shadow(0px 1px 2px rgba(0, 0, 0, 0.3));\n",
              "      fill: #FFFFFF;\n",
              "    }\n",
              "  </style>\n",
              "\n",
              "      <script>\n",
              "        const buttonEl =\n",
              "          document.querySelector('#df-b988023f-b672-463f-9171-c23f0ee45bc4 button.colab-df-convert');\n",
              "        buttonEl.style.display =\n",
              "          google.colab.kernel.accessAllowed ? 'block' : 'none';\n",
              "\n",
              "        async function convertToInteractive(key) {\n",
              "          const element = document.querySelector('#df-b988023f-b672-463f-9171-c23f0ee45bc4');\n",
              "          const dataTable =\n",
              "            await google.colab.kernel.invokeFunction('convertToInteractive',\n",
              "                                                     [key], {});\n",
              "          if (!dataTable) return;\n",
              "\n",
              "          const docLinkHtml = 'Like what you see? Visit the ' +\n",
              "            '<a target=\"_blank\" href=https://colab.research.google.com/notebooks/data_table.ipynb>data table notebook</a>'\n",
              "            + ' to learn more about interactive tables.';\n",
              "          element.innerHTML = '';\n",
              "          dataTable['output_type'] = 'display_data';\n",
              "          await google.colab.output.renderOutput(dataTable, element);\n",
              "          const docLink = document.createElement('div');\n",
              "          docLink.innerHTML = docLinkHtml;\n",
              "          element.appendChild(docLink);\n",
              "        }\n",
              "      </script>\n",
              "    </div>\n",
              "  </div>\n",
              "  "
            ],
            "text/plain": [
              "   children  days_employed  ...  total_income_group family_status_group\n",
              "0         1           8437  ...       высоких доход                   0\n",
              "1         1           4024  ...       высоких доход                   0\n",
              "2         0           5623  ...       высоких доход                   0\n",
              "3         3           4124  ...       высоких доход                   0\n",
              "4         0         340266  ...       высоких доход                   1\n",
              "\n",
              "[5 rows x 18 columns]"
            ]
          },
          "metadata": {},
          "execution_count": 45
        }
      ],
      "source": [
        "data.head(5)"
      ]
    },
    {
      "cell_type": "markdown",
      "metadata": {
        "id": "HYYHGVLyzeV2"
      },
      "source": [
        "**Вывод**"
      ]
    },
    {
      "cell_type": "markdown",
      "metadata": {
        "id": "pvagvDInzeV2"
      },
      "source": [
        "Для выполнения последующего задания мы категоризировали данные в необходимых нам столбца. Категоризация поможет нам выявить влияние данных нам параметров на возврат кредита в срок. Для этого мы создали ряд функций для каждого слобца сожержащих несколько условий."
      ]
    },
    {
      "cell_type": "markdown",
      "metadata": {
        "id": "gLSow5NozeV3"
      },
      "source": [
        "## Шаг 3. Ответим на вопросы"
      ]
    },
    {
      "cell_type": "markdown",
      "metadata": {
        "id": "r42feXE_zeV3"
      },
      "source": [
        "### Есть ли зависимость между наличием детей и возвратом кредита в срок?"
      ]
    },
    {
      "cell_type": "code",
      "execution_count": 46,
      "metadata": {
        "colab": {
          "base_uri": "https://localhost:8080/"
        },
        "id": "uc424Xu3vcCm",
        "outputId": "91e7b3b5-a74e-465b-b4e7-cc90d99c302c"
      },
      "outputs": [
        {
          "output_type": "stream",
          "name": "stdout",
          "text": [
            "В общем по всей выборке мы имеем 8 % должников.\n"
          ]
        }
      ],
      "source": [
        "\n",
        "print(f\"В общем по всей выборке мы имеем {round(data['debt'].mean()*100)} % должников.\")"
      ]
    },
    {
      "cell_type": "markdown",
      "metadata": {
        "id": "wmerKzddzeV3"
      },
      "source": [
        "Для выявления зависимости сгруппируем данные по полученному нами столбцу 'dob_children_group' и сделаем выводы по столбцу 'debt' с помощью вывода количества, среднего значения."
      ]
    },
    {
      "cell_type": "code",
      "execution_count": 47,
      "metadata": {
        "colab": {
          "base_uri": "https://localhost:8080/",
          "height": 174
        },
        "id": "7j9K8RFtzeV3",
        "outputId": "7d54bcf4-f26d-4c4a-d6d0-29ffdb6a921e"
      },
      "outputs": [
        {
          "output_type": "execute_result",
          "data": {
            "text/html": [
              "<style  type=\"text/css\" >\n",
              "#T_794d69fe_830a_11ec_a932_0242ac1c0002row0_col0,#T_794d69fe_830a_11ec_a932_0242ac1c0002row1_col1{\n",
              "            background-color:  yellow;\n",
              "        }</style><table id=\"T_794d69fe_830a_11ec_a932_0242ac1c0002\" class=\"dataframe\"><thead>    <tr>        <th class=\"blank level0\" ></th>        <th class=\"col_heading level0 col0\" colspan=2>debt</th>    </tr>    <tr>        <th class=\"blank level1\" ></th>        <th class=\"col_heading level1 col0\" >count</th>        <th class=\"col_heading level1 col1\" >mean</th>    </tr>    <tr>        <th class=\"index_name level0\" >dob_children_group</th>        <th class=\"blank\" ></th>        <th class=\"blank\" ></th>    </tr></thead><tbody>\n",
              "                <tr>\n",
              "                        <th id=\"T_794d69fe_830a_11ec_a932_0242ac1c0002level0_row0\" class=\"row_heading level0 row0\" >бездетные</th>\n",
              "                        <td id=\"T_794d69fe_830a_11ec_a932_0242ac1c0002row0_col0\" class=\"data row0 col0\" >14080</td>\n",
              "                        <td id=\"T_794d69fe_830a_11ec_a932_0242ac1c0002row0_col1\" class=\"data row0 col1\" >0.075142</td>\n",
              "            </tr>\n",
              "            <tr>\n",
              "                        <th id=\"T_794d69fe_830a_11ec_a932_0242ac1c0002level0_row1\" class=\"row_heading level0 row1\" >есть дети</th>\n",
              "                        <td id=\"T_794d69fe_830a_11ec_a932_0242ac1c0002row1_col0\" class=\"data row1 col0\" >7344</td>\n",
              "                        <td id=\"T_794d69fe_830a_11ec_a932_0242ac1c0002row1_col1\" class=\"data row1 col1\" >0.091912</td>\n",
              "            </tr>\n",
              "    </tbody></table>"
            ],
            "text/plain": [
              "<pandas.io.formats.style.Styler at 0x7f2c19806450>"
            ]
          },
          "metadata": {},
          "execution_count": 47
        }
      ],
      "source": [
        "data.groupby('dob_children_group').agg({'debt': ['count','mean']}).style.highlight_max()\n"
      ]
    },
    {
      "cell_type": "markdown",
      "metadata": {
        "id": "L0oF5i6kzeV3"
      },
      "source": [
        "Мы видим, что количество должников на 2% выше у клиентов имеющих детей."
      ]
    },
    {
      "cell_type": "markdown",
      "metadata": {
        "id": "XbnxE0dBubYr"
      },
      "source": [
        "Предлагаю углубиться в данные и посмотреть есть корреляция возврата кредита у клиентов имеющих детей и нет в зависимости от вида кредита."
      ]
    },
    {
      "cell_type": "code",
      "execution_count": 48,
      "metadata": {
        "colab": {
          "base_uri": "https://localhost:8080/",
          "height": 144
        },
        "id": "Birv_op6zeV6",
        "outputId": "aa23e191-b0f2-41b4-f1e7-d9e969a06496"
      },
      "outputs": [
        {
          "output_type": "execute_result",
          "data": {
            "text/html": [
              "<style  type=\"text/css\" >\n",
              "#T_795c2ea8_830a_11ec_a932_0242ac1c0002row1_col0,#T_795c2ea8_830a_11ec_a932_0242ac1c0002row1_col1,#T_795c2ea8_830a_11ec_a932_0242ac1c0002row1_col2,#T_795c2ea8_830a_11ec_a932_0242ac1c0002row1_col3{\n",
              "            background-color:  yellow;\n",
              "        }</style><table id=\"T_795c2ea8_830a_11ec_a932_0242ac1c0002\" class=\"dataframe\"><thead>    <tr>        <th class=\"index_name level0\" >lemm_purpose_group</th>        <th class=\"col_heading level0 col0\" >автокредит</th>        <th class=\"col_heading level0 col1\" >кредит на недвижимость</th>        <th class=\"col_heading level0 col2\" >кредит на образование</th>        <th class=\"col_heading level0 col3\" >кредит на общие нужды</th>    </tr>    <tr>        <th class=\"index_name level0\" >dob_children_group</th>        <th class=\"blank\" ></th>        <th class=\"blank\" ></th>        <th class=\"blank\" ></th>        <th class=\"blank\" ></th>    </tr></thead><tbody>\n",
              "                <tr>\n",
              "                        <th id=\"T_795c2ea8_830a_11ec_a932_0242ac1c0002level0_row0\" class=\"row_heading level0 row0\" >бездетные</th>\n",
              "                        <td id=\"T_795c2ea8_830a_11ec_a932_0242ac1c0002row0_col0\" class=\"data row0 col0\" >0.085241</td>\n",
              "                        <td id=\"T_795c2ea8_830a_11ec_a932_0242ac1c0002row0_col1\" class=\"data row0 col1\" >0.067072</td>\n",
              "                        <td id=\"T_795c2ea8_830a_11ec_a932_0242ac1c0002row0_col2\" class=\"data row0 col2\" >0.086940</td>\n",
              "                        <td id=\"T_795c2ea8_830a_11ec_a932_0242ac1c0002row0_col3\" class=\"data row0 col3\" >0.073377</td>\n",
              "            </tr>\n",
              "            <tr>\n",
              "                        <th id=\"T_795c2ea8_830a_11ec_a932_0242ac1c0002level0_row1\" class=\"row_heading level0 row1\" >есть дети</th>\n",
              "                        <td id=\"T_795c2ea8_830a_11ec_a932_0242ac1c0002row1_col0\" class=\"data row1 col0\" >0.108666</td>\n",
              "                        <td id=\"T_795c2ea8_830a_11ec_a932_0242ac1c0002row1_col1\" class=\"data row1 col1\" >0.081857</td>\n",
              "                        <td id=\"T_795c2ea8_830a_11ec_a932_0242ac1c0002row1_col2\" class=\"data row1 col2\" >0.102920</td>\n",
              "                        <td id=\"T_795c2ea8_830a_11ec_a932_0242ac1c0002row1_col3\" class=\"data row1 col3\" >0.089421</td>\n",
              "            </tr>\n",
              "    </tbody></table>"
            ],
            "text/plain": [
              "<pandas.io.formats.style.Styler at 0x7f2c1954db10>"
            ]
          },
          "metadata": {},
          "execution_count": 48
        }
      ],
      "source": [
        "data.pivot_table(index=['dob_children_group'], columns= 'lemm_purpose_group', values='debt', aggfunc='mean').style.highlight_max()\n"
      ]
    },
    {
      "cell_type": "markdown",
      "metadata": {
        "id": "oSFynrsBvLzG"
      },
      "source": [
        "В целом мы так же видим что, бездетные платят лучше, так же видим что хуже платят клиенты с детьмя взявщие автокредит и кредит на образование, чем клиенты в целом."
      ]
    },
    {
      "cell_type": "markdown",
      "metadata": {
        "id": "heaKAHLu2lU7"
      },
      "source": [
        "Если посмотреть на данные в разрезе получаемого дохода, видим что так же бездетные платят лучше."
      ]
    },
    {
      "cell_type": "code",
      "execution_count": 49,
      "metadata": {
        "colab": {
          "base_uri": "https://localhost:8080/",
          "height": 144
        },
        "id": "_GupEh80zeV6",
        "outputId": "e271e7f9-fea2-4860-a0a3-bdb14a3809cd"
      },
      "outputs": [
        {
          "output_type": "execute_result",
          "data": {
            "text/html": [
              "<style  type=\"text/css\" >\n",
              "#T_7970d65a_830a_11ec_a932_0242ac1c0002row1_col0,#T_7970d65a_830a_11ec_a932_0242ac1c0002row1_col1,#T_7970d65a_830a_11ec_a932_0242ac1c0002row1_col2{\n",
              "            background-color:  yellow;\n",
              "        }</style><table id=\"T_7970d65a_830a_11ec_a932_0242ac1c0002\" class=\"dataframe\"><thead>    <tr>        <th class=\"index_name level0\" >total_income_group</th>        <th class=\"col_heading level0 col0\" >бедный</th>        <th class=\"col_heading level0 col1\" >высоких доход</th>        <th class=\"col_heading level0 col2\" >средний доход</th>    </tr>    <tr>        <th class=\"index_name level0\" >dob_children_group</th>        <th class=\"blank\" ></th>        <th class=\"blank\" ></th>        <th class=\"blank\" ></th>    </tr></thead><tbody>\n",
              "                <tr>\n",
              "                        <th id=\"T_7970d65a_830a_11ec_a932_0242ac1c0002level0_row0\" class=\"row_heading level0 row0\" >бездетные</th>\n",
              "                        <td id=\"T_7970d65a_830a_11ec_a932_0242ac1c0002row0_col0\" class=\"data row0 col0\" >0.054264</td>\n",
              "                        <td id=\"T_7970d65a_830a_11ec_a932_0242ac1c0002row0_col1\" class=\"data row0 col1\" >0.075844</td>\n",
              "                        <td id=\"T_7970d65a_830a_11ec_a932_0242ac1c0002row0_col2\" class=\"data row0 col2\" >0.074288</td>\n",
              "            </tr>\n",
              "            <tr>\n",
              "                        <th id=\"T_7970d65a_830a_11ec_a932_0242ac1c0002level0_row1\" class=\"row_heading level0 row1\" >есть дети</th>\n",
              "                        <td id=\"T_7970d65a_830a_11ec_a932_0242ac1c0002row1_col0\" class=\"data row1 col0\" >0.080357</td>\n",
              "                        <td id=\"T_7970d65a_830a_11ec_a932_0242ac1c0002row1_col1\" class=\"data row1 col1\" >0.091323</td>\n",
              "                        <td id=\"T_7970d65a_830a_11ec_a932_0242ac1c0002row1_col2\" class=\"data row1 col2\" >0.095605</td>\n",
              "            </tr>\n",
              "    </tbody></table>"
            ],
            "text/plain": [
              "<pandas.io.formats.style.Styler at 0x7f2c18790a50>"
            ]
          },
          "metadata": {},
          "execution_count": 49
        }
      ],
      "source": [
        "data.pivot_table(index=['dob_children_group'], columns= 'total_income_group', values='debt', aggfunc='mean').style.highlight_max()\n"
      ]
    },
    {
      "cell_type": "markdown",
      "metadata": {
        "id": "JHQXJo7TzeV7"
      },
      "source": [
        "### Есть ли зависимость между семейным положением и возвратом кредита в срок?"
      ]
    },
    {
      "cell_type": "markdown",
      "metadata": {
        "id": "rNdCdD4ezeV7"
      },
      "source": [
        "Для выявления зависимости сгруппируем полученый нами столбец 'family_status_id' и сделаем выводы по столбцу 'debt' с помощью вывода количества, суммы и среднего значения."
      ]
    },
    {
      "cell_type": "code",
      "execution_count": 50,
      "metadata": {
        "colab": {
          "base_uri": "https://localhost:8080/",
          "height": 174
        },
        "id": "T8vMk75AzeV7",
        "outputId": "afff92d8-86ba-4cd9-f9c0-66d6796e1af4"
      },
      "outputs": [
        {
          "output_type": "execute_result",
          "data": {
            "text/html": [
              "<style  type=\"text/css\" >\n",
              "#T_797c4620_830a_11ec_a932_0242ac1c0002row0_col0,#T_797c4620_830a_11ec_a932_0242ac1c0002row1_col1{\n",
              "            background-color:  yellow;\n",
              "        }</style><table id=\"T_797c4620_830a_11ec_a932_0242ac1c0002\" class=\"dataframe\"><thead>    <tr>        <th class=\"blank level0\" ></th>        <th class=\"col_heading level0 col0\" colspan=2>debt</th>    </tr>    <tr>        <th class=\"blank level1\" ></th>        <th class=\"col_heading level1 col0\" >count</th>        <th class=\"col_heading level1 col1\" >mean</th>    </tr>    <tr>        <th class=\"index_name level0\" >family_status_group</th>        <th class=\"blank\" ></th>        <th class=\"blank\" ></th>    </tr></thead><tbody>\n",
              "                <tr>\n",
              "                        <th id=\"T_797c4620_830a_11ec_a932_0242ac1c0002level0_row0\" class=\"row_heading level0 row0\" >0</th>\n",
              "                        <td id=\"T_797c4620_830a_11ec_a932_0242ac1c0002row0_col0\" class=\"data row0 col0\" >12331</td>\n",
              "                        <td id=\"T_797c4620_830a_11ec_a932_0242ac1c0002row0_col1\" class=\"data row0 col1\" >0.075176</td>\n",
              "            </tr>\n",
              "            <tr>\n",
              "                        <th id=\"T_797c4620_830a_11ec_a932_0242ac1c0002level0_row1\" class=\"row_heading level0 row1\" >1</th>\n",
              "                        <td id=\"T_797c4620_830a_11ec_a932_0242ac1c0002row1_col0\" class=\"data row1 col0\" >9093</td>\n",
              "                        <td id=\"T_797c4620_830a_11ec_a932_0242ac1c0002row1_col1\" class=\"data row1 col1\" >0.088640</td>\n",
              "            </tr>\n",
              "    </tbody></table>"
            ],
            "text/plain": [
              "<pandas.io.formats.style.Styler at 0x7f2c186e9c90>"
            ]
          },
          "metadata": {},
          "execution_count": 50
        }
      ],
      "source": [
        "data.groupby('family_status_group').agg({'debt': ['count','mean']}).style.highlight_max()"
      ]
    },
    {
      "cell_type": "markdown",
      "metadata": {
        "id": "uAbbfMvHMnHK"
      },
      "source": [
        "Сгруппируем те же даннве но более подробно, оценим выборки клиентов. "
      ]
    },
    {
      "cell_type": "code",
      "execution_count": 51,
      "metadata": {
        "colab": {
          "base_uri": "https://localhost:8080/",
          "height": 144
        },
        "id": "ei-8V0XozeV7",
        "outputId": "3dc8f4de-8991-45cc-8a67-9bceda6f29a2"
      },
      "outputs": [
        {
          "output_type": "execute_result",
          "data": {
            "text/html": [
              "<style  type=\"text/css\" >\n",
              "#T_79846738_830a_11ec_a932_0242ac1c0002row0_col3,#T_79846738_830a_11ec_a932_0242ac1c0002row1_col0,#T_79846738_830a_11ec_a932_0242ac1c0002row1_col1,#T_79846738_830a_11ec_a932_0242ac1c0002row1_col2{\n",
              "            background-color:  yellow;\n",
              "        }</style><table id=\"T_79846738_830a_11ec_a932_0242ac1c0002\" class=\"dataframe\"><thead>    <tr>        <th class=\"index_name level0\" >debt</th>        <th class=\"col_heading level0 col0\" >0</th>        <th class=\"col_heading level0 col1\" >1</th>        <th class=\"col_heading level0 col2\" >Количество заемщиков в группе</th>        <th class=\"col_heading level0 col3\" >доля должников в %</th>    </tr>    <tr>        <th class=\"index_name level0\" >family_status_group</th>        <th class=\"blank\" ></th>        <th class=\"blank\" ></th>        <th class=\"blank\" ></th>        <th class=\"blank\" ></th>    </tr></thead><tbody>\n",
              "                <tr>\n",
              "                        <th id=\"T_79846738_830a_11ec_a932_0242ac1c0002level0_row0\" class=\"row_heading level0 row0\" >1</th>\n",
              "                        <td id=\"T_79846738_830a_11ec_a932_0242ac1c0002row0_col0\" class=\"data row0 col0\" >8287</td>\n",
              "                        <td id=\"T_79846738_830a_11ec_a932_0242ac1c0002row0_col1\" class=\"data row0 col1\" >806</td>\n",
              "                        <td id=\"T_79846738_830a_11ec_a932_0242ac1c0002row0_col2\" class=\"data row0 col2\" >9093</td>\n",
              "                        <td id=\"T_79846738_830a_11ec_a932_0242ac1c0002row0_col3\" class=\"data row0 col3\" >8.863961</td>\n",
              "            </tr>\n",
              "            <tr>\n",
              "                        <th id=\"T_79846738_830a_11ec_a932_0242ac1c0002level0_row1\" class=\"row_heading level0 row1\" >0</th>\n",
              "                        <td id=\"T_79846738_830a_11ec_a932_0242ac1c0002row1_col0\" class=\"data row1 col0\" >11404</td>\n",
              "                        <td id=\"T_79846738_830a_11ec_a932_0242ac1c0002row1_col1\" class=\"data row1 col1\" >927</td>\n",
              "                        <td id=\"T_79846738_830a_11ec_a932_0242ac1c0002row1_col2\" class=\"data row1 col2\" >12331</td>\n",
              "                        <td id=\"T_79846738_830a_11ec_a932_0242ac1c0002row1_col3\" class=\"data row1 col3\" >7.517638</td>\n",
              "            </tr>\n",
              "    </tbody></table>"
            ],
            "text/plain": [
              "<pandas.io.formats.style.Styler at 0x7f2c186e9550>"
            ]
          },
          "metadata": {},
          "execution_count": 51
        }
      ],
      "source": [
        "data_pivot_f = data.pivot_table(index=['family_status_group'], columns = 'debt', values='days_employed', aggfunc='count')\n",
        "data_pivot_f.reset_index()\n",
        "data_pivot_f['Количество заемщиков в группе'] = data_pivot_f[0] + data_pivot_f[1]\n",
        "data_pivot_f['доля должников в %'] = data_pivot_f[1] / data_pivot_f['Количество заемщиков в группе'] * 100\n",
        "data_pivot_f.sort_values(by = 'доля должников в %', ascending = False).style.highlight_max()"
      ]
    },
    {
      "cell_type": "markdown",
      "metadata": {
        "id": "1Ri_KVKVzeV8"
      },
      "source": [
        "Вывод, женатые на 1% чаще не выплачивают кредиты. Учитывая, что средняя просрочка по все выборке 8% можно сделать вывод,что семейное положение не влияет на вероятность возврата кредита"
      ]
    },
    {
      "cell_type": "markdown",
      "metadata": {
        "id": "PnUdUcpAzeV9"
      },
      "source": [
        "### Есть ли зависимость между уровнем дохода и возвратом кредита в срок?"
      ]
    },
    {
      "cell_type": "code",
      "execution_count": 52,
      "metadata": {
        "colab": {
          "base_uri": "https://localhost:8080/",
          "height": 206
        },
        "id": "JaWZveLQzeV9",
        "outputId": "45de07f0-f309-4013-b7c3-132e2d0b56c6"
      },
      "outputs": [
        {
          "output_type": "execute_result",
          "data": {
            "text/html": [
              "<style  type=\"text/css\" >\n",
              "#T_798deea2_830a_11ec_a932_0242ac1c0002row0_col0,#T_798deea2_830a_11ec_a932_0242ac1c0002row0_col1{\n",
              "            background-color:  #fff7fb;\n",
              "            color:  #000000;\n",
              "        }#T_798deea2_830a_11ec_a932_0242ac1c0002row1_col0,#T_798deea2_830a_11ec_a932_0242ac1c0002row1_col1{\n",
              "            background-color:  #023858;\n",
              "            color:  #f1f1f1;\n",
              "        }#T_798deea2_830a_11ec_a932_0242ac1c0002row2_col0{\n",
              "            background-color:  #d6d6e9;\n",
              "            color:  #000000;\n",
              "        }#T_798deea2_830a_11ec_a932_0242ac1c0002row2_col1{\n",
              "            background-color:  #023a5b;\n",
              "            color:  #f1f1f1;\n",
              "        }</style><table id=\"T_798deea2_830a_11ec_a932_0242ac1c0002\" class=\"dataframe\"><thead>    <tr>        <th class=\"blank level0\" ></th>        <th class=\"col_heading level0 col0\" colspan=2>debt</th>    </tr>    <tr>        <th class=\"blank level1\" ></th>        <th class=\"col_heading level1 col0\" >count</th>        <th class=\"col_heading level1 col1\" >mean</th>    </tr>    <tr>        <th class=\"index_name level0\" >total_income_group</th>        <th class=\"blank\" ></th>        <th class=\"blank\" ></th>    </tr></thead><tbody>\n",
              "                <tr>\n",
              "                        <th id=\"T_798deea2_830a_11ec_a932_0242ac1c0002level0_row0\" class=\"row_heading level0 row0\" >бедный</th>\n",
              "                        <td id=\"T_798deea2_830a_11ec_a932_0242ac1c0002row0_col0\" class=\"data row0 col0\" >370</td>\n",
              "                        <td id=\"T_798deea2_830a_11ec_a932_0242ac1c0002row0_col1\" class=\"data row0 col1\" >0.062162</td>\n",
              "            </tr>\n",
              "            <tr>\n",
              "                        <th id=\"T_798deea2_830a_11ec_a932_0242ac1c0002level0_row1\" class=\"row_heading level0 row1\" >высоких доход</th>\n",
              "                        <td id=\"T_798deea2_830a_11ec_a932_0242ac1c0002row1_col0\" class=\"data row1 col0\" >16984</td>\n",
              "                        <td id=\"T_798deea2_830a_11ec_a932_0242ac1c0002row1_col1\" class=\"data row1 col1\" >0.081253</td>\n",
              "            </tr>\n",
              "            <tr>\n",
              "                        <th id=\"T_798deea2_830a_11ec_a932_0242ac1c0002level0_row2\" class=\"row_heading level0 row2\" >средний доход</th>\n",
              "                        <td id=\"T_798deea2_830a_11ec_a932_0242ac1c0002row2_col0\" class=\"data row2 col0\" >4070</td>\n",
              "                        <td id=\"T_798deea2_830a_11ec_a932_0242ac1c0002row2_col1\" class=\"data row2 col1\" >0.081081</td>\n",
              "            </tr>\n",
              "    </tbody></table>"
            ],
            "text/plain": [
              "<pandas.io.formats.style.Styler at 0x7f2c2dee6490>"
            ]
          },
          "metadata": {},
          "execution_count": 52
        }
      ],
      "source": [
        "data.groupby('total_income_group').agg({'debt': ['count', 'mean'],}).style.background_gradient()"
      ]
    },
    {
      "cell_type": "code",
      "execution_count": 53,
      "metadata": {
        "colab": {
          "base_uri": "https://localhost:8080/",
          "height": 174
        },
        "id": "2HEKvGkyzeV9",
        "outputId": "326d3696-258c-4f0d-dc8c-304ee84bfa47"
      },
      "outputs": [
        {
          "output_type": "execute_result",
          "data": {
            "text/html": [
              "<style  type=\"text/css\" >\n",
              "#T_79996872_830a_11ec_a932_0242ac1c0002row0_col0,#T_79996872_830a_11ec_a932_0242ac1c0002row0_col1,#T_79996872_830a_11ec_a932_0242ac1c0002row0_col2,#T_79996872_830a_11ec_a932_0242ac1c0002row0_col3{\n",
              "            background-color:  #023858;\n",
              "            color:  #f1f1f1;\n",
              "        }#T_79996872_830a_11ec_a932_0242ac1c0002row1_col0{\n",
              "            background-color:  #d7d6e9;\n",
              "            color:  #000000;\n",
              "        }#T_79996872_830a_11ec_a932_0242ac1c0002row1_col1,#T_79996872_830a_11ec_a932_0242ac1c0002row1_col2{\n",
              "            background-color:  #d6d6e9;\n",
              "            color:  #000000;\n",
              "        }#T_79996872_830a_11ec_a932_0242ac1c0002row1_col3{\n",
              "            background-color:  #023a5b;\n",
              "            color:  #f1f1f1;\n",
              "        }#T_79996872_830a_11ec_a932_0242ac1c0002row2_col0,#T_79996872_830a_11ec_a932_0242ac1c0002row2_col1,#T_79996872_830a_11ec_a932_0242ac1c0002row2_col2,#T_79996872_830a_11ec_a932_0242ac1c0002row2_col3{\n",
              "            background-color:  #fff7fb;\n",
              "            color:  #000000;\n",
              "        }</style><table id=\"T_79996872_830a_11ec_a932_0242ac1c0002\" class=\"dataframe\"><thead>    <tr>        <th class=\"index_name level0\" >debt</th>        <th class=\"col_heading level0 col0\" >0</th>        <th class=\"col_heading level0 col1\" >1</th>        <th class=\"col_heading level0 col2\" >Количество заемщиков в группе</th>        <th class=\"col_heading level0 col3\" >доля должников в %</th>    </tr>    <tr>        <th class=\"index_name level0\" >total_income_group</th>        <th class=\"blank\" ></th>        <th class=\"blank\" ></th>        <th class=\"blank\" ></th>        <th class=\"blank\" ></th>    </tr></thead><tbody>\n",
              "                <tr>\n",
              "                        <th id=\"T_79996872_830a_11ec_a932_0242ac1c0002level0_row0\" class=\"row_heading level0 row0\" >высоких доход</th>\n",
              "                        <td id=\"T_79996872_830a_11ec_a932_0242ac1c0002row0_col0\" class=\"data row0 col0\" >15604</td>\n",
              "                        <td id=\"T_79996872_830a_11ec_a932_0242ac1c0002row0_col1\" class=\"data row0 col1\" >1380</td>\n",
              "                        <td id=\"T_79996872_830a_11ec_a932_0242ac1c0002row0_col2\" class=\"data row0 col2\" >16984</td>\n",
              "                        <td id=\"T_79996872_830a_11ec_a932_0242ac1c0002row0_col3\" class=\"data row0 col3\" >8.125294</td>\n",
              "            </tr>\n",
              "            <tr>\n",
              "                        <th id=\"T_79996872_830a_11ec_a932_0242ac1c0002level0_row1\" class=\"row_heading level0 row1\" >средний доход</th>\n",
              "                        <td id=\"T_79996872_830a_11ec_a932_0242ac1c0002row1_col0\" class=\"data row1 col0\" >3740</td>\n",
              "                        <td id=\"T_79996872_830a_11ec_a932_0242ac1c0002row1_col1\" class=\"data row1 col1\" >330</td>\n",
              "                        <td id=\"T_79996872_830a_11ec_a932_0242ac1c0002row1_col2\" class=\"data row1 col2\" >4070</td>\n",
              "                        <td id=\"T_79996872_830a_11ec_a932_0242ac1c0002row1_col3\" class=\"data row1 col3\" >8.108108</td>\n",
              "            </tr>\n",
              "            <tr>\n",
              "                        <th id=\"T_79996872_830a_11ec_a932_0242ac1c0002level0_row2\" class=\"row_heading level0 row2\" >бедный</th>\n",
              "                        <td id=\"T_79996872_830a_11ec_a932_0242ac1c0002row2_col0\" class=\"data row2 col0\" >347</td>\n",
              "                        <td id=\"T_79996872_830a_11ec_a932_0242ac1c0002row2_col1\" class=\"data row2 col1\" >23</td>\n",
              "                        <td id=\"T_79996872_830a_11ec_a932_0242ac1c0002row2_col2\" class=\"data row2 col2\" >370</td>\n",
              "                        <td id=\"T_79996872_830a_11ec_a932_0242ac1c0002row2_col3\" class=\"data row2 col3\" >6.216216</td>\n",
              "            </tr>\n",
              "    </tbody></table>"
            ],
            "text/plain": [
              "<pandas.io.formats.style.Styler at 0x7f2c18400590>"
            ]
          },
          "metadata": {},
          "execution_count": 53
        }
      ],
      "source": [
        "data_pivot_t = data.pivot_table(index=['total_income_group'], columns = 'debt', values='days_employed', aggfunc='count')\n",
        "data_pivot_t.reset_index()\n",
        "data_pivot_t['Количество заемщиков в группе'] = data_pivot_t[0] + data_pivot_t[1]\n",
        "data_pivot_t['доля должников в %'] = data_pivot_t[1] / data_pivot_t['Количество заемщиков в группе'] * 100\n",
        "data_pivot_t.sort_values(by = 'доля должников в %', ascending = False).style.background_gradient()"
      ]
    },
    {
      "cell_type": "markdown",
      "metadata": {
        "id": "SPhhUJoVzeV9"
      },
      "source": [
        "Вывод, бедные возвращают кредиты на 2% лучше, чем остальные. Клиенты с высоким и средним доходом, так же не выходят за рамки общего среднего размера доли просрочки."
      ]
    },
    {
      "cell_type": "markdown",
      "metadata": {
        "id": "xF_g1J_TzeV-"
      },
      "source": [
        "### Как разные цели кредита влияют на его возврат в срок?"
      ]
    },
    {
      "cell_type": "code",
      "execution_count": 54,
      "metadata": {
        "colab": {
          "base_uri": "https://localhost:8080/",
          "height": 237
        },
        "id": "nNkc7PEszeV-",
        "outputId": "c00c6c5f-286d-4043-9696-5790cb3db444"
      },
      "outputs": [
        {
          "output_type": "execute_result",
          "data": {
            "text/html": [
              "<style  type=\"text/css\" >\n",
              "#T_79aa651e_830a_11ec_a932_0242ac1c0002row0_col0{\n",
              "            background-color:  #d4d4e8;\n",
              "            color:  #000000;\n",
              "        }#T_79aa651e_830a_11ec_a932_0242ac1c0002row0_col1,#T_79aa651e_830a_11ec_a932_0242ac1c0002row1_col0{\n",
              "            background-color:  #023858;\n",
              "            color:  #f1f1f1;\n",
              "        }#T_79aa651e_830a_11ec_a932_0242ac1c0002row1_col1,#T_79aa651e_830a_11ec_a932_0242ac1c0002row3_col0{\n",
              "            background-color:  #fff7fb;\n",
              "            color:  #000000;\n",
              "        }#T_79aa651e_830a_11ec_a932_0242ac1c0002row2_col0{\n",
              "            background-color:  #dcdaeb;\n",
              "            color:  #000000;\n",
              "        }#T_79aa651e_830a_11ec_a932_0242ac1c0002row2_col1{\n",
              "            background-color:  #034267;\n",
              "            color:  #f1f1f1;\n",
              "        }#T_79aa651e_830a_11ec_a932_0242ac1c0002row3_col1{\n",
              "            background-color:  #b9c6e0;\n",
              "            color:  #000000;\n",
              "        }</style><table id=\"T_79aa651e_830a_11ec_a932_0242ac1c0002\" class=\"dataframe\"><thead>    <tr>        <th class=\"blank level0\" ></th>        <th class=\"col_heading level0 col0\" colspan=2>debt</th>    </tr>    <tr>        <th class=\"blank level1\" ></th>        <th class=\"col_heading level1 col0\" >count</th>        <th class=\"col_heading level1 col1\" >mean</th>    </tr>    <tr>        <th class=\"index_name level0\" >lemm_purpose_group</th>        <th class=\"blank\" ></th>        <th class=\"blank\" ></th>    </tr></thead><tbody>\n",
              "                <tr>\n",
              "                        <th id=\"T_79aa651e_830a_11ec_a932_0242ac1c0002level0_row0\" class=\"row_heading level0 row0\" >автокредит</th>\n",
              "                        <td id=\"T_79aa651e_830a_11ec_a932_0242ac1c0002row0_col0\" class=\"data row0 col0\" >4293</td>\n",
              "                        <td id=\"T_79aa651e_830a_11ec_a932_0242ac1c0002row0_col1\" class=\"data row0 col1\" >0.093175</td>\n",
              "            </tr>\n",
              "            <tr>\n",
              "                        <th id=\"T_79aa651e_830a_11ec_a932_0242ac1c0002level0_row1\" class=\"row_heading level0 row1\" >кредит на недвижимость</th>\n",
              "                        <td id=\"T_79aa651e_830a_11ec_a932_0242ac1c0002row1_col0\" class=\"data row1 col0\" >10793</td>\n",
              "                        <td id=\"T_79aa651e_830a_11ec_a932_0242ac1c0002row1_col1\" class=\"data row1 col1\" >0.072176</td>\n",
              "            </tr>\n",
              "            <tr>\n",
              "                        <th id=\"T_79aa651e_830a_11ec_a932_0242ac1c0002level0_row2\" class=\"row_heading level0 row2\" >кредит на образование</th>\n",
              "                        <td id=\"T_79aa651e_830a_11ec_a932_0242ac1c0002row2_col0\" class=\"data row2 col0\" >4004</td>\n",
              "                        <td id=\"T_79aa651e_830a_11ec_a932_0242ac1c0002row2_col1\" class=\"data row2 col1\" >0.092408</td>\n",
              "            </tr>\n",
              "            <tr>\n",
              "                        <th id=\"T_79aa651e_830a_11ec_a932_0242ac1c0002level0_row3\" class=\"row_heading level0 row3\" >кредит на общие нужды</th>\n",
              "                        <td id=\"T_79aa651e_830a_11ec_a932_0242ac1c0002row3_col0\" class=\"data row3 col0\" >2334</td>\n",
              "                        <td id=\"T_79aa651e_830a_11ec_a932_0242ac1c0002row3_col1\" class=\"data row3 col1\" >0.078835</td>\n",
              "            </tr>\n",
              "    </tbody></table>"
            ],
            "text/plain": [
              "<pandas.io.formats.style.Styler at 0x7f2c183eb3d0>"
            ]
          },
          "metadata": {},
          "execution_count": 54
        }
      ],
      "source": [
        "data.groupby('lemm_purpose_group').agg({'debt': ['count', 'mean'],}).style.background_gradient()"
      ]
    },
    {
      "cell_type": "code",
      "execution_count": 55,
      "metadata": {
        "colab": {
          "base_uri": "https://localhost:8080/",
          "height": 206
        },
        "id": "QNB7W5rIzeV-",
        "outputId": "ccbfa70c-44ce-4452-ba86-af186f2d7e73"
      },
      "outputs": [
        {
          "output_type": "execute_result",
          "data": {
            "text/html": [
              "<style  type=\"text/css\" >\n",
              "#T_79b9c07c_830a_11ec_a932_0242ac1c0002row0_col0{\n",
              "            background-color:  #d7d6e9;\n",
              "            color:  #000000;\n",
              "        }#T_79b9c07c_830a_11ec_a932_0242ac1c0002row0_col1{\n",
              "            background-color:  #abbfdc;\n",
              "            color:  #000000;\n",
              "        }#T_79b9c07c_830a_11ec_a932_0242ac1c0002row0_col2{\n",
              "            background-color:  #d4d4e8;\n",
              "            color:  #000000;\n",
              "        }#T_79b9c07c_830a_11ec_a932_0242ac1c0002row0_col3,#T_79b9c07c_830a_11ec_a932_0242ac1c0002row3_col0,#T_79b9c07c_830a_11ec_a932_0242ac1c0002row3_col1,#T_79b9c07c_830a_11ec_a932_0242ac1c0002row3_col2{\n",
              "            background-color:  #023858;\n",
              "            color:  #f1f1f1;\n",
              "        }#T_79b9c07c_830a_11ec_a932_0242ac1c0002row1_col0{\n",
              "            background-color:  #dedcec;\n",
              "            color:  #000000;\n",
              "        }#T_79b9c07c_830a_11ec_a932_0242ac1c0002row1_col1{\n",
              "            background-color:  #bbc7e0;\n",
              "            color:  #000000;\n",
              "        }#T_79b9c07c_830a_11ec_a932_0242ac1c0002row1_col2{\n",
              "            background-color:  #dcdaeb;\n",
              "            color:  #000000;\n",
              "        }#T_79b9c07c_830a_11ec_a932_0242ac1c0002row1_col3{\n",
              "            background-color:  #034267;\n",
              "            color:  #f1f1f1;\n",
              "        }#T_79b9c07c_830a_11ec_a932_0242ac1c0002row2_col0,#T_79b9c07c_830a_11ec_a932_0242ac1c0002row2_col1,#T_79b9c07c_830a_11ec_a932_0242ac1c0002row2_col2,#T_79b9c07c_830a_11ec_a932_0242ac1c0002row3_col3{\n",
              "            background-color:  #fff7fb;\n",
              "            color:  #000000;\n",
              "        }#T_79b9c07c_830a_11ec_a932_0242ac1c0002row2_col3{\n",
              "            background-color:  #b9c6e0;\n",
              "            color:  #000000;\n",
              "        }</style><table id=\"T_79b9c07c_830a_11ec_a932_0242ac1c0002\" class=\"dataframe\"><thead>    <tr>        <th class=\"index_name level0\" >debt</th>        <th class=\"col_heading level0 col0\" >0</th>        <th class=\"col_heading level0 col1\" >1</th>        <th class=\"col_heading level0 col2\" >Количество заемщиков в группе</th>        <th class=\"col_heading level0 col3\" >доля должников в %</th>    </tr>    <tr>        <th class=\"index_name level0\" >lemm_purpose_group</th>        <th class=\"blank\" ></th>        <th class=\"blank\" ></th>        <th class=\"blank\" ></th>        <th class=\"blank\" ></th>    </tr></thead><tbody>\n",
              "                <tr>\n",
              "                        <th id=\"T_79b9c07c_830a_11ec_a932_0242ac1c0002level0_row0\" class=\"row_heading level0 row0\" >автокредит</th>\n",
              "                        <td id=\"T_79b9c07c_830a_11ec_a932_0242ac1c0002row0_col0\" class=\"data row0 col0\" >3893</td>\n",
              "                        <td id=\"T_79b9c07c_830a_11ec_a932_0242ac1c0002row0_col1\" class=\"data row0 col1\" >400</td>\n",
              "                        <td id=\"T_79b9c07c_830a_11ec_a932_0242ac1c0002row0_col2\" class=\"data row0 col2\" >4293</td>\n",
              "                        <td id=\"T_79b9c07c_830a_11ec_a932_0242ac1c0002row0_col3\" class=\"data row0 col3\" >9.317494</td>\n",
              "            </tr>\n",
              "            <tr>\n",
              "                        <th id=\"T_79b9c07c_830a_11ec_a932_0242ac1c0002level0_row1\" class=\"row_heading level0 row1\" >кредит на образование</th>\n",
              "                        <td id=\"T_79b9c07c_830a_11ec_a932_0242ac1c0002row1_col0\" class=\"data row1 col0\" >3634</td>\n",
              "                        <td id=\"T_79b9c07c_830a_11ec_a932_0242ac1c0002row1_col1\" class=\"data row1 col1\" >370</td>\n",
              "                        <td id=\"T_79b9c07c_830a_11ec_a932_0242ac1c0002row1_col2\" class=\"data row1 col2\" >4004</td>\n",
              "                        <td id=\"T_79b9c07c_830a_11ec_a932_0242ac1c0002row1_col3\" class=\"data row1 col3\" >9.240759</td>\n",
              "            </tr>\n",
              "            <tr>\n",
              "                        <th id=\"T_79b9c07c_830a_11ec_a932_0242ac1c0002level0_row2\" class=\"row_heading level0 row2\" >кредит на общие нужды</th>\n",
              "                        <td id=\"T_79b9c07c_830a_11ec_a932_0242ac1c0002row2_col0\" class=\"data row2 col0\" >2150</td>\n",
              "                        <td id=\"T_79b9c07c_830a_11ec_a932_0242ac1c0002row2_col1\" class=\"data row2 col1\" >184</td>\n",
              "                        <td id=\"T_79b9c07c_830a_11ec_a932_0242ac1c0002row2_col2\" class=\"data row2 col2\" >2334</td>\n",
              "                        <td id=\"T_79b9c07c_830a_11ec_a932_0242ac1c0002row2_col3\" class=\"data row2 col3\" >7.883462</td>\n",
              "            </tr>\n",
              "            <tr>\n",
              "                        <th id=\"T_79b9c07c_830a_11ec_a932_0242ac1c0002level0_row3\" class=\"row_heading level0 row3\" >кредит на недвижимость</th>\n",
              "                        <td id=\"T_79b9c07c_830a_11ec_a932_0242ac1c0002row3_col0\" class=\"data row3 col0\" >10014</td>\n",
              "                        <td id=\"T_79b9c07c_830a_11ec_a932_0242ac1c0002row3_col1\" class=\"data row3 col1\" >779</td>\n",
              "                        <td id=\"T_79b9c07c_830a_11ec_a932_0242ac1c0002row3_col2\" class=\"data row3 col2\" >10793</td>\n",
              "                        <td id=\"T_79b9c07c_830a_11ec_a932_0242ac1c0002row3_col3\" class=\"data row3 col3\" >7.217641</td>\n",
              "            </tr>\n",
              "    </tbody></table>"
            ],
            "text/plain": [
              "<pandas.io.formats.style.Styler at 0x7f2c1840e9d0>"
            ]
          },
          "metadata": {},
          "execution_count": 55
        }
      ],
      "source": [
        "data_pivot_p = data.pivot_table(index=['lemm_purpose_group'], columns = 'debt', values='days_employed', aggfunc='count')\n",
        "data_pivot_p.reset_index()\n",
        "data_pivot_p['Количество заемщиков в группе'] = data_pivot_p[0] + data_pivot_p[1]\n",
        "data_pivot_p['доля должников в %'] = data_pivot_p[1] / data_pivot_p['Количество заемщиков в группе'] * 100\n",
        "data_pivot_p.sort_values(by = 'доля должников в %', ascending = False).style.background_gradient()"
      ]
    },
    {
      "cell_type": "markdown",
      "metadata": {
        "id": "VGwlsFQHzeV_"
      },
      "source": [
        "<div class=\"alert alert-block alert-info\">\n",
        "    \n",
        "С помощью сводной таблицы определили доли должников в каждой группе. Сровнив полученные доли видим что максимальное и минимальное значение отличаеться на 2%. По автокредитам просрочки возникают у 9,3% заемщиков, по кредитам на недвижимость у 7,2 % заемщиков. Думаю взаимосвязь незначительная. \n",
        "</div>"
      ]
    },
    {
      "cell_type": "markdown",
      "source": [
        "##  Вывод"
      ],
      "metadata": {
        "id": "Q0mYmueNgf2T"
      }
    },
    {
      "cell_type": "markdown",
      "source": [
        "Ни наличие детей, ни семейное положение, ни уровень дохода, или вид кредита, достаточно сильно не вляют на возврат кредита в срок. Либо проведенного анализа недостаточно для выявления зависимости. Предлагаю использовать **CatBoost** для определния клиентов которые возможно не вернут кредит. CatBoost-это алгоритм машинного обучения, который использует градиентное повышение на деревьях решений."
      ],
      "metadata": {
        "id": "R0TQimZzgwg_"
      }
    },
    {
      "cell_type": "markdown",
      "metadata": {
        "id": "zAgWWwqlPTJv"
      },
      "source": [
        "### Catboost"
      ]
    },
    {
      "cell_type": "markdown",
      "source": [
        "Зададим выбоку данных для обучения"
      ],
      "metadata": {
        "id": "4dxu9xSb9xJz"
      }
    },
    {
      "cell_type": "code",
      "execution_count": 56,
      "metadata": {
        "id": "t38gKVX4PQS4"
      },
      "outputs": [],
      "source": [
        "train = data.sample(frac=0.7,random_state=42).copy()"
      ]
    },
    {
      "cell_type": "markdown",
      "source": [
        "Оставим часть данных для проверки полученных результатов обучения"
      ],
      "metadata": {
        "id": "cH4WPJ6A9-K5"
      }
    },
    {
      "cell_type": "code",
      "execution_count": 57,
      "metadata": {
        "id": "rr85ey4bPQWF"
      },
      "outputs": [],
      "source": [
        "val = data[~data.index.isin(train.index)].copy()"
      ]
    },
    {
      "cell_type": "code",
      "execution_count": 58,
      "metadata": {
        "id": "ycyurZ-1PQZi",
        "colab": {
          "base_uri": "https://localhost:8080/"
        },
        "outputId": "cfb40534-0bdf-4d54-e91b-211bdae2c3b8"
      },
      "outputs": [
        {
          "output_type": "execute_result",
          "data": {
            "text/plain": [
              "Index(['children', 'days_employed', 'dob_years', 'education', 'education_id',\n",
              "       'family_status', 'family_status_id', 'gender', 'income_type', 'debt',\n",
              "       'total_income', 'purpose', 'lemm_purpose', 'lemm_purpose_group',\n",
              "       'dob_age_group', 'dob_children_group', 'total_income_group',\n",
              "       'family_status_group'],\n",
              "      dtype='object')"
            ]
          },
          "metadata": {},
          "execution_count": 58
        }
      ],
      "source": [
        "data.columns"
      ]
    },
    {
      "cell_type": "markdown",
      "source": [
        "Выберем столбцы для обучения X_col и целевую переменную y_col, так же укажем столбцы с категориальными данными."
      ],
      "metadata": {
        "id": "1wrugl3PNn6U"
      }
    },
    {
      "cell_type": "code",
      "execution_count": 59,
      "metadata": {
        "id": "GUUuaAzEQSd5"
      },
      "outputs": [],
      "source": [
        "X_col = ['children', 'days_employed', 'education', \n",
        "       'gender', 'income_type',\n",
        "       'lemm_purpose_group',\n",
        "       'dob_age_group', 'dob_children_group', 'total_income_group',\n",
        "       'family_status_group']\n",
        "y_col = ['debt']\n",
        "cat_features = ['education', 'gender', 'income_type', 'lemm_purpose_group',\n",
        "       'dob_age_group', 'dob_children_group', 'total_income_group',\n",
        "       'family_status_group']"
      ]
    },
    {
      "cell_type": "code",
      "execution_count": 60,
      "metadata": {
        "id": "M8ZbI_OR-Dpp"
      },
      "outputs": [],
      "source": [
        "from catboost import CatBoostClassifier\n",
        "\n",
        "model = CatBoostClassifier(verbose=100)"
      ]
    },
    {
      "cell_type": "markdown",
      "source": [
        "Приступим к обучению модели"
      ],
      "metadata": {
        "id": "bPp2Ei8Z-KEQ"
      }
    },
    {
      "cell_type": "code",
      "execution_count": 61,
      "metadata": {
        "colab": {
          "base_uri": "https://localhost:8080/"
        },
        "id": "fkB0z7Xn-YEs",
        "outputId": "2cf81484-5971-4e6c-f3e5-14dcb74d6e48"
      },
      "outputs": [
        {
          "output_type": "stream",
          "name": "stdout",
          "text": [
            "Learning rate set to 0.061856\n",
            "0:\tlearn: 0.6324861\ttest: 0.6318381\tbest: 0.6318381 (0)\ttotal: 134ms\tremaining: 2m 13s\n",
            "100:\tlearn: 0.2730084\ttest: 0.2666774\tbest: 0.2666774 (100)\ttotal: 4.09s\tremaining: 36.4s\n",
            "200:\tlearn: 0.2671035\ttest: 0.2667685\tbest: 0.2663305 (156)\ttotal: 8.86s\tremaining: 35.2s\n",
            "300:\tlearn: 0.2608161\ttest: 0.2674864\tbest: 0.2663305 (156)\ttotal: 15.5s\tremaining: 36s\n",
            "400:\tlearn: 0.2556930\ttest: 0.2682774\tbest: 0.2663305 (156)\ttotal: 21.7s\tremaining: 32.5s\n",
            "500:\tlearn: 0.2512761\ttest: 0.2688484\tbest: 0.2663305 (156)\ttotal: 26.8s\tremaining: 26.7s\n",
            "600:\tlearn: 0.2469368\ttest: 0.2695644\tbest: 0.2663305 (156)\ttotal: 29.4s\tremaining: 19.5s\n",
            "700:\tlearn: 0.2425656\ttest: 0.2704429\tbest: 0.2663305 (156)\ttotal: 32.1s\tremaining: 13.7s\n",
            "800:\tlearn: 0.2383342\ttest: 0.2713777\tbest: 0.2663305 (156)\ttotal: 34.8s\tremaining: 8.64s\n",
            "900:\tlearn: 0.2350399\ttest: 0.2720585\tbest: 0.2663305 (156)\ttotal: 37.4s\tremaining: 4.11s\n",
            "999:\tlearn: 0.2311588\ttest: 0.2731458\tbest: 0.2663305 (156)\ttotal: 40s\tremaining: 0us\n",
            "\n",
            "bestTest = 0.2663304756\n",
            "bestIteration = 156\n",
            "\n",
            "Shrink model to first 157 iterations.\n"
          ]
        },
        {
          "output_type": "execute_result",
          "data": {
            "text/plain": [
              "<catboost.core.CatBoostClassifier at 0x7f2c18400cd0>"
            ]
          },
          "metadata": {},
          "execution_count": 61
        }
      ],
      "source": [
        "model.fit(train[X_col],train[y_col],\n",
        "          \n",
        "          eval_set=(val[X_col],val[y_col]),\n",
        "\n",
        "          cat_features=cat_features\n",
        "          )"
      ]
    },
    {
      "cell_type": "markdown",
      "source": [
        "Лучший результат модели был на 156 иттерации. Модель с вероятностью 26,6% может предсказать не возврат кредита."
      ],
      "metadata": {
        "id": "pXu-6VAuOKe0"
      }
    },
    {
      "cell_type": "markdown",
      "source": [
        "Посмотрем на веса модели. Что даст нам понимание о влиянии фитчей на модель и на верояность невозврата кредита."
      ],
      "metadata": {
        "id": "DYTBjAR6Oths"
      }
    },
    {
      "cell_type": "code",
      "execution_count": 62,
      "metadata": {
        "id": "RE1hE1m9BH8j"
      },
      "outputs": [],
      "source": [
        "fi = pd.DataFrame({'w':model.feature_importances_,'name':X_col})"
      ]
    },
    {
      "cell_type": "code",
      "execution_count": 63,
      "metadata": {
        "id": "RNqaWtVTB5-I"
      },
      "outputs": [],
      "source": [
        "fi.sort_values('w',ascending=False,inplace=True)"
      ]
    },
    {
      "cell_type": "code",
      "execution_count": 64,
      "metadata": {
        "colab": {
          "base_uri": "https://localhost:8080/",
          "height": 362
        },
        "id": "qG4aTmRKCENt",
        "outputId": "99922a47-61bf-40ee-f7ae-183f5ae69a2d"
      },
      "outputs": [
        {
          "output_type": "execute_result",
          "data": {
            "text/html": [
              "\n",
              "  <div id=\"df-dada72aa-0689-42fb-bd68-4ca9638c5153\">\n",
              "    <div class=\"colab-df-container\">\n",
              "      <div>\n",
              "<style scoped>\n",
              "    .dataframe tbody tr th:only-of-type {\n",
              "        vertical-align: middle;\n",
              "    }\n",
              "\n",
              "    .dataframe tbody tr th {\n",
              "        vertical-align: top;\n",
              "    }\n",
              "\n",
              "    .dataframe thead th {\n",
              "        text-align: right;\n",
              "    }\n",
              "</style>\n",
              "<table border=\"1\" class=\"dataframe\">\n",
              "  <thead>\n",
              "    <tr style=\"text-align: right;\">\n",
              "      <th></th>\n",
              "      <th>w</th>\n",
              "      <th>name</th>\n",
              "    </tr>\n",
              "  </thead>\n",
              "  <tbody>\n",
              "    <tr>\n",
              "      <th>1</th>\n",
              "      <td>22.038879</td>\n",
              "      <td>days_employed</td>\n",
              "    </tr>\n",
              "    <tr>\n",
              "      <th>2</th>\n",
              "      <td>20.779717</td>\n",
              "      <td>education</td>\n",
              "    </tr>\n",
              "    <tr>\n",
              "      <th>5</th>\n",
              "      <td>11.369304</td>\n",
              "      <td>lemm_purpose_group</td>\n",
              "    </tr>\n",
              "    <tr>\n",
              "      <th>3</th>\n",
              "      <td>10.460516</td>\n",
              "      <td>gender</td>\n",
              "    </tr>\n",
              "    <tr>\n",
              "      <th>6</th>\n",
              "      <td>10.089550</td>\n",
              "      <td>dob_age_group</td>\n",
              "    </tr>\n",
              "    <tr>\n",
              "      <th>8</th>\n",
              "      <td>7.258878</td>\n",
              "      <td>total_income_group</td>\n",
              "    </tr>\n",
              "    <tr>\n",
              "      <th>9</th>\n",
              "      <td>5.856086</td>\n",
              "      <td>family_status_group</td>\n",
              "    </tr>\n",
              "    <tr>\n",
              "      <th>0</th>\n",
              "      <td>4.581500</td>\n",
              "      <td>children</td>\n",
              "    </tr>\n",
              "    <tr>\n",
              "      <th>7</th>\n",
              "      <td>4.262631</td>\n",
              "      <td>dob_children_group</td>\n",
              "    </tr>\n",
              "    <tr>\n",
              "      <th>4</th>\n",
              "      <td>3.302938</td>\n",
              "      <td>income_type</td>\n",
              "    </tr>\n",
              "  </tbody>\n",
              "</table>\n",
              "</div>\n",
              "      <button class=\"colab-df-convert\" onclick=\"convertToInteractive('df-dada72aa-0689-42fb-bd68-4ca9638c5153')\"\n",
              "              title=\"Convert this dataframe to an interactive table.\"\n",
              "              style=\"display:none;\">\n",
              "        \n",
              "  <svg xmlns=\"http://www.w3.org/2000/svg\" height=\"24px\"viewBox=\"0 0 24 24\"\n",
              "       width=\"24px\">\n",
              "    <path d=\"M0 0h24v24H0V0z\" fill=\"none\"/>\n",
              "    <path d=\"M18.56 5.44l.94 2.06.94-2.06 2.06-.94-2.06-.94-.94-2.06-.94 2.06-2.06.94zm-11 1L8.5 8.5l.94-2.06 2.06-.94-2.06-.94L8.5 2.5l-.94 2.06-2.06.94zm10 10l.94 2.06.94-2.06 2.06-.94-2.06-.94-.94-2.06-.94 2.06-2.06.94z\"/><path d=\"M17.41 7.96l-1.37-1.37c-.4-.4-.92-.59-1.43-.59-.52 0-1.04.2-1.43.59L10.3 9.45l-7.72 7.72c-.78.78-.78 2.05 0 2.83L4 21.41c.39.39.9.59 1.41.59.51 0 1.02-.2 1.41-.59l7.78-7.78 2.81-2.81c.8-.78.8-2.07 0-2.86zM5.41 20L4 18.59l7.72-7.72 1.47 1.35L5.41 20z\"/>\n",
              "  </svg>\n",
              "      </button>\n",
              "      \n",
              "  <style>\n",
              "    .colab-df-container {\n",
              "      display:flex;\n",
              "      flex-wrap:wrap;\n",
              "      gap: 12px;\n",
              "    }\n",
              "\n",
              "    .colab-df-convert {\n",
              "      background-color: #E8F0FE;\n",
              "      border: none;\n",
              "      border-radius: 50%;\n",
              "      cursor: pointer;\n",
              "      display: none;\n",
              "      fill: #1967D2;\n",
              "      height: 32px;\n",
              "      padding: 0 0 0 0;\n",
              "      width: 32px;\n",
              "    }\n",
              "\n",
              "    .colab-df-convert:hover {\n",
              "      background-color: #E2EBFA;\n",
              "      box-shadow: 0px 1px 2px rgba(60, 64, 67, 0.3), 0px 1px 3px 1px rgba(60, 64, 67, 0.15);\n",
              "      fill: #174EA6;\n",
              "    }\n",
              "\n",
              "    [theme=dark] .colab-df-convert {\n",
              "      background-color: #3B4455;\n",
              "      fill: #D2E3FC;\n",
              "    }\n",
              "\n",
              "    [theme=dark] .colab-df-convert:hover {\n",
              "      background-color: #434B5C;\n",
              "      box-shadow: 0px 1px 3px 1px rgba(0, 0, 0, 0.15);\n",
              "      filter: drop-shadow(0px 1px 2px rgba(0, 0, 0, 0.3));\n",
              "      fill: #FFFFFF;\n",
              "    }\n",
              "  </style>\n",
              "\n",
              "      <script>\n",
              "        const buttonEl =\n",
              "          document.querySelector('#df-dada72aa-0689-42fb-bd68-4ca9638c5153 button.colab-df-convert');\n",
              "        buttonEl.style.display =\n",
              "          google.colab.kernel.accessAllowed ? 'block' : 'none';\n",
              "\n",
              "        async function convertToInteractive(key) {\n",
              "          const element = document.querySelector('#df-dada72aa-0689-42fb-bd68-4ca9638c5153');\n",
              "          const dataTable =\n",
              "            await google.colab.kernel.invokeFunction('convertToInteractive',\n",
              "                                                     [key], {});\n",
              "          if (!dataTable) return;\n",
              "\n",
              "          const docLinkHtml = 'Like what you see? Visit the ' +\n",
              "            '<a target=\"_blank\" href=https://colab.research.google.com/notebooks/data_table.ipynb>data table notebook</a>'\n",
              "            + ' to learn more about interactive tables.';\n",
              "          element.innerHTML = '';\n",
              "          dataTable['output_type'] = 'display_data';\n",
              "          await google.colab.output.renderOutput(dataTable, element);\n",
              "          const docLink = document.createElement('div');\n",
              "          docLink.innerHTML = docLinkHtml;\n",
              "          element.appendChild(docLink);\n",
              "        }\n",
              "      </script>\n",
              "    </div>\n",
              "  </div>\n",
              "  "
            ],
            "text/plain": [
              "           w                 name\n",
              "1  22.038879        days_employed\n",
              "2  20.779717            education\n",
              "5  11.369304   lemm_purpose_group\n",
              "3  10.460516               gender\n",
              "6  10.089550        dob_age_group\n",
              "8   7.258878   total_income_group\n",
              "9   5.856086  family_status_group\n",
              "0   4.581500             children\n",
              "7   4.262631   dob_children_group\n",
              "4   3.302938          income_type"
            ]
          },
          "metadata": {},
          "execution_count": 64
        }
      ],
      "source": [
        "fi"
      ]
    },
    {
      "cell_type": "markdown",
      "source": [
        "Применив машинное обучение мы определили, что набольшее влияние на верояность просрочки по кредиту оказывают трудовой стаж и образование. Уровень дохода, наличие детей и семеное пложение влияют на возврат кредита в меньшей степени."
      ],
      "metadata": {
        "id": "QkqYRnoDPFmm"
      }
    },
    {
      "cell_type": "markdown",
      "metadata": {
        "id": "Dovb4JN4zeWA"
      },
      "source": [
        "## Шаг 4. Общий вывод"
      ]
    },
    {
      "cell_type": "markdown",
      "metadata": {
        "id": "p4hN3yGIzeWA"
      },
      "source": [
        "\n",
        "  Нам была дана таблица с информацией о заемщика имющих разные параметры. Нам было необходимо определить как влияет семейное положение, количество детей, уровень доходаи, цель кредина на возврат кредита в срок. Для этого мы проанализировали таблицу, выявили пропуски и земенили на среднее значение по соответствующей группе, визуально определили дубликаты, часть дубликатов удалили, часть из них исчезла после приведения стороки к нижнему регистру, заменили неправдоподобные значения. Используя инструмены pandas мы убрали весь мусор и привели данные к необходимому типу. Затем катологизировали данные для более наглядного расчета необходимых параметров. Используя группировку данных по заданным столбцам мы вывели выводы по столбу 'dept' через количество, сумму и среднее значение, что позволило нам заявить о слабой связи между количеством детей, семейным положением, уровнем дохода и возвратом кредита в срок. Так же помощью сводных таблиц определи взамосвять не только между количеством детей и просрочкой, но и добавили взаимосвязь от возраста, дохода и цели кредита. \n",
        "    \n",
        "  Для выявления связи между предоставленными данными и верояностью возврата кредита мы применили методы машинного обучения в частности CatBoostClassifier библиотеки Catboost, что позволило нам с верояность 26,6% предсказать верояность невозврата кредита и определить степень влияния показателей таблицы на возврат кредита. В итоге трудовой стаж и образование наиболее важные параметры на которые стоит обратить внимание при составлении скоринговой модели."
      ]
    },
    {
      "cell_type": "markdown",
      "metadata": {
        "id": "QNA_rNqLzeWA"
      },
      "source": [
        "## Чек-лист готовности проекта\n",
        "\n"
      ]
    },
    {
      "cell_type": "markdown",
      "metadata": {
        "id": "ei04a-ZHzeWB"
      },
      "source": [
        "- [x]  открыт файл;\n",
        "- [x]  файл изучен;\n",
        "- [x]  определены пропущенные значения;\n",
        "- [x]  заполнены пропущенные значения;\n",
        "- [x]  есть пояснение, какие пропущенные значения обнаружены;\n",
        "- [x]  описаны возможные причины появления пропусков в данных;\n",
        "- [x]  объяснено, по какому принципу заполнены пропуски;\n",
        "- [x]  заменен вещественный тип данных на целочисленный;\n",
        "- [x]  есть пояснение, какой метод используется для изменения типа данных и почему;\n",
        "- [x]  удалены дубликаты;\n",
        "- [x]  есть пояснение, какой метод используется для поиска и удаления дубликатов;\n",
        "- [x]  описаны возможные причины появления дубликатов в данных;\n",
        "- [x]  выделены леммы в значениях столбца с целями получения кредита;\n",
        "- [x]  описан процесс лемматизации;\n",
        "- [x]  данные категоризированы;\n",
        "- [x]  есть объяснение принципа категоризации данных;\n",
        "- [x]  есть ответ на вопрос: \"Есть ли зависимость между наличием детей и возвратом кредита в срок?\";\n",
        "- [x]  есть ответ на вопрос: \"Есть ли зависимость между семейным положением и возвратом кредита в срок?\";\n",
        "- [x]  есть ответ на вопрос: \"Есть ли зависимость между уровнем дохода и возвратом кредита в срок?\";\n",
        "- [x]  есть ответ на вопрос: \"Как разные цели кредита влияют на его возврат в срок?\";\n",
        "- [x] Применили медоты машинного обучения для выявления весомых фичей;\n",
        "- [x]  в каждом этапе есть выводы;\n",
        "- [x]  есть общий вывод."
      ]
    },
    {
      "cell_type": "code",
      "source": [
        ""
      ],
      "metadata": {
        "id": "O1QetEIzSTnX"
      },
      "execution_count": null,
      "outputs": []
    }
  ],
  "metadata": {
    "colab": {
      "collapsed_sections": [],
      "name": "Исследование надёжности заёмщиков\"",
      "provenance": [],
      "toc_visible": true,
      "include_colab_link": true
    },
    "kernelspec": {
      "display_name": "Python 3",
      "language": "python",
      "name": "python3"
    },
    "language_info": {
      "codemirror_mode": {
        "name": "ipython",
        "version": 3
      },
      "file_extension": ".py",
      "mimetype": "text/x-python",
      "name": "python",
      "nbconvert_exporter": "python",
      "pygments_lexer": "ipython3",
      "version": "3.7.8"
    },
    "toc": {
      "base_numbering": 1,
      "nav_menu": {},
      "number_sections": true,
      "sideBar": true,
      "skip_h1_title": true,
      "title_cell": "Table of Contents",
      "title_sidebar": "Contents",
      "toc_cell": false,
      "toc_position": {},
      "toc_section_display": true,
      "toc_window_display": false
    }
  },
  "nbformat": 4,
  "nbformat_minor": 0
}