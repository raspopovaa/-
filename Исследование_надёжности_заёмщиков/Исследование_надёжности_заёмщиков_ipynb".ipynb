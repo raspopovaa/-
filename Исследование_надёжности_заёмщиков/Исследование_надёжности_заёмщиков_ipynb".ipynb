{
  "nbformat": 4,
  "nbformat_minor": 0,
  "metadata": {
    "kernelspec": {
      "display_name": "Python 3",
      "language": "python",
      "name": "python3"
    },
    "language_info": {
      "codemirror_mode": {
        "name": "ipython",
        "version": 3
      },
      "file_extension": ".py",
      "mimetype": "text/x-python",
      "name": "python",
      "nbconvert_exporter": "python",
      "pygments_lexer": "ipython3",
      "version": "3.7.8"
    },
    "toc": {
      "base_numbering": 1,
      "nav_menu": {},
      "number_sections": true,
      "sideBar": true,
      "skip_h1_title": true,
      "title_cell": "Table of Contents",
      "title_sidebar": "Contents",
      "toc_cell": false,
      "toc_position": {},
      "toc_section_display": true,
      "toc_window_display": false
    },
    "colab": {
      "name": "Исследование надёжности заёмщиков.ipynb\"",
      "provenance": [],
      "collapsed_sections": [],
      "include_colab_link": true
    }
  },
  "cells": [
    {
      "cell_type": "markdown",
      "metadata": {
        "id": "view-in-github",
        "colab_type": "text"
      },
      "source": [
        "<a href=\"https://colab.research.google.com/github/raspopovaa/Pet-Project-Data-Analyst/blob/main/%D0%98%D1%81%D1%81%D0%BB%D0%B5%D0%B4%D0%BE%D0%B2%D0%B0%D0%BD%D0%B8%D0%B5_%D0%BD%D0%B0%D0%B4%D1%91%D0%B6%D0%BD%D0%BE%D1%81%D1%82%D0%B8_%D0%B7%D0%B0%D1%91%D0%BC%D1%89%D0%B8%D0%BA%D0%BE%D0%B2/%D0%98%D1%81%D1%81%D0%BB%D0%B5%D0%B4%D0%BE%D0%B2%D0%B0%D0%BD%D0%B8%D0%B5_%D0%BD%D0%B0%D0%B4%D1%91%D0%B6%D0%BD%D0%BE%D1%81%D1%82%D0%B8_%D0%B7%D0%B0%D1%91%D0%BC%D1%89%D0%B8%D0%BA%D0%BE%D0%B2_ipynb%22.ipynb\" target=\"_parent\"><img src=\"https://colab.research.google.com/assets/colab-badge.svg\" alt=\"Open In Colab\"/></a>"
      ]
    },
    {
      "cell_type": "markdown",
      "metadata": {
        "id": "muyqeXA5zeVU"
      },
      "source": [
        "# Исследование надёжности заёмщиков\n",
        "\n",
        "Заказчик — кредитный отдел банка. Нужно разобраться, влияет ли семейное положение и количество детей клиента на факт погашения кредита в срок. Входные данные от банка — статистика о платёжеспособности клиентов.\n",
        "\n",
        "Результаты исследования будут учтены при построении модели **кредитного скоринга** — специальной системы, которая оценивает способность потенциального заёмщика вернуть кредит банку."
      ]
    },
    {
      "cell_type": "markdown",
      "source": [
        "Описание данных\n",
        "* children — количество детей в семье\n",
        "* days_employed — общий трудовой стаж в днях\n",
        "* dob_years — возраст клиента в годах\n",
        "* education — уровень образования клиента\n",
        "* education_id — идентификатор уровня образования\n",
        "* family_status — семейное положение\n",
        "* family_status_id — идентификатор семейного положения\n",
        "* gender — пол клиента\n",
        "* income_type — тип занятости\n",
        "* debt — имел ли задолженность по возврату кредитов\n",
        "* total_income — ежемесячный доход\n",
        "* purpose — цель получения кредита"
      ],
      "metadata": {
        "id": "dQwuWP0L_iIa"
      }
    },
    {
      "cell_type": "markdown",
      "metadata": {
        "id": "X1rRaLRAzeVU"
      },
      "source": [
        "## Шаг 1. Откроем файл с данными и изучим общую информацию"
      ]
    },
    {
      "cell_type": "code",
      "source": [
        "# Этот костыль позволяет запускать лематизацию в colab\n",
        "!wget http://download.cdn.yandex.net/mystem/mystem-3.0-linux3.1-64bit.tar.gz\n",
        "!tar -xvf mystem-3.0-linux3.1-64bit.tar.gz\n",
        "!cp mystem /root/.local/bin/mystem"
      ],
      "metadata": {
        "id": "0618VVqFnC9T",
        "colab": {
          "base_uri": "https://localhost:8080/"
        },
        "outputId": "838f43e8-85ff-4ae3-905b-8d1510c9f087"
      },
      "execution_count": 1,
      "outputs": [
        {
          "output_type": "stream",
          "name": "stdout",
          "text": [
            "--2022-01-28 02:29:03--  http://download.cdn.yandex.net/mystem/mystem-3.0-linux3.1-64bit.tar.gz\n",
            "Resolving download.cdn.yandex.net (download.cdn.yandex.net)... 5.45.205.244, 5.45.205.241, 5.45.205.242, ...\n",
            "Connecting to download.cdn.yandex.net (download.cdn.yandex.net)|5.45.205.244|:80... connected.\n",
            "HTTP request sent, awaiting response... 302 Found\n",
            "Location: http://cache-man01i.cdn.yandex.net/download.cdn.yandex.net/mystem/mystem-3.0-linux3.1-64bit.tar.gz [following]\n",
            "--2022-01-28 02:29:03--  http://cache-man01i.cdn.yandex.net/download.cdn.yandex.net/mystem/mystem-3.0-linux3.1-64bit.tar.gz\n",
            "Resolving cache-man01i.cdn.yandex.net (cache-man01i.cdn.yandex.net)... 5.45.205.221, 2a02:6b8::3:221\n",
            "Connecting to cache-man01i.cdn.yandex.net (cache-man01i.cdn.yandex.net)|5.45.205.221|:80... connected.\n",
            "HTTP request sent, awaiting response... 200 OK\n",
            "Length: 16457938 (16M) [application/octet-stream]\n",
            "Saving to: ‘mystem-3.0-linux3.1-64bit.tar.gz.1’\n",
            "\n",
            "mystem-3.0-linux3.1 100%[===================>]  15.70M  29.1MB/s    in 0.5s    \n",
            "\n",
            "2022-01-28 02:29:04 (29.1 MB/s) - ‘mystem-3.0-linux3.1-64bit.tar.gz.1’ saved [16457938/16457938]\n",
            "\n",
            "mystem\n"
          ]
        }
      ]
    },
    {
      "cell_type": "code",
      "metadata": {
        "colab": {
          "base_uri": "https://localhost:8080/"
        },
        "id": "oLKZz3bXzeVv",
        "outputId": "d7274f01-5ca0-4a52-acdd-edd18d96245d"
      },
      "source": [
        "%pip install pymystem3 -U\n",
        "import matplotlib.pyplot as plt\n",
        "plt.rcParams[\"figure.figsize\"] = (20,6)\n",
        "plt.style.use('dark_background')\n",
        "import pandas as pd\n",
        "from pymystem3 import Mystem\n",
        "m = Mystem()"
      ],
      "execution_count": 2,
      "outputs": [
        {
          "output_type": "stream",
          "name": "stdout",
          "text": [
            "Requirement already satisfied: pymystem3 in /usr/local/lib/python3.7/dist-packages (0.2.0)\n",
            "Requirement already satisfied: requests in /usr/local/lib/python3.7/dist-packages (from pymystem3) (2.23.0)\n",
            "Requirement already satisfied: idna<3,>=2.5 in /usr/local/lib/python3.7/dist-packages (from requests->pymystem3) (2.10)\n",
            "Requirement already satisfied: chardet<4,>=3.0.2 in /usr/local/lib/python3.7/dist-packages (from requests->pymystem3) (3.0.4)\n",
            "Requirement already satisfied: certifi>=2017.4.17 in /usr/local/lib/python3.7/dist-packages (from requests->pymystem3) (2021.10.8)\n",
            "Requirement already satisfied: urllib3!=1.25.0,!=1.25.1,<1.26,>=1.21.1 in /usr/local/lib/python3.7/dist-packages (from requests->pymystem3) (1.24.3)\n"
          ]
        }
      ]
    },
    {
      "cell_type": "markdown",
      "metadata": {
        "id": "BJ-2PjhCzeVW"
      },
      "source": [
        "Импортируем бибилиотеку pandas, pymystem2, matplotlib и загружаем таблицу. Pandas для работы с таблицами, matplotlib для визуализации, pymystem3 для лематизации. Можно обойтись и без лематизации но с ней интереснее )))."
      ]
    },
    {
      "cell_type": "code",
      "metadata": {
        "colab": {
          "base_uri": "https://localhost:8080/"
        },
        "id": "PoF8hhI6zeVX",
        "outputId": "412cd8a7-ec03-4ab6-d1e3-8cfa2f98d8c3"
      },
      "source": [
        "data = pd.read_csv('https://code.s3.yandex.net/datasets/data.csv')\n",
        "data.info()"
      ],
      "execution_count": 3,
      "outputs": [
        {
          "output_type": "stream",
          "name": "stdout",
          "text": [
            "<class 'pandas.core.frame.DataFrame'>\n",
            "RangeIndex: 21525 entries, 0 to 21524\n",
            "Data columns (total 12 columns):\n",
            " #   Column            Non-Null Count  Dtype  \n",
            "---  ------            --------------  -----  \n",
            " 0   children          21525 non-null  int64  \n",
            " 1   days_employed     19351 non-null  float64\n",
            " 2   dob_years         21525 non-null  int64  \n",
            " 3   education         21525 non-null  object \n",
            " 4   education_id      21525 non-null  int64  \n",
            " 5   family_status     21525 non-null  object \n",
            " 6   family_status_id  21525 non-null  int64  \n",
            " 7   gender            21525 non-null  object \n",
            " 8   income_type       21525 non-null  object \n",
            " 9   debt              21525 non-null  int64  \n",
            " 10  total_income      19351 non-null  float64\n",
            " 11  purpose           21525 non-null  object \n",
            "dtypes: float64(2), int64(5), object(5)\n",
            "memory usage: 2.0+ MB\n"
          ]
        }
      ]
    },
    {
      "cell_type": "markdown",
      "metadata": {
        "id": "5jvUUwxHzeVY"
      },
      "source": [
        "Используем метод info() для выявлнния пропущеных значений в таблице"
      ]
    },
    {
      "cell_type": "markdown",
      "metadata": {
        "id": "rhGZjCmuzeVY"
      },
      "source": [
        "Используем метод .head(), для визуальной оценки данных."
      ]
    },
    {
      "cell_type": "code",
      "metadata": {
        "colab": {
          "base_uri": "https://localhost:8080/",
          "height": 206
        },
        "id": "pMOx3TMZzeVY",
        "outputId": "56f686bc-744c-4fda-ee68-389a8ebdc64b"
      },
      "source": [
        "\n",
        "data.head(5)"
      ],
      "execution_count": 4,
      "outputs": [
        {
          "output_type": "execute_result",
          "data": {
            "text/html": [
              "\n",
              "  <div id=\"df-580b3f9d-7f54-42ab-aa04-f3d7f0e48d44\">\n",
              "    <div class=\"colab-df-container\">\n",
              "      <div>\n",
              "<style scoped>\n",
              "    .dataframe tbody tr th:only-of-type {\n",
              "        vertical-align: middle;\n",
              "    }\n",
              "\n",
              "    .dataframe tbody tr th {\n",
              "        vertical-align: top;\n",
              "    }\n",
              "\n",
              "    .dataframe thead th {\n",
              "        text-align: right;\n",
              "    }\n",
              "</style>\n",
              "<table border=\"1\" class=\"dataframe\">\n",
              "  <thead>\n",
              "    <tr style=\"text-align: right;\">\n",
              "      <th></th>\n",
              "      <th>children</th>\n",
              "      <th>days_employed</th>\n",
              "      <th>dob_years</th>\n",
              "      <th>education</th>\n",
              "      <th>education_id</th>\n",
              "      <th>family_status</th>\n",
              "      <th>family_status_id</th>\n",
              "      <th>gender</th>\n",
              "      <th>income_type</th>\n",
              "      <th>debt</th>\n",
              "      <th>total_income</th>\n",
              "      <th>purpose</th>\n",
              "    </tr>\n",
              "  </thead>\n",
              "  <tbody>\n",
              "    <tr>\n",
              "      <th>0</th>\n",
              "      <td>1</td>\n",
              "      <td>-8437.673028</td>\n",
              "      <td>42</td>\n",
              "      <td>высшее</td>\n",
              "      <td>0</td>\n",
              "      <td>женат / замужем</td>\n",
              "      <td>0</td>\n",
              "      <td>F</td>\n",
              "      <td>сотрудник</td>\n",
              "      <td>0</td>\n",
              "      <td>253875.639453</td>\n",
              "      <td>покупка жилья</td>\n",
              "    </tr>\n",
              "    <tr>\n",
              "      <th>1</th>\n",
              "      <td>1</td>\n",
              "      <td>-4024.803754</td>\n",
              "      <td>36</td>\n",
              "      <td>среднее</td>\n",
              "      <td>1</td>\n",
              "      <td>женат / замужем</td>\n",
              "      <td>0</td>\n",
              "      <td>F</td>\n",
              "      <td>сотрудник</td>\n",
              "      <td>0</td>\n",
              "      <td>112080.014102</td>\n",
              "      <td>приобретение автомобиля</td>\n",
              "    </tr>\n",
              "    <tr>\n",
              "      <th>2</th>\n",
              "      <td>0</td>\n",
              "      <td>-5623.422610</td>\n",
              "      <td>33</td>\n",
              "      <td>Среднее</td>\n",
              "      <td>1</td>\n",
              "      <td>женат / замужем</td>\n",
              "      <td>0</td>\n",
              "      <td>M</td>\n",
              "      <td>сотрудник</td>\n",
              "      <td>0</td>\n",
              "      <td>145885.952297</td>\n",
              "      <td>покупка жилья</td>\n",
              "    </tr>\n",
              "    <tr>\n",
              "      <th>3</th>\n",
              "      <td>3</td>\n",
              "      <td>-4124.747207</td>\n",
              "      <td>32</td>\n",
              "      <td>среднее</td>\n",
              "      <td>1</td>\n",
              "      <td>женат / замужем</td>\n",
              "      <td>0</td>\n",
              "      <td>M</td>\n",
              "      <td>сотрудник</td>\n",
              "      <td>0</td>\n",
              "      <td>267628.550329</td>\n",
              "      <td>дополнительное образование</td>\n",
              "    </tr>\n",
              "    <tr>\n",
              "      <th>4</th>\n",
              "      <td>0</td>\n",
              "      <td>340266.072047</td>\n",
              "      <td>53</td>\n",
              "      <td>среднее</td>\n",
              "      <td>1</td>\n",
              "      <td>гражданский брак</td>\n",
              "      <td>1</td>\n",
              "      <td>F</td>\n",
              "      <td>пенсионер</td>\n",
              "      <td>0</td>\n",
              "      <td>158616.077870</td>\n",
              "      <td>сыграть свадьбу</td>\n",
              "    </tr>\n",
              "  </tbody>\n",
              "</table>\n",
              "</div>\n",
              "      <button class=\"colab-df-convert\" onclick=\"convertToInteractive('df-580b3f9d-7f54-42ab-aa04-f3d7f0e48d44')\"\n",
              "              title=\"Convert this dataframe to an interactive table.\"\n",
              "              style=\"display:none;\">\n",
              "        \n",
              "  <svg xmlns=\"http://www.w3.org/2000/svg\" height=\"24px\"viewBox=\"0 0 24 24\"\n",
              "       width=\"24px\">\n",
              "    <path d=\"M0 0h24v24H0V0z\" fill=\"none\"/>\n",
              "    <path d=\"M18.56 5.44l.94 2.06.94-2.06 2.06-.94-2.06-.94-.94-2.06-.94 2.06-2.06.94zm-11 1L8.5 8.5l.94-2.06 2.06-.94-2.06-.94L8.5 2.5l-.94 2.06-2.06.94zm10 10l.94 2.06.94-2.06 2.06-.94-2.06-.94-.94-2.06-.94 2.06-2.06.94z\"/><path d=\"M17.41 7.96l-1.37-1.37c-.4-.4-.92-.59-1.43-.59-.52 0-1.04.2-1.43.59L10.3 9.45l-7.72 7.72c-.78.78-.78 2.05 0 2.83L4 21.41c.39.39.9.59 1.41.59.51 0 1.02-.2 1.41-.59l7.78-7.78 2.81-2.81c.8-.78.8-2.07 0-2.86zM5.41 20L4 18.59l7.72-7.72 1.47 1.35L5.41 20z\"/>\n",
              "  </svg>\n",
              "      </button>\n",
              "      \n",
              "  <style>\n",
              "    .colab-df-container {\n",
              "      display:flex;\n",
              "      flex-wrap:wrap;\n",
              "      gap: 12px;\n",
              "    }\n",
              "\n",
              "    .colab-df-convert {\n",
              "      background-color: #E8F0FE;\n",
              "      border: none;\n",
              "      border-radius: 50%;\n",
              "      cursor: pointer;\n",
              "      display: none;\n",
              "      fill: #1967D2;\n",
              "      height: 32px;\n",
              "      padding: 0 0 0 0;\n",
              "      width: 32px;\n",
              "    }\n",
              "\n",
              "    .colab-df-convert:hover {\n",
              "      background-color: #E2EBFA;\n",
              "      box-shadow: 0px 1px 2px rgba(60, 64, 67, 0.3), 0px 1px 3px 1px rgba(60, 64, 67, 0.15);\n",
              "      fill: #174EA6;\n",
              "    }\n",
              "\n",
              "    [theme=dark] .colab-df-convert {\n",
              "      background-color: #3B4455;\n",
              "      fill: #D2E3FC;\n",
              "    }\n",
              "\n",
              "    [theme=dark] .colab-df-convert:hover {\n",
              "      background-color: #434B5C;\n",
              "      box-shadow: 0px 1px 3px 1px rgba(0, 0, 0, 0.15);\n",
              "      filter: drop-shadow(0px 1px 2px rgba(0, 0, 0, 0.3));\n",
              "      fill: #FFFFFF;\n",
              "    }\n",
              "  </style>\n",
              "\n",
              "      <script>\n",
              "        const buttonEl =\n",
              "          document.querySelector('#df-580b3f9d-7f54-42ab-aa04-f3d7f0e48d44 button.colab-df-convert');\n",
              "        buttonEl.style.display =\n",
              "          google.colab.kernel.accessAllowed ? 'block' : 'none';\n",
              "\n",
              "        async function convertToInteractive(key) {\n",
              "          const element = document.querySelector('#df-580b3f9d-7f54-42ab-aa04-f3d7f0e48d44');\n",
              "          const dataTable =\n",
              "            await google.colab.kernel.invokeFunction('convertToInteractive',\n",
              "                                                     [key], {});\n",
              "          if (!dataTable) return;\n",
              "\n",
              "          const docLinkHtml = 'Like what you see? Visit the ' +\n",
              "            '<a target=\"_blank\" href=https://colab.research.google.com/notebooks/data_table.ipynb>data table notebook</a>'\n",
              "            + ' to learn more about interactive tables.';\n",
              "          element.innerHTML = '';\n",
              "          dataTable['output_type'] = 'display_data';\n",
              "          await google.colab.output.renderOutput(dataTable, element);\n",
              "          const docLink = document.createElement('div');\n",
              "          docLink.innerHTML = docLinkHtml;\n",
              "          element.appendChild(docLink);\n",
              "        }\n",
              "      </script>\n",
              "    </div>\n",
              "  </div>\n",
              "  "
            ],
            "text/plain": [
              "   children  days_employed  ...   total_income                     purpose\n",
              "0         1   -8437.673028  ...  253875.639453               покупка жилья\n",
              "1         1   -4024.803754  ...  112080.014102     приобретение автомобиля\n",
              "2         0   -5623.422610  ...  145885.952297               покупка жилья\n",
              "3         3   -4124.747207  ...  267628.550329  дополнительное образование\n",
              "4         0  340266.072047  ...  158616.077870             сыграть свадьбу\n",
              "\n",
              "[5 rows x 12 columns]"
            ]
          },
          "metadata": {},
          "execution_count": 4
        }
      ]
    },
    {
      "cell_type": "markdown",
      "source": [
        "Посмотрим на числовые значения таблицы поближе."
      ],
      "metadata": {
        "id": "vXMCCYjv_EZ0"
      }
    },
    {
      "cell_type": "code",
      "source": [
        "[data[col].describe() for col in data.columns]"
      ],
      "metadata": {
        "colab": {
          "base_uri": "https://localhost:8080/"
        },
        "id": "WXJjkhME8bM3",
        "outputId": "00d488ae-0a43-415e-f15a-8a92c63a4d42"
      },
      "execution_count": 5,
      "outputs": [
        {
          "output_type": "execute_result",
          "data": {
            "text/plain": [
              "[count    21525.000000\n",
              " mean         0.538908\n",
              " std          1.381587\n",
              " min         -1.000000\n",
              " 25%          0.000000\n",
              " 50%          0.000000\n",
              " 75%          1.000000\n",
              " max         20.000000\n",
              " Name: children, dtype: float64, count     19351.000000\n",
              " mean      63046.497661\n",
              " std      140827.311974\n",
              " min      -18388.949901\n",
              " 25%       -2747.423625\n",
              " 50%       -1203.369529\n",
              " 75%        -291.095954\n",
              " max      401755.400475\n",
              " Name: days_employed, dtype: float64, count    21525.000000\n",
              " mean        43.293380\n",
              " std         12.574584\n",
              " min          0.000000\n",
              " 25%         33.000000\n",
              " 50%         42.000000\n",
              " 75%         53.000000\n",
              " max         75.000000\n",
              " Name: dob_years, dtype: float64, count       21525\n",
              " unique         15\n",
              " top       среднее\n",
              " freq        13750\n",
              " Name: education, dtype: object, count    21525.000000\n",
              " mean         0.817236\n",
              " std          0.548138\n",
              " min          0.000000\n",
              " 25%          1.000000\n",
              " 50%          1.000000\n",
              " 75%          1.000000\n",
              " max          4.000000\n",
              " Name: education_id, dtype: float64, count               21525\n",
              " unique                  5\n",
              " top       женат / замужем\n",
              " freq                12380\n",
              " Name: family_status, dtype: object, count    21525.000000\n",
              " mean         0.972544\n",
              " std          1.420324\n",
              " min          0.000000\n",
              " 25%          0.000000\n",
              " 50%          0.000000\n",
              " 75%          1.000000\n",
              " max          4.000000\n",
              " Name: family_status_id, dtype: float64, count     21525\n",
              " unique        3\n",
              " top           F\n",
              " freq      14236\n",
              " Name: gender, dtype: object, count         21525\n",
              " unique            8\n",
              " top       сотрудник\n",
              " freq          11119\n",
              " Name: income_type, dtype: object, count    21525.000000\n",
              " mean         0.080883\n",
              " std          0.272661\n",
              " min          0.000000\n",
              " 25%          0.000000\n",
              " 50%          0.000000\n",
              " 75%          0.000000\n",
              " max          1.000000\n",
              " Name: debt, dtype: float64, count    1.935100e+04\n",
              " mean     1.674223e+05\n",
              " std      1.029716e+05\n",
              " min      2.066726e+04\n",
              " 25%      1.030532e+05\n",
              " 50%      1.450179e+05\n",
              " 75%      2.034351e+05\n",
              " max      2.265604e+06\n",
              " Name: total_income, dtype: float64, count       21525\n",
              " unique         38\n",
              " top       свадьба\n",
              " freq          797\n",
              " Name: purpose, dtype: object]"
            ]
          },
          "metadata": {},
          "execution_count": 5
        }
      ]
    },
    {
      "cell_type": "markdown",
      "metadata": {
        "id": "ndbWjboYzeVZ"
      },
      "source": [
        "###**Вывод:**"
      ]
    },
    {
      "cell_type": "markdown",
      "metadata": {
        "id": "RvGXGei1zeVZ"
      },
      "source": [
        "Использовав метод info и head, можно сделать вывод, что таблица содержит 21525 строк, 12 столбцов. Столбцы имеют разний тип данных. Таблица удобная для анализа данных - в каждом столбце храняться значения, каждая строка содержит одно наблюдение, к которому приязанны значения разных переменных. Название столбцов без пробелов, несколько слов разделяются нижним подчеркиванием, на одном языке и в одном регистре, отображают в краткой форме какого рода информация содержиться в каждом столбце. Столбцы 'days_employed' (общий трудовой стаж в днях) и 'total_income' (ежемесячный доход) имеют 19351 заполненых строк вместо 21525, т.е имеют около 10 % пропусков значений. Так же в столбце 'days_employed' есть отрицательные значения, чего не может быть с трудовым стажем. Так же отрицательные значения есть в столбце 'children', в столбце dob_years есть нулевые значения, в столбцах 'education', 'family_status' и income_type буквы разного регистра, столбец 'gender' содержит неверное значение XNA. В строке 'dob_years' есть нулевые значения, что недопустимо. Скорее всего это технические ошибки.  Так же предположу, что пропуски в столбцах 'days_employed' (общий трудовой стаж в днях) и 'total_income' (ежемесячный доход) созданны намеренно и связанно это с видом кредита (т.е. есть кредиты не предполагающие предоставление информации о трудовом стаже, и ежемесячном доходе). Интересно, есть ли связь между заполнением этих строк и возвратом кредита в срок. Но вернемся к заданию, необходимо провести предобработку данных для выявления артефактов содержащих недостоверные данные."
      ]
    },
    {
      "cell_type": "markdown",
      "metadata": {
        "id": "UHaujQeJzeVa"
      },
      "source": [
        "## Шаг 2. Предобработка данных"
      ]
    },
    {
      "cell_type": "markdown",
      "metadata": {
        "id": "Eo96vrL8zeVb"
      },
      "source": [
        "### Обработка пропусков"
      ]
    },
    {
      "cell_type": "code",
      "metadata": {
        "scrolled": true,
        "colab": {
          "base_uri": "https://localhost:8080/"
        },
        "id": "pQlHhAiazeVb",
        "outputId": "56beb745-6ea7-44f6-bdba-d88a4bf61ed1"
      },
      "source": [
        "data.isnull().sum()"
      ],
      "execution_count": 6,
      "outputs": [
        {
          "output_type": "execute_result",
          "data": {
            "text/plain": [
              "children               0\n",
              "days_employed       2174\n",
              "dob_years              0\n",
              "education              0\n",
              "education_id           0\n",
              "family_status          0\n",
              "family_status_id       0\n",
              "gender                 0\n",
              "income_type            0\n",
              "debt                   0\n",
              "total_income        2174\n",
              "purpose                0\n",
              "dtype: int64"
            ]
          },
          "metadata": {},
          "execution_count": 6
        }
      ]
    },
    {
      "cell_type": "markdown",
      "source": [
        "Посмотрим сколько процентов сотавляют пропущенные значения."
      ],
      "metadata": {
        "id": "O_bUKmaX7rcT"
      }
    },
    {
      "cell_type": "code",
      "source": [
        "pd.DataFrame(round((data.isna().mean()*100),2)).style.background_gradient('coolwarm')"
      ],
      "metadata": {
        "colab": {
          "base_uri": "https://localhost:8080/",
          "height": 425
        },
        "id": "TxO6AuHi7mQD",
        "outputId": "cedc9071-df1c-403b-d498-1c0bc2ff8960"
      },
      "execution_count": 7,
      "outputs": [
        {
          "output_type": "execute_result",
          "data": {
            "text/html": [
              "<style  type=\"text/css\" >\n",
              "#T_11ea112a_7fe2_11ec_a3cf_0242ac1c0002row0_col0,#T_11ea112a_7fe2_11ec_a3cf_0242ac1c0002row2_col0,#T_11ea112a_7fe2_11ec_a3cf_0242ac1c0002row3_col0,#T_11ea112a_7fe2_11ec_a3cf_0242ac1c0002row4_col0,#T_11ea112a_7fe2_11ec_a3cf_0242ac1c0002row5_col0,#T_11ea112a_7fe2_11ec_a3cf_0242ac1c0002row6_col0,#T_11ea112a_7fe2_11ec_a3cf_0242ac1c0002row7_col0,#T_11ea112a_7fe2_11ec_a3cf_0242ac1c0002row8_col0,#T_11ea112a_7fe2_11ec_a3cf_0242ac1c0002row9_col0,#T_11ea112a_7fe2_11ec_a3cf_0242ac1c0002row11_col0{\n",
              "            background-color:  #3b4cc0;\n",
              "            color:  #f1f1f1;\n",
              "        }#T_11ea112a_7fe2_11ec_a3cf_0242ac1c0002row1_col0,#T_11ea112a_7fe2_11ec_a3cf_0242ac1c0002row10_col0{\n",
              "            background-color:  #b40426;\n",
              "            color:  #f1f1f1;\n",
              "        }</style><table id=\"T_11ea112a_7fe2_11ec_a3cf_0242ac1c0002\" class=\"dataframe\"><thead>    <tr>        <th class=\"blank level0\" ></th>        <th class=\"col_heading level0 col0\" >0</th>    </tr></thead><tbody>\n",
              "                <tr>\n",
              "                        <th id=\"T_11ea112a_7fe2_11ec_a3cf_0242ac1c0002level0_row0\" class=\"row_heading level0 row0\" >children</th>\n",
              "                        <td id=\"T_11ea112a_7fe2_11ec_a3cf_0242ac1c0002row0_col0\" class=\"data row0 col0\" >0.000000</td>\n",
              "            </tr>\n",
              "            <tr>\n",
              "                        <th id=\"T_11ea112a_7fe2_11ec_a3cf_0242ac1c0002level0_row1\" class=\"row_heading level0 row1\" >days_employed</th>\n",
              "                        <td id=\"T_11ea112a_7fe2_11ec_a3cf_0242ac1c0002row1_col0\" class=\"data row1 col0\" >10.100000</td>\n",
              "            </tr>\n",
              "            <tr>\n",
              "                        <th id=\"T_11ea112a_7fe2_11ec_a3cf_0242ac1c0002level0_row2\" class=\"row_heading level0 row2\" >dob_years</th>\n",
              "                        <td id=\"T_11ea112a_7fe2_11ec_a3cf_0242ac1c0002row2_col0\" class=\"data row2 col0\" >0.000000</td>\n",
              "            </tr>\n",
              "            <tr>\n",
              "                        <th id=\"T_11ea112a_7fe2_11ec_a3cf_0242ac1c0002level0_row3\" class=\"row_heading level0 row3\" >education</th>\n",
              "                        <td id=\"T_11ea112a_7fe2_11ec_a3cf_0242ac1c0002row3_col0\" class=\"data row3 col0\" >0.000000</td>\n",
              "            </tr>\n",
              "            <tr>\n",
              "                        <th id=\"T_11ea112a_7fe2_11ec_a3cf_0242ac1c0002level0_row4\" class=\"row_heading level0 row4\" >education_id</th>\n",
              "                        <td id=\"T_11ea112a_7fe2_11ec_a3cf_0242ac1c0002row4_col0\" class=\"data row4 col0\" >0.000000</td>\n",
              "            </tr>\n",
              "            <tr>\n",
              "                        <th id=\"T_11ea112a_7fe2_11ec_a3cf_0242ac1c0002level0_row5\" class=\"row_heading level0 row5\" >family_status</th>\n",
              "                        <td id=\"T_11ea112a_7fe2_11ec_a3cf_0242ac1c0002row5_col0\" class=\"data row5 col0\" >0.000000</td>\n",
              "            </tr>\n",
              "            <tr>\n",
              "                        <th id=\"T_11ea112a_7fe2_11ec_a3cf_0242ac1c0002level0_row6\" class=\"row_heading level0 row6\" >family_status_id</th>\n",
              "                        <td id=\"T_11ea112a_7fe2_11ec_a3cf_0242ac1c0002row6_col0\" class=\"data row6 col0\" >0.000000</td>\n",
              "            </tr>\n",
              "            <tr>\n",
              "                        <th id=\"T_11ea112a_7fe2_11ec_a3cf_0242ac1c0002level0_row7\" class=\"row_heading level0 row7\" >gender</th>\n",
              "                        <td id=\"T_11ea112a_7fe2_11ec_a3cf_0242ac1c0002row7_col0\" class=\"data row7 col0\" >0.000000</td>\n",
              "            </tr>\n",
              "            <tr>\n",
              "                        <th id=\"T_11ea112a_7fe2_11ec_a3cf_0242ac1c0002level0_row8\" class=\"row_heading level0 row8\" >income_type</th>\n",
              "                        <td id=\"T_11ea112a_7fe2_11ec_a3cf_0242ac1c0002row8_col0\" class=\"data row8 col0\" >0.000000</td>\n",
              "            </tr>\n",
              "            <tr>\n",
              "                        <th id=\"T_11ea112a_7fe2_11ec_a3cf_0242ac1c0002level0_row9\" class=\"row_heading level0 row9\" >debt</th>\n",
              "                        <td id=\"T_11ea112a_7fe2_11ec_a3cf_0242ac1c0002row9_col0\" class=\"data row9 col0\" >0.000000</td>\n",
              "            </tr>\n",
              "            <tr>\n",
              "                        <th id=\"T_11ea112a_7fe2_11ec_a3cf_0242ac1c0002level0_row10\" class=\"row_heading level0 row10\" >total_income</th>\n",
              "                        <td id=\"T_11ea112a_7fe2_11ec_a3cf_0242ac1c0002row10_col0\" class=\"data row10 col0\" >10.100000</td>\n",
              "            </tr>\n",
              "            <tr>\n",
              "                        <th id=\"T_11ea112a_7fe2_11ec_a3cf_0242ac1c0002level0_row11\" class=\"row_heading level0 row11\" >purpose</th>\n",
              "                        <td id=\"T_11ea112a_7fe2_11ec_a3cf_0242ac1c0002row11_col0\" class=\"data row11 col0\" >0.000000</td>\n",
              "            </tr>\n",
              "    </tbody></table>"
            ],
            "text/plain": [
              "<pandas.io.formats.style.Styler at 0x7fb8d5047fd0>"
            ]
          },
          "metadata": {},
          "execution_count": 7
        }
      ]
    },
    {
      "cell_type": "markdown",
      "source": [
        "Посмотрим на клиентов имеющих пропуски в трудовом стаже."
      ],
      "metadata": {
        "id": "MtrZ6GTDATls"
      }
    },
    {
      "cell_type": "code",
      "source": [
        "data.query('days_employed != days_employed')"
      ],
      "metadata": {
        "colab": {
          "base_uri": "https://localhost:8080/",
          "height": 424
        },
        "id": "c2h3rNkF_6vV",
        "outputId": "4ca608a8-1165-4de2-c9d2-0a44c18c6a22"
      },
      "execution_count": 8,
      "outputs": [
        {
          "output_type": "execute_result",
          "data": {
            "text/html": [
              "\n",
              "  <div id=\"df-d169d820-7e6e-4fd9-98a9-1d1a2c9cea1e\">\n",
              "    <div class=\"colab-df-container\">\n",
              "      <div>\n",
              "<style scoped>\n",
              "    .dataframe tbody tr th:only-of-type {\n",
              "        vertical-align: middle;\n",
              "    }\n",
              "\n",
              "    .dataframe tbody tr th {\n",
              "        vertical-align: top;\n",
              "    }\n",
              "\n",
              "    .dataframe thead th {\n",
              "        text-align: right;\n",
              "    }\n",
              "</style>\n",
              "<table border=\"1\" class=\"dataframe\">\n",
              "  <thead>\n",
              "    <tr style=\"text-align: right;\">\n",
              "      <th></th>\n",
              "      <th>children</th>\n",
              "      <th>days_employed</th>\n",
              "      <th>dob_years</th>\n",
              "      <th>education</th>\n",
              "      <th>education_id</th>\n",
              "      <th>family_status</th>\n",
              "      <th>family_status_id</th>\n",
              "      <th>gender</th>\n",
              "      <th>income_type</th>\n",
              "      <th>debt</th>\n",
              "      <th>total_income</th>\n",
              "      <th>purpose</th>\n",
              "    </tr>\n",
              "  </thead>\n",
              "  <tbody>\n",
              "    <tr>\n",
              "      <th>12</th>\n",
              "      <td>0</td>\n",
              "      <td>NaN</td>\n",
              "      <td>65</td>\n",
              "      <td>среднее</td>\n",
              "      <td>1</td>\n",
              "      <td>гражданский брак</td>\n",
              "      <td>1</td>\n",
              "      <td>M</td>\n",
              "      <td>пенсионер</td>\n",
              "      <td>0</td>\n",
              "      <td>NaN</td>\n",
              "      <td>сыграть свадьбу</td>\n",
              "    </tr>\n",
              "    <tr>\n",
              "      <th>26</th>\n",
              "      <td>0</td>\n",
              "      <td>NaN</td>\n",
              "      <td>41</td>\n",
              "      <td>среднее</td>\n",
              "      <td>1</td>\n",
              "      <td>женат / замужем</td>\n",
              "      <td>0</td>\n",
              "      <td>M</td>\n",
              "      <td>госслужащий</td>\n",
              "      <td>0</td>\n",
              "      <td>NaN</td>\n",
              "      <td>образование</td>\n",
              "    </tr>\n",
              "    <tr>\n",
              "      <th>29</th>\n",
              "      <td>0</td>\n",
              "      <td>NaN</td>\n",
              "      <td>63</td>\n",
              "      <td>среднее</td>\n",
              "      <td>1</td>\n",
              "      <td>Не женат / не замужем</td>\n",
              "      <td>4</td>\n",
              "      <td>F</td>\n",
              "      <td>пенсионер</td>\n",
              "      <td>0</td>\n",
              "      <td>NaN</td>\n",
              "      <td>строительство жилой недвижимости</td>\n",
              "    </tr>\n",
              "    <tr>\n",
              "      <th>41</th>\n",
              "      <td>0</td>\n",
              "      <td>NaN</td>\n",
              "      <td>50</td>\n",
              "      <td>среднее</td>\n",
              "      <td>1</td>\n",
              "      <td>женат / замужем</td>\n",
              "      <td>0</td>\n",
              "      <td>F</td>\n",
              "      <td>госслужащий</td>\n",
              "      <td>0</td>\n",
              "      <td>NaN</td>\n",
              "      <td>сделка с подержанным автомобилем</td>\n",
              "    </tr>\n",
              "    <tr>\n",
              "      <th>55</th>\n",
              "      <td>0</td>\n",
              "      <td>NaN</td>\n",
              "      <td>54</td>\n",
              "      <td>среднее</td>\n",
              "      <td>1</td>\n",
              "      <td>гражданский брак</td>\n",
              "      <td>1</td>\n",
              "      <td>F</td>\n",
              "      <td>пенсионер</td>\n",
              "      <td>1</td>\n",
              "      <td>NaN</td>\n",
              "      <td>сыграть свадьбу</td>\n",
              "    </tr>\n",
              "    <tr>\n",
              "      <th>...</th>\n",
              "      <td>...</td>\n",
              "      <td>...</td>\n",
              "      <td>...</td>\n",
              "      <td>...</td>\n",
              "      <td>...</td>\n",
              "      <td>...</td>\n",
              "      <td>...</td>\n",
              "      <td>...</td>\n",
              "      <td>...</td>\n",
              "      <td>...</td>\n",
              "      <td>...</td>\n",
              "      <td>...</td>\n",
              "    </tr>\n",
              "    <tr>\n",
              "      <th>21489</th>\n",
              "      <td>2</td>\n",
              "      <td>NaN</td>\n",
              "      <td>47</td>\n",
              "      <td>Среднее</td>\n",
              "      <td>1</td>\n",
              "      <td>женат / замужем</td>\n",
              "      <td>0</td>\n",
              "      <td>M</td>\n",
              "      <td>компаньон</td>\n",
              "      <td>0</td>\n",
              "      <td>NaN</td>\n",
              "      <td>сделка с автомобилем</td>\n",
              "    </tr>\n",
              "    <tr>\n",
              "      <th>21495</th>\n",
              "      <td>1</td>\n",
              "      <td>NaN</td>\n",
              "      <td>50</td>\n",
              "      <td>среднее</td>\n",
              "      <td>1</td>\n",
              "      <td>гражданский брак</td>\n",
              "      <td>1</td>\n",
              "      <td>F</td>\n",
              "      <td>сотрудник</td>\n",
              "      <td>0</td>\n",
              "      <td>NaN</td>\n",
              "      <td>свадьба</td>\n",
              "    </tr>\n",
              "    <tr>\n",
              "      <th>21497</th>\n",
              "      <td>0</td>\n",
              "      <td>NaN</td>\n",
              "      <td>48</td>\n",
              "      <td>ВЫСШЕЕ</td>\n",
              "      <td>0</td>\n",
              "      <td>женат / замужем</td>\n",
              "      <td>0</td>\n",
              "      <td>F</td>\n",
              "      <td>компаньон</td>\n",
              "      <td>0</td>\n",
              "      <td>NaN</td>\n",
              "      <td>строительство недвижимости</td>\n",
              "    </tr>\n",
              "    <tr>\n",
              "      <th>21502</th>\n",
              "      <td>1</td>\n",
              "      <td>NaN</td>\n",
              "      <td>42</td>\n",
              "      <td>среднее</td>\n",
              "      <td>1</td>\n",
              "      <td>женат / замужем</td>\n",
              "      <td>0</td>\n",
              "      <td>F</td>\n",
              "      <td>сотрудник</td>\n",
              "      <td>0</td>\n",
              "      <td>NaN</td>\n",
              "      <td>строительство жилой недвижимости</td>\n",
              "    </tr>\n",
              "    <tr>\n",
              "      <th>21510</th>\n",
              "      <td>2</td>\n",
              "      <td>NaN</td>\n",
              "      <td>28</td>\n",
              "      <td>среднее</td>\n",
              "      <td>1</td>\n",
              "      <td>женат / замужем</td>\n",
              "      <td>0</td>\n",
              "      <td>F</td>\n",
              "      <td>сотрудник</td>\n",
              "      <td>0</td>\n",
              "      <td>NaN</td>\n",
              "      <td>приобретение автомобиля</td>\n",
              "    </tr>\n",
              "  </tbody>\n",
              "</table>\n",
              "<p>2174 rows × 12 columns</p>\n",
              "</div>\n",
              "      <button class=\"colab-df-convert\" onclick=\"convertToInteractive('df-d169d820-7e6e-4fd9-98a9-1d1a2c9cea1e')\"\n",
              "              title=\"Convert this dataframe to an interactive table.\"\n",
              "              style=\"display:none;\">\n",
              "        \n",
              "  <svg xmlns=\"http://www.w3.org/2000/svg\" height=\"24px\"viewBox=\"0 0 24 24\"\n",
              "       width=\"24px\">\n",
              "    <path d=\"M0 0h24v24H0V0z\" fill=\"none\"/>\n",
              "    <path d=\"M18.56 5.44l.94 2.06.94-2.06 2.06-.94-2.06-.94-.94-2.06-.94 2.06-2.06.94zm-11 1L8.5 8.5l.94-2.06 2.06-.94-2.06-.94L8.5 2.5l-.94 2.06-2.06.94zm10 10l.94 2.06.94-2.06 2.06-.94-2.06-.94-.94-2.06-.94 2.06-2.06.94z\"/><path d=\"M17.41 7.96l-1.37-1.37c-.4-.4-.92-.59-1.43-.59-.52 0-1.04.2-1.43.59L10.3 9.45l-7.72 7.72c-.78.78-.78 2.05 0 2.83L4 21.41c.39.39.9.59 1.41.59.51 0 1.02-.2 1.41-.59l7.78-7.78 2.81-2.81c.8-.78.8-2.07 0-2.86zM5.41 20L4 18.59l7.72-7.72 1.47 1.35L5.41 20z\"/>\n",
              "  </svg>\n",
              "      </button>\n",
              "      \n",
              "  <style>\n",
              "    .colab-df-container {\n",
              "      display:flex;\n",
              "      flex-wrap:wrap;\n",
              "      gap: 12px;\n",
              "    }\n",
              "\n",
              "    .colab-df-convert {\n",
              "      background-color: #E8F0FE;\n",
              "      border: none;\n",
              "      border-radius: 50%;\n",
              "      cursor: pointer;\n",
              "      display: none;\n",
              "      fill: #1967D2;\n",
              "      height: 32px;\n",
              "      padding: 0 0 0 0;\n",
              "      width: 32px;\n",
              "    }\n",
              "\n",
              "    .colab-df-convert:hover {\n",
              "      background-color: #E2EBFA;\n",
              "      box-shadow: 0px 1px 2px rgba(60, 64, 67, 0.3), 0px 1px 3px 1px rgba(60, 64, 67, 0.15);\n",
              "      fill: #174EA6;\n",
              "    }\n",
              "\n",
              "    [theme=dark] .colab-df-convert {\n",
              "      background-color: #3B4455;\n",
              "      fill: #D2E3FC;\n",
              "    }\n",
              "\n",
              "    [theme=dark] .colab-df-convert:hover {\n",
              "      background-color: #434B5C;\n",
              "      box-shadow: 0px 1px 3px 1px rgba(0, 0, 0, 0.15);\n",
              "      filter: drop-shadow(0px 1px 2px rgba(0, 0, 0, 0.3));\n",
              "      fill: #FFFFFF;\n",
              "    }\n",
              "  </style>\n",
              "\n",
              "      <script>\n",
              "        const buttonEl =\n",
              "          document.querySelector('#df-d169d820-7e6e-4fd9-98a9-1d1a2c9cea1e button.colab-df-convert');\n",
              "        buttonEl.style.display =\n",
              "          google.colab.kernel.accessAllowed ? 'block' : 'none';\n",
              "\n",
              "        async function convertToInteractive(key) {\n",
              "          const element = document.querySelector('#df-d169d820-7e6e-4fd9-98a9-1d1a2c9cea1e');\n",
              "          const dataTable =\n",
              "            await google.colab.kernel.invokeFunction('convertToInteractive',\n",
              "                                                     [key], {});\n",
              "          if (!dataTable) return;\n",
              "\n",
              "          const docLinkHtml = 'Like what you see? Visit the ' +\n",
              "            '<a target=\"_blank\" href=https://colab.research.google.com/notebooks/data_table.ipynb>data table notebook</a>'\n",
              "            + ' to learn more about interactive tables.';\n",
              "          element.innerHTML = '';\n",
              "          dataTable['output_type'] = 'display_data';\n",
              "          await google.colab.output.renderOutput(dataTable, element);\n",
              "          const docLink = document.createElement('div');\n",
              "          docLink.innerHTML = docLinkHtml;\n",
              "          element.appendChild(docLink);\n",
              "        }\n",
              "      </script>\n",
              "    </div>\n",
              "  </div>\n",
              "  "
            ],
            "text/plain": [
              "       children  days_employed  ...  total_income                           purpose\n",
              "12            0            NaN  ...           NaN                   сыграть свадьбу\n",
              "26            0            NaN  ...           NaN                       образование\n",
              "29            0            NaN  ...           NaN  строительство жилой недвижимости\n",
              "41            0            NaN  ...           NaN  сделка с подержанным автомобилем\n",
              "55            0            NaN  ...           NaN                   сыграть свадьбу\n",
              "...         ...            ...  ...           ...                               ...\n",
              "21489         2            NaN  ...           NaN              сделка с автомобилем\n",
              "21495         1            NaN  ...           NaN                           свадьба\n",
              "21497         0            NaN  ...           NaN        строительство недвижимости\n",
              "21502         1            NaN  ...           NaN  строительство жилой недвижимости\n",
              "21510         2            NaN  ...           NaN           приобретение автомобиля\n",
              "\n",
              "[2174 rows x 12 columns]"
            ]
          },
          "metadata": {},
          "execution_count": 8
        }
      ]
    },
    {
      "cell_type": "markdown",
      "metadata": {
        "id": "DEc-pN4uzeVb"
      },
      "source": [
        "Было найдено 2174 значения NaN. Нам нужно либо заменить NaN на другое значение, либо удалить полностью строку с пропущенным значением. У каждого метода есть минусы и плюсы. Ответим на вопрос: \"Какой метод лучше в нашем случае?\" Удаление строки не целесообразно (10% от выбоки, как никак), так как удаление полностью всех строк может повлиять на результат исследования. Добавление нового значения тоже может повлиять на результат. Так как пропуски в трудовом стаже и общем доходе совпадают, предположу, что это клиенты взявшие кредитный продукт не учитывающий длительности стажа и размера дохода. В нашем случае можем предположить, что 0 и NaN тождествены. Заменим пропуски на 0. Так же у нас есть отризацельные значения, думаю это баг в выгрузке, заменим их на положительные."
      ]
    },
    {
      "cell_type": "code",
      "source": [
        ""
      ],
      "metadata": {
        "id": "Eemb1K1wJ8HJ"
      },
      "execution_count": 8,
      "outputs": []
    },
    {
      "cell_type": "code",
      "metadata": {
        "id": "jjiVkyTFzeVd"
      },
      "source": [
        "data['days_employed'] = data['days_employed'].abs()\n",
        "data['total_income'] = data['total_income'].abs()"
      ],
      "execution_count": 9,
      "outputs": []
    },
    {
      "cell_type": "markdown",
      "source": [
        "Сгруппируем данные по категориям income_type и вычислим их медиану и среднее по доходу и трудовому стажу. Эти данные будем использовать для проверки нашей функции для замены пропусков."
      ],
      "metadata": {
        "id": "CGSXFPw7GeCR"
      }
    },
    {
      "cell_type": "code",
      "metadata": {
        "colab": {
          "base_uri": "https://localhost:8080/",
          "height": 332
        },
        "id": "aSOypd_yzeVd",
        "outputId": "985849dc-e142-408a-9db5-61671f538fda"
      },
      "source": [
        "data.groupby('income_type', as_index=False).agg({'total_income': ['count', 'mean', 'median'],'days_employed': ['count', 'mean', 'median']})"
      ],
      "execution_count": 10,
      "outputs": [
        {
          "output_type": "execute_result",
          "data": {
            "text/html": [
              "\n",
              "  <div id=\"df-f184fdd2-472f-4826-b30e-f7d30d992cbf\">\n",
              "    <div class=\"colab-df-container\">\n",
              "      <div>\n",
              "<style scoped>\n",
              "    .dataframe tbody tr th:only-of-type {\n",
              "        vertical-align: middle;\n",
              "    }\n",
              "\n",
              "    .dataframe tbody tr th {\n",
              "        vertical-align: top;\n",
              "    }\n",
              "\n",
              "    .dataframe thead tr th {\n",
              "        text-align: left;\n",
              "    }\n",
              "</style>\n",
              "<table border=\"1\" class=\"dataframe\">\n",
              "  <thead>\n",
              "    <tr>\n",
              "      <th></th>\n",
              "      <th>income_type</th>\n",
              "      <th colspan=\"3\" halign=\"left\">total_income</th>\n",
              "      <th colspan=\"3\" halign=\"left\">days_employed</th>\n",
              "    </tr>\n",
              "    <tr>\n",
              "      <th></th>\n",
              "      <th></th>\n",
              "      <th>count</th>\n",
              "      <th>mean</th>\n",
              "      <th>median</th>\n",
              "      <th>count</th>\n",
              "      <th>mean</th>\n",
              "      <th>median</th>\n",
              "    </tr>\n",
              "  </thead>\n",
              "  <tbody>\n",
              "    <tr>\n",
              "      <th>0</th>\n",
              "      <td>безработный</td>\n",
              "      <td>2</td>\n",
              "      <td>131339.751676</td>\n",
              "      <td>131339.751676</td>\n",
              "      <td>2</td>\n",
              "      <td>366413.652744</td>\n",
              "      <td>366413.652744</td>\n",
              "    </tr>\n",
              "    <tr>\n",
              "      <th>1</th>\n",
              "      <td>в декрете</td>\n",
              "      <td>1</td>\n",
              "      <td>53829.130729</td>\n",
              "      <td>53829.130729</td>\n",
              "      <td>1</td>\n",
              "      <td>3296.759962</td>\n",
              "      <td>3296.759962</td>\n",
              "    </tr>\n",
              "    <tr>\n",
              "      <th>2</th>\n",
              "      <td>госслужащий</td>\n",
              "      <td>1312</td>\n",
              "      <td>170898.309923</td>\n",
              "      <td>150447.935283</td>\n",
              "      <td>1312</td>\n",
              "      <td>3399.896902</td>\n",
              "      <td>2689.368353</td>\n",
              "    </tr>\n",
              "    <tr>\n",
              "      <th>3</th>\n",
              "      <td>компаньон</td>\n",
              "      <td>4577</td>\n",
              "      <td>202417.461462</td>\n",
              "      <td>172357.950966</td>\n",
              "      <td>4577</td>\n",
              "      <td>2111.524398</td>\n",
              "      <td>1547.382223</td>\n",
              "    </tr>\n",
              "    <tr>\n",
              "      <th>4</th>\n",
              "      <td>пенсионер</td>\n",
              "      <td>3443</td>\n",
              "      <td>137127.465690</td>\n",
              "      <td>118514.486412</td>\n",
              "      <td>3443</td>\n",
              "      <td>365003.491245</td>\n",
              "      <td>365213.306266</td>\n",
              "    </tr>\n",
              "    <tr>\n",
              "      <th>5</th>\n",
              "      <td>предприниматель</td>\n",
              "      <td>1</td>\n",
              "      <td>499163.144947</td>\n",
              "      <td>499163.144947</td>\n",
              "      <td>1</td>\n",
              "      <td>520.848083</td>\n",
              "      <td>520.848083</td>\n",
              "    </tr>\n",
              "    <tr>\n",
              "      <th>6</th>\n",
              "      <td>сотрудник</td>\n",
              "      <td>10014</td>\n",
              "      <td>161380.260488</td>\n",
              "      <td>142594.396847</td>\n",
              "      <td>10014</td>\n",
              "      <td>2326.499216</td>\n",
              "      <td>1574.202821</td>\n",
              "    </tr>\n",
              "    <tr>\n",
              "      <th>7</th>\n",
              "      <td>студент</td>\n",
              "      <td>1</td>\n",
              "      <td>98201.625314</td>\n",
              "      <td>98201.625314</td>\n",
              "      <td>1</td>\n",
              "      <td>578.751554</td>\n",
              "      <td>578.751554</td>\n",
              "    </tr>\n",
              "  </tbody>\n",
              "</table>\n",
              "</div>\n",
              "      <button class=\"colab-df-convert\" onclick=\"convertToInteractive('df-f184fdd2-472f-4826-b30e-f7d30d992cbf')\"\n",
              "              title=\"Convert this dataframe to an interactive table.\"\n",
              "              style=\"display:none;\">\n",
              "        \n",
              "  <svg xmlns=\"http://www.w3.org/2000/svg\" height=\"24px\"viewBox=\"0 0 24 24\"\n",
              "       width=\"24px\">\n",
              "    <path d=\"M0 0h24v24H0V0z\" fill=\"none\"/>\n",
              "    <path d=\"M18.56 5.44l.94 2.06.94-2.06 2.06-.94-2.06-.94-.94-2.06-.94 2.06-2.06.94zm-11 1L8.5 8.5l.94-2.06 2.06-.94-2.06-.94L8.5 2.5l-.94 2.06-2.06.94zm10 10l.94 2.06.94-2.06 2.06-.94-2.06-.94-.94-2.06-.94 2.06-2.06.94z\"/><path d=\"M17.41 7.96l-1.37-1.37c-.4-.4-.92-.59-1.43-.59-.52 0-1.04.2-1.43.59L10.3 9.45l-7.72 7.72c-.78.78-.78 2.05 0 2.83L4 21.41c.39.39.9.59 1.41.59.51 0 1.02-.2 1.41-.59l7.78-7.78 2.81-2.81c.8-.78.8-2.07 0-2.86zM5.41 20L4 18.59l7.72-7.72 1.47 1.35L5.41 20z\"/>\n",
              "  </svg>\n",
              "      </button>\n",
              "      \n",
              "  <style>\n",
              "    .colab-df-container {\n",
              "      display:flex;\n",
              "      flex-wrap:wrap;\n",
              "      gap: 12px;\n",
              "    }\n",
              "\n",
              "    .colab-df-convert {\n",
              "      background-color: #E8F0FE;\n",
              "      border: none;\n",
              "      border-radius: 50%;\n",
              "      cursor: pointer;\n",
              "      display: none;\n",
              "      fill: #1967D2;\n",
              "      height: 32px;\n",
              "      padding: 0 0 0 0;\n",
              "      width: 32px;\n",
              "    }\n",
              "\n",
              "    .colab-df-convert:hover {\n",
              "      background-color: #E2EBFA;\n",
              "      box-shadow: 0px 1px 2px rgba(60, 64, 67, 0.3), 0px 1px 3px 1px rgba(60, 64, 67, 0.15);\n",
              "      fill: #174EA6;\n",
              "    }\n",
              "\n",
              "    [theme=dark] .colab-df-convert {\n",
              "      background-color: #3B4455;\n",
              "      fill: #D2E3FC;\n",
              "    }\n",
              "\n",
              "    [theme=dark] .colab-df-convert:hover {\n",
              "      background-color: #434B5C;\n",
              "      box-shadow: 0px 1px 3px 1px rgba(0, 0, 0, 0.15);\n",
              "      filter: drop-shadow(0px 1px 2px rgba(0, 0, 0, 0.3));\n",
              "      fill: #FFFFFF;\n",
              "    }\n",
              "  </style>\n",
              "\n",
              "      <script>\n",
              "        const buttonEl =\n",
              "          document.querySelector('#df-f184fdd2-472f-4826-b30e-f7d30d992cbf button.colab-df-convert');\n",
              "        buttonEl.style.display =\n",
              "          google.colab.kernel.accessAllowed ? 'block' : 'none';\n",
              "\n",
              "        async function convertToInteractive(key) {\n",
              "          const element = document.querySelector('#df-f184fdd2-472f-4826-b30e-f7d30d992cbf');\n",
              "          const dataTable =\n",
              "            await google.colab.kernel.invokeFunction('convertToInteractive',\n",
              "                                                     [key], {});\n",
              "          if (!dataTable) return;\n",
              "\n",
              "          const docLinkHtml = 'Like what you see? Visit the ' +\n",
              "            '<a target=\"_blank\" href=https://colab.research.google.com/notebooks/data_table.ipynb>data table notebook</a>'\n",
              "            + ' to learn more about interactive tables.';\n",
              "          element.innerHTML = '';\n",
              "          dataTable['output_type'] = 'display_data';\n",
              "          await google.colab.output.renderOutput(dataTable, element);\n",
              "          const docLink = document.createElement('div');\n",
              "          docLink.innerHTML = docLinkHtml;\n",
              "          element.appendChild(docLink);\n",
              "        }\n",
              "      </script>\n",
              "    </div>\n",
              "  </div>\n",
              "  "
            ],
            "text/plain": [
              "       income_type total_income  ...  days_employed               \n",
              "                          count  ...           mean         median\n",
              "0      безработный            2  ...  366413.652744  366413.652744\n",
              "1        в декрете            1  ...    3296.759962    3296.759962\n",
              "2      госслужащий         1312  ...    3399.896902    2689.368353\n",
              "3        компаньон         4577  ...    2111.524398    1547.382223\n",
              "4        пенсионер         3443  ...  365003.491245  365213.306266\n",
              "5  предприниматель            1  ...     520.848083     520.848083\n",
              "6        сотрудник        10014  ...    2326.499216    1574.202821\n",
              "7          студент            1  ...     578.751554     578.751554\n",
              "\n",
              "[8 rows x 7 columns]"
            ]
          },
          "metadata": {},
          "execution_count": 10
        }
      ]
    },
    {
      "cell_type": "markdown",
      "metadata": {
        "id": "1usFAXkizeVe"
      },
      "source": [
        "  \n",
        "Напишем функцию no_non_value для замены пропусков в нужном нам столбце  на медианные значения в категории. Используем медиану для исключения экстремальных значений в расчетах.\n"
      ]
    },
    {
      "cell_type": "code",
      "source": [
        "\n",
        "def no_non_value(df, value, category):\n",
        "    for type_unique in df[category].unique():\n",
        "        df.loc[(df[value].isna())&(df[category] ==type_unique), value] = \\\n",
        "        df.loc[df[category] ==type_unique, value].median()\n",
        "    return df"
      ],
      "metadata": {
        "id": "k1M8j0-fS1G9"
      },
      "execution_count": 11,
      "outputs": []
    },
    {
      "cell_type": "markdown",
      "source": [
        "Прменим функцию для запонения пропущенных значений в столбце total_income, на медианные значения в категории income_type."
      ],
      "metadata": {
        "id": "tqGKAbrLWZfH"
      }
    },
    {
      "cell_type": "code",
      "source": [
        "data = no_non_value(data, 'total_income', 'income_type')"
      ],
      "metadata": {
        "id": "4e_3e9x4TtDr"
      },
      "execution_count": 12,
      "outputs": []
    },
    {
      "cell_type": "markdown",
      "source": [
        "Смотрим что все строки с пропущенными значениями в столбце total_income, по категории income_type (мы смотрим по пенсионерам) заполнены."
      ],
      "metadata": {
        "id": "K0nqyANYW47L"
      }
    },
    {
      "cell_type": "code",
      "source": [
        "data.query('income_type == \"пенсионер\" and days_employed != days_employed')"
      ],
      "metadata": {
        "colab": {
          "base_uri": "https://localhost:8080/",
          "height": 424
        },
        "id": "3zj4ZrOKTjso",
        "outputId": "580dc49f-ed56-4c15-f38c-ca107a10ec37"
      },
      "execution_count": 13,
      "outputs": [
        {
          "output_type": "execute_result",
          "data": {
            "text/html": [
              "\n",
              "  <div id=\"df-98df8b05-e20a-4fa1-93fe-58ecaa8fd0a0\">\n",
              "    <div class=\"colab-df-container\">\n",
              "      <div>\n",
              "<style scoped>\n",
              "    .dataframe tbody tr th:only-of-type {\n",
              "        vertical-align: middle;\n",
              "    }\n",
              "\n",
              "    .dataframe tbody tr th {\n",
              "        vertical-align: top;\n",
              "    }\n",
              "\n",
              "    .dataframe thead th {\n",
              "        text-align: right;\n",
              "    }\n",
              "</style>\n",
              "<table border=\"1\" class=\"dataframe\">\n",
              "  <thead>\n",
              "    <tr style=\"text-align: right;\">\n",
              "      <th></th>\n",
              "      <th>children</th>\n",
              "      <th>days_employed</th>\n",
              "      <th>dob_years</th>\n",
              "      <th>education</th>\n",
              "      <th>education_id</th>\n",
              "      <th>family_status</th>\n",
              "      <th>family_status_id</th>\n",
              "      <th>gender</th>\n",
              "      <th>income_type</th>\n",
              "      <th>debt</th>\n",
              "      <th>total_income</th>\n",
              "      <th>purpose</th>\n",
              "    </tr>\n",
              "  </thead>\n",
              "  <tbody>\n",
              "    <tr>\n",
              "      <th>12</th>\n",
              "      <td>0</td>\n",
              "      <td>NaN</td>\n",
              "      <td>65</td>\n",
              "      <td>среднее</td>\n",
              "      <td>1</td>\n",
              "      <td>гражданский брак</td>\n",
              "      <td>1</td>\n",
              "      <td>M</td>\n",
              "      <td>пенсионер</td>\n",
              "      <td>0</td>\n",
              "      <td>118514.486412</td>\n",
              "      <td>сыграть свадьбу</td>\n",
              "    </tr>\n",
              "    <tr>\n",
              "      <th>29</th>\n",
              "      <td>0</td>\n",
              "      <td>NaN</td>\n",
              "      <td>63</td>\n",
              "      <td>среднее</td>\n",
              "      <td>1</td>\n",
              "      <td>Не женат / не замужем</td>\n",
              "      <td>4</td>\n",
              "      <td>F</td>\n",
              "      <td>пенсионер</td>\n",
              "      <td>0</td>\n",
              "      <td>118514.486412</td>\n",
              "      <td>строительство жилой недвижимости</td>\n",
              "    </tr>\n",
              "    <tr>\n",
              "      <th>55</th>\n",
              "      <td>0</td>\n",
              "      <td>NaN</td>\n",
              "      <td>54</td>\n",
              "      <td>среднее</td>\n",
              "      <td>1</td>\n",
              "      <td>гражданский брак</td>\n",
              "      <td>1</td>\n",
              "      <td>F</td>\n",
              "      <td>пенсионер</td>\n",
              "      <td>1</td>\n",
              "      <td>118514.486412</td>\n",
              "      <td>сыграть свадьбу</td>\n",
              "    </tr>\n",
              "    <tr>\n",
              "      <th>67</th>\n",
              "      <td>0</td>\n",
              "      <td>NaN</td>\n",
              "      <td>52</td>\n",
              "      <td>высшее</td>\n",
              "      <td>0</td>\n",
              "      <td>женат / замужем</td>\n",
              "      <td>0</td>\n",
              "      <td>F</td>\n",
              "      <td>пенсионер</td>\n",
              "      <td>0</td>\n",
              "      <td>118514.486412</td>\n",
              "      <td>покупка жилья для семьи</td>\n",
              "    </tr>\n",
              "    <tr>\n",
              "      <th>145</th>\n",
              "      <td>0</td>\n",
              "      <td>NaN</td>\n",
              "      <td>62</td>\n",
              "      <td>среднее</td>\n",
              "      <td>1</td>\n",
              "      <td>женат / замужем</td>\n",
              "      <td>0</td>\n",
              "      <td>M</td>\n",
              "      <td>пенсионер</td>\n",
              "      <td>0</td>\n",
              "      <td>118514.486412</td>\n",
              "      <td>строительство недвижимости</td>\n",
              "    </tr>\n",
              "    <tr>\n",
              "      <th>...</th>\n",
              "      <td>...</td>\n",
              "      <td>...</td>\n",
              "      <td>...</td>\n",
              "      <td>...</td>\n",
              "      <td>...</td>\n",
              "      <td>...</td>\n",
              "      <td>...</td>\n",
              "      <td>...</td>\n",
              "      <td>...</td>\n",
              "      <td>...</td>\n",
              "      <td>...</td>\n",
              "      <td>...</td>\n",
              "    </tr>\n",
              "    <tr>\n",
              "      <th>21311</th>\n",
              "      <td>0</td>\n",
              "      <td>NaN</td>\n",
              "      <td>49</td>\n",
              "      <td>среднее</td>\n",
              "      <td>1</td>\n",
              "      <td>женат / замужем</td>\n",
              "      <td>0</td>\n",
              "      <td>F</td>\n",
              "      <td>пенсионер</td>\n",
              "      <td>0</td>\n",
              "      <td>118514.486412</td>\n",
              "      <td>покупка жилья для сдачи</td>\n",
              "    </tr>\n",
              "    <tr>\n",
              "      <th>21321</th>\n",
              "      <td>0</td>\n",
              "      <td>NaN</td>\n",
              "      <td>56</td>\n",
              "      <td>Среднее</td>\n",
              "      <td>1</td>\n",
              "      <td>женат / замужем</td>\n",
              "      <td>0</td>\n",
              "      <td>F</td>\n",
              "      <td>пенсионер</td>\n",
              "      <td>0</td>\n",
              "      <td>118514.486412</td>\n",
              "      <td>операции с недвижимостью</td>\n",
              "    </tr>\n",
              "    <tr>\n",
              "      <th>21414</th>\n",
              "      <td>0</td>\n",
              "      <td>NaN</td>\n",
              "      <td>65</td>\n",
              "      <td>среднее</td>\n",
              "      <td>1</td>\n",
              "      <td>женат / замужем</td>\n",
              "      <td>0</td>\n",
              "      <td>F</td>\n",
              "      <td>пенсионер</td>\n",
              "      <td>0</td>\n",
              "      <td>118514.486412</td>\n",
              "      <td>покупка своего жилья</td>\n",
              "    </tr>\n",
              "    <tr>\n",
              "      <th>21415</th>\n",
              "      <td>0</td>\n",
              "      <td>NaN</td>\n",
              "      <td>54</td>\n",
              "      <td>среднее</td>\n",
              "      <td>1</td>\n",
              "      <td>женат / замужем</td>\n",
              "      <td>0</td>\n",
              "      <td>F</td>\n",
              "      <td>пенсионер</td>\n",
              "      <td>0</td>\n",
              "      <td>118514.486412</td>\n",
              "      <td>операции с жильем</td>\n",
              "    </tr>\n",
              "    <tr>\n",
              "      <th>21423</th>\n",
              "      <td>0</td>\n",
              "      <td>NaN</td>\n",
              "      <td>63</td>\n",
              "      <td>среднее</td>\n",
              "      <td>1</td>\n",
              "      <td>женат / замужем</td>\n",
              "      <td>0</td>\n",
              "      <td>M</td>\n",
              "      <td>пенсионер</td>\n",
              "      <td>0</td>\n",
              "      <td>118514.486412</td>\n",
              "      <td>сделка с автомобилем</td>\n",
              "    </tr>\n",
              "  </tbody>\n",
              "</table>\n",
              "<p>413 rows × 12 columns</p>\n",
              "</div>\n",
              "      <button class=\"colab-df-convert\" onclick=\"convertToInteractive('df-98df8b05-e20a-4fa1-93fe-58ecaa8fd0a0')\"\n",
              "              title=\"Convert this dataframe to an interactive table.\"\n",
              "              style=\"display:none;\">\n",
              "        \n",
              "  <svg xmlns=\"http://www.w3.org/2000/svg\" height=\"24px\"viewBox=\"0 0 24 24\"\n",
              "       width=\"24px\">\n",
              "    <path d=\"M0 0h24v24H0V0z\" fill=\"none\"/>\n",
              "    <path d=\"M18.56 5.44l.94 2.06.94-2.06 2.06-.94-2.06-.94-.94-2.06-.94 2.06-2.06.94zm-11 1L8.5 8.5l.94-2.06 2.06-.94-2.06-.94L8.5 2.5l-.94 2.06-2.06.94zm10 10l.94 2.06.94-2.06 2.06-.94-2.06-.94-.94-2.06-.94 2.06-2.06.94z\"/><path d=\"M17.41 7.96l-1.37-1.37c-.4-.4-.92-.59-1.43-.59-.52 0-1.04.2-1.43.59L10.3 9.45l-7.72 7.72c-.78.78-.78 2.05 0 2.83L4 21.41c.39.39.9.59 1.41.59.51 0 1.02-.2 1.41-.59l7.78-7.78 2.81-2.81c.8-.78.8-2.07 0-2.86zM5.41 20L4 18.59l7.72-7.72 1.47 1.35L5.41 20z\"/>\n",
              "  </svg>\n",
              "      </button>\n",
              "      \n",
              "  <style>\n",
              "    .colab-df-container {\n",
              "      display:flex;\n",
              "      flex-wrap:wrap;\n",
              "      gap: 12px;\n",
              "    }\n",
              "\n",
              "    .colab-df-convert {\n",
              "      background-color: #E8F0FE;\n",
              "      border: none;\n",
              "      border-radius: 50%;\n",
              "      cursor: pointer;\n",
              "      display: none;\n",
              "      fill: #1967D2;\n",
              "      height: 32px;\n",
              "      padding: 0 0 0 0;\n",
              "      width: 32px;\n",
              "    }\n",
              "\n",
              "    .colab-df-convert:hover {\n",
              "      background-color: #E2EBFA;\n",
              "      box-shadow: 0px 1px 2px rgba(60, 64, 67, 0.3), 0px 1px 3px 1px rgba(60, 64, 67, 0.15);\n",
              "      fill: #174EA6;\n",
              "    }\n",
              "\n",
              "    [theme=dark] .colab-df-convert {\n",
              "      background-color: #3B4455;\n",
              "      fill: #D2E3FC;\n",
              "    }\n",
              "\n",
              "    [theme=dark] .colab-df-convert:hover {\n",
              "      background-color: #434B5C;\n",
              "      box-shadow: 0px 1px 3px 1px rgba(0, 0, 0, 0.15);\n",
              "      filter: drop-shadow(0px 1px 2px rgba(0, 0, 0, 0.3));\n",
              "      fill: #FFFFFF;\n",
              "    }\n",
              "  </style>\n",
              "\n",
              "      <script>\n",
              "        const buttonEl =\n",
              "          document.querySelector('#df-98df8b05-e20a-4fa1-93fe-58ecaa8fd0a0 button.colab-df-convert');\n",
              "        buttonEl.style.display =\n",
              "          google.colab.kernel.accessAllowed ? 'block' : 'none';\n",
              "\n",
              "        async function convertToInteractive(key) {\n",
              "          const element = document.querySelector('#df-98df8b05-e20a-4fa1-93fe-58ecaa8fd0a0');\n",
              "          const dataTable =\n",
              "            await google.colab.kernel.invokeFunction('convertToInteractive',\n",
              "                                                     [key], {});\n",
              "          if (!dataTable) return;\n",
              "\n",
              "          const docLinkHtml = 'Like what you see? Visit the ' +\n",
              "            '<a target=\"_blank\" href=https://colab.research.google.com/notebooks/data_table.ipynb>data table notebook</a>'\n",
              "            + ' to learn more about interactive tables.';\n",
              "          element.innerHTML = '';\n",
              "          dataTable['output_type'] = 'display_data';\n",
              "          await google.colab.output.renderOutput(dataTable, element);\n",
              "          const docLink = document.createElement('div');\n",
              "          docLink.innerHTML = docLinkHtml;\n",
              "          element.appendChild(docLink);\n",
              "        }\n",
              "      </script>\n",
              "    </div>\n",
              "  </div>\n",
              "  "
            ],
            "text/plain": [
              "       children  days_employed  ...   total_income                           purpose\n",
              "12            0            NaN  ...  118514.486412                   сыграть свадьбу\n",
              "29            0            NaN  ...  118514.486412  строительство жилой недвижимости\n",
              "55            0            NaN  ...  118514.486412                   сыграть свадьбу\n",
              "67            0            NaN  ...  118514.486412           покупка жилья для семьи\n",
              "145           0            NaN  ...  118514.486412        строительство недвижимости\n",
              "...         ...            ...  ...            ...                               ...\n",
              "21311         0            NaN  ...  118514.486412           покупка жилья для сдачи\n",
              "21321         0            NaN  ...  118514.486412          операции с недвижимостью\n",
              "21414         0            NaN  ...  118514.486412              покупка своего жилья\n",
              "21415         0            NaN  ...  118514.486412                 операции с жильем\n",
              "21423         0            NaN  ...  118514.486412              сделка с автомобилем\n",
              "\n",
              "[413 rows x 12 columns]"
            ]
          },
          "metadata": {},
          "execution_count": 13
        }
      ]
    },
    {
      "cell_type": "code",
      "source": [
        "data = no_non_value(data, 'total_income', 'income_type')"
      ],
      "metadata": {
        "id": "1kqZx46yNm59"
      },
      "execution_count": 14,
      "outputs": []
    },
    {
      "cell_type": "code",
      "source": [
        "data = no_non_value(data, 'days_employed', 'income_type')"
      ],
      "metadata": {
        "id": "TzXuLhDGX0xo"
      },
      "execution_count": 15,
      "outputs": []
    },
    {
      "cell_type": "code",
      "metadata": {
        "colab": {
          "base_uri": "https://localhost:8080/"
        },
        "id": "xLzBrW-BzeVg",
        "outputId": "ebded523-2db5-48df-9a8a-cf4628b641e0"
      },
      "source": [
        "data.info()"
      ],
      "execution_count": 16,
      "outputs": [
        {
          "output_type": "stream",
          "name": "stdout",
          "text": [
            "<class 'pandas.core.frame.DataFrame'>\n",
            "RangeIndex: 21525 entries, 0 to 21524\n",
            "Data columns (total 12 columns):\n",
            " #   Column            Non-Null Count  Dtype  \n",
            "---  ------            --------------  -----  \n",
            " 0   children          21525 non-null  int64  \n",
            " 1   days_employed     21525 non-null  float64\n",
            " 2   dob_years         21525 non-null  int64  \n",
            " 3   education         21525 non-null  object \n",
            " 4   education_id      21525 non-null  int64  \n",
            " 5   family_status     21525 non-null  object \n",
            " 6   family_status_id  21525 non-null  int64  \n",
            " 7   gender            21525 non-null  object \n",
            " 8   income_type       21525 non-null  object \n",
            " 9   debt              21525 non-null  int64  \n",
            " 10  total_income      21525 non-null  float64\n",
            " 11  purpose           21525 non-null  object \n",
            "dtypes: float64(2), int64(5), object(5)\n",
            "memory usage: 2.0+ MB\n"
          ]
        }
      ]
    },
    {
      "cell_type": "markdown",
      "metadata": {
        "id": "7pSWaYFrzeVg"
      },
      "source": [
        "### **Вывод:**"
      ]
    },
    {
      "cell_type": "markdown",
      "metadata": {
        "id": "9DN4D5i0zeVg"
      },
      "source": [
        "Для определения и подсчёта пропущенных значений таблицы применим метод .isnull() в сочетании с методом .sum(). В результате мы видим два столбца days_employed и total_income с 2174 строками пропущенных значений. Заполним данные строки используя написанную нами функцию no_non_value. Она заполнит пропуски медианными значениями вычисленными в соответствующей группе клиентов. Удаление данных строк методом .dropna() не целесообразно, так как удаление полностью всех строк может повлиять на результат исследования."
      ]
    },
    {
      "cell_type": "markdown",
      "metadata": {
        "id": "dmIVvQ8WzeVh"
      },
      "source": [
        "### Замена типа данных"
      ]
    },
    {
      "cell_type": "code",
      "source": [
        "data.dtypes"
      ],
      "metadata": {
        "colab": {
          "base_uri": "https://localhost:8080/"
        },
        "id": "UzxaveZ0g4GX",
        "outputId": "fcdfb4be-013b-4387-9488-2bdb3d452d50"
      },
      "execution_count": 17,
      "outputs": [
        {
          "output_type": "execute_result",
          "data": {
            "text/plain": [
              "children              int64\n",
              "days_employed       float64\n",
              "dob_years             int64\n",
              "education            object\n",
              "education_id          int64\n",
              "family_status        object\n",
              "family_status_id      int64\n",
              "gender               object\n",
              "income_type          object\n",
              "debt                  int64\n",
              "total_income        float64\n",
              "purpose              object\n",
              "dtype: object"
            ]
          },
          "metadata": {},
          "execution_count": 17
        }
      ]
    },
    {
      "cell_type": "markdown",
      "metadata": {
        "id": "5mHGK10hzeVh"
      },
      "source": [
        "Самый простой способ преобразовать столбец данных в другой тип - использовать .astype()"
      ]
    },
    {
      "cell_type": "code",
      "metadata": {
        "id": "7f4F4ZYSzeVi"
      },
      "source": [
        "data['days_employed'] = data['days_employed'].astype('int')\n",
        "data['children'] = data['children'].astype('int')\n"
      ],
      "execution_count": 18,
      "outputs": []
    },
    {
      "cell_type": "markdown",
      "metadata": {
        "id": "wbfRJ4qczeVj"
      },
      "source": [
        "Целесообразно изменить тип данных в трех столбцах. 'days_employed'(общий трудовой стаж в днях), 'children'(количество детей в семье), так как из их смысла понятно что они могут быть только целочисленные. "
      ]
    },
    {
      "cell_type": "markdown",
      "metadata": {
        "id": "5YcuFi-IzeVk"
      },
      "source": [
        "Так же столбцы 'days_employed', 'children' имют отрицательные значения, что также не являеться верным. Создаем функцию для изменения минуса на плюс. Либо можем применить метод .abs"
      ]
    },
    {
      "cell_type": "code",
      "metadata": {
        "id": "W3sXwyRdzeVk"
      },
      "source": [
        "def modul(num):\n",
        "    if num < 0:\n",
        "        num_p = num * -1\n",
        "        return num_p\n",
        "    else:\n",
        "        return num"
      ],
      "execution_count": 19,
      "outputs": []
    },
    {
      "cell_type": "code",
      "metadata": {
        "id": "x00mdHkmzeVk"
      },
      "source": [
        "data['days_employed'] = data['days_employed'].apply(modul)\n",
        "data['children'] = data['children'].apply(modul)"
      ],
      "execution_count": 20,
      "outputs": []
    },
    {
      "cell_type": "markdown",
      "metadata": {
        "id": "_eZHKy4RzeVl"
      },
      "source": [
        "Проверим, что получилось."
      ]
    },
    {
      "cell_type": "code",
      "metadata": {
        "colab": {
          "base_uri": "https://localhost:8080/",
          "height": 206
        },
        "id": "cYIAjJ6ozeVl",
        "outputId": "78ce75c7-0e18-4f60-df22-21d3385bd54f"
      },
      "source": [
        "data.head()"
      ],
      "execution_count": 21,
      "outputs": [
        {
          "output_type": "execute_result",
          "data": {
            "text/html": [
              "\n",
              "  <div id=\"df-260410e1-d025-42f4-9c1e-261aef59bfdc\">\n",
              "    <div class=\"colab-df-container\">\n",
              "      <div>\n",
              "<style scoped>\n",
              "    .dataframe tbody tr th:only-of-type {\n",
              "        vertical-align: middle;\n",
              "    }\n",
              "\n",
              "    .dataframe tbody tr th {\n",
              "        vertical-align: top;\n",
              "    }\n",
              "\n",
              "    .dataframe thead th {\n",
              "        text-align: right;\n",
              "    }\n",
              "</style>\n",
              "<table border=\"1\" class=\"dataframe\">\n",
              "  <thead>\n",
              "    <tr style=\"text-align: right;\">\n",
              "      <th></th>\n",
              "      <th>children</th>\n",
              "      <th>days_employed</th>\n",
              "      <th>dob_years</th>\n",
              "      <th>education</th>\n",
              "      <th>education_id</th>\n",
              "      <th>family_status</th>\n",
              "      <th>family_status_id</th>\n",
              "      <th>gender</th>\n",
              "      <th>income_type</th>\n",
              "      <th>debt</th>\n",
              "      <th>total_income</th>\n",
              "      <th>purpose</th>\n",
              "    </tr>\n",
              "  </thead>\n",
              "  <tbody>\n",
              "    <tr>\n",
              "      <th>0</th>\n",
              "      <td>1</td>\n",
              "      <td>8437</td>\n",
              "      <td>42</td>\n",
              "      <td>высшее</td>\n",
              "      <td>0</td>\n",
              "      <td>женат / замужем</td>\n",
              "      <td>0</td>\n",
              "      <td>F</td>\n",
              "      <td>сотрудник</td>\n",
              "      <td>0</td>\n",
              "      <td>253875.639453</td>\n",
              "      <td>покупка жилья</td>\n",
              "    </tr>\n",
              "    <tr>\n",
              "      <th>1</th>\n",
              "      <td>1</td>\n",
              "      <td>4024</td>\n",
              "      <td>36</td>\n",
              "      <td>среднее</td>\n",
              "      <td>1</td>\n",
              "      <td>женат / замужем</td>\n",
              "      <td>0</td>\n",
              "      <td>F</td>\n",
              "      <td>сотрудник</td>\n",
              "      <td>0</td>\n",
              "      <td>112080.014102</td>\n",
              "      <td>приобретение автомобиля</td>\n",
              "    </tr>\n",
              "    <tr>\n",
              "      <th>2</th>\n",
              "      <td>0</td>\n",
              "      <td>5623</td>\n",
              "      <td>33</td>\n",
              "      <td>Среднее</td>\n",
              "      <td>1</td>\n",
              "      <td>женат / замужем</td>\n",
              "      <td>0</td>\n",
              "      <td>M</td>\n",
              "      <td>сотрудник</td>\n",
              "      <td>0</td>\n",
              "      <td>145885.952297</td>\n",
              "      <td>покупка жилья</td>\n",
              "    </tr>\n",
              "    <tr>\n",
              "      <th>3</th>\n",
              "      <td>3</td>\n",
              "      <td>4124</td>\n",
              "      <td>32</td>\n",
              "      <td>среднее</td>\n",
              "      <td>1</td>\n",
              "      <td>женат / замужем</td>\n",
              "      <td>0</td>\n",
              "      <td>M</td>\n",
              "      <td>сотрудник</td>\n",
              "      <td>0</td>\n",
              "      <td>267628.550329</td>\n",
              "      <td>дополнительное образование</td>\n",
              "    </tr>\n",
              "    <tr>\n",
              "      <th>4</th>\n",
              "      <td>0</td>\n",
              "      <td>340266</td>\n",
              "      <td>53</td>\n",
              "      <td>среднее</td>\n",
              "      <td>1</td>\n",
              "      <td>гражданский брак</td>\n",
              "      <td>1</td>\n",
              "      <td>F</td>\n",
              "      <td>пенсионер</td>\n",
              "      <td>0</td>\n",
              "      <td>158616.077870</td>\n",
              "      <td>сыграть свадьбу</td>\n",
              "    </tr>\n",
              "  </tbody>\n",
              "</table>\n",
              "</div>\n",
              "      <button class=\"colab-df-convert\" onclick=\"convertToInteractive('df-260410e1-d025-42f4-9c1e-261aef59bfdc')\"\n",
              "              title=\"Convert this dataframe to an interactive table.\"\n",
              "              style=\"display:none;\">\n",
              "        \n",
              "  <svg xmlns=\"http://www.w3.org/2000/svg\" height=\"24px\"viewBox=\"0 0 24 24\"\n",
              "       width=\"24px\">\n",
              "    <path d=\"M0 0h24v24H0V0z\" fill=\"none\"/>\n",
              "    <path d=\"M18.56 5.44l.94 2.06.94-2.06 2.06-.94-2.06-.94-.94-2.06-.94 2.06-2.06.94zm-11 1L8.5 8.5l.94-2.06 2.06-.94-2.06-.94L8.5 2.5l-.94 2.06-2.06.94zm10 10l.94 2.06.94-2.06 2.06-.94-2.06-.94-.94-2.06-.94 2.06-2.06.94z\"/><path d=\"M17.41 7.96l-1.37-1.37c-.4-.4-.92-.59-1.43-.59-.52 0-1.04.2-1.43.59L10.3 9.45l-7.72 7.72c-.78.78-.78 2.05 0 2.83L4 21.41c.39.39.9.59 1.41.59.51 0 1.02-.2 1.41-.59l7.78-7.78 2.81-2.81c.8-.78.8-2.07 0-2.86zM5.41 20L4 18.59l7.72-7.72 1.47 1.35L5.41 20z\"/>\n",
              "  </svg>\n",
              "      </button>\n",
              "      \n",
              "  <style>\n",
              "    .colab-df-container {\n",
              "      display:flex;\n",
              "      flex-wrap:wrap;\n",
              "      gap: 12px;\n",
              "    }\n",
              "\n",
              "    .colab-df-convert {\n",
              "      background-color: #E8F0FE;\n",
              "      border: none;\n",
              "      border-radius: 50%;\n",
              "      cursor: pointer;\n",
              "      display: none;\n",
              "      fill: #1967D2;\n",
              "      height: 32px;\n",
              "      padding: 0 0 0 0;\n",
              "      width: 32px;\n",
              "    }\n",
              "\n",
              "    .colab-df-convert:hover {\n",
              "      background-color: #E2EBFA;\n",
              "      box-shadow: 0px 1px 2px rgba(60, 64, 67, 0.3), 0px 1px 3px 1px rgba(60, 64, 67, 0.15);\n",
              "      fill: #174EA6;\n",
              "    }\n",
              "\n",
              "    [theme=dark] .colab-df-convert {\n",
              "      background-color: #3B4455;\n",
              "      fill: #D2E3FC;\n",
              "    }\n",
              "\n",
              "    [theme=dark] .colab-df-convert:hover {\n",
              "      background-color: #434B5C;\n",
              "      box-shadow: 0px 1px 3px 1px rgba(0, 0, 0, 0.15);\n",
              "      filter: drop-shadow(0px 1px 2px rgba(0, 0, 0, 0.3));\n",
              "      fill: #FFFFFF;\n",
              "    }\n",
              "  </style>\n",
              "\n",
              "      <script>\n",
              "        const buttonEl =\n",
              "          document.querySelector('#df-260410e1-d025-42f4-9c1e-261aef59bfdc button.colab-df-convert');\n",
              "        buttonEl.style.display =\n",
              "          google.colab.kernel.accessAllowed ? 'block' : 'none';\n",
              "\n",
              "        async function convertToInteractive(key) {\n",
              "          const element = document.querySelector('#df-260410e1-d025-42f4-9c1e-261aef59bfdc');\n",
              "          const dataTable =\n",
              "            await google.colab.kernel.invokeFunction('convertToInteractive',\n",
              "                                                     [key], {});\n",
              "          if (!dataTable) return;\n",
              "\n",
              "          const docLinkHtml = 'Like what you see? Visit the ' +\n",
              "            '<a target=\"_blank\" href=https://colab.research.google.com/notebooks/data_table.ipynb>data table notebook</a>'\n",
              "            + ' to learn more about interactive tables.';\n",
              "          element.innerHTML = '';\n",
              "          dataTable['output_type'] = 'display_data';\n",
              "          await google.colab.output.renderOutput(dataTable, element);\n",
              "          const docLink = document.createElement('div');\n",
              "          docLink.innerHTML = docLinkHtml;\n",
              "          element.appendChild(docLink);\n",
              "        }\n",
              "      </script>\n",
              "    </div>\n",
              "  </div>\n",
              "  "
            ],
            "text/plain": [
              "   children  days_employed  ...   total_income                     purpose\n",
              "0         1           8437  ...  253875.639453               покупка жилья\n",
              "1         1           4024  ...  112080.014102     приобретение автомобиля\n",
              "2         0           5623  ...  145885.952297               покупка жилья\n",
              "3         3           4124  ...  267628.550329  дополнительное образование\n",
              "4         0         340266  ...  158616.077870             сыграть свадьбу\n",
              "\n",
              "[5 rows x 12 columns]"
            ]
          },
          "metadata": {},
          "execution_count": 21
        }
      ]
    },
    {
      "cell_type": "markdown",
      "metadata": {
        "id": "wp3JhphmzeVl"
      },
      "source": [
        "**Вывод**"
      ]
    },
    {
      "cell_type": "markdown",
      "metadata": {
        "id": "XFZ8nQJ5zeVl"
      },
      "source": [
        "Была поставлена задача изменить вещественные тип (float) данных на целочисленный (int). После анализа таблицы были определены столбы с вещественным типом данных 'days_employed', 'children'. Для их изменнеия выбрали метод astype() как самый простой и универсальный. Отрицательные значения изменили в рамках общей задачи предобработки данных."
      ]
    },
    {
      "cell_type": "markdown",
      "metadata": {
        "id": "P5Wskw5wzeVm"
      },
      "source": [
        "### Обработка дубликатов"
      ]
    },
    {
      "cell_type": "markdown",
      "metadata": {
        "id": "6I8Q6crgzeVm"
      },
      "source": [
        "Проверим на дубликаты и удалим их."
      ]
    },
    {
      "cell_type": "code",
      "metadata": {
        "colab": {
          "base_uri": "https://localhost:8080/"
        },
        "id": "e39ZvjJczeVn",
        "outputId": "06ef89a4-12a9-4f3f-a598-41a435396a36"
      },
      "source": [
        "data['education'].value_counts()"
      ],
      "execution_count": 22,
      "outputs": [
        {
          "output_type": "execute_result",
          "data": {
            "text/plain": [
              "среднее                13750\n",
              "высшее                  4718\n",
              "СРЕДНЕЕ                  772\n",
              "Среднее                  711\n",
              "неоконченное высшее      668\n",
              "ВЫСШЕЕ                   274\n",
              "Высшее                   268\n",
              "начальное                250\n",
              "Неоконченное высшее       47\n",
              "НЕОКОНЧЕННОЕ ВЫСШЕЕ       29\n",
              "НАЧАЛЬНОЕ                 17\n",
              "Начальное                 15\n",
              "ученая степень             4\n",
              "Ученая степень             1\n",
              "УЧЕНАЯ СТЕПЕНЬ             1\n",
              "Name: education, dtype: int64"
            ]
          },
          "metadata": {},
          "execution_count": 22
        }
      ]
    },
    {
      "cell_type": "markdown",
      "metadata": {
        "id": "GgKmFbTRzeVn"
      },
      "source": [
        "Cтроки отличаются регистром букв. Чтобы учесть такие дубликаты, все символы в строке приводят к нижнему регистру вызовом метода lower(). В Pandas синтаксис .str.lower(). Тем самым мы удалили все дубликаты"
      ]
    },
    {
      "cell_type": "code",
      "metadata": {
        "colab": {
          "base_uri": "https://localhost:8080/"
        },
        "id": "eZ-rPkHvzeVn",
        "outputId": "190fe502-427d-4812-ce52-a15d23385471"
      },
      "source": [
        "data['education'] = data['education'].str.lower()\n",
        "data['education'].duplicated().sum()\n"
      ],
      "execution_count": 23,
      "outputs": [
        {
          "output_type": "execute_result",
          "data": {
            "text/plain": [
              "21520"
            ]
          },
          "metadata": {},
          "execution_count": 23
        }
      ]
    },
    {
      "cell_type": "code",
      "metadata": {
        "colab": {
          "base_uri": "https://localhost:8080/"
        },
        "id": "tcPzdbwIzeVo",
        "outputId": "7e883cf0-d4d5-4490-e045-209e2ec27d0f"
      },
      "source": [
        "data['education'].value_counts()"
      ],
      "execution_count": 24,
      "outputs": [
        {
          "output_type": "execute_result",
          "data": {
            "text/plain": [
              "среднее                15233\n",
              "высшее                  5260\n",
              "неоконченное высшее      744\n",
              "начальное                282\n",
              "ученая степень             6\n",
              "Name: education, dtype: int64"
            ]
          },
          "metadata": {},
          "execution_count": 24
        }
      ]
    },
    {
      "cell_type": "markdown",
      "metadata": {
        "id": "UBnN8Jm5zeVo"
      },
      "source": [
        "По аналогии поступим и с другими столцами имющими категориальные типы данных."
      ]
    },
    {
      "cell_type": "code",
      "metadata": {
        "colab": {
          "base_uri": "https://localhost:8080/"
        },
        "id": "6TyZbyhqzeVo",
        "outputId": "c1e42af1-5b92-403c-8435-33b06f3e427c"
      },
      "source": [
        "data['family_status'].value_counts()"
      ],
      "execution_count": 25,
      "outputs": [
        {
          "output_type": "execute_result",
          "data": {
            "text/plain": [
              "женат / замужем          12380\n",
              "гражданский брак          4177\n",
              "Не женат / не замужем     2813\n",
              "в разводе                 1195\n",
              "вдовец / вдова             960\n",
              "Name: family_status, dtype: int64"
            ]
          },
          "metadata": {},
          "execution_count": 25
        }
      ]
    },
    {
      "cell_type": "code",
      "metadata": {
        "colab": {
          "base_uri": "https://localhost:8080/"
        },
        "id": "Rd0l6o3gzeVp",
        "outputId": "02d0147b-4a53-44a5-8a8f-008cf780f588"
      },
      "source": [
        "data['family_status'] = data['family_status'].str.lower()\n",
        "data['family_status'].value_counts()"
      ],
      "execution_count": 26,
      "outputs": [
        {
          "output_type": "execute_result",
          "data": {
            "text/plain": [
              "женат / замужем          12380\n",
              "гражданский брак          4177\n",
              "не женат / не замужем     2813\n",
              "в разводе                 1195\n",
              "вдовец / вдова             960\n",
              "Name: family_status, dtype: int64"
            ]
          },
          "metadata": {},
          "execution_count": 26
        }
      ]
    },
    {
      "cell_type": "code",
      "metadata": {
        "colab": {
          "base_uri": "https://localhost:8080/"
        },
        "id": "JApBldHnzeVp",
        "outputId": "94461d48-7563-4fa7-c312-4207761e346d"
      },
      "source": [
        "data['gender'].value_counts()"
      ],
      "execution_count": 27,
      "outputs": [
        {
          "output_type": "execute_result",
          "data": {
            "text/plain": [
              "F      14236\n",
              "M       7288\n",
              "XNA        1\n",
              "Name: gender, dtype: int64"
            ]
          },
          "metadata": {},
          "execution_count": 27
        }
      ]
    },
    {
      "cell_type": "markdown",
      "metadata": {
        "id": "0bwa-TotzeVp"
      },
      "source": [
        "Наблюдаем появление в данных третьего пола. Кстати в США официально 54 типа половой принадлежности))). В данном случае будем считать это дубликатом появившимся по технической причине, заменим его на f (так как это всего один случай не имеет значения на что менять, можно просто удалить его)"
      ]
    },
    {
      "cell_type": "code",
      "metadata": {
        "colab": {
          "base_uri": "https://localhost:8080/"
        },
        "id": "2G1KKP5XzeVq",
        "outputId": "28cfbbfa-d45c-49b7-a503-2408a13f0d30"
      },
      "source": [
        "data = data.replace('XNA', 'f')\n",
        "data['gender'] = data['gender'].str.lower()\n",
        "data['gender'].value_counts()"
      ],
      "execution_count": 28,
      "outputs": [
        {
          "output_type": "execute_result",
          "data": {
            "text/plain": [
              "f    14237\n",
              "m     7288\n",
              "Name: gender, dtype: int64"
            ]
          },
          "metadata": {},
          "execution_count": 28
        }
      ]
    },
    {
      "cell_type": "code",
      "metadata": {
        "colab": {
          "base_uri": "https://localhost:8080/"
        },
        "id": "v-6IlW44zeVq",
        "outputId": "09c8d7cf-f751-4dee-810c-2bf802dcc950"
      },
      "source": [
        "data['income_type'].value_counts()"
      ],
      "execution_count": 29,
      "outputs": [
        {
          "output_type": "execute_result",
          "data": {
            "text/plain": [
              "сотрудник          11119\n",
              "компаньон           5085\n",
              "пенсионер           3856\n",
              "госслужащий         1459\n",
              "безработный            2\n",
              "предприниматель        2\n",
              "студент                1\n",
              "в декрете              1\n",
              "Name: income_type, dtype: int64"
            ]
          },
          "metadata": {},
          "execution_count": 29
        }
      ]
    },
    {
      "cell_type": "markdown",
      "metadata": {
        "id": "8QWVqN0YzeVq"
      },
      "source": [
        "Мы видим разные категории, некоторые из которых не отражают тип занятосяти. Предлагаю объеденить некоторые категории в схожие катерии. Сотрудник, безработный и пенсионер."
      ]
    },
    {
      "cell_type": "code",
      "source": [
        "data['income_type'] = data['income_type'].replace({'компаньон':'сотрудник', 'госслужащий':'сотрудник', 'предприниматель':'сотрудник', 'студент':'безработный',  'в декрете':'безработный', })"
      ],
      "metadata": {
        "id": "J8RRuHCDaG-s"
      },
      "execution_count": 30,
      "outputs": []
    },
    {
      "cell_type": "code",
      "metadata": {
        "colab": {
          "base_uri": "https://localhost:8080/"
        },
        "id": "c_S70T50zeVr",
        "outputId": "0319adc7-700c-40dc-9ebc-5f01b2382cfd"
      },
      "source": [
        "data['income_type'].value_counts()"
      ],
      "execution_count": 31,
      "outputs": [
        {
          "output_type": "execute_result",
          "data": {
            "text/plain": [
              "сотрудник      17665\n",
              "пенсионер       3856\n",
              "безработный        4\n",
              "Name: income_type, dtype: int64"
            ]
          },
          "metadata": {},
          "execution_count": 31
        }
      ]
    },
    {
      "cell_type": "code",
      "metadata": {
        "colab": {
          "base_uri": "https://localhost:8080/",
          "height": 393
        },
        "id": "GaCzpb_yzeVr",
        "outputId": "7c061ecb-e259-4509-8523-566630088b8c"
      },
      "source": [
        "plt.title('Распределение клиентов по возрасту')\n",
        "data['dob_years'].value_counts().sort_index(ascending=True).plot(kind='bar')\n",
        "plt.show()"
      ],
      "execution_count": 32,
      "outputs": [
        {
          "output_type": "display_data",
          "data": {
            "image/png": "[encoded data removed]",
            "text/plain": [
              "<Figure size 1440x432 with 1 Axes>"
            ]
          },
          "metadata": {}
        }
      ]
    },
    {
      "cell_type": "markdown",
      "metadata": {
        "id": "sbltNBgMzeVs"
      },
      "source": [
        "В столбце есть 101 значение равно 0. Предполагаю, что эо так же техническая ошибка. Заменим 0 на среднее значение по столбцу или медиану."
      ]
    },
    {
      "cell_type": "code",
      "metadata": {
        "id": "hRLB2oE2zeVs"
      },
      "source": [
        "data['dob_years'] = data['dob_years'].replace({0:data['dob_years'].median()})"
      ],
      "execution_count": 33,
      "outputs": []
    },
    {
      "cell_type": "code",
      "metadata": {
        "colab": {
          "base_uri": "https://localhost:8080/",
          "height": 402
        },
        "id": "mfvYPcW2zeVt",
        "outputId": "3e47fa9c-0e26-4f7c-dee8-282bbea4c02f"
      },
      "source": [
        "plt.title ('Распределение клиентов по возрасту')\n",
        "data['dob_years'].value_counts().sort_index(ascending=True).plot(kind='bar')\n",
        "plt.show()"
      ],
      "execution_count": 34,
      "outputs": [
        {
          "output_type": "display_data",
          "data": {
            "image/png": "[encoded data removed]",
            "text/plain": [
              "<Figure size 1440x432 with 1 Axes>"
            ]
          },
          "metadata": {}
        }
      ]
    },
    {
      "cell_type": "markdown",
      "metadata": {
        "id": "kVTsiHBKzeVt"
      },
      "source": [
        "**Вывод**"
      ]
    },
    {
      "cell_type": "markdown",
      "metadata": {
        "id": "b-lblx4HzeVt"
      },
      "source": [
        "В таблице присутствовало множество дубликатов. Мы удалили дубликаты приведя все знаки в строках к нижнему регистру, в ручном режиме объеденили некоторые группы значений, заменили отсутствующие значения на средние по столбцу. Данные дубликаты возникали в связи с техническими ошибками. Скорее всего эти данные в систему заводили специалисты банка и каждый специалист заводил по своему."
      ]
    },
    {
      "cell_type": "markdown",
      "metadata": {
        "id": "VZTHvk11zeVu"
      },
      "source": [
        "### Лемматизация"
      ]
    },
    {
      "cell_type": "markdown",
      "metadata": {
        "id": "6Cp2VDINzeVu"
      },
      "source": [
        "Для лемматизацмм будем использовать бибилитеку pymystem3. "
      ]
    },
    {
      "cell_type": "markdown",
      "metadata": {
        "id": "5r_hWT8rzeVv"
      },
      "source": [
        "Создадим функию для лемматизации значений"
      ]
    },
    {
      "cell_type": "code",
      "source": [
        "def lemmatize(str):\n",
        "    return ' '.join(m.lemmatize(str))\n"
      ],
      "metadata": {
        "id": "8mED-YzEo-uX"
      },
      "execution_count": 35,
      "outputs": []
    },
    {
      "cell_type": "code",
      "source": [
        "data['lemm_purpose'] = data['purpose'].apply(lemmatize)\n",
        "data.head(3)"
      ],
      "metadata": {
        "colab": {
          "base_uri": "https://localhost:8080/",
          "height": 144
        },
        "id": "IIQ6JDC_l2FI",
        "outputId": "76eb5ffa-543b-460e-fe14-e7557f4db40e"
      },
      "execution_count": 36,
      "outputs": [
        {
          "output_type": "execute_result",
          "data": {
            "text/html": [
              "\n",
              "  <div id=\"df-44771355-5a1c-49fc-8694-f503600637c3\">\n",
              "    <div class=\"colab-df-container\">\n",
              "      <div>\n",
              "<style scoped>\n",
              "    .dataframe tbody tr th:only-of-type {\n",
              "        vertical-align: middle;\n",
              "    }\n",
              "\n",
              "    .dataframe tbody tr th {\n",
              "        vertical-align: top;\n",
              "    }\n",
              "\n",
              "    .dataframe thead th {\n",
              "        text-align: right;\n",
              "    }\n",
              "</style>\n",
              "<table border=\"1\" class=\"dataframe\">\n",
              "  <thead>\n",
              "    <tr style=\"text-align: right;\">\n",
              "      <th></th>\n",
              "      <th>children</th>\n",
              "      <th>days_employed</th>\n",
              "      <th>dob_years</th>\n",
              "      <th>education</th>\n",
              "      <th>education_id</th>\n",
              "      <th>family_status</th>\n",
              "      <th>family_status_id</th>\n",
              "      <th>gender</th>\n",
              "      <th>income_type</th>\n",
              "      <th>debt</th>\n",
              "      <th>total_income</th>\n",
              "      <th>purpose</th>\n",
              "      <th>lemm_purpose</th>\n",
              "    </tr>\n",
              "  </thead>\n",
              "  <tbody>\n",
              "    <tr>\n",
              "      <th>0</th>\n",
              "      <td>1</td>\n",
              "      <td>8437</td>\n",
              "      <td>42.0</td>\n",
              "      <td>высшее</td>\n",
              "      <td>0</td>\n",
              "      <td>женат / замужем</td>\n",
              "      <td>0</td>\n",
              "      <td>f</td>\n",
              "      <td>сотрудник</td>\n",
              "      <td>0</td>\n",
              "      <td>253875.639453</td>\n",
              "      <td>покупка жилья</td>\n",
              "      <td>покупка   жилье \\n</td>\n",
              "    </tr>\n",
              "    <tr>\n",
              "      <th>1</th>\n",
              "      <td>1</td>\n",
              "      <td>4024</td>\n",
              "      <td>36.0</td>\n",
              "      <td>среднее</td>\n",
              "      <td>1</td>\n",
              "      <td>женат / замужем</td>\n",
              "      <td>0</td>\n",
              "      <td>f</td>\n",
              "      <td>сотрудник</td>\n",
              "      <td>0</td>\n",
              "      <td>112080.014102</td>\n",
              "      <td>приобретение автомобиля</td>\n",
              "      <td>приобретение   автомобиль \\n</td>\n",
              "    </tr>\n",
              "    <tr>\n",
              "      <th>2</th>\n",
              "      <td>0</td>\n",
              "      <td>5623</td>\n",
              "      <td>33.0</td>\n",
              "      <td>среднее</td>\n",
              "      <td>1</td>\n",
              "      <td>женат / замужем</td>\n",
              "      <td>0</td>\n",
              "      <td>m</td>\n",
              "      <td>сотрудник</td>\n",
              "      <td>0</td>\n",
              "      <td>145885.952297</td>\n",
              "      <td>покупка жилья</td>\n",
              "      <td>покупка   жилье \\n</td>\n",
              "    </tr>\n",
              "  </tbody>\n",
              "</table>\n",
              "</div>\n",
              "      <button class=\"colab-df-convert\" onclick=\"convertToInteractive('df-44771355-5a1c-49fc-8694-f503600637c3')\"\n",
              "              title=\"Convert this dataframe to an interactive table.\"\n",
              "              style=\"display:none;\">\n",
              "        \n",
              "  <svg xmlns=\"http://www.w3.org/2000/svg\" height=\"24px\"viewBox=\"0 0 24 24\"\n",
              "       width=\"24px\">\n",
              "    <path d=\"M0 0h24v24H0V0z\" fill=\"none\"/>\n",
              "    <path d=\"M18.56 5.44l.94 2.06.94-2.06 2.06-.94-2.06-.94-.94-2.06-.94 2.06-2.06.94zm-11 1L8.5 8.5l.94-2.06 2.06-.94-2.06-.94L8.5 2.5l-.94 2.06-2.06.94zm10 10l.94 2.06.94-2.06 2.06-.94-2.06-.94-.94-2.06-.94 2.06-2.06.94z\"/><path d=\"M17.41 7.96l-1.37-1.37c-.4-.4-.92-.59-1.43-.59-.52 0-1.04.2-1.43.59L10.3 9.45l-7.72 7.72c-.78.78-.78 2.05 0 2.83L4 21.41c.39.39.9.59 1.41.59.51 0 1.02-.2 1.41-.59l7.78-7.78 2.81-2.81c.8-.78.8-2.07 0-2.86zM5.41 20L4 18.59l7.72-7.72 1.47 1.35L5.41 20z\"/>\n",
              "  </svg>\n",
              "      </button>\n",
              "      \n",
              "  <style>\n",
              "    .colab-df-container {\n",
              "      display:flex;\n",
              "      flex-wrap:wrap;\n",
              "      gap: 12px;\n",
              "    }\n",
              "\n",
              "    .colab-df-convert {\n",
              "      background-color: #E8F0FE;\n",
              "      border: none;\n",
              "      border-radius: 50%;\n",
              "      cursor: pointer;\n",
              "      display: none;\n",
              "      fill: #1967D2;\n",
              "      height: 32px;\n",
              "      padding: 0 0 0 0;\n",
              "      width: 32px;\n",
              "    }\n",
              "\n",
              "    .colab-df-convert:hover {\n",
              "      background-color: #E2EBFA;\n",
              "      box-shadow: 0px 1px 2px rgba(60, 64, 67, 0.3), 0px 1px 3px 1px rgba(60, 64, 67, 0.15);\n",
              "      fill: #174EA6;\n",
              "    }\n",
              "\n",
              "    [theme=dark] .colab-df-convert {\n",
              "      background-color: #3B4455;\n",
              "      fill: #D2E3FC;\n",
              "    }\n",
              "\n",
              "    [theme=dark] .colab-df-convert:hover {\n",
              "      background-color: #434B5C;\n",
              "      box-shadow: 0px 1px 3px 1px rgba(0, 0, 0, 0.15);\n",
              "      filter: drop-shadow(0px 1px 2px rgba(0, 0, 0, 0.3));\n",
              "      fill: #FFFFFF;\n",
              "    }\n",
              "  </style>\n",
              "\n",
              "      <script>\n",
              "        const buttonEl =\n",
              "          document.querySelector('#df-44771355-5a1c-49fc-8694-f503600637c3 button.colab-df-convert');\n",
              "        buttonEl.style.display =\n",
              "          google.colab.kernel.accessAllowed ? 'block' : 'none';\n",
              "\n",
              "        async function convertToInteractive(key) {\n",
              "          const element = document.querySelector('#df-44771355-5a1c-49fc-8694-f503600637c3');\n",
              "          const dataTable =\n",
              "            await google.colab.kernel.invokeFunction('convertToInteractive',\n",
              "                                                     [key], {});\n",
              "          if (!dataTable) return;\n",
              "\n",
              "          const docLinkHtml = 'Like what you see? Visit the ' +\n",
              "            '<a target=\"_blank\" href=https://colab.research.google.com/notebooks/data_table.ipynb>data table notebook</a>'\n",
              "            + ' to learn more about interactive tables.';\n",
              "          element.innerHTML = '';\n",
              "          dataTable['output_type'] = 'display_data';\n",
              "          await google.colab.output.renderOutput(dataTable, element);\n",
              "          const docLink = document.createElement('div');\n",
              "          docLink.innerHTML = docLinkHtml;\n",
              "          element.appendChild(docLink);\n",
              "        }\n",
              "      </script>\n",
              "    </div>\n",
              "  </div>\n",
              "  "
            ],
            "text/plain": [
              "   children  ...                  lemm_purpose\n",
              "0         1  ...            покупка   жилье \\n\n",
              "1         1  ...  приобретение   автомобиль \\n\n",
              "2         0  ...            покупка   жилье \\n\n",
              "\n",
              "[3 rows x 13 columns]"
            ]
          },
          "metadata": {},
          "execution_count": 36
        }
      ]
    },
    {
      "cell_type": "markdown",
      "metadata": {
        "id": "fgmZAT-uzeVw"
      },
      "source": [
        "С помощью метода apply пременим фунцию для лемматизации слов в столбце purpose."
      ]
    },
    {
      "cell_type": "code",
      "source": [
        "data['lemm_purpose']"
      ],
      "metadata": {
        "colab": {
          "base_uri": "https://localhost:8080/"
        },
        "id": "Dn-zRUU-h8hO",
        "outputId": "1eea0718-e6f5-4daf-e625-f4f41a50414d"
      },
      "execution_count": 37,
      "outputs": [
        {
          "output_type": "execute_result",
          "data": {
            "text/plain": [
              "0                         покупка   жилье \\n\n",
              "1               приобретение   автомобиль \\n\n",
              "2                         покупка   жилье \\n\n",
              "3            дополнительный   образование \\n\n",
              "4                       сыграть   свадьба \\n\n",
              "                        ...                 \n",
              "21520                операция   с   жилье \\n\n",
              "21521             сделка   с   автомобиль \\n\n",
              "21522                        недвижимость \\n\n",
              "21523    на   покупка   свой   автомобиль \\n\n",
              "21524           на   покупка   автомобиль \\n\n",
              "Name: lemm_purpose, Length: 21525, dtype: object"
            ]
          },
          "metadata": {},
          "execution_count": 37
        }
      ]
    },
    {
      "cell_type": "markdown",
      "metadata": {
        "id": "Gepg6RZnzeVw"
      },
      "source": [
        "**Вывод**"
      ]
    },
    {
      "cell_type": "markdown",
      "metadata": {
        "id": "xmWz2_dHzeVw"
      },
      "source": [
        "Применив созданную нами фенкцию Lemmatize для лемматизции значений в столбце purpose, можно выделить несколько целей кредита - Автомобиль, жилье, недвижимость, свадьба, образование. Разобьем целина эти категории."
      ]
    },
    {
      "cell_type": "markdown",
      "metadata": {
        "id": "podChsD1zeVx"
      },
      "source": [
        "### Категоризация данных"
      ]
    },
    {
      "cell_type": "markdown",
      "metadata": {
        "id": "qwYjLlTIzeVx"
      },
      "source": [
        "Для наглядности последующих расчетов, разобьем на категории столбцы lemm_purpose, dob_years, children, total_income, ."
      ]
    },
    {
      "cell_type": "code",
      "metadata": {
        "id": "AHs3dzLBzeVx"
      },
      "source": [
        "def lem_group(word):\n",
        "    if 'свадьба' in word:\n",
        "        return 'кредит на общие нужды'\n",
        "    elif 'образование' in word:\n",
        "        return 'кредит на образование'\n",
        "    elif 'жилье' in word or 'недвижимость' in word or \"жильё\" in word:\n",
        "        return 'кредит на недвижимость'\n",
        "    elif 'автомобиль' in word:\n",
        "        return 'автокредит'\n",
        "    else:\n",
        "        return 'нужно проверить лемму'"
      ],
      "execution_count": 38,
      "outputs": []
    },
    {
      "cell_type": "code",
      "metadata": {
        "scrolled": true,
        "id": "kcddfdn5zeVy",
        "colab": {
          "base_uri": "https://localhost:8080/"
        },
        "outputId": "fdd90b4e-1d65-4644-cf48-46cccc430726"
      },
      "source": [
        "data['lemm_purpose_group'] = data['lemm_purpose'].apply(lem_group)\n",
        "data['lemm_purpose_group'].value_counts()"
      ],
      "execution_count": 39,
      "outputs": [
        {
          "output_type": "execute_result",
          "data": {
            "text/plain": [
              "кредит на недвижимость    10840\n",
              "автокредит                 4315\n",
              "кредит на образование      4022\n",
              "кредит на общие нужды      2348\n",
              "Name: lemm_purpose_group, dtype: int64"
            ]
          },
          "metadata": {},
          "execution_count": 39
        }
      ]
    },
    {
      "cell_type": "markdown",
      "metadata": {
        "id": "T5sBXP5gzeVy"
      },
      "source": [
        "Цели кредита разделили исходя из текущих видов кредитования в банках. Кредит на авто - Автокердит, кредит на приобретение жилья - кредит на недвижимость, кредит на разные цели -кредит на общие нужды, на образование -  \"кредит на образование\""
      ]
    },
    {
      "cell_type": "markdown",
      "metadata": {
        "id": "z17qaF4qzeVz"
      },
      "source": [
        "Категоризируем возраст клиента на молодых, взрослых и старых. Эти значения пригодяться для оценки взаимосвязи между возрастом заемщиков и возвратом кдита в срок. Для этого создадим фнкцию age_group и применим к соответствующему столбцу."
      ]
    },
    {
      "cell_type": "code",
      "metadata": {
        "id": "OKPZnIl0zeVz"
      },
      "source": [
        "def age_group(age):\n",
        "    if age <= 30:\n",
        "        return 'молодой'\n",
        "    elif age <= 64:\n",
        "        return 'взрослый'\n",
        "    elif age >= 65:\n",
        "        return 'старый'\n",
        "    else:\n",
        "        return 'нужно проверить значение'\n",
        "    \n",
        "       "
      ],
      "execution_count": 40,
      "outputs": []
    },
    {
      "cell_type": "code",
      "metadata": {
        "scrolled": true,
        "id": "oZBLMBXxzeV0",
        "colab": {
          "base_uri": "https://localhost:8080/"
        },
        "outputId": "94d2f57a-ae35-477e-e56c-38d5854c7256"
      },
      "source": [
        "data['dob_age_group'] = data['dob_years'].apply(age_group)\n",
        "data['dob_age_group'].value_counts()\n"
      ],
      "execution_count": 41,
      "outputs": [
        {
          "output_type": "execute_result",
          "data": {
            "text/plain": [
              "взрослый    16903\n",
              "молодой      3723\n",
              "старый        899\n",
              "Name: dob_age_group, dtype: int64"
            ]
          },
          "metadata": {},
          "execution_count": 41
        }
      ]
    },
    {
      "cell_type": "markdown",
      "metadata": {
        "id": "cDGCX4LtzeV0"
      },
      "source": [
        "Категоризируем количество детей клиента на бездетных и с детьми . Эти значения пригодяться для оценки взаимосвязи между количеством детей у заемщиков и возвратом кдита в срок. Для этого создадим фнкцию children_group и применим к соответствующему столбцу."
      ]
    },
    {
      "cell_type": "code",
      "metadata": {
        "id": "7LtZOBxBzeV0"
      },
      "source": [
        "def children_group(children):\n",
        "    try:\n",
        "        if children == 0:\n",
        "            return 'бездетные'\n",
        "        else:\n",
        "            return 'есть дети'\n",
        "               \n",
        "    except:\n",
        "        return 'нужно проверить'"
      ],
      "execution_count": 42,
      "outputs": []
    },
    {
      "cell_type": "code",
      "metadata": {
        "scrolled": true,
        "id": "4MiK6LfFzeV0",
        "colab": {
          "base_uri": "https://localhost:8080/"
        },
        "outputId": "d54d1b96-9811-465a-a433-052feed3d9e7"
      },
      "source": [
        "data['dob_children_group'] = data['children'].apply(children_group)\n",
        "data['dob_children_group'].value_counts()"
      ],
      "execution_count": 43,
      "outputs": [
        {
          "output_type": "execute_result",
          "data": {
            "text/plain": [
              "бездетные    14149\n",
              "есть дети     7376\n",
              "Name: dob_children_group, dtype: int64"
            ]
          },
          "metadata": {},
          "execution_count": 43
        }
      ]
    },
    {
      "cell_type": "markdown",
      "metadata": {
        "id": "lZiZq9-szeV1"
      },
      "source": [
        "Категоризируем доход клиента на без дохода, бехных, со средним доходом и с высоким доходом. Эти значения пригодяться для оценки взаимосвязи между доходом у заемщиков и возвратом кдита в срок. Для этого создадим фнкцию total_income_group и применим к соответствующему столбцу."
      ]
    },
    {
      "cell_type": "code",
      "metadata": {
        "id": "escrOFzRzeV1"
      },
      "source": [
        "def total_income_group(total_income):\n",
        "    if total_income == 0:\n",
        "        return 'без дохода'\n",
        "    elif total_income <= 50000:\n",
        "        return 'бедный'    \n",
        "    elif total_income < 100000:\n",
        "        return 'средний доход'\n",
        "    elif total_income >= 100000:\n",
        "         return 'высоких доход'\n",
        "    else:\n",
        "        return 'нужно проверить значение'"
      ],
      "execution_count": 44,
      "outputs": []
    },
    {
      "cell_type": "code",
      "metadata": {
        "id": "DvW_uhQWzeV2",
        "colab": {
          "base_uri": "https://localhost:8080/"
        },
        "outputId": "30554c93-0b22-4a5f-a4b1-27b54b8bc99f"
      },
      "source": [
        "data['total_income_group'] = data['total_income'].apply(total_income_group)\n",
        "data['total_income_group'].value_counts()"
      ],
      "execution_count": 45,
      "outputs": [
        {
          "output_type": "execute_result",
          "data": {
            "text/plain": [
              "высоких доход    17062\n",
              "средний доход     4091\n",
              "бедный             372\n",
              "Name: total_income_group, dtype: int64"
            ]
          },
          "metadata": {},
          "execution_count": 45
        }
      ]
    },
    {
      "cell_type": "markdown",
      "source": [
        "Сгруппируем данные семейного положения, пусть 0 будет не женат, все остальное 1."
      ],
      "metadata": {
        "id": "g8APyILlL1JM"
      }
    },
    {
      "cell_type": "code",
      "source": [
        "data['family_status_group'] = data['family_status_id'].isin([1,2,3,4])*1"
      ],
      "metadata": {
        "id": "gHsw5mR6J6ml"
      },
      "execution_count": 46,
      "outputs": []
    },
    {
      "cell_type": "code",
      "source": [
        "data.head(5)"
      ],
      "metadata": {
        "colab": {
          "base_uri": "https://localhost:8080/",
          "height": 206
        },
        "id": "GFvdnCW8LFQS",
        "outputId": "2c625666-d8b1-4499-f1b3-f6e0186a9f4a"
      },
      "execution_count": 81,
      "outputs": [
        {
          "output_type": "execute_result",
          "data": {
            "text/html": [
              "\n",
              "  <div id=\"df-93009b3e-7fbe-42ef-b8ff-acc7d526d1a1\">\n",
              "    <div class=\"colab-df-container\">\n",
              "      <div>\n",
              "<style scoped>\n",
              "    .dataframe tbody tr th:only-of-type {\n",
              "        vertical-align: middle;\n",
              "    }\n",
              "\n",
              "    .dataframe tbody tr th {\n",
              "        vertical-align: top;\n",
              "    }\n",
              "\n",
              "    .dataframe thead th {\n",
              "        text-align: right;\n",
              "    }\n",
              "</style>\n",
              "<table border=\"1\" class=\"dataframe\">\n",
              "  <thead>\n",
              "    <tr style=\"text-align: right;\">\n",
              "      <th></th>\n",
              "      <th>children</th>\n",
              "      <th>days_employed</th>\n",
              "      <th>dob_years</th>\n",
              "      <th>education</th>\n",
              "      <th>education_id</th>\n",
              "      <th>family_status</th>\n",
              "      <th>family_status_id</th>\n",
              "      <th>gender</th>\n",
              "      <th>income_type</th>\n",
              "      <th>debt</th>\n",
              "      <th>total_income</th>\n",
              "      <th>purpose</th>\n",
              "      <th>lemm_purpose</th>\n",
              "      <th>lemm_purpose_group</th>\n",
              "      <th>dob_age_group</th>\n",
              "      <th>dob_children_group</th>\n",
              "      <th>total_income_group</th>\n",
              "      <th>family_status_group</th>\n",
              "    </tr>\n",
              "  </thead>\n",
              "  <tbody>\n",
              "    <tr>\n",
              "      <th>0</th>\n",
              "      <td>1</td>\n",
              "      <td>8437</td>\n",
              "      <td>42.0</td>\n",
              "      <td>высшее</td>\n",
              "      <td>0</td>\n",
              "      <td>женат / замужем</td>\n",
              "      <td>0</td>\n",
              "      <td>f</td>\n",
              "      <td>сотрудник</td>\n",
              "      <td>0</td>\n",
              "      <td>253875.639453</td>\n",
              "      <td>покупка жилья</td>\n",
              "      <td>покупка   жилье \\n</td>\n",
              "      <td>кредит на недвижимость</td>\n",
              "      <td>взрослый</td>\n",
              "      <td>есть дети</td>\n",
              "      <td>высоких доход</td>\n",
              "      <td>0</td>\n",
              "    </tr>\n",
              "    <tr>\n",
              "      <th>1</th>\n",
              "      <td>1</td>\n",
              "      <td>4024</td>\n",
              "      <td>36.0</td>\n",
              "      <td>среднее</td>\n",
              "      <td>1</td>\n",
              "      <td>женат / замужем</td>\n",
              "      <td>0</td>\n",
              "      <td>f</td>\n",
              "      <td>сотрудник</td>\n",
              "      <td>0</td>\n",
              "      <td>112080.014102</td>\n",
              "      <td>приобретение автомобиля</td>\n",
              "      <td>приобретение   автомобиль \\n</td>\n",
              "      <td>автокредит</td>\n",
              "      <td>взрослый</td>\n",
              "      <td>есть дети</td>\n",
              "      <td>высоких доход</td>\n",
              "      <td>0</td>\n",
              "    </tr>\n",
              "    <tr>\n",
              "      <th>2</th>\n",
              "      <td>0</td>\n",
              "      <td>5623</td>\n",
              "      <td>33.0</td>\n",
              "      <td>среднее</td>\n",
              "      <td>1</td>\n",
              "      <td>женат / замужем</td>\n",
              "      <td>0</td>\n",
              "      <td>m</td>\n",
              "      <td>сотрудник</td>\n",
              "      <td>0</td>\n",
              "      <td>145885.952297</td>\n",
              "      <td>покупка жилья</td>\n",
              "      <td>покупка   жилье \\n</td>\n",
              "      <td>кредит на недвижимость</td>\n",
              "      <td>взрослый</td>\n",
              "      <td>бездетные</td>\n",
              "      <td>высоких доход</td>\n",
              "      <td>0</td>\n",
              "    </tr>\n",
              "    <tr>\n",
              "      <th>3</th>\n",
              "      <td>3</td>\n",
              "      <td>4124</td>\n",
              "      <td>32.0</td>\n",
              "      <td>среднее</td>\n",
              "      <td>1</td>\n",
              "      <td>женат / замужем</td>\n",
              "      <td>0</td>\n",
              "      <td>m</td>\n",
              "      <td>сотрудник</td>\n",
              "      <td>0</td>\n",
              "      <td>267628.550329</td>\n",
              "      <td>дополнительное образование</td>\n",
              "      <td>дополнительный   образование \\n</td>\n",
              "      <td>кредит на образование</td>\n",
              "      <td>взрослый</td>\n",
              "      <td>есть дети</td>\n",
              "      <td>высоких доход</td>\n",
              "      <td>0</td>\n",
              "    </tr>\n",
              "    <tr>\n",
              "      <th>4</th>\n",
              "      <td>0</td>\n",
              "      <td>340266</td>\n",
              "      <td>53.0</td>\n",
              "      <td>среднее</td>\n",
              "      <td>1</td>\n",
              "      <td>гражданский брак</td>\n",
              "      <td>1</td>\n",
              "      <td>f</td>\n",
              "      <td>пенсионер</td>\n",
              "      <td>0</td>\n",
              "      <td>158616.077870</td>\n",
              "      <td>сыграть свадьбу</td>\n",
              "      <td>сыграть   свадьба \\n</td>\n",
              "      <td>кредит на общие нужды</td>\n",
              "      <td>взрослый</td>\n",
              "      <td>бездетные</td>\n",
              "      <td>высоких доход</td>\n",
              "      <td>1</td>\n",
              "    </tr>\n",
              "  </tbody>\n",
              "</table>\n",
              "</div>\n",
              "      <button class=\"colab-df-convert\" onclick=\"convertToInteractive('df-93009b3e-7fbe-42ef-b8ff-acc7d526d1a1')\"\n",
              "              title=\"Convert this dataframe to an interactive table.\"\n",
              "              style=\"display:none;\">\n",
              "        \n",
              "  <svg xmlns=\"http://www.w3.org/2000/svg\" height=\"24px\"viewBox=\"0 0 24 24\"\n",
              "       width=\"24px\">\n",
              "    <path d=\"M0 0h24v24H0V0z\" fill=\"none\"/>\n",
              "    <path d=\"M18.56 5.44l.94 2.06.94-2.06 2.06-.94-2.06-.94-.94-2.06-.94 2.06-2.06.94zm-11 1L8.5 8.5l.94-2.06 2.06-.94-2.06-.94L8.5 2.5l-.94 2.06-2.06.94zm10 10l.94 2.06.94-2.06 2.06-.94-2.06-.94-.94-2.06-.94 2.06-2.06.94z\"/><path d=\"M17.41 7.96l-1.37-1.37c-.4-.4-.92-.59-1.43-.59-.52 0-1.04.2-1.43.59L10.3 9.45l-7.72 7.72c-.78.78-.78 2.05 0 2.83L4 21.41c.39.39.9.59 1.41.59.51 0 1.02-.2 1.41-.59l7.78-7.78 2.81-2.81c.8-.78.8-2.07 0-2.86zM5.41 20L4 18.59l7.72-7.72 1.47 1.35L5.41 20z\"/>\n",
              "  </svg>\n",
              "      </button>\n",
              "      \n",
              "  <style>\n",
              "    .colab-df-container {\n",
              "      display:flex;\n",
              "      flex-wrap:wrap;\n",
              "      gap: 12px;\n",
              "    }\n",
              "\n",
              "    .colab-df-convert {\n",
              "      background-color: #E8F0FE;\n",
              "      border: none;\n",
              "      border-radius: 50%;\n",
              "      cursor: pointer;\n",
              "      display: none;\n",
              "      fill: #1967D2;\n",
              "      height: 32px;\n",
              "      padding: 0 0 0 0;\n",
              "      width: 32px;\n",
              "    }\n",
              "\n",
              "    .colab-df-convert:hover {\n",
              "      background-color: #E2EBFA;\n",
              "      box-shadow: 0px 1px 2px rgba(60, 64, 67, 0.3), 0px 1px 3px 1px rgba(60, 64, 67, 0.15);\n",
              "      fill: #174EA6;\n",
              "    }\n",
              "\n",
              "    [theme=dark] .colab-df-convert {\n",
              "      background-color: #3B4455;\n",
              "      fill: #D2E3FC;\n",
              "    }\n",
              "\n",
              "    [theme=dark] .colab-df-convert:hover {\n",
              "      background-color: #434B5C;\n",
              "      box-shadow: 0px 1px 3px 1px rgba(0, 0, 0, 0.15);\n",
              "      filter: drop-shadow(0px 1px 2px rgba(0, 0, 0, 0.3));\n",
              "      fill: #FFFFFF;\n",
              "    }\n",
              "  </style>\n",
              "\n",
              "      <script>\n",
              "        const buttonEl =\n",
              "          document.querySelector('#df-93009b3e-7fbe-42ef-b8ff-acc7d526d1a1 button.colab-df-convert');\n",
              "        buttonEl.style.display =\n",
              "          google.colab.kernel.accessAllowed ? 'block' : 'none';\n",
              "\n",
              "        async function convertToInteractive(key) {\n",
              "          const element = document.querySelector('#df-93009b3e-7fbe-42ef-b8ff-acc7d526d1a1');\n",
              "          const dataTable =\n",
              "            await google.colab.kernel.invokeFunction('convertToInteractive',\n",
              "                                                     [key], {});\n",
              "          if (!dataTable) return;\n",
              "\n",
              "          const docLinkHtml = 'Like what you see? Visit the ' +\n",
              "            '<a target=\"_blank\" href=https://colab.research.google.com/notebooks/data_table.ipynb>data table notebook</a>'\n",
              "            + ' to learn more about interactive tables.';\n",
              "          element.innerHTML = '';\n",
              "          dataTable['output_type'] = 'display_data';\n",
              "          await google.colab.output.renderOutput(dataTable, element);\n",
              "          const docLink = document.createElement('div');\n",
              "          docLink.innerHTML = docLinkHtml;\n",
              "          element.appendChild(docLink);\n",
              "        }\n",
              "      </script>\n",
              "    </div>\n",
              "  </div>\n",
              "  "
            ],
            "text/plain": [
              "   children  days_employed  ...  total_income_group family_status_group\n",
              "0         1           8437  ...       высоких доход                   0\n",
              "1         1           4024  ...       высоких доход                   0\n",
              "2         0           5623  ...       высоких доход                   0\n",
              "3         3           4124  ...       высоких доход                   0\n",
              "4         0         340266  ...       высоких доход                   1\n",
              "\n",
              "[5 rows x 18 columns]"
            ]
          },
          "metadata": {},
          "execution_count": 81
        }
      ]
    },
    {
      "cell_type": "markdown",
      "metadata": {
        "id": "HYYHGVLyzeV2"
      },
      "source": [
        "**Вывод**"
      ]
    },
    {
      "cell_type": "markdown",
      "metadata": {
        "id": "pvagvDInzeV2"
      },
      "source": [
        "Для выполнения последующего задания мы категоризировали данные в необходимых нам столбца. Категоризация поможет нам выявить влияние данных нам параметров на возврат кредита в срок. Для этого мы создали ряд функций для каждого слобца сожержащих несколько условий."
      ]
    },
    {
      "cell_type": "markdown",
      "metadata": {
        "id": "gLSow5NozeV3"
      },
      "source": [
        "## Шаг 3. Ответим на вопросы"
      ]
    },
    {
      "cell_type": "markdown",
      "metadata": {
        "id": "r42feXE_zeV3"
      },
      "source": [
        "### Есть ли зависимость между наличием детей и возвратом кредита в срок?"
      ]
    },
    {
      "cell_type": "code",
      "source": [
        "data['debt'].mean()"
      ],
      "metadata": {
        "colab": {
          "base_uri": "https://localhost:8080/"
        },
        "id": "uc424Xu3vcCm",
        "outputId": "8d9d57ca-1230-4560-dc3f-46669707c592"
      },
      "execution_count": 48,
      "outputs": [
        {
          "output_type": "execute_result",
          "data": {
            "text/plain": [
              "0.08088269454123112"
            ]
          },
          "metadata": {},
          "execution_count": 48
        }
      ]
    },
    {
      "cell_type": "markdown",
      "source": [
        "В общем по всей выборке мы имеем 8% должников."
      ],
      "metadata": {
        "id": "_NnQTnmTzulf"
      }
    },
    {
      "cell_type": "markdown",
      "metadata": {
        "id": "wmerKzddzeV3"
      },
      "source": [
        "Для выявления зависимости сгруппируем данные по полученному нами столбцу 'dob_children_group' и сделаем выводы по столбцу 'debt' с помощью вывода количества, среднего значения."
      ]
    },
    {
      "cell_type": "code",
      "metadata": {
        "id": "7j9K8RFtzeV3",
        "colab": {
          "base_uri": "https://localhost:8080/",
          "height": 174
        },
        "outputId": "75b96a1e-1a44-4a2c-9f76-855887669e5f"
      },
      "source": [
        "data.groupby('dob_children_group').agg({'debt': ['count','mean']}).style.highlight_max()\n"
      ],
      "execution_count": 82,
      "outputs": [
        {
          "output_type": "execute_result",
          "data": {
            "text/html": [
              "<style  type=\"text/css\" >\n",
              "#T_852345e4_7fe2_11ec_a3cf_0242ac1c0002row0_col0,#T_852345e4_7fe2_11ec_a3cf_0242ac1c0002row1_col1{\n",
              "            background-color:  yellow;\n",
              "        }</style><table id=\"T_852345e4_7fe2_11ec_a3cf_0242ac1c0002\" class=\"dataframe\"><thead>    <tr>        <th class=\"blank level0\" ></th>        <th class=\"col_heading level0 col0\" colspan=2>debt</th>    </tr>    <tr>        <th class=\"blank level1\" ></th>        <th class=\"col_heading level1 col0\" >count</th>        <th class=\"col_heading level1 col1\" >mean</th>    </tr>    <tr>        <th class=\"index_name level0\" >dob_children_group</th>        <th class=\"blank\" ></th>        <th class=\"blank\" ></th>    </tr></thead><tbody>\n",
              "                <tr>\n",
              "                        <th id=\"T_852345e4_7fe2_11ec_a3cf_0242ac1c0002level0_row0\" class=\"row_heading level0 row0\" >бездетные</th>\n",
              "                        <td id=\"T_852345e4_7fe2_11ec_a3cf_0242ac1c0002row0_col0\" class=\"data row0 col0\" >14149</td>\n",
              "                        <td id=\"T_852345e4_7fe2_11ec_a3cf_0242ac1c0002row0_col1\" class=\"data row0 col1\" >0.075129</td>\n",
              "            </tr>\n",
              "            <tr>\n",
              "                        <th id=\"T_852345e4_7fe2_11ec_a3cf_0242ac1c0002level0_row1\" class=\"row_heading level0 row1\" >есть дети</th>\n",
              "                        <td id=\"T_852345e4_7fe2_11ec_a3cf_0242ac1c0002row1_col0\" class=\"data row1 col0\" >7376</td>\n",
              "                        <td id=\"T_852345e4_7fe2_11ec_a3cf_0242ac1c0002row1_col1\" class=\"data row1 col1\" >0.091920</td>\n",
              "            </tr>\n",
              "    </tbody></table>"
            ],
            "text/plain": [
              "<pandas.io.formats.style.Styler at 0x7fb8dbf430d0>"
            ]
          },
          "metadata": {},
          "execution_count": 82
        }
      ]
    },
    {
      "cell_type": "markdown",
      "metadata": {
        "id": "L0oF5i6kzeV3"
      },
      "source": [
        "Мы видим, что количество должников на 2% выше у клиентов имеющих детей."
      ]
    },
    {
      "cell_type": "markdown",
      "source": [
        "Предлагаю углубиться в данные и посмотреть есть корреляция возврата кредита у клиентов имеющих детей и нет в зависимости от вида кредита."
      ],
      "metadata": {
        "id": "XbnxE0dBubYr"
      }
    },
    {
      "cell_type": "code",
      "metadata": {
        "id": "Birv_op6zeV6",
        "colab": {
          "base_uri": "https://localhost:8080/",
          "height": 144
        },
        "outputId": "1fc9cef8-ab41-4767-80d6-2d06a1d08643"
      },
      "source": [
        "data.pivot_table(index=['dob_children_group'], columns= 'lemm_purpose_group', values='debt', aggfunc='mean').style.highlight_max()\n"
      ],
      "execution_count": 85,
      "outputs": [
        {
          "output_type": "execute_result",
          "data": {
            "text/html": [
              "<style  type=\"text/css\" >\n",
              "#T_9efeb8cc_7fe2_11ec_a3cf_0242ac1c0002row1_col0,#T_9efeb8cc_7fe2_11ec_a3cf_0242ac1c0002row1_col1,#T_9efeb8cc_7fe2_11ec_a3cf_0242ac1c0002row1_col2,#T_9efeb8cc_7fe2_11ec_a3cf_0242ac1c0002row1_col3{\n",
              "            background-color:  yellow;\n",
              "        }</style><table id=\"T_9efeb8cc_7fe2_11ec_a3cf_0242ac1c0002\" class=\"dataframe\"><thead>    <tr>        <th class=\"index_name level0\" >lemm_purpose_group</th>        <th class=\"col_heading level0 col0\" >автокредит</th>        <th class=\"col_heading level0 col1\" >кредит на недвижимость</th>        <th class=\"col_heading level0 col2\" >кредит на образование</th>        <th class=\"col_heading level0 col3\" >кредит на общие нужды</th>    </tr>    <tr>        <th class=\"index_name level0\" >dob_children_group</th>        <th class=\"blank\" ></th>        <th class=\"blank\" ></th>        <th class=\"blank\" ></th>        <th class=\"blank\" ></th>    </tr></thead><tbody>\n",
              "                <tr>\n",
              "                        <th id=\"T_9efeb8cc_7fe2_11ec_a3cf_0242ac1c0002level0_row0\" class=\"row_heading level0 row0\" >бездетные</th>\n",
              "                        <td id=\"T_9efeb8cc_7fe2_11ec_a3cf_0242ac1c0002row0_col0\" class=\"data row0 col0\" >0.085203</td>\n",
              "                        <td id=\"T_9efeb8cc_7fe2_11ec_a3cf_0242ac1c0002row0_col1\" class=\"data row0 col1\" >0.067071</td>\n",
              "                        <td id=\"T_9efeb8cc_7fe2_11ec_a3cf_0242ac1c0002row0_col2\" class=\"data row0 col2\" >0.086448</td>\n",
              "                        <td id=\"T_9efeb8cc_7fe2_11ec_a3cf_0242ac1c0002row0_col3\" class=\"data row0 col3\" >0.074146</td>\n",
              "            </tr>\n",
              "            <tr>\n",
              "                        <th id=\"T_9efeb8cc_7fe2_11ec_a3cf_0242ac1c0002level0_row1\" class=\"row_heading level0 row1\" >есть дети</th>\n",
              "                        <td id=\"T_9efeb8cc_7fe2_11ec_a3cf_0242ac1c0002row1_col0\" class=\"data row1 col0\" >0.109364</td>\n",
              "                        <td id=\"T_9efeb8cc_7fe2_11ec_a3cf_0242ac1c0002row1_col1\" class=\"data row1 col1\" >0.081753</td>\n",
              "                        <td id=\"T_9efeb8cc_7fe2_11ec_a3cf_0242ac1c0002row1_col2\" class=\"data row1 col2\" >0.102695</td>\n",
              "                        <td id=\"T_9efeb8cc_7fe2_11ec_a3cf_0242ac1c0002row1_col3\" class=\"data row1 col3\" >0.089084</td>\n",
              "            </tr>\n",
              "    </tbody></table>"
            ],
            "text/plain": [
              "<pandas.io.formats.style.Styler at 0x7fb8d2b39ad0>"
            ]
          },
          "metadata": {},
          "execution_count": 85
        }
      ]
    },
    {
      "cell_type": "markdown",
      "source": [
        "В целом мы так же видим что, бездетные платят лучше, так же видим что хуже платят клиенты с детьмя взявщие автокредит и кредит на образование, чем клиенты в целом."
      ],
      "metadata": {
        "id": "oSFynrsBvLzG"
      }
    },
    {
      "cell_type": "markdown",
      "source": [
        "Если посмотреть на данные в разрезе получаемого дохода, видим что так же бездетные платят лучше."
      ],
      "metadata": {
        "id": "heaKAHLu2lU7"
      }
    },
    {
      "cell_type": "code",
      "metadata": {
        "id": "_GupEh80zeV6",
        "colab": {
          "base_uri": "https://localhost:8080/",
          "height": 144
        },
        "outputId": "3c41bc2d-f750-4456-e31c-b8407f328080"
      },
      "source": [
        "data.pivot_table(index=['dob_children_group'], columns= 'total_income_group', values='debt', aggfunc='mean').style.highlight_max()\n"
      ],
      "execution_count": 86,
      "outputs": [
        {
          "output_type": "execute_result",
          "data": {
            "text/html": [
              "<style  type=\"text/css\" >\n",
              "#T_a438a8b6_7fe2_11ec_a3cf_0242ac1c0002row1_col0,#T_a438a8b6_7fe2_11ec_a3cf_0242ac1c0002row1_col1,#T_a438a8b6_7fe2_11ec_a3cf_0242ac1c0002row1_col2{\n",
              "            background-color:  yellow;\n",
              "        }</style><table id=\"T_a438a8b6_7fe2_11ec_a3cf_0242ac1c0002\" class=\"dataframe\"><thead>    <tr>        <th class=\"index_name level0\" >total_income_group</th>        <th class=\"col_heading level0 col0\" >бедный</th>        <th class=\"col_heading level0 col1\" >высоких доход</th>        <th class=\"col_heading level0 col2\" >средний доход</th>    </tr>    <tr>        <th class=\"index_name level0\" >dob_children_group</th>        <th class=\"blank\" ></th>        <th class=\"blank\" ></th>        <th class=\"blank\" ></th>    </tr></thead><tbody>\n",
              "                <tr>\n",
              "                        <th id=\"T_a438a8b6_7fe2_11ec_a3cf_0242ac1c0002level0_row0\" class=\"row_heading level0 row0\" >бездетные</th>\n",
              "                        <td id=\"T_a438a8b6_7fe2_11ec_a3cf_0242ac1c0002row0_col0\" class=\"data row0 col0\" >0.053846</td>\n",
              "                        <td id=\"T_a438a8b6_7fe2_11ec_a3cf_0242ac1c0002row0_col1\" class=\"data row0 col1\" >0.075870</td>\n",
              "                        <td id=\"T_a438a8b6_7fe2_11ec_a3cf_0242ac1c0002row0_col2\" class=\"data row0 col2\" >0.074167</td>\n",
              "            </tr>\n",
              "            <tr>\n",
              "                        <th id=\"T_a438a8b6_7fe2_11ec_a3cf_0242ac1c0002level0_row1\" class=\"row_heading level0 row1\" >есть дети</th>\n",
              "                        <td id=\"T_a438a8b6_7fe2_11ec_a3cf_0242ac1c0002row1_col0\" class=\"data row1 col0\" >0.080357</td>\n",
              "                        <td id=\"T_a438a8b6_7fe2_11ec_a3cf_0242ac1c0002row1_col1\" class=\"data row1 col1\" >0.091382</td>\n",
              "                        <td id=\"T_a438a8b6_7fe2_11ec_a3cf_0242ac1c0002row1_col2\" class=\"data row1 col2\" >0.095385</td>\n",
              "            </tr>\n",
              "    </tbody></table>"
            ],
            "text/plain": [
              "<pandas.io.formats.style.Styler at 0x7fb8d4ac57d0>"
            ]
          },
          "metadata": {},
          "execution_count": 86
        }
      ]
    },
    {
      "cell_type": "markdown",
      "metadata": {
        "id": "JHQXJo7TzeV7"
      },
      "source": [
        "### Есть ли зависимость между семейным положением и возвратом кредита в срок?"
      ]
    },
    {
      "cell_type": "markdown",
      "metadata": {
        "id": "rNdCdD4ezeV7"
      },
      "source": [
        "Для выявления зависимости сгруппируем полученый нами столбец 'family_status_id' и сделаем выводы по столбцу 'debt' с помощью вывода количества, суммы и среднего значения."
      ]
    },
    {
      "cell_type": "code",
      "metadata": {
        "id": "T8vMk75AzeV7",
        "colab": {
          "base_uri": "https://localhost:8080/",
          "height": 174
        },
        "outputId": "9a0dc83d-674c-4603-d287-557234d01d23"
      },
      "source": [
        "data.groupby('family_status_group').agg({'debt': ['count','mean']}).style.highlight_max()"
      ],
      "execution_count": 87,
      "outputs": [
        {
          "output_type": "execute_result",
          "data": {
            "text/html": [
              "<style  type=\"text/css\" >\n",
              "#T_a72fdb7a_7fe2_11ec_a3cf_0242ac1c0002row0_col0,#T_a72fdb7a_7fe2_11ec_a3cf_0242ac1c0002row1_col1{\n",
              "            background-color:  yellow;\n",
              "        }</style><table id=\"T_a72fdb7a_7fe2_11ec_a3cf_0242ac1c0002\" class=\"dataframe\"><thead>    <tr>        <th class=\"blank level0\" ></th>        <th class=\"col_heading level0 col0\" colspan=2>debt</th>    </tr>    <tr>        <th class=\"blank level1\" ></th>        <th class=\"col_heading level1 col0\" >count</th>        <th class=\"col_heading level1 col1\" >mean</th>    </tr>    <tr>        <th class=\"index_name level0\" >family_status_group</th>        <th class=\"blank\" ></th>        <th class=\"blank\" ></th>    </tr></thead><tbody>\n",
              "                <tr>\n",
              "                        <th id=\"T_a72fdb7a_7fe2_11ec_a3cf_0242ac1c0002level0_row0\" class=\"row_heading level0 row0\" >0</th>\n",
              "                        <td id=\"T_a72fdb7a_7fe2_11ec_a3cf_0242ac1c0002row0_col0\" class=\"data row0 col0\" >12380</td>\n",
              "                        <td id=\"T_a72fdb7a_7fe2_11ec_a3cf_0242ac1c0002row0_col1\" class=\"data row0 col1\" >0.075202</td>\n",
              "            </tr>\n",
              "            <tr>\n",
              "                        <th id=\"T_a72fdb7a_7fe2_11ec_a3cf_0242ac1c0002level0_row1\" class=\"row_heading level0 row1\" >1</th>\n",
              "                        <td id=\"T_a72fdb7a_7fe2_11ec_a3cf_0242ac1c0002row1_col0\" class=\"data row1 col0\" >9145</td>\n",
              "                        <td id=\"T_a72fdb7a_7fe2_11ec_a3cf_0242ac1c0002row1_col1\" class=\"data row1 col1\" >0.088573</td>\n",
              "            </tr>\n",
              "    </tbody></table>"
            ],
            "text/plain": [
              "<pandas.io.formats.style.Styler at 0x7fb8d3c702d0>"
            ]
          },
          "metadata": {},
          "execution_count": 87
        }
      ]
    },
    {
      "cell_type": "markdown",
      "source": [
        "Сгруппируем те же даннве но более подробно, оценим выборки клиентов. "
      ],
      "metadata": {
        "id": "uAbbfMvHMnHK"
      }
    },
    {
      "cell_type": "code",
      "metadata": {
        "id": "ei-8V0XozeV7",
        "colab": {
          "base_uri": "https://localhost:8080/",
          "height": 144
        },
        "outputId": "61e2c3d3-b036-4e45-b25f-a1c27e945ccb"
      },
      "source": [
        "data_pivot_f = data.pivot_table(index=['family_status_group'], columns = 'debt', values='days_employed', aggfunc='count')\n",
        "data_pivot_f.reset_index()\n",
        "data_pivot_f['Количество заемщиков в группе'] = data_pivot_f[0] + data_pivot_f[1]\n",
        "data_pivot_f['доля должников в %'] = data_pivot_f[1] / data_pivot_f['Количество заемщиков в группе'] * 100\n",
        "data_pivot_f.sort_values(by = 'доля должников в %', ascending = False).style.highlight_max()"
      ],
      "execution_count": 90,
      "outputs": [
        {
          "output_type": "execute_result",
          "data": {
            "text/html": [
              "<style  type=\"text/css\" >\n",
              "#T_cb54036e_7fe2_11ec_a3cf_0242ac1c0002row0_col3,#T_cb54036e_7fe2_11ec_a3cf_0242ac1c0002row1_col0,#T_cb54036e_7fe2_11ec_a3cf_0242ac1c0002row1_col1,#T_cb54036e_7fe2_11ec_a3cf_0242ac1c0002row1_col2{\n",
              "            background-color:  yellow;\n",
              "        }</style><table id=\"T_cb54036e_7fe2_11ec_a3cf_0242ac1c0002\" class=\"dataframe\"><thead>    <tr>        <th class=\"index_name level0\" >debt</th>        <th class=\"col_heading level0 col0\" >0</th>        <th class=\"col_heading level0 col1\" >1</th>        <th class=\"col_heading level0 col2\" >Количество заемщиков в группе</th>        <th class=\"col_heading level0 col3\" >доля должников в %</th>    </tr>    <tr>        <th class=\"index_name level0\" >family_status_group</th>        <th class=\"blank\" ></th>        <th class=\"blank\" ></th>        <th class=\"blank\" ></th>        <th class=\"blank\" ></th>    </tr></thead><tbody>\n",
              "                <tr>\n",
              "                        <th id=\"T_cb54036e_7fe2_11ec_a3cf_0242ac1c0002level0_row0\" class=\"row_heading level0 row0\" >1</th>\n",
              "                        <td id=\"T_cb54036e_7fe2_11ec_a3cf_0242ac1c0002row0_col0\" class=\"data row0 col0\" >8335</td>\n",
              "                        <td id=\"T_cb54036e_7fe2_11ec_a3cf_0242ac1c0002row0_col1\" class=\"data row0 col1\" >810</td>\n",
              "                        <td id=\"T_cb54036e_7fe2_11ec_a3cf_0242ac1c0002row0_col2\" class=\"data row0 col2\" >9145</td>\n",
              "                        <td id=\"T_cb54036e_7fe2_11ec_a3cf_0242ac1c0002row0_col3\" class=\"data row0 col3\" >8.857299</td>\n",
              "            </tr>\n",
              "            <tr>\n",
              "                        <th id=\"T_cb54036e_7fe2_11ec_a3cf_0242ac1c0002level0_row1\" class=\"row_heading level0 row1\" >0</th>\n",
              "                        <td id=\"T_cb54036e_7fe2_11ec_a3cf_0242ac1c0002row1_col0\" class=\"data row1 col0\" >11449</td>\n",
              "                        <td id=\"T_cb54036e_7fe2_11ec_a3cf_0242ac1c0002row1_col1\" class=\"data row1 col1\" >931</td>\n",
              "                        <td id=\"T_cb54036e_7fe2_11ec_a3cf_0242ac1c0002row1_col2\" class=\"data row1 col2\" >12380</td>\n",
              "                        <td id=\"T_cb54036e_7fe2_11ec_a3cf_0242ac1c0002row1_col3\" class=\"data row1 col3\" >7.520194</td>\n",
              "            </tr>\n",
              "    </tbody></table>"
            ],
            "text/plain": [
              "<pandas.io.formats.style.Styler at 0x7fb8c4e9d550>"
            ]
          },
          "metadata": {},
          "execution_count": 90
        }
      ]
    },
    {
      "cell_type": "markdown",
      "metadata": {
        "id": "1Ri_KVKVzeV8"
      },
      "source": [
        "Вывод, женатые на 1% чаще не выплачивают кредиты. Учитывая, что средняя просрочка по все выборке 8% можно сделать вывод,что семейное положение не влияет на вероятность возврата кредита"
      ]
    },
    {
      "cell_type": "markdown",
      "metadata": {
        "id": "PnUdUcpAzeV9"
      },
      "source": [
        "- Есть ли зависимость между уровнем дохода и возвратом кредита в срок?"
      ]
    },
    {
      "cell_type": "code",
      "metadata": {
        "id": "JaWZveLQzeV9",
        "colab": {
          "base_uri": "https://localhost:8080/",
          "height": 206
        },
        "outputId": "64df7a84-289d-4aaa-bf7e-73ea6ad602ed"
      },
      "source": [
        "data.groupby('total_income_group').agg({'debt': ['count', 'mean'],}).style.background_gradient()"
      ],
      "execution_count": 95,
      "outputs": [
        {
          "output_type": "execute_result",
          "data": {
            "text/html": [
              "<style  type=\"text/css\" >\n",
              "#T_f2583084_7fe2_11ec_a3cf_0242ac1c0002row0_col0,#T_f2583084_7fe2_11ec_a3cf_0242ac1c0002row0_col1{\n",
              "            background-color:  #fff7fb;\n",
              "            color:  #000000;\n",
              "        }#T_f2583084_7fe2_11ec_a3cf_0242ac1c0002row1_col0,#T_f2583084_7fe2_11ec_a3cf_0242ac1c0002row1_col1{\n",
              "            background-color:  #023858;\n",
              "            color:  #f1f1f1;\n",
              "        }#T_f2583084_7fe2_11ec_a3cf_0242ac1c0002row2_col0{\n",
              "            background-color:  #d6d6e9;\n",
              "            color:  #000000;\n",
              "        }#T_f2583084_7fe2_11ec_a3cf_0242ac1c0002row2_col1{\n",
              "            background-color:  #023d60;\n",
              "            color:  #f1f1f1;\n",
              "        }</style><table id=\"T_f2583084_7fe2_11ec_a3cf_0242ac1c0002\" class=\"dataframe\"><thead>    <tr>        <th class=\"blank level0\" ></th>        <th class=\"col_heading level0 col0\" colspan=2>debt</th>    </tr>    <tr>        <th class=\"blank level1\" ></th>        <th class=\"col_heading level1 col0\" >count</th>        <th class=\"col_heading level1 col1\" >mean</th>    </tr>    <tr>        <th class=\"index_name level0\" >total_income_group</th>        <th class=\"blank\" ></th>        <th class=\"blank\" ></th>    </tr></thead><tbody>\n",
              "                <tr>\n",
              "                        <th id=\"T_f2583084_7fe2_11ec_a3cf_0242ac1c0002level0_row0\" class=\"row_heading level0 row0\" >бедный</th>\n",
              "                        <td id=\"T_f2583084_7fe2_11ec_a3cf_0242ac1c0002row0_col0\" class=\"data row0 col0\" >372</td>\n",
              "                        <td id=\"T_f2583084_7fe2_11ec_a3cf_0242ac1c0002row0_col1\" class=\"data row0 col1\" >0.061828</td>\n",
              "            </tr>\n",
              "            <tr>\n",
              "                        <th id=\"T_f2583084_7fe2_11ec_a3cf_0242ac1c0002level0_row1\" class=\"row_heading level0 row1\" >высоких доход</th>\n",
              "                        <td id=\"T_f2583084_7fe2_11ec_a3cf_0242ac1c0002row1_col0\" class=\"data row1 col0\" >17062</td>\n",
              "                        <td id=\"T_f2583084_7fe2_11ec_a3cf_0242ac1c0002row1_col1\" class=\"data row1 col1\" >0.081292</td>\n",
              "            </tr>\n",
              "            <tr>\n",
              "                        <th id=\"T_f2583084_7fe2_11ec_a3cf_0242ac1c0002level0_row2\" class=\"row_heading level0 row2\" >средний доход</th>\n",
              "                        <td id=\"T_f2583084_7fe2_11ec_a3cf_0242ac1c0002row2_col0\" class=\"data row2 col0\" >4091</td>\n",
              "                        <td id=\"T_f2583084_7fe2_11ec_a3cf_0242ac1c0002row2_col1\" class=\"data row2 col1\" >0.080909</td>\n",
              "            </tr>\n",
              "    </tbody></table>"
            ],
            "text/plain": [
              "<pandas.io.formats.style.Styler at 0x7fb8d38f7410>"
            ]
          },
          "metadata": {},
          "execution_count": 95
        }
      ]
    },
    {
      "cell_type": "code",
      "metadata": {
        "id": "2HEKvGkyzeV9",
        "colab": {
          "base_uri": "https://localhost:8080/",
          "height": 174
        },
        "outputId": "c34e184a-1b82-4edc-e862-01ad66fa0d4d"
      },
      "source": [
        "data_pivot_t = data.pivot_table(index=['total_income_group'], columns = 'debt', values='days_employed', aggfunc='count')\n",
        "data_pivot_t.reset_index()\n",
        "data_pivot_t['Количество заемщиков в группе'] = data_pivot_t[0] + data_pivot_t[1]\n",
        "data_pivot_t['доля должников в %'] = data_pivot_t[1] / data_pivot_t['Количество заемщиков в группе'] * 100\n",
        "data_pivot_t.sort_values(by = 'доля должников в %', ascending = False).style.background_gradient()"
      ],
      "execution_count": 94,
      "outputs": [
        {
          "output_type": "execute_result",
          "data": {
            "text/html": [
              "<style  type=\"text/css\" >\n",
              "#T_ed675848_7fe2_11ec_a3cf_0242ac1c0002row0_col0,#T_ed675848_7fe2_11ec_a3cf_0242ac1c0002row0_col1,#T_ed675848_7fe2_11ec_a3cf_0242ac1c0002row0_col2,#T_ed675848_7fe2_11ec_a3cf_0242ac1c0002row0_col3{\n",
              "            background-color:  #023858;\n",
              "            color:  #f1f1f1;\n",
              "        }#T_ed675848_7fe2_11ec_a3cf_0242ac1c0002row1_col0{\n",
              "            background-color:  #d7d6e9;\n",
              "            color:  #000000;\n",
              "        }#T_ed675848_7fe2_11ec_a3cf_0242ac1c0002row1_col1,#T_ed675848_7fe2_11ec_a3cf_0242ac1c0002row1_col2{\n",
              "            background-color:  #d6d6e9;\n",
              "            color:  #000000;\n",
              "        }#T_ed675848_7fe2_11ec_a3cf_0242ac1c0002row1_col3{\n",
              "            background-color:  #023d60;\n",
              "            color:  #f1f1f1;\n",
              "        }#T_ed675848_7fe2_11ec_a3cf_0242ac1c0002row2_col0,#T_ed675848_7fe2_11ec_a3cf_0242ac1c0002row2_col1,#T_ed675848_7fe2_11ec_a3cf_0242ac1c0002row2_col2,#T_ed675848_7fe2_11ec_a3cf_0242ac1c0002row2_col3{\n",
              "            background-color:  #fff7fb;\n",
              "            color:  #000000;\n",
              "        }</style><table id=\"T_ed675848_7fe2_11ec_a3cf_0242ac1c0002\" class=\"dataframe\"><thead>    <tr>        <th class=\"index_name level0\" >debt</th>        <th class=\"col_heading level0 col0\" >0</th>        <th class=\"col_heading level0 col1\" >1</th>        <th class=\"col_heading level0 col2\" >Количество заемщиков в группе</th>        <th class=\"col_heading level0 col3\" >доля должников в %</th>    </tr>    <tr>        <th class=\"index_name level0\" >total_income_group</th>        <th class=\"blank\" ></th>        <th class=\"blank\" ></th>        <th class=\"blank\" ></th>        <th class=\"blank\" ></th>    </tr></thead><tbody>\n",
              "                <tr>\n",
              "                        <th id=\"T_ed675848_7fe2_11ec_a3cf_0242ac1c0002level0_row0\" class=\"row_heading level0 row0\" >высоких доход</th>\n",
              "                        <td id=\"T_ed675848_7fe2_11ec_a3cf_0242ac1c0002row0_col0\" class=\"data row0 col0\" >15675</td>\n",
              "                        <td id=\"T_ed675848_7fe2_11ec_a3cf_0242ac1c0002row0_col1\" class=\"data row0 col1\" >1387</td>\n",
              "                        <td id=\"T_ed675848_7fe2_11ec_a3cf_0242ac1c0002row0_col2\" class=\"data row0 col2\" >17062</td>\n",
              "                        <td id=\"T_ed675848_7fe2_11ec_a3cf_0242ac1c0002row0_col3\" class=\"data row0 col3\" >8.129176</td>\n",
              "            </tr>\n",
              "            <tr>\n",
              "                        <th id=\"T_ed675848_7fe2_11ec_a3cf_0242ac1c0002level0_row1\" class=\"row_heading level0 row1\" >средний доход</th>\n",
              "                        <td id=\"T_ed675848_7fe2_11ec_a3cf_0242ac1c0002row1_col0\" class=\"data row1 col0\" >3760</td>\n",
              "                        <td id=\"T_ed675848_7fe2_11ec_a3cf_0242ac1c0002row1_col1\" class=\"data row1 col1\" >331</td>\n",
              "                        <td id=\"T_ed675848_7fe2_11ec_a3cf_0242ac1c0002row1_col2\" class=\"data row1 col2\" >4091</td>\n",
              "                        <td id=\"T_ed675848_7fe2_11ec_a3cf_0242ac1c0002row1_col3\" class=\"data row1 col3\" >8.090931</td>\n",
              "            </tr>\n",
              "            <tr>\n",
              "                        <th id=\"T_ed675848_7fe2_11ec_a3cf_0242ac1c0002level0_row2\" class=\"row_heading level0 row2\" >бедный</th>\n",
              "                        <td id=\"T_ed675848_7fe2_11ec_a3cf_0242ac1c0002row2_col0\" class=\"data row2 col0\" >349</td>\n",
              "                        <td id=\"T_ed675848_7fe2_11ec_a3cf_0242ac1c0002row2_col1\" class=\"data row2 col1\" >23</td>\n",
              "                        <td id=\"T_ed675848_7fe2_11ec_a3cf_0242ac1c0002row2_col2\" class=\"data row2 col2\" >372</td>\n",
              "                        <td id=\"T_ed675848_7fe2_11ec_a3cf_0242ac1c0002row2_col3\" class=\"data row2 col3\" >6.182796</td>\n",
              "            </tr>\n",
              "    </tbody></table>"
            ],
            "text/plain": [
              "<pandas.io.formats.style.Styler at 0x7fb8c46f7650>"
            ]
          },
          "metadata": {},
          "execution_count": 94
        }
      ]
    },
    {
      "cell_type": "markdown",
      "metadata": {
        "id": "SPhhUJoVzeV9"
      },
      "source": [
        "Вывод, бедные возвращают кредиты на 2% лучше, чем остальные. Клиенты с высоким и средним доходом, так же не выходят за рамки общего среднего размера доли просрочки."
      ]
    },
    {
      "cell_type": "markdown",
      "metadata": {
        "id": "xF_g1J_TzeV-"
      },
      "source": [
        "- Как разные цели кредита влияют на его возврат в срок?"
      ]
    },
    {
      "cell_type": "code",
      "metadata": {
        "id": "nNkc7PEszeV-",
        "colab": {
          "base_uri": "https://localhost:8080/",
          "height": 237
        },
        "outputId": "255e2a02-d0e9-4dfa-b4a0-d0ee8aeb410c"
      },
      "source": [
        "data.groupby('lemm_purpose_group').agg({'debt': ['count', 'mean'],}).style.background_gradient()"
      ],
      "execution_count": 93,
      "outputs": [
        {
          "output_type": "execute_result",
          "data": {
            "text/html": [
              "<style  type=\"text/css\" >\n",
              "#T_e882d4ba_7fe2_11ec_a3cf_0242ac1c0002row0_col0{\n",
              "            background-color:  #d4d4e8;\n",
              "            color:  #000000;\n",
              "        }#T_e882d4ba_7fe2_11ec_a3cf_0242ac1c0002row0_col1,#T_e882d4ba_7fe2_11ec_a3cf_0242ac1c0002row1_col0{\n",
              "            background-color:  #023858;\n",
              "            color:  #f1f1f1;\n",
              "        }#T_e882d4ba_7fe2_11ec_a3cf_0242ac1c0002row1_col1,#T_e882d4ba_7fe2_11ec_a3cf_0242ac1c0002row3_col0{\n",
              "            background-color:  #fff7fb;\n",
              "            color:  #000000;\n",
              "        }#T_e882d4ba_7fe2_11ec_a3cf_0242ac1c0002row2_col0{\n",
              "            background-color:  #dcdaeb;\n",
              "            color:  #000000;\n",
              "        }#T_e882d4ba_7fe2_11ec_a3cf_0242ac1c0002row2_col1{\n",
              "            background-color:  #034973;\n",
              "            color:  #f1f1f1;\n",
              "        }#T_e882d4ba_7fe2_11ec_a3cf_0242ac1c0002row3_col1{\n",
              "            background-color:  #b4c4df;\n",
              "            color:  #000000;\n",
              "        }</style><table id=\"T_e882d4ba_7fe2_11ec_a3cf_0242ac1c0002\" class=\"dataframe\"><thead>    <tr>        <th class=\"blank level0\" ></th>        <th class=\"col_heading level0 col0\" colspan=2>debt</th>    </tr>    <tr>        <th class=\"blank level1\" ></th>        <th class=\"col_heading level1 col0\" >count</th>        <th class=\"col_heading level1 col1\" >mean</th>    </tr>    <tr>        <th class=\"index_name level0\" >lemm_purpose_group</th>        <th class=\"blank\" ></th>        <th class=\"blank\" ></th>    </tr></thead><tbody>\n",
              "                <tr>\n",
              "                        <th id=\"T_e882d4ba_7fe2_11ec_a3cf_0242ac1c0002level0_row0\" class=\"row_heading level0 row0\" >автокредит</th>\n",
              "                        <td id=\"T_e882d4ba_7fe2_11ec_a3cf_0242ac1c0002row0_col0\" class=\"data row0 col0\" >4315</td>\n",
              "                        <td id=\"T_e882d4ba_7fe2_11ec_a3cf_0242ac1c0002row0_col1\" class=\"data row0 col1\" >0.093395</td>\n",
              "            </tr>\n",
              "            <tr>\n",
              "                        <th id=\"T_e882d4ba_7fe2_11ec_a3cf_0242ac1c0002level0_row1\" class=\"row_heading level0 row1\" >кредит на недвижимость</th>\n",
              "                        <td id=\"T_e882d4ba_7fe2_11ec_a3cf_0242ac1c0002row1_col0\" class=\"data row1 col0\" >10840</td>\n",
              "                        <td id=\"T_e882d4ba_7fe2_11ec_a3cf_0242ac1c0002row1_col1\" class=\"data row1 col1\" >0.072140</td>\n",
              "            </tr>\n",
              "            <tr>\n",
              "                        <th id=\"T_e882d4ba_7fe2_11ec_a3cf_0242ac1c0002level0_row2\" class=\"row_heading level0 row2\" >кредит на образование</th>\n",
              "                        <td id=\"T_e882d4ba_7fe2_11ec_a3cf_0242ac1c0002row2_col0\" class=\"data row2 col0\" >4022</td>\n",
              "                        <td id=\"T_e882d4ba_7fe2_11ec_a3cf_0242ac1c0002row2_col1\" class=\"data row2 col1\" >0.091994</td>\n",
              "            </tr>\n",
              "            <tr>\n",
              "                        <th id=\"T_e882d4ba_7fe2_11ec_a3cf_0242ac1c0002level0_row3\" class=\"row_heading level0 row3\" >кредит на общие нужды</th>\n",
              "                        <td id=\"T_e882d4ba_7fe2_11ec_a3cf_0242ac1c0002row3_col0\" class=\"data row3 col0\" >2348</td>\n",
              "                        <td id=\"T_e882d4ba_7fe2_11ec_a3cf_0242ac1c0002row3_col1\" class=\"data row3 col1\" >0.079216</td>\n",
              "            </tr>\n",
              "    </tbody></table>"
            ],
            "text/plain": [
              "<pandas.io.formats.style.Styler at 0x7fb8c4ea1b90>"
            ]
          },
          "metadata": {},
          "execution_count": 93
        }
      ]
    },
    {
      "cell_type": "code",
      "metadata": {
        "id": "QNB7W5rIzeV-",
        "colab": {
          "base_uri": "https://localhost:8080/",
          "height": 206
        },
        "outputId": "396f0b80-d5a4-45e4-e7cf-fd0d196a22bb"
      },
      "source": [
        "data_pivot_p = data.pivot_table(index=['lemm_purpose_group'], columns = 'debt', values='days_employed', aggfunc='count')\n",
        "data_pivot_p.reset_index()\n",
        "data_pivot_p['Количество заемщиков в группе'] = data_pivot_p[0] + data_pivot_p[1]\n",
        "data_pivot_p['доля должников в %'] = data_pivot_p[1] / data_pivot_p['Количество заемщиков в группе'] * 100\n",
        "data_pivot_p.sort_values(by = 'доля должников в %', ascending = False).style.background_gradient()"
      ],
      "execution_count": 96,
      "outputs": [
        {
          "output_type": "execute_result",
          "data": {
            "text/html": [
              "<style  type=\"text/css\" >\n",
              "#T_f6b69ecc_7fe2_11ec_a3cf_0242ac1c0002row0_col0{\n",
              "            background-color:  #d7d6e9;\n",
              "            color:  #000000;\n",
              "        }#T_f6b69ecc_7fe2_11ec_a3cf_0242ac1c0002row0_col1{\n",
              "            background-color:  #a9bfdc;\n",
              "            color:  #000000;\n",
              "        }#T_f6b69ecc_7fe2_11ec_a3cf_0242ac1c0002row0_col2{\n",
              "            background-color:  #d4d4e8;\n",
              "            color:  #000000;\n",
              "        }#T_f6b69ecc_7fe2_11ec_a3cf_0242ac1c0002row0_col3,#T_f6b69ecc_7fe2_11ec_a3cf_0242ac1c0002row3_col0,#T_f6b69ecc_7fe2_11ec_a3cf_0242ac1c0002row3_col1,#T_f6b69ecc_7fe2_11ec_a3cf_0242ac1c0002row3_col2{\n",
              "            background-color:  #023858;\n",
              "            color:  #f1f1f1;\n",
              "        }#T_f6b69ecc_7fe2_11ec_a3cf_0242ac1c0002row1_col0{\n",
              "            background-color:  #dedcec;\n",
              "            color:  #000000;\n",
              "        }#T_f6b69ecc_7fe2_11ec_a3cf_0242ac1c0002row1_col1{\n",
              "            background-color:  #bcc7e1;\n",
              "            color:  #000000;\n",
              "        }#T_f6b69ecc_7fe2_11ec_a3cf_0242ac1c0002row1_col2{\n",
              "            background-color:  #dcdaeb;\n",
              "            color:  #000000;\n",
              "        }#T_f6b69ecc_7fe2_11ec_a3cf_0242ac1c0002row1_col3{\n",
              "            background-color:  #034973;\n",
              "            color:  #f1f1f1;\n",
              "        }#T_f6b69ecc_7fe2_11ec_a3cf_0242ac1c0002row2_col0,#T_f6b69ecc_7fe2_11ec_a3cf_0242ac1c0002row2_col1,#T_f6b69ecc_7fe2_11ec_a3cf_0242ac1c0002row2_col2,#T_f6b69ecc_7fe2_11ec_a3cf_0242ac1c0002row3_col3{\n",
              "            background-color:  #fff7fb;\n",
              "            color:  #000000;\n",
              "        }#T_f6b69ecc_7fe2_11ec_a3cf_0242ac1c0002row2_col3{\n",
              "            background-color:  #b4c4df;\n",
              "            color:  #000000;\n",
              "        }</style><table id=\"T_f6b69ecc_7fe2_11ec_a3cf_0242ac1c0002\" class=\"dataframe\"><thead>    <tr>        <th class=\"index_name level0\" >debt</th>        <th class=\"col_heading level0 col0\" >0</th>        <th class=\"col_heading level0 col1\" >1</th>        <th class=\"col_heading level0 col2\" >Количество заемщиков в группе</th>        <th class=\"col_heading level0 col3\" >доля должников в %</th>    </tr>    <tr>        <th class=\"index_name level0\" >lemm_purpose_group</th>        <th class=\"blank\" ></th>        <th class=\"blank\" ></th>        <th class=\"blank\" ></th>        <th class=\"blank\" ></th>    </tr></thead><tbody>\n",
              "                <tr>\n",
              "                        <th id=\"T_f6b69ecc_7fe2_11ec_a3cf_0242ac1c0002level0_row0\" class=\"row_heading level0 row0\" >автокредит</th>\n",
              "                        <td id=\"T_f6b69ecc_7fe2_11ec_a3cf_0242ac1c0002row0_col0\" class=\"data row0 col0\" >3912</td>\n",
              "                        <td id=\"T_f6b69ecc_7fe2_11ec_a3cf_0242ac1c0002row0_col1\" class=\"data row0 col1\" >403</td>\n",
              "                        <td id=\"T_f6b69ecc_7fe2_11ec_a3cf_0242ac1c0002row0_col2\" class=\"data row0 col2\" >4315</td>\n",
              "                        <td id=\"T_f6b69ecc_7fe2_11ec_a3cf_0242ac1c0002row0_col3\" class=\"data row0 col3\" >9.339513</td>\n",
              "            </tr>\n",
              "            <tr>\n",
              "                        <th id=\"T_f6b69ecc_7fe2_11ec_a3cf_0242ac1c0002level0_row1\" class=\"row_heading level0 row1\" >кредит на образование</th>\n",
              "                        <td id=\"T_f6b69ecc_7fe2_11ec_a3cf_0242ac1c0002row1_col0\" class=\"data row1 col0\" >3652</td>\n",
              "                        <td id=\"T_f6b69ecc_7fe2_11ec_a3cf_0242ac1c0002row1_col1\" class=\"data row1 col1\" >370</td>\n",
              "                        <td id=\"T_f6b69ecc_7fe2_11ec_a3cf_0242ac1c0002row1_col2\" class=\"data row1 col2\" >4022</td>\n",
              "                        <td id=\"T_f6b69ecc_7fe2_11ec_a3cf_0242ac1c0002row1_col3\" class=\"data row1 col3\" >9.199403</td>\n",
              "            </tr>\n",
              "            <tr>\n",
              "                        <th id=\"T_f6b69ecc_7fe2_11ec_a3cf_0242ac1c0002level0_row2\" class=\"row_heading level0 row2\" >кредит на общие нужды</th>\n",
              "                        <td id=\"T_f6b69ecc_7fe2_11ec_a3cf_0242ac1c0002row2_col0\" class=\"data row2 col0\" >2162</td>\n",
              "                        <td id=\"T_f6b69ecc_7fe2_11ec_a3cf_0242ac1c0002row2_col1\" class=\"data row2 col1\" >186</td>\n",
              "                        <td id=\"T_f6b69ecc_7fe2_11ec_a3cf_0242ac1c0002row2_col2\" class=\"data row2 col2\" >2348</td>\n",
              "                        <td id=\"T_f6b69ecc_7fe2_11ec_a3cf_0242ac1c0002row2_col3\" class=\"data row2 col3\" >7.921635</td>\n",
              "            </tr>\n",
              "            <tr>\n",
              "                        <th id=\"T_f6b69ecc_7fe2_11ec_a3cf_0242ac1c0002level0_row3\" class=\"row_heading level0 row3\" >кредит на недвижимость</th>\n",
              "                        <td id=\"T_f6b69ecc_7fe2_11ec_a3cf_0242ac1c0002row3_col0\" class=\"data row3 col0\" >10058</td>\n",
              "                        <td id=\"T_f6b69ecc_7fe2_11ec_a3cf_0242ac1c0002row3_col1\" class=\"data row3 col1\" >782</td>\n",
              "                        <td id=\"T_f6b69ecc_7fe2_11ec_a3cf_0242ac1c0002row3_col2\" class=\"data row3 col2\" >10840</td>\n",
              "                        <td id=\"T_f6b69ecc_7fe2_11ec_a3cf_0242ac1c0002row3_col3\" class=\"data row3 col3\" >7.214022</td>\n",
              "            </tr>\n",
              "    </tbody></table>"
            ],
            "text/plain": [
              "<pandas.io.formats.style.Styler at 0x7fb8c4d4ae10>"
            ]
          },
          "metadata": {},
          "execution_count": 96
        }
      ]
    },
    {
      "cell_type": "markdown",
      "metadata": {
        "id": "bBTPjlmgzeV-"
      },
      "source": [
        "**Вывод**"
      ]
    },
    {
      "cell_type": "markdown",
      "metadata": {
        "id": "VGwlsFQHzeV_"
      },
      "source": [
        "<div class=\"alert alert-block alert-info\">\n",
        "    \n",
        "С помощью сводной таблицы определили доли должников в каждой группе. Сровнив полученные доли видим что максимальное и минимальное значение отличаеться на 2%. По автокредитам просрочки возникают у 9,3% заемщиков, по кредитам на недвижимость у 7,2 % заемщиков. Думаю взаимосвязь незначительная. \n",
        "</div>"
      ]
    },
    {
      "cell_type": "markdown",
      "source": [
        "### Catboost"
      ],
      "metadata": {
        "id": "zAgWWwqlPTJv"
      }
    },
    {
      "cell_type": "code",
      "source": [
        "%pip install catboost"
      ],
      "metadata": {
        "colab": {
          "base_uri": "https://localhost:8080/"
        },
        "id": "IEI2JYEbPQPm",
        "outputId": "ee1cfca2-d7eb-4450-b1a8-1c6e2bddb15e"
      },
      "execution_count": 58,
      "outputs": [
        {
          "output_type": "stream",
          "name": "stdout",
          "text": [
            "Collecting catboost\n",
            "  Downloading catboost-1.0.4-cp37-none-manylinux1_x86_64.whl (76.1 MB)\n",
            "\u001b[K     |████████████████████████████████| 76.1 MB 71.7 MB/s \n",
            "\u001b[?25hRequirement already satisfied: numpy>=1.16.0 in /usr/local/lib/python3.7/dist-packages (from catboost) (1.19.5)\n",
            "Requirement already satisfied: scipy in /usr/local/lib/python3.7/dist-packages (from catboost) (1.4.1)\n",
            "Requirement already satisfied: pandas>=0.24.0 in /usr/local/lib/python3.7/dist-packages (from catboost) (1.1.5)\n",
            "Requirement already satisfied: matplotlib in /usr/local/lib/python3.7/dist-packages (from catboost) (3.2.2)\n",
            "Requirement already satisfied: plotly in /usr/local/lib/python3.7/dist-packages (from catboost) (5.5.0)\n",
            "Requirement already satisfied: six in /usr/local/lib/python3.7/dist-packages (from catboost) (1.15.0)\n",
            "Requirement already satisfied: graphviz in /usr/local/lib/python3.7/dist-packages (from catboost) (0.10.1)\n",
            "Requirement already satisfied: python-dateutil>=2.7.3 in /usr/local/lib/python3.7/dist-packages (from pandas>=0.24.0->catboost) (2.8.2)\n",
            "Requirement already satisfied: pytz>=2017.2 in /usr/local/lib/python3.7/dist-packages (from pandas>=0.24.0->catboost) (2018.9)\n",
            "Requirement already satisfied: cycler>=0.10 in /usr/local/lib/python3.7/dist-packages (from matplotlib->catboost) (0.11.0)\n",
            "Requirement already satisfied: pyparsing!=2.0.4,!=2.1.2,!=2.1.6,>=2.0.1 in /usr/local/lib/python3.7/dist-packages (from matplotlib->catboost) (3.0.7)\n",
            "Requirement already satisfied: kiwisolver>=1.0.1 in /usr/local/lib/python3.7/dist-packages (from matplotlib->catboost) (1.3.2)\n",
            "Requirement already satisfied: tenacity>=6.2.0 in /usr/local/lib/python3.7/dist-packages (from plotly->catboost) (8.0.1)\n",
            "Installing collected packages: catboost\n",
            "Successfully installed catboost-1.0.4\n"
          ]
        }
      ]
    },
    {
      "cell_type": "code",
      "source": [
        "train = data.sample(frac=0.7,random_state=42).copy()"
      ],
      "metadata": {
        "id": "t38gKVX4PQS4"
      },
      "execution_count": 59,
      "outputs": []
    },
    {
      "cell_type": "code",
      "source": [
        "val = data[~data.index.isin(train.index)].copy()"
      ],
      "metadata": {
        "id": "rr85ey4bPQWF"
      },
      "execution_count": 60,
      "outputs": []
    },
    {
      "cell_type": "code",
      "source": [
        "data.columns"
      ],
      "metadata": {
        "colab": {
          "base_uri": "https://localhost:8080/"
        },
        "id": "ycyurZ-1PQZi",
        "outputId": "928696d9-0c45-4d65-a4f9-7a1c3a2498a5"
      },
      "execution_count": 61,
      "outputs": [
        {
          "output_type": "execute_result",
          "data": {
            "text/plain": [
              "Index(['children', 'days_employed', 'dob_years', 'education', 'education_id',\n",
              "       'family_status', 'family_status_id', 'gender', 'income_type', 'debt',\n",
              "       'total_income', 'purpose', 'lemm_purpose', 'lemm_purpose_group',\n",
              "       'dob_age_group', 'dob_children_group', 'total_income_group',\n",
              "       'family_status_group'],\n",
              "      dtype='object')"
            ]
          },
          "metadata": {},
          "execution_count": 61
        }
      ]
    },
    {
      "cell_type": "code",
      "source": [
        "X_col = ['children', 'days_employed', 'dob_years', 'education', \n",
        "       'family_status', 'gender', 'income_type',\n",
        "       'total_income', 'purpose']\n",
        "y_col = ['debt']\n",
        "cat_features = ['education', 'family_status', 'gender', 'income_type', 'purpose']"
      ],
      "metadata": {
        "id": "GUUuaAzEQSd5"
      },
      "execution_count": 62,
      "outputs": []
    },
    {
      "cell_type": "code",
      "source": [
        ""
      ],
      "metadata": {
        "id": "0l7OUBRUQSg5"
      },
      "execution_count": 62,
      "outputs": []
    },
    {
      "cell_type": "code",
      "metadata": {
        "id": "M8ZbI_OR-Dpp"
      },
      "source": [
        "from catboost import CatBoostClassifier\n",
        "\n",
        "model = CatBoostClassifier(verbose=100)"
      ],
      "execution_count": 63,
      "outputs": []
    },
    {
      "cell_type": "code",
      "metadata": {
        "colab": {
          "base_uri": "https://localhost:8080/"
        },
        "id": "fkB0z7Xn-YEs",
        "outputId": "3c22fe44-4f5c-4b70-879e-2131dd2453e1"
      },
      "source": [
        "model.fit(train[X_col],train[y_col],\n",
        "          \n",
        "          eval_set=(val[X_col],val[y_col]),\n",
        "\n",
        "          cat_features=cat_features\n",
        "          )"
      ],
      "execution_count": 64,
      "outputs": [
        {
          "output_type": "stream",
          "name": "stdout",
          "text": [
            "Learning rate set to 0.061927\n",
            "0:\tlearn: 0.6311789\ttest: 0.6313755\tbest: 0.6313755 (0)\ttotal: 102ms\tremaining: 1m 42s\n",
            "100:\tlearn: 0.2652238\ttest: 0.2751054\tbest: 0.2750695 (99)\ttotal: 1.93s\tremaining: 17.1s\n",
            "200:\tlearn: 0.2564349\ttest: 0.2752236\tbest: 0.2748152 (151)\ttotal: 3.54s\tremaining: 14.1s\n",
            "300:\tlearn: 0.2487991\ttest: 0.2766217\tbest: 0.2748152 (151)\ttotal: 5.28s\tremaining: 12.3s\n",
            "400:\tlearn: 0.2407642\ttest: 0.2775884\tbest: 0.2748152 (151)\ttotal: 9.3s\tremaining: 13.9s\n",
            "500:\tlearn: 0.2331721\ttest: 0.2790260\tbest: 0.2748152 (151)\ttotal: 13.8s\tremaining: 13.7s\n",
            "600:\tlearn: 0.2254975\ttest: 0.2800057\tbest: 0.2748152 (151)\ttotal: 18.3s\tremaining: 12.2s\n",
            "700:\tlearn: 0.2179037\ttest: 0.2812655\tbest: 0.2748152 (151)\ttotal: 23.1s\tremaining: 9.84s\n",
            "800:\tlearn: 0.2112815\ttest: 0.2827153\tbest: 0.2748152 (151)\ttotal: 27.8s\tremaining: 6.91s\n",
            "900:\tlearn: 0.2050240\ttest: 0.2834385\tbest: 0.2748152 (151)\ttotal: 30.8s\tremaining: 3.38s\n",
            "999:\tlearn: 0.1990043\ttest: 0.2847243\tbest: 0.2748152 (151)\ttotal: 32.5s\tremaining: 0us\n",
            "\n",
            "bestTest = 0.2748152181\n",
            "bestIteration = 151\n",
            "\n",
            "Shrink model to first 152 iterations.\n"
          ]
        },
        {
          "output_type": "execute_result",
          "data": {
            "text/plain": [
              "<catboost.core.CatBoostClassifier at 0x7fb8d38f7c90>"
            ]
          },
          "metadata": {},
          "execution_count": 64
        }
      ]
    },
    {
      "cell_type": "code",
      "metadata": {
        "colab": {
          "base_uri": "https://localhost:8080/"
        },
        "id": "jwHu09uT_Zf5",
        "outputId": "ab1e1755-a2e4-44b4-afe2-f2dce8c0ac2f"
      },
      "source": [
        "model.predict_proba(val[X_col])[:,1]"
      ],
      "execution_count": 65,
      "outputs": [
        {
          "output_type": "execute_result",
          "data": {
            "text/plain": [
              "array([0.08289862, 0.0568552 , 0.09140005, ..., 0.06256002, 0.11664543,\n",
              "       0.08919351])"
            ]
          },
          "metadata": {},
          "execution_count": 65
        }
      ]
    },
    {
      "cell_type": "code",
      "metadata": {
        "id": "IAZHTou4Aba3"
      },
      "source": [
        "val['score_cat'] = model.predict_proba(val[X_col])[:,1]"
      ],
      "execution_count": 66,
      "outputs": []
    },
    {
      "cell_type": "code",
      "metadata": {
        "id": "RE1hE1m9BH8j"
      },
      "source": [
        "fi = pd.DataFrame({'w':model.feature_importances_,'name':X_col})"
      ],
      "execution_count": 67,
      "outputs": []
    },
    {
      "cell_type": "code",
      "metadata": {
        "id": "RNqaWtVTB5-I"
      },
      "source": [
        "fi.sort_values('w',ascending=False,inplace=True)"
      ],
      "execution_count": 68,
      "outputs": []
    },
    {
      "cell_type": "code",
      "metadata": {
        "colab": {
          "base_uri": "https://localhost:8080/",
          "height": 332
        },
        "id": "qG4aTmRKCENt",
        "outputId": "ebdfbd95-cc24-45e8-b014-4b13516ef857"
      },
      "source": [
        "fi"
      ],
      "execution_count": 69,
      "outputs": [
        {
          "output_type": "execute_result",
          "data": {
            "text/html": [
              "\n",
              "  <div id=\"df-2e1a3663-d3a7-40d1-a9c6-85180243dead\">\n",
              "    <div class=\"colab-df-container\">\n",
              "      <div>\n",
              "<style scoped>\n",
              "    .dataframe tbody tr th:only-of-type {\n",
              "        vertical-align: middle;\n",
              "    }\n",
              "\n",
              "    .dataframe tbody tr th {\n",
              "        vertical-align: top;\n",
              "    }\n",
              "\n",
              "    .dataframe thead th {\n",
              "        text-align: right;\n",
              "    }\n",
              "</style>\n",
              "<table border=\"1\" class=\"dataframe\">\n",
              "  <thead>\n",
              "    <tr style=\"text-align: right;\">\n",
              "      <th></th>\n",
              "      <th>w</th>\n",
              "      <th>name</th>\n",
              "    </tr>\n",
              "  </thead>\n",
              "  <tbody>\n",
              "    <tr>\n",
              "      <th>3</th>\n",
              "      <td>18.598993</td>\n",
              "      <td>education</td>\n",
              "    </tr>\n",
              "    <tr>\n",
              "      <th>8</th>\n",
              "      <td>16.166976</td>\n",
              "      <td>purpose</td>\n",
              "    </tr>\n",
              "    <tr>\n",
              "      <th>1</th>\n",
              "      <td>12.933326</td>\n",
              "      <td>days_employed</td>\n",
              "    </tr>\n",
              "    <tr>\n",
              "      <th>5</th>\n",
              "      <td>11.555610</td>\n",
              "      <td>gender</td>\n",
              "    </tr>\n",
              "    <tr>\n",
              "      <th>2</th>\n",
              "      <td>11.511732</td>\n",
              "      <td>dob_years</td>\n",
              "    </tr>\n",
              "    <tr>\n",
              "      <th>4</th>\n",
              "      <td>10.461121</td>\n",
              "      <td>family_status</td>\n",
              "    </tr>\n",
              "    <tr>\n",
              "      <th>7</th>\n",
              "      <td>7.959885</td>\n",
              "      <td>total_income</td>\n",
              "    </tr>\n",
              "    <tr>\n",
              "      <th>6</th>\n",
              "      <td>5.695443</td>\n",
              "      <td>income_type</td>\n",
              "    </tr>\n",
              "    <tr>\n",
              "      <th>0</th>\n",
              "      <td>5.116914</td>\n",
              "      <td>children</td>\n",
              "    </tr>\n",
              "  </tbody>\n",
              "</table>\n",
              "</div>\n",
              "      <button class=\"colab-df-convert\" onclick=\"convertToInteractive('df-2e1a3663-d3a7-40d1-a9c6-85180243dead')\"\n",
              "              title=\"Convert this dataframe to an interactive table.\"\n",
              "              style=\"display:none;\">\n",
              "        \n",
              "  <svg xmlns=\"http://www.w3.org/2000/svg\" height=\"24px\"viewBox=\"0 0 24 24\"\n",
              "       width=\"24px\">\n",
              "    <path d=\"M0 0h24v24H0V0z\" fill=\"none\"/>\n",
              "    <path d=\"M18.56 5.44l.94 2.06.94-2.06 2.06-.94-2.06-.94-.94-2.06-.94 2.06-2.06.94zm-11 1L8.5 8.5l.94-2.06 2.06-.94-2.06-.94L8.5 2.5l-.94 2.06-2.06.94zm10 10l.94 2.06.94-2.06 2.06-.94-2.06-.94-.94-2.06-.94 2.06-2.06.94z\"/><path d=\"M17.41 7.96l-1.37-1.37c-.4-.4-.92-.59-1.43-.59-.52 0-1.04.2-1.43.59L10.3 9.45l-7.72 7.72c-.78.78-.78 2.05 0 2.83L4 21.41c.39.39.9.59 1.41.59.51 0 1.02-.2 1.41-.59l7.78-7.78 2.81-2.81c.8-.78.8-2.07 0-2.86zM5.41 20L4 18.59l7.72-7.72 1.47 1.35L5.41 20z\"/>\n",
              "  </svg>\n",
              "      </button>\n",
              "      \n",
              "  <style>\n",
              "    .colab-df-container {\n",
              "      display:flex;\n",
              "      flex-wrap:wrap;\n",
              "      gap: 12px;\n",
              "    }\n",
              "\n",
              "    .colab-df-convert {\n",
              "      background-color: #E8F0FE;\n",
              "      border: none;\n",
              "      border-radius: 50%;\n",
              "      cursor: pointer;\n",
              "      display: none;\n",
              "      fill: #1967D2;\n",
              "      height: 32px;\n",
              "      padding: 0 0 0 0;\n",
              "      width: 32px;\n",
              "    }\n",
              "\n",
              "    .colab-df-convert:hover {\n",
              "      background-color: #E2EBFA;\n",
              "      box-shadow: 0px 1px 2px rgba(60, 64, 67, 0.3), 0px 1px 3px 1px rgba(60, 64, 67, 0.15);\n",
              "      fill: #174EA6;\n",
              "    }\n",
              "\n",
              "    [theme=dark] .colab-df-convert {\n",
              "      background-color: #3B4455;\n",
              "      fill: #D2E3FC;\n",
              "    }\n",
              "\n",
              "    [theme=dark] .colab-df-convert:hover {\n",
              "      background-color: #434B5C;\n",
              "      box-shadow: 0px 1px 3px 1px rgba(0, 0, 0, 0.15);\n",
              "      filter: drop-shadow(0px 1px 2px rgba(0, 0, 0, 0.3));\n",
              "      fill: #FFFFFF;\n",
              "    }\n",
              "  </style>\n",
              "\n",
              "      <script>\n",
              "        const buttonEl =\n",
              "          document.querySelector('#df-2e1a3663-d3a7-40d1-a9c6-85180243dead button.colab-df-convert');\n",
              "        buttonEl.style.display =\n",
              "          google.colab.kernel.accessAllowed ? 'block' : 'none';\n",
              "\n",
              "        async function convertToInteractive(key) {\n",
              "          const element = document.querySelector('#df-2e1a3663-d3a7-40d1-a9c6-85180243dead');\n",
              "          const dataTable =\n",
              "            await google.colab.kernel.invokeFunction('convertToInteractive',\n",
              "                                                     [key], {});\n",
              "          if (!dataTable) return;\n",
              "\n",
              "          const docLinkHtml = 'Like what you see? Visit the ' +\n",
              "            '<a target=\"_blank\" href=https://colab.research.google.com/notebooks/data_table.ipynb>data table notebook</a>'\n",
              "            + ' to learn more about interactive tables.';\n",
              "          element.innerHTML = '';\n",
              "          dataTable['output_type'] = 'display_data';\n",
              "          await google.colab.output.renderOutput(dataTable, element);\n",
              "          const docLink = document.createElement('div');\n",
              "          docLink.innerHTML = docLinkHtml;\n",
              "          element.appendChild(docLink);\n",
              "        }\n",
              "      </script>\n",
              "    </div>\n",
              "  </div>\n",
              "  "
            ],
            "text/plain": [
              "           w           name\n",
              "3  18.598993      education\n",
              "8  16.166976        purpose\n",
              "1  12.933326  days_employed\n",
              "5  11.555610         gender\n",
              "2  11.511732      dob_years\n",
              "4  10.461121  family_status\n",
              "7   7.959885   total_income\n",
              "6   5.695443    income_type\n",
              "0   5.116914       children"
            ]
          },
          "metadata": {},
          "execution_count": 69
        }
      ]
    },
    {
      "cell_type": "code",
      "metadata": {
        "id": "vuSGwO3dCKTM",
        "colab": {
          "base_uri": "https://localhost:8080/"
        },
        "outputId": "8cc034c9-2a7a-4bda-989f-eeae9ca32bca"
      },
      "source": [
        "model.predict_proba(val[X_col])[:,1]"
      ],
      "execution_count": 70,
      "outputs": [
        {
          "output_type": "execute_result",
          "data": {
            "text/plain": [
              "array([0.08289862, 0.0568552 , 0.09140005, ..., 0.06256002, 0.11664543,\n",
              "       0.08919351])"
            ]
          },
          "metadata": {},
          "execution_count": 70
        }
      ]
    },
    {
      "cell_type": "code",
      "source": [
        ""
      ],
      "metadata": {
        "id": "-UaxoCfqQSmx"
      },
      "execution_count": 70,
      "outputs": []
    },
    {
      "cell_type": "markdown",
      "source": [
        "### SQL"
      ],
      "metadata": {
        "id": "IY10_HRtb_sC"
      }
    },
    {
      "cell_type": "code",
      "source": [
        "!wget https://www.sqlite.org/src/tarball/sqlite.tar.gz?r=release -O sqlite.tar.gz\n",
        "!tar xzf sqlite.tar.gz\n",
        "%cd sqlite/\n",
        "!./configure\n",
        "!make sqlite3.c\n",
        "%cd /content\n",
        "!npx degit coleifer/pysqlite3 -f\n",
        "!cp sqlite/sqlite3.[ch] .\n",
        "!python setup.py build_static build\n",
        "!cp build/lib.linux-x86_64-3.6/pysqlite3/_sqlite3.cpython-36m-x86_64-linux-gnu.so \\\n",
        "    /usr/lib/python3.6/lib-dynload/_sqlite3.cpython-36m-x86_64-linux-gnu.so"
      ],
      "metadata": {
        "id": "Sy51u0FCQSu-"
      },
      "execution_count": null,
      "outputs": []
    },
    {
      "cell_type": "code",
      "source": [
        ""
      ],
      "metadata": {
        "id": "3OF-QWQ9cHyU"
      },
      "execution_count": 71,
      "outputs": []
    },
    {
      "cell_type": "code",
      "metadata": {
        "id": "IfcqH38_MLIB"
      },
      "source": [
        "import sqlite3"
      ],
      "execution_count": 72,
      "outputs": []
    },
    {
      "cell_type": "code",
      "metadata": {
        "colab": {
          "base_uri": "https://localhost:8080/",
          "height": 34
        },
        "id": "ooHiQH-fMitn",
        "outputId": "0c8a100e-8c4d-43df-a9b1-efc056c314d3"
      },
      "source": [
        "sqlite3.sqlite_version"
      ],
      "execution_count": 73,
      "outputs": [
        {
          "output_type": "execute_result",
          "data": {
            "application/vnd.google.colaboratory.intrinsic+json": {
              "type": "string"
            },
            "text/plain": [
              "'3.22.0'"
            ]
          },
          "metadata": {},
          "execution_count": 73
        }
      ]
    },
    {
      "cell_type": "code",
      "source": [
        ""
      ],
      "metadata": {
        "id": "6qWkTHmkcH4f"
      },
      "execution_count": 73,
      "outputs": []
    },
    {
      "cell_type": "code",
      "metadata": {
        "id": "IcaHTsR4PAke"
      },
      "source": [
        "conn = sqlite3.connect('db')\n",
        "cur = conn.cursor()"
      ],
      "execution_count": 74,
      "outputs": []
    },
    {
      "cell_type": "code",
      "metadata": {
        "id": "bwL26S7pPHKW"
      },
      "source": [
        "def select(sql):\n",
        "  return pd.read_sql(sql,conn)"
      ],
      "execution_count": 75,
      "outputs": []
    },
    {
      "cell_type": "markdown",
      "metadata": {
        "id": "uOsW79Q8PMG2"
      },
      "source": [
        "Теперь зальем таблу и проверим, что все ок"
      ]
    },
    {
      "cell_type": "code",
      "metadata": {
        "id": "ITydiaQ_PPpH"
      },
      "source": [
        "data.to_sql('ecommerce',conn,index=False,if_exists='replace')"
      ],
      "execution_count": 76,
      "outputs": []
    },
    {
      "cell_type": "code",
      "metadata": {
        "id": "Gu7KDwNmPcNu"
      },
      "source": [
        "sql = '''select count(*) from ecommerce t'''"
      ],
      "execution_count": 77,
      "outputs": []
    },
    {
      "cell_type": "code",
      "metadata": {
        "id": "YJK1pSCBPgh8",
        "colab": {
          "base_uri": "https://localhost:8080/",
          "height": 81
        },
        "outputId": "6288db0a-92a7-4f9a-a8d9-76336b436519"
      },
      "source": [
        "select(sql)"
      ],
      "execution_count": 78,
      "outputs": [
        {
          "output_type": "execute_result",
          "data": {
            "text/html": [
              "\n",
              "  <div id=\"df-d1fea682-778d-4418-bbc4-0eaddbf77ccf\">\n",
              "    <div class=\"colab-df-container\">\n",
              "      <div>\n",
              "<style scoped>\n",
              "    .dataframe tbody tr th:only-of-type {\n",
              "        vertical-align: middle;\n",
              "    }\n",
              "\n",
              "    .dataframe tbody tr th {\n",
              "        vertical-align: top;\n",
              "    }\n",
              "\n",
              "    .dataframe thead th {\n",
              "        text-align: right;\n",
              "    }\n",
              "</style>\n",
              "<table border=\"1\" class=\"dataframe\">\n",
              "  <thead>\n",
              "    <tr style=\"text-align: right;\">\n",
              "      <th></th>\n",
              "      <th>count(*)</th>\n",
              "    </tr>\n",
              "  </thead>\n",
              "  <tbody>\n",
              "    <tr>\n",
              "      <th>0</th>\n",
              "      <td>21525</td>\n",
              "    </tr>\n",
              "  </tbody>\n",
              "</table>\n",
              "</div>\n",
              "      <button class=\"colab-df-convert\" onclick=\"convertToInteractive('df-d1fea682-778d-4418-bbc4-0eaddbf77ccf')\"\n",
              "              title=\"Convert this dataframe to an interactive table.\"\n",
              "              style=\"display:none;\">\n",
              "        \n",
              "  <svg xmlns=\"http://www.w3.org/2000/svg\" height=\"24px\"viewBox=\"0 0 24 24\"\n",
              "       width=\"24px\">\n",
              "    <path d=\"M0 0h24v24H0V0z\" fill=\"none\"/>\n",
              "    <path d=\"M18.56 5.44l.94 2.06.94-2.06 2.06-.94-2.06-.94-.94-2.06-.94 2.06-2.06.94zm-11 1L8.5 8.5l.94-2.06 2.06-.94-2.06-.94L8.5 2.5l-.94 2.06-2.06.94zm10 10l.94 2.06.94-2.06 2.06-.94-2.06-.94-.94-2.06-.94 2.06-2.06.94z\"/><path d=\"M17.41 7.96l-1.37-1.37c-.4-.4-.92-.59-1.43-.59-.52 0-1.04.2-1.43.59L10.3 9.45l-7.72 7.72c-.78.78-.78 2.05 0 2.83L4 21.41c.39.39.9.59 1.41.59.51 0 1.02-.2 1.41-.59l7.78-7.78 2.81-2.81c.8-.78.8-2.07 0-2.86zM5.41 20L4 18.59l7.72-7.72 1.47 1.35L5.41 20z\"/>\n",
              "  </svg>\n",
              "      </button>\n",
              "      \n",
              "  <style>\n",
              "    .colab-df-container {\n",
              "      display:flex;\n",
              "      flex-wrap:wrap;\n",
              "      gap: 12px;\n",
              "    }\n",
              "\n",
              "    .colab-df-convert {\n",
              "      background-color: #E8F0FE;\n",
              "      border: none;\n",
              "      border-radius: 50%;\n",
              "      cursor: pointer;\n",
              "      display: none;\n",
              "      fill: #1967D2;\n",
              "      height: 32px;\n",
              "      padding: 0 0 0 0;\n",
              "      width: 32px;\n",
              "    }\n",
              "\n",
              "    .colab-df-convert:hover {\n",
              "      background-color: #E2EBFA;\n",
              "      box-shadow: 0px 1px 2px rgba(60, 64, 67, 0.3), 0px 1px 3px 1px rgba(60, 64, 67, 0.15);\n",
              "      fill: #174EA6;\n",
              "    }\n",
              "\n",
              "    [theme=dark] .colab-df-convert {\n",
              "      background-color: #3B4455;\n",
              "      fill: #D2E3FC;\n",
              "    }\n",
              "\n",
              "    [theme=dark] .colab-df-convert:hover {\n",
              "      background-color: #434B5C;\n",
              "      box-shadow: 0px 1px 3px 1px rgba(0, 0, 0, 0.15);\n",
              "      filter: drop-shadow(0px 1px 2px rgba(0, 0, 0, 0.3));\n",
              "      fill: #FFFFFF;\n",
              "    }\n",
              "  </style>\n",
              "\n",
              "      <script>\n",
              "        const buttonEl =\n",
              "          document.querySelector('#df-d1fea682-778d-4418-bbc4-0eaddbf77ccf button.colab-df-convert');\n",
              "        buttonEl.style.display =\n",
              "          google.colab.kernel.accessAllowed ? 'block' : 'none';\n",
              "\n",
              "        async function convertToInteractive(key) {\n",
              "          const element = document.querySelector('#df-d1fea682-778d-4418-bbc4-0eaddbf77ccf');\n",
              "          const dataTable =\n",
              "            await google.colab.kernel.invokeFunction('convertToInteractive',\n",
              "                                                     [key], {});\n",
              "          if (!dataTable) return;\n",
              "\n",
              "          const docLinkHtml = 'Like what you see? Visit the ' +\n",
              "            '<a target=\"_blank\" href=https://colab.research.google.com/notebooks/data_table.ipynb>data table notebook</a>'\n",
              "            + ' to learn more about interactive tables.';\n",
              "          element.innerHTML = '';\n",
              "          dataTable['output_type'] = 'display_data';\n",
              "          await google.colab.output.renderOutput(dataTable, element);\n",
              "          const docLink = document.createElement('div');\n",
              "          docLink.innerHTML = docLinkHtml;\n",
              "          element.appendChild(docLink);\n",
              "        }\n",
              "      </script>\n",
              "    </div>\n",
              "  </div>\n",
              "  "
            ],
            "text/plain": [
              "   count(*)\n",
              "0     21525"
            ]
          },
          "metadata": {},
          "execution_count": 78
        }
      ]
    },
    {
      "cell_type": "code",
      "source": [
        "sql = '''select * from ecommerce t limit 5'''"
      ],
      "metadata": {
        "id": "nZpkZpo9digV"
      },
      "execution_count": 79,
      "outputs": []
    },
    {
      "cell_type": "code",
      "metadata": {
        "id": "SdBk4cq7PvKE",
        "colab": {
          "base_uri": "https://localhost:8080/"
        },
        "outputId": "75d79fe4-3056-494f-a15e-df363dbae011"
      },
      "source": [
        "select(sql).dtypes"
      ],
      "execution_count": 80,
      "outputs": [
        {
          "output_type": "execute_result",
          "data": {
            "text/plain": [
              "children                 int64\n",
              "days_employed            int64\n",
              "dob_years              float64\n",
              "education               object\n",
              "education_id             int64\n",
              "family_status           object\n",
              "family_status_id         int64\n",
              "gender                  object\n",
              "income_type             object\n",
              "debt                     int64\n",
              "total_income           float64\n",
              "purpose                 object\n",
              "lemm_purpose            object\n",
              "lemm_purpose_group      object\n",
              "dob_age_group           object\n",
              "dob_children_group      object\n",
              "total_income_group      object\n",
              "family_status_group      int64\n",
              "dtype: object"
            ]
          },
          "metadata": {},
          "execution_count": 80
        }
      ]
    },
    {
      "cell_type": "code",
      "source": [
        ""
      ],
      "metadata": {
        "id": "CtWuCZ9wcIAF"
      },
      "execution_count": 80,
      "outputs": []
    },
    {
      "cell_type": "markdown",
      "metadata": {
        "id": "Dovb4JN4zeWA"
      },
      "source": [
        "## Шаг 4. Общий вывод"
      ]
    },
    {
      "cell_type": "markdown",
      "metadata": {
        "id": "p4hN3yGIzeWA"
      },
      "source": [
        "\n",
        "<div class=\"alert alert-block alert-info\">\n",
        "<b>Комментарий от студента</b> <a class=\"tocSkip\"></a>\n",
        "    \n",
        "    \n",
        "Нам была дана таблица с информацией о заемщика имющих разные параметры. Нам было необходимо определить как влияет семейное положение, количество детей, уровень доходаи, цель кредина на возврат кредита в срок. Для этого мы проанализировали таблицу, выявили пропуски и земенили на среднее значение по соответствующей группе, визуально определили дубликаты, часть дубликатов удалили, часть из них исчезла после приведения стороки к нижнему регистру, заменили неправдоподобные значения. Используя инструмены pandas мы убрали весь мусор и привели данные к необходимому типу. Затем катологизировали данные для более наглядного расчета необходимых параметров. Используя группировку данных по заданным столбцам мы вывели выводы по столбу 'dept' через количество, сумму и среднее значение, что позволило нам заявить об присутствии связи между количеством детей и возвратом кредита в срок. К примеру 10 % заёмщиков имеющх 20 детей имеют просрочку по кредиту. С помощью сводных таблиц определи взамосвять не только между количеством детей и просрочкой, но и добавили взаимосвязь от возраста, дохода и цели кредита. \n",
        "    \n",
        "    \n",
        "   К примеру:\n",
        "    - 18 % молодых заемщиков имеющих одного ребенка имеют еще и просроченную задолженность. Самые добропорядочные заемщики - старые заемщики без детей, всего 5 %.\n",
        "    - почти 15% заемщиков имеющих 3 детей и берущих кредит на общие нужды плохо платят. Лучше всего платят заемщики имеющие 2 детей и берущие кредит на общие нужды - 5%.\n",
        "    - Хуже всех платят бедные с 3 детьми - 20%. Лучше всех - бедные бездетные 5%.\n",
        "   \n",
        "</div>\n"
      ]
    },
    {
      "cell_type": "markdown",
      "metadata": {
        "id": "QNA_rNqLzeWA"
      },
      "source": [
        "## Чек-лист готовности проекта\n",
        "\n",
        "Поставьте 'x' в выполненных пунктах. Далее нажмите Shift+Enter."
      ]
    },
    {
      "cell_type": "markdown",
      "metadata": {
        "id": "ei04a-ZHzeWB"
      },
      "source": [
        "- [x]  открыт файл;\n",
        "- [x]  файл изучен;\n",
        "- [x]  определены пропущенные значения;\n",
        "- [x]  заполнены пропущенные значения;\n",
        "- [x]  есть пояснение, какие пропущенные значения обнаружены;\n",
        "- [x]  описаны возможные причины появления пропусков в данных;\n",
        "- [x]  объяснено, по какому принципу заполнены пропуски;\n",
        "- [x]  заменен вещественный тип данных на целочисленный;\n",
        "- [x]  есть пояснение, какой метод используется для изменения типа данных и почему;\n",
        "- [x]  удалены дубликаты;\n",
        "- [x]  есть пояснение, какой метод используется для поиска и удаления дубликатов;\n",
        "- [x]  описаны возможные причины появления дубликатов в данных;\n",
        "- [x]  выделены леммы в значениях столбца с целями получения кредита;\n",
        "- [x]  описан процесс лемматизации;\n",
        "- [x]  данные категоризированы;\n",
        "- [x]  есть объяснение принципа категоризации данных;\n",
        "- [x]  есть ответ на вопрос: \"Есть ли зависимость между наличием детей и возвратом кредита в срок?\";\n",
        "- [x]  есть ответ на вопрос: \"Есть ли зависимость между семейным положением и возвратом кредита в срок?\";\n",
        "- [x]  есть ответ на вопрос: \"Есть ли зависимость между уровнем дохода и возвратом кредита в срок?\";\n",
        "- [x]  есть ответ на вопрос: \"Как разные цели кредита влияют на его возврат в срок?\";\n",
        "- [x]  в каждом этапе есть выводы;\n",
        "- [x]  есть общий вывод."
      ]
    }
  ]
}