{
  "nbformat": 4,
  "nbformat_minor": 0,
  "metadata": {
    "kernelspec": {
      "display_name": "Python 3",
      "language": "python",
      "name": "python3"
    },
    "language_info": {
      "codemirror_mode": {
        "name": "ipython",
        "version": 3
      },
      "file_extension": ".py",
      "mimetype": "text/x-python",
      "name": "python",
      "nbconvert_exporter": "python",
      "pygments_lexer": "ipython3",
      "version": "3.7.8"
    },
    "toc": {
      "base_numbering": 1,
      "nav_menu": {},
      "number_sections": true,
      "sideBar": true,
      "skip_h1_title": true,
      "title_cell": "Содержание",
      "title_sidebar": "Contents",
      "toc_cell": true,
      "toc_position": {
        "height": "calc(100% - 180px)",
        "left": "10px",
        "top": "150px",
        "width": "165px"
      },
      "toc_section_display": true,
      "toc_window_display": false
    },
    "colab": {
      "name": "Исследование_объявлений_о_продаже_квартир\"",
      "provenance": [],
      "collapsed_sections": [
        "nkbXikxSi8CJ",
        "PXWyAHONi8CL"
      ],
      "toc_visible": true,
      "include_colab_link": true
    }
  },
  "cells": [
    {
      "cell_type": "markdown",
      "metadata": {
        "id": "view-in-github",
        "colab_type": "text"
      },
      "source": [
        "<a href=\"https://colab.research.google.com/github/raspopovaa/Pet-Project-Data-Analyst/blob/main/%D0%98%D1%81%D1%81%D0%BB%D0%B5%D0%B4%D0%BE%D0%B2%D0%B0%D0%BD%D0%B8%D0%B5_%D0%BE%D0%B1%D1%8A%D1%8F%D0%B2%D0%BB%D0%B5%D0%BD%D0%B8%D0%B9_%D0%BE_%D0%BF%D1%80%D0%BE%D0%B4%D0%B0%D0%B6%D0%B5_%D0%BA%D0%B2%D0%B0%D1%80%D1%82%D0%B8%D1%80%22.ipynb\" target=\"_parent\"><img src=\"https://colab.research.google.com/assets/colab-badge.svg\" alt=\"Open In Colab\"/></a>"
      ]
    },
    {
      "cell_type": "markdown",
      "metadata": {
        "id": "Q2hk31Pvi8BX"
      },
      "source": [
        "# Исследование объявлений о продаже квартир\n",
        "\n",
        "В вашем распоряжении данные сервиса Яндекс.Недвижимость — архив объявлений о продаже квартир в Санкт-Петербурге и соседних населённых пунктах за несколько лет. Нужно научиться определять рыночную стоимость объектов недвижимости. Ваша задача — установить параметры. Это позволит построить автоматизированную систему: она отследит аномалии и мошенническую деятельность. \n",
        "\n",
        "По каждой квартире на продажу доступны два вида данных. Первые вписаны пользователем, вторые получены автоматически на основе картографических данных. Например, расстояние до центра, аэропорта, ближайшего парка и водоёма. "
      ]
    },
    {
      "cell_type": "markdown",
      "metadata": {
        "id": "hY9CGw1Ei8BY"
      },
      "source": [
        "## Изучение данных из файла"
      ]
    },
    {
      "cell_type": "markdown",
      "source": [
        "Импортируем бнеобходимые библиотеки"
      ],
      "metadata": {
        "id": "iZ_B4T4OSGWV"
      }
    },
    {
      "cell_type": "code",
      "metadata": {
        "id": "2qLvqujWi8Ba"
      },
      "source": [
        "import matplotlib.pyplot as plt\n",
        "from datetime import datetime, time\n",
        "import numpy as np\n",
        "import seaborn as sn\n",
        "import pandas as pd"
      ],
      "execution_count": 1,
      "outputs": []
    },
    {
      "cell_type": "code",
      "metadata": {
        "id": "LyUP55zWi8Bb"
      },
      "source": [
        "pd.set_option('display.max_columns', None)"
      ],
      "execution_count": 2,
      "outputs": []
    },
    {
      "cell_type": "code",
      "metadata": {
        "id": "MqnG_Albi8Ba"
      },
      "source": [
        "pd.set_option('display.float_format', lambda x: '%.3f' % x)"
      ],
      "execution_count": 3,
      "outputs": []
    },
    {
      "cell_type": "code",
      "metadata": {
        "id": "TgKjxse3i8Bb"
      },
      "source": [
        "pd.set_option('display.max_rows', None)"
      ],
      "execution_count": 4,
      "outputs": []
    },
    {
      "cell_type": "markdown",
      "metadata": {
        "id": "meEmQyfIi8BZ"
      },
      "source": [
        "Импортируем таблицу, выводим на экран первые несколько строк. Изучаем данные."
      ]
    },
    {
      "cell_type": "code",
      "metadata": {
        "id": "KInhKsZ9i8BZ"
      },
      "source": [
        "\n",
        "data = pd.read_csv('https://code.s3.yandex.net/datasets/real_estate_data.csv', sep='\\t')"
      ],
      "execution_count": 5,
      "outputs": []
    },
    {
      "cell_type": "code",
      "metadata": {
        "id": "jBi--wNdi8Bb",
        "outputId": "fccc52ee-278a-4013-b42f-cda3e0996b1f",
        "colab": {
          "base_uri": "https://localhost:8080/",
          "height": 357
        }
      },
      "source": [
        "data.head()"
      ],
      "execution_count": 6,
      "outputs": [
        {
          "output_type": "execute_result",
          "data": {
            "text/html": [
              "\n",
              "  <div id=\"df-f0951104-d878-40c1-affa-08c428f5ff4a\">\n",
              "    <div class=\"colab-df-container\">\n",
              "      <div>\n",
              "<style scoped>\n",
              "    .dataframe tbody tr th:only-of-type {\n",
              "        vertical-align: middle;\n",
              "    }\n",
              "\n",
              "    .dataframe tbody tr th {\n",
              "        vertical-align: top;\n",
              "    }\n",
              "\n",
              "    .dataframe thead th {\n",
              "        text-align: right;\n",
              "    }\n",
              "</style>\n",
              "<table border=\"1\" class=\"dataframe\">\n",
              "  <thead>\n",
              "    <tr style=\"text-align: right;\">\n",
              "      <th></th>\n",
              "      <th>total_images</th>\n",
              "      <th>last_price</th>\n",
              "      <th>total_area</th>\n",
              "      <th>first_day_exposition</th>\n",
              "      <th>rooms</th>\n",
              "      <th>ceiling_height</th>\n",
              "      <th>floors_total</th>\n",
              "      <th>living_area</th>\n",
              "      <th>floor</th>\n",
              "      <th>is_apartment</th>\n",
              "      <th>studio</th>\n",
              "      <th>open_plan</th>\n",
              "      <th>kitchen_area</th>\n",
              "      <th>balcony</th>\n",
              "      <th>locality_name</th>\n",
              "      <th>airports_nearest</th>\n",
              "      <th>cityCenters_nearest</th>\n",
              "      <th>parks_around3000</th>\n",
              "      <th>parks_nearest</th>\n",
              "      <th>ponds_around3000</th>\n",
              "      <th>ponds_nearest</th>\n",
              "      <th>days_exposition</th>\n",
              "    </tr>\n",
              "  </thead>\n",
              "  <tbody>\n",
              "    <tr>\n",
              "      <th>0</th>\n",
              "      <td>20</td>\n",
              "      <td>13000000.000</td>\n",
              "      <td>108.000</td>\n",
              "      <td>2019-03-07T00:00:00</td>\n",
              "      <td>3</td>\n",
              "      <td>2.700</td>\n",
              "      <td>16.000</td>\n",
              "      <td>51.000</td>\n",
              "      <td>8</td>\n",
              "      <td>NaN</td>\n",
              "      <td>False</td>\n",
              "      <td>False</td>\n",
              "      <td>25.000</td>\n",
              "      <td>nan</td>\n",
              "      <td>Санкт-Петербург</td>\n",
              "      <td>18863.000</td>\n",
              "      <td>16028.000</td>\n",
              "      <td>1.000</td>\n",
              "      <td>482.000</td>\n",
              "      <td>2.000</td>\n",
              "      <td>755.000</td>\n",
              "      <td>nan</td>\n",
              "    </tr>\n",
              "    <tr>\n",
              "      <th>1</th>\n",
              "      <td>7</td>\n",
              "      <td>3350000.000</td>\n",
              "      <td>40.400</td>\n",
              "      <td>2018-12-04T00:00:00</td>\n",
              "      <td>1</td>\n",
              "      <td>nan</td>\n",
              "      <td>11.000</td>\n",
              "      <td>18.600</td>\n",
              "      <td>1</td>\n",
              "      <td>NaN</td>\n",
              "      <td>False</td>\n",
              "      <td>False</td>\n",
              "      <td>11.000</td>\n",
              "      <td>2.000</td>\n",
              "      <td>посёлок Шушары</td>\n",
              "      <td>12817.000</td>\n",
              "      <td>18603.000</td>\n",
              "      <td>0.000</td>\n",
              "      <td>nan</td>\n",
              "      <td>0.000</td>\n",
              "      <td>nan</td>\n",
              "      <td>81.000</td>\n",
              "    </tr>\n",
              "    <tr>\n",
              "      <th>2</th>\n",
              "      <td>10</td>\n",
              "      <td>5196000.000</td>\n",
              "      <td>56.000</td>\n",
              "      <td>2015-08-20T00:00:00</td>\n",
              "      <td>2</td>\n",
              "      <td>nan</td>\n",
              "      <td>5.000</td>\n",
              "      <td>34.300</td>\n",
              "      <td>4</td>\n",
              "      <td>NaN</td>\n",
              "      <td>False</td>\n",
              "      <td>False</td>\n",
              "      <td>8.300</td>\n",
              "      <td>0.000</td>\n",
              "      <td>Санкт-Петербург</td>\n",
              "      <td>21741.000</td>\n",
              "      <td>13933.000</td>\n",
              "      <td>1.000</td>\n",
              "      <td>90.000</td>\n",
              "      <td>2.000</td>\n",
              "      <td>574.000</td>\n",
              "      <td>558.000</td>\n",
              "    </tr>\n",
              "    <tr>\n",
              "      <th>3</th>\n",
              "      <td>0</td>\n",
              "      <td>64900000.000</td>\n",
              "      <td>159.000</td>\n",
              "      <td>2015-07-24T00:00:00</td>\n",
              "      <td>3</td>\n",
              "      <td>nan</td>\n",
              "      <td>14.000</td>\n",
              "      <td>nan</td>\n",
              "      <td>9</td>\n",
              "      <td>NaN</td>\n",
              "      <td>False</td>\n",
              "      <td>False</td>\n",
              "      <td>nan</td>\n",
              "      <td>0.000</td>\n",
              "      <td>Санкт-Петербург</td>\n",
              "      <td>28098.000</td>\n",
              "      <td>6800.000</td>\n",
              "      <td>2.000</td>\n",
              "      <td>84.000</td>\n",
              "      <td>3.000</td>\n",
              "      <td>234.000</td>\n",
              "      <td>424.000</td>\n",
              "    </tr>\n",
              "    <tr>\n",
              "      <th>4</th>\n",
              "      <td>2</td>\n",
              "      <td>10000000.000</td>\n",
              "      <td>100.000</td>\n",
              "      <td>2018-06-19T00:00:00</td>\n",
              "      <td>2</td>\n",
              "      <td>3.030</td>\n",
              "      <td>14.000</td>\n",
              "      <td>32.000</td>\n",
              "      <td>13</td>\n",
              "      <td>NaN</td>\n",
              "      <td>False</td>\n",
              "      <td>False</td>\n",
              "      <td>41.000</td>\n",
              "      <td>nan</td>\n",
              "      <td>Санкт-Петербург</td>\n",
              "      <td>31856.000</td>\n",
              "      <td>8098.000</td>\n",
              "      <td>2.000</td>\n",
              "      <td>112.000</td>\n",
              "      <td>1.000</td>\n",
              "      <td>48.000</td>\n",
              "      <td>121.000</td>\n",
              "    </tr>\n",
              "  </tbody>\n",
              "</table>\n",
              "</div>\n",
              "      <button class=\"colab-df-convert\" onclick=\"convertToInteractive('df-f0951104-d878-40c1-affa-08c428f5ff4a')\"\n",
              "              title=\"Convert this dataframe to an interactive table.\"\n",
              "              style=\"display:none;\">\n",
              "        \n",
              "  <svg xmlns=\"http://www.w3.org/2000/svg\" height=\"24px\"viewBox=\"0 0 24 24\"\n",
              "       width=\"24px\">\n",
              "    <path d=\"M0 0h24v24H0V0z\" fill=\"none\"/>\n",
              "    <path d=\"M18.56 5.44l.94 2.06.94-2.06 2.06-.94-2.06-.94-.94-2.06-.94 2.06-2.06.94zm-11 1L8.5 8.5l.94-2.06 2.06-.94-2.06-.94L8.5 2.5l-.94 2.06-2.06.94zm10 10l.94 2.06.94-2.06 2.06-.94-2.06-.94-.94-2.06-.94 2.06-2.06.94z\"/><path d=\"M17.41 7.96l-1.37-1.37c-.4-.4-.92-.59-1.43-.59-.52 0-1.04.2-1.43.59L10.3 9.45l-7.72 7.72c-.78.78-.78 2.05 0 2.83L4 21.41c.39.39.9.59 1.41.59.51 0 1.02-.2 1.41-.59l7.78-7.78 2.81-2.81c.8-.78.8-2.07 0-2.86zM5.41 20L4 18.59l7.72-7.72 1.47 1.35L5.41 20z\"/>\n",
              "  </svg>\n",
              "      </button>\n",
              "      \n",
              "  <style>\n",
              "    .colab-df-container {\n",
              "      display:flex;\n",
              "      flex-wrap:wrap;\n",
              "      gap: 12px;\n",
              "    }\n",
              "\n",
              "    .colab-df-convert {\n",
              "      background-color: #E8F0FE;\n",
              "      border: none;\n",
              "      border-radius: 50%;\n",
              "      cursor: pointer;\n",
              "      display: none;\n",
              "      fill: #1967D2;\n",
              "      height: 32px;\n",
              "      padding: 0 0 0 0;\n",
              "      width: 32px;\n",
              "    }\n",
              "\n",
              "    .colab-df-convert:hover {\n",
              "      background-color: #E2EBFA;\n",
              "      box-shadow: 0px 1px 2px rgba(60, 64, 67, 0.3), 0px 1px 3px 1px rgba(60, 64, 67, 0.15);\n",
              "      fill: #174EA6;\n",
              "    }\n",
              "\n",
              "    [theme=dark] .colab-df-convert {\n",
              "      background-color: #3B4455;\n",
              "      fill: #D2E3FC;\n",
              "    }\n",
              "\n",
              "    [theme=dark] .colab-df-convert:hover {\n",
              "      background-color: #434B5C;\n",
              "      box-shadow: 0px 1px 3px 1px rgba(0, 0, 0, 0.15);\n",
              "      filter: drop-shadow(0px 1px 2px rgba(0, 0, 0, 0.3));\n",
              "      fill: #FFFFFF;\n",
              "    }\n",
              "  </style>\n",
              "\n",
              "      <script>\n",
              "        const buttonEl =\n",
              "          document.querySelector('#df-f0951104-d878-40c1-affa-08c428f5ff4a button.colab-df-convert');\n",
              "        buttonEl.style.display =\n",
              "          google.colab.kernel.accessAllowed ? 'block' : 'none';\n",
              "\n",
              "        async function convertToInteractive(key) {\n",
              "          const element = document.querySelector('#df-f0951104-d878-40c1-affa-08c428f5ff4a');\n",
              "          const dataTable =\n",
              "            await google.colab.kernel.invokeFunction('convertToInteractive',\n",
              "                                                     [key], {});\n",
              "          if (!dataTable) return;\n",
              "\n",
              "          const docLinkHtml = 'Like what you see? Visit the ' +\n",
              "            '<a target=\"_blank\" href=https://colab.research.google.com/notebooks/data_table.ipynb>data table notebook</a>'\n",
              "            + ' to learn more about interactive tables.';\n",
              "          element.innerHTML = '';\n",
              "          dataTable['output_type'] = 'display_data';\n",
              "          await google.colab.output.renderOutput(dataTable, element);\n",
              "          const docLink = document.createElement('div');\n",
              "          docLink.innerHTML = docLinkHtml;\n",
              "          element.appendChild(docLink);\n",
              "        }\n",
              "      </script>\n",
              "    </div>\n",
              "  </div>\n",
              "  "
            ],
            "text/plain": [
              "   total_images   last_price  total_area first_day_exposition  rooms  \\\n",
              "0            20 13000000.000     108.000  2019-03-07T00:00:00      3   \n",
              "1             7  3350000.000      40.400  2018-12-04T00:00:00      1   \n",
              "2            10  5196000.000      56.000  2015-08-20T00:00:00      2   \n",
              "3             0 64900000.000     159.000  2015-07-24T00:00:00      3   \n",
              "4             2 10000000.000     100.000  2018-06-19T00:00:00      2   \n",
              "\n",
              "   ceiling_height  floors_total  living_area  floor is_apartment  studio  \\\n",
              "0           2.700        16.000       51.000      8          NaN   False   \n",
              "1             nan        11.000       18.600      1          NaN   False   \n",
              "2             nan         5.000       34.300      4          NaN   False   \n",
              "3             nan        14.000          nan      9          NaN   False   \n",
              "4           3.030        14.000       32.000     13          NaN   False   \n",
              "\n",
              "   open_plan  kitchen_area  balcony    locality_name  airports_nearest  \\\n",
              "0      False        25.000      nan  Санкт-Петербург         18863.000   \n",
              "1      False        11.000    2.000   посёлок Шушары         12817.000   \n",
              "2      False         8.300    0.000  Санкт-Петербург         21741.000   \n",
              "3      False           nan    0.000  Санкт-Петербург         28098.000   \n",
              "4      False        41.000      nan  Санкт-Петербург         31856.000   \n",
              "\n",
              "   cityCenters_nearest  parks_around3000  parks_nearest  ponds_around3000  \\\n",
              "0            16028.000             1.000        482.000             2.000   \n",
              "1            18603.000             0.000            nan             0.000   \n",
              "2            13933.000             1.000         90.000             2.000   \n",
              "3             6800.000             2.000         84.000             3.000   \n",
              "4             8098.000             2.000        112.000             1.000   \n",
              "\n",
              "   ponds_nearest  days_exposition  \n",
              "0        755.000              nan  \n",
              "1            nan           81.000  \n",
              "2        574.000          558.000  \n",
              "3        234.000          424.000  \n",
              "4         48.000          121.000  "
            ]
          },
          "metadata": {},
          "execution_count": 6
        }
      ]
    },
    {
      "cell_type": "markdown",
      "metadata": {
        "id": "Qwmh4JbIi8Bd"
      },
      "source": [
        "Визуально оценим данные из таблицы. Есть много пропусков в разных столбцах. Название столбца cityCenters_nearest, написано в разных регистрах и без нижнего подчеркивания между словами. Изменим его. Еще в двух столбцах добавим нижнее подчеркивание."
      ]
    },
    {
      "cell_type": "code",
      "metadata": {
        "id": "MF7kAKWki8Bd"
      },
      "source": [
        "data.rename(columns={'cityCenters_nearest': 'city_centers_nearest', 'ponds_around3000': 'ponds_around_3000', 'parks_around3000': 'parks_around_3000'}, inplace=True)"
      ],
      "execution_count": 7,
      "outputs": []
    },
    {
      "cell_type": "markdown",
      "metadata": {
        "id": "XIdoLZNYi8Be"
      },
      "source": [
        "Посмотрим краткую инфармацию о таблице."
      ]
    },
    {
      "cell_type": "code",
      "metadata": {
        "id": "sjGRmemsi8Be",
        "outputId": "7fa96e7c-a99a-4375-eaa9-98ad1ddb4f55",
        "colab": {
          "base_uri": "https://localhost:8080/"
        }
      },
      "source": [
        "data.info()"
      ],
      "execution_count": 8,
      "outputs": [
        {
          "output_type": "stream",
          "name": "stdout",
          "text": [
            "<class 'pandas.core.frame.DataFrame'>\n",
            "RangeIndex: 23699 entries, 0 to 23698\n",
            "Data columns (total 22 columns):\n",
            " #   Column                Non-Null Count  Dtype  \n",
            "---  ------                --------------  -----  \n",
            " 0   total_images          23699 non-null  int64  \n",
            " 1   last_price            23699 non-null  float64\n",
            " 2   total_area            23699 non-null  float64\n",
            " 3   first_day_exposition  23699 non-null  object \n",
            " 4   rooms                 23699 non-null  int64  \n",
            " 5   ceiling_height        14504 non-null  float64\n",
            " 6   floors_total          23613 non-null  float64\n",
            " 7   living_area           21796 non-null  float64\n",
            " 8   floor                 23699 non-null  int64  \n",
            " 9   is_apartment          2775 non-null   object \n",
            " 10  studio                23699 non-null  bool   \n",
            " 11  open_plan             23699 non-null  bool   \n",
            " 12  kitchen_area          21421 non-null  float64\n",
            " 13  balcony               12180 non-null  float64\n",
            " 14  locality_name         23650 non-null  object \n",
            " 15  airports_nearest      18157 non-null  float64\n",
            " 16  city_centers_nearest  18180 non-null  float64\n",
            " 17  parks_around_3000     18181 non-null  float64\n",
            " 18  parks_nearest         8079 non-null   float64\n",
            " 19  ponds_around_3000     18181 non-null  float64\n",
            " 20  ponds_nearest         9110 non-null   float64\n",
            " 21  days_exposition       20518 non-null  float64\n",
            "dtypes: bool(2), float64(14), int64(3), object(3)\n",
            "memory usage: 3.7+ MB\n"
          ]
        }
      ]
    },
    {
      "cell_type": "markdown",
      "source": [
        "Посмотрим не процет пропусков в таблице."
      ],
      "metadata": {
        "id": "mTrI5hEXS-Cx"
      }
    },
    {
      "cell_type": "code",
      "metadata": {
        "id": "YMJXhuWgi8Be",
        "outputId": "ce6f3097-03a8-4fe5-f21b-793a5457ed58",
        "colab": {
          "base_uri": "https://localhost:8080/",
          "height": 740
        }
      },
      "source": [
        "pd.DataFrame(round((data.isna().mean()*100),2)).style.background_gradient('coolwarm')"
      ],
      "execution_count": 9,
      "outputs": [
        {
          "output_type": "execute_result",
          "data": {
            "text/html": [
              "<style  type=\"text/css\" >\n",
              "#T_12df5ea4_833a_11ec_8bcc_0242ac1c0002row0_col0,#T_12df5ea4_833a_11ec_8bcc_0242ac1c0002row1_col0,#T_12df5ea4_833a_11ec_8bcc_0242ac1c0002row2_col0,#T_12df5ea4_833a_11ec_8bcc_0242ac1c0002row3_col0,#T_12df5ea4_833a_11ec_8bcc_0242ac1c0002row4_col0,#T_12df5ea4_833a_11ec_8bcc_0242ac1c0002row8_col0,#T_12df5ea4_833a_11ec_8bcc_0242ac1c0002row10_col0,#T_12df5ea4_833a_11ec_8bcc_0242ac1c0002row11_col0,#T_12df5ea4_833a_11ec_8bcc_0242ac1c0002row14_col0{\n",
              "            background-color:  #3b4cc0;\n",
              "            color:  #f1f1f1;\n",
              "        }#T_12df5ea4_833a_11ec_8bcc_0242ac1c0002row5_col0{\n",
              "            background-color:  #ccd9ed;\n",
              "            color:  #000000;\n",
              "        }#T_12df5ea4_833a_11ec_8bcc_0242ac1c0002row6_col0{\n",
              "            background-color:  #3c4ec2;\n",
              "            color:  #f1f1f1;\n",
              "        }#T_12df5ea4_833a_11ec_8bcc_0242ac1c0002row7_col0{\n",
              "            background-color:  #5673e0;\n",
              "            color:  #000000;\n",
              "        }#T_12df5ea4_833a_11ec_8bcc_0242ac1c0002row9_col0{\n",
              "            background-color:  #b40426;\n",
              "            color:  #f1f1f1;\n",
              "        }#T_12df5ea4_833a_11ec_8bcc_0242ac1c0002row12_col0{\n",
              "            background-color:  #5b7ae5;\n",
              "            color:  #000000;\n",
              "        }#T_12df5ea4_833a_11ec_8bcc_0242ac1c0002row13_col0{\n",
              "            background-color:  #e9d5cb;\n",
              "            color:  #000000;\n",
              "        }#T_12df5ea4_833a_11ec_8bcc_0242ac1c0002row15_col0,#T_12df5ea4_833a_11ec_8bcc_0242ac1c0002row16_col0,#T_12df5ea4_833a_11ec_8bcc_0242ac1c0002row17_col0,#T_12df5ea4_833a_11ec_8bcc_0242ac1c0002row19_col0{\n",
              "            background-color:  #92b4fe;\n",
              "            color:  #000000;\n",
              "        }#T_12df5ea4_833a_11ec_8bcc_0242ac1c0002row18_col0{\n",
              "            background-color:  #f49a7b;\n",
              "            color:  #000000;\n",
              "        }#T_12df5ea4_833a_11ec_8bcc_0242ac1c0002row20_col0{\n",
              "            background-color:  #f7ad90;\n",
              "            color:  #000000;\n",
              "        }#T_12df5ea4_833a_11ec_8bcc_0242ac1c0002row21_col0{\n",
              "            background-color:  #6a8bef;\n",
              "            color:  #000000;\n",
              "        }</style><table id=\"T_12df5ea4_833a_11ec_8bcc_0242ac1c0002\" class=\"dataframe\"><thead>    <tr>        <th class=\"blank level0\" ></th>        <th class=\"col_heading level0 col0\" >0</th>    </tr></thead><tbody>\n",
              "                <tr>\n",
              "                        <th id=\"T_12df5ea4_833a_11ec_8bcc_0242ac1c0002level0_row0\" class=\"row_heading level0 row0\" >total_images</th>\n",
              "                        <td id=\"T_12df5ea4_833a_11ec_8bcc_0242ac1c0002row0_col0\" class=\"data row0 col0\" >0.000000</td>\n",
              "            </tr>\n",
              "            <tr>\n",
              "                        <th id=\"T_12df5ea4_833a_11ec_8bcc_0242ac1c0002level0_row1\" class=\"row_heading level0 row1\" >last_price</th>\n",
              "                        <td id=\"T_12df5ea4_833a_11ec_8bcc_0242ac1c0002row1_col0\" class=\"data row1 col0\" >0.000000</td>\n",
              "            </tr>\n",
              "            <tr>\n",
              "                        <th id=\"T_12df5ea4_833a_11ec_8bcc_0242ac1c0002level0_row2\" class=\"row_heading level0 row2\" >total_area</th>\n",
              "                        <td id=\"T_12df5ea4_833a_11ec_8bcc_0242ac1c0002row2_col0\" class=\"data row2 col0\" >0.000000</td>\n",
              "            </tr>\n",
              "            <tr>\n",
              "                        <th id=\"T_12df5ea4_833a_11ec_8bcc_0242ac1c0002level0_row3\" class=\"row_heading level0 row3\" >first_day_exposition</th>\n",
              "                        <td id=\"T_12df5ea4_833a_11ec_8bcc_0242ac1c0002row3_col0\" class=\"data row3 col0\" >0.000000</td>\n",
              "            </tr>\n",
              "            <tr>\n",
              "                        <th id=\"T_12df5ea4_833a_11ec_8bcc_0242ac1c0002level0_row4\" class=\"row_heading level0 row4\" >rooms</th>\n",
              "                        <td id=\"T_12df5ea4_833a_11ec_8bcc_0242ac1c0002row4_col0\" class=\"data row4 col0\" >0.000000</td>\n",
              "            </tr>\n",
              "            <tr>\n",
              "                        <th id=\"T_12df5ea4_833a_11ec_8bcc_0242ac1c0002level0_row5\" class=\"row_heading level0 row5\" >ceiling_height</th>\n",
              "                        <td id=\"T_12df5ea4_833a_11ec_8bcc_0242ac1c0002row5_col0\" class=\"data row5 col0\" >38.800000</td>\n",
              "            </tr>\n",
              "            <tr>\n",
              "                        <th id=\"T_12df5ea4_833a_11ec_8bcc_0242ac1c0002level0_row6\" class=\"row_heading level0 row6\" >floors_total</th>\n",
              "                        <td id=\"T_12df5ea4_833a_11ec_8bcc_0242ac1c0002row6_col0\" class=\"data row6 col0\" >0.360000</td>\n",
              "            </tr>\n",
              "            <tr>\n",
              "                        <th id=\"T_12df5ea4_833a_11ec_8bcc_0242ac1c0002level0_row7\" class=\"row_heading level0 row7\" >living_area</th>\n",
              "                        <td id=\"T_12df5ea4_833a_11ec_8bcc_0242ac1c0002row7_col0\" class=\"data row7 col0\" >8.030000</td>\n",
              "            </tr>\n",
              "            <tr>\n",
              "                        <th id=\"T_12df5ea4_833a_11ec_8bcc_0242ac1c0002level0_row8\" class=\"row_heading level0 row8\" >floor</th>\n",
              "                        <td id=\"T_12df5ea4_833a_11ec_8bcc_0242ac1c0002row8_col0\" class=\"data row8 col0\" >0.000000</td>\n",
              "            </tr>\n",
              "            <tr>\n",
              "                        <th id=\"T_12df5ea4_833a_11ec_8bcc_0242ac1c0002level0_row9\" class=\"row_heading level0 row9\" >is_apartment</th>\n",
              "                        <td id=\"T_12df5ea4_833a_11ec_8bcc_0242ac1c0002row9_col0\" class=\"data row9 col0\" >88.290000</td>\n",
              "            </tr>\n",
              "            <tr>\n",
              "                        <th id=\"T_12df5ea4_833a_11ec_8bcc_0242ac1c0002level0_row10\" class=\"row_heading level0 row10\" >studio</th>\n",
              "                        <td id=\"T_12df5ea4_833a_11ec_8bcc_0242ac1c0002row10_col0\" class=\"data row10 col0\" >0.000000</td>\n",
              "            </tr>\n",
              "            <tr>\n",
              "                        <th id=\"T_12df5ea4_833a_11ec_8bcc_0242ac1c0002level0_row11\" class=\"row_heading level0 row11\" >open_plan</th>\n",
              "                        <td id=\"T_12df5ea4_833a_11ec_8bcc_0242ac1c0002row11_col0\" class=\"data row11 col0\" >0.000000</td>\n",
              "            </tr>\n",
              "            <tr>\n",
              "                        <th id=\"T_12df5ea4_833a_11ec_8bcc_0242ac1c0002level0_row12\" class=\"row_heading level0 row12\" >kitchen_area</th>\n",
              "                        <td id=\"T_12df5ea4_833a_11ec_8bcc_0242ac1c0002row12_col0\" class=\"data row12 col0\" >9.610000</td>\n",
              "            </tr>\n",
              "            <tr>\n",
              "                        <th id=\"T_12df5ea4_833a_11ec_8bcc_0242ac1c0002level0_row13\" class=\"row_heading level0 row13\" >balcony</th>\n",
              "                        <td id=\"T_12df5ea4_833a_11ec_8bcc_0242ac1c0002row13_col0\" class=\"data row13 col0\" >48.610000</td>\n",
              "            </tr>\n",
              "            <tr>\n",
              "                        <th id=\"T_12df5ea4_833a_11ec_8bcc_0242ac1c0002level0_row14\" class=\"row_heading level0 row14\" >locality_name</th>\n",
              "                        <td id=\"T_12df5ea4_833a_11ec_8bcc_0242ac1c0002row14_col0\" class=\"data row14 col0\" >0.210000</td>\n",
              "            </tr>\n",
              "            <tr>\n",
              "                        <th id=\"T_12df5ea4_833a_11ec_8bcc_0242ac1c0002level0_row15\" class=\"row_heading level0 row15\" >airports_nearest</th>\n",
              "                        <td id=\"T_12df5ea4_833a_11ec_8bcc_0242ac1c0002row15_col0\" class=\"data row15 col0\" >23.380000</td>\n",
              "            </tr>\n",
              "            <tr>\n",
              "                        <th id=\"T_12df5ea4_833a_11ec_8bcc_0242ac1c0002level0_row16\" class=\"row_heading level0 row16\" >city_centers_nearest</th>\n",
              "                        <td id=\"T_12df5ea4_833a_11ec_8bcc_0242ac1c0002row16_col0\" class=\"data row16 col0\" >23.290000</td>\n",
              "            </tr>\n",
              "            <tr>\n",
              "                        <th id=\"T_12df5ea4_833a_11ec_8bcc_0242ac1c0002level0_row17\" class=\"row_heading level0 row17\" >parks_around_3000</th>\n",
              "                        <td id=\"T_12df5ea4_833a_11ec_8bcc_0242ac1c0002row17_col0\" class=\"data row17 col0\" >23.280000</td>\n",
              "            </tr>\n",
              "            <tr>\n",
              "                        <th id=\"T_12df5ea4_833a_11ec_8bcc_0242ac1c0002level0_row18\" class=\"row_heading level0 row18\" >parks_nearest</th>\n",
              "                        <td id=\"T_12df5ea4_833a_11ec_8bcc_0242ac1c0002row18_col0\" class=\"data row18 col0\" >65.910000</td>\n",
              "            </tr>\n",
              "            <tr>\n",
              "                        <th id=\"T_12df5ea4_833a_11ec_8bcc_0242ac1c0002level0_row19\" class=\"row_heading level0 row19\" >ponds_around_3000</th>\n",
              "                        <td id=\"T_12df5ea4_833a_11ec_8bcc_0242ac1c0002row19_col0\" class=\"data row19 col0\" >23.280000</td>\n",
              "            </tr>\n",
              "            <tr>\n",
              "                        <th id=\"T_12df5ea4_833a_11ec_8bcc_0242ac1c0002level0_row20\" class=\"row_heading level0 row20\" >ponds_nearest</th>\n",
              "                        <td id=\"T_12df5ea4_833a_11ec_8bcc_0242ac1c0002row20_col0\" class=\"data row20 col0\" >61.560000</td>\n",
              "            </tr>\n",
              "            <tr>\n",
              "                        <th id=\"T_12df5ea4_833a_11ec_8bcc_0242ac1c0002level0_row21\" class=\"row_heading level0 row21\" >days_exposition</th>\n",
              "                        <td id=\"T_12df5ea4_833a_11ec_8bcc_0242ac1c0002row21_col0\" class=\"data row21 col0\" >13.420000</td>\n",
              "            </tr>\n",
              "    </tbody></table>"
            ],
            "text/plain": [
              "<pandas.io.formats.style.Styler at 0x7f89d3873a50>"
            ]
          },
          "metadata": {},
          "execution_count": 9
        }
      ]
    },
    {
      "cell_type": "markdown",
      "metadata": {
        "id": "bvIAqCGfi8Bf"
      },
      "source": [
        "### Вывод"
      ]
    },
    {
      "cell_type": "markdown",
      "metadata": {
        "id": "mLX6__vhi8Bf"
      },
      "source": [
        "Использовав метод info и head, можно сделать вывод, что таблица содержит 23699 строк, 22 столбца. Столбцы имеют разный тип данных. Таблица удобная для анализа данных - в каждом столбце хранятся значения, каждая строка содержит одно наблюдение, к которому привязаны значения разных переменных. Название столбцов без пробелов, несколько слов разделяются нижним подчеркиванием, на одном языке и в одном регистре, отображают в краткой форме какого рода информация содержится в каждом столбце. Наблюдаем огромное количество пропусков в 14 столбцах из 22. Особенно в столбце is_apartment 88% значений - пропуски. Так же видим много пропусков в столбцах ponds_nearest, balcony и parks_nearest. Пропуски есть в большинстве столбцов и в большом количестве. Таблица имеет два типа данных. Первый - данные заполненые самими людьми. В них прричина пропусков - человеческий фактор. Люди не знали, как заполнить соответствующее поле, поэтому нам придется заполнить эти поля за них. Второй тип данных - картографические данные которые были заполнены автоматически, в них тоже есть пропуски - это технические пропуски. По данным пропускам можно сформировать Баг-репорт, для дальнейшего исправления разработчиками. Целесообразно заполнить пропуски с первым типом данных. \n",
        "Необходимо провести предобработку данных, для выявления артефактов содержащих недостоверные данные и исключить пропуски.\n"
      ]
    },
    {
      "cell_type": "markdown",
      "metadata": {
        "id": "_SPnBMoCi8Bg"
      },
      "source": [
        "## Предобработка данных"
      ]
    },
    {
      "cell_type": "code",
      "metadata": {
        "id": "dP_hnPUgi8Bg",
        "colab": {
          "base_uri": "https://localhost:8080/"
        },
        "outputId": "5cce97f1-d571-4d4c-dbbe-046c2789c3ff"
      },
      "source": [
        "data.dtypes"
      ],
      "execution_count": 10,
      "outputs": [
        {
          "output_type": "execute_result",
          "data": {
            "text/plain": [
              "total_images              int64\n",
              "last_price              float64\n",
              "total_area              float64\n",
              "first_day_exposition     object\n",
              "rooms                     int64\n",
              "ceiling_height          float64\n",
              "floors_total            float64\n",
              "living_area             float64\n",
              "floor                     int64\n",
              "is_apartment             object\n",
              "studio                     bool\n",
              "open_plan                  bool\n",
              "kitchen_area            float64\n",
              "balcony                 float64\n",
              "locality_name            object\n",
              "airports_nearest        float64\n",
              "city_centers_nearest    float64\n",
              "parks_around_3000       float64\n",
              "parks_nearest           float64\n",
              "ponds_around_3000       float64\n",
              "ponds_nearest           float64\n",
              "days_exposition         float64\n",
              "dtype: object"
            ]
          },
          "metadata": {},
          "execution_count": 10
        }
      ]
    },
    {
      "cell_type": "markdown",
      "metadata": {
        "id": "xjGpBtlYi8Bg"
      },
      "source": [
        "Переведм столбец first_day_exposition из строкового типа в дату и время"
      ]
    },
    {
      "cell_type": "code",
      "metadata": {
        "id": "B54iG5Q9i8Bh"
      },
      "source": [
        "data['first_day_exposition'] = pd.to_datetime(data['first_day_exposition'], format = '%Y-%m-%dT%H:%M:%S')\n"
      ],
      "execution_count": 11,
      "outputs": []
    },
    {
      "cell_type": "markdown",
      "metadata": {
        "id": "o0w__H35i8Bh"
      },
      "source": [
        "Проверим, что получилось."
      ]
    },
    {
      "cell_type": "code",
      "metadata": {
        "id": "IMiSa9Ini8Bh",
        "colab": {
          "base_uri": "https://localhost:8080/"
        },
        "outputId": "4a09310e-5e07-4b0e-f60f-90599bc48bb2"
      },
      "source": [
        "data['first_day_exposition'].dtypes"
      ],
      "execution_count": 12,
      "outputs": [
        {
          "output_type": "execute_result",
          "data": {
            "text/plain": [
              "dtype('<M8[ns]')"
            ]
          },
          "metadata": {},
          "execution_count": 12
        }
      ]
    },
    {
      "cell_type": "markdown",
      "metadata": {
        "id": "vKFJGyYBi8Bh"
      },
      "source": [
        "Округлим дату до дня. Уберем лишние часы и минуты. В любом случае там были только нулевые значения."
      ]
    },
    {
      "cell_type": "code",
      "metadata": {
        "id": "GvVXKleKi8Bh"
      },
      "source": [
        "data['first_day_exposition'] = data['first_day_exposition'].dt.round('1D')"
      ],
      "execution_count": 13,
      "outputs": []
    },
    {
      "cell_type": "code",
      "metadata": {
        "id": "mLGrkiq-i8Bi",
        "colab": {
          "base_uri": "https://localhost:8080/",
          "height": 357
        },
        "outputId": "c4b946d9-6ae2-4b45-c94e-b0ad9d81b599"
      },
      "source": [
        "data.head()"
      ],
      "execution_count": 14,
      "outputs": [
        {
          "output_type": "execute_result",
          "data": {
            "text/html": [
              "\n",
              "  <div id=\"df-e52124e0-db27-4783-9417-17995e4e3864\">\n",
              "    <div class=\"colab-df-container\">\n",
              "      <div>\n",
              "<style scoped>\n",
              "    .dataframe tbody tr th:only-of-type {\n",
              "        vertical-align: middle;\n",
              "    }\n",
              "\n",
              "    .dataframe tbody tr th {\n",
              "        vertical-align: top;\n",
              "    }\n",
              "\n",
              "    .dataframe thead th {\n",
              "        text-align: right;\n",
              "    }\n",
              "</style>\n",
              "<table border=\"1\" class=\"dataframe\">\n",
              "  <thead>\n",
              "    <tr style=\"text-align: right;\">\n",
              "      <th></th>\n",
              "      <th>total_images</th>\n",
              "      <th>last_price</th>\n",
              "      <th>total_area</th>\n",
              "      <th>first_day_exposition</th>\n",
              "      <th>rooms</th>\n",
              "      <th>ceiling_height</th>\n",
              "      <th>floors_total</th>\n",
              "      <th>living_area</th>\n",
              "      <th>floor</th>\n",
              "      <th>is_apartment</th>\n",
              "      <th>studio</th>\n",
              "      <th>open_plan</th>\n",
              "      <th>kitchen_area</th>\n",
              "      <th>balcony</th>\n",
              "      <th>locality_name</th>\n",
              "      <th>airports_nearest</th>\n",
              "      <th>city_centers_nearest</th>\n",
              "      <th>parks_around_3000</th>\n",
              "      <th>parks_nearest</th>\n",
              "      <th>ponds_around_3000</th>\n",
              "      <th>ponds_nearest</th>\n",
              "      <th>days_exposition</th>\n",
              "    </tr>\n",
              "  </thead>\n",
              "  <tbody>\n",
              "    <tr>\n",
              "      <th>0</th>\n",
              "      <td>20</td>\n",
              "      <td>13000000.000</td>\n",
              "      <td>108.000</td>\n",
              "      <td>2019-03-07</td>\n",
              "      <td>3</td>\n",
              "      <td>2.700</td>\n",
              "      <td>16.000</td>\n",
              "      <td>51.000</td>\n",
              "      <td>8</td>\n",
              "      <td>NaN</td>\n",
              "      <td>False</td>\n",
              "      <td>False</td>\n",
              "      <td>25.000</td>\n",
              "      <td>nan</td>\n",
              "      <td>Санкт-Петербург</td>\n",
              "      <td>18863.000</td>\n",
              "      <td>16028.000</td>\n",
              "      <td>1.000</td>\n",
              "      <td>482.000</td>\n",
              "      <td>2.000</td>\n",
              "      <td>755.000</td>\n",
              "      <td>nan</td>\n",
              "    </tr>\n",
              "    <tr>\n",
              "      <th>1</th>\n",
              "      <td>7</td>\n",
              "      <td>3350000.000</td>\n",
              "      <td>40.400</td>\n",
              "      <td>2018-12-04</td>\n",
              "      <td>1</td>\n",
              "      <td>nan</td>\n",
              "      <td>11.000</td>\n",
              "      <td>18.600</td>\n",
              "      <td>1</td>\n",
              "      <td>NaN</td>\n",
              "      <td>False</td>\n",
              "      <td>False</td>\n",
              "      <td>11.000</td>\n",
              "      <td>2.000</td>\n",
              "      <td>посёлок Шушары</td>\n",
              "      <td>12817.000</td>\n",
              "      <td>18603.000</td>\n",
              "      <td>0.000</td>\n",
              "      <td>nan</td>\n",
              "      <td>0.000</td>\n",
              "      <td>nan</td>\n",
              "      <td>81.000</td>\n",
              "    </tr>\n",
              "    <tr>\n",
              "      <th>2</th>\n",
              "      <td>10</td>\n",
              "      <td>5196000.000</td>\n",
              "      <td>56.000</td>\n",
              "      <td>2015-08-20</td>\n",
              "      <td>2</td>\n",
              "      <td>nan</td>\n",
              "      <td>5.000</td>\n",
              "      <td>34.300</td>\n",
              "      <td>4</td>\n",
              "      <td>NaN</td>\n",
              "      <td>False</td>\n",
              "      <td>False</td>\n",
              "      <td>8.300</td>\n",
              "      <td>0.000</td>\n",
              "      <td>Санкт-Петербург</td>\n",
              "      <td>21741.000</td>\n",
              "      <td>13933.000</td>\n",
              "      <td>1.000</td>\n",
              "      <td>90.000</td>\n",
              "      <td>2.000</td>\n",
              "      <td>574.000</td>\n",
              "      <td>558.000</td>\n",
              "    </tr>\n",
              "    <tr>\n",
              "      <th>3</th>\n",
              "      <td>0</td>\n",
              "      <td>64900000.000</td>\n",
              "      <td>159.000</td>\n",
              "      <td>2015-07-24</td>\n",
              "      <td>3</td>\n",
              "      <td>nan</td>\n",
              "      <td>14.000</td>\n",
              "      <td>nan</td>\n",
              "      <td>9</td>\n",
              "      <td>NaN</td>\n",
              "      <td>False</td>\n",
              "      <td>False</td>\n",
              "      <td>nan</td>\n",
              "      <td>0.000</td>\n",
              "      <td>Санкт-Петербург</td>\n",
              "      <td>28098.000</td>\n",
              "      <td>6800.000</td>\n",
              "      <td>2.000</td>\n",
              "      <td>84.000</td>\n",
              "      <td>3.000</td>\n",
              "      <td>234.000</td>\n",
              "      <td>424.000</td>\n",
              "    </tr>\n",
              "    <tr>\n",
              "      <th>4</th>\n",
              "      <td>2</td>\n",
              "      <td>10000000.000</td>\n",
              "      <td>100.000</td>\n",
              "      <td>2018-06-19</td>\n",
              "      <td>2</td>\n",
              "      <td>3.030</td>\n",
              "      <td>14.000</td>\n",
              "      <td>32.000</td>\n",
              "      <td>13</td>\n",
              "      <td>NaN</td>\n",
              "      <td>False</td>\n",
              "      <td>False</td>\n",
              "      <td>41.000</td>\n",
              "      <td>nan</td>\n",
              "      <td>Санкт-Петербург</td>\n",
              "      <td>31856.000</td>\n",
              "      <td>8098.000</td>\n",
              "      <td>2.000</td>\n",
              "      <td>112.000</td>\n",
              "      <td>1.000</td>\n",
              "      <td>48.000</td>\n",
              "      <td>121.000</td>\n",
              "    </tr>\n",
              "  </tbody>\n",
              "</table>\n",
              "</div>\n",
              "      <button class=\"colab-df-convert\" onclick=\"convertToInteractive('df-e52124e0-db27-4783-9417-17995e4e3864')\"\n",
              "              title=\"Convert this dataframe to an interactive table.\"\n",
              "              style=\"display:none;\">\n",
              "        \n",
              "  <svg xmlns=\"http://www.w3.org/2000/svg\" height=\"24px\"viewBox=\"0 0 24 24\"\n",
              "       width=\"24px\">\n",
              "    <path d=\"M0 0h24v24H0V0z\" fill=\"none\"/>\n",
              "    <path d=\"M18.56 5.44l.94 2.06.94-2.06 2.06-.94-2.06-.94-.94-2.06-.94 2.06-2.06.94zm-11 1L8.5 8.5l.94-2.06 2.06-.94-2.06-.94L8.5 2.5l-.94 2.06-2.06.94zm10 10l.94 2.06.94-2.06 2.06-.94-2.06-.94-.94-2.06-.94 2.06-2.06.94z\"/><path d=\"M17.41 7.96l-1.37-1.37c-.4-.4-.92-.59-1.43-.59-.52 0-1.04.2-1.43.59L10.3 9.45l-7.72 7.72c-.78.78-.78 2.05 0 2.83L4 21.41c.39.39.9.59 1.41.59.51 0 1.02-.2 1.41-.59l7.78-7.78 2.81-2.81c.8-.78.8-2.07 0-2.86zM5.41 20L4 18.59l7.72-7.72 1.47 1.35L5.41 20z\"/>\n",
              "  </svg>\n",
              "      </button>\n",
              "      \n",
              "  <style>\n",
              "    .colab-df-container {\n",
              "      display:flex;\n",
              "      flex-wrap:wrap;\n",
              "      gap: 12px;\n",
              "    }\n",
              "\n",
              "    .colab-df-convert {\n",
              "      background-color: #E8F0FE;\n",
              "      border: none;\n",
              "      border-radius: 50%;\n",
              "      cursor: pointer;\n",
              "      display: none;\n",
              "      fill: #1967D2;\n",
              "      height: 32px;\n",
              "      padding: 0 0 0 0;\n",
              "      width: 32px;\n",
              "    }\n",
              "\n",
              "    .colab-df-convert:hover {\n",
              "      background-color: #E2EBFA;\n",
              "      box-shadow: 0px 1px 2px rgba(60, 64, 67, 0.3), 0px 1px 3px 1px rgba(60, 64, 67, 0.15);\n",
              "      fill: #174EA6;\n",
              "    }\n",
              "\n",
              "    [theme=dark] .colab-df-convert {\n",
              "      background-color: #3B4455;\n",
              "      fill: #D2E3FC;\n",
              "    }\n",
              "\n",
              "    [theme=dark] .colab-df-convert:hover {\n",
              "      background-color: #434B5C;\n",
              "      box-shadow: 0px 1px 3px 1px rgba(0, 0, 0, 0.15);\n",
              "      filter: drop-shadow(0px 1px 2px rgba(0, 0, 0, 0.3));\n",
              "      fill: #FFFFFF;\n",
              "    }\n",
              "  </style>\n",
              "\n",
              "      <script>\n",
              "        const buttonEl =\n",
              "          document.querySelector('#df-e52124e0-db27-4783-9417-17995e4e3864 button.colab-df-convert');\n",
              "        buttonEl.style.display =\n",
              "          google.colab.kernel.accessAllowed ? 'block' : 'none';\n",
              "\n",
              "        async function convertToInteractive(key) {\n",
              "          const element = document.querySelector('#df-e52124e0-db27-4783-9417-17995e4e3864');\n",
              "          const dataTable =\n",
              "            await google.colab.kernel.invokeFunction('convertToInteractive',\n",
              "                                                     [key], {});\n",
              "          if (!dataTable) return;\n",
              "\n",
              "          const docLinkHtml = 'Like what you see? Visit the ' +\n",
              "            '<a target=\"_blank\" href=https://colab.research.google.com/notebooks/data_table.ipynb>data table notebook</a>'\n",
              "            + ' to learn more about interactive tables.';\n",
              "          element.innerHTML = '';\n",
              "          dataTable['output_type'] = 'display_data';\n",
              "          await google.colab.output.renderOutput(dataTable, element);\n",
              "          const docLink = document.createElement('div');\n",
              "          docLink.innerHTML = docLinkHtml;\n",
              "          element.appendChild(docLink);\n",
              "        }\n",
              "      </script>\n",
              "    </div>\n",
              "  </div>\n",
              "  "
            ],
            "text/plain": [
              "   total_images   last_price  total_area first_day_exposition  rooms  \\\n",
              "0            20 13000000.000     108.000           2019-03-07      3   \n",
              "1             7  3350000.000      40.400           2018-12-04      1   \n",
              "2            10  5196000.000      56.000           2015-08-20      2   \n",
              "3             0 64900000.000     159.000           2015-07-24      3   \n",
              "4             2 10000000.000     100.000           2018-06-19      2   \n",
              "\n",
              "   ceiling_height  floors_total  living_area  floor is_apartment  studio  \\\n",
              "0           2.700        16.000       51.000      8          NaN   False   \n",
              "1             nan        11.000       18.600      1          NaN   False   \n",
              "2             nan         5.000       34.300      4          NaN   False   \n",
              "3             nan        14.000          nan      9          NaN   False   \n",
              "4           3.030        14.000       32.000     13          NaN   False   \n",
              "\n",
              "   open_plan  kitchen_area  balcony    locality_name  airports_nearest  \\\n",
              "0      False        25.000      nan  Санкт-Петербург         18863.000   \n",
              "1      False        11.000    2.000   посёлок Шушары         12817.000   \n",
              "2      False         8.300    0.000  Санкт-Петербург         21741.000   \n",
              "3      False           nan    0.000  Санкт-Петербург         28098.000   \n",
              "4      False        41.000      nan  Санкт-Петербург         31856.000   \n",
              "\n",
              "   city_centers_nearest  parks_around_3000  parks_nearest  ponds_around_3000  \\\n",
              "0             16028.000              1.000        482.000              2.000   \n",
              "1             18603.000              0.000            nan              0.000   \n",
              "2             13933.000              1.000         90.000              2.000   \n",
              "3              6800.000              2.000         84.000              3.000   \n",
              "4              8098.000              2.000        112.000              1.000   \n",
              "\n",
              "   ponds_nearest  days_exposition  \n",
              "0        755.000              nan  \n",
              "1            nan           81.000  \n",
              "2        574.000          558.000  \n",
              "3        234.000          424.000  \n",
              "4         48.000          121.000  "
            ]
          },
          "metadata": {},
          "execution_count": 14
        }
      ]
    },
    {
      "cell_type": "markdown",
      "metadata": {
        "id": "arL_AzQLi8Bi"
      },
      "source": [
        "\n",
        "Так как в столбце ceiling_height доля пропущенных значений очень большая -38%, более умесным будет на трогать эти пропуски и оставить все как есть. "
      ]
    },
    {
      "cell_type": "code",
      "metadata": {
        "id": "iEsed9chi8Bj",
        "colab": {
          "base_uri": "https://localhost:8080/"
        },
        "outputId": "029ccc6d-c5c3-4df2-c251-552b5587da6d"
      },
      "source": [
        "data['ceiling_height'].value_counts(bins=4)"
      ],
      "execution_count": 15,
      "outputs": [
        {
          "output_type": "execute_result",
          "data": {
            "text/plain": [
              "(0.9, 25.75]      14491\n",
              "(25.75, 50.5]        12\n",
              "(75.25, 100.0]        1\n",
              "(50.5, 75.25]         0\n",
              "Name: ceiling_height, dtype: int64"
            ]
          },
          "metadata": {},
          "execution_count": 15
        }
      ]
    },
    {
      "cell_type": "markdown",
      "metadata": {
        "id": "2fHCBrUPi8Bj"
      },
      "source": [
        "Много пропусков. Есть значения явно недостоверные, к примеру высота потолка 100 метров или 1 метр. Придумаем чем можно заменить. Нужна фунция которая будет заменять не только пропущенные значения но и те которые мы укажем. Допустим высота или потолков зависит от элитности. Параметра элитное у нас нет будет ориентироваться на цены.  Заменим пропуски на медиану высоты потолков в конкретной ценовой категории."
      ]
    },
    {
      "cell_type": "markdown",
      "metadata": {
        "id": "xKkHBAm1i8Bj"
      },
      "source": [
        "Создаем копию таблицы"
      ]
    },
    {
      "cell_type": "code",
      "metadata": {
        "id": "xpoVzaWIi8Bj"
      },
      "source": [
        "t = data.copy()"
      ],
      "execution_count": 16,
      "outputs": []
    },
    {
      "cell_type": "markdown",
      "metadata": {
        "id": "XbYklaDCi8Bk"
      },
      "source": [
        "Сгруппируем цену на 5 почти равных частей. Разделим на равные части методом qcut"
      ]
    },
    {
      "cell_type": "code",
      "metadata": {
        "id": "f3FnBBdni8Bk",
        "colab": {
          "base_uri": "https://localhost:8080/"
        },
        "outputId": "9fdb6876-469d-4894-bcb8-b1131e81025a"
      },
      "source": [
        "t['last_price_group'] = pd.qcut(t['last_price'], 5, labels=[\"эконом\", \"средний\", \"бизнес\", \"элитное\", \"чтоб я так жил\",])\n",
        "t['last_price_group'].value_counts()"
      ],
      "execution_count": 17,
      "outputs": [
        {
          "output_type": "execute_result",
          "data": {
            "text/plain": [
              "эконом            4756\n",
              "бизнес            4741\n",
              "чтоб я так жил    4739\n",
              "элитное           4739\n",
              "средний           4724\n",
              "Name: last_price_group, dtype: int64"
            ]
          },
          "metadata": {},
          "execution_count": 17
        }
      ]
    },
    {
      "cell_type": "markdown",
      "metadata": {
        "id": "J_FRd5nDi8Bk"
      },
      "source": [
        "Напишем функцию которая автоматически меняет пропуски на медиану той же категории значений."
      ]
    },
    {
      "cell_type": "code",
      "metadata": {
        "id": "37gws-jgi8Bk"
      },
      "source": [
        "\n",
        "def no_NaN(df, value, category):\n",
        "    for type_unique in df[category].unique():\n",
        "        df.loc[(df[value].isna())&(df[category] ==type_unique), value] = \\\n",
        "        df.loc[df[category] ==type_unique, value].median()\n",
        "    return df\n",
        "   \n",
        "        "
      ],
      "execution_count": 18,
      "outputs": []
    },
    {
      "cell_type": "markdown",
      "metadata": {
        "id": "xDJj4Bk7i8Bl"
      },
      "source": [
        "Применим фунцию и проверим результат."
      ]
    },
    {
      "cell_type": "markdown",
      "metadata": {
        "id": "I5JJ4oJdi8Bm"
      },
      "source": [
        "Теперь напишем фунцию которая будет менять артефакты. Например: высота потолков - 1 метр и 100 метров."
      ]
    },
    {
      "cell_type": "code",
      "metadata": {
        "id": "092GrMeji8Bm"
      },
      "source": [
        "def no_artefact(df, value, category, min_num, max_num):\n",
        "    for type_unique in df[category].unique():\n",
        "        df.loc[(df[value] > max_num) | (df[value] <= min_num)&(df[category] ==type_unique), value] = \\\n",
        "        df.loc[df[category] ==type_unique, value].median()\n",
        "        \n",
        "    return df"
      ],
      "execution_count": 19,
      "outputs": []
    },
    {
      "cell_type": "markdown",
      "metadata": {
        "id": "vbfTglkgi8Bn"
      },
      "source": [
        "Следующий столбец - floors_total смотрим."
      ]
    },
    {
      "cell_type": "code",
      "metadata": {
        "id": "v7182GGJi8Bn",
        "colab": {
          "base_uri": "https://localhost:8080/"
        },
        "outputId": "35528918-ad7d-47ac-9a11-e6fbd3b6aa12"
      },
      "source": [
        "len(data.loc[data['floors_total'].isna()])"
      ],
      "execution_count": 20,
      "outputs": [
        {
          "output_type": "execute_result",
          "data": {
            "text/plain": [
              "86"
            ]
          },
          "metadata": {},
          "execution_count": 20
        }
      ]
    },
    {
      "cell_type": "markdown",
      "metadata": {
        "id": "NHlJepkNi8Bn"
      },
      "source": [
        "Всего 86 значений. Думаю можно удалить. Так же оставшиеся значения заменим на целочисленные. "
      ]
    },
    {
      "cell_type": "code",
      "metadata": {
        "id": "QuAUxldHi8Bn"
      },
      "source": [
        "data.dropna(subset = ['floors_total'], inplace = True)\n",
        "data['floors_total'] = data['floors_total'].astype('int')"
      ],
      "execution_count": 21,
      "outputs": []
    },
    {
      "cell_type": "code",
      "metadata": {
        "id": "KVDnv_3gi8Bo",
        "colab": {
          "base_uri": "https://localhost:8080/"
        },
        "outputId": "199fa5f3-2bd4-4d27-e794-65fa7a9bd8b0"
      },
      "source": [
        "data.info()"
      ],
      "execution_count": 22,
      "outputs": [
        {
          "output_type": "stream",
          "name": "stdout",
          "text": [
            "<class 'pandas.core.frame.DataFrame'>\n",
            "Int64Index: 23613 entries, 0 to 23698\n",
            "Data columns (total 22 columns):\n",
            " #   Column                Non-Null Count  Dtype         \n",
            "---  ------                --------------  -----         \n",
            " 0   total_images          23613 non-null  int64         \n",
            " 1   last_price            23613 non-null  float64       \n",
            " 2   total_area            23613 non-null  float64       \n",
            " 3   first_day_exposition  23613 non-null  datetime64[ns]\n",
            " 4   rooms                 23613 non-null  int64         \n",
            " 5   ceiling_height        14495 non-null  float64       \n",
            " 6   floors_total          23613 non-null  int64         \n",
            " 7   living_area           21743 non-null  float64       \n",
            " 8   floor                 23613 non-null  int64         \n",
            " 9   is_apartment          2775 non-null   object        \n",
            " 10  studio                23613 non-null  bool          \n",
            " 11  open_plan             23613 non-null  bool          \n",
            " 12  kitchen_area          21382 non-null  float64       \n",
            " 13  balcony               12133 non-null  float64       \n",
            " 14  locality_name         23565 non-null  object        \n",
            " 15  airports_nearest      18081 non-null  float64       \n",
            " 16  city_centers_nearest  18104 non-null  float64       \n",
            " 17  parks_around_3000     18105 non-null  float64       \n",
            " 18  parks_nearest         8045 non-null   float64       \n",
            " 19  ponds_around_3000     18105 non-null  float64       \n",
            " 20  ponds_nearest         9061 non-null   float64       \n",
            " 21  days_exposition       20441 non-null  float64       \n",
            "dtypes: bool(2), datetime64[ns](1), float64(13), int64(4), object(2)\n",
            "memory usage: 3.8+ MB\n"
          ]
        }
      ]
    },
    {
      "cell_type": "markdown",
      "metadata": {
        "id": "3-dvWjHhi8Bo"
      },
      "source": [
        "Далее по списку - living_area. Посмотрим на пропуски."
      ]
    },
    {
      "cell_type": "code",
      "metadata": {
        "id": "zXEOgRgEi8Bo",
        "colab": {
          "base_uri": "https://localhost:8080/",
          "height": 374
        },
        "outputId": "e5ff8c79-e385-4242-e3a0-52674aa4eaa1"
      },
      "source": [
        "data.loc[data['living_area'].isna(), ].head()"
      ],
      "execution_count": 23,
      "outputs": [
        {
          "output_type": "execute_result",
          "data": {
            "text/html": [
              "\n",
              "  <div id=\"df-1d518093-0ad2-4bad-9861-84af55b18061\">\n",
              "    <div class=\"colab-df-container\">\n",
              "      <div>\n",
              "<style scoped>\n",
              "    .dataframe tbody tr th:only-of-type {\n",
              "        vertical-align: middle;\n",
              "    }\n",
              "\n",
              "    .dataframe tbody tr th {\n",
              "        vertical-align: top;\n",
              "    }\n",
              "\n",
              "    .dataframe thead th {\n",
              "        text-align: right;\n",
              "    }\n",
              "</style>\n",
              "<table border=\"1\" class=\"dataframe\">\n",
              "  <thead>\n",
              "    <tr style=\"text-align: right;\">\n",
              "      <th></th>\n",
              "      <th>total_images</th>\n",
              "      <th>last_price</th>\n",
              "      <th>total_area</th>\n",
              "      <th>first_day_exposition</th>\n",
              "      <th>rooms</th>\n",
              "      <th>ceiling_height</th>\n",
              "      <th>floors_total</th>\n",
              "      <th>living_area</th>\n",
              "      <th>floor</th>\n",
              "      <th>is_apartment</th>\n",
              "      <th>studio</th>\n",
              "      <th>open_plan</th>\n",
              "      <th>kitchen_area</th>\n",
              "      <th>balcony</th>\n",
              "      <th>locality_name</th>\n",
              "      <th>airports_nearest</th>\n",
              "      <th>city_centers_nearest</th>\n",
              "      <th>parks_around_3000</th>\n",
              "      <th>parks_nearest</th>\n",
              "      <th>ponds_around_3000</th>\n",
              "      <th>ponds_nearest</th>\n",
              "      <th>days_exposition</th>\n",
              "    </tr>\n",
              "  </thead>\n",
              "  <tbody>\n",
              "    <tr>\n",
              "      <th>3</th>\n",
              "      <td>0</td>\n",
              "      <td>64900000.000</td>\n",
              "      <td>159.000</td>\n",
              "      <td>2015-07-24</td>\n",
              "      <td>3</td>\n",
              "      <td>nan</td>\n",
              "      <td>14</td>\n",
              "      <td>nan</td>\n",
              "      <td>9</td>\n",
              "      <td>NaN</td>\n",
              "      <td>False</td>\n",
              "      <td>False</td>\n",
              "      <td>nan</td>\n",
              "      <td>0.000</td>\n",
              "      <td>Санкт-Петербург</td>\n",
              "      <td>28098.000</td>\n",
              "      <td>6800.000</td>\n",
              "      <td>2.000</td>\n",
              "      <td>84.000</td>\n",
              "      <td>3.000</td>\n",
              "      <td>234.000</td>\n",
              "      <td>424.000</td>\n",
              "    </tr>\n",
              "    <tr>\n",
              "      <th>7</th>\n",
              "      <td>5</td>\n",
              "      <td>7915000.000</td>\n",
              "      <td>71.600</td>\n",
              "      <td>2019-04-18</td>\n",
              "      <td>2</td>\n",
              "      <td>nan</td>\n",
              "      <td>24</td>\n",
              "      <td>nan</td>\n",
              "      <td>22</td>\n",
              "      <td>NaN</td>\n",
              "      <td>False</td>\n",
              "      <td>False</td>\n",
              "      <td>18.900</td>\n",
              "      <td>2.000</td>\n",
              "      <td>Санкт-Петербург</td>\n",
              "      <td>23982.000</td>\n",
              "      <td>11634.000</td>\n",
              "      <td>0.000</td>\n",
              "      <td>nan</td>\n",
              "      <td>0.000</td>\n",
              "      <td>nan</td>\n",
              "      <td>nan</td>\n",
              "    </tr>\n",
              "    <tr>\n",
              "      <th>30</th>\n",
              "      <td>12</td>\n",
              "      <td>2200000.000</td>\n",
              "      <td>32.800</td>\n",
              "      <td>2018-02-19</td>\n",
              "      <td>1</td>\n",
              "      <td>nan</td>\n",
              "      <td>9</td>\n",
              "      <td>nan</td>\n",
              "      <td>2</td>\n",
              "      <td>NaN</td>\n",
              "      <td>False</td>\n",
              "      <td>False</td>\n",
              "      <td>nan</td>\n",
              "      <td>nan</td>\n",
              "      <td>Коммунар</td>\n",
              "      <td>nan</td>\n",
              "      <td>nan</td>\n",
              "      <td>nan</td>\n",
              "      <td>nan</td>\n",
              "      <td>nan</td>\n",
              "      <td>nan</td>\n",
              "      <td>63.000</td>\n",
              "    </tr>\n",
              "    <tr>\n",
              "      <th>37</th>\n",
              "      <td>10</td>\n",
              "      <td>1990000.000</td>\n",
              "      <td>45.800</td>\n",
              "      <td>2017-10-28</td>\n",
              "      <td>2</td>\n",
              "      <td>2.500</td>\n",
              "      <td>5</td>\n",
              "      <td>nan</td>\n",
              "      <td>1</td>\n",
              "      <td>NaN</td>\n",
              "      <td>False</td>\n",
              "      <td>False</td>\n",
              "      <td>nan</td>\n",
              "      <td>nan</td>\n",
              "      <td>поселок городского типа Красный Бор</td>\n",
              "      <td>nan</td>\n",
              "      <td>nan</td>\n",
              "      <td>nan</td>\n",
              "      <td>nan</td>\n",
              "      <td>nan</td>\n",
              "      <td>nan</td>\n",
              "      <td>196.000</td>\n",
              "    </tr>\n",
              "    <tr>\n",
              "      <th>44</th>\n",
              "      <td>13</td>\n",
              "      <td>5350000.000</td>\n",
              "      <td>40.000</td>\n",
              "      <td>2018-11-18</td>\n",
              "      <td>1</td>\n",
              "      <td>nan</td>\n",
              "      <td>22</td>\n",
              "      <td>nan</td>\n",
              "      <td>3</td>\n",
              "      <td>NaN</td>\n",
              "      <td>False</td>\n",
              "      <td>False</td>\n",
              "      <td>nan</td>\n",
              "      <td>1.000</td>\n",
              "      <td>Санкт-Петербург</td>\n",
              "      <td>30471.000</td>\n",
              "      <td>11603.000</td>\n",
              "      <td>1.000</td>\n",
              "      <td>620.000</td>\n",
              "      <td>1.000</td>\n",
              "      <td>1152.000</td>\n",
              "      <td>nan</td>\n",
              "    </tr>\n",
              "  </tbody>\n",
              "</table>\n",
              "</div>\n",
              "      <button class=\"colab-df-convert\" onclick=\"convertToInteractive('df-1d518093-0ad2-4bad-9861-84af55b18061')\"\n",
              "              title=\"Convert this dataframe to an interactive table.\"\n",
              "              style=\"display:none;\">\n",
              "        \n",
              "  <svg xmlns=\"http://www.w3.org/2000/svg\" height=\"24px\"viewBox=\"0 0 24 24\"\n",
              "       width=\"24px\">\n",
              "    <path d=\"M0 0h24v24H0V0z\" fill=\"none\"/>\n",
              "    <path d=\"M18.56 5.44l.94 2.06.94-2.06 2.06-.94-2.06-.94-.94-2.06-.94 2.06-2.06.94zm-11 1L8.5 8.5l.94-2.06 2.06-.94-2.06-.94L8.5 2.5l-.94 2.06-2.06.94zm10 10l.94 2.06.94-2.06 2.06-.94-2.06-.94-.94-2.06-.94 2.06-2.06.94z\"/><path d=\"M17.41 7.96l-1.37-1.37c-.4-.4-.92-.59-1.43-.59-.52 0-1.04.2-1.43.59L10.3 9.45l-7.72 7.72c-.78.78-.78 2.05 0 2.83L4 21.41c.39.39.9.59 1.41.59.51 0 1.02-.2 1.41-.59l7.78-7.78 2.81-2.81c.8-.78.8-2.07 0-2.86zM5.41 20L4 18.59l7.72-7.72 1.47 1.35L5.41 20z\"/>\n",
              "  </svg>\n",
              "      </button>\n",
              "      \n",
              "  <style>\n",
              "    .colab-df-container {\n",
              "      display:flex;\n",
              "      flex-wrap:wrap;\n",
              "      gap: 12px;\n",
              "    }\n",
              "\n",
              "    .colab-df-convert {\n",
              "      background-color: #E8F0FE;\n",
              "      border: none;\n",
              "      border-radius: 50%;\n",
              "      cursor: pointer;\n",
              "      display: none;\n",
              "      fill: #1967D2;\n",
              "      height: 32px;\n",
              "      padding: 0 0 0 0;\n",
              "      width: 32px;\n",
              "    }\n",
              "\n",
              "    .colab-df-convert:hover {\n",
              "      background-color: #E2EBFA;\n",
              "      box-shadow: 0px 1px 2px rgba(60, 64, 67, 0.3), 0px 1px 3px 1px rgba(60, 64, 67, 0.15);\n",
              "      fill: #174EA6;\n",
              "    }\n",
              "\n",
              "    [theme=dark] .colab-df-convert {\n",
              "      background-color: #3B4455;\n",
              "      fill: #D2E3FC;\n",
              "    }\n",
              "\n",
              "    [theme=dark] .colab-df-convert:hover {\n",
              "      background-color: #434B5C;\n",
              "      box-shadow: 0px 1px 3px 1px rgba(0, 0, 0, 0.15);\n",
              "      filter: drop-shadow(0px 1px 2px rgba(0, 0, 0, 0.3));\n",
              "      fill: #FFFFFF;\n",
              "    }\n",
              "  </style>\n",
              "\n",
              "      <script>\n",
              "        const buttonEl =\n",
              "          document.querySelector('#df-1d518093-0ad2-4bad-9861-84af55b18061 button.colab-df-convert');\n",
              "        buttonEl.style.display =\n",
              "          google.colab.kernel.accessAllowed ? 'block' : 'none';\n",
              "\n",
              "        async function convertToInteractive(key) {\n",
              "          const element = document.querySelector('#df-1d518093-0ad2-4bad-9861-84af55b18061');\n",
              "          const dataTable =\n",
              "            await google.colab.kernel.invokeFunction('convertToInteractive',\n",
              "                                                     [key], {});\n",
              "          if (!dataTable) return;\n",
              "\n",
              "          const docLinkHtml = 'Like what you see? Visit the ' +\n",
              "            '<a target=\"_blank\" href=https://colab.research.google.com/notebooks/data_table.ipynb>data table notebook</a>'\n",
              "            + ' to learn more about interactive tables.';\n",
              "          element.innerHTML = '';\n",
              "          dataTable['output_type'] = 'display_data';\n",
              "          await google.colab.output.renderOutput(dataTable, element);\n",
              "          const docLink = document.createElement('div');\n",
              "          docLink.innerHTML = docLinkHtml;\n",
              "          element.appendChild(docLink);\n",
              "        }\n",
              "      </script>\n",
              "    </div>\n",
              "  </div>\n",
              "  "
            ],
            "text/plain": [
              "    total_images   last_price  total_area first_day_exposition  rooms  \\\n",
              "3              0 64900000.000     159.000           2015-07-24      3   \n",
              "7              5  7915000.000      71.600           2019-04-18      2   \n",
              "30            12  2200000.000      32.800           2018-02-19      1   \n",
              "37            10  1990000.000      45.800           2017-10-28      2   \n",
              "44            13  5350000.000      40.000           2018-11-18      1   \n",
              "\n",
              "    ceiling_height  floors_total  living_area  floor is_apartment  studio  \\\n",
              "3              nan            14          nan      9          NaN   False   \n",
              "7              nan            24          nan     22          NaN   False   \n",
              "30             nan             9          nan      2          NaN   False   \n",
              "37           2.500             5          nan      1          NaN   False   \n",
              "44             nan            22          nan      3          NaN   False   \n",
              "\n",
              "    open_plan  kitchen_area  balcony                        locality_name  \\\n",
              "3       False           nan    0.000                      Санкт-Петербург   \n",
              "7       False        18.900    2.000                      Санкт-Петербург   \n",
              "30      False           nan      nan                             Коммунар   \n",
              "37      False           nan      nan  поселок городского типа Красный Бор   \n",
              "44      False           nan    1.000                      Санкт-Петербург   \n",
              "\n",
              "    airports_nearest  city_centers_nearest  parks_around_3000  parks_nearest  \\\n",
              "3          28098.000              6800.000              2.000         84.000   \n",
              "7          23982.000             11634.000              0.000            nan   \n",
              "30               nan                   nan                nan            nan   \n",
              "37               nan                   nan                nan            nan   \n",
              "44         30471.000             11603.000              1.000        620.000   \n",
              "\n",
              "    ponds_around_3000  ponds_nearest  days_exposition  \n",
              "3               3.000        234.000          424.000  \n",
              "7               0.000            nan              nan  \n",
              "30                nan            nan           63.000  \n",
              "37                nan            nan          196.000  \n",
              "44              1.000       1152.000              nan  "
            ]
          },
          "metadata": {},
          "execution_count": 23
        }
      ]
    },
    {
      "cell_type": "markdown",
      "metadata": {
        "id": "4QepEg20i8Bo"
      },
      "source": [
        "Поступаем аналогично и применим написанную выше функцию no_NAN. Для этого сгруппируем данные."
      ]
    },
    {
      "cell_type": "code",
      "metadata": {
        "id": "OOKmFYARi8Bp",
        "colab": {
          "base_uri": "https://localhost:8080/"
        },
        "outputId": "82f4e959-10b5-41db-d9bc-41c269b99b7e"
      },
      "source": [
        "data['total_area_group'] = pd.qcut(data['total_area'], 5, labels=[\"студия\", \"не большие\", \"средние\", \"большие\", \"очень большие\",])\n",
        "data['total_area_group'].value_counts()"
      ],
      "execution_count": 24,
      "outputs": [
        {
          "output_type": "execute_result",
          "data": {
            "text/plain": [
              "не большие       4962\n",
              "студия           4733\n",
              "очень большие    4720\n",
              "большие          4635\n",
              "средние          4563\n",
              "Name: total_area_group, dtype: int64"
            ]
          },
          "metadata": {},
          "execution_count": 24
        }
      ]
    },
    {
      "cell_type": "markdown",
      "metadata": {
        "id": "LEKhpz8Pi8Bp"
      },
      "source": [
        "Применяем фунцию - проверяем результат."
      ]
    },
    {
      "cell_type": "code",
      "metadata": {
        "scrolled": false,
        "id": "50P_TgSAi8Bq",
        "colab": {
          "base_uri": "https://localhost:8080/"
        },
        "outputId": "73bc9770-de55-4dcf-ce19-27f5a1aa5366"
      },
      "source": [
        "data = no_NaN(data, 'living_area', 'total_area_group')\n",
        "data.info()"
      ],
      "execution_count": 25,
      "outputs": [
        {
          "output_type": "stream",
          "name": "stdout",
          "text": [
            "<class 'pandas.core.frame.DataFrame'>\n",
            "Int64Index: 23613 entries, 0 to 23698\n",
            "Data columns (total 23 columns):\n",
            " #   Column                Non-Null Count  Dtype         \n",
            "---  ------                --------------  -----         \n",
            " 0   total_images          23613 non-null  int64         \n",
            " 1   last_price            23613 non-null  float64       \n",
            " 2   total_area            23613 non-null  float64       \n",
            " 3   first_day_exposition  23613 non-null  datetime64[ns]\n",
            " 4   rooms                 23613 non-null  int64         \n",
            " 5   ceiling_height        14495 non-null  float64       \n",
            " 6   floors_total          23613 non-null  int64         \n",
            " 7   living_area           23613 non-null  float64       \n",
            " 8   floor                 23613 non-null  int64         \n",
            " 9   is_apartment          2775 non-null   object        \n",
            " 10  studio                23613 non-null  bool          \n",
            " 11  open_plan             23613 non-null  bool          \n",
            " 12  kitchen_area          21382 non-null  float64       \n",
            " 13  balcony               12133 non-null  float64       \n",
            " 14  locality_name         23565 non-null  object        \n",
            " 15  airports_nearest      18081 non-null  float64       \n",
            " 16  city_centers_nearest  18104 non-null  float64       \n",
            " 17  parks_around_3000     18105 non-null  float64       \n",
            " 18  parks_nearest         8045 non-null   float64       \n",
            " 19  ponds_around_3000     18105 non-null  float64       \n",
            " 20  ponds_nearest         9061 non-null   float64       \n",
            " 21  days_exposition       20441 non-null  float64       \n",
            " 22  total_area_group      23613 non-null  category      \n",
            "dtypes: bool(2), category(1), datetime64[ns](1), float64(13), int64(4), object(2)\n",
            "memory usage: 3.9+ MB\n"
          ]
        }
      ]
    },
    {
      "cell_type": "code",
      "metadata": {
        "id": "sV3CEKAai8Bq",
        "colab": {
          "base_uri": "https://localhost:8080/"
        },
        "outputId": "e56a3e92-057e-4597-82fb-dd4245094bc0"
      },
      "source": [
        "data['living_area'].value_counts(bins=4)"
      ],
      "execution_count": 26,
      "outputs": [
        {
          "output_type": "execute_result",
          "data": {
            "text/plain": [
              "(1.5910000000000002, 103.925]    23297\n",
              "(103.925, 205.85]                  286\n",
              "(205.85, 307.775]                   24\n",
              "(307.775, 409.7]                     6\n",
              "Name: living_area, dtype: int64"
            ]
          },
          "metadata": {},
          "execution_count": 26
        }
      ]
    },
    {
      "cell_type": "markdown",
      "metadata": {
        "id": "55IPo7TIi8Bq"
      },
      "source": [
        "Так же применяем фунцию no_artefact для замены недостоверных данных. А именно удаляем минимальные значения (1,5 метра - скорее всего не реальное значение). Ограничивать максимальные значения не целесообразно."
      ]
    },
    {
      "cell_type": "code",
      "metadata": {
        "id": "IEUKAUdHi8Bq",
        "colab": {
          "base_uri": "https://localhost:8080/"
        },
        "outputId": "8e679189-c975-4f38-b890-abc80dbfa219"
      },
      "source": [
        "data = no_artefact(data, 'living_area', 'total_area_group', 10, 5000)\n",
        "data['living_area'].value_counts(bins=4)"
      ],
      "execution_count": 27,
      "outputs": [
        {
          "output_type": "execute_result",
          "data": {
            "text/plain": [
              "(9.679, 109.985]     23342\n",
              "(109.985, 209.89]      241\n",
              "(209.89, 309.795]       24\n",
              "(309.795, 409.7]         6\n",
              "Name: living_area, dtype: int64"
            ]
          },
          "metadata": {},
          "execution_count": 27
        }
      ]
    },
    {
      "cell_type": "markdown",
      "metadata": {
        "id": "3_KT7uzCi8Bs"
      },
      "source": [
        "     \n",
        " Следующий столбец - is_apartment. В данном столбце 88 % пропуском. Думаю достоверно заменить такое количество невозможно. Оставим данные как есть.       "
      ]
    },
    {
      "cell_type": "markdown",
      "metadata": {
        "id": "YcWZCbcFi8Bt"
      },
      "source": [
        "Продолжаем. Следующий столбец - 'kitchen_area' заполняем с помощью функции."
      ]
    },
    {
      "cell_type": "code",
      "metadata": {
        "id": "a19ydiOki8Bt",
        "colab": {
          "base_uri": "https://localhost:8080/"
        },
        "outputId": "48c3959c-513f-483d-c212-69776e9f111d"
      },
      "source": [
        "data = no_NaN(data, 'kitchen_area', 'total_area_group')\n",
        "data.info()"
      ],
      "execution_count": 28,
      "outputs": [
        {
          "output_type": "stream",
          "name": "stdout",
          "text": [
            "<class 'pandas.core.frame.DataFrame'>\n",
            "Int64Index: 23613 entries, 0 to 23698\n",
            "Data columns (total 23 columns):\n",
            " #   Column                Non-Null Count  Dtype         \n",
            "---  ------                --------------  -----         \n",
            " 0   total_images          23613 non-null  int64         \n",
            " 1   last_price            23613 non-null  float64       \n",
            " 2   total_area            23613 non-null  float64       \n",
            " 3   first_day_exposition  23613 non-null  datetime64[ns]\n",
            " 4   rooms                 23613 non-null  int64         \n",
            " 5   ceiling_height        14495 non-null  float64       \n",
            " 6   floors_total          23613 non-null  int64         \n",
            " 7   living_area           23613 non-null  float64       \n",
            " 8   floor                 23613 non-null  int64         \n",
            " 9   is_apartment          2775 non-null   object        \n",
            " 10  studio                23613 non-null  bool          \n",
            " 11  open_plan             23613 non-null  bool          \n",
            " 12  kitchen_area          23613 non-null  float64       \n",
            " 13  balcony               12133 non-null  float64       \n",
            " 14  locality_name         23565 non-null  object        \n",
            " 15  airports_nearest      18081 non-null  float64       \n",
            " 16  city_centers_nearest  18104 non-null  float64       \n",
            " 17  parks_around_3000     18105 non-null  float64       \n",
            " 18  parks_nearest         8045 non-null   float64       \n",
            " 19  ponds_around_3000     18105 non-null  float64       \n",
            " 20  ponds_nearest         9061 non-null   float64       \n",
            " 21  days_exposition       20441 non-null  float64       \n",
            " 22  total_area_group      23613 non-null  category      \n",
            "dtypes: bool(2), category(1), datetime64[ns](1), float64(13), int64(4), object(2)\n",
            "memory usage: 3.9+ MB\n"
          ]
        }
      ]
    },
    {
      "cell_type": "markdown",
      "metadata": {
        "id": "nrFgWnPDi8Bu"
      },
      "source": [
        "Если человек не указал количество балконов логично предположить, что их нет. В столбце balcony пропуски заменяем на 0. И меняем тип данных на целочисленный."
      ]
    },
    {
      "cell_type": "code",
      "metadata": {
        "id": "3QKTDR3ai8Bu",
        "colab": {
          "base_uri": "https://localhost:8080/"
        },
        "outputId": "a4602a75-e47c-4d14-95cf-7e159b811426"
      },
      "source": [
        "data['balcony'] = data['balcony'].fillna(0).astype('int')\n",
        "data.info()"
      ],
      "execution_count": 29,
      "outputs": [
        {
          "output_type": "stream",
          "name": "stdout",
          "text": [
            "<class 'pandas.core.frame.DataFrame'>\n",
            "Int64Index: 23613 entries, 0 to 23698\n",
            "Data columns (total 23 columns):\n",
            " #   Column                Non-Null Count  Dtype         \n",
            "---  ------                --------------  -----         \n",
            " 0   total_images          23613 non-null  int64         \n",
            " 1   last_price            23613 non-null  float64       \n",
            " 2   total_area            23613 non-null  float64       \n",
            " 3   first_day_exposition  23613 non-null  datetime64[ns]\n",
            " 4   rooms                 23613 non-null  int64         \n",
            " 5   ceiling_height        14495 non-null  float64       \n",
            " 6   floors_total          23613 non-null  int64         \n",
            " 7   living_area           23613 non-null  float64       \n",
            " 8   floor                 23613 non-null  int64         \n",
            " 9   is_apartment          2775 non-null   object        \n",
            " 10  studio                23613 non-null  bool          \n",
            " 11  open_plan             23613 non-null  bool          \n",
            " 12  kitchen_area          23613 non-null  float64       \n",
            " 13  balcony               23613 non-null  int64         \n",
            " 14  locality_name         23565 non-null  object        \n",
            " 15  airports_nearest      18081 non-null  float64       \n",
            " 16  city_centers_nearest  18104 non-null  float64       \n",
            " 17  parks_around_3000     18105 non-null  float64       \n",
            " 18  parks_nearest         8045 non-null   float64       \n",
            " 19  ponds_around_3000     18105 non-null  float64       \n",
            " 20  ponds_nearest         9061 non-null   float64       \n",
            " 21  days_exposition       20441 non-null  float64       \n",
            " 22  total_area_group      23613 non-null  category      \n",
            "dtypes: bool(2), category(1), datetime64[ns](1), float64(12), int64(5), object(2)\n",
            "memory usage: 3.9+ MB\n"
          ]
        }
      ]
    },
    {
      "cell_type": "markdown",
      "metadata": {
        "id": "VhJaFaati8Bu"
      },
      "source": [
        "Столбец locality_name."
      ]
    },
    {
      "cell_type": "code",
      "metadata": {
        "id": "iMXC_Q7ti8Bu",
        "colab": {
          "base_uri": "https://localhost:8080/"
        },
        "outputId": "6d069c22-29ff-4c9e-c18f-df2bc8dfb1ca"
      },
      "source": [
        "len(data[data['locality_name'].isna()])\n"
      ],
      "execution_count": 30,
      "outputs": [
        {
          "output_type": "execute_result",
          "data": {
            "text/plain": [
              "48"
            ]
          },
          "metadata": {},
          "execution_count": 30
        }
      ]
    },
    {
      "cell_type": "markdown",
      "metadata": {
        "id": "MD2xo9__i8Bu"
      },
      "source": [
        "Всего 48 значений. Удаляем. И заодно приведем вид наименования населенного пункта к единообразию.  Так же заменим букву ё на е, для уменьшения дублей."
      ]
    },
    {
      "cell_type": "code",
      "metadata": {
        "id": "QNdUyYNDi8Bv",
        "colab": {
          "base_uri": "https://localhost:8080/"
        },
        "outputId": "7ad5e8e7-21e1-4347-c971-a4d20a1aeac7"
      },
      "source": [
        "data.dropna(subset=['locality_name'], inplace=True)\n",
        "data['locality_name'] = data['locality_name'].str.lower()\n",
        "data['locality_name'] = data['locality_name'].str.replace('ё', 'е')\n",
        "data.info()"
      ],
      "execution_count": 31,
      "outputs": [
        {
          "output_type": "stream",
          "name": "stdout",
          "text": [
            "<class 'pandas.core.frame.DataFrame'>\n",
            "Int64Index: 23565 entries, 0 to 23698\n",
            "Data columns (total 23 columns):\n",
            " #   Column                Non-Null Count  Dtype         \n",
            "---  ------                --------------  -----         \n",
            " 0   total_images          23565 non-null  int64         \n",
            " 1   last_price            23565 non-null  float64       \n",
            " 2   total_area            23565 non-null  float64       \n",
            " 3   first_day_exposition  23565 non-null  datetime64[ns]\n",
            " 4   rooms                 23565 non-null  int64         \n",
            " 5   ceiling_height        14481 non-null  float64       \n",
            " 6   floors_total          23565 non-null  int64         \n",
            " 7   living_area           23565 non-null  float64       \n",
            " 8   floor                 23565 non-null  int64         \n",
            " 9   is_apartment          2760 non-null   object        \n",
            " 10  studio                23565 non-null  bool          \n",
            " 11  open_plan             23565 non-null  bool          \n",
            " 12  kitchen_area          23565 non-null  float64       \n",
            " 13  balcony               23565 non-null  int64         \n",
            " 14  locality_name         23565 non-null  object        \n",
            " 15  airports_nearest      18041 non-null  float64       \n",
            " 16  city_centers_nearest  18064 non-null  float64       \n",
            " 17  parks_around_3000     18065 non-null  float64       \n",
            " 18  parks_nearest         8030 non-null   float64       \n",
            " 19  ponds_around_3000     18065 non-null  float64       \n",
            " 20  ponds_nearest         9036 non-null   float64       \n",
            " 21  days_exposition       20394 non-null  float64       \n",
            " 22  total_area_group      23565 non-null  category      \n",
            "dtypes: bool(2), category(1), datetime64[ns](1), float64(12), int64(5), object(2)\n",
            "memory usage: 3.8+ MB\n"
          ]
        }
      ]
    },
    {
      "cell_type": "markdown",
      "metadata": {
        "id": "mr8vbkl6i8Bw"
      },
      "source": [
        "        \n",
        " Столбец 'days_exposition' имеет слишком много пропусков. Оставим его без именений."
      ]
    },
    {
      "cell_type": "markdown",
      "metadata": {
        "id": "nBTvtrpUi8Bw"
      },
      "source": [
        "### Вывод\n"
      ]
    },
    {
      "cell_type": "markdown",
      "metadata": {
        "id": "rG5nJJKTi8Bw"
      },
      "source": [
        "В данной таблице было множество пропусков, в большинстве столбцов. Таблицу можно разделить на два типа данных - заполненых пользователями и картографические данные заполненые автомачитески. Считаю умесным заполнить только пропуски в данных заполненых пользователями, так как именно эти данные будут играть большую роль в определении рыночной цены недвижомости. Картографические данные так же важны, но достоверно заменить пропуски в них будет проблематично, так как дынные отсутсвуют по всему населенному пункту, следовательно заменить их на подобное значение в соответсвующей группе не получиться. По данному вопросу нужно создать баг-репорт и обратиться к разработчикам  для исправления данных. Нам же будет достаточнои тех что остались заполеными. Основной населенный пунк Санкт-петербург заполнен. Начнём наше исследование, данных для него достаточно."
      ]
    },
    {
      "cell_type": "markdown",
      "metadata": {
        "id": "ilMg4jvUi8Bw"
      },
      "source": [
        "<div class=\"alert alert-warning\">\n",
        "    <h2> Комментарий ревьюера <a class=\"tocSkip\"> </h2>\n",
        "    \n",
        "<b>Некоторые замечания и рекомендации💡:</b> \n",
        "\n",
        "Андрей, ты предложил определенные стратегии заполнения пропусков в данных, основанные на биннинге, в целом, это интересное решение, но хочу напомнить о том, что важно понимать риски тех способов, которые ты используешь для обработки пропусков.\n",
        "    \n",
        "Например, не совсем корректно заменять пропуски в ceiling_height на среднее или медианное значение потолков (это же касается моды). В этой колонке отсутствует около 38% данных. Это очень много, и сложно найти веские причины для таких радикальных трансформаций. А в случае замены на конкретное значение без ссылки на источники - это, скорее, искажение исходных данных, а не их обогащение. По поводу того, насколько биннинг здесь может отработать корректно с точки зрения рисков искажения данных - вопрос дискуссионный.\n",
        "    \n",
        "Такая стратегия удачна для переменных, в которых отсутствует до 10% данных.\n",
        "\n",
        "Зачем мы вообще проводим EDA? Есть два пункта:\n",
        "1. Мы хотим получить какие-то инсайты о данных (средние значения, минимумы, максимумы и т.д.), чтобы описать, например, среднестатистическую продаваемую квартиру.\n",
        "2. Мы хотим проверить, подходят ли данные для моделирования (смотрим на аномалии, распределения переменных и другие характеристики) — об этом ты узнаешь в последующих уроках🙌\n",
        "    \n",
        "Соответственно, мы должны быть очень осторожны с изменением изначальных данных. Трансформации с булевыми переменными не должны сильно повлиять на наши будущие интерпретации, так как логика замены очень сильная: если нет положительного ответа, значит, он отрицательный. (так, например, в случае is_apartment можно предположить бинарную природу этих данных, в изначальном виде там как раз содержались значения True и False, но в целом согласна, что опять же процент пропусков большой и мы точно не знаем, является ли NaN, например, False. Удалить данные столбец тоже решение дискуссионное, если он не используется в анализе, наверно, можно попробовать просто не трогать эти данные) Но все остальные преобразования — под вопросом, поскольку это искусственная замена.\n",
        "\n",
        "Также в этих данных есть картографические данные (расстояние до парков и проч), эти данные тоже не совсем продуктивно восполнять, потому что процент пропусков слишком большой, наверняка эти данные заполнялись автоматически, поэтому сложно восстановить их каким-то известным способом, я бы не рекомендовала заполнять пропуски в этих колонках.\n",
        "\n",
        "    \n",
        "Конечно, последнее слово всегда за аналитиком, но в реальной жизни важно понимать вероятность того, что объективность данных может быть искажена подобными. Чтобы доказать обратное, можно, например, сравнить распределения и ключевые статистики до и после замены.\n",
        "    \n",
        "Хочу посоветовать тебе статью, которая рассматривает разные способы обработки пропусков, выделяет их плюсы и минусы, думаю, тебе может быть интересно: https://loginom.ru/blog/missing\n",
        "    \n",
        "Какие стратегии замены были бы наименее \"болезненными\" и  \"искажающими\"? Можно попробовать заполнить пропуски по группировкам (ты опять де использовал по сути разновидность граппировки - бинниг и замену на медиану по группе). Или построить корреляционную матрицу, посмотреть, какие переменные коррелируют между собой, и на основе корреляции и группировки заполнить пропуски. Но при этом опять-таки важно оценивать масштаб проблемы, и применять любые стратегии заполнения только там, где это действительно уместно и возможно, как и сказано в инструкции к проекту."
      ]
    },
    {
      "cell_type": "markdown",
      "metadata": {
        "id": "Y1U7_VKni8Bx"
      },
      "source": [
        "<div class=\"alert alert-warning\">\n",
        "    <h2> Комментарий ревьюера <a class=\"tocSkip\"> </h2>\n",
        "    \n",
        "<b>Некоторые замечания и рекомендации💡:</b> \n",
        "        \n",
        "Хорошо, что ты обратил внимание на колонку с названиями населенных пунктов и попытался обработать значения в ней.\n",
        "        \n",
        "Я бы также на этапе предобработки данных в этой колонке порекомендовала попробовать поменять букву ё на е. Это также поможет избавиться от неявных дубликатов. В этом тебе поможет метод `str.replace()`"
      ]
    },
    {
      "cell_type": "markdown",
      "metadata": {
        "id": "z-qJUMlai8Bx"
      },
      "source": [
        "<div class=\"alert alert-info\">\n",
        "    <h2> Комментарий студента <a class=\"tocSkip\"> </h2>\n",
        "    \n",
        "        \n",
        "Спасибо большое за такое развёрнутое замечание. Я уверен, что в будущем мне эта информация пригодится. Из вышесказанного я сделал следующий краткий вывод - столбцы с долей пропусков больше 10 % лучше нетрогать (можем испортить данные), а если очень надо, то делаем это осторожно, учитвая индивидуальные особенности данных. "
      ]
    },
    {
      "cell_type": "markdown",
      "metadata": {
        "id": "xjeiR9k0i8By"
      },
      "source": [
        "<div class=\"alert alert-success\">\n",
        "<h2> Комментарий ревьюера: вторая итерация ревью <a class=\"tocSkip\"> </h2>\n",
        "\n",
        "<b>Все отлично!👍:</b> \n",
        "    \n",
        "Да, абсолютно верно! Работа с пропусками, с моей точки зрения,одна из самых сложных задач в работе аналитика, потому что в большинстве, если не во всех сферах, искажение данных может привести к не самым благоприятным последствиям, и аналитику в этом смысле приходится принимать решения и брать на себя ответственность. Есть ряд техник по заполнению пропусков, не считаю логических восполнений, да, с ними надо быть осторожными и стараться по возможности восполнять данные не самостоятельно, а с применением источника, если он доступен."
      ]
    },
    {
      "cell_type": "markdown",
      "metadata": {
        "id": "6nmr7pSei8By"
      },
      "source": [
        "## Расчёты и добавление результатов в таблицу"
      ]
    },
    {
      "cell_type": "markdown",
      "metadata": {
        "id": "CLDN4NBQi8By"
      },
      "source": [
        "Расчитаем цену квадратного метра."
      ]
    },
    {
      "cell_type": "code",
      "metadata": {
        "id": "juIwUCATi8By"
      },
      "source": [
        "data['sqmetr_price'] = data['last_price'] / data['total_area']"
      ],
      "execution_count": 32,
      "outputs": []
    },
    {
      "cell_type": "code",
      "metadata": {
        "id": "mgHypRN4i8Bz",
        "outputId": "5286593a-5357-4fc8-a53a-fb8ff554808a",
        "colab": {
          "base_uri": "https://localhost:8080/",
          "height": 357
        }
      },
      "source": [
        "data.sample(5)"
      ],
      "execution_count": 33,
      "outputs": [
        {
          "output_type": "execute_result",
          "data": {
            "text/html": [
              "\n",
              "  <div id=\"df-2e2474b9-a61c-4d0b-a7e1-5599ad284973\">\n",
              "    <div class=\"colab-df-container\">\n",
              "      <div>\n",
              "<style scoped>\n",
              "    .dataframe tbody tr th:only-of-type {\n",
              "        vertical-align: middle;\n",
              "    }\n",
              "\n",
              "    .dataframe tbody tr th {\n",
              "        vertical-align: top;\n",
              "    }\n",
              "\n",
              "    .dataframe thead th {\n",
              "        text-align: right;\n",
              "    }\n",
              "</style>\n",
              "<table border=\"1\" class=\"dataframe\">\n",
              "  <thead>\n",
              "    <tr style=\"text-align: right;\">\n",
              "      <th></th>\n",
              "      <th>total_images</th>\n",
              "      <th>last_price</th>\n",
              "      <th>total_area</th>\n",
              "      <th>first_day_exposition</th>\n",
              "      <th>rooms</th>\n",
              "      <th>ceiling_height</th>\n",
              "      <th>floors_total</th>\n",
              "      <th>living_area</th>\n",
              "      <th>floor</th>\n",
              "      <th>is_apartment</th>\n",
              "      <th>studio</th>\n",
              "      <th>open_plan</th>\n",
              "      <th>kitchen_area</th>\n",
              "      <th>balcony</th>\n",
              "      <th>locality_name</th>\n",
              "      <th>airports_nearest</th>\n",
              "      <th>city_centers_nearest</th>\n",
              "      <th>parks_around_3000</th>\n",
              "      <th>parks_nearest</th>\n",
              "      <th>ponds_around_3000</th>\n",
              "      <th>ponds_nearest</th>\n",
              "      <th>days_exposition</th>\n",
              "      <th>total_area_group</th>\n",
              "      <th>sqmetr_price</th>\n",
              "    </tr>\n",
              "  </thead>\n",
              "  <tbody>\n",
              "    <tr>\n",
              "      <th>4330</th>\n",
              "      <td>6</td>\n",
              "      <td>4250000.000</td>\n",
              "      <td>55.100</td>\n",
              "      <td>2017-05-16</td>\n",
              "      <td>3</td>\n",
              "      <td>2.600</td>\n",
              "      <td>5</td>\n",
              "      <td>41.000</td>\n",
              "      <td>3</td>\n",
              "      <td>NaN</td>\n",
              "      <td>False</td>\n",
              "      <td>False</td>\n",
              "      <td>5.500</td>\n",
              "      <td>0</td>\n",
              "      <td>санкт-петербург</td>\n",
              "      <td>18792.000</td>\n",
              "      <td>13755.000</td>\n",
              "      <td>0.000</td>\n",
              "      <td>nan</td>\n",
              "      <td>0.000</td>\n",
              "      <td>nan</td>\n",
              "      <td>179.000</td>\n",
              "      <td>средние</td>\n",
              "      <td>77132.486</td>\n",
              "    </tr>\n",
              "    <tr>\n",
              "      <th>12875</th>\n",
              "      <td>1</td>\n",
              "      <td>4421650.000</td>\n",
              "      <td>41.530</td>\n",
              "      <td>2014-12-04</td>\n",
              "      <td>1</td>\n",
              "      <td>nan</td>\n",
              "      <td>25</td>\n",
              "      <td>17.340</td>\n",
              "      <td>1</td>\n",
              "      <td>NaN</td>\n",
              "      <td>False</td>\n",
              "      <td>False</td>\n",
              "      <td>9.670</td>\n",
              "      <td>0</td>\n",
              "      <td>санкт-петербург</td>\n",
              "      <td>43254.000</td>\n",
              "      <td>12012.000</td>\n",
              "      <td>0.000</td>\n",
              "      <td>nan</td>\n",
              "      <td>0.000</td>\n",
              "      <td>nan</td>\n",
              "      <td>911.000</td>\n",
              "      <td>не большие</td>\n",
              "      <td>106468.818</td>\n",
              "    </tr>\n",
              "    <tr>\n",
              "      <th>4742</th>\n",
              "      <td>14</td>\n",
              "      <td>2995000.000</td>\n",
              "      <td>40.400</td>\n",
              "      <td>2018-10-22</td>\n",
              "      <td>1</td>\n",
              "      <td>nan</td>\n",
              "      <td>10</td>\n",
              "      <td>18.600</td>\n",
              "      <td>4</td>\n",
              "      <td>NaN</td>\n",
              "      <td>False</td>\n",
              "      <td>False</td>\n",
              "      <td>10.780</td>\n",
              "      <td>1</td>\n",
              "      <td>деревня кальтино</td>\n",
              "      <td>nan</td>\n",
              "      <td>nan</td>\n",
              "      <td>nan</td>\n",
              "      <td>nan</td>\n",
              "      <td>nan</td>\n",
              "      <td>nan</td>\n",
              "      <td>94.000</td>\n",
              "      <td>не большие</td>\n",
              "      <td>74133.663</td>\n",
              "    </tr>\n",
              "    <tr>\n",
              "      <th>6301</th>\n",
              "      <td>13</td>\n",
              "      <td>4950000.000</td>\n",
              "      <td>42.000</td>\n",
              "      <td>2017-05-05</td>\n",
              "      <td>1</td>\n",
              "      <td>2.780</td>\n",
              "      <td>16</td>\n",
              "      <td>20.200</td>\n",
              "      <td>16</td>\n",
              "      <td>NaN</td>\n",
              "      <td>False</td>\n",
              "      <td>False</td>\n",
              "      <td>12.400</td>\n",
              "      <td>2</td>\n",
              "      <td>санкт-петербург</td>\n",
              "      <td>44881.000</td>\n",
              "      <td>17385.000</td>\n",
              "      <td>1.000</td>\n",
              "      <td>192.000</td>\n",
              "      <td>0.000</td>\n",
              "      <td>nan</td>\n",
              "      <td>252.000</td>\n",
              "      <td>не большие</td>\n",
              "      <td>117857.143</td>\n",
              "    </tr>\n",
              "    <tr>\n",
              "      <th>958</th>\n",
              "      <td>18</td>\n",
              "      <td>6500000.000</td>\n",
              "      <td>72.000</td>\n",
              "      <td>2019-04-15</td>\n",
              "      <td>3</td>\n",
              "      <td>2.600</td>\n",
              "      <td>12</td>\n",
              "      <td>48.000</td>\n",
              "      <td>1</td>\n",
              "      <td>NaN</td>\n",
              "      <td>False</td>\n",
              "      <td>False</td>\n",
              "      <td>7.200</td>\n",
              "      <td>0</td>\n",
              "      <td>санкт-петербург</td>\n",
              "      <td>32066.000</td>\n",
              "      <td>12658.000</td>\n",
              "      <td>0.000</td>\n",
              "      <td>nan</td>\n",
              "      <td>0.000</td>\n",
              "      <td>nan</td>\n",
              "      <td>nan</td>\n",
              "      <td>большие</td>\n",
              "      <td>90277.778</td>\n",
              "    </tr>\n",
              "  </tbody>\n",
              "</table>\n",
              "</div>\n",
              "      <button class=\"colab-df-convert\" onclick=\"convertToInteractive('df-2e2474b9-a61c-4d0b-a7e1-5599ad284973')\"\n",
              "              title=\"Convert this dataframe to an interactive table.\"\n",
              "              style=\"display:none;\">\n",
              "        \n",
              "  <svg xmlns=\"http://www.w3.org/2000/svg\" height=\"24px\"viewBox=\"0 0 24 24\"\n",
              "       width=\"24px\">\n",
              "    <path d=\"M0 0h24v24H0V0z\" fill=\"none\"/>\n",
              "    <path d=\"M18.56 5.44l.94 2.06.94-2.06 2.06-.94-2.06-.94-.94-2.06-.94 2.06-2.06.94zm-11 1L8.5 8.5l.94-2.06 2.06-.94-2.06-.94L8.5 2.5l-.94 2.06-2.06.94zm10 10l.94 2.06.94-2.06 2.06-.94-2.06-.94-.94-2.06-.94 2.06-2.06.94z\"/><path d=\"M17.41 7.96l-1.37-1.37c-.4-.4-.92-.59-1.43-.59-.52 0-1.04.2-1.43.59L10.3 9.45l-7.72 7.72c-.78.78-.78 2.05 0 2.83L4 21.41c.39.39.9.59 1.41.59.51 0 1.02-.2 1.41-.59l7.78-7.78 2.81-2.81c.8-.78.8-2.07 0-2.86zM5.41 20L4 18.59l7.72-7.72 1.47 1.35L5.41 20z\"/>\n",
              "  </svg>\n",
              "      </button>\n",
              "      \n",
              "  <style>\n",
              "    .colab-df-container {\n",
              "      display:flex;\n",
              "      flex-wrap:wrap;\n",
              "      gap: 12px;\n",
              "    }\n",
              "\n",
              "    .colab-df-convert {\n",
              "      background-color: #E8F0FE;\n",
              "      border: none;\n",
              "      border-radius: 50%;\n",
              "      cursor: pointer;\n",
              "      display: none;\n",
              "      fill: #1967D2;\n",
              "      height: 32px;\n",
              "      padding: 0 0 0 0;\n",
              "      width: 32px;\n",
              "    }\n",
              "\n",
              "    .colab-df-convert:hover {\n",
              "      background-color: #E2EBFA;\n",
              "      box-shadow: 0px 1px 2px rgba(60, 64, 67, 0.3), 0px 1px 3px 1px rgba(60, 64, 67, 0.15);\n",
              "      fill: #174EA6;\n",
              "    }\n",
              "\n",
              "    [theme=dark] .colab-df-convert {\n",
              "      background-color: #3B4455;\n",
              "      fill: #D2E3FC;\n",
              "    }\n",
              "\n",
              "    [theme=dark] .colab-df-convert:hover {\n",
              "      background-color: #434B5C;\n",
              "      box-shadow: 0px 1px 3px 1px rgba(0, 0, 0, 0.15);\n",
              "      filter: drop-shadow(0px 1px 2px rgba(0, 0, 0, 0.3));\n",
              "      fill: #FFFFFF;\n",
              "    }\n",
              "  </style>\n",
              "\n",
              "      <script>\n",
              "        const buttonEl =\n",
              "          document.querySelector('#df-2e2474b9-a61c-4d0b-a7e1-5599ad284973 button.colab-df-convert');\n",
              "        buttonEl.style.display =\n",
              "          google.colab.kernel.accessAllowed ? 'block' : 'none';\n",
              "\n",
              "        async function convertToInteractive(key) {\n",
              "          const element = document.querySelector('#df-2e2474b9-a61c-4d0b-a7e1-5599ad284973');\n",
              "          const dataTable =\n",
              "            await google.colab.kernel.invokeFunction('convertToInteractive',\n",
              "                                                     [key], {});\n",
              "          if (!dataTable) return;\n",
              "\n",
              "          const docLinkHtml = 'Like what you see? Visit the ' +\n",
              "            '<a target=\"_blank\" href=https://colab.research.google.com/notebooks/data_table.ipynb>data table notebook</a>'\n",
              "            + ' to learn more about interactive tables.';\n",
              "          element.innerHTML = '';\n",
              "          dataTable['output_type'] = 'display_data';\n",
              "          await google.colab.output.renderOutput(dataTable, element);\n",
              "          const docLink = document.createElement('div');\n",
              "          docLink.innerHTML = docLinkHtml;\n",
              "          element.appendChild(docLink);\n",
              "        }\n",
              "      </script>\n",
              "    </div>\n",
              "  </div>\n",
              "  "
            ],
            "text/plain": [
              "       total_images  last_price  total_area first_day_exposition  rooms  \\\n",
              "4330              6 4250000.000      55.100           2017-05-16      3   \n",
              "12875             1 4421650.000      41.530           2014-12-04      1   \n",
              "4742             14 2995000.000      40.400           2018-10-22      1   \n",
              "6301             13 4950000.000      42.000           2017-05-05      1   \n",
              "958              18 6500000.000      72.000           2019-04-15      3   \n",
              "\n",
              "       ceiling_height  floors_total  living_area  floor is_apartment  studio  \\\n",
              "4330            2.600             5       41.000      3          NaN   False   \n",
              "12875             nan            25       17.340      1          NaN   False   \n",
              "4742              nan            10       18.600      4          NaN   False   \n",
              "6301            2.780            16       20.200     16          NaN   False   \n",
              "958             2.600            12       48.000      1          NaN   False   \n",
              "\n",
              "       open_plan  kitchen_area  balcony     locality_name  airports_nearest  \\\n",
              "4330       False         5.500        0   санкт-петербург         18792.000   \n",
              "12875      False         9.670        0   санкт-петербург         43254.000   \n",
              "4742       False        10.780        1  деревня кальтино               nan   \n",
              "6301       False        12.400        2   санкт-петербург         44881.000   \n",
              "958        False         7.200        0   санкт-петербург         32066.000   \n",
              "\n",
              "       city_centers_nearest  parks_around_3000  parks_nearest  \\\n",
              "4330              13755.000              0.000            nan   \n",
              "12875             12012.000              0.000            nan   \n",
              "4742                    nan                nan            nan   \n",
              "6301              17385.000              1.000        192.000   \n",
              "958               12658.000              0.000            nan   \n",
              "\n",
              "       ponds_around_3000  ponds_nearest  days_exposition total_area_group  \\\n",
              "4330               0.000            nan          179.000          средние   \n",
              "12875              0.000            nan          911.000       не большие   \n",
              "4742                 nan            nan           94.000       не большие   \n",
              "6301               0.000            nan          252.000       не большие   \n",
              "958                0.000            nan              nan          большие   \n",
              "\n",
              "       sqmetr_price  \n",
              "4330      77132.486  \n",
              "12875    106468.818  \n",
              "4742      74133.663  \n",
              "6301     117857.143  \n",
              "958       90277.778  "
            ]
          },
          "metadata": {},
          "execution_count": 33
        }
      ]
    },
    {
      "cell_type": "markdown",
      "metadata": {
        "id": "eTjy5My2i8Bz"
      },
      "source": [
        "Узнаем день недели, месяц и год подачи объявления."
      ]
    },
    {
      "cell_type": "code",
      "metadata": {
        "id": "DOfJT-oSi8Bz"
      },
      "source": [
        "data['weekday_exposition'] = data['first_day_exposition'].dt.weekday\n",
        "data['month_exposition']= pd.DatetimeIndex(data['first_day_exposition']).month\n",
        "data['year_exposition']= pd.DatetimeIndex(data['first_day_exposition']).year"
      ],
      "execution_count": 34,
      "outputs": []
    },
    {
      "cell_type": "markdown",
      "metadata": {
        "id": "Ev6AUo91i8Bz"
      },
      "source": [
        "<div class=\"alert alert-warning\">\n",
        "    <h2> Комментарий ревьюера <a class=\"tocSkip\"></h2>\n",
        "    \n",
        "<b>Некоторые замечания и рекомендации💡:</b> \n",
        "    \n",
        "Библиотека `pandas` позволяет решить задачу по выделению названий дней недели и месяцев в более удобном формате: например, есть такой метод как `day_name()` и `month_day()`, которые автоматически добавляют названия дней и месяцев (на английском языке по умолчанию)\n",
        "    \n",
        "    \n",
        "https://www.geeksforgeeks.org/python-pandas-series-dt-day_name/\n",
        "    \n",
        "https://pandas.pydata.org/pandas-docs/stable/reference/api/pandas.Series.dt.day_name.html\n",
        "    \n",
        "https://pandas.pydata.org/pandas-docs/stable/reference/api/pandas.Series.dt.month_name.html\n",
        "    \n",
        "https://www.geeksforgeeks.org/python-pandas-series-dt-month_name/\n",
        "        \n",
        "Ты использовал корректные методы, эти в качестве альтернативы."
      ]
    },
    {
      "cell_type": "code",
      "metadata": {
        "id": "cFOQqPVQi8B0",
        "outputId": "47a8f7e7-c38d-41f8-ecf5-e8a69051c959",
        "colab": {
          "base_uri": "https://localhost:8080/",
          "height": 340
        }
      },
      "source": [
        "data.sample(5)\n"
      ],
      "execution_count": 35,
      "outputs": [
        {
          "output_type": "execute_result",
          "data": {
            "text/html": [
              "\n",
              "  <div id=\"df-a07d5be0-08d3-4464-bf5a-c9cb116c3f8d\">\n",
              "    <div class=\"colab-df-container\">\n",
              "      <div>\n",
              "<style scoped>\n",
              "    .dataframe tbody tr th:only-of-type {\n",
              "        vertical-align: middle;\n",
              "    }\n",
              "\n",
              "    .dataframe tbody tr th {\n",
              "        vertical-align: top;\n",
              "    }\n",
              "\n",
              "    .dataframe thead th {\n",
              "        text-align: right;\n",
              "    }\n",
              "</style>\n",
              "<table border=\"1\" class=\"dataframe\">\n",
              "  <thead>\n",
              "    <tr style=\"text-align: right;\">\n",
              "      <th></th>\n",
              "      <th>total_images</th>\n",
              "      <th>last_price</th>\n",
              "      <th>total_area</th>\n",
              "      <th>first_day_exposition</th>\n",
              "      <th>rooms</th>\n",
              "      <th>ceiling_height</th>\n",
              "      <th>floors_total</th>\n",
              "      <th>living_area</th>\n",
              "      <th>floor</th>\n",
              "      <th>is_apartment</th>\n",
              "      <th>studio</th>\n",
              "      <th>open_plan</th>\n",
              "      <th>kitchen_area</th>\n",
              "      <th>balcony</th>\n",
              "      <th>locality_name</th>\n",
              "      <th>airports_nearest</th>\n",
              "      <th>city_centers_nearest</th>\n",
              "      <th>parks_around_3000</th>\n",
              "      <th>parks_nearest</th>\n",
              "      <th>ponds_around_3000</th>\n",
              "      <th>ponds_nearest</th>\n",
              "      <th>days_exposition</th>\n",
              "      <th>total_area_group</th>\n",
              "      <th>sqmetr_price</th>\n",
              "      <th>weekday_exposition</th>\n",
              "      <th>month_exposition</th>\n",
              "      <th>year_exposition</th>\n",
              "    </tr>\n",
              "  </thead>\n",
              "  <tbody>\n",
              "    <tr>\n",
              "      <th>2085</th>\n",
              "      <td>12</td>\n",
              "      <td>3900000.000</td>\n",
              "      <td>40.000</td>\n",
              "      <td>2017-08-31</td>\n",
              "      <td>1</td>\n",
              "      <td>nan</td>\n",
              "      <td>17</td>\n",
              "      <td>20.200</td>\n",
              "      <td>16</td>\n",
              "      <td>NaN</td>\n",
              "      <td>False</td>\n",
              "      <td>False</td>\n",
              "      <td>9.000</td>\n",
              "      <td>0</td>\n",
              "      <td>санкт-петербург</td>\n",
              "      <td>39622.000</td>\n",
              "      <td>14906.000</td>\n",
              "      <td>0.000</td>\n",
              "      <td>nan</td>\n",
              "      <td>0.000</td>\n",
              "      <td>nan</td>\n",
              "      <td>44.000</td>\n",
              "      <td>не большие</td>\n",
              "      <td>97500.000</td>\n",
              "      <td>3</td>\n",
              "      <td>8</td>\n",
              "      <td>2017</td>\n",
              "    </tr>\n",
              "    <tr>\n",
              "      <th>12199</th>\n",
              "      <td>13</td>\n",
              "      <td>10250000.000</td>\n",
              "      <td>82.000</td>\n",
              "      <td>2017-02-03</td>\n",
              "      <td>3</td>\n",
              "      <td>3.950</td>\n",
              "      <td>3</td>\n",
              "      <td>54.000</td>\n",
              "      <td>2</td>\n",
              "      <td>NaN</td>\n",
              "      <td>False</td>\n",
              "      <td>False</td>\n",
              "      <td>11.000</td>\n",
              "      <td>0</td>\n",
              "      <td>санкт-петербург</td>\n",
              "      <td>22107.000</td>\n",
              "      <td>4894.000</td>\n",
              "      <td>1.000</td>\n",
              "      <td>204.000</td>\n",
              "      <td>0.000</td>\n",
              "      <td>nan</td>\n",
              "      <td>nan</td>\n",
              "      <td>очень большие</td>\n",
              "      <td>125000.000</td>\n",
              "      <td>4</td>\n",
              "      <td>2</td>\n",
              "      <td>2017</td>\n",
              "    </tr>\n",
              "    <tr>\n",
              "      <th>1219</th>\n",
              "      <td>11</td>\n",
              "      <td>3700000.000</td>\n",
              "      <td>39.000</td>\n",
              "      <td>2017-11-10</td>\n",
              "      <td>1</td>\n",
              "      <td>2.650</td>\n",
              "      <td>12</td>\n",
              "      <td>20.000</td>\n",
              "      <td>8</td>\n",
              "      <td>NaN</td>\n",
              "      <td>False</td>\n",
              "      <td>False</td>\n",
              "      <td>8.000</td>\n",
              "      <td>0</td>\n",
              "      <td>санкт-петербург</td>\n",
              "      <td>35449.000</td>\n",
              "      <td>15751.000</td>\n",
              "      <td>1.000</td>\n",
              "      <td>811.000</td>\n",
              "      <td>3.000</td>\n",
              "      <td>559.000</td>\n",
              "      <td>117.000</td>\n",
              "      <td>не большие</td>\n",
              "      <td>94871.795</td>\n",
              "      <td>4</td>\n",
              "      <td>11</td>\n",
              "      <td>2017</td>\n",
              "    </tr>\n",
              "    <tr>\n",
              "      <th>14407</th>\n",
              "      <td>11</td>\n",
              "      <td>1400000.000</td>\n",
              "      <td>36.000</td>\n",
              "      <td>2019-04-16</td>\n",
              "      <td>1</td>\n",
              "      <td>2.500</td>\n",
              "      <td>5</td>\n",
              "      <td>18.000</td>\n",
              "      <td>4</td>\n",
              "      <td>NaN</td>\n",
              "      <td>False</td>\n",
              "      <td>False</td>\n",
              "      <td>9.000</td>\n",
              "      <td>0</td>\n",
              "      <td>деревня сяськелево</td>\n",
              "      <td>nan</td>\n",
              "      <td>nan</td>\n",
              "      <td>nan</td>\n",
              "      <td>nan</td>\n",
              "      <td>nan</td>\n",
              "      <td>nan</td>\n",
              "      <td>nan</td>\n",
              "      <td>студия</td>\n",
              "      <td>38888.889</td>\n",
              "      <td>1</td>\n",
              "      <td>4</td>\n",
              "      <td>2019</td>\n",
              "    </tr>\n",
              "    <tr>\n",
              "      <th>3618</th>\n",
              "      <td>16</td>\n",
              "      <td>4000000.000</td>\n",
              "      <td>75.030</td>\n",
              "      <td>2014-12-15</td>\n",
              "      <td>2</td>\n",
              "      <td>2.530</td>\n",
              "      <td>3</td>\n",
              "      <td>66.220</td>\n",
              "      <td>3</td>\n",
              "      <td>NaN</td>\n",
              "      <td>False</td>\n",
              "      <td>False</td>\n",
              "      <td>14.000</td>\n",
              "      <td>0</td>\n",
              "      <td>всеволожск</td>\n",
              "      <td>nan</td>\n",
              "      <td>nan</td>\n",
              "      <td>nan</td>\n",
              "      <td>nan</td>\n",
              "      <td>nan</td>\n",
              "      <td>nan</td>\n",
              "      <td>588.000</td>\n",
              "      <td>очень большие</td>\n",
              "      <td>53312.009</td>\n",
              "      <td>0</td>\n",
              "      <td>12</td>\n",
              "      <td>2014</td>\n",
              "    </tr>\n",
              "  </tbody>\n",
              "</table>\n",
              "</div>\n",
              "      <button class=\"colab-df-convert\" onclick=\"convertToInteractive('df-a07d5be0-08d3-4464-bf5a-c9cb116c3f8d')\"\n",
              "              title=\"Convert this dataframe to an interactive table.\"\n",
              "              style=\"display:none;\">\n",
              "        \n",
              "  <svg xmlns=\"http://www.w3.org/2000/svg\" height=\"24px\"viewBox=\"0 0 24 24\"\n",
              "       width=\"24px\">\n",
              "    <path d=\"M0 0h24v24H0V0z\" fill=\"none\"/>\n",
              "    <path d=\"M18.56 5.44l.94 2.06.94-2.06 2.06-.94-2.06-.94-.94-2.06-.94 2.06-2.06.94zm-11 1L8.5 8.5l.94-2.06 2.06-.94-2.06-.94L8.5 2.5l-.94 2.06-2.06.94zm10 10l.94 2.06.94-2.06 2.06-.94-2.06-.94-.94-2.06-.94 2.06-2.06.94z\"/><path d=\"M17.41 7.96l-1.37-1.37c-.4-.4-.92-.59-1.43-.59-.52 0-1.04.2-1.43.59L10.3 9.45l-7.72 7.72c-.78.78-.78 2.05 0 2.83L4 21.41c.39.39.9.59 1.41.59.51 0 1.02-.2 1.41-.59l7.78-7.78 2.81-2.81c.8-.78.8-2.07 0-2.86zM5.41 20L4 18.59l7.72-7.72 1.47 1.35L5.41 20z\"/>\n",
              "  </svg>\n",
              "      </button>\n",
              "      \n",
              "  <style>\n",
              "    .colab-df-container {\n",
              "      display:flex;\n",
              "      flex-wrap:wrap;\n",
              "      gap: 12px;\n",
              "    }\n",
              "\n",
              "    .colab-df-convert {\n",
              "      background-color: #E8F0FE;\n",
              "      border: none;\n",
              "      border-radius: 50%;\n",
              "      cursor: pointer;\n",
              "      display: none;\n",
              "      fill: #1967D2;\n",
              "      height: 32px;\n",
              "      padding: 0 0 0 0;\n",
              "      width: 32px;\n",
              "    }\n",
              "\n",
              "    .colab-df-convert:hover {\n",
              "      background-color: #E2EBFA;\n",
              "      box-shadow: 0px 1px 2px rgba(60, 64, 67, 0.3), 0px 1px 3px 1px rgba(60, 64, 67, 0.15);\n",
              "      fill: #174EA6;\n",
              "    }\n",
              "\n",
              "    [theme=dark] .colab-df-convert {\n",
              "      background-color: #3B4455;\n",
              "      fill: #D2E3FC;\n",
              "    }\n",
              "\n",
              "    [theme=dark] .colab-df-convert:hover {\n",
              "      background-color: #434B5C;\n",
              "      box-shadow: 0px 1px 3px 1px rgba(0, 0, 0, 0.15);\n",
              "      filter: drop-shadow(0px 1px 2px rgba(0, 0, 0, 0.3));\n",
              "      fill: #FFFFFF;\n",
              "    }\n",
              "  </style>\n",
              "\n",
              "      <script>\n",
              "        const buttonEl =\n",
              "          document.querySelector('#df-a07d5be0-08d3-4464-bf5a-c9cb116c3f8d button.colab-df-convert');\n",
              "        buttonEl.style.display =\n",
              "          google.colab.kernel.accessAllowed ? 'block' : 'none';\n",
              "\n",
              "        async function convertToInteractive(key) {\n",
              "          const element = document.querySelector('#df-a07d5be0-08d3-4464-bf5a-c9cb116c3f8d');\n",
              "          const dataTable =\n",
              "            await google.colab.kernel.invokeFunction('convertToInteractive',\n",
              "                                                     [key], {});\n",
              "          if (!dataTable) return;\n",
              "\n",
              "          const docLinkHtml = 'Like what you see? Visit the ' +\n",
              "            '<a target=\"_blank\" href=https://colab.research.google.com/notebooks/data_table.ipynb>data table notebook</a>'\n",
              "            + ' to learn more about interactive tables.';\n",
              "          element.innerHTML = '';\n",
              "          dataTable['output_type'] = 'display_data';\n",
              "          await google.colab.output.renderOutput(dataTable, element);\n",
              "          const docLink = document.createElement('div');\n",
              "          docLink.innerHTML = docLinkHtml;\n",
              "          element.appendChild(docLink);\n",
              "        }\n",
              "      </script>\n",
              "    </div>\n",
              "  </div>\n",
              "  "
            ],
            "text/plain": [
              "       total_images   last_price  total_area first_day_exposition  rooms  \\\n",
              "2085             12  3900000.000      40.000           2017-08-31      1   \n",
              "12199            13 10250000.000      82.000           2017-02-03      3   \n",
              "1219             11  3700000.000      39.000           2017-11-10      1   \n",
              "14407            11  1400000.000      36.000           2019-04-16      1   \n",
              "3618             16  4000000.000      75.030           2014-12-15      2   \n",
              "\n",
              "       ceiling_height  floors_total  living_area  floor is_apartment  studio  \\\n",
              "2085              nan            17       20.200     16          NaN   False   \n",
              "12199           3.950             3       54.000      2          NaN   False   \n",
              "1219            2.650            12       20.000      8          NaN   False   \n",
              "14407           2.500             5       18.000      4          NaN   False   \n",
              "3618            2.530             3       66.220      3          NaN   False   \n",
              "\n",
              "       open_plan  kitchen_area  balcony       locality_name  airports_nearest  \\\n",
              "2085       False         9.000        0     санкт-петербург         39622.000   \n",
              "12199      False        11.000        0     санкт-петербург         22107.000   \n",
              "1219       False         8.000        0     санкт-петербург         35449.000   \n",
              "14407      False         9.000        0  деревня сяськелево               nan   \n",
              "3618       False        14.000        0          всеволожск               nan   \n",
              "\n",
              "       city_centers_nearest  parks_around_3000  parks_nearest  \\\n",
              "2085              14906.000              0.000            nan   \n",
              "12199              4894.000              1.000        204.000   \n",
              "1219              15751.000              1.000        811.000   \n",
              "14407                   nan                nan            nan   \n",
              "3618                    nan                nan            nan   \n",
              "\n",
              "       ponds_around_3000  ponds_nearest  days_exposition total_area_group  \\\n",
              "2085               0.000            nan           44.000       не большие   \n",
              "12199              0.000            nan              nan    очень большие   \n",
              "1219               3.000        559.000          117.000       не большие   \n",
              "14407                nan            nan              nan           студия   \n",
              "3618                 nan            nan          588.000    очень большие   \n",
              "\n",
              "       sqmetr_price  weekday_exposition  month_exposition  year_exposition  \n",
              "2085      97500.000                   3                 8             2017  \n",
              "12199    125000.000                   4                 2             2017  \n",
              "1219      94871.795                   4                11             2017  \n",
              "14407     38888.889                   1                 4             2019  \n",
              "3618      53312.009                   0                12             2014  "
            ]
          },
          "metadata": {},
          "execution_count": 35
        }
      ]
    },
    {
      "cell_type": "markdown",
      "metadata": {
        "id": "rhmFHlFQi8B0"
      },
      "source": [
        "Переименуем название этажей на первый, последний и другие. Для этого создадим функцию name_floors."
      ]
    },
    {
      "cell_type": "code",
      "metadata": {
        "id": "DNRvIpiIi8B0"
      },
      "source": [
        "def name_floors(row):\n",
        "    floor = row['floor']\n",
        "    floors_total= row['floors_total']\n",
        "    if floor == 1:\n",
        "        return 'первый'\n",
        "    elif floor == floors_total:\n",
        "        return 'последний'\n",
        "    elif floor !=1 and floor != floors_total:\n",
        "        return 'другой'\n",
        "    else:\n",
        "        return 'нужно проверить'"
      ],
      "execution_count": 36,
      "outputs": []
    },
    {
      "cell_type": "markdown",
      "metadata": {
        "id": "-880VvaNi8B0"
      },
      "source": [
        "<div class=\"alert alert-success\">\n",
        "<h2> Комментарий ревьюера <a class=\"tocSkip\"> </h2>\n",
        "\n",
        "<b>Все отлично!👍:</b> \n",
        "    \n",
        "Здорово, что ты используешь свою функцию для категоризации данных в этом столбце, это хорошая практика программирования."
      ]
    },
    {
      "cell_type": "code",
      "metadata": {
        "id": "z7UzwUyFi8B1",
        "outputId": "d33a4092-7a06-41df-9ad0-cd939c8f47bf",
        "colab": {
          "base_uri": "https://localhost:8080/",
          "height": 357
        }
      },
      "source": [
        "data['name_floor'] = data.apply(name_floors, axis=1)\n",
        "data.sample(5)"
      ],
      "execution_count": 37,
      "outputs": [
        {
          "output_type": "execute_result",
          "data": {
            "text/html": [
              "\n",
              "  <div id=\"df-4843cbef-27d5-4d1b-b72c-5baefe0157df\">\n",
              "    <div class=\"colab-df-container\">\n",
              "      <div>\n",
              "<style scoped>\n",
              "    .dataframe tbody tr th:only-of-type {\n",
              "        vertical-align: middle;\n",
              "    }\n",
              "\n",
              "    .dataframe tbody tr th {\n",
              "        vertical-align: top;\n",
              "    }\n",
              "\n",
              "    .dataframe thead th {\n",
              "        text-align: right;\n",
              "    }\n",
              "</style>\n",
              "<table border=\"1\" class=\"dataframe\">\n",
              "  <thead>\n",
              "    <tr style=\"text-align: right;\">\n",
              "      <th></th>\n",
              "      <th>total_images</th>\n",
              "      <th>last_price</th>\n",
              "      <th>total_area</th>\n",
              "      <th>first_day_exposition</th>\n",
              "      <th>rooms</th>\n",
              "      <th>ceiling_height</th>\n",
              "      <th>floors_total</th>\n",
              "      <th>living_area</th>\n",
              "      <th>floor</th>\n",
              "      <th>is_apartment</th>\n",
              "      <th>studio</th>\n",
              "      <th>open_plan</th>\n",
              "      <th>kitchen_area</th>\n",
              "      <th>balcony</th>\n",
              "      <th>locality_name</th>\n",
              "      <th>airports_nearest</th>\n",
              "      <th>city_centers_nearest</th>\n",
              "      <th>parks_around_3000</th>\n",
              "      <th>parks_nearest</th>\n",
              "      <th>ponds_around_3000</th>\n",
              "      <th>ponds_nearest</th>\n",
              "      <th>days_exposition</th>\n",
              "      <th>total_area_group</th>\n",
              "      <th>sqmetr_price</th>\n",
              "      <th>weekday_exposition</th>\n",
              "      <th>month_exposition</th>\n",
              "      <th>year_exposition</th>\n",
              "      <th>name_floor</th>\n",
              "    </tr>\n",
              "  </thead>\n",
              "  <tbody>\n",
              "    <tr>\n",
              "      <th>1557</th>\n",
              "      <td>8</td>\n",
              "      <td>3620000.000</td>\n",
              "      <td>33.500</td>\n",
              "      <td>2016-06-28</td>\n",
              "      <td>1</td>\n",
              "      <td>nan</td>\n",
              "      <td>16</td>\n",
              "      <td>17.100</td>\n",
              "      <td>6</td>\n",
              "      <td>NaN</td>\n",
              "      <td>False</td>\n",
              "      <td>False</td>\n",
              "      <td>9.300</td>\n",
              "      <td>0</td>\n",
              "      <td>санкт-петербург</td>\n",
              "      <td>41935.000</td>\n",
              "      <td>9551.000</td>\n",
              "      <td>0.000</td>\n",
              "      <td>nan</td>\n",
              "      <td>0.000</td>\n",
              "      <td>nan</td>\n",
              "      <td>205.000</td>\n",
              "      <td>студия</td>\n",
              "      <td>108059.701</td>\n",
              "      <td>1</td>\n",
              "      <td>6</td>\n",
              "      <td>2016</td>\n",
              "      <td>другой</td>\n",
              "    </tr>\n",
              "    <tr>\n",
              "      <th>7564</th>\n",
              "      <td>16</td>\n",
              "      <td>8580000.000</td>\n",
              "      <td>68.700</td>\n",
              "      <td>2018-08-29</td>\n",
              "      <td>2</td>\n",
              "      <td>2.800</td>\n",
              "      <td>25</td>\n",
              "      <td>41.600</td>\n",
              "      <td>20</td>\n",
              "      <td>NaN</td>\n",
              "      <td>False</td>\n",
              "      <td>False</td>\n",
              "      <td>12.400</td>\n",
              "      <td>0</td>\n",
              "      <td>санкт-петербург</td>\n",
              "      <td>28841.000</td>\n",
              "      <td>11062.000</td>\n",
              "      <td>1.000</td>\n",
              "      <td>494.000</td>\n",
              "      <td>1.000</td>\n",
              "      <td>527.000</td>\n",
              "      <td>130.000</td>\n",
              "      <td>большие</td>\n",
              "      <td>124890.830</td>\n",
              "      <td>2</td>\n",
              "      <td>8</td>\n",
              "      <td>2018</td>\n",
              "      <td>другой</td>\n",
              "    </tr>\n",
              "    <tr>\n",
              "      <th>8909</th>\n",
              "      <td>2</td>\n",
              "      <td>6100000.000</td>\n",
              "      <td>77.900</td>\n",
              "      <td>2018-07-25</td>\n",
              "      <td>3</td>\n",
              "      <td>2.750</td>\n",
              "      <td>20</td>\n",
              "      <td>48.880</td>\n",
              "      <td>8</td>\n",
              "      <td>NaN</td>\n",
              "      <td>False</td>\n",
              "      <td>False</td>\n",
              "      <td>12.020</td>\n",
              "      <td>0</td>\n",
              "      <td>поселок мурино</td>\n",
              "      <td>nan</td>\n",
              "      <td>nan</td>\n",
              "      <td>nan</td>\n",
              "      <td>nan</td>\n",
              "      <td>nan</td>\n",
              "      <td>nan</td>\n",
              "      <td>29.000</td>\n",
              "      <td>очень большие</td>\n",
              "      <td>78305.520</td>\n",
              "      <td>2</td>\n",
              "      <td>7</td>\n",
              "      <td>2018</td>\n",
              "      <td>другой</td>\n",
              "    </tr>\n",
              "    <tr>\n",
              "      <th>8363</th>\n",
              "      <td>13</td>\n",
              "      <td>5690000.000</td>\n",
              "      <td>41.700</td>\n",
              "      <td>2016-12-29</td>\n",
              "      <td>2</td>\n",
              "      <td>3.200</td>\n",
              "      <td>5</td>\n",
              "      <td>23.000</td>\n",
              "      <td>2</td>\n",
              "      <td>NaN</td>\n",
              "      <td>False</td>\n",
              "      <td>False</td>\n",
              "      <td>7.500</td>\n",
              "      <td>0</td>\n",
              "      <td>санкт-петербург</td>\n",
              "      <td>23963.000</td>\n",
              "      <td>3530.000</td>\n",
              "      <td>2.000</td>\n",
              "      <td>352.000</td>\n",
              "      <td>3.000</td>\n",
              "      <td>341.000</td>\n",
              "      <td>283.000</td>\n",
              "      <td>не большие</td>\n",
              "      <td>136450.839</td>\n",
              "      <td>3</td>\n",
              "      <td>12</td>\n",
              "      <td>2016</td>\n",
              "      <td>другой</td>\n",
              "    </tr>\n",
              "    <tr>\n",
              "      <th>12569</th>\n",
              "      <td>13</td>\n",
              "      <td>5350000.000</td>\n",
              "      <td>50.000</td>\n",
              "      <td>2018-08-08</td>\n",
              "      <td>2</td>\n",
              "      <td>2.550</td>\n",
              "      <td>12</td>\n",
              "      <td>27.800</td>\n",
              "      <td>10</td>\n",
              "      <td>NaN</td>\n",
              "      <td>False</td>\n",
              "      <td>False</td>\n",
              "      <td>7.600</td>\n",
              "      <td>1</td>\n",
              "      <td>санкт-петербург</td>\n",
              "      <td>12148.000</td>\n",
              "      <td>11195.000</td>\n",
              "      <td>0.000</td>\n",
              "      <td>nan</td>\n",
              "      <td>1.000</td>\n",
              "      <td>427.000</td>\n",
              "      <td>80.000</td>\n",
              "      <td>средние</td>\n",
              "      <td>107000.000</td>\n",
              "      <td>2</td>\n",
              "      <td>8</td>\n",
              "      <td>2018</td>\n",
              "      <td>другой</td>\n",
              "    </tr>\n",
              "  </tbody>\n",
              "</table>\n",
              "</div>\n",
              "      <button class=\"colab-df-convert\" onclick=\"convertToInteractive('df-4843cbef-27d5-4d1b-b72c-5baefe0157df')\"\n",
              "              title=\"Convert this dataframe to an interactive table.\"\n",
              "              style=\"display:none;\">\n",
              "        \n",
              "  <svg xmlns=\"http://www.w3.org/2000/svg\" height=\"24px\"viewBox=\"0 0 24 24\"\n",
              "       width=\"24px\">\n",
              "    <path d=\"M0 0h24v24H0V0z\" fill=\"none\"/>\n",
              "    <path d=\"M18.56 5.44l.94 2.06.94-2.06 2.06-.94-2.06-.94-.94-2.06-.94 2.06-2.06.94zm-11 1L8.5 8.5l.94-2.06 2.06-.94-2.06-.94L8.5 2.5l-.94 2.06-2.06.94zm10 10l.94 2.06.94-2.06 2.06-.94-2.06-.94-.94-2.06-.94 2.06-2.06.94z\"/><path d=\"M17.41 7.96l-1.37-1.37c-.4-.4-.92-.59-1.43-.59-.52 0-1.04.2-1.43.59L10.3 9.45l-7.72 7.72c-.78.78-.78 2.05 0 2.83L4 21.41c.39.39.9.59 1.41.59.51 0 1.02-.2 1.41-.59l7.78-7.78 2.81-2.81c.8-.78.8-2.07 0-2.86zM5.41 20L4 18.59l7.72-7.72 1.47 1.35L5.41 20z\"/>\n",
              "  </svg>\n",
              "      </button>\n",
              "      \n",
              "  <style>\n",
              "    .colab-df-container {\n",
              "      display:flex;\n",
              "      flex-wrap:wrap;\n",
              "      gap: 12px;\n",
              "    }\n",
              "\n",
              "    .colab-df-convert {\n",
              "      background-color: #E8F0FE;\n",
              "      border: none;\n",
              "      border-radius: 50%;\n",
              "      cursor: pointer;\n",
              "      display: none;\n",
              "      fill: #1967D2;\n",
              "      height: 32px;\n",
              "      padding: 0 0 0 0;\n",
              "      width: 32px;\n",
              "    }\n",
              "\n",
              "    .colab-df-convert:hover {\n",
              "      background-color: #E2EBFA;\n",
              "      box-shadow: 0px 1px 2px rgba(60, 64, 67, 0.3), 0px 1px 3px 1px rgba(60, 64, 67, 0.15);\n",
              "      fill: #174EA6;\n",
              "    }\n",
              "\n",
              "    [theme=dark] .colab-df-convert {\n",
              "      background-color: #3B4455;\n",
              "      fill: #D2E3FC;\n",
              "    }\n",
              "\n",
              "    [theme=dark] .colab-df-convert:hover {\n",
              "      background-color: #434B5C;\n",
              "      box-shadow: 0px 1px 3px 1px rgba(0, 0, 0, 0.15);\n",
              "      filter: drop-shadow(0px 1px 2px rgba(0, 0, 0, 0.3));\n",
              "      fill: #FFFFFF;\n",
              "    }\n",
              "  </style>\n",
              "\n",
              "      <script>\n",
              "        const buttonEl =\n",
              "          document.querySelector('#df-4843cbef-27d5-4d1b-b72c-5baefe0157df button.colab-df-convert');\n",
              "        buttonEl.style.display =\n",
              "          google.colab.kernel.accessAllowed ? 'block' : 'none';\n",
              "\n",
              "        async function convertToInteractive(key) {\n",
              "          const element = document.querySelector('#df-4843cbef-27d5-4d1b-b72c-5baefe0157df');\n",
              "          const dataTable =\n",
              "            await google.colab.kernel.invokeFunction('convertToInteractive',\n",
              "                                                     [key], {});\n",
              "          if (!dataTable) return;\n",
              "\n",
              "          const docLinkHtml = 'Like what you see? Visit the ' +\n",
              "            '<a target=\"_blank\" href=https://colab.research.google.com/notebooks/data_table.ipynb>data table notebook</a>'\n",
              "            + ' to learn more about interactive tables.';\n",
              "          element.innerHTML = '';\n",
              "          dataTable['output_type'] = 'display_data';\n",
              "          await google.colab.output.renderOutput(dataTable, element);\n",
              "          const docLink = document.createElement('div');\n",
              "          docLink.innerHTML = docLinkHtml;\n",
              "          element.appendChild(docLink);\n",
              "        }\n",
              "      </script>\n",
              "    </div>\n",
              "  </div>\n",
              "  "
            ],
            "text/plain": [
              "       total_images  last_price  total_area first_day_exposition  rooms  \\\n",
              "1557              8 3620000.000      33.500           2016-06-28      1   \n",
              "7564             16 8580000.000      68.700           2018-08-29      2   \n",
              "8909              2 6100000.000      77.900           2018-07-25      3   \n",
              "8363             13 5690000.000      41.700           2016-12-29      2   \n",
              "12569            13 5350000.000      50.000           2018-08-08      2   \n",
              "\n",
              "       ceiling_height  floors_total  living_area  floor is_apartment  studio  \\\n",
              "1557              nan            16       17.100      6          NaN   False   \n",
              "7564            2.800            25       41.600     20          NaN   False   \n",
              "8909            2.750            20       48.880      8          NaN   False   \n",
              "8363            3.200             5       23.000      2          NaN   False   \n",
              "12569           2.550            12       27.800     10          NaN   False   \n",
              "\n",
              "       open_plan  kitchen_area  balcony    locality_name  airports_nearest  \\\n",
              "1557       False         9.300        0  санкт-петербург         41935.000   \n",
              "7564       False        12.400        0  санкт-петербург         28841.000   \n",
              "8909       False        12.020        0   поселок мурино               nan   \n",
              "8363       False         7.500        0  санкт-петербург         23963.000   \n",
              "12569      False         7.600        1  санкт-петербург         12148.000   \n",
              "\n",
              "       city_centers_nearest  parks_around_3000  parks_nearest  \\\n",
              "1557               9551.000              0.000            nan   \n",
              "7564              11062.000              1.000        494.000   \n",
              "8909                    nan                nan            nan   \n",
              "8363               3530.000              2.000        352.000   \n",
              "12569             11195.000              0.000            nan   \n",
              "\n",
              "       ponds_around_3000  ponds_nearest  days_exposition total_area_group  \\\n",
              "1557               0.000            nan          205.000           студия   \n",
              "7564               1.000        527.000          130.000          большие   \n",
              "8909                 nan            nan           29.000    очень большие   \n",
              "8363               3.000        341.000          283.000       не большие   \n",
              "12569              1.000        427.000           80.000          средние   \n",
              "\n",
              "       sqmetr_price  weekday_exposition  month_exposition  year_exposition  \\\n",
              "1557     108059.701                   1                 6             2016   \n",
              "7564     124890.830                   2                 8             2018   \n",
              "8909      78305.520                   2                 7             2018   \n",
              "8363     136450.839                   3                12             2016   \n",
              "12569    107000.000                   2                 8             2018   \n",
              "\n",
              "      name_floor  \n",
              "1557      другой  \n",
              "7564      другой  \n",
              "8909      другой  \n",
              "8363      другой  \n",
              "12569     другой  "
            ]
          },
          "metadata": {},
          "execution_count": 37
        }
      ]
    },
    {
      "cell_type": "markdown",
      "metadata": {
        "id": "Qs3By9KCi8B1"
      },
      "source": [
        "Найдем соотношение жилой и общей площади, а также отношение площади кухни к общей. Создадим соответствующие столбцы."
      ]
    },
    {
      "cell_type": "code",
      "metadata": {
        "id": "13QhhDp1i8B1",
        "outputId": "f5ddc122-9014-4758-d30e-09042b63a823",
        "colab": {
          "base_uri": "https://localhost:8080/",
          "height": 357
        }
      },
      "source": [
        "data['living_area_%'] = data['living_area'] / data['total_area']*100\n",
        "data['kitchen_area_%'] = data['kitchen_area'] / data['total_area']*100\n",
        "data.sample(5)"
      ],
      "execution_count": 38,
      "outputs": [
        {
          "output_type": "execute_result",
          "data": {
            "text/html": [
              "\n",
              "  <div id=\"df-94e02bb5-a39f-459f-b154-f40b5f773826\">\n",
              "    <div class=\"colab-df-container\">\n",
              "      <div>\n",
              "<style scoped>\n",
              "    .dataframe tbody tr th:only-of-type {\n",
              "        vertical-align: middle;\n",
              "    }\n",
              "\n",
              "    .dataframe tbody tr th {\n",
              "        vertical-align: top;\n",
              "    }\n",
              "\n",
              "    .dataframe thead th {\n",
              "        text-align: right;\n",
              "    }\n",
              "</style>\n",
              "<table border=\"1\" class=\"dataframe\">\n",
              "  <thead>\n",
              "    <tr style=\"text-align: right;\">\n",
              "      <th></th>\n",
              "      <th>total_images</th>\n",
              "      <th>last_price</th>\n",
              "      <th>total_area</th>\n",
              "      <th>first_day_exposition</th>\n",
              "      <th>rooms</th>\n",
              "      <th>ceiling_height</th>\n",
              "      <th>floors_total</th>\n",
              "      <th>living_area</th>\n",
              "      <th>floor</th>\n",
              "      <th>is_apartment</th>\n",
              "      <th>studio</th>\n",
              "      <th>open_plan</th>\n",
              "      <th>kitchen_area</th>\n",
              "      <th>balcony</th>\n",
              "      <th>locality_name</th>\n",
              "      <th>airports_nearest</th>\n",
              "      <th>city_centers_nearest</th>\n",
              "      <th>parks_around_3000</th>\n",
              "      <th>parks_nearest</th>\n",
              "      <th>ponds_around_3000</th>\n",
              "      <th>ponds_nearest</th>\n",
              "      <th>days_exposition</th>\n",
              "      <th>total_area_group</th>\n",
              "      <th>sqmetr_price</th>\n",
              "      <th>weekday_exposition</th>\n",
              "      <th>month_exposition</th>\n",
              "      <th>year_exposition</th>\n",
              "      <th>name_floor</th>\n",
              "      <th>living_area_%</th>\n",
              "      <th>kitchen_area_%</th>\n",
              "    </tr>\n",
              "  </thead>\n",
              "  <tbody>\n",
              "    <tr>\n",
              "      <th>10784</th>\n",
              "      <td>3</td>\n",
              "      <td>4800000.000</td>\n",
              "      <td>57.000</td>\n",
              "      <td>2016-02-12</td>\n",
              "      <td>3</td>\n",
              "      <td>nan</td>\n",
              "      <td>9</td>\n",
              "      <td>38.000</td>\n",
              "      <td>1</td>\n",
              "      <td>NaN</td>\n",
              "      <td>False</td>\n",
              "      <td>False</td>\n",
              "      <td>7.500</td>\n",
              "      <td>0</td>\n",
              "      <td>санкт-петербург</td>\n",
              "      <td>44800.000</td>\n",
              "      <td>17039.000</td>\n",
              "      <td>0.000</td>\n",
              "      <td>nan</td>\n",
              "      <td>0.000</td>\n",
              "      <td>nan</td>\n",
              "      <td>151.000</td>\n",
              "      <td>средние</td>\n",
              "      <td>84210.526</td>\n",
              "      <td>4</td>\n",
              "      <td>2</td>\n",
              "      <td>2016</td>\n",
              "      <td>первый</td>\n",
              "      <td>66.667</td>\n",
              "      <td>13.158</td>\n",
              "    </tr>\n",
              "    <tr>\n",
              "      <th>17235</th>\n",
              "      <td>14</td>\n",
              "      <td>5700000.000</td>\n",
              "      <td>56.500</td>\n",
              "      <td>2017-04-25</td>\n",
              "      <td>2</td>\n",
              "      <td>2.550</td>\n",
              "      <td>4</td>\n",
              "      <td>38.000</td>\n",
              "      <td>2</td>\n",
              "      <td>NaN</td>\n",
              "      <td>False</td>\n",
              "      <td>False</td>\n",
              "      <td>7.100</td>\n",
              "      <td>0</td>\n",
              "      <td>санкт-петербург</td>\n",
              "      <td>24070.000</td>\n",
              "      <td>3902.000</td>\n",
              "      <td>0.000</td>\n",
              "      <td>nan</td>\n",
              "      <td>0.000</td>\n",
              "      <td>nan</td>\n",
              "      <td>292.000</td>\n",
              "      <td>средние</td>\n",
              "      <td>100884.956</td>\n",
              "      <td>1</td>\n",
              "      <td>4</td>\n",
              "      <td>2017</td>\n",
              "      <td>другой</td>\n",
              "      <td>67.257</td>\n",
              "      <td>12.566</td>\n",
              "    </tr>\n",
              "    <tr>\n",
              "      <th>1432</th>\n",
              "      <td>19</td>\n",
              "      <td>7500000.000</td>\n",
              "      <td>82.000</td>\n",
              "      <td>2016-03-21</td>\n",
              "      <td>3</td>\n",
              "      <td>3.100</td>\n",
              "      <td>5</td>\n",
              "      <td>50.000</td>\n",
              "      <td>3</td>\n",
              "      <td>False</td>\n",
              "      <td>False</td>\n",
              "      <td>False</td>\n",
              "      <td>11.000</td>\n",
              "      <td>0</td>\n",
              "      <td>санкт-петербург</td>\n",
              "      <td>31113.000</td>\n",
              "      <td>4092.000</td>\n",
              "      <td>1.000</td>\n",
              "      <td>76.000</td>\n",
              "      <td>3.000</td>\n",
              "      <td>362.000</td>\n",
              "      <td>124.000</td>\n",
              "      <td>очень большие</td>\n",
              "      <td>91463.415</td>\n",
              "      <td>0</td>\n",
              "      <td>3</td>\n",
              "      <td>2016</td>\n",
              "      <td>другой</td>\n",
              "      <td>60.976</td>\n",
              "      <td>13.415</td>\n",
              "    </tr>\n",
              "    <tr>\n",
              "      <th>21538</th>\n",
              "      <td>0</td>\n",
              "      <td>7300000.000</td>\n",
              "      <td>62.400</td>\n",
              "      <td>2018-09-17</td>\n",
              "      <td>2</td>\n",
              "      <td>2.700</td>\n",
              "      <td>16</td>\n",
              "      <td>33.000</td>\n",
              "      <td>8</td>\n",
              "      <td>NaN</td>\n",
              "      <td>False</td>\n",
              "      <td>False</td>\n",
              "      <td>18.000</td>\n",
              "      <td>0</td>\n",
              "      <td>санкт-петербург</td>\n",
              "      <td>30571.000</td>\n",
              "      <td>11470.000</td>\n",
              "      <td>1.000</td>\n",
              "      <td>721.000</td>\n",
              "      <td>0.000</td>\n",
              "      <td>nan</td>\n",
              "      <td>147.000</td>\n",
              "      <td>большие</td>\n",
              "      <td>116987.179</td>\n",
              "      <td>0</td>\n",
              "      <td>9</td>\n",
              "      <td>2018</td>\n",
              "      <td>другой</td>\n",
              "      <td>52.885</td>\n",
              "      <td>28.846</td>\n",
              "    </tr>\n",
              "    <tr>\n",
              "      <th>21668</th>\n",
              "      <td>9</td>\n",
              "      <td>4500000.000</td>\n",
              "      <td>34.300</td>\n",
              "      <td>2019-03-04</td>\n",
              "      <td>1</td>\n",
              "      <td>nan</td>\n",
              "      <td>9</td>\n",
              "      <td>17.500</td>\n",
              "      <td>3</td>\n",
              "      <td>NaN</td>\n",
              "      <td>False</td>\n",
              "      <td>False</td>\n",
              "      <td>8.900</td>\n",
              "      <td>1</td>\n",
              "      <td>санкт-петербург</td>\n",
              "      <td>nan</td>\n",
              "      <td>nan</td>\n",
              "      <td>nan</td>\n",
              "      <td>nan</td>\n",
              "      <td>nan</td>\n",
              "      <td>nan</td>\n",
              "      <td>nan</td>\n",
              "      <td>студия</td>\n",
              "      <td>131195.335</td>\n",
              "      <td>0</td>\n",
              "      <td>3</td>\n",
              "      <td>2019</td>\n",
              "      <td>другой</td>\n",
              "      <td>51.020</td>\n",
              "      <td>25.948</td>\n",
              "    </tr>\n",
              "  </tbody>\n",
              "</table>\n",
              "</div>\n",
              "      <button class=\"colab-df-convert\" onclick=\"convertToInteractive('df-94e02bb5-a39f-459f-b154-f40b5f773826')\"\n",
              "              title=\"Convert this dataframe to an interactive table.\"\n",
              "              style=\"display:none;\">\n",
              "        \n",
              "  <svg xmlns=\"http://www.w3.org/2000/svg\" height=\"24px\"viewBox=\"0 0 24 24\"\n",
              "       width=\"24px\">\n",
              "    <path d=\"M0 0h24v24H0V0z\" fill=\"none\"/>\n",
              "    <path d=\"M18.56 5.44l.94 2.06.94-2.06 2.06-.94-2.06-.94-.94-2.06-.94 2.06-2.06.94zm-11 1L8.5 8.5l.94-2.06 2.06-.94-2.06-.94L8.5 2.5l-.94 2.06-2.06.94zm10 10l.94 2.06.94-2.06 2.06-.94-2.06-.94-.94-2.06-.94 2.06-2.06.94z\"/><path d=\"M17.41 7.96l-1.37-1.37c-.4-.4-.92-.59-1.43-.59-.52 0-1.04.2-1.43.59L10.3 9.45l-7.72 7.72c-.78.78-.78 2.05 0 2.83L4 21.41c.39.39.9.59 1.41.59.51 0 1.02-.2 1.41-.59l7.78-7.78 2.81-2.81c.8-.78.8-2.07 0-2.86zM5.41 20L4 18.59l7.72-7.72 1.47 1.35L5.41 20z\"/>\n",
              "  </svg>\n",
              "      </button>\n",
              "      \n",
              "  <style>\n",
              "    .colab-df-container {\n",
              "      display:flex;\n",
              "      flex-wrap:wrap;\n",
              "      gap: 12px;\n",
              "    }\n",
              "\n",
              "    .colab-df-convert {\n",
              "      background-color: #E8F0FE;\n",
              "      border: none;\n",
              "      border-radius: 50%;\n",
              "      cursor: pointer;\n",
              "      display: none;\n",
              "      fill: #1967D2;\n",
              "      height: 32px;\n",
              "      padding: 0 0 0 0;\n",
              "      width: 32px;\n",
              "    }\n",
              "\n",
              "    .colab-df-convert:hover {\n",
              "      background-color: #E2EBFA;\n",
              "      box-shadow: 0px 1px 2px rgba(60, 64, 67, 0.3), 0px 1px 3px 1px rgba(60, 64, 67, 0.15);\n",
              "      fill: #174EA6;\n",
              "    }\n",
              "\n",
              "    [theme=dark] .colab-df-convert {\n",
              "      background-color: #3B4455;\n",
              "      fill: #D2E3FC;\n",
              "    }\n",
              "\n",
              "    [theme=dark] .colab-df-convert:hover {\n",
              "      background-color: #434B5C;\n",
              "      box-shadow: 0px 1px 3px 1px rgba(0, 0, 0, 0.15);\n",
              "      filter: drop-shadow(0px 1px 2px rgba(0, 0, 0, 0.3));\n",
              "      fill: #FFFFFF;\n",
              "    }\n",
              "  </style>\n",
              "\n",
              "      <script>\n",
              "        const buttonEl =\n",
              "          document.querySelector('#df-94e02bb5-a39f-459f-b154-f40b5f773826 button.colab-df-convert');\n",
              "        buttonEl.style.display =\n",
              "          google.colab.kernel.accessAllowed ? 'block' : 'none';\n",
              "\n",
              "        async function convertToInteractive(key) {\n",
              "          const element = document.querySelector('#df-94e02bb5-a39f-459f-b154-f40b5f773826');\n",
              "          const dataTable =\n",
              "            await google.colab.kernel.invokeFunction('convertToInteractive',\n",
              "                                                     [key], {});\n",
              "          if (!dataTable) return;\n",
              "\n",
              "          const docLinkHtml = 'Like what you see? Visit the ' +\n",
              "            '<a target=\"_blank\" href=https://colab.research.google.com/notebooks/data_table.ipynb>data table notebook</a>'\n",
              "            + ' to learn more about interactive tables.';\n",
              "          element.innerHTML = '';\n",
              "          dataTable['output_type'] = 'display_data';\n",
              "          await google.colab.output.renderOutput(dataTable, element);\n",
              "          const docLink = document.createElement('div');\n",
              "          docLink.innerHTML = docLinkHtml;\n",
              "          element.appendChild(docLink);\n",
              "        }\n",
              "      </script>\n",
              "    </div>\n",
              "  </div>\n",
              "  "
            ],
            "text/plain": [
              "       total_images  last_price  total_area first_day_exposition  rooms  \\\n",
              "10784             3 4800000.000      57.000           2016-02-12      3   \n",
              "17235            14 5700000.000      56.500           2017-04-25      2   \n",
              "1432             19 7500000.000      82.000           2016-03-21      3   \n",
              "21538             0 7300000.000      62.400           2018-09-17      2   \n",
              "21668             9 4500000.000      34.300           2019-03-04      1   \n",
              "\n",
              "       ceiling_height  floors_total  living_area  floor is_apartment  studio  \\\n",
              "10784             nan             9       38.000      1          NaN   False   \n",
              "17235           2.550             4       38.000      2          NaN   False   \n",
              "1432            3.100             5       50.000      3        False   False   \n",
              "21538           2.700            16       33.000      8          NaN   False   \n",
              "21668             nan             9       17.500      3          NaN   False   \n",
              "\n",
              "       open_plan  kitchen_area  balcony    locality_name  airports_nearest  \\\n",
              "10784      False         7.500        0  санкт-петербург         44800.000   \n",
              "17235      False         7.100        0  санкт-петербург         24070.000   \n",
              "1432       False        11.000        0  санкт-петербург         31113.000   \n",
              "21538      False        18.000        0  санкт-петербург         30571.000   \n",
              "21668      False         8.900        1  санкт-петербург               nan   \n",
              "\n",
              "       city_centers_nearest  parks_around_3000  parks_nearest  \\\n",
              "10784             17039.000              0.000            nan   \n",
              "17235              3902.000              0.000            nan   \n",
              "1432               4092.000              1.000         76.000   \n",
              "21538             11470.000              1.000        721.000   \n",
              "21668                   nan                nan            nan   \n",
              "\n",
              "       ponds_around_3000  ponds_nearest  days_exposition total_area_group  \\\n",
              "10784              0.000            nan          151.000          средние   \n",
              "17235              0.000            nan          292.000          средние   \n",
              "1432               3.000        362.000          124.000    очень большие   \n",
              "21538              0.000            nan          147.000          большие   \n",
              "21668                nan            nan              nan           студия   \n",
              "\n",
              "       sqmetr_price  weekday_exposition  month_exposition  year_exposition  \\\n",
              "10784     84210.526                   4                 2             2016   \n",
              "17235    100884.956                   1                 4             2017   \n",
              "1432      91463.415                   0                 3             2016   \n",
              "21538    116987.179                   0                 9             2018   \n",
              "21668    131195.335                   0                 3             2019   \n",
              "\n",
              "      name_floor  living_area_%  kitchen_area_%  \n",
              "10784     первый         66.667          13.158  \n",
              "17235     другой         67.257          12.566  \n",
              "1432      другой         60.976          13.415  \n",
              "21538     другой         52.885          28.846  \n",
              "21668     другой         51.020          25.948  "
            ]
          },
          "metadata": {},
          "execution_count": 38
        }
      ]
    },
    {
      "cell_type": "markdown",
      "metadata": {
        "id": "9Oqxv5Iri8B1"
      },
      "source": [
        "### Вывод"
      ]
    },
    {
      "cell_type": "markdown",
      "metadata": {
        "id": "aJa6DyzQi8B2"
      },
      "source": [
        "Данные указанные в задании добалены. Мы определили рад новых параметров которые позволят более детально рассмотреть взамосвязь цены квартиры от ее параметров. Рассмотрим эти взимосвязи."
      ]
    },
    {
      "cell_type": "markdown",
      "metadata": {
        "id": "ZRm6QDSsi8B2"
      },
      "source": [
        "## Исследовательский анализ данных"
      ]
    },
    {
      "cell_type": "markdown",
      "metadata": {
        "id": "llz_R17hi8B2"
      },
      "source": [
        "Зададм себе простой вопрос - от чего зависит цена квартиры? Логика подсказывает что от площади, числа комнат, высоты потолков. От чего еще может зависить цена? Для начала изучим следующие параметры: площадь, цена, число комнат, высота потолков. Построим гистограммы для каждого параметра."
      ]
    },
    {
      "cell_type": "markdown",
      "metadata": {
        "id": "fuqGgkI5i8B2"
      },
      "source": [
        "Общая площадь."
      ]
    },
    {
      "cell_type": "code",
      "metadata": {
        "id": "RTAb6u46i8B3",
        "outputId": "362fde7a-b2b0-455d-e126-b30379612257",
        "colab": {
          "base_uri": "https://localhost:8080/",
          "height": 330
        }
      },
      "source": [
        "plt.figure(figsize =(10, 5))\n",
        "data.boxplot('total_area', \n",
        "            notch=True, \n",
        "            sym=\"o\", \n",
        "            vert=False,\n",
        "            widths = 0.1, \n",
        "            patch_artist = True)\n",
        "plt.ylabel('общая площадь')\n",
        "plt.tick_params(axis = 'both',    #  Применяем параметры к обеим осям\n",
        "               which = 'major',    #  Применяем параметры к основным делениям\n",
        "               direction = 'inout',    #  Рисуем деления внутри и снаружи графика\n",
        "               length = 10,    #  Длинна делений\n",
        "               width = 4,     #  Ширина делений\n",
        "               color = 'g',    #  Цвет делений\n",
        "               pad = 10,    #  Расстояние между черточкой и ее подписью\n",
        "               labelsize = 12,    #  Размер подписи\n",
        "               labelcolor = 'g'    #  Цвет подписи\n",
        "               )\n",
        "\n",
        "plt.grid()\n",
        "plt.show()"
      ],
      "execution_count": 39,
      "outputs": [
        {
          "output_type": "display_data",
          "data": {
            "image/png": "[encoded data removed]",
            "text/plain": [
              "<Figure size 720x360 with 1 Axes>"
            ]
          },
          "metadata": {
            "needs_background": "light"
          }
        }
      ]
    },
    {
      "cell_type": "code",
      "metadata": {
        "scrolled": false,
        "id": "wdB2UQHVi8B3",
        "outputId": "de26a8d1-65b6-4956-a8db-55dcb698a24d",
        "colab": {
          "base_uri": "https://localhost:8080/",
          "height": 722
        }
      },
      "source": [
        "\n",
        "\n",
        "data['total_area'].hist(bins=100, range=(0, 300), figsize=(15,9))\n",
        "plt.xlabel('значение общей площади объекта недвижимости')\n",
        "plt.ylabel('частота значений')\n",
        "plt.tick_params(axis = 'both',    #  Применяем параметры к обеим осям\n",
        "               which = 'major',    #  Применяем параметры к основным делениям\n",
        "               direction = 'inout',    #  Рисуем деления внутри и снаружи графика\n",
        "               length = 10,    #  Длинна делений\n",
        "               width = 4,     #  Ширина делений\n",
        "               color = 'g',    #  Цвет делений\n",
        "               pad = 10,    #  Расстояние между черточкой и ее подписью\n",
        "               labelsize = 12,    #  Размер подписи\n",
        "               labelcolor = 'g'    #  Цвет подписи\n",
        "             )    #  Поворот подписей\n",
        "plt.axvline(label= 'Медиана', x=data['total_area'].median(),\n",
        "                linewidth=3, \n",
        "                color='red', \n",
        "                linestyle='--')\n",
        "plt.axvline(label= 'Q5%, Наблюдаемый минимум', x=data['total_area'].quantile(.05),\n",
        "                linewidth=3, \n",
        "                color='y', \n",
        "                linestyle='--')\n",
        "plt.axvline(label= 'Q95%, Наблюдаемый максимум', x=data['total_area'].quantile(.95),\n",
        "                linewidth=3, \n",
        "                color='y', \n",
        "                linestyle='--'\n",
        "           )\n",
        "plt.grid()\n",
        "plt.legend()\n",
        "plt.show()\n",
        "data['total_area'].describe()"
      ],
      "execution_count": 40,
      "outputs": [
        {
          "output_type": "display_data",
          "data": {
            "image/png": "[encoded data removed]",
            "text/plain": [
              "<Figure size 1080x648 with 1 Axes>"
            ]
          },
          "metadata": {
            "needs_background": "light"
          }
        },
        {
          "output_type": "execute_result",
          "data": {
            "text/plain": [
              "count   23565.000\n",
              "mean       60.323\n",
              "std        35.657\n",
              "min        12.000\n",
              "25%        40.000\n",
              "50%        52.000\n",
              "75%        69.700\n",
              "max       900.000\n",
              "Name: total_area, dtype: float64"
            ]
          },
          "metadata": {},
          "execution_count": 40
        }
      ]
    },
    {
      "cell_type": "code",
      "metadata": {
        "id": "i3PK5qP0i8B3",
        "outputId": "bcabaaf3-4889-4062-8dd0-e5f3f27c6266",
        "colab": {
          "base_uri": "https://localhost:8080/"
        }
      },
      "source": [
        "q75, q25 = np.percentile(data['total_area'], [75,25])\n",
        "iqr = q75 - q25\n",
        "min = q25 - (q25 +1.5*iqr)\n",
        "max = q75 + 1.5*iqr\n",
        "print('IQR: ', iqr)\n",
        "print('Граница нижнего уса: ', min)\n",
        "print('Граница верхнего уса: ', max)"
      ],
      "execution_count": 41,
      "outputs": [
        {
          "output_type": "stream",
          "name": "stdout",
          "text": [
            "IQR:  29.700000000000003\n",
            "Граница нижнего уса:  -44.55000000000001\n",
            "Граница верхнего уса:  114.25\n"
          ]
        }
      ]
    },
    {
      "cell_type": "markdown",
      "metadata": {
        "id": "QVMWcPA7i8B4"
      },
      "source": [
        "Из графика видно, что большинство квартир имеет площадь от 40 до 69 кв.м. График имеет вид распределения Пуасона. Минимальное и максимальное значения, в принципе, соответствуют действительности."
      ]
    },
    {
      "cell_type": "markdown",
      "metadata": {
        "id": "15_M1rH2i8B4"
      },
      "source": [
        "Цена"
      ]
    },
    {
      "cell_type": "code",
      "metadata": {
        "id": "OLxPvpUWi8B4",
        "outputId": "8d28a9b4-3341-45b5-b092-3e388cdae7c8",
        "colab": {
          "base_uri": "https://localhost:8080/",
          "height": 1000
        }
      },
      "source": [
        "plt.figure(figsize =(10, 5))\n",
        "data.boxplot('last_price', \n",
        "            notch=True, \n",
        "            sym=\"o\", \n",
        "            vert=False,\n",
        "            widths = 0.1, \n",
        "            patch_artist = True)\n",
        "plt.ylabel('цена')\n",
        "plt.tick_params(axis = 'both',    #  Применяем параметры к обеим осям\n",
        "               which = 'major',    #  Применяем параметры к основным делениям\n",
        "               direction = 'inout',    #  Рисуем деления внутри и снаружи графика\n",
        "               length = 10,    #  Длинна делений\n",
        "               width = 4,     #  Ширина делений\n",
        "               color = 'g',    #  Цвет делений\n",
        "               pad = 10,    #  Расстояние между черточкой и ее подписью\n",
        "               labelsize = 12,    #  Размер подписи\n",
        "               labelcolor = 'g'    #  Цвет подписи\n",
        "               )\n",
        "\n",
        "plt.grid()\n",
        "plt.show()\n",
        "data['last_price'].hist(bins=100, range=(0, 70000000), figsize=(15,9))\n",
        "plt.xlabel('цена объекта недвижимости')\n",
        "plt.ylabel('частота значений')\n",
        "\n",
        "plt.tick_params(axis = 'both',    #  Применяем параметры к обеим осям\n",
        "               which = 'major',    #  Применяем параметры к основным делениям\n",
        "               direction = 'inout',    #  Рисуем деления внутри и снаружи графика\n",
        "               length = 10,    #  Длинна делений\n",
        "               width = 4,     #  Ширина делений\n",
        "               color = 'g',    #  Цвет делений\n",
        "               pad = 10,    #  Расстояние между черточкой и ее подписью\n",
        "               labelsize = 12,    #  Размер подписи\n",
        "               labelcolor = 'g'    #  Цвет подписи\n",
        "             )    #  Поворот подписей\n",
        "plt.axvline(label= 'Медиана', x=data['last_price'].median(),\n",
        "                linewidth=3, \n",
        "                color='red', \n",
        "                linestyle='--')\n",
        "plt.axvline(label= 'Q5%, Наблюдаемый минимум', x=data['last_price'].quantile(.05),\n",
        "                linewidth=3, \n",
        "                color='y', \n",
        "                linestyle='--')\n",
        "plt.axvline(label= 'Q95%, Наблюдаемый максимум', x=data['last_price'].quantile(.95),\n",
        "                linewidth=3, \n",
        "                color='y', \n",
        "                linestyle='--'\n",
        "           )\n",
        "\n",
        "plt.grid()\n",
        "plt.legend()\n",
        "plt.show()\n",
        "data['last_price'].describe()"
      ],
      "execution_count": 42,
      "outputs": [
        {
          "output_type": "display_data",
          "data": {
            "image/png": "[encoded data removed]",
            "text/plain": [
              "<Figure size 720x360 with 1 Axes>"
            ]
          },
          "metadata": {
            "needs_background": "light"
          }
        },
        {
          "output_type": "display_data",
          "data": {
            "image/png": "[encoded data removed]",
            "text/plain": [
              "<Figure size 1080x648 with 1 Axes>"
            ]
          },
          "metadata": {
            "needs_background": "light"
          }
        },
        {
          "output_type": "execute_result",
          "data": {
            "text/plain": [
              "count       23565.000\n",
              "mean      6540058.260\n",
              "std      10910934.722\n",
              "min         12190.000\n",
              "25%       3400000.000\n",
              "50%       4646000.000\n",
              "75%       6790000.000\n",
              "max     763000000.000\n",
              "Name: last_price, dtype: float64"
            ]
          },
          "metadata": {},
          "execution_count": 42
        }
      ]
    },
    {
      "cell_type": "code",
      "metadata": {
        "id": "O7Ep0X41i8B4",
        "outputId": "c4b335cb-5987-4116-fb60-69e1a0d911aa",
        "colab": {
          "base_uri": "https://localhost:8080/"
        }
      },
      "source": [
        "q75, q25 = np.percentile(data['last_price'], [75,25])\n",
        "iqr = q75 - q25\n",
        "min = q25 - (q25 +1.5*iqr)\n",
        "max = q75 + 1.5*iqr\n",
        "print('IQR: ', iqr)\n",
        "print('Граница нижнего уса: ', min)\n",
        "print('Граница верхнего уса: ', max)"
      ],
      "execution_count": 43,
      "outputs": [
        {
          "output_type": "stream",
          "name": "stdout",
          "text": [
            "IQR:  3390000.0\n",
            "Граница нижнего уса:  -5085000.0\n",
            "Граница верхнего уса:  11875000.0\n"
          ]
        }
      ]
    },
    {
      "cell_type": "code",
      "metadata": {
        "id": "f5nVJ8J2i8B5",
        "outputId": "a94e9fd3-8e4d-404a-a2ca-ea9c786e9387",
        "colab": {
          "base_uri": "https://localhost:8080/"
        }
      },
      "source": [
        "len(data[data['last_price'] > 11875000])"
      ],
      "execution_count": 44,
      "outputs": [
        {
          "output_type": "execute_result",
          "data": {
            "text/plain": [
              "2046"
            ]
          },
          "metadata": {},
          "execution_count": 44
        }
      ]
    },
    {
      "cell_type": "markdown",
      "metadata": {
        "id": "ddjhi8tki8B5"
      },
      "source": [
        "График имеет вид нормального распределения. В основном цены меняютья от 3400 тыс. руб до 6790 тысю руб. Наблюдаем очень низкое минимальное значение, скорее всего пользователь ошибся и указал цену аренды а не продажи, или просто забыл дописать несколько нулей. Такое значение всего одно, можем его не учитывать."
      ]
    },
    {
      "cell_type": "markdown",
      "metadata": {
        "id": "piU2FM0vi8B5"
      },
      "source": [
        "Рассмотри число комнат, как тут обстоят дела?"
      ]
    },
    {
      "cell_type": "code",
      "metadata": {
        "id": "zCQSuLuSi8B5",
        "outputId": "a92cb503-f1b1-4834-cba9-ff351be54417",
        "colab": {
          "base_uri": "https://localhost:8080/"
        }
      },
      "source": [
        "data['rooms'].describe()"
      ],
      "execution_count": 45,
      "outputs": [
        {
          "output_type": "execute_result",
          "data": {
            "text/plain": [
              "count   23565.000\n",
              "mean        2.071\n",
              "std         1.079\n",
              "min         0.000\n",
              "25%         1.000\n",
              "50%         2.000\n",
              "75%         3.000\n",
              "max        19.000\n",
              "Name: rooms, dtype: float64"
            ]
          },
          "metadata": {},
          "execution_count": 45
        }
      ]
    },
    {
      "cell_type": "markdown",
      "metadata": {
        "id": "-62Ch3NBi8B6"
      },
      "source": [
        "Видим нулевые значения. Это явная ошибка изменим данные. С помощью уже созданной функции no_artefact."
      ]
    },
    {
      "cell_type": "code",
      "metadata": {
        "id": "TsDC5PFmi8B6",
        "outputId": "2ca3fa3b-6f34-4cf4-b391-5c3ae2b3a154",
        "colab": {
          "base_uri": "https://localhost:8080/"
        }
      },
      "source": [
        "len(data[data['rooms'] == 0])"
      ],
      "execution_count": 46,
      "outputs": [
        {
          "output_type": "execute_result",
          "data": {
            "text/plain": [
              "194"
            ]
          },
          "metadata": {},
          "execution_count": 46
        }
      ]
    },
    {
      "cell_type": "code",
      "metadata": {
        "id": "wjj4eJbhi8B6"
      },
      "source": [
        "data = no_artefact(data, 'rooms', 'total_area_group', 0, 20)\n"
      ],
      "execution_count": 47,
      "outputs": []
    },
    {
      "cell_type": "code",
      "metadata": {
        "id": "qyan3Kq_i8B7",
        "outputId": "f72c710b-bbad-46a1-9f6e-9354a22ef11f",
        "colab": {
          "base_uri": "https://localhost:8080/",
          "height": 869
        }
      },
      "source": [
        "plt.figure(figsize =(10, 5))\n",
        "data.boxplot('rooms', \n",
        "            notch=True, \n",
        "            sym=\"o\", \n",
        "            vert=False,\n",
        "            widths = 0.1, \n",
        "            patch_artist = True)\n",
        "plt.ylabel('количество комнат')\n",
        "plt.tick_params(axis = 'both',    #  Применяем параметры к обеим осям\n",
        "               which = 'major',    #  Применяем параметры к основным делениям\n",
        "               direction = 'inout',    #  Рисуем деления внутри и снаружи графика\n",
        "               length = 10,    #  Длинна делений\n",
        "               width = 4,     #  Ширина делений\n",
        "               color = 'g',    #  Цвет делений\n",
        "               pad = 10,    #  Расстояние между черточкой и ее подписью\n",
        "               labelsize = 12,    #  Размер подписи\n",
        "               labelcolor = 'g'    #  Цвет подписи\n",
        "               )\n",
        "\n",
        "plt.grid()\n",
        "plt.show()\n",
        "\n",
        "data['rooms'].hist(bins=20, range=(0, 10), figsize=(12,6))\n",
        "plt.xlabel('количество комнат')\n",
        "plt.ylabel('частота значений')\n",
        "\n",
        "plt.tick_params(axis = 'both',    #  Применяем параметры к обеим осям\n",
        "               which = 'major',    #  Применяем параметры к основным делениям\n",
        "               direction = 'inout',    #  Рисуем деления внутри и снаружи графика\n",
        "               length = 10,    #  Длинна делений\n",
        "               width = 4,     #  Ширина делений\n",
        "               color = 'g',    #  Цвет делений\n",
        "               pad = 10,    #  Расстояние между черточкой и ее подписью\n",
        "               labelsize = 12,    #  Размер подписи\n",
        "               labelcolor = 'g'    #  Цвет подписи\n",
        "             )    #  Поворот подписей\n",
        "plt.axvline(label= 'Медиана', x=data['rooms'].median(),\n",
        "                linewidth=3, \n",
        "                color='red', \n",
        "                linestyle='--')\n",
        "plt.axvline(label= 'Q5%, Наблюдаемый минимум', x=data['rooms'].quantile(.05),\n",
        "                linewidth=3, \n",
        "                color='y', \n",
        "                linestyle='--')\n",
        "plt.axvline(label= 'Q95%, Наблюдаемый максимум', x=data['rooms'].quantile(.95),\n",
        "                linewidth=3, \n",
        "                color='y', \n",
        "                linestyle='--'\n",
        "           )\n",
        "plt.grid()\n",
        "plt.legend()\n",
        "plt.show()\n",
        "data['rooms'].describe()\n"
      ],
      "execution_count": 48,
      "outputs": [
        {
          "output_type": "display_data",
          "data": {
            "image/png": "[encoded data removed]",
            "text/plain": [
              "<Figure size 720x360 with 1 Axes>"
            ]
          },
          "metadata": {
            "needs_background": "light"
          }
        },
        {
          "output_type": "display_data",
          "data": {
            "image/png": "[encoded data removed]",
            "text/plain": [
              "<Figure size 864x432 with 1 Axes>"
            ]
          },
          "metadata": {
            "needs_background": "light"
          }
        },
        {
          "output_type": "execute_result",
          "data": {
            "text/plain": [
              "count   23565.000\n",
              "mean        2.079\n",
              "std         1.066\n",
              "min         1.000\n",
              "25%         1.000\n",
              "50%         2.000\n",
              "75%         3.000\n",
              "max        19.000\n",
              "Name: rooms, dtype: float64"
            ]
          },
          "metadata": {},
          "execution_count": 48
        }
      ]
    },
    {
      "cell_type": "code",
      "metadata": {
        "id": "FYcNSPdRi8B7",
        "outputId": "34c92816-19dd-4ace-e70e-0ed9d21d0aa5",
        "colab": {
          "base_uri": "https://localhost:8080/"
        }
      },
      "source": [
        "q75, q25 = np.percentile(data['rooms'], [75,25])\n",
        "iqr = q75 - q25\n",
        "min = q25 - (q25 +1.5*iqr)\n",
        "max = q75 + 1.5*iqr\n",
        "print('IQR: ', iqr)\n",
        "print('Граница нижнего уса: ', min)\n",
        "print('Граница верхнего уса: ', max)"
      ],
      "execution_count": 49,
      "outputs": [
        {
          "output_type": "stream",
          "name": "stdout",
          "text": [
            "IQR:  2.0\n",
            "Граница нижнего уса:  -3.0\n",
            "Граница верхнего уса:  6.0\n"
          ]
        }
      ]
    },
    {
      "cell_type": "markdown",
      "metadata": {
        "id": "jeK82V6ai8B7"
      },
      "source": [
        "Из гарфика видим что основное количество комнат от 1 до 3. Минимальное значение мы заменили. Максимальное думаю не нужно, тут всякое может быть )) 19 комнат это не предел."
      ]
    },
    {
      "cell_type": "markdown",
      "metadata": {
        "id": "23n1ktQSi8B7"
      },
      "source": [
        "Поссмотрим на высоту потолков. Так как мы уже убирали артефакты в этом столбце, думаю сюрпризов не будет."
      ]
    },
    {
      "cell_type": "markdown",
      "metadata": {
        "id": "MVknFs3ji8B8"
      },
      "source": [
        "Видим что основная высота потолков колеблется от 2,2 метра до 2,75 метра. Минимальные и максимальные значения соответствуют здравому смыслу."
      ]
    },
    {
      "cell_type": "markdown",
      "metadata": {
        "id": "6mSjUvdgi8B8"
      },
      "source": [
        "<div class=\"alert alert-success\">\n",
        "<h2> Комментарий ревьюера <a class=\"tocSkip\"> </h2>\n",
        "\n",
        "<b>Все отлично!👍:</b> \n",
        "    \n",
        "Андрей, так держать! Типы графиков выбраны верно, согласна с твоей интерпретацией полученных распределений."
      ]
    },
    {
      "cell_type": "markdown",
      "metadata": {
        "id": "iEmjp0_9i8B8"
      },
      "source": [
        "<div class=\"alert alert-warning\">\n",
        "    <h2> Комментарий ревьюера <a class=\"tocSkip\"> </h2>\n",
        "    \n",
        "<b>Некоторые замечания и рекомендации💡:</b> \n",
        "        \n",
        "Андрей, если ты используешь визуализацию в анализе, очень важно уделять внимание ее оформлению: стоит добавлять общие заголовки, названия осей на русском языке. Технические строчки типа `<matplotlib.axes._subplots.AxesSubplot at 0x7f2e09dbbd90>` можно убрать с помощью метода `plt.show()` или с помощью `;`\n",
        "        \n",
        "Уделять время оформлению графиков уже в первых проектах важно, потому что с их усложнением, будет усложняться и визуализация, и в этих случаях без корректного оформления будет очень сложно понять, о чем визуализация и зачем она. Постарайся подкорректировать графики в проекте🙄"
      ]
    },
    {
      "cell_type": "markdown",
      "metadata": {
        "id": "iVvk_hPsi8B8"
      },
      "source": [
        "<div class=\"alert alert-info\">\n",
        "    <h2> Комментарий студента <a class=\"tocSkip\"> </h2>\n",
        "    \n",
        "        \n",
        "Дополнил графики, теперь информация более понятна."
      ]
    },
    {
      "cell_type": "markdown",
      "metadata": {
        "id": "XggdBCgpi8B8"
      },
      "source": [
        "<div class=\"alert alert-success\">\n",
        "<h2> Комментарий ревьюера: вторая итерация ревью <a class=\"tocSkip\"> </h2>\n",
        "\n",
        "<b>Все отлично!👍:</b> \n",
        "    \n",
        "Андрей, отличная работа! У тебя получилось очень информативные графики, здорово, что попробовал новые методы, выглядит круто! Также вижу, что ты попытался применить IQR, все получилось!"
      ]
    },
    {
      "cell_type": "markdown",
      "metadata": {
        "id": "FRQqPC4Gi8B9"
      },
      "source": [
        "Мы посмотрели на основные параметры объекта недвижимости, которые могут повлиять на цену квадратного метра. Почистили артефакты. Посмотрим как долго продаются квартиры.\n",
        "Изучим время продажи квартиры. Пострим гистограмму. Посчитаем среднее и медиану. Опишим, сколько обычно занимает продажа. Когда можно считать, что продажи прошли очень быстро, а когда необычно долго?"
      ]
    },
    {
      "cell_type": "code",
      "metadata": {
        "id": "Y-uHsGqui8B9",
        "outputId": "9fd4fcb0-daea-4e0d-da54-c51e9abe2c40",
        "colab": {
          "base_uri": "https://localhost:8080/"
        }
      },
      "source": [
        "\n",
        "print('Среднее время продажи объекта недвижимости: {:.1f} дней.'.format(data['days_exposition'].mean()))\n",
        "print(' ')\n",
        "print('Медиана времени прадажи объекта недвижимости: {} дней.'.format(data['days_exposition'].median()))"
      ],
      "execution_count": 50,
      "outputs": [
        {
          "output_type": "stream",
          "name": "stdout",
          "text": [
            "Среднее время продажи объекта недвижимости: 180.7 дней.\n",
            " \n",
            "Медиана времени прадажи объекта недвижимости: 95.0 дней.\n"
          ]
        }
      ]
    },
    {
      "cell_type": "markdown",
      "metadata": {
        "id": "I30mGZwDi8B9"
      },
      "source": [
        "Медиана очень отличается от среднего значения, скорее всего это связанно с недостоверными значениями в столбце."
      ]
    },
    {
      "cell_type": "code",
      "metadata": {
        "id": "S85k5ROLi8B-",
        "outputId": "1c842663-64e6-4d7b-9db8-6d85f560879e",
        "colab": {
          "base_uri": "https://localhost:8080/",
          "height": 554
        }
      },
      "source": [
        "data['days_exposition'].hist(bins=50, range=(0, 1800), figsize=(12,6))\n",
        "plt.xlabel('кол-во дней в продаже')\n",
        "plt.ylabel('частота значений')\n",
        "\n",
        "plt.tick_params(axis = 'both',    #  Применяем параметры к обеим осям\n",
        "               which = 'major',    #  Применяем параметры к основным делениям\n",
        "               direction = 'inout',    #  Рисуем деления внутри и снаружи графика\n",
        "               length = 10,    #  Длинна делений\n",
        "               width = 4,     #  Ширина делений\n",
        "               color = 'g',    #  Цвет делений\n",
        "               pad = 10,    #  Расстояние между черточкой и ее подписью\n",
        "               labelsize = 12,    #  Размер подписи\n",
        "               labelcolor = 'g'    #  Цвет подписи\n",
        "             )    #  Поворот подписей\n",
        "plt.axvline(label= 'Медиана', x=data['days_exposition'].median(),\n",
        "                linewidth=3, \n",
        "                color='red', \n",
        "                linestyle='--')\n",
        "plt.axvline(label= 'Q5%, Наблюдаемый минимум', x=data['days_exposition'].quantile(.05),\n",
        "                linewidth=3, \n",
        "                color='y', \n",
        "                linestyle='--')\n",
        "plt.axvline(label= 'Q95%, Наблюдаемый максимум', x=data['days_exposition'].quantile(.95),\n",
        "                linewidth=3, \n",
        "                color='y', \n",
        "                linestyle='--'\n",
        "           )\n",
        "plt.grid()\n",
        "plt.legend()\n",
        "\n",
        "plt.show()\n",
        "data['days_exposition'].describe()"
      ],
      "execution_count": 51,
      "outputs": [
        {
          "output_type": "display_data",
          "data": {
            "image/png": "[encoded data removed]",
            "text/plain": [
              "<Figure size 864x432 with 1 Axes>"
            ]
          },
          "metadata": {
            "needs_background": "light"
          }
        },
        {
          "output_type": "execute_result",
          "data": {
            "text/plain": [
              "count   20394.000\n",
              "mean      180.741\n",
              "std       219.733\n",
              "min         1.000\n",
              "25%        45.000\n",
              "50%        95.000\n",
              "75%       231.000\n",
              "max      1580.000\n",
              "Name: days_exposition, dtype: float64"
            ]
          },
          "metadata": {},
          "execution_count": 51
        }
      ]
    },
    {
      "cell_type": "code",
      "metadata": {
        "id": "40f6negOi8B-",
        "outputId": "ffe1a340-ccfb-4b20-ac4b-f6b0984dd10d",
        "colab": {
          "base_uri": "https://localhost:8080/"
        }
      },
      "source": [
        "len(data[data['days_exposition'] > 365])"
      ],
      "execution_count": 52,
      "outputs": [
        {
          "output_type": "execute_result",
          "data": {
            "text/plain": [
              "3042"
            ]
          },
          "metadata": {},
          "execution_count": 52
        }
      ]
    },
    {
      "cell_type": "markdown",
      "metadata": {
        "id": "IwVj0anTi8B-"
      },
      "source": [
        "Видим, что в основном люди продают объект недвижимости за 45 - 198 дней (1,5 мес до 6,5 мес). Но есть и объявления которые висели 4,3 года. Даже объявлений с размещением более года - 3025 шт. Может быть пользователи просто забыли снять объявления с продажи или все таки это реальные объявления?\n",
        "Посмотрим диаграмму размаха, что она нам скажет."
      ]
    },
    {
      "cell_type": "code",
      "metadata": {
        "id": "wYXjqPfKi8B-",
        "outputId": "e7982ed4-1035-4e2e-afce-66a98bc44c19",
        "colab": {
          "base_uri": "https://localhost:8080/",
          "height": 288
        }
      },
      "source": [
        "plt.ylim(0, 1600)\n",
        "data.boxplot('days_exposition')"
      ],
      "execution_count": 53,
      "outputs": [
        {
          "output_type": "execute_result",
          "data": {
            "text/plain": [
              "<matplotlib.axes._subplots.AxesSubplot at 0x7f89d16345d0>"
            ]
          },
          "metadata": {},
          "execution_count": 53
        },
        {
          "output_type": "display_data",
          "data": {
            "image/png": "[encoded data removed]",
            "text/plain": [
              "<Figure size 432x288 with 1 Axes>"
            ]
          },
          "metadata": {
            "needs_background": "light"
          }
        }
      ]
    },
    {
      "cell_type": "markdown",
      "metadata": {
        "id": "WQuuBizPi8B_"
      },
      "source": [
        "Из диаграмы размаха мы видим, что в основном объявление находится в продаже 96 дней. Посмотрим на усы диаграммы. Быстрой считаеться продажа за 1 - 45 дней, долгой считаеться продажа от 430 дней. Что, в принципе, соответствует правде. 1,5 года достаточно чтобы найти покупателя и продать картиру. Необходимо убрать редкие и выбивающиеся значения. Предлагаю считать значение 600 дней как максимум, остальные значения достаточно редки и слишком превышают нормальные значения."
      ]
    },
    {
      "cell_type": "code",
      "metadata": {
        "id": "D_j5KO3Mi8B_",
        "outputId": "3be2e7d9-6a57-4bf1-ccf7-325de4358c44",
        "colab": {
          "base_uri": "https://localhost:8080/"
        }
      },
      "source": [
        "len(data[data['days_exposition'] > 600])"
      ],
      "execution_count": 54,
      "outputs": [
        {
          "output_type": "execute_result",
          "data": {
            "text/plain": [
              "1193"
            ]
          },
          "metadata": {},
          "execution_count": 54
        }
      ]
    },
    {
      "cell_type": "markdown",
      "metadata": {
        "id": "SkXNf73ui8B_"
      },
      "source": [
        "Чтобы не потерять данные (хоть и количество дней продажи завышено, но остальные параметра квартир достоверны и пригодятся нам) применим функцию no_artefact заменим все значения выше 600 на медианные значения объявлений с похожей общей площадью."
      ]
    },
    {
      "cell_type": "code",
      "metadata": {
        "id": "hbun5gQzi8B_"
      },
      "source": [
        "data = no_artefact(data, 'days_exposition', 'total_area_group', 0, 600)"
      ],
      "execution_count": 55,
      "outputs": []
    },
    {
      "cell_type": "code",
      "metadata": {
        "id": "rZ1r7r0Bi8CA",
        "outputId": "6734f2ad-6d39-45ce-9bb1-392dfe53cc4c",
        "colab": {
          "base_uri": "https://localhost:8080/"
        }
      },
      "source": [
        "len(data[data['days_exposition'] > 600])"
      ],
      "execution_count": 56,
      "outputs": [
        {
          "output_type": "execute_result",
          "data": {
            "text/plain": [
              "0"
            ]
          },
          "metadata": {},
          "execution_count": 56
        }
      ]
    },
    {
      "cell_type": "code",
      "metadata": {
        "id": "ekJRa-dmi8CA",
        "outputId": "cb152e72-53ea-4914-b6cb-34aca55119aa",
        "colab": {
          "base_uri": "https://localhost:8080/",
          "height": 426
        }
      },
      "source": [
        "plt.ylim(0, 600)\n",
        "data.boxplot('days_exposition')\n",
        "plt.show()\n",
        "data['days_exposition'].describe()"
      ],
      "execution_count": 57,
      "outputs": [
        {
          "output_type": "display_data",
          "data": {
            "image/png": "[encoded data removed]",
            "text/plain": [
              "<Figure size 432x288 with 1 Axes>"
            ]
          },
          "metadata": {
            "needs_background": "light"
          }
        },
        {
          "output_type": "execute_result",
          "data": {
            "text/plain": [
              "count   20394.000\n",
              "mean      139.320\n",
              "std       132.855\n",
              "min         1.000\n",
              "25%        45.000\n",
              "50%        95.000\n",
              "75%       184.000\n",
              "max       600.000\n",
              "Name: days_exposition, dtype: float64"
            ]
          },
          "metadata": {},
          "execution_count": 57
        }
      ]
    },
    {
      "cell_type": "markdown",
      "metadata": {
        "id": "bbIuYNKEi8CA"
      },
      "source": [
        "Мы убрали редкие и выбивающиеся значения, благодаря этому средние значение уменьшилось до 134 дней. \n",
        "Данные очищены. \n",
        "Теперь ответим на следующие вопросы.\n",
        "Какие факторы больше всего влияют на стоимость квартиры? Зависит ли цена от площади, числа комнат, удалённости от центра. Есть ли, зависимость цены от того, на каком этаже расположена квартира: первом, последнем или другом. Также посмотрим зависимость от даты размещения: дня недели, месяца и года."
      ]
    },
    {
      "cell_type": "markdown",
      "metadata": {
        "id": "z5kF4uqSi8CA"
      },
      "source": [
        "<div class=\"alert alert-warning\">\n",
        "    <h2> Комментарий ревьюера <a class=\"tocSkip\"> </h2>\n",
        "    \n",
        "<b>Некоторые замечания и рекомендации💡:</b> \n",
        "    \n",
        "Из инструкции это может быть не так ясно, но в целом задача по удалению выбросов касается колонок площадь, цена, число комнат, высота потолков, анализ days_exposition (дня размещения объявления о продаже недвижимости) стоит, скорее, особняком, в случае этой колонки просто важно изучить время продажи квартиры. Данные в этой колонке чувствительные, и лучше проанализировать весь их набор, не удаляя \"выбросы\"\n",
        "    \n",
        "    \n",
        "Что касается выбросов в этих колонках, я бы посоветовала добавить анализ выбросов (и их удаление) с помощью cпециальных методов, например, IQR (почти то же самое, что диаграмма ящик с усами, но дает тебе точные границы в цифрах, по которым нужно \"отрезать\" данные), z-статистика (метод только для данных, которые имеют распределение, походящее на Гауссово или нормальное распределение). Подробнее о нметодах по ссылкам ниже.\n",
        "    \n",
        "Полезные статьи по методам работы с выбросами на русском и английском языках:\n",
        "    \n",
        "https://www.machinelearningmastery.ru/5-ways-to-detect-outliers-that-every-data-scientist-should-know-python-code-70a54335a623/\n",
        "    \n",
        "https://proglib.io/p/moem-dataset-rukovodstvo-po-ochistke-dannyh-v-python-2020-03-27\n",
        "    \n",
        "(эти на английском)\n",
        "    \n",
        "https://statisticsbyjim.com/basics/outliers/\n",
        "    \n",
        "https://machinelearningmastery.com/how-to-use-statistics-to-identify-outliers-in-data/\n",
        "    \n",
        "https://towardsdatascience.com/ways-to-detect-and-remove-the-outliers-404d16608dba\n",
        "        \n",
        "Важно при этом понимать, что стат методы тоже могут \"отработать\" на данных не совсем адекватно, т.е. корректно с точки зрения механики их работы, но не корректно с точки зрения здравого смысла и специфики данных, с которыми ты работаешь. Поэтому всегда важно подключать к применяемым методам экспертную оценку (наверно, ты лучше понимаешь, что бывают потолки 3 метра, например, а вот стат метод может посчитать это за выброс и удалить в зависимости от набора данных, которые ему скармливаются).\n",
        "        \n",
        "P.S. Не забудь про оформление графиков, также рекомендую построить диаграммы ящик с усами для интересующих нас переменных.\n"
      ]
    },
    {
      "cell_type": "code",
      "metadata": {
        "scrolled": false,
        "id": "CWRcu5YHi8CB",
        "outputId": "05938d4e-4aa7-499f-8a8e-c10774cc03a9",
        "colab": {
          "base_uri": "https://localhost:8080/",
          "height": 362
        }
      },
      "source": [
        "stat = data.loc[:, ['total_area', 'rooms', 'city_centers_nearest', 'sqmetr_price']]\n",
        "\n",
        "corrMatrix = stat.corr()\n",
        "sn.heatmap(corrMatrix, annot=True)\n",
        "plt.show()"
      ],
      "execution_count": 58,
      "outputs": [
        {
          "output_type": "display_data",
          "data": {
            "image/png": "[encoded data removed]",
            "text/plain": [
              "<Figure size 432x288 with 2 Axes>"
            ]
          },
          "metadata": {
            "needs_background": "light"
          }
        }
      ]
    },
    {
      "cell_type": "markdown",
      "metadata": {
        "id": "rIAQbMHni8CB"
      },
      "source": [
        "Мы построили матрицу корреляции, по данным которой очевидной взамосвязи между ценой квадратно метра, общей площадью, количеством комнат, удаленностью от центра нет. Может быть есть связь между ценой кв.метра и этажом квартиры?"
      ]
    },
    {
      "cell_type": "markdown",
      "metadata": {
        "id": "Q6N35dkVi8CB"
      },
      "source": [
        "Создадим сводную таблицу с нименоваанием этажа и средней ценой за кв.метр."
      ]
    },
    {
      "cell_type": "code",
      "metadata": {
        "id": "9SWHfcoyi8CB",
        "outputId": "ec5adafd-ab16-4cd5-f36e-f087738a74e9",
        "colab": {
          "base_uri": "https://localhost:8080/",
          "height": 280
        }
      },
      "source": [
        "data.pivot_table(index='name_floor', values='sqmetr_price').plot()\n",
        "plt.show()"
      ],
      "execution_count": 59,
      "outputs": [
        {
          "output_type": "display_data",
          "data": {
            "image/png": "[encoded data removed]",
            "text/plain": [
              "<Figure size 432x288 with 1 Axes>"
            ]
          },
          "metadata": {
            "needs_background": "light"
          }
        }
      ]
    },
    {
      "cell_type": "markdown",
      "metadata": {
        "id": "Xk__Dm4si8CC"
      },
      "source": [
        "Видим, что в среднем самую низкую цену за квадратный метр, дают за квартиры на первом этаже, затем на последнем этаже. Больше всего платят за квадратный метр квартиры ни на первом и ни на последнем этаже. Посмотрим как средняя цена за квадрат зависит от дня недели, месяца и года подачи объявления."
      ]
    },
    {
      "cell_type": "code",
      "metadata": {
        "scrolled": false,
        "id": "-IXp_pMri8CC",
        "outputId": "a5a9fcd4-fb9c-420c-eb06-12c687d5187a",
        "colab": {
          "base_uri": "https://localhost:8080/",
          "height": 854
        }
      },
      "source": [
        "data.pivot_table(index='weekday_exposition', values='last_price').plot(title='Распределение цены квартиры по дням недели')\n",
        "data.pivot_table(index='month_exposition', values='last_price').plot(title='Распределение цены квартиры по месяца года')\n",
        "data.pivot_table(index='year_exposition', values='last_price').plot(title='Распределение цены квартиры по годам')\n",
        "plt.show()\n"
      ],
      "execution_count": 60,
      "outputs": [
        {
          "output_type": "display_data",
          "data": {
            "image/png": "[encoded data removed]",
            "text/plain": [
              "<Figure size 432x288 with 1 Axes>"
            ]
          },
          "metadata": {
            "needs_background": "light"
          }
        },
        {
          "output_type": "display_data",
          "data": {
            "image/png": "[encoded data removed]",
            "text/plain": [
              "<Figure size 432x288 with 1 Axes>"
            ]
          },
          "metadata": {
            "needs_background": "light"
          }
        },
        {
          "output_type": "display_data",
          "data": {
            "image/png": "[encoded data removed]",
            "text/plain": [
              "<Figure size 432x288 with 1 Axes>"
            ]
          },
          "metadata": {
            "needs_background": "light"
          }
        }
      ]
    },
    {
      "cell_type": "markdown",
      "metadata": {
        "id": "k7xUNnZWi8CC"
      },
      "source": [
        "Что видим в этих графиках. Объявления с самой низкой ценой обычно подают в воскресенье, а самой высокой ценой в четверг. Если смотреть по месяцам, в апреле больше всех объявлений с самой высокой средней ценой за квадратный метр, в июне и октябре подаются объявления с самой низкой ценой за квадратный метр. Намного интереснее посмотреть на цену за кв.метр в разрере последних лет. Видно, что цена снижалась до 2017 годаб в 2018 незначительный рост, можно было хорошо съекономить купив квартиру в 2017 или 2018 году. С 2019 году видим значительный рост цены кв.метр до уровня 2015 года.\n",
        "Но вернемся к нашему исследованию. Выберем 10 населённых пунктов с наибольшим числом объявлений. Посчитаем среднюю цену квадратного метра в этих населённых пунктах. Выделим среди них населённые пункты с самой высокой и низкой стоимостью жилья."
      ]
    },
    {
      "cell_type": "markdown",
      "metadata": {
        "id": "9L8Ne86Di8CC"
      },
      "source": [
        "<div class=\"alert alert-success\">\n",
        "<h2> Комментарий ревьюера <a class=\"tocSkip\"> </h2>\n",
        "\n",
        "<b>Все отлично!👍:</b> \n",
        "    \n",
        "Андрей, в целом, я согласна с логикой твоих действий на данном этапе анализа, ты корректно проинтерпретировал результаты своей работы и графики!"
      ]
    },
    {
      "cell_type": "markdown",
      "metadata": {
        "id": "zV8M9AQzi8CC"
      },
      "source": [
        "<div class=\"alert alert-warning\">\n",
        "    <h2> Комментарий ревьюера <a class=\"tocSkip\"> </h2>\n",
        "    \n",
        "<b>Некоторые замечания и рекомендации💡:</b> \n",
        "        \n",
        "Что могу посоветовать для улучшения работы:\n",
        "        \n",
        "1) возможно, для количественных переменных было бы удобнее выводить коэффициенты корреляции в единой корреляционной таблице или использовать график типа `heatmap` \n",
        "        \n",
        "https://datatofish.com/correlation-matrix-pandas/ (построение корреляционной матрицы с помощью Python)\n",
        "\n",
        "        \n",
        "https://stackoverflow.com/questions/29432629/plot-correlation-matrix-using-pandas (полезный тред на Stackoverflow, очень полезный ресурс для кодеров, советую, с помощью него можно решить практически все проблемы, которые возникают у тебя при работе с кодом)\n",
        "        \n",
        "https://likegeeks.com/python-correlation-matrix/ (еще один туториал)\n",
        "\n",
        "2) корреляцию лучше посчитать для количественных переменных, для категориальных же адекватнее использовать графический метод (столбчатые диаграммы для анализа категорий этажности, дня, месяца и года подачи объявления о продаже квартиры, количества комнат) Сейчас ты используешь линейные графики для анализа этих факторов, в этом нет ошибки, но, кажется, что визуально этот тип графика менее подходит для анализа такого рода переменных.\n",
        "    \n",
        "3) графики лучше дооформить!"
      ]
    },
    {
      "cell_type": "markdown",
      "metadata": {
        "id": "1WSgsrACi8CD"
      },
      "source": [
        "<div class=\"alert alert-success\">\n",
        "<h2> Комментарий ревьюера: вторая итерация ревью <a class=\"tocSkip\"> </h2>\n",
        "\n",
        "<b>Все отлично!👍:</b> \n",
        "    \n",
        "Ок, у тебя получилось построить тепловую карту, выглядит здорово!"
      ]
    },
    {
      "cell_type": "code",
      "metadata": {
        "id": "d-BsFTSWi8CD",
        "outputId": "e439aef5-70a6-4c07-e13a-36e247ec8769",
        "colab": {
          "base_uri": "https://localhost:8080/"
        }
      },
      "source": [
        "data_1 = data['locality_name'].value_counts().head(10)\n",
        "data10 = data.query('locality_name in @data_1.index')\n",
        "data10['locality_name'].value_counts()"
      ],
      "execution_count": 61,
      "outputs": [
        {
          "output_type": "execute_result",
          "data": {
            "text/plain": [
              "санкт-петербург      15651\n",
              "поселок мурино         552\n",
              "поселок шушары         439\n",
              "всеволожск             398\n",
              "пушкин                 369\n",
              "колпино                338\n",
              "поселок парголово      327\n",
              "гатчина                307\n",
              "деревня кудрово        299\n",
              "выборг                 237\n",
              "Name: locality_name, dtype: int64"
            ]
          },
          "metadata": {},
          "execution_count": 61
        }
      ]
    },
    {
      "cell_type": "markdown",
      "metadata": {
        "id": "4oBV1dPmi8CD"
      },
      "source": [
        "Это наши ТОП-10. На первом месте, ожидаемо, Санкт-Петербург. Найдем Среднюю цену кв.метра в этих населенных пунктах."
      ]
    },
    {
      "cell_type": "markdown",
      "metadata": {
        "id": "gS4ZUWVgi8CD"
      },
      "source": [
        "<div class=\"alert alert-success\">\n",
        "<h2> Комментарий ревьюера <a class=\"tocSkip\"> </h2>\n",
        "\n",
        "<b>Все отлично!👍:</b> \n",
        "    \n",
        "Топ - 10 населенных пунктов по количеству объявлений определен верно!\n",
        "    "
      ]
    },
    {
      "cell_type": "code",
      "metadata": {
        "id": "2Kam8zbJi8CE",
        "outputId": "a7aabd9c-38cd-4b4e-fbdb-fc09918d1a8a",
        "colab": {
          "base_uri": "https://localhost:8080/",
          "height": 494
        }
      },
      "source": [
        "d2 = data10.pivot_table(index ='locality_name', values='sqmetr_price').reset_index()\n",
        "d2.plot(x= 'locality_name', y='sqmetr_price', kind='bar', figsize =(12, 6), title= 'ТОП-10 городов с самыми высокими ценами', legend = True)\n",
        "x1 = plt.axhline(y= d2['sqmetr_price'].min(),\n",
        "           linewidth=3, \n",
        "                color='r', \n",
        "                linestyle='--',\n",
        "           label = 'минимум')\n",
        "x2 = plt.axhline(y= d2['sqmetr_price'].max(),\n",
        "           linewidth=3, \n",
        "                color='y', \n",
        "                linestyle='--',\n",
        "           label = 'максимум')\n",
        "plt.legend(handles=[x1, x2], title='Значение линий', bbox_to_anchor=(1.05, 1), loc='upper left')\n",
        "plt.title= 'ТОП-10 городов с самыми высокими ценами'\n",
        "plt.show()"
      ],
      "execution_count": 62,
      "outputs": [
        {
          "output_type": "display_data",
          "data": {
            "image/png": "[encoded data removed]",
            "text/plain": [
              "<Figure size 864x432 with 1 Axes>"
            ]
          },
          "metadata": {
            "needs_background": "light"
          }
        }
      ]
    },
    {
      "cell_type": "markdown",
      "metadata": {
        "id": "XlJ4DQYTi8CE"
      },
      "source": [
        "Из графика видим. Набольшая цена кв.метра - Санкт петербург, наименьшая - выборг."
      ]
    },
    {
      "cell_type": "markdown",
      "metadata": {
        "id": "aqxRD0Fri8CE"
      },
      "source": [
        "<div class=\"alert alert-success\">\n",
        "<h2> Комментарий ревьюера <a class=\"tocSkip\"> </h2>\n",
        "\n",
        "<b>Все отлично!👍:</b> \n",
        "    \n",
        "Да, все так!\n",
        "    "
      ]
    },
    {
      "cell_type": "markdown",
      "metadata": {
        "id": "AxN0zTYgi8CE"
      },
      "source": [
        "Изучим предложения квартир: для каждой квартиры есть информация о расстоянии до центра. Выделим квартиры в Санкт-Петербурге. Наша задача — выяснить, какая область входит в центр. Создадим столбец с расстоянием до центра в километрах: округлим до целых значений. После этого посчитаем среднюю цену для каждого километра. Построим график: он должен показывать, как цена зависит от удалённости от центра. Определим границу, где график сильно меняется — это и будет центральная зона.\n"
      ]
    },
    {
      "cell_type": "code",
      "metadata": {
        "id": "-BhaYjP1i8CF",
        "outputId": "35a7a186-91b4-4ded-8555-9ee132983831",
        "colab": {
          "base_uri": "https://localhost:8080/"
        }
      },
      "source": [
        "\n",
        "data1 = data[data['locality_name'] == 'санкт-петербург']\n",
        "data1['city_centers_nearest_km'] = data1['city_centers_nearest'] / 1000\n",
        "data1['city_centers_nearest_km'] = data1['city_centers_nearest_km'].apply(np.floor)\n"
      ],
      "execution_count": 63,
      "outputs": [
        {
          "output_type": "stream",
          "name": "stderr",
          "text": [
            "/usr/local/lib/python3.7/dist-packages/ipykernel_launcher.py:3: SettingWithCopyWarning: \n",
            "A value is trying to be set on a copy of a slice from a DataFrame.\n",
            "Try using .loc[row_indexer,col_indexer] = value instead\n",
            "\n",
            "See the caveats in the documentation: https://pandas.pydata.org/pandas-docs/stable/user_guide/indexing.html#returning-a-view-versus-a-copy\n",
            "  This is separate from the ipykernel package so we can avoid doing imports until\n",
            "/usr/local/lib/python3.7/dist-packages/ipykernel_launcher.py:4: SettingWithCopyWarning: \n",
            "A value is trying to be set on a copy of a slice from a DataFrame.\n",
            "Try using .loc[row_indexer,col_indexer] = value instead\n",
            "\n",
            "See the caveats in the documentation: https://pandas.pydata.org/pandas-docs/stable/user_guide/indexing.html#returning-a-view-versus-a-copy\n",
            "  after removing the cwd from sys.path.\n"
          ]
        }
      ]
    },
    {
      "cell_type": "code",
      "metadata": {
        "id": "hGhOJl6ni8CF",
        "outputId": "368cef6f-8de2-4dc3-fd30-0ee03a9fc6cf",
        "colab": {
          "base_uri": "https://localhost:8080/",
          "height": 404
        }
      },
      "source": [
        "X_1 = data1.pivot_table(index='city_centers_nearest_km', values='sqmetr_price', aggfunc='mean').reset_index()\n",
        "X_1.plot(x= 'city_centers_nearest_km', y='sqmetr_price', kind='line',  figsize =(12, 6), title= 'Распределение цены за квадрат в зависимости от удаленности от центра', xlim=(0, 15))\n",
        "plt.xlabel('Растояние от центра, км')\n",
        "plt.ylabel('Значение цены кв.м.')\n",
        "plt.show()"
      ],
      "execution_count": 64,
      "outputs": [
        {
          "output_type": "display_data",
          "data": {
            "image/png": "[encoded data removed]",
            "text/plain": [
              "<Figure size 864x432 with 1 Axes>"
            ]
          },
          "metadata": {
            "needs_background": "light"
          }
        }
      ]
    },
    {
      "cell_type": "markdown",
      "metadata": {
        "id": "q_HBzbGBi8CF"
      },
      "source": [
        "Наблюдаем резкое падение цены квадратного метра после 7-8 км. Следовательно центром можно считать область радиусом 10 км. от центра."
      ]
    },
    {
      "cell_type": "markdown",
      "metadata": {
        "id": "6aj--5yWi8CG"
      },
      "source": [
        "<div class=\"alert alert-warning\">\n",
        "    <h2> Комментарий ревьюера <a class=\"tocSkip\"> </h2>\n",
        "    \n",
        "<b>Некоторые замечания и рекомендации💡:</b> \n",
        "        \n",
        "Я бы скорее выделила в качестве зоны центра границу в 7-8 км. Пока твой график выглядит не очень информативно, попробуй поменять его тип и поработать над читабельностью (здесь также можно попробовать использоватьстолбчатую диаграмму)\n",
        "График может выглядеть примерно вот так:        \n",
        "![image.png](attachment:image.png)"
      ]
    },
    {
      "cell_type": "markdown",
      "metadata": {
        "id": "YJKKf0BZi8CG"
      },
      "source": [
        "<div class=\"alert alert-success\">\n",
        "<h2> Комментарий ревьюера: вторая итерация ревью <a class=\"tocSkip\"> </h2>\n",
        "\n",
        "<b>Все отлично!👍:</b> \n",
        "    \n",
        "Хорошо, что удалось доработать график, теперь он выглядит более информативно!"
      ]
    },
    {
      "cell_type": "markdown",
      "metadata": {
        "id": "eGHYTl5Vi8CG"
      },
      "source": [
        "Затем выделим сегмент квартир в центре. Проанализируем эту территорию и изучим следующие параметры: площадь, цена, число комнат, высота потолков. Также выделим факторы, которые влияют на стоимость квартиры (этаж, удалённость от центра, дата размещения объявления). Сделаем выводы. Отличаются ли они от общих выводов по всему городу?"
      ]
    },
    {
      "cell_type": "code",
      "metadata": {
        "id": "gvdUxoXZi8CG",
        "outputId": "6402f3b6-0012-4e7d-b11c-f55e34daf8b2",
        "colab": {
          "base_uri": "https://localhost:8080/",
          "height": 486
        }
      },
      "source": [
        "data_cen = data1.query('city_centers_nearest_km < 10')\n",
        "data_cen['city_centers_nearest_km'] = data_cen['city_centers_nearest_km'].apply(np.floor)\n",
        "data_cen1 = data_cen.loc[:, ['ceiling_height', 'total_area', 'city_centers_nearest_km', 'rooms', 'sqmetr_price']]\n",
        "corrMatrix = data_cen1.corr()\n",
        "sn.heatmap(corrMatrix, annot=True)\n",
        "plt.show()"
      ],
      "execution_count": 65,
      "outputs": [
        {
          "output_type": "stream",
          "name": "stderr",
          "text": [
            "/usr/local/lib/python3.7/dist-packages/ipykernel_launcher.py:2: SettingWithCopyWarning: \n",
            "A value is trying to be set on a copy of a slice from a DataFrame.\n",
            "Try using .loc[row_indexer,col_indexer] = value instead\n",
            "\n",
            "See the caveats in the documentation: https://pandas.pydata.org/pandas-docs/stable/user_guide/indexing.html#returning-a-view-versus-a-copy\n",
            "  \n"
          ]
        },
        {
          "output_type": "display_data",
          "data": {
            "image/png": "[encoded data removed]",
            "text/plain": [
              "<Figure size 432x288 with 2 Axes>"
            ]
          },
          "metadata": {
            "needs_background": "light"
          }
        }
      ]
    },
    {
      "cell_type": "markdown",
      "metadata": {
        "id": "oPQAT2D6i8CH"
      },
      "source": [
        "Между ценой за квадратный метр, общей площадью, количество комнат, и расстоянием от центра так же как и по всем населенным пунктам взаимосвязи нет. Рассмотрим такие параметры как этаж, время размещения объявления."
      ]
    },
    {
      "cell_type": "code",
      "metadata": {
        "id": "7883BMxAi8CH",
        "outputId": "cd798f58-900a-4720-b709-93e38cfe4755",
        "colab": {
          "base_uri": "https://localhost:8080/",
          "height": 560
        }
      },
      "source": [
        "ax = data_cen.pivot_table(index='name_floor', values='sqmetr_price').plot(kind='bar', title= 'Данные по Санкт-Петербургу', color='y')\n",
        "d = data.pivot_table(index='name_floor', values='sqmetr_price').plot(kind='bar', title= 'Сравнение средней цены в центре города и остальной области по дням недели', ax=ax, figsize=(12,8))\n",
        "plt.xlabel('наменование этажа')\n",
        "plt.ylabel('Значение цены за кв.м.')\n",
        "plt.show()"
      ],
      "execution_count": 66,
      "outputs": [
        {
          "output_type": "display_data",
          "data": {
            "image/png": "[encoded data removed]",
            "text/plain": [
              "<Figure size 864x576 with 1 Axes>"
            ]
          },
          "metadata": {
            "needs_background": "light"
          }
        }
      ]
    },
    {
      "cell_type": "markdown",
      "metadata": {
        "id": "R4tczPmQi8CH"
      },
      "source": [
        "Мы видим что, квартиры на первом этаже так же стоят дешевле чем на остальных этажах. Снижение цены на последние этажи отсутствует."
      ]
    },
    {
      "cell_type": "code",
      "metadata": {
        "id": "99EQltD1i8CH",
        "outputId": "35a67dfd-72f2-41de-c192-e95b1850797f",
        "colab": {
          "base_uri": "https://localhost:8080/",
          "height": 509
        }
      },
      "source": [
        "ax = data_cen.pivot_table(index='weekday_exposition', values='sqmetr_price').plot(kind='bar', title= 'Данные по Санкт-Петербургу', color='y')\n",
        "d = data.pivot_table(index='weekday_exposition', values='sqmetr_price').plot(kind='bar', title= 'Сравнение средней цены в центре города и остальной области по дням недели', ax=ax, figsize=(12,8))\n",
        "plt.xlabel('дни недели')\n",
        "plt.ylabel('Значение цены за кв.м.')\n",
        "plt.show()"
      ],
      "execution_count": 67,
      "outputs": [
        {
          "output_type": "display_data",
          "data": {
            "image/png": "[encoded data removed]",
            "text/plain": [
              "<Figure size 864x576 with 1 Axes>"
            ]
          },
          "metadata": {
            "needs_background": "light"
          }
        }
      ]
    },
    {
      "cell_type": "markdown",
      "metadata": {
        "id": "TdTwbLydi8CH"
      },
      "source": [
        "Посмотрев данные по дням недели, можно сделать вывод, что ярко выраженного минимума нет, все дни кроме субботы примерно равны. В субботу пользователи подают объявления на продажу квартир.с самым дорогим квадратным метром."
      ]
    },
    {
      "cell_type": "code",
      "metadata": {
        "id": "9kdvhYi1i8CI",
        "outputId": "77f74f8b-1c81-4fa7-f6e4-bb2f45178bd7",
        "colab": {
          "base_uri": "https://localhost:8080/",
          "height": 516
        }
      },
      "source": [
        "\n",
        "ax = data_cen.pivot_table(index='month_exposition', values='sqmetr_price').plot(kind='bar', title= 'Данные по Санкт-Петербургу', color='y')\n",
        "d = data.pivot_table(index='month_exposition', values='sqmetr_price').plot(kind='bar', title= 'Сравнение средней цены в центре города и остальной области по месяцам', ax=ax, figsize=(12,8))\n",
        "plt.xlabel('месяца года')\n",
        "plt.ylabel('Значение цены за кв.м.')\n",
        "plt.show()"
      ],
      "execution_count": 68,
      "outputs": [
        {
          "output_type": "display_data",
          "data": {
            "image/png": "[encoded data removed]",
            "text/plain": [
              "<Figure size 864x576 with 1 Axes>"
            ]
          },
          "metadata": {
            "needs_background": "light"
          }
        }
      ]
    },
    {
      "cell_type": "markdown",
      "metadata": {
        "id": "7kXMPG0Hi8CI"
      },
      "source": [
        "Данные о размещении объявлений по месяцом приблизительно равны. Разницы между пригородом и мегаполисом нет."
      ]
    },
    {
      "cell_type": "code",
      "metadata": {
        "id": "kfly2N8Ti8CI",
        "outputId": "a686e2a4-8145-4341-f8b8-d622c22b8e0b",
        "colab": {
          "base_uri": "https://localhost:8080/",
          "height": 528
        }
      },
      "source": [
        "ax = data_cen.pivot_table(index='year_exposition', values='sqmetr_price').plot(kind='bar', title= 'Данные по Санкт-Петербургу', color='y')\n",
        "d = data.pivot_table(index='year_exposition', values='sqmetr_price').plot(kind='bar', title= 'Сравнение средней цены в центре города и остальной области по годам', ax=ax, figsize=(12,8))\n",
        "plt.xlabel('года')\n",
        "plt.ylabel('Значение цены за кв.м.')\n",
        "plt.show()"
      ],
      "execution_count": 69,
      "outputs": [
        {
          "output_type": "display_data",
          "data": {
            "image/png": "[encoded data removed]",
            "text/plain": [
              "<Figure size 864x576 with 1 Axes>"
            ]
          },
          "metadata": {
            "needs_background": "light"
          }
        }
      ]
    },
    {
      "cell_type": "markdown",
      "metadata": {
        "id": "1J9Qkpk_i8CI"
      },
      "source": [
        "Данные по годам так же отличаються незначительно."
      ]
    },
    {
      "cell_type": "markdown",
      "metadata": {
        "id": "nkbXikxSi8CJ"
      },
      "source": [
        "### Вывод\n"
      ]
    },
    {
      "cell_type": "markdown",
      "metadata": {
        "id": "kkyCT0N8i8CJ"
      },
      "source": [
        "Мы изучили параметры объекта недвижости которые могут повлиять цену квадратного метра. Рассмотрели эти параметры в отдельности и постарались определить взаимосвязь между ними и ценой квадратного метра. Определили центр мегаполиса и рассмотрели теже параметры квартир но уже расположенных в центре города. Исследование не выявило явной взаимосвязи между параметрами. Странно но, даже корреляция между ценой квадратного метра и удаления от центра всего: - 0.318. "
      ]
    },
    {
      "cell_type": "markdown",
      "metadata": {
        "id": "KpNILEIMi8CJ"
      },
      "source": [
        "<div class=\"alert alert-success\">\n",
        "<h2> Комментарий ревьюера <a class=\"tocSkip\"> </h2>\n",
        "\n",
        "<b>Все отлично!👍:</b> \n",
        "    \n",
        "Да, в целом верно, что ты пытаешься сравнить данные по всему СПб с данными по центру СПб, так анализ выглядит нагляднее!"
      ]
    },
    {
      "cell_type": "markdown",
      "metadata": {
        "id": "VxtkpBGbi8CJ"
      },
      "source": [
        "<div class=\"alert alert-warning\">\n",
        "    <h2> Комментарий ревьюера <a class=\"tocSkip\">  </h2>\n",
        "    \n",
        "<b>Некоторые замечания и рекомендации💡:</b> \n",
        "        \n",
        "Андрей, на этом шаге все те же рекомендации, что и на этапе анализа всего рынка жилья: удели внимание графикам, попробуй создать единую корреляционную матрицу (которая тепловая карта), для категориальных признаков лучше построить графики barplot или boxplot (вот например линейные графики для дня, месяца и года размещения объявления о продаже жилья не слишком информативны)"
      ]
    },
    {
      "cell_type": "markdown",
      "metadata": {
        "id": "NGFHWajGi8CJ"
      },
      "source": [
        "<div class=\"alert alert-success\">\n",
        "<h2> Комментарий ревьюера: вторая итерация ревью <a class=\"tocSkip\"> </h2>\n",
        "\n",
        "<b>Все отлично!👍:</b> \n",
        "    \n",
        "У тебя получилось доработать этот шаг, визуализация выглядит отлично, отдельный плюс за оформление!"
      ]
    },
    {
      "cell_type": "markdown",
      "metadata": {
        "id": "d0TDkCyDi8CK"
      },
      "source": [
        "## Общий вывод"
      ]
    },
    {
      "cell_type": "markdown",
      "metadata": {
        "id": "sNlCnhvyi8CK"
      },
      "source": [
        "Была проделана большая работа. Нам были предоставлны данные сервиса Яндекс.Недвижимость — архив объявлений о продаже квартир в Санкт-Петербурге и соседних населённых пунктах за несколько лет. Нужно было научиться определять рыночную стоимость объектов недвижимости. Наша задача — установить параметры. Это позволит построить автоматизированную систему: она отследит аномалии и мошенническую деятельность. Для этого была проведена предоработка данных. Были определены пропуски и аномальные данные которые мы с помощью функций no_NAN и no_artefact, переписали на медианные значения. Так же изменили типы данных столбцов необходимых нам в дальнейших расчетах. Были дабавлены такие парметры как цена квадратного метра, день, месяц и год подачи объявления. Мы подробно рассмотрели данные из стобца days_exposition — сколько дней было размещено объявление. С помощью диаграмы размаха определили редкие и выбивающиеся значения. Их так же заменили на медианные значения. Затем постарались определить корреляцию меджу ценой квадратного метра и таким параметрами как - площадь квартиры, количество комнат, высота потолков, этаж квартиры, удаление от центра. К сожалению явной взамосвязи я не нашел. даже корреляция между ценой квадратного метра и удаления от центра всего: - 0.318. Затем были рассмотрены объявления картир из Санкт-петербурга. Рассмотрев взамосвязь между ценой квадратно метра и расположением квартиры от центра города мы опредлелили область центра города - 10 км. Затем постарались определить корреляцию меджу ценой квадратного метра и таким параметрами как - площадь квартиры, количество комнат, высота потолков, этаж квартиры, удаление от центра, но уже в ценре города. К сожалению явной связи так же нет. Подводя итог, можно сказать либо мои исследования не верны, либо отсутсвие связи это сам по себе результат. т.е. обяъявления имеющие явную связь между вышеказанными параметрами могут быть аномалиями или мошейнической деятельностью."
      ]
    },
    {
      "cell_type": "markdown",
      "metadata": {
        "id": "8_acenyzi8CK"
      },
      "source": [
        "<div class=\"alert alert-info\">\n",
        "    <h2> Комментарий студента <a class=\"tocSkip\"> </h2>\n",
        "    \n",
        "        \n",
        "Обобщив данные можно сказать, что мы определили папаметры \"нормальной\" квартиры - общая площать не больше 114 кв.м., ценой не больше 6 790 000 руб., не больше 6 комнат, такая квартира будет продана не дольше чем за 435 дней. Так же стоимость объекта недвижимости зависит только от удаленности от центра города."
      ]
    },
    {
      "cell_type": "markdown",
      "metadata": {
        "id": "9yqI-8tNi8CK"
      },
      "source": [
        "<div class=\"alert alert-block alert-danger\">\n",
        "<h2> Комментарий ревьюера <a class=\"tocSkip\"></h2>\n",
        "\n",
        "    \n",
        "<b>На доработку🤔:</b>\n",
        "\n",
        "Андрей, если ты вспомнишь инструкцию к проекту, то основная цель звучит так: \n",
        "    \n",
        "`В вашем распоряжении данные сервиса Яндекс.Недвижимость — архив объявлений о продаже квартир в Санкт-Петербурге и соседних населённых пунктах за несколько лет. Нужно научиться определять рыночную стоимость объектов недвижимости. Ваша задача — установить параметры. Это позволит построить автоматизированную систему: она отследит аномалии и мошенническую деятельность.`\n",
        "    \n",
        "Поэтому в итоговом выводе важно не просто суммировать свои действия в рамках реализации анализа, а также дать рекомендации заказчику. Попробуй подумать, какие это могут быть рекомендации, и сформулировав их, добавь в итоговый вывод по проекту."
      ]
    },
    {
      "cell_type": "markdown",
      "metadata": {
        "id": "hLahokBji8CL"
      },
      "source": [
        "<div class=\"alert alert-success\">\n",
        "<h2> Комментарий ревьюера: вторая итерация ревью <a class=\"tocSkip\"> </h2>\n",
        "\n",
        "<b>Все отлично!👍:</b> \n",
        "    \n",
        "Хорошо, теперь итоговый вывод в большей степени ориентирован на заказчика и основную задачу исследования, так держать!"
      ]
    },
    {
      "cell_type": "markdown",
      "metadata": {
        "id": "H7TRH-oSi8CL"
      },
      "source": [
        "<div style=\"border:solid Chocolate 2px; padding: 40px\">\n",
        "\n",
        "**Общий вывод по проекту**\n",
        "\n",
        "Андрей, спасибо за твой проект! Ты приложил много усилий, чтобы довести его до конца, фактически все задачи в рамках проекта у тебя получились, проделана огромная работа, и это видно невооруженным глазом, ты большой молодец! Есть несколько важных моментов, которые я отметила и которые можно было бы улучшить, подсказки ты найдешь в моих комментариях. \n",
        "\n",
        "**Отмечу отдельные положительные моменты проекта🙂**:\n",
        " \n",
        "* На разных шагах проекта ты предлагал очень интересные решения и методы для их реализации. Хорошая работа!\n",
        "* Здорово, что ты использовал автоматизацию для выполнения задач, писал свои функции и циклы, так держать!\n",
        "* Ты использовал самые разные методы для работы с данными, все получилось!\n",
        "* Ты активно использовал визуализацию, хорошо, что ты не избегаешь этого инструмента анализа!\n",
        "\n",
        "**На что стоит обратить внимание🤓**:\n",
        "    \n",
        "* Удели чуть больше внимания визуализации: в некоторых случаях графикам не хватает оформления, можно попробовать сделать визуализацию более информативной!\n",
        "* Выбросы в колонке days_exposition удалять не стоит, а вот поработать над аномальными значениями в других колонках - стоит:)\n",
        "* Важно доработать итоговый вывод!\n",
        "* Корреляционный анализ стоит проводить для количественных переменных, для категориальных лучше построить графики.\n",
        "* Остальные рекомендации ты найдешь в моих комментариях!\n",
        "\n",
        "\n",
        "**Желаю удачи и жду твой проект на повторное ревью!**😉\n",
        "    \n",
        "![gif](https://media.giphy.com/media/kVaj8JXJcDsqs/giphy.gif)"
      ]
    },
    {
      "cell_type": "markdown",
      "metadata": {
        "id": "PXWyAHONi8CL"
      },
      "source": [
        "## Чек-лист готовности проекта\n",
        "\n",
        "Поставьте 'x' в выполненных пунктах. Далее нажмите Shift+Enter."
      ]
    },
    {
      "cell_type": "markdown",
      "metadata": {
        "id": "Rim_IpD2i8CL"
      },
      "source": [
        "<div style=\"border:solid Chocolate 2px; padding: 40px\">\n",
        "\n",
        "**Общий вывод по проекту:  вторая итерация ревью**\n",
        "\n",
        "Андрей, спасибо, что прислал проект с доработками! Тебе удалось значительно улучшить проект, особенно в части визуализации, у тебя все отлично получается, дальше - больше и лучше!\n",
        "Спешу тебе сообщить, что твой проект принят, и ты можешь перейти на следующий спринт!\n",
        "    \n",
        "**Желаю тебе крутых и интересных проектов на следующих спринтах**😉\n",
        "    \n",
        "![gif](https://media.giphy.com/media/l3vR76o4wmQ4aIrV6/giphy.gif)"
      ]
    },
    {
      "cell_type": "markdown",
      "metadata": {
        "id": "kWrJOD0zi8CM"
      },
      "source": [
        "- [x]  открыт файл\n",
        "- [x]  файлы изучены (выведены первые строки, метод info())\n",
        "- [x]  определены пропущенные значения\n",
        "- [x]  заполнены пропущенные значения\n",
        "- [x]  есть пояснение, какие пропущенные значения обнаружены\n",
        "- [x]  изменены типы данных\n",
        "- [x]  есть пояснение, в каких столбцах изменены типы и почему\n",
        "- [x]  посчитано и добавлено в таблицу: цена квадратного метра\n",
        "- [x]  посчитано и добавлено в таблицу: день недели, месяц и год публикации объявления\n",
        "- [x]  посчитано и добавлено в таблицу: этаж квартиры; варианты — первый, последний, другой\n",
        "- [x]  посчитано и добавлено в таблицу: соотношение жилой и общей площади, а также отношение площади кухни к общей\n",
        "- [x]  изучены следующие параметры: площадь, цена, число комнат, высота потолков\n",
        "- [x]  построены гистограммы для каждого параметра\n",
        "- [x]  выполнено задание: \"Изучите время продажи квартиры. Постройте гистограмму. Посчитайте среднее и медиану. Опишите, сколько обычно занимает продажа. Когда можно считать, что продажи прошли очень быстро, а когда необычно долго?\"\n",
        "- [x]  выполнено задание: \"Уберите редкие и выбивающиеся значения. Опишите, какие особенности обнаружили.\"\n",
        "- [x]  выполнено задание: \"Какие факторы больше всего влияют на стоимость квартиры? Изучите, зависит ли цена от квадратного метра, числа комнат, этажа (первого или последнего), удалённости от центра. Также изучите зависимость от даты размещения: дня недели, месяца и года. \"Выберите 10 населённых пунктов с наибольшим числом объявлений. Посчитайте среднюю цену квадратного метра в этих населённых пунктах. Выделите населённые пункты с самой высокой и низкой стоимостью жилья. Эти данные можно найти по имени в столбце '*locality_name'*. \"\n",
        "- [x]  выполнено задание: \"Изучите предложения квартир: для каждой квартиры есть информация о расстоянии до центра. Выделите квартиры в Санкт-Петербурге (*'locality_name'*). Ваша задача — выяснить, какая область входит в центр. Создайте столбец с расстоянием до центра в километрах: округлите до целых значений. После этого посчитайте среднюю цену для каждого километра. Постройте график: он должен показывать, как цена зависит от удалённости от центра. Определите границу, где график сильно меняется — это и будет центральная зона. \"\n",
        "- [x]  выполнено задание: \"Выделите сегмент квартир в центре. Проанализируйте эту территорию и изучите следующие параметры: площадь, цена, число комнат, высота потолков. Также выделите факторы, которые влияют на стоимость квартиры (число комнат, этаж, удалённость от центра, дата размещения объявления). Сделайте выводы. Отличаются ли они от общих выводов по всему городу?\"\n",
        "- [x]  в каждом этапе есть выводы\n",
        "- [x]  есть общий вывод"
      ]
    },
    {
      "cell_type": "code",
      "metadata": {
        "id": "Now6MQhli8CM"
      },
      "source": [
        ""
      ],
      "execution_count": 69,
      "outputs": []
    },
    {
      "cell_type": "code",
      "metadata": {
        "id": "F8YwYFrhi8CM"
      },
      "source": [
        ""
      ],
      "execution_count": 69,
      "outputs": []
    }
  ]
}