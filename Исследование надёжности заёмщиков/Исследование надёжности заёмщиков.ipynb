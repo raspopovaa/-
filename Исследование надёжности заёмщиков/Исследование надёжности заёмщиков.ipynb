{
  "nbformat": 4,
  "nbformat_minor": 0,
  "metadata": {
    "kernelspec": {
      "display_name": "Python 3",
      "language": "python",
      "name": "python3"
    },
    "language_info": {
      "codemirror_mode": {
        "name": "ipython",
        "version": 3
      },
      "file_extension": ".py",
      "mimetype": "text/x-python",
      "name": "python",
      "nbconvert_exporter": "python",
      "pygments_lexer": "ipython3",
      "version": "3.7.8"
    },
    "toc": {
      "base_numbering": 1,
      "nav_menu": {},
      "number_sections": true,
      "sideBar": true,
      "skip_h1_title": true,
      "title_cell": "Table of Contents",
      "title_sidebar": "Contents",
      "toc_cell": false,
      "toc_position": {},
      "toc_section_display": true,
      "toc_window_display": false
    },
    "colab": {
      "name": "Project1_final.ipynb",
      "provenance": [],
      "collapsed_sections": [
        "Eo96vrL8zeVb",
        "dmIVvQ8WzeVh",
        "P5Wskw5wzeVm",
        "VZTHvk11zeVu",
        "podChsD1zeVx",
        "gLSow5NozeV3",
        "Dovb4JN4zeWA",
        "QNA_rNqLzeWA"
      ],
      "include_colab_link": true
    }
  },
  "cells": [
    {
      "cell_type": "markdown",
      "metadata": {
        "id": "view-in-github",
        "colab_type": "text"
      },
      "source": [
        "<a href=\"https://colab.research.google.com/github/raspopovaa/Pet-Project-Data-Analyst/blob/main/%D0%98%D1%81%D1%81%D0%BB%D0%B5%D0%B4%D0%BE%D0%B2%D0%B0%D0%BD%D0%B8%D0%B5%20%D0%BD%D0%B0%D0%B4%D1%91%D0%B6%D0%BD%D0%BE%D1%81%D1%82%D0%B8%20%D0%B7%D0%B0%D1%91%D0%BC%D1%89%D0%B8%D0%BA%D0%BE%D0%B2/%D0%98%D1%81%D1%81%D0%BB%D0%B5%D0%B4%D0%BE%D0%B2%D0%B0%D0%BD%D0%B8%D0%B5%20%D0%BD%D0%B0%D0%B4%D1%91%D0%B6%D0%BD%D0%BE%D1%81%D1%82%D0%B8%20%D0%B7%D0%B0%D1%91%D0%BC%D1%89%D0%B8%D0%BA%D0%BE%D0%B2.ipynb\" target=\"_parent\"><img src=\"https://colab.research.google.com/assets/colab-badge.svg\" alt=\"Open In Colab\"/></a>"
      ]
    },
    {
      "cell_type": "markdown",
      "metadata": {
        "id": "muyqeXA5zeVU"
      },
      "source": [
        "# Исследование надёжности заёмщиков\n",
        "\n",
        "Заказчик — кредитный отдел банка. Нужно разобраться, влияет ли семейное положение и количество детей клиента на факт погашения кредита в срок. Входные данные от банка — статистика о платёжеспособности клиентов.\n",
        "\n",
        "Результаты исследования будут учтены при построении модели **кредитного скоринга** — специальной системы, которая оценивает способность потенциального заёмщика вернуть кредит банку."
      ]
    },
    {
      "cell_type": "markdown",
      "metadata": {
        "id": "X1rRaLRAzeVU"
      },
      "source": [
        "## Шаг 1. Откройте файл с данными и изучите общую информацию"
      ]
    },
    {
      "cell_type": "code",
      "metadata": {
        "id": "pB6v58EIzeVV"
      },
      "source": [
        "import pandas as pd\n",
        "import matplotlib.pyplot as plt\n",
        "plt.rcParams[\"figure.figsize\"] = (20,3)\n",
        "plt.style.use('dark_background')"
      ],
      "execution_count": 1,
      "outputs": []
    },
    {
      "cell_type": "markdown",
      "metadata": {
        "id": "BJ-2PjhCzeVW"
      },
      "source": [
        "Импортируем бибилиотеку pandas и загружаем таблицу"
      ]
    },
    {
      "cell_type": "code",
      "metadata": {
        "colab": {
          "base_uri": "https://localhost:8080/"
        },
        "id": "PoF8hhI6zeVX",
        "outputId": "9acacc51-a704-415f-d4ff-518f55acf170"
      },
      "source": [
        "data = pd.read_csv('https://code.s3.yandex.net/datasets/data.csv')\n",
        "data.info()"
      ],
      "execution_count": 2,
      "outputs": [
        {
          "output_type": "stream",
          "name": "stdout",
          "text": [
            "<class 'pandas.core.frame.DataFrame'>\n",
            "RangeIndex: 21525 entries, 0 to 21524\n",
            "Data columns (total 12 columns):\n",
            " #   Column            Non-Null Count  Dtype  \n",
            "---  ------            --------------  -----  \n",
            " 0   children          21525 non-null  int64  \n",
            " 1   days_employed     19351 non-null  float64\n",
            " 2   dob_years         21525 non-null  int64  \n",
            " 3   education         21525 non-null  object \n",
            " 4   education_id      21525 non-null  int64  \n",
            " 5   family_status     21525 non-null  object \n",
            " 6   family_status_id  21525 non-null  int64  \n",
            " 7   gender            21525 non-null  object \n",
            " 8   income_type       21525 non-null  object \n",
            " 9   debt              21525 non-null  int64  \n",
            " 10  total_income      19351 non-null  float64\n",
            " 11  purpose           21525 non-null  object \n",
            "dtypes: float64(2), int64(5), object(5)\n",
            "memory usage: 2.0+ MB\n"
          ]
        }
      ]
    },
    {
      "cell_type": "markdown",
      "metadata": {
        "id": "5jvUUwxHzeVY"
      },
      "source": [
        "Используем метод info() для выявлнния пропущеных значений в таблице"
      ]
    },
    {
      "cell_type": "markdown",
      "metadata": {
        "id": "rhGZjCmuzeVY"
      },
      "source": [
        "Используем метод .head(), для визуальной оценки данных."
      ]
    },
    {
      "cell_type": "code",
      "metadata": {
        "colab": {
          "base_uri": "https://localhost:8080/",
          "height": 206
        },
        "id": "pMOx3TMZzeVY",
        "outputId": "2daf26af-9b79-4781-a824-1100c3587b96"
      },
      "source": [
        "\n",
        "data.head(5)"
      ],
      "execution_count": 3,
      "outputs": [
        {
          "output_type": "execute_result",
          "data": {
            "text/html": [
              "\n",
              "  <div id=\"df-073be230-24cb-45c3-a87e-522c9457f842\">\n",
              "    <div class=\"colab-df-container\">\n",
              "      <div>\n",
              "<style scoped>\n",
              "    .dataframe tbody tr th:only-of-type {\n",
              "        vertical-align: middle;\n",
              "    }\n",
              "\n",
              "    .dataframe tbody tr th {\n",
              "        vertical-align: top;\n",
              "    }\n",
              "\n",
              "    .dataframe thead th {\n",
              "        text-align: right;\n",
              "    }\n",
              "</style>\n",
              "<table border=\"1\" class=\"dataframe\">\n",
              "  <thead>\n",
              "    <tr style=\"text-align: right;\">\n",
              "      <th></th>\n",
              "      <th>children</th>\n",
              "      <th>days_employed</th>\n",
              "      <th>dob_years</th>\n",
              "      <th>education</th>\n",
              "      <th>education_id</th>\n",
              "      <th>family_status</th>\n",
              "      <th>family_status_id</th>\n",
              "      <th>gender</th>\n",
              "      <th>income_type</th>\n",
              "      <th>debt</th>\n",
              "      <th>total_income</th>\n",
              "      <th>purpose</th>\n",
              "    </tr>\n",
              "  </thead>\n",
              "  <tbody>\n",
              "    <tr>\n",
              "      <th>0</th>\n",
              "      <td>1</td>\n",
              "      <td>-8437.673028</td>\n",
              "      <td>42</td>\n",
              "      <td>высшее</td>\n",
              "      <td>0</td>\n",
              "      <td>женат / замужем</td>\n",
              "      <td>0</td>\n",
              "      <td>F</td>\n",
              "      <td>сотрудник</td>\n",
              "      <td>0</td>\n",
              "      <td>253875.639453</td>\n",
              "      <td>покупка жилья</td>\n",
              "    </tr>\n",
              "    <tr>\n",
              "      <th>1</th>\n",
              "      <td>1</td>\n",
              "      <td>-4024.803754</td>\n",
              "      <td>36</td>\n",
              "      <td>среднее</td>\n",
              "      <td>1</td>\n",
              "      <td>женат / замужем</td>\n",
              "      <td>0</td>\n",
              "      <td>F</td>\n",
              "      <td>сотрудник</td>\n",
              "      <td>0</td>\n",
              "      <td>112080.014102</td>\n",
              "      <td>приобретение автомобиля</td>\n",
              "    </tr>\n",
              "    <tr>\n",
              "      <th>2</th>\n",
              "      <td>0</td>\n",
              "      <td>-5623.422610</td>\n",
              "      <td>33</td>\n",
              "      <td>Среднее</td>\n",
              "      <td>1</td>\n",
              "      <td>женат / замужем</td>\n",
              "      <td>0</td>\n",
              "      <td>M</td>\n",
              "      <td>сотрудник</td>\n",
              "      <td>0</td>\n",
              "      <td>145885.952297</td>\n",
              "      <td>покупка жилья</td>\n",
              "    </tr>\n",
              "    <tr>\n",
              "      <th>3</th>\n",
              "      <td>3</td>\n",
              "      <td>-4124.747207</td>\n",
              "      <td>32</td>\n",
              "      <td>среднее</td>\n",
              "      <td>1</td>\n",
              "      <td>женат / замужем</td>\n",
              "      <td>0</td>\n",
              "      <td>M</td>\n",
              "      <td>сотрудник</td>\n",
              "      <td>0</td>\n",
              "      <td>267628.550329</td>\n",
              "      <td>дополнительное образование</td>\n",
              "    </tr>\n",
              "    <tr>\n",
              "      <th>4</th>\n",
              "      <td>0</td>\n",
              "      <td>340266.072047</td>\n",
              "      <td>53</td>\n",
              "      <td>среднее</td>\n",
              "      <td>1</td>\n",
              "      <td>гражданский брак</td>\n",
              "      <td>1</td>\n",
              "      <td>F</td>\n",
              "      <td>пенсионер</td>\n",
              "      <td>0</td>\n",
              "      <td>158616.077870</td>\n",
              "      <td>сыграть свадьбу</td>\n",
              "    </tr>\n",
              "  </tbody>\n",
              "</table>\n",
              "</div>\n",
              "      <button class=\"colab-df-convert\" onclick=\"convertToInteractive('df-073be230-24cb-45c3-a87e-522c9457f842')\"\n",
              "              title=\"Convert this dataframe to an interactive table.\"\n",
              "              style=\"display:none;\">\n",
              "        \n",
              "  <svg xmlns=\"http://www.w3.org/2000/svg\" height=\"24px\"viewBox=\"0 0 24 24\"\n",
              "       width=\"24px\">\n",
              "    <path d=\"M0 0h24v24H0V0z\" fill=\"none\"/>\n",
              "    <path d=\"M18.56 5.44l.94 2.06.94-2.06 2.06-.94-2.06-.94-.94-2.06-.94 2.06-2.06.94zm-11 1L8.5 8.5l.94-2.06 2.06-.94-2.06-.94L8.5 2.5l-.94 2.06-2.06.94zm10 10l.94 2.06.94-2.06 2.06-.94-2.06-.94-.94-2.06-.94 2.06-2.06.94z\"/><path d=\"M17.41 7.96l-1.37-1.37c-.4-.4-.92-.59-1.43-.59-.52 0-1.04.2-1.43.59L10.3 9.45l-7.72 7.72c-.78.78-.78 2.05 0 2.83L4 21.41c.39.39.9.59 1.41.59.51 0 1.02-.2 1.41-.59l7.78-7.78 2.81-2.81c.8-.78.8-2.07 0-2.86zM5.41 20L4 18.59l7.72-7.72 1.47 1.35L5.41 20z\"/>\n",
              "  </svg>\n",
              "      </button>\n",
              "      \n",
              "  <style>\n",
              "    .colab-df-container {\n",
              "      display:flex;\n",
              "      flex-wrap:wrap;\n",
              "      gap: 12px;\n",
              "    }\n",
              "\n",
              "    .colab-df-convert {\n",
              "      background-color: #E8F0FE;\n",
              "      border: none;\n",
              "      border-radius: 50%;\n",
              "      cursor: pointer;\n",
              "      display: none;\n",
              "      fill: #1967D2;\n",
              "      height: 32px;\n",
              "      padding: 0 0 0 0;\n",
              "      width: 32px;\n",
              "    }\n",
              "\n",
              "    .colab-df-convert:hover {\n",
              "      background-color: #E2EBFA;\n",
              "      box-shadow: 0px 1px 2px rgba(60, 64, 67, 0.3), 0px 1px 3px 1px rgba(60, 64, 67, 0.15);\n",
              "      fill: #174EA6;\n",
              "    }\n",
              "\n",
              "    [theme=dark] .colab-df-convert {\n",
              "      background-color: #3B4455;\n",
              "      fill: #D2E3FC;\n",
              "    }\n",
              "\n",
              "    [theme=dark] .colab-df-convert:hover {\n",
              "      background-color: #434B5C;\n",
              "      box-shadow: 0px 1px 3px 1px rgba(0, 0, 0, 0.15);\n",
              "      filter: drop-shadow(0px 1px 2px rgba(0, 0, 0, 0.3));\n",
              "      fill: #FFFFFF;\n",
              "    }\n",
              "  </style>\n",
              "\n",
              "      <script>\n",
              "        const buttonEl =\n",
              "          document.querySelector('#df-073be230-24cb-45c3-a87e-522c9457f842 button.colab-df-convert');\n",
              "        buttonEl.style.display =\n",
              "          google.colab.kernel.accessAllowed ? 'block' : 'none';\n",
              "\n",
              "        async function convertToInteractive(key) {\n",
              "          const element = document.querySelector('#df-073be230-24cb-45c3-a87e-522c9457f842');\n",
              "          const dataTable =\n",
              "            await google.colab.kernel.invokeFunction('convertToInteractive',\n",
              "                                                     [key], {});\n",
              "          if (!dataTable) return;\n",
              "\n",
              "          const docLinkHtml = 'Like what you see? Visit the ' +\n",
              "            '<a target=\"_blank\" href=https://colab.research.google.com/notebooks/data_table.ipynb>data table notebook</a>'\n",
              "            + ' to learn more about interactive tables.';\n",
              "          element.innerHTML = '';\n",
              "          dataTable['output_type'] = 'display_data';\n",
              "          await google.colab.output.renderOutput(dataTable, element);\n",
              "          const docLink = document.createElement('div');\n",
              "          docLink.innerHTML = docLinkHtml;\n",
              "          element.appendChild(docLink);\n",
              "        }\n",
              "      </script>\n",
              "    </div>\n",
              "  </div>\n",
              "  "
            ],
            "text/plain": [
              "   children  days_employed  ...   total_income                     purpose\n",
              "0         1   -8437.673028  ...  253875.639453               покупка жилья\n",
              "1         1   -4024.803754  ...  112080.014102     приобретение автомобиля\n",
              "2         0   -5623.422610  ...  145885.952297               покупка жилья\n",
              "3         3   -4124.747207  ...  267628.550329  дополнительное образование\n",
              "4         0  340266.072047  ...  158616.077870             сыграть свадьбу\n",
              "\n",
              "[5 rows x 12 columns]"
            ]
          },
          "metadata": {},
          "execution_count": 3
        }
      ]
    },
    {
      "cell_type": "markdown",
      "metadata": {
        "id": "ndbWjboYzeVZ"
      },
      "source": [
        "**Вывод**"
      ]
    },
    {
      "cell_type": "markdown",
      "metadata": {
        "id": "RvGXGei1zeVZ"
      },
      "source": [
        "Использовав метод info и head, можно сделать вывод, что таблица содержит 21525 строк, 12 столбцов. Столбцы имеют разний тип данных. Таблица удобная для анализа данных - в каждом столбце храняться значения, каждая строка содержит одно наблюдение, к которому приязанны значения разных переменных. Название столбцов без пробелов, несколько слов разделяются нижним подчеркиванием, на одном языке и в одном регистре, отображают в краткой форме какого рода информация содержиться в каждом столбце. Столбцы 'days_employed' (общий трудовой стаж в днях) и 'total_income' (ежемесячный доход) имеют 19351 заполненых строк вместо 21525, т.е имеют около 10 % пропусков значений. Так же в столбце 'days_employed' есть отрицательные значения, чего не может быть с трудовым стажем. Так же отрицательные значения есть в столбце 'children', в столбце dob_years есть нулевые значения, в столбцах 'education', 'family_status' и income_type буквы разного регистра, столбец 'gender' содержит неверное значение XNA. В строке 'dob_years' есть нулевые значения, что недопустимо. Скорее всего это технические ошибки.  Так же предположу, что пропуски в столбцах 'days_employed' (общий трудовой стаж в днях) и 'total_income' (ежемесячный доход) созданны намеренно и связанно это с видом кредита (т.е. есть кредиты не предполагающие предоставление информации о трудовом стаже, и ежемесячном доходе). Интересно, есть ли связь между заполнением этих строк и возвратом кредита в срок. Но вернемся к заданию, необходимо провести предобработку данных для выявления артефактов содержащих недостоверные данные."
      ]
    },
    {
      "cell_type": "markdown",
      "metadata": {
        "id": "UHaujQeJzeVa"
      },
      "source": [
        "## Шаг 2. Предобработка данных"
      ]
    },
    {
      "cell_type": "markdown",
      "metadata": {
        "id": "Eo96vrL8zeVb"
      },
      "source": [
        "### Обработка пропусков"
      ]
    },
    {
      "cell_type": "code",
      "metadata": {
        "scrolled": true,
        "colab": {
          "base_uri": "https://localhost:8080/"
        },
        "id": "pQlHhAiazeVb",
        "outputId": "751bb008-d857-4662-9170-29a64da41213"
      },
      "source": [
        "data.isnull().sum()"
      ],
      "execution_count": 4,
      "outputs": [
        {
          "output_type": "execute_result",
          "data": {
            "text/plain": [
              "children               0\n",
              "days_employed       2174\n",
              "dob_years              0\n",
              "education              0\n",
              "education_id           0\n",
              "family_status          0\n",
              "family_status_id       0\n",
              "gender                 0\n",
              "income_type            0\n",
              "debt                   0\n",
              "total_income        2174\n",
              "purpose                0\n",
              "dtype: int64"
            ]
          },
          "metadata": {},
          "execution_count": 4
        }
      ]
    },
    {
      "cell_type": "markdown",
      "metadata": {
        "id": "DEc-pN4uzeVb"
      },
      "source": [
        "Было найдено 2174 значения NaN. Нам нужно либо заменить NaN на другое значение, либо удалить полностью строку с пропущенным значением. У каждого метода есть минусы и плюсы. Ответим на вопрос: \"Какой метод лучше в нашем случае?\" Удаление строки не целесообразно (10% от выбоки, как никак), так как удаление полностью всех строк может повлиять на результат исследования. Добавление нового значения тоже может повлиять на результат в случе если будет совпадать с каким-либо текущим значением. В нашем случае 0 и NaN тождествены. Заменим на 0."
      ]
    },
    {
      "cell_type": "code",
      "metadata": {
        "id": "jjiVkyTFzeVd"
      },
      "source": [
        "data['days_employed'] = data['days_employed'].abs()\n",
        "data['total_income'] = data['total_income'].abs()"
      ],
      "execution_count": 5,
      "outputs": []
    },
    {
      "cell_type": "code",
      "metadata": {
        "colab": {
          "base_uri": "https://localhost:8080/",
          "height": 0
        },
        "id": "aSOypd_yzeVd",
        "outputId": "74748985-25de-4086-8fc8-29d169f2a149"
      },
      "source": [
        "data.groupby('income_type').agg({'total_income': ['count', 'mean', 'median'],'days_employed': ['count', 'mean', 'median']})"
      ],
      "execution_count": 6,
      "outputs": [
        {
          "output_type": "execute_result",
          "data": {
            "text/html": [
              "\n",
              "  <div id=\"df-916b1fee-1cd9-4f48-ac35-04cf2b12283e\">\n",
              "    <div class=\"colab-df-container\">\n",
              "      <div>\n",
              "<style scoped>\n",
              "    .dataframe tbody tr th:only-of-type {\n",
              "        vertical-align: middle;\n",
              "    }\n",
              "\n",
              "    .dataframe tbody tr th {\n",
              "        vertical-align: top;\n",
              "    }\n",
              "\n",
              "    .dataframe thead tr th {\n",
              "        text-align: left;\n",
              "    }\n",
              "\n",
              "    .dataframe thead tr:last-of-type th {\n",
              "        text-align: right;\n",
              "    }\n",
              "</style>\n",
              "<table border=\"1\" class=\"dataframe\">\n",
              "  <thead>\n",
              "    <tr>\n",
              "      <th></th>\n",
              "      <th colspan=\"3\" halign=\"left\">total_income</th>\n",
              "      <th colspan=\"3\" halign=\"left\">days_employed</th>\n",
              "    </tr>\n",
              "    <tr>\n",
              "      <th></th>\n",
              "      <th>count</th>\n",
              "      <th>mean</th>\n",
              "      <th>median</th>\n",
              "      <th>count</th>\n",
              "      <th>mean</th>\n",
              "      <th>median</th>\n",
              "    </tr>\n",
              "    <tr>\n",
              "      <th>income_type</th>\n",
              "      <th></th>\n",
              "      <th></th>\n",
              "      <th></th>\n",
              "      <th></th>\n",
              "      <th></th>\n",
              "      <th></th>\n",
              "    </tr>\n",
              "  </thead>\n",
              "  <tbody>\n",
              "    <tr>\n",
              "      <th>безработный</th>\n",
              "      <td>2</td>\n",
              "      <td>131339.751676</td>\n",
              "      <td>131339.751676</td>\n",
              "      <td>2</td>\n",
              "      <td>366413.652744</td>\n",
              "      <td>366413.652744</td>\n",
              "    </tr>\n",
              "    <tr>\n",
              "      <th>в декрете</th>\n",
              "      <td>1</td>\n",
              "      <td>53829.130729</td>\n",
              "      <td>53829.130729</td>\n",
              "      <td>1</td>\n",
              "      <td>3296.759962</td>\n",
              "      <td>3296.759962</td>\n",
              "    </tr>\n",
              "    <tr>\n",
              "      <th>госслужащий</th>\n",
              "      <td>1312</td>\n",
              "      <td>170898.309923</td>\n",
              "      <td>150447.935283</td>\n",
              "      <td>1312</td>\n",
              "      <td>3399.896902</td>\n",
              "      <td>2689.368353</td>\n",
              "    </tr>\n",
              "    <tr>\n",
              "      <th>компаньон</th>\n",
              "      <td>4577</td>\n",
              "      <td>202417.461462</td>\n",
              "      <td>172357.950966</td>\n",
              "      <td>4577</td>\n",
              "      <td>2111.524398</td>\n",
              "      <td>1547.382223</td>\n",
              "    </tr>\n",
              "    <tr>\n",
              "      <th>пенсионер</th>\n",
              "      <td>3443</td>\n",
              "      <td>137127.465690</td>\n",
              "      <td>118514.486412</td>\n",
              "      <td>3443</td>\n",
              "      <td>365003.491245</td>\n",
              "      <td>365213.306266</td>\n",
              "    </tr>\n",
              "    <tr>\n",
              "      <th>предприниматель</th>\n",
              "      <td>1</td>\n",
              "      <td>499163.144947</td>\n",
              "      <td>499163.144947</td>\n",
              "      <td>1</td>\n",
              "      <td>520.848083</td>\n",
              "      <td>520.848083</td>\n",
              "    </tr>\n",
              "    <tr>\n",
              "      <th>сотрудник</th>\n",
              "      <td>10014</td>\n",
              "      <td>161380.260488</td>\n",
              "      <td>142594.396847</td>\n",
              "      <td>10014</td>\n",
              "      <td>2326.499216</td>\n",
              "      <td>1574.202821</td>\n",
              "    </tr>\n",
              "    <tr>\n",
              "      <th>студент</th>\n",
              "      <td>1</td>\n",
              "      <td>98201.625314</td>\n",
              "      <td>98201.625314</td>\n",
              "      <td>1</td>\n",
              "      <td>578.751554</td>\n",
              "      <td>578.751554</td>\n",
              "    </tr>\n",
              "  </tbody>\n",
              "</table>\n",
              "</div>\n",
              "      <button class=\"colab-df-convert\" onclick=\"convertToInteractive('df-916b1fee-1cd9-4f48-ac35-04cf2b12283e')\"\n",
              "              title=\"Convert this dataframe to an interactive table.\"\n",
              "              style=\"display:none;\">\n",
              "        \n",
              "  <svg xmlns=\"http://www.w3.org/2000/svg\" height=\"24px\"viewBox=\"0 0 24 24\"\n",
              "       width=\"24px\">\n",
              "    <path d=\"M0 0h24v24H0V0z\" fill=\"none\"/>\n",
              "    <path d=\"M18.56 5.44l.94 2.06.94-2.06 2.06-.94-2.06-.94-.94-2.06-.94 2.06-2.06.94zm-11 1L8.5 8.5l.94-2.06 2.06-.94-2.06-.94L8.5 2.5l-.94 2.06-2.06.94zm10 10l.94 2.06.94-2.06 2.06-.94-2.06-.94-.94-2.06-.94 2.06-2.06.94z\"/><path d=\"M17.41 7.96l-1.37-1.37c-.4-.4-.92-.59-1.43-.59-.52 0-1.04.2-1.43.59L10.3 9.45l-7.72 7.72c-.78.78-.78 2.05 0 2.83L4 21.41c.39.39.9.59 1.41.59.51 0 1.02-.2 1.41-.59l7.78-7.78 2.81-2.81c.8-.78.8-2.07 0-2.86zM5.41 20L4 18.59l7.72-7.72 1.47 1.35L5.41 20z\"/>\n",
              "  </svg>\n",
              "      </button>\n",
              "      \n",
              "  <style>\n",
              "    .colab-df-container {\n",
              "      display:flex;\n",
              "      flex-wrap:wrap;\n",
              "      gap: 12px;\n",
              "    }\n",
              "\n",
              "    .colab-df-convert {\n",
              "      background-color: #E8F0FE;\n",
              "      border: none;\n",
              "      border-radius: 50%;\n",
              "      cursor: pointer;\n",
              "      display: none;\n",
              "      fill: #1967D2;\n",
              "      height: 32px;\n",
              "      padding: 0 0 0 0;\n",
              "      width: 32px;\n",
              "    }\n",
              "\n",
              "    .colab-df-convert:hover {\n",
              "      background-color: #E2EBFA;\n",
              "      box-shadow: 0px 1px 2px rgba(60, 64, 67, 0.3), 0px 1px 3px 1px rgba(60, 64, 67, 0.15);\n",
              "      fill: #174EA6;\n",
              "    }\n",
              "\n",
              "    [theme=dark] .colab-df-convert {\n",
              "      background-color: #3B4455;\n",
              "      fill: #D2E3FC;\n",
              "    }\n",
              "\n",
              "    [theme=dark] .colab-df-convert:hover {\n",
              "      background-color: #434B5C;\n",
              "      box-shadow: 0px 1px 3px 1px rgba(0, 0, 0, 0.15);\n",
              "      filter: drop-shadow(0px 1px 2px rgba(0, 0, 0, 0.3));\n",
              "      fill: #FFFFFF;\n",
              "    }\n",
              "  </style>\n",
              "\n",
              "      <script>\n",
              "        const buttonEl =\n",
              "          document.querySelector('#df-916b1fee-1cd9-4f48-ac35-04cf2b12283e button.colab-df-convert');\n",
              "        buttonEl.style.display =\n",
              "          google.colab.kernel.accessAllowed ? 'block' : 'none';\n",
              "\n",
              "        async function convertToInteractive(key) {\n",
              "          const element = document.querySelector('#df-916b1fee-1cd9-4f48-ac35-04cf2b12283e');\n",
              "          const dataTable =\n",
              "            await google.colab.kernel.invokeFunction('convertToInteractive',\n",
              "                                                     [key], {});\n",
              "          if (!dataTable) return;\n",
              "\n",
              "          const docLinkHtml = 'Like what you see? Visit the ' +\n",
              "            '<a target=\"_blank\" href=https://colab.research.google.com/notebooks/data_table.ipynb>data table notebook</a>'\n",
              "            + ' to learn more about interactive tables.';\n",
              "          element.innerHTML = '';\n",
              "          dataTable['output_type'] = 'display_data';\n",
              "          await google.colab.output.renderOutput(dataTable, element);\n",
              "          const docLink = document.createElement('div');\n",
              "          docLink.innerHTML = docLinkHtml;\n",
              "          element.appendChild(docLink);\n",
              "        }\n",
              "      </script>\n",
              "    </div>\n",
              "  </div>\n",
              "  "
            ],
            "text/plain": [
              "                total_income                 ...  days_employed               \n",
              "                       count           mean  ...           mean         median\n",
              "income_type                                  ...                              \n",
              "безработный                2  131339.751676  ...  366413.652744  366413.652744\n",
              "в декрете                  1   53829.130729  ...    3296.759962    3296.759962\n",
              "госслужащий             1312  170898.309923  ...    3399.896902    2689.368353\n",
              "компаньон               4577  202417.461462  ...    2111.524398    1547.382223\n",
              "пенсионер               3443  137127.465690  ...  365003.491245  365213.306266\n",
              "предприниматель            1  499163.144947  ...     520.848083     520.848083\n",
              "сотрудник              10014  161380.260488  ...    2326.499216    1574.202821\n",
              "студент                    1   98201.625314  ...     578.751554     578.751554\n",
              "\n",
              "[8 rows x 6 columns]"
            ]
          },
          "metadata": {},
          "execution_count": 6
        }
      ]
    },
    {
      "cell_type": "code",
      "metadata": {
        "id": "7Y6NpykozeVe"
      },
      "source": [
        "data = data.fillna(0)"
      ],
      "execution_count": 7,
      "outputs": []
    },
    {
      "cell_type": "markdown",
      "metadata": {
        "id": "1usFAXkizeVe"
      },
      "source": [
        "  \n",
        "Напишем функцию для замены пропусков в столбце total_incom на полученные средние значения.\n"
      ]
    },
    {
      "cell_type": "code",
      "metadata": {
        "id": "j8ssPEt7zeVe"
      },
      "source": [
        "def total(row):\n",
        "    total_income = row['total_income']\n",
        "    income_type = row['income_type']\n",
        "    if total_income == 0:\n",
        "        if income_type == 'пенсионер':\n",
        "            return 137127\n",
        "        if income_type == 'сотрудник':\n",
        "            return 161380\n",
        "        if income_type == 'госслужащий':\n",
        "            return 170898\n",
        "        if income_type == 'безработный':\n",
        "            return 131339\n",
        "        if income_type == 'в декрете':\n",
        "            return 53829\n",
        "        if income_type == 'компаньон':\n",
        "            return 202417\n",
        "        if income_type == 'предприниматель':\n",
        "            return 499163\n",
        "        if income_type == 'студент':\n",
        "            return 98201\n",
        "        \n",
        "    else:\n",
        "        return total_income\n",
        "            \n",
        "    "
      ],
      "execution_count": 8,
      "outputs": []
    },
    {
      "cell_type": "markdown",
      "metadata": {
        "id": "TemBJk2QzeVf"
      },
      "source": [
        "   \n",
        "Напишем функцию для замены пропусков в столбце days_employed на полученные средние значения.\n"
      ]
    },
    {
      "cell_type": "code",
      "metadata": {
        "id": "a6Ae1nvazeVf"
      },
      "source": [
        "def employed(row):\n",
        "    days_employed = row['days_employed']\n",
        "    income_type = row['income_type']\n",
        "    if days_employed == 0:\n",
        "        if income_type == 'пенсионер':\n",
        "            return 365003\n",
        "        if income_type == 'сотрудник':\n",
        "            return 2326\n",
        "        if income_type == 'госслужащий':\n",
        "            return 3399\n",
        "        if income_type == 'безработный':\n",
        "            return 366416\n",
        "        if income_type == 'в декрете':\n",
        "            return 3296\n",
        "        if income_type == 'компаньон':\n",
        "            return 2111\n",
        "        if income_type == 'предприниматель':\n",
        "            return 520\n",
        "        if income_type == 'студент':\n",
        "            return 578\n",
        "        \n",
        "    else:\n",
        "        return days_employed\n",
        "            "
      ],
      "execution_count": 9,
      "outputs": []
    },
    {
      "cell_type": "code",
      "metadata": {
        "colab": {
          "base_uri": "https://localhost:8080/",
          "height": 0
        },
        "id": "j-3n34nEzeVf",
        "outputId": "f4e81147-4cef-4ae5-82a8-a474a646882b"
      },
      "source": [
        "data['total_income'] = data.apply(total, axis=1)\n",
        "data['days_employed'] = data.apply(employed, axis=1)\n",
        "data.head(15)"
      ],
      "execution_count": 10,
      "outputs": [
        {
          "output_type": "execute_result",
          "data": {
            "text/html": [
              "\n",
              "  <div id=\"df-6e22174f-ead5-4b79-877c-b7bc1c4b528f\">\n",
              "    <div class=\"colab-df-container\">\n",
              "      <div>\n",
              "<style scoped>\n",
              "    .dataframe tbody tr th:only-of-type {\n",
              "        vertical-align: middle;\n",
              "    }\n",
              "\n",
              "    .dataframe tbody tr th {\n",
              "        vertical-align: top;\n",
              "    }\n",
              "\n",
              "    .dataframe thead th {\n",
              "        text-align: right;\n",
              "    }\n",
              "</style>\n",
              "<table border=\"1\" class=\"dataframe\">\n",
              "  <thead>\n",
              "    <tr style=\"text-align: right;\">\n",
              "      <th></th>\n",
              "      <th>children</th>\n",
              "      <th>days_employed</th>\n",
              "      <th>dob_years</th>\n",
              "      <th>education</th>\n",
              "      <th>education_id</th>\n",
              "      <th>family_status</th>\n",
              "      <th>family_status_id</th>\n",
              "      <th>gender</th>\n",
              "      <th>income_type</th>\n",
              "      <th>debt</th>\n",
              "      <th>total_income</th>\n",
              "      <th>purpose</th>\n",
              "    </tr>\n",
              "  </thead>\n",
              "  <tbody>\n",
              "    <tr>\n",
              "      <th>0</th>\n",
              "      <td>1</td>\n",
              "      <td>8437.673028</td>\n",
              "      <td>42</td>\n",
              "      <td>высшее</td>\n",
              "      <td>0</td>\n",
              "      <td>женат / замужем</td>\n",
              "      <td>0</td>\n",
              "      <td>F</td>\n",
              "      <td>сотрудник</td>\n",
              "      <td>0</td>\n",
              "      <td>253875.639453</td>\n",
              "      <td>покупка жилья</td>\n",
              "    </tr>\n",
              "    <tr>\n",
              "      <th>1</th>\n",
              "      <td>1</td>\n",
              "      <td>4024.803754</td>\n",
              "      <td>36</td>\n",
              "      <td>среднее</td>\n",
              "      <td>1</td>\n",
              "      <td>женат / замужем</td>\n",
              "      <td>0</td>\n",
              "      <td>F</td>\n",
              "      <td>сотрудник</td>\n",
              "      <td>0</td>\n",
              "      <td>112080.014102</td>\n",
              "      <td>приобретение автомобиля</td>\n",
              "    </tr>\n",
              "    <tr>\n",
              "      <th>2</th>\n",
              "      <td>0</td>\n",
              "      <td>5623.422610</td>\n",
              "      <td>33</td>\n",
              "      <td>Среднее</td>\n",
              "      <td>1</td>\n",
              "      <td>женат / замужем</td>\n",
              "      <td>0</td>\n",
              "      <td>M</td>\n",
              "      <td>сотрудник</td>\n",
              "      <td>0</td>\n",
              "      <td>145885.952297</td>\n",
              "      <td>покупка жилья</td>\n",
              "    </tr>\n",
              "    <tr>\n",
              "      <th>3</th>\n",
              "      <td>3</td>\n",
              "      <td>4124.747207</td>\n",
              "      <td>32</td>\n",
              "      <td>среднее</td>\n",
              "      <td>1</td>\n",
              "      <td>женат / замужем</td>\n",
              "      <td>0</td>\n",
              "      <td>M</td>\n",
              "      <td>сотрудник</td>\n",
              "      <td>0</td>\n",
              "      <td>267628.550329</td>\n",
              "      <td>дополнительное образование</td>\n",
              "    </tr>\n",
              "    <tr>\n",
              "      <th>4</th>\n",
              "      <td>0</td>\n",
              "      <td>340266.072047</td>\n",
              "      <td>53</td>\n",
              "      <td>среднее</td>\n",
              "      <td>1</td>\n",
              "      <td>гражданский брак</td>\n",
              "      <td>1</td>\n",
              "      <td>F</td>\n",
              "      <td>пенсионер</td>\n",
              "      <td>0</td>\n",
              "      <td>158616.077870</td>\n",
              "      <td>сыграть свадьбу</td>\n",
              "    </tr>\n",
              "    <tr>\n",
              "      <th>5</th>\n",
              "      <td>0</td>\n",
              "      <td>926.185831</td>\n",
              "      <td>27</td>\n",
              "      <td>высшее</td>\n",
              "      <td>0</td>\n",
              "      <td>гражданский брак</td>\n",
              "      <td>1</td>\n",
              "      <td>M</td>\n",
              "      <td>компаньон</td>\n",
              "      <td>0</td>\n",
              "      <td>255763.565419</td>\n",
              "      <td>покупка жилья</td>\n",
              "    </tr>\n",
              "    <tr>\n",
              "      <th>6</th>\n",
              "      <td>0</td>\n",
              "      <td>2879.202052</td>\n",
              "      <td>43</td>\n",
              "      <td>высшее</td>\n",
              "      <td>0</td>\n",
              "      <td>женат / замужем</td>\n",
              "      <td>0</td>\n",
              "      <td>F</td>\n",
              "      <td>компаньон</td>\n",
              "      <td>0</td>\n",
              "      <td>240525.971920</td>\n",
              "      <td>операции с жильем</td>\n",
              "    </tr>\n",
              "    <tr>\n",
              "      <th>7</th>\n",
              "      <td>0</td>\n",
              "      <td>152.779569</td>\n",
              "      <td>50</td>\n",
              "      <td>СРЕДНЕЕ</td>\n",
              "      <td>1</td>\n",
              "      <td>женат / замужем</td>\n",
              "      <td>0</td>\n",
              "      <td>M</td>\n",
              "      <td>сотрудник</td>\n",
              "      <td>0</td>\n",
              "      <td>135823.934197</td>\n",
              "      <td>образование</td>\n",
              "    </tr>\n",
              "    <tr>\n",
              "      <th>8</th>\n",
              "      <td>2</td>\n",
              "      <td>6929.865299</td>\n",
              "      <td>35</td>\n",
              "      <td>ВЫСШЕЕ</td>\n",
              "      <td>0</td>\n",
              "      <td>гражданский брак</td>\n",
              "      <td>1</td>\n",
              "      <td>F</td>\n",
              "      <td>сотрудник</td>\n",
              "      <td>0</td>\n",
              "      <td>95856.832424</td>\n",
              "      <td>на проведение свадьбы</td>\n",
              "    </tr>\n",
              "    <tr>\n",
              "      <th>9</th>\n",
              "      <td>0</td>\n",
              "      <td>2188.756445</td>\n",
              "      <td>41</td>\n",
              "      <td>среднее</td>\n",
              "      <td>1</td>\n",
              "      <td>женат / замужем</td>\n",
              "      <td>0</td>\n",
              "      <td>M</td>\n",
              "      <td>сотрудник</td>\n",
              "      <td>0</td>\n",
              "      <td>144425.938277</td>\n",
              "      <td>покупка жилья для семьи</td>\n",
              "    </tr>\n",
              "    <tr>\n",
              "      <th>10</th>\n",
              "      <td>2</td>\n",
              "      <td>4171.483647</td>\n",
              "      <td>36</td>\n",
              "      <td>высшее</td>\n",
              "      <td>0</td>\n",
              "      <td>женат / замужем</td>\n",
              "      <td>0</td>\n",
              "      <td>M</td>\n",
              "      <td>компаньон</td>\n",
              "      <td>0</td>\n",
              "      <td>113943.491460</td>\n",
              "      <td>покупка недвижимости</td>\n",
              "    </tr>\n",
              "    <tr>\n",
              "      <th>11</th>\n",
              "      <td>0</td>\n",
              "      <td>792.701887</td>\n",
              "      <td>40</td>\n",
              "      <td>среднее</td>\n",
              "      <td>1</td>\n",
              "      <td>женат / замужем</td>\n",
              "      <td>0</td>\n",
              "      <td>F</td>\n",
              "      <td>сотрудник</td>\n",
              "      <td>0</td>\n",
              "      <td>77069.234271</td>\n",
              "      <td>покупка коммерческой недвижимости</td>\n",
              "    </tr>\n",
              "    <tr>\n",
              "      <th>12</th>\n",
              "      <td>0</td>\n",
              "      <td>365003.000000</td>\n",
              "      <td>65</td>\n",
              "      <td>среднее</td>\n",
              "      <td>1</td>\n",
              "      <td>гражданский брак</td>\n",
              "      <td>1</td>\n",
              "      <td>M</td>\n",
              "      <td>пенсионер</td>\n",
              "      <td>0</td>\n",
              "      <td>137127.000000</td>\n",
              "      <td>сыграть свадьбу</td>\n",
              "    </tr>\n",
              "    <tr>\n",
              "      <th>13</th>\n",
              "      <td>0</td>\n",
              "      <td>1846.641941</td>\n",
              "      <td>54</td>\n",
              "      <td>неоконченное высшее</td>\n",
              "      <td>2</td>\n",
              "      <td>женат / замужем</td>\n",
              "      <td>0</td>\n",
              "      <td>F</td>\n",
              "      <td>сотрудник</td>\n",
              "      <td>0</td>\n",
              "      <td>130458.228857</td>\n",
              "      <td>приобретение автомобиля</td>\n",
              "    </tr>\n",
              "    <tr>\n",
              "      <th>14</th>\n",
              "      <td>0</td>\n",
              "      <td>1844.956182</td>\n",
              "      <td>56</td>\n",
              "      <td>высшее</td>\n",
              "      <td>0</td>\n",
              "      <td>гражданский брак</td>\n",
              "      <td>1</td>\n",
              "      <td>F</td>\n",
              "      <td>компаньон</td>\n",
              "      <td>1</td>\n",
              "      <td>165127.911772</td>\n",
              "      <td>покупка жилой недвижимости</td>\n",
              "    </tr>\n",
              "  </tbody>\n",
              "</table>\n",
              "</div>\n",
              "      <button class=\"colab-df-convert\" onclick=\"convertToInteractive('df-6e22174f-ead5-4b79-877c-b7bc1c4b528f')\"\n",
              "              title=\"Convert this dataframe to an interactive table.\"\n",
              "              style=\"display:none;\">\n",
              "        \n",
              "  <svg xmlns=\"http://www.w3.org/2000/svg\" height=\"24px\"viewBox=\"0 0 24 24\"\n",
              "       width=\"24px\">\n",
              "    <path d=\"M0 0h24v24H0V0z\" fill=\"none\"/>\n",
              "    <path d=\"M18.56 5.44l.94 2.06.94-2.06 2.06-.94-2.06-.94-.94-2.06-.94 2.06-2.06.94zm-11 1L8.5 8.5l.94-2.06 2.06-.94-2.06-.94L8.5 2.5l-.94 2.06-2.06.94zm10 10l.94 2.06.94-2.06 2.06-.94-2.06-.94-.94-2.06-.94 2.06-2.06.94z\"/><path d=\"M17.41 7.96l-1.37-1.37c-.4-.4-.92-.59-1.43-.59-.52 0-1.04.2-1.43.59L10.3 9.45l-7.72 7.72c-.78.78-.78 2.05 0 2.83L4 21.41c.39.39.9.59 1.41.59.51 0 1.02-.2 1.41-.59l7.78-7.78 2.81-2.81c.8-.78.8-2.07 0-2.86zM5.41 20L4 18.59l7.72-7.72 1.47 1.35L5.41 20z\"/>\n",
              "  </svg>\n",
              "      </button>\n",
              "      \n",
              "  <style>\n",
              "    .colab-df-container {\n",
              "      display:flex;\n",
              "      flex-wrap:wrap;\n",
              "      gap: 12px;\n",
              "    }\n",
              "\n",
              "    .colab-df-convert {\n",
              "      background-color: #E8F0FE;\n",
              "      border: none;\n",
              "      border-radius: 50%;\n",
              "      cursor: pointer;\n",
              "      display: none;\n",
              "      fill: #1967D2;\n",
              "      height: 32px;\n",
              "      padding: 0 0 0 0;\n",
              "      width: 32px;\n",
              "    }\n",
              "\n",
              "    .colab-df-convert:hover {\n",
              "      background-color: #E2EBFA;\n",
              "      box-shadow: 0px 1px 2px rgba(60, 64, 67, 0.3), 0px 1px 3px 1px rgba(60, 64, 67, 0.15);\n",
              "      fill: #174EA6;\n",
              "    }\n",
              "\n",
              "    [theme=dark] .colab-df-convert {\n",
              "      background-color: #3B4455;\n",
              "      fill: #D2E3FC;\n",
              "    }\n",
              "\n",
              "    [theme=dark] .colab-df-convert:hover {\n",
              "      background-color: #434B5C;\n",
              "      box-shadow: 0px 1px 3px 1px rgba(0, 0, 0, 0.15);\n",
              "      filter: drop-shadow(0px 1px 2px rgba(0, 0, 0, 0.3));\n",
              "      fill: #FFFFFF;\n",
              "    }\n",
              "  </style>\n",
              "\n",
              "      <script>\n",
              "        const buttonEl =\n",
              "          document.querySelector('#df-6e22174f-ead5-4b79-877c-b7bc1c4b528f button.colab-df-convert');\n",
              "        buttonEl.style.display =\n",
              "          google.colab.kernel.accessAllowed ? 'block' : 'none';\n",
              "\n",
              "        async function convertToInteractive(key) {\n",
              "          const element = document.querySelector('#df-6e22174f-ead5-4b79-877c-b7bc1c4b528f');\n",
              "          const dataTable =\n",
              "            await google.colab.kernel.invokeFunction('convertToInteractive',\n",
              "                                                     [key], {});\n",
              "          if (!dataTable) return;\n",
              "\n",
              "          const docLinkHtml = 'Like what you see? Visit the ' +\n",
              "            '<a target=\"_blank\" href=https://colab.research.google.com/notebooks/data_table.ipynb>data table notebook</a>'\n",
              "            + ' to learn more about interactive tables.';\n",
              "          element.innerHTML = '';\n",
              "          dataTable['output_type'] = 'display_data';\n",
              "          await google.colab.output.renderOutput(dataTable, element);\n",
              "          const docLink = document.createElement('div');\n",
              "          docLink.innerHTML = docLinkHtml;\n",
              "          element.appendChild(docLink);\n",
              "        }\n",
              "      </script>\n",
              "    </div>\n",
              "  </div>\n",
              "  "
            ],
            "text/plain": [
              "    children  days_employed  ...   total_income                            purpose\n",
              "0          1    8437.673028  ...  253875.639453                      покупка жилья\n",
              "1          1    4024.803754  ...  112080.014102            приобретение автомобиля\n",
              "2          0    5623.422610  ...  145885.952297                      покупка жилья\n",
              "3          3    4124.747207  ...  267628.550329         дополнительное образование\n",
              "4          0  340266.072047  ...  158616.077870                    сыграть свадьбу\n",
              "5          0     926.185831  ...  255763.565419                      покупка жилья\n",
              "6          0    2879.202052  ...  240525.971920                  операции с жильем\n",
              "7          0     152.779569  ...  135823.934197                        образование\n",
              "8          2    6929.865299  ...   95856.832424              на проведение свадьбы\n",
              "9          0    2188.756445  ...  144425.938277            покупка жилья для семьи\n",
              "10         2    4171.483647  ...  113943.491460               покупка недвижимости\n",
              "11         0     792.701887  ...   77069.234271  покупка коммерческой недвижимости\n",
              "12         0  365003.000000  ...  137127.000000                    сыграть свадьбу\n",
              "13         0    1846.641941  ...  130458.228857            приобретение автомобиля\n",
              "14         0    1844.956182  ...  165127.911772         покупка жилой недвижимости\n",
              "\n",
              "[15 rows x 12 columns]"
            ]
          },
          "metadata": {},
          "execution_count": 10
        }
      ]
    },
    {
      "cell_type": "code",
      "metadata": {
        "colab": {
          "base_uri": "https://localhost:8080/"
        },
        "id": "xLzBrW-BzeVg",
        "outputId": "787fc336-b08e-40af-d99e-a49f720dea8c"
      },
      "source": [
        "data.isnull().sum()"
      ],
      "execution_count": 11,
      "outputs": [
        {
          "output_type": "execute_result",
          "data": {
            "text/plain": [
              "children            0\n",
              "days_employed       0\n",
              "dob_years           0\n",
              "education           0\n",
              "education_id        0\n",
              "family_status       0\n",
              "family_status_id    0\n",
              "gender              0\n",
              "income_type         0\n",
              "debt                0\n",
              "total_income        0\n",
              "purpose             0\n",
              "dtype: int64"
            ]
          },
          "metadata": {},
          "execution_count": 11
        }
      ]
    },
    {
      "cell_type": "markdown",
      "metadata": {
        "id": "7pSWaYFrzeVg"
      },
      "source": [
        "**Вывод**"
      ]
    },
    {
      "cell_type": "markdown",
      "metadata": {
        "id": "9DN4D5i0zeVg"
      },
      "source": [
        "Для определения и подсчёта пропущенных значений таблицы применим метод .isnull() в сочетании с методом .sum(). В результате мы видим два столбца days_employed и total_income с 2174 строками пропущенных значений. Заполним данные строки заначением 0, используя метод .fillna(). Удаление данных строк методом .dropna() не целесообразно, так как удаление полностью всех строк может повлиять на результат исследования."
      ]
    },
    {
      "cell_type": "markdown",
      "metadata": {
        "id": "dmIVvQ8WzeVh"
      },
      "source": [
        "### Замена типа данных"
      ]
    },
    {
      "cell_type": "markdown",
      "metadata": {
        "id": "5mHGK10hzeVh"
      },
      "source": [
        "Самый простой способ преобразовать столбец данных в другой тип - использовать .astype()"
      ]
    },
    {
      "cell_type": "code",
      "metadata": {
        "id": "7f4F4ZYSzeVi"
      },
      "source": [
        "data['days_employed'] = data['days_employed'].astype('int')\n",
        "data['children'] = data['children'].astype('int')\n"
      ],
      "execution_count": 12,
      "outputs": []
    },
    {
      "cell_type": "markdown",
      "metadata": {
        "id": "wbfRJ4qczeVj"
      },
      "source": [
        "Целесообразно изменить тип данных в трех столбцах. 'days_employed', 'children', так как из их смысла понятно что они могут быть только целочисленные. "
      ]
    },
    {
      "cell_type": "markdown",
      "metadata": {
        "id": "5YcuFi-IzeVk"
      },
      "source": [
        "Так же столбцы 'days_employed', 'children' имют отрицательные значения, что также не являеться верным. Создаем функцию для изменения минуса на плюс, можно использовать метод abs но мы его еще не проходили))."
      ]
    },
    {
      "cell_type": "code",
      "metadata": {
        "id": "W3sXwyRdzeVk"
      },
      "source": [
        "def modul(num):\n",
        "    if num < 0:\n",
        "        num_p = num * -1\n",
        "        return num_p\n",
        "    else:\n",
        "        return num"
      ],
      "execution_count": 13,
      "outputs": []
    },
    {
      "cell_type": "code",
      "metadata": {
        "id": "x00mdHkmzeVk"
      },
      "source": [
        "data['days_employed'] = data['days_employed'].apply(modul)\n",
        "data['children'] = data['children'].apply(modul) "
      ],
      "execution_count": 14,
      "outputs": []
    },
    {
      "cell_type": "markdown",
      "metadata": {
        "id": "_eZHKy4RzeVl"
      },
      "source": [
        "Проверим, что получилось."
      ]
    },
    {
      "cell_type": "code",
      "metadata": {
        "colab": {
          "base_uri": "https://localhost:8080/",
          "height": 0
        },
        "id": "cYIAjJ6ozeVl",
        "outputId": "18d9d007-fcdd-499c-fc64-947b876e1a14"
      },
      "source": [
        "data.head()"
      ],
      "execution_count": 15,
      "outputs": [
        {
          "output_type": "execute_result",
          "data": {
            "text/html": [
              "\n",
              "  <div id=\"df-1f4e7a74-e121-434f-a22e-cc9711034d0e\">\n",
              "    <div class=\"colab-df-container\">\n",
              "      <div>\n",
              "<style scoped>\n",
              "    .dataframe tbody tr th:only-of-type {\n",
              "        vertical-align: middle;\n",
              "    }\n",
              "\n",
              "    .dataframe tbody tr th {\n",
              "        vertical-align: top;\n",
              "    }\n",
              "\n",
              "    .dataframe thead th {\n",
              "        text-align: right;\n",
              "    }\n",
              "</style>\n",
              "<table border=\"1\" class=\"dataframe\">\n",
              "  <thead>\n",
              "    <tr style=\"text-align: right;\">\n",
              "      <th></th>\n",
              "      <th>children</th>\n",
              "      <th>days_employed</th>\n",
              "      <th>dob_years</th>\n",
              "      <th>education</th>\n",
              "      <th>education_id</th>\n",
              "      <th>family_status</th>\n",
              "      <th>family_status_id</th>\n",
              "      <th>gender</th>\n",
              "      <th>income_type</th>\n",
              "      <th>debt</th>\n",
              "      <th>total_income</th>\n",
              "      <th>purpose</th>\n",
              "    </tr>\n",
              "  </thead>\n",
              "  <tbody>\n",
              "    <tr>\n",
              "      <th>0</th>\n",
              "      <td>1</td>\n",
              "      <td>8437</td>\n",
              "      <td>42</td>\n",
              "      <td>высшее</td>\n",
              "      <td>0</td>\n",
              "      <td>женат / замужем</td>\n",
              "      <td>0</td>\n",
              "      <td>F</td>\n",
              "      <td>сотрудник</td>\n",
              "      <td>0</td>\n",
              "      <td>253875.639453</td>\n",
              "      <td>покупка жилья</td>\n",
              "    </tr>\n",
              "    <tr>\n",
              "      <th>1</th>\n",
              "      <td>1</td>\n",
              "      <td>4024</td>\n",
              "      <td>36</td>\n",
              "      <td>среднее</td>\n",
              "      <td>1</td>\n",
              "      <td>женат / замужем</td>\n",
              "      <td>0</td>\n",
              "      <td>F</td>\n",
              "      <td>сотрудник</td>\n",
              "      <td>0</td>\n",
              "      <td>112080.014102</td>\n",
              "      <td>приобретение автомобиля</td>\n",
              "    </tr>\n",
              "    <tr>\n",
              "      <th>2</th>\n",
              "      <td>0</td>\n",
              "      <td>5623</td>\n",
              "      <td>33</td>\n",
              "      <td>Среднее</td>\n",
              "      <td>1</td>\n",
              "      <td>женат / замужем</td>\n",
              "      <td>0</td>\n",
              "      <td>M</td>\n",
              "      <td>сотрудник</td>\n",
              "      <td>0</td>\n",
              "      <td>145885.952297</td>\n",
              "      <td>покупка жилья</td>\n",
              "    </tr>\n",
              "    <tr>\n",
              "      <th>3</th>\n",
              "      <td>3</td>\n",
              "      <td>4124</td>\n",
              "      <td>32</td>\n",
              "      <td>среднее</td>\n",
              "      <td>1</td>\n",
              "      <td>женат / замужем</td>\n",
              "      <td>0</td>\n",
              "      <td>M</td>\n",
              "      <td>сотрудник</td>\n",
              "      <td>0</td>\n",
              "      <td>267628.550329</td>\n",
              "      <td>дополнительное образование</td>\n",
              "    </tr>\n",
              "    <tr>\n",
              "      <th>4</th>\n",
              "      <td>0</td>\n",
              "      <td>340266</td>\n",
              "      <td>53</td>\n",
              "      <td>среднее</td>\n",
              "      <td>1</td>\n",
              "      <td>гражданский брак</td>\n",
              "      <td>1</td>\n",
              "      <td>F</td>\n",
              "      <td>пенсионер</td>\n",
              "      <td>0</td>\n",
              "      <td>158616.077870</td>\n",
              "      <td>сыграть свадьбу</td>\n",
              "    </tr>\n",
              "  </tbody>\n",
              "</table>\n",
              "</div>\n",
              "      <button class=\"colab-df-convert\" onclick=\"convertToInteractive('df-1f4e7a74-e121-434f-a22e-cc9711034d0e')\"\n",
              "              title=\"Convert this dataframe to an interactive table.\"\n",
              "              style=\"display:none;\">\n",
              "        \n",
              "  <svg xmlns=\"http://www.w3.org/2000/svg\" height=\"24px\"viewBox=\"0 0 24 24\"\n",
              "       width=\"24px\">\n",
              "    <path d=\"M0 0h24v24H0V0z\" fill=\"none\"/>\n",
              "    <path d=\"M18.56 5.44l.94 2.06.94-2.06 2.06-.94-2.06-.94-.94-2.06-.94 2.06-2.06.94zm-11 1L8.5 8.5l.94-2.06 2.06-.94-2.06-.94L8.5 2.5l-.94 2.06-2.06.94zm10 10l.94 2.06.94-2.06 2.06-.94-2.06-.94-.94-2.06-.94 2.06-2.06.94z\"/><path d=\"M17.41 7.96l-1.37-1.37c-.4-.4-.92-.59-1.43-.59-.52 0-1.04.2-1.43.59L10.3 9.45l-7.72 7.72c-.78.78-.78 2.05 0 2.83L4 21.41c.39.39.9.59 1.41.59.51 0 1.02-.2 1.41-.59l7.78-7.78 2.81-2.81c.8-.78.8-2.07 0-2.86zM5.41 20L4 18.59l7.72-7.72 1.47 1.35L5.41 20z\"/>\n",
              "  </svg>\n",
              "      </button>\n",
              "      \n",
              "  <style>\n",
              "    .colab-df-container {\n",
              "      display:flex;\n",
              "      flex-wrap:wrap;\n",
              "      gap: 12px;\n",
              "    }\n",
              "\n",
              "    .colab-df-convert {\n",
              "      background-color: #E8F0FE;\n",
              "      border: none;\n",
              "      border-radius: 50%;\n",
              "      cursor: pointer;\n",
              "      display: none;\n",
              "      fill: #1967D2;\n",
              "      height: 32px;\n",
              "      padding: 0 0 0 0;\n",
              "      width: 32px;\n",
              "    }\n",
              "\n",
              "    .colab-df-convert:hover {\n",
              "      background-color: #E2EBFA;\n",
              "      box-shadow: 0px 1px 2px rgba(60, 64, 67, 0.3), 0px 1px 3px 1px rgba(60, 64, 67, 0.15);\n",
              "      fill: #174EA6;\n",
              "    }\n",
              "\n",
              "    [theme=dark] .colab-df-convert {\n",
              "      background-color: #3B4455;\n",
              "      fill: #D2E3FC;\n",
              "    }\n",
              "\n",
              "    [theme=dark] .colab-df-convert:hover {\n",
              "      background-color: #434B5C;\n",
              "      box-shadow: 0px 1px 3px 1px rgba(0, 0, 0, 0.15);\n",
              "      filter: drop-shadow(0px 1px 2px rgba(0, 0, 0, 0.3));\n",
              "      fill: #FFFFFF;\n",
              "    }\n",
              "  </style>\n",
              "\n",
              "      <script>\n",
              "        const buttonEl =\n",
              "          document.querySelector('#df-1f4e7a74-e121-434f-a22e-cc9711034d0e button.colab-df-convert');\n",
              "        buttonEl.style.display =\n",
              "          google.colab.kernel.accessAllowed ? 'block' : 'none';\n",
              "\n",
              "        async function convertToInteractive(key) {\n",
              "          const element = document.querySelector('#df-1f4e7a74-e121-434f-a22e-cc9711034d0e');\n",
              "          const dataTable =\n",
              "            await google.colab.kernel.invokeFunction('convertToInteractive',\n",
              "                                                     [key], {});\n",
              "          if (!dataTable) return;\n",
              "\n",
              "          const docLinkHtml = 'Like what you see? Visit the ' +\n",
              "            '<a target=\"_blank\" href=https://colab.research.google.com/notebooks/data_table.ipynb>data table notebook</a>'\n",
              "            + ' to learn more about interactive tables.';\n",
              "          element.innerHTML = '';\n",
              "          dataTable['output_type'] = 'display_data';\n",
              "          await google.colab.output.renderOutput(dataTable, element);\n",
              "          const docLink = document.createElement('div');\n",
              "          docLink.innerHTML = docLinkHtml;\n",
              "          element.appendChild(docLink);\n",
              "        }\n",
              "      </script>\n",
              "    </div>\n",
              "  </div>\n",
              "  "
            ],
            "text/plain": [
              "   children  days_employed  ...   total_income                     purpose\n",
              "0         1           8437  ...  253875.639453               покупка жилья\n",
              "1         1           4024  ...  112080.014102     приобретение автомобиля\n",
              "2         0           5623  ...  145885.952297               покупка жилья\n",
              "3         3           4124  ...  267628.550329  дополнительное образование\n",
              "4         0         340266  ...  158616.077870             сыграть свадьбу\n",
              "\n",
              "[5 rows x 12 columns]"
            ]
          },
          "metadata": {},
          "execution_count": 15
        }
      ]
    },
    {
      "cell_type": "markdown",
      "metadata": {
        "id": "wp3JhphmzeVl"
      },
      "source": [
        "**Вывод**"
      ]
    },
    {
      "cell_type": "markdown",
      "metadata": {
        "id": "XFZ8nQJ5zeVl"
      },
      "source": [
        "Была поставлена задача изменить вещественные тип (float) данных на целочисленный (int). После анализа таблицы были определены столбы с вещественным типом данных 'days_employed', 'children'. Для их изменнеия выбрали метод astype() как самый простой и универсальный. Отрицательные значения изменили в рамках общей задачи предобработки данных."
      ]
    },
    {
      "cell_type": "markdown",
      "metadata": {
        "id": "P5Wskw5wzeVm"
      },
      "source": [
        "### Обработка дубликатов"
      ]
    },
    {
      "cell_type": "markdown",
      "metadata": {
        "id": "6I8Q6crgzeVm"
      },
      "source": [
        "Проверим на дубликаты и удалим их."
      ]
    },
    {
      "cell_type": "code",
      "metadata": {
        "colab": {
          "base_uri": "https://localhost:8080/"
        },
        "id": "e39ZvjJczeVn",
        "outputId": "1c3bc56a-03cd-49e8-db84-f84dce34fa33"
      },
      "source": [
        "data['education'].value_counts()"
      ],
      "execution_count": 16,
      "outputs": [
        {
          "output_type": "execute_result",
          "data": {
            "text/plain": [
              "среднее                13750\n",
              "высшее                  4718\n",
              "СРЕДНЕЕ                  772\n",
              "Среднее                  711\n",
              "неоконченное высшее      668\n",
              "ВЫСШЕЕ                   274\n",
              "Высшее                   268\n",
              "начальное                250\n",
              "Неоконченное высшее       47\n",
              "НЕОКОНЧЕННОЕ ВЫСШЕЕ       29\n",
              "НАЧАЛЬНОЕ                 17\n",
              "Начальное                 15\n",
              "ученая степень             4\n",
              "Ученая степень             1\n",
              "УЧЕНАЯ СТЕПЕНЬ             1\n",
              "Name: education, dtype: int64"
            ]
          },
          "metadata": {},
          "execution_count": 16
        }
      ]
    },
    {
      "cell_type": "markdown",
      "metadata": {
        "id": "GgKmFbTRzeVn"
      },
      "source": [
        "Cтроки отличаются регистром букв. Чтобы учесть такие дубликаты, все символы в строке приводят к нижнему регистру вызовом метода lower(). В Pandas синтаксис .str.lower(). Тем самым мы удалили все дубликаты"
      ]
    },
    {
      "cell_type": "code",
      "metadata": {
        "colab": {
          "base_uri": "https://localhost:8080/"
        },
        "id": "eZ-rPkHvzeVn",
        "outputId": "60ddc988-227e-4537-a847-1d7c885f07ea"
      },
      "source": [
        "data['education'] = data['education'].str.lower()\n",
        "data['education'].duplicated().sum()\n"
      ],
      "execution_count": 17,
      "outputs": [
        {
          "output_type": "execute_result",
          "data": {
            "text/plain": [
              "21520"
            ]
          },
          "metadata": {},
          "execution_count": 17
        }
      ]
    },
    {
      "cell_type": "code",
      "metadata": {
        "colab": {
          "base_uri": "https://localhost:8080/"
        },
        "id": "tcPzdbwIzeVo",
        "outputId": "4afe0fe3-398f-43ad-f764-9f14bb179542"
      },
      "source": [
        "data['education'].value_counts()"
      ],
      "execution_count": 18,
      "outputs": [
        {
          "output_type": "execute_result",
          "data": {
            "text/plain": [
              "среднее                15233\n",
              "высшее                  5260\n",
              "неоконченное высшее      744\n",
              "начальное                282\n",
              "ученая степень             6\n",
              "Name: education, dtype: int64"
            ]
          },
          "metadata": {},
          "execution_count": 18
        }
      ]
    },
    {
      "cell_type": "markdown",
      "metadata": {
        "id": "UBnN8Jm5zeVo"
      },
      "source": [
        "По аналогии поступим и с другими столцами имющими категориальные типы данных."
      ]
    },
    {
      "cell_type": "code",
      "metadata": {
        "colab": {
          "base_uri": "https://localhost:8080/"
        },
        "id": "6TyZbyhqzeVo",
        "outputId": "4b5f2bba-428f-42a9-e95f-60c5bf9b7923"
      },
      "source": [
        "data['family_status'].value_counts()"
      ],
      "execution_count": 19,
      "outputs": [
        {
          "output_type": "execute_result",
          "data": {
            "text/plain": [
              "женат / замужем          12380\n",
              "гражданский брак          4177\n",
              "Не женат / не замужем     2813\n",
              "в разводе                 1195\n",
              "вдовец / вдова             960\n",
              "Name: family_status, dtype: int64"
            ]
          },
          "metadata": {},
          "execution_count": 19
        }
      ]
    },
    {
      "cell_type": "code",
      "metadata": {
        "colab": {
          "base_uri": "https://localhost:8080/"
        },
        "id": "Rd0l6o3gzeVp",
        "outputId": "c4dc5981-91c6-4be1-8d5e-6ff8a57b6f20"
      },
      "source": [
        "data['family_status'] = data['family_status'].str.lower()\n",
        "data['family_status'].value_counts()"
      ],
      "execution_count": 20,
      "outputs": [
        {
          "output_type": "execute_result",
          "data": {
            "text/plain": [
              "женат / замужем          12380\n",
              "гражданский брак          4177\n",
              "не женат / не замужем     2813\n",
              "в разводе                 1195\n",
              "вдовец / вдова             960\n",
              "Name: family_status, dtype: int64"
            ]
          },
          "metadata": {},
          "execution_count": 20
        }
      ]
    },
    {
      "cell_type": "code",
      "metadata": {
        "colab": {
          "base_uri": "https://localhost:8080/"
        },
        "id": "JApBldHnzeVp",
        "outputId": "e7c97519-d0a4-473f-97de-8154f5edefed"
      },
      "source": [
        "data['gender'].value_counts()"
      ],
      "execution_count": 21,
      "outputs": [
        {
          "output_type": "execute_result",
          "data": {
            "text/plain": [
              "F      14236\n",
              "M       7288\n",
              "XNA        1\n",
              "Name: gender, dtype: int64"
            ]
          },
          "metadata": {},
          "execution_count": 21
        }
      ]
    },
    {
      "cell_type": "markdown",
      "metadata": {
        "id": "0bwa-TotzeVp"
      },
      "source": [
        "Наблюдаем появление в данных третьего пола. Кстати в США официально 54 типа половой принадлежности))). В данном случае будем считать это дубликатом появившимся по технической причине, заменим его на f (так как это всего один случай не имеет значения на что менять)"
      ]
    },
    {
      "cell_type": "code",
      "metadata": {
        "colab": {
          "base_uri": "https://localhost:8080/"
        },
        "id": "2G1KKP5XzeVq",
        "outputId": "cf230de9-efec-4cbe-fb6c-3210bb4384eb"
      },
      "source": [
        "data = data.replace('XNA', 'f')\n",
        "data['gender'] = data['gender'].str.lower()\n",
        "data['gender'].value_counts()"
      ],
      "execution_count": 22,
      "outputs": [
        {
          "output_type": "execute_result",
          "data": {
            "text/plain": [
              "f    14237\n",
              "m     7288\n",
              "Name: gender, dtype: int64"
            ]
          },
          "metadata": {},
          "execution_count": 22
        }
      ]
    },
    {
      "cell_type": "code",
      "metadata": {
        "colab": {
          "base_uri": "https://localhost:8080/"
        },
        "id": "v-6IlW44zeVq",
        "outputId": "8aba9828-9767-4345-8901-2aa7be2fa4af"
      },
      "source": [
        "data['income_type'].value_counts()"
      ],
      "execution_count": 23,
      "outputs": [
        {
          "output_type": "execute_result",
          "data": {
            "text/plain": [
              "сотрудник          11119\n",
              "компаньон           5085\n",
              "пенсионер           3856\n",
              "госслужащий         1459\n",
              "предприниматель        2\n",
              "безработный            2\n",
              "в декрете              1\n",
              "студент                1\n",
              "Name: income_type, dtype: int64"
            ]
          },
          "metadata": {},
          "execution_count": 23
        }
      ]
    },
    {
      "cell_type": "markdown",
      "metadata": {
        "id": "8QWVqN0YzeVq"
      },
      "source": [
        "Мы видим разные категории, некоторые из которых не отражают тип занятосяти. Предлагаю объеденить некоторые категории с схожи катерии. Сотрудник, безработный и пенсионер."
      ]
    },
    {
      "cell_type": "code",
      "metadata": {
        "colab": {
          "base_uri": "https://localhost:8080/"
        },
        "id": "c_S70T50zeVr",
        "outputId": "4e17b777-d2d1-4c2a-b196-857947c19699"
      },
      "source": [
        "data['income_type'].value_counts()"
      ],
      "execution_count": 24,
      "outputs": [
        {
          "output_type": "execute_result",
          "data": {
            "text/plain": [
              "сотрудник          11119\n",
              "компаньон           5085\n",
              "пенсионер           3856\n",
              "госслужащий         1459\n",
              "предприниматель        2\n",
              "безработный            2\n",
              "в декрете              1\n",
              "студент                1\n",
              "Name: income_type, dtype: int64"
            ]
          },
          "metadata": {},
          "execution_count": 24
        }
      ]
    },
    {
      "cell_type": "code",
      "metadata": {
        "colab": {
          "base_uri": "https://localhost:8080/",
          "height": 0
        },
        "id": "GaCzpb_yzeVr",
        "outputId": "bc4d038e-156d-4830-e589-4a992f9f8cfa"
      },
      "source": [
        "plt.title ('Распределение клиентов по возрасту')\n",
        "data['dob_years'].value_counts().sort_index(ascending=True).plot(kind='bar')\n",
        "plt.show"
      ],
      "execution_count": 25,
      "outputs": [
        {
          "output_type": "execute_result",
          "data": {
            "text/plain": [
              "<function matplotlib.pyplot.show>"
            ]
          },
          "metadata": {},
          "execution_count": 25
        },
        {
          "output_type": "display_data",
          "data": {
            "image/png": "[encoded data removed]",
            "text/plain": [
              "<Figure size 432x288 with 1 Axes>"
            ]
          },
          "metadata": {
            "needs_background": "dark"
          }
        }
      ]
    },
    {
      "cell_type": "markdown",
      "metadata": {
        "id": "sbltNBgMzeVs"
      },
      "source": [
        "В столбце есть 101 значение равно 0. Предполагаю, что эо так же техническая ошибка. Заменим 0 на среднее значение по столбцу или медиану."
      ]
    },
    {
      "cell_type": "code",
      "metadata": {
        "id": "hRLB2oE2zeVs"
      },
      "source": [
        "data.dropna(subset=['dob_years'], inplace=True)"
      ],
      "execution_count": 26,
      "outputs": []
    },
    {
      "cell_type": "code",
      "metadata": {
        "colab": {
          "base_uri": "https://localhost:8080/"
        },
        "id": "mfvYPcW2zeVt",
        "outputId": "9c148a47-8d10-4910-c5a0-13f48e209361"
      },
      "source": [
        "data['dob_years'].value_counts()"
      ],
      "execution_count": 27,
      "outputs": [
        {
          "output_type": "execute_result",
          "data": {
            "text/plain": [
              "35    617\n",
              "40    609\n",
              "41    607\n",
              "34    603\n",
              "38    598\n",
              "42    597\n",
              "33    581\n",
              "39    573\n",
              "31    560\n",
              "36    555\n",
              "44    547\n",
              "29    545\n",
              "30    540\n",
              "48    538\n",
              "37    537\n",
              "50    514\n",
              "43    513\n",
              "32    510\n",
              "49    508\n",
              "28    503\n",
              "45    497\n",
              "27    493\n",
              "56    487\n",
              "52    484\n",
              "47    480\n",
              "54    479\n",
              "46    475\n",
              "58    461\n",
              "57    460\n",
              "53    459\n",
              "51    448\n",
              "59    444\n",
              "55    443\n",
              "26    408\n",
              "60    377\n",
              "25    357\n",
              "61    355\n",
              "62    352\n",
              "63    269\n",
              "64    265\n",
              "24    264\n",
              "23    254\n",
              "65    194\n",
              "66    183\n",
              "22    183\n",
              "67    167\n",
              "21    111\n",
              "0     101\n",
              "68     99\n",
              "69     85\n",
              "70     65\n",
              "71     58\n",
              "20     51\n",
              "72     33\n",
              "19     14\n",
              "73      8\n",
              "74      6\n",
              "75      1\n",
              "Name: dob_years, dtype: int64"
            ]
          },
          "metadata": {},
          "execution_count": 27
        }
      ]
    },
    {
      "cell_type": "markdown",
      "metadata": {
        "id": "kVTsiHBKzeVt"
      },
      "source": [
        "**Вывод**"
      ]
    },
    {
      "cell_type": "markdown",
      "metadata": {
        "id": "b-lblx4HzeVt"
      },
      "source": [
        "В таблице присутствовало множество дубликатов. Мы удалили дубликаты приведя все знаки в строках к нижнему регистру, в ручном режиме объеденили некоторые группы значений, заменили отсутствующие значения на средние по столбцу. Данные дубликаты возникали в связи с техническими ошибками."
      ]
    },
    {
      "cell_type": "markdown",
      "metadata": {
        "id": "VZTHvk11zeVu"
      },
      "source": [
        "### Лемматизация"
      ]
    },
    {
      "cell_type": "markdown",
      "metadata": {
        "id": "6Cp2VDINzeVu"
      },
      "source": [
        "Для лемматизацмм будем использовать бибилитеку pymystem3. Импортируем её"
      ]
    },
    {
      "cell_type": "code",
      "metadata": {
        "colab": {
          "base_uri": "https://localhost:8080/"
        },
        "id": "oLKZz3bXzeVv",
        "outputId": "64626bd4-927e-4d8c-b85f-a818bfe2e032"
      },
      "source": [
        "%pip install pymystem3 -U\n",
        "import pandas as pd\n",
        "from pymystem3 import Mystem\n",
        "m = Mystem()"
      ],
      "execution_count": 28,
      "outputs": [
        {
          "output_type": "stream",
          "name": "stdout",
          "text": [
            "Requirement already satisfied: pymystem3 in /usr/local/lib/python3.7/dist-packages (0.2.0)\n",
            "Requirement already satisfied: requests in /usr/local/lib/python3.7/dist-packages (from pymystem3) (2.23.0)\n",
            "Requirement already satisfied: chardet<4,>=3.0.2 in /usr/local/lib/python3.7/dist-packages (from requests->pymystem3) (3.0.4)\n",
            "Requirement already satisfied: certifi>=2017.4.17 in /usr/local/lib/python3.7/dist-packages (from requests->pymystem3) (2021.10.8)\n",
            "Requirement already satisfied: urllib3!=1.25.0,!=1.25.1,<1.26,>=1.21.1 in /usr/local/lib/python3.7/dist-packages (from requests->pymystem3) (1.24.3)\n",
            "Requirement already satisfied: idna<3,>=2.5 in /usr/local/lib/python3.7/dist-packages (from requests->pymystem3) (2.10)\n"
          ]
        },
        {
          "output_type": "stream",
          "name": "stderr",
          "text": [
            "Installing mystem to /root/.local/bin/mystem from http://download.cdn.yandex.net/mystem/mystem-3.1-linux-64bit.tar.gz\n"
          ]
        }
      ]
    },
    {
      "cell_type": "markdown",
      "metadata": {
        "id": "bVKTWz3rzeVv"
      },
      "source": [
        "<div class=\"alert alert-block alert-warning\">\n",
        "<b>Комментарий от ревьюера</b>\n",
        "\n",
        "Импорт всех библиотек лучше делать в начале работы в отдельной ячейке. Так будет понятно, что ты использовал :)\n",
        "</div>"
      ]
    },
    {
      "cell_type": "markdown",
      "metadata": {
        "id": "5r_hWT8rzeVv"
      },
      "source": [
        "Создадим функию для лемматизации и для подсчета значений"
      ]
    },
    {
      "cell_type": "code",
      "metadata": {
        "id": "l5DblGPuzeVv"
      },
      "source": [
        "def lemmatize(str):\n",
        "    return m.lemmatize(str)\n",
        " \n",
        "def counter(str):\n",
        "    from collections import Counter\n",
        "    return Counter(str)\n",
        " \n"
      ],
      "execution_count": 29,
      "outputs": []
    },
    {
      "cell_type": "markdown",
      "metadata": {
        "id": "fgmZAT-uzeVw"
      },
      "source": [
        "С помощью метода apply пременим фунцию для лемматизации слов в столбце purpose."
      ]
    },
    {
      "cell_type": "code",
      "metadata": {
        "id": "QmV4VM-YzeVw"
      },
      "source": [
        "data['lemm_purpose'] = data['purpose'].apply(lemmatize).apply(counter)\n",
        "data.head(3)"
      ],
      "execution_count": null,
      "outputs": []
    },
    {
      "cell_type": "markdown",
      "metadata": {
        "id": "Gepg6RZnzeVw"
      },
      "source": [
        "**Вывод**"
      ]
    },
    {
      "cell_type": "markdown",
      "metadata": {
        "id": "xmWz2_dHzeVw"
      },
      "source": [
        "Применив созданную нами фенкцию Lemmatize и counter для лемматизции и посчета значений в столбце purpose, можно выделить несколько целей кредита - Автомобиль, жилье, недвижимость, свадьба, образование. Разобьем целина эти категории."
      ]
    },
    {
      "cell_type": "markdown",
      "metadata": {
        "id": "FPwb4vXJzeVw"
      },
      "source": [
        "<div class=\"alert alert-block alert-success\">\n",
        "<b>Комментарий от ревьюера</b>\n",
        "\n",
        "Молодец! Ты разобрался с лемматизацией и даже подсчитал сколько раз встречается слово в строке. Поехали дальше!\n",
        "</div>"
      ]
    },
    {
      "cell_type": "markdown",
      "metadata": {
        "id": "podChsD1zeVx"
      },
      "source": [
        "### Категоризация данных"
      ]
    },
    {
      "cell_type": "markdown",
      "metadata": {
        "id": "qwYjLlTIzeVx"
      },
      "source": [
        "Для наглядности последующих расчетов, разобьем на категории столбцы lemm_purpose, dob_years, children, total_income, ."
      ]
    },
    {
      "cell_type": "code",
      "metadata": {
        "id": "AHs3dzLBzeVx"
      },
      "source": [
        "def lem_group(word):\n",
        "    if 'свадьба' in word:\n",
        "        return 'кредит на общие нужды'\n",
        "    elif 'образование' in word:\n",
        "        return 'кредит на образование'\n",
        "    elif 'жилье' in word or 'недвижимость' in word:\n",
        "        return 'кредит на недвижимость'\n",
        "    elif 'автомобиль' in word:\n",
        "        return 'автокредит'\n",
        "    else:\n",
        "        return 'нужно проверить лемму'"
      ],
      "execution_count": null,
      "outputs": []
    },
    {
      "cell_type": "markdown",
      "metadata": {
        "id": "IdlENY1QzeVx"
      },
      "source": [
        "<div class=\"alert alert-block alert-success\">\n",
        "<b>Комментарий от ревьюера</b>\n",
        "\n",
        "Классное решение, добавить вывод возможной ошибки! \n",
        "</div>"
      ]
    },
    {
      "cell_type": "code",
      "metadata": {
        "scrolled": true,
        "id": "kcddfdn5zeVy"
      },
      "source": [
        "data['lemm_purpose_group'] = data['lemm_purpose'].apply(lem_group)\n",
        "data['lemm_purpose_group'].value_counts()"
      ],
      "execution_count": null,
      "outputs": []
    },
    {
      "cell_type": "markdown",
      "metadata": {
        "id": "T5sBXP5gzeVy"
      },
      "source": [
        "Цели кредита разделили исходя из текущих видов кредитования в банках. Кредит на авто - Автокердит, кредит на приобретение жилья - кредит на недвижимость, кредит на разные цели -кредит на общие нужды."
      ]
    },
    {
      "cell_type": "markdown",
      "metadata": {
        "id": "VgEfgPSRzeVy"
      },
      "source": [
        "<div class=\"alert alert-block alert-danger\">\n",
        "<b>Комментарий от ревьюера</b>\n",
        "\n",
        "~Cвадьбу и образование сложно назвать одинаковыми общими целями. Всё таки к образованию люди подходят осознаннее. К тому же, родители могут брать кредиты на детей в случае учебы. На свадьбу тоже могут, кончено, но, всё-таки это разные цели.Лучше ничего не объединять здесь,пусть будут 4 кредита ~\n",
        "</div>"
      ]
    },
    {
      "cell_type": "markdown",
      "metadata": {
        "id": "QCzYkVdyzeVz"
      },
      "source": [
        "<div class=\"alert alert-block alert-info\">\n",
        "<b>Комментарий от студента</b> <a class=\"tocSkip\"></a>\n",
        "    \n",
        "Вснес изменения в код, добавил вид кредита - \"кредит на образование\"\n",
        "</div>\n"
      ]
    },
    {
      "cell_type": "markdown",
      "metadata": {
        "id": "OZzHo1pRzeVz"
      },
      "source": [
        "<div class=\"alert alert-block alert-success\">\n",
        "<b>Комментарий от ревьюера. V.2.</b>\n",
        "\n",
        "Вижу :)\n",
        "</div>"
      ]
    },
    {
      "cell_type": "markdown",
      "metadata": {
        "id": "z17qaF4qzeVz"
      },
      "source": [
        "Категоризируем возраст клиента на молодых, взрослых и старых. Эти значения пригодяться для оценки взаимосвязи между возрастом заемщиков и возвратом кдита в срок. Для этого создадим фнкцию age_group и применим к соответствующему столбцу."
      ]
    },
    {
      "cell_type": "code",
      "metadata": {
        "id": "OKPZnIl0zeVz"
      },
      "source": [
        "def age_group(age):\n",
        "    if age <= 17:\n",
        "        return 'молодой'\n",
        "    elif age <= 64:\n",
        "        return 'взрослый'\n",
        "    elif age >= 65:\n",
        "        return 'старый'\n",
        "    else:\n",
        "        return 'нужно проверить значение'\n",
        "    \n",
        "       "
      ],
      "execution_count": null,
      "outputs": []
    },
    {
      "cell_type": "code",
      "metadata": {
        "scrolled": true,
        "id": "oZBLMBXxzeV0"
      },
      "source": [
        "data['dob_age_group'] = data['dob_years'].apply(age_group)\n",
        "data['dob_age_group'].value_counts()\n"
      ],
      "execution_count": null,
      "outputs": []
    },
    {
      "cell_type": "markdown",
      "metadata": {
        "id": "QmSMikkYzeV0"
      },
      "source": [
        "<div class=\"alert alert-block alert-success\">\n",
        "<b>Комментарий от ревьюера</b>\n",
        "\n",
        "Всё верно, только немного грустно, что молодые до 17 :)\n",
        "</div>"
      ]
    },
    {
      "cell_type": "markdown",
      "metadata": {
        "id": "cDGCX4LtzeV0"
      },
      "source": [
        "Категоризируем количество детей клиента на бездетных и с детьми . Эти значения пригодяться для оценки взаимосвязи между количеством детей у заемщиков и возвратом кдита в срок. Для этого создадим фнкцию children_group и применим к соответствующему столбцу."
      ]
    },
    {
      "cell_type": "code",
      "metadata": {
        "id": "7LtZOBxBzeV0"
      },
      "source": [
        "def children_group(children):\n",
        "    try:\n",
        "        if children == 0:\n",
        "            return 'бездетные'\n",
        "        else:\n",
        "            return children\n",
        "               \n",
        "    except:\n",
        "        return 'нужно проверить'"
      ],
      "execution_count": null,
      "outputs": []
    },
    {
      "cell_type": "code",
      "metadata": {
        "scrolled": true,
        "id": "4MiK6LfFzeV0"
      },
      "source": [
        "data['dob_children_group'] = data['children'].apply(children_group)\n",
        "data['dob_children_group'].value_counts()"
      ],
      "execution_count": null,
      "outputs": []
    },
    {
      "cell_type": "markdown",
      "metadata": {
        "id": "mSefoOZ4zeV1"
      },
      "source": [
        "<div class=\"alert alert-block alert-success\">\n",
        "<b>Комментарий от ревьюера</b>\n",
        "\n",
        "Тут всё хорошо :)\n",
        "</div>"
      ]
    },
    {
      "cell_type": "markdown",
      "metadata": {
        "id": "lZiZq9-szeV1"
      },
      "source": [
        "Категоризируем доход клиента на без дохода, бехных, со средним доходом и с высоким доходом. Эти значения пригодяться для оценки взаимосвязи между доходом у заемщиков и возвратом кдита в срок. Для этого создадим фнкцию total_income_group и применим к соответствующему столбцу."
      ]
    },
    {
      "cell_type": "code",
      "metadata": {
        "id": "escrOFzRzeV1"
      },
      "source": [
        "def total_income_group(total_income):\n",
        "    if total_income == 0:\n",
        "        return 'без дохода'\n",
        "    elif total_income <= 50000:\n",
        "        return 'бедный'    \n",
        "    elif total_income < 100000:\n",
        "        return 'средний доход'\n",
        "    elif total_income >= 100000:\n",
        "         return 'высоких доход'\n",
        "    else:\n",
        "        return 'нужно проверить значение'"
      ],
      "execution_count": null,
      "outputs": []
    },
    {
      "cell_type": "code",
      "metadata": {
        "id": "DvW_uhQWzeV2"
      },
      "source": [
        "data['total_income_group'] = data['total_income'].apply(total_income_group)\n",
        "data['total_income_group'].value_counts()"
      ],
      "execution_count": null,
      "outputs": []
    },
    {
      "cell_type": "markdown",
      "metadata": {
        "id": "HYYHGVLyzeV2"
      },
      "source": [
        "**Вывод**"
      ]
    },
    {
      "cell_type": "markdown",
      "metadata": {
        "id": "pvagvDInzeV2"
      },
      "source": [
        "Для выполнения последующего задания мы категоризировали данные в необходимых нам столбца. Категоризация поможет нам выявить влияние данных нам параметров на возврат кредита в срок. Для этого мы создали ряд функций для каждого слобца сожержащих несколько условий."
      ]
    },
    {
      "cell_type": "markdown",
      "metadata": {
        "id": "3vSzRMyizeV2"
      },
      "source": [
        "<div class=\"alert alert-block alert-success\">\n",
        "<b>Комментарий от ревьюера</b>\n",
        "И тут всё верно :)\n",
        "</div>"
      ]
    },
    {
      "cell_type": "markdown",
      "metadata": {
        "id": "gLSow5NozeV3"
      },
      "source": [
        "## Шаг 3. Ответьте на вопросы"
      ]
    },
    {
      "cell_type": "markdown",
      "metadata": {
        "id": "r42feXE_zeV3"
      },
      "source": [
        "- Есть ли зависимость между наличием детей и возвратом кредита в срок?"
      ]
    },
    {
      "cell_type": "markdown",
      "metadata": {
        "id": "wmerKzddzeV3"
      },
      "source": [
        "Для выявления зависимости сгруппируем полученый нами столбец 'dob_children_group' и сделаем выводы по столбцу 'debt' с помощью вывода количества, суммы и среднего значения."
      ]
    },
    {
      "cell_type": "code",
      "metadata": {
        "id": "7j9K8RFtzeV3"
      },
      "source": [
        "data.groupby('dob_children_group').agg({'debt': ['count', 'sum', 'mean']})\n"
      ],
      "execution_count": null,
      "outputs": []
    },
    {
      "cell_type": "markdown",
      "metadata": {
        "id": "L0oF5i6kzeV3"
      },
      "source": [
        "Вывод. Проанализировав данные мы определили, что хуже всех платят заемщики с 20 детьми. Лучше всех платят бездетные (думаю учитывать заемщиков с 5 детьми не стоит, так как слишком маленькая выбока). Существет связь между кол-вом детей и возвратом кредита в срок. Более надежные заемщики - заемщики не имеюющие детей."
      ]
    },
    {
      "cell_type": "markdown",
      "metadata": {
        "id": "bH--pY4rzeV4"
      },
      "source": [
        "<div class=\"alert alert-block alert-danger\">\n",
        "<b>Комментарий от ревьюера</b>\n",
        "\n",
        "~Все-таки разница в возврате кредита у семей с одним ребенком или тремя детьми будет. Попробуй сделать таблицу, где будут бездетные и люди с 1,2,3... детьми. Здесь поможет pivot_table :)~\n",
        "    \n",
        "    \n",
        "~Также нам нужны доли должников в каждой группе, т.е. делить число должников в каждой группе надо на число людей в данной группе. Только так мы можем оценить влияние всех параметров на возврат кредита. Это можно вывести не в таблицу, а просто строками.~\n",
        "</div>"
      ]
    },
    {
      "cell_type": "markdown",
      "metadata": {
        "id": "jXb2XFj9zeV4"
      },
      "source": [
        "<div class=\"alert alert-block alert-info\">\n",
        "<b>Комментарий от студента</b> <a class=\"tocSkip\"></a>\n",
        "    \n",
        "Я изменил функцию группировки по количеству детей в соответствии с твоими замечаниями, так как значение фунции mean соответствует доле должников в каждой группе (так как в столбце debt есть только два значения 0 и 1), используем её для нахождения доли должников в каждой группе. Для проверки вывел столбцы со значениями count (это общее количество людей в группе) и sum (сумма единиц, т.е. должников), sum/count = mean. Данные вывода я обновил. Данные получены но не через метод pivot_table. \n",
        "Метод pivot_table применил для поиска более сложных взимосвязей.\n",
        "</div>\n",
        "\n"
      ]
    },
    {
      "cell_type": "markdown",
      "metadata": {
        "id": "DJUOHZU9zeV4"
      },
      "source": [
        "<div class=\"alert alert-block alert-danger\">\n",
        "<b>Комментарий от ревьюера. V.2.</b>\n",
        "\n",
        "Таблица получилась отличной, теперь мы видим информацию по детям.\n",
        "    \n",
        "Но, смотри. У нас есть заемщики и часть из них имеет долги, а часть нет. Стоит разделить их. Иначе ты просто считаешь здесь всех подряд, что не имеет никакого смысла :(\n",
        "    \n",
        "Лучше немного переделать pivot_table и разделить каждую категорию (бездетные, с 1 ребенком, с 2 детьми и т.п.) на 2: у кого есть просрочки и у кого нет. И добавить общий столбец. И отдельно уже посчитать долю должников. \n",
        "    \n",
        "Это стоит сделать и для всех вопросов в этом шаге.\n",
        "</div>"
      ]
    },
    {
      "cell_type": "markdown",
      "metadata": {
        "id": "-EJwR3YrzeV4"
      },
      "source": [
        "<div class=\"alert alert-block alert-info\">\n",
        "<b>Комментарий от студента V.2/</b> <a class=\"tocSkip\"></a>\n",
        "    \n",
        "Добавил сводную таблицу. Надеюсь я правильно понял вот это замечание\n",
        "    \n",
        "    Но, смотри. У нас есть заемщики и часть из них имеет долги, а часть нет. Стоит разделить их. Иначе ты просто считаешь здесь всех подряд, что не имеет никакого смысла :( Лучше немного переделать pivot_table и разделить каждую категорию (бездетные, с 1 ребенком, с 2 детьми и т.п.) на 2: у кого есть просрочки и у кого нет. И добавить общий столбец. И отдельно уже посчитать долю должников.\n",
        "    \n",
        "Сгруппировал данные по нужному параметру, тут это количество детей. Затем вывел информацию по задолженности в каждой группе. Вывел количество заемщиков в каждой группе. Определил долю должников по каждой группе. Не долю должников от общего количества заемщиков, а долю по каждой группе. Создана подобная таблица по каждому вопросу в этом шаге. Надеюсь правильно понял замечание.\n",
        "</div>"
      ]
    },
    {
      "cell_type": "markdown",
      "metadata": {
        "id": "M_ngPK8WzeV5"
      },
      "source": [
        "<div class=\"alert alert-block alert-success\">\n",
        "<b>Комментарий от ревьюера. V.3.</b>\n",
        "\n",
        "Да, всё верно! У нас есть люди с детьми/без и долгами и люди с детьми/без без долгов.\n",
        "    \n",
        "Теперь можно делать выводы.\n",
        "</div>"
      ]
    },
    {
      "cell_type": "code",
      "metadata": {
        "id": "vDyhH-FHzeV5"
      },
      "source": [
        "data_pivot = data.pivot_table(index=['dob_children_group'], columns = 'debt', values='days_employed', aggfunc='count')\n",
        "data_pivot.reset_index()\n",
        "data_pivot['Количество заемщиков в группе'] = data_pivot[0] + data_pivot[1]\n",
        "data_pivot['доля должников в %'] = data_pivot[1] / data_pivot['Количество заемщиков в группе'] * 100\n",
        "data_pivot.sort_values(by = 'доля должников в %', ascending = False)"
      ],
      "execution_count": null,
      "outputs": []
    },
    {
      "cell_type": "markdown",
      "metadata": {
        "id": "sltjR97BzeV5"
      },
      "source": [
        "<div class=\"alert alert-block alert-info\">\n",
        "<b>Комментарий от студента</b> <a class=\"tocSkip\"></a>\n",
        "    \n",
        "~Мы определили взаимосвязь между возрастом заемщика, количеством детей и возвратом кредита в срок.\n",
        "Из таблицы видно, что 18 % молодых заемщиков имеющих одного ребенка имеют еще и просроченную задолженность. Самые добропорядочные заемщики - старые заемщики без детей, всего 5 %.~\n",
        "</div>\n"
      ]
    },
    {
      "cell_type": "markdown",
      "metadata": {
        "id": "Hs4wKZC0zeV5"
      },
      "source": [
        "<div class=\"alert alert-block alert-info\">\n",
        "<b>Комментарий от студента V.2.</b> <a class=\"tocSkip\"></a>\n",
        "    \n",
        "Мы определили взаимосвязь между возрастом заемщика, количеством детей и возвратом кредита в срок.\n",
        "Из таблицы видно, 10.5 % заемщиков имеющих 20 детей плохо возвращают кредиты. Бездетные заемщики платят лучше чем заемщики с детьми.\n",
        "</div>"
      ]
    },
    {
      "cell_type": "markdown",
      "metadata": {
        "id": "tVMMQBnizeV6"
      },
      "source": [
        "<div class=\"alert alert-block alert-success\">\n",
        "<b>Комментарий от ревьюера. V.3.</b>\n",
        "\n",
        "Да, много детей это тяжело. Скорее всего 20 это ошибочное значение, но тут вопрос к составителю даных. Так у нас видно, что 4 ребенка тоже не способствуют лидерству :)\n",
        "    \n",
        "</div>"
      ]
    },
    {
      "cell_type": "code",
      "metadata": {
        "id": "Birv_op6zeV6"
      },
      "source": [
        "data_pivot_1 = data.pivot_table(index=['dob_children_group'], columns= 'lemm_purpose_group', values='debt', aggfunc='mean')\n",
        "data_pivot_1.head(15)"
      ],
      "execution_count": null,
      "outputs": []
    },
    {
      "cell_type": "markdown",
      "metadata": {
        "id": "EbrxxH5VzeV6"
      },
      "source": [
        "<div class=\"alert alert-block alert-info\">\n",
        "<b>Комментарий от студента</b> <a class=\"tocSkip\"></a>\n",
        "    \n",
        "\n",
        "Проверили взаимосвязь между количеством детей, целью кредита и возникновением задолжности. Вывод почти 15% заемщиков имеющих 3 детей и берущих кредит на общие нужды плохо платят. Лучше всего платят заемщики имеющие 2 детей и берущие кредит на  общие нужды.\n",
        "</div>\n"
      ]
    },
    {
      "cell_type": "code",
      "metadata": {
        "id": "_GupEh80zeV6"
      },
      "source": [
        "data_pivot_2 = data.pivot_table(index=['dob_children_group'], columns= 'total_income_group', values='debt', aggfunc='mean')\n",
        "data_pivot_2.head(15)"
      ],
      "execution_count": null,
      "outputs": []
    },
    {
      "cell_type": "markdown",
      "metadata": {
        "id": "Fad-W71-zeV7"
      },
      "source": [
        "<div class=\"alert alert-block alert-info\">\n",
        "<b>Комментарий от студента</b> <a class=\"tocSkip\"></a>\n",
        "    \n",
        "Посмтрим свзяь между количеством детей, доходом и возвратом кредита в срок. Хуже всех платят бедные с 3 детьми - 20%.\n",
        "Лучше всех - бедные бездетные 5%.\n",
        "</div>\n"
      ]
    },
    {
      "cell_type": "markdown",
      "metadata": {
        "id": "JHQXJo7TzeV7"
      },
      "source": [
        "- Есть ли зависимость между семейным положением и возвратом кредита в срок?"
      ]
    },
    {
      "cell_type": "markdown",
      "metadata": {
        "id": "rNdCdD4ezeV7"
      },
      "source": [
        "Для выявления зависимости сгруппируем полученый нами столбец 'family_status_id' и сделаем выводы по столбцу 'debt' с помощью вывода количества, суммы и среднего значения."
      ]
    },
    {
      "cell_type": "code",
      "metadata": {
        "id": "T8vMk75AzeV7"
      },
      "source": [
        "data.groupby('family_status').agg({'debt': ['count', 'sum', 'mean']})"
      ],
      "execution_count": null,
      "outputs": []
    },
    {
      "cell_type": "code",
      "metadata": {
        "id": "ei-8V0XozeV7"
      },
      "source": [
        "data_pivot_f = data.pivot_table(index=['family_status'], columns = 'debt', values='days_employed', aggfunc='count')\n",
        "data_pivot_f.reset_index()\n",
        "data_pivot_f['Количество заемщиков в группе'] = data_pivot_f[0] + data_pivot_f[1]\n",
        "data_pivot_f['доля должников в %'] = data_pivot_f[1] / data_pivot_f['Количество заемщиков в группе'] * 100\n",
        "data_pivot_f.sort_values(by = 'доля должников в %', ascending = False)"
      ],
      "execution_count": null,
      "outputs": []
    },
    {
      "cell_type": "markdown",
      "metadata": {
        "id": "1Ri_KVKVzeV8"
      },
      "source": [
        "Вывод, связи нет. Все группы почти одинаково допускают просрочки по кредиту."
      ]
    },
    {
      "cell_type": "markdown",
      "metadata": {
        "id": "3V02qoAVzeV8"
      },
      "source": [
        "<div class=\"alert alert-block alert-danger\">\n",
        "<b>Комментарий от ревьюера</b>\n",
        "\n",
        "~Здеcь хотелось бы увидеть не безликие 0,1 и т.д., а именно семейное положение. Постарайся вывести его в таблице.~\n",
        "</div>"
      ]
    },
    {
      "cell_type": "markdown",
      "metadata": {
        "id": "vOmde3xTzeV8"
      },
      "source": [
        "<div class=\"alert alert-block alert-info\">\n",
        "<b>Комментарий от студента</b> <a class=\"tocSkip\"></a>\n",
        "    \n",
        "Заменил id  на название семейного положения.\n",
        "</div>\n",
        "\n"
      ]
    },
    {
      "cell_type": "markdown",
      "metadata": {
        "id": "e_GmEziEzeV8"
      },
      "source": [
        "<div class=\"alert alert-block alert-success\">\n",
        "<b>Комментарий от ревьюера. V.2.</b>\n",
        "\n",
        "Есть контакт! :)\n",
        "</div>"
      ]
    },
    {
      "cell_type": "markdown",
      "metadata": {
        "id": "PnUdUcpAzeV9"
      },
      "source": [
        "- Есть ли зависимость между уровнем дохода и возвратом кредита в срок?"
      ]
    },
    {
      "cell_type": "code",
      "metadata": {
        "id": "JaWZveLQzeV9"
      },
      "source": [
        "data.groupby('total_income_group').agg({'debt': ['count', 'mean'],})"
      ],
      "execution_count": null,
      "outputs": []
    },
    {
      "cell_type": "code",
      "metadata": {
        "id": "2HEKvGkyzeV9"
      },
      "source": [
        "data_pivot_t = data.pivot_table(index=['total_income_group'], columns = 'debt', values='days_employed', aggfunc='count')\n",
        "data_pivot_t.reset_index()\n",
        "data_pivot_t['Количество заемщиков в группе'] = data_pivot_t[0] + data_pivot_t[1]\n",
        "data_pivot_t['доля должников в %'] = data_pivot_t[1] / data_pivot_t['Количество заемщиков в группе'] * 100\n",
        "data_pivot_t.sort_values(by = 'доля должников в %', ascending = False)"
      ],
      "execution_count": null,
      "outputs": []
    },
    {
      "cell_type": "markdown",
      "metadata": {
        "id": "SPhhUJoVzeV9"
      },
      "source": [
        "Вывод, связи нет. Все группы почти одинаково допускают просрочки по кредиту."
      ]
    },
    {
      "cell_type": "markdown",
      "metadata": {
        "id": "xF_g1J_TzeV-"
      },
      "source": [
        "- Как разные цели кредита влияют на его возврат в срок?"
      ]
    },
    {
      "cell_type": "code",
      "metadata": {
        "id": "nNkc7PEszeV-"
      },
      "source": [
        "data.groupby('lemm_purpose_group').agg({'debt': ['count', 'mean'],})"
      ],
      "execution_count": null,
      "outputs": []
    },
    {
      "cell_type": "code",
      "metadata": {
        "id": "QNB7W5rIzeV-"
      },
      "source": [
        "data_pivot_p = data.pivot_table(index=['lemm_purpose_group'], columns = 'debt', values='days_employed', aggfunc='count')\n",
        "data_pivot_p.reset_index()\n",
        "data_pivot_p['Количество заемщиков в группе'] = data_pivot_p[0] + data_pivot_p[1]\n",
        "data_pivot_p['доля должников в %'] = data_pivot_p[1] / data_pivot_p['Количество заемщиков в группе'] * 100\n",
        "data_pivot_p.sort_values(by = 'доля должников в %', ascending = False)"
      ],
      "execution_count": null,
      "outputs": []
    },
    {
      "cell_type": "markdown",
      "metadata": {
        "id": "bBTPjlmgzeV-"
      },
      "source": [
        "**Вывод**"
      ]
    },
    {
      "cell_type": "markdown",
      "metadata": {
        "id": "NiOAT4PvzeV_"
      },
      "source": [
        "Вывод, связи нет. Все группы почти одинаково допускают просрочки по кредиту."
      ]
    },
    {
      "cell_type": "markdown",
      "metadata": {
        "id": "IQ1-43hHzeV_"
      },
      "source": [
        "<div class=\"alert alert-block alert-danger\">\n",
        "<b>Комментарий от ревьюера</b>\n",
        "\n",
        "~Этому разделу стоит немного добавить информации :)~\n",
        "    \n",
        "    \n",
        "~Нам нужны доли должников в каждой группе, т.е. делить число должников в каждой группе надо на число людей в данной группе. Только так мы можем оценить влияние всех параметров на возврат кредита. Это можно вывести не в таблицу, а просто строками.~\n",
        "</div>"
      ]
    },
    {
      "cell_type": "markdown",
      "metadata": {
        "id": "WiDZNsYczeV_"
      },
      "source": [
        "<div class=\"alert alert-block alert-info\">\n",
        "<b>Комментарий от студента</b> <a class=\"tocSkip\"></a>\n",
        "    \n",
        "~Доли должников определи с помощью функции mean.~\n",
        "</div>\n",
        "\n"
      ]
    },
    {
      "cell_type": "markdown",
      "metadata": {
        "id": "mG76qElpzeV_"
      },
      "source": [
        "<div class=\"alert alert-block alert-danger\">\n",
        "<b>Комментарий от ревьюера. V.2.</b>\n",
        "\n",
        "К сожалению, mean() нас тут не спасет. Жду немного других выводов про просрочки :)\n",
        "</div>"
      ]
    },
    {
      "cell_type": "markdown",
      "metadata": {
        "id": "VGwlsFQHzeV_"
      },
      "source": [
        "<div class=\"alert alert-block alert-info\">\n",
        "<b>Комментарий от студента V.2.</b> <a class=\"tocSkip\"></a>\n",
        "    \n",
        "С помощью сводной таблицы определили доли должников в каждой группе. Сровнив полученные доли видим что максимальное и минимальное значение отличаеться на 2%. По автокредитам просрочки возникают у 9,3% заемщиков, по кредитам на недвижимость у 7,2 % заемщиков. Думаю взаимосвязь незначительная. \n",
        "</div>"
      ]
    },
    {
      "cell_type": "markdown",
      "metadata": {
        "id": "zSCMJ_7BzeWA"
      },
      "source": [
        "<div class=\"alert alert-block alert-success\">\n",
        "<b>Комментарий от ревьюера. V.3.</b>\n",
        "\n",
        "Отлично!\n",
        "</div>"
      ]
    },
    {
      "cell_type": "markdown",
      "metadata": {
        "id": "Dovb4JN4zeWA"
      },
      "source": [
        "## Шаг 4. Общий вывод"
      ]
    },
    {
      "cell_type": "markdown",
      "metadata": {
        "id": "p4hN3yGIzeWA"
      },
      "source": [
        "\n",
        "<div class=\"alert alert-block alert-info\">\n",
        "<b>Комментарий от студента</b> <a class=\"tocSkip\"></a>\n",
        "    \n",
        "    \n",
        "Нам была дана таблица с информацией о заемщика имющих разные параметры. Нам было необходимо определить как влияет семейное положение, количество детей, уровень доходаи, цель кредина на возврат кредита в срок. Для этого мы проанализировали таблицу, выявили пропуски и земенили на среднее значение по соответствующей группе, визуально определили дубликаты, часть дубликатов удалили, часть из них исчезла после приведения стороки к нижнему регистру, заменили неправдоподобные значения. Используя инструмены pandas мы убрали весь мусор и привели данные к необходимому типу. Затем катологизировали данные для более наглядного расчета необходимых параметров. Используя группировку данных по заданным столбцам мы вывели выводы по столбу 'dept' через количество, сумму и среднее значение, что позволило нам заявить об присутствии связи между количеством детей и возвратом кредита в срок. К примеру 10 % заёмщиков имеющх 20 детей имеют просрочку по кредиту. С помощью сводных таблиц определи взамосвять не только между количеством детей и просрочкой, но и добавили взаимосвязь от возраста, дохода и цели кредита. \n",
        "    \n",
        "    \n",
        "   К примеру:\n",
        "    - 18 % молодых заемщиков имеющих одного ребенка имеют еще и просроченную задолженность. Самые добропорядочные заемщики - старые заемщики без детей, всего 5 %.\n",
        "    - почти 15% заемщиков имеющих 3 детей и берущих кредит на общие нужды плохо платят. Лучше всего платят заемщики имеющие 2 детей и берущие кредит на общие нужды - 5%.\n",
        "    - Хуже всех платят бедные с 3 детьми - 20%. Лучше всех - бедные бездетные 5%.\n",
        "   \n",
        "</div>\n"
      ]
    },
    {
      "cell_type": "markdown",
      "metadata": {
        "id": "QNA_rNqLzeWA"
      },
      "source": [
        "## Чек-лист готовности проекта\n",
        "\n",
        "Поставьте 'x' в выполненных пунктах. Далее нажмите Shift+Enter."
      ]
    },
    {
      "cell_type": "markdown",
      "metadata": {
        "id": "ei04a-ZHzeWB"
      },
      "source": [
        "- [x]  открыт файл;\n",
        "- [x]  файл изучен;\n",
        "- [x]  определены пропущенные значения;\n",
        "- [x]  заполнены пропущенные значения;\n",
        "- [x]  есть пояснение, какие пропущенные значения обнаружены;\n",
        "- [x]  описаны возможные причины появления пропусков в данных;\n",
        "- [x]  объяснено, по какому принципу заполнены пропуски;\n",
        "- [x]  заменен вещественный тип данных на целочисленный;\n",
        "- [x]  есть пояснение, какой метод используется для изменения типа данных и почему;\n",
        "- [x]  удалены дубликаты;\n",
        "- [x]  есть пояснение, какой метод используется для поиска и удаления дубликатов;\n",
        "- [x]  описаны возможные причины появления дубликатов в данных;\n",
        "- [x]  выделены леммы в значениях столбца с целями получения кредита;\n",
        "- [x]  описан процесс лемматизации;\n",
        "- [x]  данные категоризированы;\n",
        "- [x]  есть объяснение принципа категоризации данных;\n",
        "- [x]  есть ответ на вопрос: \"Есть ли зависимость между наличием детей и возвратом кредита в срок?\";\n",
        "- [x]  есть ответ на вопрос: \"Есть ли зависимость между семейным положением и возвратом кредита в срок?\";\n",
        "- [x]  есть ответ на вопрос: \"Есть ли зависимость между уровнем дохода и возвратом кредита в срок?\";\n",
        "- [x]  есть ответ на вопрос: \"Как разные цели кредита влияют на его возврат в срок?\";\n",
        "- [x]  в каждом этапе есть выводы;\n",
        "- [x]  есть общий вывод."
      ]
    },
    {
      "cell_type": "markdown",
      "metadata": {
        "id": "5TTSYoG-zeWB"
      },
      "source": [
        "<div class=\"alert alert-block alert-warning\">\n",
        "<b>Комментарий от ревьюера</b>\n",
        "\n",
        "Отлично, есть вывод по проделанной работе. Когда ты проверишь данные на дубликаты и сделаешь с ними что-то и разобьешь в таблицах информацию, твои выводы немного поменяются, не забудь их переписать :)\n",
        "    \n",
        "Галочки тоже стоит поставить, так ты точно ничего не пропустишь в работе :)\n",
        "</div>"
      ]
    },
    {
      "cell_type": "markdown",
      "metadata": {
        "id": "Hmcmuk46zeWB"
      },
      "source": [
        "<div class=\"alert alert-block alert-info\">\n",
        "<b>Комментарий от студента</b> <a class=\"tocSkip\"></a>\n",
        "    \n",
        "Вывод переписал, дубликаты проверял визуально с помощью value_counts. Информацию разбил по таблицам. Спасибо за замечания.\n",
        "</div>"
      ]
    },
    {
      "cell_type": "markdown",
      "metadata": {
        "id": "rayi5Tc3zeWC"
      },
      "source": [
        "<div class=\"alert alert-block alert-success\">\n",
        "<b>Комментарий от ревьюера. V.2.</b>\n",
        "\n",
        "Отлично, у нас есть вывод и доплнительные пояснения по шагам исследования. Хорошо, что тывсё добавил!\n",
        "    \n",
        "Еще немного правок и проект выйдет законченным :)\n",
        "</div>"
      ]
    }
  ]
}